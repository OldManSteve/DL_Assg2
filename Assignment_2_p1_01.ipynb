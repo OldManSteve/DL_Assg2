{
  "nbformat": 4,
  "nbformat_minor": 0,
  "metadata": {
    "kernelspec": {
      "display_name": "Python 3",
      "language": "python",
      "name": "python3"
    },
    "language_info": {
      "codemirror_mode": {
        "name": "ipython",
        "version": 3
      },
      "file_extension": ".py",
      "mimetype": "text/x-python",
      "name": "python",
      "nbconvert_exporter": "python",
      "pygments_lexer": "ipython3",
      "version": "3.7.4"
    },
    "colab": {
      "name": "Assignment_2_p1.ipynb",
      "provenance": []
    },
    "accelerator": "GPU"
  },
  "cells": [
    {
      "cell_type": "markdown",
      "metadata": {
        "id": "eMZtRFMjs4vn",
        "colab_type": "text"
      },
      "source": [
        "<table class=\"table table-bordered\">\n",
        "    <tr>\n",
        "        <th style=\"text-align:center; width:25%\"><img src='https://www.np.edu.sg/PublishingImages/Pages/default/odp/ICT.jpg' style=\"width: 250px; height: 125px; \"></th>\n",
        "        <th style=\"text-align:center;\"><h1>Deep Learning</h1><h2>Assignment 2 - Sentiment Analysis Model (Problem 1)</h2><h3>AY2020/21 Semester</h3></th>\n",
        "    </tr>\n",
        "</table>"
      ]
    },
    {
      "cell_type": "code",
      "metadata": {
        "id": "kVXPe4Xes4vo",
        "colab_type": "code",
        "colab": {
          "base_uri": "https://localhost:8080/",
          "height": 34
        },
        "outputId": "725170dd-463a-4978-b122-3be17302e515"
      },
      "source": [
        "# Import the Required Packages\n",
        "from tensorflow import keras\n",
        "print('keras: ', keras.__version__)\n",
        "from IPython.core.display import display, HTML\n",
        "display(HTML(\"<style>.container { width:95% !important; }</style>\"))"
      ],
      "execution_count": 20,
      "outputs": [
        {
          "output_type": "stream",
          "text": [
            "keras:  2.3.0-tf\n"
          ],
          "name": "stdout"
        },
        {
          "output_type": "display_data",
          "data": {
            "text/html": [
              "<style>.container { width:95% !important; }</style>"
            ],
            "text/plain": [
              "<IPython.core.display.HTML object>"
            ]
          },
          "metadata": {
            "tags": []
          }
        }
      ]
    },
    {
      "cell_type": "markdown",
      "metadata": {
        "id": "m4oJIdijtkeY",
        "colab_type": "text"
      },
      "source": [
        "### GitHub + Colab"
      ]
    },
    {
      "cell_type": "code",
      "metadata": {
        "id": "qz90Yb82trAa",
        "colab_type": "code",
        "colab": {
          "base_uri": "https://localhost:8080/",
          "height": 119
        },
        "outputId": "b60c5493-7ab1-4c4b-8206-342f32c7b599"
      },
      "source": [
        "#run for GitHub Colab\n",
        "!git clone \"https://github.com/OldManSteve/DL_Assg2.git\"\n"
      ],
      "execution_count": 1,
      "outputs": [
        {
          "output_type": "stream",
          "text": [
            "Cloning into 'DL_Assg2'...\n",
            "remote: Enumerating objects: 31, done.\u001b[K\n",
            "remote: Counting objects: 100% (31/31), done.\u001b[K\n",
            "remote: Compressing objects: 100% (26/26), done.\u001b[K\n",
            "remote: Total 31 (delta 5), reused 30 (delta 4), pack-reused 0\u001b[K\n",
            "Unpacking objects: 100% (31/31), done.\n"
          ],
          "name": "stdout"
        }
      ]
    },
    {
      "cell_type": "code",
      "metadata": {
        "id": "jxwhU0xHtsdK",
        "colab_type": "code",
        "colab": {}
      },
      "source": [
        "#GitHub Colab directory\n",
        "# Directories for files\n",
        "map_file = '/content/DL_Assg2/mapping.csv'\n",
        "dataset_file = '/content/DL_Assg2/dataset.csv'"
      ],
      "execution_count": 2,
      "outputs": []
    },
    {
      "cell_type": "code",
      "metadata": {
        "id": "DUg9FIRJ2vOm",
        "colab_type": "code",
        "colab": {
          "base_uri": "https://localhost:8080/",
          "height": 122
        },
        "outputId": "441f3a8e-8afa-4c9f-a874-4ac8fbd82285"
      },
      "source": [
        "#Google drive model upload/save storage\n",
        "from google.colab import drive\n",
        "drive.mount('/content/drive')\n",
        "\n",
        "model_path='/content/drive/My Drive/Colab Notebooks/DL_Assg2_Models/'"
      ],
      "execution_count": 6,
      "outputs": [
        {
          "output_type": "stream",
          "text": [
            "Go to this URL in a browser: https://accounts.google.com/o/oauth2/auth?client_id=947318989803-6bn6qk8qdgf4n4g3pfee6491hc0brc4i.apps.googleusercontent.com&redirect_uri=urn%3aietf%3awg%3aoauth%3a2.0%3aoob&response_type=code&scope=email%20https%3a%2f%2fwww.googleapis.com%2fauth%2fdocs.test%20https%3a%2f%2fwww.googleapis.com%2fauth%2fdrive%20https%3a%2f%2fwww.googleapis.com%2fauth%2fdrive.photos.readonly%20https%3a%2f%2fwww.googleapis.com%2fauth%2fpeopleapi.readonly\n",
            "\n",
            "Enter your authorization code:\n",
            "··········\n",
            "Mounted at /content/drive\n"
          ],
          "name": "stdout"
        }
      ]
    },
    {
      "cell_type": "markdown",
      "metadata": {
        "id": "O-p9KGOCs4vq",
        "colab_type": "text"
      },
      "source": [
        "## Step 1 – Data Loading and Processing"
      ]
    },
    {
      "cell_type": "markdown",
      "metadata": {
        "id": "gJHdIaeas4vr",
        "colab_type": "text"
      },
      "source": [
        "### 1.1 Data Loading"
      ]
    },
    {
      "cell_type": "code",
      "metadata": {
        "id": "tufpml9ss4vr",
        "colab_type": "code",
        "colab": {
          "base_uri": "https://localhost:8080/",
          "height": 51
        },
        "outputId": "a7f6f782-fdca-42ed-9e5b-8ebaed62a01a"
      },
      "source": [
        "# Load the emoji_dictionary\n",
        "import pandas as pd\n",
        "df = pd.read_csv(map_file, delimiter=',')\n",
        "emoji_dictionary = df.loc[:,'emoticons'].to_dict()\n",
        "print(emoji_dictionary)\n",
        "print('A total of: ', len(emoji_dictionary), 'Emoji Icons')"
      ],
      "execution_count": 41,
      "outputs": [
        {
          "output_type": "stream",
          "text": [
            "{0: '😍', 1: '😂', 2: '📷', 3: '🔥', 4: '❤'}\n",
            "A total of:  5 Emoji Icons\n"
          ],
          "name": "stdout"
        }
      ]
    },
    {
      "cell_type": "code",
      "metadata": {
        "id": "FYlJhoVIs4vt",
        "colab_type": "code",
        "colab": {
          "base_uri": "https://localhost:8080/",
          "height": 204
        },
        "outputId": "7b5941e8-a762-43fd-f21d-be8f177829eb"
      },
      "source": [
        "# load the dataset\n",
        "dat = pd.read_csv(dataset_file, delimiter=',')\n",
        "texts = dat.loc[:,'TEXT'].values \n",
        "labels = dat.loc[:,'Label'].values\n",
        "\n",
        "dat.head()"
      ],
      "execution_count": 56,
      "outputs": [
        {
          "output_type": "execute_result",
          "data": {
            "text/html": [
              "<div>\n",
              "<style scoped>\n",
              "    .dataframe tbody tr th:only-of-type {\n",
              "        vertical-align: middle;\n",
              "    }\n",
              "\n",
              "    .dataframe tbody tr th {\n",
              "        vertical-align: top;\n",
              "    }\n",
              "\n",
              "    .dataframe thead th {\n",
              "        text-align: right;\n",
              "    }\n",
              "</style>\n",
              "<table border=\"1\" class=\"dataframe\">\n",
              "  <thead>\n",
              "    <tr style=\"text-align: right;\">\n",
              "      <th></th>\n",
              "      <th>TEXT</th>\n",
              "      <th>Label</th>\n",
              "    </tr>\n",
              "  </thead>\n",
              "  <tbody>\n",
              "    <tr>\n",
              "      <th>0</th>\n",
              "      <td>Been friends since 7th grade. Look at us now w...</td>\n",
              "      <td>0</td>\n",
              "    </tr>\n",
              "    <tr>\n",
              "      <th>1</th>\n",
              "      <td>This is what it looks like when someone loves ...</td>\n",
              "      <td>1</td>\n",
              "    </tr>\n",
              "    <tr>\n",
              "      <th>2</th>\n",
              "      <td>RT @user this white family was invited to a Bl...</td>\n",
              "      <td>1</td>\n",
              "    </tr>\n",
              "    <tr>\n",
              "      <th>3</th>\n",
              "      <td>Westenders @user #LAZzNation @ Weston, Toronto\\n</td>\n",
              "      <td>2</td>\n",
              "    </tr>\n",
              "    <tr>\n",
              "      <th>4</th>\n",
              "      <td>Maxwell heads home @ Summa Akron City Hospital\\n</td>\n",
              "      <td>0</td>\n",
              "    </tr>\n",
              "  </tbody>\n",
              "</table>\n",
              "</div>"
            ],
            "text/plain": [
              "                                                TEXT  Label\n",
              "0  Been friends since 7th grade. Look at us now w...      0\n",
              "1  This is what it looks like when someone loves ...      1\n",
              "2  RT @user this white family was invited to a Bl...      1\n",
              "3   Westenders @user #LAZzNation @ Weston, Toronto\\n      2\n",
              "4   Maxwell heads home @ Summa Akron City Hospital\\n      0"
            ]
          },
          "metadata": {
            "tags": []
          },
          "execution_count": 56
        }
      ]
    },
    {
      "cell_type": "code",
      "metadata": {
        "id": "goRqSfs_s4vv",
        "colab_type": "code",
        "colab": {
          "base_uri": "https://localhost:8080/",
          "height": 34
        },
        "outputId": "db6e5040-eb0f-4a23-9245-32b2362aae36"
      },
      "source": [
        "# Check the maximum length of texts\n",
        "max_len = -1\n",
        "for example in texts:\n",
        "    if len(example.split()) > max_len:\n",
        "        max_len = len(example.split())\n",
        "        \n",
        "print('the maximum length of the text inputs is ', max_len)"
      ],
      "execution_count": 57,
      "outputs": [
        {
          "output_type": "stream",
          "text": [
            "the maximum length of the text inputs is  34\n"
          ],
          "name": "stdout"
        }
      ]
    },
    {
      "cell_type": "markdown",
      "metadata": {
        "id": "X7ozu82Ps4vw",
        "colab_type": "text"
      },
      "source": [
        "### 1.2 Data Processing\n"
      ]
    },
    {
      "cell_type": "code",
      "metadata": {
        "id": "WoK8gCOts4vx",
        "colab_type": "code",
        "colab": {
          "base_uri": "https://localhost:8080/",
          "height": 68
        },
        "outputId": "fc905e30-2826-44df-c074-2676df268794"
      },
      "source": [
        "# Convert the texts and labels into numeric tensors\n",
        "from tensorflow.keras.preprocessing.text import Tokenizer\n",
        "from tensorflow.keras.preprocessing.sequence import pad_sequences\n",
        "import numpy as np\n",
        "\n",
        "max_words = 10000  \n",
        "\n",
        "tokenizer = Tokenizer(num_words=max_words)\n",
        "tokenizer.fit_on_texts(texts)\n",
        "sequences = tokenizer.texts_to_sequences(texts)\n",
        "\n",
        "word_index = tokenizer.word_index\n",
        "print('Found %s unique tokens.' % len(word_index))\n",
        "\n",
        "X = pad_sequences(sequences, maxlen=maxlen)\n",
        "\n",
        "y = np.asarray(labels)\n",
        "print('Shape of data tensor:', X.shape)\n",
        "print('Shape of label tensor:', y.shape)\n",
        "\n",
        "#Shuffle\n",
        "indices = np.arange(data.shape[0])\n",
        "np.random.shuffle(indices)\n",
        "X = X[indices]\n",
        "y = y[indices]"
      ],
      "execution_count": 58,
      "outputs": [
        {
          "output_type": "stream",
          "text": [
            "Found 54076 unique tokens.\n",
            "Shape of data tensor: (42546, 20)\n",
            "Shape of label tensor: (42546,)\n"
          ],
          "name": "stdout"
        }
      ]
    },
    {
      "cell_type": "markdown",
      "metadata": {
        "id": "8MxxTqiXs4vz",
        "colab_type": "text"
      },
      "source": [
        "### 1.3 Data Sampling"
      ]
    },
    {
      "cell_type": "code",
      "metadata": {
        "id": "t70dpAt6s4vz",
        "colab_type": "code",
        "colab": {}
      },
      "source": [
        "# Split the X & y into train and test sets\n",
        "from sklearn.model_selection import train_test_split\n",
        "x_train, X_test, y_train, y_test = train_test_split(X, y, test_size=0.2, random_state = 13)\n",
        "# Refer the report Appendix\n",
        "# Please enter the random_state assigned to your group"
      ],
      "execution_count": 72,
      "outputs": []
    },
    {
      "cell_type": "markdown",
      "metadata": {
        "id": "PIF8Pojas4v1",
        "colab_type": "text"
      },
      "source": [
        "## Step 2 – Develop a Sentiment Analysis Model"
      ]
    },
    {
      "cell_type": "code",
      "metadata": {
        "id": "pTLfqmWiGXqB",
        "colab_type": "code",
        "colab": {}
      },
      "source": [
        "import tensorflow as tf\n",
        "tf.keras.backend.clear_session()"
      ],
      "execution_count": 71,
      "outputs": []
    },
    {
      "cell_type": "markdown",
      "metadata": {
        "id": "2_4dPW7Ps4v1",
        "colab_type": "text"
      },
      "source": [
        "### Model #1 (Replicate as necessary for other models)"
      ]
    },
    {
      "cell_type": "code",
      "metadata": {
        "id": "b3NuUXQws4v2",
        "colab_type": "code",
        "colab": {
          "base_uri": "https://localhost:8080/",
          "height": 357
        },
        "outputId": "5d6ce5a3-9758-4d63-8fc8-0fe28d8d8dbf"
      },
      "source": [
        "# Build the Model\n",
        "from tensorflow.keras.models import Sequential\n",
        "from tensorflow.keras import layers\n",
        "from tensorflow.keras.optimizers import RMSprop\n",
        "\n",
        "model = Sequential()\n",
        "model.add(layers.Embedding(max_words, 8, input_length=maxlen))\n",
        "model.add(LSTM(64, return_sequences=True))\n",
        "model.add(LSTM(64))\n",
        "model.add(layers.Flatten())\n",
        "model.add(layers.Dense(32, activation='relu'))\n",
        "model.add(layers.Dense(5, activation='softmax'))\n",
        "model.summary()"
      ],
      "execution_count": 73,
      "outputs": [
        {
          "output_type": "stream",
          "text": [
            "Model: \"sequential\"\n",
            "_________________________________________________________________\n",
            "Layer (type)                 Output Shape              Param #   \n",
            "=================================================================\n",
            "embedding (Embedding)        (None, 20, 8)             80000     \n",
            "_________________________________________________________________\n",
            "lstm (LSTM)                  (None, 20, 64)            18688     \n",
            "_________________________________________________________________\n",
            "lstm_1 (LSTM)                (None, 64)                33024     \n",
            "_________________________________________________________________\n",
            "flatten (Flatten)            (None, 64)                0         \n",
            "_________________________________________________________________\n",
            "dense (Dense)                (None, 32)                2080      \n",
            "_________________________________________________________________\n",
            "dense_1 (Dense)              (None, 5)                 165       \n",
            "=================================================================\n",
            "Total params: 133,957\n",
            "Trainable params: 133,957\n",
            "Non-trainable params: 0\n",
            "_________________________________________________________________\n"
          ],
          "name": "stdout"
        }
      ]
    },
    {
      "cell_type": "code",
      "metadata": {
        "id": "86Liq1nqs4v4",
        "colab_type": "code",
        "colab": {
          "base_uri": "https://localhost:8080/",
          "height": 357
        },
        "outputId": "223704d6-faba-49c4-a5e8-fbf9ac56229d"
      },
      "source": [
        "# Train the Model\n",
        "\n",
        "model.compile(optimizer=RMSprop(lr=1e-4),\n",
        "              loss='sparse_categorical_crossentropy',\n",
        "              metrics=['acc'])\n",
        "history = model.fit(x_train, y_train,\n",
        "                    epochs=10,\n",
        "                    batch_size=2,\n",
        "                    validation_split=0.2)"
      ],
      "execution_count": 74,
      "outputs": [
        {
          "output_type": "stream",
          "text": [
            "Epoch 1/10\n",
            "13614/13614 [==============================] - 92s 7ms/step - loss: 1.2859 - acc: 0.4421 - val_loss: 1.1656 - val_acc: 0.4764\n",
            "Epoch 2/10\n",
            "13614/13614 [==============================] - 91s 7ms/step - loss: 1.1588 - acc: 0.4867 - val_loss: 1.1321 - val_acc: 0.4960\n",
            "Epoch 3/10\n",
            "13614/13614 [==============================] - 91s 7ms/step - loss: 1.1270 - acc: 0.5072 - val_loss: 1.1131 - val_acc: 0.5113\n",
            "Epoch 4/10\n",
            "13614/13614 [==============================] - 91s 7ms/step - loss: 1.1061 - acc: 0.5245 - val_loss: 1.1140 - val_acc: 0.5166\n",
            "Epoch 5/10\n",
            "13614/13614 [==============================] - 91s 7ms/step - loss: 1.0911 - acc: 0.5312 - val_loss: 1.1026 - val_acc: 0.5281\n",
            "Epoch 6/10\n",
            "13614/13614 [==============================] - 89s 7ms/step - loss: 1.0802 - acc: 0.5392 - val_loss: 1.0947 - val_acc: 0.5330\n",
            "Epoch 7/10\n",
            "13614/13614 [==============================] - 90s 7ms/step - loss: 1.0689 - acc: 0.5479 - val_loss: 1.1393 - val_acc: 0.5195\n",
            "Epoch 8/10\n",
            "13614/13614 [==============================] - 90s 7ms/step - loss: 1.0576 - acc: 0.5526 - val_loss: 1.0816 - val_acc: 0.5372\n",
            "Epoch 9/10\n",
            "13614/13614 [==============================] - 89s 7ms/step - loss: 1.0498 - acc: 0.5538 - val_loss: 1.1100 - val_acc: 0.5231\n",
            "Epoch 10/10\n",
            "13614/13614 [==============================] - 90s 7ms/step - loss: 1.0451 - acc: 0.5594 - val_loss: 1.0852 - val_acc: 0.5348\n"
          ],
          "name": "stdout"
        }
      ]
    },
    {
      "cell_type": "code",
      "metadata": {
        "id": "78DirwgNs4v5",
        "colab_type": "code",
        "colab": {
          "base_uri": "https://localhost:8080/",
          "height": 545
        },
        "outputId": "2db20428-43d5-451f-e7bf-8bb9c8c35992"
      },
      "source": [
        "# Plot the Training and Validation Accuracy & Loss Scores\n",
        "import matplotlib.pyplot as plt\n",
        "%matplotlib inline\n",
        "\n",
        "acc = history.history['acc']\n",
        "val_acc = history.history['val_acc']\n",
        "loss = history.history['loss']\n",
        "val_loss = history.history['val_loss']\n",
        "\n",
        "epochs = range(len(acc))\n",
        "\n",
        "plt.plot(epochs, acc, 'bo', label='Training acc')\n",
        "plt.plot(epochs, val_acc, 'b', label='Validation acc')\n",
        "plt.title('Training and validation accuracy')\n",
        "plt.legend()\n",
        "\n",
        "plt.figure()\n",
        "\n",
        "plt.plot(epochs, loss, 'bo', label='Training loss')\n",
        "plt.plot(epochs, val_loss, 'b', label='Validation loss')\n",
        "plt.title('Training and validation loss')\n",
        "plt.legend()\n",
        "\n",
        "plt.show()"
      ],
      "execution_count": 75,
      "outputs": [
        {
          "output_type": "display_data",
          "data": {
            "image/png": "[encoded data removed]",
            "text/plain": [
              "<Figure size 432x288 with 1 Axes>"
            ]
          },
          "metadata": {
            "tags": [],
            "needs_background": "light"
          }
        },
        {
          "output_type": "display_data",
          "data": {
            "image/png": "[encoded data removed]",
            "text/plain": [
              "<Figure size 432x288 with 1 Axes>"
            ]
          },
          "metadata": {
            "tags": [],
            "needs_background": "light"
          }
        }
      ]
    },
    {
      "cell_type": "code",
      "metadata": {
        "id": "yposyvd5s4v7",
        "colab_type": "code",
        "colab": {}
      },
      "source": [
        "# Save the Model\n",
        "model.save('text_model_1.h5')"
      ],
      "execution_count": null,
      "outputs": []
    },
    {
      "cell_type": "markdown",
      "metadata": {
        "id": "aLy13ruxs4v9",
        "colab_type": "text"
      },
      "source": [
        "## Step 3 – Evaluate the Model using Testing Data "
      ]
    },
    {
      "cell_type": "code",
      "metadata": {
        "id": "mn421YB8s4v9",
        "colab_type": "code",
        "colab": {}
      },
      "source": [
        "# Model #1 (replicate where necessary for other models)\n",
        "model.load_weights('text_model_1.h5')\n"
      ],
      "execution_count": null,
      "outputs": []
    },
    {
      "cell_type": "code",
      "metadata": {
        "id": "8dKOgrols4v_",
        "colab_type": "code",
        "colab": {}
      },
      "source": [
        "# Save the Best Model\n",
        "model.save('text_model_best.h5')"
      ],
      "execution_count": null,
      "outputs": []
    },
    {
      "cell_type": "markdown",
      "metadata": {
        "id": "7lEhdj0Zs4wA",
        "colab_type": "text"
      },
      "source": [
        "## Step 4 – Use the Best Model to make prediction"
      ]
    },
    {
      "cell_type": "code",
      "metadata": {
        "id": "tr7Ji3MHs4wB",
        "colab_type": "code",
        "colab": {}
      },
      "source": [
        "model.load_weights('text_model_best.h5')"
      ],
      "execution_count": null,
      "outputs": []
    },
    {
      "cell_type": "code",
      "metadata": {
        "id": "IUNNAdN_s4wC",
        "colab_type": "code",
        "colab": {}
      },
      "source": [
        "# takes the user input\n",
        "text_input = np.array([input()])"
      ],
      "execution_count": null,
      "outputs": []
    },
    {
      "cell_type": "code",
      "metadata": {
        "id": "AL9uJMwss4wE",
        "colab_type": "code",
        "colab": {}
      },
      "source": [
        "# convert the user input into numeric tensor\n"
      ],
      "execution_count": null,
      "outputs": []
    },
    {
      "cell_type": "code",
      "metadata": {
        "id": "6dz3hkLZs4wG",
        "colab_type": "code",
        "colab": {}
      },
      "source": [
        "# show the model output using predict function\n"
      ],
      "execution_count": null,
      "outputs": []
    }
  ]
}