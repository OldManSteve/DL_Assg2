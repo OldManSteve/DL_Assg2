{
 "cells": [
  {
   "cell_type": "markdown",
   "metadata": {},
   "source": [
    "<table class=\"table table-bordered\">\n",
    "    <tr>\n",
    "        <th style=\"text-align:center; width:25%\"><img src='https://www.np.edu.sg/PublishingImages/Pages/default/odp/ICT.jpg' style=\"width: 250px; height: 125px; \"></th>\n",
    "        <th style=\"text-align:center;\"><h1>Deep Learning</h1><h2>Practical 1 - Tensor Operations</h2><h3>AY2020/21 Semester</h3></th>\n",
    "    </tr>\n",
    "</table>"
   ]
  },
  {
   "cell_type": "markdown",
   "metadata": {},
   "source": [
    "## Objectives\n",
    "After completing this practical exercise, students should be able to:\n",
    "1. [Understand how the data is represented using tensors](#rep)\n",
    "2. [Understand the basics of tensor operations](#ops)\n",
    "3. [Exercise: provide your own examples](#exc)\n"
   ]
  },
  {
   "cell_type": "markdown",
   "metadata": {},
   "source": [
    "## 1. Data Representations <a id='rep' />\n",
    "All current machine-learning systems use tensors as their basic data structure. A tensor is a container for data, almost always numeric data. "
   ]
  },
  {
   "cell_type": "markdown",
   "metadata": {},
   "source": [
    "### 1.1 Scalars (0D tensors)\n",
    "A tensor that contains only one number."
   ]
  },
  {
   "cell_type": "code",
   "execution_count": 1,
   "metadata": {},
   "outputs": [
    {
     "name": "stdout",
     "output_type": "stream",
     "text": [
      "x = \n",
      " 12 \n",
      "\n",
      "The dimension of x is:  0\n",
      "The shape of x is:  ()\n"
     ]
    }
   ],
   "source": [
    "import numpy as np\n",
    "x = np.array(12)\n",
    "print('x = \\n', x, '\\n')\n",
    "print('The dimension of x is: ', x.ndim)\n",
    "print('The shape of x is: ', x.shape)"
   ]
  },
  {
   "cell_type": "markdown",
   "metadata": {},
   "source": [
    "### 1.2 Vectors (1D tensors)\n",
    "An array of numbers."
   ]
  },
  {
   "cell_type": "code",
   "execution_count": 2,
   "metadata": {},
   "outputs": [
    {
     "name": "stdout",
     "output_type": "stream",
     "text": [
      "x = \n",
      " [12  3  6 14 25] \n",
      "\n",
      "The dimension of x is:  1\n",
      "The shape of x is:  (5,)\n"
     ]
    }
   ],
   "source": [
    "x = np.array([12,3,6,14,25])\n",
    "print('x = \\n', x, '\\n')\n",
    "print('The dimension of x is: ', x.ndim)\n",
    "print('The shape of x is: ', x.shape)"
   ]
  },
  {
   "cell_type": "markdown",
   "metadata": {},
   "source": [
    "This vector has five entries and so it is a 5-dimensional vector (5D vector), but a 1D tensor. "
   ]
  },
  {
   "cell_type": "markdown",
   "metadata": {},
   "source": [
    "### 1.3 Matrices (2D tensors)\n",
    "An array of vectors."
   ]
  },
  {
   "cell_type": "code",
   "execution_count": 3,
   "metadata": {},
   "outputs": [
    {
     "name": "stdout",
     "output_type": "stream",
     "text": [
      "x = \n",
      " [[ 5 78  2 34  0]\n",
      " [ 6 79  3 35  1]\n",
      " [ 7 80  4 36  2]] \n",
      "\n",
      "The dimension of x is:  2\n",
      "The shape of x is:  (3, 5)\n"
     ]
    }
   ],
   "source": [
    "x = np.array([[5, 78, 2, 34, 0],\n",
    "             [6, 79, 3, 35, 1],\n",
    "             [7, 80, 4, 36, 2]])\n",
    "print('x = \\n', x, '\\n')\n",
    "print('The dimension of x is: ', x.ndim)\n",
    "print('The shape of x is: ', x.shape)"
   ]
  },
  {
   "cell_type": "markdown",
   "metadata": {},
   "source": [
    "### 1.4 3D tensors and higher-dimentional tensors\n",
    "Pack matrices into a new array. "
   ]
  },
  {
   "cell_type": "code",
   "execution_count": 4,
   "metadata": {},
   "outputs": [
    {
     "name": "stdout",
     "output_type": "stream",
     "text": [
      "x = \n",
      " [[[ 5 78  2 34  0]\n",
      "  [ 6 79  3 35  1]\n",
      "  [ 7 80  4 36  2]]\n",
      "\n",
      " [[ 5 78  2 34  0]\n",
      "  [ 6 79  3 35  1]\n",
      "  [ 7 80  4 36  2]]\n",
      "\n",
      " [[ 5 78  2 34  0]\n",
      "  [ 6 79  3 35  1]\n",
      "  [ 7 80  4 36  2]]]\n",
      "\n",
      "The dimension of x is:  3\n",
      "The shape of x is:  (3, 3, 5)\n"
     ]
    }
   ],
   "source": [
    "x = np.array([[[5, 78, 2, 34, 0],\n",
    "               [6, 79, 3, 35, 1],\n",
    "               [7, 80, 4, 36, 2]],\n",
    "              [[5, 78, 2, 34, 0],\n",
    "               [6, 79, 3, 35, 1],\n",
    "               [7, 80, 4, 36, 2]],\n",
    "              [[5, 78, 2, 34, 0],\n",
    "               [6, 79, 3, 35, 1],\n",
    "               [7, 80, 4, 36, 2]]])\n",
    "print('x = \\n', x)\n",
    "print('\\nThe dimension of x is: ', x.ndim)\n",
    "print('The shape of x is: ', x.shape)"
   ]
  },
  {
   "cell_type": "markdown",
   "metadata": {},
   "source": [
    "### 1.5 Key attributes\n",
    "* Number of axes (rank or dimension): ndim in Numpy\n",
    "* Shape: how many dimensions the tensor has along each axis\n",
    "* Data type: dtype in Python. The type of the data contained in the tensor"
   ]
  },
  {
   "cell_type": "code",
   "execution_count": 5,
   "metadata": {},
   "outputs": [],
   "source": [
    "from tensorflow.keras.datasets import mnist\n",
    "(train_images, train_labels), (test_images, test_labels) = mnist.load_data()"
   ]
  },
  {
   "cell_type": "code",
   "execution_count": 6,
   "metadata": {},
   "outputs": [
    {
     "name": "stdout",
     "output_type": "stream",
     "text": [
      "3\n"
     ]
    }
   ],
   "source": [
    "print(train_images.ndim)"
   ]
  },
  {
   "cell_type": "code",
   "execution_count": 7,
   "metadata": {},
   "outputs": [
    {
     "name": "stdout",
     "output_type": "stream",
     "text": [
      "(60000, 28, 28)\n"
     ]
    }
   ],
   "source": [
    "print(train_images.shape)"
   ]
  },
  {
   "cell_type": "code",
   "execution_count": 8,
   "metadata": {},
   "outputs": [
    {
     "name": "stdout",
     "output_type": "stream",
     "text": [
      "uint8\n"
     ]
    }
   ],
   "source": [
    "print(train_images.dtype)"
   ]
  },
  {
   "cell_type": "markdown",
   "metadata": {},
   "source": [
    "So what we have here is a 3D tensor of 8-bit integers. More precisely, it’s an array of 60,000 matrices of 28 × 28 integers. Each such matrix is a grayscale image, with coefficients between 0 and 255. Let’s display the fourth digit in this 3D tensor, using the library Matplotlib."
   ]
  },
  {
   "cell_type": "code",
   "execution_count": 9,
   "metadata": {
    "scrolled": true
   },
   "outputs": [
    {
     "data": {
      "image/png": "[encoded data removed]",
      "text/plain": [
       "<Figure size 432x288 with 1 Axes>"
      ]
     },
     "metadata": {
      "needs_background": "light"
     },
     "output_type": "display_data"
    }
   ],
   "source": [
    "digit = train_images[4]\n",
    "import matplotlib.pyplot as plt\n",
    "%matplotlib inline\n",
    "\n",
    "plt.imshow(digit, cmap=plt.cm.binary)\n",
    "plt.show()\n",
    "#print(digit)"
   ]
  },
  {
   "cell_type": "markdown",
   "metadata": {},
   "source": [
    "### 1.6 Tensor Slicing\n",
    "Selecting specific elements in a tensor"
   ]
  },
  {
   "cell_type": "code",
   "execution_count": 10,
   "metadata": {},
   "outputs": [
    {
     "name": "stdout",
     "output_type": "stream",
     "text": [
      "(90, 28, 28)\n"
     ]
    }
   ],
   "source": [
    "#Select digits #10 to #100 (#100 isn't included)\n",
    "my_slice = train_images[10:100]\n",
    "print(my_slice.shape)"
   ]
  },
  {
   "cell_type": "code",
   "execution_count": 11,
   "metadata": {},
   "outputs": [
    {
     "name": "stdout",
     "output_type": "stream",
     "text": [
      "(90, 28, 28)\n"
     ]
    }
   ],
   "source": [
    "#Select digits #10 to #100 (#100 isn't included)\n",
    "my_slice = train_images[10:100, :, :]\n",
    "print(my_slice.shape)"
   ]
  },
  {
   "cell_type": "code",
   "execution_count": 12,
   "metadata": {},
   "outputs": [
    {
     "name": "stdout",
     "output_type": "stream",
     "text": [
      "(90, 28, 28)\n"
     ]
    }
   ],
   "source": [
    "#Select digits #10 to #100 (#100 isn't included)\n",
    "my_slice = train_images[10:100, 0:28, 0:28]\n",
    "print(my_slice.shape)"
   ]
  },
  {
   "cell_type": "code",
   "execution_count": 13,
   "metadata": {},
   "outputs": [
    {
     "name": "stdout",
     "output_type": "stream",
     "text": [
      "(60000, 14, 14)\n"
     ]
    }
   ],
   "source": [
    "#Select 14x14 pixels in the bottom-right corner of all images\n",
    "my_slice = train_images[:, 14:, 14:]\n",
    "print(my_slice.shape)"
   ]
  },
  {
   "cell_type": "code",
   "execution_count": 14,
   "metadata": {},
   "outputs": [
    {
     "name": "stdout",
     "output_type": "stream",
     "text": [
      "(60000, 14, 14)\n"
     ]
    }
   ],
   "source": [
    "#Crop the images to patches of 14x14 pixels centered in the middle\n",
    "my_slice = train_images[:, 7:-7, 7:-7]\n",
    "print(my_slice.shape)"
   ]
  },
  {
   "cell_type": "markdown",
   "metadata": {},
   "source": [
    "Deep-learning models don’t process an entire dataset at once; they break the data into small batches. Here’s one batch of our MNIST digits, with batch size of 128:"
   ]
  },
  {
   "cell_type": "code",
   "execution_count": 15,
   "metadata": {},
   "outputs": [
    {
     "name": "stdout",
     "output_type": "stream",
     "text": [
      "(128, 28, 28)\n"
     ]
    }
   ],
   "source": [
    "batch = train_images[:128] # 1st batch\n",
    "batch = train_images[128:256] # 2nd batch\n",
    "\n",
    "# the nth batch\n",
    "n=10\n",
    "batch = train_images[128 * n:128 * (n + 1)]\n",
    "print(batch.shape)"
   ]
  },
  {
   "cell_type": "markdown",
   "metadata": {},
   "source": [
    "When considering such a batch tensor, the first axis (axis 0) is called the batch axis or\n",
    "batch dimension."
   ]
  },
  {
   "cell_type": "markdown",
   "metadata": {},
   "source": [
    "## 2. Tensor Operations <a id='ops' />\n",
    "All transformations learned by deep neural networks can be reduced to a handful of tensor operations applied to tensors of numeric data, e.g. add tensors, multiply tensors and etc."
   ]
  },
  {
   "cell_type": "markdown",
   "metadata": {},
   "source": [
    "### 2.1 Element-wise operations\n",
    "Operations that are applied independently to each entry in the tensors."
   ]
  },
  {
   "cell_type": "code",
   "execution_count": 16,
   "metadata": {},
   "outputs": [
    {
     "name": "stdout",
     "output_type": "stream",
     "text": [
      "x is: \n",
      " [[[ 5 78  2 34  0]\n",
      "  [ 6 79  3 35  1]\n",
      "  [ 7 80  4 36  2]]\n",
      "\n",
      " [[ 5 78  2 34  0]\n",
      "  [ 6 79  3 35  1]\n",
      "  [ 7 80  4 36  2]]\n",
      "\n",
      " [[ 5 78  2 34  0]\n",
      "  [ 6 79  3 35  1]\n",
      "  [ 7 80  4 36  2]]]\n",
      "\n",
      "==Element-wise substraction==\n",
      "         y = x - 4          \n",
      "y is: \n",
      " [[[ 1 74 -2 30 -4]\n",
      "  [ 2 75 -1 31 -3]\n",
      "  [ 3 76  0 32 -2]]\n",
      "\n",
      " [[ 1 74 -2 30 -4]\n",
      "  [ 2 75 -1 31 -3]\n",
      "  [ 3 76  0 32 -2]]\n",
      "\n",
      " [[ 1 74 -2 30 -4]\n",
      "  [ 2 75 -1 31 -3]\n",
      "  [ 3 76  0 32 -2]]]\n",
      "\n",
      "==Element-wise addition==\n",
      "         z = x + y          \n",
      "z is: \n",
      " [[[  6 152   0  64  -4]\n",
      "  [  8 154   2  66  -2]\n",
      "  [ 10 156   4  68   0]]\n",
      "\n",
      " [[  6 152   0  64  -4]\n",
      "  [  8 154   2  66  -2]\n",
      "  [ 10 156   4  68   0]]\n",
      "\n",
      " [[  6 152   0  64  -4]\n",
      "  [  8 154   2  66  -2]\n",
      "  [ 10 156   4  68   0]]]\n",
      "\n",
      "==Element-wise relu==\n",
      "z2 is: \n",
      " [[[  6. 152.   0.  64.   0.]\n",
      "  [  8. 154.   2.  66.   0.]\n",
      "  [ 10. 156.   4.  68.   0.]]\n",
      "\n",
      " [[  6. 152.   0.  64.   0.]\n",
      "  [  8. 154.   2.  66.   0.]\n",
      "  [ 10. 156.   4.  68.   0.]]\n",
      "\n",
      " [[  6. 152.   0.  64.   0.]\n",
      "  [  8. 154.   2.  66.   0.]\n",
      "  [ 10. 156.   4.  68.   0.]]]\n"
     ]
    }
   ],
   "source": [
    "import numpy as np\n",
    "print('x is: \\n', x)\n",
    "#Element-wise substraction\n",
    "print(\"\\n==Element-wise substraction==\")\n",
    "print('{:^28}'.format(\"y = x - 4\"))\n",
    "y = x - 4 \n",
    "print('y is: \\n', y)\n",
    "\n",
    "#Element-wise addition\n",
    "print(\"\\n==Element-wise addition==\")\n",
    "print('{:^28}'.format(\"z = x + y\"))\n",
    "z = x + y\n",
    "print('z is: \\n', z)\n",
    "\n",
    "#Element-wise relu\n",
    "print(\"\\n==Element-wise relu==\")\n",
    "z2 = np.maximum(z, 0.)\n",
    "print('z2 is: \\n', z2)"
   ]
  },
  {
   "cell_type": "markdown",
   "metadata": {},
   "source": [
    "### 2.2 Broadcasting\n",
    "When the shapes of two tensors being added are different, if there's no ambiguity, the smaller tensor will be broadcasted to match the shape of the larger tensor."
   ]
  },
  {
   "cell_type": "code",
   "execution_count": 17,
   "metadata": {},
   "outputs": [
    {
     "name": "stdout",
     "output_type": "stream",
     "text": [
      "x is: \n",
      " [[[5 5 5 6 5]\n",
      "  [4 9 7 1 6]]\n",
      "\n",
      " [[7 6 2 4 8]\n",
      "  [6 0 0 7 9]]\n",
      "\n",
      " [[3 0 9 0 0]\n",
      "  [8 6 7 6 9]]] \n",
      "\n",
      "y is: \n",
      " [[8 2 9 5 4]\n",
      " [0 5 4 0 7]] \n",
      "\n",
      "z is: \n",
      " [[[13  7 14 11  9]\n",
      "  [ 4 14 11  1 13]]\n",
      "\n",
      " [[15  8 11  9 12]\n",
      "  [ 6  5  4  7 16]]\n",
      "\n",
      " [[11  2 18  5  4]\n",
      "  [ 8 11 11  6 16]]]\n"
     ]
    }
   ],
   "source": [
    "import numpy as np\n",
    "#Generate random numbers from 0 to 9 into a 3 x 2 x 5 array\n",
    "x = np.random.randint(10, size=(3, 2, 5))\n",
    "print('x is: \\n', x, '\\n')\n",
    "y = np.random.randint(10, size=(2, 5))\n",
    "print('y is: \\n', y, '\\n')\n",
    "z = x + y\n",
    "print('z is: \\n', z)"
   ]
  },
  {
   "cell_type": "markdown",
   "metadata": {},
   "source": [
    "### 2.3 Tensor dot\n",
    "The dot operations, also called tensor product, is very similiar to vector/matrix multiplication. "
   ]
  },
  {
   "cell_type": "code",
   "execution_count": 18,
   "metadata": {},
   "outputs": [
    {
     "name": "stdout",
     "output_type": "stream",
     "text": [
      "x is: \n",
      " [[3 7 1 9 0]\n",
      " [6 8 3 3 0]] \n",
      "\n",
      "y is: \n",
      " [[6 0 1]\n",
      " [4 5 9]\n",
      " [0 0 6]\n",
      " [7 2 8]\n",
      " [9 5 5]] \n",
      "\n",
      "z is: \n",
      " [[109  53 144]\n",
      " [ 89  46 120]]\n"
     ]
    }
   ],
   "source": [
    "import numpy as np\n",
    "x = np.random.randint(10, size=(2, 5))\n",
    "print('x is: \\n', x, '\\n')\n",
    "y = np.random.randint(10, size=(5, 3))\n",
    "print('y is: \\n', y, '\\n')\n",
    "z = np.dot(x, y)\n",
    "print('z is: \\n', z)"
   ]
  },
  {
   "cell_type": "code",
   "execution_count": 19,
   "metadata": {},
   "outputs": [
    {
     "name": "stdout",
     "output_type": "stream",
     "text": [
      "x is: \n",
      " [[1 4 6 0 5]\n",
      " [3 1 2 7 9]] \n",
      "\n",
      "y is: \n",
      " [[4 4 8 2 8]\n",
      " [8 0 9 2 1]] \n",
      "\n",
      "z is: \n",
      " [[ 4 16 48  0 40]\n",
      " [24  0 18 14  9]]\n"
     ]
    }
   ],
   "source": [
    "#element wise multiply\n",
    "x = np.random.randint(10, size=(2, 5))\n",
    "print('x is: \\n', x, '\\n')\n",
    "y = np.random.randint(10, size=(2, 5))\n",
    "print('y is: \\n', y, '\\n')\n",
    "z = x*y\n",
    "print('z is: \\n', z)"
   ]
  },
  {
   "cell_type": "markdown",
   "metadata": {},
   "source": [
    "### 2.4 Tensor reshaping\n",
    "Rearranging the rows and columns of a tensor to match a target shape."
   ]
  },
  {
   "cell_type": "code",
   "execution_count": 20,
   "metadata": {},
   "outputs": [
    {
     "name": "stdout",
     "output_type": "stream",
     "text": [
      "[[0. 1.]\n",
      " [2. 3.]\n",
      " [4. 5.]] \n",
      "\n",
      "The shape of x is: (3, 2)\n"
     ]
    }
   ],
   "source": [
    "x = np.array([[0., 1.],\n",
    "              [2., 3.],\n",
    "              [4., 5.]])\n",
    "print(x, '\\n')\n",
    "print('The shape of x is:', x.shape)"
   ]
  },
  {
   "cell_type": "code",
   "execution_count": 21,
   "metadata": {},
   "outputs": [
    {
     "data": {
      "text/plain": [
       "dtype('float64')"
      ]
     },
     "execution_count": 21,
     "metadata": {},
     "output_type": "execute_result"
    }
   ],
   "source": [
    "x.dtype"
   ]
  },
  {
   "cell_type": "code",
   "execution_count": 22,
   "metadata": {},
   "outputs": [
    {
     "name": "stdout",
     "output_type": "stream",
     "text": [
      "[[0.]\n",
      " [1.]\n",
      " [2.]\n",
      " [3.]\n",
      " [4.]\n",
      " [5.]] \n",
      "\n",
      "The shape of x is: (6, 1)\n"
     ]
    }
   ],
   "source": [
    "x = x.reshape((6, 1))\n",
    "print(x, '\\n')\n",
    "print('The shape of x is:', x.shape)"
   ]
  },
  {
   "cell_type": "markdown",
   "metadata": {},
   "source": [
    "A special case of reshaping that’s commonly encountered is transposition."
   ]
  },
  {
   "cell_type": "code",
   "execution_count": 23,
   "metadata": {},
   "outputs": [
    {
     "name": "stdout",
     "output_type": "stream",
     "text": [
      "y is: \n",
      " [[0. 0.]\n",
      " [0. 0.]\n",
      " [0. 0.]] \n",
      "\n",
      "The shape of y is: (3, 2) \n",
      "\n",
      "y_t is: \n",
      " [[0. 0. 0.]\n",
      " [0. 0. 0.]] \n",
      "\n",
      "The shape of y_t is: (2, 3) \n",
      "\n"
     ]
    }
   ],
   "source": [
    "y = np.zeros((3, 2))\n",
    "print('y is: \\n', y, '\\n')\n",
    "print('The shape of y is:', y.shape,'\\n')\n",
    "y_t = np.transpose(y)\n",
    "print('y_t is: \\n', y_t, '\\n')\n",
    "print('The shape of y_t is:', y_t.shape,'\\n')"
   ]
  },
  {
   "cell_type": "markdown",
   "metadata": {},
   "source": [
    "## 3. Exercise <a id='exc' />"
   ]
  },
  {
   "cell_type": "markdown",
   "metadata": {},
   "source": [
    "1. Provide an example of 0D tensor, 1D tensor, 2D tensor and 3D tensor respectively."
   ]
  },
  {
   "cell_type": "code",
   "execution_count": 45,
   "metadata": {},
   "outputs": [
    {
     "name": "stdout",
     "output_type": "stream",
     "text": [
      "x = \n",
      " 1 \n",
      "\n",
      "The dimension of x is:  0\n",
      "The shape of x is:  ()\n"
     ]
    }
   ],
   "source": [
    "#Task 1: 0D tensor\n",
    "import numpy as np\n",
    "x = np.array(1)\n",
    "print('x = \\n', x, '\\n')\n",
    "print('The dimension of x is: ', x.ndim)\n",
    "print('The shape of x is: ', x.shape)"
   ]
  },
  {
   "cell_type": "code",
   "execution_count": 47,
   "metadata": {},
   "outputs": [
    {
     "name": "stdout",
     "output_type": "stream",
     "text": [
      "x = \n",
      " [1 2 3 4] \n",
      "\n",
      "The dimension of x is:  1\n",
      "The shape of x is:  (4,)\n"
     ]
    }
   ],
   "source": [
    "#Task 2: 1D tensor\n",
    "x = np.array([1,2,3,4])\n",
    "print('x = \\n', x, '\\n')\n",
    "print('The dimension of x is: ', x.ndim)\n",
    "print('The shape of x is: ', x.shape)"
   ]
  },
  {
   "cell_type": "code",
   "execution_count": 48,
   "metadata": {},
   "outputs": [
    {
     "name": "stdout",
     "output_type": "stream",
     "text": [
      "x = \n",
      " [[ 1  2  3  4]\n",
      " [ 5  6  7  8]\n",
      " [ 9 10 11 12]] \n",
      "\n",
      "The dimension of x is:  2\n",
      "The shape of x is:  (3, 4)\n"
     ]
    }
   ],
   "source": [
    "#Task 3: 2D tensor\n",
    "x = np.array([[1,2,3,4],\n",
    "            [5,6,7,8,],\n",
    "            [9,10,11,12]])\n",
    "print('x = \\n', x, '\\n')\n",
    "print('The dimension of x is: ', x.ndim)\n",
    "print('The shape of x is: ', x.shape)"
   ]
  },
  {
   "cell_type": "code",
   "execution_count": 51,
   "metadata": {},
   "outputs": [
    {
     "name": "stdout",
     "output_type": "stream",
     "text": [
      "x = \n",
      " [[[ 1  1  1]\n",
      "  [ 2  2  2]\n",
      "  [ 3  3  3]\n",
      "  [ 4  4  4]]\n",
      "\n",
      " [[ 5  5  5]\n",
      "  [ 6  6  6]\n",
      "  [ 7  7  7]\n",
      "  [ 8  8  8]]\n",
      "\n",
      " [[ 9  9  9]\n",
      "  [10 10 10]\n",
      "  [11 11 11]\n",
      "  [12 12 12]]] \n",
      "\n",
      "The dimension of x is:  3\n",
      "The shape of x is:  (3, 4, 3)\n"
     ]
    }
   ],
   "source": [
    "#Task 4: 3D tensor\n",
    "x = np.array([[[1,1,1],[2,2,2],[3,3,3],[4,4,4]],\n",
    "              [[5,5,5],[6,6,6],[7,7,7],[8,8,8]],\n",
    "              [[9,9,9],[10,10,10],[11,11,11],[12,12,12]]])\n",
    "print('x = \\n', x, '\\n')\n",
    "print('The dimension of x is: ', x.ndim)\n",
    "print('The shape of x is: ', x.shape)"
   ]
  },
  {
   "cell_type": "markdown",
   "metadata": {},
   "source": [
    "2. Provide a Tensor Slicing Example. "
   ]
  },
  {
   "cell_type": "code",
   "execution_count": 63,
   "metadata": {},
   "outputs": [
    {
     "name": "stdout",
     "output_type": "stream",
     "text": [
      "x is: \n",
      " [[5 9 3 6 8]\n",
      " [5 2 4 1 3]\n",
      " [6 7 4 2 7]]\n",
      "\n",
      "Sliced x is: \n",
      " [[4 1 3]\n",
      " [4 2 7]]\n"
     ]
    }
   ],
   "source": [
    "# Task 1: Tensor Slicing\n",
    "x = np.random.randint(10, size=(3, 5))\n",
    "print('x is: \\n', x)\n",
    "\n",
    "print('\\nSliced x is: \\n', x[1:,2:])"
   ]
  },
  {
   "cell_type": "markdown",
   "metadata": {},
   "source": [
    "3. Provide an example for each tensor operation learnt in this Practical."
   ]
  },
  {
   "cell_type": "code",
   "execution_count": 65,
   "metadata": {},
   "outputs": [
    {
     "name": "stdout",
     "output_type": "stream",
     "text": [
      "y is: \n",
      " [[[-4  3  1  1  1]\n",
      "  [ 2 -2 -1  1 -4]]\n",
      "\n",
      " [[-1  5  2  5  3]\n",
      "  [ 5  3  0 -2  1]]\n",
      "\n",
      " [[-4 -1  3 -2  1]\n",
      "  [ 3  1  4 -3 -1]]]\n",
      "\n",
      "z is: \n",
      " [[[-4 10  6  6  6]\n",
      "  [ 8  0  2  6 -4]]\n",
      "\n",
      " [[ 2 14  8 14 10]\n",
      "  [14 10  4  0  6]]\n",
      "\n",
      " [[-4  2 10  0  6]\n",
      "  [10  6 12 -2  2]]]\n",
      "\n",
      "z2 is: \n",
      " [[[ 0. 10.  6.  6.  6.]\n",
      "  [ 8.  0.  2.  6.  0.]]\n",
      "\n",
      " [[ 2. 14.  8. 14. 10.]\n",
      "  [14. 10.  4.  0.  6.]]\n",
      "\n",
      " [[ 0.  2. 10.  0.  6.]\n",
      "  [10.  6. 12.  0.  2.]]]\n"
     ]
    }
   ],
   "source": [
    "# Task 1: Element Wise Operation\n",
    "x = np.random.randint(10, size=(3, 2, 5))\n",
    "y = np.random.randint(10, size=(3, 2, 5))\n",
    "#Element-wise substraction\n",
    "y = x - 4 \n",
    "print('y is: \\n', y)\n",
    "\n",
    "#Element-wise addition\n",
    "z = x + y\n",
    "print('\\nz is: \\n', z)\n",
    "\n",
    "#Element-wise relu\n",
    "z2 = np.maximum(z, 0.)\n",
    "print('\\nz2 is: \\n', z2)"
   ]
  },
  {
   "cell_type": "code",
   "execution_count": 68,
   "metadata": {},
   "outputs": [
    {
     "name": "stdout",
     "output_type": "stream",
     "text": [
      "x is: \n",
      " [[[3 0 5 1 2]\n",
      "  [0 9 5 3 7]]\n",
      "\n",
      " [[1 3 7 8 0]\n",
      "  [3 6 0 6 0]]\n",
      "\n",
      " [[1 5 4 5 0]\n",
      "  [0 5 3 3 0]]\n",
      "\n",
      " [[1 5 3 4 9]\n",
      "  [7 7 8 8 5]]] \n",
      "\n",
      "y is: \n",
      " [[0 2 7 5 1]\n",
      " [3 9 9 0 4]] \n",
      "\n",
      "x + y is: \n",
      " [[[ 3  2 12  6  3]\n",
      "  [ 3 18 14  3 11]]\n",
      "\n",
      " [[ 1  5 14 13  1]\n",
      "  [ 6 15  9  6  4]]\n",
      "\n",
      " [[ 1  7 11 10  1]\n",
      "  [ 3 14 12  3  4]]\n",
      "\n",
      " [[ 1  7 10  9 10]\n",
      "  [10 16 17  8  9]]]\n"
     ]
    }
   ],
   "source": [
    "# Task 2: Broadcasting\n",
    "x = np.random.randint(10, size=(4, 2, 5))\n",
    "print('x is: \\n', x, '\\n')\n",
    "y = np.random.randint(10, size=(2, 5))\n",
    "print('y is: \\n', y, '\\n')\n",
    "z = x + y\n",
    "print('x + y is: \\n', z)"
   ]
  },
  {
   "cell_type": "code",
   "execution_count": 66,
   "metadata": {},
   "outputs": [
    {
     "name": "stdout",
     "output_type": "stream",
     "text": [
      "x is: \n",
      " [[7 1 0 7]\n",
      " [9 6 3 4]] \n",
      "\n",
      "y is: \n",
      " [[8 4 7 2 3]\n",
      " [8 6 0 8 0]\n",
      " [5 8 2 0 5]\n",
      " [4 7 8 6 7]] \n",
      "\n",
      "Tensor Dot:\n",
      "z is: \n",
      " [[ 92  83 105  64  70]\n",
      " [151 124 101  90  70]]\n"
     ]
    }
   ],
   "source": [
    "# Task 3: Tensor Dot\n",
    "x = np.random.randint(10, size=(2, 4))\n",
    "print('x is: \\n', x, '\\n')\n",
    "y = np.random.randint(10, size=(4, 5))\n",
    "print('y is: \\n', y, '\\n')\n",
    "z = np.dot(x, y)\n",
    "print('Tensor Dot:\\nz is: \\n', z)"
   ]
  },
  {
   "cell_type": "code",
   "execution_count": 78,
   "metadata": {},
   "outputs": [
    {
     "name": "stdout",
     "output_type": "stream",
     "text": [
      "[[9 1 8 1]\n",
      " [9 8 1 7]] \n",
      "\n",
      "The original shape of x is: (2, 4) \n",
      "\n",
      "[[9 1]\n",
      " [8 1]\n",
      " [9 8]\n",
      " [1 7]] \n",
      "\n",
      "The re-shaped shape of x is: (4, 2)\n"
     ]
    }
   ],
   "source": [
    "# Task 4: Tensor Reshaping\n",
    "x = np.random.randint(10, size=(2, 4))\n",
    "print(x, '\\n')\n",
    "print('The original shape of x is:', x.shape,'\\n')\n",
    "x = x.reshape((4, 2))\n",
    "print(x, '\\n')\n",
    "print('The re-shaped shape of x is:', x.shape)"
   ]
  }
 ],
 "metadata": {
  "kernelspec": {
   "display_name": "Python 3",
   "language": "python",
   "name": "python3"
  },
  "language_info": {
   "codemirror_mode": {
    "name": "ipython",
    "version": 3
   },
   "file_extension": ".py",
   "mimetype": "text/x-python",
   "name": "python",
   "nbconvert_exporter": "python",
   "pygments_lexer": "ipython3",
   "version": "3.7.4"
  }
 },
 "nbformat": 4,
 "nbformat_minor": 2
}
