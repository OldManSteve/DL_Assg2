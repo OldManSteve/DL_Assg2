{
 "cells": [
  {
   "cell_type": "markdown",
   "metadata": {},
   "source": [
    "<table class=\"table table-bordered\">\n",
    "    <tr>\n",
    "        <th style=\"text-align:center; width:25%\"><img src='https://www.np.edu.sg/PublishingImages/Pages/default/odp/ICT.jpg' style=\"width: 250px; height: 125px; \"></th>\n",
    "        <th style=\"text-align:center;\"><h1>Deep Learning</h1><h2>Practical 3b - Overfitting and Underfitting</h2><h3>AY2020/21 Semester</h3></th>\n",
    "    </tr>\n",
    "</table>"
   ]
  },
  {
   "cell_type": "code",
   "execution_count": 2,
   "metadata": {},
   "outputs": [
    {
     "name": "stdout",
     "output_type": "stream",
     "text": [
      "keras:  2.2.4-tf\n"
     ]
    }
   ],
   "source": [
    "from tensorflow import keras\n",
    "print('keras: ', keras.__version__)"
   ]
  },
  {
   "cell_type": "code",
   "execution_count": 3,
   "metadata": {},
   "outputs": [
    {
     "data": {
      "text/html": [
       "<style>.container { width:95% !important; }</style>"
      ],
      "text/plain": [
       "<IPython.core.display.HTML object>"
      ]
     },
     "metadata": {},
     "output_type": "display_data"
    }
   ],
   "source": [
    "from IPython.core.display import display, HTML\n",
    "display(HTML(\"<style>.container { width:95% !important; }</style>\"))"
   ]
  },
  {
   "cell_type": "markdown",
   "metadata": {},
   "source": [
    "## Objectives\n",
    "After completing this practical exercise, students should be able to:\n",
    "1. [Understand how to prevent overfitting in Neural Networks](#over)\n",
    "2. [Exercise - Develop your own model and try to avoid overfitting](#exc)"
   ]
  },
  {
   "cell_type": "markdown",
   "metadata": {},
   "source": [
    "### Load Data"
   ]
  },
  {
   "cell_type": "markdown",
   "metadata": {},
   "source": [
    "Note: in this notebook we will be using the IMDB test set as our validation set. It doesn't matter in this context.\n",
    "\n",
    "Let's prepare the data using the code from Practical 2:"
   ]
  },
  {
   "cell_type": "code",
   "execution_count": 4,
   "metadata": {},
   "outputs": [],
   "source": [
    "from tensorflow.keras.datasets import imdb\n",
    "import numpy as np\n",
    "\n",
    "(train_data, train_labels), (test_data, test_labels) = imdb.load_data(num_words=10000)\n",
    "\n",
    "def vectorize_sequences(sequences, dimension=10000):\n",
    "    # Create an all-zero matrix of shape (len(sequences), dimension)\n",
    "    results = np.zeros((len(sequences), dimension))\n",
    "    for i, sequence in enumerate(sequences):\n",
    "        results[i, sequence] = 1.  # set specific indices of results[i] to 1s\n",
    "    return results\n",
    "\n",
    "# Our vectorized training data\n",
    "x_train = vectorize_sequences(train_data)\n",
    "# Our vectorized test data\n",
    "x_test = vectorize_sequences(test_data)\n",
    "# Our vectorized labels\n",
    "y_train = np.asarray(train_labels).astype('float32')\n",
    "y_test = np.asarray(test_labels).astype('float32')"
   ]
  },
  {
   "cell_type": "markdown",
   "metadata": {},
   "source": [
    "## 1. How to prevent overfitting in Neural Networks <a id='over' />"
   ]
  },
  {
   "cell_type": "markdown",
   "metadata": {},
   "source": [
    "### 1.1 Reducing the network's size \n",
    "\n",
    "Our original network was as such:"
   ]
  },
  {
   "cell_type": "code",
   "execution_count": 4,
   "metadata": {},
   "outputs": [
    {
     "name": "stdout",
     "output_type": "stream",
     "text": [
      "WARNING:tensorflow:From C:\\Users\\OldManSteve\\AppData\\Roaming\\Python\\Python37\\site-packages\\tensorflow\\python\\ops\\resource_variable_ops.py:435: colocate_with (from tensorflow.python.framework.ops) is deprecated and will be removed in a future version.\n",
      "Instructions for updating:\n",
      "Colocations handled automatically by placer.\n"
     ]
    }
   ],
   "source": [
    "from tensorflow.keras import models\n",
    "from tensorflow.keras import layers\n",
    "\n",
    "original_model = models.Sequential()\n",
    "original_model.add(layers.Dense(16, activation='relu', input_shape=(10000,)))\n",
    "original_model.add(layers.Dense(16, activation='relu'))\n",
    "original_model.add(layers.Dense(1, activation='sigmoid'))\n",
    "\n",
    "original_model.compile(optimizer='rmsprop',\n",
    "                       loss='binary_crossentropy',\n",
    "                       metrics=['acc'])"
   ]
  },
  {
   "cell_type": "markdown",
   "metadata": {},
   "source": [
    "Now let's try to replace it with this smaller network:"
   ]
  },
  {
   "cell_type": "code",
   "execution_count": 5,
   "metadata": {},
   "outputs": [],
   "source": [
    "smaller_model = models.Sequential()\n",
    "smaller_model.add(layers.Dense(4, activation='relu', input_shape=(10000,)))\n",
    "smaller_model.add(layers.Dense(4, activation='relu'))\n",
    "smaller_model.add(layers.Dense(1, activation='sigmoid'))\n",
    "\n",
    "smaller_model.compile(optimizer='rmsprop',\n",
    "                      loss='binary_crossentropy',\n",
    "                      metrics=['acc'])"
   ]
  },
  {
   "cell_type": "code",
   "execution_count": 6,
   "metadata": {},
   "outputs": [
    {
     "name": "stdout",
     "output_type": "stream",
     "text": [
      "Train on 25000 samples, validate on 25000 samples\n",
      "WARNING:tensorflow:From C:\\Users\\OldManSteve\\AppData\\Roaming\\Python\\Python37\\site-packages\\tensorflow\\python\\ops\\math_ops.py:3066: to_int32 (from tensorflow.python.ops.math_ops) is deprecated and will be removed in a future version.\n",
      "Instructions for updating:\n",
      "Use tf.cast instead.\n",
      "Epoch 1/20\n",
      "25000/25000 [==============================] - 4s 151us/sample - loss: 0.4379 - acc: 0.8212 - val_loss: 0.3254 - val_acc: 0.8820\n",
      "Epoch 2/20\n",
      "25000/25000 [==============================] - 3s 127us/sample - loss: 0.2506 - acc: 0.9105 - val_loss: 0.2922 - val_acc: 0.8832\n",
      "Epoch 3/20\n",
      "25000/25000 [==============================] - 3s 121us/sample - loss: 0.1962 - acc: 0.9302 - val_loss: 0.3283 - val_acc: 0.8682\n",
      "Epoch 4/20\n",
      "25000/25000 [==============================] - 3s 130us/sample - loss: 0.1663 - acc: 0.9402 - val_loss: 0.2959 - val_acc: 0.8830\n",
      "Epoch 5/20\n",
      "25000/25000 [==============================] - 3s 125us/sample - loss: 0.1434 - acc: 0.9491 - val_loss: 0.3464 - val_acc: 0.8700\n",
      "Epoch 6/20\n",
      "25000/25000 [==============================] - 3s 123us/sample - loss: 0.1232 - acc: 0.9578 - val_loss: 0.3611 - val_acc: 0.8676\n",
      "Epoch 7/20\n",
      "25000/25000 [==============================] - 3s 121us/sample - loss: 0.1100 - acc: 0.9627 - val_loss: 0.3586 - val_acc: 0.8714\n",
      "Epoch 8/20\n",
      "25000/25000 [==============================] - 3s 122us/sample - loss: 0.0944 - acc: 0.9688 - val_loss: 0.3870 - val_acc: 0.8693\n",
      "Epoch 9/20\n",
      "25000/25000 [==============================] - 3s 122us/sample - loss: 0.0814 - acc: 0.9738 - val_loss: 0.4188 - val_acc: 0.8678\n",
      "Epoch 10/20\n",
      "25000/25000 [==============================] - 3s 126us/sample - loss: 0.0729 - acc: 0.9768 - val_loss: 0.4447 - val_acc: 0.8644\n",
      "Epoch 11/20\n",
      "25000/25000 [==============================] - 3s 129us/sample - loss: 0.0633 - acc: 0.9797 - val_loss: 0.5193 - val_acc: 0.8528\n",
      "Epoch 12/20\n",
      "25000/25000 [==============================] - 3s 122us/sample - loss: 0.0525 - acc: 0.9838 - val_loss: 0.5134 - val_acc: 0.8600\n",
      "Epoch 13/20\n",
      "25000/25000 [==============================] - 3s 121us/sample - loss: 0.0440 - acc: 0.9877 - val_loss: 0.5951 - val_acc: 0.8523\n",
      "Epoch 14/20\n",
      "25000/25000 [==============================] - 3s 128us/sample - loss: 0.0379 - acc: 0.9896 - val_loss: 0.5736 - val_acc: 0.8574\n",
      "Epoch 15/20\n",
      "25000/25000 [==============================] - 3s 138us/sample - loss: 0.0342 - acc: 0.9901 - val_loss: 0.6100 - val_acc: 0.8562\n",
      "Epoch 16/20\n",
      "25000/25000 [==============================] - 3s 126us/sample - loss: 0.0257 - acc: 0.9934 - val_loss: 0.6401 - val_acc: 0.8557\n",
      "Epoch 17/20\n",
      "25000/25000 [==============================] - 3s 125us/sample - loss: 0.0225 - acc: 0.9939 - val_loss: 0.6823 - val_acc: 0.8528\n",
      "Epoch 18/20\n",
      "25000/25000 [==============================] - 3s 123us/sample - loss: 0.0176 - acc: 0.9957 - val_loss: 0.7170 - val_acc: 0.8520\n",
      "Epoch 19/20\n",
      "25000/25000 [==============================] - 3s 131us/sample - loss: 0.0145 - acc: 0.9967 - val_loss: 0.7649 - val_acc: 0.8511\n",
      "Epoch 20/20\n",
      "25000/25000 [==============================] - 3s 138us/sample - loss: 0.0126 - acc: 0.9967 - val_loss: 0.7946 - val_acc: 0.8504\n"
     ]
    }
   ],
   "source": [
    "original_hist = original_model.fit(x_train, y_train,\n",
    "                                   epochs=20,\n",
    "                                   batch_size=512,\n",
    "                                   validation_data=(x_test, y_test))"
   ]
  },
  {
   "cell_type": "code",
   "execution_count": 7,
   "metadata": {},
   "outputs": [
    {
     "name": "stdout",
     "output_type": "stream",
     "text": [
      "Train on 25000 samples, validate on 25000 samples\n",
      "Epoch 1/20\n",
      "25000/25000 [==============================] - 3s 135us/sample - loss: 0.5878 - acc: 0.7066 - val_loss: 0.5460 - val_acc: 0.7124\n",
      "Epoch 2/20\n",
      "25000/25000 [==============================] - 3s 116us/sample - loss: 0.4919 - acc: 0.8370 - val_loss: 0.4908 - val_acc: 0.8459\n",
      "Epoch 3/20\n",
      "25000/25000 [==============================] - 3s 113us/sample - loss: 0.4472 - acc: 0.8869 - val_loss: 0.4716 - val_acc: 0.8415\n",
      "Epoch 4/20\n",
      "25000/25000 [==============================] - 3s 114us/sample - loss: 0.4153 - acc: 0.9092 - val_loss: 0.4519 - val_acc: 0.8705\n",
      "Epoch 5/20\n",
      "25000/25000 [==============================] - 3s 117us/sample - loss: 0.3901 - acc: 0.9275 - val_loss: 0.4435 - val_acc: 0.8714\n",
      "Epoch 6/20\n",
      "25000/25000 [==============================] - 3s 117us/sample - loss: 0.3688 - acc: 0.9361 - val_loss: 0.4583 - val_acc: 0.8515\n",
      "Epoch 7/20\n",
      "25000/25000 [==============================] - 3s 119us/sample - loss: 0.3496 - acc: 0.9460 - val_loss: 0.4495 - val_acc: 0.8611\n",
      "Epoch 8/20\n",
      "25000/25000 [==============================] - 3s 116us/sample - loss: 0.3324 - acc: 0.9524 - val_loss: 0.4402 - val_acc: 0.8716\n",
      "Epoch 9/20\n",
      "25000/25000 [==============================] - 3s 115us/sample - loss: 0.3163 - acc: 0.9582 - val_loss: 0.4536 - val_acc: 0.8650\n",
      "Epoch 10/20\n",
      "25000/25000 [==============================] - 3s 123us/sample - loss: 0.3019 - acc: 0.9613 - val_loss: 0.4309 - val_acc: 0.8715\n",
      "Epoch 11/20\n",
      "25000/25000 [==============================] - 3s 124us/sample - loss: 0.2879 - acc: 0.9667 - val_loss: 0.4587 - val_acc: 0.8653\n",
      "Epoch 12/20\n",
      "25000/25000 [==============================] - 3s 125us/sample - loss: 0.2744 - acc: 0.9688 - val_loss: 0.5034 - val_acc: 0.8546\n",
      "Epoch 13/20\n",
      "25000/25000 [==============================] - 3s 123us/sample - loss: 0.2621 - acc: 0.9722 - val_loss: 0.4868 - val_acc: 0.8616\n",
      "Epoch 14/20\n",
      "25000/25000 [==============================] - 3s 124us/sample - loss: 0.2505 - acc: 0.9739 - val_loss: 0.4733 - val_acc: 0.8625\n",
      "Epoch 15/20\n",
      "25000/25000 [==============================] - 3s 120us/sample - loss: 0.2396 - acc: 0.9762 - val_loss: 0.5328 - val_acc: 0.8551\n",
      "Epoch 16/20\n",
      "25000/25000 [==============================] - 3s 132us/sample - loss: 0.2289 - acc: 0.9780 - val_loss: 0.4923 - val_acc: 0.8618\n",
      "Epoch 17/20\n",
      "25000/25000 [==============================] - 3s 128us/sample - loss: 0.2193 - acc: 0.9791 - val_loss: 0.5264 - val_acc: 0.8593\n",
      "Epoch 18/20\n",
      "25000/25000 [==============================] - 3s 117us/sample - loss: 0.2098 - acc: 0.9808 - val_loss: 0.5490 - val_acc: 0.8566\n",
      "Epoch 19/20\n",
      "25000/25000 [==============================] - 3s 121us/sample - loss: 0.2011 - acc: 0.9814 - val_loss: 0.5360 - val_acc: 0.8574\n",
      "Epoch 20/20\n",
      "25000/25000 [==============================] - 3s 116us/sample - loss: 0.1923 - acc: 0.9824 - val_loss: 0.5949 - val_acc: 0.8542\n"
     ]
    }
   ],
   "source": [
    "smaller_model_hist = smaller_model.fit(x_train, y_train,\n",
    "                                       epochs=20,\n",
    "                                       batch_size=512,\n",
    "                                       validation_data=(x_test, y_test))"
   ]
  },
  {
   "cell_type": "code",
   "execution_count": 8,
   "metadata": {},
   "outputs": [],
   "source": [
    "epochs = range(1, 21)\n",
    "original_val_loss = original_hist.history['val_loss']\n",
    "smaller_model_val_loss = smaller_model_hist.history['val_loss']"
   ]
  },
  {
   "cell_type": "markdown",
   "metadata": {},
   "source": [
    "Here's a comparison of the validation losses of the original network and the smaller network. The dots are the validation loss values of \n",
    "the smaller network, and the crosses are the initial network (remember: a lower validation loss signals a better model)."
   ]
  },
  {
   "cell_type": "code",
   "execution_count": 9,
   "metadata": {},
   "outputs": [
    {
     "data": {
      "image/png": "[encoded data removed]",
      "text/plain": [
       "<Figure size 432x288 with 1 Axes>"
      ]
     },
     "metadata": {
      "needs_background": "light"
     },
     "output_type": "display_data"
    }
   ],
   "source": [
    "import matplotlib.pyplot as plt\n",
    "%matplotlib inline\n",
    "\n",
    "# b+ is for \"blue cross\"\n",
    "plt.plot(epochs, original_val_loss, 'b+', label='Original model')\n",
    "# \"bo\" is for \"blue dot\"\n",
    "plt.plot(epochs, smaller_model_val_loss, 'bo', label='Smaller model')\n",
    "plt.xlabel('Epochs')\n",
    "plt.ylabel('Validation loss')\n",
    "plt.legend()\n",
    "\n",
    "plt.show()"
   ]
  },
  {
   "cell_type": "markdown",
   "metadata": {},
   "source": [
    "\n",
    "As you can see, the smaller network starts overfitting later than the reference one (after 6 epochs rather than 4) and its performance \n",
    "degrades much more slowly once it starts overfitting.\n",
    "\n",
    "Now, for kicks, let's add to this benchmark a network that has much more capacity, far more than the problem would warrant:"
   ]
  },
  {
   "cell_type": "code",
   "execution_count": 10,
   "metadata": {},
   "outputs": [],
   "source": [
    "bigger_model = models.Sequential()\n",
    "bigger_model.add(layers.Dense(512, activation='relu', input_shape=(10000,)))\n",
    "bigger_model.add(layers.Dense(512, activation='relu'))\n",
    "bigger_model.add(layers.Dense(1, activation='sigmoid'))\n",
    "\n",
    "bigger_model.compile(optimizer='rmsprop',\n",
    "                     loss='binary_crossentropy',\n",
    "                     metrics=['acc'])"
   ]
  },
  {
   "cell_type": "code",
   "execution_count": 11,
   "metadata": {},
   "outputs": [
    {
     "name": "stdout",
     "output_type": "stream",
     "text": [
      "Train on 25000 samples, validate on 25000 samples\n",
      "Epoch 1/20\n",
      "25000/25000 [==============================] - 11s 430us/sample - loss: 0.4700 - acc: 0.7960 - val_loss: 0.2852 - val_acc: 0.8881\n",
      "Epoch 2/20\n",
      "25000/25000 [==============================] - 11s 426us/sample - loss: 0.2192 - acc: 0.9146 - val_loss: 0.5097 - val_acc: 0.7931\n",
      "Epoch 3/20\n",
      "25000/25000 [==============================] - 10s 418us/sample - loss: 0.1394 - acc: 0.9488 - val_loss: 0.2891 - val_acc: 0.8847\n",
      "Epoch 4/20\n",
      "25000/25000 [==============================] - 11s 427us/sample - loss: 0.0535 - acc: 0.9830 - val_loss: 0.6707 - val_acc: 0.8322\n",
      "Epoch 5/20\n",
      "25000/25000 [==============================] - 11s 421us/sample - loss: 0.0692 - acc: 0.9796 - val_loss: 0.3853 - val_acc: 0.8816\n",
      "Epoch 6/20\n",
      "25000/25000 [==============================] - 10s 417us/sample - loss: 0.0037 - acc: 0.9996 - val_loss: 0.6341 - val_acc: 0.8807\n",
      "Epoch 7/20\n",
      "25000/25000 [==============================] - 11s 425us/sample - loss: 0.0878 - acc: 0.9883 - val_loss: 0.5963 - val_acc: 0.8789\n",
      "Epoch 8/20\n",
      "25000/25000 [==============================] - 11s 426us/sample - loss: 3.6932e-04 - acc: 1.0000 - val_loss: 0.7234 - val_acc: 0.8799\n",
      "Epoch 9/20\n",
      "25000/25000 [==============================] - 10s 412us/sample - loss: 7.2815e-05 - acc: 1.0000 - val_loss: 0.8088 - val_acc: 0.8795\n",
      "Epoch 10/20\n",
      "25000/25000 [==============================] - 11s 430us/sample - loss: 0.1054 - acc: 0.9897 - val_loss: 0.8021 - val_acc: 0.8754\n",
      "Epoch 11/20\n",
      "25000/25000 [==============================] - 10s 417us/sample - loss: 0.0363 - acc: 0.9941 - val_loss: 0.6824 - val_acc: 0.8778\n",
      "Epoch 12/20\n",
      "25000/25000 [==============================] - 11s 424us/sample - loss: 2.2933e-04 - acc: 1.0000 - val_loss: 0.7835 - val_acc: 0.8781\n",
      "Epoch 13/20\n",
      "25000/25000 [==============================] - 11s 423us/sample - loss: 1.7696e-05 - acc: 1.0000 - val_loss: 0.8672 - val_acc: 0.8782\n",
      "Epoch 14/20\n",
      "25000/25000 [==============================] - 11s 421us/sample - loss: 2.0333e-06 - acc: 1.0000 - val_loss: 0.9724 - val_acc: 0.8774\n",
      "Epoch 15/20\n",
      "25000/25000 [==============================] - 10s 410us/sample - loss: 0.0774 - acc: 0.9917 - val_loss: 0.9254 - val_acc: 0.8758\n",
      "Epoch 16/20\n",
      "25000/25000 [==============================] - 11s 423us/sample - loss: 0.0537 - acc: 0.9930 - val_loss: 0.8064 - val_acc: 0.8731\n",
      "Epoch 17/20\n",
      "25000/25000 [==============================] - 10s 419us/sample - loss: 1.0249e-04 - acc: 1.0000 - val_loss: 0.8297 - val_acc: 0.8761\n",
      "Epoch 18/20\n",
      "25000/25000 [==============================] - 11s 435us/sample - loss: 1.4483e-05 - acc: 1.0000 - val_loss: 0.9149 - val_acc: 0.8683\n",
      "Epoch 19/20\n",
      "25000/25000 [==============================] - 11s 440us/sample - loss: 5.7723e-06 - acc: 1.0000 - val_loss: 0.9486 - val_acc: 0.8772\n",
      "Epoch 20/20\n",
      "25000/25000 [==============================] - 11s 440us/sample - loss: 4.6828e-07 - acc: 1.0000 - val_loss: 1.0189 - val_acc: 0.8772\n"
     ]
    }
   ],
   "source": [
    "bigger_model_hist = bigger_model.fit(x_train, y_train,\n",
    "                                     epochs=20,\n",
    "                                     batch_size=512,\n",
    "                                     validation_data=(x_test, y_test))"
   ]
  },
  {
   "cell_type": "markdown",
   "metadata": {},
   "source": [
    "Here's how the bigger network fares compared to the reference one. The dots are the validation loss values of the bigger network, and the \n",
    "crosses are the initial network."
   ]
  },
  {
   "cell_type": "code",
   "execution_count": 12,
   "metadata": {},
   "outputs": [
    {
     "data": {
      "image/png": "[encoded data removed]",
      "text/plain": [
       "<Figure size 432x288 with 1 Axes>"
      ]
     },
     "metadata": {
      "needs_background": "light"
     },
     "output_type": "display_data"
    }
   ],
   "source": [
    "bigger_model_val_loss = bigger_model_hist.history['val_loss']\n",
    "\n",
    "plt.plot(epochs, original_val_loss, 'b+', label='Original model')\n",
    "plt.plot(epochs, bigger_model_val_loss, 'bo', label='Bigger model')\n",
    "plt.xlabel('Epochs')\n",
    "plt.ylabel('Validation loss')\n",
    "plt.legend()\n",
    "\n",
    "plt.show()"
   ]
  },
  {
   "cell_type": "markdown",
   "metadata": {},
   "source": [
    "\n",
    "The bigger network starts overfitting almost right away, after just one epoch, and overfits much more severely. Its validation loss is also \n",
    "more noisy.\n",
    "\n",
    "Meanwhile, here are the training losses for our two networks:"
   ]
  },
  {
   "cell_type": "code",
   "execution_count": 13,
   "metadata": {
    "scrolled": true
   },
   "outputs": [
    {
     "data": {
      "image/png": "[encoded data removed]",
      "text/plain": [
       "<Figure size 432x288 with 1 Axes>"
      ]
     },
     "metadata": {
      "needs_background": "light"
     },
     "output_type": "display_data"
    }
   ],
   "source": [
    "original_train_loss = original_hist.history['loss']\n",
    "bigger_model_train_loss = bigger_model_hist.history['loss']\n",
    "\n",
    "plt.plot(epochs, original_train_loss, 'b+', label='Original model')\n",
    "plt.plot(epochs, bigger_model_train_loss, 'bo', label='Bigger model')\n",
    "plt.xlabel('Epochs')\n",
    "plt.ylabel('Training loss')\n",
    "plt.legend()\n",
    "\n",
    "plt.show()"
   ]
  },
  {
   "cell_type": "markdown",
   "metadata": {},
   "source": [
    "As you can see, the bigger network gets its training loss near zero very quickly. The more capacity the network has, the quicker it will be \n",
    "able to model the training data (resulting in a low training loss), but the more susceptible it is to overfitting (resulting in a large \n",
    "difference between the training and validation loss)."
   ]
  },
  {
   "cell_type": "markdown",
   "metadata": {},
   "source": [
    "### 1.2 Adding weight regularization\n",
    "\n",
    "In Keras, weight regularization is added by passing _weight regularizer instances_ to layers as keyword arguments. Let's add L2 weight regularization to our movie review classification network:"
   ]
  },
  {
   "cell_type": "code",
   "execution_count": 14,
   "metadata": {},
   "outputs": [],
   "source": [
    "from tensorflow.keras import regularizers\n",
    "\n",
    "l2_model = models.Sequential()\n",
    "l2_model.add(layers.Dense(16, kernel_regularizer=regularizers.l2(0.001),\n",
    "                          activation='relu', input_shape=(10000,)))\n",
    "l2_model.add(layers.Dense(16, kernel_regularizer=regularizers.l2(0.001),\n",
    "                          activation='relu'))\n",
    "l2_model.add(layers.Dense(1, activation='sigmoid'))"
   ]
  },
  {
   "cell_type": "code",
   "execution_count": 15,
   "metadata": {},
   "outputs": [],
   "source": [
    "l2_model.compile(optimizer='rmsprop',\n",
    "                 loss='binary_crossentropy',\n",
    "                 metrics=['acc'])"
   ]
  },
  {
   "cell_type": "markdown",
   "metadata": {},
   "source": [
    "`l2(0.001)` means that every coefficient in the weight matrix of the layer will add `0.001 * weight_coefficient_value` to the total loss of the network. \n",
    "\n",
    "Here's the impact of our L2 regularization penalty:"
   ]
  },
  {
   "cell_type": "code",
   "execution_count": 16,
   "metadata": {},
   "outputs": [
    {
     "name": "stdout",
     "output_type": "stream",
     "text": [
      "Train on 25000 samples, validate on 25000 samples\n",
      "Epoch 1/20\n",
      "25000/25000 [==============================] - 3s 135us/sample - loss: 0.4821 - acc: 0.8264 - val_loss: 0.3925 - val_acc: 0.8626\n",
      "Epoch 2/20\n",
      "25000/25000 [==============================] - 3s 125us/sample - loss: 0.3127 - acc: 0.9049 - val_loss: 0.3330 - val_acc: 0.8897\n",
      "Epoch 3/20\n",
      "25000/25000 [==============================] - 3s 126us/sample - loss: 0.2701 - acc: 0.9203 - val_loss: 0.3486 - val_acc: 0.8802\n",
      "Epoch 4/20\n",
      "25000/25000 [==============================] - 3s 130us/sample - loss: 0.2498 - acc: 0.9298 - val_loss: 0.3376 - val_acc: 0.8860\n",
      "Epoch 5/20\n",
      "25000/25000 [==============================] - 3s 128us/sample - loss: 0.2419 - acc: 0.9313 - val_loss: 0.3572 - val_acc: 0.8796\n",
      "Epoch 6/20\n",
      "25000/25000 [==============================] - 3s 126us/sample - loss: 0.2294 - acc: 0.9378 - val_loss: 0.4170 - val_acc: 0.8572\n",
      "Epoch 7/20\n",
      "25000/25000 [==============================] - 3s 125us/sample - loss: 0.2262 - acc: 0.9382 - val_loss: 0.3829 - val_acc: 0.8736\n",
      "Epoch 8/20\n",
      "25000/25000 [==============================] - 3s 125us/sample - loss: 0.2224 - acc: 0.9385 - val_loss: 0.3991 - val_acc: 0.8662\n",
      "Epoch 9/20\n",
      "25000/25000 [==============================] - 3s 130us/sample - loss: 0.2176 - acc: 0.9421 - val_loss: 0.3711 - val_acc: 0.8767\n",
      "Epoch 10/20\n",
      "25000/25000 [==============================] - 3s 128us/sample - loss: 0.2157 - acc: 0.9423 - val_loss: 0.3842 - val_acc: 0.8734\n",
      "Epoch 11/20\n",
      "25000/25000 [==============================] - 3s 128us/sample - loss: 0.2127 - acc: 0.9433 - val_loss: 0.4164 - val_acc: 0.8659\n",
      "Epoch 12/20\n",
      "25000/25000 [==============================] - 3s 134us/sample - loss: 0.2083 - acc: 0.9440 - val_loss: 0.3876 - val_acc: 0.8735\n",
      "Epoch 13/20\n",
      "25000/25000 [==============================] - 3s 127us/sample - loss: 0.2043 - acc: 0.9473 - val_loss: 0.3928 - val_acc: 0.8729\n",
      "Epoch 14/20\n",
      "25000/25000 [==============================] - 3s 129us/sample - loss: 0.2044 - acc: 0.9466 - val_loss: 0.3956 - val_acc: 0.8738\n",
      "Epoch 15/20\n",
      "25000/25000 [==============================] - 3s 129us/sample - loss: 0.2049 - acc: 0.9456 - val_loss: 0.4276 - val_acc: 0.8644\n",
      "Epoch 16/20\n",
      "25000/25000 [==============================] - 3s 125us/sample - loss: 0.1998 - acc: 0.9480 - val_loss: 0.4073 - val_acc: 0.8719\n",
      "Epoch 17/20\n",
      "25000/25000 [==============================] - 3s 125us/sample - loss: 0.1978 - acc: 0.9475 - val_loss: 0.4692 - val_acc: 0.8590\n",
      "Epoch 18/20\n",
      "25000/25000 [==============================] - 3s 124us/sample - loss: 0.1973 - acc: 0.9480 - val_loss: 0.4191 - val_acc: 0.8691\n",
      "Epoch 19/20\n",
      "25000/25000 [==============================] - 3s 128us/sample - loss: 0.2011 - acc: 0.9462 - val_loss: 0.4171 - val_acc: 0.8705\n",
      "Epoch 20/20\n",
      "25000/25000 [==============================] - 3s 132us/sample - loss: 0.1934 - acc: 0.9500 - val_loss: 0.4252 - val_acc: 0.8672\n"
     ]
    }
   ],
   "source": [
    "l2_model_hist = l2_model.fit(x_train, y_train,\n",
    "                             epochs=20,\n",
    "                             batch_size=512,\n",
    "                             validation_data=(x_test, y_test))"
   ]
  },
  {
   "cell_type": "code",
   "execution_count": 17,
   "metadata": {},
   "outputs": [
    {
     "data": {
      "image/png": "[encoded data removed]",
      "text/plain": [
       "<Figure size 432x288 with 1 Axes>"
      ]
     },
     "metadata": {
      "needs_background": "light"
     },
     "output_type": "display_data"
    }
   ],
   "source": [
    "l2_model_val_loss = l2_model_hist.history['val_loss']\n",
    "\n",
    "plt.plot(epochs, original_val_loss, 'b+', label='Original model')\n",
    "plt.plot(epochs, l2_model_val_loss, 'bo', label='L2-regularized model')\n",
    "plt.xlabel('Epochs')\n",
    "plt.ylabel('Validation loss')\n",
    "plt.legend()\n",
    "\n",
    "plt.show()"
   ]
  },
  {
   "cell_type": "markdown",
   "metadata": {},
   "source": [
    "\n",
    "\n",
    "As you can see, the model with L2 regularization (dots) has become much more resistant to overfitting than the reference model (crosses), \n",
    "even though both models have the same number of parameters.\n",
    "\n",
    "As alternatives to L2 regularization, you could use one of the following Keras weight regularizers:"
   ]
  },
  {
   "cell_type": "code",
   "execution_count": 18,
   "metadata": {},
   "outputs": [
    {
     "data": {
      "text/plain": [
       "<tensorflow.python.keras.regularizers.L1L2 at 0x21a8d2a2648>"
      ]
     },
     "execution_count": 18,
     "metadata": {},
     "output_type": "execute_result"
    }
   ],
   "source": [
    "from tensorflow.keras import regularizers\n",
    "\n",
    "# L1 regularization\n",
    "regularizers.l1(0.001)\n",
    "\n",
    "# L1 and L2 regularization at the same time\n",
    "regularizers.l1_l2(l1=0.001, l2=0.001)"
   ]
  },
  {
   "cell_type": "markdown",
   "metadata": {},
   "source": [
    "### 1.3 Adding dropout\n",
    "\n",
    "In Keras you can introduce dropout in a network via the `Dropout` layer, which gets applied to the output of layer right before it. Let's add two `Dropout` layers in our IMDB network to see how well they do at reducing overfitting:"
   ]
  },
  {
   "cell_type": "code",
   "execution_count": 19,
   "metadata": {},
   "outputs": [
    {
     "name": "stdout",
     "output_type": "stream",
     "text": [
      "WARNING:tensorflow:From C:\\Users\\OldManSteve\\AppData\\Roaming\\Python\\Python37\\site-packages\\tensorflow\\python\\keras\\layers\\core.py:143: calling dropout (from tensorflow.python.ops.nn_ops) with keep_prob is deprecated and will be removed in a future version.\n",
      "Instructions for updating:\n",
      "Please use `rate` instead of `keep_prob`. Rate should be set to `rate = 1 - keep_prob`.\n"
     ]
    }
   ],
   "source": [
    "dpt_model = models.Sequential()\n",
    "dpt_model.add(layers.Dense(16, activation='relu', input_shape=(10000,)))\n",
    "dpt_model.add(layers.Dropout(0.5))\n",
    "dpt_model.add(layers.Dense(16, activation='relu'))\n",
    "dpt_model.add(layers.Dropout(0.5))\n",
    "dpt_model.add(layers.Dense(1, activation='sigmoid'))\n",
    "\n",
    "dpt_model.compile(optimizer='rmsprop',\n",
    "                  loss='binary_crossentropy',\n",
    "                  metrics=['acc'])"
   ]
  },
  {
   "cell_type": "code",
   "execution_count": 20,
   "metadata": {},
   "outputs": [
    {
     "name": "stdout",
     "output_type": "stream",
     "text": [
      "Train on 25000 samples, validate on 25000 samples\n",
      "Epoch 1/20\n",
      "25000/25000 [==============================] - 3s 135us/sample - loss: 0.6225 - acc: 0.6406 - val_loss: 0.4873 - val_acc: 0.8580\n",
      "Epoch 2/20\n",
      "25000/25000 [==============================] - 3s 123us/sample - loss: 0.4710 - acc: 0.7884 - val_loss: 0.3411 - val_acc: 0.8800\n",
      "Epoch 3/20\n",
      "25000/25000 [==============================] - 3s 124us/sample - loss: 0.3676 - acc: 0.8558 - val_loss: 0.3027 - val_acc: 0.8812\n",
      "Epoch 4/20\n",
      "25000/25000 [==============================] - 3s 130us/sample - loss: 0.3063 - acc: 0.8871 - val_loss: 0.2852 - val_acc: 0.8830\n",
      "Epoch 5/20\n",
      "25000/25000 [==============================] - 3s 129us/sample - loss: 0.2614 - acc: 0.9064 - val_loss: 0.2846 - val_acc: 0.8855\n",
      "Epoch 6/20\n",
      "25000/25000 [==============================] - 3s 125us/sample - loss: 0.2269 - acc: 0.9201 - val_loss: 0.2933 - val_acc: 0.8876\n",
      "Epoch 7/20\n",
      "25000/25000 [==============================] - 3s 124us/sample - loss: 0.2090 - acc: 0.9266 - val_loss: 0.2982 - val_acc: 0.8862\n",
      "Epoch 8/20\n",
      "25000/25000 [==============================] - 3s 124us/sample - loss: 0.1901 - acc: 0.9339 - val_loss: 0.3577 - val_acc: 0.8720\n",
      "Epoch 9/20\n",
      "25000/25000 [==============================] - 3s 131us/sample - loss: 0.1716 - acc: 0.9379 - val_loss: 0.3527 - val_acc: 0.8844\n",
      "Epoch 10/20\n",
      "25000/25000 [==============================] - 3s 129us/sample - loss: 0.1591 - acc: 0.9450 - val_loss: 0.3777 - val_acc: 0.8801\n",
      "Epoch 11/20\n",
      "25000/25000 [==============================] - 3s 125us/sample - loss: 0.1502 - acc: 0.9455 - val_loss: 0.3901 - val_acc: 0.8788\n",
      "Epoch 12/20\n",
      "25000/25000 [==============================] - 3s 130us/sample - loss: 0.1347 - acc: 0.9528 - val_loss: 0.4162 - val_acc: 0.8804\n",
      "Epoch 13/20\n",
      "25000/25000 [==============================] - 3s 130us/sample - loss: 0.1327 - acc: 0.9519 - val_loss: 0.4339 - val_acc: 0.8802\n",
      "Epoch 14/20\n",
      "25000/25000 [==============================] - 3s 132us/sample - loss: 0.1250 - acc: 0.9551 - val_loss: 0.4659 - val_acc: 0.8789\n",
      "Epoch 15/20\n",
      "25000/25000 [==============================] - 3s 128us/sample - loss: 0.1266 - acc: 0.9546 - val_loss: 0.4736 - val_acc: 0.8797\n",
      "Epoch 16/20\n",
      "25000/25000 [==============================] - 3s 125us/sample - loss: 0.1173 - acc: 0.9561 - val_loss: 0.4863 - val_acc: 0.8768\n",
      "Epoch 17/20\n",
      "25000/25000 [==============================] - 3s 124us/sample - loss: 0.1135 - acc: 0.9582 - val_loss: 0.5090 - val_acc: 0.8775\n",
      "Epoch 18/20\n",
      "25000/25000 [==============================] - 3s 125us/sample - loss: 0.1143 - acc: 0.9582 - val_loss: 0.5326 - val_acc: 0.8771\n",
      "Epoch 19/20\n",
      "25000/25000 [==============================] - 3s 130us/sample - loss: 0.1115 - acc: 0.9598 - val_loss: 0.5489 - val_acc: 0.8764\n",
      "Epoch 20/20\n",
      "25000/25000 [==============================] - 3s 129us/sample - loss: 0.1087 - acc: 0.9602 - val_loss: 0.5524 - val_acc: 0.8695\n"
     ]
    }
   ],
   "source": [
    "dpt_model_hist = dpt_model.fit(x_train, y_train,\n",
    "                               epochs=20,\n",
    "                               batch_size=512,\n",
    "                               validation_data=(x_test, y_test))"
   ]
  },
  {
   "cell_type": "markdown",
   "metadata": {},
   "source": [
    "Let's plot the results:"
   ]
  },
  {
   "cell_type": "code",
   "execution_count": 21,
   "metadata": {},
   "outputs": [
    {
     "data": {
      "image/png": "[encoded data removed]",
      "text/plain": [
       "<Figure size 432x288 with 1 Axes>"
      ]
     },
     "metadata": {
      "needs_background": "light"
     },
     "output_type": "display_data"
    }
   ],
   "source": [
    "dpt_model_val_loss = dpt_model_hist.history['val_loss']\n",
    "\n",
    "plt.plot(epochs, original_val_loss, 'b+', label='Original model')\n",
    "plt.plot(epochs, dpt_model_val_loss, 'bo', label='Dropout-regularized model')\n",
    "plt.xlabel('Epochs')\n",
    "plt.ylabel('Validation loss')\n",
    "plt.legend()\n",
    "\n",
    "plt.show()"
   ]
  },
  {
   "cell_type": "markdown",
   "metadata": {},
   "source": [
    "\n",
    "Again, a clear improvement over the reference network.\n",
    "\n",
    "To recap: here the most common ways to prevent overfitting in neural networks:\n",
    "\n",
    "* Getting more training data.\n",
    "* Reducing the capacity of the network.\n",
    "* Adding weight regularization.\n",
    "* Adding dropout."
   ]
  },
  {
   "cell_type": "markdown",
   "metadata": {},
   "source": [
    "## 2. Exercise <a id='exc' />\n",
    "Please develop your own model for IMDB review classification problem following \"The Universal Workflow of Machine Learning\" and try to maximize the validation accuracy. When you are regularizing the model you can utilize the below tecniques:\n",
    "* Add dropout\n",
    "* Try different architectures: add or remove layers, increase or decrease the number of units per layer\n",
    "* Add L1 and / or L2 regularization\n",
    "* Adjust the hyperparameters, e.g. the learning rate of the optimizer, the number of epochs, batch_size and etc.\n",
    "\n",
    "Provide your codes and comments in the below boxes."
   ]
  },
  {
   "cell_type": "code",
   "execution_count": 9,
   "metadata": {},
   "outputs": [
    {
     "name": "stdout",
     "output_type": "stream",
     "text": [
      "WARNING:tensorflow:From C:\\Users\\OldManSteve\\AppData\\Roaming\\Python\\Python37\\site-packages\\tensorflow\\python\\ops\\resource_variable_ops.py:435: colocate_with (from tensorflow.python.framework.ops) is deprecated and will be removed in a future version.\n",
      "Instructions for updating:\n",
      "Colocations handled automatically by placer.\n",
      "WARNING:tensorflow:From C:\\Users\\OldManSteve\\AppData\\Roaming\\Python\\Python37\\site-packages\\tensorflow\\python\\keras\\layers\\core.py:143: calling dropout (from tensorflow.python.ops.nn_ops) with keep_prob is deprecated and will be removed in a future version.\n",
      "Instructions for updating:\n",
      "Please use `rate` instead of `keep_prob`. Rate should be set to `rate = 1 - keep_prob`.\n",
      "_________________________________________________________________\n",
      "Layer (type)                 Output Shape              Param #   \n",
      "=================================================================\n",
      "dense (Dense)                (None, 8)                 80008     \n",
      "_________________________________________________________________\n",
      "dropout (Dropout)            (None, 8)                 0         \n",
      "_________________________________________________________________\n",
      "dense_1 (Dense)              (None, 8)                 72        \n",
      "_________________________________________________________________\n",
      "dropout_1 (Dropout)          (None, 8)                 0         \n",
      "_________________________________________________________________\n",
      "dense_2 (Dense)              (None, 1)                 9         \n",
      "=================================================================\n",
      "Total params: 80,089\n",
      "Trainable params: 80,089\n",
      "Non-trainable params: 0\n",
      "_________________________________________________________________\n"
     ]
    }
   ],
   "source": [
    "# Task 1: Build and Compile the model. \n",
    "# Remember to use the above mentioned regularization techniques\n",
    "from tensorflow.keras import models\n",
    "from tensorflow.keras import layers\n",
    "from tensorflow.keras import regularizers\n",
    "\n",
    "model = models.Sequential()\n",
    "model.add(layers.Dense(8, kernel_regularizer=regularizers.l2(0.001), activation='sigmoid', input_shape=(10000,)))\n",
    "model.add(layers.Dropout(0.25))\n",
    "model.add(layers.Dense(8, kernel_regularizer=regularizers.l2(0.001), activation='sigmoid'))\n",
    "model.add(layers.Dropout(0.25))\n",
    "model.add(layers.Dense(1, activation='sigmoid'))\n",
    "\n",
    "model.compile(optimizer='rmsprop',\n",
    "                       loss='binary_crossentropy',\n",
    "                       metrics=['acc'])\n",
    "\n",
    "model.summary()"
   ]
  },
  {
   "cell_type": "code",
   "execution_count": 10,
   "metadata": {
    "scrolled": true
   },
   "outputs": [
    {
     "name": "stdout",
     "output_type": "stream",
     "text": [
      "Train on 25000 samples, validate on 25000 samples\n",
      "WARNING:tensorflow:From C:\\Users\\OldManSteve\\AppData\\Roaming\\Python\\Python37\\site-packages\\tensorflow\\python\\ops\\math_ops.py:3066: to_int32 (from tensorflow.python.ops.math_ops) is deprecated and will be removed in a future version.\n",
      "Instructions for updating:\n",
      "Use tf.cast instead.\n",
      "Epoch 1/60\n",
      "25000/25000 [==============================] - 4s 149us/sample - loss: 0.8581 - acc: 0.4995 - val_loss: 0.7793 - val_acc: 0.5000\n",
      "Epoch 2/60\n",
      "25000/25000 [==============================] - 3s 132us/sample - loss: 0.7645 - acc: 0.5040 - val_loss: 0.7210 - val_acc: 0.5000\n",
      "Epoch 3/60\n",
      "25000/25000 [==============================] - 3s 125us/sample - loss: 0.7171 - acc: 0.5280 - val_loss: 0.6861 - val_acc: 0.5000\n",
      "Epoch 4/60\n",
      "25000/25000 [==============================] - 3s 125us/sample - loss: 0.6846 - acc: 0.6006 - val_loss: 0.6550 - val_acc: 0.7051\n",
      "Epoch 5/60\n",
      "25000/25000 [==============================] - 3s 125us/sample - loss: 0.6570 - acc: 0.6539 - val_loss: 0.6272 - val_acc: 0.8420\n",
      "Epoch 6/60\n",
      "25000/25000 [==============================] - 3s 123us/sample - loss: 0.6341 - acc: 0.6904 - val_loss: 0.5999 - val_acc: 0.8471\n",
      "Epoch 7/60\n",
      "25000/25000 [==============================] - 3s 122us/sample - loss: 0.6116 - acc: 0.7220 - val_loss: 0.5737 - val_acc: 0.8510\n",
      "Epoch 8/60\n",
      "25000/25000 [==============================] - 3s 122us/sample - loss: 0.5882 - acc: 0.7504 - val_loss: 0.5490 - val_acc: 0.8524\n",
      "Epoch 9/60\n",
      "25000/25000 [==============================] - 3s 130us/sample - loss: 0.5694 - acc: 0.7672 - val_loss: 0.5253 - val_acc: 0.8582\n",
      "Epoch 10/60\n",
      "25000/25000 [==============================] - 3s 128us/sample - loss: 0.5530 - acc: 0.7814 - val_loss: 0.5047 - val_acc: 0.8620\n",
      "Epoch 11/60\n",
      "25000/25000 [==============================] - 3s 122us/sample - loss: 0.5332 - acc: 0.7971 - val_loss: 0.4869 - val_acc: 0.8642\n",
      "Epoch 12/60\n",
      "25000/25000 [==============================] - 3s 124us/sample - loss: 0.5234 - acc: 0.8020 - val_loss: 0.4724 - val_acc: 0.8670\n",
      "Epoch 13/60\n",
      "25000/25000 [==============================] - 3s 120us/sample - loss: 0.5093 - acc: 0.8126 - val_loss: 0.4592 - val_acc: 0.8692\n",
      "Epoch 14/60\n",
      "25000/25000 [==============================] - 3s 121us/sample - loss: 0.4990 - acc: 0.8215 - val_loss: 0.4498 - val_acc: 0.8703\n",
      "Epoch 15/60\n",
      "25000/25000 [==============================] - 3s 121us/sample - loss: 0.4929 - acc: 0.8266 - val_loss: 0.4434 - val_acc: 0.8692\n",
      "Epoch 16/60\n",
      "25000/25000 [==============================] - 3s 124us/sample - loss: 0.4853 - acc: 0.8310 - val_loss: 0.4364 - val_acc: 0.8725\n",
      "Epoch 17/60\n",
      "25000/25000 [==============================] - 3s 121us/sample - loss: 0.4777 - acc: 0.8331 - val_loss: 0.4300 - val_acc: 0.8735\n",
      "Epoch 18/60\n",
      "25000/25000 [==============================] - 3s 122us/sample - loss: 0.4750 - acc: 0.8366 - val_loss: 0.4269 - val_acc: 0.8741\n",
      "Epoch 19/60\n",
      "25000/25000 [==============================] - 3s 122us/sample - loss: 0.4732 - acc: 0.8360 - val_loss: 0.4234 - val_acc: 0.8751\n",
      "Epoch 20/60\n",
      "25000/25000 [==============================] - 3s 122us/sample - loss: 0.4700 - acc: 0.8397 - val_loss: 0.4211 - val_acc: 0.8758\n",
      "Epoch 21/60\n",
      "25000/25000 [==============================] - 3s 125us/sample - loss: 0.4620 - acc: 0.8468 - val_loss: 0.4235 - val_acc: 0.8742\n",
      "Epoch 22/60\n",
      "25000/25000 [==============================] - 3s 121us/sample - loss: 0.4608 - acc: 0.8453 - val_loss: 0.4168 - val_acc: 0.8755\n",
      "Epoch 23/60\n",
      "25000/25000 [==============================] - 3s 122us/sample - loss: 0.4596 - acc: 0.8470 - val_loss: 0.4157 - val_acc: 0.8767\n",
      "Epoch 24/60\n",
      "25000/25000 [==============================] - 3s 122us/sample - loss: 0.4623 - acc: 0.8455 - val_loss: 0.4162 - val_acc: 0.8758\n",
      "Epoch 25/60\n",
      "25000/25000 [==============================] - 3s 127us/sample - loss: 0.4552 - acc: 0.8514 - val_loss: 0.4120 - val_acc: 0.8789\n",
      "Epoch 26/60\n",
      "25000/25000 [==============================] - 3s 127us/sample - loss: 0.4570 - acc: 0.8470 - val_loss: 0.4111 - val_acc: 0.8796\n",
      "Epoch 27/60\n",
      "25000/25000 [==============================] - 3s 125us/sample - loss: 0.4538 - acc: 0.8496 - val_loss: 0.4098 - val_acc: 0.8791\n",
      "Epoch 28/60\n",
      "25000/25000 [==============================] - 3s 126us/sample - loss: 0.4503 - acc: 0.8521 - val_loss: 0.4086 - val_acc: 0.8780\n",
      "Epoch 29/60\n",
      "25000/25000 [==============================] - 3s 122us/sample - loss: 0.4516 - acc: 0.8522 - val_loss: 0.4083 - val_acc: 0.8803\n",
      "Epoch 30/60\n",
      "25000/25000 [==============================] - 3s 122us/sample - loss: 0.4497 - acc: 0.8530 - val_loss: 0.4098 - val_acc: 0.8768\n",
      "Epoch 31/60\n",
      "25000/25000 [==============================] - 3s 124us/sample - loss: 0.4494 - acc: 0.8520 - val_loss: 0.4060 - val_acc: 0.8802\n",
      "Epoch 32/60\n",
      "25000/25000 [==============================] - 3s 125us/sample - loss: 0.4444 - acc: 0.8548 - val_loss: 0.4056 - val_acc: 0.8808\n",
      "Epoch 33/60\n",
      "25000/25000 [==============================] - 3s 126us/sample - loss: 0.4482 - acc: 0.8537 - val_loss: 0.4069 - val_acc: 0.8798\n",
      "Epoch 34/60\n",
      "25000/25000 [==============================] - 3s 130us/sample - loss: 0.4401 - acc: 0.8559 - val_loss: 0.4035 - val_acc: 0.8800\n",
      "Epoch 35/60\n",
      "25000/25000 [==============================] - 3s 124us/sample - loss: 0.4431 - acc: 0.8544 - val_loss: 0.4039 - val_acc: 0.8796\n",
      "Epoch 36/60\n",
      "25000/25000 [==============================] - 3s 127us/sample - loss: 0.4472 - acc: 0.8531 - val_loss: 0.4034 - val_acc: 0.8800\n",
      "Epoch 37/60\n",
      "25000/25000 [==============================] - 3s 129us/sample - loss: 0.4437 - acc: 0.8537 - val_loss: 0.4063 - val_acc: 0.8776\n",
      "Epoch 38/60\n",
      "25000/25000 [==============================] - 3s 128us/sample - loss: 0.4416 - acc: 0.8558 - val_loss: 0.4027 - val_acc: 0.8806\n",
      "Epoch 39/60\n",
      "25000/25000 [==============================] - 3s 128us/sample - loss: 0.4469 - acc: 0.8530 - val_loss: 0.4032 - val_acc: 0.8806\n",
      "Epoch 40/60\n",
      "25000/25000 [==============================] - 3s 129us/sample - loss: 0.4458 - acc: 0.8533 - val_loss: 0.4025 - val_acc: 0.8807\n",
      "Epoch 41/60\n",
      "25000/25000 [==============================] - 3s 123us/sample - loss: 0.4423 - acc: 0.8534 - val_loss: 0.4017 - val_acc: 0.8811\n",
      "Epoch 42/60\n",
      "25000/25000 [==============================] - 3s 127us/sample - loss: 0.4407 - acc: 0.8561 - val_loss: 0.4012 - val_acc: 0.8812\n",
      "Epoch 43/60\n",
      "25000/25000 [==============================] - 3s 128us/sample - loss: 0.4414 - acc: 0.8542 - val_loss: 0.4009 - val_acc: 0.8808\n",
      "Epoch 44/60\n",
      "25000/25000 [==============================] - 3s 123us/sample - loss: 0.4399 - acc: 0.8554 - val_loss: 0.4026 - val_acc: 0.8799\n",
      "Epoch 45/60\n",
      "25000/25000 [==============================] - 3s 124us/sample - loss: 0.4370 - acc: 0.8563 - val_loss: 0.4001 - val_acc: 0.8806\n",
      "Epoch 46/60\n",
      "25000/25000 [==============================] - 3s 133us/sample - loss: 0.4402 - acc: 0.8584 - val_loss: 0.3997 - val_acc: 0.8808\n",
      "Epoch 47/60\n",
      "25000/25000 [==============================] - 3s 131us/sample - loss: 0.4399 - acc: 0.8557 - val_loss: 0.4005 - val_acc: 0.8806\n",
      "Epoch 48/60\n",
      "25000/25000 [==============================] - 3s 126us/sample - loss: 0.4323 - acc: 0.8612 - val_loss: 0.3999 - val_acc: 0.8798\n",
      "Epoch 49/60\n",
      "25000/25000 [==============================] - 3s 122us/sample - loss: 0.4414 - acc: 0.8553 - val_loss: 0.4009 - val_acc: 0.8789\n",
      "Epoch 50/60\n",
      "25000/25000 [==============================] - 3s 122us/sample - loss: 0.4406 - acc: 0.8554 - val_loss: 0.3999 - val_acc: 0.8805\n",
      "Epoch 51/60\n",
      "25000/25000 [==============================] - 3s 123us/sample - loss: 0.4370 - acc: 0.8561 - val_loss: 0.4014 - val_acc: 0.8780\n",
      "Epoch 52/60\n",
      "25000/25000 [==============================] - 3s 128us/sample - loss: 0.4385 - acc: 0.8578 - val_loss: 0.3992 - val_acc: 0.8802\n",
      "Epoch 53/60\n",
      "25000/25000 [==============================] - 3s 127us/sample - loss: 0.4347 - acc: 0.8563 - val_loss: 0.3978 - val_acc: 0.8807\n",
      "Epoch 54/60\n",
      "25000/25000 [==============================] - 3s 122us/sample - loss: 0.4349 - acc: 0.8602 - val_loss: 0.3998 - val_acc: 0.8794\n",
      "Epoch 55/60\n",
      "25000/25000 [==============================] - 3s 122us/sample - loss: 0.4343 - acc: 0.8578 - val_loss: 0.3976 - val_acc: 0.8822\n",
      "Epoch 56/60\n",
      "25000/25000 [==============================] - 3s 121us/sample - loss: 0.4371 - acc: 0.8555 - val_loss: 0.3977 - val_acc: 0.8814\n"
     ]
    },
    {
     "name": "stdout",
     "output_type": "stream",
     "text": [
      "Epoch 57/60\n",
      "25000/25000 [==============================] - 3s 129us/sample - loss: 0.4320 - acc: 0.8590 - val_loss: 0.3970 - val_acc: 0.8816\n",
      "Epoch 58/60\n",
      "25000/25000 [==============================] - 3s 127us/sample - loss: 0.4331 - acc: 0.8604 - val_loss: 0.3968 - val_acc: 0.8810\n",
      "Epoch 59/60\n",
      "25000/25000 [==============================] - 3s 123us/sample - loss: 0.4326 - acc: 0.8596 - val_loss: 0.3969 - val_acc: 0.8820\n",
      "Epoch 60/60\n",
      "25000/25000 [==============================] - 3s 123us/sample - loss: 0.4306 - acc: 0.8597 - val_loss: 0.3977 - val_acc: 0.8802\n"
     ]
    }
   ],
   "source": [
    "# Task 2: Compile and Fit the model\n",
    "# You can adjust the number of epochs, the batch size, the learning rate of the optimizer and etc.\n",
    "hist = model.fit(x_train, y_train,\n",
    "                 epochs=60,\n",
    "                 batch_size=512,\n",
    "                 validation_data=(x_test, y_test))"
   ]
  },
  {
   "cell_type": "code",
   "execution_count": 11,
   "metadata": {},
   "outputs": [
    {
     "name": "stdout",
     "output_type": "stream",
     "text": [
      "Train on 25000 samples, validate on 25000 samples\n",
      "Epoch 1/60\n",
      "25000/25000 [==============================] - 3s 132us/sample - loss: 0.6042 - acc: 0.6921 - val_loss: 0.4785 - val_acc: 0.8476\n",
      "Epoch 2/60\n",
      "25000/25000 [==============================] - 3s 127us/sample - loss: 0.4698 - acc: 0.8000 - val_loss: 0.3956 - val_acc: 0.8827\n",
      "Epoch 3/60\n",
      "25000/25000 [==============================] - 3s 127us/sample - loss: 0.4047 - acc: 0.8522 - val_loss: 0.3559 - val_acc: 0.8866\n",
      "Epoch 4/60\n",
      "25000/25000 [==============================] - 3s 123us/sample - loss: 0.3597 - acc: 0.8827 - val_loss: 0.3292 - val_acc: 0.8890\n",
      "Epoch 5/60\n",
      "25000/25000 [==============================] - 3s 123us/sample - loss: 0.3239 - acc: 0.9015 - val_loss: 0.3191 - val_acc: 0.8892\n",
      "Epoch 6/60\n",
      "25000/25000 [==============================] - 3s 125us/sample - loss: 0.2947 - acc: 0.9155 - val_loss: 0.3222 - val_acc: 0.8877\n",
      "Epoch 7/60\n",
      "25000/25000 [==============================] - 3s 136us/sample - loss: 0.2723 - acc: 0.9236 - val_loss: 0.3330 - val_acc: 0.8862\n",
      "Epoch 8/60\n",
      "25000/25000 [==============================] - 3s 129us/sample - loss: 0.2534 - acc: 0.9320 - val_loss: 0.3414 - val_acc: 0.8799\n",
      "Epoch 9/60\n",
      "25000/25000 [==============================] - 3s 123us/sample - loss: 0.2422 - acc: 0.9363 - val_loss: 0.3451 - val_acc: 0.8842\n",
      "Epoch 10/60\n",
      "25000/25000 [==============================] - 3s 122us/sample - loss: 0.2343 - acc: 0.9387 - val_loss: 0.3479 - val_acc: 0.8816\n",
      "Epoch 11/60\n",
      "25000/25000 [==============================] - 3s 122us/sample - loss: 0.2222 - acc: 0.9418 - val_loss: 0.3869 - val_acc: 0.8738\n",
      "Epoch 12/60\n",
      "25000/25000 [==============================] - 3s 128us/sample - loss: 0.2144 - acc: 0.9459 - val_loss: 0.3765 - val_acc: 0.8794\n",
      "Epoch 13/60\n",
      "25000/25000 [==============================] - 3s 127us/sample - loss: 0.2081 - acc: 0.9485 - val_loss: 0.3910 - val_acc: 0.8760\n",
      "Epoch 14/60\n",
      "25000/25000 [==============================] - 3s 127us/sample - loss: 0.2009 - acc: 0.9516 - val_loss: 0.3941 - val_acc: 0.8775\n",
      "Epoch 15/60\n",
      "25000/25000 [==============================] - 3s 125us/sample - loss: 0.2003 - acc: 0.9508 - val_loss: 0.3997 - val_acc: 0.8780\n",
      "Epoch 16/60\n",
      "25000/25000 [==============================] - 3s 125us/sample - loss: 0.1936 - acc: 0.9530 - val_loss: 0.3968 - val_acc: 0.8763\n",
      "Epoch 17/60\n",
      "25000/25000 [==============================] - 3s 129us/sample - loss: 0.1862 - acc: 0.9562 - val_loss: 0.4211 - val_acc: 0.8744\n",
      "Epoch 18/60\n",
      "25000/25000 [==============================] - 3s 127us/sample - loss: 0.1856 - acc: 0.9556 - val_loss: 0.4231 - val_acc: 0.8738\n",
      "Epoch 19/60\n",
      "25000/25000 [==============================] - 3s 124us/sample - loss: 0.1860 - acc: 0.9552 - val_loss: 0.4293 - val_acc: 0.8742\n",
      "Epoch 20/60\n",
      "25000/25000 [==============================] - 3s 123us/sample - loss: 0.1803 - acc: 0.9558 - val_loss: 0.4264 - val_acc: 0.8739\n",
      "Epoch 21/60\n",
      "25000/25000 [==============================] - 3s 122us/sample - loss: 0.1768 - acc: 0.9592 - val_loss: 0.4657 - val_acc: 0.8593\n",
      "Epoch 22/60\n",
      "25000/25000 [==============================] - 3s 128us/sample - loss: 0.1808 - acc: 0.9574 - val_loss: 0.4397 - val_acc: 0.8747\n",
      "Epoch 23/60\n",
      "25000/25000 [==============================] - 3s 128us/sample - loss: 0.1699 - acc: 0.9608 - val_loss: 0.4527 - val_acc: 0.8696\n",
      "Epoch 24/60\n",
      "25000/25000 [==============================] - 3s 125us/sample - loss: 0.1731 - acc: 0.9584 - val_loss: 0.4511 - val_acc: 0.8746\n",
      "Epoch 25/60\n",
      "25000/25000 [==============================] - 3s 126us/sample - loss: 0.1683 - acc: 0.9604 - val_loss: 0.4444 - val_acc: 0.8725\n",
      "Epoch 26/60\n",
      "25000/25000 [==============================] - 3s 128us/sample - loss: 0.1693 - acc: 0.9604 - val_loss: 0.4653 - val_acc: 0.8713\n",
      "Epoch 27/60\n",
      "25000/25000 [==============================] - 4s 147us/sample - loss: 0.1715 - acc: 0.9590 - val_loss: 0.4667 - val_acc: 0.8698\n",
      "Epoch 28/60\n",
      "25000/25000 [==============================] - 4s 142us/sample - loss: 0.1657 - acc: 0.9623 - val_loss: 0.4937 - val_acc: 0.8650\n",
      "Epoch 29/60\n",
      "25000/25000 [==============================] - 3s 125us/sample - loss: 0.1702 - acc: 0.9590 - val_loss: 0.4781 - val_acc: 0.8720\n",
      "Epoch 30/60\n",
      "25000/25000 [==============================] - 3s 127us/sample - loss: 0.1669 - acc: 0.9620 - val_loss: 0.5173 - val_acc: 0.8584\n",
      "Epoch 31/60\n",
      "25000/25000 [==============================] - 3s 124us/sample - loss: 0.1664 - acc: 0.9612 - val_loss: 0.4831 - val_acc: 0.8712\n",
      "Epoch 32/60\n",
      "25000/25000 [==============================] - 3s 129us/sample - loss: 0.1662 - acc: 0.9614 - val_loss: 0.4868 - val_acc: 0.8734\n",
      "Epoch 33/60\n",
      "25000/25000 [==============================] - 3s 127us/sample - loss: 0.1634 - acc: 0.9618 - val_loss: 0.4819 - val_acc: 0.8717\n",
      "Epoch 34/60\n",
      "25000/25000 [==============================] - 3s 125us/sample - loss: 0.1661 - acc: 0.9621 - val_loss: 0.4866 - val_acc: 0.8697\n",
      "Epoch 35/60\n",
      "25000/25000 [==============================] - 3s 123us/sample - loss: 0.1637 - acc: 0.9619 - val_loss: 0.5033 - val_acc: 0.8699\n",
      "Epoch 36/60\n",
      "25000/25000 [==============================] - 3s 123us/sample - loss: 0.1613 - acc: 0.9618 - val_loss: 0.4945 - val_acc: 0.8703\n",
      "Epoch 37/60\n",
      "25000/25000 [==============================] - 3s 131us/sample - loss: 0.1643 - acc: 0.9604 - val_loss: 0.4951 - val_acc: 0.8699\n",
      "Epoch 38/60\n",
      "25000/25000 [==============================] - 4s 149us/sample - loss: 0.1605 - acc: 0.9617 - val_loss: 0.4991 - val_acc: 0.8732\n",
      "Epoch 39/60\n",
      "25000/25000 [==============================] - 3s 135us/sample - loss: 0.1645 - acc: 0.9604 - val_loss: 0.4969 - val_acc: 0.8716\n",
      "Epoch 40/60\n",
      "25000/25000 [==============================] - 3s 124us/sample - loss: 0.1629 - acc: 0.9616 - val_loss: 0.4923 - val_acc: 0.8690\n",
      "Epoch 41/60\n",
      "25000/25000 [==============================] - 3s 123us/sample - loss: 0.1633 - acc: 0.9608 - val_loss: 0.4990 - val_acc: 0.8715\n",
      "Epoch 42/60\n",
      "25000/25000 [==============================] - 3s 129us/sample - loss: 0.1636 - acc: 0.9614 - val_loss: 0.5201 - val_acc: 0.8702\n",
      "Epoch 43/60\n",
      "25000/25000 [==============================] - 3s 128us/sample - loss: 0.1613 - acc: 0.9630 - val_loss: 0.5151 - val_acc: 0.8671\n",
      "Epoch 44/60\n",
      "25000/25000 [==============================] - 3s 129us/sample - loss: 0.1633 - acc: 0.9616 - val_loss: 0.5044 - val_acc: 0.8733\n",
      "Epoch 45/60\n",
      "25000/25000 [==============================] - 3s 128us/sample - loss: 0.1580 - acc: 0.9618 - val_loss: 0.4973 - val_acc: 0.8726\n",
      "Epoch 46/60\n",
      "25000/25000 [==============================] - 3s 123us/sample - loss: 0.1628 - acc: 0.9610 - val_loss: 0.5047 - val_acc: 0.8705\n",
      "Epoch 47/60\n",
      "25000/25000 [==============================] - 3s 136us/sample - loss: 0.1625 - acc: 0.9611 - val_loss: 0.5055 - val_acc: 0.8714\n",
      "Epoch 48/60\n",
      "25000/25000 [==============================] - 3s 138us/sample - loss: 0.1619 - acc: 0.9606 - val_loss: 0.5190 - val_acc: 0.8679\n",
      "Epoch 49/60\n",
      "25000/25000 [==============================] - 3s 127us/sample - loss: 0.1629 - acc: 0.9613 - val_loss: 0.5142 - val_acc: 0.8670\n",
      "Epoch 50/60\n",
      "25000/25000 [==============================] - 3s 124us/sample - loss: 0.1577 - acc: 0.9631 - val_loss: 0.5487 - val_acc: 0.8616\n",
      "Epoch 51/60\n",
      "25000/25000 [==============================] - 3s 125us/sample - loss: 0.1616 - acc: 0.9628 - val_loss: 0.5171 - val_acc: 0.8679\n",
      "Epoch 52/60\n",
      "25000/25000 [==============================] - 3s 129us/sample - loss: 0.1616 - acc: 0.9609 - val_loss: 0.5284 - val_acc: 0.8691\n",
      "Epoch 53/60\n",
      "25000/25000 [==============================] - 3s 132us/sample - loss: 0.1592 - acc: 0.9625 - val_loss: 0.5510 - val_acc: 0.8555\n",
      "Epoch 54/60\n",
      "25000/25000 [==============================] - 3s 124us/sample - loss: 0.1633 - acc: 0.9601 - val_loss: 0.5121 - val_acc: 0.8658\n",
      "Epoch 55/60\n",
      "25000/25000 [==============================] - 3s 124us/sample - loss: 0.1632 - acc: 0.9609 - val_loss: 0.5272 - val_acc: 0.8670\n",
      "Epoch 56/60\n",
      "25000/25000 [==============================] - 3s 125us/sample - loss: 0.1612 - acc: 0.9609 - val_loss: 0.5297 - val_acc: 0.8703\n",
      "Epoch 57/60\n",
      "25000/25000 [==============================] - 3s 130us/sample - loss: 0.1631 - acc: 0.9610 - val_loss: 0.5128 - val_acc: 0.8646\n",
      "Epoch 58/60\n",
      "25000/25000 [==============================] - 3s 128us/sample - loss: 0.1624 - acc: 0.9605 - val_loss: 0.5457 - val_acc: 0.8652\n"
     ]
    },
    {
     "name": "stdout",
     "output_type": "stream",
     "text": [
      "Epoch 59/60\n",
      "25000/25000 [==============================] - 3s 124us/sample - loss: 0.1617 - acc: 0.9607 - val_loss: 0.5278 - val_acc: 0.8697\n",
      "Epoch 60/60\n",
      "25000/25000 [==============================] - 3s 123us/sample - loss: 0.1593 - acc: 0.9626 - val_loss: 0.5293 - val_acc: 0.8695\n"
     ]
    },
    {
     "data": {
      "image/png": "[encoded data removed]",
      "text/plain": [
       "<Figure size 432x288 with 1 Axes>"
      ]
     },
     "metadata": {
      "needs_background": "light"
     },
     "output_type": "display_data"
    },
    {
     "data": {
      "image/png": "[encoded data removed]",
      "text/plain": [
       "<Figure size 432x288 with 1 Axes>"
      ]
     },
     "metadata": {
      "needs_background": "light"
     },
     "output_type": "display_data"
    },
    {
     "data": {
      "image/png": "[encoded data removed]",
      "text/plain": [
       "<Figure size 432x288 with 1 Axes>"
      ]
     },
     "metadata": {
      "needs_background": "light"
     },
     "output_type": "display_data"
    },
    {
     "data": {
      "image/png": "[encoded data removed]",
      "text/plain": [
       "<Figure size 432x288 with 1 Axes>"
      ]
     },
     "metadata": {
      "needs_background": "light"
     },
     "output_type": "display_data"
    }
   ],
   "source": [
    "#RANDOM MUCH\n",
    "#edit to experiment and compare\n",
    "model2 = models.Sequential()\n",
    "model2.add(layers.Dense(8, kernel_regularizer=regularizers.l2(0.001), activation='relu', input_shape=(10000,)))\n",
    "model2.add(layers.Dropout(0.25))\n",
    "model2.add(layers.Dense(8, kernel_regularizer=regularizers.l2(0.001), activation='relu'))\n",
    "model2.add(layers.Dropout(0.25))\n",
    "model2.add(layers.Dense(1, activation='sigmoid'))\n",
    "\n",
    "model2.compile(optimizer='rmsprop',\n",
    "                      loss='binary_crossentropy',\n",
    "                      metrics=['acc'])\n",
    "\n",
    "model2_hist = model2.fit(x_train, y_train,\n",
    "                         epochs=60,\n",
    "                         batch_size=512,\n",
    "                         validation_data=(x_test, y_test))\n",
    "\n",
    "\n",
    "#compares if another model overfits slower or faster\n",
    "original_val_loss = hist.history['val_loss']\n",
    "model2_val_loss = model2_hist.history['val_loss']\n",
    "import matplotlib.pyplot as plt\n",
    "%matplotlib inline\n",
    "epochs = range(1, 61)\n",
    "# b+ is for \"blue cross\"\n",
    "plt.plot(epochs, original_val_loss, 'b+', label='Original model')\n",
    "# \"bo\" is for \"blue dot\"\n",
    "plt.plot(epochs, model2_val_loss, 'bo', label='Model 2')\n",
    "plt.xlabel('Epochs')\n",
    "plt.ylabel('Validation loss')\n",
    "plt.legend()\n",
    "\n",
    "plt.show()\n",
    "#compares training loss. if reach near 0 quickly, means learnt faster but less expossure to learning process.\n",
    "original_train_loss = hist.history['loss']\n",
    "model2_train_loss = model2_hist.history['loss']\n",
    "\n",
    "plt.plot(epochs, original_train_loss, 'b+', label='Original model')\n",
    "plt.plot(epochs, model2_train_loss, 'bo', label='Model 2')\n",
    "plt.xlabel('Epochs')\n",
    "plt.ylabel('Training loss')\n",
    "plt.legend()\n",
    "\n",
    "plt.show()\n",
    "\n",
    "\n",
    "#og and model 2\n",
    "loss = hist.history['loss']\n",
    "val_loss = hist.history['val_loss']\n",
    "plt.plot(epochs, loss, 'r', label='loss')\n",
    "plt.plot(epochs, val_loss, 'b', label='val_loss')\n",
    "plt.title('OG Training and validation')\n",
    "plt.xlabel('Epochs')\n",
    "plt.ylabel('Loss')\n",
    "plt.legend()\n",
    "plt.show()\n",
    "\n",
    "model2_loss = model2_hist.history['loss']\n",
    "model2_val_loss = model2_hist.history['val_loss']\n",
    "\n",
    "plt.plot(epochs, model2_loss, 'r', label='loss')\n",
    "plt.plot(epochs, model2_val_loss, 'b', label='val_loss')\n",
    "plt.title('Model2 Training and validation')\n",
    "plt.xlabel('Epochs')\n",
    "plt.ylabel('Loss')\n",
    "plt.legend()\n",
    "plt.show()"
   ]
  },
  {
   "cell_type": "code",
   "execution_count": 12,
   "metadata": {},
   "outputs": [
    {
     "data": {
      "image/png": "[encoded data removed]",
      "text/plain": [
       "<Figure size 432x288 with 1 Axes>"
      ]
     },
     "metadata": {
      "needs_background": "light"
     },
     "output_type": "display_data"
    }
   ],
   "source": [
    "# Task 3: Plot the training and validation accuracy\n",
    "import matplotlib.pyplot as plt\n",
    "%matplotlib inline\n",
    "loss = hist.history['loss']\n",
    "val_loss = hist.history['val_loss']\n",
    "\n",
    "epochs = range(1, 61)\n",
    "\n",
    "plt.plot(epochs, loss, 'r', label='loss')\n",
    "plt.plot(epochs, val_loss, 'b', label='val_loss')\n",
    "plt.title('Training and validation')\n",
    "plt.xlabel('Epochs')\n",
    "plt.ylabel('Loss')\n",
    "plt.legend()\n",
    "plt.show()"
   ]
  },
  {
   "cell_type": "code",
   "execution_count": 26,
   "metadata": {},
   "outputs": [],
   "source": [
    "# Task 4: Comments\n",
    "# initially, model was 16 nodes, i shrinked it by half to 8 nodes which seemed better after comparing validation loss and training loss.\n",
    "# added learning rate of 0.001, which produced a nicer training and validation accuracy graph. \n",
    "# added dropout of 0.25\n",
    "# experimented different combinations of learning rate and dropout.\n",
    "# researched that validation and training accuracy of approximately at least 0.4 was favourable.\n",
    "# changed epochs from 20 to 60.\n",
    "# good fit "
   ]
  }
 ],
 "metadata": {
  "kernelspec": {
   "display_name": "Python 3",
   "language": "python",
   "name": "python3"
  },
  "language_info": {
   "codemirror_mode": {
    "name": "ipython",
    "version": 3
   },
   "file_extension": ".py",
   "mimetype": "text/x-python",
   "name": "python",
   "nbconvert_exporter": "python",
   "pygments_lexer": "ipython3",
   "version": "3.7.4"
  }
 },
 "nbformat": 4,
 "nbformat_minor": 2
}
