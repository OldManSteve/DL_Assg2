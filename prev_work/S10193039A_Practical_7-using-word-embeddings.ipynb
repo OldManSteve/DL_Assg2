{
 "cells": [
  {
   "cell_type": "markdown",
   "metadata": {},
   "source": [
    "<table class=\"table table-bordered\">\n",
    "    <tr>\n",
    "        <th style=\"text-align:center; width:25%\"><img src='https://www.np.edu.sg/PublishingImages/Pages/default/odp/ICT.jpg' style=\"width: 250px; height: 125px; \"></th>\n",
    "        <th style=\"text-align:center;\"><h1>Deep Learning</h1><h2>Practical 7 - Using Word Embedding</h2><h3>AY2020/21 Semester</h3></th>\n",
    "    </tr>\n",
    "</table>"
   ]
  },
  {
   "cell_type": "code",
   "execution_count": 1,
   "metadata": {},
   "outputs": [
    {
     "name": "stdout",
     "output_type": "stream",
     "text": [
      "keras:  2.2.4-tf\n"
     ]
    }
   ],
   "source": [
    "from tensorflow import keras\n",
    "print('keras: ', keras.__version__)"
   ]
  },
  {
   "cell_type": "code",
   "execution_count": 2,
   "metadata": {},
   "outputs": [
    {
     "data": {
      "text/html": [
       "<style>.container { width:95% !important; }</style>"
      ],
      "text/plain": [
       "<IPython.core.display.HTML object>"
      ]
     },
     "metadata": {},
     "output_type": "display_data"
    }
   ],
   "source": [
    "from IPython.core.display import display, HTML\n",
    "display(HTML(\"<style>.container { width:95% !important; }</style>\"))\n"
   ]
  },
  {
   "cell_type": "markdown",
   "metadata": {},
   "source": [
    "## Objectives\n",
    "After completing this practical exercise, students should be able to:\n",
    "1. [Understand how to use word embeddings](#word)\n",
    "    * [Exercise One](#exc1)\n",
    "    \n",
    "    \n",
    "2. [Understand how to use pre-trained word embeddings](#pretrained)\n",
    "    * [Exercise Two](#exc2)"
   ]
  },
  {
   "cell_type": "markdown",
   "metadata": {},
   "source": [
    "## 1. Using word embeddings  <a id='word' />"
   ]
  },
  {
   "cell_type": "markdown",
   "metadata": {},
   "source": [
    "\n",
    "\n",
    "### 1.1 Learning word embeddings with the `Embedding` layer\n"
   ]
  },
  {
   "cell_type": "code",
   "execution_count": 3,
   "metadata": {},
   "outputs": [
    {
     "name": "stdout",
     "output_type": "stream",
     "text": [
      "WARNING:tensorflow:From C:\\Users\\lji6\\AppData\\Local\\Continuum\\anaconda3\\lib\\site-packages\\tensorflow_core\\python\\keras\\initializers.py:119: calling RandomUniform.__init__ (from tensorflow.python.ops.init_ops) with dtype is deprecated and will be removed in a future version.\n",
      "Instructions for updating:\n",
      "Call initializer instance with the dtype argument instead of passing it to the constructor\n"
     ]
    }
   ],
   "source": [
    "from tensorflow.keras.layers import Embedding\n",
    "\n",
    "# The Embedding layer takes at least two arguments:\n",
    "# the number of possible tokens, here 1000 (1 + maximum word index),\n",
    "# and the dimensionality of the embeddings, here 8.\n",
    "embedding_layer = Embedding(1000, 8)"
   ]
  },
  {
   "cell_type": "markdown",
   "metadata": {},
   "source": [
    "\n",
    "The `Embedding` layer is best understood as a dictionary mapping integer indices (which stand for specific words) to dense vectors. "
   ]
  },
  {
   "cell_type": "code",
   "execution_count": 4,
   "metadata": {},
   "outputs": [],
   "source": [
    "from tensorflow.keras.datasets import imdb\n",
    "from tensorflow.keras import preprocessing\n",
    "\n",
    "# Number of words to consider as features = number of vocabulary\n",
    "max_features = 10000\n",
    "# Cut the review sequence after this number of words \n",
    "maxlen = 20\n",
    "\n",
    "# Load the data as lists of integers.\n",
    "(x_train, y_train), (x_test, y_test) = imdb.load_data(num_words=max_features)"
   ]
  },
  {
   "cell_type": "code",
   "execution_count": 5,
   "metadata": {},
   "outputs": [
    {
     "name": "stdout",
     "output_type": "stream",
     "text": [
      "The 1st sample has 218 words.\n",
      "[1, 14, 22, 16, 43, 530, 973, 1622, 1385, 65, 458, 4468, 66, 3941, 4, 173, 36, 256, 5, 25, 100, 43, 838, 112, 50, 670, 2, 9, 35, 480, 284, 5, 150, 4, 172, 112, 167, 2, 336, 385, 39, 4, 172, 4536, 1111, 17, 546, 38, 13, 447, 4, 192, 50, 16, 6, 147, 2025, 19, 14, 22, 4, 1920, 4613, 469, 4, 22, 71, 87, 12, 16, 43, 530, 38, 76, 15, 13, 1247, 4, 22, 17, 515, 17, 12, 16, 626, 18, 2, 5, 62, 386, 12, 8, 316, 8, 106, 5, 4, 2223, 5244, 16, 480, 66, 3785, 33, 4, 130, 12, 16, 38, 619, 5, 25, 124, 51, 36, 135, 48, 25, 1415, 33, 6, 22, 12, 215, 28, 77, 52, 5, 14, 407, 16, 82, 2, 8, 4, 107, 117, 5952, 15, 256, 4, 2, 7, 3766, 5, 723, 36, 71, 43, 530, 476, 26, 400, 317, 46, 7, 4, 2, 1029, 13, 104, 88, 4, 381, 15, 297, 98, 32, 2071, 56, 26, 141, 6, 194, 7486, 18, 4, 226, 22, 21, 134, 476, 26, 480, 5, 144, 30, 5535, 18, 51, 36, 28, 224, 92, 25, 104, 4, 226, 65, 16, 38, 1334, 88, 12, 16, 283, 5, 16, 4472, 113, 103, 32, 15, 16, 5345, 19, 178, 32]\n"
     ]
    }
   ],
   "source": [
    "# number of words in one sequence\n",
    "print('The 1st sample has', len(x_train[0]), 'words.')\n",
    "print(x_train[0])"
   ]
  },
  {
   "cell_type": "code",
   "execution_count": 6,
   "metadata": {},
   "outputs": [],
   "source": [
    "# This turns our lists of integers\n",
    "# into a 2D integer tensor of shape `(samples, maxlen)`\n",
    "# Sequences shorter than maxlen be padded with zeros\n",
    "# Sequences longer than maxlen be truncated, default truncating ='pre'\n",
    "x_train = preprocessing.sequence.pad_sequences(x_train, maxlen=maxlen, truncating ='pre')\n",
    "x_test = preprocessing.sequence.pad_sequences(x_test, maxlen=maxlen, truncating ='pre')"
   ]
  },
  {
   "cell_type": "code",
   "execution_count": 7,
   "metadata": {},
   "outputs": [
    {
     "name": "stdout",
     "output_type": "stream",
     "text": [
      "[  65   16   38 1334   88   12   16  283    5   16 4472  113  103   32\n",
      "   15   16 5345   19  178   32]\n"
     ]
    }
   ],
   "source": [
    "print(x_train[0])"
   ]
  },
  {
   "cell_type": "code",
   "execution_count": 8,
   "metadata": {},
   "outputs": [
    {
     "name": "stdout",
     "output_type": "stream",
     "text": [
      "WARNING:tensorflow:From C:\\Users\\lji6\\AppData\\Local\\Continuum\\anaconda3\\lib\\site-packages\\tensorflow_core\\python\\ops\\resource_variable_ops.py:1630: calling BaseResourceVariable.__init__ (from tensorflow.python.ops.resource_variable_ops) with constraint is deprecated and will be removed in a future version.\n",
      "Instructions for updating:\n",
      "If using Keras pass *_constraint arguments to layers.\n",
      "WARNING:tensorflow:From C:\\Users\\lji6\\AppData\\Local\\Continuum\\anaconda3\\lib\\site-packages\\tensorflow_core\\python\\ops\\nn_impl.py:183: where (from tensorflow.python.ops.array_ops) is deprecated and will be removed in a future version.\n",
      "Instructions for updating:\n",
      "Use tf.where in 2.0, which has the same broadcast rule as np.where\n",
      "Model: \"sequential\"\n",
      "_________________________________________________________________\n",
      "Layer (type)                 Output Shape              Param #   \n",
      "=================================================================\n",
      "embedding_1 (Embedding)      (None, 20, 8)             80000     \n",
      "_________________________________________________________________\n",
      "flatten (Flatten)            (None, 160)               0         \n",
      "_________________________________________________________________\n",
      "dense (Dense)                (None, 1)                 161       \n",
      "=================================================================\n",
      "Total params: 80,161\n",
      "Trainable params: 80,161\n",
      "Non-trainable params: 0\n",
      "_________________________________________________________________\n",
      "Train on 20000 samples, validate on 5000 samples\n",
      "Epoch 1/10\n",
      "20000/20000 [==============================] - 3s 151us/sample - loss: 0.6791 - acc: 0.5956 - val_loss: 0.6490 - val_acc: 0.6730\n",
      "Epoch 2/10\n",
      "20000/20000 [==============================] - 2s 122us/sample - loss: 0.5751 - acc: 0.7405 - val_loss: 0.5515 - val_acc: 0.7162\n",
      "Epoch 3/10\n",
      "20000/20000 [==============================] - 2s 122us/sample - loss: 0.4785 - acc: 0.7832 - val_loss: 0.5132 - val_acc: 0.7380\n",
      "Epoch 4/10\n",
      "20000/20000 [==============================] - 2s 123us/sample - loss: 0.4262 - acc: 0.8101 - val_loss: 0.5016 - val_acc: 0.7432\n",
      "Epoch 5/10\n",
      "20000/20000 [==============================] - 2s 125us/sample - loss: 0.3914 - acc: 0.8299 - val_loss: 0.4991 - val_acc: 0.7514\n",
      "Epoch 6/10\n",
      "20000/20000 [==============================] - 2s 123us/sample - loss: 0.3633 - acc: 0.8464 - val_loss: 0.5030 - val_acc: 0.7500\n",
      "Epoch 7/10\n",
      "20000/20000 [==============================] - 3s 129us/sample - loss: 0.3394 - acc: 0.8583 - val_loss: 0.5082 - val_acc: 0.7468\n",
      "Epoch 8/10\n",
      "20000/20000 [==============================] - 3s 127us/sample - loss: 0.3173 - acc: 0.8707 - val_loss: 0.5172 - val_acc: 0.7460\n",
      "Epoch 9/10\n",
      "20000/20000 [==============================] - 3s 126us/sample - loss: 0.2977 - acc: 0.8802 - val_loss: 0.5260 - val_acc: 0.7452\n",
      "Epoch 10/10\n",
      "20000/20000 [==============================] - 3s 125us/sample - loss: 0.2786 - acc: 0.8894 - val_loss: 0.5349 - val_acc: 0.7450\n"
     ]
    }
   ],
   "source": [
    "from tensorflow.keras.models import Sequential\n",
    "from tensorflow.keras.layers import Flatten, Dense\n",
    "\n",
    "model = Sequential()\n",
    "# We specify the maximum input length to our Embedding layer\n",
    "# so we can later flatten the embedded inputs\n",
    "model.add(Embedding(max_features, 8, input_length=maxlen))\n",
    "# After the Embedding layer, \n",
    "# our activations have shape `(samples, maxlen, 8)`.\n",
    "\n",
    "# We flatten the 3D tensor of embeddings \n",
    "# into a 2D tensor of shape `(samples, maxlen * 8)`\n",
    "model.add(Flatten())\n",
    "\n",
    "# We add the classifier on top\n",
    "model.add(Dense(1, activation='sigmoid'))\n",
    "model.compile(optimizer='rmsprop', loss='binary_crossentropy', metrics=['acc'])\n",
    "model.summary()\n",
    "\n",
    "history = model.fit(x_train, y_train,\n",
    "                    epochs=10,\n",
    "                    batch_size=32,\n",
    "                    validation_split=0.2)"
   ]
  },
  {
   "cell_type": "markdown",
   "metadata": {},
   "source": [
    "We get to a validation accuracy of ~75%, which is pretty good considering that we only look at the last 20 words in every review. "
   ]
  },
  {
   "cell_type": "markdown",
   "metadata": {},
   "source": [
    "### 1.2 Exercise One  <a id='exc1' />\n",
    "Please try below two scenerios, make changes on the the dimensionality of the embeddings or number of words. \n",
    "\n",
    "**Scenerio A**:\n",
    "* Decrease the the dimensionality of the embeddings from 8 to 4\n",
    "\n",
    "**Scenerio B**:\n",
    "* Increase the max length (i.e max number of words per review) from 20 to 100\n",
    "\n",
    "Observe the training and validation accuracy curves for the both scenerios. \n",
    "\n",
    "Provide your codes & observations in the below code boxes & markdown boxes respectively.\n"
   ]
  },
  {
   "cell_type": "markdown",
   "metadata": {},
   "source": [
    "#### Scenerio A: "
   ]
  },
  {
   "cell_type": "code",
   "execution_count": 1,
   "metadata": {},
   "outputs": [],
   "source": [
    "# Task 1: Download the data and preprocess the data\n",
    "from tensorflow.keras.datasets import imdb\n",
    "from tensorflow.keras import preprocessing\n",
    "\n",
    "# Number of words to consider as features = number of vocabulary\n",
    "max_features = 10000\n",
    "# Cut the review sequence after this number of words \n",
    "maxlen = 20\n",
    "\n",
    "# Load the data as lists of integers.\n",
    "(x_train, y_train), (x_test, y_test) = imdb.load_data(num_words=max_features)\n",
    "\n",
    "\n",
    "\n",
    "\n",
    "from tensorflow.keras.layers import Embedding\n",
    "\n",
    "# The Embedding layer takes at least two arguments:\n",
    "# the number of possible tokens, here 1000 (1 + maximum word index),\n",
    "# and the dimensionality of the embeddings, here 8.\n",
    "embedding_layer = Embedding(1000, 4)\n",
    "\n",
    "\n",
    "# This turns our lists of integers\n",
    "# into a 2D integer tensor of shape `(samples, maxlen)`\n",
    "# Sequences shorter than maxlen be padded with zeros\n",
    "# Sequences longer than maxlen be truncated, default truncating ='pre'\n",
    "x_train = preprocessing.sequence.pad_sequences(x_train, maxlen=maxlen, truncating ='pre')\n",
    "x_test = preprocessing.sequence.pad_sequences(x_test, maxlen=maxlen, truncating ='pre')"
   ]
  },
  {
   "cell_type": "code",
   "execution_count": 2,
   "metadata": {},
   "outputs": [
    {
     "name": "stdout",
     "output_type": "stream",
     "text": [
      "WARNING:tensorflow:From C:\\Users\\OldManSteve\\AppData\\Roaming\\Python\\Python37\\site-packages\\tensorflow\\python\\ops\\resource_variable_ops.py:435: colocate_with (from tensorflow.python.framework.ops) is deprecated and will be removed in a future version.\n",
      "Instructions for updating:\n",
      "Colocations handled automatically by placer.\n",
      "_________________________________________________________________\n",
      "Layer (type)                 Output Shape              Param #   \n",
      "=================================================================\n",
      "embedding_1 (Embedding)      (None, 20, 4)             40000     \n",
      "_________________________________________________________________\n",
      "flatten (Flatten)            (None, 80)                0         \n",
      "_________________________________________________________________\n",
      "dense (Dense)                (None, 1)                 81        \n",
      "=================================================================\n",
      "Total params: 40,081\n",
      "Trainable params: 40,081\n",
      "Non-trainable params: 0\n",
      "_________________________________________________________________\n"
     ]
    }
   ],
   "source": [
    "# Task 2: Build the Model\n",
    "# Remember to decrease the dimensionality of embedding layer from 8 to 4\n",
    "from tensorflow.keras.models import Sequential\n",
    "from tensorflow.keras.layers import Flatten, Dense\n",
    "\n",
    "model = Sequential()\n",
    "# We specify the maximum input length to our Embedding layer\n",
    "# so we can later flatten the embedded inputs\n",
    "model.add(Embedding(max_features, 4, input_length=maxlen))\n",
    "# After the Embedding layer, \n",
    "# our activations have shape `(samples, maxlen, 8)`.\n",
    "\n",
    "# We flatten the 3D tensor of embeddings \n",
    "# into a 2D tensor of shape `(samples, maxlen * 8)`\n",
    "model.add(Flatten())\n",
    "\n",
    "# We add the classifier on top\n",
    "model.add(Dense(1, activation='sigmoid'))\n",
    "model.compile(optimizer='rmsprop', loss='binary_crossentropy', metrics=['acc'])\n",
    "model.summary()\n",
    "\n"
   ]
  },
  {
   "cell_type": "code",
   "execution_count": 3,
   "metadata": {},
   "outputs": [
    {
     "name": "stdout",
     "output_type": "stream",
     "text": [
      "Train on 20000 samples, validate on 5000 samples\n",
      "WARNING:tensorflow:From C:\\Users\\OldManSteve\\AppData\\Roaming\\Python\\Python37\\site-packages\\tensorflow\\python\\ops\\math_ops.py:3066: to_int32 (from tensorflow.python.ops.math_ops) is deprecated and will be removed in a future version.\n",
      "Instructions for updating:\n",
      "Use tf.cast instead.\n",
      "Epoch 1/10\n",
      "20000/20000 [==============================] - 3s 140us/sample - loss: 0.6744 - acc: 0.6198 - val_loss: 0.6345 - val_acc: 0.6958\n",
      "Epoch 2/10\n",
      "20000/20000 [==============================] - 2s 89us/sample - loss: 0.5667 - acc: 0.7420 - val_loss: 0.5411 - val_acc: 0.7220\n",
      "Epoch 3/10\n",
      "20000/20000 [==============================] - 2s 98us/sample - loss: 0.4861 - acc: 0.7732 - val_loss: 0.5086 - val_acc: 0.7438\n",
      "Epoch 4/10\n",
      "20000/20000 [==============================] - 2s 89us/sample - loss: 0.4481 - acc: 0.7924 - val_loss: 0.4971 - val_acc: 0.7460\n",
      "Epoch 5/10\n",
      "20000/20000 [==============================] - 2s 96us/sample - loss: 0.4261 - acc: 0.8041 - val_loss: 0.4931 - val_acc: 0.7548\n",
      "Epoch 6/10\n",
      "20000/20000 [==============================] - 2s 109us/sample - loss: 0.4106 - acc: 0.8130 - val_loss: 0.4936 - val_acc: 0.7562\n",
      "Epoch 7/10\n",
      "20000/20000 [==============================] - 2s 119us/sample - loss: 0.3990 - acc: 0.8199 - val_loss: 0.4951 - val_acc: 0.7516\n",
      "Epoch 8/10\n",
      "20000/20000 [==============================] - 2s 116us/sample - loss: 0.3890 - acc: 0.8260 - val_loss: 0.4978 - val_acc: 0.7564\n",
      "Epoch 9/10\n",
      "20000/20000 [==============================] - 2s 98us/sample - loss: 0.3806 - acc: 0.8303 - val_loss: 0.4997 - val_acc: 0.7588\n",
      "Epoch 10/10\n",
      "20000/20000 [==============================] - 2s 99us/sample - loss: 0.3720 - acc: 0.8351 - val_loss: 0.5029 - val_acc: 0.7602\n"
     ]
    }
   ],
   "source": [
    "# Task 3: Compile and Fit the Model\n",
    "history = model.fit(x_train, y_train,\n",
    "                    epochs=10,\n",
    "                    batch_size=32,\n",
    "                    validation_split=0.2)"
   ]
  },
  {
   "cell_type": "code",
   "execution_count": 5,
   "metadata": {},
   "outputs": [
    {
     "data": {
      "image/png": "[encoded data removed]",
      "text/plain": [
       "<Figure size 432x288 with 1 Axes>"
      ]
     },
     "metadata": {
      "needs_background": "light"
     },
     "output_type": "display_data"
    },
    {
     "data": {
      "image/png": "[encoded data removed]",
      "text/plain": [
       "<Figure size 432x288 with 1 Axes>"
      ]
     },
     "metadata": {
      "needs_background": "light"
     },
     "output_type": "display_data"
    }
   ],
   "source": [
    "# Plot the Training and Validation Accuracy & Loss Scores\n",
    "import matplotlib.pyplot as plt\n",
    "%matplotlib inline\n",
    "\n",
    "acc = history.history['acc']\n",
    "val_acc = history.history['val_acc']\n",
    "loss = history.history['loss']\n",
    "val_loss = history.history['val_loss']\n",
    "\n",
    "epochs = range(len(acc))\n",
    "\n",
    "plt.plot(epochs, acc, 'bo', label='Training acc')\n",
    "plt.plot(epochs, val_acc, 'b', label='Validation acc')\n",
    "plt.title('Training and validation accuracy')\n",
    "plt.legend()\n",
    "\n",
    "plt.figure()\n",
    "\n",
    "plt.plot(epochs, loss, 'bo', label='Training loss')\n",
    "plt.plot(epochs, val_loss, 'b', label='Validation loss')\n",
    "plt.title('Training and validation loss')\n",
    "plt.legend()\n",
    "\n",
    "plt.show()"
   ]
  },
  {
   "cell_type": "code",
   "execution_count": null,
   "metadata": {},
   "outputs": [],
   "source": [
    "# Task 4: Comment on the model performance\n",
    "\n",
    "# starts to overfit after approximately 3 epochs"
   ]
  },
  {
   "cell_type": "markdown",
   "metadata": {},
   "source": [
    "#### Scenerio B"
   ]
  },
  {
   "cell_type": "code",
   "execution_count": 17,
   "metadata": {},
   "outputs": [],
   "source": [
    "# Task 1: Download the data and preprocess the data\n",
    "# Remember to increase the maxlen from 20 to 100\n",
    "from tensorflow.keras.datasets import imdb\n",
    "from tensorflow.keras import preprocessing\n",
    "\n",
    "# Number of words to consider as features = number of vocabulary\n",
    "max_features = 10000\n",
    "# Cut the review sequence after this number of words \n",
    "maxlen = 100\n",
    "\n",
    "# Load the data as lists of integers.\n",
    "(x_train, y_train), (x_test, y_test) = imdb.load_data(num_words=max_features)\n",
    "\n",
    "\n",
    "\n",
    "\n",
    "from tensorflow.keras.layers import Embedding\n",
    "\n",
    "# The Embedding layer takes at least two arguments:\n",
    "# the number of possible tokens, here 1000 (1 + maximum word index),\n",
    "# and the dimensionality of the embeddings, here 8.\n",
    "embedding_layer = Embedding(1000, 8)\n",
    "\n",
    "\n",
    "# This turns our lists of integers\n",
    "# into a 2D integer tensor of shape `(samples, maxlen)`\n",
    "# Sequences shorter than maxlen be padded with zeros\n",
    "# Sequences longer than maxlen be truncated, default truncating ='pre'\n",
    "x_train = preprocessing.sequence.pad_sequences(x_train, maxlen=maxlen, truncating ='pre')\n",
    "x_test = preprocessing.sequence.pad_sequences(x_test, maxlen=maxlen, truncating ='pre')"
   ]
  },
  {
   "cell_type": "code",
   "execution_count": 18,
   "metadata": {},
   "outputs": [
    {
     "name": "stdout",
     "output_type": "stream",
     "text": [
      "_________________________________________________________________\n",
      "Layer (type)                 Output Shape              Param #   \n",
      "=================================================================\n",
      "embedding_1 (Embedding)      (None, 100, 8)            80000     \n",
      "_________________________________________________________________\n",
      "flatten (Flatten)            (None, 800)               0         \n",
      "_________________________________________________________________\n",
      "dense (Dense)                (None, 1)                 801       \n",
      "=================================================================\n",
      "Total params: 80,801\n",
      "Trainable params: 80,801\n",
      "Non-trainable params: 0\n",
      "_________________________________________________________________\n"
     ]
    }
   ],
   "source": [
    "# Task 2: Build the Model\n",
    "from tensorflow.keras.models import Sequential\n",
    "from tensorflow.keras.layers import Flatten, Dense\n",
    "\n",
    "model = Sequential()\n",
    "# We specify the maximum input length to our Embedding layer\n",
    "# so we can later flatten the embedded inputs\n",
    "model.add(Embedding(max_features, 8, input_length=maxlen))\n",
    "# After the Embedding layer, \n",
    "# our activations have shape `(samples, maxlen, 8)`.\n",
    "\n",
    "# We flatten the 3D tensor of embeddings \n",
    "# into a 2D tensor of shape `(samples, maxlen * 8)`\n",
    "model.add(Flatten())\n",
    "\n",
    "# We add the classifier on top\n",
    "model.add(Dense(1, activation='sigmoid'))\n",
    "model.compile(optimizer='rmsprop', loss='binary_crossentropy', metrics=['acc'])\n",
    "model.summary()\n",
    "\n"
   ]
  },
  {
   "cell_type": "code",
   "execution_count": 19,
   "metadata": {},
   "outputs": [
    {
     "name": "stdout",
     "output_type": "stream",
     "text": [
      "Train on 20000 samples, validate on 5000 samples\n",
      "Epoch 1/10\n",
      "20000/20000 [==============================] - 3s 148us/sample - loss: 0.6113 - acc: 0.6913 - val_loss: 0.4600 - val_acc: 0.8060\n",
      "Epoch 2/10\n",
      "20000/20000 [==============================] - 3s 128us/sample - loss: 0.3657 - acc: 0.8530 - val_loss: 0.3491 - val_acc: 0.8492\n",
      "Epoch 3/10\n",
      "20000/20000 [==============================] - 3s 129us/sample - loss: 0.2871 - acc: 0.8838 - val_loss: 0.3273 - val_acc: 0.8578\n",
      "Epoch 4/10\n",
      "20000/20000 [==============================] - 2s 117us/sample - loss: 0.2515 - acc: 0.8986 - val_loss: 0.3242 - val_acc: 0.8600\n",
      "Epoch 5/10\n",
      "20000/20000 [==============================] - 3s 133us/sample - loss: 0.2281 - acc: 0.9108 - val_loss: 0.3236 - val_acc: 0.8618\n",
      "Epoch 6/10\n",
      "20000/20000 [==============================] - 3s 145us/sample - loss: 0.2097 - acc: 0.9179 - val_loss: 0.3327 - val_acc: 0.8608\n",
      "Epoch 7/10\n",
      "20000/20000 [==============================] - 3s 140us/sample - loss: 0.1933 - acc: 0.9259 - val_loss: 0.3361 - val_acc: 0.8570\n",
      "Epoch 8/10\n",
      "20000/20000 [==============================] - 3s 145us/sample - loss: 0.1774 - acc: 0.9317 - val_loss: 0.3444 - val_acc: 0.8576\n",
      "Epoch 9/10\n",
      "20000/20000 [==============================] - 3s 156us/sample - loss: 0.1619 - acc: 0.9406 - val_loss: 0.3505 - val_acc: 0.8578\n",
      "Epoch 10/10\n",
      "20000/20000 [==============================] - 5s 226us/sample - loss: 0.1457 - acc: 0.9487 - val_loss: 0.3611 - val_acc: 0.8550\n"
     ]
    }
   ],
   "source": [
    "# Task 3: Compile and Fit the Model\n",
    "history = model.fit(x_train, y_train,\n",
    "                    epochs=10,\n",
    "                    batch_size=32,\n",
    "                    validation_split=0.2)"
   ]
  },
  {
   "cell_type": "code",
   "execution_count": 20,
   "metadata": {},
   "outputs": [
    {
     "data": {
      "image/png": "[encoded data removed]",
      "text/plain": [
       "<Figure size 432x288 with 1 Axes>"
      ]
     },
     "metadata": {
      "needs_background": "light"
     },
     "output_type": "display_data"
    },
    {
     "data": {
      "image/png": "[encoded data removed]",
      "text/plain": [
       "<Figure size 432x288 with 1 Axes>"
      ]
     },
     "metadata": {
      "needs_background": "light"
     },
     "output_type": "display_data"
    }
   ],
   "source": [
    "# Plot the Training and Validation Accuracy & Loss Scores\n",
    "import matplotlib.pyplot as plt\n",
    "%matplotlib inline\n",
    "\n",
    "acc = history.history['acc']\n",
    "val_acc = history.history['val_acc']\n",
    "loss = history.history['loss']\n",
    "val_loss = history.history['val_loss']\n",
    "\n",
    "epochs = range(len(acc))\n",
    "\n",
    "plt.plot(epochs, acc, 'bo', label='Training acc')\n",
    "plt.plot(epochs, val_acc, 'b', label='Validation acc')\n",
    "plt.title('Training and validation accuracy')\n",
    "plt.legend()\n",
    "\n",
    "plt.figure()\n",
    "\n",
    "plt.plot(epochs, loss, 'bo', label='Training loss')\n",
    "plt.plot(epochs, val_loss, 'b', label='Validation loss')\n",
    "plt.title('Training and validation loss')\n",
    "plt.legend()\n",
    "\n",
    "plt.show()"
   ]
  },
  {
   "cell_type": "code",
   "execution_count": null,
   "metadata": {},
   "outputs": [],
   "source": [
    "# Task 4: Comment on the model performance\n",
    "\n",
    "# starts to overfit after approximately 3 epochs"
   ]
  },
  {
   "cell_type": "markdown",
   "metadata": {},
   "source": [
    "## 2. Using pre-trained word embeddings  <a id='pretrained'/>"
   ]
  },
  {
   "cell_type": "markdown",
   "metadata": {},
   "source": [
    "### 2.1 Download the IMDB data as raw text\n",
    "\n",
    "First, download the raw IMDB dataset - aclImdb.zip from MeL (source from `http://ai.stanford.edu/~amaas/data/sentiment/`). De-compress it and save it in your DL folder. After that, assign the directory to imdb_dir as shown below.\n",
    "\n",
    "Now let's collect the individual training reviews into a list of strings, one string per review, and let's also collect the review labels (positive / negative) into a `labels` list:"
   ]
  },
  {
   "cell_type": "code",
   "execution_count": 29,
   "metadata": {},
   "outputs": [],
   "source": [
    "import os\n",
    "\n",
    "imdb_dir = 'C:\\\\DL_Notebk\\\\aclImdb'\n",
    "train_dir = os.path.join(imdb_dir, 'train')\n",
    "\n",
    "labels = []\n",
    "texts = []\n",
    "\n",
    "for label_type in ['neg', 'pos']:\n",
    "    dir_name = os.path.join(train_dir, label_type)\n",
    "    for fname in os.listdir(dir_name):\n",
    "        if fname[-4:] == '.txt': \n",
    "            f = open(os.path.join(dir_name, fname), encoding=\"utf8\")\n",
    "            texts.append(f.read())\n",
    "            f.close()\n",
    "            if label_type == 'neg':\n",
    "                labels.append(0)\n",
    "            else:\n",
    "                labels.append(1)"
   ]
  },
  {
   "cell_type": "code",
   "execution_count": 30,
   "metadata": {},
   "outputs": [
    {
     "name": "stdout",
     "output_type": "stream",
     "text": [
      "Story of a man who has unnatural feelings for a pig. Starts out with a opening scene that is a terrific example of absurd comedy. A formal orchestra audience is turned into an insane, violent mob by the crazy chantings of it's singers. Unfortunately it stays absurd the WHOLE time with no general narrative eventually making it just too off putting. Even those from the era should be turned off. The cryptic dialogue would make Shakespeare seem easy to a third grader. On a technical level it's better than you might think with some good cinematography by future great Vilmos Zsigmond. Future stars Sally Kirkland and Frederic Forrest can be seen briefly.\n",
      "655\n"
     ]
    }
   ],
   "source": [
    "print(texts[0])\n",
    "print(len(texts[0]))"
   ]
  },
  {
   "cell_type": "code",
   "execution_count": 31,
   "metadata": {},
   "outputs": [
    {
     "name": "stdout",
     "output_type": "stream",
     "text": [
      "0\n"
     ]
    }
   ],
   "source": [
    "print(labels[0])"
   ]
  },
  {
   "cell_type": "code",
   "execution_count": 32,
   "metadata": {},
   "outputs": [
    {
     "name": "stdout",
     "output_type": "stream",
     "text": [
      "25000\n"
     ]
    }
   ],
   "source": [
    "print(len(texts))"
   ]
  },
  {
   "cell_type": "markdown",
   "metadata": {},
   "source": [
    "### 2.2 Tokenize the data\n",
    "\n",
    "Let's vectorize the texts we collected, and prepare a training and validation split.\n",
    "We will merely be using the concepts we introduced earlier in this section.\n",
    "\n"
   ]
  },
  {
   "cell_type": "code",
   "execution_count": 33,
   "metadata": {},
   "outputs": [
    {
     "name": "stdout",
     "output_type": "stream",
     "text": [
      "Found 88582 unique tokens.\n",
      "Shape of data tensor: (25000, 20)\n",
      "Shape of label tensor: (25000,)\n"
     ]
    }
   ],
   "source": [
    "from tensorflow.keras.preprocessing.text import Tokenizer\n",
    "from tensorflow.keras.preprocessing.sequence import pad_sequences\n",
    "import numpy as np\n",
    "\n",
    "maxlen = 20  # We will cut reviews after 20 words\n",
    "training_samples = 20000  # We will be training on 20000 samples\n",
    "validation_samples = 5000  # We will be validating on 5000 samples\n",
    "max_words = 10000  # We will only consider the top 10,000 words (vocabulary) in the dataset (dictionary)\n",
    "\n",
    "tokenizer = Tokenizer(num_words=max_words)\n",
    "tokenizer.fit_on_texts(texts)\n",
    "sequences = tokenizer.texts_to_sequences(texts)\n",
    "\n",
    "word_index = tokenizer.word_index\n",
    "print('Found %s unique tokens.' % len(word_index))\n",
    "\n",
    "data = pad_sequences(sequences, maxlen=maxlen)\n",
    "\n",
    "labels = np.asarray(labels)\n",
    "print('Shape of data tensor:', data.shape)\n",
    "print('Shape of label tensor:', labels.shape)\n",
    "\n",
    "# Split the data into a training set and a validation set\n",
    "# But first, shuffle the data, since we started from data\n",
    "# where sample are ordered (all negative first, then all positive).\n",
    "indices = np.arange(data.shape[0])\n",
    "np.random.shuffle(indices)\n",
    "data = data[indices]\n",
    "labels = labels[indices]\n",
    "\n",
    "x_train = data[:training_samples]\n",
    "y_train = labels[:training_samples]\n",
    "x_val = data[training_samples: training_samples + validation_samples]\n",
    "y_val = labels[training_samples: training_samples + validation_samples]"
   ]
  },
  {
   "cell_type": "code",
   "execution_count": 34,
   "metadata": {},
   "outputs": [
    {
     "name": "stdout",
     "output_type": "stream",
     "text": [
      "[4838  850 4058 3932 4753 3823   39   98    4    1 1982  105 1476   10\n",
      " 1652  720 6700 5712  112  780]\n",
      "20\n"
     ]
    }
   ],
   "source": [
    "print(x_train[0])\n",
    "print(len(x_train[0]))"
   ]
  },
  {
   "cell_type": "code",
   "execution_count": 35,
   "metadata": {},
   "outputs": [
    {
     "name": "stdout",
     "output_type": "stream",
     "text": [
      "20000\n",
      "5000\n"
     ]
    }
   ],
   "source": [
    "print(len(x_train))\n",
    "print(len(x_val))"
   ]
  },
  {
   "cell_type": "markdown",
   "metadata": {},
   "source": [
    "### 2.3 Download the GloVe word embeddings\n",
    "\n",
    "Head to `https://nlp.stanford.edu/projects/glove/`and download the pre-computed embeddings from 2014 English Wikipedia. It's a 822MB zip file named `glove.6B.zip`, containing multiple txt files with different dimension of embeddings (50, 100, 200 and 300). In this practice we will use `glove.6B.50b.txt` for embedding, i.e. we will convert each word index into a vector of 100 elements / numbers. Please Un-zip the file, save `glove.6B` folder in your data folder and pass the directory path to glove_dir."
   ]
  },
  {
   "cell_type": "code",
   "execution_count": 36,
   "metadata": {},
   "outputs": [
    {
     "name": "stdout",
     "output_type": "stream",
     "text": [
      "Found 400000 word vectors.\n"
     ]
    }
   ],
   "source": [
    "glove_dir = 'C:\\\\DL_Notebk\\\\glove.6B'\n",
    "\n",
    "embeddings_index = {}\n",
    "f = open(os.path.join(glove_dir, 'glove.6B.50d.txt'), encoding=\"utf8\")\n",
    "for line in f:\n",
    "    values = line.split()\n",
    "    word = values[0]\n",
    "    coefs = np.asarray(values[1:], dtype='float32')\n",
    "    embeddings_index[word] = coefs\n",
    "f.close()\n",
    "\n",
    "print('Found %s word vectors.' % len(embeddings_index))"
   ]
  },
  {
   "cell_type": "markdown",
   "metadata": {},
   "source": [
    "Now let's build an embedding matrix that we will be able to load into an `Embedding` layer. It must be a matrix of shape `(max_words, embedding_dim)`, where each entry `i` contains the `embedding_dim`-dimensional vector for the word of index `i` in our reference word index (built during tokenization). Note that the index `0` is not supposed to stand for any word or token -- it's a placeholder."
   ]
  },
  {
   "cell_type": "code",
   "execution_count": 37,
   "metadata": {},
   "outputs": [],
   "source": [
    "embedding_dim = 50\n",
    "\n",
    "embedding_matrix = np.zeros((max_words, embedding_dim))\n",
    "for word, i in word_index.items():\n",
    "    embedding_vector = embeddings_index.get(word)\n",
    "    if i < max_words:\n",
    "        if embedding_vector is not None:\n",
    "            # Words not found in embedding index will be all-zeros.\n",
    "            embedding_matrix[i] = embedding_vector"
   ]
  },
  {
   "cell_type": "code",
   "execution_count": 38,
   "metadata": {},
   "outputs": [
    {
     "name": "stdout",
     "output_type": "stream",
     "text": [
      "[[ 0.          0.          0.         ...  0.          0.\n",
      "   0.        ]\n",
      " [ 0.41800001  0.24968    -0.41242    ... -0.18411    -0.11514\n",
      "  -0.78580999]\n",
      " [ 0.26818001  0.14346001 -0.27877    ... -0.63209999 -0.25027999\n",
      "  -0.38097   ]\n",
      " ...\n",
      " [ 0.080631    0.42407    -0.80875999 ... -0.094323   -0.3558\n",
      "  -0.57837999]\n",
      " [ 0.55150998 -0.55568999 -0.74370998 ...  0.63006002 -0.49641001\n",
      "   0.2423    ]\n",
      " [-0.36245999  0.80723    -0.1154     ... -0.070781    0.17387\n",
      "  -0.22424001]]\n"
     ]
    }
   ],
   "source": [
    "print(embedding_matrix)"
   ]
  },
  {
   "cell_type": "markdown",
   "metadata": {},
   "source": [
    "### 2.4 Define a model\n",
    "\n",
    "We will be using the same model architecture as before:"
   ]
  },
  {
   "cell_type": "code",
   "execution_count": 39,
   "metadata": {},
   "outputs": [
    {
     "name": "stdout",
     "output_type": "stream",
     "text": [
      "_________________________________________________________________\n",
      "Layer (type)                 Output Shape              Param #   \n",
      "=================================================================\n",
      "embedding_2 (Embedding)      (None, 20, 50)            500000    \n",
      "_________________________________________________________________\n",
      "flatten_1 (Flatten)          (None, 1000)              0         \n",
      "_________________________________________________________________\n",
      "dense_1 (Dense)              (None, 32)                32032     \n",
      "_________________________________________________________________\n",
      "dense_2 (Dense)              (None, 1)                 33        \n",
      "=================================================================\n",
      "Total params: 532,065\n",
      "Trainable params: 532,065\n",
      "Non-trainable params: 0\n",
      "_________________________________________________________________\n"
     ]
    }
   ],
   "source": [
    "from tensorflow.keras.models import Sequential\n",
    "from tensorflow.keras.layers import Embedding, Flatten, Dense\n",
    "\n",
    "model = Sequential()\n",
    "model.add(Embedding(max_words, embedding_dim, input_length=maxlen))\n",
    "model.add(Flatten())\n",
    "model.add(Dense(32, activation='relu'))\n",
    "model.add(Dense(1, activation='sigmoid'))\n",
    "model.summary()"
   ]
  },
  {
   "cell_type": "markdown",
   "metadata": {},
   "source": [
    "### 2.4 Load the GloVe embeddings in the model\n",
    "The `Embedding` layer has a single weight matrix: a 2D float matrix where each entry `i` is the word vector meant to be associated with index `i`. Simple enough. Let's just load the GloVe matrix we prepared into our `Embedding` layer, the first layer in our model:"
   ]
  },
  {
   "cell_type": "code",
   "execution_count": 40,
   "metadata": {},
   "outputs": [],
   "source": [
    "model.layers[0].set_weights([embedding_matrix])\n",
    "model.layers[0].trainable = False"
   ]
  },
  {
   "cell_type": "code",
   "execution_count": 41,
   "metadata": {},
   "outputs": [
    {
     "name": "stdout",
     "output_type": "stream",
     "text": [
      "_________________________________________________________________\n",
      "Layer (type)                 Output Shape              Param #   \n",
      "=================================================================\n",
      "embedding_2 (Embedding)      (None, 20, 50)            500000    \n",
      "_________________________________________________________________\n",
      "flatten_1 (Flatten)          (None, 1000)              0         \n",
      "_________________________________________________________________\n",
      "dense_1 (Dense)              (None, 32)                32032     \n",
      "_________________________________________________________________\n",
      "dense_2 (Dense)              (None, 1)                 33        \n",
      "=================================================================\n",
      "Total params: 532,065\n",
      "Trainable params: 32,065\n",
      "Non-trainable params: 500,000\n",
      "_________________________________________________________________\n"
     ]
    }
   ],
   "source": [
    "model.summary()"
   ]
  },
  {
   "cell_type": "markdown",
   "metadata": {},
   "source": [
    "### 2.5 Train and evaluate\n",
    "\n",
    "Let's compile our model and train it:"
   ]
  },
  {
   "cell_type": "code",
   "execution_count": 42,
   "metadata": {},
   "outputs": [
    {
     "name": "stdout",
     "output_type": "stream",
     "text": [
      "Train on 20000 samples, validate on 5000 samples\n",
      "Epoch 1/10\n",
      "20000/20000 [==============================] - 1s 63us/sample - loss: 0.6575 - acc: 0.6082 - val_loss: 0.6274 - val_acc: 0.6446\n",
      "Epoch 2/10\n",
      "20000/20000 [==============================] - 1s 50us/sample - loss: 0.6083 - acc: 0.6648 - val_loss: 0.6228 - val_acc: 0.6418\n",
      "Epoch 3/10\n",
      "20000/20000 [==============================] - 1s 49us/sample - loss: 0.5764 - acc: 0.6955 - val_loss: 0.6165 - val_acc: 0.6546\n",
      "Epoch 4/10\n",
      "20000/20000 [==============================] - 1s 46us/sample - loss: 0.5363 - acc: 0.7241 - val_loss: 0.6494 - val_acc: 0.6440\n",
      "Epoch 5/10\n",
      "20000/20000 [==============================] - 1s 44us/sample - loss: 0.4961 - acc: 0.7534 - val_loss: 0.6748 - val_acc: 0.6388\n",
      "Epoch 6/10\n",
      "20000/20000 [==============================] - 1s 48us/sample - loss: 0.4525 - acc: 0.7847 - val_loss: 0.6666 - val_acc: 0.6522\n",
      "Epoch 7/10\n",
      "20000/20000 [==============================] - 1s 46us/sample - loss: 0.4077 - acc: 0.8127 - val_loss: 0.7092 - val_acc: 0.6436\n",
      "Epoch 8/10\n",
      "20000/20000 [==============================] - 3s 155us/sample - loss: 0.3652 - acc: 0.8390 - val_loss: 0.7362 - val_acc: 0.6436\n",
      "Epoch 9/10\n",
      "20000/20000 [==============================] - 1s 73us/sample - loss: 0.3246 - acc: 0.8628 - val_loss: 0.7761 - val_acc: 0.6434\n",
      "Epoch 10/10\n",
      "20000/20000 [==============================] - 1s 66us/sample - loss: 0.2863 - acc: 0.8836 - val_loss: 0.8310 - val_acc: 0.6388\n"
     ]
    }
   ],
   "source": [
    "model.compile(optimizer='rmsprop',\n",
    "              loss='binary_crossentropy',\n",
    "              metrics=['acc'])\n",
    "\n",
    "history = model.fit(x_train, y_train,\n",
    "                    epochs=10,\n",
    "                    batch_size=32,\n",
    "                    validation_data=(x_val, y_val))"
   ]
  },
  {
   "cell_type": "code",
   "execution_count": 31,
   "metadata": {},
   "outputs": [],
   "source": [
    "model.save_weights('pre_trained_glove_model.h5')"
   ]
  },
  {
   "cell_type": "markdown",
   "metadata": {},
   "source": [
    "Let's plot its performance over time:"
   ]
  },
  {
   "cell_type": "code",
   "execution_count": 43,
   "metadata": {},
   "outputs": [
    {
     "data": {
      "image/png": "[encoded data removed]",
      "text/plain": [
       "<Figure size 432x288 with 1 Axes>"
      ]
     },
     "metadata": {
      "needs_background": "light"
     },
     "output_type": "display_data"
    },
    {
     "data": {
      "image/png": "[encoded data removed]",
      "text/plain": [
       "<Figure size 432x288 with 1 Axes>"
      ]
     },
     "metadata": {
      "needs_background": "light"
     },
     "output_type": "display_data"
    }
   ],
   "source": [
    "%matplotlib inline\n",
    "import matplotlib.pyplot as plt\n",
    "\n",
    "acc = history.history['acc']\n",
    "val_acc = history.history['val_acc']\n",
    "loss = history.history['loss']\n",
    "val_loss = history.history['val_loss']\n",
    "\n",
    "epochs = range(1, len(acc) + 1)\n",
    "\n",
    "plt.plot(epochs, acc, 'bo', label='Training acc')\n",
    "plt.plot(epochs, val_acc, 'b', label='Validation acc')\n",
    "plt.title('Training and validation accuracy')\n",
    "plt.legend()\n",
    "\n",
    "plt.figure()\n",
    "\n",
    "plt.plot(epochs, loss, 'bo', label='Training loss')\n",
    "plt.plot(epochs, val_loss, 'b', label='Validation loss')\n",
    "plt.title('Training and validation loss')\n",
    "plt.legend()\n",
    "\n",
    "plt.show()"
   ]
  },
  {
   "cell_type": "markdown",
   "metadata": {},
   "source": [
    "The model also quickly overfits and only achieve around 65% validation accuracy, much lower than the 75% validation accuracy we achieved earlier by training our own embedding layer. The reason is that when we have a lot of data (e.g. 20,000 training samples in this case), through training our own embedding layer using the specific training samples, we would be learning a task-specific embedding for our own problem, which is generally more powerful than pre-trained word embeddings. \n",
    "\n",
    "In the below Practice, you will be required to unfreeze the pre-trained embedding layer and observe what is happening. "
   ]
  },
  {
   "cell_type": "markdown",
   "metadata": {},
   "source": [
    "### 2.6 Exercise Two <a id='exc2' />"
   ]
  },
  {
   "cell_type": "markdown",
   "metadata": {},
   "source": [
    "Please **unfreeze the pre-trained embedding layer** and train your model accordingly. The objective is to maximize the validation accuracy. \n",
    "\n",
    "While you are training the model, you may need to utilize the below tecniques to regularizing your model to avoid overfitting. \n",
    "* Add dropout\n",
    "* Try different architectures: add or remove layers, increase or decrease the number of units per layer\n",
    "* Add L1 and / or L2 regularization\n",
    "* Adjust the hyperparameters, e.g. the learning rate of the optimizer, the number of epochs, batch_size and etc.\n",
    "\n",
    "Provide your codes and comments in the below boxes."
   ]
  },
  {
   "cell_type": "code",
   "execution_count": 63,
   "metadata": {},
   "outputs": [
    {
     "name": "stdout",
     "output_type": "stream",
     "text": [
      "_________________________________________________________________\n",
      "Layer (type)                 Output Shape              Param #   \n",
      "=================================================================\n",
      "embedding_13 (Embedding)     (None, 20, 50)            500000    \n",
      "_________________________________________________________________\n",
      "flatten_8 (Flatten)          (None, 1000)              0         \n",
      "_________________________________________________________________\n",
      "dense_14 (Dense)             (None, 64)                64064     \n",
      "_________________________________________________________________\n",
      "dropout_5 (Dropout)          (None, 64)                0         \n",
      "_________________________________________________________________\n",
      "dense_15 (Dense)             (None, 32)                2080      \n",
      "_________________________________________________________________\n",
      "dropout_6 (Dropout)          (None, 32)                0         \n",
      "_________________________________________________________________\n",
      "dense_16 (Dense)             (None, 1)                 33        \n",
      "=================================================================\n",
      "Total params: 566,177\n",
      "Trainable params: 566,177\n",
      "Non-trainable params: 0\n",
      "_________________________________________________________________\n",
      "_________________________________________________________________\n",
      "Layer (type)                 Output Shape              Param #   \n",
      "=================================================================\n",
      "embedding_13 (Embedding)     (None, 20, 50)            500000    \n",
      "_________________________________________________________________\n",
      "flatten_8 (Flatten)          (None, 1000)              0         \n",
      "_________________________________________________________________\n",
      "dense_14 (Dense)             (None, 64)                64064     \n",
      "_________________________________________________________________\n",
      "dropout_5 (Dropout)          (None, 64)                0         \n",
      "_________________________________________________________________\n",
      "dense_15 (Dense)             (None, 32)                2080      \n",
      "_________________________________________________________________\n",
      "dropout_6 (Dropout)          (None, 32)                0         \n",
      "_________________________________________________________________\n",
      "dense_16 (Dense)             (None, 1)                 33        \n",
      "=================================================================\n",
      "Total params: 566,177\n",
      "Trainable params: 566,177\n",
      "Non-trainable params: 0\n",
      "_________________________________________________________________\n"
     ]
    }
   ],
   "source": [
    "# Task 1: Build the Model\n",
    "# Remember to set the embedding layer as a trainable layer\n",
    "from tensorflow.keras.models import Sequential\n",
    "from tensorflow.keras.layers import Embedding, Flatten, Dense, Dropout\n",
    "from tensorflow.keras import regularizers\n",
    "\n",
    "model = Sequential()\n",
    "model.add(Embedding(max_words, embedding_dim, input_length=maxlen))\n",
    "model.add(Flatten())\n",
    "\n",
    "model.add(Dense(64, kernel_regularizer=regularizers.l2(0.01), activation='relu'))\n",
    "model.add(Dropout(0.75))\n",
    "model.add(Dense(32, kernel_regularizer=regularizers.l2(0.01), activation='relu'))\n",
    "model.add(Dropout(0.5))\n",
    "\n",
    "\n",
    "model.add(Dense(1, activation='sigmoid'))\n",
    "model.summary()\n",
    "\n",
    "\n",
    "model.layers[0].set_weights([embedding_matrix])\n",
    "model.layers[0].trainable = True\n",
    "model.summary()\n"
   ]
  },
  {
   "cell_type": "code",
   "execution_count": 64,
   "metadata": {},
   "outputs": [
    {
     "name": "stdout",
     "output_type": "stream",
     "text": [
      "Train on 20000 samples, validate on 5000 samples\n",
      "Epoch 1/10\n",
      "20000/20000 [==============================] - 5s 235us/sample - loss: 0.9702 - acc: 0.5143 - val_loss: 0.6939 - val_acc: 0.6024\n",
      "Epoch 2/10\n",
      "20000/20000 [==============================] - 5s 237us/sample - loss: 0.6914 - acc: 0.5912 - val_loss: 0.6460 - val_acc: 0.6956\n",
      "Epoch 3/10\n",
      "20000/20000 [==============================] - 4s 220us/sample - loss: 0.6612 - acc: 0.6772 - val_loss: 0.6015 - val_acc: 0.7332\n",
      "Epoch 4/10\n",
      "20000/20000 [==============================] - 4s 215us/sample - loss: 0.6353 - acc: 0.7091 - val_loss: 0.6050 - val_acc: 0.7422\n",
      "Epoch 5/10\n",
      "20000/20000 [==============================] - 4s 218us/sample - loss: 0.6215 - acc: 0.7235 - val_loss: 0.5815 - val_acc: 0.7500\n",
      "Epoch 6/10\n",
      "20000/20000 [==============================] - 5s 226us/sample - loss: 0.6066 - acc: 0.7437 - val_loss: 0.5717 - val_acc: 0.7516\n",
      "Epoch 7/10\n",
      "20000/20000 [==============================] - 5s 256us/sample - loss: 0.5939 - acc: 0.7517 - val_loss: 0.5729 - val_acc: 0.7526\n",
      "Epoch 8/10\n",
      "20000/20000 [==============================] - 5s 225us/sample - loss: 0.5869 - acc: 0.7620 - val_loss: 0.5701 - val_acc: 0.7612\n",
      "Epoch 9/10\n",
      "20000/20000 [==============================] - 5s 228us/sample - loss: 0.5745 - acc: 0.7717 - val_loss: 0.5675 - val_acc: 0.7610\n",
      "Epoch 10/10\n",
      "20000/20000 [==============================] - 5s 243us/sample - loss: 0.5663 - acc: 0.7786 - val_loss: 0.5626 - val_acc: 0.7610\n"
     ]
    }
   ],
   "source": [
    "# Task 2: Compile and Fit the Model\n",
    "model.compile(optimizer='rmsprop',\n",
    "              loss='binary_crossentropy',\n",
    "              metrics=['acc'])\n",
    "\n",
    "history = model.fit(x_train, y_train,\n",
    "                    epochs=10,\n",
    "                    batch_size=32,\n",
    "                    validation_data=(x_val, y_val))"
   ]
  },
  {
   "cell_type": "code",
   "execution_count": 65,
   "metadata": {},
   "outputs": [
    {
     "data": {
      "image/png": "[encoded data removed]",
      "text/plain": [
       "<Figure size 432x288 with 1 Axes>"
      ]
     },
     "metadata": {
      "needs_background": "light"
     },
     "output_type": "display_data"
    },
    {
     "data": {
      "image/png": "[encoded data removed]",
      "text/plain": [
       "<Figure size 432x288 with 1 Axes>"
      ]
     },
     "metadata": {
      "needs_background": "light"
     },
     "output_type": "display_data"
    }
   ],
   "source": [
    "# Task 3: Plot training and validation acc & loss curves \n",
    "%matplotlib inline\n",
    "import matplotlib.pyplot as plt\n",
    "\n",
    "acc = history.history['acc']\n",
    "val_acc = history.history['val_acc']\n",
    "loss = history.history['loss']\n",
    "val_loss = history.history['val_loss']\n",
    "\n",
    "epochs = range(1, len(acc) + 1)\n",
    "\n",
    "plt.plot(epochs, acc, 'bo', label='Training acc')\n",
    "plt.plot(epochs, val_acc, 'b', label='Validation acc')\n",
    "plt.title('Training and validation accuracy')\n",
    "plt.legend()\n",
    "\n",
    "plt.figure()\n",
    "\n",
    "plt.plot(epochs, loss, 'bo', label='Training loss')\n",
    "plt.plot(epochs, val_loss, 'b', label='Validation loss')\n",
    "plt.title('Training and validation loss')\n",
    "plt.legend()\n",
    "\n",
    "plt.show()"
   ]
  },
  {
   "cell_type": "code",
   "execution_count": null,
   "metadata": {},
   "outputs": [],
   "source": [
    "# Task 4: Comment on Model Performance\n",
    "# Added another dense layer of 64 nodes\n",
    "# Added regularization for both dense layers\n",
    "# Added dropout of 0.75 and 0.5\n",
    "# Model achieved has slight lower acc than previous models but validation accuracy is slightly increased as well, making a good fit.\n"
   ]
  }
 ],
 "metadata": {
  "kernelspec": {
   "display_name": "Python 3",
   "language": "python",
   "name": "python3"
  },
  "language_info": {
   "codemirror_mode": {
    "name": "ipython",
    "version": 3
   },
   "file_extension": ".py",
   "mimetype": "text/x-python",
   "name": "python",
   "nbconvert_exporter": "python",
   "pygments_lexer": "ipython3",
   "version": "3.7.4"
  }
 },
 "nbformat": 4,
 "nbformat_minor": 2
}
