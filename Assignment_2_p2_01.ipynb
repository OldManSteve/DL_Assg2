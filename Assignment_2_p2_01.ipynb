{
  "nbformat": 4,
  "nbformat_minor": 0,
  "metadata": {
    "kernelspec": {
      "display_name": "Python 3",
      "language": "python",
      "name": "python3"
    },
    "language_info": {
      "codemirror_mode": {
        "name": "ipython",
        "version": 3
      },
      "file_extension": ".py",
      "mimetype": "text/x-python",
      "name": "python",
      "nbconvert_exporter": "python",
      "pygments_lexer": "ipython3",
      "version": "3.7.4"
    },
    "colab": {
      "name": "Assignment_2_p2.ipynb",
      "provenance": []
    },
    "accelerator": "GPU"
  },
  "cells": [
    {
      "cell_type": "markdown",
      "metadata": {
        "id": "6xjQWCGsI510",
        "colab_type": "text"
      },
      "source": [
        "<table class=\"table table-bordered\">\n",
        "    <tr>\n",
        "        <th style=\"text-align:center; width:25%\"><img src='https://www.np.edu.sg/PublishingImages/Pages/default/odp/ICT.jpg' style=\"width: 250px; height: 125px; \"></th>\n",
        "        <th style=\"text-align:center;\"><h1>Deep Learning</h1><h2>Assignment 2 - Character Generator Model (Problem 2)</h2><h3>AY2020/21 Semester</h3></th>\n",
        "    </tr>\n",
        "</table>"
      ]
    },
    {
      "cell_type": "code",
      "metadata": {
        "id": "v9Hjv1GVI511",
        "colab_type": "code",
        "colab": {
          "base_uri": "https://localhost:8080/",
          "height": 34
        },
        "outputId": "ebb69e9c-b97d-4e29-eaba-89d8ce47e62a"
      },
      "source": [
        "# Import the Required Packages\n",
        "# Enter your code here:\n",
        "from tensorflow import keras\n",
        "print('keras: ', keras.__version__)\n",
        "from IPython.core.display import display, HTML\n",
        "display(HTML(\"<style>.container { width:95% !important; }</style>\"))"
      ],
      "execution_count": 1,
      "outputs": [
        {
          "output_type": "stream",
          "text": [
            "keras:  2.3.0-tf\n"
          ],
          "name": "stdout"
        },
        {
          "output_type": "display_data",
          "data": {
            "text/html": [
              "<style>.container { width:95% !important; }</style>"
            ],
            "text/plain": [
              "<IPython.core.display.HTML object>"
            ]
          },
          "metadata": {
            "tags": []
          }
        }
      ]
    },
    {
      "cell_type": "markdown",
      "metadata": {
        "id": "m4oJIdijtkeY",
        "colab_type": "text"
      },
      "source": [
        "### GitHub + Colab"
      ]
    },
    {
      "cell_type": "code",
      "metadata": {
        "id": "qz90Yb82trAa",
        "colab_type": "code",
        "colab": {
          "base_uri": "https://localhost:8080/",
          "height": 119
        },
        "outputId": "0bbc6d7d-a8f7-4200-933c-786fc625edc6"
      },
      "source": [
        "#run for GitHub Colab\n",
        "!git clone \"https://github.com/OldManSteve/DL_Assg2.git\"\n"
      ],
      "execution_count": 2,
      "outputs": [
        {
          "output_type": "stream",
          "text": [
            "Cloning into 'DL_Assg2'...\n",
            "remote: Enumerating objects: 39, done.\u001b[K\n",
            "remote: Counting objects:   2% (1/39)\u001b[K\rremote: Counting objects:   5% (2/39)\u001b[K\rremote: Counting objects:   7% (3/39)\u001b[K\rremote: Counting objects:  10% (4/39)\u001b[K\rremote: Counting objects:  12% (5/39)\u001b[K\rremote: Counting objects:  15% (6/39)\u001b[K\rremote: Counting objects:  17% (7/39)\u001b[K\rremote: Counting objects:  20% (8/39)\u001b[K\rremote: Counting objects:  23% (9/39)\u001b[K\rremote: Counting objects:  25% (10/39)\u001b[K\rremote: Counting objects:  28% (11/39)\u001b[K\rremote: Counting objects:  30% (12/39)\u001b[K\rremote: Counting objects:  33% (13/39)\u001b[K\rremote: Counting objects:  35% (14/39)\u001b[K\rremote: Counting objects:  38% (15/39)\u001b[K\rremote: Counting objects:  41% (16/39)\u001b[K\rremote: Counting objects:  43% (17/39)\u001b[K\rremote: Counting objects:  46% (18/39)\u001b[K\rremote: Counting objects:  48% (19/39)\u001b[K\rremote: Counting objects:  51% (20/39)\u001b[K\rremote: Counting objects:  53% (21/39)\u001b[K\rremote: Counting objects:  56% (22/39)\u001b[K\rremote: Counting objects:  58% (23/39)\u001b[K\rremote: Counting objects:  61% (24/39)\u001b[K\rremote: Counting objects:  64% (25/39)\u001b[K\rremote: Counting objects:  66% (26/39)\u001b[K\rremote: Counting objects:  69% (27/39)\u001b[K\rremote: Counting objects:  71% (28/39)\u001b[K\rremote: Counting objects:  74% (29/39)\u001b[K\rremote: Counting objects:  76% (30/39)\u001b[K\rremote: Counting objects:  79% (31/39)\u001b[K\rremote: Counting objects:  82% (32/39)\u001b[K\rremote: Counting objects:  84% (33/39)\u001b[K\rremote: Counting objects:  87% (34/39)\u001b[K\rremote: Counting objects:  89% (35/39)\u001b[K\rremote: Counting objects:  92% (36/39)\u001b[K\rremote: Counting objects:  94% (37/39)\u001b[K\rremote: Counting objects:  97% (38/39)\u001b[K\rremote: Counting objects: 100% (39/39)\u001b[K\rremote: Counting objects: 100% (39/39), done.\u001b[K\n",
            "remote: Compressing objects: 100% (32/32), done.\u001b[K\n",
            "remote: Total 39 (delta 9), reused 35 (delta 6), pack-reused 0\u001b[K\n",
            "Unpacking objects: 100% (39/39), done.\n"
          ],
          "name": "stdout"
        }
      ]
    },
    {
      "cell_type": "code",
      "metadata": {
        "id": "jxwhU0xHtsdK",
        "colab_type": "code",
        "colab": {}
      },
      "source": [
        "#GitHub Colab directory\n",
        "# Directories for files\n",
        "holmes_file = '/content/DL_Assg2/holmes.txt'"
      ],
      "execution_count": 3,
      "outputs": []
    },
    {
      "cell_type": "code",
      "metadata": {
        "id": "DUg9FIRJ2vOm",
        "colab_type": "code",
        "colab": {
          "base_uri": "https://localhost:8080/",
          "height": 122
        },
        "outputId": "1573b537-102f-4c90-847f-780c660e1e94"
      },
      "source": [
        "#Google drive model upload/save storage\n",
        "from google.colab import drive\n",
        "drive.mount('/content/drive')\n",
        "\n",
        "model_path='/content/drive/My Drive/Colab Notebooks/DL_Assg2_Models/'"
      ],
      "execution_count": 4,
      "outputs": [
        {
          "output_type": "stream",
          "text": [
            "Go to this URL in a browser: https://accounts.google.com/o/oauth2/auth?client_id=947318989803-6bn6qk8qdgf4n4g3pfee6491hc0brc4i.apps.googleusercontent.com&redirect_uri=urn%3aietf%3awg%3aoauth%3a2.0%3aoob&response_type=code&scope=email%20https%3a%2f%2fwww.googleapis.com%2fauth%2fdocs.test%20https%3a%2f%2fwww.googleapis.com%2fauth%2fdrive%20https%3a%2f%2fwww.googleapis.com%2fauth%2fdrive.photos.readonly%20https%3a%2f%2fwww.googleapis.com%2fauth%2fpeopleapi.readonly\n",
            "\n",
            "Enter your authorization code:\n",
            "··········\n",
            "Mounted at /content/drive\n"
          ],
          "name": "stdout"
        }
      ]
    },
    {
      "cell_type": "markdown",
      "metadata": {
        "id": "D2Kg21HiI516",
        "colab_type": "text"
      },
      "source": [
        "## Step 1 – Data Loading and Processing"
      ]
    },
    {
      "cell_type": "markdown",
      "metadata": {
        "id": "Ks9_vlLFI517",
        "colab_type": "text"
      },
      "source": [
        "### 1.1 Data Loading"
      ]
    },
    {
      "cell_type": "code",
      "metadata": {
        "id": "lkkMJj9xI518",
        "colab_type": "code",
        "colab": {
          "base_uri": "https://localhost:8080/",
          "height": 51
        },
        "outputId": "bfe22174-c2b6-4eb3-932b-127cbf66f87d"
      },
      "source": [
        "# read in the text file, transforming everything to lower case\n",
        "text = open(holmes_file).read().lower()\n",
        "print('The original text has ' + str(len(text)) + ' characters.\\n')"
      ],
      "execution_count": 24,
      "outputs": [
        {
          "output_type": "stream",
          "text": [
            "The original text has 562422 characters.\n",
            "\n"
          ],
          "name": "stdout"
        }
      ]
    },
    {
      "cell_type": "markdown",
      "metadata": {
        "id": "hLIWFJd7I52B",
        "colab_type": "text"
      },
      "source": [
        "### 1.2 Data Processing\n"
      ]
    },
    {
      "cell_type": "code",
      "metadata": {
        "id": "lGP4sQdQI52D",
        "colab_type": "code",
        "colab": {
          "base_uri": "https://localhost:8080/",
          "height": 103
        },
        "outputId": "9d2ca2f2-a077-4736-fafb-34a59b9e5b34"
      },
      "source": [
        "### print out the first 1000 characters of the raw text to get a sense of what characters to remove\n",
        "text[:2000]"
      ],
      "execution_count": 25,
      "outputs": [
        {
          "output_type": "execute_result",
          "data": {
            "application/vnd.google.colaboratory.intrinsic+json": {
              "type": "string"
            },
            "text/plain": [
              "\"\\ufeffthe adventures of sherlock holmes by sir arthur conan doyle\\n\\n   i. a scandal in bohemia\\n  ii. the red-headed league\\n iii. a case of identity\\n  iv. the boscombe valley mystery\\n   v. the five orange pips\\n  vi. the man with the twisted lip\\n vii. the adventure of the blue carbuncle\\nviii. the adventure of the speckled band\\n  ix. the adventure of the engineer's thumb\\n   x. the adventure of the noble bachelor\\n  xi. the adventure of the beryl coronet\\n xii. the adventure of the copper beeches\\n\\n\\nadventure i. a scandal in bohemia\\n\\ni.\\n\\nto sherlock holmes she is always the woman. i have seldom heard\\nhim mention her under any other name. in his eyes she eclipses\\nand predominates the whole of her sex. it was not that he felt\\nany emotion akin to love for irene adler. all emotions, and that\\none particularly, were abhorrent to his cold, precise but\\nadmirably balanced mind. he was, i take it, the most perfect\\nreasoning and observing machine that the world has seen, but as a\\nlover he would have placed himself in a false position. he never\\nspoke of the softer passions, save with a gibe and a sneer. they\\nwere admirable things for the observer--excellent for drawing the\\nveil from men's motives and actions. but for the trained reasoner\\nto admit such intrusions into his own delicate and finely\\nadjusted temperament was to introduce a distracting factor which\\nmight throw a doubt upon all his mental results. grit in a\\nsensitive instrument, or a crack in one of his own high-power\\nlenses, would not be more disturbing than a strong emotion in a\\nnature such as his. and yet there was but one woman to him, and\\nthat woman was the late irene adler, of dubious and questionable\\nmemory.\\n\\ni had seen little of holmes lately. my marriage had drifted us\\naway from each other. my own complete happiness, and the\\nhome-centred interests which rise up around the man who first\\nfinds himself master of his own establishment, were sufficient to\\nabsorb all my attention, while holmes, who loathed every form of\\nsociety \""
            ]
          },
          "metadata": {
            "tags": []
          },
          "execution_count": 25
        }
      ]
    },
    {
      "cell_type": "code",
      "metadata": {
        "id": "Yj278P-JI52J",
        "colab_type": "code",
        "colab": {
          "base_uri": "https://localhost:8080/",
          "height": 54
        },
        "outputId": "b4e9a613-7ce1-479b-969b-75789ab3ae73"
      },
      "source": [
        "# remove all '\\n' and '\\r' from text\n",
        "text = text.replace('\\n','') \n",
        "text = text.replace('\\r','')\n",
        "\n",
        "print(text[:2000])"
      ],
      "execution_count": 26,
      "outputs": [
        {
          "output_type": "stream",
          "text": [
            "﻿the adventures of sherlock holmes by sir arthur conan doyle   i. a scandal in bohemia  ii. the red-headed league iii. a case of identity  iv. the boscombe valley mystery   v. the five orange pips  vi. the man with the twisted lip vii. the adventure of the blue carbuncleviii. the adventure of the speckled band  ix. the adventure of the engineer's thumb   x. the adventure of the noble bachelor  xi. the adventure of the beryl coronet xii. the adventure of the copper beechesadventure i. a scandal in bohemiai.to sherlock holmes she is always the woman. i have seldom heardhim mention her under any other name. in his eyes she eclipsesand predominates the whole of her sex. it was not that he feltany emotion akin to love for irene adler. all emotions, and thatone particularly, were abhorrent to his cold, precise butadmirably balanced mind. he was, i take it, the most perfectreasoning and observing machine that the world has seen, but as alover he would have placed himself in a false position. he neverspoke of the softer passions, save with a gibe and a sneer. theywere admirable things for the observer--excellent for drawing theveil from men's motives and actions. but for the trained reasonerto admit such intrusions into his own delicate and finelyadjusted temperament was to introduce a distracting factor whichmight throw a doubt upon all his mental results. grit in asensitive instrument, or a crack in one of his own high-powerlenses, would not be more disturbing than a strong emotion in anature such as his. and yet there was but one woman to him, andthat woman was the late irene adler, of dubious and questionablememory.i had seen little of holmes lately. my marriage had drifted usaway from each other. my own complete happiness, and thehome-centred interests which rise up around the man who firstfinds himself master of his own establishment, were sufficient toabsorb all my attention, while holmes, who loathed every form ofsociety with his whole bohemian soul, remained in our\n"
          ],
          "name": "stdout"
        }
      ]
    },
    {
      "cell_type": "code",
      "metadata": {
        "id": "_c9L0L8kI52O",
        "colab_type": "code",
        "colab": {}
      },
      "source": [
        "# create a function 'clean_text' to clean text so that only the following letters and punctation remain\n",
        "def clean_text(text):\n",
        "    punctuation = ['!', ',', '.', ':', ';', '?', '-', \"'\",' ']\n",
        "    letters='abcdefghijklmnopqrstuvwxyz'\n",
        "    \n",
        "    # Enter your code here:\n",
        "    clean_text=''\n",
        "\n",
        "    for i in text:\n",
        "      if i in punctuation or i in letters:\n",
        "        clean_text+=i\n",
        "\n",
        "    return clean_text"
      ],
      "execution_count": 27,
      "outputs": []
    },
    {
      "cell_type": "code",
      "metadata": {
        "id": "gPQWTfXVI52T",
        "colab_type": "code",
        "colab": {
          "base_uri": "https://localhost:8080/",
          "height": 103
        },
        "outputId": "239dd4f8-d814-473b-d379-84d523fee558"
      },
      "source": [
        "# clean data using clean_text function\n",
        "text = clean_text(text)\n",
        "text[:2000]"
      ],
      "execution_count": 28,
      "outputs": [
        {
          "output_type": "execute_result",
          "data": {
            "application/vnd.google.colaboratory.intrinsic+json": {
              "type": "string"
            },
            "text/plain": [
              "\"the adventures of sherlock holmes by sir arthur conan doyle   i. a scandal in bohemia  ii. the red-headed league iii. a case of identity  iv. the boscombe valley mystery   v. the five orange pips  vi. the man with the twisted lip vii. the adventure of the blue carbuncleviii. the adventure of the speckled band  ix. the adventure of the engineer's thumb   x. the adventure of the noble bachelor  xi. the adventure of the beryl coronet xii. the adventure of the copper beechesadventure i. a scandal in bohemiai.to sherlock holmes she is always the woman. i have seldom heardhim mention her under any other name. in his eyes she eclipsesand predominates the whole of her sex. it was not that he feltany emotion akin to love for irene adler. all emotions, and thatone particularly, were abhorrent to his cold, precise butadmirably balanced mind. he was, i take it, the most perfectreasoning and observing machine that the world has seen, but as alover he would have placed himself in a false position. he neverspoke of the softer passions, save with a gibe and a sneer. theywere admirable things for the observer--excellent for drawing theveil from men's motives and actions. but for the trained reasonerto admit such intrusions into his own delicate and finelyadjusted temperament was to introduce a distracting factor whichmight throw a doubt upon all his mental results. grit in asensitive instrument, or a crack in one of his own high-powerlenses, would not be more disturbing than a strong emotion in anature such as his. and yet there was but one woman to him, andthat woman was the late irene adler, of dubious and questionablememory.i had seen little of holmes lately. my marriage had drifted usaway from each other. my own complete happiness, and thehome-centred interests which rise up around the man who firstfinds himself master of his own establishment, were sufficient toabsorb all my attention, while holmes, who loathed every form ofsociety with his whole bohemian soul, remained in our \""
            ]
          },
          "metadata": {
            "tags": []
          },
          "execution_count": 28
        }
      ]
    },
    {
      "cell_type": "code",
      "metadata": {
        "id": "e87QvJb0I52b",
        "colab_type": "code",
        "colab": {
          "base_uri": "https://localhost:8080/",
          "height": 51
        },
        "outputId": "35e2b283-a0a3-4982-abe6-1459a31515f6"
      },
      "source": [
        "# count the number of unique characters in the text\n",
        "chars = sorted(list(set(text)))\n",
        "\n",
        "# print some of the text, as well as statistics\n",
        "print (\"This document has \" +  str(len(text)) + \" total number of characters.\")\n",
        "print (\"This document has \" +  str(len(chars)) + \" unique characters.\")"
      ],
      "execution_count": 30,
      "outputs": [
        {
          "output_type": "stream",
          "text": [
            "This document has 544340 total number of characters.\n",
            "This document has 35 unique characters.\n"
          ],
          "name": "stdout"
        }
      ]
    },
    {
      "cell_type": "code",
      "metadata": {
        "id": "dbTlR9MYI52i",
        "colab_type": "code",
        "colab": {}
      },
      "source": [
        "# create a function 'generate_text_io' to generate text inputs based on window_size and the corresponding labels\n",
        "def generate_text_io(text, window_size):\n",
        "    inputs = [] # store inputs\n",
        "    labels = [] # stores label\n",
        "    \n",
        "    # Enter your code here:\n",
        "    for i in range(0, len(text)-window_size):\n",
        "      inputs.append(text[i:i+window_size])\n",
        "      labels.append(text[i+window_size])\n",
        "    \n",
        "    print(\"Num of Sequences: \",len(inputs))\n",
        "    return inputs, labels"
      ],
      "execution_count": 33,
      "outputs": []
    },
    {
      "cell_type": "code",
      "metadata": {
        "id": "S6Dg_Cx8I52n",
        "colab_type": "code",
        "colab": {}
      },
      "source": [
        "# this dictionary is a function mapping each unique character to a unique integer\n",
        "chars_to_indices = dict((c, i) for i, c in enumerate(chars))  # map each unique character to unique integer\n",
        "\n",
        "# this dictionary is a function mapping each unique integer back to a unique character\n",
        "indices_to_chars = dict((i, c) for i, c in enumerate(chars))  # map each unique integer back to unique character"
      ],
      "execution_count": 34,
      "outputs": []
    },
    {
      "cell_type": "code",
      "metadata": {
        "id": "wLtbs_nQI52s",
        "colab_type": "code",
        "colab": {}
      },
      "source": [
        "import numpy as np\n",
        "\n",
        "# create a function 'encode_io_pairs' to perform one-hot encoding of inputs and labels\n",
        "def encode_io_pairs(text,window_size): # window_size determines # of characters in each input\n",
        "    \n",
        "    # Enter your code here:\n",
        "    inputs, labels = generate_text_io(text, window_size)\n",
        "\n",
        "\n",
        "    # Next, one-hot encode the characters into binary arrays.\n",
        "    print('Vectorization...')\n",
        "    x = np.zeros((len(inputs), window_size, len(chars)), dtype=np.bool)\n",
        "    y = np.zeros((len(inputs), len(chars)), dtype=np.bool)\n",
        "    for i, sentence in enumerate(inputs):\n",
        "        for t, char in enumerate(sentence):\n",
        "            x[i, t, chars_to_indices[char]] = 1\n",
        "        y[i, chars_to_indices[labels[i]]] = 1\n",
        "\n",
        "    return x, y"
      ],
      "execution_count": 45,
      "outputs": []
    },
    {
      "cell_type": "code",
      "metadata": {
        "id": "z4DmtYlFI52v",
        "colab_type": "code",
        "colab": {
          "base_uri": "https://localhost:8080/",
          "height": 51
        },
        "outputId": "8260e654-3a5c-45cf-9ae6-935ad498e118"
      },
      "source": [
        "# perform one-hot encoding of inputs and labels\n",
        "window_size = 100\n",
        "X, y = encode_io_pairs(text, window_size)"
      ],
      "execution_count": 46,
      "outputs": [
        {
          "output_type": "stream",
          "text": [
            "Num of Sequences:  544240\n",
            "Vectorization...\n"
          ],
          "name": "stdout"
        }
      ]
    },
    {
      "cell_type": "markdown",
      "metadata": {
        "id": "VgsRhr7iI523",
        "colab_type": "text"
      },
      "source": [
        "### 1.3 Data Sampling"
      ]
    },
    {
      "cell_type": "code",
      "metadata": {
        "id": "hok9eKyJI524",
        "colab_type": "code",
        "colab": {}
      },
      "source": [
        "# Split the X & y into train and test sets\n",
        "from sklearn.model_selection import train_test_split\n",
        "x_train,x_test, y_train, y_test = train_test_split(X, y, test_size=0.2, random_state = 13)\n",
        "# Refer the report Appendix\n",
        "# Please enter the random_state assigned to your group"
      ],
      "execution_count": 54,
      "outputs": []
    },
    {
      "cell_type": "markdown",
      "metadata": {
        "id": "SusdQ13dI528",
        "colab_type": "text"
      },
      "source": [
        "## Step 2 – Develop a Character Generator Model"
      ]
    },
    {
      "cell_type": "markdown",
      "metadata": {
        "id": "OE5jwFcdI52_",
        "colab_type": "text"
      },
      "source": [
        "### Model #1 (Replicate as necessary for other models)"
      ]
    },
    {
      "cell_type": "code",
      "metadata": {
        "id": "RchO2-ZUI53D",
        "colab_type": "code",
        "colab": {
          "base_uri": "https://localhost:8080/",
          "height": 221
        },
        "outputId": "486a6351-6768-4d52-c703-39b2dd161446"
      },
      "source": [
        "# Build the Model\n",
        "# Enter your code here:\n",
        "from tensorflow.keras.models import Sequential\n",
        "from tensorflow.keras import layers\n",
        "from tensorflow.keras.optimizers import RMSprop\n",
        "\n",
        "model = keras.models.Sequential()\n",
        "model.add(layers.LSTM(128, input_shape=(window_size, len(chars)))) #multiclass single label classification\n",
        "model.add(layers.Dense(len(chars), activation='softmax'))\n",
        "\n",
        "model.summary()\n"
      ],
      "execution_count": 55,
      "outputs": [
        {
          "output_type": "stream",
          "text": [
            "Model: \"sequential_2\"\n",
            "_________________________________________________________________\n",
            "Layer (type)                 Output Shape              Param #   \n",
            "=================================================================\n",
            "lstm_1 (LSTM)                (None, 128)               83968     \n",
            "_________________________________________________________________\n",
            "dense_1 (Dense)              (None, 35)                4515      \n",
            "=================================================================\n",
            "Total params: 88,483\n",
            "Trainable params: 88,483\n",
            "Non-trainable params: 0\n",
            "_________________________________________________________________\n"
          ],
          "name": "stdout"
        }
      ]
    },
    {
      "cell_type": "code",
      "metadata": {
        "id": "d5TvSPvgI53G",
        "colab_type": "code",
        "colab": {
          "base_uri": "https://localhost:8080/",
          "height": 1000
        },
        "outputId": "0bd908ac-ae2a-4013-b4c6-0f23abd12cf7"
      },
      "source": [
        "# Train the Model\n",
        "# Enter your code here:\n",
        "model.compile(loss='categorical_crossentropy', optimizer=RMSprop(lr=0.01), metrics=['acc'])\n",
        "\n",
        "history = model.fit(x_train, y_train,\n",
        "                    epochs=30,\n",
        "                    batch_size=128) "
      ],
      "execution_count": 56,
      "outputs": [
        {
          "output_type": "stream",
          "text": [
            "Epoch 1/30\n",
            "3402/3402 [==============================] - 92s 27ms/step - loss: 1.8018 - acc: 0.4699\n",
            "Epoch 2/30\n",
            "3402/3402 [==============================] - 91s 27ms/step - loss: 1.5614 - acc: 0.5375\n",
            "Epoch 3/30\n",
            "3402/3402 [==============================] - 91s 27ms/step - loss: 1.5007 - acc: 0.5541\n",
            "Epoch 4/30\n",
            "3402/3402 [==============================] - 90s 27ms/step - loss: 1.4686 - acc: 0.5632\n",
            "Epoch 5/30\n",
            "3402/3402 [==============================] - 90s 26ms/step - loss: 1.4475 - acc: 0.5689\n",
            "Epoch 6/30\n",
            "3402/3402 [==============================] - 90s 27ms/step - loss: 1.4315 - acc: 0.5734\n",
            "Epoch 7/30\n",
            "3402/3402 [==============================] - 89s 26ms/step - loss: 1.4205 - acc: 0.5755\n",
            "Epoch 8/30\n",
            "3402/3402 [==============================] - 90s 26ms/step - loss: 1.4106 - acc: 0.5791\n",
            "Epoch 9/30\n",
            "3402/3402 [==============================] - 91s 27ms/step - loss: 1.4030 - acc: 0.5802\n",
            "Epoch 10/30\n",
            "3402/3402 [==============================] - 91s 27ms/step - loss: 1.3953 - acc: 0.5830\n",
            "Epoch 11/30\n",
            "3402/3402 [==============================] - 90s 26ms/step - loss: 1.3897 - acc: 0.5840\n",
            "Epoch 12/30\n",
            "3402/3402 [==============================] - 85s 25ms/step - loss: 1.3867 - acc: 0.5851\n",
            "Epoch 13/30\n",
            "3402/3402 [==============================] - 85s 25ms/step - loss: 1.3815 - acc: 0.5860\n",
            "Epoch 14/30\n",
            "3402/3402 [==============================] - 84s 25ms/step - loss: 1.3764 - acc: 0.5878\n",
            "Epoch 15/30\n",
            "3402/3402 [==============================] - 85s 25ms/step - loss: 1.3693 - acc: 0.5900\n",
            "Epoch 16/30\n",
            "3402/3402 [==============================] - 90s 26ms/step - loss: 1.4196 - acc: 0.5790\n",
            "Epoch 17/30\n",
            "3402/3402 [==============================] - 85s 25ms/step - loss: 1.4303 - acc: 0.5745\n",
            "Epoch 18/30\n",
            "3402/3402 [==============================] - 85s 25ms/step - loss: 1.6134 - acc: 0.5318\n",
            "Epoch 19/30\n",
            "3402/3402 [==============================] - 85s 25ms/step - loss: 1.9644 - acc: 0.4544\n",
            "Epoch 20/30\n",
            "3402/3402 [==============================] - 84s 25ms/step - loss: 2.3639 - acc: 0.3800\n",
            "Epoch 21/30\n",
            "3402/3402 [==============================] - 85s 25ms/step - loss: 3.0418 - acc: 0.2868\n",
            "Epoch 22/30\n",
            "3402/3402 [==============================] - 84s 25ms/step - loss: 2.9126 - acc: 0.2812\n",
            "Epoch 23/30\n",
            "3402/3402 [==============================] - 84s 25ms/step - loss: 2.7368 - acc: 0.2833\n",
            "Epoch 24/30\n",
            "3402/3402 [==============================] - 89s 26ms/step - loss: 2.6454 - acc: 0.2841\n",
            "Epoch 25/30\n",
            "3402/3402 [==============================] - 90s 27ms/step - loss: 2.5905 - acc: 0.2845\n",
            "Epoch 26/30\n",
            "3402/3402 [==============================] - 90s 26ms/step - loss: 2.5597 - acc: 0.2852\n",
            "Epoch 27/30\n",
            "3402/3402 [==============================] - 90s 27ms/step - loss: 2.5404 - acc: 0.2851\n",
            "Epoch 28/30\n",
            "3402/3402 [==============================] - 89s 26ms/step - loss: 2.5305 - acc: 0.2847\n",
            "Epoch 29/30\n",
            "3402/3402 [==============================] - 88s 26ms/step - loss: 2.5249 - acc: 0.2853\n",
            "Epoch 30/30\n",
            "3402/3402 [==============================] - 85s 25ms/step - loss: 2.5189 - acc: 0.2858\n"
          ],
          "name": "stdout"
        }
      ]
    },
    {
      "cell_type": "code",
      "metadata": {
        "id": "-LIpw4rJI53K",
        "colab_type": "code",
        "colab": {
          "base_uri": "https://localhost:8080/",
          "height": 545
        },
        "outputId": "29bb9845-c60e-4d3c-d03a-97819239125c"
      },
      "source": [
        "# Plot the Training and Validation Accuracy & Loss Scores\n",
        "# Enter your code here:\n",
        "%matplotlib inline\n",
        "import matplotlib.pyplot as plt\n",
        "\n",
        "acc = history.history['acc']\n",
        "loss = history.history['loss']\n",
        "\n",
        "epochs = range(1, len(acc) + 1)\n",
        "\n",
        "plt.plot(epochs, acc, 'bo', label='Training acc')\n",
        "plt.title('Training and validation accuracy')\n",
        "plt.legend()\n",
        "\n",
        "plt.figure()\n",
        "\n",
        "plt.plot(epochs, loss, 'bo', label='Training loss')\n",
        "plt.title('Training and validation loss')\n",
        "plt.legend()\n",
        "\n",
        "plt.show()"
      ],
      "execution_count": 57,
      "outputs": [
        {
          "output_type": "display_data",
          "data": {
            "image/png": "[encoded data removed]",
            "text/plain": [
              "<Figure size 432x288 with 1 Axes>"
            ]
          },
          "metadata": {
            "tags": [],
            "needs_background": "light"
          }
        },
        {
          "output_type": "display_data",
          "data": {
            "image/png": "[encoded data removed]",
            "text/plain": [
              "<Figure size 432x288 with 1 Axes>"
            ]
          },
          "metadata": {
            "tags": [],
            "needs_background": "light"
          }
        }
      ]
    },
    {
      "cell_type": "code",
      "metadata": {
        "id": "duLUdKGdI53k",
        "colab_type": "code",
        "colab": {}
      },
      "source": [
        "# Save the Model\n",
        "model.save('chgen_model_1.h5')"
      ],
      "execution_count": null,
      "outputs": []
    },
    {
      "cell_type": "markdown",
      "metadata": {
        "id": "bzAwbwC-I53w",
        "colab_type": "text"
      },
      "source": [
        "## Step 3 – Evaluate the Model using Testing Data "
      ]
    },
    {
      "cell_type": "code",
      "metadata": {
        "id": "VYXEmNYiI53y",
        "colab_type": "code",
        "colab": {}
      },
      "source": [
        "# Model #1 (replicate where necessary for other models)\n",
        "model.load_weights('chgen_model_1.h5')\n",
        "# Enter your code here:\n"
      ],
      "execution_count": null,
      "outputs": []
    },
    {
      "cell_type": "code",
      "metadata": {
        "id": "6W9aw-gYI531",
        "colab_type": "code",
        "colab": {}
      },
      "source": [
        "# Save the Best Model\n",
        "model.save('chgen_model_best.h5')"
      ],
      "execution_count": null,
      "outputs": []
    },
    {
      "cell_type": "markdown",
      "metadata": {
        "id": "X2tl88lVI534",
        "colab_type": "text"
      },
      "source": [
        "## Step 4 – Use the Best Model to make prediction"
      ]
    },
    {
      "cell_type": "code",
      "metadata": {
        "id": "fut2ah3XI534",
        "colab_type": "code",
        "colab": {}
      },
      "source": [
        "model.load_weights('chgen_model_best.h5')"
      ],
      "execution_count": null,
      "outputs": []
    },
    {
      "cell_type": "code",
      "metadata": {
        "id": "Ams3yC-tI536",
        "colab_type": "code",
        "colab": {}
      },
      "source": [
        "# takes the user input\n",
        "text_input = np.array([input()])"
      ],
      "execution_count": null,
      "outputs": []
    },
    {
      "cell_type": "code",
      "metadata": {
        "id": "xPtgTENdI537",
        "colab_type": "code",
        "colab": {}
      },
      "source": [
        "# one-hot encode the user input\n",
        "# Enter your code here:\n"
      ],
      "execution_count": null,
      "outputs": []
    },
    {
      "cell_type": "code",
      "metadata": {
        "id": "SCzfS7H7I53_",
        "colab_type": "code",
        "colab": {}
      },
      "source": [
        "# show the model output using predict function\n",
        "# Enter your code here:\n"
      ],
      "execution_count": null,
      "outputs": []
    }
  ]
}