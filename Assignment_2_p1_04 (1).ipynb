{
  "nbformat": 4,
  "nbformat_minor": 0,
  "metadata": {
    "kernelspec": {
      "display_name": "Python 3",
      "language": "python",
      "name": "python3"
    },
    "language_info": {
      "codemirror_mode": {
        "name": "ipython",
        "version": 3
      },
      "file_extension": ".py",
      "mimetype": "text/x-python",
      "name": "python",
      "nbconvert_exporter": "python",
      "pygments_lexer": "ipython3",
      "version": "3.7.4"
    },
    "colab": {
      "name": "Assignment_2_p1_04.ipynb",
      "provenance": [],
      "collapsed_sections": [
        "2_4dPW7Ps4v1",
        "jlIGwi2QOTva",
        "kcvgXM7pOTvj",
        "_OoyAGNnVyqa"
      ]
    },
    "accelerator": "GPU"
  },
  "cells": [
    {
      "cell_type": "markdown",
      "metadata": {
        "id": "eMZtRFMjs4vn",
        "colab_type": "text"
      },
      "source": [
        "<table class=\"table table-bordered\">\n",
        "    <tr>\n",
        "        <th style=\"text-align:center; width:25%\"><img src='https://www.np.edu.sg/PublishingImages/Pages/default/odp/ICT.jpg' style=\"width: 250px; height: 125px; \"></th>\n",
        "        <th style=\"text-align:center;\"><h1>Deep Learning</h1><h2>Assignment 2 - Sentiment Analysis Model (Problem 1)</h2><h3>AY2020/21 Semester</h3></th>\n",
        "    </tr>\n",
        "</table>"
      ]
    },
    {
      "cell_type": "code",
      "metadata": {
        "id": "kVXPe4Xes4vo",
        "colab_type": "code",
        "colab": {
          "base_uri": "https://localhost:8080/",
          "height": 34
        },
        "outputId": "5f2b32dd-e46c-4b0d-b5eb-9e7bc7f0faac"
      },
      "source": [
        "# Import the Required Packages\n",
        "from tensorflow import keras\n",
        "print('keras: ', keras.__version__)\n",
        "from IPython.core.display import display, HTML\n",
        "display(HTML(\"<style>.container { width:95% !important; }</style>\"))"
      ],
      "execution_count": null,
      "outputs": [
        {
          "output_type": "stream",
          "text": [
            "keras:  2.4.0\n"
          ],
          "name": "stdout"
        },
        {
          "output_type": "display_data",
          "data": {
            "text/html": [
              "<style>.container { width:95% !important; }</style>"
            ],
            "text/plain": [
              "<IPython.core.display.HTML object>"
            ]
          },
          "metadata": {
            "tags": []
          }
        }
      ]
    },
    {
      "cell_type": "markdown",
      "metadata": {
        "id": "m4oJIdijtkeY",
        "colab_type": "text"
      },
      "source": [
        "### GitHub + Colab"
      ]
    },
    {
      "cell_type": "code",
      "metadata": {
        "id": "qz90Yb82trAa",
        "colab_type": "code",
        "colab": {
          "base_uri": "https://localhost:8080/",
          "height": 119
        },
        "outputId": "55f5d09f-b7ec-411c-88de-bf76d641aabe"
      },
      "source": [
        "#run for GitHub Colab\n",
        "!git clone \"https://github.com/OldManSteve/DL_Assg2.git\"\n"
      ],
      "execution_count": null,
      "outputs": [
        {
          "output_type": "stream",
          "text": [
            "Cloning into 'DL_Assg2'...\n",
            "remote: Enumerating objects: 51, done.\u001b[K\n",
            "remote: Counting objects: 100% (51/51), done.\u001b[K\n",
            "remote: Compressing objects: 100% (41/41), done.\u001b[K\n",
            "remote: Total 51 (delta 15), reused 42 (delta 9), pack-reused 0\u001b[K\n",
            "Unpacking objects: 100% (51/51), done.\n"
          ],
          "name": "stdout"
        }
      ]
    },
    {
      "cell_type": "code",
      "metadata": {
        "id": "jxwhU0xHtsdK",
        "colab_type": "code",
        "colab": {}
      },
      "source": [
        "#GitHub Colab directory\n",
        "# Directories for files\n",
        "map_file = '/content/DL_Assg2/mapping.csv'\n",
        "dataset_file = '/content/DL_Assg2/dataset.csv'"
      ],
      "execution_count": null,
      "outputs": []
    },
    {
      "cell_type": "code",
      "metadata": {
        "id": "DUg9FIRJ2vOm",
        "colab_type": "code",
        "colab": {
          "base_uri": "https://localhost:8080/",
          "height": 122
        },
        "outputId": "056f4913-31e0-46d9-ef35-016b32167553"
      },
      "source": [
        "#Google drive model upload/save storage\n",
        "from google.colab import drive\n",
        "drive.mount('/content/drive')\n",
        "\n",
        "model_path='/content/drive/My Drive/Colab Notebooks/DL_Assg2_Models/'"
      ],
      "execution_count": null,
      "outputs": [
        {
          "output_type": "stream",
          "text": [
            "Go to this URL in a browser: https://accounts.google.com/o/oauth2/auth?client_id=947318989803-6bn6qk8qdgf4n4g3pfee6491hc0brc4i.apps.googleusercontent.com&redirect_uri=urn%3aietf%3awg%3aoauth%3a2.0%3aoob&scope=email%20https%3a%2f%2fwww.googleapis.com%2fauth%2fdocs.test%20https%3a%2f%2fwww.googleapis.com%2fauth%2fdrive%20https%3a%2f%2fwww.googleapis.com%2fauth%2fdrive.photos.readonly%20https%3a%2f%2fwww.googleapis.com%2fauth%2fpeopleapi.readonly&response_type=code\n",
            "\n",
            "Enter your authorization code:\n",
            "··········\n",
            "Mounted at /content/drive\n"
          ],
          "name": "stdout"
        }
      ]
    },
    {
      "cell_type": "markdown",
      "metadata": {
        "id": "O-p9KGOCs4vq",
        "colab_type": "text"
      },
      "source": [
        "## Step 1 – Data Loading and Processing"
      ]
    },
    {
      "cell_type": "markdown",
      "metadata": {
        "id": "gJHdIaeas4vr",
        "colab_type": "text"
      },
      "source": [
        "### 1.1 Data Loading"
      ]
    },
    {
      "cell_type": "code",
      "metadata": {
        "id": "tufpml9ss4vr",
        "colab_type": "code",
        "colab": {
          "base_uri": "https://localhost:8080/",
          "height": 51
        },
        "outputId": "fa0b1882-6081-4ed6-c0e2-be47ddba4683"
      },
      "source": [
        "# Load the emoji_dictionary\n",
        "import pandas as pd\n",
        "df = pd.read_csv(map_file, delimiter=',')\n",
        "emoji_dictionary = df.loc[:,'emoticons'].to_dict()\n",
        "print(emoji_dictionary)\n",
        "print('A total of: ', len(emoji_dictionary), 'Emoji Icons')"
      ],
      "execution_count": null,
      "outputs": [
        {
          "output_type": "stream",
          "text": [
            "{0: '😍', 1: '😂', 2: '📷', 3: '🔥', 4: '❤'}\n",
            "A total of:  5 Emoji Icons\n"
          ],
          "name": "stdout"
        }
      ]
    },
    {
      "cell_type": "code",
      "metadata": {
        "id": "FYlJhoVIs4vt",
        "colab_type": "code",
        "colab": {
          "base_uri": "https://localhost:8080/",
          "height": 204
        },
        "outputId": "38e5f9d7-024f-42b1-8ec2-e442769ff516"
      },
      "source": [
        "# load the dataset\n",
        "dat = pd.read_csv(dataset_file, delimiter=',')\n",
        "texts = dat.loc[:,'TEXT'].values \n",
        "labels = dat.loc[:,'Label'].values\n",
        "\n",
        "dat.head()"
      ],
      "execution_count": null,
      "outputs": [
        {
          "output_type": "execute_result",
          "data": {
            "text/html": [
              "<div>\n",
              "<style scoped>\n",
              "    .dataframe tbody tr th:only-of-type {\n",
              "        vertical-align: middle;\n",
              "    }\n",
              "\n",
              "    .dataframe tbody tr th {\n",
              "        vertical-align: top;\n",
              "    }\n",
              "\n",
              "    .dataframe thead th {\n",
              "        text-align: right;\n",
              "    }\n",
              "</style>\n",
              "<table border=\"1\" class=\"dataframe\">\n",
              "  <thead>\n",
              "    <tr style=\"text-align: right;\">\n",
              "      <th></th>\n",
              "      <th>TEXT</th>\n",
              "      <th>Label</th>\n",
              "    </tr>\n",
              "  </thead>\n",
              "  <tbody>\n",
              "    <tr>\n",
              "      <th>0</th>\n",
              "      <td>Been friends since 7th grade. Look at us now w...</td>\n",
              "      <td>0</td>\n",
              "    </tr>\n",
              "    <tr>\n",
              "      <th>1</th>\n",
              "      <td>This is what it looks like when someone loves ...</td>\n",
              "      <td>1</td>\n",
              "    </tr>\n",
              "    <tr>\n",
              "      <th>2</th>\n",
              "      <td>RT @user this white family was invited to a Bl...</td>\n",
              "      <td>1</td>\n",
              "    </tr>\n",
              "    <tr>\n",
              "      <th>3</th>\n",
              "      <td>Westenders @user #LAZzNation @ Weston, Toronto\\n</td>\n",
              "      <td>2</td>\n",
              "    </tr>\n",
              "    <tr>\n",
              "      <th>4</th>\n",
              "      <td>Maxwell heads home @ Summa Akron City Hospital\\n</td>\n",
              "      <td>0</td>\n",
              "    </tr>\n",
              "  </tbody>\n",
              "</table>\n",
              "</div>"
            ],
            "text/plain": [
              "                                                TEXT  Label\n",
              "0  Been friends since 7th grade. Look at us now w...      0\n",
              "1  This is what it looks like when someone loves ...      1\n",
              "2  RT @user this white family was invited to a Bl...      1\n",
              "3   Westenders @user #LAZzNation @ Weston, Toronto\\n      2\n",
              "4   Maxwell heads home @ Summa Akron City Hospital\\n      0"
            ]
          },
          "metadata": {
            "tags": []
          },
          "execution_count": 6
        }
      ]
    },
    {
      "cell_type": "code",
      "metadata": {
        "id": "goRqSfs_s4vv",
        "colab_type": "code",
        "colab": {
          "base_uri": "https://localhost:8080/",
          "height": 34
        },
        "outputId": "2ef3c3a4-b1d3-4bff-cf11-230dd414fe82"
      },
      "source": [
        "# Check the maximum length of texts\n",
        "max_len = -1\n",
        "for example in texts:\n",
        "    if len(example.split()) > max_len:\n",
        "        max_len = len(example.split())\n",
        "        \n",
        "print('the maximum length of the text inputs is ', max_len)"
      ],
      "execution_count": null,
      "outputs": [
        {
          "output_type": "stream",
          "text": [
            "the maximum length of the text inputs is  34\n"
          ],
          "name": "stdout"
        }
      ]
    },
    {
      "cell_type": "markdown",
      "metadata": {
        "id": "X7ozu82Ps4vw",
        "colab_type": "text"
      },
      "source": [
        "### 1.2 Data Processing\n"
      ]
    },
    {
      "cell_type": "code",
      "metadata": {
        "id": "WoK8gCOts4vx",
        "colab_type": "code",
        "colab": {
          "base_uri": "https://localhost:8080/",
          "height": 68
        },
        "outputId": "7f0c58c7-4994-4d62-c5f3-95f7560d4890"
      },
      "source": [
        "# Convert the texts and labels into numeric tensors\n",
        "from tensorflow.keras.preprocessing.text import Tokenizer\n",
        "from tensorflow.keras.preprocessing.sequence import pad_sequences\n",
        "import numpy as np\n",
        "\n",
        "max_words = 10000  # We will only consider the top 10,000 words (vocabulary) in the dataset (dictionary)\n",
        "\n",
        "tokenizer = Tokenizer(num_words=max_words)\n",
        "tokenizer.fit_on_texts(texts)\n",
        "sequences = tokenizer.texts_to_sequences(texts)\n",
        "\n",
        "word_index = tokenizer.word_index\n",
        "print('Found %s unique tokens.' % len(word_index))\n",
        "\n",
        "def vectorize_sequences(sequences, dimension=5):\n",
        "    # Create an all-zero matrix of shape (len(sequences), dimension)\n",
        "    results = np.zeros((len(sequences), dimension))\n",
        "    for i, sequence in enumerate(sequences):\n",
        "        results[i, sequence] = 1.  # set specific indices of results[i] to 1s\n",
        "    return results\n",
        "\n",
        "X = pad_sequences(sequences, maxlen=max_len)\n",
        "y = vectorize_sequences(labels)\n",
        "\n",
        "print('Shape of data tensor:', X.shape)\n",
        "print('Shape of label tensor:', y.shape)"
      ],
      "execution_count": null,
      "outputs": [
        {
          "output_type": "stream",
          "text": [
            "Found 54076 unique tokens.\n",
            "Shape of data tensor: (42546, 34)\n",
            "Shape of label tensor: (42546, 5)\n"
          ],
          "name": "stdout"
        }
      ]
    },
    {
      "cell_type": "markdown",
      "metadata": {
        "id": "8MxxTqiXs4vz",
        "colab_type": "text"
      },
      "source": [
        "### 1.3 Data Sampling"
      ]
    },
    {
      "cell_type": "code",
      "metadata": {
        "id": "t70dpAt6s4vz",
        "colab_type": "code",
        "colab": {}
      },
      "source": [
        "# Split the X & y into train and test sets\n",
        "from sklearn.model_selection import train_test_split\n",
        "x_train, X_test, y_train, y_test = train_test_split(X, y, test_size=0.2, random_state = 13)\n",
        "# Refer the report Appendix\n",
        "# Please enter the random_state assigned to your group"
      ],
      "execution_count": null,
      "outputs": []
    },
    {
      "cell_type": "markdown",
      "metadata": {
        "id": "PIF8Pojas4v1",
        "colab_type": "text"
      },
      "source": [
        "## Step 2 – Develop a Sentiment Analysis Model [CONV1D]"
      ]
    },
    {
      "cell_type": "code",
      "metadata": {
        "id": "pTLfqmWiGXqB",
        "colab_type": "code",
        "colab": {}
      },
      "source": [
        "import tensorflow as tf\n",
        "tf.keras.backend.clear_session()"
      ],
      "execution_count": null,
      "outputs": []
    },
    {
      "cell_type": "markdown",
      "metadata": {
        "id": "2_4dPW7Ps4v1",
        "colab_type": "text"
      },
      "source": [
        "### Model #1 (Replicate as necessary for other models)"
      ]
    },
    {
      "cell_type": "code",
      "metadata": {
        "id": "b3NuUXQws4v2",
        "colab_type": "code",
        "colab": {
          "base_uri": "https://localhost:8080/",
          "height": 357
        },
        "outputId": "4755f730-a983-4176-fad2-22e1f0e3a07f"
      },
      "source": [
        "# Build the Model\n",
        "from tensorflow.keras.models import Sequential\n",
        "from tensorflow.keras import layers\n",
        "from tensorflow.keras.optimizers import RMSprop\n",
        "\n",
        "model = Sequential()\n",
        "model.add(layers.Embedding(max_words, 8, input_length=max_len))\n",
        "model.add(layers.Conv1D(32, 5, activation='relu'))\n",
        "model.add(layers.MaxPooling1D(5))\n",
        "model.add(layers.Conv1D(32, 5, activation='relu'))\n",
        "model.add(layers.GlobalMaxPooling1D())\n",
        "model.add(layers.Dense(5, activation='softmax'))\n",
        "\n",
        "model.summary()"
      ],
      "execution_count": null,
      "outputs": [
        {
          "output_type": "stream",
          "text": [
            "Model: \"sequential_3\"\n",
            "_________________________________________________________________\n",
            "Layer (type)                 Output Shape              Param #   \n",
            "=================================================================\n",
            "embedding_2 (Embedding)      (None, 34, 8)             80000     \n",
            "_________________________________________________________________\n",
            "conv1d_4 (Conv1D)            (None, 30, 32)            1312      \n",
            "_________________________________________________________________\n",
            "max_pooling1d_2 (MaxPooling1 (None, 6, 32)             0         \n",
            "_________________________________________________________________\n",
            "conv1d_5 (Conv1D)            (None, 2, 32)             5152      \n",
            "_________________________________________________________________\n",
            "global_max_pooling1d (Global (None, 32)                0         \n",
            "_________________________________________________________________\n",
            "dense (Dense)                (None, 5)                 165       \n",
            "=================================================================\n",
            "Total params: 86,629\n",
            "Trainable params: 86,629\n",
            "Non-trainable params: 0\n",
            "_________________________________________________________________\n"
          ],
          "name": "stdout"
        }
      ]
    },
    {
      "cell_type": "code",
      "metadata": {
        "id": "86Liq1nqs4v4",
        "colab_type": "code",
        "colab": {
          "base_uri": "https://localhost:8080/",
          "height": 357
        },
        "outputId": "e0022e04-db4e-4743-fcc5-381102e28db1"
      },
      "source": [
        "# Train the Model\n",
        "\n",
        "model.compile(optimizer=RMSprop(lr=1e-4),\n",
        "              loss='categorical_crossentropy',\n",
        "              metrics=['acc'])\n",
        "history = model.fit(x_train, y_train,\n",
        "                    epochs=10,\n",
        "                    batch_size=2,\n",
        "                    validation_split=0.2)"
      ],
      "execution_count": null,
      "outputs": [
        {
          "output_type": "stream",
          "text": [
            "Epoch 1/10\n",
            "13614/13614 [==============================] - 74s 5ms/step - loss: 1.3423 - acc: 0.4240 - val_loss: 1.2105 - val_acc: 0.4611\n",
            "Epoch 2/10\n",
            "13614/13614 [==============================] - 76s 6ms/step - loss: 1.1959 - acc: 0.4754 - val_loss: 1.1729 - val_acc: 0.4931\n",
            "Epoch 3/10\n",
            "13614/13614 [==============================] - 74s 5ms/step - loss: 1.1523 - acc: 0.5006 - val_loss: 1.1426 - val_acc: 0.5126\n",
            "Epoch 4/10\n",
            "13614/13614 [==============================] - 74s 5ms/step - loss: 1.1208 - acc: 0.5150 - val_loss: 1.1229 - val_acc: 0.5120\n",
            "Epoch 5/10\n",
            "13614/13614 [==============================] - 74s 5ms/step - loss: 1.0991 - acc: 0.5324 - val_loss: 1.1114 - val_acc: 0.5272\n",
            "Epoch 6/10\n",
            "13614/13614 [==============================] - 75s 6ms/step - loss: 1.0836 - acc: 0.5420 - val_loss: 1.0950 - val_acc: 0.5422\n",
            "Epoch 7/10\n",
            "13614/13614 [==============================] - 75s 6ms/step - loss: 1.0694 - acc: 0.5509 - val_loss: 1.0976 - val_acc: 0.5476\n",
            "Epoch 8/10\n",
            "13614/13614 [==============================] - 74s 5ms/step - loss: 1.0626 - acc: 0.5578 - val_loss: 1.0886 - val_acc: 0.5496\n",
            "Epoch 9/10\n",
            "13614/13614 [==============================] - 74s 5ms/step - loss: 1.0582 - acc: 0.5588 - val_loss: 1.1056 - val_acc: 0.5543\n",
            "Epoch 10/10\n",
            "13614/13614 [==============================] - 74s 5ms/step - loss: 1.0545 - acc: 0.5634 - val_loss: 1.0802 - val_acc: 0.5414\n"
          ],
          "name": "stdout"
        }
      ]
    },
    {
      "cell_type": "code",
      "metadata": {
        "id": "78DirwgNs4v5",
        "colab_type": "code",
        "colab": {
          "base_uri": "https://localhost:8080/",
          "height": 545
        },
        "outputId": "acb320d5-3f41-4b6b-959e-c9b261ac231a"
      },
      "source": [
        "# Plot the Training and Validation Accuracy & Loss Scores\n",
        "import matplotlib.pyplot as plt\n",
        "%matplotlib inline\n",
        "\n",
        "acc = history.history['acc']\n",
        "val_acc = history.history['val_acc']\n",
        "loss = history.history['loss']\n",
        "val_loss = history.history['val_loss']\n",
        "\n",
        "epochs = range(len(acc))\n",
        "\n",
        "plt.plot(epochs, acc, 'bo', label='Training acc')\n",
        "plt.plot(epochs, val_acc, 'b', label='Validation acc')\n",
        "plt.title('Training and validation accuracy')\n",
        "plt.legend()\n",
        "\n",
        "plt.figure()\n",
        "\n",
        "plt.plot(epochs, loss, 'bo', label='Training loss')\n",
        "plt.plot(epochs, val_loss, 'b', label='Validation loss')\n",
        "plt.title('Training and validation loss')\n",
        "plt.legend()\n",
        "\n",
        "plt.show()"
      ],
      "execution_count": null,
      "outputs": [
        {
          "output_type": "display_data",
          "data": {
            "image/png": "[encoded data removed]",
            "text/plain": [
              "<Figure size 432x288 with 1 Axes>"
            ]
          },
          "metadata": {
            "tags": [],
            "needs_background": "light"
          }
        },
        {
          "output_type": "display_data",
          "data": {
            "image/png": "[encoded data removed]",
            "text/plain": [
              "<Figure size 432x288 with 1 Axes>"
            ]
          },
          "metadata": {
            "tags": [],
            "needs_background": "light"
          }
        }
      ]
    },
    {
      "cell_type": "code",
      "metadata": {
        "id": "yposyvd5s4v7",
        "colab_type": "code",
        "colab": {}
      },
      "source": [
        "# Save the Model\n",
        "model.save(model_path+'text_model_conv1d_1.h5')\n",
        "model.save('text_model_conv1d_1.h5')"
      ],
      "execution_count": null,
      "outputs": []
    },
    {
      "cell_type": "markdown",
      "metadata": {
        "colab_type": "text",
        "id": "vaPhCik6CfRA"
      },
      "source": [
        "### Model #1_1 (Replicate as necessary for other models)"
      ]
    },
    {
      "cell_type": "code",
      "metadata": {
        "colab_type": "code",
        "id": "VR6cAiRbCfRB",
        "colab": {
          "base_uri": "https://localhost:8080/",
          "height": 357
        },
        "outputId": "a5cc7c54-962e-4f28-c924-37858a6c21b5"
      },
      "source": [
        "# Build the Model\n",
        "from tensorflow.keras.models import Sequential\n",
        "from tensorflow.keras import layers\n",
        "from tensorflow.keras.optimizers import RMSprop\n",
        "\n",
        "model = Sequential()\n",
        "model.add(layers.Embedding(max_words, 8, input_length=max_len))\n",
        "model.add(layers.Conv1D(32, 5, activation='relu'))\n",
        "model.add(layers.MaxPooling1D(5))\n",
        "model.add(layers.Conv1D(32, 5, activation='relu'))\n",
        "model.add(layers.GlobalMaxPooling1D())\n",
        "model.add(layers.Dense(5, activation='softmax'))\n",
        "\n",
        "model.summary()"
      ],
      "execution_count": null,
      "outputs": [
        {
          "output_type": "stream",
          "text": [
            "Model: \"sequential_2\"\n",
            "_________________________________________________________________\n",
            "Layer (type)                 Output Shape              Param #   \n",
            "=================================================================\n",
            "embedding_2 (Embedding)      (None, 34, 8)             80000     \n",
            "_________________________________________________________________\n",
            "conv1d_4 (Conv1D)            (None, 30, 32)            1312      \n",
            "_________________________________________________________________\n",
            "max_pooling1d_2 (MaxPooling1 (None, 6, 32)             0         \n",
            "_________________________________________________________________\n",
            "conv1d_5 (Conv1D)            (None, 2, 32)             5152      \n",
            "_________________________________________________________________\n",
            "global_max_pooling1d_2 (Glob (None, 32)                0         \n",
            "_________________________________________________________________\n",
            "dense_2 (Dense)              (None, 5)                 165       \n",
            "=================================================================\n",
            "Total params: 86,629\n",
            "Trainable params: 86,629\n",
            "Non-trainable params: 0\n",
            "_________________________________________________________________\n"
          ],
          "name": "stdout"
        }
      ]
    },
    {
      "cell_type": "code",
      "metadata": {
        "colab_type": "code",
        "id": "51h2Z2CUCfRE",
        "colab": {
          "base_uri": "https://localhost:8080/",
          "height": 697
        },
        "outputId": "d7239ce6-0140-4aa6-8c66-7d9f739892dd"
      },
      "source": [
        "# Train the Model\n",
        "\n",
        "model.compile(optimizer=RMSprop(lr=1e-4),\n",
        "              loss='categorical_crossentropy',\n",
        "              metrics=['acc'])\n",
        "history = model.fit(x_train, y_train,\n",
        "                    epochs=20,\n",
        "                    batch_size=2,\n",
        "                    validation_split=0.2)"
      ],
      "execution_count": null,
      "outputs": [
        {
          "output_type": "stream",
          "text": [
            "Epoch 1/20\n",
            "13614/13614 [==============================] - 74s 5ms/step - loss: 1.3145 - acc: 0.4295 - val_loss: 1.2081 - val_acc: 0.4736\n",
            "Epoch 2/20\n",
            "13614/13614 [==============================] - 76s 6ms/step - loss: 1.1941 - acc: 0.4757 - val_loss: 1.1715 - val_acc: 0.4953\n",
            "Epoch 3/20\n",
            "13614/13614 [==============================] - 73s 5ms/step - loss: 1.1551 - acc: 0.4976 - val_loss: 1.1473 - val_acc: 0.5082\n",
            "Epoch 4/20\n",
            "13614/13614 [==============================] - 73s 5ms/step - loss: 1.1288 - acc: 0.5079 - val_loss: 1.1322 - val_acc: 0.5188\n",
            "Epoch 5/20\n",
            "13614/13614 [==============================] - 72s 5ms/step - loss: 1.1084 - acc: 0.5237 - val_loss: 1.1139 - val_acc: 0.5206\n",
            "Epoch 6/20\n",
            "13614/13614 [==============================] - 74s 5ms/step - loss: 1.0846 - acc: 0.5364 - val_loss: 1.0898 - val_acc: 0.5383\n",
            "Epoch 7/20\n",
            "13614/13614 [==============================] - 73s 5ms/step - loss: 1.0619 - acc: 0.5486 - val_loss: 1.0765 - val_acc: 0.5489\n",
            "Epoch 8/20\n",
            "13614/13614 [==============================] - 73s 5ms/step - loss: 1.0463 - acc: 0.5530 - val_loss: 1.0700 - val_acc: 0.5541\n",
            "Epoch 9/20\n",
            "13614/13614 [==============================] - 71s 5ms/step - loss: 1.0368 - acc: 0.5595 - val_loss: 1.0720 - val_acc: 0.5445\n",
            "Epoch 10/20\n",
            "13614/13614 [==============================] - 73s 5ms/step - loss: 1.0325 - acc: 0.5646 - val_loss: 1.0672 - val_acc: 0.5585\n",
            "Epoch 11/20\n",
            "13614/13614 [==============================] - 71s 5ms/step - loss: 1.0300 - acc: 0.5699 - val_loss: 1.0722 - val_acc: 0.5536\n",
            "Epoch 12/20\n",
            "13614/13614 [==============================] - 72s 5ms/step - loss: 1.0311 - acc: 0.5689 - val_loss: 1.0735 - val_acc: 0.5502\n",
            "Epoch 13/20\n",
            "13614/13614 [==============================] - 72s 5ms/step - loss: 1.0295 - acc: 0.5746 - val_loss: 1.0892 - val_acc: 0.5444\n",
            "Epoch 14/20\n",
            "13614/13614 [==============================] - 72s 5ms/step - loss: 1.0299 - acc: 0.5748 - val_loss: 1.1010 - val_acc: 0.5508\n",
            "Epoch 15/20\n",
            "13614/13614 [==============================] - 71s 5ms/step - loss: 1.0287 - acc: 0.5774 - val_loss: 1.1039 - val_acc: 0.5614\n",
            "Epoch 16/20\n",
            "13614/13614 [==============================] - 71s 5ms/step - loss: 1.0278 - acc: 0.5812 - val_loss: 1.1203 - val_acc: 0.5610\n",
            "Epoch 17/20\n",
            "13614/13614 [==============================] - 73s 5ms/step - loss: 1.0297 - acc: 0.5812 - val_loss: 1.1181 - val_acc: 0.5605\n",
            "Epoch 18/20\n",
            "13614/13614 [==============================] - 74s 5ms/step - loss: 1.0302 - acc: 0.5859 - val_loss: 1.1141 - val_acc: 0.5552\n",
            "Epoch 19/20\n",
            "13614/13614 [==============================] - 73s 5ms/step - loss: 1.0292 - acc: 0.5870 - val_loss: 1.1171 - val_acc: 0.5608\n",
            "Epoch 20/20\n",
            "13614/13614 [==============================] - 72s 5ms/step - loss: 1.0289 - acc: 0.5870 - val_loss: 1.1149 - val_acc: 0.5640\n"
          ],
          "name": "stdout"
        }
      ]
    },
    {
      "cell_type": "code",
      "metadata": {
        "colab_type": "code",
        "id": "Zx53edU4CfRF",
        "colab": {
          "base_uri": "https://localhost:8080/",
          "height": 545
        },
        "outputId": "5d849590-ac8d-48d5-fb8f-a6b4ad5cfd1c"
      },
      "source": [
        "# Plot the Training and Validation Accuracy & Loss Scores\n",
        "import matplotlib.pyplot as plt\n",
        "%matplotlib inline\n",
        "\n",
        "acc = history.history['acc']\n",
        "val_acc = history.history['val_acc']\n",
        "loss = history.history['loss']\n",
        "val_loss = history.history['val_loss']\n",
        "\n",
        "epochs = range(len(acc))\n",
        "\n",
        "plt.plot(epochs, acc, 'bo', label='Training acc')\n",
        "plt.plot(epochs, val_acc, 'b', label='Validation acc')\n",
        "plt.title('Training and validation accuracy')\n",
        "plt.legend()\n",
        "\n",
        "plt.figure()\n",
        "\n",
        "plt.plot(epochs, loss, 'bo', label='Training loss')\n",
        "plt.plot(epochs, val_loss, 'b', label='Validation loss')\n",
        "plt.title('Training and validation loss')\n",
        "plt.legend()\n",
        "\n",
        "plt.show()"
      ],
      "execution_count": null,
      "outputs": [
        {
          "output_type": "display_data",
          "data": {
            "image/png": "[encoded data removed]",
            "text/plain": [
              "<Figure size 432x288 with 1 Axes>"
            ]
          },
          "metadata": {
            "tags": [],
            "needs_background": "light"
          }
        },
        {
          "output_type": "display_data",
          "data": {
            "image/png": "[encoded data removed]",
            "text/plain": [
              "<Figure size 432x288 with 1 Axes>"
            ]
          },
          "metadata": {
            "tags": [],
            "needs_background": "light"
          }
        }
      ]
    },
    {
      "cell_type": "code",
      "metadata": {
        "colab_type": "code",
        "id": "PY9KmPzHCfRH",
        "colab": {}
      },
      "source": [
        "# Save the Model\n",
        "model.save(model_path+'text_model_conv1d_1_1.h5')\n",
        "model.save('text_model_conv1d_1_1.h5')"
      ],
      "execution_count": null,
      "outputs": []
    },
    {
      "cell_type": "markdown",
      "metadata": {
        "colab_type": "text",
        "id": "NYU_7r9Zd5R3"
      },
      "source": [
        "### Model #2 (Replicate as necessary for other models)"
      ]
    },
    {
      "cell_type": "code",
      "metadata": {
        "colab_type": "code",
        "id": "CtGhTji0d5R4",
        "colab": {
          "base_uri": "https://localhost:8080/",
          "height": 357
        },
        "outputId": "ad35b80f-2037-4042-f4ee-15b77089f1e4"
      },
      "source": [
        "# Build the Model\n",
        "from tensorflow.keras.models import Sequential\n",
        "from tensorflow.keras import layers\n",
        "from tensorflow.keras.optimizers import RMSprop\n",
        "\n",
        "model = Sequential()\n",
        "model.add(layers.Embedding(max_words, 8, input_length=max_len))\n",
        "model.add(layers.Conv1D(1024, 5, activation='relu'))\n",
        "model.add(layers.MaxPooling1D(5))\n",
        "model.add(layers.Conv1D(1024, 5, activation='relu'))\n",
        "model.add(layers.GlobalMaxPooling1D())\n",
        "model.add(layers.Dense(5, activation='softmax'))\n",
        "\n",
        "model.summary()"
      ],
      "execution_count": null,
      "outputs": [
        {
          "output_type": "stream",
          "text": [
            "Model: \"sequential_4\"\n",
            "_________________________________________________________________\n",
            "Layer (type)                 Output Shape              Param #   \n",
            "=================================================================\n",
            "embedding_3 (Embedding)      (None, 34, 8)             80000     \n",
            "_________________________________________________________________\n",
            "conv1d_6 (Conv1D)            (None, 30, 1024)          41984     \n",
            "_________________________________________________________________\n",
            "max_pooling1d_3 (MaxPooling1 (None, 6, 1024)           0         \n",
            "_________________________________________________________________\n",
            "conv1d_7 (Conv1D)            (None, 2, 1024)           5243904   \n",
            "_________________________________________________________________\n",
            "global_max_pooling1d_1 (Glob (None, 1024)              0         \n",
            "_________________________________________________________________\n",
            "dense_1 (Dense)              (None, 5)                 5125      \n",
            "=================================================================\n",
            "Total params: 5,371,013\n",
            "Trainable params: 5,371,013\n",
            "Non-trainable params: 0\n",
            "_________________________________________________________________\n"
          ],
          "name": "stdout"
        }
      ]
    },
    {
      "cell_type": "code",
      "metadata": {
        "colab_type": "code",
        "id": "Loxyj5M-d5R7",
        "colab": {
          "base_uri": "https://localhost:8080/",
          "height": 357
        },
        "outputId": "709fa471-d0e2-4332-f47d-cd695c2a99aa"
      },
      "source": [
        "# Train the Model\n",
        "\n",
        "model.compile(optimizer=RMSprop(lr=1e-4),\n",
        "              loss='categorical_crossentropy',\n",
        "              metrics=['acc'])\n",
        "history = model.fit(x_train, y_train,\n",
        "                    epochs=10,\n",
        "                    batch_size=2,\n",
        "                    validation_split=0.2)"
      ],
      "execution_count": null,
      "outputs": [
        {
          "output_type": "stream",
          "text": [
            "Epoch 1/10\n",
            "13614/13614 [==============================] - 205s 15ms/step - loss: 1.2183 - acc: 0.4620 - val_loss: 1.1717 - val_acc: 0.4890\n",
            "Epoch 2/10\n",
            "13614/13614 [==============================] - 206s 15ms/step - loss: 1.1379 - acc: 0.5143 - val_loss: 1.1459 - val_acc: 0.5300\n",
            "Epoch 3/10\n",
            "13614/13614 [==============================] - 219s 16ms/step - loss: 1.1159 - acc: 0.5296 - val_loss: 1.1381 - val_acc: 0.5225\n",
            "Epoch 4/10\n",
            "13614/13614 [==============================] - 210s 15ms/step - loss: 1.1127 - acc: 0.5415 - val_loss: 1.1264 - val_acc: 0.5360\n",
            "Epoch 5/10\n",
            "13614/13614 [==============================] - 205s 15ms/step - loss: 1.1021 - acc: 0.5523 - val_loss: 1.2849 - val_acc: 0.5499\n",
            "Epoch 6/10\n",
            "13614/13614 [==============================] - 206s 15ms/step - loss: 1.1086 - acc: 0.5591 - val_loss: 1.1661 - val_acc: 0.5552\n",
            "Epoch 7/10\n",
            "13614/13614 [==============================] - 218s 16ms/step - loss: 1.1029 - acc: 0.5645 - val_loss: 1.2197 - val_acc: 0.5015\n",
            "Epoch 8/10\n",
            "13614/13614 [==============================] - 210s 15ms/step - loss: 1.0971 - acc: 0.5692 - val_loss: 1.1857 - val_acc: 0.5541\n",
            "Epoch 9/10\n",
            "13614/13614 [==============================] - 204s 15ms/step - loss: 1.0889 - acc: 0.5790 - val_loss: 1.3483 - val_acc: 0.5607\n",
            "Epoch 10/10\n",
            "13614/13614 [==============================] - 205s 15ms/step - loss: 1.0842 - acc: 0.5844 - val_loss: 1.2580 - val_acc: 0.5253\n"
          ],
          "name": "stdout"
        }
      ]
    },
    {
      "cell_type": "code",
      "metadata": {
        "colab_type": "code",
        "id": "7HeATZK6d5R9",
        "colab": {
          "base_uri": "https://localhost:8080/",
          "height": 545
        },
        "outputId": "30563706-a1c4-4ff2-a32a-8c87d10cf568"
      },
      "source": [
        "# Plot the Training and Validation Accuracy & Loss Scores\n",
        "import matplotlib.pyplot as plt\n",
        "%matplotlib inline\n",
        "\n",
        "acc = history.history['acc']\n",
        "val_acc = history.history['val_acc']\n",
        "loss = history.history['loss']\n",
        "val_loss = history.history['val_loss']\n",
        "\n",
        "epochs = range(len(acc))\n",
        "\n",
        "plt.plot(epochs, acc, 'bo', label='Training acc')\n",
        "plt.plot(epochs, val_acc, 'b', label='Validation acc')\n",
        "plt.title('Training and validation accuracy')\n",
        "plt.legend()\n",
        "\n",
        "plt.figure()\n",
        "\n",
        "plt.plot(epochs, loss, 'bo', label='Training loss')\n",
        "plt.plot(epochs, val_loss, 'b', label='Validation loss')\n",
        "plt.title('Training and validation loss')\n",
        "plt.legend()\n",
        "\n",
        "plt.show()"
      ],
      "execution_count": null,
      "outputs": [
        {
          "output_type": "display_data",
          "data": {
            "image/png": "[encoded data removed]",
            "text/plain": [
              "<Figure size 432x288 with 1 Axes>"
            ]
          },
          "metadata": {
            "tags": [],
            "needs_background": "light"
          }
        },
        {
          "output_type": "display_data",
          "data": {
            "image/png": "[encoded data removed]",
            "text/plain": [
              "<Figure size 432x288 with 1 Axes>"
            ]
          },
          "metadata": {
            "tags": [],
            "needs_background": "light"
          }
        }
      ]
    },
    {
      "cell_type": "code",
      "metadata": {
        "colab_type": "code",
        "id": "1H2uTXgpd5R_",
        "colab": {}
      },
      "source": [
        "# Save the Model\n",
        "model.save(model_path+'text_model_conv1d_2.h5')\n",
        "model.save('text_model_conv1d_2.h5')"
      ],
      "execution_count": null,
      "outputs": []
    },
    {
      "cell_type": "markdown",
      "metadata": {
        "colab_type": "text",
        "id": "5p9VA4V4_5Ql"
      },
      "source": [
        "### Model #3 (Replicate as necessary for other models)"
      ]
    },
    {
      "cell_type": "code",
      "metadata": {
        "colab_type": "code",
        "id": "Ay9iExHE_5Qp",
        "colab": {
          "base_uri": "https://localhost:8080/",
          "height": 357
        },
        "outputId": "4b73c871-9aa2-4c3f-9307-0e666e2afa53"
      },
      "source": [
        "# Build the Model\n",
        "from tensorflow.keras.models import Sequential\n",
        "from tensorflow.keras import layers\n",
        "from tensorflow.keras.optimizers import RMSprop, Adam\n",
        "\n",
        "model = Sequential()\n",
        "model.add(layers.Embedding(max_words, 8, input_length=max_len))\n",
        "model.add(layers.Conv1D(32, 5, activation='relu'))\n",
        "model.add(layers.MaxPooling1D(5))\n",
        "model.add(layers.Conv1D(32, 5, activation='relu'))\n",
        "model.add(layers.GlobalMaxPooling1D())\n",
        "model.add(layers.Dense(5, activation='softmax'))\n",
        "\n",
        "model.summary()"
      ],
      "execution_count": null,
      "outputs": [
        {
          "output_type": "stream",
          "text": [
            "Model: \"sequential\"\n",
            "_________________________________________________________________\n",
            "Layer (type)                 Output Shape              Param #   \n",
            "=================================================================\n",
            "embedding (Embedding)        (None, 34, 8)             80000     \n",
            "_________________________________________________________________\n",
            "conv1d (Conv1D)              (None, 30, 32)            1312      \n",
            "_________________________________________________________________\n",
            "max_pooling1d (MaxPooling1D) (None, 6, 32)             0         \n",
            "_________________________________________________________________\n",
            "conv1d_1 (Conv1D)            (None, 2, 32)             5152      \n",
            "_________________________________________________________________\n",
            "global_max_pooling1d (Global (None, 32)                0         \n",
            "_________________________________________________________________\n",
            "dense (Dense)                (None, 5)                 165       \n",
            "=================================================================\n",
            "Total params: 86,629\n",
            "Trainable params: 86,629\n",
            "Non-trainable params: 0\n",
            "_________________________________________________________________\n"
          ],
          "name": "stdout"
        }
      ]
    },
    {
      "cell_type": "code",
      "metadata": {
        "colab_type": "code",
        "id": "oFPG9puW_5Qt",
        "colab": {
          "base_uri": "https://localhost:8080/",
          "height": 357
        },
        "outputId": "9260358f-2312-465a-909b-14c22a0ba25a"
      },
      "source": [
        "# Train the Model\n",
        "\n",
        "model.compile(optimizer=Adam(lr=5e-4),\n",
        "              loss='categorical_crossentropy',\n",
        "              metrics=['acc'])\n",
        "history = model.fit(x_train, y_train,\n",
        "                    epochs=10,\n",
        "                    batch_size=128,\n",
        "                    validation_split=0.2)"
      ],
      "execution_count": null,
      "outputs": [
        {
          "output_type": "stream",
          "text": [
            "Epoch 1/10\n",
            "213/213 [==============================] - 2s 8ms/step - loss: 1.4440 - acc: 0.4163 - val_loss: 1.3330 - val_acc: 0.4311\n",
            "Epoch 2/10\n",
            "213/213 [==============================] - 1s 7ms/step - loss: 1.2038 - acc: 0.4752 - val_loss: 1.1392 - val_acc: 0.5209\n",
            "Epoch 3/10\n",
            "213/213 [==============================] - 1s 7ms/step - loss: 1.0812 - acc: 0.5451 - val_loss: 1.0908 - val_acc: 0.5350\n",
            "Epoch 4/10\n",
            "213/213 [==============================] - 2s 7ms/step - loss: 0.9944 - acc: 0.5724 - val_loss: 1.0705 - val_acc: 0.5413\n",
            "Epoch 5/10\n",
            "213/213 [==============================] - 2s 7ms/step - loss: 0.9235 - acc: 0.6147 - val_loss: 1.0680 - val_acc: 0.5649\n",
            "Epoch 6/10\n",
            "213/213 [==============================] - 2s 7ms/step - loss: 0.8563 - acc: 0.6573 - val_loss: 1.0676 - val_acc: 0.5758\n",
            "Epoch 7/10\n",
            "213/213 [==============================] - 2s 7ms/step - loss: 0.7920 - acc: 0.6858 - val_loss: 1.0836 - val_acc: 0.5824\n",
            "Epoch 8/10\n",
            "213/213 [==============================] - 2s 7ms/step - loss: 0.7390 - acc: 0.7061 - val_loss: 1.1027 - val_acc: 0.5900\n",
            "Epoch 9/10\n",
            "213/213 [==============================] - 2s 7ms/step - loss: 0.6947 - acc: 0.7299 - val_loss: 1.1369 - val_acc: 0.5972\n",
            "Epoch 10/10\n",
            "213/213 [==============================] - 1s 7ms/step - loss: 0.6548 - acc: 0.7513 - val_loss: 1.1711 - val_acc: 0.5961\n"
          ],
          "name": "stdout"
        }
      ]
    },
    {
      "cell_type": "code",
      "metadata": {
        "colab_type": "code",
        "id": "7AiHenLQ_5Qv",
        "colab": {
          "base_uri": "https://localhost:8080/",
          "height": 545
        },
        "outputId": "1bf59b48-08e2-4f73-a617-e374c847ccf7"
      },
      "source": [
        "# Plot the Training and Validation Accuracy & Loss Scores\n",
        "import matplotlib.pyplot as plt\n",
        "%matplotlib inline\n",
        "\n",
        "acc = history.history['acc']\n",
        "val_acc = history.history['val_acc']\n",
        "loss = history.history['loss']\n",
        "val_loss = history.history['val_loss']\n",
        "\n",
        "epochs = range(len(acc))\n",
        "\n",
        "plt.plot(epochs, acc, 'bo', label='Training acc')\n",
        "plt.plot(epochs, val_acc, 'b', label='Validation acc')\n",
        "plt.title('Training and validation accuracy')\n",
        "plt.legend()\n",
        "\n",
        "plt.figure()\n",
        "\n",
        "plt.plot(epochs, loss, 'bo', label='Training loss')\n",
        "plt.plot(epochs, val_loss, 'b', label='Validation loss')\n",
        "plt.title('Training and validation loss')\n",
        "plt.legend()\n",
        "\n",
        "plt.show()"
      ],
      "execution_count": null,
      "outputs": [
        {
          "output_type": "display_data",
          "data": {
            "image/png": "[encoded data removed]",
            "text/plain": [
              "<Figure size 432x288 with 1 Axes>"
            ]
          },
          "metadata": {
            "tags": [],
            "needs_background": "light"
          }
        },
        {
          "output_type": "display_data",
          "data": {
            "image/png": "[encoded data removed]",
            "text/plain": [
              "<Figure size 432x288 with 1 Axes>"
            ]
          },
          "metadata": {
            "tags": [],
            "needs_background": "light"
          }
        }
      ]
    },
    {
      "cell_type": "code",
      "metadata": {
        "colab_type": "code",
        "id": "bZSO6c1l_5Qw",
        "colab": {}
      },
      "source": [
        "# Save the Model\n",
        "model.save(model_path+'text_model_conv1d_3.h5')\n",
        "model.save('text_model_conv1d_3.h5')"
      ],
      "execution_count": null,
      "outputs": []
    },
    {
      "cell_type": "markdown",
      "metadata": {
        "colab_type": "text",
        "id": "pPlWzptxKYbu"
      },
      "source": [
        "### Model #3_1 (not saved)"
      ]
    },
    {
      "cell_type": "code",
      "metadata": {
        "colab_type": "code",
        "id": "Q00-j4OnKYbv",
        "colab": {
          "base_uri": "https://localhost:8080/",
          "height": 425
        },
        "outputId": "33812201-1e8f-4cf6-f695-43e2a55b1233"
      },
      "source": [
        "# Build the Model\n",
        "from tensorflow.keras.models import Sequential\n",
        "from tensorflow.keras import layers\n",
        "from tensorflow.keras.optimizers import RMSprop, Adam\n",
        "from tensorflow.keras import regularizers\n",
        "\n",
        "model = Sequential()\n",
        "model.add(layers.Embedding(max_words, 8, input_length=max_len))\n",
        "model.add(layers.Conv1D(32, 5, activation='relu', kernel_regularizer=regularizers.l2(0.001)))\n",
        "model.add(layers.Dropout(0.25))\n",
        "model.add(layers.MaxPooling1D(5))\n",
        "model.add(layers.Conv1D(32, 5, activation='relu', kernel_regularizer=regularizers.l2(0.001)))\n",
        "model.add(layers.Dropout(0.25))\n",
        "model.add(layers.GlobalMaxPooling1D())\n",
        "model.add(layers.Dense(5, activation='softmax'))\n",
        "\n",
        "model.summary()"
      ],
      "execution_count": null,
      "outputs": [
        {
          "output_type": "stream",
          "text": [
            "Model: \"sequential_10\"\n",
            "_________________________________________________________________\n",
            "Layer (type)                 Output Shape              Param #   \n",
            "=================================================================\n",
            "embedding_10 (Embedding)     (None, 34, 8)             80000     \n",
            "_________________________________________________________________\n",
            "conv1d_16 (Conv1D)           (None, 30, 32)            1312      \n",
            "_________________________________________________________________\n",
            "dropout_4 (Dropout)          (None, 30, 32)            0         \n",
            "_________________________________________________________________\n",
            "max_pooling1d_8 (MaxPooling1 (None, 6, 32)             0         \n",
            "_________________________________________________________________\n",
            "conv1d_17 (Conv1D)           (None, 2, 32)             5152      \n",
            "_________________________________________________________________\n",
            "dropout_5 (Dropout)          (None, 2, 32)             0         \n",
            "_________________________________________________________________\n",
            "global_max_pooling1d_8 (Glob (None, 32)                0         \n",
            "_________________________________________________________________\n",
            "dense_8 (Dense)              (None, 5)                 165       \n",
            "=================================================================\n",
            "Total params: 86,629\n",
            "Trainable params: 86,629\n",
            "Non-trainable params: 0\n",
            "_________________________________________________________________\n"
          ],
          "name": "stdout"
        }
      ]
    },
    {
      "cell_type": "code",
      "metadata": {
        "colab_type": "code",
        "id": "hO5OrieTKYbz",
        "colab": {
          "base_uri": "https://localhost:8080/",
          "height": 1000
        },
        "outputId": "0c465d80-cc38-438b-9518-de1f5953fdda"
      },
      "source": [
        "# Train the Model\n",
        "\n",
        "model.compile(optimizer=Adam(lr=5e-4),\n",
        "              loss='categorical_crossentropy',\n",
        "              metrics=['acc'])\n",
        "history = model.fit(x_train, y_train,\n",
        "                    epochs=30,\n",
        "                    batch_size=128,\n",
        "                    validation_split=0.2)"
      ],
      "execution_count": null,
      "outputs": [
        {
          "output_type": "stream",
          "text": [
            "Epoch 1/30\n",
            "213/213 [==============================] - 2s 8ms/step - loss: 1.4673 - acc: 0.4185 - val_loss: 1.3713 - val_acc: 0.4311\n",
            "Epoch 2/30\n",
            "213/213 [==============================] - 2s 7ms/step - loss: 1.2357 - acc: 0.4672 - val_loss: 1.1951 - val_acc: 0.5104\n",
            "Epoch 3/30\n",
            "213/213 [==============================] - 2s 7ms/step - loss: 1.1397 - acc: 0.5306 - val_loss: 1.1574 - val_acc: 0.5269\n",
            "Epoch 4/30\n",
            "213/213 [==============================] - 2s 7ms/step - loss: 1.0760 - acc: 0.5523 - val_loss: 1.1342 - val_acc: 0.5298\n",
            "Epoch 5/30\n",
            "213/213 [==============================] - 2s 7ms/step - loss: 1.0266 - acc: 0.5711 - val_loss: 1.1214 - val_acc: 0.5345\n",
            "Epoch 6/30\n",
            "213/213 [==============================] - 2s 8ms/step - loss: 0.9846 - acc: 0.5962 - val_loss: 1.1113 - val_acc: 0.5416\n",
            "Epoch 7/30\n",
            "213/213 [==============================] - 2s 8ms/step - loss: 0.9457 - acc: 0.6277 - val_loss: 1.0999 - val_acc: 0.5595\n",
            "Epoch 8/30\n",
            "213/213 [==============================] - 2s 7ms/step - loss: 0.9075 - acc: 0.6518 - val_loss: 1.0916 - val_acc: 0.5751\n",
            "Epoch 9/30\n",
            "213/213 [==============================] - 2s 7ms/step - loss: 0.8720 - acc: 0.6718 - val_loss: 1.0926 - val_acc: 0.5803\n",
            "Epoch 10/30\n",
            "213/213 [==============================] - 2s 7ms/step - loss: 0.8377 - acc: 0.6875 - val_loss: 1.0868 - val_acc: 0.5861\n",
            "Epoch 11/30\n",
            "213/213 [==============================] - 2s 8ms/step - loss: 0.8108 - acc: 0.6990 - val_loss: 1.0949 - val_acc: 0.5874\n",
            "Epoch 12/30\n",
            "213/213 [==============================] - 2s 7ms/step - loss: 0.7887 - acc: 0.7108 - val_loss: 1.1009 - val_acc: 0.5925\n",
            "Epoch 13/30\n",
            "213/213 [==============================] - 2s 8ms/step - loss: 0.7650 - acc: 0.7187 - val_loss: 1.1119 - val_acc: 0.5871\n",
            "Epoch 14/30\n",
            "213/213 [==============================] - 2s 7ms/step - loss: 0.7474 - acc: 0.7278 - val_loss: 1.1234 - val_acc: 0.5878\n",
            "Epoch 15/30\n",
            "213/213 [==============================] - 2s 7ms/step - loss: 0.7291 - acc: 0.7370 - val_loss: 1.1347 - val_acc: 0.5875\n",
            "Epoch 16/30\n",
            "213/213 [==============================] - 2s 7ms/step - loss: 0.7085 - acc: 0.7487 - val_loss: 1.1447 - val_acc: 0.5877\n",
            "Epoch 17/30\n",
            "213/213 [==============================] - 2s 7ms/step - loss: 0.6919 - acc: 0.7558 - val_loss: 1.1625 - val_acc: 0.5858\n",
            "Epoch 18/30\n",
            "213/213 [==============================] - 2s 7ms/step - loss: 0.6744 - acc: 0.7643 - val_loss: 1.1877 - val_acc: 0.5920\n",
            "Epoch 19/30\n",
            "213/213 [==============================] - 2s 7ms/step - loss: 0.6586 - acc: 0.7733 - val_loss: 1.2102 - val_acc: 0.5908\n",
            "Epoch 20/30\n",
            "213/213 [==============================] - 2s 8ms/step - loss: 0.6455 - acc: 0.7793 - val_loss: 1.2183 - val_acc: 0.5940\n",
            "Epoch 21/30\n",
            "213/213 [==============================] - 2s 7ms/step - loss: 0.6314 - acc: 0.7880 - val_loss: 1.2423 - val_acc: 0.5868\n",
            "Epoch 22/30\n",
            "213/213 [==============================] - 2s 7ms/step - loss: 0.6169 - acc: 0.7954 - val_loss: 1.2635 - val_acc: 0.5865\n",
            "Epoch 23/30\n",
            "213/213 [==============================] - 2s 7ms/step - loss: 0.6031 - acc: 0.8019 - val_loss: 1.2816 - val_acc: 0.5873\n",
            "Epoch 24/30\n",
            "213/213 [==============================] - 2s 7ms/step - loss: 0.5911 - acc: 0.8071 - val_loss: 1.3141 - val_acc: 0.5918\n",
            "Epoch 25/30\n",
            "213/213 [==============================] - 2s 8ms/step - loss: 0.5758 - acc: 0.8129 - val_loss: 1.3318 - val_acc: 0.5912\n",
            "Epoch 26/30\n",
            "213/213 [==============================] - 2s 7ms/step - loss: 0.5601 - acc: 0.8215 - val_loss: 1.3628 - val_acc: 0.5956\n",
            "Epoch 27/30\n",
            "213/213 [==============================] - 2s 8ms/step - loss: 0.5497 - acc: 0.8256 - val_loss: 1.3880 - val_acc: 0.5928\n",
            "Epoch 28/30\n",
            "213/213 [==============================] - 2s 7ms/step - loss: 0.5382 - acc: 0.8294 - val_loss: 1.4164 - val_acc: 0.5967\n",
            "Epoch 29/30\n",
            "213/213 [==============================] - 2s 7ms/step - loss: 0.5241 - acc: 0.8363 - val_loss: 1.4552 - val_acc: 0.5946\n",
            "Epoch 30/30\n",
            "213/213 [==============================] - 2s 7ms/step - loss: 0.5133 - acc: 0.8410 - val_loss: 1.4769 - val_acc: 0.5981\n"
          ],
          "name": "stdout"
        }
      ]
    },
    {
      "cell_type": "code",
      "metadata": {
        "colab_type": "code",
        "id": "9WwthglpKYb0",
        "colab": {
          "base_uri": "https://localhost:8080/",
          "height": 545
        },
        "outputId": "c42b1944-f4c1-412f-e4cf-6019ddea5ec6"
      },
      "source": [
        "# Plot the Training and Validation Accuracy & Loss Scores\n",
        "import matplotlib.pyplot as plt\n",
        "%matplotlib inline\n",
        "\n",
        "acc = history.history['acc']\n",
        "val_acc = history.history['val_acc']\n",
        "loss = history.history['loss']\n",
        "val_loss = history.history['val_loss']\n",
        "\n",
        "epochs = range(len(acc))\n",
        "\n",
        "plt.plot(epochs, acc, 'bo', label='Training acc')\n",
        "plt.plot(epochs, val_acc, 'b', label='Validation acc')\n",
        "plt.title('Training and validation accuracy')\n",
        "plt.legend()\n",
        "\n",
        "plt.figure()\n",
        "\n",
        "plt.plot(epochs, loss, 'bo', label='Training loss')\n",
        "plt.plot(epochs, val_loss, 'b', label='Validation loss')\n",
        "plt.title('Training and validation loss')\n",
        "plt.legend()\n",
        "\n",
        "plt.show()"
      ],
      "execution_count": null,
      "outputs": [
        {
          "output_type": "display_data",
          "data": {
            "image/png": "[encoded data removed]",
            "text/plain": [
              "<Figure size 432x288 with 1 Axes>"
            ]
          },
          "metadata": {
            "tags": [],
            "needs_background": "light"
          }
        },
        {
          "output_type": "display_data",
          "data": {
            "image/png": "[encoded data removed]",
            "text/plain": [
              "<Figure size 432x288 with 1 Axes>"
            ]
          },
          "metadata": {
            "tags": [],
            "needs_background": "light"
          }
        }
      ]
    },
    {
      "cell_type": "code",
      "metadata": {
        "colab_type": "code",
        "id": "EQ6Z7YvpKYb2",
        "colab": {}
      },
      "source": [
        "# Save the Model\n",
        "model.save(model_path+'text_model_conv1d_3_1.h5')\n",
        "model.save('text_model_conv1d_3_1.h5')"
      ],
      "execution_count": null,
      "outputs": []
    },
    {
      "cell_type": "markdown",
      "metadata": {
        "colab_type": "text",
        "id": "rszFkkhgMRt9"
      },
      "source": [
        "### Model #3_1"
      ]
    },
    {
      "cell_type": "code",
      "metadata": {
        "colab_type": "code",
        "id": "q_3ZLMxHMRt-",
        "colab": {
          "base_uri": "https://localhost:8080/",
          "height": 425
        },
        "outputId": "02849dff-c330-4407-f841-bd87fe1d76d1"
      },
      "source": [
        "# Build the Model\n",
        "from tensorflow.keras.models import Sequential\n",
        "from tensorflow.keras import layers\n",
        "from tensorflow.keras.optimizers import RMSprop, Adam\n",
        "from tensorflow.keras import regularizers\n",
        "\n",
        "model = Sequential()\n",
        "model.add(layers.Embedding(max_words, 8, input_length=max_len))\n",
        "model.add(layers.Conv1D(32, 5, activation='relu', kernel_regularizer=regularizers.l2(0.001)))\n",
        "model.add(layers.Dropout(0.25))\n",
        "model.add(layers.MaxPooling1D(5))\n",
        "model.add(layers.Conv1D(32, 5, activation='relu', kernel_regularizer=regularizers.l2(0.001)))\n",
        "model.add(layers.Dropout(0.25))\n",
        "model.add(layers.GlobalMaxPooling1D())\n",
        "model.add(layers.Dense(5, activation='softmax'))\n",
        "\n",
        "model.summary()"
      ],
      "execution_count": null,
      "outputs": [
        {
          "output_type": "stream",
          "text": [
            "Model: \"sequential_12\"\n",
            "_________________________________________________________________\n",
            "Layer (type)                 Output Shape              Param #   \n",
            "=================================================================\n",
            "embedding_12 (Embedding)     (None, 34, 8)             80000     \n",
            "_________________________________________________________________\n",
            "conv1d_20 (Conv1D)           (None, 30, 32)            1312      \n",
            "_________________________________________________________________\n",
            "dropout_8 (Dropout)          (None, 30, 32)            0         \n",
            "_________________________________________________________________\n",
            "max_pooling1d_10 (MaxPooling (None, 6, 32)             0         \n",
            "_________________________________________________________________\n",
            "conv1d_21 (Conv1D)           (None, 2, 32)             5152      \n",
            "_________________________________________________________________\n",
            "dropout_9 (Dropout)          (None, 2, 32)             0         \n",
            "_________________________________________________________________\n",
            "global_max_pooling1d_10 (Glo (None, 32)                0         \n",
            "_________________________________________________________________\n",
            "dense_10 (Dense)             (None, 5)                 165       \n",
            "=================================================================\n",
            "Total params: 86,629\n",
            "Trainable params: 86,629\n",
            "Non-trainable params: 0\n",
            "_________________________________________________________________\n"
          ],
          "name": "stdout"
        }
      ]
    },
    {
      "cell_type": "code",
      "metadata": {
        "colab_type": "code",
        "id": "GSkjxayfMRuE",
        "colab": {
          "base_uri": "https://localhost:8080/",
          "height": 527
        },
        "outputId": "0d1e5d78-1161-474a-9db2-c2a6bf3c5409"
      },
      "source": [
        "# Train the Model\n",
        "\n",
        "model.compile(optimizer=Adam(lr=5e-4),\n",
        "              loss='categorical_crossentropy',\n",
        "              metrics=['acc'])\n",
        "history = model.fit(x_train, y_train,\n",
        "                    epochs=15,\n",
        "                    batch_size=128,\n",
        "                    validation_split=0.2)"
      ],
      "execution_count": null,
      "outputs": [
        {
          "output_type": "stream",
          "text": [
            "Epoch 1/15\n",
            "213/213 [==============================] - 2s 8ms/step - loss: 1.4811 - acc: 0.4158 - val_loss: 1.3984 - val_acc: 0.4311\n",
            "Epoch 2/15\n",
            "213/213 [==============================] - 2s 7ms/step - loss: 1.2505 - acc: 0.4579 - val_loss: 1.1983 - val_acc: 0.4987\n",
            "Epoch 3/15\n",
            "213/213 [==============================] - 2s 7ms/step - loss: 1.1358 - acc: 0.5219 - val_loss: 1.1609 - val_acc: 0.5169\n",
            "Epoch 4/15\n",
            "213/213 [==============================] - 2s 7ms/step - loss: 1.0789 - acc: 0.5492 - val_loss: 1.1404 - val_acc: 0.5297\n",
            "Epoch 5/15\n",
            "213/213 [==============================] - 2s 7ms/step - loss: 1.0308 - acc: 0.5750 - val_loss: 1.1313 - val_acc: 0.5372\n",
            "Epoch 6/15\n",
            "213/213 [==============================] - 2s 7ms/step - loss: 0.9965 - acc: 0.5957 - val_loss: 1.1284 - val_acc: 0.5329\n",
            "Epoch 7/15\n",
            "213/213 [==============================] - 2s 7ms/step - loss: 0.9637 - acc: 0.6115 - val_loss: 1.1272 - val_acc: 0.5426\n",
            "Epoch 8/15\n",
            "213/213 [==============================] - 2s 7ms/step - loss: 0.9349 - acc: 0.6296 - val_loss: 1.1296 - val_acc: 0.5507\n",
            "Epoch 9/15\n",
            "213/213 [==============================] - 2s 7ms/step - loss: 0.9106 - acc: 0.6448 - val_loss: 1.1271 - val_acc: 0.5549\n",
            "Epoch 10/15\n",
            "213/213 [==============================] - 2s 7ms/step - loss: 0.8812 - acc: 0.6639 - val_loss: 1.1239 - val_acc: 0.5652\n",
            "Epoch 11/15\n",
            "213/213 [==============================] - 2s 7ms/step - loss: 0.8532 - acc: 0.6779 - val_loss: 1.1258 - val_acc: 0.5720\n",
            "Epoch 12/15\n",
            "213/213 [==============================] - 2s 7ms/step - loss: 0.8278 - acc: 0.6928 - val_loss: 1.1311 - val_acc: 0.5729\n",
            "Epoch 13/15\n",
            "213/213 [==============================] - 2s 7ms/step - loss: 0.8041 - acc: 0.7019 - val_loss: 1.1370 - val_acc: 0.5811\n",
            "Epoch 14/15\n",
            "213/213 [==============================] - 2s 7ms/step - loss: 0.7775 - acc: 0.7140 - val_loss: 1.1531 - val_acc: 0.5845\n",
            "Epoch 15/15\n",
            "213/213 [==============================] - 2s 7ms/step - loss: 0.7552 - acc: 0.7210 - val_loss: 1.1515 - val_acc: 0.5897\n"
          ],
          "name": "stdout"
        }
      ]
    },
    {
      "cell_type": "code",
      "metadata": {
        "colab_type": "code",
        "id": "9zOPIQUwMRuH",
        "colab": {
          "base_uri": "https://localhost:8080/",
          "height": 545
        },
        "outputId": "64afdb2b-5126-43e6-8618-7023fec43829"
      },
      "source": [
        "# Plot the Training and Validation Accuracy & Loss Scores\n",
        "import matplotlib.pyplot as plt\n",
        "%matplotlib inline\n",
        "\n",
        "acc = history.history['acc']\n",
        "val_acc = history.history['val_acc']\n",
        "loss = history.history['loss']\n",
        "val_loss = history.history['val_loss']\n",
        "\n",
        "epochs = range(len(acc))\n",
        "\n",
        "plt.plot(epochs, acc, 'bo', label='Training acc')\n",
        "plt.plot(epochs, val_acc, 'b', label='Validation acc')\n",
        "plt.title('Training and validation accuracy')\n",
        "plt.legend()\n",
        "\n",
        "plt.figure()\n",
        "\n",
        "plt.plot(epochs, loss, 'bo', label='Training loss')\n",
        "plt.plot(epochs, val_loss, 'b', label='Validation loss')\n",
        "plt.title('Training and validation loss')\n",
        "plt.legend()\n",
        "\n",
        "plt.show()"
      ],
      "execution_count": null,
      "outputs": [
        {
          "output_type": "display_data",
          "data": {
            "image/png": "[encoded data removed]",
            "text/plain": [
              "<Figure size 432x288 with 1 Axes>"
            ]
          },
          "metadata": {
            "tags": [],
            "needs_background": "light"
          }
        },
        {
          "output_type": "display_data",
          "data": {
            "image/png": "[encoded data removed]",
            "text/plain": [
              "<Figure size 432x288 with 1 Axes>"
            ]
          },
          "metadata": {
            "tags": [],
            "needs_background": "light"
          }
        }
      ]
    },
    {
      "cell_type": "code",
      "metadata": {
        "colab_type": "code",
        "id": "dunyrQ1aMRuK",
        "colab": {}
      },
      "source": [
        "# Save the Model\n",
        "model.save(model_path+'text_model_conv1d_3_1.h5')\n",
        "model.save('text_model_conv1d_3_1.h5')"
      ],
      "execution_count": null,
      "outputs": []
    },
    {
      "cell_type": "markdown",
      "metadata": {
        "colab_type": "text",
        "id": "U_BZMTeyMpAq"
      },
      "source": [
        "### Model #3_2 (not saved)"
      ]
    },
    {
      "cell_type": "code",
      "metadata": {
        "colab_type": "code",
        "id": "P9bsbcRVMpAr",
        "colab": {
          "base_uri": "https://localhost:8080/",
          "height": 425
        },
        "outputId": "2d4d33bd-de6b-484d-9c21-40a3b87d86a0"
      },
      "source": [
        "# Build the Model\n",
        "from tensorflow.keras.models import Sequential\n",
        "from tensorflow.keras import layers\n",
        "from tensorflow.keras.optimizers import RMSprop, Adam\n",
        "from tensorflow.keras import regularizers\n",
        "\n",
        "model = Sequential()\n",
        "model.add(layers.Embedding(max_words, 8, input_length=max_len))\n",
        "model.add(layers.Conv1D(1024, 5, activation='relu', kernel_regularizer=regularizers.l2(0.001)))\n",
        "model.add(layers.Dropout(0.25))\n",
        "model.add(layers.MaxPooling1D(5))\n",
        "model.add(layers.Conv1D(1024, 5, activation='relu', kernel_regularizer=regularizers.l2(0.001)))\n",
        "model.add(layers.Dropout(0.25))\n",
        "model.add(layers.GlobalMaxPooling1D())\n",
        "model.add(layers.Dense(5, activation='softmax'))\n",
        "\n",
        "model.summary()"
      ],
      "execution_count": null,
      "outputs": [
        {
          "output_type": "stream",
          "text": [
            "Model: \"sequential_13\"\n",
            "_________________________________________________________________\n",
            "Layer (type)                 Output Shape              Param #   \n",
            "=================================================================\n",
            "embedding_13 (Embedding)     (None, 34, 8)             80000     \n",
            "_________________________________________________________________\n",
            "conv1d_22 (Conv1D)           (None, 30, 1024)          41984     \n",
            "_________________________________________________________________\n",
            "dropout_10 (Dropout)         (None, 30, 1024)          0         \n",
            "_________________________________________________________________\n",
            "max_pooling1d_11 (MaxPooling (None, 6, 1024)           0         \n",
            "_________________________________________________________________\n",
            "conv1d_23 (Conv1D)           (None, 2, 1024)           5243904   \n",
            "_________________________________________________________________\n",
            "dropout_11 (Dropout)         (None, 2, 1024)           0         \n",
            "_________________________________________________________________\n",
            "global_max_pooling1d_11 (Glo (None, 1024)              0         \n",
            "_________________________________________________________________\n",
            "dense_11 (Dense)             (None, 5)                 5125      \n",
            "=================================================================\n",
            "Total params: 5,371,013\n",
            "Trainable params: 5,371,013\n",
            "Non-trainable params: 0\n",
            "_________________________________________________________________\n"
          ],
          "name": "stdout"
        }
      ]
    },
    {
      "cell_type": "code",
      "metadata": {
        "colab_type": "code",
        "id": "yzlLqrm-MpAu",
        "colab": {
          "base_uri": "https://localhost:8080/",
          "height": 1000
        },
        "outputId": "78f084d1-d76d-4258-d823-24558c89d810"
      },
      "source": [
        "# Train the Model\n",
        "\n",
        "model.compile(optimizer=Adam(lr=5e-4),\n",
        "              loss='categorical_crossentropy',\n",
        "              metrics=['acc'])\n",
        "history = model.fit(x_train, y_train,\n",
        "                    epochs=30,\n",
        "                    batch_size=128,\n",
        "                    validation_split=0.2)"
      ],
      "execution_count": null,
      "outputs": [
        {
          "output_type": "stream",
          "text": [
            "Epoch 1/30\n",
            "213/213 [==============================] - 7s 34ms/step - loss: 1.3953 - acc: 0.4515 - val_loss: 1.2167 - val_acc: 0.5068\n",
            "Epoch 2/30\n",
            "213/213 [==============================] - 7s 33ms/step - loss: 1.1327 - acc: 0.5263 - val_loss: 1.1502 - val_acc: 0.5273\n",
            "Epoch 3/30\n",
            "213/213 [==============================] - 7s 33ms/step - loss: 1.0470 - acc: 0.5591 - val_loss: 1.1317 - val_acc: 0.5263\n",
            "Epoch 4/30\n",
            "213/213 [==============================] - 7s 32ms/step - loss: 0.9929 - acc: 0.5869 - val_loss: 1.1346 - val_acc: 0.5366\n",
            "Epoch 5/30\n",
            "213/213 [==============================] - 7s 33ms/step - loss: 0.9480 - acc: 0.6198 - val_loss: 1.1150 - val_acc: 0.5585\n",
            "Epoch 6/30\n",
            "213/213 [==============================] - 7s 33ms/step - loss: 0.8940 - acc: 0.6580 - val_loss: 1.1011 - val_acc: 0.5742\n",
            "Epoch 7/30\n",
            "213/213 [==============================] - 7s 33ms/step - loss: 0.8433 - acc: 0.6857 - val_loss: 1.0956 - val_acc: 0.5823\n",
            "Epoch 8/30\n",
            "213/213 [==============================] - 7s 33ms/step - loss: 0.7996 - acc: 0.7065 - val_loss: 1.1177 - val_acc: 0.5828\n",
            "Epoch 9/30\n",
            "213/213 [==============================] - 7s 33ms/step - loss: 0.7614 - acc: 0.7252 - val_loss: 1.1463 - val_acc: 0.5773\n",
            "Epoch 10/30\n",
            "213/213 [==============================] - 7s 33ms/step - loss: 0.7277 - acc: 0.7407 - val_loss: 1.1563 - val_acc: 0.5742\n",
            "Epoch 11/30\n",
            "213/213 [==============================] - 7s 33ms/step - loss: 0.6960 - acc: 0.7589 - val_loss: 1.1848 - val_acc: 0.5745\n",
            "Epoch 12/30\n",
            "213/213 [==============================] - 7s 32ms/step - loss: 0.6666 - acc: 0.7728 - val_loss: 1.1859 - val_acc: 0.5837\n",
            "Epoch 13/30\n",
            "213/213 [==============================] - 7s 33ms/step - loss: 0.6375 - acc: 0.7921 - val_loss: 1.2524 - val_acc: 0.5881\n",
            "Epoch 14/30\n",
            "213/213 [==============================] - 7s 32ms/step - loss: 0.6042 - acc: 0.8064 - val_loss: 1.2816 - val_acc: 0.5902\n",
            "Epoch 15/30\n",
            "213/213 [==============================] - 7s 33ms/step - loss: 0.5755 - acc: 0.8180 - val_loss: 1.3198 - val_acc: 0.5840\n",
            "Epoch 16/30\n",
            "213/213 [==============================] - 7s 32ms/step - loss: 0.5493 - acc: 0.8329 - val_loss: 1.3743 - val_acc: 0.5896\n",
            "Epoch 17/30\n",
            "213/213 [==============================] - 7s 33ms/step - loss: 0.5218 - acc: 0.8451 - val_loss: 1.4351 - val_acc: 0.5920\n",
            "Epoch 18/30\n",
            "213/213 [==============================] - 7s 33ms/step - loss: 0.4936 - acc: 0.8565 - val_loss: 1.4830 - val_acc: 0.5922\n",
            "Epoch 19/30\n",
            "213/213 [==============================] - 7s 33ms/step - loss: 0.4682 - acc: 0.8709 - val_loss: 1.5411 - val_acc: 0.5959\n",
            "Epoch 20/30\n",
            "213/213 [==============================] - 7s 32ms/step - loss: 0.4461 - acc: 0.8783 - val_loss: 1.5921 - val_acc: 0.5949\n",
            "Epoch 21/30\n",
            "213/213 [==============================] - 7s 33ms/step - loss: 0.4236 - acc: 0.8877 - val_loss: 1.6295 - val_acc: 0.5918\n",
            "Epoch 22/30\n",
            "213/213 [==============================] - 7s 32ms/step - loss: 0.4020 - acc: 0.8970 - val_loss: 1.7135 - val_acc: 0.5900\n",
            "Epoch 23/30\n",
            "213/213 [==============================] - 7s 33ms/step - loss: 0.3821 - acc: 0.9045 - val_loss: 1.8062 - val_acc: 0.5936\n",
            "Epoch 24/30\n",
            "213/213 [==============================] - 7s 32ms/step - loss: 0.3696 - acc: 0.9072 - val_loss: 1.7679 - val_acc: 0.5940\n",
            "Epoch 25/30\n",
            "213/213 [==============================] - 7s 33ms/step - loss: 0.3492 - acc: 0.9176 - val_loss: 1.8416 - val_acc: 0.5867\n",
            "Epoch 26/30\n",
            "213/213 [==============================] - 7s 33ms/step - loss: 0.3334 - acc: 0.9215 - val_loss: 1.9705 - val_acc: 0.5958\n",
            "Epoch 27/30\n",
            "213/213 [==============================] - 7s 33ms/step - loss: 0.3215 - acc: 0.9258 - val_loss: 1.9260 - val_acc: 0.5883\n",
            "Epoch 28/30\n",
            "213/213 [==============================] - 7s 32ms/step - loss: 0.3101 - acc: 0.9292 - val_loss: 2.0411 - val_acc: 0.5965\n",
            "Epoch 29/30\n",
            "213/213 [==============================] - 7s 33ms/step - loss: 0.2976 - acc: 0.9336 - val_loss: 2.0553 - val_acc: 0.5934\n",
            "Epoch 30/30\n",
            "213/213 [==============================] - 7s 32ms/step - loss: 0.2849 - acc: 0.9382 - val_loss: 2.0897 - val_acc: 0.5984\n"
          ],
          "name": "stdout"
        }
      ]
    },
    {
      "cell_type": "code",
      "metadata": {
        "colab_type": "code",
        "id": "j6E_e8qGMpAv",
        "colab": {
          "base_uri": "https://localhost:8080/",
          "height": 545
        },
        "outputId": "9daa276b-a9b7-46c7-bddf-d4c75bae4fd8"
      },
      "source": [
        "# Plot the Training and Validation Accuracy & Loss Scores\n",
        "import matplotlib.pyplot as plt\n",
        "%matplotlib inline\n",
        "\n",
        "acc = history.history['acc']\n",
        "val_acc = history.history['val_acc']\n",
        "loss = history.history['loss']\n",
        "val_loss = history.history['val_loss']\n",
        "\n",
        "epochs = range(len(acc))\n",
        "\n",
        "plt.plot(epochs, acc, 'bo', label='Training acc')\n",
        "plt.plot(epochs, val_acc, 'b', label='Validation acc')\n",
        "plt.title('Training and validation accuracy')\n",
        "plt.legend()\n",
        "\n",
        "plt.figure()\n",
        "\n",
        "plt.plot(epochs, loss, 'bo', label='Training loss')\n",
        "plt.plot(epochs, val_loss, 'b', label='Validation loss')\n",
        "plt.title('Training and validation loss')\n",
        "plt.legend()\n",
        "\n",
        "plt.show()"
      ],
      "execution_count": null,
      "outputs": [
        {
          "output_type": "display_data",
          "data": {
            "image/png": "[encoded data removed]",
            "text/plain": [
              "<Figure size 432x288 with 1 Axes>"
            ]
          },
          "metadata": {
            "tags": [],
            "needs_background": "light"
          }
        },
        {
          "output_type": "display_data",
          "data": {
            "image/png": "[encoded data removed]",
            "text/plain": [
              "<Figure size 432x288 with 1 Axes>"
            ]
          },
          "metadata": {
            "tags": [],
            "needs_background": "light"
          }
        }
      ]
    },
    {
      "cell_type": "code",
      "metadata": {
        "colab_type": "code",
        "id": "nTlAVPraMpAx",
        "colab": {}
      },
      "source": [
        "# Save the Model\n",
        "model.save(model_path+'text_model_conv1d_3_2.h5')\n",
        "model.save('text_model_conv1d_3_2.h5')"
      ],
      "execution_count": null,
      "outputs": []
    },
    {
      "cell_type": "markdown",
      "metadata": {
        "colab_type": "text",
        "id": "jlIGwi2QOTva"
      },
      "source": [
        "## Step 2 – Develop a Sentiment Analysis Model [GRU]"
      ]
    },
    {
      "cell_type": "code",
      "metadata": {
        "colab_type": "code",
        "id": "tMgzu2aiOTvf",
        "colab": {}
      },
      "source": [
        "import tensorflow as tf\n",
        "tf.keras.backend.clear_session()"
      ],
      "execution_count": null,
      "outputs": []
    },
    {
      "cell_type": "markdown",
      "metadata": {
        "colab_type": "text",
        "id": "kcvgXM7pOTvj"
      },
      "source": [
        "### Model #1 (Replicate as necessary for other models)"
      ]
    },
    {
      "cell_type": "code",
      "metadata": {
        "colab_type": "code",
        "id": "Mn7uGt8AOTvj",
        "colab": {
          "base_uri": "https://localhost:8080/",
          "height": 493
        },
        "outputId": "8a07c19c-3d22-4e7d-8187-85d8c930c021"
      },
      "source": [
        "# Build the Model\n",
        "from tensorflow.keras.models import Sequential\n",
        "from tensorflow.keras import layers\n",
        "from tensorflow.keras.optimizers import RMSprop\n",
        "\n",
        "model = Sequential()\n",
        "model.add(layers.Embedding(max_words, 8, input_length=max_len))\n",
        "model.add(layers.GRU(32, return_sequences=True))\n",
        "model.add(layers.GRU(32, return_sequences=True, dropout=0.5, recurrent_dropout=0.5))\n",
        "model.add(layers.GRU(32, return_sequences=True))\n",
        "model.add(layers.GRU(32, return_sequences=True, dropout=0.5, recurrent_dropout=0.5))\n",
        "model.add(layers.GRU(32))\n",
        "\n",
        "model.add(layers.Flatten())\n",
        "model.add(layers.Dense(32, activation='relu'))\n",
        "model.add(layers.Dense(5, activation='softmax'))\n",
        "model.summary()"
      ],
      "execution_count": null,
      "outputs": [
        {
          "output_type": "stream",
          "text": [
            "WARNING:tensorflow:Layer gru_3 will not use cuDNN kernel since it doesn't meet the cuDNN kernel criteria. It will use generic GPU kernel as fallback when running on GPU\n",
            "WARNING:tensorflow:Layer gru_5 will not use cuDNN kernel since it doesn't meet the cuDNN kernel criteria. It will use generic GPU kernel as fallback when running on GPU\n",
            "Model: \"sequential_2\"\n",
            "_________________________________________________________________\n",
            "Layer (type)                 Output Shape              Param #   \n",
            "=================================================================\n",
            "embedding_1 (Embedding)      (None, 34, 8)             80000     \n",
            "_________________________________________________________________\n",
            "gru_2 (GRU)                  (None, 34, 32)            4032      \n",
            "_________________________________________________________________\n",
            "gru_3 (GRU)                  (None, 34, 32)            6336      \n",
            "_________________________________________________________________\n",
            "gru_4 (GRU)                  (None, 34, 32)            6336      \n",
            "_________________________________________________________________\n",
            "gru_5 (GRU)                  (None, 34, 32)            6336      \n",
            "_________________________________________________________________\n",
            "gru_6 (GRU)                  (None, 32)                6336      \n",
            "_________________________________________________________________\n",
            "flatten (Flatten)            (None, 32)                0         \n",
            "_________________________________________________________________\n",
            "dense (Dense)                (None, 32)                1056      \n",
            "_________________________________________________________________\n",
            "dense_1 (Dense)              (None, 5)                 165       \n",
            "=================================================================\n",
            "Total params: 110,597\n",
            "Trainable params: 110,597\n",
            "Non-trainable params: 0\n",
            "_________________________________________________________________\n"
          ],
          "name": "stdout"
        }
      ]
    },
    {
      "cell_type": "code",
      "metadata": {
        "colab_type": "code",
        "id": "lT_2emOwOTvm",
        "colab": {
          "base_uri": "https://localhost:8080/",
          "height": 357
        },
        "outputId": "e4d17971-bbb1-4dde-d1e9-48823a7c871e"
      },
      "source": [
        "# Train the Model\n",
        "\n",
        "model.compile(optimizer=RMSprop(lr=1e-4),\n",
        "              loss='categorical_crossentropy',\n",
        "              metrics=['acc'])\n",
        "history = model.fit(x_train, y_train,\n",
        "                    epochs=10,\n",
        "                    batch_size=128,\n",
        "                    validation_split=0.2)"
      ],
      "execution_count": null,
      "outputs": [
        {
          "output_type": "stream",
          "text": [
            "Epoch 1/10\n",
            "213/213 [==============================] - 99s 465ms/step - loss: 1.4436 - acc: 0.4225 - val_loss: 1.4224 - val_acc: 0.4311\n",
            "Epoch 2/10\n",
            "213/213 [==============================] - 97s 455ms/step - loss: 1.4267 - acc: 0.4225 - val_loss: 1.4174 - val_acc: 0.4311\n",
            "Epoch 3/10\n",
            "213/213 [==============================] - 98s 458ms/step - loss: 1.4147 - acc: 0.4225 - val_loss: 1.3912 - val_acc: 0.4311\n",
            "Epoch 4/10\n",
            "213/213 [==============================] - 98s 459ms/step - loss: 1.3376 - acc: 0.4382 - val_loss: 1.2764 - val_acc: 0.4580\n",
            "Epoch 5/10\n",
            "213/213 [==============================] - 98s 459ms/step - loss: 1.2416 - acc: 0.4774 - val_loss: 1.2123 - val_acc: 0.4956\n",
            "Epoch 6/10\n",
            "213/213 [==============================] - 97s 456ms/step - loss: 1.1929 - acc: 0.4988 - val_loss: 1.1775 - val_acc: 0.5072\n",
            "Epoch 7/10\n",
            "213/213 [==============================] - 97s 457ms/step - loss: 1.1567 - acc: 0.5128 - val_loss: 1.1519 - val_acc: 0.5113\n",
            "Epoch 8/10\n",
            "213/213 [==============================] - 97s 456ms/step - loss: 1.1255 - acc: 0.5246 - val_loss: 1.1325 - val_acc: 0.5181\n",
            "Epoch 9/10\n",
            "213/213 [==============================] - 97s 453ms/step - loss: 1.0991 - acc: 0.5387 - val_loss: 1.1187 - val_acc: 0.5166\n",
            "Epoch 10/10\n",
            "213/213 [==============================] - 98s 460ms/step - loss: 1.0754 - acc: 0.5475 - val_loss: 1.1086 - val_acc: 0.5214\n"
          ],
          "name": "stdout"
        }
      ]
    },
    {
      "cell_type": "code",
      "metadata": {
        "colab_type": "code",
        "id": "uBj_lZhUOTvo",
        "colab": {
          "base_uri": "https://localhost:8080/",
          "height": 545
        },
        "outputId": "6d23bde0-7563-4780-da37-247cb1569d26"
      },
      "source": [
        "# Plot the Training and Validation Accuracy & Loss Scores\n",
        "import matplotlib.pyplot as plt\n",
        "%matplotlib inline\n",
        "\n",
        "acc = history.history['acc']\n",
        "val_acc = history.history['val_acc']\n",
        "loss = history.history['loss']\n",
        "val_loss = history.history['val_loss']\n",
        "\n",
        "epochs = range(len(acc))\n",
        "\n",
        "plt.plot(epochs, acc, 'bo', label='Training acc')\n",
        "plt.plot(epochs, val_acc, 'b', label='Validation acc')\n",
        "plt.title('Training and validation accuracy')\n",
        "plt.legend()\n",
        "\n",
        "plt.figure()\n",
        "\n",
        "plt.plot(epochs, loss, 'bo', label='Training loss')\n",
        "plt.plot(epochs, val_loss, 'b', label='Validation loss')\n",
        "plt.title('Training and validation loss')\n",
        "plt.legend()\n",
        "\n",
        "plt.show()"
      ],
      "execution_count": null,
      "outputs": [
        {
          "output_type": "display_data",
          "data": {
            "image/png": "[encoded data removed]",
            "text/plain": [
              "<Figure size 432x288 with 1 Axes>"
            ]
          },
          "metadata": {
            "tags": [],
            "needs_background": "light"
          }
        },
        {
          "output_type": "display_data",
          "data": {
            "image/png": "[encoded data removed]",
            "text/plain": [
              "<Figure size 432x288 with 1 Axes>"
            ]
          },
          "metadata": {
            "tags": [],
            "needs_background": "light"
          }
        }
      ]
    },
    {
      "cell_type": "code",
      "metadata": {
        "colab_type": "code",
        "id": "dIjSB6lMOTvq",
        "colab": {}
      },
      "source": [
        "# Save the Model\n",
        "model.save(model_path+'text_model_gru_1.h5')\n",
        "model.save('text_model_gru_1.h5')"
      ],
      "execution_count": null,
      "outputs": []
    },
    {
      "cell_type": "markdown",
      "metadata": {
        "colab_type": "text",
        "id": "_OoyAGNnVyqa"
      },
      "source": [
        "### Model #2 (Replicate as necessary for other models)"
      ]
    },
    {
      "cell_type": "code",
      "metadata": {
        "colab_type": "code",
        "id": "vW-qzIRoVyqc",
        "colab": {
          "base_uri": "https://localhost:8080/",
          "height": 493
        },
        "outputId": "3808d60c-b32c-4bde-d430-3da1051862c6"
      },
      "source": [
        "# Build the Model\n",
        "from tensorflow.keras.models import Sequential\n",
        "from tensorflow.keras import layers\n",
        "from tensorflow.keras.optimizers import RMSprop\n",
        "\n",
        "model = Sequential()\n",
        "model.add(layers.Embedding(max_words, 8, input_length=max_len))\n",
        "model.add(layers.GRU(512, return_sequences=True))\n",
        "model.add(layers.GRU(512, return_sequences=True, dropout=0.5, recurrent_dropout=0.5))\n",
        "model.add(layers.GRU(256, return_sequences=True))\n",
        "model.add(layers.GRU(256, return_sequences=True, dropout=0.5, recurrent_dropout=0.5))\n",
        "model.add(layers.GRU(128))\n",
        "\n",
        "model.add(layers.Flatten())\n",
        "model.add(layers.Dense(32, activation='relu'))\n",
        "model.add(layers.Dense(5, activation='softmax'))\n",
        "model.summary()"
      ],
      "execution_count": null,
      "outputs": [
        {
          "output_type": "stream",
          "text": [
            "WARNING:tensorflow:Layer gru_8 will not use cuDNN kernel since it doesn't meet the cuDNN kernel criteria. It will use generic GPU kernel as fallback when running on GPU\n",
            "WARNING:tensorflow:Layer gru_10 will not use cuDNN kernel since it doesn't meet the cuDNN kernel criteria. It will use generic GPU kernel as fallback when running on GPU\n",
            "Model: \"sequential_3\"\n",
            "_________________________________________________________________\n",
            "Layer (type)                 Output Shape              Param #   \n",
            "=================================================================\n",
            "embedding_2 (Embedding)      (None, 34, 8)             80000     \n",
            "_________________________________________________________________\n",
            "gru_7 (GRU)                  (None, 34, 512)           801792    \n",
            "_________________________________________________________________\n",
            "gru_8 (GRU)                  (None, 34, 512)           1575936   \n",
            "_________________________________________________________________\n",
            "gru_9 (GRU)                  (None, 34, 256)           591360    \n",
            "_________________________________________________________________\n",
            "gru_10 (GRU)                 (None, 34, 256)           394752    \n",
            "_________________________________________________________________\n",
            "gru_11 (GRU)                 (None, 128)               148224    \n",
            "_________________________________________________________________\n",
            "flatten_1 (Flatten)          (None, 128)               0         \n",
            "_________________________________________________________________\n",
            "dense_2 (Dense)              (None, 32)                4128      \n",
            "_________________________________________________________________\n",
            "dense_3 (Dense)              (None, 5)                 165       \n",
            "=================================================================\n",
            "Total params: 3,596,357\n",
            "Trainable params: 3,596,357\n",
            "Non-trainable params: 0\n",
            "_________________________________________________________________\n"
          ],
          "name": "stdout"
        }
      ]
    },
    {
      "cell_type": "code",
      "metadata": {
        "colab_type": "code",
        "id": "yf4luRbHVyqf",
        "colab": {
          "base_uri": "https://localhost:8080/",
          "height": 357
        },
        "outputId": "256881ab-229e-45a0-efec-41da29c691a8"
      },
      "source": [
        "# Train the Model\n",
        "\n",
        "model.compile(optimizer=RMSprop(lr=1e-4),\n",
        "              loss='categorical_crossentropy',\n",
        "              metrics=['acc'])\n",
        "history = model.fit(x_train, y_train,\n",
        "                    epochs=10,\n",
        "                    batch_size=128,\n",
        "                    validation_split=0.2)"
      ],
      "execution_count": null,
      "outputs": [
        {
          "output_type": "stream",
          "text": [
            "Epoch 1/10\n",
            "213/213 [==============================] - 114s 537ms/step - loss: 1.4308 - acc: 0.4216 - val_loss: 1.3955 - val_acc: 0.4311\n",
            "Epoch 2/10\n",
            "213/213 [==============================] - 112s 526ms/step - loss: 1.3231 - acc: 0.4440 - val_loss: 1.2673 - val_acc: 0.4668\n",
            "Epoch 3/10\n",
            "213/213 [==============================] - 112s 525ms/step - loss: 1.2308 - acc: 0.4726 - val_loss: 1.1941 - val_acc: 0.4894\n",
            "Epoch 4/10\n",
            "213/213 [==============================] - 113s 529ms/step - loss: 1.1665 - acc: 0.5001 - val_loss: 1.1575 - val_acc: 0.4996\n",
            "Epoch 5/10\n",
            "213/213 [==============================] - 112s 526ms/step - loss: 1.1184 - acc: 0.5178 - val_loss: 1.1250 - val_acc: 0.5106\n",
            "Epoch 6/10\n",
            "213/213 [==============================] - 113s 531ms/step - loss: 1.0831 - acc: 0.5369 - val_loss: 1.1073 - val_acc: 0.5236\n",
            "Epoch 7/10\n",
            "213/213 [==============================] - 112s 525ms/step - loss: 1.0547 - acc: 0.5481 - val_loss: 1.1045 - val_acc: 0.5178\n",
            "Epoch 8/10\n",
            "213/213 [==============================] - 113s 529ms/step - loss: 1.0303 - acc: 0.5625 - val_loss: 1.0694 - val_acc: 0.5433\n",
            "Epoch 9/10\n",
            "213/213 [==============================] - 112s 528ms/step - loss: 1.0077 - acc: 0.5692 - val_loss: 1.0680 - val_acc: 0.5433\n",
            "Epoch 10/10\n",
            "213/213 [==============================] - 113s 528ms/step - loss: 0.9911 - acc: 0.5812 - val_loss: 1.0495 - val_acc: 0.5514\n"
          ],
          "name": "stdout"
        }
      ]
    },
    {
      "cell_type": "code",
      "metadata": {
        "colab_type": "code",
        "id": "gShgToAoVyqg",
        "colab": {
          "base_uri": "https://localhost:8080/",
          "height": 545
        },
        "outputId": "7f7800d3-462f-4f1b-f0c7-e539041edf8c"
      },
      "source": [
        "# Plot the Training and Validation Accuracy & Loss Scores\n",
        "import matplotlib.pyplot as plt\n",
        "%matplotlib inline\n",
        "\n",
        "acc = history.history['acc']\n",
        "val_acc = history.history['val_acc']\n",
        "loss = history.history['loss']\n",
        "val_loss = history.history['val_loss']\n",
        "\n",
        "epochs = range(len(acc))\n",
        "\n",
        "plt.plot(epochs, acc, 'bo', label='Training acc')\n",
        "plt.plot(epochs, val_acc, 'b', label='Validation acc')\n",
        "plt.title('Training and validation accuracy')\n",
        "plt.legend()\n",
        "\n",
        "plt.figure()\n",
        "\n",
        "plt.plot(epochs, loss, 'bo', label='Training loss')\n",
        "plt.plot(epochs, val_loss, 'b', label='Validation loss')\n",
        "plt.title('Training and validation loss')\n",
        "plt.legend()\n",
        "\n",
        "plt.show()"
      ],
      "execution_count": null,
      "outputs": [
        {
          "output_type": "display_data",
          "data": {
            "image/png": "[encoded data removed]",
            "text/plain": [
              "<Figure size 432x288 with 1 Axes>"
            ]
          },
          "metadata": {
            "tags": [],
            "needs_background": "light"
          }
        },
        {
          "output_type": "display_data",
          "data": {
            "image/png": "[encoded data removed]",
            "text/plain": [
              "<Figure size 432x288 with 1 Axes>"
            ]
          },
          "metadata": {
            "tags": [],
            "needs_background": "light"
          }
        }
      ]
    },
    {
      "cell_type": "code",
      "metadata": {
        "colab_type": "code",
        "id": "Z-SYrMOVVyqi",
        "colab": {}
      },
      "source": [
        "# Save the Model\n",
        "model.save(model_path+'text_model_gru_2.h5')\n",
        "model.save('text_model_gru_2.h5')"
      ],
      "execution_count": null,
      "outputs": []
    },
    {
      "cell_type": "markdown",
      "metadata": {
        "colab_type": "text",
        "id": "Zt91OqeVCznP"
      },
      "source": [
        "### Model #3 (Replicate as necessary for other models)"
      ]
    },
    {
      "cell_type": "code",
      "metadata": {
        "colab_type": "code",
        "id": "FTlOykiDCznQ",
        "colab": {
          "base_uri": "https://localhost:8080/",
          "height": 493
        },
        "outputId": "17e8013f-2ab8-4fe9-bd24-0541a2b7466d"
      },
      "source": [
        "# Build the Model\n",
        "from tensorflow.keras.models import Sequential\n",
        "from tensorflow.keras import layers\n",
        "from tensorflow.keras.optimizers import RMSprop\n",
        "\n",
        "model = Sequential()\n",
        "model.add(layers.Embedding(max_words, 8, input_length=max_len))\n",
        "model.add(layers.GRU(512, return_sequences=True))\n",
        "model.add(layers.GRU(512, return_sequences=True, dropout=0.5, recurrent_dropout=0.5))\n",
        "model.add(layers.GRU(256, return_sequences=True))\n",
        "model.add(layers.GRU(256, return_sequences=True, dropout=0.5, recurrent_dropout=0.5))\n",
        "model.add(layers.GRU(128))\n",
        "\n",
        "model.add(layers.Flatten())\n",
        "model.add(layers.Dense(32, activation='relu'))\n",
        "model.add(layers.Dense(5, activation='softmax'))\n",
        "model.summary()"
      ],
      "execution_count": null,
      "outputs": [
        {
          "output_type": "stream",
          "text": [
            "WARNING:tensorflow:Layer gru_1 will not use cuDNN kernel since it doesn't meet the cuDNN kernel criteria. It will use generic GPU kernel as fallback when running on GPU\n",
            "WARNING:tensorflow:Layer gru_3 will not use cuDNN kernel since it doesn't meet the cuDNN kernel criteria. It will use generic GPU kernel as fallback when running on GPU\n",
            "Model: \"sequential_14\"\n",
            "_________________________________________________________________\n",
            "Layer (type)                 Output Shape              Param #   \n",
            "=================================================================\n",
            "embedding_14 (Embedding)     (None, 34, 8)             80000     \n",
            "_________________________________________________________________\n",
            "gru (GRU)                    (None, 34, 512)           801792    \n",
            "_________________________________________________________________\n",
            "gru_1 (GRU)                  (None, 34, 512)           1575936   \n",
            "_________________________________________________________________\n",
            "gru_2 (GRU)                  (None, 34, 256)           591360    \n",
            "_________________________________________________________________\n",
            "gru_3 (GRU)                  (None, 34, 256)           394752    \n",
            "_________________________________________________________________\n",
            "gru_4 (GRU)                  (None, 128)               148224    \n",
            "_________________________________________________________________\n",
            "flatten (Flatten)            (None, 128)               0         \n",
            "_________________________________________________________________\n",
            "dense_12 (Dense)             (None, 32)                4128      \n",
            "_________________________________________________________________\n",
            "dense_13 (Dense)             (None, 5)                 165       \n",
            "=================================================================\n",
            "Total params: 3,596,357\n",
            "Trainable params: 3,596,357\n",
            "Non-trainable params: 0\n",
            "_________________________________________________________________\n"
          ],
          "name": "stdout"
        }
      ]
    },
    {
      "cell_type": "code",
      "metadata": {
        "colab_type": "code",
        "id": "fBS78AH5CznU",
        "colab": {
          "base_uri": "https://localhost:8080/",
          "height": 697
        },
        "outputId": "29dd0ea4-43f9-4984-9b8d-8551fcaadee8"
      },
      "source": [
        "# Train the Model\n",
        "\n",
        "model.compile(optimizer=RMSprop(lr=1e-4),\n",
        "              loss='categorical_crossentropy',\n",
        "              metrics=['acc'])\n",
        "history = model.fit(x_train, y_train,\n",
        "                    epochs=20,\n",
        "                    batch_size=128,\n",
        "                    validation_split=0.2)"
      ],
      "execution_count": null,
      "outputs": [
        {
          "output_type": "stream",
          "text": [
            "Epoch 1/20\n",
            "213/213 [==============================] - 96s 452ms/step - loss: 1.4093 - acc: 0.4230 - val_loss: 1.3255 - val_acc: 0.4440\n",
            "Epoch 2/20\n",
            "213/213 [==============================] - 95s 446ms/step - loss: 1.2896 - acc: 0.4550 - val_loss: 1.2315 - val_acc: 0.4768\n",
            "Epoch 3/20\n",
            "213/213 [==============================] - 95s 445ms/step - loss: 1.2053 - acc: 0.4860 - val_loss: 1.2175 - val_acc: 0.4890\n",
            "Epoch 4/20\n",
            "213/213 [==============================] - 94s 443ms/step - loss: 1.1460 - acc: 0.5072 - val_loss: 1.1709 - val_acc: 0.4997\n",
            "Epoch 5/20\n",
            "213/213 [==============================] - 95s 447ms/step - loss: 1.1054 - acc: 0.5273 - val_loss: 1.1308 - val_acc: 0.5104\n",
            "Epoch 6/20\n",
            "213/213 [==============================] - 94s 442ms/step - loss: 1.0738 - acc: 0.5398 - val_loss: 1.1054 - val_acc: 0.5173\n",
            "Epoch 7/20\n",
            "213/213 [==============================] - 95s 444ms/step - loss: 1.0500 - acc: 0.5500 - val_loss: 1.0848 - val_acc: 0.5347\n",
            "Epoch 8/20\n",
            "213/213 [==============================] - 95s 444ms/step - loss: 1.0281 - acc: 0.5625 - val_loss: 1.0892 - val_acc: 0.5358\n",
            "Epoch 9/20\n",
            "213/213 [==============================] - 94s 441ms/step - loss: 1.0101 - acc: 0.5692 - val_loss: 1.0739 - val_acc: 0.5400\n",
            "Epoch 10/20\n",
            "213/213 [==============================] - 93s 438ms/step - loss: 0.9934 - acc: 0.5791 - val_loss: 1.0816 - val_acc: 0.5442\n",
            "Epoch 11/20\n",
            "213/213 [==============================] - 94s 443ms/step - loss: 0.9780 - acc: 0.5858 - val_loss: 1.1079 - val_acc: 0.5364\n",
            "Epoch 12/20\n",
            "213/213 [==============================] - 95s 447ms/step - loss: 0.9617 - acc: 0.5934 - val_loss: 1.0611 - val_acc: 0.5426\n",
            "Epoch 13/20\n",
            "213/213 [==============================] - 95s 446ms/step - loss: 0.9470 - acc: 0.6024 - val_loss: 1.0691 - val_acc: 0.5425\n",
            "Epoch 14/20\n",
            "213/213 [==============================] - 94s 443ms/step - loss: 0.9344 - acc: 0.6091 - val_loss: 1.0501 - val_acc: 0.5570\n",
            "Epoch 15/20\n",
            "213/213 [==============================] - 94s 443ms/step - loss: 0.9207 - acc: 0.6218 - val_loss: 1.0501 - val_acc: 0.5579\n",
            "Epoch 16/20\n",
            "213/213 [==============================] - 95s 444ms/step - loss: 0.9081 - acc: 0.6250 - val_loss: 1.0426 - val_acc: 0.5482\n",
            "Epoch 17/20\n",
            "213/213 [==============================] - 95s 444ms/step - loss: 0.8971 - acc: 0.6307 - val_loss: 1.0568 - val_acc: 0.5499\n",
            "Epoch 18/20\n",
            "213/213 [==============================] - 95s 445ms/step - loss: 0.8865 - acc: 0.6396 - val_loss: 1.0633 - val_acc: 0.5530\n",
            "Epoch 19/20\n",
            "213/213 [==============================] - 96s 449ms/step - loss: 0.8754 - acc: 0.6444 - val_loss: 1.0606 - val_acc: 0.5555\n",
            "Epoch 20/20\n",
            "213/213 [==============================] - 96s 449ms/step - loss: 0.8632 - acc: 0.6498 - val_loss: 1.0572 - val_acc: 0.5571\n"
          ],
          "name": "stdout"
        }
      ]
    },
    {
      "cell_type": "code",
      "metadata": {
        "colab_type": "code",
        "id": "QfhFsY-VCznV",
        "colab": {
          "base_uri": "https://localhost:8080/",
          "height": 545
        },
        "outputId": "839b18fb-3c60-41a8-fd1c-3261660d968c"
      },
      "source": [
        "# Plot the Training and Validation Accuracy & Loss Scores\n",
        "import matplotlib.pyplot as plt\n",
        "%matplotlib inline\n",
        "\n",
        "acc = history.history['acc']\n",
        "val_acc = history.history['val_acc']\n",
        "loss = history.history['loss']\n",
        "val_loss = history.history['val_loss']\n",
        "\n",
        "epochs = range(len(acc))\n",
        "\n",
        "plt.plot(epochs, acc, 'bo', label='Training acc')\n",
        "plt.plot(epochs, val_acc, 'b', label='Validation acc')\n",
        "plt.title('Training and validation accuracy')\n",
        "plt.legend()\n",
        "\n",
        "plt.figure()\n",
        "\n",
        "plt.plot(epochs, loss, 'bo', label='Training loss')\n",
        "plt.plot(epochs, val_loss, 'b', label='Validation loss')\n",
        "plt.title('Training and validation loss')\n",
        "plt.legend()\n",
        "\n",
        "plt.show()"
      ],
      "execution_count": null,
      "outputs": [
        {
          "output_type": "display_data",
          "data": {
            "image/png": "[encoded data removed]",
            "text/plain": [
              "<Figure size 432x288 with 1 Axes>"
            ]
          },
          "metadata": {
            "tags": [],
            "needs_background": "light"
          }
        },
        {
          "output_type": "display_data",
          "data": {
            "image/png": "[encoded data removed]",
            "text/plain": [
              "<Figure size 432x288 with 1 Axes>"
            ]
          },
          "metadata": {
            "tags": [],
            "needs_background": "light"
          }
        }
      ]
    },
    {
      "cell_type": "code",
      "metadata": {
        "colab_type": "code",
        "id": "iGjPuF4OCznX",
        "colab": {}
      },
      "source": [
        "# Save the Model\n",
        "model.save(model_path+'text_model_gru_3.h5')\n",
        "model.save('text_model_gru_3.h5')"
      ],
      "execution_count": null,
      "outputs": []
    },
    {
      "cell_type": "markdown",
      "metadata": {
        "id": "aLy13ruxs4v9",
        "colab_type": "text"
      },
      "source": [
        "## Step 3 – Evaluate the Model using Testing Data "
      ]
    },
    {
      "cell_type": "code",
      "metadata": {
        "id": "mn421YB8s4v9",
        "colab_type": "code",
        "colab": {}
      },
      "source": [
        "# Model #1 (replicate where necessary for other models)\n",
        "from tensorflow.keras import models\n",
        "#model.load_weights('text_model_1.h5')\n",
        "\n",
        "model = models.load_model(model_path+'text_model_conv1d_3_1.h5')"
      ],
      "execution_count": null,
      "outputs": []
    },
    {
      "cell_type": "code",
      "metadata": {
        "id": "8dKOgrols4v_",
        "colab_type": "code",
        "colab": {}
      },
      "source": [
        "# Save the Best Model\n",
        "model.save('text_model_best.h5')"
      ],
      "execution_count": null,
      "outputs": []
    },
    {
      "cell_type": "markdown",
      "metadata": {
        "id": "7lEhdj0Zs4wA",
        "colab_type": "text"
      },
      "source": [
        "## Step 4 – Use the Best Model to make prediction"
      ]
    },
    {
      "cell_type": "code",
      "metadata": {
        "id": "tr7Ji3MHs4wB",
        "colab_type": "code",
        "colab": {}
      },
      "source": [
        "model.load_weights('text_model_best.h5')"
      ],
      "execution_count": null,
      "outputs": []
    },
    {
      "cell_type": "code",
      "metadata": {
        "id": "IUNNAdN_s4wC",
        "colab_type": "code",
        "colab": {
          "base_uri": "https://localhost:8080/",
          "height": 34
        },
        "outputId": "a0f3833b-8dc7-4238-b55a-d39448eb27dd"
      },
      "source": [
        "# takes the user input\n",
        "text_input = np.array([input()])"
      ],
      "execution_count": null,
      "outputs": [
        {
          "output_type": "stream",
          "text": [
            "western\n"
          ],
          "name": "stdout"
        }
      ]
    },
    {
      "cell_type": "code",
      "metadata": {
        "id": "AL9uJMwss4wE",
        "colab_type": "code",
        "colab": {}
      },
      "source": [
        "# convert the user input into numeric tensor\n",
        "import pandas as pd\n",
        "def prediction(model, text_array, items_list):\n",
        "    prob = model.predict(data)\n",
        "    pro_df = pd.DataFrame(prob, columns = items_list)\n",
        "    result = items_list[np.argmax(prob)]\n",
        "    return pro_df, result\n",
        "\n",
        "sequences = tokenizer.texts_to_sequences(text_input)\n",
        "data = pad_sequences(sequences, maxlen=max_len)"
      ],
      "execution_count": null,
      "outputs": []
    },
    {
      "cell_type": "code",
      "metadata": {
        "id": "6dz3hkLZs4wG",
        "colab_type": "code",
        "colab": {
          "base_uri": "https://localhost:8080/",
          "height": 51
        },
        "outputId": "21a4eb95-2397-4b87-fc31-8879c06b1ee7"
      },
      "source": [
        "# show the model output using predict function\n",
        "prediction(model, data, emoji_dictionary)"
      ],
      "execution_count": null,
      "outputs": [
        {
          "output_type": "execute_result",
          "data": {
            "text/plain": [
              "(          0         1         2         3         4\n",
              " 0  0.275362  0.243967  0.180515  0.143275  0.156882, '😍')"
            ]
          },
          "metadata": {
            "tags": []
          },
          "execution_count": 110
        }
      ]
    },
    {
      "cell_type": "code",
      "metadata": {
        "id": "u-azzaoeevGQ",
        "colab_type": "code",
        "colab": {}
      },
      "source": [
        ""
      ],
      "execution_count": null,
      "outputs": []
    }
  ]
}