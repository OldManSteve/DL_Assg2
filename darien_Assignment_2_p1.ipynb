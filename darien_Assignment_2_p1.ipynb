{
 "cells": [
  {
   "cell_type": "markdown",
   "metadata": {},
   "source": [
    "<table class=\"table table-bordered\">\n",
    "    <tr>\n",
    "        <th style=\"text-align:center; width:25%\"><img src='https://www.np.edu.sg/PublishingImages/Pages/default/odp/ICT.jpg' style=\"width: 250px; height: 125px; \"></th>\n",
    "        <th style=\"text-align:center;\"><h1>Deep Learning</h1><h2>Assignment 2 - Sentiment Analysis Model (Problem 1)</h2><h3>AY2020/21 Semester</h3></th>\n",
    "    </tr>\n",
    "</table>"
   ]
  },
  {
   "cell_type": "code",
   "execution_count": 1,
   "metadata": {},
   "outputs": [
    {
     "name": "stdout",
     "output_type": "stream",
     "text": [
      "keras:  2.2.4-tf\n"
     ]
    },
    {
     "data": {
      "text/html": [
       "<style>.container { width:95% !important; }</style>"
      ],
      "text/plain": [
       "<IPython.core.display.HTML object>"
      ]
     },
     "metadata": {},
     "output_type": "display_data"
    }
   ],
   "source": [
    "# Import the Required Packages\n",
    "from tensorflow import keras\n",
    "print('keras: ', keras.__version__)\n",
    "from IPython.core.display import display, HTML\n",
    "display(HTML(\"<style>.container { width:95% !important; }</style>\"))\n",
    "from tensorflow.keras.preprocessing.text import Tokenizer\n",
    "from tensorflow.keras.preprocessing.sequence import pad_sequences\n",
    "import numpy as np\n",
    "from tensorflow.keras.models import Sequential\n",
    "from tensorflow.keras.layers import Embedding, Flatten, Dense\n",
    "from tensorflow.keras.optimizers import RMSprop\n",
    "from tensorflow.keras.optimizers import Adam\n",
    "from tensorflow.keras.optimizers import SGD\n",
    "from tensorflow.keras import layers\n",
    "from tensorflow.keras.layers import LSTM\n",
    "from tensorflow.keras.layers import Bidirectional\n",
    "from tensorflow.keras.layers import Dropout\n",
    "import os"
   ]
  },
  {
   "cell_type": "markdown",
   "metadata": {},
   "source": [
    "## Step 1 – Data Loading and Processing"
   ]
  },
  {
   "cell_type": "markdown",
   "metadata": {},
   "source": [
    "### 1.1 Data Loading"
   ]
  },
  {
   "cell_type": "code",
   "execution_count": 2,
   "metadata": {},
   "outputs": [
    {
     "name": "stdout",
     "output_type": "stream",
     "text": [
      "{0: '😍', 1: '😂', 2: '📷', 3: '🔥', 4: '❤'}\n",
      "A total of:  5 Emoji Icons\n"
     ]
    }
   ],
   "source": [
    "# Load the emoji_dictionary\n",
    "import pandas as pd\n",
    "df = pd.read_csv('mapping.csv', delimiter=',')\n",
    "emoji_dictionary = df.loc[:,'emoticons'].to_dict()\n",
    "print(emoji_dictionary)\n",
    "print('A total of: ', len(emoji_dictionary), 'Emoji Icons')"
   ]
  },
  {
   "cell_type": "code",
   "execution_count": 3,
   "metadata": {},
   "outputs": [],
   "source": [
    "# load the dataset\n",
    "dat = pd.read_csv('dataset.csv', delimiter=',')\n",
    "texts = dat.loc[:,'TEXT'].values \n",
    "labels = dat.loc[:,'Label'].values"
   ]
  },
  {
   "cell_type": "code",
   "execution_count": 4,
   "metadata": {},
   "outputs": [
    {
     "name": "stdout",
     "output_type": "stream",
     "text": [
      "the maximum length of the text inputs is  34\n"
     ]
    }
   ],
   "source": [
    "# Check the maximum length of texts\n",
    "max_len = -1\n",
    "for example in texts:\n",
    "    if len(example.split()) > max_len:\n",
    "        max_len = len(example.split())\n",
    "        \n",
    "print('the maximum length of the text inputs is ', max_len)"
   ]
  },
  {
   "cell_type": "markdown",
   "metadata": {},
   "source": [
    "### 1.2 Data Processing\n"
   ]
  },
  {
   "cell_type": "code",
   "execution_count": 5,
   "metadata": {},
   "outputs": [
    {
     "name": "stdout",
     "output_type": "stream",
     "text": [
      "Found 54076 unique tokens.\n",
      "Shape of data tensor: (42546, 34)\n",
      "Shape of label tensor: (42546, 5)\n"
     ]
    }
   ],
   "source": [
    "# Convert the texts and labels into numeric tensors\n",
    "from tensorflow.keras.preprocessing.text import Tokenizer\n",
    "from tensorflow.keras.preprocessing.sequence import pad_sequences\n",
    "import numpy as np\n",
    "\n",
    "max_words = 100000\n",
    "#maxlen = 34\n",
    "\n",
    "tokenizer = Tokenizer(num_words=max_words)\n",
    "tokenizer.fit_on_texts(texts)\n",
    "sequences = tokenizer.texts_to_sequences(texts)\n",
    "\n",
    "word_index = tokenizer.word_index\n",
    "print('Found %s unique tokens.' % len(word_index))\n",
    "\n",
    "def vectorize_sequences(sequences, dimension=5):\n",
    "    # Create an all-zero matrix of shape (len(sequences), dimension)\n",
    "    results = np.zeros((len(sequences), dimension))\n",
    "    for i, sequence in enumerate(sequences):\n",
    "        results[i, sequence] = 1.  # set specific indices of results[i] to 1s\n",
    "    return results\n",
    "\n",
    "X = pad_sequences(sequences, maxlen=max_len)\n",
    "y = vectorize_sequences(labels)\n",
    "\n",
    "print('Shape of data tensor:', X.shape)\n",
    "print('Shape of label tensor:', y.shape)\n"
   ]
  },
  {
   "cell_type": "markdown",
   "metadata": {},
   "source": [
    "### 1.3 Data Sampling"
   ]
  },
  {
   "cell_type": "code",
   "execution_count": 6,
   "metadata": {},
   "outputs": [],
   "source": [
    "# Split the X & y into train and test sets\n",
    "from sklearn.model_selection import train_test_split\n",
    "X_train, X_test, y_train, y_test = train_test_split(X, y, test_size=0.2, random_state = 4)\n",
    "# Refer the report Appendix\n",
    "# Please enter the random_state assigned to your group"
   ]
  },
  {
   "cell_type": "markdown",
   "metadata": {},
   "source": [
    "## Step 2 – Develop a Sentiment Analysis Model"
   ]
  },
  {
   "cell_type": "markdown",
   "metadata": {},
   "source": [
    "### Model #1 (Basic Model)"
   ]
  },
  {
   "cell_type": "code",
   "execution_count": 112,
   "metadata": {
    "scrolled": true
   },
   "outputs": [
    {
     "name": "stdout",
     "output_type": "stream",
     "text": [
      "WARNING:tensorflow:Layer lstm will not use cuDNN kernel since it doesn't meet the cuDNN kernel criteria. It will use generic GPU kernel as fallback when running on GPU\n",
      "Model: \"sequential_46\"\n",
      "_________________________________________________________________\n",
      "Layer (type)                 Output Shape              Param #   \n",
      "=================================================================\n",
      "embedding_40 (Embedding)     (None, 34, 8)             80000     \n",
      "_________________________________________________________________\n",
      "lstm (LSTM)                  (None, 128)               70144     \n",
      "_________________________________________________________________\n",
      "flatten (Flatten)            (None, 128)               0         \n",
      "_________________________________________________________________\n",
      "dense_31 (Dense)             (None, 512)               66048     \n",
      "_________________________________________________________________\n",
      "dropout_7 (Dropout)          (None, 512)               0         \n",
      "_________________________________________________________________\n",
      "dense_32 (Dense)             (None, 5)                 2565      \n",
      "=================================================================\n",
      "Total params: 218,757\n",
      "Trainable params: 218,757\n",
      "Non-trainable params: 0\n",
      "_________________________________________________________________\n"
     ]
    }
   ],
   "source": [
    "# Build the Model\n",
    "model = Sequential()\n",
    "model.add(Embedding(max_words, 8, input_length=max_len, trainable=True))\n",
    "model.add(LSTM(128, dropout=0.2, recurrent_dropout=0.2))\n",
    "model.add(Flatten())\n",
    "model.add(Dense(512, activation='relu'))\n",
    "model.add(Dropout(0.50))\n",
    "model.add(Dense(5, activation='softmax'))\n",
    "model.summary()"
   ]
  },
  {
   "cell_type": "code",
   "execution_count": null,
   "metadata": {
    "scrolled": true
   },
   "outputs": [
    {
     "name": "stdout",
     "output_type": "stream",
     "text": [
      "Epoch 1/50\n",
      "213/213 [==============================] - 21s 100ms/step - loss: 1.4498 - acc: 0.4239 - val_loss: 1.4229 - val_acc: 0.4289\n",
      "Epoch 2/50\n",
      "213/213 [==============================] - 21s 99ms/step - loss: 1.4230 - acc: 0.4247 - val_loss: 1.4090 - val_acc: 0.4289\n",
      "Epoch 3/50\n",
      "213/213 [==============================] - 21s 98ms/step - loss: 1.4053 - acc: 0.4247 - val_loss: 1.3830 - val_acc: 0.4289\n",
      "Epoch 4/50\n",
      "213/213 [==============================] - 21s 98ms/step - loss: 1.3611 - acc: 0.4260 - val_loss: 1.3268 - val_acc: 0.4307\n",
      "Epoch 5/50\n",
      "213/213 [==============================] - 21s 99ms/step - loss: 1.2827 - acc: 0.4537 - val_loss: 1.2567 - val_acc: 0.4768\n",
      "Epoch 6/50\n",
      "213/213 [==============================] - 21s 98ms/step - loss: 1.2263 - acc: 0.4829 - val_loss: 1.2102 - val_acc: 0.4887\n",
      "Epoch 7/50\n",
      "213/213 [==============================] - 21s 98ms/step - loss: 1.1885 - acc: 0.4982 - val_loss: 1.1866 - val_acc: 0.4940\n",
      "Epoch 8/50\n",
      "213/213 [==============================] - 21s 98ms/step - loss: 1.1565 - acc: 0.5101 - val_loss: 1.1579 - val_acc: 0.5100\n",
      "Epoch 9/50\n",
      "213/213 [==============================] - 21s 98ms/step - loss: 1.1314 - acc: 0.5187 - val_loss: 1.1377 - val_acc: 0.5160\n",
      "Epoch 10/50\n",
      "213/213 [==============================] - 21s 98ms/step - loss: 1.1094 - acc: 0.5269 - val_loss: 1.1294 - val_acc: 0.5154\n",
      "Epoch 11/50\n",
      "213/213 [==============================] - 21s 99ms/step - loss: 1.0890 - acc: 0.5331 - val_loss: 1.1103 - val_acc: 0.5272\n",
      "Epoch 12/50\n",
      "213/213 [==============================] - 21s 98ms/step - loss: 1.0749 - acc: 0.5409 - val_loss: 1.1053 - val_acc: 0.5263\n",
      "Epoch 13/50\n",
      "213/213 [==============================] - 21s 98ms/step - loss: 1.0591 - acc: 0.5462 - val_loss: 1.0956 - val_acc: 0.5316\n",
      "Epoch 14/50\n",
      "213/213 [==============================] - 21s 98ms/step - loss: 1.0480 - acc: 0.5507 - val_loss: 1.0922 - val_acc: 0.5339\n",
      "Epoch 15/50\n",
      "213/213 [==============================] - 21s 99ms/step - loss: 1.0382 - acc: 0.5567 - val_loss: 1.0848 - val_acc: 0.5389\n",
      "Epoch 16/50\n",
      "213/213 [==============================] - 21s 97ms/step - loss: 1.0296 - acc: 0.5617 - val_loss: 1.0830 - val_acc: 0.5422\n",
      "Epoch 17/50\n",
      "213/213 [==============================] - 21s 99ms/step - loss: 1.0227 - acc: 0.5654 - val_loss: 1.0793 - val_acc: 0.5430\n",
      "Epoch 18/50\n",
      "213/213 [==============================] - 21s 97ms/step - loss: 1.0159 - acc: 0.5674 - val_loss: 1.0769 - val_acc: 0.5436\n",
      "Epoch 19/50\n",
      "213/213 [==============================] - 21s 98ms/step - loss: 1.0059 - acc: 0.5741 - val_loss: 1.0760 - val_acc: 0.5444\n",
      "Epoch 20/50\n",
      "213/213 [==============================] - 21s 99ms/step - loss: 0.9992 - acc: 0.5776 - val_loss: 1.0854 - val_acc: 0.5402\n",
      "Epoch 21/50\n",
      "213/213 [==============================] - 21s 98ms/step - loss: 0.9944 - acc: 0.5805 - val_loss: 1.0746 - val_acc: 0.5427\n",
      "Epoch 22/50\n",
      "213/213 [==============================] - 21s 98ms/step - loss: 0.9900 - acc: 0.5833 - val_loss: 1.0788 - val_acc: 0.5457\n",
      "Epoch 23/50\n",
      "213/213 [==============================] - 21s 98ms/step - loss: 0.9824 - acc: 0.5857 - val_loss: 1.0713 - val_acc: 0.5485\n",
      "Epoch 24/50\n",
      "213/213 [==============================] - 21s 97ms/step - loss: 0.9762 - acc: 0.5913 - val_loss: 1.0715 - val_acc: 0.5521\n",
      "Epoch 25/50\n",
      "213/213 [==============================] - 21s 98ms/step - loss: 0.9710 - acc: 0.5909 - val_loss: 1.0672 - val_acc: 0.5521\n",
      "Epoch 26/50\n",
      "213/213 [==============================] - 21s 97ms/step - loss: 0.9649 - acc: 0.5961 - val_loss: 1.0681 - val_acc: 0.5469\n",
      "Epoch 27/50\n",
      "213/213 [==============================] - 21s 98ms/step - loss: 0.9577 - acc: 0.5987 - val_loss: 1.0645 - val_acc: 0.5538\n",
      "Epoch 28/50\n",
      "213/213 [==============================] - 21s 99ms/step - loss: 0.9540 - acc: 0.6019 - val_loss: 1.0601 - val_acc: 0.5543\n",
      "Epoch 29/50\n",
      "213/213 [==============================] - 21s 100ms/step - loss: 0.9444 - acc: 0.6102 - val_loss: 1.0590 - val_acc: 0.5568\n",
      "Epoch 30/50\n",
      "213/213 [==============================] - 21s 98ms/step - loss: 0.9394 - acc: 0.6073 - val_loss: 1.0571 - val_acc: 0.5579\n",
      "Epoch 31/50\n",
      "213/213 [==============================] - 21s 99ms/step - loss: 0.9281 - acc: 0.6165 - val_loss: 1.0631 - val_acc: 0.5541\n",
      "Epoch 32/50\n",
      "213/213 [==============================] - 21s 98ms/step - loss: 0.9263 - acc: 0.6164 - val_loss: 1.0595 - val_acc: 0.5561\n",
      "Epoch 33/50\n",
      "213/213 [==============================] - 21s 98ms/step - loss: 0.9164 - acc: 0.6205 - val_loss: 1.0611 - val_acc: 0.5539\n",
      "Epoch 34/50\n",
      "213/213 [==============================] - 21s 98ms/step - loss: 0.9161 - acc: 0.6230 - val_loss: 1.0469 - val_acc: 0.5635\n",
      "Epoch 35/50\n",
      "213/213 [==============================] - 21s 98ms/step - loss: 0.9084 - acc: 0.6246 - val_loss: 1.0483 - val_acc: 0.5639\n",
      "Epoch 36/50\n",
      "213/213 [==============================] - 21s 98ms/step - loss: 0.8992 - acc: 0.6310 - val_loss: 1.0536 - val_acc: 0.5618\n",
      "Epoch 37/50\n",
      "213/213 [==============================] - 21s 98ms/step - loss: 0.8917 - acc: 0.6357 - val_loss: 1.0468 - val_acc: 0.5654\n",
      "Epoch 38/50\n",
      "213/213 [==============================] - 21s 98ms/step - loss: 0.8898 - acc: 0.6360 - val_loss: 1.0484 - val_acc: 0.5665\n",
      "Epoch 39/50\n",
      "213/213 [==============================] - 21s 98ms/step - loss: 0.8850 - acc: 0.6402 - val_loss: 1.0436 - val_acc: 0.5670\n",
      "Epoch 40/50\n",
      "213/213 [==============================] - 21s 98ms/step - loss: 0.8760 - acc: 0.6409 - val_loss: 1.0434 - val_acc: 0.5660\n",
      "Epoch 41/50\n",
      "  8/213 [>.............................] - ETA: 17s - loss: 0.8902 - acc: 0.6445"
     ]
    }
   ],
   "source": [
    "# Train the Model\n",
    "model.compile(optimizer=RMSprop(lr=1e-4),\n",
    "              loss='categorical_crossentropy',\n",
    "              metrics=['acc'])\n",
    "history = model.fit(X_train, y_train,\n",
    "                    epochs=50,\n",
    "                    batch_size=128,\n",
    "                    validation_split=0.2)"
   ]
  },
  {
   "cell_type": "code",
   "execution_count": 9,
   "metadata": {},
   "outputs": [
    {
     "data": {
      "image/png": "[encoded data removed]",
      "text/plain": [
       "<Figure size 432x288 with 1 Axes>"
      ]
     },
     "metadata": {
      "needs_background": "light"
     },
     "output_type": "display_data"
    },
    {
     "data": {
      "image/png": "[encoded data removed]",
      "text/plain": [
       "<Figure size 432x288 with 1 Axes>"
      ]
     },
     "metadata": {
      "needs_background": "light"
     },
     "output_type": "display_data"
    }
   ],
   "source": [
    "# Plot the Training and Validation Accuracy & Loss Scores\n",
    "%matplotlib inline\n",
    "import matplotlib.pyplot as plt\n",
    "\n",
    "acc = history.history['acc']\n",
    "val_acc = history.history['val_acc']\n",
    "loss = history.history['loss']\n",
    "val_loss = history.history['val_loss']\n",
    "\n",
    "epochs = range(len(acc))\n",
    "\n",
    "plt.plot(epochs, acc, 'bo', label='Training acc')\n",
    "plt.plot(epochs, val_acc, 'b', label='Validation acc')\n",
    "plt.title('Training and validation accuracy')\n",
    "plt.legend()\n",
    "\n",
    "plt.figure()\n",
    "\n",
    "plt.plot(epochs, loss, 'bo', label='Training loss')\n",
    "plt.plot(epochs, val_loss, 'b', label='Validation loss')\n",
    "plt.title('Training and validation loss')\n",
    "plt.legend()\n",
    "\n",
    "plt.show()"
   ]
  },
  {
   "cell_type": "markdown",
   "metadata": {},
   "source": [
    "### Model #1.2 (Basic Model)"
   ]
  },
  {
   "cell_type": "code",
   "execution_count": 7,
   "metadata": {
    "scrolled": true
   },
   "outputs": [
    {
     "name": "stdout",
     "output_type": "stream",
     "text": [
      "Model: \"sequential\"\n",
      "_________________________________________________________________\n",
      "Layer (type)                 Output Shape              Param #   \n",
      "=================================================================\n",
      "embedding (Embedding)        (None, 34, 8)             800000    \n",
      "_________________________________________________________________\n",
      "lstm (LSTM)                  (None, 34, 1024)          4231168   \n",
      "_________________________________________________________________\n",
      "flatten (Flatten)            (None, 34816)             0         \n",
      "_________________________________________________________________\n",
      "dense (Dense)                (None, 32)                1114144   \n",
      "_________________________________________________________________\n",
      "dense_1 (Dense)              (None, 5)                 165       \n",
      "=================================================================\n",
      "Total params: 6,145,477\n",
      "Trainable params: 6,145,477\n",
      "Non-trainable params: 0\n",
      "_________________________________________________________________\n"
     ]
    }
   ],
   "source": [
    "# Build the Model\n",
    "model = Sequential()\n",
    "model.add(layers.Embedding(max_words, 8, input_length=max_len))\n",
    "model.add(LSTM(1024, return_sequences=True))\n",
    "model.add(layers.Flatten())\n",
    "model.add(layers.Dense(32, activation='relu'))\n",
    "model.add(layers.Dense(5, activation='softmax'))\n",
    "model.summary()"
   ]
  },
  {
   "cell_type": "code",
   "execution_count": 8,
   "metadata": {
    "scrolled": true
   },
   "outputs": [
    {
     "name": "stdout",
     "output_type": "stream",
     "text": [
      "Epoch 1/60\n",
      "426/426 [==============================] - 7s 16ms/step - loss: 1.4348 - acc: 0.4247 - val_loss: 1.4014 - val_acc: 0.4289\n",
      "Epoch 2/60\n",
      "426/426 [==============================] - 6s 15ms/step - loss: 1.3102 - acc: 0.4332 - val_loss: 1.2500 - val_acc: 0.4371\n",
      "Epoch 3/60\n",
      "426/426 [==============================] - 6s 15ms/step - loss: 1.2196 - acc: 0.4530 - val_loss: 1.2075 - val_acc: 0.4587\n",
      "Epoch 4/60\n",
      "426/426 [==============================] - 6s 15ms/step - loss: 1.2028 - acc: 0.4536 - val_loss: 1.2025 - val_acc: 0.4556\n",
      "Epoch 5/60\n",
      "426/426 [==============================] - 6s 15ms/step - loss: 1.1984 - acc: 0.4561 - val_loss: 1.2015 - val_acc: 0.4559\n",
      "Epoch 6/60\n",
      "426/426 [==============================] - 6s 15ms/step - loss: 1.1956 - acc: 0.4575 - val_loss: 1.1982 - val_acc: 0.4645\n",
      "Epoch 7/60\n",
      "426/426 [==============================] - 6s 15ms/step - loss: 1.1933 - acc: 0.4558 - val_loss: 1.1927 - val_acc: 0.4624\n",
      "Epoch 8/60\n",
      "426/426 [==============================] - 6s 15ms/step - loss: 1.1909 - acc: 0.4597 - val_loss: 1.1916 - val_acc: 0.4599\n",
      "Epoch 9/60\n",
      "426/426 [==============================] - 6s 15ms/step - loss: 1.1893 - acc: 0.4629 - val_loss: 1.1884 - val_acc: 0.4661\n",
      "Epoch 10/60\n",
      "426/426 [==============================] - 6s 15ms/step - loss: 1.1861 - acc: 0.4633 - val_loss: 1.1879 - val_acc: 0.4674\n",
      "Epoch 11/60\n",
      "426/426 [==============================] - 6s 15ms/step - loss: 1.1835 - acc: 0.4671 - val_loss: 1.1831 - val_acc: 0.4739\n",
      "Epoch 12/60\n",
      "426/426 [==============================] - 6s 15ms/step - loss: 1.1810 - acc: 0.4680 - val_loss: 1.1794 - val_acc: 0.4736\n",
      "Epoch 13/60\n",
      "426/426 [==============================] - 6s 15ms/step - loss: 1.1784 - acc: 0.4708 - val_loss: 1.1765 - val_acc: 0.4739\n",
      "Epoch 14/60\n",
      "426/426 [==============================] - 6s 15ms/step - loss: 1.1759 - acc: 0.4733 - val_loss: 1.1771 - val_acc: 0.4744\n",
      "Epoch 15/60\n",
      "426/426 [==============================] - 6s 15ms/step - loss: 1.1743 - acc: 0.4739 - val_loss: 1.1745 - val_acc: 0.4787\n",
      "Epoch 16/60\n",
      "426/426 [==============================] - 6s 15ms/step - loss: 1.1726 - acc: 0.4767 - val_loss: 1.1747 - val_acc: 0.4752\n",
      "Epoch 17/60\n",
      "426/426 [==============================] - 6s 15ms/step - loss: 1.1719 - acc: 0.4748 - val_loss: 1.1738 - val_acc: 0.4749\n",
      "Epoch 18/60\n",
      "426/426 [==============================] - 6s 15ms/step - loss: 1.1703 - acc: 0.4749 - val_loss: 1.1732 - val_acc: 0.4775\n",
      "Epoch 19/60\n",
      "426/426 [==============================] - 6s 15ms/step - loss: 1.1694 - acc: 0.4751 - val_loss: 1.1711 - val_acc: 0.4775\n",
      "Epoch 20/60\n",
      "426/426 [==============================] - 6s 15ms/step - loss: 1.1689 - acc: 0.4776 - val_loss: 1.1715 - val_acc: 0.4746\n",
      "Epoch 21/60\n",
      "426/426 [==============================] - 6s 15ms/step - loss: 1.1682 - acc: 0.4777 - val_loss: 1.1701 - val_acc: 0.4771\n",
      "Epoch 22/60\n",
      "426/426 [==============================] - 6s 15ms/step - loss: 1.1678 - acc: 0.4756 - val_loss: 1.1705 - val_acc: 0.4743\n",
      "Epoch 23/60\n",
      "426/426 [==============================] - 6s 15ms/step - loss: 1.1667 - acc: 0.4786 - val_loss: 1.1721 - val_acc: 0.4786\n",
      "Epoch 24/60\n",
      "426/426 [==============================] - 6s 15ms/step - loss: 1.1666 - acc: 0.4782 - val_loss: 1.1708 - val_acc: 0.4749\n",
      "Epoch 25/60\n",
      "426/426 [==============================] - 6s 15ms/step - loss: 1.1660 - acc: 0.4794 - val_loss: 1.1693 - val_acc: 0.4775\n",
      "Epoch 26/60\n",
      "426/426 [==============================] - 6s 15ms/step - loss: 1.1654 - acc: 0.4801 - val_loss: 1.1695 - val_acc: 0.4755\n",
      "Epoch 27/60\n",
      "426/426 [==============================] - 6s 15ms/step - loss: 1.1645 - acc: 0.4795 - val_loss: 1.1702 - val_acc: 0.4793\n",
      "Epoch 28/60\n",
      "426/426 [==============================] - 6s 15ms/step - loss: 1.1634 - acc: 0.4788 - val_loss: 1.1678 - val_acc: 0.4749\n",
      "Epoch 29/60\n",
      "426/426 [==============================] - 6s 15ms/step - loss: 1.1623 - acc: 0.4801 - val_loss: 1.1681 - val_acc: 0.4711\n",
      "Epoch 30/60\n",
      "426/426 [==============================] - 6s 15ms/step - loss: 1.1622 - acc: 0.4821 - val_loss: 1.1673 - val_acc: 0.4753\n",
      "Epoch 31/60\n",
      "426/426 [==============================] - 6s 15ms/step - loss: 1.1607 - acc: 0.4819 - val_loss: 1.1672 - val_acc: 0.4771\n",
      "Epoch 32/60\n",
      "426/426 [==============================] - 6s 15ms/step - loss: 1.1600 - acc: 0.4836 - val_loss: 1.1651 - val_acc: 0.4777\n",
      "Epoch 33/60\n",
      "426/426 [==============================] - 6s 15ms/step - loss: 1.1587 - acc: 0.4836 - val_loss: 1.1651 - val_acc: 0.4790\n",
      "Epoch 34/60\n",
      "426/426 [==============================] - 6s 15ms/step - loss: 1.1571 - acc: 0.4868 - val_loss: 1.1653 - val_acc: 0.4756\n",
      "Epoch 35/60\n",
      "426/426 [==============================] - 6s 15ms/step - loss: 1.1558 - acc: 0.4855 - val_loss: 1.1648 - val_acc: 0.4762\n",
      "Epoch 36/60\n",
      "426/426 [==============================] - 6s 15ms/step - loss: 1.1544 - acc: 0.4871 - val_loss: 1.1640 - val_acc: 0.4744\n",
      "Epoch 37/60\n",
      "426/426 [==============================] - 6s 15ms/step - loss: 1.1540 - acc: 0.4863 - val_loss: 1.1619 - val_acc: 0.4827\n",
      "Epoch 38/60\n",
      "426/426 [==============================] - 6s 15ms/step - loss: 1.1521 - acc: 0.4866 - val_loss: 1.1630 - val_acc: 0.4811\n",
      "Epoch 39/60\n",
      "426/426 [==============================] - 6s 15ms/step - loss: 1.1515 - acc: 0.4887 - val_loss: 1.1617 - val_acc: 0.4758\n",
      "Epoch 40/60\n",
      "426/426 [==============================] - 6s 15ms/step - loss: 1.1507 - acc: 0.4893 - val_loss: 1.1633 - val_acc: 0.4741\n",
      "Epoch 41/60\n",
      "426/426 [==============================] - 6s 15ms/step - loss: 1.1491 - acc: 0.4902 - val_loss: 1.1631 - val_acc: 0.4783\n",
      "Epoch 42/60\n",
      "426/426 [==============================] - 6s 15ms/step - loss: 1.1488 - acc: 0.4910 - val_loss: 1.1606 - val_acc: 0.4831\n",
      "Epoch 43/60\n",
      "426/426 [==============================] - 6s 15ms/step - loss: 1.1478 - acc: 0.4917 - val_loss: 1.1632 - val_acc: 0.4780\n",
      "Epoch 44/60\n",
      "426/426 [==============================] - 6s 15ms/step - loss: 1.1464 - acc: 0.4922 - val_loss: 1.1604 - val_acc: 0.4791\n",
      "Epoch 45/60\n",
      "426/426 [==============================] - 6s 15ms/step - loss: 1.1456 - acc: 0.4943 - val_loss: 1.1624 - val_acc: 0.4835\n",
      "Epoch 46/60\n",
      "426/426 [==============================] - 6s 15ms/step - loss: 1.1448 - acc: 0.4951 - val_loss: 1.1621 - val_acc: 0.4800\n",
      "Epoch 47/60\n",
      "426/426 [==============================] - 6s 15ms/step - loss: 1.1444 - acc: 0.4950 - val_loss: 1.1625 - val_acc: 0.4852\n",
      "Epoch 48/60\n",
      "426/426 [==============================] - 6s 15ms/step - loss: 1.1435 - acc: 0.4975 - val_loss: 1.1610 - val_acc: 0.4768\n",
      "Epoch 49/60\n",
      "426/426 [==============================] - 6s 15ms/step - loss: 1.1417 - acc: 0.4975 - val_loss: 1.1646 - val_acc: 0.4885\n",
      "Epoch 50/60\n",
      "426/426 [==============================] - 6s 15ms/step - loss: 1.1417 - acc: 0.4965 - val_loss: 1.1624 - val_acc: 0.4843\n",
      "Epoch 51/60\n",
      "426/426 [==============================] - 6s 15ms/step - loss: 1.1406 - acc: 0.4968 - val_loss: 1.1605 - val_acc: 0.4859\n",
      "Epoch 52/60\n",
      "426/426 [==============================] - 6s 15ms/step - loss: 1.1400 - acc: 0.4972 - val_loss: 1.1622 - val_acc: 0.4837\n",
      "Epoch 53/60\n",
      "426/426 [==============================] - 6s 15ms/step - loss: 1.1382 - acc: 0.4981 - val_loss: 1.1615 - val_acc: 0.4863\n",
      "Epoch 54/60\n",
      "426/426 [==============================] - 6s 15ms/step - loss: 1.1378 - acc: 0.4988 - val_loss: 1.1616 - val_acc: 0.4819\n",
      "Epoch 55/60\n",
      "426/426 [==============================] - 6s 15ms/step - loss: 1.1365 - acc: 0.4990 - val_loss: 1.1656 - val_acc: 0.4794\n",
      "Epoch 56/60\n",
      "426/426 [==============================] - 6s 15ms/step - loss: 1.1355 - acc: 0.5000 - val_loss: 1.1636 - val_acc: 0.4868\n",
      "Epoch 57/60\n",
      "426/426 [==============================] - 6s 15ms/step - loss: 1.1345 - acc: 0.4998 - val_loss: 1.1664 - val_acc: 0.4777\n",
      "Epoch 58/60\n",
      "426/426 [==============================] - 6s 15ms/step - loss: 1.1337 - acc: 0.5022 - val_loss: 1.1647 - val_acc: 0.4868\n",
      "Epoch 59/60\n",
      "426/426 [==============================] - 6s 15ms/step - loss: 1.1332 - acc: 0.5014 - val_loss: 1.1648 - val_acc: 0.4799\n",
      "Epoch 60/60\n",
      "426/426 [==============================] - 6s 15ms/step - loss: 1.1321 - acc: 0.5009 - val_loss: 1.1657 - val_acc: 0.4762\n"
     ]
    }
   ],
   "source": [
    "# Train the Model\n",
    "\n",
    "model.compile(optimizer=Adam(lr=1e-4),\n",
    "              loss='categorical_crossentropy',\n",
    "              metrics=['acc'])\n",
    "history = model.fit(X_train, y_train,\n",
    "                    epochs=30,\n",
    "                    batch_size=64,\n",
    "                    validation_split=0.2)"
   ]
  },
  {
   "cell_type": "code",
   "execution_count": 11,
   "metadata": {
    "scrolled": true
   },
   "outputs": [
    {
     "data": {
      "image/png": "[encoded data removed]",
      "text/plain": [
       "<Figure size 432x288 with 1 Axes>"
      ]
     },
     "metadata": {
      "needs_background": "light"
     },
     "output_type": "display_data"
    },
    {
     "data": {
      "image/png": "[encoded data removed]",
      "text/plain": [
       "<Figure size 432x288 with 1 Axes>"
      ]
     },
     "metadata": {
      "needs_background": "light"
     },
     "output_type": "display_data"
    }
   ],
   "source": [
    "# Plot the Training and Validation Accuracy & Loss Scores\n",
    "%matplotlib inline\n",
    "import matplotlib.pyplot as plt\n",
    "\n",
    "acc = history.history['acc']\n",
    "val_acc = history.history['val_acc']\n",
    "loss = history.history['loss']\n",
    "val_loss = history.history['val_loss']\n",
    "\n",
    "epochs = range(len(acc))\n",
    "\n",
    "plt.plot(epochs, acc, 'bo', label='Training acc')\n",
    "plt.plot(epochs, val_acc, 'b', label='Validation acc')\n",
    "plt.title('Training and validation accuracy')\n",
    "plt.legend()\n",
    "\n",
    "plt.figure()\n",
    "\n",
    "plt.plot(epochs, loss, 'bo', label='Training loss')\n",
    "plt.plot(epochs, val_loss, 'b', label='Validation loss')\n",
    "plt.title('Training and validation loss')\n",
    "plt.legend()\n",
    "\n",
    "plt.show()"
   ]
  },
  {
   "cell_type": "markdown",
   "metadata": {},
   "source": [
    "### Model #1.3 (Basic Model)"
   ]
  },
  {
   "cell_type": "code",
   "execution_count": null,
   "metadata": {
    "scrolled": true
   },
   "outputs": [],
   "source": [
    "# Build the Model\n",
    "model = Sequential()\n",
    "model.add(layers.Embedding(max_words, 100, input_length=max_len))\n",
    "model.add(LSTM(1024, return_sequences=True))\n",
    "model.add(layers.Flatten())\n",
    "model.add(layers.Dense(32, activation='relu'))\n",
    "model.add(layers.Dense(5, activation='softmax'))\n",
    "model.summary()"
   ]
  },
  {
   "cell_type": "code",
   "execution_count": null,
   "metadata": {
    "scrolled": true
   },
   "outputs": [],
   "source": [
    "# Train the Model\n",
    "\n",
    "model.compile(optimizer=Adam(lr=1e-4),\n",
    "              loss='categorical_crossentropy',\n",
    "              metrics=['acc'])\n",
    "history = model.fit(X_train, y_train,\n",
    "                    epochs=60,\n",
    "                    batch_size=64,\n",
    "                    validation_split=0.2)"
   ]
  },
  {
   "cell_type": "code",
   "execution_count": null,
   "metadata": {
    "scrolled": true
   },
   "outputs": [],
   "source": [
    "# Plot the Training and Validation Accuracy & Loss Scores\n",
    "%matplotlib inline\n",
    "import matplotlib.pyplot as plt\n",
    "\n",
    "acc = history.history['acc']\n",
    "val_acc = history.history['val_acc']\n",
    "loss = history.history['loss']\n",
    "val_loss = history.history['val_loss']\n",
    "\n",
    "epochs = range(len(acc))\n",
    "\n",
    "plt.plot(epochs, acc, 'bo', label='Training acc')\n",
    "plt.plot(epochs, val_acc, 'b', label='Validation acc')\n",
    "plt.title('Training and validation accuracy')\n",
    "plt.legend()\n",
    "\n",
    "plt.figure()\n",
    "\n",
    "plt.plot(epochs, loss, 'bo', label='Training loss')\n",
    "plt.plot(epochs, val_loss, 'b', label='Validation loss')\n",
    "plt.title('Training and validation loss')\n",
    "plt.legend()\n",
    "\n",
    "plt.show()"
   ]
  },
  {
   "cell_type": "markdown",
   "metadata": {},
   "source": [
    "### Model #2.1 (GLOVE.Twitter)"
   ]
  },
  {
   "cell_type": "code",
   "execution_count": 21,
   "metadata": {
    "scrolled": true
   },
   "outputs": [
    {
     "name": "stdout",
     "output_type": "stream",
     "text": [
      "Found 1193514 word vectors.\n"
     ]
    }
   ],
   "source": [
    "glove_dir = 'C:/Users/Darien Tan/OneDrive - Ngee Ann Polytechnic/Ngee Ann Poly/Year 2/DL/Assignment 2'\n",
    "\n",
    "embeddings_index = {}\n",
    "f = open(os.path.join(glove_dir, 'glove.twitter.27B.200d.txt'), encoding=\"utf8\")\n",
    "for line in f:\n",
    "    values = line.split()\n",
    "    word = values[0]\n",
    "    coefs = np.asarray(values[1:], dtype='float32')\n",
    "    embeddings_index[word] = coefs\n",
    "f.close()\n",
    "\n",
    "print('Found %s word vectors.' % len(embeddings_index))\n",
    "\n",
    "embedding_dim = 200\n",
    "\n",
    "embedding_matrix = np.zeros((max_words, embedding_dim))\n",
    "for word, i in word_index.items():\n",
    "    embedding_vector = embeddings_index.get(word)\n",
    "    if i < max_words:\n",
    "        if embedding_vector is not None:\n",
    "            # Words not found in embedding index will be all-zeros.\n",
    "            embedding_matrix[i] = embedding_vector"
   ]
  },
  {
   "cell_type": "code",
   "execution_count": 14,
   "metadata": {},
   "outputs": [
    {
     "name": "stdout",
     "output_type": "stream",
     "text": [
      "Model: \"sequential_2\"\n",
      "_________________________________________________________________\n",
      "Layer (type)                 Output Shape              Param #   \n",
      "=================================================================\n",
      "embedding_2 (Embedding)      (None, 34, 100)           10000000  \n",
      "_________________________________________________________________\n",
      "flatten_2 (Flatten)          (None, 3400)              0         \n",
      "_________________________________________________________________\n",
      "dense_4 (Dense)              (None, 32)                108832    \n",
      "_________________________________________________________________\n",
      "dense_5 (Dense)              (None, 5)                 165       \n",
      "=================================================================\n",
      "Total params: 10,108,997\n",
      "Trainable params: 10,108,997\n",
      "Non-trainable params: 0\n",
      "_________________________________________________________________\n",
      "Model: \"sequential_2\"\n",
      "_________________________________________________________________\n",
      "Layer (type)                 Output Shape              Param #   \n",
      "=================================================================\n",
      "embedding_2 (Embedding)      (None, 34, 100)           10000000  \n",
      "_________________________________________________________________\n",
      "flatten_2 (Flatten)          (None, 3400)              0         \n",
      "_________________________________________________________________\n",
      "dense_4 (Dense)              (None, 32)                108832    \n",
      "_________________________________________________________________\n",
      "dense_5 (Dense)              (None, 5)                 165       \n",
      "=================================================================\n",
      "Total params: 10,108,997\n",
      "Trainable params: 10,108,997\n",
      "Non-trainable params: 0\n",
      "_________________________________________________________________\n"
     ]
    }
   ],
   "source": [
    "# Build the Model\n",
    "\n",
    "model = Sequential()\n",
    "model.add(Embedding(max_words, embedding_dim, input_length=max_len))\n",
    "model.add(Flatten())\n",
    "model.add(Dense(32, activation='relu'))\n",
    "model.add(Dense(5, activation='softmax'))\n",
    "model.summary()\n",
    "\n",
    "model.layers[0].set_weights([embedding_matrix])\n",
    "model.layers[0].trainable = True\n",
    "model.summary()"
   ]
  },
  {
   "cell_type": "code",
   "execution_count": 15,
   "metadata": {
    "scrolled": true
   },
   "outputs": [
    {
     "name": "stdout",
     "output_type": "stream",
     "text": [
      "Epoch 1/20\n",
      "213/213 [==============================] - 18s 85ms/step - loss: 1.1901 - acc: 0.5244 - val_loss: 1.0740 - val_acc: 0.5748\n",
      "Epoch 2/20\n",
      "213/213 [==============================] - 18s 86ms/step - loss: 0.9383 - acc: 0.6359 - val_loss: 0.9997 - val_acc: 0.6049\n",
      "Epoch 3/20\n",
      "213/213 [==============================] - 18s 86ms/step - loss: 0.7749 - acc: 0.7020 - val_loss: 0.9797 - val_acc: 0.6144\n",
      "Epoch 4/20\n",
      "213/213 [==============================] - 18s 85ms/step - loss: 0.6430 - acc: 0.7630 - val_loss: 0.9828 - val_acc: 0.6251\n",
      "Epoch 5/20\n",
      "213/213 [==============================] - 18s 85ms/step - loss: 0.5250 - acc: 0.8126 - val_loss: 1.0222 - val_acc: 0.6323\n",
      "Epoch 6/20\n",
      "213/213 [==============================] - 18s 86ms/step - loss: 0.4226 - acc: 0.8547 - val_loss: 1.0691 - val_acc: 0.6409\n",
      "Epoch 7/20\n",
      "213/213 [==============================] - 18s 85ms/step - loss: 0.3302 - acc: 0.8905 - val_loss: 1.1327 - val_acc: 0.6410\n",
      "Epoch 8/20\n",
      "213/213 [==============================] - 18s 85ms/step - loss: 0.2539 - acc: 0.9207 - val_loss: 1.2095 - val_acc: 0.6454\n",
      "Epoch 9/20\n",
      "213/213 [==============================] - 18s 84ms/step - loss: 0.1899 - acc: 0.9426 - val_loss: 1.2959 - val_acc: 0.6444\n",
      "Epoch 10/20\n",
      "213/213 [==============================] - 18s 84ms/step - loss: 0.1378 - acc: 0.9613 - val_loss: 1.4158 - val_acc: 0.6420\n",
      "Epoch 11/20\n",
      "213/213 [==============================] - 18s 85ms/step - loss: 0.0988 - acc: 0.9727 - val_loss: 1.5357 - val_acc: 0.6469\n",
      "Epoch 12/20\n",
      "213/213 [==============================] - 18s 85ms/step - loss: 0.0686 - acc: 0.9827 - val_loss: 1.7030 - val_acc: 0.6484\n",
      "Epoch 13/20\n",
      "213/213 [==============================] - 18s 84ms/step - loss: 0.0484 - acc: 0.9874 - val_loss: 1.8371 - val_acc: 0.6385\n",
      "Epoch 14/20\n",
      "213/213 [==============================] - 18s 84ms/step - loss: 0.0334 - acc: 0.9920 - val_loss: 1.9802 - val_acc: 0.6403\n",
      "Epoch 15/20\n",
      "213/213 [==============================] - 18s 84ms/step - loss: 0.0225 - acc: 0.9947 - val_loss: 2.1764 - val_acc: 0.6417\n",
      "Epoch 16/20\n",
      "213/213 [==============================] - 18s 85ms/step - loss: 0.0154 - acc: 0.9967 - val_loss: 2.3025 - val_acc: 0.6407\n",
      "Epoch 17/20\n",
      "213/213 [==============================] - 18s 84ms/step - loss: 0.0106 - acc: 0.9976 - val_loss: 2.4904 - val_acc: 0.6366\n",
      "Epoch 18/20\n",
      "213/213 [==============================] - 18s 85ms/step - loss: 0.0076 - acc: 0.9983 - val_loss: 2.6253 - val_acc: 0.6385\n",
      "Epoch 19/20\n",
      "213/213 [==============================] - 18s 85ms/step - loss: 0.0054 - acc: 0.9986 - val_loss: 2.8700 - val_acc: 0.6415\n",
      "Epoch 20/20\n",
      "213/213 [==============================] - 18s 85ms/step - loss: 0.0044 - acc: 0.9990 - val_loss: 2.8725 - val_acc: 0.6379\n"
     ]
    }
   ],
   "source": [
    "# Train the Model\n",
    "model.compile(optimizer=RMSprop(lr=1e-3),\n",
    "              loss='categorical_crossentropy',\n",
    "              metrics=['acc'])\n",
    "history = model.fit(X_train, y_train,\n",
    "                    epochs=20,\n",
    "                    batch_size=128,\n",
    "                    validation_split=0.2)"
   ]
  },
  {
   "cell_type": "code",
   "execution_count": 16,
   "metadata": {
    "scrolled": true
   },
   "outputs": [
    {
     "data": {
      "image/png": "[encoded data removed]",
      "text/plain": [
       "<Figure size 432x288 with 1 Axes>"
      ]
     },
     "metadata": {
      "needs_background": "light"
     },
     "output_type": "display_data"
    },
    {
     "data": {
      "image/png": "[encoded data removed]",
      "text/plain": [
       "<Figure size 432x288 with 1 Axes>"
      ]
     },
     "metadata": {
      "needs_background": "light"
     },
     "output_type": "display_data"
    }
   ],
   "source": [
    "# Plot the Training and Validation Accuracy & Loss Scores\n",
    "%matplotlib inline\n",
    "import matplotlib.pyplot as plt\n",
    "\n",
    "acc = history.history['acc']\n",
    "val_acc = history.history['val_acc']\n",
    "loss = history.history['loss']\n",
    "val_loss = history.history['val_loss']\n",
    "\n",
    "epochs = range(len(acc))\n",
    "\n",
    "plt.plot(epochs, acc, 'bo', label='Training acc')\n",
    "plt.plot(epochs, val_acc, 'b', label='Validation acc')\n",
    "plt.title('Training and validation accuracy')\n",
    "plt.legend()\n",
    "\n",
    "plt.figure()\n",
    "\n",
    "plt.plot(epochs, loss, 'bo', label='Training loss')\n",
    "plt.plot(epochs, val_loss, 'b', label='Validation loss')\n",
    "plt.title('Training and validation loss')\n",
    "plt.legend()\n",
    "\n",
    "plt.show()"
   ]
  },
  {
   "cell_type": "code",
   "execution_count": null,
   "metadata": {},
   "outputs": [],
   "source": [
    "# Save the Model\n",
    "model.save('text_model_1.h5')"
   ]
  },
  {
   "cell_type": "markdown",
   "metadata": {},
   "source": [
    "### Model #2.2 (GLOVE.Twitter, batch size = 64)"
   ]
  },
  {
   "cell_type": "code",
   "execution_count": 17,
   "metadata": {
    "scrolled": true
   },
   "outputs": [
    {
     "ename": "FileNotFoundError",
     "evalue": "[Errno 2] No such file or directory: 'C:/Users/Darien Tan/OneDrive - Ngee Ann Polytechnic/Ngee Ann Poly/Year 2/DL/Assignment 2/glove.twitter.27B.200d.txt'",
     "output_type": "error",
     "traceback": [
      "\u001b[0;31m\u001b[0m",
      "\u001b[0;31mFileNotFoundError\u001b[0mTraceback (most recent call last)",
      "\u001b[0;32m<ipython-input-17-6261f8d4d9fa>\u001b[0m in \u001b[0;36m<module>\u001b[0;34m\u001b[0m\n\u001b[1;32m      2\u001b[0m \u001b[0;34m\u001b[0m\u001b[0m\n\u001b[1;32m      3\u001b[0m \u001b[0membeddings_index\u001b[0m \u001b[0;34m=\u001b[0m \u001b[0;34m{\u001b[0m\u001b[0;34m}\u001b[0m\u001b[0;34m\u001b[0m\u001b[0;34m\u001b[0m\u001b[0m\n\u001b[0;32m----> 4\u001b[0;31m \u001b[0mf\u001b[0m \u001b[0;34m=\u001b[0m \u001b[0mopen\u001b[0m\u001b[0;34m(\u001b[0m\u001b[0mos\u001b[0m\u001b[0;34m.\u001b[0m\u001b[0mpath\u001b[0m\u001b[0;34m.\u001b[0m\u001b[0mjoin\u001b[0m\u001b[0;34m(\u001b[0m\u001b[0mglove_dir\u001b[0m\u001b[0;34m,\u001b[0m \u001b[0;34m'glove.twitter.27B.200d.txt'\u001b[0m\u001b[0;34m)\u001b[0m\u001b[0;34m,\u001b[0m \u001b[0mencoding\u001b[0m\u001b[0;34m=\u001b[0m\u001b[0;34m\"utf8\"\u001b[0m\u001b[0;34m)\u001b[0m\u001b[0;34m\u001b[0m\u001b[0;34m\u001b[0m\u001b[0m\n\u001b[0m\u001b[1;32m      5\u001b[0m \u001b[0;32mfor\u001b[0m \u001b[0mline\u001b[0m \u001b[0;32min\u001b[0m \u001b[0mf\u001b[0m\u001b[0;34m:\u001b[0m\u001b[0;34m\u001b[0m\u001b[0;34m\u001b[0m\u001b[0m\n\u001b[1;32m      6\u001b[0m     \u001b[0mvalues\u001b[0m \u001b[0;34m=\u001b[0m \u001b[0mline\u001b[0m\u001b[0;34m.\u001b[0m\u001b[0msplit\u001b[0m\u001b[0;34m(\u001b[0m\u001b[0;34m)\u001b[0m\u001b[0;34m\u001b[0m\u001b[0;34m\u001b[0m\u001b[0m\n",
      "\u001b[0;31mFileNotFoundError\u001b[0m: [Errno 2] No such file or directory: 'C:/Users/Darien Tan/OneDrive - Ngee Ann Polytechnic/Ngee Ann Poly/Year 2/DL/Assignment 2/glove.twitter.27B.200d.txt'"
     ]
    }
   ],
   "source": [
    "glove_dir = 'C:/Users/Darien Tan/OneDrive - Ngee Ann Polytechnic/Ngee Ann Poly/Year 2/DL/Assignment 2'\n",
    "\n",
    "embeddings_index = {}\n",
    "f = open(os.path.join(glove_dir, 'glove.twitter.27B.200d.txt'), encoding=\"utf8\")\n",
    "for line in f:\n",
    "    values = line.split()\n",
    "    word = values[0]\n",
    "    coefs = np.asarray(values[1:], dtype='float32')\n",
    "    embeddings_index[word] = coefs\n",
    "f.close()\n",
    "\n",
    "print('Found %s word vectors.' % len(embeddings_index))\n",
    "\n",
    "embedding_dim = 200\n",
    "\n",
    "embedding_matrix = np.zeros((max_words, embedding_dim))\n",
    "for word, i in word_index.items():\n",
    "    embedding_vector = embeddings_index.get(word)\n",
    "    if i < max_words:\n",
    "        if embedding_vector is not None:\n",
    "            # Words not found in embedding index will be all-zeros.\n",
    "            embedding_matrix[i] = embedding_vector"
   ]
  },
  {
   "cell_type": "code",
   "execution_count": 18,
   "metadata": {},
   "outputs": [
    {
     "name": "stdout",
     "output_type": "stream",
     "text": [
      "Model: \"sequential_3\"\n",
      "_________________________________________________________________\n",
      "Layer (type)                 Output Shape              Param #   \n",
      "=================================================================\n",
      "embedding_3 (Embedding)      (None, 34, 100)           10000000  \n",
      "_________________________________________________________________\n",
      "flatten_3 (Flatten)          (None, 3400)              0         \n",
      "_________________________________________________________________\n",
      "dense_6 (Dense)              (None, 32)                108832    \n",
      "_________________________________________________________________\n",
      "dense_7 (Dense)              (None, 5)                 165       \n",
      "=================================================================\n",
      "Total params: 10,108,997\n",
      "Trainable params: 10,108,997\n",
      "Non-trainable params: 0\n",
      "_________________________________________________________________\n",
      "Model: \"sequential_3\"\n",
      "_________________________________________________________________\n",
      "Layer (type)                 Output Shape              Param #   \n",
      "=================================================================\n",
      "embedding_3 (Embedding)      (None, 34, 100)           10000000  \n",
      "_________________________________________________________________\n",
      "flatten_3 (Flatten)          (None, 3400)              0         \n",
      "_________________________________________________________________\n",
      "dense_6 (Dense)              (None, 32)                108832    \n",
      "_________________________________________________________________\n",
      "dense_7 (Dense)              (None, 5)                 165       \n",
      "=================================================================\n",
      "Total params: 10,108,997\n",
      "Trainable params: 10,108,997\n",
      "Non-trainable params: 0\n",
      "_________________________________________________________________\n"
     ]
    }
   ],
   "source": [
    "# Build the Model\n",
    "\n",
    "model = Sequential()\n",
    "model.add(Embedding(max_words, embedding_dim, input_length=max_len))\n",
    "model.add(Flatten())\n",
    "model.add(Dense(32, activation='relu'))\n",
    "model.add(Dense(5, activation='softmax'))\n",
    "model.summary()\n",
    "\n",
    "model.layers[0].set_weights([embedding_matrix])\n",
    "model.layers[0].trainable = True\n",
    "model.summary()"
   ]
  },
  {
   "cell_type": "code",
   "execution_count": 19,
   "metadata": {
    "scrolled": true
   },
   "outputs": [
    {
     "name": "stdout",
     "output_type": "stream",
     "text": [
      "Epoch 1/20\n",
      "426/426 [==============================] - 36s 86ms/step - loss: 1.3463 - acc: 0.4438 - val_loss: 1.2551 - val_acc: 0.4952\n",
      "Epoch 2/20\n",
      "426/426 [==============================] - 37s 86ms/step - loss: 1.1934 - acc: 0.5231 - val_loss: 1.1766 - val_acc: 0.5326\n",
      "Epoch 3/20\n",
      "426/426 [==============================] - 36s 86ms/step - loss: 1.1143 - acc: 0.5589 - val_loss: 1.1284 - val_acc: 0.5557\n",
      "Epoch 4/20\n",
      "426/426 [==============================] - 36s 85ms/step - loss: 1.0579 - acc: 0.5840 - val_loss: 1.1014 - val_acc: 0.5601\n",
      "Epoch 5/20\n",
      "426/426 [==============================] - 37s 86ms/step - loss: 1.0121 - acc: 0.6031 - val_loss: 1.0740 - val_acc: 0.5765\n",
      "Epoch 6/20\n",
      "426/426 [==============================] - 36s 85ms/step - loss: 0.9733 - acc: 0.6205 - val_loss: 1.0537 - val_acc: 0.5828\n",
      "Epoch 7/20\n",
      "426/426 [==============================] - 37s 86ms/step - loss: 0.9383 - acc: 0.6346 - val_loss: 1.0380 - val_acc: 0.5903\n",
      "Epoch 8/20\n",
      "426/426 [==============================] - 36s 85ms/step - loss: 0.9055 - acc: 0.6495 - val_loss: 1.0286 - val_acc: 0.5925\n",
      "Epoch 9/20\n",
      "426/426 [==============================] - 36s 86ms/step - loss: 0.8758 - acc: 0.6601 - val_loss: 1.0167 - val_acc: 0.5939\n",
      "Epoch 10/20\n",
      "426/426 [==============================] - 36s 85ms/step - loss: 0.8485 - acc: 0.6741 - val_loss: 1.0064 - val_acc: 0.6011\n",
      "Epoch 11/20\n",
      "426/426 [==============================] - 36s 85ms/step - loss: 0.8226 - acc: 0.6855 - val_loss: 0.9986 - val_acc: 0.6049\n",
      "Epoch 12/20\n",
      "426/426 [==============================] - 36s 85ms/step - loss: 0.7981 - acc: 0.6946 - val_loss: 0.9920 - val_acc: 0.6065\n",
      "Epoch 13/20\n",
      "426/426 [==============================] - 36s 85ms/step - loss: 0.7743 - acc: 0.7055 - val_loss: 0.9899 - val_acc: 0.6034\n",
      "Epoch 14/20\n",
      "426/426 [==============================] - 36s 85ms/step - loss: 0.7527 - acc: 0.7148 - val_loss: 0.9900 - val_acc: 0.6102\n",
      "Epoch 15/20\n",
      "426/426 [==============================] - 36s 85ms/step - loss: 0.7317 - acc: 0.7249 - val_loss: 0.9863 - val_acc: 0.6087\n",
      "Epoch 16/20\n",
      "426/426 [==============================] - 36s 85ms/step - loss: 0.7114 - acc: 0.7352 - val_loss: 0.9813 - val_acc: 0.6157\n",
      "Epoch 17/20\n",
      "426/426 [==============================] - 36s 85ms/step - loss: 0.6922 - acc: 0.7451 - val_loss: 0.9805 - val_acc: 0.6177\n",
      "Epoch 18/20\n",
      "426/426 [==============================] - 36s 84ms/step - loss: 0.6736 - acc: 0.7524 - val_loss: 0.9827 - val_acc: 0.6157\n",
      "Epoch 19/20\n",
      "426/426 [==============================] - 36s 85ms/step - loss: 0.6558 - acc: 0.7609 - val_loss: 0.9828 - val_acc: 0.6177\n",
      "Epoch 20/20\n",
      "426/426 [==============================] - 36s 85ms/step - loss: 0.6383 - acc: 0.7683 - val_loss: 0.9861 - val_acc: 0.6182\n"
     ]
    }
   ],
   "source": [
    "# Train the Model\n",
    "model.compile(optimizer=RMSprop(lr=1e-4),\n",
    "              loss='categorical_crossentropy',\n",
    "              metrics=['acc'])\n",
    "history = model.fit(X_train, y_train,\n",
    "                    epochs=20,\n",
    "                    batch_size=64,\n",
    "                    validation_split=0.2)"
   ]
  },
  {
   "cell_type": "code",
   "execution_count": 20,
   "metadata": {
    "scrolled": true
   },
   "outputs": [
    {
     "data": {
      "image/png": "[encoded data removed]",
      "text/plain": [
       "<Figure size 432x288 with 1 Axes>"
      ]
     },
     "metadata": {
      "needs_background": "light"
     },
     "output_type": "display_data"
    },
    {
     "data": {
      "image/png": "[encoded data removed]",
      "text/plain": [
       "<Figure size 432x288 with 1 Axes>"
      ]
     },
     "metadata": {
      "needs_background": "light"
     },
     "output_type": "display_data"
    }
   ],
   "source": [
    "# Plot the Training and Validation Accuracy & Loss Scores\n",
    "%matplotlib inline\n",
    "import matplotlib.pyplot as plt\n",
    "\n",
    "acc = history.history['acc']\n",
    "val_acc = history.history['val_acc']\n",
    "loss = history.history['loss']\n",
    "val_loss = history.history['val_loss']\n",
    "\n",
    "epochs = range(len(acc))\n",
    "\n",
    "plt.plot(epochs, acc, 'bo', label='Training acc')\n",
    "plt.plot(epochs, val_acc, 'b', label='Validation acc')\n",
    "plt.title('Training and validation accuracy')\n",
    "plt.legend()\n",
    "\n",
    "plt.figure()\n",
    "\n",
    "plt.plot(epochs, loss, 'bo', label='Training loss')\n",
    "plt.plot(epochs, val_loss, 'b', label='Validation loss')\n",
    "plt.title('Training and validation loss')\n",
    "plt.legend()\n",
    "\n",
    "plt.show()"
   ]
  },
  {
   "cell_type": "markdown",
   "metadata": {},
   "source": [
    "### Model #2.3 (GLOVE.Twitter, batch size = 64, Optimizer = Adam)"
   ]
  },
  {
   "cell_type": "code",
   "execution_count": 29,
   "metadata": {
    "scrolled": true
   },
   "outputs": [
    {
     "name": "stdout",
     "output_type": "stream",
     "text": [
      "Found 1193514 word vectors.\n"
     ]
    }
   ],
   "source": [
    "glove_dir = 'C:/Users/Darien Tan/OneDrive - Ngee Ann Polytechnic/Ngee Ann Poly/Year 2/DL/Assignment 2'\n",
    "\n",
    "embeddings_index = {}\n",
    "f = open(os.path.join(glove_dir, 'glove.twitter.27B.200d.txt'), encoding=\"utf8\")\n",
    "for line in f:\n",
    "    values = line.split()\n",
    "    word = values[0]\n",
    "    coefs = np.asarray(values[1:], dtype='float32')\n",
    "    embeddings_index[word] = coefs\n",
    "f.close()\n",
    "\n",
    "print('Found %s word vectors.' % len(embeddings_index))\n",
    "\n",
    "embedding_dim = 200\n",
    "\n",
    "embedding_matrix = np.zeros((max_words, embedding_dim))\n",
    "for word, i in word_index.items():\n",
    "    embedding_vector = embeddings_index.get(word)\n",
    "    if i < max_words:\n",
    "        if embedding_vector is not None:\n",
    "            # Words not found in embedding index will be all-zeros.\n",
    "            embedding_matrix[i] = embedding_vector"
   ]
  },
  {
   "cell_type": "code",
   "execution_count": 21,
   "metadata": {},
   "outputs": [
    {
     "name": "stdout",
     "output_type": "stream",
     "text": [
      "Model: \"sequential_4\"\n",
      "_________________________________________________________________\n",
      "Layer (type)                 Output Shape              Param #   \n",
      "=================================================================\n",
      "embedding_4 (Embedding)      (None, 34, 100)           10000000  \n",
      "_________________________________________________________________\n",
      "flatten_4 (Flatten)          (None, 3400)              0         \n",
      "_________________________________________________________________\n",
      "dense_8 (Dense)              (None, 32)                108832    \n",
      "_________________________________________________________________\n",
      "dense_9 (Dense)              (None, 5)                 165       \n",
      "=================================================================\n",
      "Total params: 10,108,997\n",
      "Trainable params: 10,108,997\n",
      "Non-trainable params: 0\n",
      "_________________________________________________________________\n",
      "Model: \"sequential_4\"\n",
      "_________________________________________________________________\n",
      "Layer (type)                 Output Shape              Param #   \n",
      "=================================================================\n",
      "embedding_4 (Embedding)      (None, 34, 100)           10000000  \n",
      "_________________________________________________________________\n",
      "flatten_4 (Flatten)          (None, 3400)              0         \n",
      "_________________________________________________________________\n",
      "dense_8 (Dense)              (None, 32)                108832    \n",
      "_________________________________________________________________\n",
      "dense_9 (Dense)              (None, 5)                 165       \n",
      "=================================================================\n",
      "Total params: 10,108,997\n",
      "Trainable params: 10,108,997\n",
      "Non-trainable params: 0\n",
      "_________________________________________________________________\n"
     ]
    }
   ],
   "source": [
    "# Build the Model\n",
    "\n",
    "model = Sequential()\n",
    "model.add(Embedding(max_words, embedding_dim, input_length=max_len))\n",
    "model.add(Flatten())\n",
    "model.add(Dense(32, activation='relu'))\n",
    "model.add(Dense(5, activation='softmax'))\n",
    "model.summary()\n",
    "\n",
    "model.layers[0].set_weights([embedding_matrix])\n",
    "model.layers[0].trainable = True\n",
    "model.summary()"
   ]
  },
  {
   "cell_type": "code",
   "execution_count": 22,
   "metadata": {
    "scrolled": true
   },
   "outputs": [
    {
     "name": "stdout",
     "output_type": "stream",
     "text": [
      "Epoch 1/20\n",
      "213/213 [==============================] - 22s 102ms/step - loss: 1.2653 - acc: 0.4893 - val_loss: 1.1146 - val_acc: 0.5642\n",
      "Epoch 2/20\n",
      "213/213 [==============================] - 21s 101ms/step - loss: 1.0049 - acc: 0.6114 - val_loss: 1.0261 - val_acc: 0.5964\n",
      "Epoch 3/20\n",
      "213/213 [==============================] - 22s 101ms/step - loss: 0.8318 - acc: 0.6861 - val_loss: 0.9752 - val_acc: 0.6165\n",
      "Epoch 4/20\n",
      "213/213 [==============================] - 22s 101ms/step - loss: 0.6734 - acc: 0.7596 - val_loss: 0.9607 - val_acc: 0.6323\n",
      "Epoch 5/20\n",
      "213/213 [==============================] - 22s 102ms/step - loss: 0.5269 - acc: 0.8241 - val_loss: 0.9700 - val_acc: 0.6356\n",
      "Epoch 6/20\n",
      "213/213 [==============================] - 22s 102ms/step - loss: 0.3948 - acc: 0.8774 - val_loss: 1.0074 - val_acc: 0.6459\n",
      "Epoch 7/20\n",
      "213/213 [==============================] - 22s 101ms/step - loss: 0.2865 - acc: 0.9175 - val_loss: 1.0525 - val_acc: 0.6464\n",
      "Epoch 8/20\n",
      "213/213 [==============================] - 22s 102ms/step - loss: 0.2024 - acc: 0.9481 - val_loss: 1.1065 - val_acc: 0.6473\n",
      "Epoch 9/20\n",
      "213/213 [==============================] - 22s 102ms/step - loss: 0.1421 - acc: 0.9694 - val_loss: 1.1907 - val_acc: 0.6457\n",
      "Epoch 10/20\n",
      "213/213 [==============================] - 21s 101ms/step - loss: 0.0997 - acc: 0.9806 - val_loss: 1.2497 - val_acc: 0.6473\n",
      "Epoch 11/20\n",
      "213/213 [==============================] - 22s 101ms/step - loss: 0.0706 - acc: 0.9868 - val_loss: 1.3307 - val_acc: 0.6445\n",
      "Epoch 12/20\n",
      "213/213 [==============================] - 22s 101ms/step - loss: 0.0497 - acc: 0.9923 - val_loss: 1.4067 - val_acc: 0.6434\n",
      "Epoch 13/20\n",
      "213/213 [==============================] - 22s 102ms/step - loss: 0.0363 - acc: 0.9952 - val_loss: 1.4752 - val_acc: 0.6447\n",
      "Epoch 14/20\n",
      "213/213 [==============================] - 22s 101ms/step - loss: 0.0273 - acc: 0.9970 - val_loss: 1.5486 - val_acc: 0.6439\n",
      "Epoch 15/20\n",
      "213/213 [==============================] - 22s 102ms/step - loss: 0.0203 - acc: 0.9978 - val_loss: 1.6033 - val_acc: 0.6460\n",
      "Epoch 16/20\n",
      "213/213 [==============================] - 22s 101ms/step - loss: 0.0156 - acc: 0.9985 - val_loss: 1.6560 - val_acc: 0.6451\n",
      "Epoch 17/20\n",
      "213/213 [==============================] - 22s 102ms/step - loss: 0.0121 - acc: 0.9990 - val_loss: 1.7229 - val_acc: 0.6459\n",
      "Epoch 18/20\n",
      "213/213 [==============================] - 21s 101ms/step - loss: 0.0097 - acc: 0.9993 - val_loss: 1.7887 - val_acc: 0.6429\n",
      "Epoch 19/20\n",
      "213/213 [==============================] - 22s 101ms/step - loss: 0.0082 - acc: 0.9993 - val_loss: 1.8348 - val_acc: 0.6416\n",
      "Epoch 20/20\n",
      "213/213 [==============================] - 22s 102ms/step - loss: 0.0067 - acc: 0.9995 - val_loss: 1.8780 - val_acc: 0.6417\n"
     ]
    }
   ],
   "source": [
    "# Train the Model\n",
    "model.compile(optimizer=Adam(lr=5e-4),\n",
    "              loss='categorical_crossentropy',\n",
    "              metrics=['acc'])\n",
    "history = model.fit(X_train, y_train,\n",
    "                    epochs=20,\n",
    "                    batch_size=128,\n",
    "                    validation_split=0.2)"
   ]
  },
  {
   "cell_type": "code",
   "execution_count": 23,
   "metadata": {
    "scrolled": true
   },
   "outputs": [
    {
     "data": {
      "image/png": "[encoded data removed]",
      "text/plain": [
       "<Figure size 432x288 with 1 Axes>"
      ]
     },
     "metadata": {
      "needs_background": "light"
     },
     "output_type": "display_data"
    },
    {
     "data": {
      "image/png": "[encoded data removed]",
      "text/plain": [
       "<Figure size 432x288 with 1 Axes>"
      ]
     },
     "metadata": {
      "needs_background": "light"
     },
     "output_type": "display_data"
    }
   ],
   "source": [
    "# Plot the Training and Validation Accuracy & Loss Scores\n",
    "%matplotlib inline\n",
    "import matplotlib.pyplot as plt\n",
    "\n",
    "acc = history.history['acc']\n",
    "val_acc = history.history['val_acc']\n",
    "loss = history.history['loss']\n",
    "val_loss = history.history['val_loss']\n",
    "\n",
    "epochs = range(len(acc))\n",
    "\n",
    "plt.plot(epochs, acc, 'bo', label='Training acc')\n",
    "plt.plot(epochs, val_acc, 'b', label='Validation acc')\n",
    "plt.title('Training and validation accuracy')\n",
    "plt.legend()\n",
    "\n",
    "plt.figure()\n",
    "\n",
    "plt.plot(epochs, loss, 'bo', label='Training loss')\n",
    "plt.plot(epochs, val_loss, 'b', label='Validation loss')\n",
    "plt.title('Training and validation loss')\n",
    "plt.legend()\n",
    "\n",
    "plt.show()"
   ]
  },
  {
   "cell_type": "markdown",
   "metadata": {},
   "source": [
    "### Model #2.4 (Basic Model + GLOVE.Twitter, batch size = 32, optimizer = Adam)"
   ]
  },
  {
   "cell_type": "code",
   "execution_count": 33,
   "metadata": {
    "scrolled": true
   },
   "outputs": [
    {
     "name": "stdout",
     "output_type": "stream",
     "text": [
      "Found 1193514 word vectors.\n"
     ]
    }
   ],
   "source": [
    "glove_dir = 'C:/Users/Darien Tan/OneDrive - Ngee Ann Polytechnic/Ngee Ann Poly/Year 2/DL/Assignment 2'\n",
    "\n",
    "embeddings_index = {}\n",
    "f = open(os.path.join(glove_dir, 'glove.twitter.27B.200d.txt'), encoding=\"utf8\")\n",
    "for line in f:\n",
    "    values = line.split()\n",
    "    word = values[0]\n",
    "    coefs = np.asarray(values[1:], dtype='float32')\n",
    "    embeddings_index[word] = coefs\n",
    "f.close()\n",
    "\n",
    "print('Found %s word vectors.' % len(embeddings_index))\n",
    "\n",
    "embedding_dim = 200\n",
    "\n",
    "embedding_matrix = np.zeros((max_words, embedding_dim))\n",
    "for word, i in word_index.items():\n",
    "    embedding_vector = embeddings_index.get(word)\n",
    "    if i < max_words:\n",
    "        if embedding_vector is not None:\n",
    "            # Words not found in embedding index will be all-zeros.\n",
    "            embedding_matrix[i] = embedding_vector"
   ]
  },
  {
   "cell_type": "code",
   "execution_count": 24,
   "metadata": {},
   "outputs": [
    {
     "name": "stdout",
     "output_type": "stream",
     "text": [
      "Model: \"sequential_5\"\n",
      "_________________________________________________________________\n",
      "Layer (type)                 Output Shape              Param #   \n",
      "=================================================================\n",
      "embedding_5 (Embedding)      (None, 34, 100)           10000000  \n",
      "_________________________________________________________________\n",
      "flatten_5 (Flatten)          (None, 3400)              0         \n",
      "_________________________________________________________________\n",
      "dense_10 (Dense)             (None, 32)                108832    \n",
      "_________________________________________________________________\n",
      "dense_11 (Dense)             (None, 5)                 165       \n",
      "=================================================================\n",
      "Total params: 10,108,997\n",
      "Trainable params: 10,108,997\n",
      "Non-trainable params: 0\n",
      "_________________________________________________________________\n",
      "Model: \"sequential_5\"\n",
      "_________________________________________________________________\n",
      "Layer (type)                 Output Shape              Param #   \n",
      "=================================================================\n",
      "embedding_5 (Embedding)      (None, 34, 100)           10000000  \n",
      "_________________________________________________________________\n",
      "flatten_5 (Flatten)          (None, 3400)              0         \n",
      "_________________________________________________________________\n",
      "dense_10 (Dense)             (None, 32)                108832    \n",
      "_________________________________________________________________\n",
      "dense_11 (Dense)             (None, 5)                 165       \n",
      "=================================================================\n",
      "Total params: 10,108,997\n",
      "Trainable params: 10,108,997\n",
      "Non-trainable params: 0\n",
      "_________________________________________________________________\n"
     ]
    }
   ],
   "source": [
    "# Build the Model\n",
    "\n",
    "model = Sequential()\n",
    "model.add(Embedding(max_words, embedding_dim, input_length=max_len))\n",
    "model.add(Flatten())\n",
    "model.add(Dense(32, activation='relu'))\n",
    "model.add(Dense(5, activation='softmax'))\n",
    "model.summary()\n",
    "\n",
    "model.layers[0].set_weights([embedding_matrix])\n",
    "model.layers[0].trainable = True\n",
    "model.summary()"
   ]
  },
  {
   "cell_type": "code",
   "execution_count": 25,
   "metadata": {
    "scrolled": true
   },
   "outputs": [
    {
     "name": "stdout",
     "output_type": "stream",
     "text": [
      "Epoch 1/15\n",
      "851/851 [==============================] - 85s 100ms/step - loss: 1.3367 - acc: 0.4505 - val_loss: 1.2152 - val_acc: 0.5137\n",
      "Epoch 2/15\n",
      "851/851 [==============================] - 85s 100ms/step - loss: 1.1328 - acc: 0.5477 - val_loss: 1.1168 - val_acc: 0.5582\n",
      "Epoch 3/15\n",
      "851/851 [==============================] - 85s 100ms/step - loss: 1.0248 - acc: 0.6003 - val_loss: 1.0663 - val_acc: 0.5759\n",
      "Epoch 4/15\n",
      "851/851 [==============================] - 85s 100ms/step - loss: 0.9415 - acc: 0.6388 - val_loss: 1.0305 - val_acc: 0.5893\n",
      "Epoch 5/15\n",
      "851/851 [==============================] - 86s 101ms/step - loss: 0.8679 - acc: 0.6721 - val_loss: 1.0069 - val_acc: 0.5974\n",
      "Epoch 6/15\n",
      "851/851 [==============================] - 85s 100ms/step - loss: 0.8024 - acc: 0.6984 - val_loss: 0.9873 - val_acc: 0.6100\n",
      "Epoch 7/15\n",
      "851/851 [==============================] - 86s 101ms/step - loss: 0.7403 - acc: 0.7285 - val_loss: 0.9772 - val_acc: 0.6171\n",
      "Epoch 8/15\n",
      "851/851 [==============================] - 85s 100ms/step - loss: 0.6826 - acc: 0.7562 - val_loss: 0.9706 - val_acc: 0.6231\n",
      "Epoch 9/15\n",
      "851/851 [==============================] - 85s 100ms/step - loss: 0.6274 - acc: 0.7816 - val_loss: 0.9695 - val_acc: 0.6265\n",
      "Epoch 10/15\n",
      "851/851 [==============================] - 85s 100ms/step - loss: 0.5745 - acc: 0.8060 - val_loss: 0.9748 - val_acc: 0.6275\n",
      "Epoch 11/15\n",
      "851/851 [==============================] - 85s 100ms/step - loss: 0.5236 - acc: 0.8261 - val_loss: 0.9790 - val_acc: 0.6309\n",
      "Epoch 12/15\n",
      "851/851 [==============================] - 85s 100ms/step - loss: 0.4751 - acc: 0.8474 - val_loss: 0.9883 - val_acc: 0.6343\n",
      "Epoch 13/15\n",
      "851/851 [==============================] - 85s 100ms/step - loss: 0.4283 - acc: 0.8665 - val_loss: 1.0001 - val_acc: 0.6366\n",
      "Epoch 14/15\n",
      "851/851 [==============================] - 85s 100ms/step - loss: 0.3841 - acc: 0.8861 - val_loss: 1.0171 - val_acc: 0.6369\n",
      "Epoch 15/15\n",
      "851/851 [==============================] - 85s 100ms/step - loss: 0.3433 - acc: 0.8991 - val_loss: 1.0365 - val_acc: 0.6381\n"
     ]
    }
   ],
   "source": [
    "# Train the Model\n",
    "model.compile(optimizer=Adam(lr=1e-4),\n",
    "              loss='categorical_crossentropy',\n",
    "              metrics=['acc'])\n",
    "history = model.fit(X_train, y_train,\n",
    "                    epochs=15,\n",
    "                    batch_size=32,\n",
    "                    validation_split=0.2)"
   ]
  },
  {
   "cell_type": "code",
   "execution_count": 26,
   "metadata": {
    "scrolled": true
   },
   "outputs": [
    {
     "data": {
      "image/png": "[encoded data removed]",
      "text/plain": [
       "<Figure size 432x288 with 1 Axes>"
      ]
     },
     "metadata": {
      "needs_background": "light"
     },
     "output_type": "display_data"
    },
    {
     "data": {
      "image/png": "[encoded data removed]",
      "text/plain": [
       "<Figure size 432x288 with 1 Axes>"
      ]
     },
     "metadata": {
      "needs_background": "light"
     },
     "output_type": "display_data"
    }
   ],
   "source": [
    "# Plot the Training and Validation Accuracy & Loss Scores\n",
    "%matplotlib inline\n",
    "import matplotlib.pyplot as plt\n",
    "\n",
    "acc = history.history['acc']\n",
    "val_acc = history.history['val_acc']\n",
    "loss = history.history['loss']\n",
    "val_loss = history.history['val_loss']\n",
    "\n",
    "epochs = range(len(acc))\n",
    "\n",
    "plt.plot(epochs, acc, 'bo', label='Training acc')\n",
    "plt.plot(epochs, val_acc, 'b', label='Validation acc')\n",
    "plt.title('Training and validation accuracy')\n",
    "plt.legend()\n",
    "\n",
    "plt.figure()\n",
    "\n",
    "plt.plot(epochs, loss, 'bo', label='Training loss')\n",
    "plt.plot(epochs, val_loss, 'b', label='Validation loss')\n",
    "plt.title('Training and validation loss')\n",
    "plt.legend()\n",
    "\n",
    "plt.show()"
   ]
  },
  {
   "cell_type": "markdown",
   "metadata": {},
   "source": [
    "### Model #2.5 (Basic Model + GLOVE.Twitter, batch size = 128, optimizer = SGD)"
   ]
  },
  {
   "cell_type": "code",
   "execution_count": 37,
   "metadata": {
    "scrolled": true
   },
   "outputs": [
    {
     "name": "stdout",
     "output_type": "stream",
     "text": [
      "Found 1193514 word vectors.\n"
     ]
    }
   ],
   "source": [
    "glove_dir = 'C:/Users/Darien Tan/OneDrive - Ngee Ann Polytechnic/Ngee Ann Poly/Year 2/DL/Assignment 2'\n",
    "\n",
    "embeddings_index = {}\n",
    "f = open(os.path.join(glove_dir, 'glove.twitter.27B.200d.txt'), encoding=\"utf8\")\n",
    "for line in f:\n",
    "    values = line.split()\n",
    "    word = values[0]\n",
    "    coefs = np.asarray(values[1:], dtype='float32')\n",
    "    embeddings_index[word] = coefs\n",
    "f.close()\n",
    "\n",
    "print('Found %s word vectors.' % len(embeddings_index))\n",
    "\n",
    "embedding_dim = 200\n",
    "\n",
    "embedding_matrix = np.zeros((max_words, embedding_dim))\n",
    "for word, i in word_index.items():\n",
    "    embedding_vector = embeddings_index.get(word)\n",
    "    if i < max_words:\n",
    "        if embedding_vector is not None:\n",
    "            # Words not found in embedding index will be all-zeros.\n",
    "            embedding_matrix[i] = embedding_vector"
   ]
  },
  {
   "cell_type": "code",
   "execution_count": 27,
   "metadata": {},
   "outputs": [
    {
     "name": "stdout",
     "output_type": "stream",
     "text": [
      "Model: \"sequential_6\"\n",
      "_________________________________________________________________\n",
      "Layer (type)                 Output Shape              Param #   \n",
      "=================================================================\n",
      "embedding_6 (Embedding)      (None, 34, 100)           10000000  \n",
      "_________________________________________________________________\n",
      "flatten_6 (Flatten)          (None, 3400)              0         \n",
      "_________________________________________________________________\n",
      "dense_12 (Dense)             (None, 32)                108832    \n",
      "_________________________________________________________________\n",
      "dense_13 (Dense)             (None, 5)                 165       \n",
      "=================================================================\n",
      "Total params: 10,108,997\n",
      "Trainable params: 10,108,997\n",
      "Non-trainable params: 0\n",
      "_________________________________________________________________\n",
      "Model: \"sequential_6\"\n",
      "_________________________________________________________________\n",
      "Layer (type)                 Output Shape              Param #   \n",
      "=================================================================\n",
      "embedding_6 (Embedding)      (None, 34, 100)           10000000  \n",
      "_________________________________________________________________\n",
      "flatten_6 (Flatten)          (None, 3400)              0         \n",
      "_________________________________________________________________\n",
      "dense_12 (Dense)             (None, 32)                108832    \n",
      "_________________________________________________________________\n",
      "dense_13 (Dense)             (None, 5)                 165       \n",
      "=================================================================\n",
      "Total params: 10,108,997\n",
      "Trainable params: 10,108,997\n",
      "Non-trainable params: 0\n",
      "_________________________________________________________________\n"
     ]
    }
   ],
   "source": [
    "# Build the Model\n",
    "\n",
    "model = Sequential()\n",
    "model.add(Embedding(max_words, embedding_dim, input_length=max_len))\n",
    "model.add(Flatten())\n",
    "model.add(Dense(32, activation='relu'))\n",
    "model.add(Dense(5, activation='softmax'))\n",
    "model.summary()\n",
    "\n",
    "model.layers[0].set_weights([embedding_matrix])\n",
    "model.layers[0].trainable = True\n",
    "model.summary()"
   ]
  },
  {
   "cell_type": "code",
   "execution_count": 28,
   "metadata": {
    "scrolled": true
   },
   "outputs": [
    {
     "name": "stdout",
     "output_type": "stream",
     "text": [
      "Epoch 1/30\n",
      "213/213 [==============================] - 1s 6ms/step - loss: 1.4364 - acc: 0.4107 - val_loss: 1.3682 - val_acc: 0.4509\n",
      "Epoch 2/30\n",
      "213/213 [==============================] - 1s 5ms/step - loss: 1.3320 - acc: 0.4600 - val_loss: 1.2965 - val_acc: 0.4828\n",
      "Epoch 3/30\n",
      "213/213 [==============================] - 1s 5ms/step - loss: 1.2684 - acc: 0.4905 - val_loss: 1.2521 - val_acc: 0.5116\n",
      "Epoch 4/30\n",
      "213/213 [==============================] - 1s 5ms/step - loss: 1.2217 - acc: 0.5114 - val_loss: 1.2162 - val_acc: 0.5207\n",
      "Epoch 5/30\n",
      "213/213 [==============================] - 1s 5ms/step - loss: 1.1856 - acc: 0.5272 - val_loss: 1.1907 - val_acc: 0.5314\n",
      "Epoch 6/30\n",
      "213/213 [==============================] - 1s 5ms/step - loss: 1.1575 - acc: 0.5379 - val_loss: 1.1720 - val_acc: 0.5360\n",
      "Epoch 7/30\n",
      "213/213 [==============================] - 1s 5ms/step - loss: 1.1332 - acc: 0.5513 - val_loss: 1.1620 - val_acc: 0.5405\n",
      "Epoch 8/30\n",
      "213/213 [==============================] - 1s 5ms/step - loss: 1.1126 - acc: 0.5601 - val_loss: 1.1446 - val_acc: 0.5466\n",
      "Epoch 9/30\n",
      "213/213 [==============================] - 1s 5ms/step - loss: 1.0951 - acc: 0.5678 - val_loss: 1.1362 - val_acc: 0.5473\n",
      "Epoch 10/30\n",
      "213/213 [==============================] - 1s 5ms/step - loss: 1.0784 - acc: 0.5751 - val_loss: 1.1266 - val_acc: 0.5574\n",
      "Epoch 11/30\n",
      "213/213 [==============================] - 1s 5ms/step - loss: 1.0642 - acc: 0.5823 - val_loss: 1.1177 - val_acc: 0.5588\n",
      "Epoch 12/30\n",
      "213/213 [==============================] - 1s 5ms/step - loss: 1.0500 - acc: 0.5888 - val_loss: 1.1106 - val_acc: 0.5593\n",
      "Epoch 13/30\n",
      "213/213 [==============================] - 1s 5ms/step - loss: 1.0367 - acc: 0.5943 - val_loss: 1.1032 - val_acc: 0.5632\n",
      "Epoch 14/30\n",
      "213/213 [==============================] - 1s 5ms/step - loss: 1.0250 - acc: 0.6006 - val_loss: 1.1000 - val_acc: 0.5665\n",
      "Epoch 15/30\n",
      "213/213 [==============================] - 1s 5ms/step - loss: 1.0133 - acc: 0.6054 - val_loss: 1.1004 - val_acc: 0.5621\n",
      "Epoch 16/30\n",
      "213/213 [==============================] - 1s 5ms/step - loss: 1.0022 - acc: 0.6093 - val_loss: 1.0875 - val_acc: 0.5704\n",
      "Epoch 17/30\n",
      "213/213 [==============================] - 1s 5ms/step - loss: 0.9908 - acc: 0.6154 - val_loss: 1.0813 - val_acc: 0.5745\n",
      "Epoch 18/30\n",
      "213/213 [==============================] - 1s 5ms/step - loss: 0.9816 - acc: 0.6198 - val_loss: 1.0853 - val_acc: 0.5734\n",
      "Epoch 19/30\n",
      "213/213 [==============================] - 1s 5ms/step - loss: 0.9714 - acc: 0.6244 - val_loss: 1.0740 - val_acc: 0.5776\n",
      "Epoch 20/30\n",
      "213/213 [==============================] - 1s 5ms/step - loss: 0.9614 - acc: 0.6290 - val_loss: 1.0745 - val_acc: 0.5740\n",
      "Epoch 21/30\n",
      "213/213 [==============================] - 1s 5ms/step - loss: 0.9524 - acc: 0.6333 - val_loss: 1.0697 - val_acc: 0.5821\n",
      "Epoch 22/30\n",
      "213/213 [==============================] - 1s 5ms/step - loss: 0.9449 - acc: 0.6348 - val_loss: 1.0661 - val_acc: 0.5798\n",
      "Epoch 23/30\n",
      "213/213 [==============================] - 1s 5ms/step - loss: 0.9351 - acc: 0.6390 - val_loss: 1.0615 - val_acc: 0.5815\n",
      "Epoch 24/30\n",
      "213/213 [==============================] - 1s 5ms/step - loss: 0.9259 - acc: 0.6439 - val_loss: 1.0671 - val_acc: 0.5806\n",
      "Epoch 25/30\n",
      "213/213 [==============================] - 1s 5ms/step - loss: 0.9189 - acc: 0.6473 - val_loss: 1.0621 - val_acc: 0.5805\n",
      "Epoch 26/30\n",
      "213/213 [==============================] - 1s 5ms/step - loss: 0.9100 - acc: 0.6518 - val_loss: 1.0642 - val_acc: 0.5765\n",
      "Epoch 27/30\n",
      "213/213 [==============================] - 1s 5ms/step - loss: 0.9035 - acc: 0.6512 - val_loss: 1.0547 - val_acc: 0.5817\n",
      "Epoch 28/30\n",
      "213/213 [==============================] - 1s 5ms/step - loss: 0.8954 - acc: 0.6581 - val_loss: 1.0559 - val_acc: 0.5840\n",
      "Epoch 29/30\n",
      "213/213 [==============================] - 1s 5ms/step - loss: 0.8885 - acc: 0.6600 - val_loss: 1.0530 - val_acc: 0.5896\n",
      "Epoch 30/30\n",
      "213/213 [==============================] - 1s 5ms/step - loss: 0.8800 - acc: 0.6642 - val_loss: 1.0560 - val_acc: 0.5843\n"
     ]
    }
   ],
   "source": [
    "# Train the Model\n",
    "model.compile(optimizer=SGD(lr=1e-3, momentum=0.9),\n",
    "              loss='categorical_crossentropy',\n",
    "              metrics=['acc'])\n",
    "history = model.fit(X_train, y_train,\n",
    "                    epochs=30,\n",
    "                    batch_size=128,\n",
    "                    validation_split=0.2)"
   ]
  },
  {
   "cell_type": "code",
   "execution_count": 29,
   "metadata": {
    "scrolled": true
   },
   "outputs": [
    {
     "data": {
      "image/png": "[encoded data removed]",
      "text/plain": [
       "<Figure size 432x288 with 1 Axes>"
      ]
     },
     "metadata": {
      "needs_background": "light"
     },
     "output_type": "display_data"
    },
    {
     "data": {
      "image/png": "[encoded data removed]",
      "text/plain": [
       "<Figure size 432x288 with 1 Axes>"
      ]
     },
     "metadata": {
      "needs_background": "light"
     },
     "output_type": "display_data"
    }
   ],
   "source": [
    "# Plot the Training and Validation Accuracy & Loss Scores\n",
    "%matplotlib inline\n",
    "import matplotlib.pyplot as plt\n",
    "\n",
    "acc = history.history['acc']\n",
    "val_acc = history.history['val_acc']\n",
    "loss = history.history['loss']\n",
    "val_loss = history.history['val_loss']\n",
    "\n",
    "epochs = range(len(acc))\n",
    "\n",
    "plt.plot(epochs, acc, 'bo', label='Training acc')\n",
    "plt.plot(epochs, val_acc, 'b', label='Validation acc')\n",
    "plt.title('Training and validation accuracy')\n",
    "plt.legend()\n",
    "\n",
    "plt.figure()\n",
    "\n",
    "plt.plot(epochs, loss, 'bo', label='Training loss')\n",
    "plt.plot(epochs, val_loss, 'b', label='Validation loss')\n",
    "plt.title('Training and validation loss')\n",
    "plt.legend()\n",
    "\n",
    "plt.show()"
   ]
  },
  {
   "cell_type": "markdown",
   "metadata": {},
   "source": [
    "### Model #2.6 (Basic Model + GLOVE.Twitter (Non-trainable), batch size = 128, optimizer = SGD)"
   ]
  },
  {
   "cell_type": "code",
   "execution_count": 45,
   "metadata": {
    "scrolled": true
   },
   "outputs": [
    {
     "name": "stdout",
     "output_type": "stream",
     "text": [
      "Found 1193514 word vectors.\n"
     ]
    }
   ],
   "source": [
    "glove_dir = 'C:/Users/Darien Tan/OneDrive - Ngee Ann Polytechnic/Ngee Ann Poly/Year 2/DL/Assignment 2'\n",
    "\n",
    "embeddings_index = {}\n",
    "f = open(os.path.join(glove_dir, 'glove.twitter.27B.200d.txt'), encoding=\"utf8\")\n",
    "for line in f:\n",
    "    values = line.split()\n",
    "    word = values[0]\n",
    "    coefs = np.asarray(values[1:], dtype='float32')\n",
    "    embeddings_index[word] = coefs\n",
    "f.close()\n",
    "\n",
    "print('Found %s word vectors.' % len(embeddings_index))\n",
    "\n",
    "embedding_dim = 200\n",
    "\n",
    "embedding_matrix = np.zeros((max_words, embedding_dim))\n",
    "for word, i in word_index.items():\n",
    "    embedding_vector = embeddings_index.get(word)\n",
    "    if i < max_words:\n",
    "        if embedding_vector is not None:\n",
    "            # Words not found in embedding index will be all-zeros.\n",
    "            embedding_matrix[i] = embedding_vector"
   ]
  },
  {
   "cell_type": "code",
   "execution_count": 30,
   "metadata": {},
   "outputs": [
    {
     "name": "stdout",
     "output_type": "stream",
     "text": [
      "Model: \"sequential_7\"\n",
      "_________________________________________________________________\n",
      "Layer (type)                 Output Shape              Param #   \n",
      "=================================================================\n",
      "embedding_7 (Embedding)      (None, 34, 100)           10000000  \n",
      "_________________________________________________________________\n",
      "flatten_7 (Flatten)          (None, 3400)              0         \n",
      "_________________________________________________________________\n",
      "dense_14 (Dense)             (None, 32)                108832    \n",
      "_________________________________________________________________\n",
      "dense_15 (Dense)             (None, 5)                 165       \n",
      "=================================================================\n",
      "Total params: 10,108,997\n",
      "Trainable params: 10,108,997\n",
      "Non-trainable params: 0\n",
      "_________________________________________________________________\n",
      "Model: \"sequential_7\"\n",
      "_________________________________________________________________\n",
      "Layer (type)                 Output Shape              Param #   \n",
      "=================================================================\n",
      "embedding_7 (Embedding)      (None, 34, 100)           10000000  \n",
      "_________________________________________________________________\n",
      "flatten_7 (Flatten)          (None, 3400)              0         \n",
      "_________________________________________________________________\n",
      "dense_14 (Dense)             (None, 32)                108832    \n",
      "_________________________________________________________________\n",
      "dense_15 (Dense)             (None, 5)                 165       \n",
      "=================================================================\n",
      "Total params: 10,108,997\n",
      "Trainable params: 108,997\n",
      "Non-trainable params: 10,000,000\n",
      "_________________________________________________________________\n"
     ]
    }
   ],
   "source": [
    "# Build the Model\n",
    "\n",
    "model = Sequential()\n",
    "model.add(Embedding(max_words, embedding_dim, input_length=max_len))\n",
    "model.add(Flatten())\n",
    "model.add(Dense(32, activation='relu'))\n",
    "model.add(Dense(5, activation='softmax'))\n",
    "model.summary()\n",
    "\n",
    "model.layers[0].set_weights([embedding_matrix])\n",
    "model.layers[0].trainable = False\n",
    "model.summary()"
   ]
  },
  {
   "cell_type": "code",
   "execution_count": 31,
   "metadata": {
    "scrolled": true
   },
   "outputs": [
    {
     "name": "stdout",
     "output_type": "stream",
     "text": [
      "Epoch 1/30\n",
      "213/213 [==============================] - 1s 4ms/step - loss: 1.4141 - acc: 0.4196 - val_loss: 1.3530 - val_acc: 0.4556\n",
      "Epoch 2/30\n",
      "213/213 [==============================] - 1s 4ms/step - loss: 1.3197 - acc: 0.4646 - val_loss: 1.2907 - val_acc: 0.4796\n",
      "Epoch 3/30\n",
      "213/213 [==============================] - 1s 4ms/step - loss: 1.2632 - acc: 0.4942 - val_loss: 1.2512 - val_acc: 0.5037\n",
      "Epoch 4/30\n",
      "213/213 [==============================] - 1s 4ms/step - loss: 1.2253 - acc: 0.5133 - val_loss: 1.2247 - val_acc: 0.5138\n",
      "Epoch 5/30\n",
      "213/213 [==============================] - 1s 4ms/step - loss: 1.1946 - acc: 0.5274 - val_loss: 1.2067 - val_acc: 0.5238\n",
      "Epoch 6/30\n",
      "213/213 [==============================] - 1s 4ms/step - loss: 1.1710 - acc: 0.5392 - val_loss: 1.1942 - val_acc: 0.5260\n",
      "Epoch 7/30\n",
      "213/213 [==============================] - 1s 3ms/step - loss: 1.1505 - acc: 0.5462 - val_loss: 1.1787 - val_acc: 0.5354\n",
      "Epoch 8/30\n",
      "213/213 [==============================] - 1s 4ms/step - loss: 1.1342 - acc: 0.5542 - val_loss: 1.1703 - val_acc: 0.5341\n",
      "Epoch 9/30\n",
      "213/213 [==============================] - 1s 4ms/step - loss: 1.1195 - acc: 0.5591 - val_loss: 1.1628 - val_acc: 0.5405\n",
      "Epoch 10/30\n",
      "213/213 [==============================] - 1s 4ms/step - loss: 1.1069 - acc: 0.5655 - val_loss: 1.1553 - val_acc: 0.5429\n",
      "Epoch 11/30\n",
      "213/213 [==============================] - 1s 4ms/step - loss: 1.0968 - acc: 0.5683 - val_loss: 1.1527 - val_acc: 0.5451\n",
      "Epoch 12/30\n",
      "213/213 [==============================] - 1s 4ms/step - loss: 1.0846 - acc: 0.5764 - val_loss: 1.1459 - val_acc: 0.5489\n",
      "Epoch 13/30\n",
      "213/213 [==============================] - 1s 4ms/step - loss: 1.0753 - acc: 0.5775 - val_loss: 1.1417 - val_acc: 0.5524\n",
      "Epoch 14/30\n",
      "213/213 [==============================] - 1s 4ms/step - loss: 1.0661 - acc: 0.5845 - val_loss: 1.1393 - val_acc: 0.5530\n",
      "Epoch 15/30\n",
      "213/213 [==============================] - 1s 4ms/step - loss: 1.0578 - acc: 0.5866 - val_loss: 1.1393 - val_acc: 0.5539\n",
      "Epoch 16/30\n",
      "213/213 [==============================] - 1s 4ms/step - loss: 1.0489 - acc: 0.5908 - val_loss: 1.1365 - val_acc: 0.5521\n",
      "Epoch 17/30\n",
      "213/213 [==============================] - 1s 4ms/step - loss: 1.0419 - acc: 0.5953 - val_loss: 1.1344 - val_acc: 0.5514\n",
      "Epoch 18/30\n",
      "213/213 [==============================] - 1s 4ms/step - loss: 1.0327 - acc: 0.5976 - val_loss: 1.1337 - val_acc: 0.5541\n",
      "Epoch 19/30\n",
      "213/213 [==============================] - 1s 4ms/step - loss: 1.0268 - acc: 0.5986 - val_loss: 1.1428 - val_acc: 0.5557\n",
      "Epoch 20/30\n",
      "213/213 [==============================] - 1s 4ms/step - loss: 1.0194 - acc: 0.6026 - val_loss: 1.1407 - val_acc: 0.5520\n",
      "Epoch 21/30\n",
      "213/213 [==============================] - 1s 4ms/step - loss: 1.0126 - acc: 0.6065 - val_loss: 1.1299 - val_acc: 0.5557\n",
      "Epoch 22/30\n",
      "213/213 [==============================] - 1s 4ms/step - loss: 1.0063 - acc: 0.6113 - val_loss: 1.1289 - val_acc: 0.5579\n",
      "Epoch 23/30\n",
      "213/213 [==============================] - 1s 4ms/step - loss: 0.9991 - acc: 0.6130 - val_loss: 1.1280 - val_acc: 0.5576\n",
      "Epoch 24/30\n",
      "213/213 [==============================] - 1s 4ms/step - loss: 0.9939 - acc: 0.6153 - val_loss: 1.1357 - val_acc: 0.5532\n",
      "Epoch 25/30\n",
      "213/213 [==============================] - 1s 4ms/step - loss: 0.9865 - acc: 0.6177 - val_loss: 1.1297 - val_acc: 0.5566\n",
      "Epoch 26/30\n",
      "213/213 [==============================] - 1s 4ms/step - loss: 0.9801 - acc: 0.6211 - val_loss: 1.1259 - val_acc: 0.5580\n",
      "Epoch 27/30\n",
      "213/213 [==============================] - 1s 4ms/step - loss: 0.9743 - acc: 0.6257 - val_loss: 1.1277 - val_acc: 0.5615\n",
      "Epoch 28/30\n",
      "213/213 [==============================] - 1s 4ms/step - loss: 0.9691 - acc: 0.6264 - val_loss: 1.1270 - val_acc: 0.5618\n",
      "Epoch 29/30\n",
      "213/213 [==============================] - 1s 5ms/step - loss: 0.9647 - acc: 0.6291 - val_loss: 1.1276 - val_acc: 0.5596\n",
      "Epoch 30/30\n",
      "213/213 [==============================] - 1s 4ms/step - loss: 0.9578 - acc: 0.6320 - val_loss: 1.1283 - val_acc: 0.5613\n"
     ]
    }
   ],
   "source": [
    "# Train the Model\n",
    "model.compile(optimizer=SGD(lr=1e-3, momentum=0.9),\n",
    "              loss='categorical_crossentropy',\n",
    "              metrics=['acc'])\n",
    "history = model.fit(X_train, y_train,\n",
    "                    epochs=30,\n",
    "                    batch_size=128,\n",
    "                    validation_split=0.2)"
   ]
  },
  {
   "cell_type": "code",
   "execution_count": 32,
   "metadata": {
    "scrolled": true
   },
   "outputs": [
    {
     "data": {
      "image/png": "[encoded data removed]",
      "text/plain": [
       "<Figure size 432x288 with 1 Axes>"
      ]
     },
     "metadata": {
      "needs_background": "light"
     },
     "output_type": "display_data"
    },
    {
     "data": {
      "image/png": "[encoded data removed]",
      "text/plain": [
       "<Figure size 432x288 with 1 Axes>"
      ]
     },
     "metadata": {
      "needs_background": "light"
     },
     "output_type": "display_data"
    }
   ],
   "source": [
    "# Plot the Training and Validation Accuracy & Loss Scores\n",
    "%matplotlib inline\n",
    "import matplotlib.pyplot as plt\n",
    "\n",
    "acc = history.history['acc']\n",
    "val_acc = history.history['val_acc']\n",
    "loss = history.history['loss']\n",
    "val_loss = history.history['val_loss']\n",
    "\n",
    "epochs = range(len(acc))\n",
    "\n",
    "plt.plot(epochs, acc, 'bo', label='Training acc')\n",
    "plt.plot(epochs, val_acc, 'b', label='Validation acc')\n",
    "plt.title('Training and validation accuracy')\n",
    "plt.legend()\n",
    "\n",
    "plt.figure()\n",
    "\n",
    "plt.plot(epochs, loss, 'bo', label='Training loss')\n",
    "plt.plot(epochs, val_loss, 'b', label='Validation loss')\n",
    "plt.title('Training and validation loss')\n",
    "plt.legend()\n",
    "\n",
    "plt.show()"
   ]
  },
  {
   "cell_type": "markdown",
   "metadata": {},
   "source": [
    "### Model #2.7 (Basic Model + LSTM + GLOVE.Twitter, batch size = 128, optimizer = SGD)"
   ]
  },
  {
   "cell_type": "code",
   "execution_count": 49,
   "metadata": {
    "scrolled": true
   },
   "outputs": [
    {
     "name": "stdout",
     "output_type": "stream",
     "text": [
      "Found 1193514 word vectors.\n"
     ]
    }
   ],
   "source": [
    "glove_dir = 'C:/Users/Darien Tan/OneDrive - Ngee Ann Polytechnic/Ngee Ann Poly/Year 2/DL/Assignment 2'\n",
    "\n",
    "embeddings_index = {}\n",
    "f = open(os.path.join(glove_dir, 'glove.twitter.27B.200d.txt'), encoding=\"utf8\")\n",
    "for line in f:\n",
    "    values = line.split()\n",
    "    word = values[0]\n",
    "    coefs = np.asarray(values[1:], dtype='float32')\n",
    "    embeddings_index[word] = coefs\n",
    "f.close()\n",
    "\n",
    "print('Found %s word vectors.' % len(embeddings_index))\n",
    "\n",
    "embedding_dim = 200\n",
    "\n",
    "embedding_matrix = np.zeros((max_words, embedding_dim))\n",
    "for word, i in word_index.items():\n",
    "    embedding_vector = embeddings_index.get(word)\n",
    "    if i < max_words:\n",
    "        if embedding_vector is not None:\n",
    "            # Words not found in embedding index will be all-zeros.\n",
    "            embedding_matrix[i] = embedding_vector"
   ]
  },
  {
   "cell_type": "code",
   "execution_count": 33,
   "metadata": {},
   "outputs": [
    {
     "name": "stdout",
     "output_type": "stream",
     "text": [
      "Model: \"sequential_8\"\n",
      "_________________________________________________________________\n",
      "Layer (type)                 Output Shape              Param #   \n",
      "=================================================================\n",
      "embedding_8 (Embedding)      (None, 34, 100)           10000000  \n",
      "_________________________________________________________________\n",
      "lstm (LSTM)                  (None, 34, 64)            42240     \n",
      "_________________________________________________________________\n",
      "flatten_8 (Flatten)          (None, 2176)              0         \n",
      "_________________________________________________________________\n",
      "dense_16 (Dense)             (None, 32)                69664     \n",
      "_________________________________________________________________\n",
      "dense_17 (Dense)             (None, 5)                 165       \n",
      "=================================================================\n",
      "Total params: 10,112,069\n",
      "Trainable params: 10,112,069\n",
      "Non-trainable params: 0\n",
      "_________________________________________________________________\n",
      "Model: \"sequential_8\"\n",
      "_________________________________________________________________\n",
      "Layer (type)                 Output Shape              Param #   \n",
      "=================================================================\n",
      "embedding_8 (Embedding)      (None, 34, 100)           10000000  \n",
      "_________________________________________________________________\n",
      "lstm (LSTM)                  (None, 34, 64)            42240     \n",
      "_________________________________________________________________\n",
      "flatten_8 (Flatten)          (None, 2176)              0         \n",
      "_________________________________________________________________\n",
      "dense_16 (Dense)             (None, 32)                69664     \n",
      "_________________________________________________________________\n",
      "dense_17 (Dense)             (None, 5)                 165       \n",
      "=================================================================\n",
      "Total params: 10,112,069\n",
      "Trainable params: 10,112,069\n",
      "Non-trainable params: 0\n",
      "_________________________________________________________________\n"
     ]
    }
   ],
   "source": [
    "# Build the Model\n",
    "\n",
    "model = Sequential()\n",
    "model.add(Embedding(max_words, embedding_dim, input_length=max_len))\n",
    "model.add(LSTM(64, return_sequences=True))\n",
    "model.add(Flatten())\n",
    "model.add(Dense(32, activation='relu'))\n",
    "model.add(Dense(5, activation='softmax'))\n",
    "model.summary()\n",
    "\n",
    "model.layers[0].set_weights([embedding_matrix])\n",
    "model.layers[0].trainable = True\n",
    "model.summary()"
   ]
  },
  {
   "cell_type": "code",
   "execution_count": 34,
   "metadata": {
    "scrolled": true
   },
   "outputs": [
    {
     "name": "stdout",
     "output_type": "stream",
     "text": [
      "Epoch 1/30\n",
      "213/213 [==============================] - 2s 10ms/step - loss: 1.4465 - acc: 0.4151 - val_loss: 1.3976 - val_acc: 0.4317\n",
      "Epoch 2/30\n",
      "213/213 [==============================] - 2s 9ms/step - loss: 1.3796 - acc: 0.4374 - val_loss: 1.3504 - val_acc: 0.4617\n",
      "Epoch 3/30\n",
      "213/213 [==============================] - 2s 9ms/step - loss: 1.3282 - acc: 0.4621 - val_loss: 1.2937 - val_acc: 0.4821\n",
      "Epoch 4/30\n",
      "213/213 [==============================] - 2s 9ms/step - loss: 1.2788 - acc: 0.4833 - val_loss: 1.2521 - val_acc: 0.5018\n",
      "Epoch 5/30\n",
      "213/213 [==============================] - 2s 10ms/step - loss: 1.2406 - acc: 0.4996 - val_loss: 1.2204 - val_acc: 0.5134\n",
      "Epoch 6/30\n",
      "213/213 [==============================] - 2s 9ms/step - loss: 1.2136 - acc: 0.5138 - val_loss: 1.1939 - val_acc: 0.5254\n",
      "Epoch 7/30\n",
      "213/213 [==============================] - 2s 10ms/step - loss: 1.1927 - acc: 0.5262 - val_loss: 1.1773 - val_acc: 0.5330\n",
      "Epoch 8/30\n",
      "213/213 [==============================] - 2s 9ms/step - loss: 1.1747 - acc: 0.5323 - val_loss: 1.1595 - val_acc: 0.5395\n",
      "Epoch 9/30\n",
      "213/213 [==============================] - 2s 10ms/step - loss: 1.1602 - acc: 0.5366 - val_loss: 1.1492 - val_acc: 0.5457\n",
      "Epoch 10/30\n",
      "213/213 [==============================] - 2s 9ms/step - loss: 1.1466 - acc: 0.5438 - val_loss: 1.1416 - val_acc: 0.5498\n",
      "Epoch 11/30\n",
      "213/213 [==============================] - 2s 9ms/step - loss: 1.1338 - acc: 0.5494 - val_loss: 1.1258 - val_acc: 0.5524\n",
      "Epoch 12/30\n",
      "213/213 [==============================] - 2s 9ms/step - loss: 1.1229 - acc: 0.5527 - val_loss: 1.1164 - val_acc: 0.5552\n",
      "Epoch 13/30\n",
      "213/213 [==============================] - 2s 9ms/step - loss: 1.1119 - acc: 0.5592 - val_loss: 1.1074 - val_acc: 0.5599\n",
      "Epoch 14/30\n",
      "213/213 [==============================] - 2s 9ms/step - loss: 1.1014 - acc: 0.5604 - val_loss: 1.1026 - val_acc: 0.5624\n",
      "Epoch 15/30\n",
      "213/213 [==============================] - 2s 9ms/step - loss: 1.0935 - acc: 0.5654 - val_loss: 1.0933 - val_acc: 0.5648\n",
      "Epoch 16/30\n",
      "213/213 [==============================] - 2s 9ms/step - loss: 1.0838 - acc: 0.5703 - val_loss: 1.0814 - val_acc: 0.5705\n",
      "Epoch 17/30\n",
      "213/213 [==============================] - 2s 9ms/step - loss: 1.0763 - acc: 0.5690 - val_loss: 1.0867 - val_acc: 0.5670\n",
      "Epoch 18/30\n",
      "213/213 [==============================] - 2s 9ms/step - loss: 1.0682 - acc: 0.5758 - val_loss: 1.0674 - val_acc: 0.5734\n",
      "Epoch 19/30\n",
      "213/213 [==============================] - 2s 9ms/step - loss: 1.0600 - acc: 0.5782 - val_loss: 1.0638 - val_acc: 0.5754\n",
      "Epoch 20/30\n",
      "213/213 [==============================] - 2s 9ms/step - loss: 1.0527 - acc: 0.5823 - val_loss: 1.0577 - val_acc: 0.5746\n",
      "Epoch 21/30\n",
      "213/213 [==============================] - 2s 9ms/step - loss: 1.0444 - acc: 0.5852 - val_loss: 1.0526 - val_acc: 0.5752\n",
      "Epoch 22/30\n",
      "213/213 [==============================] - 2s 9ms/step - loss: 1.0377 - acc: 0.5856 - val_loss: 1.0471 - val_acc: 0.5806\n",
      "Epoch 23/30\n",
      "213/213 [==============================] - 2s 9ms/step - loss: 1.0311 - acc: 0.5896 - val_loss: 1.0467 - val_acc: 0.5755\n",
      "Epoch 24/30\n",
      "213/213 [==============================] - 2s 9ms/step - loss: 1.0258 - acc: 0.5908 - val_loss: 1.0460 - val_acc: 0.5737\n",
      "Epoch 25/30\n",
      "213/213 [==============================] - 2s 9ms/step - loss: 1.0207 - acc: 0.5929 - val_loss: 1.0406 - val_acc: 0.5809\n",
      "Epoch 26/30\n",
      "213/213 [==============================] - 2s 9ms/step - loss: 1.0120 - acc: 0.5970 - val_loss: 1.0349 - val_acc: 0.5789\n",
      "Epoch 27/30\n",
      "213/213 [==============================] - 2s 9ms/step - loss: 1.0075 - acc: 0.5964 - val_loss: 1.0300 - val_acc: 0.5792\n",
      "Epoch 28/30\n",
      "213/213 [==============================] - 2s 9ms/step - loss: 1.0020 - acc: 0.5985 - val_loss: 1.0174 - val_acc: 0.5848\n",
      "Epoch 29/30\n",
      "213/213 [==============================] - 2s 9ms/step - loss: 0.9967 - acc: 0.6013 - val_loss: 1.0316 - val_acc: 0.5774\n",
      "Epoch 30/30\n",
      "213/213 [==============================] - 2s 9ms/step - loss: 0.9903 - acc: 0.6026 - val_loss: 1.0104 - val_acc: 0.5912\n"
     ]
    }
   ],
   "source": [
    "# Train the Model\n",
    "model.compile(optimizer=SGD(lr=1e-3, momentum=0.9),\n",
    "              loss='categorical_crossentropy',\n",
    "              metrics=['acc'])\n",
    "history = model.fit(X_train, y_train,\n",
    "                    epochs=30,\n",
    "                    batch_size=128,\n",
    "                    validation_split=0.2)"
   ]
  },
  {
   "cell_type": "code",
   "execution_count": 35,
   "metadata": {
    "scrolled": true
   },
   "outputs": [
    {
     "data": {
      "image/png": "[encoded data removed]",
      "text/plain": [
       "<Figure size 432x288 with 1 Axes>"
      ]
     },
     "metadata": {
      "needs_background": "light"
     },
     "output_type": "display_data"
    },
    {
     "data": {
      "image/png": "[encoded data removed]",
      "text/plain": [
       "<Figure size 432x288 with 1 Axes>"
      ]
     },
     "metadata": {
      "needs_background": "light"
     },
     "output_type": "display_data"
    }
   ],
   "source": [
    "# Plot the Training and Validation Accuracy & Loss Scores\n",
    "%matplotlib inline\n",
    "import matplotlib.pyplot as plt\n",
    "\n",
    "acc = history.history['acc']\n",
    "val_acc = history.history['val_acc']\n",
    "loss = history.history['loss']\n",
    "val_loss = history.history['val_loss']\n",
    "\n",
    "epochs = range(len(acc))\n",
    "\n",
    "plt.plot(epochs, acc, 'bo', label='Training acc')\n",
    "plt.plot(epochs, val_acc, 'b', label='Validation acc')\n",
    "plt.title('Training and validation accuracy')\n",
    "plt.legend()\n",
    "\n",
    "plt.figure()\n",
    "\n",
    "plt.plot(epochs, loss, 'bo', label='Training loss')\n",
    "plt.plot(epochs, val_loss, 'b', label='Validation loss')\n",
    "plt.title('Training and validation loss')\n",
    "plt.legend()\n",
    "\n",
    "plt.show()"
   ]
  },
  {
   "cell_type": "markdown",
   "metadata": {},
   "source": [
    "### Model #2.8 (Basic Model + LSTM + GLOVE.Twitter, batch size = 128, optimizer = SGD, regularizer implemented)"
   ]
  },
  {
   "cell_type": "code",
   "execution_count": 10,
   "metadata": {
    "scrolled": true
   },
   "outputs": [
    {
     "name": "stdout",
     "output_type": "stream",
     "text": [
      "Found 1193514 word vectors.\n"
     ]
    }
   ],
   "source": [
    "glove_dir = ''\n",
    "\n",
    "embeddings_index = {}\n",
    "f = open('glove.twitter.27B.100d.txt', encoding=\"utf8\")\n",
    "for line in f:\n",
    "    values = line.split()\n",
    "    word = values[0]\n",
    "    coefs = np.asarray(values[1:], dtype='float32')\n",
    "    embeddings_index[word] = coefs\n",
    "f.close()\n",
    "\n",
    "print('Found %s word vectors.' % len(embeddings_index))\n",
    "\n",
    "embedding_dim = 100\n",
    "\n",
    "embedding_matrix = np.zeros((max_words, embedding_dim))\n",
    "for word, i in word_index.items():\n",
    "    embedding_vector = embeddings_index.get(word)\n",
    "    if i < max_words:\n",
    "        if embedding_vector is not None:\n",
    "            # Words not found in embedding index will be all-zeros.\n",
    "            embedding_matrix[i] = embedding_vector"
   ]
  },
  {
   "cell_type": "code",
   "execution_count": 36,
   "metadata": {},
   "outputs": [
    {
     "name": "stdout",
     "output_type": "stream",
     "text": [
      "Model: \"sequential_9\"\n",
      "_________________________________________________________________\n",
      "Layer (type)                 Output Shape              Param #   \n",
      "=================================================================\n",
      "embedding_9 (Embedding)      (None, 34, 100)           10000000  \n",
      "_________________________________________________________________\n",
      "flatten_9 (Flatten)          (None, 3400)              0         \n",
      "_________________________________________________________________\n",
      "dense_18 (Dense)             (None, 200)               680200    \n",
      "_________________________________________________________________\n",
      "dropout (Dropout)            (None, 200)               0         \n",
      "_________________________________________________________________\n",
      "dense_19 (Dense)             (None, 5)                 1005      \n",
      "=================================================================\n",
      "Total params: 10,681,205\n",
      "Trainable params: 10,681,205\n",
      "Non-trainable params: 0\n",
      "_________________________________________________________________\n",
      "Model: \"sequential_9\"\n",
      "_________________________________________________________________\n",
      "Layer (type)                 Output Shape              Param #   \n",
      "=================================================================\n",
      "embedding_9 (Embedding)      (None, 34, 100)           10000000  \n",
      "_________________________________________________________________\n",
      "flatten_9 (Flatten)          (None, 3400)              0         \n",
      "_________________________________________________________________\n",
      "dense_18 (Dense)             (None, 200)               680200    \n",
      "_________________________________________________________________\n",
      "dropout (Dropout)            (None, 200)               0         \n",
      "_________________________________________________________________\n",
      "dense_19 (Dense)             (None, 5)                 1005      \n",
      "=================================================================\n",
      "Total params: 10,681,205\n",
      "Trainable params: 10,681,205\n",
      "Non-trainable params: 0\n",
      "_________________________________________________________________\n"
     ]
    }
   ],
   "source": [
    "# Build the Model\n",
    "from tensorflow.keras import regularizers\n",
    "\n",
    "model = Sequential()\n",
    "model.add(Embedding(max_words, embedding_dim, input_length=max_len))\n",
    "model.add(Flatten())\n",
    "model.add(Dense(200, activation='relu', kernel_regularizer=regularizers.l2(0.001)))\n",
    "model.add(Dropout(0.5))\n",
    "model.add(Dense(5, activation='softmax'))\n",
    "model.summary()\n",
    "\n",
    "model.layers[0].set_weights([embedding_matrix])\n",
    "model.layers[0].trainable = True\n",
    "model.summary()"
   ]
  },
  {
   "cell_type": "code",
   "execution_count": 37,
   "metadata": {
    "scrolled": true
   },
   "outputs": [
    {
     "name": "stdout",
     "output_type": "stream",
     "text": [
      "Epoch 1/30\n",
      "213/213 [==============================] - 21s 97ms/step - loss: 1.4121 - acc: 0.5118 - val_loss: 1.2151 - val_acc: 0.5877\n",
      "Epoch 2/30\n",
      "213/213 [==============================] - 21s 98ms/step - loss: 1.0931 - acc: 0.6365 - val_loss: 1.1217 - val_acc: 0.6156\n",
      "Epoch 3/30\n",
      "213/213 [==============================] - 21s 98ms/step - loss: 0.9026 - acc: 0.7215 - val_loss: 1.1041 - val_acc: 0.6359\n",
      "Epoch 4/30\n",
      "213/213 [==============================] - 21s 98ms/step - loss: 0.7370 - acc: 0.7998 - val_loss: 1.1332 - val_acc: 0.6434\n",
      "Epoch 5/30\n",
      "213/213 [==============================] - 21s 98ms/step - loss: 0.5890 - acc: 0.8614 - val_loss: 1.2151 - val_acc: 0.6491\n",
      "Epoch 6/30\n",
      "213/213 [==============================] - 21s 98ms/step - loss: 0.4700 - acc: 0.9074 - val_loss: 1.2874 - val_acc: 0.6494\n",
      "Epoch 7/30\n",
      "213/213 [==============================] - 21s 98ms/step - loss: 0.3750 - acc: 0.9379 - val_loss: 1.3716 - val_acc: 0.6578\n",
      "Epoch 8/30\n",
      "213/213 [==============================] - 21s 99ms/step - loss: 0.3183 - acc: 0.9547 - val_loss: 1.4426 - val_acc: 0.6462\n",
      "Epoch 9/30\n",
      "213/213 [==============================] - 21s 98ms/step - loss: 0.2751 - acc: 0.9667 - val_loss: 1.5521 - val_acc: 0.6503\n",
      "Epoch 10/30\n",
      "213/213 [==============================] - 21s 98ms/step - loss: 0.2525 - acc: 0.9712 - val_loss: 1.5944 - val_acc: 0.6500\n",
      "Epoch 11/30\n",
      "213/213 [==============================] - 21s 98ms/step - loss: 0.2263 - acc: 0.9769 - val_loss: 1.6770 - val_acc: 0.6467\n",
      "Epoch 12/30\n",
      "213/213 [==============================] - 21s 98ms/step - loss: 0.2149 - acc: 0.9779 - val_loss: 1.7435 - val_acc: 0.6473\n",
      "Epoch 13/30\n",
      "213/213 [==============================] - 21s 97ms/step - loss: 0.1921 - acc: 0.9834 - val_loss: 1.8210 - val_acc: 0.6420\n",
      "Epoch 14/30\n",
      "213/213 [==============================] - 21s 98ms/step - loss: 0.1885 - acc: 0.9827 - val_loss: 1.7935 - val_acc: 0.6494\n",
      "Epoch 15/30\n",
      "213/213 [==============================] - 21s 98ms/step - loss: 0.1723 - acc: 0.9855 - val_loss: 1.8219 - val_acc: 0.6466\n",
      "Epoch 16/30\n",
      "213/213 [==============================] - 21s 98ms/step - loss: 0.1678 - acc: 0.9858 - val_loss: 1.9075 - val_acc: 0.6479\n",
      "Epoch 17/30\n",
      "213/213 [==============================] - 21s 98ms/step - loss: 0.1658 - acc: 0.9865 - val_loss: 1.9570 - val_acc: 0.6378\n",
      "Epoch 18/30\n",
      "213/213 [==============================] - 21s 97ms/step - loss: 0.1516 - acc: 0.9890 - val_loss: 1.9626 - val_acc: 0.6420\n",
      "Epoch 19/30\n",
      "213/213 [==============================] - 21s 98ms/step - loss: 0.1587 - acc: 0.9877 - val_loss: 2.0074 - val_acc: 0.6370\n",
      "Epoch 20/30\n",
      "213/213 [==============================] - 21s 99ms/step - loss: 0.1495 - acc: 0.9892 - val_loss: 1.9644 - val_acc: 0.6378\n",
      "Epoch 21/30\n",
      "213/213 [==============================] - 21s 99ms/step - loss: 0.1477 - acc: 0.9894 - val_loss: 2.0142 - val_acc: 0.6403\n",
      "Epoch 22/30\n",
      "213/213 [==============================] - 21s 98ms/step - loss: 0.1449 - acc: 0.9900 - val_loss: 2.0261 - val_acc: 0.6370\n",
      "Epoch 23/30\n",
      "213/213 [==============================] - 21s 98ms/step - loss: 0.1334 - acc: 0.9921 - val_loss: 2.1181 - val_acc: 0.6394\n",
      "Epoch 24/30\n",
      "213/213 [==============================] - 21s 98ms/step - loss: 0.1296 - acc: 0.9900 - val_loss: 2.0817 - val_acc: 0.6303\n",
      "Epoch 25/30\n",
      "213/213 [==============================] - 21s 99ms/step - loss: 0.1335 - acc: 0.9907 - val_loss: 2.1304 - val_acc: 0.6368\n",
      "Epoch 26/30\n",
      "213/213 [==============================] - 21s 98ms/step - loss: 0.1328 - acc: 0.9912 - val_loss: 2.1790 - val_acc: 0.6321\n",
      "Epoch 27/30\n",
      "213/213 [==============================] - 21s 98ms/step - loss: 0.1366 - acc: 0.9920 - val_loss: 2.2337 - val_acc: 0.6444\n",
      "Epoch 28/30\n",
      "213/213 [==============================] - 21s 98ms/step - loss: 0.1261 - acc: 0.9929 - val_loss: 2.1558 - val_acc: 0.6401\n",
      "Epoch 29/30\n",
      "213/213 [==============================] - 21s 98ms/step - loss: 0.1186 - acc: 0.9934 - val_loss: 2.1844 - val_acc: 0.6335\n",
      "Epoch 30/30\n",
      "213/213 [==============================] - 21s 98ms/step - loss: 0.1227 - acc: 0.9923 - val_loss: 2.1247 - val_acc: 0.6360\n"
     ]
    }
   ],
   "source": [
    "# Train the Model\n",
    "model.compile(optimizer=Adam(lr=1e-3),\n",
    "              loss='categorical_crossentropy',\n",
    "              metrics=['acc'])\n",
    "history = model.fit(X_train, y_train,\n",
    "                    epochs=30,\n",
    "                    batch_size=128,\n",
    "                    validation_split=0.2)"
   ]
  },
  {
   "cell_type": "code",
   "execution_count": 38,
   "metadata": {
    "scrolled": true
   },
   "outputs": [
    {
     "data": {
      "image/png": "[encoded data removed]",
      "text/plain": [
       "<Figure size 432x288 with 1 Axes>"
      ]
     },
     "metadata": {
      "needs_background": "light"
     },
     "output_type": "display_data"
    },
    {
     "data": {
      "image/png": "[encoded data removed]",
      "text/plain": [
       "<Figure size 432x288 with 1 Axes>"
      ]
     },
     "metadata": {
      "needs_background": "light"
     },
     "output_type": "display_data"
    }
   ],
   "source": [
    "# Plot the Training and Validation Accuracy & Loss Scores\n",
    "%matplotlib inline\n",
    "import matplotlib.pyplot as plt\n",
    "\n",
    "acc = history.history['acc']\n",
    "val_acc = history.history['val_acc']\n",
    "loss = history.history['loss']\n",
    "val_loss = history.history['val_loss']\n",
    "\n",
    "epochs = range(len(acc))\n",
    "\n",
    "plt.plot(epochs, acc, 'bo', label='Training acc')\n",
    "plt.plot(epochs, val_acc, 'b', label='Validation acc')\n",
    "plt.title('Training and validation accuracy')\n",
    "plt.legend()\n",
    "\n",
    "plt.figure()\n",
    "\n",
    "plt.plot(epochs, loss, 'bo', label='Training loss')\n",
    "plt.plot(epochs, val_loss, 'b', label='Validation loss')\n",
    "plt.title('Training and validation loss')\n",
    "plt.legend()\n",
    "\n",
    "plt.show()"
   ]
  },
  {
   "cell_type": "markdown",
   "metadata": {},
   "source": [
    "### Model #2.9 (Basic Model + LSTM + GLOVE.Twitter, batch size = 128, optimizer = SGD, regularizer implemented)"
   ]
  },
  {
   "cell_type": "code",
   "execution_count": 9,
   "metadata": {
    "scrolled": true
   },
   "outputs": [
    {
     "name": "stdout",
     "output_type": "stream",
     "text": [
      "Found 1193514 word vectors.\n"
     ]
    }
   ],
   "source": [
    "glove_dir = ''\n",
    "\n",
    "embeddings_index = {}\n",
    "f = open('glove.twitter.27B.100d.txt', encoding=\"utf8\")\n",
    "for line in f:\n",
    "    values = line.split()\n",
    "    word = values[0]\n",
    "    coefs = np.asarray(values[1:], dtype='float32')\n",
    "    embeddings_index[word] = coefs\n",
    "f.close()\n",
    "\n",
    "print('Found %s word vectors.' % len(embeddings_index))\n",
    "\n",
    "embedding_dim = 100\n",
    "\n",
    "embedding_matrix = np.zeros((max_words, embedding_dim))\n",
    "for word, i in word_index.items():\n",
    "    embedding_vector = embeddings_index.get(word)\n",
    "    if i < max_words:\n",
    "        if embedding_vector is not None:\n",
    "            # Words not found in embedding index will be all-zeros.\n",
    "            embedding_matrix[i] = embedding_vector"
   ]
  },
  {
   "cell_type": "code",
   "execution_count": 12,
   "metadata": {},
   "outputs": [
    {
     "name": "stdout",
     "output_type": "stream",
     "text": [
      "Model: \"sequential_1\"\n",
      "_________________________________________________________________\n",
      "Layer (type)                 Output Shape              Param #   \n",
      "=================================================================\n",
      "embedding_1 (Embedding)      (None, 34, 100)           10000000  \n",
      "_________________________________________________________________\n",
      "flatten_1 (Flatten)          (None, 3400)              0         \n",
      "_________________________________________________________________\n",
      "dense_2 (Dense)              (None, 200)               680200    \n",
      "_________________________________________________________________\n",
      "dense_3 (Dense)              (None, 5)                 1005      \n",
      "=================================================================\n",
      "Total params: 10,681,205\n",
      "Trainable params: 10,681,205\n",
      "Non-trainable params: 0\n",
      "_________________________________________________________________\n",
      "Model: \"sequential_1\"\n",
      "_________________________________________________________________\n",
      "Layer (type)                 Output Shape              Param #   \n",
      "=================================================================\n",
      "embedding_1 (Embedding)      (None, 34, 100)           10000000  \n",
      "_________________________________________________________________\n",
      "flatten_1 (Flatten)          (None, 3400)              0         \n",
      "_________________________________________________________________\n",
      "dense_2 (Dense)              (None, 200)               680200    \n",
      "_________________________________________________________________\n",
      "dense_3 (Dense)              (None, 5)                 1005      \n",
      "=================================================================\n",
      "Total params: 10,681,205\n",
      "Trainable params: 10,681,205\n",
      "Non-trainable params: 0\n",
      "_________________________________________________________________\n"
     ]
    }
   ],
   "source": [
    "# Build the Model\n",
    "from tensorflow.keras import regularizers\n",
    "\n",
    "model = Sequential()\n",
    "model.add(Embedding(max_words, embedding_dim, input_length=max_len))\n",
    "model.add(Flatten())\n",
    "model.add(Dense(200, activation='relu', kernel_regularizer=regularizers.l2(0.001)))\n",
    "model.add(Dense(5, activation='softmax'))\n",
    "model.summary()\n",
    "\n",
    "model.layers[0].set_weights([embedding_matrix])\n",
    "model.layers[0].trainable = True\n",
    "model.summary()"
   ]
  },
  {
   "cell_type": "code",
   "execution_count": 13,
   "metadata": {
    "scrolled": true
   },
   "outputs": [
    {
     "name": "stdout",
     "output_type": "stream",
     "text": [
      "Epoch 1/30\n",
      "213/213 [==============================] - 22s 101ms/step - loss: 1.6351 - acc: 0.4512 - val_loss: 1.4668 - val_acc: 0.5200\n",
      "Epoch 2/30\n",
      "213/213 [==============================] - 21s 101ms/step - loss: 1.3665 - acc: 0.5506 - val_loss: 1.3458 - val_acc: 0.5448\n",
      "Epoch 3/30\n",
      "213/213 [==============================] - 21s 101ms/step - loss: 1.2460 - acc: 0.5919 - val_loss: 1.2842 - val_acc: 0.5630\n",
      "Epoch 4/30\n",
      "213/213 [==============================] - 21s 100ms/step - loss: 1.1632 - acc: 0.6228 - val_loss: 1.2468 - val_acc: 0.5756\n",
      "Epoch 5/30\n",
      "213/213 [==============================] - 21s 100ms/step - loss: 1.0925 - acc: 0.6484 - val_loss: 1.2170 - val_acc: 0.5848\n",
      "Epoch 6/30\n",
      "213/213 [==============================] - 21s 100ms/step - loss: 1.0292 - acc: 0.6730 - val_loss: 1.1968 - val_acc: 0.5867\n",
      "Epoch 7/30\n",
      "213/213 [==============================] - 21s 100ms/step - loss: 0.9718 - acc: 0.6981 - val_loss: 1.1765 - val_acc: 0.5964\n",
      "Epoch 8/30\n",
      "213/213 [==============================] - 21s 100ms/step - loss: 0.9171 - acc: 0.7212 - val_loss: 1.1570 - val_acc: 0.6075\n",
      "Epoch 9/30\n",
      "213/213 [==============================] - 21s 99ms/step - loss: 0.8635 - acc: 0.7454 - val_loss: 1.1453 - val_acc: 0.6099\n",
      "Epoch 10/30\n",
      "213/213 [==============================] - 21s 100ms/step - loss: 0.8142 - acc: 0.7666 - val_loss: 1.1337 - val_acc: 0.6212\n",
      "Epoch 11/30\n",
      "213/213 [==============================] - 21s 100ms/step - loss: 0.7674 - acc: 0.7894 - val_loss: 1.1272 - val_acc: 0.6257\n",
      "Epoch 12/30\n",
      "213/213 [==============================] - 21s 100ms/step - loss: 0.7213 - acc: 0.8094 - val_loss: 1.1243 - val_acc: 0.6253\n",
      "Epoch 13/30\n",
      "213/213 [==============================] - 21s 100ms/step - loss: 0.6798 - acc: 0.8279 - val_loss: 1.1187 - val_acc: 0.6332\n",
      "Epoch 14/30\n",
      "213/213 [==============================] - 21s 100ms/step - loss: 0.6392 - acc: 0.8436 - val_loss: 1.1157 - val_acc: 0.6274\n",
      "Epoch 15/30\n",
      "213/213 [==============================] - 21s 100ms/step - loss: 0.6007 - acc: 0.8624 - val_loss: 1.1169 - val_acc: 0.6335\n",
      "Epoch 16/30\n",
      "213/213 [==============================] - 21s 100ms/step - loss: 0.5645 - acc: 0.8761 - val_loss: 1.1186 - val_acc: 0.6338\n",
      "Epoch 17/30\n",
      "213/213 [==============================] - 21s 100ms/step - loss: 0.5303 - acc: 0.8894 - val_loss: 1.1232 - val_acc: 0.6385\n",
      "Epoch 18/30\n",
      "213/213 [==============================] - 21s 100ms/step - loss: 0.4981 - acc: 0.9010 - val_loss: 1.1343 - val_acc: 0.6435\n",
      "Epoch 19/30\n",
      "213/213 [==============================] - 22s 101ms/step - loss: 0.4683 - acc: 0.9133 - val_loss: 1.1337 - val_acc: 0.6392\n",
      "Epoch 20/30\n",
      "213/213 [==============================] - 21s 101ms/step - loss: 0.4399 - acc: 0.9238 - val_loss: 1.1408 - val_acc: 0.6428\n",
      "Epoch 21/30\n",
      "213/213 [==============================] - 21s 100ms/step - loss: 0.4139 - acc: 0.9321 - val_loss: 1.1511 - val_acc: 0.6369\n",
      "Epoch 22/30\n",
      "213/213 [==============================] - 21s 100ms/step - loss: 0.3890 - acc: 0.9403 - val_loss: 1.1637 - val_acc: 0.6453\n",
      "Epoch 23/30\n",
      "213/213 [==============================] - 22s 101ms/step - loss: 0.3656 - acc: 0.9480 - val_loss: 1.1703 - val_acc: 0.6423\n",
      "Epoch 24/30\n",
      "213/213 [==============================] - 21s 100ms/step - loss: 0.3443 - acc: 0.9541 - val_loss: 1.1821 - val_acc: 0.6435\n",
      "Epoch 25/30\n",
      "213/213 [==============================] - 21s 101ms/step - loss: 0.3247 - acc: 0.9608 - val_loss: 1.1978 - val_acc: 0.6457\n",
      "Epoch 26/30\n",
      "213/213 [==============================] - 21s 100ms/step - loss: 0.3061 - acc: 0.9659 - val_loss: 1.2031 - val_acc: 0.6428\n",
      "Epoch 27/30\n",
      "213/213 [==============================] - 21s 100ms/step - loss: 0.2890 - acc: 0.9710 - val_loss: 1.2134 - val_acc: 0.6482\n",
      "Epoch 28/30\n",
      "213/213 [==============================] - 21s 99ms/step - loss: 0.2733 - acc: 0.9743 - val_loss: 1.2268 - val_acc: 0.6495\n",
      "Epoch 29/30\n",
      "213/213 [==============================] - 21s 100ms/step - loss: 0.2580 - acc: 0.9777 - val_loss: 1.2339 - val_acc: 0.6437\n",
      "Epoch 30/30\n",
      "213/213 [==============================] - 21s 100ms/step - loss: 0.2443 - acc: 0.9812 - val_loss: 1.2500 - val_acc: 0.6466\n"
     ]
    }
   ],
   "source": [
    "# Train the Model\n",
    "model.compile(optimizer=Adam(lr=1e-4),\n",
    "              loss='categorical_crossentropy',\n",
    "              metrics=['acc'])\n",
    "history = model.fit(X_train, y_train,\n",
    "                    epochs=30,\n",
    "                    batch_size=128,\n",
    "                    validation_split=0.2)"
   ]
  },
  {
   "cell_type": "code",
   "execution_count": null,
   "metadata": {
    "scrolled": true
   },
   "outputs": [],
   "source": [
    "# Plot the Training and Validation Accuracy & Loss Scores\n",
    "%matplotlib inline\n",
    "import matplotlib.pyplot as plt\n",
    "\n",
    "acc = history.history['acc']\n",
    "val_acc = history.history['val_acc']\n",
    "loss = history.history['loss']\n",
    "val_loss = history.history['val_loss']\n",
    "\n",
    "epochs = range(len(acc))\n",
    "\n",
    "plt.plot(epochs, acc, 'bo', label='Training acc')\n",
    "plt.plot(epochs, val_acc, 'b', label='Validation acc')\n",
    "plt.title('Training and validation accuracy')\n",
    "plt.legend()\n",
    "\n",
    "plt.figure()\n",
    "\n",
    "plt.plot(epochs, loss, 'bo', label='Training loss')\n",
    "plt.plot(epochs, val_loss, 'b', label='Validation loss')\n",
    "plt.title('Training and validation loss')\n",
    "plt.legend()\n",
    "\n",
    "plt.show()"
   ]
  },
  {
   "cell_type": "markdown",
   "metadata": {},
   "source": [
    "### Model #2.8 (Basic Model + LSTM + GLOVE.Twitter, batch size = 128, optimizer = SGD, regularizer implemented)"
   ]
  },
  {
   "cell_type": "code",
   "execution_count": 10,
   "metadata": {
    "scrolled": true
   },
   "outputs": [
    {
     "name": "stdout",
     "output_type": "stream",
     "text": [
      "Found 1193514 word vectors.\n"
     ]
    }
   ],
   "source": [
    "glove_dir = ''\n",
    "\n",
    "embeddings_index = {}\n",
    "f = open('glove.twitter.27B.100d.txt', encoding=\"utf8\")\n",
    "for line in f:\n",
    "    values = line.split()\n",
    "    word = values[0]\n",
    "    coefs = np.asarray(values[1:], dtype='float32')\n",
    "    embeddings_index[word] = coefs\n",
    "f.close()\n",
    "\n",
    "print('Found %s word vectors.' % len(embeddings_index))\n",
    "\n",
    "embedding_dim = 100\n",
    "\n",
    "embedding_matrix = np.zeros((max_words, embedding_dim))\n",
    "for word, i in word_index.items():\n",
    "    embedding_vector = embeddings_index.get(word)\n",
    "    if i < max_words:\n",
    "        if embedding_vector is not None:\n",
    "            # Words not found in embedding index will be all-zeros.\n",
    "            embedding_matrix[i] = embedding_vector"
   ]
  },
  {
   "cell_type": "code",
   "execution_count": 39,
   "metadata": {},
   "outputs": [
    {
     "name": "stdout",
     "output_type": "stream",
     "text": [
      "Model: \"sequential_10\"\n",
      "_________________________________________________________________\n",
      "Layer (type)                 Output Shape              Param #   \n",
      "=================================================================\n",
      "embedding_10 (Embedding)     (None, 34, 100)           10000000  \n",
      "_________________________________________________________________\n",
      "flatten_10 (Flatten)         (None, 3400)              0         \n",
      "_________________________________________________________________\n",
      "dense_20 (Dense)             (None, 200)               680200    \n",
      "_________________________________________________________________\n",
      "dense_21 (Dense)             (None, 200)               40200     \n",
      "_________________________________________________________________\n",
      "dropout_1 (Dropout)          (None, 200)               0         \n",
      "_________________________________________________________________\n",
      "dense_22 (Dense)             (None, 5)                 1005      \n",
      "=================================================================\n",
      "Total params: 10,721,405\n",
      "Trainable params: 10,721,405\n",
      "Non-trainable params: 0\n",
      "_________________________________________________________________\n",
      "Model: \"sequential_10\"\n",
      "_________________________________________________________________\n",
      "Layer (type)                 Output Shape              Param #   \n",
      "=================================================================\n",
      "embedding_10 (Embedding)     (None, 34, 100)           10000000  \n",
      "_________________________________________________________________\n",
      "flatten_10 (Flatten)         (None, 3400)              0         \n",
      "_________________________________________________________________\n",
      "dense_20 (Dense)             (None, 200)               680200    \n",
      "_________________________________________________________________\n",
      "dense_21 (Dense)             (None, 200)               40200     \n",
      "_________________________________________________________________\n",
      "dropout_1 (Dropout)          (None, 200)               0         \n",
      "_________________________________________________________________\n",
      "dense_22 (Dense)             (None, 5)                 1005      \n",
      "=================================================================\n",
      "Total params: 10,721,405\n",
      "Trainable params: 10,721,405\n",
      "Non-trainable params: 0\n",
      "_________________________________________________________________\n"
     ]
    }
   ],
   "source": [
    "# Build the Model\n",
    "from tensorflow.keras import regularizers\n",
    "\n",
    "model = Sequential()\n",
    "model.add(Embedding(max_words, embedding_dim, input_length=max_len))\n",
    "model.add(Flatten())\n",
    "model.add(Dense(200, activation='relu', kernel_regularizer=regularizers.l2(0.001)))\n",
    "model.add(Dense(200, activation='relu'))\n",
    "model.add(Dropout(0.5))\n",
    "model.add(Dense(5, activation='softmax'))\n",
    "model.summary()\n",
    "\n",
    "model.layers[0].set_weights([embedding_matrix])\n",
    "model.layers[0].trainable = True\n",
    "model.summary()"
   ]
  },
  {
   "cell_type": "code",
   "execution_count": 40,
   "metadata": {
    "scrolled": true
   },
   "outputs": [
    {
     "name": "stdout",
     "output_type": "stream",
     "text": [
      "Epoch 1/30\n",
      "213/213 [==============================] - 21s 99ms/step - loss: 1.3905 - acc: 0.5189 - val_loss: 1.1906 - val_acc: 0.5883\n",
      "Epoch 2/30\n",
      "213/213 [==============================] - 21s 98ms/step - loss: 1.0406 - acc: 0.6537 - val_loss: 1.1116 - val_acc: 0.6177\n",
      "Epoch 3/30\n",
      "213/213 [==============================] - 21s 99ms/step - loss: 0.7872 - acc: 0.7651 - val_loss: 1.1374 - val_acc: 0.6334\n",
      "Epoch 4/30\n",
      "213/213 [==============================] - 21s 99ms/step - loss: 0.5589 - acc: 0.8638 - val_loss: 1.3317 - val_acc: 0.6507\n",
      "Epoch 5/30\n",
      "213/213 [==============================] - 21s 98ms/step - loss: 0.3961 - acc: 0.9309 - val_loss: 1.5444 - val_acc: 0.6410\n",
      "Epoch 6/30\n",
      "213/213 [==============================] - 21s 98ms/step - loss: 0.3180 - acc: 0.9597 - val_loss: 1.7759 - val_acc: 0.6431\n",
      "Epoch 7/30\n",
      "213/213 [==============================] - 21s 99ms/step - loss: 0.2711 - acc: 0.9707 - val_loss: 1.8513 - val_acc: 0.6378\n",
      "Epoch 8/30\n",
      "213/213 [==============================] - 21s 98ms/step - loss: 0.2401 - acc: 0.9783 - val_loss: 2.0383 - val_acc: 0.6441\n",
      "Epoch 9/30\n",
      "213/213 [==============================] - 21s 99ms/step - loss: 0.2308 - acc: 0.9799 - val_loss: 2.2389 - val_acc: 0.6397\n",
      "Epoch 10/30\n",
      "213/213 [==============================] - 21s 98ms/step - loss: 0.2425 - acc: 0.9768 - val_loss: 2.1670 - val_acc: 0.6298\n",
      "Epoch 11/30\n",
      "213/213 [==============================] - 21s 99ms/step - loss: 0.2231 - acc: 0.9843 - val_loss: 2.2687 - val_acc: 0.6362\n",
      "Epoch 12/30\n",
      "213/213 [==============================] - 21s 98ms/step - loss: 0.1927 - acc: 0.9889 - val_loss: 2.4538 - val_acc: 0.6435\n",
      "Epoch 13/30\n",
      "213/213 [==============================] - 21s 98ms/step - loss: 0.1830 - acc: 0.9877 - val_loss: 2.4745 - val_acc: 0.6359\n",
      "Epoch 14/30\n",
      "213/213 [==============================] - 21s 99ms/step - loss: 0.1767 - acc: 0.9877 - val_loss: 2.4869 - val_acc: 0.6451\n",
      "Epoch 15/30\n",
      "213/213 [==============================] - 21s 99ms/step - loss: 0.1702 - acc: 0.9873 - val_loss: 2.4424 - val_acc: 0.6350\n",
      "Epoch 16/30\n",
      "213/213 [==============================] - 21s 99ms/step - loss: 0.1640 - acc: 0.9893 - val_loss: 2.4292 - val_acc: 0.6401\n",
      "Epoch 17/30\n",
      "213/213 [==============================] - 21s 99ms/step - loss: 0.1615 - acc: 0.9882 - val_loss: 2.4721 - val_acc: 0.6381\n",
      "Epoch 18/30\n",
      "213/213 [==============================] - 21s 99ms/step - loss: 0.1617 - acc: 0.9891 - val_loss: 2.5967 - val_acc: 0.6445\n",
      "Epoch 19/30\n",
      "213/213 [==============================] - 21s 99ms/step - loss: 0.1476 - acc: 0.9913 - val_loss: 2.6059 - val_acc: 0.6297\n",
      "Epoch 20/30\n",
      "213/213 [==============================] - 21s 99ms/step - loss: 0.1321 - acc: 0.9923 - val_loss: 2.7555 - val_acc: 0.6407\n",
      "Epoch 21/30\n",
      "213/213 [==============================] - 21s 100ms/step - loss: 0.1518 - acc: 0.9872 - val_loss: 2.5623 - val_acc: 0.6395\n",
      "Epoch 22/30\n",
      "213/213 [==============================] - 21s 99ms/step - loss: 0.1277 - acc: 0.9929 - val_loss: 2.5799 - val_acc: 0.6475\n",
      "Epoch 23/30\n",
      "213/213 [==============================] - 21s 100ms/step - loss: 0.1188 - acc: 0.9934 - val_loss: 2.6041 - val_acc: 0.6388\n",
      "Epoch 24/30\n",
      "213/213 [==============================] - 21s 99ms/step - loss: 0.1144 - acc: 0.9931 - val_loss: 2.6443 - val_acc: 0.6300\n",
      "Epoch 25/30\n",
      "213/213 [==============================] - 21s 99ms/step - loss: 0.1171 - acc: 0.9923 - val_loss: 2.7118 - val_acc: 0.6406\n",
      "Epoch 26/30\n",
      "213/213 [==============================] - 21s 99ms/step - loss: 0.1107 - acc: 0.9934 - val_loss: 2.9261 - val_acc: 0.6387\n",
      "Epoch 27/30\n",
      "213/213 [==============================] - 21s 100ms/step - loss: 0.1114 - acc: 0.9935 - val_loss: 2.7123 - val_acc: 0.6403\n",
      "Epoch 28/30\n",
      "213/213 [==============================] - 21s 100ms/step - loss: 0.0933 - acc: 0.9952 - val_loss: 2.8364 - val_acc: 0.6325\n",
      "Epoch 29/30\n",
      "213/213 [==============================] - 21s 99ms/step - loss: 0.0904 - acc: 0.9938 - val_loss: 2.8279 - val_acc: 0.6385\n",
      "Epoch 30/30\n",
      "213/213 [==============================] - 21s 99ms/step - loss: 0.1033 - acc: 0.9917 - val_loss: 2.8643 - val_acc: 0.6337\n"
     ]
    }
   ],
   "source": [
    "# Train the Model\n",
    "model.compile(optimizer=Adam(lr=1e-3),\n",
    "              loss='categorical_crossentropy',\n",
    "              metrics=['acc'])\n",
    "history = model.fit(X_train, y_train,\n",
    "                    epochs=30,\n",
    "                    batch_size=128,\n",
    "                    validation_split=0.2)"
   ]
  },
  {
   "cell_type": "code",
   "execution_count": 41,
   "metadata": {
    "scrolled": true
   },
   "outputs": [
    {
     "data": {
      "image/png": "[encoded data removed]",
      "text/plain": [
       "<Figure size 432x288 with 1 Axes>"
      ]
     },
     "metadata": {
      "needs_background": "light"
     },
     "output_type": "display_data"
    },
    {
     "data": {
      "image/png": "[encoded data removed]",
      "text/plain": [
       "<Figure size 432x288 with 1 Axes>"
      ]
     },
     "metadata": {
      "needs_background": "light"
     },
     "output_type": "display_data"
    }
   ],
   "source": [
    "# Plot the Training and Validation Accuracy & Loss Scores\n",
    "%matplotlib inline\n",
    "import matplotlib.pyplot as plt\n",
    "\n",
    "acc = history.history['acc']\n",
    "val_acc = history.history['val_acc']\n",
    "loss = history.history['loss']\n",
    "val_loss = history.history['val_loss']\n",
    "\n",
    "epochs = range(len(acc))\n",
    "\n",
    "plt.plot(epochs, acc, 'bo', label='Training acc')\n",
    "plt.plot(epochs, val_acc, 'b', label='Validation acc')\n",
    "plt.title('Training and validation accuracy')\n",
    "plt.legend()\n",
    "\n",
    "plt.figure()\n",
    "\n",
    "plt.plot(epochs, loss, 'bo', label='Training loss')\n",
    "plt.plot(epochs, val_loss, 'b', label='Validation loss')\n",
    "plt.title('Training and validation loss')\n",
    "plt.legend()\n",
    "\n",
    "plt.show()"
   ]
  },
  {
   "cell_type": "markdown",
   "metadata": {},
   "source": [
    "### Model #2.8 (Basic Model + LSTM + GLOVE.Twitter, batch size = 128, optimizer = SGD, regularizer implemented)"
   ]
  },
  {
   "cell_type": "code",
   "execution_count": 10,
   "metadata": {
    "scrolled": true
   },
   "outputs": [
    {
     "name": "stdout",
     "output_type": "stream",
     "text": [
      "Found 1193514 word vectors.\n"
     ]
    }
   ],
   "source": [
    "glove_dir = ''\n",
    "\n",
    "embeddings_index = {}\n",
    "f = open('glove.twitter.27B.100d.txt', encoding=\"utf8\")\n",
    "for line in f:\n",
    "    values = line.split()\n",
    "    word = values[0]\n",
    "    coefs = np.asarray(values[1:], dtype='float32')\n",
    "    embeddings_index[word] = coefs\n",
    "f.close()\n",
    "\n",
    "print('Found %s word vectors.' % len(embeddings_index))\n",
    "\n",
    "embedding_dim = 100\n",
    "\n",
    "embedding_matrix = np.zeros((max_words, embedding_dim))\n",
    "for word, i in word_index.items():\n",
    "    embedding_vector = embeddings_index.get(word)\n",
    "    if i < max_words:\n",
    "        if embedding_vector is not None:\n",
    "            # Words not found in embedding index will be all-zeros.\n",
    "            embedding_matrix[i] = embedding_vector"
   ]
  },
  {
   "cell_type": "code",
   "execution_count": null,
   "metadata": {},
   "outputs": [],
   "source": [
    "# Build the Model\n",
    "from tensorflow.keras import regularizers\n",
    "\n",
    "model = Sequential()\n",
    "model.add(Embedding(max_words, embedding_dim, input_length=max_len))\n",
    "model.add(Flatten())\n",
    "model.add(Dense(200, activation='relu', kernel_regularizer=regularizers.l2(0.001)))\n",
    "model.add(Dense(200, activation='relu'))\n",
    "model.add(Dropout(0.5))\n",
    "model.add(Dense(5, activation='softmax'))\n",
    "model.summary()\n",
    "\n",
    "model.layers[0].set_weights([embedding_matrix])\n",
    "model.layers[0].trainable = True\n",
    "model.summary()"
   ]
  },
  {
   "cell_type": "code",
   "execution_count": null,
   "metadata": {
    "scrolled": true
   },
   "outputs": [],
   "source": [
    "# Train the Model\n",
    "model.compile(optimizer=Adam(lr=1e-3),\n",
    "              loss='categorical_crossentropy',\n",
    "              metrics=['acc'])\n",
    "history = model.fit(X_train, y_train,\n",
    "                    epochs=30,\n",
    "                    batch_size=128,\n",
    "                    validation_split=0.2)"
   ]
  },
  {
   "cell_type": "code",
   "execution_count": null,
   "metadata": {
    "scrolled": true
   },
   "outputs": [],
   "source": [
    "# Plot the Training and Validation Accuracy & Loss Scores\n",
    "%matplotlib inline\n",
    "import matplotlib.pyplot as plt\n",
    "\n",
    "acc = history.history['acc']\n",
    "val_acc = history.history['val_acc']\n",
    "loss = history.history['loss']\n",
    "val_loss = history.history['val_loss']\n",
    "\n",
    "epochs = range(len(acc))\n",
    "\n",
    "plt.plot(epochs, acc, 'bo', label='Training acc')\n",
    "plt.plot(epochs, val_acc, 'b', label='Validation acc')\n",
    "plt.title('Training and validation accuracy')\n",
    "plt.legend()\n",
    "\n",
    "plt.figure()\n",
    "\n",
    "plt.plot(epochs, loss, 'bo', label='Training loss')\n",
    "plt.plot(epochs, val_loss, 'b', label='Validation loss')\n",
    "plt.title('Training and validation loss')\n",
    "plt.legend()\n",
    "\n",
    "plt.show()"
   ]
  },
  {
   "cell_type": "markdown",
   "metadata": {},
   "source": [
    "### Model #3 (Conv1D)"
   ]
  },
  {
   "cell_type": "code",
   "execution_count": 33,
   "metadata": {},
   "outputs": [
    {
     "name": "stdout",
     "output_type": "stream",
     "text": [
      "Found 54076 unique tokens.\n",
      "Shape of data tensor: (42546, 34)\n",
      "Shape of label tensor: (42546,)\n"
     ]
    }
   ],
   "source": [
    "# Convert the texts and labels into numeric tensors\n",
    "from tensorflow.keras.preprocessing.text import Tokenizer\n",
    "from tensorflow.keras.preprocessing.sequence import pad_sequences\n",
    "from tensorflow.keras.utils import to_categorical\n",
    "\n",
    "import numpy as np\n",
    "#training_samples = 20000 # We will be training on 20000 samples\n",
    "#validation_samples = 5000 # We will be validating on 5000 samples\n",
    "max_words = 10000 # We will only consider the top 10,000 words (vocabulary) in the dataset (dictionary)\n",
    "tokenizer = Tokenizer(num_words=max_words)\n",
    "# Updates internal vocabulary based on a list of texts.\n",
    "# In the case where texts contains lists, we assume each entry of the lists to be a token.\n",
    "tokenizer.fit_on_texts(texts)\n",
    "# Transforms each text in texts to a sequence of integers.\n",
    "# Only top num_words-1 most frequent words will be taken into account.\n",
    "# Only words known by the tokenizer will be taken into account.\n",
    "sequences = tokenizer.texts_to_sequences(texts)\n",
    "word_index = tokenizer.word_index\n",
    "print('Found %s unique tokens.' % len(word_index))\n",
    "data = pad_sequences(sequences, maxlen=max_len)\n",
    "labels = np.asarray(labels)\n",
    "X, y = data, to_categorical(labels)\n",
    "\n",
    "print('Shape of data tensor:', data.shape)\n",
    "print('Shape of label tensor:', labels.shape)\n"
   ]
  },
  {
   "cell_type": "markdown",
   "metadata": {},
   "source": [
    "### 1.3 Data Sampling"
   ]
  },
  {
   "cell_type": "code",
   "execution_count": 34,
   "metadata": {},
   "outputs": [],
   "source": [
    "# Split the X & y into train and test sets\n",
    "from sklearn.model_selection import train_test_split\n",
    "X_train, X_test, y_train, y_test = train_test_split(X, y, test_size=0.2, random_state = 4)\n",
    "# Refer the report Appendix\n",
    "# Please enter the random_state assigned to your group"
   ]
  },
  {
   "cell_type": "code",
   "execution_count": 38,
   "metadata": {},
   "outputs": [
    {
     "name": "stdout",
     "output_type": "stream",
     "text": [
      "Model: \"sequential_11\"\n",
      "_________________________________________________________________\n",
      "Layer (type)                 Output Shape              Param #   \n",
      "=================================================================\n",
      "embedding_8 (Embedding)      (None, 34, 128)           1280000   \n",
      "_________________________________________________________________\n",
      "conv1d_16 (Conv1D)           (None, 30, 32)            20512     \n",
      "_________________________________________________________________\n",
      "max_pooling1d_8 (MaxPooling1 (None, 6, 32)             0         \n",
      "_________________________________________________________________\n",
      "conv1d_17 (Conv1D)           (None, 2, 32)             5152      \n",
      "_________________________________________________________________\n",
      "global_max_pooling1d_4 (Glob (None, 32)                0         \n",
      "_________________________________________________________________\n",
      "dense_4 (Dense)              (None, 5)                 165       \n",
      "=================================================================\n",
      "Total params: 1,305,829\n",
      "Trainable params: 1,305,829\n",
      "Non-trainable params: 0\n",
      "_________________________________________________________________\n"
     ]
    }
   ],
   "source": [
    "from tensorflow.keras.models import Sequential\n",
    "from tensorflow.keras import layers\n",
    "from tensorflow.keras.optimizers import RMSprop\n",
    "\n",
    "model = Sequential()\n",
    "model.add(layers.Embedding(max_words, 128, input_length=max_len))\n",
    "model.add(layers.Conv1D(32, 5, activation='relu'))\n",
    "model.add(layers.MaxPooling1D(5))\n",
    "model.add(layers.Conv1D(32, 5, activation='relu'))\n",
    "model.add(layers.GlobalMaxPooling1D())\n",
    "model.add(layers.Dense(5, activation='softmax'))\n",
    "\n",
    "model.summary()\n",
    "\n"
   ]
  },
  {
   "cell_type": "code",
   "execution_count": 39,
   "metadata": {
    "scrolled": true
   },
   "outputs": [
    {
     "name": "stdout",
     "output_type": "stream",
     "text": [
      "Epoch 1/60\n",
      "213/213 [==============================] - 2s 11ms/step - loss: 1.4700 - acc: 0.4239 - val_loss: 1.4171 - val_acc: 0.4289\n",
      "Epoch 2/60\n",
      "213/213 [==============================] - 2s 10ms/step - loss: 1.3976 - acc: 0.4247 - val_loss: 1.3628 - val_acc: 0.4289\n",
      "Epoch 3/60\n",
      "213/213 [==============================] - 2s 10ms/step - loss: 1.3050 - acc: 0.4252 - val_loss: 1.2564 - val_acc: 0.4314\n",
      "Epoch 4/60\n",
      "213/213 [==============================] - 2s 10ms/step - loss: 1.2164 - acc: 0.4685 - val_loss: 1.1999 - val_acc: 0.4856\n",
      "Epoch 5/60\n",
      "213/213 [==============================] - 2s 10ms/step - loss: 1.1733 - acc: 0.5145 - val_loss: 1.1740 - val_acc: 0.5032\n",
      "Epoch 6/60\n",
      "213/213 [==============================] - 2s 10ms/step - loss: 1.1429 - acc: 0.5351 - val_loss: 1.1534 - val_acc: 0.5138\n",
      "Epoch 7/60\n",
      "213/213 [==============================] - 2s 10ms/step - loss: 1.1138 - acc: 0.5477 - val_loss: 1.1348 - val_acc: 0.5206\n",
      "Epoch 8/60\n",
      "213/213 [==============================] - 2s 10ms/step - loss: 1.0846 - acc: 0.5580 - val_loss: 1.1166 - val_acc: 0.5236\n",
      "Epoch 9/60\n",
      "213/213 [==============================] - 2s 10ms/step - loss: 1.0551 - acc: 0.5692 - val_loss: 1.1002 - val_acc: 0.5347\n",
      "Epoch 10/60\n",
      "213/213 [==============================] - 2s 11ms/step - loss: 1.0253 - acc: 0.5900 - val_loss: 1.0854 - val_acc: 0.5401\n",
      "Epoch 11/60\n",
      "213/213 [==============================] - 2s 10ms/step - loss: 0.9961 - acc: 0.6131 - val_loss: 1.0717 - val_acc: 0.5543\n",
      "Epoch 12/60\n",
      "213/213 [==============================] - 2s 10ms/step - loss: 0.9678 - acc: 0.6318 - val_loss: 1.0599 - val_acc: 0.5607\n",
      "Epoch 13/60\n",
      "213/213 [==============================] - 2s 10ms/step - loss: 0.9392 - acc: 0.6475 - val_loss: 1.0487 - val_acc: 0.5687\n",
      "Epoch 14/60\n",
      "213/213 [==============================] - 2s 10ms/step - loss: 0.9121 - acc: 0.6614 - val_loss: 1.0401 - val_acc: 0.5762\n",
      "Epoch 15/60\n",
      "213/213 [==============================] - 2s 10ms/step - loss: 0.8858 - acc: 0.6750 - val_loss: 1.0323 - val_acc: 0.5790\n",
      "Epoch 16/60\n",
      "213/213 [==============================] - 2s 10ms/step - loss: 0.8607 - acc: 0.6862 - val_loss: 1.0256 - val_acc: 0.5867\n",
      "Epoch 17/60\n",
      "213/213 [==============================] - 2s 10ms/step - loss: 0.8364 - acc: 0.6987 - val_loss: 1.0233 - val_acc: 0.5903\n",
      "Epoch 18/60\n",
      "213/213 [==============================] - 2s 10ms/step - loss: 0.8142 - acc: 0.7065 - val_loss: 1.0187 - val_acc: 0.5946\n",
      "Epoch 19/60\n",
      "213/213 [==============================] - 2s 10ms/step - loss: 0.7925 - acc: 0.7146 - val_loss: 1.0182 - val_acc: 0.5933\n",
      "Epoch 20/60\n",
      "213/213 [==============================] - 2s 10ms/step - loss: 0.7731 - acc: 0.7229 - val_loss: 1.0174 - val_acc: 0.5968\n",
      "Epoch 21/60\n",
      "213/213 [==============================] - 2s 10ms/step - loss: 0.7543 - acc: 0.7289 - val_loss: 1.0206 - val_acc: 0.6024\n",
      "Epoch 22/60\n",
      "213/213 [==============================] - 2s 10ms/step - loss: 0.7364 - acc: 0.7354 - val_loss: 1.0180 - val_acc: 0.6006\n",
      "Epoch 23/60\n",
      "213/213 [==============================] - 2s 10ms/step - loss: 0.7188 - acc: 0.7426 - val_loss: 1.0198 - val_acc: 0.6038\n",
      "Epoch 24/60\n",
      "213/213 [==============================] - 2s 10ms/step - loss: 0.7023 - acc: 0.7480 - val_loss: 1.0228 - val_acc: 0.6043\n",
      "Epoch 25/60\n",
      "213/213 [==============================] - 2s 10ms/step - loss: 0.6859 - acc: 0.7562 - val_loss: 1.0258 - val_acc: 0.6080\n",
      "Epoch 26/60\n",
      "213/213 [==============================] - 2s 10ms/step - loss: 0.6698 - acc: 0.7602 - val_loss: 1.0267 - val_acc: 0.6102\n",
      "Epoch 27/60\n",
      "213/213 [==============================] - 2s 11ms/step - loss: 0.6544 - acc: 0.7674 - val_loss: 1.0282 - val_acc: 0.6097\n",
      "Epoch 28/60\n",
      "213/213 [==============================] - 2s 10ms/step - loss: 0.6391 - acc: 0.7732 - val_loss: 1.0328 - val_acc: 0.6099\n",
      "Epoch 29/60\n",
      "213/213 [==============================] - 2s 10ms/step - loss: 0.6237 - acc: 0.7816 - val_loss: 1.0352 - val_acc: 0.6163\n",
      "Epoch 30/60\n",
      "213/213 [==============================] - 2s 10ms/step - loss: 0.6086 - acc: 0.7878 - val_loss: 1.0387 - val_acc: 0.6143\n",
      "Epoch 31/60\n",
      "213/213 [==============================] - 2s 10ms/step - loss: 0.5938 - acc: 0.7944 - val_loss: 1.0454 - val_acc: 0.6213\n",
      "Epoch 32/60\n",
      "213/213 [==============================] - 2s 10ms/step - loss: 0.5795 - acc: 0.8020 - val_loss: 1.0483 - val_acc: 0.6200\n",
      "Epoch 33/60\n",
      "213/213 [==============================] - 2s 10ms/step - loss: 0.5651 - acc: 0.8070 - val_loss: 1.0536 - val_acc: 0.6194\n",
      "Epoch 34/60\n",
      "213/213 [==============================] - 2s 10ms/step - loss: 0.5505 - acc: 0.8147 - val_loss: 1.0561 - val_acc: 0.6222\n",
      "Epoch 35/60\n",
      "213/213 [==============================] - 2s 10ms/step - loss: 0.5363 - acc: 0.8205 - val_loss: 1.0655 - val_acc: 0.6218\n",
      "Epoch 36/60\n",
      "213/213 [==============================] - 2s 10ms/step - loss: 0.5227 - acc: 0.8266 - val_loss: 1.0656 - val_acc: 0.6240\n",
      "Epoch 37/60\n",
      "213/213 [==============================] - 2s 10ms/step - loss: 0.5086 - acc: 0.8318 - val_loss: 1.0744 - val_acc: 0.6249\n",
      "Epoch 38/60\n",
      "213/213 [==============================] - 2s 10ms/step - loss: 0.4950 - acc: 0.8374 - val_loss: 1.0748 - val_acc: 0.6279\n",
      "Epoch 39/60\n",
      "213/213 [==============================] - 2s 10ms/step - loss: 0.4812 - acc: 0.8428 - val_loss: 1.0829 - val_acc: 0.6272\n",
      "Epoch 40/60\n",
      "213/213 [==============================] - 2s 10ms/step - loss: 0.4674 - acc: 0.8499 - val_loss: 1.0905 - val_acc: 0.6303\n",
      "Epoch 41/60\n",
      "213/213 [==============================] - 2s 10ms/step - loss: 0.4543 - acc: 0.8541 - val_loss: 1.0940 - val_acc: 0.6268\n",
      "Epoch 42/60\n",
      "213/213 [==============================] - 2s 10ms/step - loss: 0.4401 - acc: 0.8601 - val_loss: 1.0999 - val_acc: 0.6303\n",
      "Epoch 43/60\n",
      "213/213 [==============================] - 2s 10ms/step - loss: 0.4270 - acc: 0.8650 - val_loss: 1.1040 - val_acc: 0.6276\n",
      "Epoch 44/60\n",
      "213/213 [==============================] - 2s 10ms/step - loss: 0.4135 - acc: 0.8707 - val_loss: 1.1155 - val_acc: 0.6340\n",
      "Epoch 45/60\n",
      "213/213 [==============================] - 2s 10ms/step - loss: 0.4005 - acc: 0.8753 - val_loss: 1.1165 - val_acc: 0.6307\n",
      "Epoch 46/60\n",
      "213/213 [==============================] - 2s 10ms/step - loss: 0.3873 - acc: 0.8802 - val_loss: 1.1229 - val_acc: 0.6329\n",
      "Epoch 47/60\n",
      "213/213 [==============================] - 2s 10ms/step - loss: 0.3740 - acc: 0.8863 - val_loss: 1.1301 - val_acc: 0.6326\n",
      "Epoch 48/60\n",
      "213/213 [==============================] - 2s 10ms/step - loss: 0.3615 - acc: 0.8906 - val_loss: 1.1368 - val_acc: 0.6345\n",
      "Epoch 49/60\n",
      "213/213 [==============================] - 2s 10ms/step - loss: 0.3491 - acc: 0.8949 - val_loss: 1.1444 - val_acc: 0.6337\n",
      "Epoch 50/60\n",
      "213/213 [==============================] - 2s 10ms/step - loss: 0.3367 - acc: 0.8994 - val_loss: 1.1544 - val_acc: 0.6344\n",
      "Epoch 51/60\n",
      "213/213 [==============================] - 2s 10ms/step - loss: 0.3244 - acc: 0.9052 - val_loss: 1.1620 - val_acc: 0.6350\n",
      "Epoch 52/60\n",
      "213/213 [==============================] - 2s 10ms/step - loss: 0.3126 - acc: 0.9087 - val_loss: 1.1649 - val_acc: 0.6340\n",
      "Epoch 53/60\n",
      "213/213 [==============================] - 2s 10ms/step - loss: 0.3006 - acc: 0.9139 - val_loss: 1.1727 - val_acc: 0.6363\n",
      "Epoch 54/60\n",
      "213/213 [==============================] - 2s 10ms/step - loss: 0.2892 - acc: 0.9186 - val_loss: 1.1849 - val_acc: 0.6388\n",
      "Epoch 55/60\n",
      "213/213 [==============================] - 2s 10ms/step - loss: 0.2781 - acc: 0.9219 - val_loss: 1.1914 - val_acc: 0.6401\n",
      "Epoch 56/60\n",
      "213/213 [==============================] - 2s 10ms/step - loss: 0.2671 - acc: 0.9254 - val_loss: 1.1970 - val_acc: 0.6373\n",
      "Epoch 57/60\n",
      "213/213 [==============================] - 2s 10ms/step - loss: 0.2562 - acc: 0.9293 - val_loss: 1.2066 - val_acc: 0.6378\n",
      "Epoch 58/60\n",
      "213/213 [==============================] - 2s 11ms/step - loss: 0.2456 - acc: 0.9333 - val_loss: 1.2152 - val_acc: 0.6388\n",
      "Epoch 59/60\n",
      "213/213 [==============================] - 2s 10ms/step - loss: 0.2356 - acc: 0.9344 - val_loss: 1.2231 - val_acc: 0.6388\n",
      "Epoch 60/60\n",
      "213/213 [==============================] - 2s 10ms/step - loss: 0.2257 - acc: 0.9388 - val_loss: 1.2341 - val_acc: 0.6404\n"
     ]
    }
   ],
   "source": [
    "# Train the Model\n",
    "model.compile(optimizer=RMSprop(lr=1e-4),\n",
    "              loss='categorical_crossentropy',\n",
    "              metrics=['acc'])\n",
    "history = model.fit(X_train, y_train,\n",
    "                    epochs=60,\n",
    "                    batch_size=128,\n",
    "                    validation_split=0.2)"
   ]
  },
  {
   "cell_type": "code",
   "execution_count": 40,
   "metadata": {
    "scrolled": true
   },
   "outputs": [
    {
     "data": {
      "image/png": "[encoded data removed]",
      "text/plain": [
       "<Figure size 432x288 with 1 Axes>"
      ]
     },
     "metadata": {
      "needs_background": "light"
     },
     "output_type": "display_data"
    },
    {
     "data": {
      "image/png": "[encoded data removed]",
      "text/plain": [
       "<Figure size 432x288 with 1 Axes>"
      ]
     },
     "metadata": {
      "needs_background": "light"
     },
     "output_type": "display_data"
    }
   ],
   "source": [
    "# Plot the Training and Validation Accuracy & Loss Scores\n",
    "%matplotlib inline\n",
    "import matplotlib.pyplot as plt\n",
    "\n",
    "acc = history.history['acc']\n",
    "val_acc = history.history['val_acc']\n",
    "loss = history.history['loss']\n",
    "val_loss = history.history['val_loss']\n",
    "\n",
    "epochs = range(len(acc))\n",
    "\n",
    "plt.plot(epochs, acc, 'bo', label='Training acc')\n",
    "plt.plot(epochs, val_acc, 'b', label='Validation acc')\n",
    "plt.title('Training and validation accuracy')\n",
    "plt.legend()\n",
    "\n",
    "plt.figure()\n",
    "\n",
    "plt.plot(epochs, loss, 'bo', label='Training loss')\n",
    "plt.plot(epochs, val_loss, 'b', label='Validation loss')\n",
    "plt.title('Training and validation loss')\n",
    "plt.legend()\n",
    "\n",
    "plt.show()"
   ]
  },
  {
   "cell_type": "markdown",
   "metadata": {},
   "source": [
    "### Model #3 (Conv1D)"
   ]
  },
  {
   "cell_type": "code",
   "execution_count": 90,
   "metadata": {},
   "outputs": [
    {
     "name": "stdout",
     "output_type": "stream",
     "text": [
      "Model: \"sequential_38\"\n",
      "_________________________________________________________________\n",
      "Layer (type)                 Output Shape              Param #   \n",
      "=================================================================\n",
      "embedding_32 (Embedding)     (None, 34, 128)           1280000   \n",
      "_________________________________________________________________\n",
      "conv1d_78 (Conv1D)           (None, 30, 2048)          1312768   \n",
      "_________________________________________________________________\n",
      "max_pooling1d_52 (MaxPooling (None, 6, 2048)           0         \n",
      "_________________________________________________________________\n",
      "conv1d_79 (Conv1D)           (None, 2, 1024)           10486784  \n",
      "_________________________________________________________________\n",
      "global_max_pooling1d_23 (Glo (None, 1024)              0         \n",
      "_________________________________________________________________\n",
      "dense_23 (Dense)             (None, 5)                 5125      \n",
      "=================================================================\n",
      "Total params: 13,084,677\n",
      "Trainable params: 13,084,677\n",
      "Non-trainable params: 0\n",
      "_________________________________________________________________\n"
     ]
    }
   ],
   "source": [
    "from tensorflow.keras.models import Sequential\n",
    "from tensorflow.keras import layers\n",
    "from tensorflow.keras.optimizers import RMSprop\n",
    "\n",
    "model = Sequential()\n",
    "model.add(layers.Embedding(max_words, 128, input_length=max_len))\n",
    "model.add(layers.Conv1D(2048, 5, activation='relu'))\n",
    "model.add(layers.MaxPooling1D(5))\n",
    "model.add(layers.Conv1D(1024, 5, activation='relu'))\n",
    "model.add(layers.GlobalMaxPooling1D())\n",
    "model.add(layers.Dense(5, activation='softmax'))\n",
    "\n",
    "model.summary()\n"
   ]
  },
  {
   "cell_type": "code",
   "execution_count": 91,
   "metadata": {
    "scrolled": true
   },
   "outputs": [
    {
     "name": "stdout",
     "output_type": "stream",
     "text": [
      "Epoch 1/19\n",
      "213/213 [==============================] - 5s 22ms/step - loss: 1.2582 - acc: 0.4527 - val_loss: 1.1546 - val_acc: 0.4960\n",
      "Epoch 2/19\n",
      "213/213 [==============================] - 5s 22ms/step - loss: 1.0885 - acc: 0.5385 - val_loss: 1.0902 - val_acc: 0.5380\n",
      "Epoch 3/19\n",
      "213/213 [==============================] - 5s 21ms/step - loss: 0.9836 - acc: 0.6024 - val_loss: 1.0253 - val_acc: 0.5824\n",
      "Epoch 4/19\n",
      "213/213 [==============================] - 5s 22ms/step - loss: 0.8878 - acc: 0.6514 - val_loss: 0.9872 - val_acc: 0.6024\n",
      "Epoch 5/19\n",
      "213/213 [==============================] - 5s 21ms/step - loss: 0.8056 - acc: 0.6900 - val_loss: 0.9744 - val_acc: 0.6137\n",
      "Epoch 6/19\n",
      "213/213 [==============================] - 5s 22ms/step - loss: 0.7298 - acc: 0.7269 - val_loss: 0.9775 - val_acc: 0.6160\n",
      "Epoch 7/19\n",
      "213/213 [==============================] - 5s 21ms/step - loss: 0.6565 - acc: 0.7630 - val_loss: 0.9892 - val_acc: 0.6274\n",
      "Epoch 8/19\n",
      "213/213 [==============================] - 5s 22ms/step - loss: 0.5845 - acc: 0.7949 - val_loss: 0.9867 - val_acc: 0.6388\n",
      "Epoch 9/19\n",
      "213/213 [==============================] - 5s 21ms/step - loss: 0.5132 - acc: 0.8271 - val_loss: 0.9862 - val_acc: 0.6429\n",
      "Epoch 10/19\n",
      "213/213 [==============================] - 5s 22ms/step - loss: 0.4438 - acc: 0.8545 - val_loss: 0.9916 - val_acc: 0.6501\n",
      "Epoch 11/19\n",
      "213/213 [==============================] - 5s 21ms/step - loss: 0.3761 - acc: 0.8849 - val_loss: 1.0184 - val_acc: 0.6522\n",
      "Epoch 12/19\n",
      "213/213 [==============================] - 5s 21ms/step - loss: 0.3104 - acc: 0.9134 - val_loss: 1.0286 - val_acc: 0.6586\n",
      "Epoch 13/19\n",
      "213/213 [==============================] - 5s 22ms/step - loss: 0.2505 - acc: 0.9333 - val_loss: 1.0528 - val_acc: 0.6661\n",
      "Epoch 14/19\n",
      "213/213 [==============================] - 5s 21ms/step - loss: 0.1973 - acc: 0.9530 - val_loss: 1.0861 - val_acc: 0.6688\n",
      "Epoch 15/19\n",
      "213/213 [==============================] - 5s 22ms/step - loss: 0.1523 - acc: 0.9658 - val_loss: 1.1536 - val_acc: 0.6655\n",
      "Epoch 16/19\n",
      "213/213 [==============================] - 5s 21ms/step - loss: 0.1142 - acc: 0.9773 - val_loss: 1.2155 - val_acc: 0.6650\n",
      "Epoch 17/19\n",
      "213/213 [==============================] - 5s 22ms/step - loss: 0.0836 - acc: 0.9848 - val_loss: 1.2592 - val_acc: 0.6705\n",
      "Epoch 18/19\n",
      "213/213 [==============================] - 5s 21ms/step - loss: 0.0609 - acc: 0.9887 - val_loss: 1.3381 - val_acc: 0.6682\n",
      "Epoch 19/19\n",
      "213/213 [==============================] - 5s 22ms/step - loss: 0.0452 - acc: 0.9915 - val_loss: 1.4139 - val_acc: 0.6664\n"
     ]
    }
   ],
   "source": [
    "# Train the Model\n",
    "model.compile(optimizer=RMSprop(lr=1e-4),\n",
    "              loss='categorical_crossentropy',\n",
    "              metrics=['acc'])\n",
    "history = model.fit(X_train, y_train,\n",
    "                    epochs=19,\n",
    "                    batch_size=128,\n",
    "                    validation_split=0.2)"
   ]
  },
  {
   "cell_type": "code",
   "execution_count": 87,
   "metadata": {
    "scrolled": true
   },
   "outputs": [
    {
     "data": {
      "image/png": "[encoded data removed]",
      "text/plain": [
       "<Figure size 432x288 with 1 Axes>"
      ]
     },
     "metadata": {
      "needs_background": "light"
     },
     "output_type": "display_data"
    },
    {
     "data": {
      "image/png": "[encoded data removed]",
      "text/plain": [
       "<Figure size 432x288 with 1 Axes>"
      ]
     },
     "metadata": {
      "needs_background": "light"
     },
     "output_type": "display_data"
    }
   ],
   "source": [
    "# Plot the Training and Validation Accuracy & Loss Scores\n",
    "%matplotlib inline\n",
    "import matplotlib.pyplot as plt\n",
    "\n",
    "acc = history.history['acc']\n",
    "val_acc = history.history['val_acc']\n",
    "loss = history.history['loss']\n",
    "val_loss = history.history['val_loss']\n",
    "\n",
    "epochs = range(len(acc))\n",
    "\n",
    "plt.plot(epochs, acc, 'bo', label='Training acc')\n",
    "plt.plot(epochs, val_acc, 'b', label='Validation acc')\n",
    "plt.title('Training and validation accuracy')\n",
    "plt.legend()\n",
    "\n",
    "plt.figure()\n",
    "\n",
    "plt.plot(epochs, loss, 'bo', label='Training loss')\n",
    "plt.plot(epochs, val_loss, 'b', label='Validation loss')\n",
    "plt.title('Training and validation loss')\n",
    "plt.legend()\n",
    "\n",
    "plt.show()"
   ]
  },
  {
   "cell_type": "markdown",
   "metadata": {},
   "source": [
    "### Model #3 (Conv1D)"
   ]
  },
  {
   "cell_type": "code",
   "execution_count": 105,
   "metadata": {},
   "outputs": [
    {
     "name": "stdout",
     "output_type": "stream",
     "text": [
      "Model: \"sequential_45\"\n",
      "_________________________________________________________________\n",
      "Layer (type)                 Output Shape              Param #   \n",
      "=================================================================\n",
      "embedding_39 (Embedding)     (None, 34, 128)           1280000   \n",
      "_________________________________________________________________\n",
      "conv1d_92 (Conv1D)           (None, 30, 1024)          656384    \n",
      "_________________________________________________________________\n",
      "max_pooling1d_59 (MaxPooling (None, 6, 1024)           0         \n",
      "_________________________________________________________________\n",
      "dropout_6 (Dropout)          (None, 6, 1024)           0         \n",
      "_________________________________________________________________\n",
      "conv1d_93 (Conv1D)           (None, 2, 2048)           10487808  \n",
      "_________________________________________________________________\n",
      "global_max_pooling1d_30 (Glo (None, 2048)              0         \n",
      "_________________________________________________________________\n",
      "dense_30 (Dense)             (None, 5)                 10245     \n",
      "=================================================================\n",
      "Total params: 12,434,437\n",
      "Trainable params: 12,434,437\n",
      "Non-trainable params: 0\n",
      "_________________________________________________________________\n"
     ]
    }
   ],
   "source": [
    "from tensorflow.keras.models import Sequential\n",
    "from tensorflow.keras import layers\n",
    "from tensorflow.keras.optimizers import RMSprop\n",
    "\n",
    "model = Sequential()\n",
    "model.add(layers.Embedding(max_words, 128, input_length=max_len))\n",
    "model.add(layers.Conv1D(1024, 5, activation='relu'))\n",
    "model.add(layers.MaxPooling1D(5))\n",
    "model.add(Dropout(0.5))\n",
    "model.add(layers.Conv1D(2048, 5, activation='relu'))\n",
    "model.add(layers.GlobalMaxPooling1D())\n",
    "model.add(layers.Dense(5, activation='softmax'))\n",
    "\n",
    "model.summary()\n"
   ]
  },
  {
   "cell_type": "code",
   "execution_count": 106,
   "metadata": {
    "scrolled": true
   },
   "outputs": [
    {
     "name": "stdout",
     "output_type": "stream",
     "text": [
      "Epoch 1/60\n",
      "213/213 [==============================] - 4s 18ms/step - loss: 1.3079 - acc: 0.4411 - val_loss: 1.1606 - val_acc: 0.4960\n",
      "Epoch 2/60\n",
      "213/213 [==============================] - 4s 18ms/step - loss: 1.0801 - acc: 0.5433 - val_loss: 1.0688 - val_acc: 0.5520\n",
      "Epoch 3/60\n",
      "213/213 [==============================] - 4s 18ms/step - loss: 0.9398 - acc: 0.6202 - val_loss: 1.0088 - val_acc: 0.5928\n",
      "Epoch 4/60\n",
      "213/213 [==============================] - 4s 18ms/step - loss: 0.8183 - acc: 0.6819 - val_loss: 0.9972 - val_acc: 0.6127\n",
      "Epoch 5/60\n",
      "213/213 [==============================] - 4s 18ms/step - loss: 0.7084 - acc: 0.7298 - val_loss: 1.0179 - val_acc: 0.6159\n",
      "Epoch 6/60\n",
      "213/213 [==============================] - 4s 18ms/step - loss: 0.6131 - acc: 0.7740 - val_loss: 1.0564 - val_acc: 0.6228\n",
      "Epoch 7/60\n",
      "213/213 [==============================] - 4s 18ms/step - loss: 0.5290 - acc: 0.8105 - val_loss: 1.0963 - val_acc: 0.6225\n",
      "Epoch 8/60\n",
      "213/213 [==============================] - 4s 18ms/step - loss: 0.4542 - acc: 0.8437 - val_loss: 1.1480 - val_acc: 0.6360\n",
      "Epoch 9/60\n",
      "213/213 [==============================] - 4s 18ms/step - loss: 0.3863 - acc: 0.8689 - val_loss: 1.2357 - val_acc: 0.6356\n",
      "Epoch 10/60\n",
      "213/213 [==============================] - 4s 18ms/step - loss: 0.3282 - acc: 0.8928 - val_loss: 1.3044 - val_acc: 0.6390\n",
      "Epoch 11/60\n",
      "213/213 [==============================] - 4s 18ms/step - loss: 0.2735 - acc: 0.9115 - val_loss: 1.3874 - val_acc: 0.6406\n",
      "Epoch 12/60\n",
      "213/213 [==============================] - 4s 18ms/step - loss: 0.2326 - acc: 0.9271 - val_loss: 1.4834 - val_acc: 0.6404\n",
      "Epoch 13/60\n",
      "213/213 [==============================] - 4s 18ms/step - loss: 0.1964 - acc: 0.9379 - val_loss: 1.5789 - val_acc: 0.6379\n",
      "Epoch 14/60\n",
      "213/213 [==============================] - 4s 18ms/step - loss: 0.1657 - acc: 0.9495 - val_loss: 1.6711 - val_acc: 0.6441\n",
      "Epoch 15/60\n",
      "213/213 [==============================] - 4s 18ms/step - loss: 0.1398 - acc: 0.9606 - val_loss: 1.7932 - val_acc: 0.6460\n",
      "Epoch 16/60\n",
      "213/213 [==============================] - 4s 18ms/step - loss: 0.1171 - acc: 0.9678 - val_loss: 1.8731 - val_acc: 0.6423\n",
      "Epoch 17/60\n",
      "213/213 [==============================] - 4s 18ms/step - loss: 0.0972 - acc: 0.9729 - val_loss: 1.9738 - val_acc: 0.6485\n",
      "Epoch 18/60\n",
      "213/213 [==============================] - 4s 18ms/step - loss: 0.0840 - acc: 0.9775 - val_loss: 2.0463 - val_acc: 0.6467\n",
      "Epoch 19/60\n",
      "213/213 [==============================] - 4s 18ms/step - loss: 0.0720 - acc: 0.9821 - val_loss: 2.1680 - val_acc: 0.6438\n",
      "Epoch 20/60\n",
      "213/213 [==============================] - 4s 18ms/step - loss: 0.0643 - acc: 0.9830 - val_loss: 2.2530 - val_acc: 0.6486\n",
      "Epoch 21/60\n",
      "213/213 [==============================] - 4s 18ms/step - loss: 0.0566 - acc: 0.9856 - val_loss: 2.3231 - val_acc: 0.6495\n",
      "Epoch 22/60\n",
      "213/213 [==============================] - 4s 18ms/step - loss: 0.0498 - acc: 0.9869 - val_loss: 2.4387 - val_acc: 0.6486\n",
      "Epoch 23/60\n",
      "213/213 [==============================] - 4s 18ms/step - loss: 0.0447 - acc: 0.9890 - val_loss: 2.5070 - val_acc: 0.6472\n",
      "Epoch 24/60\n",
      "213/213 [==============================] - 4s 18ms/step - loss: 0.0403 - acc: 0.9896 - val_loss: 2.6022 - val_acc: 0.6478\n",
      "Epoch 25/60\n",
      "213/213 [==============================] - 4s 18ms/step - loss: 0.0349 - acc: 0.9911 - val_loss: 2.6600 - val_acc: 0.6472\n",
      "Epoch 26/60\n",
      "213/213 [==============================] - 4s 18ms/step - loss: 0.0310 - acc: 0.9927 - val_loss: 2.7477 - val_acc: 0.6432\n",
      "Epoch 27/60\n",
      "213/213 [==============================] - 4s 19ms/step - loss: 0.0305 - acc: 0.9919 - val_loss: 2.8256 - val_acc: 0.6459\n",
      "Epoch 28/60\n",
      "213/213 [==============================] - 4s 18ms/step - loss: 0.0274 - acc: 0.9932 - val_loss: 2.8797 - val_acc: 0.6434\n",
      "Epoch 29/60\n",
      "213/213 [==============================] - 4s 18ms/step - loss: 0.0281 - acc: 0.9928 - val_loss: 2.9591 - val_acc: 0.6451\n",
      "Epoch 30/60\n",
      "213/213 [==============================] - 4s 18ms/step - loss: 0.0246 - acc: 0.9939 - val_loss: 3.0192 - val_acc: 0.6451\n",
      "Epoch 31/60\n",
      "213/213 [==============================] - 4s 18ms/step - loss: 0.0208 - acc: 0.9950 - val_loss: 3.0987 - val_acc: 0.6470\n",
      "Epoch 32/60\n",
      "213/213 [==============================] - 4s 18ms/step - loss: 0.0218 - acc: 0.9938 - val_loss: 3.1358 - val_acc: 0.6441\n",
      "Epoch 33/60\n",
      "213/213 [==============================] - 4s 18ms/step - loss: 0.0196 - acc: 0.9954 - val_loss: 3.2258 - val_acc: 0.6491\n",
      "Epoch 34/60\n",
      "213/213 [==============================] - 4s 18ms/step - loss: 0.0198 - acc: 0.9949 - val_loss: 3.2811 - val_acc: 0.6451\n",
      "Epoch 35/60\n",
      "213/213 [==============================] - 4s 18ms/step - loss: 0.0184 - acc: 0.9956 - val_loss: 3.3168 - val_acc: 0.6448\n",
      "Epoch 36/60\n",
      "213/213 [==============================] - 4s 18ms/step - loss: 0.0178 - acc: 0.9956 - val_loss: 3.3739 - val_acc: 0.6466\n",
      "Epoch 37/60\n",
      "213/213 [==============================] - 4s 18ms/step - loss: 0.0166 - acc: 0.9958 - val_loss: 3.3914 - val_acc: 0.6454\n",
      "Epoch 38/60\n",
      "213/213 [==============================] - 4s 18ms/step - loss: 0.0159 - acc: 0.9958 - val_loss: 3.4622 - val_acc: 0.6462\n",
      "Epoch 39/60\n",
      "213/213 [==============================] - 4s 18ms/step - loss: 0.0160 - acc: 0.9954 - val_loss: 3.4612 - val_acc: 0.6445\n",
      "Epoch 40/60\n",
      "213/213 [==============================] - 4s 18ms/step - loss: 0.0151 - acc: 0.9956 - val_loss: 3.5430 - val_acc: 0.6485\n",
      "Epoch 41/60\n",
      "213/213 [==============================] - 4s 18ms/step - loss: 0.0147 - acc: 0.9955 - val_loss: 3.5936 - val_acc: 0.6425\n",
      "Epoch 42/60\n",
      "213/213 [==============================] - 4s 18ms/step - loss: 0.0135 - acc: 0.9963 - val_loss: 3.6453 - val_acc: 0.6463\n",
      "Epoch 43/60\n",
      "213/213 [==============================] - 4s 18ms/step - loss: 0.0136 - acc: 0.9963 - val_loss: 3.6844 - val_acc: 0.6472\n",
      "Epoch 44/60\n",
      "213/213 [==============================] - 4s 18ms/step - loss: 0.0132 - acc: 0.9964 - val_loss: 3.6808 - val_acc: 0.6454\n",
      "Epoch 45/60\n",
      "213/213 [==============================] - 4s 18ms/step - loss: 0.0127 - acc: 0.9962 - val_loss: 3.7163 - val_acc: 0.6456\n",
      "Epoch 46/60\n",
      "213/213 [==============================] - 4s 18ms/step - loss: 0.0142 - acc: 0.9953 - val_loss: 3.7652 - val_acc: 0.6444\n",
      "Epoch 47/60\n",
      "213/213 [==============================] - 4s 18ms/step - loss: 0.0143 - acc: 0.9957 - val_loss: 3.8138 - val_acc: 0.6447\n",
      "Epoch 48/60\n",
      "213/213 [==============================] - 4s 18ms/step - loss: 0.0111 - acc: 0.9965 - val_loss: 3.8401 - val_acc: 0.6445\n",
      "Epoch 49/60\n",
      "213/213 [==============================] - 4s 18ms/step - loss: 0.0103 - acc: 0.9968 - val_loss: 3.8875 - val_acc: 0.6467\n",
      "Epoch 50/60\n",
      "213/213 [==============================] - 4s 18ms/step - loss: 0.0108 - acc: 0.9966 - val_loss: 3.9021 - val_acc: 0.6469\n",
      "Epoch 51/60\n",
      "213/213 [==============================] - 4s 18ms/step - loss: 0.0105 - acc: 0.9968 - val_loss: 3.9588 - val_acc: 0.6481\n",
      "Epoch 52/60\n",
      "213/213 [==============================] - 4s 18ms/step - loss: 0.0106 - acc: 0.9968 - val_loss: 4.0500 - val_acc: 0.6501\n",
      "Epoch 53/60\n",
      "213/213 [==============================] - 4s 18ms/step - loss: 0.0120 - acc: 0.9962 - val_loss: 3.9999 - val_acc: 0.6488\n",
      "Epoch 54/60\n",
      "213/213 [==============================] - 4s 18ms/step - loss: 0.0095 - acc: 0.9968 - val_loss: 4.0322 - val_acc: 0.6484\n",
      "Epoch 55/60\n",
      "213/213 [==============================] - 4s 18ms/step - loss: 0.0107 - acc: 0.9967 - val_loss: 4.1047 - val_acc: 0.6467\n",
      "Epoch 56/60\n",
      "213/213 [==============================] - 4s 18ms/step - loss: 0.0097 - acc: 0.9969 - val_loss: 4.1017 - val_acc: 0.6442\n",
      "Epoch 57/60\n",
      "213/213 [==============================] - 4s 18ms/step - loss: 0.0107 - acc: 0.9967 - val_loss: 4.1092 - val_acc: 0.6469\n",
      "Epoch 58/60\n",
      "213/213 [==============================] - 4s 18ms/step - loss: 0.0096 - acc: 0.9970 - val_loss: 4.2083 - val_acc: 0.6476\n",
      "Epoch 59/60\n",
      "213/213 [==============================] - 4s 18ms/step - loss: 0.0108 - acc: 0.9967 - val_loss: 4.1653 - val_acc: 0.6457\n",
      "Epoch 60/60\n",
      "213/213 [==============================] - 4s 18ms/step - loss: 0.0091 - acc: 0.9970 - val_loss: 4.2119 - val_acc: 0.6448\n"
     ]
    }
   ],
   "source": [
    "# Train the Model\n",
    "model.compile(optimizer=Adam(lr=1e-4),\n",
    "              loss='categorical_crossentropy',\n",
    "              metrics=['acc'])\n",
    "history = model.fit(X_train, y_train,\n",
    "                    epochs=60,\n",
    "                    batch_size=128,\n",
    "                    validation_split=0.2)"
   ]
  },
  {
   "cell_type": "code",
   "execution_count": 107,
   "metadata": {
    "scrolled": true
   },
   "outputs": [
    {
     "data": {
      "image/png": "[encoded data removed]",
      "text/plain": [
       "<Figure size 432x288 with 1 Axes>"
      ]
     },
     "metadata": {
      "needs_background": "light"
     },
     "output_type": "display_data"
    },
    {
     "data": {
      "image/png": "[encoded data removed]",
      "text/plain": [
       "<Figure size 432x288 with 1 Axes>"
      ]
     },
     "metadata": {
      "needs_background": "light"
     },
     "output_type": "display_data"
    }
   ],
   "source": [
    "# Plot the Training and Validation Accuracy & Loss Scores\n",
    "%matplotlib inline\n",
    "import matplotlib.pyplot as plt\n",
    "\n",
    "acc = history.history['acc']\n",
    "val_acc = history.history['val_acc']\n",
    "loss = history.history['loss']\n",
    "val_loss = history.history['val_loss']\n",
    "\n",
    "epochs = range(len(acc))\n",
    "\n",
    "plt.plot(epochs, acc, 'bo', label='Training acc')\n",
    "plt.plot(epochs, val_acc, 'b', label='Validation acc')\n",
    "plt.title('Training and validation accuracy')\n",
    "plt.legend()\n",
    "\n",
    "plt.figure()\n",
    "\n",
    "plt.plot(epochs, loss, 'bo', label='Training loss')\n",
    "plt.plot(epochs, val_loss, 'b', label='Validation loss')\n",
    "plt.title('Training and validation loss')\n",
    "plt.legend()\n",
    "\n",
    "plt.show()"
   ]
  },
  {
   "cell_type": "markdown",
   "metadata": {},
   "source": [
    "## Step 3 – Evaluate the Model using Testing Data "
   ]
  },
  {
   "cell_type": "code",
   "execution_count": null,
   "metadata": {},
   "outputs": [],
   "source": [
    "# Model #1 (replicate where necessary for other models)\n",
    "model.load_weights('text_model_1.h5')\n"
   ]
  },
  {
   "cell_type": "code",
   "execution_count": null,
   "metadata": {},
   "outputs": [],
   "source": [
    "# Save the Best Model\n",
    "model.save('text_model_best.h5')"
   ]
  },
  {
   "cell_type": "markdown",
   "metadata": {},
   "source": [
    "## Step 4 – Use the Best Model to make prediction"
   ]
  },
  {
   "cell_type": "code",
   "execution_count": null,
   "metadata": {},
   "outputs": [],
   "source": [
    "model.load_weights('text_model_best.h5')"
   ]
  },
  {
   "cell_type": "code",
   "execution_count": null,
   "metadata": {},
   "outputs": [],
   "source": [
    "# takes the user input\n",
    "text_input = np.array([input()])"
   ]
  },
  {
   "cell_type": "code",
   "execution_count": null,
   "metadata": {},
   "outputs": [],
   "source": [
    "# convert the user input into numeric tensor\n"
   ]
  },
  {
   "cell_type": "code",
   "execution_count": null,
   "metadata": {},
   "outputs": [],
   "source": [
    "# show the model output using predict function\n"
   ]
  }
 ],
 "metadata": {
  "kernelspec": {
   "display_name": "Python 3",
   "language": "python",
   "name": "python3"
  },
  "language_info": {
   "codemirror_mode": {
    "name": "ipython",
    "version": 3
   },
   "file_extension": ".py",
   "mimetype": "text/x-python",
   "name": "python",
   "nbconvert_exporter": "python",
   "pygments_lexer": "ipython3",
   "version": "3.6.9"
  }
 },
 "nbformat": 4,
 "nbformat_minor": 2
}
