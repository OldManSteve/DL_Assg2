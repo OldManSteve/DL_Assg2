{
  "nbformat": 4,
  "nbformat_minor": 0,
  "metadata": {
    "kernelspec": {
      "display_name": "Python 3",
      "language": "python",
      "name": "python3"
    },
    "language_info": {
      "codemirror_mode": {
        "name": "ipython",
        "version": 3
      },
      "file_extension": ".py",
      "mimetype": "text/x-python",
      "name": "python",
      "nbconvert_exporter": "python",
      "pygments_lexer": "ipython3",
      "version": "3.7.4"
    },
    "colab": {
      "name": "Assignment_2_p1_02.ipynb",
      "provenance": [],
      "collapsed_sections": [
        "2_4dPW7Ps4v1",
        "_75tTLTaYa9r",
        "bpxXkmWVgt4A",
        "s7VV0r5ln8d5",
        "eiCrjm0Nww6K",
        "LK6AMqzGsqDn",
        "HCi3mLRFwPvU",
        "phqVAjT9CrY-",
        "AQuKmkTWnLAb",
        "MLfU13bopx3P",
        "zWh2cZWo8oJS",
        "zjyAaz8lQo8W",
        "51TfvYu-SnPa",
        "oXP6X3bxNf7z",
        "NjMTW3oydyBK",
        "ap2r3-oYGrXG",
        "QGatKOtJvzpc",
        "lHbTw66RG9Mv",
        "cw4QeWsQw7pF",
        "EJ7_y8B1w0Ql"
      ]
    },
    "accelerator": "GPU"
  },
  "cells": [
    {
      "cell_type": "markdown",
      "metadata": {
        "id": "eMZtRFMjs4vn",
        "colab_type": "text"
      },
      "source": [
        "<table class=\"table table-bordered\">\n",
        "    <tr>\n",
        "        <th style=\"text-align:center; width:25%\"><img src='https://www.np.edu.sg/PublishingImages/Pages/default/odp/ICT.jpg' style=\"width: 250px; height: 125px; \"></th>\n",
        "        <th style=\"text-align:center;\"><h1>Deep Learning</h1><h2>Assignment 2 - Sentiment Analysis Model (Problem 1)</h2><h3>AY2020/21 Semester</h3></th>\n",
        "    </tr>\n",
        "</table>"
      ]
    },
    {
      "cell_type": "code",
      "metadata": {
        "id": "kVXPe4Xes4vo",
        "colab_type": "code",
        "colab": {
          "base_uri": "https://localhost:8080/",
          "height": 34
        },
        "outputId": "6e2b067c-bdcb-4bda-ee0d-ae36c936fae2"
      },
      "source": [
        "# Import the Required Packages\n",
        "from tensorflow import keras\n",
        "print('keras: ', keras.__version__)\n",
        "from IPython.core.display import display, HTML\n",
        "display(HTML(\"<style>.container { width:95% !important; }</style>\"))"
      ],
      "execution_count": null,
      "outputs": [
        {
          "output_type": "stream",
          "text": [
            "keras:  2.4.0\n"
          ],
          "name": "stdout"
        },
        {
          "output_type": "display_data",
          "data": {
            "text/html": [
              "<style>.container { width:95% !important; }</style>"
            ],
            "text/plain": [
              "<IPython.core.display.HTML object>"
            ]
          },
          "metadata": {
            "tags": []
          }
        }
      ]
    },
    {
      "cell_type": "markdown",
      "metadata": {
        "id": "m4oJIdijtkeY",
        "colab_type": "text"
      },
      "source": [
        "### GitHub + Colab"
      ]
    },
    {
      "cell_type": "code",
      "metadata": {
        "id": "qz90Yb82trAa",
        "colab_type": "code",
        "colab": {
          "base_uri": "https://localhost:8080/",
          "height": 119
        },
        "outputId": "ad2e0f78-a5c8-4a0f-e9df-32589ae8fc88"
      },
      "source": [
        "#run for GitHub Colab\n",
        "!git clone \"https://github.com/OldManSteve/DL_Assg2.git\"\n"
      ],
      "execution_count": null,
      "outputs": [
        {
          "output_type": "stream",
          "text": [
            "Cloning into 'DL_Assg2'...\n",
            "remote: Enumerating objects: 51, done.\u001b[K\n",
            "remote: Counting objects: 100% (51/51), done.\u001b[K\n",
            "remote: Compressing objects: 100% (41/41), done.\u001b[K\n",
            "remote: Total 51 (delta 15), reused 42 (delta 9), pack-reused 0\u001b[K\n",
            "Unpacking objects: 100% (51/51), done.\n"
          ],
          "name": "stdout"
        }
      ]
    },
    {
      "cell_type": "code",
      "metadata": {
        "id": "jxwhU0xHtsdK",
        "colab_type": "code",
        "colab": {}
      },
      "source": [
        "#GitHub Colab directory\n",
        "# Directories for files\n",
        "map_file = '/content/DL_Assg2/mapping.csv'\n",
        "dataset_file = '/content/DL_Assg2/dataset.csv'"
      ],
      "execution_count": null,
      "outputs": []
    },
    {
      "cell_type": "code",
      "metadata": {
        "id": "DUg9FIRJ2vOm",
        "colab_type": "code",
        "colab": {
          "base_uri": "https://localhost:8080/",
          "height": 122
        },
        "outputId": "cf161fe5-8b32-421c-c641-c1df59f06b67"
      },
      "source": [
        "#Google drive model upload/save storage\n",
        "from google.colab import drive\n",
        "drive.mount('/content/drive')\n",
        "\n",
        "model_path='/content/drive/My Drive/Colab Notebooks/DL_Assg2_Models/'"
      ],
      "execution_count": null,
      "outputs": [
        {
          "output_type": "stream",
          "text": [
            "Go to this URL in a browser: https://accounts.google.com/o/oauth2/auth?client_id=947318989803-6bn6qk8qdgf4n4g3pfee6491hc0brc4i.apps.googleusercontent.com&redirect_uri=urn%3aietf%3awg%3aoauth%3a2.0%3aoob&scope=email%20https%3a%2f%2fwww.googleapis.com%2fauth%2fdocs.test%20https%3a%2f%2fwww.googleapis.com%2fauth%2fdrive%20https%3a%2f%2fwww.googleapis.com%2fauth%2fdrive.photos.readonly%20https%3a%2f%2fwww.googleapis.com%2fauth%2fpeopleapi.readonly&response_type=code\n",
            "\n",
            "Enter your authorization code:\n",
            "··········\n",
            "Mounted at /content/drive\n"
          ],
          "name": "stdout"
        }
      ]
    },
    {
      "cell_type": "markdown",
      "metadata": {
        "id": "O-p9KGOCs4vq",
        "colab_type": "text"
      },
      "source": [
        "## Step 1 – Data Loading and Processing"
      ]
    },
    {
      "cell_type": "markdown",
      "metadata": {
        "id": "gJHdIaeas4vr",
        "colab_type": "text"
      },
      "source": [
        "### 1.1 Data Loading"
      ]
    },
    {
      "cell_type": "code",
      "metadata": {
        "id": "tufpml9ss4vr",
        "colab_type": "code",
        "colab": {
          "base_uri": "https://localhost:8080/",
          "height": 51
        },
        "outputId": "d92cd8e0-a8ea-492b-df6a-cefdf7156e25"
      },
      "source": [
        "# Load the emoji_dictionary\n",
        "import pandas as pd\n",
        "df = pd.read_csv(map_file, delimiter=',')\n",
        "emoji_dictionary = df.loc[:,'emoticons'].to_dict()\n",
        "print(emoji_dictionary)\n",
        "print('A total of: ', len(emoji_dictionary), 'Emoji Icons')"
      ],
      "execution_count": null,
      "outputs": [
        {
          "output_type": "stream",
          "text": [
            "{0: '😍', 1: '😂', 2: '📷', 3: '🔥', 4: '❤'}\n",
            "A total of:  5 Emoji Icons\n"
          ],
          "name": "stdout"
        }
      ]
    },
    {
      "cell_type": "code",
      "metadata": {
        "id": "FYlJhoVIs4vt",
        "colab_type": "code",
        "colab": {
          "base_uri": "https://localhost:8080/",
          "height": 204
        },
        "outputId": "5aae8730-4860-44eb-a923-601d9ed94d9b"
      },
      "source": [
        "# load the dataset\n",
        "dat = pd.read_csv(dataset_file, delimiter=',')\n",
        "texts = dat.loc[:,'TEXT'].values \n",
        "labels = dat.loc[:,'Label'].values\n",
        "\n",
        "dat.head()"
      ],
      "execution_count": null,
      "outputs": [
        {
          "output_type": "execute_result",
          "data": {
            "text/html": [
              "<div>\n",
              "<style scoped>\n",
              "    .dataframe tbody tr th:only-of-type {\n",
              "        vertical-align: middle;\n",
              "    }\n",
              "\n",
              "    .dataframe tbody tr th {\n",
              "        vertical-align: top;\n",
              "    }\n",
              "\n",
              "    .dataframe thead th {\n",
              "        text-align: right;\n",
              "    }\n",
              "</style>\n",
              "<table border=\"1\" class=\"dataframe\">\n",
              "  <thead>\n",
              "    <tr style=\"text-align: right;\">\n",
              "      <th></th>\n",
              "      <th>TEXT</th>\n",
              "      <th>Label</th>\n",
              "    </tr>\n",
              "  </thead>\n",
              "  <tbody>\n",
              "    <tr>\n",
              "      <th>0</th>\n",
              "      <td>Been friends since 7th grade. Look at us now w...</td>\n",
              "      <td>0</td>\n",
              "    </tr>\n",
              "    <tr>\n",
              "      <th>1</th>\n",
              "      <td>This is what it looks like when someone loves ...</td>\n",
              "      <td>1</td>\n",
              "    </tr>\n",
              "    <tr>\n",
              "      <th>2</th>\n",
              "      <td>RT @user this white family was invited to a Bl...</td>\n",
              "      <td>1</td>\n",
              "    </tr>\n",
              "    <tr>\n",
              "      <th>3</th>\n",
              "      <td>Westenders @user #LAZzNation @ Weston, Toronto\\n</td>\n",
              "      <td>2</td>\n",
              "    </tr>\n",
              "    <tr>\n",
              "      <th>4</th>\n",
              "      <td>Maxwell heads home @ Summa Akron City Hospital\\n</td>\n",
              "      <td>0</td>\n",
              "    </tr>\n",
              "  </tbody>\n",
              "</table>\n",
              "</div>"
            ],
            "text/plain": [
              "                                                TEXT  Label\n",
              "0  Been friends since 7th grade. Look at us now w...      0\n",
              "1  This is what it looks like when someone loves ...      1\n",
              "2  RT @user this white family was invited to a Bl...      1\n",
              "3   Westenders @user #LAZzNation @ Weston, Toronto\\n      2\n",
              "4   Maxwell heads home @ Summa Akron City Hospital\\n      0"
            ]
          },
          "metadata": {
            "tags": []
          },
          "execution_count": 6
        }
      ]
    },
    {
      "cell_type": "code",
      "metadata": {
        "id": "goRqSfs_s4vv",
        "colab_type": "code",
        "colab": {
          "base_uri": "https://localhost:8080/",
          "height": 34
        },
        "outputId": "27538116-f676-4d46-a525-613551462d10"
      },
      "source": [
        "# Check the maximum length of texts\n",
        "max_len = -1\n",
        "for example in texts:\n",
        "    if len(example.split()) > max_len:\n",
        "        max_len = len(example.split())\n",
        "        \n",
        "print('the maximum length of the text inputs is ', max_len)"
      ],
      "execution_count": null,
      "outputs": [
        {
          "output_type": "stream",
          "text": [
            "the maximum length of the text inputs is  34\n"
          ],
          "name": "stdout"
        }
      ]
    },
    {
      "cell_type": "markdown",
      "metadata": {
        "id": "X7ozu82Ps4vw",
        "colab_type": "text"
      },
      "source": [
        "### 1.2 Data Processing\n"
      ]
    },
    {
      "cell_type": "code",
      "metadata": {
        "id": "WoK8gCOts4vx",
        "colab_type": "code",
        "colab": {
          "base_uri": "https://localhost:8080/",
          "height": 68
        },
        "outputId": "ed4576cc-129b-4e2a-af34-8097b95c386c"
      },
      "source": [
        "# Convert the texts and labels into numeric tensors\n",
        "from tensorflow.keras.preprocessing.text import Tokenizer\n",
        "from tensorflow.keras.preprocessing.sequence import pad_sequences\n",
        "import numpy as np\n",
        "\n",
        "max_words = 10000  # We will only consider the top 10,000 words (vocabulary) in the dataset (dictionary)\n",
        "\n",
        "tokenizer = Tokenizer(num_words=max_words)\n",
        "tokenizer.fit_on_texts(texts)\n",
        "sequences = tokenizer.texts_to_sequences(texts)\n",
        "\n",
        "word_index = tokenizer.word_index\n",
        "print('Found %s unique tokens.' % len(word_index))\n",
        "\n",
        "def vectorize_sequences(sequences, dimension=5):\n",
        "    # Create an all-zero matrix of shape (len(sequences), dimension)\n",
        "    results = np.zeros((len(sequences), dimension))\n",
        "    for i, sequence in enumerate(sequences):\n",
        "        results[i, sequence] = 1.  # set specific indices of results[i] to 1s\n",
        "    return results\n",
        "\n",
        "X = pad_sequences(sequences, maxlen=max_len)\n",
        "y = vectorize_sequences(labels)\n",
        "\n",
        "print('Shape of data tensor:', X.shape)\n",
        "print('Shape of label tensor:', y.shape)\n"
      ],
      "execution_count": null,
      "outputs": [
        {
          "output_type": "stream",
          "text": [
            "Found 54076 unique tokens.\n",
            "Shape of data tensor: (42546, 34)\n",
            "Shape of label tensor: (42546, 5)\n"
          ],
          "name": "stdout"
        }
      ]
    },
    {
      "cell_type": "markdown",
      "metadata": {
        "id": "8MxxTqiXs4vz",
        "colab_type": "text"
      },
      "source": [
        "### 1.3 Data Sampling"
      ]
    },
    {
      "cell_type": "code",
      "metadata": {
        "id": "t70dpAt6s4vz",
        "colab_type": "code",
        "colab": {}
      },
      "source": [
        "# Split the X & y into train and test sets\n",
        "from sklearn.model_selection import train_test_split\n",
        "x_train, X_test, y_train, y_test = train_test_split(X, y, test_size=0.2, random_state = 13)\n",
        "# Refer the report Appendix\n",
        "# Please enter the random_state assigned to your group"
      ],
      "execution_count": null,
      "outputs": []
    },
    {
      "cell_type": "markdown",
      "metadata": {
        "id": "PIF8Pojas4v1",
        "colab_type": "text"
      },
      "source": [
        "## Step 2 – Develop a Sentiment Analysis Model"
      ]
    },
    {
      "cell_type": "code",
      "metadata": {
        "id": "pTLfqmWiGXqB",
        "colab_type": "code",
        "colab": {}
      },
      "source": [
        "import tensorflow as tf\n",
        "tf.keras.backend.clear_session()"
      ],
      "execution_count": null,
      "outputs": []
    },
    {
      "cell_type": "markdown",
      "metadata": {
        "id": "2_4dPW7Ps4v1",
        "colab_type": "text"
      },
      "source": [
        "### Model #1 (Replicate as necessary for other models)"
      ]
    },
    {
      "cell_type": "code",
      "metadata": {
        "id": "b3NuUXQws4v2",
        "colab_type": "code",
        "colab": {
          "base_uri": "https://localhost:8080/",
          "height": 357
        },
        "outputId": "3d78109d-e9da-4095-c6a3-1dc81c0ae533"
      },
      "source": [
        "# Build the Model\n",
        "from tensorflow.keras.models import Sequential\n",
        "from tensorflow.keras import layers\n",
        "from tensorflow.keras.optimizers import RMSprop\n",
        "\n",
        "model = Sequential()\n",
        "model.add(layers.Embedding(max_words, 8, input_length=max_len))\n",
        "model.add(layers.LSTM(128, return_sequences=True))\n",
        "model.add(layers.LSTM(128))\n",
        "model.add(layers.Flatten())\n",
        "model.add(layers.Dense(32, activation='relu'))\n",
        "model.add(layers.Dense(5, activation='softmax'))\n",
        "model.summary()"
      ],
      "execution_count": null,
      "outputs": [
        {
          "output_type": "stream",
          "text": [
            "Model: \"sequential\"\n",
            "_________________________________________________________________\n",
            "Layer (type)                 Output Shape              Param #   \n",
            "=================================================================\n",
            "embedding (Embedding)        (None, 34, 8)             80000     \n",
            "_________________________________________________________________\n",
            "lstm (LSTM)                  (None, 34, 128)           70144     \n",
            "_________________________________________________________________\n",
            "lstm_1 (LSTM)                (None, 128)               131584    \n",
            "_________________________________________________________________\n",
            "flatten (Flatten)            (None, 128)               0         \n",
            "_________________________________________________________________\n",
            "dense (Dense)                (None, 32)                4128      \n",
            "_________________________________________________________________\n",
            "dense_1 (Dense)              (None, 5)                 165       \n",
            "=================================================================\n",
            "Total params: 286,021\n",
            "Trainable params: 286,021\n",
            "Non-trainable params: 0\n",
            "_________________________________________________________________\n"
          ],
          "name": "stdout"
        }
      ]
    },
    {
      "cell_type": "code",
      "metadata": {
        "id": "86Liq1nqs4v4",
        "colab_type": "code",
        "colab": {
          "base_uri": "https://localhost:8080/",
          "height": 357
        },
        "outputId": "01bba0c4-bd54-465e-f171-fd740bf9f79c"
      },
      "source": [
        "# Train the Model\n",
        "\n",
        "model.compile(optimizer=RMSprop(lr=1e-4),\n",
        "              loss='categorical_crossentropy',\n",
        "              metrics=['acc'])\n",
        "history = model.fit(x_train, y_train,\n",
        "                    epochs=10,\n",
        "                    batch_size=2,\n",
        "                    validation_split=0.2)"
      ],
      "execution_count": null,
      "outputs": [
        {
          "output_type": "stream",
          "text": [
            "Epoch 1/10\n",
            "13614/13614 [==============================] - 97s 7ms/step - loss: 1.3072 - acc: 0.4305 - val_loss: 1.2068 - val_acc: 0.4556\n",
            "Epoch 2/10\n",
            "13614/13614 [==============================] - 98s 7ms/step - loss: 1.2113 - acc: 0.4476 - val_loss: 1.1958 - val_acc: 0.4642\n",
            "Epoch 3/10\n",
            "13614/13614 [==============================] - 97s 7ms/step - loss: 1.2034 - acc: 0.4558 - val_loss: 1.2194 - val_acc: 0.4573\n",
            "Epoch 4/10\n",
            "13614/13614 [==============================] - 97s 7ms/step - loss: 1.1958 - acc: 0.4597 - val_loss: 1.1853 - val_acc: 0.4687\n",
            "Epoch 5/10\n",
            "13614/13614 [==============================] - 98s 7ms/step - loss: 1.1903 - acc: 0.4635 - val_loss: 1.1788 - val_acc: 0.4680\n",
            "Epoch 6/10\n",
            "13614/13614 [==============================] - 97s 7ms/step - loss: 1.1894 - acc: 0.4630 - val_loss: 1.2080 - val_acc: 0.4736\n",
            "Epoch 7/10\n",
            "13614/13614 [==============================] - 97s 7ms/step - loss: 1.1898 - acc: 0.4635 - val_loss: 1.1848 - val_acc: 0.4778\n",
            "Epoch 8/10\n",
            "13614/13614 [==============================] - 98s 7ms/step - loss: 1.1881 - acc: 0.4675 - val_loss: 1.1883 - val_acc: 0.4783\n",
            "Epoch 9/10\n",
            "13614/13614 [==============================] - 97s 7ms/step - loss: 1.1900 - acc: 0.4653 - val_loss: 1.1870 - val_acc: 0.4655\n",
            "Epoch 10/10\n",
            "13614/13614 [==============================] - 97s 7ms/step - loss: 1.1899 - acc: 0.4683 - val_loss: 1.1781 - val_acc: 0.4697\n"
          ],
          "name": "stdout"
        }
      ]
    },
    {
      "cell_type": "code",
      "metadata": {
        "id": "78DirwgNs4v5",
        "colab_type": "code",
        "colab": {
          "base_uri": "https://localhost:8080/",
          "height": 545
        },
        "outputId": "470863d2-c200-42ac-895c-3e6ac9418599"
      },
      "source": [
        "# Plot the Training and Validation Accuracy & Loss Scores\n",
        "import matplotlib.pyplot as plt\n",
        "%matplotlib inline\n",
        "\n",
        "acc = history.history['acc']\n",
        "val_acc = history.history['val_acc']\n",
        "loss = history.history['loss']\n",
        "val_loss = history.history['val_loss']\n",
        "\n",
        "epochs = range(len(acc))\n",
        "\n",
        "plt.plot(epochs, acc, 'bo', label='Training acc')\n",
        "plt.plot(epochs, val_acc, 'b', label='Validation acc')\n",
        "plt.title('Training and validation accuracy')\n",
        "plt.legend()\n",
        "\n",
        "plt.figure()\n",
        "\n",
        "plt.plot(epochs, loss, 'bo', label='Training loss')\n",
        "plt.plot(epochs, val_loss, 'b', label='Validation loss')\n",
        "plt.title('Training and validation loss')\n",
        "plt.legend()\n",
        "\n",
        "plt.show()"
      ],
      "execution_count": null,
      "outputs": [
        {
          "output_type": "display_data",
          "data": {
            "image/png": "[encoded data removed]",
            "text/plain": [
              "<Figure size 432x288 with 1 Axes>"
            ]
          },
          "metadata": {
            "tags": [],
            "needs_background": "light"
          }
        },
        {
          "output_type": "display_data",
          "data": {
            "image/png": "[encoded data removed]",
            "text/plain": [
              "<Figure size 432x288 with 1 Axes>"
            ]
          },
          "metadata": {
            "tags": [],
            "needs_background": "light"
          }
        }
      ]
    },
    {
      "cell_type": "code",
      "metadata": {
        "id": "yposyvd5s4v7",
        "colab_type": "code",
        "colab": {}
      },
      "source": [
        "# Save the Model\n",
        "model.save(model_path+'text_model_1.h5')\n",
        "model.save('text_model_1.h5')"
      ],
      "execution_count": null,
      "outputs": []
    },
    {
      "cell_type": "code",
      "metadata": {
        "colab_type": "code",
        "id": "1rm5tjlt0-Sq",
        "colab": {}
      },
      "source": [
        "import tensorflow as tf\n",
        "tf.keras.backend.clear_session()"
      ],
      "execution_count": null,
      "outputs": []
    },
    {
      "cell_type": "markdown",
      "metadata": {
        "colab_type": "text",
        "id": "_75tTLTaYa9r"
      },
      "source": [
        "### Model #2 (Replicate as necessary for other models)"
      ]
    },
    {
      "cell_type": "code",
      "metadata": {
        "colab_type": "code",
        "id": "F1izeWZdYa9t",
        "colab": {
          "base_uri": "https://localhost:8080/",
          "height": 323
        },
        "outputId": "ab90cf20-7d0b-405a-f4c0-3612200c4f03"
      },
      "source": [
        "# Build the Model\n",
        "from tensorflow.keras.models import Sequential\n",
        "from tensorflow.keras import layers\n",
        "from tensorflow.keras.optimizers import RMSprop\n",
        "\n",
        "model = Sequential()\n",
        "model.add(layers.Embedding(max_words, 8, input_length=max_len))\n",
        "model.add(layers.LSTM(128, return_sequences=True))\n",
        "model.add(layers.LSTM(128))\n",
        "model.add(layers.Flatten())\n",
        "model.add(layers.Dense(5, activation='softmax'))\n",
        "model.summary()"
      ],
      "execution_count": null,
      "outputs": [
        {
          "output_type": "stream",
          "text": [
            "Model: \"sequential\"\n",
            "_________________________________________________________________\n",
            "Layer (type)                 Output Shape              Param #   \n",
            "=================================================================\n",
            "embedding (Embedding)        (None, 34, 8)             80000     \n",
            "_________________________________________________________________\n",
            "lstm (LSTM)                  (None, 34, 128)           70144     \n",
            "_________________________________________________________________\n",
            "lstm_1 (LSTM)                (None, 128)               131584    \n",
            "_________________________________________________________________\n",
            "flatten (Flatten)            (None, 128)               0         \n",
            "_________________________________________________________________\n",
            "dense (Dense)                (None, 5)                 645       \n",
            "=================================================================\n",
            "Total params: 282,373\n",
            "Trainable params: 282,373\n",
            "Non-trainable params: 0\n",
            "_________________________________________________________________\n"
          ],
          "name": "stdout"
        }
      ]
    },
    {
      "cell_type": "code",
      "metadata": {
        "colab_type": "code",
        "id": "Gb1Z5cRfYa9x",
        "colab": {
          "base_uri": "https://localhost:8080/",
          "height": 357
        },
        "outputId": "5d6adf91-19c5-41ce-b7c9-9e7687aed427"
      },
      "source": [
        "# Train the Model\n",
        "\n",
        "model.compile(optimizer=RMSprop(lr=1e-4),\n",
        "              loss='categorical_crossentropy',\n",
        "              metrics=['acc'])\n",
        "history = model.fit(x_train, y_train,\n",
        "                    epochs=10,\n",
        "                    batch_size=2,\n",
        "                    validation_split=0.2)"
      ],
      "execution_count": null,
      "outputs": [
        {
          "output_type": "stream",
          "text": [
            "Epoch 1/10\n",
            "13614/13614 [==============================] - 98s 7ms/step - loss: 1.2960 - acc: 0.4357 - val_loss: 1.2064 - val_acc: 0.4562\n",
            "Epoch 2/10\n",
            "13614/13614 [==============================] - 95s 7ms/step - loss: 1.2100 - acc: 0.4521 - val_loss: 1.2000 - val_acc: 0.4559\n",
            "Epoch 3/10\n",
            "13614/13614 [==============================] - 95s 7ms/step - loss: 1.1984 - acc: 0.4583 - val_loss: 1.1842 - val_acc: 0.4683\n",
            "Epoch 4/10\n",
            "13614/13614 [==============================] - 94s 7ms/step - loss: 1.1897 - acc: 0.4624 - val_loss: 1.1795 - val_acc: 0.4724\n",
            "Epoch 5/10\n",
            "13614/13614 [==============================] - 95s 7ms/step - loss: 1.1857 - acc: 0.4654 - val_loss: 1.1776 - val_acc: 0.4674\n",
            "Epoch 6/10\n",
            "13614/13614 [==============================] - 94s 7ms/step - loss: 1.1835 - acc: 0.4658 - val_loss: 1.1772 - val_acc: 0.4747\n",
            "Epoch 7/10\n",
            "13614/13614 [==============================] - 94s 7ms/step - loss: 1.1820 - acc: 0.4663 - val_loss: 1.1754 - val_acc: 0.4775\n",
            "Epoch 8/10\n",
            "13614/13614 [==============================] - 95s 7ms/step - loss: 1.1827 - acc: 0.4670 - val_loss: 1.1794 - val_acc: 0.4858\n",
            "Epoch 9/10\n",
            "13614/13614 [==============================] - 94s 7ms/step - loss: 1.1820 - acc: 0.4683 - val_loss: 1.1755 - val_acc: 0.4849\n",
            "Epoch 10/10\n",
            "13614/13614 [==============================] - 94s 7ms/step - loss: 1.1832 - acc: 0.4680 - val_loss: 1.1766 - val_acc: 0.4755\n"
          ],
          "name": "stdout"
        }
      ]
    },
    {
      "cell_type": "code",
      "metadata": {
        "colab_type": "code",
        "id": "8R7JEcSuYa9z",
        "colab": {
          "base_uri": "https://localhost:8080/",
          "height": 545
        },
        "outputId": "3573327c-1fd9-4a69-e8dd-dbeee75288b6"
      },
      "source": [
        "# Plot the Training and Validation Accuracy & Loss Scores\n",
        "import matplotlib.pyplot as plt\n",
        "%matplotlib inline\n",
        "\n",
        "acc = history.history['acc']\n",
        "val_acc = history.history['val_acc']\n",
        "loss = history.history['loss']\n",
        "val_loss = history.history['val_loss']\n",
        "\n",
        "epochs = range(len(acc))\n",
        "\n",
        "plt.plot(epochs, acc, 'bo', label='Training acc')\n",
        "plt.plot(epochs, val_acc, 'b', label='Validation acc')\n",
        "plt.title('Training and validation accuracy')\n",
        "plt.legend()\n",
        "\n",
        "plt.figure()\n",
        "\n",
        "plt.plot(epochs, loss, 'bo', label='Training loss')\n",
        "plt.plot(epochs, val_loss, 'b', label='Validation loss')\n",
        "plt.title('Training and validation loss')\n",
        "plt.legend()\n",
        "\n",
        "plt.show()"
      ],
      "execution_count": null,
      "outputs": [
        {
          "output_type": "display_data",
          "data": {
            "image/png": "[encoded data removed]",
            "text/plain": [
              "<Figure size 432x288 with 1 Axes>"
            ]
          },
          "metadata": {
            "tags": [],
            "needs_background": "light"
          }
        },
        {
          "output_type": "display_data",
          "data": {
            "image/png": "[encoded data removed]",
            "text/plain": [
              "<Figure size 432x288 with 1 Axes>"
            ]
          },
          "metadata": {
            "tags": [],
            "needs_background": "light"
          }
        }
      ]
    },
    {
      "cell_type": "code",
      "metadata": {
        "colab_type": "code",
        "id": "3tnsyYNFYa92",
        "colab": {}
      },
      "source": [
        "# Save the Model\n",
        "model.save(model_path+'text_model_2.h5')\n",
        "model.save('text_model_2.h5')"
      ],
      "execution_count": null,
      "outputs": []
    },
    {
      "cell_type": "code",
      "metadata": {
        "colab_type": "code",
        "id": "J8k8m5E21D67",
        "colab": {}
      },
      "source": [
        "import tensorflow as tf\n",
        "tf.keras.backend.clear_session()"
      ],
      "execution_count": null,
      "outputs": []
    },
    {
      "cell_type": "markdown",
      "metadata": {
        "colab_type": "text",
        "id": "bpxXkmWVgt4A"
      },
      "source": [
        "### Model #3 (Replicate as necessary for other models)"
      ]
    },
    {
      "cell_type": "code",
      "metadata": {
        "colab_type": "code",
        "id": "l5gamAO3gt4F",
        "colab": {
          "base_uri": "https://localhost:8080/",
          "height": 425
        },
        "outputId": "6e0ea06c-aeb0-4082-d610-7599596615b8"
      },
      "source": [
        "# Build the Model\n",
        "from tensorflow.keras.models import Sequential\n",
        "from tensorflow.keras import layers\n",
        "from tensorflow.keras.optimizers import RMSprop\n",
        "\n",
        "model = Sequential()\n",
        "model.add(layers.Embedding(max_words, 8, input_length=max_len))\n",
        "model.add(layers.LSTM(128, return_sequences=True))\n",
        "model.add(layers.LSTM(128, return_sequences=True))\n",
        "model.add(layers.LSTM(64, return_sequences=True))\n",
        "model.add(layers.LSTM(64))\n",
        "model.add(layers.Flatten())\n",
        "model.add(layers.Dense(32, activation='relu'))\n",
        "model.add(layers.Dense(5, activation='softmax'))\n",
        "model.summary()"
      ],
      "execution_count": null,
      "outputs": [
        {
          "output_type": "stream",
          "text": [
            "Model: \"sequential\"\n",
            "_________________________________________________________________\n",
            "Layer (type)                 Output Shape              Param #   \n",
            "=================================================================\n",
            "embedding (Embedding)        (None, 34, 8)             80000     \n",
            "_________________________________________________________________\n",
            "lstm (LSTM)                  (None, 34, 128)           70144     \n",
            "_________________________________________________________________\n",
            "lstm_1 (LSTM)                (None, 34, 128)           131584    \n",
            "_________________________________________________________________\n",
            "lstm_2 (LSTM)                (None, 34, 64)            49408     \n",
            "_________________________________________________________________\n",
            "lstm_3 (LSTM)                (None, 64)                33024     \n",
            "_________________________________________________________________\n",
            "flatten (Flatten)            (None, 64)                0         \n",
            "_________________________________________________________________\n",
            "dense (Dense)                (None, 32)                2080      \n",
            "_________________________________________________________________\n",
            "dense_1 (Dense)              (None, 5)                 165       \n",
            "=================================================================\n",
            "Total params: 366,405\n",
            "Trainable params: 366,405\n",
            "Non-trainable params: 0\n",
            "_________________________________________________________________\n"
          ],
          "name": "stdout"
        }
      ]
    },
    {
      "cell_type": "code",
      "metadata": {
        "colab_type": "code",
        "id": "cV4HIDj2gt4J",
        "colab": {
          "base_uri": "https://localhost:8080/",
          "height": 357
        },
        "outputId": "22fa266f-9c63-4810-e269-1b3ea245077c"
      },
      "source": [
        "# Train the Model\n",
        "\n",
        "model.compile(optimizer=RMSprop(lr=1e-4),\n",
        "              loss='categorical_crossentropy',\n",
        "              metrics=['acc'])\n",
        "history = model.fit(x_train, y_train,\n",
        "                    epochs=10,\n",
        "                    batch_size=2,\n",
        "                    validation_split=0.2)"
      ],
      "execution_count": null,
      "outputs": [
        {
          "output_type": "stream",
          "text": [
            "Epoch 1/10\n",
            "13614/13614 [==============================] - 158s 12ms/step - loss: 1.3534 - acc: 0.4294 - val_loss: 1.2160 - val_acc: 0.4508\n",
            "Epoch 2/10\n",
            "13614/13614 [==============================] - 155s 11ms/step - loss: 1.2139 - acc: 0.4496 - val_loss: 1.2005 - val_acc: 0.4574\n",
            "Epoch 3/10\n",
            "13614/13614 [==============================] - 156s 11ms/step - loss: 1.2128 - acc: 0.4483 - val_loss: 1.2041 - val_acc: 0.4304\n",
            "Epoch 4/10\n",
            "13614/13614 [==============================] - 155s 11ms/step - loss: 1.2087 - acc: 0.4521 - val_loss: 1.2009 - val_acc: 0.4504\n",
            "Epoch 5/10\n",
            "13614/13614 [==============================] - 156s 11ms/step - loss: 1.2095 - acc: 0.4511 - val_loss: 1.2115 - val_acc: 0.4608\n",
            "Epoch 6/10\n",
            "13614/13614 [==============================] - 157s 12ms/step - loss: 1.2089 - acc: 0.4543 - val_loss: 1.1978 - val_acc: 0.4609\n",
            "Epoch 7/10\n",
            "13614/13614 [==============================] - 156s 11ms/step - loss: 1.2150 - acc: 0.4498 - val_loss: 1.2161 - val_acc: 0.4627\n",
            "Epoch 8/10\n",
            "13614/13614 [==============================] - 156s 11ms/step - loss: 1.2068 - acc: 0.4533 - val_loss: 1.2313 - val_acc: 0.4440\n",
            "Epoch 9/10\n",
            "13614/13614 [==============================] - 157s 12ms/step - loss: 1.2064 - acc: 0.4545 - val_loss: 1.2001 - val_acc: 0.4640\n",
            "Epoch 10/10\n",
            "13614/13614 [==============================] - 158s 12ms/step - loss: 1.2086 - acc: 0.4539 - val_loss: 1.2012 - val_acc: 0.4545\n"
          ],
          "name": "stdout"
        }
      ]
    },
    {
      "cell_type": "code",
      "metadata": {
        "colab_type": "code",
        "id": "NnQvbJCpgt4L",
        "colab": {
          "base_uri": "https://localhost:8080/",
          "height": 545
        },
        "outputId": "5be7f56a-43d2-4ed3-99b2-f913804eb309"
      },
      "source": [
        "# Plot the Training and Validation Accuracy & Loss Scores\n",
        "import matplotlib.pyplot as plt\n",
        "%matplotlib inline\n",
        "\n",
        "acc = history.history['acc']\n",
        "val_acc = history.history['val_acc']\n",
        "loss = history.history['loss']\n",
        "val_loss = history.history['val_loss']\n",
        "\n",
        "epochs = range(len(acc))\n",
        "\n",
        "plt.plot(epochs, acc, 'bo', label='Training acc')\n",
        "plt.plot(epochs, val_acc, 'b', label='Validation acc')\n",
        "plt.title('Training and validation accuracy')\n",
        "plt.legend()\n",
        "\n",
        "plt.figure()\n",
        "\n",
        "plt.plot(epochs, loss, 'bo', label='Training loss')\n",
        "plt.plot(epochs, val_loss, 'b', label='Validation loss')\n",
        "plt.title('Training and validation loss')\n",
        "plt.legend()\n",
        "\n",
        "plt.show()"
      ],
      "execution_count": null,
      "outputs": [
        {
          "output_type": "display_data",
          "data": {
            "image/png": "[encoded data removed]",
            "text/plain": [
              "<Figure size 432x288 with 1 Axes>"
            ]
          },
          "metadata": {
            "tags": [],
            "needs_background": "light"
          }
        },
        {
          "output_type": "display_data",
          "data": {
            "image/png": "[encoded data removed]",
            "text/plain": [
              "<Figure size 432x288 with 1 Axes>"
            ]
          },
          "metadata": {
            "tags": [],
            "needs_background": "light"
          }
        }
      ]
    },
    {
      "cell_type": "code",
      "metadata": {
        "colab_type": "code",
        "id": "r8ljZCwVgt4M",
        "colab": {}
      },
      "source": [
        "# Save the Model\n",
        "model.save(model_path+'text_model_3.h5')\n",
        "model.save('text_model_3.h5')"
      ],
      "execution_count": null,
      "outputs": []
    },
    {
      "cell_type": "code",
      "metadata": {
        "colab_type": "code",
        "id": "HiIK3tqm1Iub",
        "colab": {}
      },
      "source": [
        "import tensorflow as tf\n",
        "tf.keras.backend.clear_session()"
      ],
      "execution_count": null,
      "outputs": []
    },
    {
      "cell_type": "markdown",
      "metadata": {
        "colab_type": "text",
        "id": "s7VV0r5ln8d5"
      },
      "source": [
        "### Model #4 (Replicate as necessary for other models)"
      ]
    },
    {
      "cell_type": "code",
      "metadata": {
        "colab_type": "code",
        "id": "0uodN4w0wny1",
        "colab": {
          "base_uri": "https://localhost:8080/",
          "height": 323
        },
        "outputId": "de350063-c1f0-4e62-9efe-0efc7a7b0f2c"
      },
      "source": [
        "# Build the Model\n",
        "from tensorflow.keras.models import Sequential\n",
        "from tensorflow.keras import layers\n",
        "from tensorflow.keras.optimizers import RMSprop\n",
        "\n",
        "model = Sequential()\n",
        "model.add(layers.Embedding(max_words, 8, input_length=max_len))\n",
        "model.add(layers.LSTM(128, return_sequences=True))\n",
        "model.add(layers.LSTM(128))\n",
        "model.add(layers.Flatten())\n",
        "model.add(layers.Dense(5, activation='softmax'))\n",
        "model.summary()"
      ],
      "execution_count": null,
      "outputs": [
        {
          "output_type": "stream",
          "text": [
            "Model: \"sequential\"\n",
            "_________________________________________________________________\n",
            "Layer (type)                 Output Shape              Param #   \n",
            "=================================================================\n",
            "embedding (Embedding)        (None, 34, 8)             80000     \n",
            "_________________________________________________________________\n",
            "lstm (LSTM)                  (None, 34, 128)           70144     \n",
            "_________________________________________________________________\n",
            "lstm_1 (LSTM)                (None, 128)               131584    \n",
            "_________________________________________________________________\n",
            "flatten (Flatten)            (None, 128)               0         \n",
            "_________________________________________________________________\n",
            "dense (Dense)                (None, 5)                 645       \n",
            "=================================================================\n",
            "Total params: 282,373\n",
            "Trainable params: 282,373\n",
            "Non-trainable params: 0\n",
            "_________________________________________________________________\n"
          ],
          "name": "stdout"
        }
      ]
    },
    {
      "cell_type": "code",
      "metadata": {
        "colab_type": "code",
        "id": "c_mywZtswny5",
        "colab": {
          "base_uri": "https://localhost:8080/",
          "height": 357
        },
        "outputId": "c8a49cb0-146a-42f6-efbf-d0ee98bb84ff"
      },
      "source": [
        "# Train the Model\n",
        "\n",
        "model.compile(optimizer=RMSprop(lr=1e-4),\n",
        "              loss='categorical_crossentropy',\n",
        "              metrics=['acc'])\n",
        "history = model.fit(x_train, y_train,\n",
        "                    epochs=10,\n",
        "                    batch_size=2,\n",
        "                    validation_split=0.2)"
      ],
      "execution_count": null,
      "outputs": [
        {
          "output_type": "stream",
          "text": [
            "Epoch 1/10\n",
            "13614/13614 [==============================] - 99s 7ms/step - loss: 1.2905 - acc: 0.4357 - val_loss: 1.2004 - val_acc: 0.4540\n",
            "Epoch 2/10\n",
            "13614/13614 [==============================] - 94s 7ms/step - loss: 1.2053 - acc: 0.4563 - val_loss: 1.2083 - val_acc: 0.4534\n",
            "Epoch 3/10\n",
            "13614/13614 [==============================] - 94s 7ms/step - loss: 1.1939 - acc: 0.4599 - val_loss: 1.1803 - val_acc: 0.4702\n",
            "Epoch 4/10\n",
            "13614/13614 [==============================] - 95s 7ms/step - loss: 1.1875 - acc: 0.4611 - val_loss: 1.1778 - val_acc: 0.4658\n",
            "Epoch 5/10\n",
            "13614/13614 [==============================] - 95s 7ms/step - loss: 1.1850 - acc: 0.4687 - val_loss: 1.1736 - val_acc: 0.4769\n",
            "Epoch 6/10\n",
            "13614/13614 [==============================] - 95s 7ms/step - loss: 1.1846 - acc: 0.4641 - val_loss: 1.1804 - val_acc: 0.4697\n",
            "Epoch 7/10\n",
            "13614/13614 [==============================] - 96s 7ms/step - loss: 1.1823 - acc: 0.4689 - val_loss: 1.1762 - val_acc: 0.4788\n",
            "Epoch 8/10\n",
            "13614/13614 [==============================] - 95s 7ms/step - loss: 1.1808 - acc: 0.4686 - val_loss: 1.1968 - val_acc: 0.4674\n",
            "Epoch 9/10\n",
            "13614/13614 [==============================] - 95s 7ms/step - loss: 1.1801 - acc: 0.4696 - val_loss: 1.1835 - val_acc: 0.4859\n",
            "Epoch 10/10\n",
            "13614/13614 [==============================] - 95s 7ms/step - loss: 1.1813 - acc: 0.4672 - val_loss: 1.1864 - val_acc: 0.4781\n"
          ],
          "name": "stdout"
        }
      ]
    },
    {
      "cell_type": "code",
      "metadata": {
        "colab_type": "code",
        "id": "_yzoNfLKwny6",
        "colab": {
          "base_uri": "https://localhost:8080/",
          "height": 545
        },
        "outputId": "bb73d3db-48a2-424d-d138-28dd68ee6faa"
      },
      "source": [
        "# Plot the Training and Validation Accuracy & Loss Scores\n",
        "import matplotlib.pyplot as plt\n",
        "%matplotlib inline\n",
        "\n",
        "acc = history.history['acc']\n",
        "val_acc = history.history['val_acc']\n",
        "loss = history.history['loss']\n",
        "val_loss = history.history['val_loss']\n",
        "\n",
        "epochs = range(len(acc))\n",
        "\n",
        "plt.plot(epochs, acc, 'bo', label='Training acc')\n",
        "plt.plot(epochs, val_acc, 'b', label='Validation acc')\n",
        "plt.title('Training and validation accuracy')\n",
        "plt.legend()\n",
        "\n",
        "plt.figure()\n",
        "\n",
        "plt.plot(epochs, loss, 'bo', label='Training loss')\n",
        "plt.plot(epochs, val_loss, 'b', label='Validation loss')\n",
        "plt.title('Training and validation loss')\n",
        "plt.legend()\n",
        "\n",
        "plt.show()"
      ],
      "execution_count": null,
      "outputs": [
        {
          "output_type": "display_data",
          "data": {
            "image/png": "[encoded data removed]",
            "text/plain": [
              "<Figure size 432x288 with 1 Axes>"
            ]
          },
          "metadata": {
            "tags": [],
            "needs_background": "light"
          }
        },
        {
          "output_type": "display_data",
          "data": {
            "image/png": "[encoded data removed]",
            "text/plain": [
              "<Figure size 432x288 with 1 Axes>"
            ]
          },
          "metadata": {
            "tags": [],
            "needs_background": "light"
          }
        }
      ]
    },
    {
      "cell_type": "code",
      "metadata": {
        "colab_type": "code",
        "id": "QZTNDH3swny8",
        "colab": {}
      },
      "source": [
        "# Save the Model\n",
        "model.save(model_path+'text_model_4.h5')\n",
        "model.save('text_model_4.h5')"
      ],
      "execution_count": null,
      "outputs": []
    },
    {
      "cell_type": "code",
      "metadata": {
        "colab_type": "code",
        "id": "KLuESrAK1cUs",
        "colab": {}
      },
      "source": [
        "import tensorflow as tf\n",
        "tf.keras.backend.clear_session()"
      ],
      "execution_count": null,
      "outputs": []
    },
    {
      "cell_type": "markdown",
      "metadata": {
        "colab_type": "text",
        "id": "eiCrjm0Nww6K"
      },
      "source": [
        "### Model #5 (Replicate as necessary for other models)"
      ]
    },
    {
      "cell_type": "code",
      "metadata": {
        "colab_type": "code",
        "id": "7dwQfPAEww6L",
        "colab": {
          "base_uri": "https://localhost:8080/",
          "height": 459
        },
        "outputId": "c873754a-9708-48d2-c20a-17997f97e876"
      },
      "source": [
        "# Build the Model\n",
        "from tensorflow.keras.models import Sequential\n",
        "from tensorflow.keras import layers\n",
        "from tensorflow.keras.optimizers import RMSprop\n",
        "\n",
        "model = Sequential()\n",
        "model.add(layers.Embedding(max_words, 8, input_length=max_len))\n",
        "model.add(layers.LSTM(256, return_sequences=True))\n",
        "model.add(layers.LSTM(256, return_sequences=True))\n",
        "model.add(layers.LSTM(128, return_sequences=True))\n",
        "model.add(layers.LSTM(128))\n",
        "model.add(layers.Flatten())\n",
        "model.add(layers.Dense(64, activation='relu'))\n",
        "model.add(layers.Dense(32, activation='relu'))\n",
        "model.add(layers.Dense(5, activation='softmax'))\n",
        "model.summary()"
      ],
      "execution_count": null,
      "outputs": [
        {
          "output_type": "stream",
          "text": [
            "Model: \"sequential\"\n",
            "_________________________________________________________________\n",
            "Layer (type)                 Output Shape              Param #   \n",
            "=================================================================\n",
            "embedding (Embedding)        (None, 34, 8)             80000     \n",
            "_________________________________________________________________\n",
            "lstm (LSTM)                  (None, 34, 256)           271360    \n",
            "_________________________________________________________________\n",
            "lstm_1 (LSTM)                (None, 34, 256)           525312    \n",
            "_________________________________________________________________\n",
            "lstm_2 (LSTM)                (None, 34, 128)           197120    \n",
            "_________________________________________________________________\n",
            "lstm_3 (LSTM)                (None, 128)               131584    \n",
            "_________________________________________________________________\n",
            "flatten (Flatten)            (None, 128)               0         \n",
            "_________________________________________________________________\n",
            "dense (Dense)                (None, 64)                8256      \n",
            "_________________________________________________________________\n",
            "dense_1 (Dense)              (None, 32)                2080      \n",
            "_________________________________________________________________\n",
            "dense_2 (Dense)              (None, 5)                 165       \n",
            "=================================================================\n",
            "Total params: 1,215,877\n",
            "Trainable params: 1,215,877\n",
            "Non-trainable params: 0\n",
            "_________________________________________________________________\n"
          ],
          "name": "stdout"
        }
      ]
    },
    {
      "cell_type": "code",
      "metadata": {
        "colab_type": "code",
        "id": "D1tmvkIVww6O",
        "colab": {
          "base_uri": "https://localhost:8080/",
          "height": 357
        },
        "outputId": "3ab8d06f-69ee-4322-d815-ba165592dd69"
      },
      "source": [
        "# Train the Model\n",
        "\n",
        "model.compile(optimizer=RMSprop(lr=1e-4),\n",
        "              loss='categorical_crossentropy',\n",
        "              metrics=['acc'])\n",
        "history = model.fit(x_train, y_train,\n",
        "                    epochs=10,\n",
        "                    batch_size=2,\n",
        "                    validation_split=0.2)"
      ],
      "execution_count": null,
      "outputs": [
        {
          "output_type": "stream",
          "text": [
            "Epoch 1/10\n",
            "13614/13614 [==============================] - 164s 12ms/step - loss: 1.3582 - acc: 0.4247 - val_loss: 1.2139 - val_acc: 0.4407\n",
            "Epoch 2/10\n",
            "13614/13614 [==============================] - 163s 12ms/step - loss: 1.2276 - acc: 0.4350 - val_loss: 1.2030 - val_acc: 0.4495\n",
            "Epoch 3/10\n",
            "13614/13614 [==============================] - 163s 12ms/step - loss: 1.2193 - acc: 0.4407 - val_loss: 1.2111 - val_acc: 0.4479\n",
            "Epoch 4/10\n",
            "13614/13614 [==============================] - 163s 12ms/step - loss: 1.2195 - acc: 0.4430 - val_loss: 1.2079 - val_acc: 0.4459\n",
            "Epoch 5/10\n",
            "13614/13614 [==============================] - 163s 12ms/step - loss: 1.2227 - acc: 0.4422 - val_loss: 1.1966 - val_acc: 0.4574\n",
            "Epoch 6/10\n",
            "13614/13614 [==============================] - 163s 12ms/step - loss: 1.2301 - acc: 0.4404 - val_loss: 1.1965 - val_acc: 0.4584\n",
            "Epoch 7/10\n",
            "13614/13614 [==============================] - 163s 12ms/step - loss: 1.2316 - acc: 0.4418 - val_loss: 1.2116 - val_acc: 0.4473\n",
            "Epoch 8/10\n",
            "13614/13614 [==============================] - 165s 12ms/step - loss: 1.2288 - acc: 0.4443 - val_loss: 1.2062 - val_acc: 0.4521\n",
            "Epoch 9/10\n",
            "13614/13614 [==============================] - 174s 13ms/step - loss: 1.2309 - acc: 0.4412 - val_loss: 1.1962 - val_acc: 0.4517\n",
            "Epoch 10/10\n",
            "13614/13614 [==============================] - 164s 12ms/step - loss: 1.2333 - acc: 0.4457 - val_loss: 1.1998 - val_acc: 0.4505\n"
          ],
          "name": "stdout"
        }
      ]
    },
    {
      "cell_type": "code",
      "metadata": {
        "colab_type": "code",
        "id": "srJ-0to8ww6Q",
        "colab": {
          "base_uri": "https://localhost:8080/",
          "height": 545
        },
        "outputId": "044a01a1-7074-45f9-ede1-2f6e9b0cdf7b"
      },
      "source": [
        "# Plot the Training and Validation Accuracy & Loss Scores\n",
        "import matplotlib.pyplot as plt\n",
        "%matplotlib inline\n",
        "\n",
        "acc = history.history['acc']\n",
        "val_acc = history.history['val_acc']\n",
        "loss = history.history['loss']\n",
        "val_loss = history.history['val_loss']\n",
        "\n",
        "epochs = range(len(acc))\n",
        "\n",
        "plt.plot(epochs, acc, 'bo', label='Training acc')\n",
        "plt.plot(epochs, val_acc, 'b', label='Validation acc')\n",
        "plt.title('Training and validation accuracy')\n",
        "plt.legend()\n",
        "\n",
        "plt.figure()\n",
        "\n",
        "plt.plot(epochs, loss, 'bo', label='Training loss')\n",
        "plt.plot(epochs, val_loss, 'b', label='Validation loss')\n",
        "plt.title('Training and validation loss')\n",
        "plt.legend()\n",
        "\n",
        "plt.show()"
      ],
      "execution_count": null,
      "outputs": [
        {
          "output_type": "display_data",
          "data": {
            "image/png": "[encoded data removed]",
            "text/plain": [
              "<Figure size 432x288 with 1 Axes>"
            ]
          },
          "metadata": {
            "tags": [],
            "needs_background": "light"
          }
        },
        {
          "output_type": "display_data",
          "data": {
            "image/png": "[encoded data removed]",
            "text/plain": [
              "<Figure size 432x288 with 1 Axes>"
            ]
          },
          "metadata": {
            "tags": [],
            "needs_background": "light"
          }
        }
      ]
    },
    {
      "cell_type": "code",
      "metadata": {
        "colab_type": "code",
        "id": "Mhfmomv3ww6S",
        "colab": {}
      },
      "source": [
        "# Save the Model\n",
        "model.save(model_path+'text_model_5.h5')\n",
        "model.save('text_model_5.h5')"
      ],
      "execution_count": null,
      "outputs": []
    },
    {
      "cell_type": "code",
      "metadata": {
        "colab_type": "code",
        "id": "lxpAUZGt1f6v",
        "colab": {}
      },
      "source": [
        "import tensorflow as tf\n",
        "tf.keras.backend.clear_session()"
      ],
      "execution_count": null,
      "outputs": []
    },
    {
      "cell_type": "markdown",
      "metadata": {
        "colab_type": "text",
        "id": "LK6AMqzGsqDn"
      },
      "source": [
        "### Model #6 (Replicate as necessary for other models)"
      ]
    },
    {
      "cell_type": "code",
      "metadata": {
        "colab_type": "code",
        "id": "8rys95I5sqDr",
        "colab": {
          "base_uri": "https://localhost:8080/",
          "height": 391
        },
        "outputId": "42a2b266-1300-4530-c009-7a042fe67672"
      },
      "source": [
        "# Build the Model\n",
        "from tensorflow.keras.models import Sequential\n",
        "from tensorflow.keras import layers\n",
        "from tensorflow.keras.optimizers import RMSprop\n",
        "\n",
        "model = Sequential()\n",
        "model.add(layers.Embedding(max_words, 8, input_length=max_len))\n",
        "model.add(layers.LSTM(64, return_sequences=True))\n",
        "model.add(layers.LSTM(64, return_sequences=True))\n",
        "model.add(layers.LSTM(32, return_sequences=True))\n",
        "model.add(layers.LSTM(32))\n",
        "model.add(layers.Flatten())\n",
        "model.add(layers.Dense(5, activation='softmax'))\n",
        "model.summary()"
      ],
      "execution_count": null,
      "outputs": [
        {
          "output_type": "stream",
          "text": [
            "Model: \"sequential_1\"\n",
            "_________________________________________________________________\n",
            "Layer (type)                 Output Shape              Param #   \n",
            "=================================================================\n",
            "embedding_1 (Embedding)      (None, 34, 8)             80000     \n",
            "_________________________________________________________________\n",
            "lstm_4 (LSTM)                (None, 34, 64)            18688     \n",
            "_________________________________________________________________\n",
            "lstm_5 (LSTM)                (None, 34, 64)            33024     \n",
            "_________________________________________________________________\n",
            "lstm_6 (LSTM)                (None, 34, 32)            12416     \n",
            "_________________________________________________________________\n",
            "lstm_7 (LSTM)                (None, 32)                8320      \n",
            "_________________________________________________________________\n",
            "flatten_1 (Flatten)          (None, 32)                0         \n",
            "_________________________________________________________________\n",
            "dense_1 (Dense)              (None, 5)                 165       \n",
            "=================================================================\n",
            "Total params: 152,613\n",
            "Trainable params: 152,613\n",
            "Non-trainable params: 0\n",
            "_________________________________________________________________\n"
          ],
          "name": "stdout"
        }
      ]
    },
    {
      "cell_type": "code",
      "metadata": {
        "colab_type": "code",
        "id": "0zbLKMuesqDv",
        "colab": {
          "base_uri": "https://localhost:8080/",
          "height": 357
        },
        "outputId": "98a3c5f3-e82a-4b1a-8d37-3cc86b1a4f74"
      },
      "source": [
        "# Train the Model\n",
        "\n",
        "model.compile(optimizer=RMSprop(lr=1e-4),\n",
        "              loss='categorical_crossentropy',\n",
        "              metrics=['acc'])\n",
        "history = model.fit(x_train, y_train,\n",
        "                    epochs=10,\n",
        "                    batch_size=2,\n",
        "                    validation_split=0.2)"
      ],
      "execution_count": null,
      "outputs": [
        {
          "output_type": "stream",
          "text": [
            "Epoch 1/10\n",
            "13614/13614 [==============================] - 171s 13ms/step - loss: 1.3898 - acc: 0.4268 - val_loss: 1.2349 - val_acc: 0.4517\n",
            "Epoch 2/10\n",
            "13614/13614 [==============================] - 168s 12ms/step - loss: 1.2203 - acc: 0.4455 - val_loss: 1.2002 - val_acc: 0.4514\n",
            "Epoch 3/10\n",
            "13614/13614 [==============================] - 174s 13ms/step - loss: 1.2106 - acc: 0.4494 - val_loss: 1.2011 - val_acc: 0.4552\n",
            "Epoch 4/10\n",
            "13614/13614 [==============================] - 171s 13ms/step - loss: 1.2101 - acc: 0.4492 - val_loss: 1.2042 - val_acc: 0.4578\n",
            "Epoch 5/10\n",
            "13614/13614 [==============================] - 173s 13ms/step - loss: 1.2084 - acc: 0.4529 - val_loss: 1.2051 - val_acc: 0.4593\n",
            "Epoch 6/10\n",
            "13614/13614 [==============================] - 173s 13ms/step - loss: 1.2057 - acc: 0.4537 - val_loss: 1.2212 - val_acc: 0.4608\n",
            "Epoch 7/10\n",
            "13614/13614 [==============================] - 175s 13ms/step - loss: 1.2070 - acc: 0.4485 - val_loss: 1.1950 - val_acc: 0.4606\n",
            "Epoch 8/10\n",
            "13614/13614 [==============================] - 173s 13ms/step - loss: 1.2066 - acc: 0.4492 - val_loss: 1.1973 - val_acc: 0.4583\n",
            "Epoch 9/10\n",
            "13614/13614 [==============================] - 170s 12ms/step - loss: 1.2074 - acc: 0.4475 - val_loss: 1.2007 - val_acc: 0.4598\n",
            "Epoch 10/10\n",
            "13614/13614 [==============================] - 171s 13ms/step - loss: 1.2054 - acc: 0.4483 - val_loss: 1.2246 - val_acc: 0.4533\n"
          ],
          "name": "stdout"
        }
      ]
    },
    {
      "cell_type": "code",
      "metadata": {
        "colab_type": "code",
        "id": "6ij2nst6sqDx",
        "colab": {
          "base_uri": "https://localhost:8080/",
          "height": 545
        },
        "outputId": "d04bfb81-78bc-47ee-d893-3e9da78401d5"
      },
      "source": [
        "# Plot the Training and Validation Accuracy & Loss Scores\n",
        "import matplotlib.pyplot as plt\n",
        "%matplotlib inline\n",
        "\n",
        "acc = history.history['acc']\n",
        "val_acc = history.history['val_acc']\n",
        "loss = history.history['loss']\n",
        "val_loss = history.history['val_loss']\n",
        "\n",
        "epochs = range(len(acc))\n",
        "\n",
        "plt.plot(epochs, acc, 'bo', label='Training acc')\n",
        "plt.plot(epochs, val_acc, 'b', label='Validation acc')\n",
        "plt.title('Training and validation accuracy')\n",
        "plt.legend()\n",
        "\n",
        "plt.figure()\n",
        "\n",
        "plt.plot(epochs, loss, 'bo', label='Training loss')\n",
        "plt.plot(epochs, val_loss, 'b', label='Validation loss')\n",
        "plt.title('Training and validation loss')\n",
        "plt.legend()\n",
        "\n",
        "plt.show()"
      ],
      "execution_count": null,
      "outputs": [
        {
          "output_type": "display_data",
          "data": {
            "image/png": "[encoded data removed]",
            "text/plain": [
              "<Figure size 432x288 with 1 Axes>"
            ]
          },
          "metadata": {
            "tags": [],
            "needs_background": "light"
          }
        },
        {
          "output_type": "display_data",
          "data": {
            "image/png": "[encoded data removed]",
            "text/plain": [
              "<Figure size 432x288 with 1 Axes>"
            ]
          },
          "metadata": {
            "tags": [],
            "needs_background": "light"
          }
        }
      ]
    },
    {
      "cell_type": "code",
      "metadata": {
        "colab_type": "code",
        "id": "StXGzjiwsqDz",
        "colab": {}
      },
      "source": [
        "# Save the Model\n",
        "model.save(model_path+'text_model_6.h5')\n",
        "model.save('text_model_6.h5')"
      ],
      "execution_count": null,
      "outputs": []
    },
    {
      "cell_type": "code",
      "metadata": {
        "colab_type": "code",
        "id": "zcAwHSdmsqD1",
        "colab": {}
      },
      "source": [
        "import tensorflow as tf\n",
        "tf.keras.backend.clear_session()"
      ],
      "execution_count": null,
      "outputs": []
    },
    {
      "cell_type": "markdown",
      "metadata": {
        "colab_type": "text",
        "id": "HCi3mLRFwPvU"
      },
      "source": [
        "### Model #7 (Replicate as necessary for other models)"
      ]
    },
    {
      "cell_type": "code",
      "metadata": {
        "colab_type": "code",
        "id": "rtYnTZC9wPvV",
        "colab": {
          "base_uri": "https://localhost:8080/",
          "height": 323
        },
        "outputId": "2a848a6e-43c4-496d-e7cf-a52036a55dc3"
      },
      "source": [
        "# Build the Model\n",
        "from tensorflow.keras.models import Sequential\n",
        "from tensorflow.keras import layers\n",
        "from tensorflow.keras.optimizers import RMSprop\n",
        "\n",
        "model = Sequential()\n",
        "model.add(layers.Embedding(max_words, 8, input_length=max_len))\n",
        "model.add(layers.LSTM(128, return_sequences=True))\n",
        "model.add(layers.LSTM(128))\n",
        "model.add(layers.Flatten())\n",
        "model.add(layers.Dense(5, activation='softmax'))\n",
        "model.summary()"
      ],
      "execution_count": null,
      "outputs": [
        {
          "output_type": "stream",
          "text": [
            "Model: \"sequential\"\n",
            "_________________________________________________________________\n",
            "Layer (type)                 Output Shape              Param #   \n",
            "=================================================================\n",
            "embedding (Embedding)        (None, 34, 8)             80000     \n",
            "_________________________________________________________________\n",
            "lstm (LSTM)                  (None, 34, 128)           70144     \n",
            "_________________________________________________________________\n",
            "lstm_1 (LSTM)                (None, 128)               131584    \n",
            "_________________________________________________________________\n",
            "flatten (Flatten)            (None, 128)               0         \n",
            "_________________________________________________________________\n",
            "dense (Dense)                (None, 5)                 645       \n",
            "=================================================================\n",
            "Total params: 282,373\n",
            "Trainable params: 282,373\n",
            "Non-trainable params: 0\n",
            "_________________________________________________________________\n"
          ],
          "name": "stdout"
        }
      ]
    },
    {
      "cell_type": "code",
      "metadata": {
        "colab_type": "code",
        "id": "rKIaVYFpwPvY",
        "colab": {
          "base_uri": "https://localhost:8080/",
          "height": 357
        },
        "outputId": "e4ef82a8-2a53-4682-eeab-9c563f641e4e"
      },
      "source": [
        "# Train the Model\n",
        "\n",
        "model.compile(optimizer=RMSprop(lr=1e-2),\n",
        "              loss='categorical_crossentropy',\n",
        "              metrics=['acc'])\n",
        "history = model.fit(x_train, y_train,\n",
        "                    epochs=10,\n",
        "                    batch_size=2,\n",
        "                    validation_split=0.2)"
      ],
      "execution_count": null,
      "outputs": [
        {
          "output_type": "stream",
          "text": [
            "Epoch 1/10\n",
            "13614/13614 [==============================] - 111s 8ms/step - loss: 1.3535 - acc: 0.4022 - val_loss: 1.2251 - val_acc: 0.4420\n",
            "Epoch 2/10\n",
            "13614/13614 [==============================] - 111s 8ms/step - loss: 1.3566 - acc: 0.4087 - val_loss: 1.2930 - val_acc: 0.4443\n",
            "Epoch 3/10\n",
            "13614/13614 [==============================] - 110s 8ms/step - loss: 1.3582 - acc: 0.4110 - val_loss: 1.3026 - val_acc: 0.4311\n",
            "Epoch 4/10\n",
            "13614/13614 [==============================] - 112s 8ms/step - loss: 1.3662 - acc: 0.4114 - val_loss: 1.3093 - val_acc: 0.4414\n",
            "Epoch 5/10\n",
            "13614/13614 [==============================] - 110s 8ms/step - loss: 1.3614 - acc: 0.4157 - val_loss: 1.4232 - val_acc: 0.3728\n",
            "Epoch 6/10\n",
            "13614/13614 [==============================] - 109s 8ms/step - loss: 1.3553 - acc: 0.4191 - val_loss: 1.4739 - val_acc: 0.4368\n",
            "Epoch 7/10\n",
            "13614/13614 [==============================] - 109s 8ms/step - loss: 1.4179 - acc: 0.4152 - val_loss: 1.3930 - val_acc: 0.3812\n",
            "Epoch 8/10\n",
            "13614/13614 [==============================] - 112s 8ms/step - loss: 1.4246 - acc: 0.4073 - val_loss: 1.2734 - val_acc: 0.4436\n",
            "Epoch 9/10\n",
            "13614/13614 [==============================] - 110s 8ms/step - loss: 1.3924 - acc: 0.4150 - val_loss: 1.5806 - val_acc: 0.4167\n",
            "Epoch 10/10\n",
            "13614/13614 [==============================] - 111s 8ms/step - loss: 1.4246 - acc: 0.4154 - val_loss: 1.3619 - val_acc: 0.4502\n"
          ],
          "name": "stdout"
        }
      ]
    },
    {
      "cell_type": "code",
      "metadata": {
        "colab_type": "code",
        "id": "Av6hDSSNwPva",
        "colab": {
          "base_uri": "https://localhost:8080/",
          "height": 545
        },
        "outputId": "06ed44a5-ef62-4393-e02b-93c397749413"
      },
      "source": [
        "# Plot the Training and Validation Accuracy & Loss Scores\n",
        "import matplotlib.pyplot as plt\n",
        "%matplotlib inline\n",
        "\n",
        "acc = history.history['acc']\n",
        "val_acc = history.history['val_acc']\n",
        "loss = history.history['loss']\n",
        "val_loss = history.history['val_loss']\n",
        "\n",
        "epochs = range(len(acc))\n",
        "\n",
        "plt.plot(epochs, acc, 'bo', label='Training acc')\n",
        "plt.plot(epochs, val_acc, 'b', label='Validation acc')\n",
        "plt.title('Training and validation accuracy')\n",
        "plt.legend()\n",
        "\n",
        "plt.figure()\n",
        "\n",
        "plt.plot(epochs, loss, 'bo', label='Training loss')\n",
        "plt.plot(epochs, val_loss, 'b', label='Validation loss')\n",
        "plt.title('Training and validation loss')\n",
        "plt.legend()\n",
        "\n",
        "plt.show()"
      ],
      "execution_count": null,
      "outputs": [
        {
          "output_type": "display_data",
          "data": {
            "image/png": "[encoded data removed]",
            "text/plain": [
              "<Figure size 432x288 with 1 Axes>"
            ]
          },
          "metadata": {
            "tags": [],
            "needs_background": "light"
          }
        },
        {
          "output_type": "display_data",
          "data": {
            "image/png": "[encoded data removed]",
            "text/plain": [
              "<Figure size 432x288 with 1 Axes>"
            ]
          },
          "metadata": {
            "tags": [],
            "needs_background": "light"
          }
        }
      ]
    },
    {
      "cell_type": "code",
      "metadata": {
        "colab_type": "code",
        "id": "haplG-ztwPvc",
        "colab": {}
      },
      "source": [
        "# Save the Model\n",
        "model.save(model_path+'text_model_7.h5')\n",
        "model.save('text_model_7.h5')"
      ],
      "execution_count": null,
      "outputs": []
    },
    {
      "cell_type": "code",
      "metadata": {
        "colab_type": "code",
        "id": "uIK0EAg9wPvd",
        "colab": {}
      },
      "source": [
        "import tensorflow as tf\n",
        "tf.keras.backend.clear_session()"
      ],
      "execution_count": null,
      "outputs": []
    },
    {
      "cell_type": "markdown",
      "metadata": {
        "colab_type": "text",
        "id": "phqVAjT9CrY-"
      },
      "source": [
        "### Model #8 (Replicate as necessary for other models)"
      ]
    },
    {
      "cell_type": "code",
      "metadata": {
        "colab_type": "code",
        "id": "P2eQngGzCrZC",
        "colab": {
          "base_uri": "https://localhost:8080/",
          "height": 391
        },
        "outputId": "e36a2fbb-2e0b-4719-b339-f2a77f82d756"
      },
      "source": [
        "# Build the Model\n",
        "from tensorflow.keras.models import Sequential\n",
        "from tensorflow.keras import layers\n",
        "from tensorflow.keras.optimizers import RMSprop\n",
        "\n",
        "model = Sequential()\n",
        "model.add(layers.Embedding(max_words, 8, input_length=max_len))\n",
        "model.add(layers.LSTM(64, return_sequences=True))\n",
        "model.add(layers.LSTM(64, return_sequences=True))\n",
        "model.add(layers.LSTM(32, return_sequences=True))\n",
        "model.add(layers.LSTM(32))\n",
        "model.add(layers.Flatten())\n",
        "model.add(layers.Dense(5, activation='softmax'))\n",
        "model.summary()"
      ],
      "execution_count": null,
      "outputs": [
        {
          "output_type": "stream",
          "text": [
            "Model: \"sequential\"\n",
            "_________________________________________________________________\n",
            "Layer (type)                 Output Shape              Param #   \n",
            "=================================================================\n",
            "embedding (Embedding)        (None, 34, 8)             80000     \n",
            "_________________________________________________________________\n",
            "lstm (LSTM)                  (None, 34, 64)            18688     \n",
            "_________________________________________________________________\n",
            "lstm_1 (LSTM)                (None, 34, 64)            33024     \n",
            "_________________________________________________________________\n",
            "lstm_2 (LSTM)                (None, 34, 32)            12416     \n",
            "_________________________________________________________________\n",
            "lstm_3 (LSTM)                (None, 32)                8320      \n",
            "_________________________________________________________________\n",
            "flatten (Flatten)            (None, 32)                0         \n",
            "_________________________________________________________________\n",
            "dense (Dense)                (None, 5)                 165       \n",
            "=================================================================\n",
            "Total params: 152,613\n",
            "Trainable params: 152,613\n",
            "Non-trainable params: 0\n",
            "_________________________________________________________________\n"
          ],
          "name": "stdout"
        }
      ]
    },
    {
      "cell_type": "code",
      "metadata": {
        "colab_type": "code",
        "id": "8NQxwRI4CrZG",
        "colab": {
          "base_uri": "https://localhost:8080/",
          "height": 357
        },
        "outputId": "06f3f98a-a790-448e-e6ea-d60d6e76cd07"
      },
      "source": [
        "# Train the Model\n",
        "\n",
        "model.compile(optimizer=RMSprop(lr=1e-2),\n",
        "              loss='categorical_crossentropy',\n",
        "              metrics=['acc'])\n",
        "history = model.fit(x_train, y_train,\n",
        "                    epochs=10,\n",
        "                    batch_size=2,\n",
        "                    validation_split=0.2)"
      ],
      "execution_count": null,
      "outputs": [
        {
          "output_type": "stream",
          "text": [
            "Epoch 1/10\n",
            "13614/13614 [==============================] - 163s 12ms/step - loss: 1.3130 - acc: 0.4184 - val_loss: 1.2629 - val_acc: 0.4471\n",
            "Epoch 2/10\n",
            "13614/13614 [==============================] - 164s 12ms/step - loss: 1.2922 - acc: 0.4264 - val_loss: 1.2083 - val_acc: 0.4398\n",
            "Epoch 3/10\n",
            "13614/13614 [==============================] - 164s 12ms/step - loss: 1.3415 - acc: 0.4196 - val_loss: 1.6366 - val_acc: 0.4420\n",
            "Epoch 4/10\n",
            "13614/13614 [==============================] - 164s 12ms/step - loss: 1.3321 - acc: 0.4229 - val_loss: 1.2720 - val_acc: 0.4316\n",
            "Epoch 5/10\n",
            "13614/13614 [==============================] - 163s 12ms/step - loss: 1.3322 - acc: 0.4224 - val_loss: 1.2672 - val_acc: 0.4288\n",
            "Epoch 6/10\n",
            "13614/13614 [==============================] - 164s 12ms/step - loss: 1.3917 - acc: 0.4182 - val_loss: 1.3529 - val_acc: 0.3540\n",
            "Epoch 7/10\n",
            "13614/13614 [==============================] - 164s 12ms/step - loss: 1.3560 - acc: 0.4104 - val_loss: 1.3025 - val_acc: 0.4370\n",
            "Epoch 8/10\n",
            "13614/13614 [==============================] - 164s 12ms/step - loss: 1.3783 - acc: 0.4199 - val_loss: 1.3115 - val_acc: 0.4361\n",
            "Epoch 9/10\n",
            "13614/13614 [==============================] - 165s 12ms/step - loss: 1.3329 - acc: 0.4247 - val_loss: 1.3673 - val_acc: 0.4296\n",
            "Epoch 10/10\n",
            "13614/13614 [==============================] - 164s 12ms/step - loss: 1.3439 - acc: 0.4225 - val_loss: 1.4533 - val_acc: 0.4026\n"
          ],
          "name": "stdout"
        }
      ]
    },
    {
      "cell_type": "code",
      "metadata": {
        "colab_type": "code",
        "id": "rjEShO6rCrZI",
        "colab": {
          "base_uri": "https://localhost:8080/",
          "height": 545
        },
        "outputId": "1cb8c7ab-7792-49e3-b0af-a6ce15bbab8e"
      },
      "source": [
        "# Plot the Training and Validation Accuracy & Loss Scores\n",
        "import matplotlib.pyplot as plt\n",
        "%matplotlib inline\n",
        "\n",
        "acc = history.history['acc']\n",
        "val_acc = history.history['val_acc']\n",
        "loss = history.history['loss']\n",
        "val_loss = history.history['val_loss']\n",
        "\n",
        "epochs = range(len(acc))\n",
        "\n",
        "plt.plot(epochs, acc, 'bo', label='Training acc')\n",
        "plt.plot(epochs, val_acc, 'b', label='Validation acc')\n",
        "plt.title('Training and validation accuracy')\n",
        "plt.legend()\n",
        "\n",
        "plt.figure()\n",
        "\n",
        "plt.plot(epochs, loss, 'bo', label='Training loss')\n",
        "plt.plot(epochs, val_loss, 'b', label='Validation loss')\n",
        "plt.title('Training and validation loss')\n",
        "plt.legend()\n",
        "\n",
        "plt.show()"
      ],
      "execution_count": null,
      "outputs": [
        {
          "output_type": "display_data",
          "data": {
            "image/png": "[encoded data removed]",
            "text/plain": [
              "<Figure size 432x288 with 1 Axes>"
            ]
          },
          "metadata": {
            "tags": [],
            "needs_background": "light"
          }
        },
        {
          "output_type": "display_data",
          "data": {
            "image/png": "[encoded data removed]",
            "text/plain": [
              "<Figure size 432x288 with 1 Axes>"
            ]
          },
          "metadata": {
            "tags": [],
            "needs_background": "light"
          }
        }
      ]
    },
    {
      "cell_type": "code",
      "metadata": {
        "colab_type": "code",
        "id": "Nryox4lGCrZK",
        "colab": {}
      },
      "source": [
        "# Save the Model\n",
        "model.save(model_path+'text_model_8.h5')\n",
        "model.save('text_model_8.h5')"
      ],
      "execution_count": null,
      "outputs": []
    },
    {
      "cell_type": "code",
      "metadata": {
        "colab_type": "code",
        "id": "PfXpA-6WCrZM",
        "colab": {}
      },
      "source": [
        "import tensorflow as tf\n",
        "tf.keras.backend.clear_session()"
      ],
      "execution_count": null,
      "outputs": []
    },
    {
      "cell_type": "markdown",
      "metadata": {
        "colab_type": "text",
        "id": "AQuKmkTWnLAb"
      },
      "source": [
        "### Model #9 (Replicate as necessary for other models)"
      ]
    },
    {
      "cell_type": "code",
      "metadata": {
        "colab_type": "code",
        "id": "pF9HHBYTnLAf",
        "colab": {
          "base_uri": "https://localhost:8080/",
          "height": 357
        },
        "outputId": "c4197ae8-674c-45df-9598-09c6046c4573"
      },
      "source": [
        "# Build the Model\n",
        "from tensorflow.keras.models import Sequential\n",
        "from tensorflow.keras import layers\n",
        "from tensorflow.keras.optimizers import RMSprop\n",
        "\n",
        "model = Sequential()\n",
        "model.add(layers.Embedding(max_words, 8, input_length=max_len))\n",
        "model.add(layers.LSTM(1024, return_sequences=True))\n",
        "model.add(layers.LSTM(1024))\n",
        "model.add(layers.Flatten())\n",
        "model.add(layers.Dense(32, activation='relu'))\n",
        "model.add(layers.Dense(5, activation='softmax'))\n",
        "model.summary()"
      ],
      "execution_count": null,
      "outputs": [
        {
          "output_type": "stream",
          "text": [
            "Model: \"sequential\"\n",
            "_________________________________________________________________\n",
            "Layer (type)                 Output Shape              Param #   \n",
            "=================================================================\n",
            "embedding (Embedding)        (None, 34, 8)             80000     \n",
            "_________________________________________________________________\n",
            "lstm (LSTM)                  (None, 34, 1024)          4231168   \n",
            "_________________________________________________________________\n",
            "lstm_1 (LSTM)                (None, 1024)              8392704   \n",
            "_________________________________________________________________\n",
            "flatten (Flatten)            (None, 1024)              0         \n",
            "_________________________________________________________________\n",
            "dense (Dense)                (None, 32)                32800     \n",
            "_________________________________________________________________\n",
            "dense_1 (Dense)              (None, 5)                 165       \n",
            "=================================================================\n",
            "Total params: 12,736,837\n",
            "Trainable params: 12,736,837\n",
            "Non-trainable params: 0\n",
            "_________________________________________________________________\n"
          ],
          "name": "stdout"
        }
      ]
    },
    {
      "cell_type": "code",
      "metadata": {
        "colab_type": "code",
        "id": "xdWq3BcNnLAj",
        "colab": {
          "base_uri": "https://localhost:8080/",
          "height": 357
        },
        "outputId": "d79c02d2-f7b3-47d3-b62e-53f98899cd96"
      },
      "source": [
        "# Train the Model\n",
        "\n",
        "model.compile(optimizer=RMSprop(lr=1e-4),\n",
        "              loss='categorical_crossentropy',\n",
        "              metrics=['acc'])\n",
        "history = model.fit(x_train, y_train,\n",
        "                    epochs=10,\n",
        "                    batch_size=2,\n",
        "                    validation_split=0.2)"
      ],
      "execution_count": null,
      "outputs": [
        {
          "output_type": "stream",
          "text": [
            "Epoch 1/10\n",
            "13614/13614 [==============================] - 292s 21ms/step - loss: 1.2661 - acc: 0.4495 - val_loss: 1.1543 - val_acc: 0.4972\n",
            "Epoch 2/10\n",
            "13614/13614 [==============================] - 287s 21ms/step - loss: 1.1598 - acc: 0.4929 - val_loss: 1.1564 - val_acc: 0.5100\n",
            "Epoch 3/10\n",
            "13614/13614 [==============================] - 286s 21ms/step - loss: 1.1317 - acc: 0.5107 - val_loss: 1.1223 - val_acc: 0.5254\n",
            "Epoch 4/10\n",
            "13614/13614 [==============================] - 285s 21ms/step - loss: 1.1166 - acc: 0.5184 - val_loss: 1.1745 - val_acc: 0.5091\n",
            "Epoch 5/10\n",
            "13614/13614 [==============================] - 285s 21ms/step - loss: 1.0980 - acc: 0.5312 - val_loss: 1.1076 - val_acc: 0.5333\n",
            "Epoch 6/10\n",
            "13614/13614 [==============================] - 285s 21ms/step - loss: 1.0849 - acc: 0.5418 - val_loss: 1.1306 - val_acc: 0.5442\n",
            "Epoch 7/10\n",
            "13614/13614 [==============================] - 286s 21ms/step - loss: 1.0760 - acc: 0.5448 - val_loss: 1.0952 - val_acc: 0.5473\n",
            "Epoch 8/10\n",
            "13614/13614 [==============================] - 287s 21ms/step - loss: 1.0725 - acc: 0.5511 - val_loss: 1.0883 - val_acc: 0.5128\n",
            "Epoch 9/10\n",
            "13614/13614 [==============================] - 287s 21ms/step - loss: 1.0705 - acc: 0.5564 - val_loss: 1.1239 - val_acc: 0.5524\n",
            "Epoch 10/10\n",
            "13614/13614 [==============================] - 288s 21ms/step - loss: 1.0618 - acc: 0.5585 - val_loss: 1.1659 - val_acc: 0.5557\n"
          ],
          "name": "stdout"
        }
      ]
    },
    {
      "cell_type": "code",
      "metadata": {
        "colab_type": "code",
        "id": "6Ginr_kDnLAk",
        "colab": {
          "base_uri": "https://localhost:8080/",
          "height": 545
        },
        "outputId": "0a4a3dcd-1dcd-4dab-819d-62ed67a76794"
      },
      "source": [
        "# Plot the Training and Validation Accuracy & Loss Scores\n",
        "import matplotlib.pyplot as plt\n",
        "%matplotlib inline\n",
        "\n",
        "acc = history.history['acc']\n",
        "val_acc = history.history['val_acc']\n",
        "loss = history.history['loss']\n",
        "val_loss = history.history['val_loss']\n",
        "\n",
        "epochs = range(len(acc))\n",
        "\n",
        "plt.plot(epochs, acc, 'bo', label='Training acc')\n",
        "plt.plot(epochs, val_acc, 'b', label='Validation acc')\n",
        "plt.title('Training and validation accuracy')\n",
        "plt.legend()\n",
        "\n",
        "plt.figure()\n",
        "\n",
        "plt.plot(epochs, loss, 'bo', label='Training loss')\n",
        "plt.plot(epochs, val_loss, 'b', label='Validation loss')\n",
        "plt.title('Training and validation loss')\n",
        "plt.legend()\n",
        "\n",
        "plt.show()"
      ],
      "execution_count": null,
      "outputs": [
        {
          "output_type": "display_data",
          "data": {
            "image/png": "[encoded data removed]",
            "text/plain": [
              "<Figure size 432x288 with 1 Axes>"
            ]
          },
          "metadata": {
            "tags": [],
            "needs_background": "light"
          }
        },
        {
          "output_type": "display_data",
          "data": {
            "image/png": "[encoded data removed]",
            "text/plain": [
              "<Figure size 432x288 with 1 Axes>"
            ]
          },
          "metadata": {
            "tags": [],
            "needs_background": "light"
          }
        }
      ]
    },
    {
      "cell_type": "code",
      "metadata": {
        "colab_type": "code",
        "id": "6wRMIknQnLAm",
        "colab": {}
      },
      "source": [
        "# Save the Model\n",
        "model.save(model_path+'text_model_9.h5')\n",
        "model.save('text_model_9.h5')"
      ],
      "execution_count": null,
      "outputs": []
    },
    {
      "cell_type": "code",
      "metadata": {
        "colab_type": "code",
        "id": "OB7oGH4_nLAn",
        "colab": {}
      },
      "source": [
        "import tensorflow as tf\n",
        "tf.keras.backend.clear_session()"
      ],
      "execution_count": null,
      "outputs": []
    },
    {
      "cell_type": "markdown",
      "metadata": {
        "colab_type": "text",
        "id": "MLfU13bopx3P"
      },
      "source": [
        "### Model #10 (Replicate as necessary for other models)"
      ]
    },
    {
      "cell_type": "code",
      "metadata": {
        "colab_type": "code",
        "id": "UjXNm_FKpx3R",
        "colab": {
          "base_uri": "https://localhost:8080/",
          "height": 357
        },
        "outputId": "e3459d17-e0da-413c-f9ea-6d05f139cc82"
      },
      "source": [
        "# Build the Model\n",
        "from tensorflow.keras.models import Sequential\n",
        "from tensorflow.keras import layers\n",
        "from tensorflow.keras.optimizers import RMSprop\n",
        "\n",
        "model = Sequential()\n",
        "model.add(layers.Embedding(max_words, 8, input_length=max_len))\n",
        "model.add(layers.LSTM(1024, return_sequences=True))\n",
        "model.add(layers.LSTM(1024))\n",
        "model.add(layers.Flatten())\n",
        "model.add(layers.Dense(32, activation='relu'))\n",
        "model.add(layers.Dense(5, activation='softmax'))\n",
        "model.summary()"
      ],
      "execution_count": null,
      "outputs": [
        {
          "output_type": "stream",
          "text": [
            "Model: \"sequential_1\"\n",
            "_________________________________________________________________\n",
            "Layer (type)                 Output Shape              Param #   \n",
            "=================================================================\n",
            "embedding_1 (Embedding)      (None, 34, 8)             80000     \n",
            "_________________________________________________________________\n",
            "lstm_2 (LSTM)                (None, 34, 1024)          4231168   \n",
            "_________________________________________________________________\n",
            "lstm_3 (LSTM)                (None, 1024)              8392704   \n",
            "_________________________________________________________________\n",
            "flatten_1 (Flatten)          (None, 1024)              0         \n",
            "_________________________________________________________________\n",
            "dense_2 (Dense)              (None, 32)                32800     \n",
            "_________________________________________________________________\n",
            "dense_3 (Dense)              (None, 5)                 165       \n",
            "=================================================================\n",
            "Total params: 12,736,837\n",
            "Trainable params: 12,736,837\n",
            "Non-trainable params: 0\n",
            "_________________________________________________________________\n"
          ],
          "name": "stdout"
        }
      ]
    },
    {
      "cell_type": "code",
      "metadata": {
        "colab_type": "code",
        "id": "k0qNbgaqpx3T",
        "colab": {
          "base_uri": "https://localhost:8080/",
          "height": 734
        },
        "outputId": "ab69a834-cf4a-4986-8d32-9ae9a8224f05"
      },
      "source": [
        "# Train the Model\n",
        "\n",
        "model.compile(optimizer=RMSprop(lr=2e-5),\n",
        "              loss='categorical_crossentropy',\n",
        "              metrics=['acc'])\n",
        "history = model.fit(x_train, y_train,\n",
        "                    epochs=20,\n",
        "                    batch_size=2,\n",
        "                    validation_split=0.2)"
      ],
      "execution_count": null,
      "outputs": [
        {
          "output_type": "stream",
          "text": [
            "Epoch 1/20\n",
            "13612/13614 [============================>.] - ETA: 0s - loss: 1.2525 - acc: 0.4421WARNING:tensorflow:Callbacks method `on_test_batch_end` is slow compared to the batch time (batch time: 0.0029s vs `on_test_batch_end` time: 0.0063s). Check your callbacks.\n",
            "13614/13614 [==============================] - 363s 27ms/step - loss: 1.2525 - acc: 0.4421 - val_loss: 1.2132 - val_acc: 0.4655\n",
            "Epoch 2/20\n",
            "13614/13614 [==============================] - 363s 27ms/step - loss: 1.2040 - acc: 0.4606 - val_loss: 1.1896 - val_acc: 0.4766\n",
            "Epoch 3/20\n",
            "13614/13614 [==============================] - 364s 27ms/step - loss: 1.1821 - acc: 0.4752 - val_loss: 1.1664 - val_acc: 0.4844\n",
            "Epoch 4/20\n",
            "13614/13614 [==============================] - 366s 27ms/step - loss: 1.1642 - acc: 0.4863 - val_loss: 1.1701 - val_acc: 0.4940\n",
            "Epoch 5/20\n",
            "13614/13614 [==============================] - 364s 27ms/step - loss: 1.1524 - acc: 0.4941 - val_loss: 1.1563 - val_acc: 0.4943\n",
            "Epoch 6/20\n",
            "13614/13614 [==============================] - 366s 27ms/step - loss: 1.1418 - acc: 0.5017 - val_loss: 1.1501 - val_acc: 0.5082\n",
            "Epoch 7/20\n",
            "13614/13614 [==============================] - 371s 27ms/step - loss: 1.1302 - acc: 0.5094 - val_loss: 1.1394 - val_acc: 0.5162\n",
            "Epoch 8/20\n",
            "13614/13614 [==============================] - 368s 27ms/step - loss: 1.1192 - acc: 0.5185 - val_loss: 1.1269 - val_acc: 0.5298\n",
            "Epoch 9/20\n",
            "13614/13614 [==============================] - 366s 27ms/step - loss: 1.1091 - acc: 0.5231 - val_loss: 1.1254 - val_acc: 0.5191\n",
            "Epoch 10/20\n",
            "13614/13614 [==============================] - 364s 27ms/step - loss: 1.1002 - acc: 0.5286 - val_loss: 1.1064 - val_acc: 0.5308\n",
            "Epoch 11/20\n",
            "13614/13614 [==============================] - 363s 27ms/step - loss: 1.0919 - acc: 0.5358 - val_loss: 1.0944 - val_acc: 0.5369\n",
            "Epoch 12/20\n",
            "13614/13614 [==============================] - 363s 27ms/step - loss: 1.0863 - acc: 0.5368 - val_loss: 1.0974 - val_acc: 0.5380\n",
            "Epoch 13/20\n",
            "13614/13614 [==============================] - 363s 27ms/step - loss: 1.0793 - acc: 0.5430 - val_loss: 1.0947 - val_acc: 0.5333\n",
            "Epoch 14/20\n",
            "13614/13614 [==============================] - 363s 27ms/step - loss: 1.0728 - acc: 0.5438 - val_loss: 1.0898 - val_acc: 0.5473\n",
            "Epoch 15/20\n",
            "13614/13614 [==============================] - 363s 27ms/step - loss: 1.0679 - acc: 0.5482 - val_loss: 1.0941 - val_acc: 0.5499\n",
            "Epoch 16/20\n",
            "13614/13614 [==============================] - 367s 27ms/step - loss: 1.0639 - acc: 0.5477 - val_loss: 1.0809 - val_acc: 0.5517\n",
            "Epoch 17/20\n",
            "13614/13614 [==============================] - 367s 27ms/step - loss: 1.0588 - acc: 0.5544 - val_loss: 1.0812 - val_acc: 0.5577\n",
            "Epoch 18/20\n",
            "13614/13614 [==============================] - 368s 27ms/step - loss: 1.0557 - acc: 0.5581 - val_loss: 1.0663 - val_acc: 0.5602\n",
            "Epoch 19/20\n",
            "13614/13614 [==============================] - 363s 27ms/step - loss: 1.0518 - acc: 0.5610 - val_loss: 1.0915 - val_acc: 0.5560\n",
            "Epoch 20/20\n",
            "13614/13614 [==============================] - 363s 27ms/step - loss: 1.0449 - acc: 0.5624 - val_loss: 1.0931 - val_acc: 0.5590\n"
          ],
          "name": "stdout"
        }
      ]
    },
    {
      "cell_type": "code",
      "metadata": {
        "colab_type": "code",
        "id": "c_THCv68px3V",
        "colab": {
          "base_uri": "https://localhost:8080/",
          "height": 545
        },
        "outputId": "c67fe2f2-ec69-46b3-c369-c246515cf9e5"
      },
      "source": [
        "# Plot the Training and Validation Accuracy & Loss Scores\n",
        "import matplotlib.pyplot as plt\n",
        "%matplotlib inline\n",
        "\n",
        "acc = history.history['acc']\n",
        "val_acc = history.history['val_acc']\n",
        "loss = history.history['loss']\n",
        "val_loss = history.history['val_loss']\n",
        "\n",
        "epochs = range(len(acc))\n",
        "\n",
        "plt.plot(epochs, acc, 'bo', label='Training acc')\n",
        "plt.plot(epochs, val_acc, 'b', label='Validation acc')\n",
        "plt.title('Training and validation accuracy')\n",
        "plt.legend()\n",
        "\n",
        "plt.figure()\n",
        "\n",
        "plt.plot(epochs, loss, 'bo', label='Training loss')\n",
        "plt.plot(epochs, val_loss, 'b', label='Validation loss')\n",
        "plt.title('Training and validation loss')\n",
        "plt.legend()\n",
        "\n",
        "plt.show()"
      ],
      "execution_count": null,
      "outputs": [
        {
          "output_type": "display_data",
          "data": {
            "image/png": "[encoded data removed]",
            "text/plain": [
              "<Figure size 432x288 with 1 Axes>"
            ]
          },
          "metadata": {
            "tags": [],
            "needs_background": "light"
          }
        },
        {
          "output_type": "display_data",
          "data": {
            "image/png": "[encoded data removed]",
            "text/plain": [
              "<Figure size 432x288 with 1 Axes>"
            ]
          },
          "metadata": {
            "tags": [],
            "needs_background": "light"
          }
        }
      ]
    },
    {
      "cell_type": "code",
      "metadata": {
        "colab_type": "code",
        "id": "uEObtOp5px3W",
        "colab": {}
      },
      "source": [
        "# Save the Model\n",
        "model.save(model_path+'text_model_10.h5')\n",
        "model.save('text_model_10.h5')"
      ],
      "execution_count": null,
      "outputs": []
    },
    {
      "cell_type": "code",
      "metadata": {
        "colab_type": "code",
        "id": "ZZi74tszpx3X",
        "colab": {}
      },
      "source": [
        "import tensorflow as tf\n",
        "tf.keras.backend.clear_session()"
      ],
      "execution_count": null,
      "outputs": []
    },
    {
      "cell_type": "markdown",
      "metadata": {
        "colab_type": "text",
        "id": "zWh2cZWo8oJS"
      },
      "source": [
        "### Model #11 (Replicate as necessary for other models)\n"
      ]
    },
    {
      "cell_type": "code",
      "metadata": {
        "colab_type": "code",
        "id": "WcNULw3180Mg",
        "colab": {
          "base_uri": "https://localhost:8080/",
          "height": 357
        },
        "outputId": "32112bb1-bc18-4a66-fb56-cab696fb1650"
      },
      "source": [
        "# Build the Model\n",
        "from tensorflow.keras.models import Sequential\n",
        "from tensorflow.keras import layers\n",
        "from tensorflow.keras.optimizers import RMSprop, Adam\n",
        "\n",
        "model = Sequential()\n",
        "model.add(layers.Embedding(max_words, 8, input_length=max_len))\n",
        "model.add(layers.LSTM(1024, return_sequences=True))\n",
        "model.add(layers.LSTM(1024))\n",
        "model.add(layers.Flatten())\n",
        "model.add(layers.Dense(32, activation='relu'))\n",
        "model.add(layers.Dense(5, activation='softmax'))\n",
        "model.summary()"
      ],
      "execution_count": null,
      "outputs": [
        {
          "output_type": "stream",
          "text": [
            "Model: \"sequential\"\n",
            "_________________________________________________________________\n",
            "Layer (type)                 Output Shape              Param #   \n",
            "=================================================================\n",
            "embedding (Embedding)        (None, 34, 8)             80000     \n",
            "_________________________________________________________________\n",
            "lstm (LSTM)                  (None, 34, 1024)          4231168   \n",
            "_________________________________________________________________\n",
            "lstm_1 (LSTM)                (None, 1024)              8392704   \n",
            "_________________________________________________________________\n",
            "flatten (Flatten)            (None, 1024)              0         \n",
            "_________________________________________________________________\n",
            "dense (Dense)                (None, 32)                32800     \n",
            "_________________________________________________________________\n",
            "dense_1 (Dense)              (None, 5)                 165       \n",
            "=================================================================\n",
            "Total params: 12,736,837\n",
            "Trainable params: 12,736,837\n",
            "Non-trainable params: 0\n",
            "_________________________________________________________________\n"
          ],
          "name": "stdout"
        }
      ]
    },
    {
      "cell_type": "code",
      "metadata": {
        "colab_type": "code",
        "id": "jIK7sCHE8oJU",
        "colab": {
          "base_uri": "https://localhost:8080/",
          "height": 394
        },
        "outputId": "4cc75c44-2299-441c-c501-60dd7a7ae597"
      },
      "source": [
        "# Train the Model\n",
        "\n",
        "model.compile(optimizer=Adam(lr=1e-4),\n",
        "              loss='categorical_crossentropy',\n",
        "              metrics=['acc'])\n",
        "history = model.fit(x_train, y_train,\n",
        "                    epochs=10,\n",
        "                    batch_size=2,\n",
        "                    validation_split=0.2)"
      ],
      "execution_count": null,
      "outputs": [
        {
          "output_type": "stream",
          "text": [
            "Epoch 1/10\n",
            "13613/13614 [============================>.] - ETA: 0s - loss: 1.1974 - acc: 0.4779WARNING:tensorflow:Callbacks method `on_test_batch_end` is slow compared to the batch time (batch time: 0.0028s vs `on_test_batch_end` time: 0.0063s). Check your callbacks.\n",
            "13614/13614 [==============================] - 323s 24ms/step - loss: 1.1974 - acc: 0.4779 - val_loss: 1.0928 - val_acc: 0.5322\n",
            "Epoch 2/10\n",
            "13614/13614 [==============================] - 323s 24ms/step - loss: 1.0499 - acc: 0.5458 - val_loss: 1.0545 - val_acc: 0.5482\n",
            "Epoch 3/10\n",
            "13614/13614 [==============================] - 324s 24ms/step - loss: 0.9942 - acc: 0.5765 - val_loss: 1.0440 - val_acc: 0.5543\n",
            "Epoch 4/10\n",
            "13614/13614 [==============================] - 324s 24ms/step - loss: 0.9367 - acc: 0.6077 - val_loss: 1.0064 - val_acc: 0.5733\n",
            "Epoch 5/10\n",
            "13614/13614 [==============================] - 323s 24ms/step - loss: 0.8777 - acc: 0.6395 - val_loss: 1.0152 - val_acc: 0.5781\n",
            "Epoch 6/10\n",
            "13614/13614 [==============================] - 323s 24ms/step - loss: 0.8296 - acc: 0.6674 - val_loss: 1.0138 - val_acc: 0.5840\n",
            "Epoch 7/10\n",
            "13614/13614 [==============================] - 323s 24ms/step - loss: 0.7862 - acc: 0.6905 - val_loss: 1.0112 - val_acc: 0.5942\n",
            "Epoch 8/10\n",
            "13614/13614 [==============================] - 323s 24ms/step - loss: 0.7462 - acc: 0.7117 - val_loss: 1.0336 - val_acc: 0.5987\n",
            "Epoch 9/10\n",
            "13614/13614 [==============================] - 323s 24ms/step - loss: 0.7105 - acc: 0.7295 - val_loss: 1.0347 - val_acc: 0.6021\n",
            "Epoch 10/10\n",
            "13614/13614 [==============================] - 323s 24ms/step - loss: 0.6743 - acc: 0.7475 - val_loss: 1.0760 - val_acc: 0.5964\n"
          ],
          "name": "stdout"
        }
      ]
    },
    {
      "cell_type": "code",
      "metadata": {
        "colab_type": "code",
        "id": "lrem6gZm8oJW",
        "colab": {
          "base_uri": "https://localhost:8080/",
          "height": 545
        },
        "outputId": "2053325b-fb0f-477b-d617-82018f8ab9df"
      },
      "source": [
        "# Plot the Training and Validation Accuracy & Loss Scores\n",
        "import matplotlib.pyplot as plt\n",
        "%matplotlib inline\n",
        "\n",
        "acc = history.history['acc']\n",
        "val_acc = history.history['val_acc']\n",
        "loss = history.history['loss']\n",
        "val_loss = history.history['val_loss']\n",
        "\n",
        "epochs = range(len(acc))\n",
        "\n",
        "plt.plot(epochs, acc, 'bo', label='Training acc')\n",
        "plt.plot(epochs, val_acc, 'b', label='Validation acc')\n",
        "plt.title('Training and validation accuracy')\n",
        "plt.legend()\n",
        "\n",
        "plt.figure()\n",
        "\n",
        "plt.plot(epochs, loss, 'bo', label='Training loss')\n",
        "plt.plot(epochs, val_loss, 'b', label='Validation loss')\n",
        "plt.title('Training and validation loss')\n",
        "plt.legend()\n",
        "\n",
        "plt.show()"
      ],
      "execution_count": null,
      "outputs": [
        {
          "output_type": "display_data",
          "data": {
            "image/png": "[encoded data removed]",
            "text/plain": [
              "<Figure size 432x288 with 1 Axes>"
            ]
          },
          "metadata": {
            "tags": [],
            "needs_background": "light"
          }
        },
        {
          "output_type": "display_data",
          "data": {
            "image/png": "[encoded data removed]",
            "text/plain": [
              "<Figure size 432x288 with 1 Axes>"
            ]
          },
          "metadata": {
            "tags": [],
            "needs_background": "light"
          }
        }
      ]
    },
    {
      "cell_type": "code",
      "metadata": {
        "colab_type": "code",
        "id": "FmMknEXo8oJX",
        "colab": {}
      },
      "source": [
        "# Save the Model\n",
        "model.save(model_path+'text_model_11.h5')\n",
        "model.save('text_model_11.h5')"
      ],
      "execution_count": null,
      "outputs": []
    },
    {
      "cell_type": "code",
      "metadata": {
        "colab_type": "code",
        "id": "kM9_-kk78oJY",
        "colab": {}
      },
      "source": [
        "import tensorflow as tf\n",
        "tf.keras.backend.clear_session()"
      ],
      "execution_count": null,
      "outputs": []
    },
    {
      "cell_type": "markdown",
      "metadata": {
        "colab_type": "text",
        "id": "zjyAaz8lQo8W"
      },
      "source": [
        "### Model #11 (Replicate as necessary for other models) (Batch 128) (not saved)\n"
      ]
    },
    {
      "cell_type": "code",
      "metadata": {
        "colab_type": "code",
        "id": "RiQVGpwGQo8a",
        "colab": {
          "base_uri": "https://localhost:8080/",
          "height": 357
        },
        "outputId": "bbc881f6-c724-4120-e896-9bdc298a8a3e"
      },
      "source": [
        "# Build the Model\n",
        "from tensorflow.keras.models import Sequential\n",
        "from tensorflow.keras import layers\n",
        "from tensorflow.keras.optimizers import RMSprop, Adam\n",
        "\n",
        "model = Sequential()\n",
        "model.add(layers.Embedding(max_words, 8, input_length=max_len))\n",
        "model.add(layers.LSTM(1024, return_sequences=True))\n",
        "model.add(layers.LSTM(1024))\n",
        "model.add(layers.Flatten())\n",
        "model.add(layers.Dense(32, activation='relu'))\n",
        "model.add(layers.Dense(5, activation='softmax'))\n",
        "model.summary()"
      ],
      "execution_count": null,
      "outputs": [
        {
          "output_type": "stream",
          "text": [
            "Model: \"sequential\"\n",
            "_________________________________________________________________\n",
            "Layer (type)                 Output Shape              Param #   \n",
            "=================================================================\n",
            "embedding (Embedding)        (None, 34, 8)             80000     \n",
            "_________________________________________________________________\n",
            "lstm (LSTM)                  (None, 34, 1024)          4231168   \n",
            "_________________________________________________________________\n",
            "lstm_1 (LSTM)                (None, 1024)              8392704   \n",
            "_________________________________________________________________\n",
            "flatten (Flatten)            (None, 1024)              0         \n",
            "_________________________________________________________________\n",
            "dense (Dense)                (None, 32)                32800     \n",
            "_________________________________________________________________\n",
            "dense_1 (Dense)              (None, 5)                 165       \n",
            "=================================================================\n",
            "Total params: 12,736,837\n",
            "Trainable params: 12,736,837\n",
            "Non-trainable params: 0\n",
            "_________________________________________________________________\n"
          ],
          "name": "stdout"
        }
      ]
    },
    {
      "cell_type": "code",
      "metadata": {
        "colab_type": "code",
        "id": "1ceOSbpkQo8e",
        "colab": {
          "base_uri": "https://localhost:8080/",
          "height": 357
        },
        "outputId": "12752c91-7643-4e58-e157-610d316a3402"
      },
      "source": [
        "# Train the Model\n",
        "\n",
        "model.compile(optimizer=Adam(lr=1e-4),\n",
        "              loss='categorical_crossentropy',\n",
        "              metrics=['acc'])\n",
        "history = model.fit(x_train, y_train,\n",
        "                    epochs=10,\n",
        "                    batch_size=128,\n",
        "                    validation_split=0.2)"
      ],
      "execution_count": null,
      "outputs": [
        {
          "output_type": "stream",
          "text": [
            "Epoch 1/10\n",
            "213/213 [==============================] - 28s 130ms/step - loss: 1.4383 - acc: 0.4222 - val_loss: 1.4175 - val_acc: 0.4311\n",
            "Epoch 2/10\n",
            "213/213 [==============================] - 26s 121ms/step - loss: 1.3105 - acc: 0.4500 - val_loss: 1.2153 - val_acc: 0.4950\n",
            "Epoch 3/10\n",
            "213/213 [==============================] - 25s 119ms/step - loss: 1.1547 - acc: 0.5048 - val_loss: 1.1309 - val_acc: 0.5160\n",
            "Epoch 4/10\n",
            "213/213 [==============================] - 26s 122ms/step - loss: 1.0728 - acc: 0.5393 - val_loss: 1.1050 - val_acc: 0.5256\n",
            "Epoch 5/10\n",
            "213/213 [==============================] - 26s 122ms/step - loss: 1.0217 - acc: 0.5671 - val_loss: 1.0882 - val_acc: 0.5244\n",
            "Epoch 6/10\n",
            "213/213 [==============================] - 26s 121ms/step - loss: 0.9808 - acc: 0.5836 - val_loss: 1.0799 - val_acc: 0.5320\n",
            "Epoch 7/10\n",
            "213/213 [==============================] - 26s 121ms/step - loss: 0.9472 - acc: 0.5993 - val_loss: 1.0978 - val_acc: 0.5367\n",
            "Epoch 8/10\n",
            "213/213 [==============================] - 26s 121ms/step - loss: 0.9208 - acc: 0.6116 - val_loss: 1.1023 - val_acc: 0.5469\n",
            "Epoch 9/10\n",
            "213/213 [==============================] - 26s 121ms/step - loss: 0.8951 - acc: 0.6251 - val_loss: 1.0869 - val_acc: 0.5507\n",
            "Epoch 10/10\n",
            "213/213 [==============================] - 26s 121ms/step - loss: 0.8701 - acc: 0.6401 - val_loss: 1.1244 - val_acc: 0.5477\n"
          ],
          "name": "stdout"
        }
      ]
    },
    {
      "cell_type": "code",
      "metadata": {
        "colab_type": "code",
        "id": "tL6u7XtCQo8f",
        "colab": {
          "base_uri": "https://localhost:8080/",
          "height": 545
        },
        "outputId": "b579cd37-4e51-461f-d310-3d76fcb46942"
      },
      "source": [
        "# Plot the Training and Validation Accuracy & Loss Scores\n",
        "import matplotlib.pyplot as plt\n",
        "%matplotlib inline\n",
        "\n",
        "acc = history.history['acc']\n",
        "val_acc = history.history['val_acc']\n",
        "loss = history.history['loss']\n",
        "val_loss = history.history['val_loss']\n",
        "\n",
        "epochs = range(len(acc))\n",
        "\n",
        "plt.plot(epochs, acc, 'bo', label='Training acc')\n",
        "plt.plot(epochs, val_acc, 'b', label='Validation acc')\n",
        "plt.title('Training and validation accuracy')\n",
        "plt.legend()\n",
        "\n",
        "plt.figure()\n",
        "\n",
        "plt.plot(epochs, loss, 'bo', label='Training loss')\n",
        "plt.plot(epochs, val_loss, 'b', label='Validation loss')\n",
        "plt.title('Training and validation loss')\n",
        "plt.legend()\n",
        "\n",
        "plt.show()"
      ],
      "execution_count": null,
      "outputs": [
        {
          "output_type": "display_data",
          "data": {
            "image/png": "[encoded data removed]",
            "text/plain": [
              "<Figure size 432x288 with 1 Axes>"
            ]
          },
          "metadata": {
            "tags": [],
            "needs_background": "light"
          }
        },
        {
          "output_type": "display_data",
          "data": {
            "image/png": "[encoded data removed]",
            "text/plain": [
              "<Figure size 432x288 with 1 Axes>"
            ]
          },
          "metadata": {
            "tags": [],
            "needs_background": "light"
          }
        }
      ]
    },
    {
      "cell_type": "code",
      "metadata": {
        "colab_type": "code",
        "id": "Nog_GGBUQo8h",
        "colab": {}
      },
      "source": [
        "# Save the Model\n",
        "model.save(model_path+'text_model_11.h5')\n",
        "model.save('text_model_11.h5')"
      ],
      "execution_count": null,
      "outputs": []
    },
    {
      "cell_type": "code",
      "metadata": {
        "colab_type": "code",
        "id": "cW5zh5yvQo8i",
        "colab": {}
      },
      "source": [
        "import tensorflow as tf\n",
        "tf.keras.backend.clear_session()"
      ],
      "execution_count": null,
      "outputs": []
    },
    {
      "cell_type": "markdown",
      "metadata": {
        "colab_type": "text",
        "id": "51TfvYu-SnPa"
      },
      "source": [
        "### Model #11 (Replicate as necessary for other models) (Reg)\n"
      ]
    },
    {
      "cell_type": "code",
      "metadata": {
        "colab_type": "code",
        "id": "C_RrRF88SnPe",
        "colab": {
          "base_uri": "https://localhost:8080/",
          "height": 357
        },
        "outputId": "f3439927-3b61-45ba-977d-3d486d179726"
      },
      "source": [
        "# Build the Model\n",
        "from tensorflow.keras.models import Sequential\n",
        "from tensorflow.keras import layers\n",
        "from tensorflow.keras.optimizers import RMSprop, Adam\n",
        "from tensorflow.keras import regularizers\n",
        "\n",
        "model = Sequential()\n",
        "model.add(layers.Embedding(max_words, 8, input_length=max_len))\n",
        "model.add(layers.LSTM(1024, return_sequences=True, kernel_regularizer=regularizers.l2(0.001)))\n",
        "model.add(layers.LSTM(1024, kernel_regularizer=regularizers.l2(0.001)))\n",
        "model.add(layers.Flatten())\n",
        "model.add(layers.Dense(32, activation='relu', kernel_regularizer=regularizers.l2(0.001)))\n",
        "model.add(layers.Dense(5, activation='softmax'))\n",
        "model.summary()"
      ],
      "execution_count": null,
      "outputs": [
        {
          "output_type": "stream",
          "text": [
            "Model: \"sequential\"\n",
            "_________________________________________________________________\n",
            "Layer (type)                 Output Shape              Param #   \n",
            "=================================================================\n",
            "embedding (Embedding)        (None, 34, 8)             80000     \n",
            "_________________________________________________________________\n",
            "lstm (LSTM)                  (None, 34, 1024)          4231168   \n",
            "_________________________________________________________________\n",
            "lstm_1 (LSTM)                (None, 1024)              8392704   \n",
            "_________________________________________________________________\n",
            "flatten (Flatten)            (None, 1024)              0         \n",
            "_________________________________________________________________\n",
            "dense (Dense)                (None, 32)                32800     \n",
            "_________________________________________________________________\n",
            "dense_1 (Dense)              (None, 5)                 165       \n",
            "=================================================================\n",
            "Total params: 12,736,837\n",
            "Trainable params: 12,736,837\n",
            "Non-trainable params: 0\n",
            "_________________________________________________________________\n"
          ],
          "name": "stdout"
        }
      ]
    },
    {
      "cell_type": "code",
      "metadata": {
        "colab_type": "code",
        "id": "MD17tbbMSnPh",
        "colab": {
          "base_uri": "https://localhost:8080/",
          "height": 357
        },
        "outputId": "7f8737e9-a385-4133-f834-c9065a606296"
      },
      "source": [
        "# Train the Model\n",
        "\n",
        "model.compile(optimizer=Adam(lr=2e-5),\n",
        "              loss='categorical_crossentropy',\n",
        "              metrics=['acc'])\n",
        "history = model.fit(x_train, y_train,\n",
        "                    epochs=10,\n",
        "                    batch_size=2,\n",
        "                    validation_split=0.2)"
      ],
      "execution_count": null,
      "outputs": [
        {
          "output_type": "stream",
          "text": [
            "Epoch 1/10\n",
            "13614/13614 [==============================] - 338s 25ms/step - loss: 1.5297 - acc: 0.4316 - val_loss: 1.2713 - val_acc: 0.4731\n",
            "Epoch 2/10\n",
            "13614/13614 [==============================] - 337s 25ms/step - loss: 1.2221 - acc: 0.4793 - val_loss: 1.1955 - val_acc: 0.4865\n",
            "Epoch 3/10\n",
            "13614/13614 [==============================] - 337s 25ms/step - loss: 1.1607 - acc: 0.5071 - val_loss: 1.1548 - val_acc: 0.5140\n",
            "Epoch 4/10\n",
            "13614/13614 [==============================] - 337s 25ms/step - loss: 1.1206 - acc: 0.5255 - val_loss: 1.1398 - val_acc: 0.5163\n",
            "Epoch 5/10\n",
            "13614/13614 [==============================] - 337s 25ms/step - loss: 1.0900 - acc: 0.5434 - val_loss: 1.1210 - val_acc: 0.5283\n",
            "Epoch 6/10\n",
            "13614/13614 [==============================] - 337s 25ms/step - loss: 1.0650 - acc: 0.5548 - val_loss: 1.1232 - val_acc: 0.5279\n",
            "Epoch 7/10\n",
            "13614/13614 [==============================] - 337s 25ms/step - loss: 1.0452 - acc: 0.5649 - val_loss: 1.1116 - val_acc: 0.5279\n",
            "Epoch 8/10\n",
            "13614/13614 [==============================] - 337s 25ms/step - loss: 1.0281 - acc: 0.5750 - val_loss: 1.1073 - val_acc: 0.5285\n",
            "Epoch 9/10\n",
            "13614/13614 [==============================] - 336s 25ms/step - loss: 1.0139 - acc: 0.5838 - val_loss: 1.1081 - val_acc: 0.5364\n",
            "Epoch 10/10\n",
            "13614/13614 [==============================] - 337s 25ms/step - loss: 1.0001 - acc: 0.5928 - val_loss: 1.1167 - val_acc: 0.5311\n"
          ],
          "name": "stdout"
        }
      ]
    },
    {
      "cell_type": "code",
      "metadata": {
        "colab_type": "code",
        "id": "AveN7HvaSnPj",
        "colab": {
          "base_uri": "https://localhost:8080/",
          "height": 545
        },
        "outputId": "7927f20d-3ad8-4add-fb82-78964c89c918"
      },
      "source": [
        "# Plot the Training and Validation Accuracy & Loss Scores\n",
        "import matplotlib.pyplot as plt\n",
        "%matplotlib inline\n",
        "\n",
        "acc = history.history['acc']\n",
        "val_acc = history.history['val_acc']\n",
        "loss = history.history['loss']\n",
        "val_loss = history.history['val_loss']\n",
        "\n",
        "epochs = range(len(acc))\n",
        "\n",
        "plt.plot(epochs, acc, 'bo', label='Training acc')\n",
        "plt.plot(epochs, val_acc, 'b', label='Validation acc')\n",
        "plt.title('Training and validation accuracy')\n",
        "plt.legend()\n",
        "\n",
        "plt.figure()\n",
        "\n",
        "plt.plot(epochs, loss, 'bo', label='Training loss')\n",
        "plt.plot(epochs, val_loss, 'b', label='Validation loss')\n",
        "plt.title('Training and validation loss')\n",
        "plt.legend()\n",
        "\n",
        "plt.show()"
      ],
      "execution_count": null,
      "outputs": [
        {
          "output_type": "display_data",
          "data": {
            "image/png": "[encoded data removed]",
            "text/plain": [
              "<Figure size 432x288 with 1 Axes>"
            ]
          },
          "metadata": {
            "tags": [],
            "needs_background": "light"
          }
        },
        {
          "output_type": "display_data",
          "data": {
            "image/png": "[encoded data removed]",
            "text/plain": [
              "<Figure size 432x288 with 1 Axes>"
            ]
          },
          "metadata": {
            "tags": [],
            "needs_background": "light"
          }
        }
      ]
    },
    {
      "cell_type": "code",
      "metadata": {
        "colab_type": "code",
        "id": "1KR57hnpSnPk",
        "colab": {}
      },
      "source": [
        "# Save the Model\n",
        "model.save(model_path+'text_model_11_1.h5')\n",
        "model.save('text_model_11_1.h5')"
      ],
      "execution_count": null,
      "outputs": []
    },
    {
      "cell_type": "code",
      "metadata": {
        "colab_type": "code",
        "id": "Xj53FMDtSnPm",
        "colab": {}
      },
      "source": [
        "import tensorflow as tf\n",
        "tf.keras.backend.clear_session()"
      ],
      "execution_count": null,
      "outputs": []
    },
    {
      "cell_type": "markdown",
      "metadata": {
        "colab_type": "text",
        "id": "oXP6X3bxNf7z"
      },
      "source": [
        "### Model #12 (Replicate as necessary for other models)\n"
      ]
    },
    {
      "cell_type": "code",
      "metadata": {
        "colab_type": "code",
        "id": "a80vJ46NNf73",
        "colab": {
          "base_uri": "https://localhost:8080/",
          "height": 357
        },
        "outputId": "789df73a-7fdd-4e70-f0c3-764271501c22"
      },
      "source": [
        "# Build the Model\n",
        "from tensorflow.keras.models import Sequential\n",
        "from tensorflow.keras import layers\n",
        "from tensorflow.keras.optimizers import RMSprop, Adam\n",
        "from tensorflow.keras import regularizers\n",
        "\n",
        "model = Sequential()\n",
        "model.add(layers.Embedding(max_words, 8, input_length=max_len))\n",
        "model.add(layers.LSTM(1024, return_sequences=True, kernel_regularizer=regularizers.l2(0.001)))\n",
        "model.add(layers.LSTM(1024, kernel_regularizer=regularizers.l2(0.001)))\n",
        "model.add(layers.Flatten())\n",
        "model.add(layers.Dense(32, activation='relu', kernel_regularizer=regularizers.l2(0.001)))\n",
        "model.add(layers.Dense(5, activation='softmax'))\n",
        "model.summary()"
      ],
      "execution_count": null,
      "outputs": [
        {
          "output_type": "stream",
          "text": [
            "Model: \"sequential\"\n",
            "_________________________________________________________________\n",
            "Layer (type)                 Output Shape              Param #   \n",
            "=================================================================\n",
            "embedding (Embedding)        (None, 34, 8)             80000     \n",
            "_________________________________________________________________\n",
            "lstm (LSTM)                  (None, 34, 1024)          4231168   \n",
            "_________________________________________________________________\n",
            "lstm_1 (LSTM)                (None, 1024)              8392704   \n",
            "_________________________________________________________________\n",
            "flatten (Flatten)            (None, 1024)              0         \n",
            "_________________________________________________________________\n",
            "dense (Dense)                (None, 32)                32800     \n",
            "_________________________________________________________________\n",
            "dense_1 (Dense)              (None, 5)                 165       \n",
            "=================================================================\n",
            "Total params: 12,736,837\n",
            "Trainable params: 12,736,837\n",
            "Non-trainable params: 0\n",
            "_________________________________________________________________\n"
          ],
          "name": "stdout"
        }
      ]
    },
    {
      "cell_type": "code",
      "metadata": {
        "colab_type": "code",
        "id": "UYnzcsTxNf77",
        "colab": {
          "base_uri": "https://localhost:8080/",
          "height": 357
        },
        "outputId": "8884a551-5dc9-450f-b4c3-ccdd524fe715"
      },
      "source": [
        "# Train the Model\n",
        "\n",
        "model.compile(optimizer=Adam(lr=1e-4),\n",
        "              loss='categorical_crossentropy',\n",
        "              metrics=['acc'])\n",
        "history = model.fit(x_train, y_train,\n",
        "                    epochs=10,\n",
        "                    batch_size=128,\n",
        "                    validation_split=0.2)"
      ],
      "execution_count": null,
      "outputs": [
        {
          "output_type": "stream",
          "text": [
            "Epoch 1/10\n",
            "213/213 [==============================] - 26s 124ms/step - loss: 2.2719 - acc: 0.4224 - val_loss: 1.7392 - val_acc: 0.4311\n",
            "Epoch 2/10\n",
            "213/213 [==============================] - 26s 122ms/step - loss: 1.5847 - acc: 0.4225 - val_loss: 1.4813 - val_acc: 0.4311\n",
            "Epoch 3/10\n",
            "213/213 [==============================] - 25s 117ms/step - loss: 1.3684 - acc: 0.4553 - val_loss: 1.2592 - val_acc: 0.4944\n",
            "Epoch 4/10\n",
            "213/213 [==============================] - 25s 119ms/step - loss: 1.1974 - acc: 0.5078 - val_loss: 1.1812 - val_acc: 0.5175\n",
            "Epoch 5/10\n",
            "213/213 [==============================] - 26s 120ms/step - loss: 1.1210 - acc: 0.5379 - val_loss: 1.1445 - val_acc: 0.5203\n",
            "Epoch 6/10\n",
            "213/213 [==============================] - 25s 119ms/step - loss: 1.0748 - acc: 0.5579 - val_loss: 1.1310 - val_acc: 0.5291\n",
            "Epoch 7/10\n",
            "213/213 [==============================] - 25s 119ms/step - loss: 1.0347 - acc: 0.5775 - val_loss: 1.1318 - val_acc: 0.5281\n",
            "Epoch 8/10\n",
            "213/213 [==============================] - 26s 120ms/step - loss: 1.0041 - acc: 0.5911 - val_loss: 1.1266 - val_acc: 0.5314\n",
            "Epoch 9/10\n",
            "213/213 [==============================] - 26s 120ms/step - loss: 0.9834 - acc: 0.6043 - val_loss: 1.1538 - val_acc: 0.5325\n",
            "Epoch 10/10\n",
            "213/213 [==============================] - 26s 120ms/step - loss: 0.9633 - acc: 0.6167 - val_loss: 1.1386 - val_acc: 0.5360\n"
          ],
          "name": "stdout"
        }
      ]
    },
    {
      "cell_type": "code",
      "metadata": {
        "colab_type": "code",
        "id": "B7uCCiquNf78",
        "colab": {
          "base_uri": "https://localhost:8080/",
          "height": 545
        },
        "outputId": "2053325b-fb0f-477b-d617-82018f8ab9df"
      },
      "source": [
        "# Plot the Training and Validation Accuracy & Loss Scores\n",
        "import matplotlib.pyplot as plt\n",
        "%matplotlib inline\n",
        "\n",
        "acc = history.history['acc']\n",
        "val_acc = history.history['val_acc']\n",
        "loss = history.history['loss']\n",
        "val_loss = history.history['val_loss']\n",
        "\n",
        "epochs = range(len(acc))\n",
        "\n",
        "plt.plot(epochs, acc, 'bo', label='Training acc')\n",
        "plt.plot(epochs, val_acc, 'b', label='Validation acc')\n",
        "plt.title('Training and validation accuracy')\n",
        "plt.legend()\n",
        "\n",
        "plt.figure()\n",
        "\n",
        "plt.plot(epochs, loss, 'bo', label='Training loss')\n",
        "plt.plot(epochs, val_loss, 'b', label='Validation loss')\n",
        "plt.title('Training and validation loss')\n",
        "plt.legend()\n",
        "\n",
        "plt.show()"
      ],
      "execution_count": null,
      "outputs": [
        {
          "output_type": "display_data",
          "data": {
            "image/png": "[encoded data removed]",
            "text/plain": [
              "<Figure size 432x288 with 1 Axes>"
            ]
          },
          "metadata": {
            "tags": [],
            "needs_background": "light"
          }
        },
        {
          "output_type": "display_data",
          "data": {
            "image/png": "[encoded data removed]",
            "text/plain": [
              "<Figure size 432x288 with 1 Axes>"
            ]
          },
          "metadata": {
            "tags": [],
            "needs_background": "light"
          }
        }
      ]
    },
    {
      "cell_type": "code",
      "metadata": {
        "colab_type": "code",
        "id": "SysrKWv1Nf7-",
        "colab": {}
      },
      "source": [
        "# Save the Model\n",
        "model.save(model_path+'text_model_12.h5')\n",
        "model.save('text_model_12.h5')"
      ],
      "execution_count": null,
      "outputs": []
    },
    {
      "cell_type": "code",
      "metadata": {
        "colab_type": "code",
        "id": "dNMXOcS_Nf7_",
        "colab": {}
      },
      "source": [
        "import tensorflow as tf\n",
        "tf.keras.backend.clear_session()"
      ],
      "execution_count": null,
      "outputs": []
    },
    {
      "cell_type": "markdown",
      "metadata": {
        "colab_type": "text",
        "id": "NjMTW3oydyBK"
      },
      "source": [
        "### Model #13 (Replicate as necessary for other models)\n"
      ]
    },
    {
      "cell_type": "code",
      "metadata": {
        "colab_type": "code",
        "id": "yumedRQ-dyBO",
        "colab": {
          "base_uri": "https://localhost:8080/",
          "height": 357
        },
        "outputId": "daf088bf-448c-409c-efdb-164b0fe95df7"
      },
      "source": [
        "# Build the Model\n",
        "from tensorflow.keras.models import Sequential\n",
        "from tensorflow.keras import layers\n",
        "from tensorflow.keras.optimizers import RMSprop, SGD\n",
        "\n",
        "model = Sequential()\n",
        "model.add(layers.Embedding(max_words, 8, input_length=max_len))\n",
        "model.add(layers.LSTM(1024, return_sequences=True))\n",
        "model.add(layers.LSTM(1024))\n",
        "model.add(layers.Flatten())\n",
        "model.add(layers.Dense(32, activation='relu'))\n",
        "model.add(layers.Dense(5, activation='softmax'))\n",
        "model.summary()"
      ],
      "execution_count": null,
      "outputs": [
        {
          "output_type": "stream",
          "text": [
            "Model: \"sequential_1\"\n",
            "_________________________________________________________________\n",
            "Layer (type)                 Output Shape              Param #   \n",
            "=================================================================\n",
            "embedding_1 (Embedding)      (None, 34, 8)             80000     \n",
            "_________________________________________________________________\n",
            "lstm_2 (LSTM)                (None, 34, 1024)          4231168   \n",
            "_________________________________________________________________\n",
            "lstm_3 (LSTM)                (None, 1024)              8392704   \n",
            "_________________________________________________________________\n",
            "flatten_1 (Flatten)          (None, 1024)              0         \n",
            "_________________________________________________________________\n",
            "dense_2 (Dense)              (None, 32)                32800     \n",
            "_________________________________________________________________\n",
            "dense_3 (Dense)              (None, 5)                 165       \n",
            "=================================================================\n",
            "Total params: 12,736,837\n",
            "Trainable params: 12,736,837\n",
            "Non-trainable params: 0\n",
            "_________________________________________________________________\n"
          ],
          "name": "stdout"
        }
      ]
    },
    {
      "cell_type": "code",
      "metadata": {
        "colab_type": "code",
        "id": "2160HXo0dyBR",
        "colab": {
          "base_uri": "https://localhost:8080/",
          "height": 564
        },
        "outputId": "00813c5f-72a9-4b4e-9034-f3eb4f47a533"
      },
      "source": [
        "# Train the Model\n",
        "\n",
        "model.compile(optimizer=SGD(lr=1e-4, momentum=0.9),\n",
        "              loss='categorical_crossentropy',\n",
        "              metrics=['acc'])\n",
        "history = model.fit(x_train, y_train,\n",
        "                    epochs=15,\n",
        "                    batch_size=2,\n",
        "                    validation_split=0.2)"
      ],
      "execution_count": null,
      "outputs": [
        {
          "output_type": "stream",
          "text": [
            "Epoch 1/15\n",
            "13613/13614 [============================>.] - ETA: 0s - loss: 1.4341 - acc: 0.4224WARNING:tensorflow:Callbacks method `on_test_batch_end` is slow compared to the batch time (batch time: 0.0035s vs `on_test_batch_end` time: 0.0060s). Check your callbacks.\n",
            "13614/13614 [==============================] - 319s 23ms/step - loss: 1.4341 - acc: 0.4224 - val_loss: 1.4242 - val_acc: 0.4311\n",
            "Epoch 2/15\n",
            "13614/13614 [==============================] - 317s 23ms/step - loss: 1.4291 - acc: 0.4225 - val_loss: 1.4237 - val_acc: 0.4311\n",
            "Epoch 3/15\n",
            "13614/13614 [==============================] - 316s 23ms/step - loss: 1.4287 - acc: 0.4225 - val_loss: 1.4242 - val_acc: 0.4311\n",
            "Epoch 4/15\n",
            "13614/13614 [==============================] - 315s 23ms/step - loss: 1.4284 - acc: 0.4225 - val_loss: 1.4235 - val_acc: 0.4311\n",
            "Epoch 5/15\n",
            "13614/13614 [==============================] - 317s 23ms/step - loss: 1.4281 - acc: 0.4225 - val_loss: 1.4222 - val_acc: 0.4311\n",
            "Epoch 6/15\n",
            "13614/13614 [==============================] - 317s 23ms/step - loss: 1.4273 - acc: 0.4225 - val_loss: 1.4219 - val_acc: 0.4311\n",
            "Epoch 7/15\n",
            "13614/13614 [==============================] - 317s 23ms/step - loss: 1.4251 - acc: 0.4225 - val_loss: 1.4188 - val_acc: 0.4311\n",
            "Epoch 8/15\n",
            "13614/13614 [==============================] - 314s 23ms/step - loss: 1.4194 - acc: 0.4225 - val_loss: 1.4079 - val_acc: 0.4311\n",
            "Epoch 9/15\n",
            "13614/13614 [==============================] - 314s 23ms/step - loss: 1.3838 - acc: 0.4226 - val_loss: 1.3196 - val_acc: 0.4324\n",
            "Epoch 10/15\n",
            "13614/13614 [==============================] - 314s 23ms/step - loss: 1.2638 - acc: 0.4418 - val_loss: 1.2032 - val_acc: 0.4645\n",
            "Epoch 11/15\n",
            "13614/13614 [==============================] - 315s 23ms/step - loss: 1.2036 - acc: 0.4634 - val_loss: 1.1939 - val_acc: 0.4686\n",
            "Epoch 12/15\n",
            "13614/13614 [==============================] - 314s 23ms/step - loss: 1.1756 - acc: 0.4846 - val_loss: 1.1526 - val_acc: 0.4924\n",
            "Epoch 13/15\n",
            "13614/13614 [==============================] - 314s 23ms/step - loss: 1.1508 - acc: 0.5008 - val_loss: 1.1374 - val_acc: 0.5169\n",
            "Epoch 14/15\n",
            "13614/13614 [==============================] - 313s 23ms/step - loss: 1.1307 - acc: 0.5106 - val_loss: 1.1176 - val_acc: 0.5229\n",
            "Epoch 15/15\n",
            "13614/13614 [==============================] - 314s 23ms/step - loss: 1.1119 - acc: 0.5227 - val_loss: 1.1092 - val_acc: 0.5288\n"
          ],
          "name": "stdout"
        }
      ]
    },
    {
      "cell_type": "code",
      "metadata": {
        "colab_type": "code",
        "id": "KW7lPhNsdyBT",
        "colab": {
          "base_uri": "https://localhost:8080/",
          "height": 545
        },
        "outputId": "b27fa51c-b325-4b4a-c79b-72d1d4b34ba2"
      },
      "source": [
        "# Plot the Training and Validation Accuracy & Loss Scores\n",
        "import matplotlib.pyplot as plt\n",
        "%matplotlib inline\n",
        "\n",
        "acc = history.history['acc']\n",
        "val_acc = history.history['val_acc']\n",
        "loss = history.history['loss']\n",
        "val_loss = history.history['val_loss']\n",
        "\n",
        "epochs = range(len(acc))\n",
        "\n",
        "plt.plot(epochs, acc, 'bo', label='Training acc')\n",
        "plt.plot(epochs, val_acc, 'b', label='Validation acc')\n",
        "plt.title('Training and validation accuracy')\n",
        "plt.legend()\n",
        "\n",
        "plt.figure()\n",
        "\n",
        "plt.plot(epochs, loss, 'bo', label='Training loss')\n",
        "plt.plot(epochs, val_loss, 'b', label='Validation loss')\n",
        "plt.title('Training and validation loss')\n",
        "plt.legend()\n",
        "\n",
        "plt.show()"
      ],
      "execution_count": null,
      "outputs": [
        {
          "output_type": "display_data",
          "data": {
            "image/png": "[encoded data removed]",
            "text/plain": [
              "<Figure size 432x288 with 1 Axes>"
            ]
          },
          "metadata": {
            "tags": [],
            "needs_background": "light"
          }
        },
        {
          "output_type": "display_data",
          "data": {
            "image/png": "[encoded data removed]",
            "text/plain": [
              "<Figure size 432x288 with 1 Axes>"
            ]
          },
          "metadata": {
            "tags": [],
            "needs_background": "light"
          }
        }
      ]
    },
    {
      "cell_type": "code",
      "metadata": {
        "colab_type": "code",
        "id": "eQiBBpyQdyBU",
        "colab": {}
      },
      "source": [
        "# Save the Model\n",
        "model.save(model_path+'text_model_13.h5')\n",
        "model.save('text_model_13.h5')"
      ],
      "execution_count": null,
      "outputs": []
    },
    {
      "cell_type": "code",
      "metadata": {
        "colab_type": "code",
        "id": "rZ6bKJX3dyBW",
        "colab": {}
      },
      "source": [
        "import tensorflow as tf\n",
        "tf.keras.backend.clear_session()"
      ],
      "execution_count": null,
      "outputs": []
    },
    {
      "cell_type": "markdown",
      "metadata": {
        "colab_type": "text",
        "id": "ap2r3-oYGrXG"
      },
      "source": [
        "### Model #13_1 (Replicate as necessary for other models)\n"
      ]
    },
    {
      "cell_type": "code",
      "metadata": {
        "colab_type": "code",
        "id": "M_k0ENaLGrXH",
        "colab": {
          "base_uri": "https://localhost:8080/",
          "height": 357
        },
        "outputId": "17875b10-52d7-4041-badd-a619cf8d94ba"
      },
      "source": [
        "# Build the Model\n",
        "from tensorflow.keras.models import Sequential\n",
        "from tensorflow.keras import layers\n",
        "from tensorflow.keras.optimizers import RMSprop, SGD\n",
        "\n",
        "model = Sequential()\n",
        "model.add(layers.Embedding(max_words, 8, input_length=max_len))\n",
        "model.add(layers.LSTM(1024, return_sequences=True))\n",
        "model.add(layers.LSTM(1024))\n",
        "model.add(layers.Flatten())\n",
        "model.add(layers.Dense(32, activation='relu'))\n",
        "model.add(layers.Dense(5, activation='softmax'))\n",
        "model.summary()"
      ],
      "execution_count": null,
      "outputs": [
        {
          "output_type": "stream",
          "text": [
            "Model: \"sequential\"\n",
            "_________________________________________________________________\n",
            "Layer (type)                 Output Shape              Param #   \n",
            "=================================================================\n",
            "embedding (Embedding)        (None, 34, 8)             80000     \n",
            "_________________________________________________________________\n",
            "lstm (LSTM)                  (None, 34, 1024)          4231168   \n",
            "_________________________________________________________________\n",
            "lstm_1 (LSTM)                (None, 1024)              8392704   \n",
            "_________________________________________________________________\n",
            "flatten (Flatten)            (None, 1024)              0         \n",
            "_________________________________________________________________\n",
            "dense (Dense)                (None, 32)                32800     \n",
            "_________________________________________________________________\n",
            "dense_1 (Dense)              (None, 5)                 165       \n",
            "=================================================================\n",
            "Total params: 12,736,837\n",
            "Trainable params: 12,736,837\n",
            "Non-trainable params: 0\n",
            "_________________________________________________________________\n"
          ],
          "name": "stdout"
        }
      ]
    },
    {
      "cell_type": "code",
      "metadata": {
        "colab_type": "code",
        "id": "K62JAoj6GrXJ",
        "colab": {
          "base_uri": "https://localhost:8080/",
          "height": 1000
        },
        "outputId": "536cd2c0-5827-4a42-ec9a-8de5399514a9"
      },
      "source": [
        "# Train the Model\n",
        "\n",
        "model.compile(optimizer=SGD(lr=1e-4, momentum=0.9),\n",
        "              loss='categorical_crossentropy',\n",
        "              metrics=['acc'])\n",
        "history = model.fit(x_train, y_train,\n",
        "                    epochs=50,\n",
        "                    batch_size=2,\n",
        "                    validation_split=0.2)"
      ],
      "execution_count": null,
      "outputs": [
        {
          "output_type": "stream",
          "text": [
            "Epoch 1/50\n",
            "13612/13614 [============================>.] - ETA: 0s - loss: 1.4364 - acc: 0.4224WARNING:tensorflow:Callbacks method `on_test_batch_end` is slow compared to the batch time (batch time: 0.0033s vs `on_test_batch_end` time: 0.0062s). Check your callbacks.\n",
            "13614/13614 [==============================] - 316s 23ms/step - loss: 1.4363 - acc: 0.4225 - val_loss: 1.4233 - val_acc: 0.4311\n",
            "Epoch 2/50\n",
            "13614/13614 [==============================] - 316s 23ms/step - loss: 1.4289 - acc: 0.4225 - val_loss: 1.4262 - val_acc: 0.4311\n",
            "Epoch 3/50\n",
            "13614/13614 [==============================] - 315s 23ms/step - loss: 1.4288 - acc: 0.4225 - val_loss: 1.4231 - val_acc: 0.4311\n",
            "Epoch 4/50\n",
            "13614/13614 [==============================] - 318s 23ms/step - loss: 1.4286 - acc: 0.4225 - val_loss: 1.4248 - val_acc: 0.4311\n",
            "Epoch 5/50\n",
            "13614/13614 [==============================] - 315s 23ms/step - loss: 1.4281 - acc: 0.4225 - val_loss: 1.4230 - val_acc: 0.4311\n",
            "Epoch 6/50\n",
            "13614/13614 [==============================] - 315s 23ms/step - loss: 1.4277 - acc: 0.4225 - val_loss: 1.4220 - val_acc: 0.4311\n",
            "Epoch 7/50\n",
            "13614/13614 [==============================] - 314s 23ms/step - loss: 1.4266 - acc: 0.4225 - val_loss: 1.4209 - val_acc: 0.4311\n",
            "Epoch 8/50\n",
            "13614/13614 [==============================] - 315s 23ms/step - loss: 1.4237 - acc: 0.4225 - val_loss: 1.4170 - val_acc: 0.4311\n",
            "Epoch 9/50\n",
            "13614/13614 [==============================] - 317s 23ms/step - loss: 1.4136 - acc: 0.4225 - val_loss: 1.3951 - val_acc: 0.4311\n",
            "Epoch 10/50\n",
            "13614/13614 [==============================] - 315s 23ms/step - loss: 1.3500 - acc: 0.4232 - val_loss: 1.3975 - val_acc: 0.4311\n",
            "Epoch 11/50\n",
            "13614/13614 [==============================] - 315s 23ms/step - loss: 1.2391 - acc: 0.4359 - val_loss: 1.2061 - val_acc: 0.4721\n",
            "Epoch 12/50\n",
            "13614/13614 [==============================] - 314s 23ms/step - loss: 1.1977 - acc: 0.4700 - val_loss: 1.1746 - val_acc: 0.4919\n",
            "Epoch 13/50\n",
            "13614/13614 [==============================] - 315s 23ms/step - loss: 1.1722 - acc: 0.4875 - val_loss: 1.1616 - val_acc: 0.4988\n",
            "Epoch 14/50\n",
            "13614/13614 [==============================] - 314s 23ms/step - loss: 1.1493 - acc: 0.5009 - val_loss: 1.1394 - val_acc: 0.5079\n",
            "Epoch 15/50\n",
            "13614/13614 [==============================] - 313s 23ms/step - loss: 1.1303 - acc: 0.5120 - val_loss: 1.1220 - val_acc: 0.5216\n",
            "Epoch 16/50\n",
            "13614/13614 [==============================] - 313s 23ms/step - loss: 1.1122 - acc: 0.5193 - val_loss: 1.1342 - val_acc: 0.5084\n",
            "Epoch 17/50\n",
            "13614/13614 [==============================] - 313s 23ms/step - loss: 1.0966 - acc: 0.5289 - val_loss: 1.1281 - val_acc: 0.5106\n",
            "Epoch 18/50\n",
            "13614/13614 [==============================] - 313s 23ms/step - loss: 1.0834 - acc: 0.5335 - val_loss: 1.0951 - val_acc: 0.5283\n",
            "Epoch 19/50\n",
            "13614/13614 [==============================] - 313s 23ms/step - loss: 1.0709 - acc: 0.5401 - val_loss: 1.1086 - val_acc: 0.5142\n",
            "Epoch 20/50\n",
            "13614/13614 [==============================] - 314s 23ms/step - loss: 1.0603 - acc: 0.5418 - val_loss: 1.0806 - val_acc: 0.5360\n",
            "Epoch 21/50\n",
            "13614/13614 [==============================] - 314s 23ms/step - loss: 1.0490 - acc: 0.5512 - val_loss: 1.0890 - val_acc: 0.5325\n",
            "Epoch 22/50\n",
            "13614/13614 [==============================] - 314s 23ms/step - loss: 1.0383 - acc: 0.5514 - val_loss: 1.1075 - val_acc: 0.5142\n",
            "Epoch 23/50\n",
            "13614/13614 [==============================] - 314s 23ms/step - loss: 1.0255 - acc: 0.5590 - val_loss: 1.0943 - val_acc: 0.5323\n",
            "Epoch 24/50\n",
            "13614/13614 [==============================] - 315s 23ms/step - loss: 1.0183 - acc: 0.5631 - val_loss: 1.1057 - val_acc: 0.5285\n",
            "Epoch 25/50\n",
            "13614/13614 [==============================] - 314s 23ms/step - loss: 1.0077 - acc: 0.5657 - val_loss: 1.1680 - val_acc: 0.5116\n",
            "Epoch 26/50\n",
            "13614/13614 [==============================] - 314s 23ms/step - loss: 0.9960 - acc: 0.5718 - val_loss: 1.0825 - val_acc: 0.5402\n",
            "Epoch 27/50\n",
            "13614/13614 [==============================] - 314s 23ms/step - loss: 0.9884 - acc: 0.5775 - val_loss: 1.0813 - val_acc: 0.5449\n",
            "Epoch 28/50\n",
            "13614/13614 [==============================] - 314s 23ms/step - loss: 0.9786 - acc: 0.5837 - val_loss: 1.0966 - val_acc: 0.5405\n",
            "Epoch 29/50\n",
            "13614/13614 [==============================] - 313s 23ms/step - loss: 0.9715 - acc: 0.5865 - val_loss: 1.1044 - val_acc: 0.5335\n",
            "Epoch 30/50\n",
            "13614/13614 [==============================] - 314s 23ms/step - loss: 0.9634 - acc: 0.5879 - val_loss: 1.0830 - val_acc: 0.5276\n",
            "Epoch 31/50\n",
            "13614/13614 [==============================] - 314s 23ms/step - loss: 0.9549 - acc: 0.5898 - val_loss: 1.0816 - val_acc: 0.5382\n",
            "Epoch 32/50\n",
            "13614/13614 [==============================] - 314s 23ms/step - loss: 0.9484 - acc: 0.5952 - val_loss: 1.0825 - val_acc: 0.5405\n",
            "Epoch 33/50\n",
            "13614/13614 [==============================] - 313s 23ms/step - loss: 0.9416 - acc: 0.5999 - val_loss: 1.1004 - val_acc: 0.5289\n",
            "Epoch 34/50\n",
            "13614/13614 [==============================] - 314s 23ms/step - loss: 0.9344 - acc: 0.6049 - val_loss: 1.0863 - val_acc: 0.5413\n",
            "Epoch 35/50\n",
            "13614/13614 [==============================] - 314s 23ms/step - loss: 0.9255 - acc: 0.6096 - val_loss: 1.0959 - val_acc: 0.5367\n",
            "Epoch 36/50\n",
            "13614/13614 [==============================] - 313s 23ms/step - loss: 0.9201 - acc: 0.6089 - val_loss: 1.0998 - val_acc: 0.5338\n",
            "Epoch 37/50\n",
            "13614/13614 [==============================] - 313s 23ms/step - loss: 0.9145 - acc: 0.6125 - val_loss: 1.1311 - val_acc: 0.5382\n",
            "Epoch 38/50\n",
            "13614/13614 [==============================] - 313s 23ms/step - loss: 0.9064 - acc: 0.6180 - val_loss: 1.1020 - val_acc: 0.5357\n",
            "Epoch 39/50\n",
            "13614/13614 [==============================] - 313s 23ms/step - loss: 0.8990 - acc: 0.6191 - val_loss: 1.1045 - val_acc: 0.5394\n",
            "Epoch 40/50\n",
            "13614/13614 [==============================] - 313s 23ms/step - loss: 0.8948 - acc: 0.6208 - val_loss: 1.1221 - val_acc: 0.5283\n",
            "Epoch 41/50\n",
            "13614/13614 [==============================] - 313s 23ms/step - loss: 0.8888 - acc: 0.6249 - val_loss: 1.0981 - val_acc: 0.5413\n",
            "Epoch 42/50\n",
            "13614/13614 [==============================] - 313s 23ms/step - loss: 0.8800 - acc: 0.6290 - val_loss: 1.1348 - val_acc: 0.5392\n",
            "Epoch 43/50\n",
            "13614/13614 [==============================] - 313s 23ms/step - loss: 0.8740 - acc: 0.6303 - val_loss: 1.1128 - val_acc: 0.5361\n",
            "Epoch 44/50\n",
            "13614/13614 [==============================] - 313s 23ms/step - loss: 0.8680 - acc: 0.6310 - val_loss: 1.1355 - val_acc: 0.5367\n",
            "Epoch 45/50\n",
            "13614/13614 [==============================] - 312s 23ms/step - loss: 0.8612 - acc: 0.6358 - val_loss: 1.1370 - val_acc: 0.5389\n",
            "Epoch 46/50\n",
            "13614/13614 [==============================] - 313s 23ms/step - loss: 0.8557 - acc: 0.6374 - val_loss: 1.1046 - val_acc: 0.5401\n",
            "Epoch 47/50\n",
            "13614/13614 [==============================] - 314s 23ms/step - loss: 0.8478 - acc: 0.6448 - val_loss: 1.1158 - val_acc: 0.5460\n",
            "Epoch 48/50\n",
            "13614/13614 [==============================] - 313s 23ms/step - loss: 0.8393 - acc: 0.6454 - val_loss: 1.1039 - val_acc: 0.5451\n",
            "Epoch 49/50\n",
            "13614/13614 [==============================] - 313s 23ms/step - loss: 0.8339 - acc: 0.6489 - val_loss: 1.1217 - val_acc: 0.5517\n",
            "Epoch 50/50\n",
            "13614/13614 [==============================] - 313s 23ms/step - loss: 0.8286 - acc: 0.6519 - val_loss: 1.1066 - val_acc: 0.5502\n"
          ],
          "name": "stdout"
        }
      ]
    },
    {
      "cell_type": "code",
      "metadata": {
        "colab_type": "code",
        "id": "UoMfnNlgGrXL",
        "colab": {
          "base_uri": "https://localhost:8080/",
          "height": 545
        },
        "outputId": "790cbfec-e544-4617-b72a-05b1fbde5cbd"
      },
      "source": [
        "# Plot the Training and Validation Accuracy & Loss Scores\n",
        "import matplotlib.pyplot as plt\n",
        "%matplotlib inline\n",
        "\n",
        "acc = history.history['acc']\n",
        "val_acc = history.history['val_acc']\n",
        "loss = history.history['loss']\n",
        "val_loss = history.history['val_loss']\n",
        "\n",
        "epochs = range(len(acc))\n",
        "\n",
        "plt.plot(epochs, acc, 'bo', label='Training acc')\n",
        "plt.plot(epochs, val_acc, 'b', label='Validation acc')\n",
        "plt.title('Training and validation accuracy')\n",
        "plt.legend()\n",
        "\n",
        "plt.figure()\n",
        "\n",
        "plt.plot(epochs, loss, 'bo', label='Training loss')\n",
        "plt.plot(epochs, val_loss, 'b', label='Validation loss')\n",
        "plt.title('Training and validation loss')\n",
        "plt.legend()\n",
        "\n",
        "plt.show()"
      ],
      "execution_count": null,
      "outputs": [
        {
          "output_type": "display_data",
          "data": {
            "image/png": "[encoded data removed]",
            "text/plain": [
              "<Figure size 432x288 with 1 Axes>"
            ]
          },
          "metadata": {
            "tags": [],
            "needs_background": "light"
          }
        },
        {
          "output_type": "display_data",
          "data": {
            "image/png": "[encoded data removed]",
            "text/plain": [
              "<Figure size 432x288 with 1 Axes>"
            ]
          },
          "metadata": {
            "tags": [],
            "needs_background": "light"
          }
        }
      ]
    },
    {
      "cell_type": "code",
      "metadata": {
        "colab_type": "code",
        "id": "5I291vfiGrXM",
        "colab": {}
      },
      "source": [
        "# Save the Model\n",
        "model.save(model_path+'text_model_13_1.h5')\n",
        "model.save('text_model_13_1.h5')"
      ],
      "execution_count": null,
      "outputs": []
    },
    {
      "cell_type": "code",
      "metadata": {
        "colab_type": "code",
        "id": "E0Wh1EhrGrXO",
        "colab": {}
      },
      "source": [
        "import tensorflow as tf\n",
        "tf.keras.backend.clear_session()"
      ],
      "execution_count": null,
      "outputs": []
    },
    {
      "cell_type": "markdown",
      "metadata": {
        "colab_type": "text",
        "id": "QGatKOtJvzpc"
      },
      "source": [
        "### Model #14 (model11 + 20e)"
      ]
    },
    {
      "cell_type": "code",
      "metadata": {
        "colab_type": "code",
        "id": "oc6X_RtOvzpd",
        "colab": {
          "base_uri": "https://localhost:8080/",
          "height": 357
        },
        "outputId": "90b70962-9b84-4d58-fc35-ec7bb106c609"
      },
      "source": [
        "# Build the Model\n",
        "from tensorflow.keras.models import Sequential\n",
        "from tensorflow.keras import layers\n",
        "from tensorflow.keras.optimizers import RMSprop, Adam\n",
        "\n",
        "model = Sequential()\n",
        "model.add(layers.Embedding(max_words, 8, input_length=max_len))\n",
        "model.add(layers.LSTM(1024, return_sequences=True))\n",
        "model.add(layers.LSTM(1024))\n",
        "model.add(layers.Flatten())\n",
        "model.add(layers.Dense(32, activation='relu'))\n",
        "model.add(layers.Dense(5, activation='softmax'))\n",
        "model.summary()"
      ],
      "execution_count": null,
      "outputs": [
        {
          "output_type": "stream",
          "text": [
            "Model: \"sequential\"\n",
            "_________________________________________________________________\n",
            "Layer (type)                 Output Shape              Param #   \n",
            "=================================================================\n",
            "embedding (Embedding)        (None, 34, 8)             80000     \n",
            "_________________________________________________________________\n",
            "lstm (LSTM)                  (None, 34, 1024)          4231168   \n",
            "_________________________________________________________________\n",
            "lstm_1 (LSTM)                (None, 1024)              8392704   \n",
            "_________________________________________________________________\n",
            "flatten (Flatten)            (None, 1024)              0         \n",
            "_________________________________________________________________\n",
            "dense (Dense)                (None, 32)                32800     \n",
            "_________________________________________________________________\n",
            "dense_1 (Dense)              (None, 5)                 165       \n",
            "=================================================================\n",
            "Total params: 12,736,837\n",
            "Trainable params: 12,736,837\n",
            "Non-trainable params: 0\n",
            "_________________________________________________________________\n"
          ],
          "name": "stdout"
        }
      ]
    },
    {
      "cell_type": "code",
      "metadata": {
        "colab_type": "code",
        "id": "mrmEewQZvzpg",
        "colab": {
          "base_uri": "https://localhost:8080/",
          "height": 734
        },
        "outputId": "bed692df-815f-454e-b1f0-0a8385445add"
      },
      "source": [
        "# Train the Model\n",
        "\n",
        "model.compile(optimizer=Adam(lr=1e-4),\n",
        "              loss='categorical_crossentropy',\n",
        "              metrics=['acc'])\n",
        "history = model.fit(x_train, y_train,\n",
        "                    epochs=20,\n",
        "                    batch_size=2,\n",
        "                    validation_split=0.2)"
      ],
      "execution_count": null,
      "outputs": [
        {
          "output_type": "stream",
          "text": [
            "Epoch 1/20\n",
            "13612/13614 [============================>.] - ETA: 0s - loss: 1.1971 - acc: 0.4737WARNING:tensorflow:Callbacks method `on_test_batch_end` is slow compared to the batch time (batch time: 0.0030s vs `on_test_batch_end` time: 0.0063s). Check your callbacks.\n",
            "13614/13614 [==============================] - 323s 24ms/step - loss: 1.1972 - acc: 0.4736 - val_loss: 1.0948 - val_acc: 0.5229\n",
            "Epoch 2/20\n",
            "13614/13614 [==============================] - 322s 24ms/step - loss: 1.0248 - acc: 0.5595 - val_loss: 1.0149 - val_acc: 0.5707\n",
            "Epoch 3/20\n",
            "13614/13614 [==============================] - 322s 24ms/step - loss: 0.9373 - acc: 0.5978 - val_loss: 0.9961 - val_acc: 0.5742\n",
            "Epoch 4/20\n",
            "13614/13614 [==============================] - 322s 24ms/step - loss: 0.8776 - acc: 0.6303 - val_loss: 0.9952 - val_acc: 0.5792\n",
            "Epoch 5/20\n",
            "13614/13614 [==============================] - 322s 24ms/step - loss: 0.8285 - acc: 0.6601 - val_loss: 0.9881 - val_acc: 0.5815\n",
            "Epoch 6/20\n",
            "13614/13614 [==============================] - 322s 24ms/step - loss: 0.7876 - acc: 0.6850 - val_loss: 1.0034 - val_acc: 0.5853\n",
            "Epoch 7/20\n",
            "13614/13614 [==============================] - 322s 24ms/step - loss: 0.7482 - acc: 0.7069 - val_loss: 1.0225 - val_acc: 0.5850\n",
            "Epoch 8/20\n",
            "13614/13614 [==============================] - 322s 24ms/step - loss: 0.7158 - acc: 0.7253 - val_loss: 1.0184 - val_acc: 0.5915\n",
            "Epoch 9/20\n",
            "13614/13614 [==============================] - 322s 24ms/step - loss: 0.6817 - acc: 0.7410 - val_loss: 1.0622 - val_acc: 0.5858\n",
            "Epoch 10/20\n",
            "13614/13614 [==============================] - 322s 24ms/step - loss: 0.6510 - acc: 0.7567 - val_loss: 1.0762 - val_acc: 0.5965\n",
            "Epoch 11/20\n",
            "13614/13614 [==============================] - 322s 24ms/step - loss: 0.6199 - acc: 0.7698 - val_loss: 1.0609 - val_acc: 0.5975\n",
            "Epoch 12/20\n",
            "13614/13614 [==============================] - 322s 24ms/step - loss: 0.5859 - acc: 0.7851 - val_loss: 1.1034 - val_acc: 0.6081\n",
            "Epoch 13/20\n",
            "13614/13614 [==============================] - 322s 24ms/step - loss: 0.5538 - acc: 0.7995 - val_loss: 1.1161 - val_acc: 0.6121\n",
            "Epoch 14/20\n",
            "13614/13614 [==============================] - 324s 24ms/step - loss: 0.5166 - acc: 0.8139 - val_loss: 1.1576 - val_acc: 0.6146\n",
            "Epoch 15/20\n",
            "13614/13614 [==============================] - 324s 24ms/step - loss: 0.4843 - acc: 0.8279 - val_loss: 1.1657 - val_acc: 0.6157\n",
            "Epoch 16/20\n",
            "13614/13614 [==============================] - 324s 24ms/step - loss: 0.4462 - acc: 0.8406 - val_loss: 1.2666 - val_acc: 0.6055\n",
            "Epoch 17/20\n",
            "13614/13614 [==============================] - 324s 24ms/step - loss: 0.4065 - acc: 0.8550 - val_loss: 1.2942 - val_acc: 0.6174\n",
            "Epoch 18/20\n",
            "13614/13614 [==============================] - 330s 24ms/step - loss: 0.3645 - acc: 0.8695 - val_loss: 1.4238 - val_acc: 0.6157\n",
            "Epoch 19/20\n",
            "13614/13614 [==============================] - 329s 24ms/step - loss: 0.3255 - acc: 0.8830 - val_loss: 1.4999 - val_acc: 0.6130\n",
            "Epoch 20/20\n",
            "13614/13614 [==============================] - 327s 24ms/step - loss: 0.2846 - acc: 0.8982 - val_loss: 1.6244 - val_acc: 0.6210\n"
          ],
          "name": "stdout"
        }
      ]
    },
    {
      "cell_type": "code",
      "metadata": {
        "colab_type": "code",
        "id": "YtU1g8cevzph",
        "colab": {
          "base_uri": "https://localhost:8080/",
          "height": 545
        },
        "outputId": "11f8940a-f702-4f3d-8f53-5122f6e0b682"
      },
      "source": [
        "# Plot the Training and Validation Accuracy & Loss Scores\n",
        "import matplotlib.pyplot as plt\n",
        "%matplotlib inline\n",
        "\n",
        "acc = history.history['acc']\n",
        "val_acc = history.history['val_acc']\n",
        "loss = history.history['loss']\n",
        "val_loss = history.history['val_loss']\n",
        "\n",
        "epochs = range(len(acc))\n",
        "\n",
        "plt.plot(epochs, acc, 'bo', label='Training acc')\n",
        "plt.plot(epochs, val_acc, 'b', label='Validation acc')\n",
        "plt.title('Training and validation accuracy')\n",
        "plt.legend()\n",
        "\n",
        "plt.figure()\n",
        "\n",
        "plt.plot(epochs, loss, 'bo', label='Training loss')\n",
        "plt.plot(epochs, val_loss, 'b', label='Validation loss')\n",
        "plt.title('Training and validation loss')\n",
        "plt.legend()\n",
        "\n",
        "plt.show()"
      ],
      "execution_count": null,
      "outputs": [
        {
          "output_type": "display_data",
          "data": {
            "image/png": "[encoded data removed]",
            "text/plain": [
              "<Figure size 432x288 with 1 Axes>"
            ]
          },
          "metadata": {
            "tags": [],
            "needs_background": "light"
          }
        },
        {
          "output_type": "display_data",
          "data": {
            "image/png": "[encoded data removed]",
            "text/plain": [
              "<Figure size 432x288 with 1 Axes>"
            ]
          },
          "metadata": {
            "tags": [],
            "needs_background": "light"
          }
        }
      ]
    },
    {
      "cell_type": "code",
      "metadata": {
        "colab_type": "code",
        "id": "CpSmHLxYvzpj",
        "colab": {}
      },
      "source": [
        "# Save the Model\n",
        "model.save(model_path+'text_model_14.h5')\n",
        "model.save('text_model_14.h5')"
      ],
      "execution_count": null,
      "outputs": []
    },
    {
      "cell_type": "code",
      "metadata": {
        "colab_type": "code",
        "id": "qsuv075Pvzpk",
        "colab": {}
      },
      "source": [
        "import tensorflow as tf\n",
        "tf.keras.backend.clear_session()"
      ],
      "execution_count": null,
      "outputs": []
    },
    {
      "cell_type": "markdown",
      "metadata": {
        "colab_type": "text",
        "id": "lHbTw66RG9Mv"
      },
      "source": [
        "### Model #14_1 (model11 + 20e) + Reg"
      ]
    },
    {
      "cell_type": "code",
      "metadata": {
        "colab_type": "code",
        "id": "GqjrmgPuG9Mw",
        "colab": {
          "base_uri": "https://localhost:8080/",
          "height": 425
        },
        "outputId": "dc6d7386-3fcd-43a9-9527-cf64778f3379"
      },
      "source": [
        "# Build the Model\n",
        "from tensorflow.keras.models import Sequential\n",
        "from tensorflow.keras import layers\n",
        "from tensorflow.keras.optimizers import RMSprop, Adam\n",
        "from tensorflow.keras import regularizers\n",
        "\n",
        "model = Sequential()\n",
        "model.add(layers.Embedding(max_words, 8, input_length=max_len))\n",
        "model.add(layers.LSTM(1024, return_sequences=True, kernel_regularizer=regularizers.l2(0.001)))\n",
        "model.add(layers.Dropout(0.5))\n",
        "model.add(layers.LSTM(1024, kernel_regularizer=regularizers.l2(0.001)))\n",
        "model.add(layers.Dropout(0.5))\n",
        "model.add(layers.Flatten())\n",
        "model.add(layers.Dense(32, activation='relu'))\n",
        "model.add(layers.Dense(5, activation='softmax'))\n",
        "model.summary()"
      ],
      "execution_count": null,
      "outputs": [
        {
          "output_type": "stream",
          "text": [
            "Model: \"sequential\"\n",
            "_________________________________________________________________\n",
            "Layer (type)                 Output Shape              Param #   \n",
            "=================================================================\n",
            "embedding (Embedding)        (None, 34, 8)             80000     \n",
            "_________________________________________________________________\n",
            "lstm (LSTM)                  (None, 34, 1024)          4231168   \n",
            "_________________________________________________________________\n",
            "dropout (Dropout)            (None, 34, 1024)          0         \n",
            "_________________________________________________________________\n",
            "lstm_1 (LSTM)                (None, 1024)              8392704   \n",
            "_________________________________________________________________\n",
            "dropout_1 (Dropout)          (None, 1024)              0         \n",
            "_________________________________________________________________\n",
            "flatten (Flatten)            (None, 1024)              0         \n",
            "_________________________________________________________________\n",
            "dense (Dense)                (None, 32)                32800     \n",
            "_________________________________________________________________\n",
            "dense_1 (Dense)              (None, 5)                 165       \n",
            "=================================================================\n",
            "Total params: 12,736,837\n",
            "Trainable params: 12,736,837\n",
            "Non-trainable params: 0\n",
            "_________________________________________________________________\n"
          ],
          "name": "stdout"
        }
      ]
    },
    {
      "cell_type": "code",
      "metadata": {
        "colab_type": "code",
        "id": "QR6dtj8zG9Mz",
        "colab": {
          "base_uri": "https://localhost:8080/",
          "height": 734
        },
        "outputId": "57370d71-c837-418d-e54a-8daf052b2ad1"
      },
      "source": [
        "# Train the Model\n",
        "\n",
        "model.compile(optimizer=Adam(lr=1e-4),\n",
        "              loss='categorical_crossentropy',\n",
        "              metrics=['acc'])\n",
        "history = model.fit(x_train, y_train,\n",
        "                    epochs=20,\n",
        "                    batch_size=2,\n",
        "                    validation_split=0.2)"
      ],
      "execution_count": null,
      "outputs": [
        {
          "output_type": "stream",
          "text": [
            "Epoch 1/20\n",
            "13614/13614 [==============================] - ETA: 0s - loss: 1.2924 - acc: 0.4612WARNING:tensorflow:Callbacks method `on_test_batch_end` is slow compared to the batch time (batch time: 0.0039s vs `on_test_batch_end` time: 0.0061s). Check your callbacks.\n",
            "13614/13614 [==============================] - 340s 25ms/step - loss: 1.2924 - acc: 0.4612 - val_loss: 1.1520 - val_acc: 0.5184\n",
            "Epoch 2/20\n",
            "13614/13614 [==============================] - 338s 25ms/step - loss: 1.1109 - acc: 0.5290 - val_loss: 1.0957 - val_acc: 0.5358\n",
            "Epoch 3/20\n",
            "13614/13614 [==============================] - 336s 25ms/step - loss: 1.0521 - acc: 0.5556 - val_loss: 1.0936 - val_acc: 0.5445\n",
            "Epoch 4/20\n",
            "13614/13614 [==============================] - 335s 25ms/step - loss: 1.0175 - acc: 0.5758 - val_loss: 1.0884 - val_acc: 0.5329\n",
            "Epoch 5/20\n",
            "13614/13614 [==============================] - 335s 25ms/step - loss: 0.9908 - acc: 0.5891 - val_loss: 1.1047 - val_acc: 0.5404\n",
            "Epoch 6/20\n",
            "13614/13614 [==============================] - 335s 25ms/step - loss: 0.9704 - acc: 0.6050 - val_loss: 1.0891 - val_acc: 0.5436\n",
            "Epoch 7/20\n",
            "13614/13614 [==============================] - 335s 25ms/step - loss: 0.9525 - acc: 0.6130 - val_loss: 1.0855 - val_acc: 0.5470\n",
            "Epoch 8/20\n",
            "13614/13614 [==============================] - 335s 25ms/step - loss: 0.9355 - acc: 0.6257 - val_loss: 1.0892 - val_acc: 0.5480\n",
            "Epoch 9/20\n",
            "13614/13614 [==============================] - 335s 25ms/step - loss: 0.9255 - acc: 0.6285 - val_loss: 1.1099 - val_acc: 0.5495\n",
            "Epoch 10/20\n",
            "13614/13614 [==============================] - 338s 25ms/step - loss: 0.9148 - acc: 0.6386 - val_loss: 1.1083 - val_acc: 0.5466\n",
            "Epoch 11/20\n",
            "13614/13614 [==============================] - 338s 25ms/step - loss: 0.9051 - acc: 0.6469 - val_loss: 1.1097 - val_acc: 0.5499\n",
            "Epoch 12/20\n",
            "13614/13614 [==============================] - 334s 25ms/step - loss: 0.8936 - acc: 0.6527 - val_loss: 1.1341 - val_acc: 0.5501\n",
            "Epoch 13/20\n",
            "13614/13614 [==============================] - 335s 25ms/step - loss: 0.8857 - acc: 0.6598 - val_loss: 1.1381 - val_acc: 0.5530\n",
            "Epoch 14/20\n",
            "13614/13614 [==============================] - 336s 25ms/step - loss: 0.8801 - acc: 0.6618 - val_loss: 1.1784 - val_acc: 0.5367\n",
            "Epoch 15/20\n",
            "13614/13614 [==============================] - 336s 25ms/step - loss: 0.8693 - acc: 0.6693 - val_loss: 1.1324 - val_acc: 0.5524\n",
            "Epoch 16/20\n",
            "13614/13614 [==============================] - 338s 25ms/step - loss: 0.8657 - acc: 0.6706 - val_loss: 1.1378 - val_acc: 0.5505\n",
            "Epoch 17/20\n",
            "13614/13614 [==============================] - 340s 25ms/step - loss: 0.8569 - acc: 0.6755 - val_loss: 1.1937 - val_acc: 0.5535\n",
            "Epoch 18/20\n",
            "13614/13614 [==============================] - 335s 25ms/step - loss: 0.8502 - acc: 0.6790 - val_loss: 1.1686 - val_acc: 0.5479\n",
            "Epoch 19/20\n",
            "13614/13614 [==============================] - 335s 25ms/step - loss: 0.8429 - acc: 0.6824 - val_loss: 1.1727 - val_acc: 0.5583\n",
            "Epoch 20/20\n",
            "13614/13614 [==============================] - 334s 25ms/step - loss: 0.8370 - acc: 0.6880 - val_loss: 1.1783 - val_acc: 0.5542\n"
          ],
          "name": "stdout"
        }
      ]
    },
    {
      "cell_type": "code",
      "metadata": {
        "colab_type": "code",
        "id": "nH1BDx3tG9M0",
        "colab": {
          "base_uri": "https://localhost:8080/",
          "height": 545
        },
        "outputId": "90447092-00c8-4d28-837f-eccb40730507"
      },
      "source": [
        "# Plot the Training and Validation Accuracy & Loss Scores\n",
        "import matplotlib.pyplot as plt\n",
        "%matplotlib inline\n",
        "\n",
        "acc = history.history['acc']\n",
        "val_acc = history.history['val_acc']\n",
        "loss = history.history['loss']\n",
        "val_loss = history.history['val_loss']\n",
        "\n",
        "epochs = range(len(acc))\n",
        "\n",
        "plt.plot(epochs, acc, 'bo', label='Training acc')\n",
        "plt.plot(epochs, val_acc, 'b', label='Validation acc')\n",
        "plt.title('Training and validation accuracy')\n",
        "plt.legend()\n",
        "\n",
        "plt.figure()\n",
        "\n",
        "plt.plot(epochs, loss, 'bo', label='Training loss')\n",
        "plt.plot(epochs, val_loss, 'b', label='Validation loss')\n",
        "plt.title('Training and validation loss')\n",
        "plt.legend()\n",
        "\n",
        "plt.show()"
      ],
      "execution_count": null,
      "outputs": [
        {
          "output_type": "display_data",
          "data": {
            "image/png": "[encoded data removed]",
            "text/plain": [
              "<Figure size 432x288 with 1 Axes>"
            ]
          },
          "metadata": {
            "tags": [],
            "needs_background": "light"
          }
        },
        {
          "output_type": "display_data",
          "data": {
            "image/png": "[encoded data removed]",
            "text/plain": [
              "<Figure size 432x288 with 1 Axes>"
            ]
          },
          "metadata": {
            "tags": [],
            "needs_background": "light"
          }
        }
      ]
    },
    {
      "cell_type": "code",
      "metadata": {
        "colab_type": "code",
        "id": "xTy1-0fcG9M1",
        "colab": {}
      },
      "source": [
        "# Save the Model\n",
        "model.save(model_path+'text_model_14_1.h5')\n",
        "model.save('text_model_14_1.h5')"
      ],
      "execution_count": null,
      "outputs": []
    },
    {
      "cell_type": "code",
      "metadata": {
        "colab_type": "code",
        "id": "6uTWeCqBG9M3",
        "colab": {}
      },
      "source": [
        "import tensorflow as tf\n",
        "tf.keras.backend.clear_session()"
      ],
      "execution_count": null,
      "outputs": []
    },
    {
      "cell_type": "markdown",
      "metadata": {
        "colab_type": "text",
        "id": "cw4QeWsQw7pF"
      },
      "source": [
        "### Model #14_2 (model11 + 15e) + Reg"
      ]
    },
    {
      "cell_type": "code",
      "metadata": {
        "colab_type": "code",
        "id": "Vt6_nquZw7pG",
        "colab": {
          "base_uri": "https://localhost:8080/",
          "height": 425
        },
        "outputId": "e167200c-741a-4be4-c937-164f0f419200"
      },
      "source": [
        "# Build the Model\n",
        "from tensorflow.keras.models import Sequential\n",
        "from tensorflow.keras import layers\n",
        "from tensorflow.keras.optimizers import RMSprop, Adam\n",
        "from tensorflow.keras import regularizers\n",
        "\n",
        "model = Sequential()\n",
        "model.add(layers.Embedding(max_words, 8, input_length=max_len))\n",
        "model.add(layers.LSTM(1024, return_sequences=True, kernel_regularizer=regularizers.l2(0.002)))\n",
        "model.add(layers.Dropout(0.5))\n",
        "model.add(layers.LSTM(1024, kernel_regularizer=regularizers.l2(0.002)))\n",
        "model.add(layers.Dropout(0.5))\n",
        "model.add(layers.Flatten())\n",
        "model.add(layers.Dense(32, activation='relu'))\n",
        "model.add(layers.Dense(5, activation='softmax'))\n",
        "model.summary()"
      ],
      "execution_count": null,
      "outputs": [
        {
          "output_type": "stream",
          "text": [
            "Model: \"sequential\"\n",
            "_________________________________________________________________\n",
            "Layer (type)                 Output Shape              Param #   \n",
            "=================================================================\n",
            "embedding (Embedding)        (None, 34, 8)             80000     \n",
            "_________________________________________________________________\n",
            "lstm (LSTM)                  (None, 34, 1024)          4231168   \n",
            "_________________________________________________________________\n",
            "dropout (Dropout)            (None, 34, 1024)          0         \n",
            "_________________________________________________________________\n",
            "lstm_1 (LSTM)                (None, 1024)              8392704   \n",
            "_________________________________________________________________\n",
            "dropout_1 (Dropout)          (None, 1024)              0         \n",
            "_________________________________________________________________\n",
            "flatten (Flatten)            (None, 1024)              0         \n",
            "_________________________________________________________________\n",
            "dense (Dense)                (None, 32)                32800     \n",
            "_________________________________________________________________\n",
            "dense_1 (Dense)              (None, 5)                 165       \n",
            "=================================================================\n",
            "Total params: 12,736,837\n",
            "Trainable params: 12,736,837\n",
            "Non-trainable params: 0\n",
            "_________________________________________________________________\n"
          ],
          "name": "stdout"
        }
      ]
    },
    {
      "cell_type": "code",
      "metadata": {
        "colab_type": "code",
        "id": "J86agegNw7pH",
        "colab": {
          "base_uri": "https://localhost:8080/",
          "height": 527
        },
        "outputId": "941eadc1-1555-4713-fc4a-3f28fccda298"
      },
      "source": [
        "# Train the Model\n",
        "\n",
        "model.compile(optimizer=Adam(lr=1e-4),\n",
        "              loss='categorical_crossentropy',\n",
        "              metrics=['acc'])\n",
        "history = model.fit(x_train, y_train,\n",
        "                    epochs=15,\n",
        "                    batch_size=32,\n",
        "                    validation_split=0.2)"
      ],
      "execution_count": null,
      "outputs": [
        {
          "output_type": "stream",
          "text": [
            "Epoch 1/15\n",
            "851/851 [==============================] - 34s 40ms/step - loss: 1.8728 - acc: 0.4240 - val_loss: 1.2790 - val_acc: 0.4575\n",
            "Epoch 2/15\n",
            "851/851 [==============================] - 34s 40ms/step - loss: 1.2089 - acc: 0.4946 - val_loss: 1.1705 - val_acc: 0.5090\n",
            "Epoch 3/15\n",
            "851/851 [==============================] - 35s 41ms/step - loss: 1.1213 - acc: 0.5295 - val_loss: 1.1276 - val_acc: 0.5267\n",
            "Epoch 4/15\n",
            "851/851 [==============================] - 34s 40ms/step - loss: 1.0758 - acc: 0.5543 - val_loss: 1.1169 - val_acc: 0.5308\n",
            "Epoch 5/15\n",
            "851/851 [==============================] - 35s 41ms/step - loss: 1.0358 - acc: 0.5721 - val_loss: 1.1144 - val_acc: 0.5350\n",
            "Epoch 6/15\n",
            "851/851 [==============================] - 35s 41ms/step - loss: 1.0055 - acc: 0.5912 - val_loss: 1.1162 - val_acc: 0.5282\n",
            "Epoch 7/15\n",
            "851/851 [==============================] - 35s 41ms/step - loss: 0.9819 - acc: 0.5995 - val_loss: 1.1242 - val_acc: 0.5442\n",
            "Epoch 8/15\n",
            "851/851 [==============================] - 35s 41ms/step - loss: 0.9607 - acc: 0.6140 - val_loss: 1.1228 - val_acc: 0.5344\n",
            "Epoch 9/15\n",
            "851/851 [==============================] - 35s 41ms/step - loss: 0.9422 - acc: 0.6226 - val_loss: 1.1193 - val_acc: 0.5457\n",
            "Epoch 10/15\n",
            "851/851 [==============================] - 35s 41ms/step - loss: 0.9290 - acc: 0.6282 - val_loss: 1.1502 - val_acc: 0.5377\n",
            "Epoch 11/15\n",
            "851/851 [==============================] - 34s 40ms/step - loss: 0.9136 - acc: 0.6369 - val_loss: 1.1707 - val_acc: 0.5419\n",
            "Epoch 12/15\n",
            "851/851 [==============================] - 35s 41ms/step - loss: 0.9017 - acc: 0.6405 - val_loss: 1.1393 - val_acc: 0.5451\n",
            "Epoch 13/15\n",
            "851/851 [==============================] - 34s 40ms/step - loss: 0.8905 - acc: 0.6498 - val_loss: 1.2161 - val_acc: 0.5394\n",
            "Epoch 14/15\n",
            "851/851 [==============================] - 34s 40ms/step - loss: 0.8782 - acc: 0.6559 - val_loss: 1.2263 - val_acc: 0.5316\n",
            "Epoch 15/15\n",
            "851/851 [==============================] - 34s 40ms/step - loss: 0.8717 - acc: 0.6582 - val_loss: 1.2167 - val_acc: 0.5391\n"
          ],
          "name": "stdout"
        }
      ]
    },
    {
      "cell_type": "code",
      "metadata": {
        "colab_type": "code",
        "id": "WPB1oXUtw7pJ",
        "colab": {
          "base_uri": "https://localhost:8080/",
          "height": 545
        },
        "outputId": "dd898368-67ac-478a-86b2-cec7db6323c6"
      },
      "source": [
        "# Plot the Training and Validation Accuracy & Loss Scores\n",
        "import matplotlib.pyplot as plt\n",
        "%matplotlib inline\n",
        "\n",
        "acc = history.history['acc']\n",
        "val_acc = history.history['val_acc']\n",
        "loss = history.history['loss']\n",
        "val_loss = history.history['val_loss']\n",
        "\n",
        "epochs = range(len(acc))\n",
        "\n",
        "plt.plot(epochs, acc, 'bo', label='Training acc')\n",
        "plt.plot(epochs, val_acc, 'b', label='Validation acc')\n",
        "plt.title('Training and validation accuracy')\n",
        "plt.legend()\n",
        "\n",
        "plt.figure()\n",
        "\n",
        "plt.plot(epochs, loss, 'bo', label='Training loss')\n",
        "plt.plot(epochs, val_loss, 'b', label='Validation loss')\n",
        "plt.title('Training and validation loss')\n",
        "plt.legend()\n",
        "\n",
        "plt.show()"
      ],
      "execution_count": null,
      "outputs": [
        {
          "output_type": "display_data",
          "data": {
            "image/png": "[encoded data removed]",
            "text/plain": [
              "<Figure size 432x288 with 1 Axes>"
            ]
          },
          "metadata": {
            "tags": [],
            "needs_background": "light"
          }
        },
        {
          "output_type": "display_data",
          "data": {
            "image/png": "[encoded data removed]",
            "text/plain": [
              "<Figure size 432x288 with 1 Axes>"
            ]
          },
          "metadata": {
            "tags": [],
            "needs_background": "light"
          }
        }
      ]
    },
    {
      "cell_type": "code",
      "metadata": {
        "colab_type": "code",
        "id": "QmsLVmjVw7pK",
        "colab": {}
      },
      "source": [
        "# Save the Model\n",
        "model.save(model_path+'text_model_14_2.h5')\n",
        "model.save('text_model_14_2.h5')"
      ],
      "execution_count": null,
      "outputs": []
    },
    {
      "cell_type": "code",
      "metadata": {
        "colab_type": "code",
        "id": "kwcM3MJRw7pL",
        "colab": {}
      },
      "source": [
        "import tensorflow as tf\n",
        "tf.keras.backend.clear_session()"
      ],
      "execution_count": null,
      "outputs": []
    },
    {
      "cell_type": "markdown",
      "metadata": {
        "colab_type": "text",
        "id": "EJ7_y8B1w0Ql"
      },
      "source": [
        "### Model #15 (model 10 + 50e) + batch 32"
      ]
    },
    {
      "cell_type": "code",
      "metadata": {
        "colab_type": "code",
        "id": "TeKQub-Tw0Qq",
        "colab": {
          "base_uri": "https://localhost:8080/",
          "height": 357
        },
        "outputId": "52ea2190-b7e3-4b97-f78a-6d3ecc9f6e1f"
      },
      "source": [
        "# Build the Model\n",
        "from tensorflow.keras.models import Sequential\n",
        "from tensorflow.keras import layers\n",
        "from tensorflow.keras.optimizers import RMSprop\n",
        "\n",
        "model = Sequential()\n",
        "model.add(layers.Embedding(max_words, 8, input_length=max_len))\n",
        "model.add(layers.LSTM(1024, return_sequences=True))\n",
        "model.add(layers.LSTM(1024))\n",
        "model.add(layers.Flatten())\n",
        "model.add(layers.Dense(32, activation='relu'))\n",
        "model.add(layers.Dense(5, activation='softmax'))\n",
        "model.summary()"
      ],
      "execution_count": null,
      "outputs": [
        {
          "output_type": "stream",
          "text": [
            "Model: \"sequential_1\"\n",
            "_________________________________________________________________\n",
            "Layer (type)                 Output Shape              Param #   \n",
            "=================================================================\n",
            "embedding_1 (Embedding)      (None, 34, 8)             80000     \n",
            "_________________________________________________________________\n",
            "lstm_2 (LSTM)                (None, 34, 1024)          4231168   \n",
            "_________________________________________________________________\n",
            "lstm_3 (LSTM)                (None, 1024)              8392704   \n",
            "_________________________________________________________________\n",
            "flatten_1 (Flatten)          (None, 1024)              0         \n",
            "_________________________________________________________________\n",
            "dense_2 (Dense)              (None, 32)                32800     \n",
            "_________________________________________________________________\n",
            "dense_3 (Dense)              (None, 5)                 165       \n",
            "=================================================================\n",
            "Total params: 12,736,837\n",
            "Trainable params: 12,736,837\n",
            "Non-trainable params: 0\n",
            "_________________________________________________________________\n"
          ],
          "name": "stdout"
        }
      ]
    },
    {
      "cell_type": "code",
      "metadata": {
        "colab_type": "code",
        "id": "VcE8wmmaw0Qt",
        "colab": {
          "base_uri": "https://localhost:8080/",
          "height": 1000
        },
        "outputId": "9816d567-010e-4bbb-f79d-2deac7614831"
      },
      "source": [
        "# Train the Model\n",
        "\n",
        "model.compile(optimizer=RMSprop(lr=2e-5),\n",
        "              loss='categorical_crossentropy',\n",
        "              metrics=['acc'])\n",
        "history = model.fit(x_train, y_train,\n",
        "                    epochs=50,\n",
        "                    batch_size=32,\n",
        "                    validation_split=0.2)"
      ],
      "execution_count": null,
      "outputs": [
        {
          "output_type": "stream",
          "text": [
            "Epoch 1/50\n",
            "851/851 [==============================] - 35s 41ms/step - loss: 1.4318 - acc: 0.4225 - val_loss: 1.4235 - val_acc: 0.4311\n",
            "Epoch 2/50\n",
            "851/851 [==============================] - 35s 41ms/step - loss: 1.4265 - acc: 0.4225 - val_loss: 1.4191 - val_acc: 0.4311\n",
            "Epoch 3/50\n",
            "851/851 [==============================] - 35s 41ms/step - loss: 1.3989 - acc: 0.4242 - val_loss: 1.3517 - val_acc: 0.4412\n",
            "Epoch 4/50\n",
            "851/851 [==============================] - 35s 42ms/step - loss: 1.3221 - acc: 0.4430 - val_loss: 1.2911 - val_acc: 0.4558\n",
            "Epoch 5/50\n",
            "851/851 [==============================] - 35s 42ms/step - loss: 1.2658 - acc: 0.4589 - val_loss: 1.2426 - val_acc: 0.4664\n",
            "Epoch 6/50\n",
            "851/851 [==============================] - 36s 42ms/step - loss: 1.2224 - acc: 0.4751 - val_loss: 1.2051 - val_acc: 0.4808\n",
            "Epoch 7/50\n",
            "851/851 [==============================] - 36s 42ms/step - loss: 1.1915 - acc: 0.4849 - val_loss: 1.1828 - val_acc: 0.4894\n",
            "Epoch 8/50\n",
            "851/851 [==============================] - 36s 42ms/step - loss: 1.1686 - acc: 0.4924 - val_loss: 1.1723 - val_acc: 0.4927\n",
            "Epoch 9/50\n",
            "851/851 [==============================] - 36s 42ms/step - loss: 1.1518 - acc: 0.4961 - val_loss: 1.1621 - val_acc: 0.4918\n",
            "Epoch 10/50\n",
            "851/851 [==============================] - 36s 42ms/step - loss: 1.1379 - acc: 0.5034 - val_loss: 1.1459 - val_acc: 0.5050\n",
            "Epoch 11/50\n",
            "851/851 [==============================] - 36s 42ms/step - loss: 1.1264 - acc: 0.5055 - val_loss: 1.1410 - val_acc: 0.5069\n",
            "Epoch 12/50\n",
            "851/851 [==============================] - 36s 42ms/step - loss: 1.1160 - acc: 0.5111 - val_loss: 1.1339 - val_acc: 0.5069\n",
            "Epoch 13/50\n",
            "851/851 [==============================] - 36s 42ms/step - loss: 1.1072 - acc: 0.5158 - val_loss: 1.1239 - val_acc: 0.5081\n",
            "Epoch 14/50\n",
            "851/851 [==============================] - 36s 42ms/step - loss: 1.0985 - acc: 0.5215 - val_loss: 1.1239 - val_acc: 0.5145\n",
            "Epoch 15/50\n",
            "851/851 [==============================] - 36s 42ms/step - loss: 1.0910 - acc: 0.5246 - val_loss: 1.1180 - val_acc: 0.5156\n",
            "Epoch 16/50\n",
            "851/851 [==============================] - 36s 42ms/step - loss: 1.0839 - acc: 0.5290 - val_loss: 1.1245 - val_acc: 0.5090\n",
            "Epoch 17/50\n",
            "851/851 [==============================] - 36s 42ms/step - loss: 1.0783 - acc: 0.5311 - val_loss: 1.1052 - val_acc: 0.5214\n",
            "Epoch 18/50\n",
            "851/851 [==============================] - 36s 42ms/step - loss: 1.0716 - acc: 0.5345 - val_loss: 1.1096 - val_acc: 0.5162\n",
            "Epoch 19/50\n",
            "851/851 [==============================] - 36s 42ms/step - loss: 1.0672 - acc: 0.5373 - val_loss: 1.0992 - val_acc: 0.5245\n",
            "Epoch 20/50\n",
            "851/851 [==============================] - 36s 42ms/step - loss: 1.0618 - acc: 0.5385 - val_loss: 1.0959 - val_acc: 0.5267\n",
            "Epoch 21/50\n",
            "851/851 [==============================] - 36s 42ms/step - loss: 1.0571 - acc: 0.5403 - val_loss: 1.0925 - val_acc: 0.5250\n",
            "Epoch 22/50\n",
            "851/851 [==============================] - 36s 42ms/step - loss: 1.0515 - acc: 0.5448 - val_loss: 1.0939 - val_acc: 0.5281\n",
            "Epoch 23/50\n",
            "851/851 [==============================] - 36s 42ms/step - loss: 1.0476 - acc: 0.5463 - val_loss: 1.0907 - val_acc: 0.5264\n",
            "Epoch 24/50\n",
            "851/851 [==============================] - 36s 42ms/step - loss: 1.0445 - acc: 0.5482 - val_loss: 1.0841 - val_acc: 0.5251\n",
            "Epoch 25/50\n",
            "851/851 [==============================] - 36s 42ms/step - loss: 1.0393 - acc: 0.5525 - val_loss: 1.0826 - val_acc: 0.5308\n",
            "Epoch 26/50\n",
            "851/851 [==============================] - 36s 42ms/step - loss: 1.0358 - acc: 0.5547 - val_loss: 1.0817 - val_acc: 0.5345\n",
            "Epoch 27/50\n",
            "851/851 [==============================] - 36s 42ms/step - loss: 1.0312 - acc: 0.5550 - val_loss: 1.0874 - val_acc: 0.5272\n",
            "Epoch 28/50\n",
            "851/851 [==============================] - 36s 42ms/step - loss: 1.0273 - acc: 0.5576 - val_loss: 1.0791 - val_acc: 0.5357\n",
            "Epoch 29/50\n",
            "851/851 [==============================] - 36s 42ms/step - loss: 1.0232 - acc: 0.5613 - val_loss: 1.0793 - val_acc: 0.5354\n",
            "Epoch 30/50\n",
            "851/851 [==============================] - 36s 42ms/step - loss: 1.0192 - acc: 0.5629 - val_loss: 1.0873 - val_acc: 0.5402\n",
            "Epoch 31/50\n",
            "851/851 [==============================] - 36s 42ms/step - loss: 1.0158 - acc: 0.5621 - val_loss: 1.0719 - val_acc: 0.5385\n",
            "Epoch 32/50\n",
            "851/851 [==============================] - 36s 42ms/step - loss: 1.0121 - acc: 0.5664 - val_loss: 1.0883 - val_acc: 0.5402\n",
            "Epoch 33/50\n",
            "851/851 [==============================] - 36s 42ms/step - loss: 1.0085 - acc: 0.5686 - val_loss: 1.0742 - val_acc: 0.5483\n",
            "Epoch 34/50\n",
            "851/851 [==============================] - 36s 42ms/step - loss: 1.0051 - acc: 0.5676 - val_loss: 1.0638 - val_acc: 0.5504\n",
            "Epoch 35/50\n",
            "851/851 [==============================] - 36s 42ms/step - loss: 1.0002 - acc: 0.5711 - val_loss: 1.0690 - val_acc: 0.5389\n",
            "Epoch 36/50\n",
            "851/851 [==============================] - 36s 42ms/step - loss: 0.9966 - acc: 0.5733 - val_loss: 1.0607 - val_acc: 0.5533\n",
            "Epoch 37/50\n",
            "851/851 [==============================] - 36s 42ms/step - loss: 0.9930 - acc: 0.5769 - val_loss: 1.0611 - val_acc: 0.5460\n",
            "Epoch 38/50\n",
            "851/851 [==============================] - 36s 42ms/step - loss: 0.9895 - acc: 0.5797 - val_loss: 1.0627 - val_acc: 0.5488\n",
            "Epoch 39/50\n",
            "851/851 [==============================] - 36s 42ms/step - loss: 0.9855 - acc: 0.5797 - val_loss: 1.0676 - val_acc: 0.5451\n",
            "Epoch 40/50\n",
            "851/851 [==============================] - 36s 42ms/step - loss: 0.9817 - acc: 0.5840 - val_loss: 1.0646 - val_acc: 0.5474\n",
            "Epoch 41/50\n",
            "851/851 [==============================] - 36s 42ms/step - loss: 0.9785 - acc: 0.5834 - val_loss: 1.0593 - val_acc: 0.5472\n",
            "Epoch 42/50\n",
            "851/851 [==============================] - 36s 42ms/step - loss: 0.9754 - acc: 0.5868 - val_loss: 1.0559 - val_acc: 0.5558\n",
            "Epoch 43/50\n",
            "851/851 [==============================] - 36s 42ms/step - loss: 0.9713 - acc: 0.5889 - val_loss: 1.0640 - val_acc: 0.5523\n",
            "Epoch 44/50\n",
            "851/851 [==============================] - 36s 42ms/step - loss: 0.9677 - acc: 0.5915 - val_loss: 1.0527 - val_acc: 0.5590\n",
            "Epoch 45/50\n",
            "851/851 [==============================] - 36s 42ms/step - loss: 0.9637 - acc: 0.5924 - val_loss: 1.0508 - val_acc: 0.5539\n",
            "Epoch 46/50\n",
            "851/851 [==============================] - 36s 42ms/step - loss: 0.9611 - acc: 0.5939 - val_loss: 1.0540 - val_acc: 0.5620\n",
            "Epoch 47/50\n",
            "851/851 [==============================] - 36s 42ms/step - loss: 0.9572 - acc: 0.5971 - val_loss: 1.0446 - val_acc: 0.5555\n",
            "Epoch 48/50\n",
            "851/851 [==============================] - 36s 42ms/step - loss: 0.9542 - acc: 0.6005 - val_loss: 1.0546 - val_acc: 0.5482\n",
            "Epoch 49/50\n",
            "851/851 [==============================] - 36s 42ms/step - loss: 0.9513 - acc: 0.6029 - val_loss: 1.0382 - val_acc: 0.5661\n",
            "Epoch 50/50\n",
            "851/851 [==============================] - 36s 42ms/step - loss: 0.9479 - acc: 0.6026 - val_loss: 1.0401 - val_acc: 0.5662\n"
          ],
          "name": "stdout"
        }
      ]
    },
    {
      "cell_type": "code",
      "metadata": {
        "colab_type": "code",
        "id": "_RN83lIkw0Qu",
        "colab": {
          "base_uri": "https://localhost:8080/",
          "height": 545
        },
        "outputId": "858a9322-bb72-444d-d4eb-19fbe0f091a2"
      },
      "source": [
        "# Plot the Training and Validation Accuracy & Loss Scores\n",
        "import matplotlib.pyplot as plt\n",
        "%matplotlib inline\n",
        "\n",
        "acc = history.history['acc']\n",
        "val_acc = history.history['val_acc']\n",
        "loss = history.history['loss']\n",
        "val_loss = history.history['val_loss']\n",
        "\n",
        "epochs = range(len(acc))\n",
        "\n",
        "plt.plot(epochs, acc, 'bo', label='Training acc')\n",
        "plt.plot(epochs, val_acc, 'b', label='Validation acc')\n",
        "plt.title('Training and validation accuracy')\n",
        "plt.legend()\n",
        "\n",
        "plt.figure()\n",
        "\n",
        "plt.plot(epochs, loss, 'bo', label='Training loss')\n",
        "plt.plot(epochs, val_loss, 'b', label='Validation loss')\n",
        "plt.title('Training and validation loss')\n",
        "plt.legend()\n",
        "\n",
        "plt.show()"
      ],
      "execution_count": null,
      "outputs": [
        {
          "output_type": "display_data",
          "data": {
            "image/png": "[encoded data removed]",
            "text/plain": [
              "<Figure size 432x288 with 1 Axes>"
            ]
          },
          "metadata": {
            "tags": [],
            "needs_background": "light"
          }
        },
        {
          "output_type": "display_data",
          "data": {
            "image/png": "[encoded data removed]",
            "text/plain": [
              "<Figure size 432x288 with 1 Axes>"
            ]
          },
          "metadata": {
            "tags": [],
            "needs_background": "light"
          }
        }
      ]
    },
    {
      "cell_type": "code",
      "metadata": {
        "colab_type": "code",
        "id": "yeJSdgXFw0Qw",
        "colab": {}
      },
      "source": [
        "# Save the Model\n",
        "model.save(model_path+'text_model_15.h5')\n",
        "model.save('text_model_15.h5')"
      ],
      "execution_count": null,
      "outputs": []
    },
    {
      "cell_type": "code",
      "metadata": {
        "colab_type": "code",
        "id": "1cxQ1Ztsw0Qy",
        "colab": {}
      },
      "source": [
        "import tensorflow as tf\n",
        "tf.keras.backend.clear_session()"
      ],
      "execution_count": null,
      "outputs": []
    },
    {
      "cell_type": "markdown",
      "metadata": {
        "colab_type": "text",
        "id": "dUo-iG3c-s5n"
      },
      "source": [
        "### Model #16 (model11 + 20e + SGD)"
      ]
    },
    {
      "cell_type": "code",
      "metadata": {
        "colab_type": "code",
        "id": "Qxe9GbuP-s5o",
        "colab": {
          "base_uri": "https://localhost:8080/",
          "height": 357
        },
        "outputId": "b021eecc-7eff-4544-db45-6ced397a2504"
      },
      "source": [
        "# Build the Model\n",
        "from tensorflow.keras.models import Sequential\n",
        "from tensorflow.keras import layers\n",
        "from tensorflow.keras.optimizers import RMSprop, SGD\n",
        "\n",
        "model = Sequential()\n",
        "model.add(layers.Embedding(max_words, 8, input_length=max_len))\n",
        "model.add(layers.LSTM(1024, return_sequences=True))\n",
        "model.add(layers.LSTM(1024))\n",
        "model.add(layers.Flatten())\n",
        "model.add(layers.Dense(32, activation='relu'))\n",
        "model.add(layers.Dense(5, activation='softmax'))\n",
        "model.summary()"
      ],
      "execution_count": null,
      "outputs": [
        {
          "output_type": "stream",
          "text": [
            "Model: \"sequential_2\"\n",
            "_________________________________________________________________\n",
            "Layer (type)                 Output Shape              Param #   \n",
            "=================================================================\n",
            "embedding_2 (Embedding)      (None, 34, 8)             80000     \n",
            "_________________________________________________________________\n",
            "lstm_4 (LSTM)                (None, 34, 1024)          4231168   \n",
            "_________________________________________________________________\n",
            "lstm_5 (LSTM)                (None, 1024)              8392704   \n",
            "_________________________________________________________________\n",
            "flatten_2 (Flatten)          (None, 1024)              0         \n",
            "_________________________________________________________________\n",
            "dense_4 (Dense)              (None, 32)                32800     \n",
            "_________________________________________________________________\n",
            "dense_5 (Dense)              (None, 5)                 165       \n",
            "=================================================================\n",
            "Total params: 12,736,837\n",
            "Trainable params: 12,736,837\n",
            "Non-trainable params: 0\n",
            "_________________________________________________________________\n"
          ],
          "name": "stdout"
        }
      ]
    },
    {
      "cell_type": "code",
      "metadata": {
        "colab_type": "code",
        "id": "q0OyVZTO-s5q",
        "colab": {
          "base_uri": "https://localhost:8080/",
          "height": 496
        },
        "outputId": "9274ea32-1f3b-4d62-cb13-1d06761ec3dd"
      },
      "source": [
        "# Train the Model\n",
        "\n",
        "model.compile(optimizer=SGD(lr=5e-4,  momentum=0.9),\n",
        "              loss='categorical_crossentropy',\n",
        "              metrics=['acc'])\n",
        "history = model.fit(x_train, y_train,\n",
        "                    epochs=20,\n",
        "                    batch_size=2,\n",
        "                    validation_split=0.2)"
      ],
      "execution_count": null,
      "outputs": [
        {
          "output_type": "stream",
          "text": [
            "Epoch 1/20\n",
            "13614/13614 [==============================] - ETA: 0s - loss: 1.4323 - acc: 0.4224WARNING:tensorflow:Callbacks method `on_test_batch_end` is slow compared to the batch time (batch time: 0.0030s vs `on_test_batch_end` time: 0.0062s). Check your callbacks.\n",
            "13614/13614 [==============================] - 317s 23ms/step - loss: 1.4323 - acc: 0.4224 - val_loss: 1.4266 - val_acc: 0.4311\n",
            "Epoch 2/20\n",
            "13614/13614 [==============================] - 316s 23ms/step - loss: 1.4268 - acc: 0.4225 - val_loss: 1.4082 - val_acc: 0.4311\n",
            "Epoch 3/20\n",
            "13614/13614 [==============================] - 316s 23ms/step - loss: 1.2780 - acc: 0.4370 - val_loss: 1.1824 - val_acc: 0.4678\n",
            "Epoch 4/20\n",
            "13614/13614 [==============================] - 317s 23ms/step - loss: 1.1677 - acc: 0.4846 - val_loss: 1.1344 - val_acc: 0.5118\n",
            "Epoch 5/20\n",
            "13614/13614 [==============================] - 318s 23ms/step - loss: 1.1202 - acc: 0.5094 - val_loss: 1.1082 - val_acc: 0.5207\n",
            "Epoch 6/20\n",
            "13614/13614 [==============================] - 319s 23ms/step - loss: 1.0861 - acc: 0.5294 - val_loss: 1.0978 - val_acc: 0.5213\n",
            "Epoch 7/20\n",
            "13614/13614 [==============================] - 320s 23ms/step - loss: 1.0622 - acc: 0.5406 - val_loss: 1.0763 - val_acc: 0.5339\n",
            "Epoch 8/20\n",
            "13614/13614 [==============================] - 320s 24ms/step - loss: 1.0383 - acc: 0.5504 - val_loss: 1.0749 - val_acc: 0.5319\n",
            "Epoch 9/20\n",
            "13614/13614 [==============================] - 320s 23ms/step - loss: 1.0201 - acc: 0.5610 - val_loss: 1.0662 - val_acc: 0.5328\n",
            "Epoch 10/20\n",
            "13614/13614 [==============================] - 319s 23ms/step - loss: 1.0011 - acc: 0.5685 - val_loss: 1.0613 - val_acc: 0.5419\n",
            "Epoch 11/20\n",
            "13614/13614 [==============================] - 319s 23ms/step - loss: 0.9795 - acc: 0.5777 - val_loss: 1.0390 - val_acc: 0.5504\n",
            "Epoch 12/20\n",
            "13614/13614 [==============================] - 319s 23ms/step - loss: 0.9585 - acc: 0.5890 - val_loss: 1.0645 - val_acc: 0.5469\n",
            "Epoch 13/20\n",
            "12297/13614 [==========================>...] - ETA: 27s - loss: 0.9366 - acc: 0.5996Buffered data was truncated after reaching the output size limit."
          ],
          "name": "stdout"
        }
      ]
    },
    {
      "cell_type": "code",
      "metadata": {
        "colab_type": "code",
        "id": "rhil7i1n-s5s",
        "colab": {
          "base_uri": "https://localhost:8080/",
          "height": 545
        },
        "outputId": "5a216feb-6d83-4592-a3e5-1e3191da5967"
      },
      "source": [
        "# Plot the Training and Validation Accuracy & Loss Scores\n",
        "import matplotlib.pyplot as plt\n",
        "%matplotlib inline\n",
        "\n",
        "acc = history.history['acc']\n",
        "val_acc = history.history['val_acc']\n",
        "loss = history.history['loss']\n",
        "val_loss = history.history['val_loss']\n",
        "\n",
        "epochs = range(len(acc))\n",
        "\n",
        "plt.plot(epochs, acc, 'bo', label='Training acc')\n",
        "plt.plot(epochs, val_acc, 'b', label='Validation acc')\n",
        "plt.title('Training and validation accuracy')\n",
        "plt.legend()\n",
        "\n",
        "plt.figure()\n",
        "\n",
        "plt.plot(epochs, loss, 'bo', label='Training loss')\n",
        "plt.plot(epochs, val_loss, 'b', label='Validation loss')\n",
        "plt.title('Training and validation loss')\n",
        "plt.legend()\n",
        "\n",
        "plt.show()"
      ],
      "execution_count": null,
      "outputs": [
        {
          "output_type": "display_data",
          "data": {
            "image/png": "[encoded data removed]",
            "text/plain": [
              "<Figure size 432x288 with 1 Axes>"
            ]
          },
          "metadata": {
            "tags": [],
            "needs_background": "light"
          }
        },
        {
          "output_type": "display_data",
          "data": {
            "image/png": "[encoded data removed]",
            "text/plain": [
              "<Figure size 432x288 with 1 Axes>"
            ]
          },
          "metadata": {
            "tags": [],
            "needs_background": "light"
          }
        }
      ]
    },
    {
      "cell_type": "code",
      "metadata": {
        "colab_type": "code",
        "id": "KMaDQ10W-s5t",
        "colab": {}
      },
      "source": [
        "# Save the Model\n",
        "model.save(model_path+'text_model_16.h5')\n",
        "model.save('text_model_16.h5')"
      ],
      "execution_count": null,
      "outputs": []
    },
    {
      "cell_type": "code",
      "metadata": {
        "colab_type": "code",
        "id": "bMw1QsPd-s5u",
        "colab": {}
      },
      "source": [
        "import tensorflow as tf\n",
        "tf.keras.backend.clear_session()"
      ],
      "execution_count": null,
      "outputs": []
    },
    {
      "cell_type": "markdown",
      "metadata": {
        "id": "aLy13ruxs4v9",
        "colab_type": "text"
      },
      "source": [
        "## Step 3 – Evaluate the Model using Testing Data "
      ]
    },
    {
      "cell_type": "code",
      "metadata": {
        "id": "mn421YB8s4v9",
        "colab_type": "code",
        "colab": {}
      },
      "source": [
        "# Model #1 (replicate where necessary for other models)\n",
        "model.load_weights('text_model_1.h5')\n"
      ],
      "execution_count": null,
      "outputs": []
    },
    {
      "cell_type": "code",
      "metadata": {
        "id": "8dKOgrols4v_",
        "colab_type": "code",
        "colab": {}
      },
      "source": [
        "# Save the Best Model\n",
        "model.save('text_model_best.h5')"
      ],
      "execution_count": null,
      "outputs": []
    },
    {
      "cell_type": "markdown",
      "metadata": {
        "id": "7lEhdj0Zs4wA",
        "colab_type": "text"
      },
      "source": [
        "## Step 4 – Use the Best Model to make prediction"
      ]
    },
    {
      "cell_type": "code",
      "metadata": {
        "id": "tr7Ji3MHs4wB",
        "colab_type": "code",
        "colab": {}
      },
      "source": [
        "model.load_weights('text_model_best.h5')"
      ],
      "execution_count": null,
      "outputs": []
    },
    {
      "cell_type": "code",
      "metadata": {
        "id": "IUNNAdN_s4wC",
        "colab_type": "code",
        "colab": {
          "base_uri": "https://localhost:8080/",
          "height": 34
        },
        "outputId": "d983f5f2-c2b1-4ef0-dddf-03a6939fcd13"
      },
      "source": [
        "# takes the user input\n",
        "text_input = np.array([input()])"
      ],
      "execution_count": null,
      "outputs": [
        {
          "output_type": "stream",
          "text": [
            "photgraphy\n"
          ],
          "name": "stdout"
        }
      ]
    },
    {
      "cell_type": "code",
      "metadata": {
        "id": "AL9uJMwss4wE",
        "colab_type": "code",
        "colab": {}
      },
      "source": [
        "# convert the user input into numeric tensor\n",
        "import pandas as pd\n",
        "def prediction(model, text_array, items_list):\n",
        "    prob = model.predict(data)\n",
        "    pro_df = pd.DataFrame(prob, columns = items_list)\n",
        "    result = items_list[np.argmax(prob)]\n",
        "    return pro_df, result\n",
        "\n",
        "sequences = tokenizer.texts_to_sequences(text_input)\n",
        "data = pad_sequences(sequences, maxlen=max_len)"
      ],
      "execution_count": null,
      "outputs": []
    },
    {
      "cell_type": "code",
      "metadata": {
        "id": "6dz3hkLZs4wG",
        "colab_type": "code",
        "colab": {
          "base_uri": "https://localhost:8080/",
          "height": 51
        },
        "outputId": "57d8528f-26cd-4934-a460-b97a1d59e66b"
      },
      "source": [
        "# show the model output using predict function\n",
        "prediction(model, data, emoji_dictionary)"
      ],
      "execution_count": null,
      "outputs": [
        {
          "output_type": "execute_result",
          "data": {
            "text/plain": [
              "(          0         1         2         3         4\n",
              " 0  0.334166  0.230341  0.067343  0.111208  0.256943, '😍')"
            ]
          },
          "metadata": {
            "tags": []
          },
          "execution_count": 28
        }
      ]
    }
  ]
}