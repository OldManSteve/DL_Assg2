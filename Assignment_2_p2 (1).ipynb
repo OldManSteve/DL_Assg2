{
  "nbformat": 4,
  "nbformat_minor": 0,
  "metadata": {
    "kernelspec": {
      "display_name": "Python 3",
      "language": "python",
      "name": "python3"
    },
    "language_info": {
      "codemirror_mode": {
        "name": "ipython",
        "version": 3
      },
      "file_extension": ".py",
      "mimetype": "text/x-python",
      "name": "python",
      "nbconvert_exporter": "python",
      "pygments_lexer": "ipython3",
      "version": "3.7.4"
    },
    "colab": {
      "name": "Assignment_2_p2.ipynb",
      "provenance": [],
      "collapsed_sections": [
        "OE5jwFcdI52_",
        "iFmcWR9hzqbX",
        "NpbQekZs3113",
        "7KdVbmPf044x",
        "0V715IPMBL14",
        "Ak6JSxfpEP3T",
        "S-TPPhFjMsIJ",
        "Wu2dmE5d2z-b",
        "GMEeJqg-cok4",
        "hW2yIq9fdRie",
        "4aZGfZMdTMx-",
        "U7uZ3fnxVlWd",
        "gTX-bygdgcvn",
        "yjNpewYDhpfw",
        "MtJfwtEiltYX",
        "Vbn-T-WLyR68",
        "N5ngk1Zm6LR4",
        "VL1No9ojXiqs",
        "yH8_cts-IzEN",
        "00hEQbZIezdF",
        "vsrSzmfD9S0e",
        "-Q41dnxD5XCB"
      ]
    },
    "accelerator": "GPU"
  },
  "cells": [
    {
      "cell_type": "markdown",
      "metadata": {
        "id": "68EISnjDIzDr",
        "colab_type": "text"
      },
      "source": [
        "<table class=\"table table-bordered\">\n",
        "    <tr>\n",
        "        <th style=\"text-align:center; width:25%\"><img src='https://www.np.edu.sg/PublishingImages/Pages/default/odp/ICT.jpg' style=\"width: 250px; height: 125px; \"></th>\n",
        "        <th style=\"text-align:center;\"><h1>Deep Learning</h1><h2>Assignment 2 - Character Generator Model (Problem 2)</h2><h3>AY2020/21 Semester</h3></th>\n",
        "    </tr>\n",
        "</table>"
      ]
    },
    {
      "cell_type": "code",
      "metadata": {
        "id": "O40ionLYIzDt",
        "colab_type": "code",
        "colab": {
          "base_uri": "https://localhost:8080/",
          "height": 34
        },
        "outputId": "a950091d-4b97-4dcd-f06d-e1911b613c98"
      },
      "source": [
        "# Import the Required Packages\n",
        "# Enter your code here:\n",
        "from tensorflow import keras\n",
        "print('keras: ', keras.__version__)\n",
        "from IPython.core.display import display, HTML\n",
        "display(HTML(\"<style>.container { width:95% !important; }</style>\"))"
      ],
      "execution_count": null,
      "outputs": [
        {
          "output_type": "stream",
          "text": [
            "keras:  2.4.0\n"
          ],
          "name": "stdout"
        },
        {
          "output_type": "display_data",
          "data": {
            "text/html": [
              "<style>.container { width:95% !important; }</style>"
            ],
            "text/plain": [
              "<IPython.core.display.HTML object>"
            ]
          },
          "metadata": {
            "tags": []
          }
        }
      ]
    },
    {
      "cell_type": "markdown",
      "metadata": {
        "id": "m4oJIdijtkeY",
        "colab_type": "text"
      },
      "source": [
        "### GitHub + Colab"
      ]
    },
    {
      "cell_type": "code",
      "metadata": {
        "id": "qz90Yb82trAa",
        "colab_type": "code",
        "colab": {
          "base_uri": "https://localhost:8080/",
          "height": 119
        },
        "outputId": "abfc2f3d-4914-4354-973f-742ae093f39a"
      },
      "source": [
        "#run for GitHub Colab\n",
        "!git clone \"https://github.com/OldManSteve/DL_Assg2.git\"\n"
      ],
      "execution_count": null,
      "outputs": [
        {
          "output_type": "stream",
          "text": [
            "Cloning into 'DL_Assg2'...\n",
            "remote: Enumerating objects: 51, done.\u001b[K\n",
            "remote: Counting objects: 100% (51/51), done.\u001b[K\n",
            "remote: Compressing objects: 100% (41/41), done.\u001b[K\n",
            "remote: Total 51 (delta 15), reused 42 (delta 9), pack-reused 0\u001b[K\n",
            "Unpacking objects: 100% (51/51), done.\n"
          ],
          "name": "stdout"
        }
      ]
    },
    {
      "cell_type": "code",
      "metadata": {
        "id": "jxwhU0xHtsdK",
        "colab_type": "code",
        "colab": {}
      },
      "source": [
        "#GitHub Colab directory\n",
        "# Directories for files\n",
        "holmes_file = '/content/DL_Assg2/holmes.txt'"
      ],
      "execution_count": null,
      "outputs": []
    },
    {
      "cell_type": "code",
      "metadata": {
        "id": "DUg9FIRJ2vOm",
        "colab_type": "code",
        "colab": {
          "base_uri": "https://localhost:8080/",
          "height": 122
        },
        "outputId": "7937b033-b86e-4d57-91d7-f1221c769579"
      },
      "source": [
        "#Google drive model upload/save storage\n",
        "from google.colab import drive\n",
        "drive.mount('/content/drive')\n",
        "\n",
        "model_path='/content/drive/My Drive/Colab Notebooks/DL_Assg2_Models/'"
      ],
      "execution_count": null,
      "outputs": [
        {
          "output_type": "stream",
          "text": [
            "Go to this URL in a browser: https://accounts.google.com/o/oauth2/auth?client_id=947318989803-6bn6qk8qdgf4n4g3pfee6491hc0brc4i.apps.googleusercontent.com&redirect_uri=urn%3aietf%3awg%3aoauth%3a2.0%3aoob&scope=email%20https%3a%2f%2fwww.googleapis.com%2fauth%2fdocs.test%20https%3a%2f%2fwww.googleapis.com%2fauth%2fdrive%20https%3a%2f%2fwww.googleapis.com%2fauth%2fdrive.photos.readonly%20https%3a%2f%2fwww.googleapis.com%2fauth%2fpeopleapi.readonly&response_type=code\n",
            "\n",
            "Enter your authorization code:\n",
            "··········\n",
            "Mounted at /content/drive\n"
          ],
          "name": "stdout"
        }
      ]
    },
    {
      "cell_type": "markdown",
      "metadata": {
        "id": "4BXl__WTIzDw",
        "colab_type": "text"
      },
      "source": [
        "## Step 1 – Data Loading and Processing"
      ]
    },
    {
      "cell_type": "markdown",
      "metadata": {
        "id": "TApFnQPRIzDw",
        "colab_type": "text"
      },
      "source": [
        "### 1.1 Data Loading"
      ]
    },
    {
      "cell_type": "code",
      "metadata": {
        "id": "edsqbjtrIzDw",
        "colab_type": "code",
        "colab": {
          "base_uri": "https://localhost:8080/",
          "height": 51
        },
        "outputId": "47f9e394-9053-437d-eb15-d89aa2123d43"
      },
      "source": [
        "# read in the text file, transforming everything to lower case\n",
        "text = open(holmes_file).read().lower()\n",
        "print('The original text has ' + str(len(text)) + ' characters.\\n')"
      ],
      "execution_count": null,
      "outputs": [
        {
          "output_type": "stream",
          "text": [
            "The original text has 562422 characters.\n",
            "\n"
          ],
          "name": "stdout"
        }
      ]
    },
    {
      "cell_type": "markdown",
      "metadata": {
        "id": "ga5JfFmVIzDy",
        "colab_type": "text"
      },
      "source": [
        "### 1.2 Data Processing\n"
      ]
    },
    {
      "cell_type": "code",
      "metadata": {
        "id": "dFCH3DmGIzDz",
        "colab_type": "code",
        "colab": {
          "base_uri": "https://localhost:8080/",
          "height": 120
        },
        "outputId": "09d287eb-9b56-489b-c0cd-06b7e46c073a"
      },
      "source": [
        "### print out the first 1000 characters of the raw text to get a sense of what characters to remove\n",
        "text[:2000]"
      ],
      "execution_count": null,
      "outputs": [
        {
          "output_type": "execute_result",
          "data": {
            "application/vnd.google.colaboratory.intrinsic+json": {
              "type": "string"
            },
            "text/plain": [
              "\"\\ufeffthe adventures of sherlock holmes by sir arthur conan doyle\\n\\n   i. a scandal in bohemia\\n  ii. the red-headed league\\n iii. a case of identity\\n  iv. the boscombe valley mystery\\n   v. the five orange pips\\n  vi. the man with the twisted lip\\n vii. the adventure of the blue carbuncle\\nviii. the adventure of the speckled band\\n  ix. the adventure of the engineer's thumb\\n   x. the adventure of the noble bachelor\\n  xi. the adventure of the beryl coronet\\n xii. the adventure of the copper beeches\\n\\n\\nadventure i. a scandal in bohemia\\n\\ni.\\n\\nto sherlock holmes she is always the woman. i have seldom heard\\nhim mention her under any other name. in his eyes she eclipses\\nand predominates the whole of her sex. it was not that he felt\\nany emotion akin to love for irene adler. all emotions, and that\\none particularly, were abhorrent to his cold, precise but\\nadmirably balanced mind. he was, i take it, the most perfect\\nreasoning and observing machine that the world has seen, but as a\\nlover he would have placed himself in a false position. he never\\nspoke of the softer passions, save with a gibe and a sneer. they\\nwere admirable things for the observer--excellent for drawing the\\nveil from men's motives and actions. but for the trained reasoner\\nto admit such intrusions into his own delicate and finely\\nadjusted temperament was to introduce a distracting factor which\\nmight throw a doubt upon all his mental results. grit in a\\nsensitive instrument, or a crack in one of his own high-power\\nlenses, would not be more disturbing than a strong emotion in a\\nnature such as his. and yet there was but one woman to him, and\\nthat woman was the late irene adler, of dubious and questionable\\nmemory.\\n\\ni had seen little of holmes lately. my marriage had drifted us\\naway from each other. my own complete happiness, and the\\nhome-centred interests which rise up around the man who first\\nfinds himself master of his own establishment, were sufficient to\\nabsorb all my attention, while holmes, who loathed every form of\\nsociety \""
            ]
          },
          "metadata": {
            "tags": []
          },
          "execution_count": 6
        }
      ]
    },
    {
      "cell_type": "code",
      "metadata": {
        "id": "IGWz3AusIzD1",
        "colab_type": "code",
        "colab": {
          "base_uri": "https://localhost:8080/",
          "height": 54
        },
        "outputId": "0775be9f-e736-469f-9c7d-bef809e942ff"
      },
      "source": [
        "# remove all '\\n' and '\\r' from text\n",
        "text = text.replace('\\n','') \n",
        "text = text.replace('\\r','')\n",
        "\n",
        "print(text[:2000])"
      ],
      "execution_count": null,
      "outputs": [
        {
          "output_type": "stream",
          "text": [
            "﻿the adventures of sherlock holmes by sir arthur conan doyle   i. a scandal in bohemia  ii. the red-headed league iii. a case of identity  iv. the boscombe valley mystery   v. the five orange pips  vi. the man with the twisted lip vii. the adventure of the blue carbuncleviii. the adventure of the speckled band  ix. the adventure of the engineer's thumb   x. the adventure of the noble bachelor  xi. the adventure of the beryl coronet xii. the adventure of the copper beechesadventure i. a scandal in bohemiai.to sherlock holmes she is always the woman. i have seldom heardhim mention her under any other name. in his eyes she eclipsesand predominates the whole of her sex. it was not that he feltany emotion akin to love for irene adler. all emotions, and thatone particularly, were abhorrent to his cold, precise butadmirably balanced mind. he was, i take it, the most perfectreasoning and observing machine that the world has seen, but as alover he would have placed himself in a false position. he neverspoke of the softer passions, save with a gibe and a sneer. theywere admirable things for the observer--excellent for drawing theveil from men's motives and actions. but for the trained reasonerto admit such intrusions into his own delicate and finelyadjusted temperament was to introduce a distracting factor whichmight throw a doubt upon all his mental results. grit in asensitive instrument, or a crack in one of his own high-powerlenses, would not be more disturbing than a strong emotion in anature such as his. and yet there was but one woman to him, andthat woman was the late irene adler, of dubious and questionablememory.i had seen little of holmes lately. my marriage had drifted usaway from each other. my own complete happiness, and thehome-centred interests which rise up around the man who firstfinds himself master of his own establishment, were sufficient toabsorb all my attention, while holmes, who loathed every form ofsociety with his whole bohemian soul, remained in our\n"
          ],
          "name": "stdout"
        }
      ]
    },
    {
      "cell_type": "code",
      "metadata": {
        "id": "39LI1iTOIzD3",
        "colab_type": "code",
        "colab": {}
      },
      "source": [
        "# create a function 'clean_text' to clean text so that only the following letters and punctation remain\n",
        "def clean_text(text):\n",
        "    punctuation = ['!', ',', '.', ':', ';', '?', '-', \"'\",' ']\n",
        "    letters='abcdefghijklmnopqrstuvwxyz'\n",
        "    \n",
        "    # Enter your code here:\n",
        "    clean_text=''\n",
        "\n",
        "    for i in text:\n",
        "      if i in punctuation or i in letters:\n",
        "        clean_text+=i\n",
        "\n",
        "    return clean_text"
      ],
      "execution_count": null,
      "outputs": []
    },
    {
      "cell_type": "code",
      "metadata": {
        "id": "MsGJWaVnIzD5",
        "colab_type": "code",
        "colab": {
          "base_uri": "https://localhost:8080/",
          "height": 120
        },
        "outputId": "1214b7a7-7751-4946-d18d-994120a08ac5"
      },
      "source": [
        "# clean data using clean_text function\n",
        "text = clean_text(text)\n",
        "text[:2000]"
      ],
      "execution_count": null,
      "outputs": [
        {
          "output_type": "execute_result",
          "data": {
            "application/vnd.google.colaboratory.intrinsic+json": {
              "type": "string"
            },
            "text/plain": [
              "\"the adventures of sherlock holmes by sir arthur conan doyle   i. a scandal in bohemia  ii. the red-headed league iii. a case of identity  iv. the boscombe valley mystery   v. the five orange pips  vi. the man with the twisted lip vii. the adventure of the blue carbuncleviii. the adventure of the speckled band  ix. the adventure of the engineer's thumb   x. the adventure of the noble bachelor  xi. the adventure of the beryl coronet xii. the adventure of the copper beechesadventure i. a scandal in bohemiai.to sherlock holmes she is always the woman. i have seldom heardhim mention her under any other name. in his eyes she eclipsesand predominates the whole of her sex. it was not that he feltany emotion akin to love for irene adler. all emotions, and thatone particularly, were abhorrent to his cold, precise butadmirably balanced mind. he was, i take it, the most perfectreasoning and observing machine that the world has seen, but as alover he would have placed himself in a false position. he neverspoke of the softer passions, save with a gibe and a sneer. theywere admirable things for the observer--excellent for drawing theveil from men's motives and actions. but for the trained reasonerto admit such intrusions into his own delicate and finelyadjusted temperament was to introduce a distracting factor whichmight throw a doubt upon all his mental results. grit in asensitive instrument, or a crack in one of his own high-powerlenses, would not be more disturbing than a strong emotion in anature such as his. and yet there was but one woman to him, andthat woman was the late irene adler, of dubious and questionablememory.i had seen little of holmes lately. my marriage had drifted usaway from each other. my own complete happiness, and thehome-centred interests which rise up around the man who firstfinds himself master of his own establishment, were sufficient toabsorb all my attention, while holmes, who loathed every form ofsociety with his whole bohemian soul, remained in our \""
            ]
          },
          "metadata": {
            "tags": []
          },
          "execution_count": 9
        }
      ]
    },
    {
      "cell_type": "code",
      "metadata": {
        "id": "etvZzKpxIzD7",
        "colab_type": "code",
        "colab": {
          "base_uri": "https://localhost:8080/",
          "height": 51
        },
        "outputId": "17c0582b-031b-4d3a-bcde-93a5df059d22"
      },
      "source": [
        "# count the number of unique characters in the text\n",
        "chars = sorted(list(set(text)))\n",
        "\n",
        "# print some of the text, as well as statistics\n",
        "print (\"This document has \" +  str(len(text)) + \" total number of characters.\")\n",
        "print (\"This document has \" +  str(len(chars)) + \" unique characters.\")"
      ],
      "execution_count": null,
      "outputs": [
        {
          "output_type": "stream",
          "text": [
            "This document has 544340 total number of characters.\n",
            "This document has 35 unique characters.\n"
          ],
          "name": "stdout"
        }
      ]
    },
    {
      "cell_type": "code",
      "metadata": {
        "id": "31dPYdLxIzD9",
        "colab_type": "code",
        "colab": {}
      },
      "source": [
        "# create a function 'generate_text_io' to generate text inputs based on window_size and the corresponding labels\n",
        "def generate_text_io(text, window_size):\n",
        "    inputs = [] # store inputs\n",
        "    labels = [] # stores label\n",
        "    \n",
        "    # Enter your code here:\n",
        "    for i in range(0, len(text)-window_size):\n",
        "      inputs.append(text[i:i+window_size])\n",
        "      labels.append(text[i+window_size])\n",
        "    \n",
        "    print(\"Num of Sequences: \",len(inputs))\n",
        "    print(inputs)\n",
        "    return inputs, labels"
      ],
      "execution_count": null,
      "outputs": []
    },
    {
      "cell_type": "code",
      "metadata": {
        "id": "rj42ZA8tIzD_",
        "colab_type": "code",
        "colab": {}
      },
      "source": [
        "# this dictionary is a function mapping each unique character to a unique integer\n",
        "chars_to_indices = dict((c, i) for i, c in enumerate(chars))  # map each unique character to unique integer\n",
        "\n",
        "# this dictionary is a function mapping each unique integer back to a unique character\n",
        "indices_to_chars = dict((i, c) for i, c in enumerate(chars))  # map each unique integer back to unique character"
      ],
      "execution_count": null,
      "outputs": []
    },
    {
      "cell_type": "code",
      "metadata": {
        "id": "LrqDoltLIzEB",
        "colab_type": "code",
        "colab": {}
      },
      "source": [
        "import numpy as np\n",
        "\n",
        "# create a function 'encode_io_pairs' to perform one-hot encoding of inputs and labels\n",
        "def encode_io_pairs(text,window_size): # window_size determines # of characters in each input\n",
        "    \n",
        "    # Enter your code here:\n",
        "    inputs, labels = generate_text_io(text, window_size)\n",
        "\n",
        "\n",
        "    # Next, one-hot encode the characters into binary arrays.\n",
        "    print('Vectorization...')\n",
        "    x = np.zeros((len(inputs), window_size, len(chars)), dtype=np.bool)\n",
        "    y = np.zeros((len(inputs), len(chars)), dtype=np.bool)\n",
        "    for i, sentence in enumerate(inputs):\n",
        "        for t, char in enumerate(sentence):\n",
        "            x[i, t, chars_to_indices[char]] = 1\n",
        "        y[i, chars_to_indices[labels[i]]] = 1\n",
        "\n",
        "    return x, y"
      ],
      "execution_count": null,
      "outputs": []
    },
    {
      "cell_type": "code",
      "metadata": {
        "id": "MeeuHDQLIzEC",
        "colab_type": "code",
        "colab": {
          "base_uri": "https://localhost:8080/",
          "height": 187
        },
        "outputId": "b6a73c8f-3c2b-4dba-e72e-4b594b95b532"
      },
      "source": [
        "# perform one-hot encoding of inputs and labels\n",
        "window_size = 100\n",
        "X, y = encode_io_pairs(text, window_size)"
      ],
      "execution_count": null,
      "outputs": [
        {
          "output_type": "stream",
          "text": [
            "IOPub data rate exceeded.\n",
            "The notebook server will temporarily stop sending output\n",
            "to the client in order to avoid crashing it.\n",
            "To change this limit, set the config variable\n",
            "`--NotebookApp.iopub_data_rate_limit`.\n",
            "\n",
            "Current values:\n",
            "NotebookApp.iopub_data_rate_limit=1000000.0 (bytes/sec)\n",
            "NotebookApp.rate_limit_window=3.0 (secs)\n",
            "\n"
          ],
          "name": "stderr"
        }
      ]
    },
    {
      "cell_type": "markdown",
      "metadata": {
        "id": "2pBlfPVcIzEE",
        "colab_type": "text"
      },
      "source": [
        "### 1.3 Splitting Dataset into Inputs (X) and Labels (y)"
      ]
    },
    {
      "cell_type": "code",
      "metadata": {
        "id": "5Ob1YhtcIzEF",
        "colab_type": "code",
        "colab": {
          "base_uri": "https://localhost:8080/",
          "height": 51
        },
        "outputId": "b3b32bde-25e1-4b9e-8e2a-a6da69dd7afc"
      },
      "source": [
        "# Note: You may choose to perform this step before encoding the data (step 1.2).\n",
        "# Enter your code here:\n",
        "print (y.shape)\n",
        "print (X.shape)"
      ],
      "execution_count": null,
      "outputs": [
        {
          "output_type": "stream",
          "text": [
            "(544240, 35)\n",
            "(544240, 100, 35)\n"
          ],
          "name": "stdout"
        }
      ]
    },
    {
      "cell_type": "markdown",
      "metadata": {
        "id": "aMsx4elxIzEG",
        "colab_type": "text"
      },
      "source": [
        "## Step 2 – Develop a Character Generator Model"
      ]
    },
    {
      "cell_type": "code",
      "metadata": {
        "id": "16qkySXvrkWr",
        "colab_type": "code",
        "colab": {}
      },
      "source": [
        "import tensorflow as tf\n",
        "tf.keras.backend.clear_session()"
      ],
      "execution_count": null,
      "outputs": []
    },
    {
      "cell_type": "markdown",
      "metadata": {
        "id": "OE5jwFcdI52_",
        "colab_type": "text"
      },
      "source": [
        "### Model #1 (Replicate as necessary for other models)"
      ]
    },
    {
      "cell_type": "code",
      "metadata": {
        "id": "RchO2-ZUI53D",
        "colab_type": "code",
        "colab": {
          "base_uri": "https://localhost:8080/",
          "height": 221
        },
        "outputId": "1fdb4b5c-e4df-44fe-8477-c54bdcac8a9d"
      },
      "source": [
        "# Build the Model\n",
        "# Enter your code here:\n",
        "from tensorflow.keras.models import Sequential\n",
        "from tensorflow.keras import layers\n",
        "from tensorflow.keras.optimizers import RMSprop\n",
        "\n",
        "model = keras.models.Sequential()\n",
        "model.add(layers.LSTM(128, input_shape=(window_size, len(chars)))) #multiclass single label classification\n",
        "model.add(layers.Dense(len(chars), activation='softmax'))\n",
        "\n",
        "model.summary()\n"
      ],
      "execution_count": null,
      "outputs": [
        {
          "output_type": "stream",
          "text": [
            "Model: \"sequential\"\n",
            "_________________________________________________________________\n",
            "Layer (type)                 Output Shape              Param #   \n",
            "=================================================================\n",
            "lstm (LSTM)                  (None, 128)               83968     \n",
            "_________________________________________________________________\n",
            "dense (Dense)                (None, 35)                4515      \n",
            "=================================================================\n",
            "Total params: 88,483\n",
            "Trainable params: 88,483\n",
            "Non-trainable params: 0\n",
            "_________________________________________________________________\n"
          ],
          "name": "stdout"
        }
      ]
    },
    {
      "cell_type": "code",
      "metadata": {
        "id": "d5TvSPvgI53G",
        "colab_type": "code",
        "colab": {
          "base_uri": "https://localhost:8080/",
          "height": 374
        },
        "outputId": "268281ce-a623-431c-a4b2-a2d33235cda0"
      },
      "source": [
        "# Train the Model\n",
        "# Enter your code here:\n",
        "model.compile(loss='categorical_crossentropy', optimizer=RMSprop(lr=0.01), metrics=['acc'])\n",
        "\n",
        "history = model.fit(X, y,\n",
        "                    epochs=30,\n",
        "                    batch_size=128) "
      ],
      "execution_count": null,
      "outputs": [
        {
          "output_type": "stream",
          "text": [
            "Epoch 1/30\n",
            "  92/4252 [..............................] - ETA: 19:05 - loss: 2.7630 - acc: 0.2216"
          ],
          "name": "stdout"
        },
        {
          "output_type": "error",
          "ename": "KeyboardInterrupt",
          "evalue": "ignored",
          "traceback": [
            "\u001b[0;31m---------------------------------------------------------------------------\u001b[0m",
            "\u001b[0;31mKeyboardInterrupt\u001b[0m                         Traceback (most recent call last)",
            "\u001b[0;32m<ipython-input-17-1c49725177cc>\u001b[0m in \u001b[0;36m<module>\u001b[0;34m()\u001b[0m\n\u001b[1;32m      5\u001b[0m history = model.fit(X, y,\n\u001b[1;32m      6\u001b[0m                     \u001b[0mepochs\u001b[0m\u001b[0;34m=\u001b[0m\u001b[0;36m30\u001b[0m\u001b[0;34m,\u001b[0m\u001b[0;34m\u001b[0m\u001b[0;34m\u001b[0m\u001b[0m\n\u001b[0;32m----> 7\u001b[0;31m                     batch_size=128) \n\u001b[0m",
            "\u001b[0;32m/usr/local/lib/python3.6/dist-packages/tensorflow/python/keras/engine/training.py\u001b[0m in \u001b[0;36m_method_wrapper\u001b[0;34m(self, *args, **kwargs)\u001b[0m\n\u001b[1;32m    106\u001b[0m   \u001b[0;32mdef\u001b[0m \u001b[0m_method_wrapper\u001b[0m\u001b[0;34m(\u001b[0m\u001b[0mself\u001b[0m\u001b[0;34m,\u001b[0m \u001b[0;34m*\u001b[0m\u001b[0margs\u001b[0m\u001b[0;34m,\u001b[0m \u001b[0;34m**\u001b[0m\u001b[0mkwargs\u001b[0m\u001b[0;34m)\u001b[0m\u001b[0;34m:\u001b[0m\u001b[0;34m\u001b[0m\u001b[0;34m\u001b[0m\u001b[0m\n\u001b[1;32m    107\u001b[0m     \u001b[0;32mif\u001b[0m \u001b[0;32mnot\u001b[0m \u001b[0mself\u001b[0m\u001b[0;34m.\u001b[0m\u001b[0m_in_multi_worker_mode\u001b[0m\u001b[0;34m(\u001b[0m\u001b[0;34m)\u001b[0m\u001b[0;34m:\u001b[0m  \u001b[0;31m# pylint: disable=protected-access\u001b[0m\u001b[0;34m\u001b[0m\u001b[0;34m\u001b[0m\u001b[0m\n\u001b[0;32m--> 108\u001b[0;31m       \u001b[0;32mreturn\u001b[0m \u001b[0mmethod\u001b[0m\u001b[0;34m(\u001b[0m\u001b[0mself\u001b[0m\u001b[0;34m,\u001b[0m \u001b[0;34m*\u001b[0m\u001b[0margs\u001b[0m\u001b[0;34m,\u001b[0m \u001b[0;34m**\u001b[0m\u001b[0mkwargs\u001b[0m\u001b[0;34m)\u001b[0m\u001b[0;34m\u001b[0m\u001b[0;34m\u001b[0m\u001b[0m\n\u001b[0m\u001b[1;32m    109\u001b[0m \u001b[0;34m\u001b[0m\u001b[0m\n\u001b[1;32m    110\u001b[0m     \u001b[0;31m# Running inside `run_distribute_coordinator` already.\u001b[0m\u001b[0;34m\u001b[0m\u001b[0;34m\u001b[0m\u001b[0;34m\u001b[0m\u001b[0m\n",
            "\u001b[0;32m/usr/local/lib/python3.6/dist-packages/tensorflow/python/keras/engine/training.py\u001b[0m in \u001b[0;36mfit\u001b[0;34m(self, x, y, batch_size, epochs, verbose, callbacks, validation_split, validation_data, shuffle, class_weight, sample_weight, initial_epoch, steps_per_epoch, validation_steps, validation_batch_size, validation_freq, max_queue_size, workers, use_multiprocessing)\u001b[0m\n\u001b[1;32m   1096\u001b[0m                 batch_size=batch_size):\n\u001b[1;32m   1097\u001b[0m               \u001b[0mcallbacks\u001b[0m\u001b[0;34m.\u001b[0m\u001b[0mon_train_batch_begin\u001b[0m\u001b[0;34m(\u001b[0m\u001b[0mstep\u001b[0m\u001b[0;34m)\u001b[0m\u001b[0;34m\u001b[0m\u001b[0;34m\u001b[0m\u001b[0m\n\u001b[0;32m-> 1098\u001b[0;31m               \u001b[0mtmp_logs\u001b[0m \u001b[0;34m=\u001b[0m \u001b[0mtrain_function\u001b[0m\u001b[0;34m(\u001b[0m\u001b[0miterator\u001b[0m\u001b[0;34m)\u001b[0m\u001b[0;34m\u001b[0m\u001b[0;34m\u001b[0m\u001b[0m\n\u001b[0m\u001b[1;32m   1099\u001b[0m               \u001b[0;32mif\u001b[0m \u001b[0mdata_handler\u001b[0m\u001b[0;34m.\u001b[0m\u001b[0mshould_sync\u001b[0m\u001b[0;34m:\u001b[0m\u001b[0;34m\u001b[0m\u001b[0;34m\u001b[0m\u001b[0m\n\u001b[1;32m   1100\u001b[0m                 \u001b[0mcontext\u001b[0m\u001b[0;34m.\u001b[0m\u001b[0masync_wait\u001b[0m\u001b[0;34m(\u001b[0m\u001b[0;34m)\u001b[0m\u001b[0;34m\u001b[0m\u001b[0;34m\u001b[0m\u001b[0m\n",
            "\u001b[0;32m/usr/local/lib/python3.6/dist-packages/tensorflow/python/eager/def_function.py\u001b[0m in \u001b[0;36m__call__\u001b[0;34m(self, *args, **kwds)\u001b[0m\n\u001b[1;32m    778\u001b[0m       \u001b[0;32melse\u001b[0m\u001b[0;34m:\u001b[0m\u001b[0;34m\u001b[0m\u001b[0;34m\u001b[0m\u001b[0m\n\u001b[1;32m    779\u001b[0m         \u001b[0mcompiler\u001b[0m \u001b[0;34m=\u001b[0m \u001b[0;34m\"nonXla\"\u001b[0m\u001b[0;34m\u001b[0m\u001b[0;34m\u001b[0m\u001b[0m\n\u001b[0;32m--> 780\u001b[0;31m         \u001b[0mresult\u001b[0m \u001b[0;34m=\u001b[0m \u001b[0mself\u001b[0m\u001b[0;34m.\u001b[0m\u001b[0m_call\u001b[0m\u001b[0;34m(\u001b[0m\u001b[0;34m*\u001b[0m\u001b[0margs\u001b[0m\u001b[0;34m,\u001b[0m \u001b[0;34m**\u001b[0m\u001b[0mkwds\u001b[0m\u001b[0;34m)\u001b[0m\u001b[0;34m\u001b[0m\u001b[0;34m\u001b[0m\u001b[0m\n\u001b[0m\u001b[1;32m    781\u001b[0m \u001b[0;34m\u001b[0m\u001b[0m\n\u001b[1;32m    782\u001b[0m       \u001b[0mnew_tracing_count\u001b[0m \u001b[0;34m=\u001b[0m \u001b[0mself\u001b[0m\u001b[0;34m.\u001b[0m\u001b[0m_get_tracing_count\u001b[0m\u001b[0;34m(\u001b[0m\u001b[0;34m)\u001b[0m\u001b[0;34m\u001b[0m\u001b[0;34m\u001b[0m\u001b[0m\n",
            "\u001b[0;32m/usr/local/lib/python3.6/dist-packages/tensorflow/python/eager/def_function.py\u001b[0m in \u001b[0;36m_call\u001b[0;34m(self, *args, **kwds)\u001b[0m\n\u001b[1;32m    805\u001b[0m       \u001b[0;31m# In this case we have created variables on the first call, so we run the\u001b[0m\u001b[0;34m\u001b[0m\u001b[0;34m\u001b[0m\u001b[0;34m\u001b[0m\u001b[0m\n\u001b[1;32m    806\u001b[0m       \u001b[0;31m# defunned version which is guaranteed to never create variables.\u001b[0m\u001b[0;34m\u001b[0m\u001b[0;34m\u001b[0m\u001b[0;34m\u001b[0m\u001b[0m\n\u001b[0;32m--> 807\u001b[0;31m       \u001b[0;32mreturn\u001b[0m \u001b[0mself\u001b[0m\u001b[0;34m.\u001b[0m\u001b[0m_stateless_fn\u001b[0m\u001b[0;34m(\u001b[0m\u001b[0;34m*\u001b[0m\u001b[0margs\u001b[0m\u001b[0;34m,\u001b[0m \u001b[0;34m**\u001b[0m\u001b[0mkwds\u001b[0m\u001b[0;34m)\u001b[0m  \u001b[0;31m# pylint: disable=not-callable\u001b[0m\u001b[0;34m\u001b[0m\u001b[0;34m\u001b[0m\u001b[0m\n\u001b[0m\u001b[1;32m    808\u001b[0m     \u001b[0;32melif\u001b[0m \u001b[0mself\u001b[0m\u001b[0;34m.\u001b[0m\u001b[0m_stateful_fn\u001b[0m \u001b[0;32mis\u001b[0m \u001b[0;32mnot\u001b[0m \u001b[0;32mNone\u001b[0m\u001b[0;34m:\u001b[0m\u001b[0;34m\u001b[0m\u001b[0;34m\u001b[0m\u001b[0m\n\u001b[1;32m    809\u001b[0m       \u001b[0;31m# Release the lock early so that multiple threads can perform the call\u001b[0m\u001b[0;34m\u001b[0m\u001b[0;34m\u001b[0m\u001b[0;34m\u001b[0m\u001b[0m\n",
            "\u001b[0;32m/usr/local/lib/python3.6/dist-packages/tensorflow/python/eager/function.py\u001b[0m in \u001b[0;36m__call__\u001b[0;34m(self, *args, **kwargs)\u001b[0m\n\u001b[1;32m   2827\u001b[0m     \u001b[0;32mwith\u001b[0m \u001b[0mself\u001b[0m\u001b[0;34m.\u001b[0m\u001b[0m_lock\u001b[0m\u001b[0;34m:\u001b[0m\u001b[0;34m\u001b[0m\u001b[0;34m\u001b[0m\u001b[0m\n\u001b[1;32m   2828\u001b[0m       \u001b[0mgraph_function\u001b[0m\u001b[0;34m,\u001b[0m \u001b[0margs\u001b[0m\u001b[0;34m,\u001b[0m \u001b[0mkwargs\u001b[0m \u001b[0;34m=\u001b[0m \u001b[0mself\u001b[0m\u001b[0;34m.\u001b[0m\u001b[0m_maybe_define_function\u001b[0m\u001b[0;34m(\u001b[0m\u001b[0margs\u001b[0m\u001b[0;34m,\u001b[0m \u001b[0mkwargs\u001b[0m\u001b[0;34m)\u001b[0m\u001b[0;34m\u001b[0m\u001b[0;34m\u001b[0m\u001b[0m\n\u001b[0;32m-> 2829\u001b[0;31m     \u001b[0;32mreturn\u001b[0m \u001b[0mgraph_function\u001b[0m\u001b[0;34m.\u001b[0m\u001b[0m_filtered_call\u001b[0m\u001b[0;34m(\u001b[0m\u001b[0margs\u001b[0m\u001b[0;34m,\u001b[0m \u001b[0mkwargs\u001b[0m\u001b[0;34m)\u001b[0m  \u001b[0;31m# pylint: disable=protected-access\u001b[0m\u001b[0;34m\u001b[0m\u001b[0;34m\u001b[0m\u001b[0m\n\u001b[0m\u001b[1;32m   2830\u001b[0m \u001b[0;34m\u001b[0m\u001b[0m\n\u001b[1;32m   2831\u001b[0m   \u001b[0;34m@\u001b[0m\u001b[0mproperty\u001b[0m\u001b[0;34m\u001b[0m\u001b[0;34m\u001b[0m\u001b[0m\n",
            "\u001b[0;32m/usr/local/lib/python3.6/dist-packages/tensorflow/python/eager/function.py\u001b[0m in \u001b[0;36m_filtered_call\u001b[0;34m(self, args, kwargs, cancellation_manager)\u001b[0m\n\u001b[1;32m   1846\u001b[0m                            resource_variable_ops.BaseResourceVariable))],\n\u001b[1;32m   1847\u001b[0m         \u001b[0mcaptured_inputs\u001b[0m\u001b[0;34m=\u001b[0m\u001b[0mself\u001b[0m\u001b[0;34m.\u001b[0m\u001b[0mcaptured_inputs\u001b[0m\u001b[0;34m,\u001b[0m\u001b[0;34m\u001b[0m\u001b[0;34m\u001b[0m\u001b[0m\n\u001b[0;32m-> 1848\u001b[0;31m         cancellation_manager=cancellation_manager)\n\u001b[0m\u001b[1;32m   1849\u001b[0m \u001b[0;34m\u001b[0m\u001b[0m\n\u001b[1;32m   1850\u001b[0m   \u001b[0;32mdef\u001b[0m \u001b[0m_call_flat\u001b[0m\u001b[0;34m(\u001b[0m\u001b[0mself\u001b[0m\u001b[0;34m,\u001b[0m \u001b[0margs\u001b[0m\u001b[0;34m,\u001b[0m \u001b[0mcaptured_inputs\u001b[0m\u001b[0;34m,\u001b[0m \u001b[0mcancellation_manager\u001b[0m\u001b[0;34m=\u001b[0m\u001b[0;32mNone\u001b[0m\u001b[0;34m)\u001b[0m\u001b[0;34m:\u001b[0m\u001b[0;34m\u001b[0m\u001b[0;34m\u001b[0m\u001b[0m\n",
            "\u001b[0;32m/usr/local/lib/python3.6/dist-packages/tensorflow/python/eager/function.py\u001b[0m in \u001b[0;36m_call_flat\u001b[0;34m(self, args, captured_inputs, cancellation_manager)\u001b[0m\n\u001b[1;32m   1922\u001b[0m       \u001b[0;31m# No tape is watching; skip to running the function.\u001b[0m\u001b[0;34m\u001b[0m\u001b[0;34m\u001b[0m\u001b[0;34m\u001b[0m\u001b[0m\n\u001b[1;32m   1923\u001b[0m       return self._build_call_outputs(self._inference_function.call(\n\u001b[0;32m-> 1924\u001b[0;31m           ctx, args, cancellation_manager=cancellation_manager))\n\u001b[0m\u001b[1;32m   1925\u001b[0m     forward_backward = self._select_forward_and_backward_functions(\n\u001b[1;32m   1926\u001b[0m         \u001b[0margs\u001b[0m\u001b[0;34m,\u001b[0m\u001b[0;34m\u001b[0m\u001b[0;34m\u001b[0m\u001b[0m\n",
            "\u001b[0;32m/usr/local/lib/python3.6/dist-packages/tensorflow/python/eager/function.py\u001b[0m in \u001b[0;36mcall\u001b[0;34m(self, ctx, args, cancellation_manager)\u001b[0m\n\u001b[1;32m    548\u001b[0m               \u001b[0minputs\u001b[0m\u001b[0;34m=\u001b[0m\u001b[0margs\u001b[0m\u001b[0;34m,\u001b[0m\u001b[0;34m\u001b[0m\u001b[0;34m\u001b[0m\u001b[0m\n\u001b[1;32m    549\u001b[0m               \u001b[0mattrs\u001b[0m\u001b[0;34m=\u001b[0m\u001b[0mattrs\u001b[0m\u001b[0;34m,\u001b[0m\u001b[0;34m\u001b[0m\u001b[0;34m\u001b[0m\u001b[0m\n\u001b[0;32m--> 550\u001b[0;31m               ctx=ctx)\n\u001b[0m\u001b[1;32m    551\u001b[0m         \u001b[0;32melse\u001b[0m\u001b[0;34m:\u001b[0m\u001b[0;34m\u001b[0m\u001b[0;34m\u001b[0m\u001b[0m\n\u001b[1;32m    552\u001b[0m           outputs = execute.execute_with_cancellation(\n",
            "\u001b[0;32m/usr/local/lib/python3.6/dist-packages/tensorflow/python/eager/execute.py\u001b[0m in \u001b[0;36mquick_execute\u001b[0;34m(op_name, num_outputs, inputs, attrs, ctx, name)\u001b[0m\n\u001b[1;32m     58\u001b[0m     \u001b[0mctx\u001b[0m\u001b[0;34m.\u001b[0m\u001b[0mensure_initialized\u001b[0m\u001b[0;34m(\u001b[0m\u001b[0;34m)\u001b[0m\u001b[0;34m\u001b[0m\u001b[0;34m\u001b[0m\u001b[0m\n\u001b[1;32m     59\u001b[0m     tensors = pywrap_tfe.TFE_Py_Execute(ctx._handle, device_name, op_name,\n\u001b[0;32m---> 60\u001b[0;31m                                         inputs, attrs, num_outputs)\n\u001b[0m\u001b[1;32m     61\u001b[0m   \u001b[0;32mexcept\u001b[0m \u001b[0mcore\u001b[0m\u001b[0;34m.\u001b[0m\u001b[0m_NotOkStatusException\u001b[0m \u001b[0;32mas\u001b[0m \u001b[0me\u001b[0m\u001b[0;34m:\u001b[0m\u001b[0;34m\u001b[0m\u001b[0;34m\u001b[0m\u001b[0m\n\u001b[1;32m     62\u001b[0m     \u001b[0;32mif\u001b[0m \u001b[0mname\u001b[0m \u001b[0;32mis\u001b[0m \u001b[0;32mnot\u001b[0m \u001b[0;32mNone\u001b[0m\u001b[0;34m:\u001b[0m\u001b[0;34m\u001b[0m\u001b[0;34m\u001b[0m\u001b[0m\n",
            "\u001b[0;31mKeyboardInterrupt\u001b[0m: "
          ]
        }
      ]
    },
    {
      "cell_type": "code",
      "metadata": {
        "id": "-LIpw4rJI53K",
        "colab_type": "code",
        "colab": {}
      },
      "source": [
        "# Plot the Training and Validation Accuracy & Loss Scores\n",
        "# Enter your code here:\n",
        "%matplotlib inline\n",
        "import matplotlib.pyplot as plt\n",
        "\n",
        "acc = history.history['acc']\n",
        "loss = history.history['loss']\n",
        "\n",
        "epochs = range(1, len(acc) + 1)\n",
        "\n",
        "plt.plot(epochs, acc, 'bo', label='Training acc')\n",
        "plt.title('Training and validation accuracy')\n",
        "plt.legend()\n",
        "\n",
        "plt.figure()\n",
        "\n",
        "plt.plot(epochs, loss, 'bo', label='Training loss')\n",
        "plt.title('Training and validation loss')\n",
        "plt.legend()\n",
        "\n",
        "plt.show()"
      ],
      "execution_count": null,
      "outputs": []
    },
    {
      "cell_type": "code",
      "metadata": {
        "id": "duLUdKGdI53k",
        "colab_type": "code",
        "colab": {}
      },
      "source": [
        "# Save the Model\n",
        "model.save('chgen_model_1.h5')"
      ],
      "execution_count": null,
      "outputs": []
    },
    {
      "cell_type": "markdown",
      "metadata": {
        "colab_type": "text",
        "id": "iFmcWR9hzqbX"
      },
      "source": [
        "### Model #2 (Model 1 15e)"
      ]
    },
    {
      "cell_type": "code",
      "metadata": {
        "colab_type": "code",
        "id": "TC8D9pqRzqbc",
        "colab": {
          "base_uri": "https://localhost:8080/",
          "height": 221
        },
        "outputId": "d01129a8-089b-4e92-81f2-3a67d2571cd0"
      },
      "source": [
        "# Build the Model\n",
        "# Enter your code here:\n",
        "from tensorflow.keras.models import Sequential\n",
        "from tensorflow.keras import layers\n",
        "from tensorflow.keras.optimizers import RMSprop\n",
        "\n",
        "model = keras.models.Sequential()\n",
        "model.add(layers.LSTM(128, input_shape=(window_size, len(chars)))) #multiclass single label classification\n",
        "model.add(layers.Dense(len(chars), activation='softmax'))\n",
        "\n",
        "model.summary()\n"
      ],
      "execution_count": null,
      "outputs": [
        {
          "output_type": "stream",
          "text": [
            "Model: \"sequential\"\n",
            "_________________________________________________________________\n",
            "Layer (type)                 Output Shape              Param #   \n",
            "=================================================================\n",
            "lstm (LSTM)                  (None, 128)               83968     \n",
            "_________________________________________________________________\n",
            "dense (Dense)                (None, 35)                4515      \n",
            "=================================================================\n",
            "Total params: 88,483\n",
            "Trainable params: 88,483\n",
            "Non-trainable params: 0\n",
            "_________________________________________________________________\n"
          ],
          "name": "stdout"
        }
      ]
    },
    {
      "cell_type": "code",
      "metadata": {
        "colab_type": "code",
        "id": "a9DrHBgEzqbf",
        "colab": {
          "base_uri": "https://localhost:8080/",
          "height": 527
        },
        "outputId": "2fef71d5-6886-4a09-db38-a060d441c934"
      },
      "source": [
        "# Train the Model\n",
        "# Enter your code here:\n",
        "model.compile(loss='categorical_crossentropy', optimizer=RMSprop(lr=0.01), metrics=['acc'])\n",
        "\n",
        "history = model.fit(X, y,\n",
        "                    epochs=15,\n",
        "                    batch_size=128) "
      ],
      "execution_count": null,
      "outputs": [
        {
          "output_type": "stream",
          "text": [
            "Epoch 1/15\n",
            "4252/4252 [==============================] - 104s 24ms/step - loss: 1.7489 - acc: 0.4853\n",
            "Epoch 2/15\n",
            "4252/4252 [==============================] - 104s 24ms/step - loss: 1.5314 - acc: 0.5466\n",
            "Epoch 3/15\n",
            "4252/4252 [==============================] - 103s 24ms/step - loss: 1.4809 - acc: 0.5598\n",
            "Epoch 4/15\n",
            "4252/4252 [==============================] - 104s 24ms/step - loss: 1.4549 - acc: 0.5672\n",
            "Epoch 5/15\n",
            "4252/4252 [==============================] - 105s 25ms/step - loss: 1.4369 - acc: 0.5714\n",
            "Epoch 6/15\n",
            "4252/4252 [==============================] - 105s 25ms/step - loss: 1.4230 - acc: 0.5754\n",
            "Epoch 7/15\n",
            "4252/4252 [==============================] - 104s 24ms/step - loss: 1.4128 - acc: 0.5785\n",
            "Epoch 8/15\n",
            "4252/4252 [==============================] - 104s 25ms/step - loss: 1.4052 - acc: 0.5802\n",
            "Epoch 9/15\n",
            "4252/4252 [==============================] - 104s 24ms/step - loss: 1.3983 - acc: 0.5824\n",
            "Epoch 10/15\n",
            "4252/4252 [==============================] - 104s 24ms/step - loss: 1.3928 - acc: 0.5839\n",
            "Epoch 11/15\n",
            "4252/4252 [==============================] - 105s 25ms/step - loss: 1.3879 - acc: 0.5849\n",
            "Epoch 12/15\n",
            "4252/4252 [==============================] - 104s 25ms/step - loss: 1.3842 - acc: 0.5858\n",
            "Epoch 13/15\n",
            "4252/4252 [==============================] - 104s 24ms/step - loss: 1.3806 - acc: 0.5871\n",
            "Epoch 14/15\n",
            "4252/4252 [==============================] - 105s 25ms/step - loss: 1.3773 - acc: 0.5878\n",
            "Epoch 15/15\n",
            "4252/4252 [==============================] - 103s 24ms/step - loss: 1.3734 - acc: 0.5891\n"
          ],
          "name": "stdout"
        }
      ]
    },
    {
      "cell_type": "code",
      "metadata": {
        "colab_type": "code",
        "id": "O8cgd5Tczqbh",
        "colab": {
          "base_uri": "https://localhost:8080/",
          "height": 545
        },
        "outputId": "c28b4a78-532e-4966-83a3-43ff22db64ad"
      },
      "source": [
        "# Plot the Training and Validation Accuracy & Loss Scores\n",
        "# Enter your code here:\n",
        "%matplotlib inline\n",
        "import matplotlib.pyplot as plt\n",
        "\n",
        "acc = history.history['acc']\n",
        "loss = history.history['loss']\n",
        "\n",
        "epochs = range(1, len(acc) + 1)\n",
        "\n",
        "plt.plot(epochs, acc, 'bo', label='Training acc')\n",
        "plt.title('Training and validation accuracy')\n",
        "plt.legend()\n",
        "\n",
        "plt.figure()\n",
        "\n",
        "plt.plot(epochs, loss, 'bo', label='Training loss')\n",
        "plt.title('Training and validation loss')\n",
        "plt.legend()\n",
        "\n",
        "plt.show()"
      ],
      "execution_count": null,
      "outputs": [
        {
          "output_type": "display_data",
          "data": {
            "image/png": "[encoded data removed]",
            "text/plain": [
              "<Figure size 432x288 with 1 Axes>"
            ]
          },
          "metadata": {
            "tags": [],
            "needs_background": "light"
          }
        },
        {
          "output_type": "display_data",
          "data": {
            "image/png": "[encoded data removed]",
            "text/plain": [
              "<Figure size 432x288 with 1 Axes>"
            ]
          },
          "metadata": {
            "tags": [],
            "needs_background": "light"
          }
        }
      ]
    },
    {
      "cell_type": "code",
      "metadata": {
        "colab_type": "code",
        "id": "o1ySeN_zzqbj",
        "colab": {}
      },
      "source": [
        "# Save the Model\n",
        "model.save(model_path+'chgen_model_2.h5')\n",
        "model.save('chgen_model_2.h5')"
      ],
      "execution_count": null,
      "outputs": []
    },
    {
      "cell_type": "markdown",
      "metadata": {
        "colab_type": "text",
        "id": "NpbQekZs3113"
      },
      "source": [
        "### Model #3"
      ]
    },
    {
      "cell_type": "code",
      "metadata": {
        "colab_type": "code",
        "id": "132icZ2j3114",
        "colab": {
          "base_uri": "https://localhost:8080/",
          "height": 221
        },
        "outputId": "7fd66958-8abf-4361-edcd-320e04562b10"
      },
      "source": [
        "# Build the Model\n",
        "# Enter your code here:\n",
        "from tensorflow.keras.models import Sequential\n",
        "from tensorflow.keras import layers\n",
        "from tensorflow.keras.optimizers import RMSprop, Adam\n",
        "\n",
        "model = keras.models.Sequential()\n",
        "model.add(layers.LSTM(128, input_shape=(window_size, len(chars)))) #multiclass single label classification\n",
        "model.add(layers.Dense(len(chars), activation='softmax'))\n",
        "\n",
        "model.summary()\n"
      ],
      "execution_count": null,
      "outputs": [
        {
          "output_type": "stream",
          "text": [
            "Model: \"sequential_1\"\n",
            "_________________________________________________________________\n",
            "Layer (type)                 Output Shape              Param #   \n",
            "=================================================================\n",
            "lstm_1 (LSTM)                (None, 128)               83968     \n",
            "_________________________________________________________________\n",
            "dense_1 (Dense)              (None, 35)                4515      \n",
            "=================================================================\n",
            "Total params: 88,483\n",
            "Trainable params: 88,483\n",
            "Non-trainable params: 0\n",
            "_________________________________________________________________\n"
          ],
          "name": "stdout"
        }
      ]
    },
    {
      "cell_type": "code",
      "metadata": {
        "colab_type": "code",
        "id": "xRr-U1M83116",
        "colab": {
          "base_uri": "https://localhost:8080/",
          "height": 1000
        },
        "outputId": "ff64a2bc-eebc-4d67-ce3f-42cfd41a6932"
      },
      "source": [
        "# Train the Model\n",
        "# Enter your code here:\n",
        "model.compile(loss='categorical_crossentropy', optimizer=Adam(lr=0.01), metrics=['acc'])\n",
        "\n",
        "history = model.fit(X, y,\n",
        "                    epochs=500,\n",
        "                    batch_size=128) "
      ],
      "execution_count": null,
      "outputs": [
        {
          "output_type": "stream",
          "text": [
            "Epoch 1/500\n",
            "WARNING:tensorflow:Model was constructed with shape (None, 100, 35) for input Tensor(\"lstm_1_input_2:0\", shape=(None, 100, 35), dtype=float32), but it was called on an input with incompatible shape (None, 5, 35).\n",
            "WARNING:tensorflow:Model was constructed with shape (None, 100, 35) for input Tensor(\"lstm_1_input_2:0\", shape=(None, 100, 35), dtype=float32), but it was called on an input with incompatible shape (None, 5, 35).\n",
            "6/6 [==============================] - 0s 5ms/step - loss: 1.2133 - acc: 0.6096\n",
            "Epoch 2/500\n",
            "6/6 [==============================] - 0s 5ms/step - loss: 1.0061 - acc: 0.6784\n",
            "Epoch 3/500\n",
            "6/6 [==============================] - 0s 4ms/step - loss: 0.8257 - acc: 0.7544\n",
            "Epoch 4/500\n",
            "6/6 [==============================] - 0s 4ms/step - loss: 0.7198 - acc: 0.7895\n",
            "Epoch 5/500\n",
            "6/6 [==============================] - 0s 4ms/step - loss: 0.6065 - acc: 0.8348\n",
            "Epoch 6/500\n",
            "6/6 [==============================] - 0s 4ms/step - loss: 0.5097 - acc: 0.8699\n",
            "Epoch 7/500\n",
            "6/6 [==============================] - 0s 5ms/step - loss: 0.4399 - acc: 0.8816\n",
            "Epoch 8/500\n",
            "6/6 [==============================] - 0s 4ms/step - loss: 0.3820 - acc: 0.9079\n",
            "Epoch 9/500\n",
            "6/6 [==============================] - 0s 5ms/step - loss: 0.3426 - acc: 0.9167\n",
            "Epoch 10/500\n",
            "6/6 [==============================] - 0s 4ms/step - loss: 0.3093 - acc: 0.9211\n",
            "Epoch 11/500\n",
            "6/6 [==============================] - 0s 5ms/step - loss: 0.2693 - acc: 0.9298\n",
            "Epoch 12/500\n",
            "6/6 [==============================] - 0s 5ms/step - loss: 0.2438 - acc: 0.9371\n",
            "Epoch 13/500\n",
            "6/6 [==============================] - 0s 5ms/step - loss: 0.2314 - acc: 0.9357\n",
            "Epoch 14/500\n",
            "6/6 [==============================] - 0s 4ms/step - loss: 0.2153 - acc: 0.9284\n",
            "Epoch 15/500\n",
            "6/6 [==============================] - 0s 5ms/step - loss: 0.1968 - acc: 0.9401\n",
            "Epoch 16/500\n",
            "6/6 [==============================] - 0s 6ms/step - loss: 0.1992 - acc: 0.9371\n",
            "Epoch 17/500\n",
            "6/6 [==============================] - 0s 5ms/step - loss: 0.1977 - acc: 0.9284\n",
            "Epoch 18/500\n",
            "6/6 [==============================] - 0s 5ms/step - loss: 0.1818 - acc: 0.9415\n",
            "Epoch 19/500\n",
            "6/6 [==============================] - 0s 5ms/step - loss: 0.1676 - acc: 0.9430\n",
            "Epoch 20/500\n",
            "6/6 [==============================] - 0s 5ms/step - loss: 0.1535 - acc: 0.9371\n",
            "Epoch 21/500\n",
            "6/6 [==============================] - 0s 4ms/step - loss: 0.1594 - acc: 0.9401\n",
            "Epoch 22/500\n",
            "6/6 [==============================] - 0s 4ms/step - loss: 0.1515 - acc: 0.9342\n",
            "Epoch 23/500\n",
            "6/6 [==============================] - 0s 6ms/step - loss: 0.1551 - acc: 0.9357\n",
            "Epoch 24/500\n",
            "6/6 [==============================] - 0s 5ms/step - loss: 0.1370 - acc: 0.9459\n",
            "Epoch 25/500\n",
            "6/6 [==============================] - 0s 5ms/step - loss: 0.1384 - acc: 0.9430\n",
            "Epoch 26/500\n",
            "6/6 [==============================] - 0s 4ms/step - loss: 0.1404 - acc: 0.9327\n",
            "Epoch 27/500\n",
            "6/6 [==============================] - 0s 4ms/step - loss: 0.1357 - acc: 0.9488\n",
            "Epoch 28/500\n",
            "6/6 [==============================] - 0s 5ms/step - loss: 0.1391 - acc: 0.9401\n",
            "Epoch 29/500\n",
            "6/6 [==============================] - 0s 5ms/step - loss: 0.1268 - acc: 0.9371\n",
            "Epoch 30/500\n",
            "6/6 [==============================] - 0s 4ms/step - loss: 0.1385 - acc: 0.9415\n",
            "Epoch 31/500\n",
            "6/6 [==============================] - 0s 4ms/step - loss: 0.1302 - acc: 0.9415\n",
            "Epoch 32/500\n",
            "6/6 [==============================] - 0s 4ms/step - loss: 0.1292 - acc: 0.9386\n",
            "Epoch 33/500\n",
            "6/6 [==============================] - 0s 4ms/step - loss: 0.1282 - acc: 0.9444\n",
            "Epoch 34/500\n",
            "6/6 [==============================] - 0s 5ms/step - loss: 0.1255 - acc: 0.9415\n",
            "Epoch 35/500\n",
            "6/6 [==============================] - 0s 4ms/step - loss: 0.1187 - acc: 0.9459\n",
            "Epoch 36/500\n",
            "6/6 [==============================] - 0s 4ms/step - loss: 0.1202 - acc: 0.9386\n",
            "Epoch 37/500\n",
            "6/6 [==============================] - 0s 4ms/step - loss: 0.1223 - acc: 0.9401\n",
            "Epoch 38/500\n",
            "6/6 [==============================] - 0s 5ms/step - loss: 0.1228 - acc: 0.9415\n",
            "Epoch 39/500\n",
            "6/6 [==============================] - 0s 4ms/step - loss: 0.1277 - acc: 0.9401\n",
            "Epoch 40/500\n",
            "6/6 [==============================] - 0s 5ms/step - loss: 0.1294 - acc: 0.9503\n",
            "Epoch 41/500\n",
            "6/6 [==============================] - 0s 4ms/step - loss: 0.1261 - acc: 0.9459\n",
            "Epoch 42/500\n",
            "6/6 [==============================] - 0s 4ms/step - loss: 0.1271 - acc: 0.9386\n",
            "Epoch 43/500\n",
            "6/6 [==============================] - 0s 4ms/step - loss: 0.1200 - acc: 0.9488\n",
            "Epoch 44/500\n",
            "6/6 [==============================] - 0s 5ms/step - loss: 0.1331 - acc: 0.9357\n",
            "Epoch 45/500\n",
            "6/6 [==============================] - 0s 4ms/step - loss: 0.1283 - acc: 0.9357\n",
            "Epoch 46/500\n",
            "6/6 [==============================] - 0s 5ms/step - loss: 0.1274 - acc: 0.9474\n",
            "Epoch 47/500\n",
            "6/6 [==============================] - 0s 4ms/step - loss: 0.1252 - acc: 0.9444\n",
            "Epoch 48/500\n",
            "6/6 [==============================] - 0s 5ms/step - loss: 0.1259 - acc: 0.9415\n",
            "Epoch 49/500\n",
            "6/6 [==============================] - 0s 5ms/step - loss: 0.1193 - acc: 0.9503\n",
            "Epoch 50/500\n",
            "6/6 [==============================] - 0s 6ms/step - loss: 0.1268 - acc: 0.9430\n",
            "Epoch 51/500\n",
            "6/6 [==============================] - 0s 5ms/step - loss: 0.1152 - acc: 0.9474\n",
            "Epoch 52/500\n",
            "6/6 [==============================] - 0s 4ms/step - loss: 0.1160 - acc: 0.9371\n",
            "Epoch 53/500\n",
            "6/6 [==============================] - 0s 5ms/step - loss: 0.1183 - acc: 0.9401\n",
            "Epoch 54/500\n",
            "6/6 [==============================] - 0s 5ms/step - loss: 0.1211 - acc: 0.9459\n",
            "Epoch 55/500\n",
            "6/6 [==============================] - 0s 5ms/step - loss: 0.1206 - acc: 0.9488\n",
            "Epoch 56/500\n",
            "6/6 [==============================] - 0s 4ms/step - loss: 0.1248 - acc: 0.9401\n",
            "Epoch 57/500\n",
            "6/6 [==============================] - 0s 5ms/step - loss: 0.1181 - acc: 0.9357\n",
            "Epoch 58/500\n",
            "6/6 [==============================] - 0s 5ms/step - loss: 0.1104 - acc: 0.9430\n",
            "Epoch 59/500\n",
            "6/6 [==============================] - 0s 4ms/step - loss: 0.1167 - acc: 0.9430\n",
            "Epoch 60/500\n",
            "6/6 [==============================] - 0s 5ms/step - loss: 0.1132 - acc: 0.9444\n",
            "Epoch 61/500\n",
            "6/6 [==============================] - 0s 4ms/step - loss: 0.1105 - acc: 0.9444\n",
            "Epoch 62/500\n",
            "6/6 [==============================] - 0s 5ms/step - loss: 0.1149 - acc: 0.9459\n",
            "Epoch 63/500\n",
            "6/6 [==============================] - 0s 5ms/step - loss: 0.1129 - acc: 0.9444\n",
            "Epoch 64/500\n",
            "6/6 [==============================] - 0s 4ms/step - loss: 0.1232 - acc: 0.9430\n",
            "Epoch 65/500\n",
            "6/6 [==============================] - 0s 4ms/step - loss: 0.1159 - acc: 0.9444\n",
            "Epoch 66/500\n",
            "6/6 [==============================] - 0s 5ms/step - loss: 0.1233 - acc: 0.9401\n",
            "Epoch 67/500\n",
            "6/6 [==============================] - 0s 5ms/step - loss: 0.1081 - acc: 0.9459\n",
            "Epoch 68/500\n",
            "6/6 [==============================] - 0s 5ms/step - loss: 0.1148 - acc: 0.9430\n",
            "Epoch 69/500\n",
            "6/6 [==============================] - 0s 5ms/step - loss: 0.1169 - acc: 0.9444\n",
            "Epoch 70/500\n",
            "6/6 [==============================] - 0s 5ms/step - loss: 0.1074 - acc: 0.9459\n",
            "Epoch 71/500\n",
            "6/6 [==============================] - 0s 6ms/step - loss: 0.1135 - acc: 0.9401\n",
            "Epoch 72/500\n",
            "6/6 [==============================] - 0s 5ms/step - loss: 0.1111 - acc: 0.9386\n",
            "Epoch 73/500\n",
            "6/6 [==============================] - 0s 6ms/step - loss: 0.1039 - acc: 0.9444\n",
            "Epoch 74/500\n",
            "6/6 [==============================] - 0s 5ms/step - loss: 0.1033 - acc: 0.9474\n",
            "Epoch 75/500\n",
            "6/6 [==============================] - 0s 5ms/step - loss: 0.1044 - acc: 0.9488\n",
            "Epoch 76/500\n",
            "6/6 [==============================] - 0s 5ms/step - loss: 0.1048 - acc: 0.9474\n",
            "Epoch 77/500\n",
            "6/6 [==============================] - 0s 6ms/step - loss: 0.1079 - acc: 0.9415\n",
            "Epoch 78/500\n",
            "6/6 [==============================] - 0s 5ms/step - loss: 0.1089 - acc: 0.9474\n",
            "Epoch 79/500\n",
            "6/6 [==============================] - 0s 4ms/step - loss: 0.1079 - acc: 0.9503\n",
            "Epoch 80/500\n",
            "6/6 [==============================] - 0s 4ms/step - loss: 0.1056 - acc: 0.9488\n",
            "Epoch 81/500\n",
            "6/6 [==============================] - 0s 5ms/step - loss: 0.1097 - acc: 0.9430\n",
            "Epoch 82/500\n",
            "6/6 [==============================] - 0s 5ms/step - loss: 0.1120 - acc: 0.9401\n",
            "Epoch 83/500\n",
            "6/6 [==============================] - 0s 4ms/step - loss: 0.1109 - acc: 0.9401\n",
            "Epoch 84/500\n",
            "6/6 [==============================] - 0s 4ms/step - loss: 0.1087 - acc: 0.9444\n",
            "Epoch 85/500\n",
            "6/6 [==============================] - 0s 4ms/step - loss: 0.1053 - acc: 0.9459\n",
            "Epoch 86/500\n",
            "6/6 [==============================] - 0s 4ms/step - loss: 0.1054 - acc: 0.9474\n",
            "Epoch 87/500\n",
            "6/6 [==============================] - 0s 4ms/step - loss: 0.1046 - acc: 0.9459\n",
            "Epoch 88/500\n",
            "6/6 [==============================] - 0s 5ms/step - loss: 0.1053 - acc: 0.9386\n",
            "Epoch 89/500\n",
            "6/6 [==============================] - 0s 5ms/step - loss: 0.1048 - acc: 0.9459\n",
            "Epoch 90/500\n",
            "6/6 [==============================] - 0s 5ms/step - loss: 0.1130 - acc: 0.9430\n",
            "Epoch 91/500\n",
            "6/6 [==============================] - 0s 5ms/step - loss: 0.1111 - acc: 0.9386\n",
            "Epoch 92/500\n",
            "6/6 [==============================] - 0s 4ms/step - loss: 0.1028 - acc: 0.9459\n",
            "Epoch 93/500\n",
            "6/6 [==============================] - 0s 5ms/step - loss: 0.1085 - acc: 0.9430\n",
            "Epoch 94/500\n",
            "6/6 [==============================] - 0s 5ms/step - loss: 0.1065 - acc: 0.9401\n",
            "Epoch 95/500\n",
            "6/6 [==============================] - 0s 5ms/step - loss: 0.1111 - acc: 0.9371\n",
            "Epoch 96/500\n",
            "6/6 [==============================] - 0s 4ms/step - loss: 0.1072 - acc: 0.9444\n",
            "Epoch 97/500\n",
            "6/6 [==============================] - 0s 4ms/step - loss: 0.1102 - acc: 0.9371\n",
            "Epoch 98/500\n",
            "6/6 [==============================] - 0s 6ms/step - loss: 0.1063 - acc: 0.9415\n",
            "Epoch 99/500\n",
            "6/6 [==============================] - 0s 5ms/step - loss: 0.1041 - acc: 0.9474\n",
            "Epoch 100/500\n",
            "6/6 [==============================] - 0s 5ms/step - loss: 0.1025 - acc: 0.9444\n",
            "Epoch 101/500\n",
            "6/6 [==============================] - 0s 4ms/step - loss: 0.1078 - acc: 0.9430\n",
            "Epoch 102/500\n",
            "6/6 [==============================] - 0s 5ms/step - loss: 0.1041 - acc: 0.9386\n",
            "Epoch 103/500\n",
            "6/6 [==============================] - 0s 5ms/step - loss: 0.1022 - acc: 0.9444\n",
            "Epoch 104/500\n",
            "6/6 [==============================] - 0s 5ms/step - loss: 0.1033 - acc: 0.9415\n",
            "Epoch 105/500\n",
            "6/6 [==============================] - 0s 5ms/step - loss: 0.1071 - acc: 0.9415\n",
            "Epoch 106/500\n",
            "6/6 [==============================] - 0s 5ms/step - loss: 0.1045 - acc: 0.9401\n",
            "Epoch 107/500\n",
            "6/6 [==============================] - 0s 5ms/step - loss: 0.1053 - acc: 0.9386\n",
            "Epoch 108/500\n",
            "6/6 [==============================] - 0s 4ms/step - loss: 0.1022 - acc: 0.9415\n",
            "Epoch 109/500\n",
            "6/6 [==============================] - 0s 4ms/step - loss: 0.1063 - acc: 0.9459\n",
            "Epoch 110/500\n",
            "6/6 [==============================] - 0s 5ms/step - loss: 0.1058 - acc: 0.9430\n",
            "Epoch 111/500\n",
            "6/6 [==============================] - 0s 4ms/step - loss: 0.1077 - acc: 0.9415\n",
            "Epoch 112/500\n",
            "6/6 [==============================] - 0s 4ms/step - loss: 0.1041 - acc: 0.9444\n",
            "Epoch 113/500\n",
            "6/6 [==============================] - 0s 5ms/step - loss: 0.1014 - acc: 0.9474\n",
            "Epoch 114/500\n",
            "6/6 [==============================] - 0s 4ms/step - loss: 0.1015 - acc: 0.9488\n",
            "Epoch 115/500\n",
            "6/6 [==============================] - 0s 5ms/step - loss: 0.1034 - acc: 0.9401\n",
            "Epoch 116/500\n",
            "6/6 [==============================] - 0s 5ms/step - loss: 0.1019 - acc: 0.9386\n",
            "Epoch 117/500\n",
            "6/6 [==============================] - 0s 4ms/step - loss: 0.1051 - acc: 0.9386\n",
            "Epoch 118/500\n",
            "6/6 [==============================] - 0s 5ms/step - loss: 0.1010 - acc: 0.9444\n",
            "Epoch 119/500\n",
            "6/6 [==============================] - 0s 4ms/step - loss: 0.1020 - acc: 0.9474\n",
            "Epoch 120/500\n",
            "6/6 [==============================] - 0s 5ms/step - loss: 0.1049 - acc: 0.9474\n",
            "Epoch 121/500\n",
            "6/6 [==============================] - 0s 5ms/step - loss: 0.1028 - acc: 0.9474\n",
            "Epoch 122/500\n",
            "6/6 [==============================] - 0s 5ms/step - loss: 0.1025 - acc: 0.9401\n",
            "Epoch 123/500\n",
            "6/6 [==============================] - 0s 4ms/step - loss: 0.1043 - acc: 0.9430\n",
            "Epoch 124/500\n",
            "6/6 [==============================] - 0s 5ms/step - loss: 0.1063 - acc: 0.9444\n",
            "Epoch 125/500\n",
            "6/6 [==============================] - 0s 6ms/step - loss: 0.1004 - acc: 0.9474\n",
            "Epoch 126/500\n",
            "6/6 [==============================] - 0s 5ms/step - loss: 0.1012 - acc: 0.9415\n",
            "Epoch 127/500\n",
            "6/6 [==============================] - 0s 4ms/step - loss: 0.1027 - acc: 0.9415\n",
            "Epoch 128/500\n",
            "6/6 [==============================] - 0s 4ms/step - loss: 0.0992 - acc: 0.9459\n",
            "Epoch 129/500\n",
            "6/6 [==============================] - 0s 4ms/step - loss: 0.1034 - acc: 0.9444\n",
            "Epoch 130/500\n",
            "6/6 [==============================] - 0s 4ms/step - loss: 0.1011 - acc: 0.9386\n",
            "Epoch 131/500\n",
            "6/6 [==============================] - 0s 5ms/step - loss: 0.1039 - acc: 0.9444\n",
            "Epoch 132/500\n",
            "6/6 [==============================] - 0s 4ms/step - loss: 0.1031 - acc: 0.9488\n",
            "Epoch 133/500\n",
            "6/6 [==============================] - 0s 4ms/step - loss: 0.1048 - acc: 0.9430\n",
            "Epoch 134/500\n",
            "6/6 [==============================] - 0s 4ms/step - loss: 0.1029 - acc: 0.9444\n",
            "Epoch 135/500\n",
            "6/6 [==============================] - 0s 5ms/step - loss: 0.1061 - acc: 0.9415\n",
            "Epoch 136/500\n",
            "6/6 [==============================] - 0s 4ms/step - loss: 0.1064 - acc: 0.9415\n",
            "Epoch 137/500\n",
            "6/6 [==============================] - 0s 5ms/step - loss: 0.1062 - acc: 0.9430\n",
            "Epoch 138/500\n",
            "6/6 [==============================] - 0s 4ms/step - loss: 0.1019 - acc: 0.9430\n",
            "Epoch 139/500\n",
            "6/6 [==============================] - 0s 4ms/step - loss: 0.1058 - acc: 0.9444\n",
            "Epoch 140/500\n",
            "6/6 [==============================] - 0s 4ms/step - loss: 0.1032 - acc: 0.9459\n",
            "Epoch 141/500\n",
            "6/6 [==============================] - 0s 4ms/step - loss: 0.1040 - acc: 0.9401\n",
            "Epoch 142/500\n",
            "6/6 [==============================] - 0s 4ms/step - loss: 0.1023 - acc: 0.9459\n",
            "Epoch 143/500\n",
            "6/6 [==============================] - 0s 5ms/step - loss: 0.1028 - acc: 0.9386\n",
            "Epoch 144/500\n",
            "6/6 [==============================] - 0s 4ms/step - loss: 0.1049 - acc: 0.9474\n",
            "Epoch 145/500\n",
            "6/6 [==============================] - 0s 4ms/step - loss: 0.1039 - acc: 0.9444\n",
            "Epoch 146/500\n",
            "6/6 [==============================] - 0s 4ms/step - loss: 0.1061 - acc: 0.9459\n",
            "Epoch 147/500\n",
            "6/6 [==============================] - 0s 5ms/step - loss: 0.1030 - acc: 0.9415\n",
            "Epoch 148/500\n",
            "6/6 [==============================] - 0s 5ms/step - loss: 0.1041 - acc: 0.9444\n",
            "Epoch 149/500\n",
            "6/6 [==============================] - 0s 5ms/step - loss: 0.1045 - acc: 0.9444\n",
            "Epoch 150/500\n",
            "6/6 [==============================] - 0s 5ms/step - loss: 0.1030 - acc: 0.9444\n",
            "Epoch 151/500\n",
            "6/6 [==============================] - 0s 5ms/step - loss: 0.0980 - acc: 0.9474\n",
            "Epoch 152/500\n",
            "6/6 [==============================] - 0s 6ms/step - loss: 0.1000 - acc: 0.9430\n",
            "Epoch 153/500\n",
            "6/6 [==============================] - 0s 4ms/step - loss: 0.0999 - acc: 0.9459\n",
            "Epoch 154/500\n",
            "6/6 [==============================] - 0s 5ms/step - loss: 0.1057 - acc: 0.9430\n",
            "Epoch 155/500\n",
            "6/6 [==============================] - 0s 5ms/step - loss: 0.1043 - acc: 0.9474\n",
            "Epoch 156/500\n",
            "6/6 [==============================] - 0s 5ms/step - loss: 0.1030 - acc: 0.9444\n",
            "Epoch 157/500\n",
            "6/6 [==============================] - 0s 5ms/step - loss: 0.1014 - acc: 0.9444\n",
            "Epoch 158/500\n",
            "6/6 [==============================] - 0s 6ms/step - loss: 0.1034 - acc: 0.9430\n",
            "Epoch 159/500\n",
            "6/6 [==============================] - 0s 5ms/step - loss: 0.1050 - acc: 0.9444\n",
            "Epoch 160/500\n",
            "6/6 [==============================] - 0s 5ms/step - loss: 0.1022 - acc: 0.9444\n",
            "Epoch 161/500\n",
            "6/6 [==============================] - 0s 5ms/step - loss: 0.0998 - acc: 0.9488\n",
            "Epoch 162/500\n",
            "6/6 [==============================] - 0s 5ms/step - loss: 0.1006 - acc: 0.9444\n",
            "Epoch 163/500\n",
            "6/6 [==============================] - 0s 4ms/step - loss: 0.1012 - acc: 0.9386\n",
            "Epoch 164/500\n",
            "6/6 [==============================] - 0s 4ms/step - loss: 0.1012 - acc: 0.9386\n",
            "Epoch 165/500\n",
            "6/6 [==============================] - 0s 5ms/step - loss: 0.1013 - acc: 0.9371\n",
            "Epoch 166/500\n",
            "6/6 [==============================] - 0s 5ms/step - loss: 0.1000 - acc: 0.9415\n",
            "Epoch 167/500\n",
            "6/6 [==============================] - 0s 5ms/step - loss: 0.1024 - acc: 0.9474\n",
            "Epoch 168/500\n",
            "6/6 [==============================] - 0s 4ms/step - loss: 0.1019 - acc: 0.9459\n",
            "Epoch 169/500\n",
            "6/6 [==============================] - 0s 4ms/step - loss: 0.1010 - acc: 0.9488\n",
            "Epoch 170/500\n",
            "6/6 [==============================] - 0s 4ms/step - loss: 0.1003 - acc: 0.9415\n",
            "Epoch 171/500\n",
            "6/6 [==============================] - 0s 5ms/step - loss: 0.1017 - acc: 0.9415\n",
            "Epoch 172/500\n",
            "6/6 [==============================] - 0s 5ms/step - loss: 0.1014 - acc: 0.9371\n",
            "Epoch 173/500\n",
            "6/6 [==============================] - 0s 5ms/step - loss: 0.1005 - acc: 0.9401\n",
            "Epoch 174/500\n",
            "6/6 [==============================] - 0s 4ms/step - loss: 0.1019 - acc: 0.9459\n",
            "Epoch 175/500\n",
            "6/6 [==============================] - 0s 5ms/step - loss: 0.0996 - acc: 0.9474\n",
            "Epoch 176/500\n",
            "6/6 [==============================] - 0s 5ms/step - loss: 0.1013 - acc: 0.9503\n",
            "Epoch 177/500\n",
            "6/6 [==============================] - 0s 4ms/step - loss: 0.1024 - acc: 0.9386\n",
            "Epoch 178/500\n",
            "6/6 [==============================] - 0s 5ms/step - loss: 0.0997 - acc: 0.9415\n",
            "Epoch 179/500\n",
            "6/6 [==============================] - 0s 6ms/step - loss: 0.0996 - acc: 0.9430\n",
            "Epoch 180/500\n",
            "6/6 [==============================] - 0s 5ms/step - loss: 0.1032 - acc: 0.9401\n",
            "Epoch 181/500\n",
            "6/6 [==============================] - 0s 5ms/step - loss: 0.1030 - acc: 0.9430\n",
            "Epoch 182/500\n",
            "6/6 [==============================] - 0s 5ms/step - loss: 0.1020 - acc: 0.9474\n",
            "Epoch 183/500\n",
            "6/6 [==============================] - 0s 5ms/step - loss: 0.0990 - acc: 0.9444\n",
            "Epoch 184/500\n",
            "6/6 [==============================] - 0s 6ms/step - loss: 0.1011 - acc: 0.9430\n",
            "Epoch 185/500\n",
            "6/6 [==============================] - 0s 4ms/step - loss: 0.1004 - acc: 0.9459\n",
            "Epoch 186/500\n",
            "6/6 [==============================] - 0s 4ms/step - loss: 0.0982 - acc: 0.9444\n",
            "Epoch 187/500\n",
            "6/6 [==============================] - 0s 5ms/step - loss: 0.1013 - acc: 0.9430\n",
            "Epoch 188/500\n",
            "6/6 [==============================] - 0s 5ms/step - loss: 0.1031 - acc: 0.9401\n",
            "Epoch 189/500\n",
            "6/6 [==============================] - 0s 5ms/step - loss: 0.1024 - acc: 0.9415\n",
            "Epoch 190/500\n",
            "6/6 [==============================] - 0s 4ms/step - loss: 0.1032 - acc: 0.9371\n",
            "Epoch 191/500\n",
            "6/6 [==============================] - 0s 4ms/step - loss: 0.0977 - acc: 0.9503\n",
            "Epoch 192/500\n",
            "6/6 [==============================] - 0s 4ms/step - loss: 0.1009 - acc: 0.9459\n",
            "Epoch 193/500\n",
            "6/6 [==============================] - 0s 5ms/step - loss: 0.0990 - acc: 0.9474\n",
            "Epoch 194/500\n",
            "6/6 [==============================] - 0s 5ms/step - loss: 0.0969 - acc: 0.9488\n",
            "Epoch 195/500\n",
            "6/6 [==============================] - 0s 5ms/step - loss: 0.0983 - acc: 0.9459\n",
            "Epoch 196/500\n",
            "6/6 [==============================] - 0s 4ms/step - loss: 0.1030 - acc: 0.9430\n",
            "Epoch 197/500\n",
            "6/6 [==============================] - 0s 4ms/step - loss: 0.1010 - acc: 0.9474\n",
            "Epoch 198/500\n",
            "6/6 [==============================] - 0s 4ms/step - loss: 0.1004 - acc: 0.9459\n",
            "Epoch 199/500\n",
            "6/6 [==============================] - 0s 5ms/step - loss: 0.1035 - acc: 0.9415\n",
            "Epoch 200/500\n",
            "6/6 [==============================] - 0s 5ms/step - loss: 0.1056 - acc: 0.9371\n",
            "Epoch 201/500\n",
            "6/6 [==============================] - 0s 4ms/step - loss: 0.1017 - acc: 0.9386\n",
            "Epoch 202/500\n",
            "6/6 [==============================] - 0s 4ms/step - loss: 0.0991 - acc: 0.9415\n",
            "Epoch 203/500\n",
            "6/6 [==============================] - 0s 4ms/step - loss: 0.0994 - acc: 0.9430\n",
            "Epoch 204/500\n",
            "6/6 [==============================] - 0s 5ms/step - loss: 0.0977 - acc: 0.9401\n",
            "Epoch 205/500\n",
            "6/6 [==============================] - 0s 4ms/step - loss: 0.0990 - acc: 0.9459\n",
            "Epoch 206/500\n",
            "6/6 [==============================] - 0s 6ms/step - loss: 0.0969 - acc: 0.9459\n",
            "Epoch 207/500\n",
            "6/6 [==============================] - 0s 4ms/step - loss: 0.0966 - acc: 0.9430\n",
            "Epoch 208/500\n",
            "6/6 [==============================] - 0s 5ms/step - loss: 0.0994 - acc: 0.9444\n",
            "Epoch 209/500\n",
            "6/6 [==============================] - 0s 5ms/step - loss: 0.1023 - acc: 0.9430\n",
            "Epoch 210/500\n",
            "6/6 [==============================] - 0s 4ms/step - loss: 0.0986 - acc: 0.9444\n",
            "Epoch 211/500\n",
            "6/6 [==============================] - 0s 6ms/step - loss: 0.0993 - acc: 0.9444\n",
            "Epoch 212/500\n",
            "6/6 [==============================] - 0s 4ms/step - loss: 0.1026 - acc: 0.9430\n",
            "Epoch 213/500\n",
            "6/6 [==============================] - 0s 5ms/step - loss: 0.0976 - acc: 0.9488\n",
            "Epoch 214/500\n",
            "6/6 [==============================] - 0s 5ms/step - loss: 0.1015 - acc: 0.9430\n",
            "Epoch 215/500\n",
            "6/6 [==============================] - 0s 5ms/step - loss: 0.1038 - acc: 0.9444\n",
            "Epoch 216/500\n",
            "6/6 [==============================] - 0s 4ms/step - loss: 0.1003 - acc: 0.9488\n",
            "Epoch 217/500\n",
            "6/6 [==============================] - 0s 4ms/step - loss: 0.1023 - acc: 0.9415\n",
            "Epoch 218/500\n",
            "6/6 [==============================] - 0s 4ms/step - loss: 0.1020 - acc: 0.9459\n",
            "Epoch 219/500\n",
            "6/6 [==============================] - 0s 5ms/step - loss: 0.1022 - acc: 0.9401\n",
            "Epoch 220/500\n",
            "6/6 [==============================] - 0s 4ms/step - loss: 0.0990 - acc: 0.9342\n",
            "Epoch 221/500\n",
            "6/6 [==============================] - 0s 5ms/step - loss: 0.0987 - acc: 0.9371\n",
            "Epoch 222/500\n",
            "6/6 [==============================] - 0s 5ms/step - loss: 0.0979 - acc: 0.9444\n",
            "Epoch 223/500\n",
            "6/6 [==============================] - 0s 4ms/step - loss: 0.0966 - acc: 0.9444\n",
            "Epoch 224/500\n",
            "6/6 [==============================] - 0s 5ms/step - loss: 0.0989 - acc: 0.9459\n",
            "Epoch 225/500\n",
            "6/6 [==============================] - 0s 5ms/step - loss: 0.0978 - acc: 0.9401\n",
            "Epoch 226/500\n",
            "6/6 [==============================] - 0s 5ms/step - loss: 0.0976 - acc: 0.9444\n",
            "Epoch 227/500\n",
            "6/6 [==============================] - 0s 4ms/step - loss: 0.1005 - acc: 0.9415\n",
            "Epoch 228/500\n",
            "6/6 [==============================] - 0s 4ms/step - loss: 0.0989 - acc: 0.9386\n",
            "Epoch 229/500\n",
            "6/6 [==============================] - 0s 4ms/step - loss: 0.0991 - acc: 0.9430\n",
            "Epoch 230/500\n",
            "6/6 [==============================] - 0s 5ms/step - loss: 0.0973 - acc: 0.9459\n",
            "Epoch 231/500\n",
            "6/6 [==============================] - 0s 4ms/step - loss: 0.1016 - acc: 0.9430\n",
            "Epoch 232/500\n",
            "6/6 [==============================] - 0s 4ms/step - loss: 0.0985 - acc: 0.9415\n",
            "Epoch 233/500\n",
            "6/6 [==============================] - 0s 5ms/step - loss: 0.1057 - acc: 0.9430\n",
            "Epoch 234/500\n",
            "6/6 [==============================] - 0s 4ms/step - loss: 0.1038 - acc: 0.9459\n",
            "Epoch 235/500\n",
            "6/6 [==============================] - 0s 5ms/step - loss: 0.0995 - acc: 0.9488\n",
            "Epoch 236/500\n",
            "6/6 [==============================] - 0s 5ms/step - loss: 0.0957 - acc: 0.9474\n",
            "Epoch 237/500\n",
            "6/6 [==============================] - 0s 5ms/step - loss: 0.0989 - acc: 0.9474\n",
            "Epoch 238/500\n",
            "6/6 [==============================] - 0s 6ms/step - loss: 0.0976 - acc: 0.9430\n",
            "Epoch 239/500\n",
            "6/6 [==============================] - 0s 4ms/step - loss: 0.0948 - acc: 0.9430\n",
            "Epoch 240/500\n",
            "6/6 [==============================] - 0s 4ms/step - loss: 0.0959 - acc: 0.9386\n",
            "Epoch 241/500\n",
            "6/6 [==============================] - 0s 5ms/step - loss: 0.0960 - acc: 0.9401\n",
            "Epoch 242/500\n",
            "6/6 [==============================] - 0s 4ms/step - loss: 0.0989 - acc: 0.9386\n",
            "Epoch 243/500\n",
            "6/6 [==============================] - 0s 5ms/step - loss: 0.0989 - acc: 0.9430\n",
            "Epoch 244/500\n",
            "6/6 [==============================] - 0s 4ms/step - loss: 0.0960 - acc: 0.9444\n",
            "Epoch 245/500\n",
            "6/6 [==============================] - 0s 5ms/step - loss: 0.0987 - acc: 0.9444\n",
            "Epoch 246/500\n",
            "6/6 [==============================] - 0s 5ms/step - loss: 0.0987 - acc: 0.9444\n",
            "Epoch 247/500\n",
            "6/6 [==============================] - 0s 5ms/step - loss: 0.0981 - acc: 0.9415\n",
            "Epoch 248/500\n",
            "6/6 [==============================] - 0s 4ms/step - loss: 0.0992 - acc: 0.9430\n",
            "Epoch 249/500\n",
            "6/6 [==============================] - 0s 5ms/step - loss: 0.1001 - acc: 0.9459\n",
            "Epoch 250/500\n",
            "6/6 [==============================] - 0s 4ms/step - loss: 0.0996 - acc: 0.9430\n",
            "Epoch 251/500\n",
            "6/6 [==============================] - 0s 5ms/step - loss: 0.0979 - acc: 0.9488\n",
            "Epoch 252/500\n",
            "6/6 [==============================] - 0s 4ms/step - loss: 0.0983 - acc: 0.9503\n",
            "Epoch 253/500\n",
            "6/6 [==============================] - 0s 5ms/step - loss: 0.0990 - acc: 0.9430\n",
            "Epoch 254/500\n",
            "6/6 [==============================] - 0s 4ms/step - loss: 0.0960 - acc: 0.9430\n",
            "Epoch 255/500\n",
            "6/6 [==============================] - 0s 4ms/step - loss: 0.0974 - acc: 0.9474\n",
            "Epoch 256/500\n",
            "6/6 [==============================] - 0s 4ms/step - loss: 0.0950 - acc: 0.9474\n",
            "Epoch 257/500\n",
            "6/6 [==============================] - 0s 4ms/step - loss: 0.0986 - acc: 0.9474\n",
            "Epoch 258/500\n",
            "6/6 [==============================] - 0s 4ms/step - loss: 0.0995 - acc: 0.9474\n",
            "Epoch 259/500\n",
            "6/6 [==============================] - 0s 5ms/step - loss: 0.0983 - acc: 0.9474\n",
            "Epoch 260/500\n",
            "6/6 [==============================] - 0s 5ms/step - loss: 0.0984 - acc: 0.9415\n",
            "Epoch 261/500\n",
            "6/6 [==============================] - 0s 5ms/step - loss: 0.1000 - acc: 0.9444\n",
            "Epoch 262/500\n",
            "6/6 [==============================] - 0s 5ms/step - loss: 0.0999 - acc: 0.9459\n",
            "Epoch 263/500\n",
            "6/6 [==============================] - 0s 5ms/step - loss: 0.0981 - acc: 0.9444\n",
            "Epoch 264/500\n",
            "6/6 [==============================] - 0s 5ms/step - loss: 0.1003 - acc: 0.9459\n",
            "Epoch 265/500\n",
            "6/6 [==============================] - 0s 6ms/step - loss: 0.0980 - acc: 0.9488\n",
            "Epoch 266/500\n",
            "6/6 [==============================] - 0s 4ms/step - loss: 0.0958 - acc: 0.9474\n",
            "Epoch 267/500\n",
            "6/6 [==============================] - 0s 4ms/step - loss: 0.0987 - acc: 0.9459\n",
            "Epoch 268/500\n",
            "6/6 [==============================] - 0s 5ms/step - loss: 0.0991 - acc: 0.9444\n",
            "Epoch 269/500\n",
            "6/6 [==============================] - 0s 5ms/step - loss: 0.0978 - acc: 0.9444\n",
            "Epoch 270/500\n",
            "6/6 [==============================] - 0s 4ms/step - loss: 0.0975 - acc: 0.9474\n",
            "Epoch 271/500\n",
            "6/6 [==============================] - 0s 4ms/step - loss: 0.0969 - acc: 0.9415\n",
            "Epoch 272/500\n",
            "6/6 [==============================] - 0s 5ms/step - loss: 0.0977 - acc: 0.9430\n",
            "Epoch 273/500\n",
            "6/6 [==============================] - 0s 5ms/step - loss: 0.1000 - acc: 0.9430\n",
            "Epoch 274/500\n",
            "6/6 [==============================] - 0s 5ms/step - loss: 0.0978 - acc: 0.9444\n",
            "Epoch 275/500\n",
            "6/6 [==============================] - 0s 4ms/step - loss: 0.0980 - acc: 0.9474\n",
            "Epoch 276/500\n",
            "6/6 [==============================] - 0s 5ms/step - loss: 0.0985 - acc: 0.9459\n",
            "Epoch 277/500\n",
            "6/6 [==============================] - 0s 4ms/step - loss: 0.0979 - acc: 0.9488\n",
            "Epoch 278/500\n",
            "6/6 [==============================] - 0s 4ms/step - loss: 0.0980 - acc: 0.9459\n",
            "Epoch 279/500\n",
            "6/6 [==============================] - 0s 5ms/step - loss: 0.0987 - acc: 0.9444\n",
            "Epoch 280/500\n",
            "6/6 [==============================] - 0s 4ms/step - loss: 0.0986 - acc: 0.9488\n",
            "Epoch 281/500\n",
            "6/6 [==============================] - 0s 5ms/step - loss: 0.1001 - acc: 0.9430\n",
            "Epoch 282/500\n",
            "6/6 [==============================] - 0s 5ms/step - loss: 0.0997 - acc: 0.9415\n",
            "Epoch 283/500\n",
            "6/6 [==============================] - 0s 5ms/step - loss: 0.1008 - acc: 0.9430\n",
            "Epoch 284/500\n",
            "6/6 [==============================] - 0s 4ms/step - loss: 0.0978 - acc: 0.9474\n",
            "Epoch 285/500\n",
            "6/6 [==============================] - 0s 5ms/step - loss: 0.0968 - acc: 0.9488\n",
            "Epoch 286/500\n",
            "6/6 [==============================] - 0s 5ms/step - loss: 0.0967 - acc: 0.9474\n",
            "Epoch 287/500\n",
            "6/6 [==============================] - 0s 5ms/step - loss: 0.0983 - acc: 0.9474\n",
            "Epoch 288/500\n",
            "6/6 [==============================] - 0s 5ms/step - loss: 0.0999 - acc: 0.9415\n",
            "Epoch 289/500\n",
            "6/6 [==============================] - 0s 5ms/step - loss: 0.0997 - acc: 0.9459\n",
            "Epoch 290/500\n",
            "6/6 [==============================] - 0s 4ms/step - loss: 0.0986 - acc: 0.9430\n",
            "Epoch 291/500\n",
            "6/6 [==============================] - 0s 5ms/step - loss: 0.0994 - acc: 0.9444\n",
            "Epoch 292/500\n",
            "6/6 [==============================] - 0s 6ms/step - loss: 0.1009 - acc: 0.9430\n",
            "Epoch 293/500\n",
            "6/6 [==============================] - 0s 5ms/step - loss: 0.1005 - acc: 0.9488\n",
            "Epoch 294/500\n",
            "6/6 [==============================] - 0s 5ms/step - loss: 0.0985 - acc: 0.9444\n",
            "Epoch 295/500\n",
            "6/6 [==============================] - 0s 5ms/step - loss: 0.0995 - acc: 0.9444\n",
            "Epoch 296/500\n",
            "6/6 [==============================] - 0s 5ms/step - loss: 0.1007 - acc: 0.9401\n",
            "Epoch 297/500\n",
            "6/6 [==============================] - 0s 4ms/step - loss: 0.0966 - acc: 0.9386\n",
            "Epoch 298/500\n",
            "6/6 [==============================] - 0s 5ms/step - loss: 0.0964 - acc: 0.9430\n",
            "Epoch 299/500\n",
            "6/6 [==============================] - 0s 4ms/step - loss: 0.0983 - acc: 0.9430\n",
            "Epoch 300/500\n",
            "6/6 [==============================] - 0s 5ms/step - loss: 0.0991 - acc: 0.9415\n",
            "Epoch 301/500\n",
            "6/6 [==============================] - 0s 4ms/step - loss: 0.0968 - acc: 0.9430\n",
            "Epoch 302/500\n",
            "6/6 [==============================] - 0s 5ms/step - loss: 0.0986 - acc: 0.9444\n",
            "Epoch 303/500\n",
            "6/6 [==============================] - 0s 4ms/step - loss: 0.0998 - acc: 0.9430\n",
            "Epoch 304/500\n",
            "6/6 [==============================] - 0s 4ms/step - loss: 0.0978 - acc: 0.9430\n",
            "Epoch 305/500\n",
            "6/6 [==============================] - 0s 4ms/step - loss: 0.0975 - acc: 0.9444\n",
            "Epoch 306/500\n",
            "6/6 [==============================] - 0s 5ms/step - loss: 0.0955 - acc: 0.9430\n",
            "Epoch 307/500\n",
            "6/6 [==============================] - 0s 4ms/step - loss: 0.0961 - acc: 0.9459\n",
            "Epoch 308/500\n",
            "6/6 [==============================] - 0s 4ms/step - loss: 0.1016 - acc: 0.9415\n",
            "Epoch 309/500\n",
            "6/6 [==============================] - 0s 5ms/step - loss: 0.0993 - acc: 0.9444\n",
            "Epoch 310/500\n",
            "6/6 [==============================] - 0s 5ms/step - loss: 0.0993 - acc: 0.9459\n",
            "Epoch 311/500\n",
            "6/6 [==============================] - 0s 5ms/step - loss: 0.0982 - acc: 0.9459\n",
            "Epoch 312/500\n",
            "6/6 [==============================] - 0s 4ms/step - loss: 0.0982 - acc: 0.9459\n",
            "Epoch 313/500\n",
            "6/6 [==============================] - 0s 4ms/step - loss: 0.0981 - acc: 0.9430\n",
            "Epoch 314/500\n",
            "6/6 [==============================] - 0s 4ms/step - loss: 0.0946 - acc: 0.9444\n",
            "Epoch 315/500\n",
            "6/6 [==============================] - 0s 6ms/step - loss: 0.0996 - acc: 0.9474\n",
            "Epoch 316/500\n",
            "6/6 [==============================] - 0s 5ms/step - loss: 0.1002 - acc: 0.9430\n",
            "Epoch 317/500\n",
            "6/6 [==============================] - 0s 5ms/step - loss: 0.0965 - acc: 0.9459\n",
            "Epoch 318/500\n",
            "6/6 [==============================] - 0s 5ms/step - loss: 0.0979 - acc: 0.9430\n",
            "Epoch 319/500\n",
            "6/6 [==============================] - 0s 6ms/step - loss: 0.0980 - acc: 0.9459\n",
            "Epoch 320/500\n",
            "6/6 [==============================] - 0s 4ms/step - loss: 0.0978 - acc: 0.9444\n",
            "Epoch 321/500\n",
            "6/6 [==============================] - 0s 5ms/step - loss: 0.0975 - acc: 0.9444\n",
            "Epoch 322/500\n",
            "6/6 [==============================] - 0s 4ms/step - loss: 0.0981 - acc: 0.9342\n",
            "Epoch 323/500\n",
            "6/6 [==============================] - 0s 5ms/step - loss: 0.0994 - acc: 0.9444\n",
            "Epoch 324/500\n",
            "6/6 [==============================] - 0s 4ms/step - loss: 0.0965 - acc: 0.9415\n",
            "Epoch 325/500\n",
            "6/6 [==============================] - 0s 5ms/step - loss: 0.0949 - acc: 0.9488\n",
            "Epoch 326/500\n",
            "6/6 [==============================] - 0s 5ms/step - loss: 0.0956 - acc: 0.9430\n",
            "Epoch 327/500\n",
            "6/6 [==============================] - 0s 4ms/step - loss: 0.0984 - acc: 0.9474\n",
            "Epoch 328/500\n",
            "6/6 [==============================] - 0s 5ms/step - loss: 0.0976 - acc: 0.9474\n",
            "Epoch 329/500\n",
            "6/6 [==============================] - 0s 5ms/step - loss: 0.0960 - acc: 0.9444\n",
            "Epoch 330/500\n",
            "6/6 [==============================] - 0s 5ms/step - loss: 0.0948 - acc: 0.9430\n",
            "Epoch 331/500\n",
            "6/6 [==============================] - 0s 4ms/step - loss: 0.0955 - acc: 0.9444\n",
            "Epoch 332/500\n",
            "6/6 [==============================] - 0s 5ms/step - loss: 0.0966 - acc: 0.9488\n",
            "Epoch 333/500\n",
            "6/6 [==============================] - 0s 4ms/step - loss: 0.0981 - acc: 0.9430\n",
            "Epoch 334/500\n",
            "6/6 [==============================] - 0s 5ms/step - loss: 0.0959 - acc: 0.9459\n",
            "Epoch 335/500\n",
            "6/6 [==============================] - 0s 4ms/step - loss: 0.0949 - acc: 0.9474\n",
            "Epoch 336/500\n",
            "6/6 [==============================] - 0s 5ms/step - loss: 0.0951 - acc: 0.9430\n",
            "Epoch 337/500\n",
            "6/6 [==============================] - 0s 5ms/step - loss: 0.0974 - acc: 0.9415\n",
            "Epoch 338/500\n",
            "6/6 [==============================] - 0s 5ms/step - loss: 0.0964 - acc: 0.9444\n",
            "Epoch 339/500\n",
            "6/6 [==============================] - 0s 5ms/step - loss: 0.0981 - acc: 0.9386\n",
            "Epoch 340/500\n",
            "6/6 [==============================] - 0s 4ms/step - loss: 0.0969 - acc: 0.9444\n",
            "Epoch 341/500\n",
            "6/6 [==============================] - 0s 5ms/step - loss: 0.0980 - acc: 0.9401\n",
            "Epoch 342/500\n",
            "6/6 [==============================] - 0s 5ms/step - loss: 0.0968 - acc: 0.9401\n",
            "Epoch 343/500\n",
            "6/6 [==============================] - 0s 5ms/step - loss: 0.0965 - acc: 0.9474\n",
            "Epoch 344/500\n",
            "6/6 [==============================] - 0s 6ms/step - loss: 0.0967 - acc: 0.9430\n",
            "Epoch 345/500\n",
            "6/6 [==============================] - 0s 6ms/step - loss: 0.0963 - acc: 0.9444\n",
            "Epoch 346/500\n",
            "6/6 [==============================] - 0s 4ms/step - loss: 0.0991 - acc: 0.9444\n",
            "Epoch 347/500\n",
            "6/6 [==============================] - 0s 4ms/step - loss: 0.1003 - acc: 0.9459\n",
            "Epoch 348/500\n",
            "6/6 [==============================] - 0s 5ms/step - loss: 0.0982 - acc: 0.9474\n",
            "Epoch 349/500\n",
            "6/6 [==============================] - 0s 5ms/step - loss: 0.0953 - acc: 0.9488\n",
            "Epoch 350/500\n",
            "6/6 [==============================] - 0s 4ms/step - loss: 0.0980 - acc: 0.9415\n",
            "Epoch 351/500\n",
            "6/6 [==============================] - 0s 6ms/step - loss: 0.0991 - acc: 0.9430\n",
            "Epoch 352/500\n",
            "6/6 [==============================] - 0s 6ms/step - loss: 0.0980 - acc: 0.9474\n",
            "Epoch 353/500\n",
            "6/6 [==============================] - 0s 5ms/step - loss: 0.0976 - acc: 0.9459\n",
            "Epoch 354/500\n",
            "6/6 [==============================] - 0s 6ms/step - loss: 0.0953 - acc: 0.9474\n",
            "Epoch 355/500\n",
            "6/6 [==============================] - 0s 5ms/step - loss: 0.0988 - acc: 0.9459\n",
            "Epoch 356/500\n",
            "6/6 [==============================] - 0s 5ms/step - loss: 0.0985 - acc: 0.9459\n",
            "Epoch 357/500\n",
            "6/6 [==============================] - 0s 5ms/step - loss: 0.0985 - acc: 0.9415\n",
            "Epoch 358/500\n",
            "6/6 [==============================] - 0s 4ms/step - loss: 0.1018 - acc: 0.9444\n",
            "Epoch 359/500\n",
            "6/6 [==============================] - 0s 5ms/step - loss: 0.1004 - acc: 0.9459\n",
            "Epoch 360/500\n",
            "6/6 [==============================] - 0s 5ms/step - loss: 0.0983 - acc: 0.9459\n",
            "Epoch 361/500\n",
            "6/6 [==============================] - 0s 4ms/step - loss: 0.0952 - acc: 0.9444\n",
            "Epoch 362/500\n",
            "6/6 [==============================] - 0s 5ms/step - loss: 0.0984 - acc: 0.9430\n",
            "Epoch 363/500\n",
            "6/6 [==============================] - 0s 5ms/step - loss: 0.0964 - acc: 0.9459\n",
            "Epoch 364/500\n",
            "6/6 [==============================] - 0s 5ms/step - loss: 0.0960 - acc: 0.9503\n",
            "Epoch 365/500\n",
            "6/6 [==============================] - 0s 5ms/step - loss: 0.0961 - acc: 0.9503\n",
            "Epoch 366/500\n",
            "6/6 [==============================] - 0s 5ms/step - loss: 0.0980 - acc: 0.9444\n",
            "Epoch 367/500\n",
            "6/6 [==============================] - 0s 7ms/step - loss: 0.0982 - acc: 0.9444\n",
            "Epoch 368/500\n",
            "6/6 [==============================] - 0s 4ms/step - loss: 0.0974 - acc: 0.9415\n",
            "Epoch 369/500\n",
            "6/6 [==============================] - 0s 4ms/step - loss: 0.0970 - acc: 0.9415\n",
            "Epoch 370/500\n",
            "6/6 [==============================] - 0s 4ms/step - loss: 0.0962 - acc: 0.9459\n",
            "Epoch 371/500\n",
            "6/6 [==============================] - 0s 5ms/step - loss: 0.0983 - acc: 0.9430\n",
            "Epoch 372/500\n",
            "6/6 [==============================] - 0s 5ms/step - loss: 0.0961 - acc: 0.9430\n",
            "Epoch 373/500\n",
            "6/6 [==============================] - 0s 5ms/step - loss: 0.0957 - acc: 0.9474\n",
            "Epoch 374/500\n",
            "6/6 [==============================] - 0s 4ms/step - loss: 0.0967 - acc: 0.9474\n",
            "Epoch 375/500\n",
            "6/6 [==============================] - 0s 4ms/step - loss: 0.0977 - acc: 0.9430\n",
            "Epoch 376/500\n",
            "6/6 [==============================] - 0s 5ms/step - loss: 0.0974 - acc: 0.9459\n",
            "Epoch 377/500\n",
            "6/6 [==============================] - 0s 5ms/step - loss: 0.0965 - acc: 0.9459\n",
            "Epoch 378/500\n",
            "6/6 [==============================] - 0s 5ms/step - loss: 0.0971 - acc: 0.9488\n",
            "Epoch 379/500\n",
            "6/6 [==============================] - 0s 4ms/step - loss: 0.0966 - acc: 0.9459\n",
            "Epoch 380/500\n",
            "6/6 [==============================] - 0s 5ms/step - loss: 0.0947 - acc: 0.9474\n",
            "Epoch 381/500\n",
            "6/6 [==============================] - 0s 4ms/step - loss: 0.0944 - acc: 0.9503\n",
            "Epoch 382/500\n",
            "6/6 [==============================] - 0s 4ms/step - loss: 0.0943 - acc: 0.9488\n",
            "Epoch 383/500\n",
            "6/6 [==============================] - 0s 4ms/step - loss: 0.0969 - acc: 0.9430\n",
            "Epoch 384/500\n",
            "6/6 [==============================] - 0s 4ms/step - loss: 0.0965 - acc: 0.9474\n",
            "Epoch 385/500\n",
            "6/6 [==============================] - 0s 4ms/step - loss: 0.0967 - acc: 0.9474\n",
            "Epoch 386/500\n",
            "6/6 [==============================] - 0s 4ms/step - loss: 0.0975 - acc: 0.9415\n",
            "Epoch 387/500\n",
            "6/6 [==============================] - 0s 5ms/step - loss: 0.0968 - acc: 0.9474\n",
            "Epoch 388/500\n",
            "6/6 [==============================] - 0s 5ms/step - loss: 0.0981 - acc: 0.9401\n",
            "Epoch 389/500\n",
            "6/6 [==============================] - 0s 4ms/step - loss: 0.0982 - acc: 0.9401\n",
            "Epoch 390/500\n",
            "6/6 [==============================] - 0s 5ms/step - loss: 0.0978 - acc: 0.9444\n",
            "Epoch 391/500\n",
            "6/6 [==============================] - 0s 5ms/step - loss: 0.0972 - acc: 0.9488\n",
            "Epoch 392/500\n",
            "6/6 [==============================] - 0s 5ms/step - loss: 0.0953 - acc: 0.9459\n",
            "Epoch 393/500\n",
            "6/6 [==============================] - 0s 5ms/step - loss: 0.0966 - acc: 0.9474\n",
            "Epoch 394/500\n",
            "6/6 [==============================] - 0s 7ms/step - loss: 0.0960 - acc: 0.9401\n",
            "Epoch 395/500\n",
            "6/6 [==============================] - 0s 5ms/step - loss: 0.0962 - acc: 0.9459\n",
            "Epoch 396/500\n",
            "6/6 [==============================] - 0s 5ms/step - loss: 0.0985 - acc: 0.9444\n",
            "Epoch 397/500\n",
            "6/6 [==============================] - 0s 5ms/step - loss: 0.0979 - acc: 0.9503\n",
            "Epoch 398/500\n",
            "6/6 [==============================] - 0s 5ms/step - loss: 0.0964 - acc: 0.9444\n",
            "Epoch 399/500\n",
            "6/6 [==============================] - 0s 5ms/step - loss: 0.0958 - acc: 0.9444\n",
            "Epoch 400/500\n",
            "6/6 [==============================] - 0s 5ms/step - loss: 0.0965 - acc: 0.9444\n",
            "Epoch 401/500\n",
            "6/6 [==============================] - 0s 5ms/step - loss: 0.0964 - acc: 0.9444\n",
            "Epoch 402/500\n",
            "6/6 [==============================] - 0s 5ms/step - loss: 0.0984 - acc: 0.9444\n",
            "Epoch 403/500\n",
            "6/6 [==============================] - 0s 5ms/step - loss: 0.0992 - acc: 0.9386\n",
            "Epoch 404/500\n",
            "6/6 [==============================] - 0s 5ms/step - loss: 0.0971 - acc: 0.9371\n",
            "Epoch 405/500\n",
            "6/6 [==============================] - 0s 5ms/step - loss: 0.0953 - acc: 0.9415\n",
            "Epoch 406/500\n",
            "6/6 [==============================] - 0s 5ms/step - loss: 0.0957 - acc: 0.9430\n",
            "Epoch 407/500\n",
            "6/6 [==============================] - 0s 5ms/step - loss: 0.0951 - acc: 0.9444\n",
            "Epoch 408/500\n",
            "6/6 [==============================] - 0s 5ms/step - loss: 0.0990 - acc: 0.9401\n",
            "Epoch 409/500\n",
            "6/6 [==============================] - 0s 5ms/step - loss: 0.0974 - acc: 0.9474\n",
            "Epoch 410/500\n",
            "6/6 [==============================] - 0s 5ms/step - loss: 0.0975 - acc: 0.9459\n",
            "Epoch 411/500\n",
            "6/6 [==============================] - 0s 5ms/step - loss: 0.0973 - acc: 0.9474\n",
            "Epoch 412/500\n",
            "6/6 [==============================] - 0s 5ms/step - loss: 0.0983 - acc: 0.9401\n",
            "Epoch 413/500\n",
            "6/6 [==============================] - 0s 5ms/step - loss: 0.0952 - acc: 0.9430\n",
            "Epoch 414/500\n",
            "6/6 [==============================] - 0s 5ms/step - loss: 0.0981 - acc: 0.9459\n",
            "Epoch 415/500\n",
            "6/6 [==============================] - 0s 5ms/step - loss: 0.0966 - acc: 0.9444\n",
            "Epoch 416/500\n",
            "6/6 [==============================] - 0s 5ms/step - loss: 0.0977 - acc: 0.9430\n",
            "Epoch 417/500\n",
            "6/6 [==============================] - 0s 5ms/step - loss: 0.0994 - acc: 0.9444\n",
            "Epoch 418/500\n",
            "6/6 [==============================] - 0s 5ms/step - loss: 0.1004 - acc: 0.9415\n",
            "Epoch 419/500\n",
            "6/6 [==============================] - 0s 7ms/step - loss: 0.0960 - acc: 0.9459\n",
            "Epoch 420/500\n",
            "6/6 [==============================] - 0s 5ms/step - loss: 0.0968 - acc: 0.9415\n",
            "Epoch 421/500\n",
            "6/6 [==============================] - 0s 5ms/step - loss: 0.0972 - acc: 0.9444\n",
            "Epoch 422/500\n",
            "6/6 [==============================] - 0s 6ms/step - loss: 0.0958 - acc: 0.9444\n",
            "Epoch 423/500\n",
            "6/6 [==============================] - 0s 5ms/step - loss: 0.0968 - acc: 0.9401\n",
            "Epoch 424/500\n",
            "6/6 [==============================] - 0s 5ms/step - loss: 0.0961 - acc: 0.9474\n",
            "Epoch 425/500\n",
            "6/6 [==============================] - 0s 5ms/step - loss: 0.0980 - acc: 0.9430\n",
            "Epoch 426/500\n",
            "6/6 [==============================] - 0s 5ms/step - loss: 0.0961 - acc: 0.9444\n",
            "Epoch 427/500\n",
            "6/6 [==============================] - 0s 5ms/step - loss: 0.0966 - acc: 0.9386\n",
            "Epoch 428/500\n",
            "6/6 [==============================] - 0s 5ms/step - loss: 0.0954 - acc: 0.9444\n",
            "Epoch 429/500\n",
            "6/6 [==============================] - 0s 5ms/step - loss: 0.0954 - acc: 0.9459\n",
            "Epoch 430/500\n",
            "6/6 [==============================] - 0s 5ms/step - loss: 0.0968 - acc: 0.9430\n",
            "Epoch 431/500\n",
            "6/6 [==============================] - 0s 5ms/step - loss: 0.0986 - acc: 0.9401\n",
            "Epoch 432/500\n",
            "6/6 [==============================] - 0s 5ms/step - loss: 0.0976 - acc: 0.9415\n",
            "Epoch 433/500\n",
            "6/6 [==============================] - 0s 5ms/step - loss: 0.0946 - acc: 0.9430\n",
            "Epoch 434/500\n",
            "6/6 [==============================] - 0s 5ms/step - loss: 0.0943 - acc: 0.9415\n",
            "Epoch 435/500\n",
            "6/6 [==============================] - 0s 5ms/step - loss: 0.0969 - acc: 0.9401\n",
            "Epoch 436/500\n",
            "6/6 [==============================] - 0s 5ms/step - loss: 0.0964 - acc: 0.9459\n",
            "Epoch 437/500\n",
            "6/6 [==============================] - 0s 5ms/step - loss: 0.0973 - acc: 0.9474\n",
            "Epoch 438/500\n",
            "6/6 [==============================] - 0s 5ms/step - loss: 0.0971 - acc: 0.9415\n",
            "Epoch 439/500\n",
            "6/6 [==============================] - 0s 5ms/step - loss: 0.0978 - acc: 0.9415\n",
            "Epoch 440/500\n",
            "6/6 [==============================] - 0s 5ms/step - loss: 0.0992 - acc: 0.9430\n",
            "Epoch 441/500\n",
            "6/6 [==============================] - 0s 5ms/step - loss: 0.0975 - acc: 0.9444\n",
            "Epoch 442/500\n",
            "6/6 [==============================] - 0s 5ms/step - loss: 0.0978 - acc: 0.9474\n",
            "Epoch 443/500\n",
            "6/6 [==============================] - 0s 5ms/step - loss: 0.0981 - acc: 0.9459\n",
            "Epoch 444/500\n",
            "6/6 [==============================] - 0s 6ms/step - loss: 0.0955 - acc: 0.9474\n",
            "Epoch 445/500\n",
            "6/6 [==============================] - 0s 5ms/step - loss: 0.0955 - acc: 0.9386\n",
            "Epoch 446/500\n",
            "6/6 [==============================] - 0s 5ms/step - loss: 0.0976 - acc: 0.9415\n",
            "Epoch 447/500\n",
            "6/6 [==============================] - 0s 6ms/step - loss: 0.0979 - acc: 0.9503\n",
            "Epoch 448/500\n",
            "6/6 [==============================] - 0s 5ms/step - loss: 0.0977 - acc: 0.9386\n",
            "Epoch 449/500\n",
            "6/6 [==============================] - 0s 5ms/step - loss: 0.0974 - acc: 0.9430\n",
            "Epoch 450/500\n",
            "6/6 [==============================] - 0s 5ms/step - loss: 0.0966 - acc: 0.9488\n",
            "Epoch 451/500\n",
            "6/6 [==============================] - 0s 5ms/step - loss: 0.0948 - acc: 0.9459\n",
            "Epoch 452/500\n",
            "6/6 [==============================] - 0s 5ms/step - loss: 0.0957 - acc: 0.9444\n",
            "Epoch 453/500\n",
            "6/6 [==============================] - 0s 5ms/step - loss: 0.0961 - acc: 0.9444\n",
            "Epoch 454/500\n",
            "6/6 [==============================] - 0s 5ms/step - loss: 0.0968 - acc: 0.9459\n",
            "Epoch 455/500\n",
            "6/6 [==============================] - 0s 5ms/step - loss: 0.0972 - acc: 0.9415\n",
            "Epoch 456/500\n",
            "6/6 [==============================] - 0s 5ms/step - loss: 0.0976 - acc: 0.9488\n",
            "Epoch 457/500\n",
            "6/6 [==============================] - 0s 5ms/step - loss: 0.0984 - acc: 0.9474\n",
            "Epoch 458/500\n",
            "6/6 [==============================] - 0s 5ms/step - loss: 0.0989 - acc: 0.9430\n",
            "Epoch 459/500\n",
            "6/6 [==============================] - 0s 5ms/step - loss: 0.0979 - acc: 0.9444\n",
            "Epoch 460/500\n",
            "6/6 [==============================] - 0s 5ms/step - loss: 0.0954 - acc: 0.9401\n",
            "Epoch 461/500\n",
            "6/6 [==============================] - 0s 5ms/step - loss: 0.0945 - acc: 0.9518\n",
            "Epoch 462/500\n",
            "6/6 [==============================] - 0s 5ms/step - loss: 0.0931 - acc: 0.9474\n",
            "Epoch 463/500\n",
            "6/6 [==============================] - 0s 6ms/step - loss: 0.0964 - acc: 0.9459\n",
            "Epoch 464/500\n",
            "6/6 [==============================] - 0s 5ms/step - loss: 0.0980 - acc: 0.9474\n",
            "Epoch 465/500\n",
            "6/6 [==============================] - 0s 5ms/step - loss: 0.0959 - acc: 0.9474\n",
            "Epoch 466/500\n",
            "6/6 [==============================] - 0s 5ms/step - loss: 0.0975 - acc: 0.9474\n",
            "Epoch 467/500\n",
            "6/6 [==============================] - 0s 5ms/step - loss: 0.0964 - acc: 0.9444\n",
            "Epoch 468/500\n",
            "6/6 [==============================] - 0s 5ms/step - loss: 0.0977 - acc: 0.9444\n",
            "Epoch 469/500\n",
            "6/6 [==============================] - 0s 6ms/step - loss: 0.0973 - acc: 0.9444\n",
            "Epoch 470/500\n",
            "6/6 [==============================] - 0s 5ms/step - loss: 0.0990 - acc: 0.9430\n",
            "Epoch 471/500\n",
            "6/6 [==============================] - 0s 5ms/step - loss: 0.0950 - acc: 0.9503\n",
            "Epoch 472/500\n",
            "6/6 [==============================] - 0s 5ms/step - loss: 0.0950 - acc: 0.9474\n",
            "Epoch 473/500\n",
            "6/6 [==============================] - 0s 5ms/step - loss: 0.0960 - acc: 0.9444\n",
            "Epoch 474/500\n",
            "6/6 [==============================] - 0s 5ms/step - loss: 0.0968 - acc: 0.9444\n",
            "Epoch 475/500\n",
            "6/6 [==============================] - 0s 5ms/step - loss: 0.0941 - acc: 0.9459\n",
            "Epoch 476/500\n",
            "6/6 [==============================] - 0s 5ms/step - loss: 0.0969 - acc: 0.9430\n",
            "Epoch 477/500\n",
            "6/6 [==============================] - 0s 5ms/step - loss: 0.0963 - acc: 0.9444\n",
            "Epoch 478/500\n",
            "6/6 [==============================] - 0s 5ms/step - loss: 0.0945 - acc: 0.9474\n",
            "Epoch 479/500\n",
            "6/6 [==============================] - 0s 5ms/step - loss: 0.0967 - acc: 0.9415\n",
            "Epoch 480/500\n",
            "6/6 [==============================] - 0s 5ms/step - loss: 0.0944 - acc: 0.9488\n",
            "Epoch 481/500\n",
            "6/6 [==============================] - 0s 5ms/step - loss: 0.0957 - acc: 0.9401\n",
            "Epoch 482/500\n",
            "6/6 [==============================] - 0s 6ms/step - loss: 0.0957 - acc: 0.9474\n",
            "Epoch 483/500\n",
            "6/6 [==============================] - 0s 5ms/step - loss: 0.0976 - acc: 0.9488\n",
            "Epoch 484/500\n",
            "6/6 [==============================] - 0s 5ms/step - loss: 0.0978 - acc: 0.9459\n",
            "Epoch 485/500\n",
            "6/6 [==============================] - 0s 5ms/step - loss: 0.0951 - acc: 0.9401\n",
            "Epoch 486/500\n",
            "6/6 [==============================] - 0s 5ms/step - loss: 0.0973 - acc: 0.9444\n",
            "Epoch 487/500\n",
            "6/6 [==============================] - 0s 5ms/step - loss: 0.0967 - acc: 0.9459\n",
            "Epoch 488/500\n",
            "6/6 [==============================] - 0s 5ms/step - loss: 0.0973 - acc: 0.9488\n",
            "Epoch 489/500\n",
            "6/6 [==============================] - 0s 5ms/step - loss: 0.0955 - acc: 0.9415\n",
            "Epoch 490/500\n",
            "6/6 [==============================] - 0s 5ms/step - loss: 0.0947 - acc: 0.9474\n",
            "Epoch 491/500\n",
            "6/6 [==============================] - 0s 5ms/step - loss: 0.0958 - acc: 0.9459\n",
            "Epoch 492/500\n",
            "6/6 [==============================] - 0s 5ms/step - loss: 0.0944 - acc: 0.9459\n",
            "Epoch 493/500\n",
            "6/6 [==============================] - 0s 5ms/step - loss: 0.0941 - acc: 0.9430\n",
            "Epoch 494/500\n",
            "6/6 [==============================] - 0s 6ms/step - loss: 0.0939 - acc: 0.9430\n",
            "Epoch 495/500\n",
            "6/6 [==============================] - 0s 5ms/step - loss: 0.0948 - acc: 0.9459\n",
            "Epoch 496/500\n",
            "6/6 [==============================] - 0s 5ms/step - loss: 0.0957 - acc: 0.9415\n",
            "Epoch 497/500\n",
            "6/6 [==============================] - 0s 5ms/step - loss: 0.0969 - acc: 0.9444\n",
            "Epoch 498/500\n",
            "6/6 [==============================] - 0s 5ms/step - loss: 0.0946 - acc: 0.9459\n",
            "Epoch 499/500\n",
            "6/6 [==============================] - 0s 5ms/step - loss: 0.0957 - acc: 0.9459\n",
            "Epoch 500/500\n",
            "6/6 [==============================] - 0s 5ms/step - loss: 0.0971 - acc: 0.9415\n"
          ],
          "name": "stdout"
        }
      ]
    },
    {
      "cell_type": "code",
      "metadata": {
        "colab_type": "code",
        "id": "rZkK0Krt3119",
        "colab": {
          "base_uri": "https://localhost:8080/",
          "height": 545
        },
        "outputId": "c28b4a78-532e-4966-83a3-43ff22db64ad"
      },
      "source": [
        "# Plot the Training and Validation Accuracy & Loss Scores\n",
        "# Enter your code here:\n",
        "%matplotlib inline\n",
        "import matplotlib.pyplot as plt\n",
        "\n",
        "acc = history.history['acc']\n",
        "loss = history.history['loss']\n",
        "\n",
        "epochs = range(1, len(acc) + 1)\n",
        "\n",
        "plt.plot(epochs, acc, 'bo', label='Training acc')\n",
        "plt.title('Training and validation accuracy')\n",
        "plt.legend()\n",
        "\n",
        "plt.figure()\n",
        "\n",
        "plt.plot(epochs, loss, 'bo', label='Training loss')\n",
        "plt.title('Training and validation loss')\n",
        "plt.legend()\n",
        "\n",
        "plt.show()"
      ],
      "execution_count": null,
      "outputs": [
        {
          "output_type": "display_data",
          "data": {
            "image/png": "[encoded data removed]",
            "text/plain": [
              "<Figure size 432x288 with 1 Axes>"
            ]
          },
          "metadata": {
            "tags": [],
            "needs_background": "light"
          }
        },
        {
          "output_type": "display_data",
          "data": {
            "image/png": "[encoded data removed]",
            "text/plain": [
              "<Figure size 432x288 with 1 Axes>"
            ]
          },
          "metadata": {
            "tags": [],
            "needs_background": "light"
          }
        }
      ]
    },
    {
      "cell_type": "code",
      "metadata": {
        "colab_type": "code",
        "id": "Ls5V8NvP311_",
        "colab": {}
      },
      "source": [
        "# Save the Model\n",
        "model.save(model_path+'chgen_model_3.h5')\n",
        "model.save('chgen_model_3.h5')"
      ],
      "execution_count": null,
      "outputs": []
    },
    {
      "cell_type": "markdown",
      "metadata": {
        "colab_type": "text",
        "id": "7KdVbmPf044x"
      },
      "source": [
        "### Model #3_1 (3e)"
      ]
    },
    {
      "cell_type": "code",
      "metadata": {
        "colab_type": "code",
        "id": "cIIumy1o044y",
        "colab": {
          "base_uri": "https://localhost:8080/",
          "height": 221
        },
        "outputId": "f84e4a46-87ba-4c72-d708-7d90ba323c72"
      },
      "source": [
        "# Build the Model\n",
        "# Enter your code here:\n",
        "from tensorflow.keras.models import Sequential\n",
        "from tensorflow.keras import layers\n",
        "from tensorflow.keras.optimizers import RMSprop, Adam\n",
        "\n",
        "model = keras.models.Sequential()\n",
        "model.add(layers.LSTM(128, input_shape=(window_size, len(chars)))) #multiclass single label classification\n",
        "model.add(layers.Dense(len(chars), activation='softmax'))\n",
        "\n",
        "model.summary()\n"
      ],
      "execution_count": null,
      "outputs": [
        {
          "output_type": "stream",
          "text": [
            "Model: \"sequential_27\"\n",
            "_________________________________________________________________\n",
            "Layer (type)                 Output Shape              Param #   \n",
            "=================================================================\n",
            "lstm_8 (LSTM)                (None, 128)               83968     \n",
            "_________________________________________________________________\n",
            "dense_23 (Dense)             (None, 35)                4515      \n",
            "=================================================================\n",
            "Total params: 88,483\n",
            "Trainable params: 88,483\n",
            "Non-trainable params: 0\n",
            "_________________________________________________________________\n"
          ],
          "name": "stdout"
        }
      ]
    },
    {
      "cell_type": "code",
      "metadata": {
        "colab_type": "code",
        "id": "G_soN4tx0442",
        "colab": {
          "base_uri": "https://localhost:8080/",
          "height": 921
        },
        "outputId": "f08d0e9a-ced4-46d2-f6ce-9b64e64edbbb"
      },
      "source": [
        "# Train the Model\n",
        "# Enter your code here:\n",
        "model.compile(loss='categorical_crossentropy', optimizer=Adam(lr=0.01), metrics=['acc'])\n",
        "\n",
        "history = model.fit(X, y,\n",
        "                    epochs=25,\n",
        "                    batch_size=128) "
      ],
      "execution_count": null,
      "outputs": [
        {
          "output_type": "stream",
          "text": [
            "Epoch 1/25\n",
            "WARNING:tensorflow:Model was constructed with shape (None, 100, 35) for input Tensor(\"lstm_8_input:0\", shape=(None, 100, 35), dtype=float32), but it was called on an input with incompatible shape (None, 5, 35).\n",
            "WARNING:tensorflow:Model was constructed with shape (None, 100, 35) for input Tensor(\"lstm_8_input:0\", shape=(None, 100, 35), dtype=float32), but it was called on an input with incompatible shape (None, 5, 35).\n",
            "1/1 [==============================] - 0s 2ms/step - loss: 3.5597 - acc: 0.0088\n",
            "Epoch 2/25\n",
            "1/1 [==============================] - 0s 1ms/step - loss: 3.4712 - acc: 0.1930\n",
            "Epoch 3/25\n",
            "1/1 [==============================] - 0s 1ms/step - loss: 3.3530 - acc: 0.1930\n",
            "Epoch 4/25\n",
            "1/1 [==============================] - 0s 1ms/step - loss: 3.1414 - acc: 0.1930\n",
            "Epoch 5/25\n",
            "1/1 [==============================] - 0s 1ms/step - loss: 2.9002 - acc: 0.1930\n",
            "Epoch 6/25\n",
            "1/1 [==============================] - 0s 929us/step - loss: 2.9313 - acc: 0.1930\n",
            "Epoch 7/25\n",
            "1/1 [==============================] - 0s 967us/step - loss: 2.7178 - acc: 0.1930\n",
            "Epoch 8/25\n",
            "1/1 [==============================] - 0s 1ms/step - loss: 2.6955 - acc: 0.3246\n",
            "Epoch 9/25\n",
            "1/1 [==============================] - 0s 1ms/step - loss: 2.6644 - acc: 0.2719\n",
            "Epoch 10/25\n",
            "1/1 [==============================] - 0s 4ms/step - loss: 2.5685 - acc: 0.3246\n",
            "Epoch 11/25\n",
            "1/1 [==============================] - 0s 1ms/step - loss: 2.4325 - acc: 0.3421\n",
            "Epoch 12/25\n",
            "1/1 [==============================] - 0s 1ms/step - loss: 2.2924 - acc: 0.2807\n",
            "Epoch 13/25\n",
            "1/1 [==============================] - 0s 1ms/step - loss: 2.1601 - acc: 0.2719\n",
            "Epoch 14/25\n",
            "1/1 [==============================] - 0s 2ms/step - loss: 2.0438 - acc: 0.3070\n",
            "Epoch 15/25\n",
            "1/1 [==============================] - 0s 1ms/step - loss: 1.9186 - acc: 0.3772\n",
            "Epoch 16/25\n",
            "1/1 [==============================] - 0s 1ms/step - loss: 1.8228 - acc: 0.4298\n",
            "Epoch 17/25\n",
            "1/1 [==============================] - 0s 2ms/step - loss: 1.7010 - acc: 0.4825\n",
            "Epoch 18/25\n",
            "1/1 [==============================] - 0s 2ms/step - loss: 1.5786 - acc: 0.5088\n",
            "Epoch 19/25\n",
            "1/1 [==============================] - 0s 1ms/step - loss: 1.4904 - acc: 0.5088\n",
            "Epoch 20/25\n",
            "1/1 [==============================] - 0s 1ms/step - loss: 1.3614 - acc: 0.5526\n",
            "Epoch 21/25\n",
            "1/1 [==============================] - 0s 2ms/step - loss: 1.2558 - acc: 0.5702\n",
            "Epoch 22/25\n",
            "1/1 [==============================] - 0s 1ms/step - loss: 1.1437 - acc: 0.6316\n",
            "Epoch 23/25\n",
            "1/1 [==============================] - 0s 2ms/step - loss: 1.0362 - acc: 0.6667\n",
            "Epoch 24/25\n",
            "1/1 [==============================] - 0s 3ms/step - loss: 0.9309 - acc: 0.7105\n",
            "Epoch 25/25\n",
            "1/1 [==============================] - 0s 2ms/step - loss: 0.8270 - acc: 0.7807\n"
          ],
          "name": "stdout"
        }
      ]
    },
    {
      "cell_type": "code",
      "metadata": {
        "colab_type": "code",
        "id": "AWZER12H0444",
        "colab": {
          "base_uri": "https://localhost:8080/",
          "height": 545
        },
        "outputId": "6c9213de-d746-42bd-f13b-9cb77b9553d9"
      },
      "source": [
        "# Plot the Training and Validation Accuracy & Loss Scores\n",
        "# Enter your code here:\n",
        "%matplotlib inline\n",
        "import matplotlib.pyplot as plt\n",
        "\n",
        "acc = history.history['acc']\n",
        "loss = history.history['loss']\n",
        "\n",
        "epochs = range(1, len(acc) + 1)\n",
        "\n",
        "plt.plot(epochs, acc, 'bo', label='Training acc')\n",
        "plt.title('Training and validation accuracy')\n",
        "plt.legend()\n",
        "\n",
        "plt.figure()\n",
        "\n",
        "plt.plot(epochs, loss, 'bo', label='Training loss')\n",
        "plt.title('Training and validation loss')\n",
        "plt.legend()\n",
        "\n",
        "plt.show()"
      ],
      "execution_count": null,
      "outputs": [
        {
          "output_type": "display_data",
          "data": {
            "image/png": "[encoded data removed]",
            "text/plain": [
              "<Figure size 432x288 with 1 Axes>"
            ]
          },
          "metadata": {
            "tags": [],
            "needs_background": "light"
          }
        },
        {
          "output_type": "display_data",
          "data": {
            "image/png": "[encoded data removed]",
            "text/plain": [
              "<Figure size 432x288 with 1 Axes>"
            ]
          },
          "metadata": {
            "tags": [],
            "needs_background": "light"
          }
        }
      ]
    },
    {
      "cell_type": "code",
      "metadata": {
        "colab_type": "code",
        "id": "mOB_zw4S0446",
        "colab": {}
      },
      "source": [
        "# Save the Model\n",
        "model.save(model_path+'chgen_model_3_1.h5')\n",
        "model.save('chgen_model_3_1.h5')"
      ],
      "execution_count": null,
      "outputs": []
    },
    {
      "cell_type": "markdown",
      "metadata": {
        "colab_type": "text",
        "id": "0V715IPMBL14"
      },
      "source": [
        "### Model #4 [GRU]"
      ]
    },
    {
      "cell_type": "code",
      "metadata": {
        "colab_type": "code",
        "id": "AGvUqcN7BL17",
        "colab": {
          "base_uri": "https://localhost:8080/",
          "height": 255
        },
        "outputId": "decd65da-8085-4d80-995f-d305e561d8ca"
      },
      "source": [
        "# Build the Model\n",
        "# Enter your code here:\n",
        "from tensorflow.keras.models import Sequential\n",
        "from tensorflow.keras import layers\n",
        "from tensorflow.keras.optimizers import RMSprop, Adam\n",
        "\n",
        "model = keras.models.Sequential()\n",
        "model.add(layers.GRU(128, input_shape=(window_size, len(chars)), return_sequences=True)) #multiclass single label classification\n",
        "model.add(layers.Flatten())\n",
        "model.add(layers.Dense(len(chars), activation='softmax'))\n",
        "model.summary()"
      ],
      "execution_count": null,
      "outputs": [
        {
          "output_type": "stream",
          "text": [
            "Model: \"sequential_9\"\n",
            "_________________________________________________________________\n",
            "Layer (type)                 Output Shape              Param #   \n",
            "=================================================================\n",
            "gru_17 (GRU)                 (None, 100, 128)          63360     \n",
            "_________________________________________________________________\n",
            "flatten (Flatten)            (None, 12800)             0         \n",
            "_________________________________________________________________\n",
            "dense_6 (Dense)              (None, 35)                448035    \n",
            "=================================================================\n",
            "Total params: 511,395\n",
            "Trainable params: 511,395\n",
            "Non-trainable params: 0\n",
            "_________________________________________________________________\n"
          ],
          "name": "stdout"
        }
      ]
    },
    {
      "cell_type": "code",
      "metadata": {
        "colab_type": "code",
        "id": "uuytM27WBL2E",
        "colab": {
          "base_uri": "https://localhost:8080/",
          "height": 867
        },
        "outputId": "fdd0bc6a-b7a5-4d87-e020-97c34d7b38a2"
      },
      "source": [
        "# Train the Model\n",
        "# Enter your code here:\n",
        "model.compile(loss='categorical_crossentropy', optimizer=Adam(lr=0.01), metrics=['acc'])\n",
        "\n",
        "history = model.fit(X, y,\n",
        "                    epochs=25,\n",
        "                    batch_size=128) "
      ],
      "execution_count": null,
      "outputs": [
        {
          "output_type": "stream",
          "text": [
            "Epoch 1/25\n",
            "4252/4252 [==============================] - 32s 8ms/step - loss: 1.9934 - acc: 0.4176\n",
            "Epoch 2/25\n",
            "4252/4252 [==============================] - 32s 7ms/step - loss: 1.8202 - acc: 0.4617\n",
            "Epoch 3/25\n",
            "4252/4252 [==============================] - 32s 7ms/step - loss: 1.7418 - acc: 0.4832\n",
            "Epoch 4/25\n",
            "4252/4252 [==============================] - 32s 7ms/step - loss: 1.6900 - acc: 0.4974\n",
            "Epoch 5/25\n",
            "4252/4252 [==============================] - 32s 7ms/step - loss: 1.6484 - acc: 0.5096\n",
            "Epoch 6/25\n",
            "4252/4252 [==============================] - 32s 8ms/step - loss: 1.6211 - acc: 0.5163\n",
            "Epoch 7/25\n",
            "4252/4252 [==============================] - 31s 7ms/step - loss: 1.5988 - acc: 0.5220\n",
            "Epoch 8/25\n",
            "4252/4252 [==============================] - 31s 7ms/step - loss: 1.5896 - acc: 0.5244\n",
            "Epoch 9/25\n",
            "4252/4252 [==============================] - 31s 7ms/step - loss: 1.7545 - acc: 0.4814\n",
            "Epoch 10/25\n",
            "4252/4252 [==============================] - 31s 7ms/step - loss: 2.7743 - acc: 0.2166\n",
            "Epoch 11/25\n",
            "4252/4252 [==============================] - 31s 7ms/step - loss: 2.6121 - acc: 0.2521\n",
            "Epoch 12/25\n",
            "4252/4252 [==============================] - 31s 7ms/step - loss: 2.3299 - acc: 0.3280\n",
            "Epoch 13/25\n",
            "4252/4252 [==============================] - 31s 7ms/step - loss: 2.0937 - acc: 0.3851\n",
            "Epoch 14/25\n",
            "4252/4252 [==============================] - 31s 7ms/step - loss: 2.0088 - acc: 0.4070\n",
            "Epoch 15/25\n",
            "4252/4252 [==============================] - 31s 7ms/step - loss: 2.0016 - acc: 0.4142\n",
            "Epoch 16/25\n",
            "4252/4252 [==============================] - 32s 7ms/step - loss: 2.6431 - acc: 0.2473\n",
            "Epoch 17/25\n",
            "4252/4252 [==============================] - 32s 7ms/step - loss: 2.5471 - acc: 0.2762\n",
            "Epoch 18/25\n",
            "4252/4252 [==============================] - 32s 7ms/step - loss: 2.5041 - acc: 0.2876\n",
            "Epoch 19/25\n",
            "4252/4252 [==============================] - 31s 7ms/step - loss: 2.4616 - acc: 0.2981\n",
            "Epoch 20/25\n",
            "4252/4252 [==============================] - 31s 7ms/step - loss: 2.3972 - acc: 0.3133\n",
            "Epoch 21/25\n",
            "4252/4252 [==============================] - 31s 7ms/step - loss: 2.2741 - acc: 0.3405\n",
            "Epoch 22/25\n",
            "4252/4252 [==============================] - 31s 7ms/step - loss: 2.1134 - acc: 0.3802\n",
            "Epoch 23/25\n",
            "4252/4252 [==============================] - 31s 7ms/step - loss: 1.9488 - acc: 0.4219\n",
            "Epoch 24/25\n",
            "4252/4252 [==============================] - 31s 7ms/step - loss: 1.8205 - acc: 0.4562\n",
            "Epoch 25/25\n",
            "4252/4252 [==============================] - 31s 7ms/step - loss: 2.4483 - acc: 0.2959\n"
          ],
          "name": "stdout"
        }
      ]
    },
    {
      "cell_type": "code",
      "metadata": {
        "colab_type": "code",
        "id": "F2HsYHFwBL2I",
        "colab": {
          "base_uri": "https://localhost:8080/",
          "height": 545
        },
        "outputId": "70cdea92-d0f7-494d-a841-5e29028a9c5b"
      },
      "source": [
        "# Plot the Training and Validation Accuracy & Loss Scores\n",
        "# Enter your code here:\n",
        "%matplotlib inline\n",
        "import matplotlib.pyplot as plt\n",
        "\n",
        "acc = history.history['acc']\n",
        "loss = history.history['loss']\n",
        "\n",
        "epochs = range(1, len(acc) + 1)\n",
        "\n",
        "plt.plot(epochs, acc, 'bo', label='Training acc')\n",
        "plt.title('Training and validation accuracy')\n",
        "plt.legend()\n",
        "\n",
        "plt.figure()\n",
        "\n",
        "plt.plot(epochs, loss, 'bo', label='Training loss')\n",
        "plt.title('Training and validation loss')\n",
        "plt.legend()\n",
        "\n",
        "plt.show()"
      ],
      "execution_count": null,
      "outputs": [
        {
          "output_type": "display_data",
          "data": {
            "image/png": "[encoded data removed]",
            "text/plain": [
              "<Figure size 432x288 with 1 Axes>"
            ]
          },
          "metadata": {
            "tags": [],
            "needs_background": "light"
          }
        },
        {
          "output_type": "display_data",
          "data": {
            "image/png": "[encoded data removed]",
            "text/plain": [
              "<Figure size 432x288 with 1 Axes>"
            ]
          },
          "metadata": {
            "tags": [],
            "needs_background": "light"
          }
        }
      ]
    },
    {
      "cell_type": "code",
      "metadata": {
        "colab_type": "code",
        "id": "5O5FY-OdBL2L",
        "colab": {}
      },
      "source": [
        "# Save the Model\n",
        "model.save(model_path+'chgen_model_4.h5')\n",
        "model.save('chgen_model_4.h5')"
      ],
      "execution_count": null,
      "outputs": []
    },
    {
      "cell_type": "markdown",
      "metadata": {
        "colab_type": "text",
        "id": "Ak6JSxfpEP3T"
      },
      "source": [
        "### Model #5 [Conv1D] (not saved)"
      ]
    },
    {
      "cell_type": "code",
      "metadata": {
        "colab_type": "code",
        "id": "B_OaA8lYEP3T",
        "colab": {
          "base_uri": "https://localhost:8080/",
          "height": 323
        },
        "outputId": "815869ec-a87b-43ea-ecbf-7c0c03a051f8"
      },
      "source": [
        "# Build the Model\n",
        "# Enter your code here:\n",
        "from tensorflow.keras.models import Sequential\n",
        "from tensorflow.keras import layers\n",
        "from tensorflow.keras.optimizers import RMSprop, Adam\n",
        "\n",
        "model = keras.models.Sequential()\n",
        "model.add(layers.Conv1D(128, 9, input_shape=(window_size, len(chars)), activation='relu')) #multiclass single label classification\n",
        "model.add(layers.MaxPooling1D(5))\n",
        "model.add(layers.Conv1D(128, 9, activation='relu'))\n",
        "model.add(layers.GlobalMaxPooling1D())\n",
        "model.add(layers.Dense(len(chars), activation='softmax'))\n",
        "model.summary()\n"
      ],
      "execution_count": null,
      "outputs": [
        {
          "output_type": "stream",
          "text": [
            "Model: \"sequential_15\"\n",
            "_________________________________________________________________\n",
            "Layer (type)                 Output Shape              Param #   \n",
            "=================================================================\n",
            "conv1d_8 (Conv1D)            (None, 92, 128)           40448     \n",
            "_________________________________________________________________\n",
            "max_pooling1d_4 (MaxPooling1 (None, 18, 128)           0         \n",
            "_________________________________________________________________\n",
            "conv1d_9 (Conv1D)            (None, 10, 128)           147584    \n",
            "_________________________________________________________________\n",
            "global_max_pooling1d_4 (Glob (None, 128)               0         \n",
            "_________________________________________________________________\n",
            "dense_11 (Dense)             (None, 35)                4515      \n",
            "=================================================================\n",
            "Total params: 192,547\n",
            "Trainable params: 192,547\n",
            "Non-trainable params: 0\n",
            "_________________________________________________________________\n"
          ],
          "name": "stdout"
        }
      ]
    },
    {
      "cell_type": "code",
      "metadata": {
        "colab_type": "code",
        "id": "7-oOvNEaEP3V",
        "colab": {
          "base_uri": "https://localhost:8080/",
          "height": 578
        },
        "outputId": "60e4efec-1e21-4871-a615-0b64d3e9f699"
      },
      "source": [
        "# Train the Model\n",
        "# Enter your code here:\n",
        "model.compile(loss='categorical_crossentropy', optimizer=Adam(lr=0.001), metrics=['acc'])\n",
        "\n",
        "history = model.fit(X, y,\n",
        "                    epochs=25,\n",
        "                    batch_size=128) "
      ],
      "execution_count": null,
      "outputs": [
        {
          "output_type": "stream",
          "text": [
            "Epoch 1/25\n",
            "4252/4252 [==============================] - 17s 4ms/step - loss: 2.9400 - acc: 0.1740\n",
            "Epoch 2/25\n",
            "4252/4252 [==============================] - 18s 4ms/step - loss: 2.9400 - acc: 0.1740\n",
            "Epoch 3/25\n",
            "4252/4252 [==============================] - 18s 4ms/step - loss: 2.9399 - acc: 0.1740\n",
            "Epoch 4/25\n",
            "4252/4252 [==============================] - 18s 4ms/step - loss: 2.9399 - acc: 0.1740\n",
            "Epoch 5/25\n",
            "4252/4252 [==============================] - 18s 4ms/step - loss: 2.9400 - acc: 0.1740\n",
            "Epoch 6/25\n",
            "4252/4252 [==============================] - 18s 4ms/step - loss: 2.9400 - acc: 0.1740\n",
            "Epoch 7/25\n",
            " 812/4252 [====>.........................] - ETA: 14s - loss: 2.9458 - acc: 0.1735"
          ],
          "name": "stdout"
        },
        {
          "output_type": "error",
          "ename": "KeyboardInterrupt",
          "evalue": "ignored",
          "traceback": [
            "\u001b[0;31m---------------------------------------------------------------------------\u001b[0m",
            "\u001b[0;31mKeyboardInterrupt\u001b[0m                         Traceback (most recent call last)",
            "\u001b[0;32m<ipython-input-41-1a5b36c85ce2>\u001b[0m in \u001b[0;36m<module>\u001b[0;34m()\u001b[0m\n\u001b[1;32m      5\u001b[0m history = model.fit(X, y,\n\u001b[1;32m      6\u001b[0m                     \u001b[0mepochs\u001b[0m\u001b[0;34m=\u001b[0m\u001b[0;36m25\u001b[0m\u001b[0;34m,\u001b[0m\u001b[0;34m\u001b[0m\u001b[0;34m\u001b[0m\u001b[0m\n\u001b[0;32m----> 7\u001b[0;31m                     batch_size=128) \n\u001b[0m",
            "\u001b[0;32m/usr/local/lib/python3.6/dist-packages/tensorflow/python/keras/engine/training.py\u001b[0m in \u001b[0;36m_method_wrapper\u001b[0;34m(self, *args, **kwargs)\u001b[0m\n\u001b[1;32m    106\u001b[0m   \u001b[0;32mdef\u001b[0m \u001b[0m_method_wrapper\u001b[0m\u001b[0;34m(\u001b[0m\u001b[0mself\u001b[0m\u001b[0;34m,\u001b[0m \u001b[0;34m*\u001b[0m\u001b[0margs\u001b[0m\u001b[0;34m,\u001b[0m \u001b[0;34m**\u001b[0m\u001b[0mkwargs\u001b[0m\u001b[0;34m)\u001b[0m\u001b[0;34m:\u001b[0m\u001b[0;34m\u001b[0m\u001b[0;34m\u001b[0m\u001b[0m\n\u001b[1;32m    107\u001b[0m     \u001b[0;32mif\u001b[0m \u001b[0;32mnot\u001b[0m \u001b[0mself\u001b[0m\u001b[0;34m.\u001b[0m\u001b[0m_in_multi_worker_mode\u001b[0m\u001b[0;34m(\u001b[0m\u001b[0;34m)\u001b[0m\u001b[0;34m:\u001b[0m  \u001b[0;31m# pylint: disable=protected-access\u001b[0m\u001b[0;34m\u001b[0m\u001b[0;34m\u001b[0m\u001b[0m\n\u001b[0;32m--> 108\u001b[0;31m       \u001b[0;32mreturn\u001b[0m \u001b[0mmethod\u001b[0m\u001b[0;34m(\u001b[0m\u001b[0mself\u001b[0m\u001b[0;34m,\u001b[0m \u001b[0;34m*\u001b[0m\u001b[0margs\u001b[0m\u001b[0;34m,\u001b[0m \u001b[0;34m**\u001b[0m\u001b[0mkwargs\u001b[0m\u001b[0;34m)\u001b[0m\u001b[0;34m\u001b[0m\u001b[0;34m\u001b[0m\u001b[0m\n\u001b[0m\u001b[1;32m    109\u001b[0m \u001b[0;34m\u001b[0m\u001b[0m\n\u001b[1;32m    110\u001b[0m     \u001b[0;31m# Running inside `run_distribute_coordinator` already.\u001b[0m\u001b[0;34m\u001b[0m\u001b[0;34m\u001b[0m\u001b[0;34m\u001b[0m\u001b[0m\n",
            "\u001b[0;32m/usr/local/lib/python3.6/dist-packages/tensorflow/python/keras/engine/training.py\u001b[0m in \u001b[0;36mfit\u001b[0;34m(self, x, y, batch_size, epochs, verbose, callbacks, validation_split, validation_data, shuffle, class_weight, sample_weight, initial_epoch, steps_per_epoch, validation_steps, validation_batch_size, validation_freq, max_queue_size, workers, use_multiprocessing)\u001b[0m\n\u001b[1;32m   1096\u001b[0m                 batch_size=batch_size):\n\u001b[1;32m   1097\u001b[0m               \u001b[0mcallbacks\u001b[0m\u001b[0;34m.\u001b[0m\u001b[0mon_train_batch_begin\u001b[0m\u001b[0;34m(\u001b[0m\u001b[0mstep\u001b[0m\u001b[0;34m)\u001b[0m\u001b[0;34m\u001b[0m\u001b[0;34m\u001b[0m\u001b[0m\n\u001b[0;32m-> 1098\u001b[0;31m               \u001b[0mtmp_logs\u001b[0m \u001b[0;34m=\u001b[0m \u001b[0mtrain_function\u001b[0m\u001b[0;34m(\u001b[0m\u001b[0miterator\u001b[0m\u001b[0;34m)\u001b[0m\u001b[0;34m\u001b[0m\u001b[0;34m\u001b[0m\u001b[0m\n\u001b[0m\u001b[1;32m   1099\u001b[0m               \u001b[0;32mif\u001b[0m \u001b[0mdata_handler\u001b[0m\u001b[0;34m.\u001b[0m\u001b[0mshould_sync\u001b[0m\u001b[0;34m:\u001b[0m\u001b[0;34m\u001b[0m\u001b[0;34m\u001b[0m\u001b[0m\n\u001b[1;32m   1100\u001b[0m                 \u001b[0mcontext\u001b[0m\u001b[0;34m.\u001b[0m\u001b[0masync_wait\u001b[0m\u001b[0;34m(\u001b[0m\u001b[0;34m)\u001b[0m\u001b[0;34m\u001b[0m\u001b[0;34m\u001b[0m\u001b[0m\n",
            "\u001b[0;32m/usr/local/lib/python3.6/dist-packages/tensorflow/python/eager/def_function.py\u001b[0m in \u001b[0;36m__call__\u001b[0;34m(self, *args, **kwds)\u001b[0m\n\u001b[1;32m    778\u001b[0m       \u001b[0;32melse\u001b[0m\u001b[0;34m:\u001b[0m\u001b[0;34m\u001b[0m\u001b[0;34m\u001b[0m\u001b[0m\n\u001b[1;32m    779\u001b[0m         \u001b[0mcompiler\u001b[0m \u001b[0;34m=\u001b[0m \u001b[0;34m\"nonXla\"\u001b[0m\u001b[0;34m\u001b[0m\u001b[0;34m\u001b[0m\u001b[0m\n\u001b[0;32m--> 780\u001b[0;31m         \u001b[0mresult\u001b[0m \u001b[0;34m=\u001b[0m \u001b[0mself\u001b[0m\u001b[0;34m.\u001b[0m\u001b[0m_call\u001b[0m\u001b[0;34m(\u001b[0m\u001b[0;34m*\u001b[0m\u001b[0margs\u001b[0m\u001b[0;34m,\u001b[0m \u001b[0;34m**\u001b[0m\u001b[0mkwds\u001b[0m\u001b[0;34m)\u001b[0m\u001b[0;34m\u001b[0m\u001b[0;34m\u001b[0m\u001b[0m\n\u001b[0m\u001b[1;32m    781\u001b[0m \u001b[0;34m\u001b[0m\u001b[0m\n\u001b[1;32m    782\u001b[0m       \u001b[0mnew_tracing_count\u001b[0m \u001b[0;34m=\u001b[0m \u001b[0mself\u001b[0m\u001b[0;34m.\u001b[0m\u001b[0m_get_tracing_count\u001b[0m\u001b[0;34m(\u001b[0m\u001b[0;34m)\u001b[0m\u001b[0;34m\u001b[0m\u001b[0;34m\u001b[0m\u001b[0m\n",
            "\u001b[0;32m/usr/local/lib/python3.6/dist-packages/tensorflow/python/eager/def_function.py\u001b[0m in \u001b[0;36m_call\u001b[0;34m(self, *args, **kwds)\u001b[0m\n\u001b[1;32m    805\u001b[0m       \u001b[0;31m# In this case we have created variables on the first call, so we run the\u001b[0m\u001b[0;34m\u001b[0m\u001b[0;34m\u001b[0m\u001b[0;34m\u001b[0m\u001b[0m\n\u001b[1;32m    806\u001b[0m       \u001b[0;31m# defunned version which is guaranteed to never create variables.\u001b[0m\u001b[0;34m\u001b[0m\u001b[0;34m\u001b[0m\u001b[0;34m\u001b[0m\u001b[0m\n\u001b[0;32m--> 807\u001b[0;31m       \u001b[0;32mreturn\u001b[0m \u001b[0mself\u001b[0m\u001b[0;34m.\u001b[0m\u001b[0m_stateless_fn\u001b[0m\u001b[0;34m(\u001b[0m\u001b[0;34m*\u001b[0m\u001b[0margs\u001b[0m\u001b[0;34m,\u001b[0m \u001b[0;34m**\u001b[0m\u001b[0mkwds\u001b[0m\u001b[0;34m)\u001b[0m  \u001b[0;31m# pylint: disable=not-callable\u001b[0m\u001b[0;34m\u001b[0m\u001b[0;34m\u001b[0m\u001b[0m\n\u001b[0m\u001b[1;32m    808\u001b[0m     \u001b[0;32melif\u001b[0m \u001b[0mself\u001b[0m\u001b[0;34m.\u001b[0m\u001b[0m_stateful_fn\u001b[0m \u001b[0;32mis\u001b[0m \u001b[0;32mnot\u001b[0m \u001b[0;32mNone\u001b[0m\u001b[0;34m:\u001b[0m\u001b[0;34m\u001b[0m\u001b[0;34m\u001b[0m\u001b[0m\n\u001b[1;32m    809\u001b[0m       \u001b[0;31m# Release the lock early so that multiple threads can perform the call\u001b[0m\u001b[0;34m\u001b[0m\u001b[0;34m\u001b[0m\u001b[0;34m\u001b[0m\u001b[0m\n",
            "\u001b[0;32m/usr/local/lib/python3.6/dist-packages/tensorflow/python/eager/function.py\u001b[0m in \u001b[0;36m__call__\u001b[0;34m(self, *args, **kwargs)\u001b[0m\n\u001b[1;32m   2827\u001b[0m     \u001b[0;32mwith\u001b[0m \u001b[0mself\u001b[0m\u001b[0;34m.\u001b[0m\u001b[0m_lock\u001b[0m\u001b[0;34m:\u001b[0m\u001b[0;34m\u001b[0m\u001b[0;34m\u001b[0m\u001b[0m\n\u001b[1;32m   2828\u001b[0m       \u001b[0mgraph_function\u001b[0m\u001b[0;34m,\u001b[0m \u001b[0margs\u001b[0m\u001b[0;34m,\u001b[0m \u001b[0mkwargs\u001b[0m \u001b[0;34m=\u001b[0m \u001b[0mself\u001b[0m\u001b[0;34m.\u001b[0m\u001b[0m_maybe_define_function\u001b[0m\u001b[0;34m(\u001b[0m\u001b[0margs\u001b[0m\u001b[0;34m,\u001b[0m \u001b[0mkwargs\u001b[0m\u001b[0;34m)\u001b[0m\u001b[0;34m\u001b[0m\u001b[0;34m\u001b[0m\u001b[0m\n\u001b[0;32m-> 2829\u001b[0;31m     \u001b[0;32mreturn\u001b[0m \u001b[0mgraph_function\u001b[0m\u001b[0;34m.\u001b[0m\u001b[0m_filtered_call\u001b[0m\u001b[0;34m(\u001b[0m\u001b[0margs\u001b[0m\u001b[0;34m,\u001b[0m \u001b[0mkwargs\u001b[0m\u001b[0;34m)\u001b[0m  \u001b[0;31m# pylint: disable=protected-access\u001b[0m\u001b[0;34m\u001b[0m\u001b[0;34m\u001b[0m\u001b[0m\n\u001b[0m\u001b[1;32m   2830\u001b[0m \u001b[0;34m\u001b[0m\u001b[0m\n\u001b[1;32m   2831\u001b[0m   \u001b[0;34m@\u001b[0m\u001b[0mproperty\u001b[0m\u001b[0;34m\u001b[0m\u001b[0;34m\u001b[0m\u001b[0m\n",
            "\u001b[0;32m/usr/local/lib/python3.6/dist-packages/tensorflow/python/eager/function.py\u001b[0m in \u001b[0;36m_filtered_call\u001b[0;34m(self, args, kwargs, cancellation_manager)\u001b[0m\n\u001b[1;32m   1846\u001b[0m                            resource_variable_ops.BaseResourceVariable))],\n\u001b[1;32m   1847\u001b[0m         \u001b[0mcaptured_inputs\u001b[0m\u001b[0;34m=\u001b[0m\u001b[0mself\u001b[0m\u001b[0;34m.\u001b[0m\u001b[0mcaptured_inputs\u001b[0m\u001b[0;34m,\u001b[0m\u001b[0;34m\u001b[0m\u001b[0;34m\u001b[0m\u001b[0m\n\u001b[0;32m-> 1848\u001b[0;31m         cancellation_manager=cancellation_manager)\n\u001b[0m\u001b[1;32m   1849\u001b[0m \u001b[0;34m\u001b[0m\u001b[0m\n\u001b[1;32m   1850\u001b[0m   \u001b[0;32mdef\u001b[0m \u001b[0m_call_flat\u001b[0m\u001b[0;34m(\u001b[0m\u001b[0mself\u001b[0m\u001b[0;34m,\u001b[0m \u001b[0margs\u001b[0m\u001b[0;34m,\u001b[0m \u001b[0mcaptured_inputs\u001b[0m\u001b[0;34m,\u001b[0m \u001b[0mcancellation_manager\u001b[0m\u001b[0;34m=\u001b[0m\u001b[0;32mNone\u001b[0m\u001b[0;34m)\u001b[0m\u001b[0;34m:\u001b[0m\u001b[0;34m\u001b[0m\u001b[0;34m\u001b[0m\u001b[0m\n",
            "\u001b[0;32m/usr/local/lib/python3.6/dist-packages/tensorflow/python/eager/function.py\u001b[0m in \u001b[0;36m_call_flat\u001b[0;34m(self, args, captured_inputs, cancellation_manager)\u001b[0m\n\u001b[1;32m   1922\u001b[0m       \u001b[0;31m# No tape is watching; skip to running the function.\u001b[0m\u001b[0;34m\u001b[0m\u001b[0;34m\u001b[0m\u001b[0;34m\u001b[0m\u001b[0m\n\u001b[1;32m   1923\u001b[0m       return self._build_call_outputs(self._inference_function.call(\n\u001b[0;32m-> 1924\u001b[0;31m           ctx, args, cancellation_manager=cancellation_manager))\n\u001b[0m\u001b[1;32m   1925\u001b[0m     forward_backward = self._select_forward_and_backward_functions(\n\u001b[1;32m   1926\u001b[0m         \u001b[0margs\u001b[0m\u001b[0;34m,\u001b[0m\u001b[0;34m\u001b[0m\u001b[0;34m\u001b[0m\u001b[0m\n",
            "\u001b[0;32m/usr/local/lib/python3.6/dist-packages/tensorflow/python/eager/function.py\u001b[0m in \u001b[0;36mcall\u001b[0;34m(self, ctx, args, cancellation_manager)\u001b[0m\n\u001b[1;32m    548\u001b[0m               \u001b[0minputs\u001b[0m\u001b[0;34m=\u001b[0m\u001b[0margs\u001b[0m\u001b[0;34m,\u001b[0m\u001b[0;34m\u001b[0m\u001b[0;34m\u001b[0m\u001b[0m\n\u001b[1;32m    549\u001b[0m               \u001b[0mattrs\u001b[0m\u001b[0;34m=\u001b[0m\u001b[0mattrs\u001b[0m\u001b[0;34m,\u001b[0m\u001b[0;34m\u001b[0m\u001b[0;34m\u001b[0m\u001b[0m\n\u001b[0;32m--> 550\u001b[0;31m               ctx=ctx)\n\u001b[0m\u001b[1;32m    551\u001b[0m         \u001b[0;32melse\u001b[0m\u001b[0;34m:\u001b[0m\u001b[0;34m\u001b[0m\u001b[0;34m\u001b[0m\u001b[0m\n\u001b[1;32m    552\u001b[0m           outputs = execute.execute_with_cancellation(\n",
            "\u001b[0;32m/usr/local/lib/python3.6/dist-packages/tensorflow/python/eager/execute.py\u001b[0m in \u001b[0;36mquick_execute\u001b[0;34m(op_name, num_outputs, inputs, attrs, ctx, name)\u001b[0m\n\u001b[1;32m     58\u001b[0m     \u001b[0mctx\u001b[0m\u001b[0;34m.\u001b[0m\u001b[0mensure_initialized\u001b[0m\u001b[0;34m(\u001b[0m\u001b[0;34m)\u001b[0m\u001b[0;34m\u001b[0m\u001b[0;34m\u001b[0m\u001b[0m\n\u001b[1;32m     59\u001b[0m     tensors = pywrap_tfe.TFE_Py_Execute(ctx._handle, device_name, op_name,\n\u001b[0;32m---> 60\u001b[0;31m                                         inputs, attrs, num_outputs)\n\u001b[0m\u001b[1;32m     61\u001b[0m   \u001b[0;32mexcept\u001b[0m \u001b[0mcore\u001b[0m\u001b[0;34m.\u001b[0m\u001b[0m_NotOkStatusException\u001b[0m \u001b[0;32mas\u001b[0m \u001b[0me\u001b[0m\u001b[0;34m:\u001b[0m\u001b[0;34m\u001b[0m\u001b[0;34m\u001b[0m\u001b[0m\n\u001b[1;32m     62\u001b[0m     \u001b[0;32mif\u001b[0m \u001b[0mname\u001b[0m \u001b[0;32mis\u001b[0m \u001b[0;32mnot\u001b[0m \u001b[0;32mNone\u001b[0m\u001b[0;34m:\u001b[0m\u001b[0;34m\u001b[0m\u001b[0;34m\u001b[0m\u001b[0m\n",
            "\u001b[0;31mKeyboardInterrupt\u001b[0m: "
          ]
        }
      ]
    },
    {
      "cell_type": "code",
      "metadata": {
        "colab_type": "code",
        "id": "1Ug1gIsqEP3Y",
        "colab": {}
      },
      "source": [
        "# Plot the Training and Validation Accuracy & Loss Scores\n",
        "# Enter your code here:\n",
        "%matplotlib inline\n",
        "import matplotlib.pyplot as plt\n",
        "\n",
        "acc = history.history['acc']\n",
        "loss = history.history['loss']\n",
        "\n",
        "epochs = range(1, len(acc) + 1)\n",
        "\n",
        "plt.plot(epochs, acc, 'bo', label='Training acc')\n",
        "plt.title('Training and validation accuracy')\n",
        "plt.legend()\n",
        "\n",
        "plt.figure()\n",
        "\n",
        "plt.plot(epochs, loss, 'bo', label='Training loss')\n",
        "plt.title('Training and validation loss')\n",
        "plt.legend()\n",
        "\n",
        "plt.show()"
      ],
      "execution_count": null,
      "outputs": []
    },
    {
      "cell_type": "code",
      "metadata": {
        "colab_type": "code",
        "id": "hHkbB7l_EP3a",
        "colab": {}
      },
      "source": [
        "# Save the Model\n",
        "model.save(model_path+'chgen_model_5.h5')\n",
        "model.save('chgen_model_5.h5')"
      ],
      "execution_count": null,
      "outputs": []
    },
    {
      "cell_type": "markdown",
      "metadata": {
        "colab_type": "text",
        "id": "S-TPPhFjMsIJ"
      },
      "source": [
        "### Model #5 [GRU]"
      ]
    },
    {
      "cell_type": "code",
      "metadata": {
        "colab_type": "code",
        "id": "l8iuuK9HMsIK",
        "colab": {
          "base_uri": "https://localhost:8080/",
          "height": 289
        },
        "outputId": "5df1784f-4ec8-4173-9a03-3506d0b28c29"
      },
      "source": [
        "# Build the Model\n",
        "# Enter your code here:\n",
        "from tensorflow.keras.models import Sequential\n",
        "from tensorflow.keras import layers\n",
        "from tensorflow.keras.optimizers import RMSprop, Adam\n",
        "\n",
        "model = keras.models.Sequential()\n",
        "model.add(layers.GRU(256, input_shape=(window_size, len(chars)), return_sequences=True)) #multiclass single label classification\n",
        "model.add(layers.GRU(256))\n",
        "model.add(layers.Flatten())\n",
        "model.add(layers.Dense(len(chars), activation='softmax'))\n",
        "model.summary()"
      ],
      "execution_count": null,
      "outputs": [
        {
          "output_type": "stream",
          "text": [
            "Model: \"sequential_11\"\n",
            "_________________________________________________________________\n",
            "Layer (type)                 Output Shape              Param #   \n",
            "=================================================================\n",
            "gru_3 (GRU)                  (None, 100, 256)          225024    \n",
            "_________________________________________________________________\n",
            "gru_4 (GRU)                  (None, 256)               394752    \n",
            "_________________________________________________________________\n",
            "flatten_3 (Flatten)          (None, 256)               0         \n",
            "_________________________________________________________________\n",
            "dense_11 (Dense)             (None, 35)                8995      \n",
            "=================================================================\n",
            "Total params: 628,771\n",
            "Trainable params: 628,771\n",
            "Non-trainable params: 0\n",
            "_________________________________________________________________\n"
          ],
          "name": "stdout"
        }
      ]
    },
    {
      "cell_type": "code",
      "metadata": {
        "colab_type": "code",
        "id": "3D9ZAUIqMsIN",
        "colab": {
          "base_uri": "https://localhost:8080/",
          "height": 1000
        },
        "outputId": "120f0862-d7b3-4b75-bbd9-f328eb99a583"
      },
      "source": [
        "# Train the Model\n",
        "# Enter your code here:\n",
        "model.compile(loss='categorical_crossentropy', optimizer=Adam(lr=1e-4), metrics=['acc'])\n",
        "\n",
        "history = model.fit(X, y,\n",
        "                    epochs=100,\n",
        "                    batch_size=128) "
      ],
      "execution_count": null,
      "outputs": [
        {
          "output_type": "stream",
          "text": [
            "Epoch 1/100\n",
            "WARNING:tensorflow:Model was constructed with shape (None, 100, 35) for input Tensor(\"gru_3_input:0\", shape=(None, 100, 35), dtype=float32), but it was called on an input with incompatible shape (None, 5, 35).\n",
            "WARNING:tensorflow:Model was constructed with shape (None, 100, 35) for input Tensor(\"gru_3_input:0\", shape=(None, 100, 35), dtype=float32), but it was called on an input with incompatible shape (None, 5, 35).\n",
            "1/1 [==============================] - 0s 2ms/step - loss: 3.5508 - acc: 0.0960\n",
            "Epoch 2/100\n",
            "1/1 [==============================] - 0s 2ms/step - loss: 3.5472 - acc: 0.1120\n",
            "Epoch 3/100\n",
            "1/1 [==============================] - 0s 2ms/step - loss: 3.5436 - acc: 0.1280\n",
            "Epoch 4/100\n",
            "1/1 [==============================] - 0s 1ms/step - loss: 3.5400 - acc: 0.1680\n",
            "Epoch 5/100\n",
            "1/1 [==============================] - 0s 2ms/step - loss: 3.5364 - acc: 0.1680\n",
            "Epoch 6/100\n",
            "1/1 [==============================] - 0s 2ms/step - loss: 3.5328 - acc: 0.1840\n",
            "Epoch 7/100\n",
            "1/1 [==============================] - 0s 2ms/step - loss: 3.5291 - acc: 0.2000\n",
            "Epoch 8/100\n",
            "1/1 [==============================] - 0s 1ms/step - loss: 3.5255 - acc: 0.1920\n",
            "Epoch 9/100\n",
            "1/1 [==============================] - 0s 2ms/step - loss: 3.5218 - acc: 0.1840\n",
            "Epoch 10/100\n",
            "1/1 [==============================] - 0s 2ms/step - loss: 3.5180 - acc: 0.1840\n",
            "Epoch 11/100\n",
            "1/1 [==============================] - 0s 2ms/step - loss: 3.5142 - acc: 0.1840\n",
            "Epoch 12/100\n",
            "1/1 [==============================] - 0s 2ms/step - loss: 3.5104 - acc: 0.1920\n",
            "Epoch 13/100\n",
            "1/1 [==============================] - 0s 1ms/step - loss: 3.5064 - acc: 0.1840\n",
            "Epoch 14/100\n",
            "1/1 [==============================] - 0s 2ms/step - loss: 3.5025 - acc: 0.1840\n",
            "Epoch 15/100\n",
            "1/1 [==============================] - 0s 2ms/step - loss: 3.4984 - acc: 0.1840\n",
            "Epoch 16/100\n",
            "1/1 [==============================] - 0s 1ms/step - loss: 3.4943 - acc: 0.1840\n",
            "Epoch 17/100\n",
            "1/1 [==============================] - 0s 2ms/step - loss: 3.4901 - acc: 0.1840\n",
            "Epoch 18/100\n",
            "1/1 [==============================] - 0s 2ms/step - loss: 3.4857 - acc: 0.1840\n",
            "Epoch 19/100\n",
            "1/1 [==============================] - 0s 2ms/step - loss: 3.4813 - acc: 0.1840\n",
            "Epoch 20/100\n",
            "1/1 [==============================] - 0s 1ms/step - loss: 3.4767 - acc: 0.1920\n",
            "Epoch 21/100\n",
            "1/1 [==============================] - 0s 1ms/step - loss: 3.4721 - acc: 0.1920\n",
            "Epoch 22/100\n",
            "1/1 [==============================] - 0s 1ms/step - loss: 3.4672 - acc: 0.1920\n",
            "Epoch 23/100\n",
            "1/1 [==============================] - 0s 2ms/step - loss: 3.4623 - acc: 0.1840\n",
            "Epoch 24/100\n",
            "1/1 [==============================] - 0s 1ms/step - loss: 3.4571 - acc: 0.1840\n",
            "Epoch 25/100\n",
            "1/1 [==============================] - 0s 6ms/step - loss: 3.4518 - acc: 0.1760\n",
            "Epoch 26/100\n",
            "1/1 [==============================] - 0s 3ms/step - loss: 3.4463 - acc: 0.1760\n",
            "Epoch 27/100\n",
            "1/1 [==============================] - 0s 3ms/step - loss: 3.4406 - acc: 0.1760\n",
            "Epoch 28/100\n",
            "1/1 [==============================] - 0s 2ms/step - loss: 3.4347 - acc: 0.1760\n",
            "Epoch 29/100\n",
            "1/1 [==============================] - 0s 3ms/step - loss: 3.4286 - acc: 0.1760\n",
            "Epoch 30/100\n",
            "1/1 [==============================] - 0s 1ms/step - loss: 3.4222 - acc: 0.1760\n",
            "Epoch 31/100\n",
            "1/1 [==============================] - 0s 1ms/step - loss: 3.4156 - acc: 0.1760\n",
            "Epoch 32/100\n",
            "1/1 [==============================] - 0s 2ms/step - loss: 3.4087 - acc: 0.1760\n",
            "Epoch 33/100\n",
            "1/1 [==============================] - 0s 2ms/step - loss: 3.4015 - acc: 0.1760\n",
            "Epoch 34/100\n",
            "1/1 [==============================] - 0s 3ms/step - loss: 3.3940 - acc: 0.1760\n",
            "Epoch 35/100\n",
            "1/1 [==============================] - 0s 1ms/step - loss: 3.3862 - acc: 0.1760\n",
            "Epoch 36/100\n",
            "1/1 [==============================] - 0s 1ms/step - loss: 3.3780 - acc: 0.1760\n",
            "Epoch 37/100\n",
            "1/1 [==============================] - 0s 1ms/step - loss: 3.3694 - acc: 0.1760\n",
            "Epoch 38/100\n",
            "1/1 [==============================] - 0s 2ms/step - loss: 3.3605 - acc: 0.1760\n",
            "Epoch 39/100\n",
            "1/1 [==============================] - 0s 1ms/step - loss: 3.3511 - acc: 0.1760\n",
            "Epoch 40/100\n",
            "1/1 [==============================] - 0s 2ms/step - loss: 3.3413 - acc: 0.1760\n",
            "Epoch 41/100\n",
            "1/1 [==============================] - 0s 2ms/step - loss: 3.3311 - acc: 0.1760\n",
            "Epoch 42/100\n",
            "1/1 [==============================] - 0s 2ms/step - loss: 3.3203 - acc: 0.1760\n",
            "Epoch 43/100\n",
            "1/1 [==============================] - 0s 2ms/step - loss: 3.3091 - acc: 0.1760\n",
            "Epoch 44/100\n",
            "1/1 [==============================] - 0s 1ms/step - loss: 3.2974 - acc: 0.1760\n",
            "Epoch 45/100\n",
            "1/1 [==============================] - 0s 2ms/step - loss: 3.2852 - acc: 0.1760\n",
            "Epoch 46/100\n",
            "1/1 [==============================] - 0s 2ms/step - loss: 3.2724 - acc: 0.1760\n",
            "Epoch 47/100\n",
            "1/1 [==============================] - 0s 2ms/step - loss: 3.2591 - acc: 0.1760\n",
            "Epoch 48/100\n",
            "1/1 [==============================] - 0s 2ms/step - loss: 3.2452 - acc: 0.1760\n",
            "Epoch 49/100\n",
            "1/1 [==============================] - 0s 3ms/step - loss: 3.2308 - acc: 0.1760\n",
            "Epoch 50/100\n",
            "1/1 [==============================] - 0s 2ms/step - loss: 3.2159 - acc: 0.1760\n",
            "Epoch 51/100\n",
            "1/1 [==============================] - 0s 1ms/step - loss: 3.2005 - acc: 0.1760\n",
            "Epoch 52/100\n",
            "1/1 [==============================] - 0s 1ms/step - loss: 3.1846 - acc: 0.1760\n",
            "Epoch 53/100\n",
            "1/1 [==============================] - 0s 2ms/step - loss: 3.1683 - acc: 0.1760\n",
            "Epoch 54/100\n",
            "1/1 [==============================] - 0s 1ms/step - loss: 3.1517 - acc: 0.1760\n",
            "Epoch 55/100\n",
            "1/1 [==============================] - 0s 2ms/step - loss: 3.1348 - acc: 0.1760\n",
            "Epoch 56/100\n",
            "1/1 [==============================] - 0s 1ms/step - loss: 3.1179 - acc: 0.1760\n",
            "Epoch 57/100\n",
            "1/1 [==============================] - 0s 2ms/step - loss: 3.1010 - acc: 0.1760\n",
            "Epoch 58/100\n",
            "1/1 [==============================] - 0s 1ms/step - loss: 3.0843 - acc: 0.1760\n",
            "Epoch 59/100\n",
            "1/1 [==============================] - 0s 2ms/step - loss: 3.0682 - acc: 0.1760\n",
            "Epoch 60/100\n",
            "1/1 [==============================] - 0s 2ms/step - loss: 3.0528 - acc: 0.1760\n",
            "Epoch 61/100\n",
            "1/1 [==============================] - 0s 2ms/step - loss: 3.0384 - acc: 0.1760\n",
            "Epoch 62/100\n",
            "1/1 [==============================] - 0s 3ms/step - loss: 3.0252 - acc: 0.1760\n",
            "Epoch 63/100\n",
            "1/1 [==============================] - 0s 2ms/step - loss: 3.0136 - acc: 0.1760\n",
            "Epoch 64/100\n",
            "1/1 [==============================] - 0s 2ms/step - loss: 3.0035 - acc: 0.1760\n",
            "Epoch 65/100\n",
            "1/1 [==============================] - 0s 3ms/step - loss: 2.9950 - acc: 0.1760\n",
            "Epoch 66/100\n",
            "1/1 [==============================] - 0s 1ms/step - loss: 2.9879 - acc: 0.1760\n",
            "Epoch 67/100\n",
            "1/1 [==============================] - 0s 2ms/step - loss: 2.9818 - acc: 0.1760\n",
            "Epoch 68/100\n",
            "1/1 [==============================] - 0s 2ms/step - loss: 2.9762 - acc: 0.1760\n",
            "Epoch 69/100\n",
            "1/1 [==============================] - 0s 2ms/step - loss: 2.9707 - acc: 0.1760\n",
            "Epoch 70/100\n",
            "1/1 [==============================] - 0s 2ms/step - loss: 2.9650 - acc: 0.1760\n",
            "Epoch 71/100\n",
            "1/1 [==============================] - 0s 7ms/step - loss: 2.9587 - acc: 0.1760\n",
            "Epoch 72/100\n",
            "1/1 [==============================] - 0s 4ms/step - loss: 2.9520 - acc: 0.1760\n",
            "Epoch 73/100\n",
            "1/1 [==============================] - 0s 2ms/step - loss: 2.9450 - acc: 0.1760\n",
            "Epoch 74/100\n",
            "1/1 [==============================] - 0s 1ms/step - loss: 2.9379 - acc: 0.1760\n",
            "Epoch 75/100\n",
            "1/1 [==============================] - 0s 3ms/step - loss: 2.9308 - acc: 0.1760\n",
            "Epoch 76/100\n",
            "1/1 [==============================] - 0s 2ms/step - loss: 2.9241 - acc: 0.1760\n",
            "Epoch 77/100\n",
            "1/1 [==============================] - 0s 2ms/step - loss: 2.9179 - acc: 0.1760\n",
            "Epoch 78/100\n",
            "1/1 [==============================] - 0s 1ms/step - loss: 2.9122 - acc: 0.1760\n",
            "Epoch 79/100\n",
            "1/1 [==============================] - 0s 2ms/step - loss: 2.9070 - acc: 0.1760\n",
            "Epoch 80/100\n",
            "1/1 [==============================] - 0s 2ms/step - loss: 2.9023 - acc: 0.1760\n",
            "Epoch 81/100\n",
            "1/1 [==============================] - 0s 2ms/step - loss: 2.8980 - acc: 0.1760\n",
            "Epoch 82/100\n",
            "1/1 [==============================] - 0s 2ms/step - loss: 2.8940 - acc: 0.1760\n",
            "Epoch 83/100\n",
            "1/1 [==============================] - 0s 2ms/step - loss: 2.8902 - acc: 0.1760\n",
            "Epoch 84/100\n",
            "1/1 [==============================] - 0s 1ms/step - loss: 2.8865 - acc: 0.1760\n",
            "Epoch 85/100\n",
            "1/1 [==============================] - 0s 2ms/step - loss: 2.8828 - acc: 0.1760\n",
            "Epoch 86/100\n",
            "1/1 [==============================] - 0s 2ms/step - loss: 2.8790 - acc: 0.1760\n",
            "Epoch 87/100\n",
            "1/1 [==============================] - 0s 1ms/step - loss: 2.8752 - acc: 0.1760\n",
            "Epoch 88/100\n",
            "1/1 [==============================] - 0s 1ms/step - loss: 2.8713 - acc: 0.1760\n",
            "Epoch 89/100\n",
            "1/1 [==============================] - 0s 3ms/step - loss: 2.8672 - acc: 0.1760\n",
            "Epoch 90/100\n",
            "1/1 [==============================] - 0s 2ms/step - loss: 2.8632 - acc: 0.1760\n",
            "Epoch 91/100\n",
            "1/1 [==============================] - 0s 2ms/step - loss: 2.8590 - acc: 0.1760\n",
            "Epoch 92/100\n",
            "1/1 [==============================] - 0s 2ms/step - loss: 2.8549 - acc: 0.1760\n",
            "Epoch 93/100\n",
            "1/1 [==============================] - 0s 2ms/step - loss: 2.8508 - acc: 0.1760\n",
            "Epoch 94/100\n",
            "1/1 [==============================] - 0s 2ms/step - loss: 2.8467 - acc: 0.1760\n",
            "Epoch 95/100\n",
            "1/1 [==============================] - 0s 1ms/step - loss: 2.8427 - acc: 0.1760\n",
            "Epoch 96/100\n",
            "1/1 [==============================] - 0s 1ms/step - loss: 2.8388 - acc: 0.1760\n",
            "Epoch 97/100\n",
            "1/1 [==============================] - 0s 1ms/step - loss: 2.8350 - acc: 0.1760\n",
            "Epoch 98/100\n",
            "1/1 [==============================] - 0s 2ms/step - loss: 2.8313 - acc: 0.1760\n",
            "Epoch 99/100\n",
            "1/1 [==============================] - 0s 1ms/step - loss: 2.8277 - acc: 0.1760\n",
            "Epoch 100/100\n",
            "1/1 [==============================] - 0s 1ms/step - loss: 2.8241 - acc: 0.1760\n"
          ],
          "name": "stdout"
        }
      ]
    },
    {
      "cell_type": "code",
      "metadata": {
        "colab_type": "code",
        "id": "xj2lWAlHMsIP",
        "colab": {
          "base_uri": "https://localhost:8080/",
          "height": 545
        },
        "outputId": "0ab9c057-19cd-4f48-b6c3-d428eb61a2e7"
      },
      "source": [
        "# Plot the Training and Validation Accuracy & Loss Scores\n",
        "# Enter your code here:\n",
        "%matplotlib inline\n",
        "import matplotlib.pyplot as plt\n",
        "\n",
        "acc = history.history['acc']\n",
        "loss = history.history['loss']\n",
        "\n",
        "epochs = range(1, len(acc) + 1)\n",
        "\n",
        "plt.plot(epochs, acc, 'bo', label='Training acc')\n",
        "plt.title('Training and validation accuracy')\n",
        "plt.legend()\n",
        "\n",
        "plt.figure()\n",
        "\n",
        "plt.plot(epochs, loss, 'bo', label='Training loss')\n",
        "plt.title('Training and validation loss')\n",
        "plt.legend()\n",
        "\n",
        "plt.show()"
      ],
      "execution_count": null,
      "outputs": [
        {
          "output_type": "display_data",
          "data": {
            "image/png": "[encoded data removed]",
            "text/plain": [
              "<Figure size 432x288 with 1 Axes>"
            ]
          },
          "metadata": {
            "tags": [],
            "needs_background": "light"
          }
        },
        {
          "output_type": "display_data",
          "data": {
            "image/png": "[encoded data removed]",
            "text/plain": [
              "<Figure size 432x288 with 1 Axes>"
            ]
          },
          "metadata": {
            "tags": [],
            "needs_background": "light"
          }
        }
      ]
    },
    {
      "cell_type": "code",
      "metadata": {
        "colab_type": "code",
        "id": "oXHASm-8MsIR",
        "colab": {}
      },
      "source": [
        "# Save the Model\n",
        "model.save(model_path+'chgen_model_5.h5')\n",
        "model.save('chgen_model_5.h5')"
      ],
      "execution_count": null,
      "outputs": []
    },
    {
      "cell_type": "markdown",
      "metadata": {
        "colab_type": "text",
        "id": "Wu2dmE5d2z-b"
      },
      "source": [
        "### Model #5_1 [GRU] (50e)"
      ]
    },
    {
      "cell_type": "code",
      "metadata": {
        "colab_type": "code",
        "id": "6nParBkv2z-d",
        "colab": {
          "base_uri": "https://localhost:8080/",
          "height": 255
        },
        "outputId": "8f22b075-9fa3-4a6c-c6eb-ab7025126a5e"
      },
      "source": [
        "# Build the Model\n",
        "# Enter your code here:\n",
        "from tensorflow.keras.models import Sequential\n",
        "from tensorflow.keras import layers\n",
        "from tensorflow.keras.optimizers import RMSprop, Adam\n",
        "\n",
        "model = keras.models.Sequential()\n",
        "model.add(layers.GRU(256, input_shape=(window_size, len(chars)), return_sequences=True)) #multiclass single label classification\n",
        "model.add(layers.GRU(256))\n",
        "model.add(layers.Flatten())\n",
        "model.add(layers.Dense(len(chars), activation='softmax'))\n",
        "model.summary()"
      ],
      "execution_count": null,
      "outputs": [
        {
          "output_type": "stream",
          "text": [
            "Model: \"sequential_12\"\n",
            "_________________________________________________________________\n",
            "Layer (type)                 Output Shape              Param #   \n",
            "=================================================================\n",
            "gru_5 (GRU)                  (None, 256)               225024    \n",
            "_________________________________________________________________\n",
            "flatten_4 (Flatten)          (None, 256)               0         \n",
            "_________________________________________________________________\n",
            "dense_12 (Dense)             (None, 35)                8995      \n",
            "=================================================================\n",
            "Total params: 234,019\n",
            "Trainable params: 234,019\n",
            "Non-trainable params: 0\n",
            "_________________________________________________________________\n"
          ],
          "name": "stdout"
        }
      ]
    },
    {
      "cell_type": "code",
      "metadata": {
        "colab_type": "code",
        "id": "m15hDBVE2z-f",
        "colab": {
          "base_uri": "https://localhost:8080/",
          "height": 1000
        },
        "outputId": "8d847c9a-a1e1-4351-f075-956def8c21d5"
      },
      "source": [
        "# Train the Model\n",
        "# Enter your code here:\n",
        "model.compile(loss='categorical_crossentropy', optimizer=Adam(lr=1e-4), metrics=['acc'])\n",
        "\n",
        "history = model.fit(X, y,\n",
        "                    epochs=50,\n",
        "                    batch_size=128) "
      ],
      "execution_count": null,
      "outputs": [
        {
          "output_type": "stream",
          "text": [
            "Epoch 1/50\n",
            "WARNING:tensorflow:Model was constructed with shape (None, 100, 35) for input Tensor(\"gru_5_input:0\", shape=(None, 100, 35), dtype=float32), but it was called on an input with incompatible shape (None, 5, 35).\n",
            "WARNING:tensorflow:Model was constructed with shape (None, 100, 35) for input Tensor(\"gru_5_input:0\", shape=(None, 100, 35), dtype=float32), but it was called on an input with incompatible shape (None, 5, 35).\n",
            "1/1 [==============================] - 0s 2ms/step - loss: 3.5510 - acc: 0.0480\n",
            "Epoch 2/50\n",
            "1/1 [==============================] - 0s 2ms/step - loss: 3.5488 - acc: 0.0480\n",
            "Epoch 3/50\n",
            "1/1 [==============================] - 0s 1ms/step - loss: 3.5466 - acc: 0.0480\n",
            "Epoch 4/50\n",
            "1/1 [==============================] - 0s 2ms/step - loss: 3.5444 - acc: 0.0560\n",
            "Epoch 5/50\n",
            "1/1 [==============================] - 0s 1ms/step - loss: 3.5421 - acc: 0.0640\n",
            "Epoch 6/50\n",
            "1/1 [==============================] - 0s 1ms/step - loss: 3.5399 - acc: 0.0640\n",
            "Epoch 7/50\n",
            "1/1 [==============================] - 0s 2ms/step - loss: 3.5377 - acc: 0.0800\n",
            "Epoch 8/50\n",
            "1/1 [==============================] - 0s 4ms/step - loss: 3.5355 - acc: 0.0720\n",
            "Epoch 9/50\n",
            "1/1 [==============================] - 0s 2ms/step - loss: 3.5332 - acc: 0.0720\n",
            "Epoch 10/50\n",
            "1/1 [==============================] - 0s 3ms/step - loss: 3.5310 - acc: 0.0720\n",
            "Epoch 11/50\n",
            "1/1 [==============================] - 0s 1ms/step - loss: 3.5287 - acc: 0.0720\n",
            "Epoch 12/50\n",
            "1/1 [==============================] - 0s 1ms/step - loss: 3.5265 - acc: 0.0720\n",
            "Epoch 13/50\n",
            "1/1 [==============================] - 0s 1ms/step - loss: 3.5242 - acc: 0.0880\n",
            "Epoch 14/50\n",
            "1/1 [==============================] - 0s 1ms/step - loss: 3.5219 - acc: 0.0960\n",
            "Epoch 15/50\n",
            "1/1 [==============================] - 0s 3ms/step - loss: 3.5197 - acc: 0.1040\n",
            "Epoch 16/50\n",
            "1/1 [==============================] - 0s 2ms/step - loss: 3.5174 - acc: 0.1040\n",
            "Epoch 17/50\n",
            "1/1 [==============================] - 0s 1ms/step - loss: 3.5151 - acc: 0.1440\n",
            "Epoch 18/50\n",
            "1/1 [==============================] - 0s 1ms/step - loss: 3.5128 - acc: 0.1440\n",
            "Epoch 19/50\n",
            "1/1 [==============================] - 0s 1ms/step - loss: 3.5104 - acc: 0.1520\n",
            "Epoch 20/50\n",
            "1/1 [==============================] - 0s 1ms/step - loss: 3.5081 - acc: 0.1520\n",
            "Epoch 21/50\n",
            "1/1 [==============================] - 0s 1ms/step - loss: 3.5058 - acc: 0.1520\n",
            "Epoch 22/50\n",
            "1/1 [==============================] - 0s 1ms/step - loss: 3.5034 - acc: 0.1520\n",
            "Epoch 23/50\n",
            "1/1 [==============================] - 0s 1ms/step - loss: 3.5010 - acc: 0.1600\n",
            "Epoch 24/50\n",
            "1/1 [==============================] - 0s 2ms/step - loss: 3.4986 - acc: 0.1760\n",
            "Epoch 25/50\n",
            "1/1 [==============================] - 0s 3ms/step - loss: 3.4962 - acc: 0.1760\n",
            "Epoch 26/50\n",
            "1/1 [==============================] - 0s 1ms/step - loss: 3.4937 - acc: 0.1760\n",
            "Epoch 27/50\n",
            "1/1 [==============================] - 0s 2ms/step - loss: 3.4913 - acc: 0.1760\n",
            "Epoch 28/50\n",
            "1/1 [==============================] - 0s 2ms/step - loss: 3.4888 - acc: 0.1760\n",
            "Epoch 29/50\n",
            "1/1 [==============================] - 0s 3ms/step - loss: 3.4863 - acc: 0.2000\n",
            "Epoch 30/50\n",
            "1/1 [==============================] - 0s 2ms/step - loss: 3.4837 - acc: 0.2000\n",
            "Epoch 31/50\n",
            "1/1 [==============================] - 0s 2ms/step - loss: 3.4812 - acc: 0.2080\n",
            "Epoch 32/50\n",
            "1/1 [==============================] - 0s 2ms/step - loss: 3.4786 - acc: 0.2080\n",
            "Epoch 33/50\n",
            "1/1 [==============================] - 0s 2ms/step - loss: 3.4760 - acc: 0.2240\n",
            "Epoch 34/50\n",
            "1/1 [==============================] - 0s 2ms/step - loss: 3.4733 - acc: 0.2240\n",
            "Epoch 35/50\n",
            "1/1 [==============================] - 0s 5ms/step - loss: 3.4706 - acc: 0.2320\n",
            "Epoch 36/50\n",
            "1/1 [==============================] - 0s 2ms/step - loss: 3.4679 - acc: 0.2240\n",
            "Epoch 37/50\n",
            "1/1 [==============================] - 0s 2ms/step - loss: 3.4651 - acc: 0.2240\n",
            "Epoch 38/50\n",
            "1/1 [==============================] - 0s 3ms/step - loss: 3.4623 - acc: 0.2400\n",
            "Epoch 39/50\n",
            "1/1 [==============================] - 0s 2ms/step - loss: 3.4594 - acc: 0.2560\n",
            "Epoch 40/50\n",
            "1/1 [==============================] - 0s 1ms/step - loss: 3.4565 - acc: 0.2560\n",
            "Epoch 41/50\n",
            "1/1 [==============================] - 0s 1ms/step - loss: 3.4536 - acc: 0.2480\n",
            "Epoch 42/50\n",
            "1/1 [==============================] - 0s 1ms/step - loss: 3.4506 - acc: 0.2560\n",
            "Epoch 43/50\n",
            "1/1 [==============================] - 0s 1ms/step - loss: 3.4476 - acc: 0.2560\n",
            "Epoch 44/50\n",
            "1/1 [==============================] - 0s 2ms/step - loss: 3.4445 - acc: 0.2560\n",
            "Epoch 45/50\n",
            "1/1 [==============================] - 0s 2ms/step - loss: 3.4413 - acc: 0.2480\n",
            "Epoch 46/50\n",
            "1/1 [==============================] - 0s 2ms/step - loss: 3.4381 - acc: 0.2400\n",
            "Epoch 47/50\n",
            "1/1 [==============================] - 0s 2ms/step - loss: 3.4348 - acc: 0.2240\n",
            "Epoch 48/50\n",
            "1/1 [==============================] - 0s 2ms/step - loss: 3.4314 - acc: 0.2320\n",
            "Epoch 49/50\n",
            "1/1 [==============================] - 0s 8ms/step - loss: 3.4280 - acc: 0.2240\n",
            "Epoch 50/50\n",
            "1/1 [==============================] - 0s 1ms/step - loss: 3.4245 - acc: 0.2240\n"
          ],
          "name": "stdout"
        }
      ]
    },
    {
      "cell_type": "code",
      "metadata": {
        "colab_type": "code",
        "id": "rlf-ZGO32z-h",
        "colab": {
          "base_uri": "https://localhost:8080/",
          "height": 545
        },
        "outputId": "71856077-bbfb-4141-d76b-c9f9a3f8cc4a"
      },
      "source": [
        "# Plot the Training and Validation Accuracy & Loss Scores\n",
        "# Enter your code here:\n",
        "%matplotlib inline\n",
        "import matplotlib.pyplot as plt\n",
        "\n",
        "acc = history.history['acc']\n",
        "loss = history.history['loss']\n",
        "\n",
        "epochs = range(1, len(acc) + 1)\n",
        "\n",
        "plt.plot(epochs, acc, 'bo', label='Training acc')\n",
        "plt.title('Training and validation accuracy')\n",
        "plt.legend()\n",
        "\n",
        "plt.figure()\n",
        "\n",
        "plt.plot(epochs, loss, 'bo', label='Training loss')\n",
        "plt.title('Training and validation loss')\n",
        "plt.legend()\n",
        "\n",
        "plt.show()"
      ],
      "execution_count": null,
      "outputs": [
        {
          "output_type": "display_data",
          "data": {
            "image/png": "[encoded data removed]",
            "text/plain": [
              "<Figure size 432x288 with 1 Axes>"
            ]
          },
          "metadata": {
            "tags": [],
            "needs_background": "light"
          }
        },
        {
          "output_type": "display_data",
          "data": {
            "image/png": "[encoded data removed]",
            "text/plain": [
              "<Figure size 432x288 with 1 Axes>"
            ]
          },
          "metadata": {
            "tags": [],
            "needs_background": "light"
          }
        }
      ]
    },
    {
      "cell_type": "code",
      "metadata": {
        "colab_type": "code",
        "id": "4AYax6LG2z-j",
        "colab": {}
      },
      "source": [
        "# Save the Model\n",
        "model.save(model_path+'chgen_model_5_1.h5')\n",
        "model.save('chgen_model_5_1.h5')"
      ],
      "execution_count": null,
      "outputs": []
    },
    {
      "cell_type": "markdown",
      "metadata": {
        "colab_type": "text",
        "id": "GMEeJqg-cok4"
      },
      "source": [
        "### Model #5_2 [GRU] "
      ]
    },
    {
      "cell_type": "code",
      "metadata": {
        "colab_type": "code",
        "id": "mr4LCAHhcok5",
        "colab": {
          "base_uri": "https://localhost:8080/",
          "height": 289
        },
        "outputId": "97612ed8-aad7-4e05-99f8-ae9f20dcf06d"
      },
      "source": [
        "# Build the Model\n",
        "# Enter your code here:\n",
        "from tensorflow.keras.models import Sequential\n",
        "from tensorflow.keras import layers\n",
        "from tensorflow.keras.optimizers import RMSprop, Adam\n",
        "\n",
        "model = keras.models.Sequential()\n",
        "model.add(layers.GRU(1024, input_shape=(window_size, len(chars)), return_sequences=True)) #multiclass single label classification\n",
        "model.add(layers.GRU(1024))\n",
        "model.add(layers.Flatten())\n",
        "model.add(layers.Dense(len(chars), activation='softmax'))\n",
        "model.summary()"
      ],
      "execution_count": null,
      "outputs": [
        {
          "output_type": "stream",
          "text": [
            "Model: \"sequential_14\"\n",
            "_________________________________________________________________\n",
            "Layer (type)                 Output Shape              Param #   \n",
            "=================================================================\n",
            "gru_8 (GRU)                  (None, 100, 1024)         3259392   \n",
            "_________________________________________________________________\n",
            "gru_9 (GRU)                  (None, 1024)              6297600   \n",
            "_________________________________________________________________\n",
            "flatten_6 (Flatten)          (None, 1024)              0         \n",
            "_________________________________________________________________\n",
            "dense_14 (Dense)             (None, 35)                35875     \n",
            "=================================================================\n",
            "Total params: 9,592,867\n",
            "Trainable params: 9,592,867\n",
            "Non-trainable params: 0\n",
            "_________________________________________________________________\n"
          ],
          "name": "stdout"
        }
      ]
    },
    {
      "cell_type": "code",
      "metadata": {
        "colab_type": "code",
        "id": "kRalj6MCcok8",
        "colab": {
          "base_uri": "https://localhost:8080/",
          "height": 1000
        },
        "outputId": "771f4d60-8dbb-4944-d087-34734755a3a4"
      },
      "source": [
        "# Train the Model\n",
        "# Enter your code here:\n",
        "model.compile(loss='categorical_crossentropy', optimizer=Adam(lr=2e-5), metrics=['acc'])\n",
        "\n",
        "history = model.fit(X, y,\n",
        "                    epochs=500,\n",
        "                    batch_size=128) "
      ],
      "execution_count": null,
      "outputs": [
        {
          "output_type": "stream",
          "text": [
            "Epoch 1/500\n",
            "WARNING:tensorflow:Model was constructed with shape (None, 100, 35) for input Tensor(\"gru_8_input:0\", shape=(None, 100, 35), dtype=float32), but it was called on an input with incompatible shape (None, 5, 35).\n",
            "WARNING:tensorflow:Model was constructed with shape (None, 100, 35) for input Tensor(\"gru_8_input:0\", shape=(None, 100, 35), dtype=float32), but it was called on an input with incompatible shape (None, 5, 35).\n",
            "1/1 [==============================] - 0s 6ms/step - loss: 3.4053 - acc: 0.1760\n",
            "Epoch 2/500\n",
            "1/1 [==============================] - 0s 11ms/step - loss: 3.4013 - acc: 0.1760\n",
            "Epoch 3/500\n",
            "1/1 [==============================] - 0s 12ms/step - loss: 3.3973 - acc: 0.1760\n",
            "Epoch 4/500\n",
            "1/1 [==============================] - 0s 12ms/step - loss: 3.3931 - acc: 0.1760\n",
            "Epoch 5/500\n",
            "1/1 [==============================] - 0s 12ms/step - loss: 3.3888 - acc: 0.1760\n",
            "Epoch 6/500\n",
            "1/1 [==============================] - 0s 12ms/step - loss: 3.3845 - acc: 0.1760\n",
            "Epoch 7/500\n",
            "1/1 [==============================] - 0s 15ms/step - loss: 3.3800 - acc: 0.1760\n",
            "Epoch 8/500\n",
            "1/1 [==============================] - 0s 12ms/step - loss: 3.3755 - acc: 0.1760\n",
            "Epoch 9/500\n",
            "1/1 [==============================] - 0s 12ms/step - loss: 3.3708 - acc: 0.1760\n",
            "Epoch 10/500\n",
            "1/1 [==============================] - 0s 8ms/step - loss: 3.3661 - acc: 0.1760\n",
            "Epoch 11/500\n",
            "1/1 [==============================] - 0s 8ms/step - loss: 3.3612 - acc: 0.1760\n",
            "Epoch 12/500\n",
            "1/1 [==============================] - 0s 9ms/step - loss: 3.3563 - acc: 0.1760\n",
            "Epoch 13/500\n",
            "1/1 [==============================] - 0s 8ms/step - loss: 3.3513 - acc: 0.1760\n",
            "Epoch 14/500\n",
            "1/1 [==============================] - 0s 8ms/step - loss: 3.3461 - acc: 0.1760\n",
            "Epoch 15/500\n",
            "1/1 [==============================] - 0s 8ms/step - loss: 3.3408 - acc: 0.1760\n",
            "Epoch 16/500\n",
            "1/1 [==============================] - 0s 8ms/step - loss: 3.3354 - acc: 0.1760\n",
            "Epoch 17/500\n",
            "1/1 [==============================] - 0s 8ms/step - loss: 3.3299 - acc: 0.1760\n",
            "Epoch 18/500\n",
            "1/1 [==============================] - 0s 8ms/step - loss: 3.3243 - acc: 0.1760\n",
            "Epoch 19/500\n",
            "1/1 [==============================] - 0s 8ms/step - loss: 3.3185 - acc: 0.1760\n",
            "Epoch 20/500\n",
            "1/1 [==============================] - 0s 7ms/step - loss: 3.3126 - acc: 0.1760\n",
            "Epoch 21/500\n",
            "1/1 [==============================] - 0s 8ms/step - loss: 3.3066 - acc: 0.1760\n",
            "Epoch 22/500\n",
            "1/1 [==============================] - 0s 8ms/step - loss: 3.3004 - acc: 0.1760\n",
            "Epoch 23/500\n",
            "1/1 [==============================] - 0s 8ms/step - loss: 3.2941 - acc: 0.1760\n",
            "Epoch 24/500\n",
            "1/1 [==============================] - 0s 7ms/step - loss: 3.2876 - acc: 0.1760\n",
            "Epoch 25/500\n",
            "1/1 [==============================] - 0s 7ms/step - loss: 3.2810 - acc: 0.1760\n",
            "Epoch 26/500\n",
            "1/1 [==============================] - 0s 7ms/step - loss: 3.2742 - acc: 0.1760\n",
            "Epoch 27/500\n",
            "1/1 [==============================] - 0s 6ms/step - loss: 3.2673 - acc: 0.1760\n",
            "Epoch 28/500\n",
            "1/1 [==============================] - 0s 7ms/step - loss: 3.2602 - acc: 0.1760\n",
            "Epoch 29/500\n",
            "1/1 [==============================] - 0s 7ms/step - loss: 3.2530 - acc: 0.1760\n",
            "Epoch 30/500\n",
            "1/1 [==============================] - 0s 6ms/step - loss: 3.2456 - acc: 0.1760\n",
            "Epoch 31/500\n",
            "1/1 [==============================] - 0s 6ms/step - loss: 3.2381 - acc: 0.1760\n",
            "Epoch 32/500\n",
            "1/1 [==============================] - 0s 6ms/step - loss: 3.2304 - acc: 0.1760\n",
            "Epoch 33/500\n",
            "1/1 [==============================] - 0s 7ms/step - loss: 3.2226 - acc: 0.1760\n",
            "Epoch 34/500\n",
            "1/1 [==============================] - 0s 6ms/step - loss: 3.2146 - acc: 0.1760\n",
            "Epoch 35/500\n",
            "1/1 [==============================] - 0s 7ms/step - loss: 3.2065 - acc: 0.1760\n",
            "Epoch 36/500\n",
            "1/1 [==============================] - 0s 7ms/step - loss: 3.1982 - acc: 0.1760\n",
            "Epoch 37/500\n",
            "1/1 [==============================] - 0s 7ms/step - loss: 3.1898 - acc: 0.1760\n",
            "Epoch 38/500\n",
            "1/1 [==============================] - 0s 7ms/step - loss: 3.1813 - acc: 0.1760\n",
            "Epoch 39/500\n",
            "1/1 [==============================] - 0s 8ms/step - loss: 3.1727 - acc: 0.1760\n",
            "Epoch 40/500\n",
            "1/1 [==============================] - 0s 7ms/step - loss: 3.1640 - acc: 0.1760\n",
            "Epoch 41/500\n",
            "1/1 [==============================] - 0s 7ms/step - loss: 3.1552 - acc: 0.1760\n",
            "Epoch 42/500\n",
            "1/1 [==============================] - 0s 7ms/step - loss: 3.1464 - acc: 0.1760\n",
            "Epoch 43/500\n",
            "1/1 [==============================] - 0s 7ms/step - loss: 3.1375 - acc: 0.1760\n",
            "Epoch 44/500\n",
            "1/1 [==============================] - 0s 7ms/step - loss: 3.1285 - acc: 0.1760\n",
            "Epoch 45/500\n",
            "1/1 [==============================] - 0s 7ms/step - loss: 3.1196 - acc: 0.1760\n",
            "Epoch 46/500\n",
            "1/1 [==============================] - 0s 8ms/step - loss: 3.1107 - acc: 0.1760\n",
            "Epoch 47/500\n",
            "1/1 [==============================] - 0s 8ms/step - loss: 3.1019 - acc: 0.1760\n",
            "Epoch 48/500\n",
            "1/1 [==============================] - 0s 7ms/step - loss: 3.0932 - acc: 0.1760\n",
            "Epoch 49/500\n",
            "1/1 [==============================] - 0s 7ms/step - loss: 3.0845 - acc: 0.1760\n",
            "Epoch 50/500\n",
            "1/1 [==============================] - 0s 7ms/step - loss: 3.0761 - acc: 0.1760\n",
            "Epoch 51/500\n",
            "1/1 [==============================] - 0s 7ms/step - loss: 3.0678 - acc: 0.1760\n",
            "Epoch 52/500\n",
            "1/1 [==============================] - 0s 7ms/step - loss: 3.0598 - acc: 0.1760\n",
            "Epoch 53/500\n",
            "1/1 [==============================] - 0s 6ms/step - loss: 3.0520 - acc: 0.1760\n",
            "Epoch 54/500\n",
            "1/1 [==============================] - 0s 7ms/step - loss: 3.0445 - acc: 0.1760\n",
            "Epoch 55/500\n",
            "1/1 [==============================] - 0s 6ms/step - loss: 3.0373 - acc: 0.1760\n",
            "Epoch 56/500\n",
            "1/1 [==============================] - 0s 7ms/step - loss: 3.0305 - acc: 0.1760\n",
            "Epoch 57/500\n",
            "1/1 [==============================] - 0s 13ms/step - loss: 3.0239 - acc: 0.1760\n",
            "Epoch 58/500\n",
            "1/1 [==============================] - 0s 7ms/step - loss: 3.0177 - acc: 0.1760\n",
            "Epoch 59/500\n",
            "1/1 [==============================] - 0s 8ms/step - loss: 3.0118 - acc: 0.1760\n",
            "Epoch 60/500\n",
            "1/1 [==============================] - 0s 7ms/step - loss: 3.0062 - acc: 0.1760\n",
            "Epoch 61/500\n",
            "1/1 [==============================] - 0s 6ms/step - loss: 3.0009 - acc: 0.1760\n",
            "Epoch 62/500\n",
            "1/1 [==============================] - 0s 7ms/step - loss: 2.9958 - acc: 0.1760\n",
            "Epoch 63/500\n",
            "1/1 [==============================] - 0s 7ms/step - loss: 2.9909 - acc: 0.1760\n",
            "Epoch 64/500\n",
            "1/1 [==============================] - 0s 8ms/step - loss: 2.9861 - acc: 0.1760\n",
            "Epoch 65/500\n",
            "1/1 [==============================] - 0s 9ms/step - loss: 2.9815 - acc: 0.1760\n",
            "Epoch 66/500\n",
            "1/1 [==============================] - 0s 8ms/step - loss: 2.9769 - acc: 0.1760\n",
            "Epoch 67/500\n",
            "1/1 [==============================] - 0s 7ms/step - loss: 2.9724 - acc: 0.1760\n",
            "Epoch 68/500\n",
            "1/1 [==============================] - 0s 7ms/step - loss: 2.9679 - acc: 0.1760\n",
            "Epoch 69/500\n",
            "1/1 [==============================] - 0s 7ms/step - loss: 2.9634 - acc: 0.1760\n",
            "Epoch 70/500\n",
            "1/1 [==============================] - 0s 5ms/step - loss: 2.9590 - acc: 0.1760\n",
            "Epoch 71/500\n",
            "1/1 [==============================] - 0s 7ms/step - loss: 2.9545 - acc: 0.1760\n",
            "Epoch 72/500\n",
            "1/1 [==============================] - 0s 8ms/step - loss: 2.9501 - acc: 0.1760\n",
            "Epoch 73/500\n",
            "1/1 [==============================] - 0s 8ms/step - loss: 2.9457 - acc: 0.1760\n",
            "Epoch 74/500\n",
            "1/1 [==============================] - 0s 8ms/step - loss: 2.9414 - acc: 0.1760\n",
            "Epoch 75/500\n",
            "1/1 [==============================] - 0s 8ms/step - loss: 2.9372 - acc: 0.1760\n",
            "Epoch 76/500\n",
            "1/1 [==============================] - 0s 8ms/step - loss: 2.9330 - acc: 0.1760\n",
            "Epoch 77/500\n",
            "1/1 [==============================] - 0s 8ms/step - loss: 2.9289 - acc: 0.1760\n",
            "Epoch 78/500\n",
            "1/1 [==============================] - 0s 8ms/step - loss: 2.9249 - acc: 0.1760\n",
            "Epoch 79/500\n",
            "1/1 [==============================] - 0s 7ms/step - loss: 2.9211 - acc: 0.1760\n",
            "Epoch 80/500\n",
            "1/1 [==============================] - 0s 7ms/step - loss: 2.9173 - acc: 0.1760\n",
            "Epoch 81/500\n",
            "1/1 [==============================] - 0s 8ms/step - loss: 2.9136 - acc: 0.1760\n",
            "Epoch 82/500\n",
            "1/1 [==============================] - 0s 8ms/step - loss: 2.9100 - acc: 0.1760\n",
            "Epoch 83/500\n",
            "1/1 [==============================] - 0s 8ms/step - loss: 2.9065 - acc: 0.1760\n",
            "Epoch 84/500\n",
            "1/1 [==============================] - 0s 8ms/step - loss: 2.9030 - acc: 0.1760\n",
            "Epoch 85/500\n",
            "1/1 [==============================] - 0s 7ms/step - loss: 2.8997 - acc: 0.1760\n",
            "Epoch 86/500\n",
            "1/1 [==============================] - 0s 8ms/step - loss: 2.8964 - acc: 0.1760\n",
            "Epoch 87/500\n",
            "1/1 [==============================] - 0s 8ms/step - loss: 2.8931 - acc: 0.1760\n",
            "Epoch 88/500\n",
            "1/1 [==============================] - 0s 7ms/step - loss: 2.8899 - acc: 0.1760\n",
            "Epoch 89/500\n",
            "1/1 [==============================] - 0s 8ms/step - loss: 2.8868 - acc: 0.1760\n",
            "Epoch 90/500\n",
            "1/1 [==============================] - 0s 8ms/step - loss: 2.8837 - acc: 0.1760\n",
            "Epoch 91/500\n",
            "1/1 [==============================] - 0s 7ms/step - loss: 2.8806 - acc: 0.1760\n",
            "Epoch 92/500\n",
            "1/1 [==============================] - 0s 7ms/step - loss: 2.8776 - acc: 0.1760\n",
            "Epoch 93/500\n",
            "1/1 [==============================] - 0s 7ms/step - loss: 2.8746 - acc: 0.1760\n",
            "Epoch 94/500\n",
            "1/1 [==============================] - 0s 7ms/step - loss: 2.8716 - acc: 0.1760\n",
            "Epoch 95/500\n",
            "1/1 [==============================] - 0s 7ms/step - loss: 2.8687 - acc: 0.1760\n",
            "Epoch 96/500\n",
            "1/1 [==============================] - 0s 7ms/step - loss: 2.8658 - acc: 0.1760\n",
            "Epoch 97/500\n",
            "1/1 [==============================] - 0s 7ms/step - loss: 2.8629 - acc: 0.1760\n",
            "Epoch 98/500\n",
            "1/1 [==============================] - 0s 8ms/step - loss: 2.8601 - acc: 0.1760\n",
            "Epoch 99/500\n",
            "1/1 [==============================] - 0s 9ms/step - loss: 2.8573 - acc: 0.1760\n",
            "Epoch 100/500\n",
            "1/1 [==============================] - 0s 7ms/step - loss: 2.8546 - acc: 0.1760\n",
            "Epoch 101/500\n",
            "1/1 [==============================] - 0s 9ms/step - loss: 2.8519 - acc: 0.1760\n",
            "Epoch 102/500\n",
            "1/1 [==============================] - 0s 7ms/step - loss: 2.8492 - acc: 0.1760\n",
            "Epoch 103/500\n",
            "1/1 [==============================] - 0s 8ms/step - loss: 2.8466 - acc: 0.1760\n",
            "Epoch 104/500\n",
            "1/1 [==============================] - 0s 9ms/step - loss: 2.8440 - acc: 0.1760\n",
            "Epoch 105/500\n",
            "1/1 [==============================] - 0s 7ms/step - loss: 2.8414 - acc: 0.1760\n",
            "Epoch 106/500\n",
            "1/1 [==============================] - 0s 8ms/step - loss: 2.8388 - acc: 0.1760\n",
            "Epoch 107/500\n",
            "1/1 [==============================] - 0s 8ms/step - loss: 2.8363 - acc: 0.1760\n",
            "Epoch 108/500\n",
            "1/1 [==============================] - 0s 6ms/step - loss: 2.8338 - acc: 0.1760\n",
            "Epoch 109/500\n",
            "1/1 [==============================] - 0s 8ms/step - loss: 2.8313 - acc: 0.1760\n",
            "Epoch 110/500\n",
            "1/1 [==============================] - 0s 9ms/step - loss: 2.8288 - acc: 0.1760\n",
            "Epoch 111/500\n",
            "1/1 [==============================] - 0s 7ms/step - loss: 2.8263 - acc: 0.1760\n",
            "Epoch 112/500\n",
            "1/1 [==============================] - 0s 7ms/step - loss: 2.8239 - acc: 0.1760\n",
            "Epoch 113/500\n",
            "1/1 [==============================] - 0s 7ms/step - loss: 2.8214 - acc: 0.1760\n",
            "Epoch 114/500\n",
            "1/1 [==============================] - 0s 8ms/step - loss: 2.8189 - acc: 0.1760\n",
            "Epoch 115/500\n",
            "1/1 [==============================] - 0s 7ms/step - loss: 2.8165 - acc: 0.1760\n",
            "Epoch 116/500\n",
            "1/1 [==============================] - 0s 7ms/step - loss: 2.8141 - acc: 0.1760\n",
            "Epoch 117/500\n",
            "1/1 [==============================] - 0s 10ms/step - loss: 2.8116 - acc: 0.1760\n",
            "Epoch 118/500\n",
            "1/1 [==============================] - 0s 9ms/step - loss: 2.8092 - acc: 0.1760\n",
            "Epoch 119/500\n",
            "1/1 [==============================] - 0s 8ms/step - loss: 2.8068 - acc: 0.1760\n",
            "Epoch 120/500\n",
            "1/1 [==============================] - 0s 7ms/step - loss: 2.8043 - acc: 0.1760\n",
            "Epoch 121/500\n",
            "1/1 [==============================] - 0s 8ms/step - loss: 2.8019 - acc: 0.1760\n",
            "Epoch 122/500\n",
            "1/1 [==============================] - 0s 8ms/step - loss: 2.7995 - acc: 0.1760\n",
            "Epoch 123/500\n",
            "1/1 [==============================] - 0s 7ms/step - loss: 2.7971 - acc: 0.1760\n",
            "Epoch 124/500\n",
            "1/1 [==============================] - 0s 7ms/step - loss: 2.7946 - acc: 0.1760\n",
            "Epoch 125/500\n",
            "1/1 [==============================] - 0s 7ms/step - loss: 2.7922 - acc: 0.1760\n",
            "Epoch 126/500\n",
            "1/1 [==============================] - 0s 7ms/step - loss: 2.7898 - acc: 0.1760\n",
            "Epoch 127/500\n",
            "1/1 [==============================] - 0s 8ms/step - loss: 2.7874 - acc: 0.1760\n",
            "Epoch 128/500\n",
            "1/1 [==============================] - 0s 8ms/step - loss: 2.7849 - acc: 0.1760\n",
            "Epoch 129/500\n",
            "1/1 [==============================] - 0s 11ms/step - loss: 2.7825 - acc: 0.1760\n",
            "Epoch 130/500\n",
            "1/1 [==============================] - 0s 8ms/step - loss: 2.7801 - acc: 0.1760\n",
            "Epoch 131/500\n",
            "1/1 [==============================] - 0s 8ms/step - loss: 2.7776 - acc: 0.1760\n",
            "Epoch 132/500\n",
            "1/1 [==============================] - 0s 9ms/step - loss: 2.7752 - acc: 0.1760\n",
            "Epoch 133/500\n",
            "1/1 [==============================] - 0s 8ms/step - loss: 2.7727 - acc: 0.1760\n",
            "Epoch 134/500\n",
            "1/1 [==============================] - 0s 8ms/step - loss: 2.7702 - acc: 0.1840\n",
            "Epoch 135/500\n",
            "1/1 [==============================] - 0s 8ms/step - loss: 2.7677 - acc: 0.1840\n",
            "Epoch 136/500\n",
            "1/1 [==============================] - 0s 7ms/step - loss: 2.7652 - acc: 0.1840\n",
            "Epoch 137/500\n",
            "1/1 [==============================] - 0s 7ms/step - loss: 2.7627 - acc: 0.1840\n",
            "Epoch 138/500\n",
            "1/1 [==============================] - 0s 8ms/step - loss: 2.7602 - acc: 0.1840\n",
            "Epoch 139/500\n",
            "1/1 [==============================] - 0s 8ms/step - loss: 2.7577 - acc: 0.1840\n",
            "Epoch 140/500\n",
            "1/1 [==============================] - 0s 7ms/step - loss: 2.7552 - acc: 0.1760\n",
            "Epoch 141/500\n",
            "1/1 [==============================] - 0s 7ms/step - loss: 2.7526 - acc: 0.1760\n",
            "Epoch 142/500\n",
            "1/1 [==============================] - 0s 7ms/step - loss: 2.7501 - acc: 0.1760\n",
            "Epoch 143/500\n",
            "1/1 [==============================] - 0s 8ms/step - loss: 2.7475 - acc: 0.1760\n",
            "Epoch 144/500\n",
            "1/1 [==============================] - 0s 7ms/step - loss: 2.7449 - acc: 0.1760\n",
            "Epoch 145/500\n",
            "1/1 [==============================] - 0s 7ms/step - loss: 2.7423 - acc: 0.1760\n",
            "Epoch 146/500\n",
            "1/1 [==============================] - 0s 8ms/step - loss: 2.7397 - acc: 0.1760\n",
            "Epoch 147/500\n",
            "1/1 [==============================] - 0s 8ms/step - loss: 2.7370 - acc: 0.1760\n",
            "Epoch 148/500\n",
            "1/1 [==============================] - 0s 8ms/step - loss: 2.7344 - acc: 0.1760\n",
            "Epoch 149/500\n",
            "1/1 [==============================] - 0s 14ms/step - loss: 2.7317 - acc: 0.1760\n",
            "Epoch 150/500\n",
            "1/1 [==============================] - 0s 8ms/step - loss: 2.7290 - acc: 0.1760\n",
            "Epoch 151/500\n",
            "1/1 [==============================] - 0s 7ms/step - loss: 2.7263 - acc: 0.1840\n",
            "Epoch 152/500\n",
            "1/1 [==============================] - 0s 7ms/step - loss: 2.7235 - acc: 0.1840\n",
            "Epoch 153/500\n",
            "1/1 [==============================] - 0s 7ms/step - loss: 2.7208 - acc: 0.1840\n",
            "Epoch 154/500\n",
            "1/1 [==============================] - 0s 7ms/step - loss: 2.7180 - acc: 0.1840\n",
            "Epoch 155/500\n",
            "1/1 [==============================] - 0s 7ms/step - loss: 2.7152 - acc: 0.1840\n",
            "Epoch 156/500\n",
            "1/1 [==============================] - 0s 8ms/step - loss: 2.7123 - acc: 0.1840\n",
            "Epoch 157/500\n",
            "1/1 [==============================] - 0s 9ms/step - loss: 2.7095 - acc: 0.1840\n",
            "Epoch 158/500\n",
            "1/1 [==============================] - 0s 8ms/step - loss: 2.7066 - acc: 0.1840\n",
            "Epoch 159/500\n",
            "1/1 [==============================] - 0s 7ms/step - loss: 2.7037 - acc: 0.1840\n",
            "Epoch 160/500\n",
            "1/1 [==============================] - 0s 7ms/step - loss: 2.7008 - acc: 0.1840\n",
            "Epoch 161/500\n",
            "1/1 [==============================] - 0s 7ms/step - loss: 2.6978 - acc: 0.1920\n",
            "Epoch 162/500\n",
            "1/1 [==============================] - 0s 8ms/step - loss: 2.6948 - acc: 0.1920\n",
            "Epoch 163/500\n",
            "1/1 [==============================] - 0s 7ms/step - loss: 2.6918 - acc: 0.1920\n",
            "Epoch 164/500\n",
            "1/1 [==============================] - 0s 7ms/step - loss: 2.6888 - acc: 0.2000\n",
            "Epoch 165/500\n",
            "1/1 [==============================] - 0s 7ms/step - loss: 2.6857 - acc: 0.2000\n",
            "Epoch 166/500\n",
            "1/1 [==============================] - 0s 7ms/step - loss: 2.6826 - acc: 0.2000\n",
            "Epoch 167/500\n",
            "1/1 [==============================] - 0s 7ms/step - loss: 2.6794 - acc: 0.2000\n",
            "Epoch 168/500\n",
            "1/1 [==============================] - 0s 7ms/step - loss: 2.6763 - acc: 0.2000\n",
            "Epoch 169/500\n",
            "1/1 [==============================] - 0s 7ms/step - loss: 2.6731 - acc: 0.2000\n",
            "Epoch 170/500\n",
            "1/1 [==============================] - 0s 7ms/step - loss: 2.6698 - acc: 0.2000\n",
            "Epoch 171/500\n",
            "1/1 [==============================] - 0s 7ms/step - loss: 2.6666 - acc: 0.2000\n",
            "Epoch 172/500\n",
            "1/1 [==============================] - 0s 7ms/step - loss: 2.6633 - acc: 0.2000\n",
            "Epoch 173/500\n",
            "1/1 [==============================] - 0s 7ms/step - loss: 2.6599 - acc: 0.2000\n",
            "Epoch 174/500\n",
            "1/1 [==============================] - 0s 9ms/step - loss: 2.6566 - acc: 0.2000\n",
            "Epoch 175/500\n",
            "1/1 [==============================] - 0s 7ms/step - loss: 2.6531 - acc: 0.2000\n",
            "Epoch 176/500\n",
            "1/1 [==============================] - 0s 11ms/step - loss: 2.6497 - acc: 0.2000\n",
            "Epoch 177/500\n",
            "1/1 [==============================] - 0s 7ms/step - loss: 2.6462 - acc: 0.2000\n",
            "Epoch 178/500\n",
            "1/1 [==============================] - 0s 7ms/step - loss: 2.6427 - acc: 0.2000\n",
            "Epoch 179/500\n",
            "1/1 [==============================] - 0s 8ms/step - loss: 2.6392 - acc: 0.2000\n",
            "Epoch 180/500\n",
            "1/1 [==============================] - 0s 9ms/step - loss: 2.6356 - acc: 0.2000\n",
            "Epoch 181/500\n",
            "1/1 [==============================] - 0s 7ms/step - loss: 2.6319 - acc: 0.2000\n",
            "Epoch 182/500\n",
            "1/1 [==============================] - 0s 8ms/step - loss: 2.6282 - acc: 0.2000\n",
            "Epoch 183/500\n",
            "1/1 [==============================] - 0s 8ms/step - loss: 2.6245 - acc: 0.2000\n",
            "Epoch 184/500\n",
            "1/1 [==============================] - 0s 8ms/step - loss: 2.6208 - acc: 0.2080\n",
            "Epoch 185/500\n",
            "1/1 [==============================] - 0s 9ms/step - loss: 2.6170 - acc: 0.2160\n",
            "Epoch 186/500\n",
            "1/1 [==============================] - 0s 8ms/step - loss: 2.6132 - acc: 0.2160\n",
            "Epoch 187/500\n",
            "1/1 [==============================] - 0s 7ms/step - loss: 2.6093 - acc: 0.2160\n",
            "Epoch 188/500\n",
            "1/1 [==============================] - 0s 7ms/step - loss: 2.6054 - acc: 0.2160\n",
            "Epoch 189/500\n",
            "1/1 [==============================] - 0s 4ms/step - loss: 2.6014 - acc: 0.2080\n",
            "Epoch 190/500\n",
            "1/1 [==============================] - 0s 8ms/step - loss: 2.5974 - acc: 0.2080\n",
            "Epoch 191/500\n",
            "1/1 [==============================] - 0s 7ms/step - loss: 2.5934 - acc: 0.2080\n",
            "Epoch 192/500\n",
            "1/1 [==============================] - 0s 8ms/step - loss: 2.5893 - acc: 0.2080\n",
            "Epoch 193/500\n",
            "1/1 [==============================] - 0s 9ms/step - loss: 2.5851 - acc: 0.2080\n",
            "Epoch 194/500\n",
            "1/1 [==============================] - 0s 8ms/step - loss: 2.5810 - acc: 0.2080\n",
            "Epoch 195/500\n",
            "1/1 [==============================] - 0s 7ms/step - loss: 2.5768 - acc: 0.2080\n",
            "Epoch 196/500\n",
            "1/1 [==============================] - 0s 8ms/step - loss: 2.5725 - acc: 0.2080\n",
            "Epoch 197/500\n",
            "1/1 [==============================] - 0s 8ms/step - loss: 2.5682 - acc: 0.2080\n",
            "Epoch 198/500\n",
            "1/1 [==============================] - 0s 8ms/step - loss: 2.5639 - acc: 0.2160\n",
            "Epoch 199/500\n",
            "1/1 [==============================] - 0s 10ms/step - loss: 2.5595 - acc: 0.2160\n",
            "Epoch 200/500\n",
            "1/1 [==============================] - 0s 8ms/step - loss: 2.5551 - acc: 0.2160\n",
            "Epoch 201/500\n",
            "1/1 [==============================] - 0s 8ms/step - loss: 2.5506 - acc: 0.2160\n",
            "Epoch 202/500\n",
            "1/1 [==============================] - 0s 7ms/step - loss: 2.5461 - acc: 0.2160\n",
            "Epoch 203/500\n",
            "1/1 [==============================] - 0s 8ms/step - loss: 2.5416 - acc: 0.2160\n",
            "Epoch 204/500\n",
            "1/1 [==============================] - 0s 8ms/step - loss: 2.5370 - acc: 0.2160\n",
            "Epoch 205/500\n",
            "1/1 [==============================] - 0s 8ms/step - loss: 2.5324 - acc: 0.2160\n",
            "Epoch 206/500\n",
            "1/1 [==============================] - 0s 8ms/step - loss: 2.5277 - acc: 0.2320\n",
            "Epoch 207/500\n",
            "1/1 [==============================] - 0s 9ms/step - loss: 2.5230 - acc: 0.2320\n",
            "Epoch 208/500\n",
            "1/1 [==============================] - 0s 8ms/step - loss: 2.5183 - acc: 0.2320\n",
            "Epoch 209/500\n",
            "1/1 [==============================] - 0s 5ms/step - loss: 2.5135 - acc: 0.2320\n",
            "Epoch 210/500\n",
            "1/1 [==============================] - 0s 7ms/step - loss: 2.5087 - acc: 0.2400\n",
            "Epoch 211/500\n",
            "1/1 [==============================] - 0s 7ms/step - loss: 2.5039 - acc: 0.2400\n",
            "Epoch 212/500\n",
            "1/1 [==============================] - 0s 7ms/step - loss: 2.4990 - acc: 0.2480\n",
            "Epoch 213/500\n",
            "1/1 [==============================] - 0s 8ms/step - loss: 2.4941 - acc: 0.2480\n",
            "Epoch 214/500\n",
            "1/1 [==============================] - 0s 8ms/step - loss: 2.4892 - acc: 0.2560\n",
            "Epoch 215/500\n",
            "1/1 [==============================] - 0s 8ms/step - loss: 2.4842 - acc: 0.2560\n",
            "Epoch 216/500\n",
            "1/1 [==============================] - 0s 7ms/step - loss: 2.4792 - acc: 0.2880\n",
            "Epoch 217/500\n",
            "1/1 [==============================] - 0s 8ms/step - loss: 2.4741 - acc: 0.2960\n",
            "Epoch 218/500\n",
            "1/1 [==============================] - 0s 10ms/step - loss: 2.4691 - acc: 0.2960\n",
            "Epoch 219/500\n",
            "1/1 [==============================] - 0s 8ms/step - loss: 2.4640 - acc: 0.2960\n",
            "Epoch 220/500\n",
            "1/1 [==============================] - 0s 9ms/step - loss: 2.4589 - acc: 0.2960\n",
            "Epoch 221/500\n",
            "1/1 [==============================] - 0s 9ms/step - loss: 2.4537 - acc: 0.2960\n",
            "Epoch 222/500\n",
            "1/1 [==============================] - 0s 8ms/step - loss: 2.4486 - acc: 0.2960\n",
            "Epoch 223/500\n",
            "1/1 [==============================] - 0s 7ms/step - loss: 2.4434 - acc: 0.2960\n",
            "Epoch 224/500\n",
            "1/1 [==============================] - 0s 7ms/step - loss: 2.4382 - acc: 0.2960\n",
            "Epoch 225/500\n",
            "1/1 [==============================] - 0s 7ms/step - loss: 2.4329 - acc: 0.3040\n",
            "Epoch 226/500\n",
            "1/1 [==============================] - 0s 9ms/step - loss: 2.4276 - acc: 0.3120\n",
            "Epoch 227/500\n",
            "1/1 [==============================] - 0s 7ms/step - loss: 2.4223 - acc: 0.3120\n",
            "Epoch 228/500\n",
            "1/1 [==============================] - 0s 9ms/step - loss: 2.4170 - acc: 0.3200\n",
            "Epoch 229/500\n",
            "1/1 [==============================] - 0s 8ms/step - loss: 2.4117 - acc: 0.3200\n",
            "Epoch 230/500\n",
            "1/1 [==============================] - 0s 8ms/step - loss: 2.4063 - acc: 0.3200\n",
            "Epoch 231/500\n",
            "1/1 [==============================] - 0s 8ms/step - loss: 2.4009 - acc: 0.3200\n",
            "Epoch 232/500\n",
            "1/1 [==============================] - 0s 9ms/step - loss: 2.3955 - acc: 0.3200\n",
            "Epoch 233/500\n",
            "1/1 [==============================] - 0s 7ms/step - loss: 2.3901 - acc: 0.3200\n",
            "Epoch 234/500\n",
            "1/1 [==============================] - 0s 8ms/step - loss: 2.3846 - acc: 0.3280\n",
            "Epoch 235/500\n",
            "1/1 [==============================] - 0s 7ms/step - loss: 2.3792 - acc: 0.3200\n",
            "Epoch 236/500\n",
            "1/1 [==============================] - 0s 7ms/step - loss: 2.3736 - acc: 0.3200\n",
            "Epoch 237/500\n",
            "1/1 [==============================] - 0s 7ms/step - loss: 2.3681 - acc: 0.3200\n",
            "Epoch 238/500\n",
            "1/1 [==============================] - 0s 7ms/step - loss: 2.3626 - acc: 0.3200\n",
            "Epoch 239/500\n",
            "1/1 [==============================] - 0s 8ms/step - loss: 2.3570 - acc: 0.3200\n",
            "Epoch 240/500\n",
            "1/1 [==============================] - 0s 7ms/step - loss: 2.3514 - acc: 0.3200\n",
            "Epoch 241/500\n",
            "1/1 [==============================] - 0s 10ms/step - loss: 2.3457 - acc: 0.3280\n",
            "Epoch 242/500\n",
            "1/1 [==============================] - 0s 8ms/step - loss: 2.3401 - acc: 0.3360\n",
            "Epoch 243/500\n",
            "1/1 [==============================] - 0s 8ms/step - loss: 2.3344 - acc: 0.3360\n",
            "Epoch 244/500\n",
            "1/1 [==============================] - 0s 8ms/step - loss: 2.3287 - acc: 0.3360\n",
            "Epoch 245/500\n",
            "1/1 [==============================] - 0s 7ms/step - loss: 2.3230 - acc: 0.3360\n",
            "Epoch 246/500\n",
            "1/1 [==============================] - 0s 8ms/step - loss: 2.3172 - acc: 0.3360\n",
            "Epoch 247/500\n",
            "1/1 [==============================] - 0s 6ms/step - loss: 2.3114 - acc: 0.3360\n",
            "Epoch 248/500\n",
            "1/1 [==============================] - 0s 7ms/step - loss: 2.3056 - acc: 0.3360\n",
            "Epoch 249/500\n",
            "1/1 [==============================] - 0s 15ms/step - loss: 2.2997 - acc: 0.3360\n",
            "Epoch 250/500\n",
            "1/1 [==============================] - 0s 7ms/step - loss: 2.2938 - acc: 0.3440\n",
            "Epoch 251/500\n",
            "1/1 [==============================] - 0s 7ms/step - loss: 2.2879 - acc: 0.3440\n",
            "Epoch 252/500\n",
            "1/1 [==============================] - 0s 8ms/step - loss: 2.2819 - acc: 0.3440\n",
            "Epoch 253/500\n",
            "1/1 [==============================] - 0s 7ms/step - loss: 2.2760 - acc: 0.3360\n",
            "Epoch 254/500\n",
            "1/1 [==============================] - 0s 7ms/step - loss: 2.2699 - acc: 0.3360\n",
            "Epoch 255/500\n",
            "1/1 [==============================] - 0s 8ms/step - loss: 2.2639 - acc: 0.3360\n",
            "Epoch 256/500\n",
            "1/1 [==============================] - 0s 6ms/step - loss: 2.2578 - acc: 0.3360\n",
            "Epoch 257/500\n",
            "1/1 [==============================] - 0s 7ms/step - loss: 2.2517 - acc: 0.3360\n",
            "Epoch 258/500\n",
            "1/1 [==============================] - 0s 7ms/step - loss: 2.2455 - acc: 0.3360\n",
            "Epoch 259/500\n",
            "1/1 [==============================] - 0s 7ms/step - loss: 2.2393 - acc: 0.3360\n",
            "Epoch 260/500\n",
            "1/1 [==============================] - 0s 6ms/step - loss: 2.2331 - acc: 0.3360\n",
            "Epoch 261/500\n",
            "1/1 [==============================] - 0s 7ms/step - loss: 2.2268 - acc: 0.3360\n",
            "Epoch 262/500\n",
            "1/1 [==============================] - 0s 7ms/step - loss: 2.2205 - acc: 0.3360\n",
            "Epoch 263/500\n",
            "1/1 [==============================] - 0s 5ms/step - loss: 2.2142 - acc: 0.3360\n",
            "Epoch 264/500\n",
            "1/1 [==============================] - 0s 7ms/step - loss: 2.2078 - acc: 0.3360\n",
            "Epoch 265/500\n",
            "1/1 [==============================] - 0s 8ms/step - loss: 2.2014 - acc: 0.3360\n",
            "Epoch 266/500\n",
            "1/1 [==============================] - 0s 8ms/step - loss: 2.1949 - acc: 0.3440\n",
            "Epoch 267/500\n",
            "1/1 [==============================] - 0s 7ms/step - loss: 2.1884 - acc: 0.3440\n",
            "Epoch 268/500\n",
            "1/1 [==============================] - 0s 9ms/step - loss: 2.1819 - acc: 0.3440\n",
            "Epoch 269/500\n",
            "1/1 [==============================] - 0s 8ms/step - loss: 2.1754 - acc: 0.3520\n",
            "Epoch 270/500\n",
            "1/1 [==============================] - 0s 7ms/step - loss: 2.1687 - acc: 0.3520\n",
            "Epoch 271/500\n",
            "1/1 [==============================] - 0s 6ms/step - loss: 2.1621 - acc: 0.3520\n",
            "Epoch 272/500\n",
            "1/1 [==============================] - 0s 7ms/step - loss: 2.1554 - acc: 0.3520\n",
            "Epoch 273/500\n",
            "1/1 [==============================] - 0s 8ms/step - loss: 2.1487 - acc: 0.3520\n",
            "Epoch 274/500\n",
            "1/1 [==============================] - 0s 8ms/step - loss: 2.1419 - acc: 0.3520\n",
            "Epoch 275/500\n",
            "1/1 [==============================] - 0s 8ms/step - loss: 2.1352 - acc: 0.3520\n",
            "Epoch 276/500\n",
            "1/1 [==============================] - 0s 9ms/step - loss: 2.1283 - acc: 0.3520\n",
            "Epoch 277/500\n",
            "1/1 [==============================] - 0s 7ms/step - loss: 2.1215 - acc: 0.3520\n",
            "Epoch 278/500\n",
            "1/1 [==============================] - 0s 8ms/step - loss: 2.1145 - acc: 0.3520\n",
            "Epoch 279/500\n",
            "1/1 [==============================] - 0s 8ms/step - loss: 2.1076 - acc: 0.3520\n",
            "Epoch 280/500\n",
            "1/1 [==============================] - 0s 7ms/step - loss: 2.1006 - acc: 0.3520\n",
            "Epoch 281/500\n",
            "1/1 [==============================] - 0s 8ms/step - loss: 2.0936 - acc: 0.3520\n",
            "Epoch 282/500\n",
            "1/1 [==============================] - 0s 8ms/step - loss: 2.0865 - acc: 0.3520\n",
            "Epoch 283/500\n",
            "1/1 [==============================] - 0s 8ms/step - loss: 2.0795 - acc: 0.3680\n",
            "Epoch 284/500\n",
            "1/1 [==============================] - 0s 8ms/step - loss: 2.0723 - acc: 0.3680\n",
            "Epoch 285/500\n",
            "1/1 [==============================] - 0s 4ms/step - loss: 2.0652 - acc: 0.3680\n",
            "Epoch 286/500\n",
            "1/1 [==============================] - 0s 7ms/step - loss: 2.0580 - acc: 0.3680\n",
            "Epoch 287/500\n",
            "1/1 [==============================] - 0s 8ms/step - loss: 2.0507 - acc: 0.3760\n",
            "Epoch 288/500\n",
            "1/1 [==============================] - 0s 7ms/step - loss: 2.0435 - acc: 0.3760\n",
            "Epoch 289/500\n",
            "1/1 [==============================] - 0s 7ms/step - loss: 2.0362 - acc: 0.3760\n",
            "Epoch 290/500\n",
            "1/1 [==============================] - 0s 8ms/step - loss: 2.0288 - acc: 0.3760\n",
            "Epoch 291/500\n",
            "1/1 [==============================] - 0s 9ms/step - loss: 2.0215 - acc: 0.3760\n",
            "Epoch 292/500\n",
            "1/1 [==============================] - 0s 7ms/step - loss: 2.0141 - acc: 0.3760\n",
            "Epoch 293/500\n",
            "1/1 [==============================] - 0s 7ms/step - loss: 2.0067 - acc: 0.3760\n",
            "Epoch 294/500\n",
            "1/1 [==============================] - 0s 7ms/step - loss: 1.9992 - acc: 0.3760\n",
            "Epoch 295/500\n",
            "1/1 [==============================] - 0s 9ms/step - loss: 1.9917 - acc: 0.3760\n",
            "Epoch 296/500\n",
            "1/1 [==============================] - 0s 8ms/step - loss: 1.9842 - acc: 0.3760\n",
            "Epoch 297/500\n",
            "1/1 [==============================] - 0s 8ms/step - loss: 1.9767 - acc: 0.3760\n",
            "Epoch 298/500\n",
            "1/1 [==============================] - 0s 7ms/step - loss: 1.9691 - acc: 0.3840\n",
            "Epoch 299/500\n",
            "1/1 [==============================] - 0s 15ms/step - loss: 1.9615 - acc: 0.3840\n",
            "Epoch 300/500\n",
            "1/1 [==============================] - 0s 6ms/step - loss: 1.9539 - acc: 0.3840\n",
            "Epoch 301/500\n",
            "1/1 [==============================] - 0s 6ms/step - loss: 1.9462 - acc: 0.3920\n",
            "Epoch 302/500\n",
            "1/1 [==============================] - 0s 7ms/step - loss: 1.9386 - acc: 0.4080\n",
            "Epoch 303/500\n",
            "1/1 [==============================] - 0s 7ms/step - loss: 1.9309 - acc: 0.4080\n",
            "Epoch 304/500\n",
            "1/1 [==============================] - 0s 8ms/step - loss: 1.9232 - acc: 0.4080\n",
            "Epoch 305/500\n",
            "1/1 [==============================] - 0s 9ms/step - loss: 1.9154 - acc: 0.4080\n",
            "Epoch 306/500\n",
            "1/1 [==============================] - 0s 8ms/step - loss: 1.9077 - acc: 0.4160\n",
            "Epoch 307/500\n",
            "1/1 [==============================] - 0s 7ms/step - loss: 1.8999 - acc: 0.4240\n",
            "Epoch 308/500\n",
            "1/1 [==============================] - 0s 6ms/step - loss: 1.8921 - acc: 0.4240\n",
            "Epoch 309/500\n",
            "1/1 [==============================] - 0s 7ms/step - loss: 1.8843 - acc: 0.4320\n",
            "Epoch 310/500\n",
            "1/1 [==============================] - 0s 8ms/step - loss: 1.8764 - acc: 0.4480\n",
            "Epoch 311/500\n",
            "1/1 [==============================] - 0s 7ms/step - loss: 1.8686 - acc: 0.4480\n",
            "Epoch 312/500\n",
            "1/1 [==============================] - 0s 5ms/step - loss: 1.8607 - acc: 0.4480\n",
            "Epoch 313/500\n",
            "1/1 [==============================] - 0s 7ms/step - loss: 1.8529 - acc: 0.4480\n",
            "Epoch 314/500\n",
            "1/1 [==============================] - 0s 7ms/step - loss: 1.8450 - acc: 0.4560\n",
            "Epoch 315/500\n",
            "1/1 [==============================] - 0s 7ms/step - loss: 1.8371 - acc: 0.4560\n",
            "Epoch 316/500\n",
            "1/1 [==============================] - 0s 7ms/step - loss: 1.8292 - acc: 0.4560\n",
            "Epoch 317/500\n",
            "1/1 [==============================] - 0s 7ms/step - loss: 1.8213 - acc: 0.4560\n",
            "Epoch 318/500\n",
            "1/1 [==============================] - 0s 8ms/step - loss: 1.8133 - acc: 0.4560\n",
            "Epoch 319/500\n",
            "1/1 [==============================] - 0s 9ms/step - loss: 1.8054 - acc: 0.4560\n",
            "Epoch 320/500\n",
            "1/1 [==============================] - 0s 8ms/step - loss: 1.7975 - acc: 0.4560\n",
            "Epoch 321/500\n",
            "1/1 [==============================] - 0s 7ms/step - loss: 1.7895 - acc: 0.4480\n",
            "Epoch 322/500\n",
            "1/1 [==============================] - 0s 7ms/step - loss: 1.7815 - acc: 0.4560\n",
            "Epoch 323/500\n",
            "1/1 [==============================] - 0s 7ms/step - loss: 1.7736 - acc: 0.4560\n",
            "Epoch 324/500\n",
            "1/1 [==============================] - 0s 7ms/step - loss: 1.7656 - acc: 0.4560\n",
            "Epoch 325/500\n",
            "1/1 [==============================] - 0s 7ms/step - loss: 1.7576 - acc: 0.4560\n",
            "Epoch 326/500\n",
            "1/1 [==============================] - 0s 7ms/step - loss: 1.7497 - acc: 0.4640\n",
            "Epoch 327/500\n",
            "1/1 [==============================] - 0s 7ms/step - loss: 1.7417 - acc: 0.4640\n",
            "Epoch 328/500\n",
            "1/1 [==============================] - 0s 7ms/step - loss: 1.7337 - acc: 0.4640\n",
            "Epoch 329/500\n",
            "1/1 [==============================] - 0s 6ms/step - loss: 1.7257 - acc: 0.4640\n",
            "Epoch 330/500\n",
            "1/1 [==============================] - 0s 7ms/step - loss: 1.7177 - acc: 0.4640\n",
            "Epoch 331/500\n",
            "1/1 [==============================] - 0s 7ms/step - loss: 1.7097 - acc: 0.4640\n",
            "Epoch 332/500\n",
            "1/1 [==============================] - 0s 7ms/step - loss: 1.7017 - acc: 0.4640\n",
            "Epoch 333/500\n",
            "1/1 [==============================] - 0s 7ms/step - loss: 1.6937 - acc: 0.4640\n",
            "Epoch 334/500\n",
            "1/1 [==============================] - 0s 8ms/step - loss: 1.6857 - acc: 0.4640\n",
            "Epoch 335/500\n",
            "1/1 [==============================] - 0s 9ms/step - loss: 1.6777 - acc: 0.4640\n",
            "Epoch 336/500\n",
            "1/1 [==============================] - 0s 8ms/step - loss: 1.6697 - acc: 0.4640\n",
            "Epoch 337/500\n",
            "1/1 [==============================] - 0s 7ms/step - loss: 1.6617 - acc: 0.4720\n",
            "Epoch 338/500\n",
            "1/1 [==============================] - 0s 6ms/step - loss: 1.6537 - acc: 0.4720\n",
            "Epoch 339/500\n",
            "1/1 [==============================] - 0s 7ms/step - loss: 1.6457 - acc: 0.4800\n",
            "Epoch 340/500\n",
            "1/1 [==============================] - 0s 7ms/step - loss: 1.6377 - acc: 0.4880\n",
            "Epoch 341/500\n",
            "1/1 [==============================] - 0s 8ms/step - loss: 1.6297 - acc: 0.4880\n",
            "Epoch 342/500\n",
            "1/1 [==============================] - 0s 7ms/step - loss: 1.6217 - acc: 0.5120\n",
            "Epoch 343/500\n",
            "1/1 [==============================] - 0s 10ms/step - loss: 1.6137 - acc: 0.5200\n",
            "Epoch 344/500\n",
            "1/1 [==============================] - 0s 9ms/step - loss: 1.6057 - acc: 0.5200\n",
            "Epoch 345/500\n",
            "1/1 [==============================] - 0s 10ms/step - loss: 1.5977 - acc: 0.5200\n",
            "Epoch 346/500\n",
            "1/1 [==============================] - 0s 7ms/step - loss: 1.5897 - acc: 0.5200\n",
            "Epoch 347/500\n",
            "1/1 [==============================] - 0s 7ms/step - loss: 1.5817 - acc: 0.5200\n",
            "Epoch 348/500\n",
            "1/1 [==============================] - 0s 7ms/step - loss: 1.5737 - acc: 0.5200\n",
            "Epoch 349/500\n",
            "1/1 [==============================] - 0s 8ms/step - loss: 1.5657 - acc: 0.5200\n",
            "Epoch 350/500\n",
            "1/1 [==============================] - 0s 6ms/step - loss: 1.5576 - acc: 0.5200\n",
            "Epoch 351/500\n",
            "1/1 [==============================] - 0s 7ms/step - loss: 1.5496 - acc: 0.5200\n",
            "Epoch 352/500\n",
            "1/1 [==============================] - 0s 8ms/step - loss: 1.5416 - acc: 0.5280\n",
            "Epoch 353/500\n",
            "1/1 [==============================] - 0s 8ms/step - loss: 1.5336 - acc: 0.5280\n",
            "Epoch 354/500\n",
            "1/1 [==============================] - 0s 7ms/step - loss: 1.5255 - acc: 0.5360\n",
            "Epoch 355/500\n",
            "1/1 [==============================] - 0s 7ms/step - loss: 1.5175 - acc: 0.5360\n",
            "Epoch 356/500\n",
            "1/1 [==============================] - 0s 7ms/step - loss: 1.5095 - acc: 0.5360\n",
            "Epoch 357/500\n",
            "1/1 [==============================] - 0s 8ms/step - loss: 1.5014 - acc: 0.5440\n",
            "Epoch 358/500\n",
            "1/1 [==============================] - 0s 7ms/step - loss: 1.4933 - acc: 0.5520\n",
            "Epoch 359/500\n",
            "1/1 [==============================] - 0s 7ms/step - loss: 1.4853 - acc: 0.5520\n",
            "Epoch 360/500\n",
            "1/1 [==============================] - 0s 9ms/step - loss: 1.4772 - acc: 0.5600\n",
            "Epoch 361/500\n",
            "1/1 [==============================] - 0s 8ms/step - loss: 1.4691 - acc: 0.5600\n",
            "Epoch 362/500\n",
            "1/1 [==============================] - 0s 7ms/step - loss: 1.4611 - acc: 0.5600\n",
            "Epoch 363/500\n",
            "1/1 [==============================] - 0s 8ms/step - loss: 1.4530 - acc: 0.5600\n",
            "Epoch 364/500\n",
            "1/1 [==============================] - 0s 8ms/step - loss: 1.4449 - acc: 0.5520\n",
            "Epoch 365/500\n",
            "1/1 [==============================] - 0s 7ms/step - loss: 1.4367 - acc: 0.5680\n",
            "Epoch 366/500\n",
            "1/1 [==============================] - 0s 11ms/step - loss: 1.4286 - acc: 0.5680\n",
            "Epoch 367/500\n",
            "1/1 [==============================] - 0s 8ms/step - loss: 1.4205 - acc: 0.5760\n",
            "Epoch 368/500\n",
            "1/1 [==============================] - 0s 7ms/step - loss: 1.4123 - acc: 0.5760\n",
            "Epoch 369/500\n",
            "1/1 [==============================] - 0s 8ms/step - loss: 1.4042 - acc: 0.5760\n",
            "Epoch 370/500\n",
            "1/1 [==============================] - 0s 8ms/step - loss: 1.3960 - acc: 0.5760\n",
            "Epoch 371/500\n",
            "1/1 [==============================] - 0s 10ms/step - loss: 1.3878 - acc: 0.5760\n",
            "Epoch 372/500\n",
            "1/1 [==============================] - 0s 8ms/step - loss: 1.3797 - acc: 0.5760\n",
            "Epoch 373/500\n",
            "1/1 [==============================] - 0s 7ms/step - loss: 1.3715 - acc: 0.5840\n",
            "Epoch 374/500\n",
            "1/1 [==============================] - 0s 7ms/step - loss: 1.3632 - acc: 0.5840\n",
            "Epoch 375/500\n",
            "1/1 [==============================] - 0s 7ms/step - loss: 1.3550 - acc: 0.5840\n",
            "Epoch 376/500\n",
            "1/1 [==============================] - 0s 7ms/step - loss: 1.3468 - acc: 0.5840\n",
            "Epoch 377/500\n",
            "1/1 [==============================] - 0s 8ms/step - loss: 1.3385 - acc: 0.5840\n",
            "Epoch 378/500\n",
            "1/1 [==============================] - 0s 8ms/step - loss: 1.3303 - acc: 0.5920\n",
            "Epoch 379/500\n",
            "1/1 [==============================] - 0s 8ms/step - loss: 1.3220 - acc: 0.5920\n",
            "Epoch 380/500\n",
            "1/1 [==============================] - 0s 7ms/step - loss: 1.3137 - acc: 0.5920\n",
            "Epoch 381/500\n",
            "1/1 [==============================] - 0s 9ms/step - loss: 1.3054 - acc: 0.6000\n",
            "Epoch 382/500\n",
            "1/1 [==============================] - 0s 7ms/step - loss: 1.2971 - acc: 0.6000\n",
            "Epoch 383/500\n",
            "1/1 [==============================] - 0s 7ms/step - loss: 1.2887 - acc: 0.6000\n",
            "Epoch 384/500\n",
            "1/1 [==============================] - 0s 9ms/step - loss: 1.2804 - acc: 0.6000\n",
            "Epoch 385/500\n",
            "1/1 [==============================] - 0s 8ms/step - loss: 1.2720 - acc: 0.6080\n",
            "Epoch 386/500\n",
            "1/1 [==============================] - 0s 7ms/step - loss: 1.2636 - acc: 0.6160\n",
            "Epoch 387/500\n",
            "1/1 [==============================] - 0s 8ms/step - loss: 1.2553 - acc: 0.6320\n",
            "Epoch 388/500\n",
            "1/1 [==============================] - 0s 7ms/step - loss: 1.2468 - acc: 0.6320\n",
            "Epoch 389/500\n",
            "1/1 [==============================] - 0s 8ms/step - loss: 1.2384 - acc: 0.6400\n",
            "Epoch 390/500\n",
            "1/1 [==============================] - 0s 8ms/step - loss: 1.2300 - acc: 0.6400\n",
            "Epoch 391/500\n",
            "1/1 [==============================] - 0s 8ms/step - loss: 1.2215 - acc: 0.6480\n",
            "Epoch 392/500\n",
            "1/1 [==============================] - 0s 10ms/step - loss: 1.2131 - acc: 0.6480\n",
            "Epoch 393/500\n",
            "1/1 [==============================] - 0s 7ms/step - loss: 1.2046 - acc: 0.6560\n",
            "Epoch 394/500\n",
            "1/1 [==============================] - 0s 8ms/step - loss: 1.1961 - acc: 0.6560\n",
            "Epoch 395/500\n",
            "1/1 [==============================] - 0s 9ms/step - loss: 1.1876 - acc: 0.6560\n",
            "Epoch 396/500\n",
            "1/1 [==============================] - 0s 8ms/step - loss: 1.1791 - acc: 0.6640\n",
            "Epoch 397/500\n",
            "1/1 [==============================] - 0s 8ms/step - loss: 1.1705 - acc: 0.6640\n",
            "Epoch 398/500\n",
            "1/1 [==============================] - 0s 7ms/step - loss: 1.1620 - acc: 0.6720\n",
            "Epoch 399/500\n",
            "1/1 [==============================] - 0s 7ms/step - loss: 1.1534 - acc: 0.6720\n",
            "Epoch 400/500\n",
            "1/1 [==============================] - 0s 7ms/step - loss: 1.1448 - acc: 0.6800\n",
            "Epoch 401/500\n",
            "1/1 [==============================] - 0s 9ms/step - loss: 1.1362 - acc: 0.6800\n",
            "Epoch 402/500\n",
            "1/1 [==============================] - 0s 7ms/step - loss: 1.1276 - acc: 0.6800\n",
            "Epoch 403/500\n",
            "1/1 [==============================] - 0s 8ms/step - loss: 1.1190 - acc: 0.6880\n",
            "Epoch 404/500\n",
            "1/1 [==============================] - 0s 7ms/step - loss: 1.1104 - acc: 0.6880\n",
            "Epoch 405/500\n",
            "1/1 [==============================] - 0s 7ms/step - loss: 1.1017 - acc: 0.6880\n",
            "Epoch 406/500\n",
            "1/1 [==============================] - 0s 8ms/step - loss: 1.0931 - acc: 0.7040\n",
            "Epoch 407/500\n",
            "1/1 [==============================] - 0s 7ms/step - loss: 1.0844 - acc: 0.7040\n",
            "Epoch 408/500\n",
            "1/1 [==============================] - 0s 7ms/step - loss: 1.0757 - acc: 0.7040\n",
            "Epoch 409/500\n",
            "1/1 [==============================] - 0s 7ms/step - loss: 1.0670 - acc: 0.7040\n",
            "Epoch 410/500\n",
            "1/1 [==============================] - 0s 8ms/step - loss: 1.0584 - acc: 0.7040\n",
            "Epoch 411/500\n",
            "1/1 [==============================] - 0s 9ms/step - loss: 1.0496 - acc: 0.7200\n",
            "Epoch 412/500\n",
            "1/1 [==============================] - 0s 8ms/step - loss: 1.0409 - acc: 0.7200\n",
            "Epoch 413/500\n",
            "1/1 [==============================] - 0s 7ms/step - loss: 1.0322 - acc: 0.7200\n",
            "Epoch 414/500\n",
            "1/1 [==============================] - 0s 8ms/step - loss: 1.0235 - acc: 0.7200\n",
            "Epoch 415/500\n",
            "1/1 [==============================] - 0s 7ms/step - loss: 1.0148 - acc: 0.7200\n",
            "Epoch 416/500\n",
            "1/1 [==============================] - 0s 7ms/step - loss: 1.0060 - acc: 0.7200\n",
            "Epoch 417/500\n",
            "1/1 [==============================] - 0s 7ms/step - loss: 0.9973 - acc: 0.7200\n",
            "Epoch 418/500\n",
            "1/1 [==============================] - 0s 7ms/step - loss: 0.9886 - acc: 0.7200\n",
            "Epoch 419/500\n",
            "1/1 [==============================] - 0s 5ms/step - loss: 0.9798 - acc: 0.7280\n",
            "Epoch 420/500\n",
            "1/1 [==============================] - 0s 7ms/step - loss: 0.9711 - acc: 0.7280\n",
            "Epoch 421/500\n",
            "1/1 [==============================] - 0s 6ms/step - loss: 0.9623 - acc: 0.7360\n",
            "Epoch 422/500\n",
            "1/1 [==============================] - 0s 7ms/step - loss: 0.9536 - acc: 0.7440\n",
            "Epoch 423/500\n",
            "1/1 [==============================] - 0s 7ms/step - loss: 0.9449 - acc: 0.7520\n",
            "Epoch 424/500\n",
            "1/1 [==============================] - 0s 7ms/step - loss: 0.9361 - acc: 0.7680\n",
            "Epoch 425/500\n",
            "1/1 [==============================] - 0s 8ms/step - loss: 0.9274 - acc: 0.7680\n",
            "Epoch 426/500\n",
            "1/1 [==============================] - 0s 8ms/step - loss: 0.9187 - acc: 0.7680\n",
            "Epoch 427/500\n",
            "1/1 [==============================] - 0s 7ms/step - loss: 0.9099 - acc: 0.7680\n",
            "Epoch 428/500\n",
            "1/1 [==============================] - 0s 8ms/step - loss: 0.9012 - acc: 0.7760\n",
            "Epoch 429/500\n",
            "1/1 [==============================] - 0s 7ms/step - loss: 0.8925 - acc: 0.7760\n",
            "Epoch 430/500\n",
            "1/1 [==============================] - 0s 8ms/step - loss: 0.8838 - acc: 0.7760\n",
            "Epoch 431/500\n",
            "1/1 [==============================] - 0s 10ms/step - loss: 0.8752 - acc: 0.7840\n",
            "Epoch 432/500\n",
            "1/1 [==============================] - 0s 7ms/step - loss: 0.8665 - acc: 0.7840\n",
            "Epoch 433/500\n",
            "1/1 [==============================] - 0s 7ms/step - loss: 0.8578 - acc: 0.7840\n",
            "Epoch 434/500\n",
            "1/1 [==============================] - 0s 7ms/step - loss: 0.8492 - acc: 0.7840\n",
            "Epoch 435/500\n",
            "1/1 [==============================] - 0s 8ms/step - loss: 0.8406 - acc: 0.7840\n",
            "Epoch 436/500\n",
            "1/1 [==============================] - 0s 10ms/step - loss: 0.8320 - acc: 0.7840\n",
            "Epoch 437/500\n",
            "1/1 [==============================] - 0s 7ms/step - loss: 0.8234 - acc: 0.7920\n",
            "Epoch 438/500\n",
            "1/1 [==============================] - 0s 8ms/step - loss: 0.8148 - acc: 0.7920\n",
            "Epoch 439/500\n",
            "1/1 [==============================] - 0s 8ms/step - loss: 0.8063 - acc: 0.7920\n",
            "Epoch 440/500\n",
            "1/1 [==============================] - 0s 10ms/step - loss: 0.7977 - acc: 0.7920\n",
            "Epoch 441/500\n",
            "1/1 [==============================] - 0s 8ms/step - loss: 0.7892 - acc: 0.8000\n",
            "Epoch 442/500\n",
            "1/1 [==============================] - 0s 5ms/step - loss: 0.7808 - acc: 0.8000\n",
            "Epoch 443/500\n",
            "1/1 [==============================] - 0s 8ms/step - loss: 0.7723 - acc: 0.8080\n",
            "Epoch 444/500\n",
            "1/1 [==============================] - 0s 9ms/step - loss: 0.7639 - acc: 0.8160\n",
            "Epoch 445/500\n",
            "1/1 [==============================] - 0s 8ms/step - loss: 0.7555 - acc: 0.8160\n",
            "Epoch 446/500\n",
            "1/1 [==============================] - 0s 8ms/step - loss: 0.7472 - acc: 0.8240\n",
            "Epoch 447/500\n",
            "1/1 [==============================] - 0s 8ms/step - loss: 0.7389 - acc: 0.8320\n",
            "Epoch 448/500\n",
            "1/1 [==============================] - 0s 8ms/step - loss: 0.7306 - acc: 0.8400\n",
            "Epoch 449/500\n",
            "1/1 [==============================] - 0s 8ms/step - loss: 0.7223 - acc: 0.8400\n",
            "Epoch 450/500\n",
            "1/1 [==============================] - 0s 9ms/step - loss: 0.7141 - acc: 0.8400\n",
            "Epoch 451/500\n",
            "1/1 [==============================] - 0s 7ms/step - loss: 0.7059 - acc: 0.8400\n",
            "Epoch 452/500\n",
            "1/1 [==============================] - 0s 7ms/step - loss: 0.6978 - acc: 0.8400\n",
            "Epoch 453/500\n",
            "1/1 [==============================] - 0s 7ms/step - loss: 0.6897 - acc: 0.8400\n",
            "Epoch 454/500\n",
            "1/1 [==============================] - 0s 8ms/step - loss: 0.6816 - acc: 0.8400\n",
            "Epoch 455/500\n",
            "1/1 [==============================] - 0s 8ms/step - loss: 0.6736 - acc: 0.8400\n",
            "Epoch 456/500\n",
            "1/1 [==============================] - 0s 8ms/step - loss: 0.6657 - acc: 0.8400\n",
            "Epoch 457/500\n",
            "1/1 [==============================] - 0s 7ms/step - loss: 0.6577 - acc: 0.8400\n",
            "Epoch 458/500\n",
            "1/1 [==============================] - 0s 7ms/step - loss: 0.6499 - acc: 0.8560\n",
            "Epoch 459/500\n",
            "1/1 [==============================] - 0s 7ms/step - loss: 0.6420 - acc: 0.8560\n",
            "Epoch 460/500\n",
            "1/1 [==============================] - 0s 8ms/step - loss: 0.6343 - acc: 0.8560\n",
            "Epoch 461/500\n",
            "1/1 [==============================] - 0s 8ms/step - loss: 0.6265 - acc: 0.8720\n",
            "Epoch 462/500\n",
            "1/1 [==============================] - 0s 11ms/step - loss: 0.6189 - acc: 0.8720\n",
            "Epoch 463/500\n",
            "1/1 [==============================] - 0s 7ms/step - loss: 0.6112 - acc: 0.8720\n",
            "Epoch 464/500\n",
            "1/1 [==============================] - 0s 8ms/step - loss: 0.6037 - acc: 0.8720\n",
            "Epoch 465/500\n",
            "1/1 [==============================] - 0s 8ms/step - loss: 0.5962 - acc: 0.8720\n",
            "Epoch 466/500\n",
            "1/1 [==============================] - 0s 7ms/step - loss: 0.5887 - acc: 0.9040\n",
            "Epoch 467/500\n",
            "1/1 [==============================] - 0s 9ms/step - loss: 0.5813 - acc: 0.9120\n",
            "Epoch 468/500\n",
            "1/1 [==============================] - 0s 7ms/step - loss: 0.5740 - acc: 0.9120\n",
            "Epoch 469/500\n",
            "1/1 [==============================] - 0s 7ms/step - loss: 0.5667 - acc: 0.9120\n",
            "Epoch 470/500\n",
            "1/1 [==============================] - 0s 7ms/step - loss: 0.5595 - acc: 0.9120\n",
            "Epoch 471/500\n",
            "1/1 [==============================] - 0s 7ms/step - loss: 0.5524 - acc: 0.9200\n",
            "Epoch 472/500\n",
            "1/1 [==============================] - 0s 8ms/step - loss: 0.5453 - acc: 0.9200\n",
            "Epoch 473/500\n",
            "1/1 [==============================] - 0s 7ms/step - loss: 0.5383 - acc: 0.9360\n",
            "Epoch 474/500\n",
            "1/1 [==============================] - 0s 6ms/step - loss: 0.5313 - acc: 0.9440\n",
            "Epoch 475/500\n",
            "1/1 [==============================] - 0s 7ms/step - loss: 0.5244 - acc: 0.9440\n",
            "Epoch 476/500\n",
            "1/1 [==============================] - 0s 7ms/step - loss: 0.5176 - acc: 0.9440\n",
            "Epoch 477/500\n",
            "1/1 [==============================] - 0s 7ms/step - loss: 0.5108 - acc: 0.9440\n",
            "Epoch 478/500\n",
            "1/1 [==============================] - 0s 7ms/step - loss: 0.5042 - acc: 0.9440\n",
            "Epoch 479/500\n",
            "1/1 [==============================] - 0s 7ms/step - loss: 0.4975 - acc: 0.9440\n",
            "Epoch 480/500\n",
            "1/1 [==============================] - 0s 7ms/step - loss: 0.4910 - acc: 0.9520\n",
            "Epoch 481/500\n",
            "1/1 [==============================] - 0s 8ms/step - loss: 0.4845 - acc: 0.9520\n",
            "Epoch 482/500\n",
            "1/1 [==============================] - 0s 7ms/step - loss: 0.4781 - acc: 0.9520\n",
            "Epoch 483/500\n",
            "1/1 [==============================] - 0s 7ms/step - loss: 0.4718 - acc: 0.9520\n",
            "Epoch 484/500\n",
            "1/1 [==============================] - 0s 7ms/step - loss: 0.4655 - acc: 0.9520\n",
            "Epoch 485/500\n",
            "1/1 [==============================] - 0s 6ms/step - loss: 0.4593 - acc: 0.9600\n",
            "Epoch 486/500\n",
            "1/1 [==============================] - 0s 9ms/step - loss: 0.4532 - acc: 0.9600\n",
            "Epoch 487/500\n",
            "1/1 [==============================] - 0s 7ms/step - loss: 0.4472 - acc: 0.9600\n",
            "Epoch 488/500\n",
            "1/1 [==============================] - 0s 7ms/step - loss: 0.4412 - acc: 0.9600\n",
            "Epoch 489/500\n",
            "1/1 [==============================] - 0s 7ms/step - loss: 0.4353 - acc: 0.9680\n",
            "Epoch 490/500\n",
            "1/1 [==============================] - 0s 8ms/step - loss: 0.4294 - acc: 0.9680\n",
            "Epoch 491/500\n",
            "1/1 [==============================] - 0s 8ms/step - loss: 0.4237 - acc: 0.9680\n",
            "Epoch 492/500\n",
            "1/1 [==============================] - 0s 8ms/step - loss: 0.4180 - acc: 0.9680\n",
            "Epoch 493/500\n",
            "1/1 [==============================] - 0s 8ms/step - loss: 0.4124 - acc: 0.9680\n",
            "Epoch 494/500\n",
            "1/1 [==============================] - 0s 6ms/step - loss: 0.4068 - acc: 0.9680\n",
            "Epoch 495/500\n",
            "1/1 [==============================] - 0s 8ms/step - loss: 0.4014 - acc: 0.9680\n",
            "Epoch 496/500\n",
            "1/1 [==============================] - 0s 8ms/step - loss: 0.3960 - acc: 0.9680\n",
            "Epoch 497/500\n",
            "1/1 [==============================] - 0s 8ms/step - loss: 0.3906 - acc: 0.9680\n",
            "Epoch 498/500\n",
            "1/1 [==============================] - 0s 7ms/step - loss: 0.3854 - acc: 0.9760\n",
            "Epoch 499/500\n",
            "1/1 [==============================] - 0s 7ms/step - loss: 0.3802 - acc: 0.9760\n",
            "Epoch 500/500\n",
            "1/1 [==============================] - 0s 6ms/step - loss: 0.3751 - acc: 0.9760\n"
          ],
          "name": "stdout"
        }
      ]
    },
    {
      "cell_type": "code",
      "metadata": {
        "colab_type": "code",
        "id": "97qr2nuicok9",
        "colab": {
          "base_uri": "https://localhost:8080/",
          "height": 545
        },
        "outputId": "b724cc2c-072b-4826-8b13-dad2dfefb54b"
      },
      "source": [
        "# Plot the Training and Validation Accuracy & Loss Scores\n",
        "# Enter your code here:\n",
        "%matplotlib inline\n",
        "import matplotlib.pyplot as plt\n",
        "\n",
        "acc = history.history['acc']\n",
        "loss = history.history['loss']\n",
        "\n",
        "epochs = range(1, len(acc) + 1)\n",
        "\n",
        "plt.plot(epochs, acc, 'bo', label='Training acc')\n",
        "plt.title('Training and validation accuracy')\n",
        "plt.legend()\n",
        "\n",
        "plt.figure()\n",
        "\n",
        "plt.plot(epochs, loss, 'bo', label='Training loss')\n",
        "plt.title('Training and validation loss')\n",
        "plt.legend()\n",
        "\n",
        "plt.show()"
      ],
      "execution_count": null,
      "outputs": [
        {
          "output_type": "display_data",
          "data": {
            "image/png": "[encoded data removed]",
            "text/plain": [
              "<Figure size 432x288 with 1 Axes>"
            ]
          },
          "metadata": {
            "tags": [],
            "needs_background": "light"
          }
        },
        {
          "output_type": "display_data",
          "data": {
            "image/png": "[encoded data removed]",
            "text/plain": [
              "<Figure size 432x288 with 1 Axes>"
            ]
          },
          "metadata": {
            "tags": [],
            "needs_background": "light"
          }
        }
      ]
    },
    {
      "cell_type": "code",
      "metadata": {
        "colab_type": "code",
        "id": "Jl-tJPcscok_",
        "colab": {}
      },
      "source": [
        "# Save the Model\n",
        "model.save(model_path+'chgen_model_5_2.h5')\n",
        "model.save('chgen_model_5_2.h5')"
      ],
      "execution_count": null,
      "outputs": []
    },
    {
      "cell_type": "markdown",
      "metadata": {
        "colab_type": "text",
        "id": "hW2yIq9fdRie"
      },
      "source": [
        "### Model #5_3 [GRU] (400e)"
      ]
    },
    {
      "cell_type": "code",
      "metadata": {
        "colab_type": "code",
        "id": "AHJ1RHcWdRif",
        "colab": {
          "base_uri": "https://localhost:8080/",
          "height": 289
        },
        "outputId": "77f91bdb-6b48-4b33-fb97-0ed10db95a44"
      },
      "source": [
        "# Build the Model\n",
        "# Enter your code here:\n",
        "from tensorflow.keras.models import Sequential\n",
        "from tensorflow.keras import layers\n",
        "from tensorflow.keras.optimizers import RMSprop, Adam\n",
        "\n",
        "model = keras.models.Sequential()\n",
        "model.add(layers.GRU(1024, input_shape=(window_size, len(chars)), return_sequences=True)) #multiclass single label classification\n",
        "model.add(layers.GRU(1024))\n",
        "model.add(layers.Flatten())\n",
        "model.add(layers.Dense(len(chars), activation='softmax'))\n",
        "model.summary()"
      ],
      "execution_count": null,
      "outputs": [
        {
          "output_type": "stream",
          "text": [
            "Model: \"sequential\"\n",
            "_________________________________________________________________\n",
            "Layer (type)                 Output Shape              Param #   \n",
            "=================================================================\n",
            "gru (GRU)                    (None, 100, 1024)         3259392   \n",
            "_________________________________________________________________\n",
            "gru_1 (GRU)                  (None, 1024)              6297600   \n",
            "_________________________________________________________________\n",
            "flatten (Flatten)            (None, 1024)              0         \n",
            "_________________________________________________________________\n",
            "dense (Dense)                (None, 35)                35875     \n",
            "=================================================================\n",
            "Total params: 9,592,867\n",
            "Trainable params: 9,592,867\n",
            "Non-trainable params: 0\n",
            "_________________________________________________________________\n"
          ],
          "name": "stdout"
        }
      ]
    },
    {
      "cell_type": "code",
      "metadata": {
        "colab_type": "code",
        "id": "K4cOOLGHdRih",
        "colab": {
          "base_uri": "https://localhost:8080/",
          "height": 1000
        },
        "outputId": "35fd432d-a26f-4a40-80e1-48752e2a6318"
      },
      "source": [
        "# Train the Model\n",
        "# Enter your code here:\n",
        "model.compile(loss='categorical_crossentropy', optimizer=Adam(lr=2e-5), metrics=['acc'])\n",
        "\n",
        "history = model.fit(X, y,\n",
        "                    epochs=400,\n",
        "                    batch_size=128) "
      ],
      "execution_count": null,
      "outputs": [
        {
          "output_type": "stream",
          "text": [
            "Epoch 1/400\n",
            "WARNING:tensorflow:Model was constructed with shape (None, 100, 35) for input Tensor(\"gru_input:0\", shape=(None, 100, 35), dtype=float32), but it was called on an input with incompatible shape (None, 5, 35).\n",
            "WARNING:tensorflow:Model was constructed with shape (None, 100, 35) for input Tensor(\"gru_input:0\", shape=(None, 100, 35), dtype=float32), but it was called on an input with incompatible shape (None, 5, 35).\n",
            "1/1 [==============================] - 0s 5ms/step - loss: 3.5545 - acc: 0.0160\n",
            "Epoch 2/400\n",
            "1/1 [==============================] - 0s 12ms/step - loss: 3.5524 - acc: 0.0320\n",
            "Epoch 3/400\n",
            "1/1 [==============================] - 0s 12ms/step - loss: 3.5502 - acc: 0.0400\n",
            "Epoch 4/400\n",
            "1/1 [==============================] - 0s 12ms/step - loss: 3.5481 - acc: 0.0880\n",
            "Epoch 5/400\n",
            "1/1 [==============================] - 0s 12ms/step - loss: 3.5459 - acc: 0.1200\n",
            "Epoch 6/400\n",
            "1/1 [==============================] - 0s 12ms/step - loss: 3.5437 - acc: 0.1520\n",
            "Epoch 7/400\n",
            "1/1 [==============================] - 0s 12ms/step - loss: 3.5415 - acc: 0.1520\n",
            "Epoch 8/400\n",
            "1/1 [==============================] - 0s 12ms/step - loss: 3.5392 - acc: 0.1600\n",
            "Epoch 9/400\n",
            "1/1 [==============================] - 0s 7ms/step - loss: 3.5370 - acc: 0.1840\n",
            "Epoch 10/400\n",
            "1/1 [==============================] - 0s 8ms/step - loss: 3.5348 - acc: 0.2080\n",
            "Epoch 11/400\n",
            "1/1 [==============================] - 0s 8ms/step - loss: 3.5325 - acc: 0.2080\n",
            "Epoch 12/400\n",
            "1/1 [==============================] - 0s 8ms/step - loss: 3.5302 - acc: 0.2080\n",
            "Epoch 13/400\n",
            "1/1 [==============================] - 0s 8ms/step - loss: 3.5279 - acc: 0.2080\n",
            "Epoch 14/400\n",
            "1/1 [==============================] - 0s 6ms/step - loss: 3.5256 - acc: 0.2000\n",
            "Epoch 15/400\n",
            "1/1 [==============================] - 0s 8ms/step - loss: 3.5233 - acc: 0.2000\n",
            "Epoch 16/400\n",
            "1/1 [==============================] - 0s 8ms/step - loss: 3.5210 - acc: 0.2000\n",
            "Epoch 17/400\n",
            "1/1 [==============================] - 0s 8ms/step - loss: 3.5186 - acc: 0.2000\n",
            "Epoch 18/400\n",
            "1/1 [==============================] - 0s 7ms/step - loss: 3.5162 - acc: 0.2000\n",
            "Epoch 19/400\n",
            "1/1 [==============================] - 0s 7ms/step - loss: 3.5138 - acc: 0.2000\n",
            "Epoch 20/400\n",
            "1/1 [==============================] - 0s 7ms/step - loss: 3.5113 - acc: 0.1920\n",
            "Epoch 21/400\n",
            "1/1 [==============================] - 0s 7ms/step - loss: 3.5089 - acc: 0.1920\n",
            "Epoch 22/400\n",
            "1/1 [==============================] - 0s 7ms/step - loss: 3.5063 - acc: 0.1920\n",
            "Epoch 23/400\n",
            "1/1 [==============================] - 0s 7ms/step - loss: 3.5038 - acc: 0.1920\n",
            "Epoch 24/400\n",
            "1/1 [==============================] - 0s 7ms/step - loss: 3.5012 - acc: 0.2000\n",
            "Epoch 25/400\n",
            "1/1 [==============================] - 0s 7ms/step - loss: 3.4986 - acc: 0.1840\n",
            "Epoch 26/400\n",
            "1/1 [==============================] - 0s 11ms/step - loss: 3.4959 - acc: 0.1840\n",
            "Epoch 27/400\n",
            "1/1 [==============================] - 0s 7ms/step - loss: 3.4932 - acc: 0.1840\n",
            "Epoch 28/400\n",
            "1/1 [==============================] - 0s 7ms/step - loss: 3.4905 - acc: 0.1840\n",
            "Epoch 29/400\n",
            "1/1 [==============================] - 0s 8ms/step - loss: 3.4876 - acc: 0.1840\n",
            "Epoch 30/400\n",
            "1/1 [==============================] - 0s 7ms/step - loss: 3.4848 - acc: 0.1840\n",
            "Epoch 31/400\n",
            "1/1 [==============================] - 0s 8ms/step - loss: 3.4818 - acc: 0.1840\n",
            "Epoch 32/400\n",
            "1/1 [==============================] - 0s 9ms/step - loss: 3.4789 - acc: 0.1840\n",
            "Epoch 33/400\n",
            "1/1 [==============================] - 0s 8ms/step - loss: 3.4758 - acc: 0.1840\n",
            "Epoch 34/400\n",
            "1/1 [==============================] - 0s 7ms/step - loss: 3.4727 - acc: 0.1840\n",
            "Epoch 35/400\n",
            "1/1 [==============================] - 0s 6ms/step - loss: 3.4695 - acc: 0.1840\n",
            "Epoch 36/400\n",
            "1/1 [==============================] - 0s 7ms/step - loss: 3.4662 - acc: 0.1840\n",
            "Epoch 37/400\n",
            "1/1 [==============================] - 0s 7ms/step - loss: 3.4629 - acc: 0.1840\n",
            "Epoch 38/400\n",
            "1/1 [==============================] - 0s 7ms/step - loss: 3.4595 - acc: 0.1840\n",
            "Epoch 39/400\n",
            "1/1 [==============================] - 0s 9ms/step - loss: 3.4559 - acc: 0.1840\n",
            "Epoch 40/400\n",
            "1/1 [==============================] - 0s 9ms/step - loss: 3.4523 - acc: 0.1840\n",
            "Epoch 41/400\n",
            "1/1 [==============================] - 0s 8ms/step - loss: 3.4486 - acc: 0.1760\n",
            "Epoch 42/400\n",
            "1/1 [==============================] - 0s 8ms/step - loss: 3.4448 - acc: 0.1760\n",
            "Epoch 43/400\n",
            "1/1 [==============================] - 0s 7ms/step - loss: 3.4409 - acc: 0.1760\n",
            "Epoch 44/400\n",
            "1/1 [==============================] - 0s 8ms/step - loss: 3.4369 - acc: 0.1760\n",
            "Epoch 45/400\n",
            "1/1 [==============================] - 0s 7ms/step - loss: 3.4327 - acc: 0.1760\n",
            "Epoch 46/400\n",
            "1/1 [==============================] - 0s 7ms/step - loss: 3.4284 - acc: 0.1760\n",
            "Epoch 47/400\n",
            "1/1 [==============================] - 0s 7ms/step - loss: 3.4240 - acc: 0.1760\n",
            "Epoch 48/400\n",
            "1/1 [==============================] - 0s 7ms/step - loss: 3.4195 - acc: 0.1760\n",
            "Epoch 49/400\n",
            "1/1 [==============================] - 0s 7ms/step - loss: 3.4148 - acc: 0.1760\n",
            "Epoch 50/400\n",
            "1/1 [==============================] - 0s 6ms/step - loss: 3.4100 - acc: 0.1760\n",
            "Epoch 51/400\n",
            "1/1 [==============================] - 0s 8ms/step - loss: 3.4050 - acc: 0.1760\n",
            "Epoch 52/400\n",
            "1/1 [==============================] - 0s 7ms/step - loss: 3.3998 - acc: 0.1760\n",
            "Epoch 53/400\n",
            "1/1 [==============================] - 0s 6ms/step - loss: 3.3945 - acc: 0.1760\n",
            "Epoch 54/400\n",
            "1/1 [==============================] - 0s 7ms/step - loss: 3.3890 - acc: 0.1760\n",
            "Epoch 55/400\n",
            "1/1 [==============================] - 0s 7ms/step - loss: 3.3833 - acc: 0.1760\n",
            "Epoch 56/400\n",
            "1/1 [==============================] - 0s 7ms/step - loss: 3.3774 - acc: 0.1760\n",
            "Epoch 57/400\n",
            "1/1 [==============================] - 0s 7ms/step - loss: 3.3713 - acc: 0.1760\n",
            "Epoch 58/400\n",
            "1/1 [==============================] - 0s 7ms/step - loss: 3.3650 - acc: 0.1760\n",
            "Epoch 59/400\n",
            "1/1 [==============================] - 0s 7ms/step - loss: 3.3585 - acc: 0.1760\n",
            "Epoch 60/400\n",
            "1/1 [==============================] - 0s 7ms/step - loss: 3.3518 - acc: 0.1760\n",
            "Epoch 61/400\n",
            "1/1 [==============================] - 0s 7ms/step - loss: 3.3448 - acc: 0.1760\n",
            "Epoch 62/400\n",
            "1/1 [==============================] - 0s 7ms/step - loss: 3.3376 - acc: 0.1760\n",
            "Epoch 63/400\n",
            "1/1 [==============================] - 0s 8ms/step - loss: 3.3301 - acc: 0.1760\n",
            "Epoch 64/400\n",
            "1/1 [==============================] - 0s 8ms/step - loss: 3.3224 - acc: 0.1760\n",
            "Epoch 65/400\n",
            "1/1 [==============================] - 0s 8ms/step - loss: 3.3144 - acc: 0.1760\n",
            "Epoch 66/400\n",
            "1/1 [==============================] - 0s 8ms/step - loss: 3.3062 - acc: 0.1760\n",
            "Epoch 67/400\n",
            "1/1 [==============================] - 0s 8ms/step - loss: 3.2977 - acc: 0.1760\n",
            "Epoch 68/400\n",
            "1/1 [==============================] - 0s 7ms/step - loss: 3.2889 - acc: 0.1760\n",
            "Epoch 69/400\n",
            "1/1 [==============================] - 0s 7ms/step - loss: 3.2798 - acc: 0.1760\n",
            "Epoch 70/400\n",
            "1/1 [==============================] - 0s 8ms/step - loss: 3.2704 - acc: 0.1760\n",
            "Epoch 71/400\n",
            "1/1 [==============================] - 0s 10ms/step - loss: 3.2607 - acc: 0.1760\n",
            "Epoch 72/400\n",
            "1/1 [==============================] - 0s 8ms/step - loss: 3.2508 - acc: 0.1760\n",
            "Epoch 73/400\n",
            "1/1 [==============================] - 0s 8ms/step - loss: 3.2405 - acc: 0.1760\n",
            "Epoch 74/400\n",
            "1/1 [==============================] - 0s 8ms/step - loss: 3.2300 - acc: 0.1760\n",
            "Epoch 75/400\n",
            "1/1 [==============================] - 0s 7ms/step - loss: 3.2193 - acc: 0.1760\n",
            "Epoch 76/400\n",
            "1/1 [==============================] - 0s 8ms/step - loss: 3.2082 - acc: 0.1760\n",
            "Epoch 77/400\n",
            "1/1 [==============================] - 0s 7ms/step - loss: 3.1970 - acc: 0.1760\n",
            "Epoch 78/400\n",
            "1/1 [==============================] - 0s 11ms/step - loss: 3.1855 - acc: 0.1760\n",
            "Epoch 79/400\n",
            "1/1 [==============================] - 0s 8ms/step - loss: 3.1738 - acc: 0.1760\n",
            "Epoch 80/400\n",
            "1/1 [==============================] - 0s 6ms/step - loss: 3.1620 - acc: 0.1760\n",
            "Epoch 81/400\n",
            "1/1 [==============================] - 0s 6ms/step - loss: 3.1501 - acc: 0.1760\n",
            "Epoch 82/400\n",
            "1/1 [==============================] - 0s 6ms/step - loss: 3.1381 - acc: 0.1760\n",
            "Epoch 83/400\n",
            "1/1 [==============================] - 0s 7ms/step - loss: 3.1260 - acc: 0.1760\n",
            "Epoch 84/400\n",
            "1/1 [==============================] - 0s 7ms/step - loss: 3.1141 - acc: 0.1760\n",
            "Epoch 85/400\n",
            "1/1 [==============================] - 0s 6ms/step - loss: 3.1022 - acc: 0.1760\n",
            "Epoch 86/400\n",
            "1/1 [==============================] - 0s 6ms/step - loss: 3.0905 - acc: 0.1760\n",
            "Epoch 87/400\n",
            "1/1 [==============================] - 0s 7ms/step - loss: 3.0791 - acc: 0.1760\n",
            "Epoch 88/400\n",
            "1/1 [==============================] - 0s 7ms/step - loss: 3.0681 - acc: 0.1760\n",
            "Epoch 89/400\n",
            "1/1 [==============================] - 0s 8ms/step - loss: 3.0575 - acc: 0.1760\n",
            "Epoch 90/400\n",
            "1/1 [==============================] - 0s 7ms/step - loss: 3.0475 - acc: 0.1760\n",
            "Epoch 91/400\n",
            "1/1 [==============================] - 0s 7ms/step - loss: 3.0380 - acc: 0.1760\n",
            "Epoch 92/400\n",
            "1/1 [==============================] - 0s 7ms/step - loss: 3.0292 - acc: 0.1760\n",
            "Epoch 93/400\n",
            "1/1 [==============================] - 0s 7ms/step - loss: 3.0210 - acc: 0.1760\n",
            "Epoch 94/400\n",
            "1/1 [==============================] - 0s 9ms/step - loss: 3.0135 - acc: 0.1760\n",
            "Epoch 95/400\n",
            "1/1 [==============================] - 0s 10ms/step - loss: 3.0067 - acc: 0.1760\n",
            "Epoch 96/400\n",
            "1/1 [==============================] - 0s 7ms/step - loss: 3.0004 - acc: 0.1760\n",
            "Epoch 97/400\n",
            "1/1 [==============================] - 0s 7ms/step - loss: 2.9946 - acc: 0.1760\n",
            "Epoch 98/400\n",
            "1/1 [==============================] - 0s 7ms/step - loss: 2.9892 - acc: 0.1760\n",
            "Epoch 99/400\n",
            "1/1 [==============================] - 0s 7ms/step - loss: 2.9840 - acc: 0.1760\n",
            "Epoch 100/400\n",
            "1/1 [==============================] - 0s 7ms/step - loss: 2.9789 - acc: 0.1760\n",
            "Epoch 101/400\n",
            "1/1 [==============================] - 0s 7ms/step - loss: 2.9739 - acc: 0.1760\n",
            "Epoch 102/400\n",
            "1/1 [==============================] - 0s 7ms/step - loss: 2.9689 - acc: 0.1760\n",
            "Epoch 103/400\n",
            "1/1 [==============================] - 0s 7ms/step - loss: 2.9638 - acc: 0.1760\n",
            "Epoch 104/400\n",
            "1/1 [==============================] - 0s 7ms/step - loss: 2.9586 - acc: 0.1760\n",
            "Epoch 105/400\n",
            "1/1 [==============================] - 0s 7ms/step - loss: 2.9534 - acc: 0.1760\n",
            "Epoch 106/400\n",
            "1/1 [==============================] - 0s 7ms/step - loss: 2.9482 - acc: 0.1760\n",
            "Epoch 107/400\n",
            "1/1 [==============================] - 0s 7ms/step - loss: 2.9430 - acc: 0.1760\n",
            "Epoch 108/400\n",
            "1/1 [==============================] - 0s 7ms/step - loss: 2.9379 - acc: 0.1760\n",
            "Epoch 109/400\n",
            "1/1 [==============================] - 0s 7ms/step - loss: 2.9330 - acc: 0.1760\n",
            "Epoch 110/400\n",
            "1/1 [==============================] - 0s 6ms/step - loss: 2.9282 - acc: 0.1760\n",
            "Epoch 111/400\n",
            "1/1 [==============================] - 0s 7ms/step - loss: 2.9236 - acc: 0.1760\n",
            "Epoch 112/400\n",
            "1/1 [==============================] - 0s 7ms/step - loss: 2.9191 - acc: 0.1760\n",
            "Epoch 113/400\n",
            "1/1 [==============================] - 0s 7ms/step - loss: 2.9149 - acc: 0.1760\n",
            "Epoch 114/400\n",
            "1/1 [==============================] - 0s 7ms/step - loss: 2.9108 - acc: 0.1760\n",
            "Epoch 115/400\n",
            "1/1 [==============================] - 0s 7ms/step - loss: 2.9069 - acc: 0.1760\n",
            "Epoch 116/400\n",
            "1/1 [==============================] - 0s 6ms/step - loss: 2.9032 - acc: 0.1760\n",
            "Epoch 117/400\n",
            "1/1 [==============================] - 0s 6ms/step - loss: 2.8995 - acc: 0.1760\n",
            "Epoch 118/400\n",
            "1/1 [==============================] - 0s 7ms/step - loss: 2.8960 - acc: 0.1760\n",
            "Epoch 119/400\n",
            "1/1 [==============================] - 0s 7ms/step - loss: 2.8925 - acc: 0.1760\n",
            "Epoch 120/400\n",
            "1/1 [==============================] - 0s 6ms/step - loss: 2.8891 - acc: 0.1760\n",
            "Epoch 121/400\n",
            "1/1 [==============================] - 0s 6ms/step - loss: 2.8857 - acc: 0.1760\n",
            "Epoch 122/400\n",
            "1/1 [==============================] - 0s 6ms/step - loss: 2.8824 - acc: 0.1760\n",
            "Epoch 123/400\n",
            "1/1 [==============================] - 0s 6ms/step - loss: 2.8791 - acc: 0.1760\n",
            "Epoch 124/400\n",
            "1/1 [==============================] - 0s 6ms/step - loss: 2.8758 - acc: 0.1760\n",
            "Epoch 125/400\n",
            "1/1 [==============================] - 0s 7ms/step - loss: 2.8726 - acc: 0.1760\n",
            "Epoch 126/400\n",
            "1/1 [==============================] - 0s 7ms/step - loss: 2.8694 - acc: 0.1760\n",
            "Epoch 127/400\n",
            "1/1 [==============================] - 0s 8ms/step - loss: 2.8662 - acc: 0.1760\n",
            "Epoch 128/400\n",
            "1/1 [==============================] - 0s 8ms/step - loss: 2.8631 - acc: 0.1760\n",
            "Epoch 129/400\n",
            "1/1 [==============================] - 0s 10ms/step - loss: 2.8600 - acc: 0.1760\n",
            "Epoch 130/400\n",
            "1/1 [==============================] - 0s 6ms/step - loss: 2.8570 - acc: 0.1760\n",
            "Epoch 131/400\n",
            "1/1 [==============================] - 0s 6ms/step - loss: 2.8540 - acc: 0.1760\n",
            "Epoch 132/400\n",
            "1/1 [==============================] - 0s 7ms/step - loss: 2.8511 - acc: 0.1760\n",
            "Epoch 133/400\n",
            "1/1 [==============================] - 0s 6ms/step - loss: 2.8482 - acc: 0.1760\n",
            "Epoch 134/400\n",
            "1/1 [==============================] - 0s 7ms/step - loss: 2.8454 - acc: 0.1760\n",
            "Epoch 135/400\n",
            "1/1 [==============================] - 0s 7ms/step - loss: 2.8426 - acc: 0.1760\n",
            "Epoch 136/400\n",
            "1/1 [==============================] - 0s 7ms/step - loss: 2.8399 - acc: 0.1760\n",
            "Epoch 137/400\n",
            "1/1 [==============================] - 0s 7ms/step - loss: 2.8372 - acc: 0.1760\n",
            "Epoch 138/400\n",
            "1/1 [==============================] - 0s 7ms/step - loss: 2.8345 - acc: 0.1760\n",
            "Epoch 139/400\n",
            "1/1 [==============================] - 0s 7ms/step - loss: 2.8318 - acc: 0.1760\n",
            "Epoch 140/400\n",
            "1/1 [==============================] - 0s 11ms/step - loss: 2.8291 - acc: 0.1760\n",
            "Epoch 141/400\n",
            "1/1 [==============================] - 0s 8ms/step - loss: 2.8265 - acc: 0.1760\n",
            "Epoch 142/400\n",
            "1/1 [==============================] - 0s 6ms/step - loss: 2.8238 - acc: 0.1760\n",
            "Epoch 143/400\n",
            "1/1 [==============================] - 0s 8ms/step - loss: 2.8212 - acc: 0.1760\n",
            "Epoch 144/400\n",
            "1/1 [==============================] - 0s 8ms/step - loss: 2.8186 - acc: 0.1760\n",
            "Epoch 145/400\n",
            "1/1 [==============================] - 0s 7ms/step - loss: 2.8160 - acc: 0.1760\n",
            "Epoch 146/400\n",
            "1/1 [==============================] - 0s 7ms/step - loss: 2.8134 - acc: 0.1760\n",
            "Epoch 147/400\n",
            "1/1 [==============================] - 0s 8ms/step - loss: 2.8108 - acc: 0.1760\n",
            "Epoch 148/400\n",
            "1/1 [==============================] - 0s 7ms/step - loss: 2.8082 - acc: 0.1760\n",
            "Epoch 149/400\n",
            "1/1 [==============================] - 0s 8ms/step - loss: 2.8056 - acc: 0.1760\n",
            "Epoch 150/400\n",
            "1/1 [==============================] - 0s 8ms/step - loss: 2.8030 - acc: 0.1760\n",
            "Epoch 151/400\n",
            "1/1 [==============================] - 0s 7ms/step - loss: 2.8005 - acc: 0.1760\n",
            "Epoch 152/400\n",
            "1/1 [==============================] - 0s 7ms/step - loss: 2.7979 - acc: 0.1760\n",
            "Epoch 153/400\n",
            "1/1 [==============================] - 0s 7ms/step - loss: 2.7953 - acc: 0.1760\n",
            "Epoch 154/400\n",
            "1/1 [==============================] - 0s 7ms/step - loss: 2.7928 - acc: 0.1760\n",
            "Epoch 155/400\n",
            "1/1 [==============================] - 0s 8ms/step - loss: 2.7902 - acc: 0.1760\n",
            "Epoch 156/400\n",
            "1/1 [==============================] - 0s 8ms/step - loss: 2.7876 - acc: 0.1760\n",
            "Epoch 157/400\n",
            "1/1 [==============================] - 0s 7ms/step - loss: 2.7851 - acc: 0.1760\n",
            "Epoch 158/400\n",
            "1/1 [==============================] - 0s 7ms/step - loss: 2.7825 - acc: 0.1760\n",
            "Epoch 159/400\n",
            "1/1 [==============================] - 0s 7ms/step - loss: 2.7799 - acc: 0.1760\n",
            "Epoch 160/400\n",
            "1/1 [==============================] - 0s 8ms/step - loss: 2.7773 - acc: 0.1760\n",
            "Epoch 161/400\n",
            "1/1 [==============================] - 0s 8ms/step - loss: 2.7747 - acc: 0.1760\n",
            "Epoch 162/400\n",
            "1/1 [==============================] - 0s 9ms/step - loss: 2.7721 - acc: 0.1760\n",
            "Epoch 163/400\n",
            "1/1 [==============================] - 0s 8ms/step - loss: 2.7695 - acc: 0.1760\n",
            "Epoch 164/400\n",
            "1/1 [==============================] - 0s 7ms/step - loss: 2.7669 - acc: 0.1760\n",
            "Epoch 165/400\n",
            "1/1 [==============================] - 0s 7ms/step - loss: 2.7642 - acc: 0.1760\n",
            "Epoch 166/400\n",
            "1/1 [==============================] - 0s 7ms/step - loss: 2.7616 - acc: 0.1760\n",
            "Epoch 167/400\n",
            "1/1 [==============================] - 0s 7ms/step - loss: 2.7589 - acc: 0.1760\n",
            "Epoch 168/400\n",
            "1/1 [==============================] - 0s 8ms/step - loss: 2.7563 - acc: 0.1760\n",
            "Epoch 169/400\n",
            "1/1 [==============================] - 0s 7ms/step - loss: 2.7536 - acc: 0.1760\n",
            "Epoch 170/400\n",
            "1/1 [==============================] - 0s 7ms/step - loss: 2.7509 - acc: 0.1760\n",
            "Epoch 171/400\n",
            "1/1 [==============================] - 0s 7ms/step - loss: 2.7482 - acc: 0.1760\n",
            "Epoch 172/400\n",
            "1/1 [==============================] - 0s 7ms/step - loss: 2.7455 - acc: 0.1760\n",
            "Epoch 173/400\n",
            "1/1 [==============================] - 0s 7ms/step - loss: 2.7428 - acc: 0.1760\n",
            "Epoch 174/400\n",
            "1/1 [==============================] - 0s 8ms/step - loss: 2.7400 - acc: 0.1760\n",
            "Epoch 175/400\n",
            "1/1 [==============================] - 0s 7ms/step - loss: 2.7372 - acc: 0.1760\n",
            "Epoch 176/400\n",
            "1/1 [==============================] - 0s 7ms/step - loss: 2.7344 - acc: 0.1760\n",
            "Epoch 177/400\n",
            "1/1 [==============================] - 0s 7ms/step - loss: 2.7316 - acc: 0.1760\n",
            "Epoch 178/400\n",
            "1/1 [==============================] - 0s 8ms/step - loss: 2.7288 - acc: 0.1760\n",
            "Epoch 179/400\n",
            "1/1 [==============================] - 0s 8ms/step - loss: 2.7259 - acc: 0.1760\n",
            "Epoch 180/400\n",
            "1/1 [==============================] - 0s 10ms/step - loss: 2.7231 - acc: 0.1760\n",
            "Epoch 181/400\n",
            "1/1 [==============================] - 0s 8ms/step - loss: 2.7202 - acc: 0.1760\n",
            "Epoch 182/400\n",
            "1/1 [==============================] - 0s 6ms/step - loss: 2.7173 - acc: 0.1760\n",
            "Epoch 183/400\n",
            "1/1 [==============================] - 0s 7ms/step - loss: 2.7143 - acc: 0.1760\n",
            "Epoch 184/400\n",
            "1/1 [==============================] - 0s 7ms/step - loss: 2.7113 - acc: 0.1760\n",
            "Epoch 185/400\n",
            "1/1 [==============================] - 0s 7ms/step - loss: 2.7083 - acc: 0.1760\n",
            "Epoch 186/400\n",
            "1/1 [==============================] - 0s 7ms/step - loss: 2.7053 - acc: 0.1760\n",
            "Epoch 187/400\n",
            "1/1 [==============================] - 0s 8ms/step - loss: 2.7023 - acc: 0.1760\n",
            "Epoch 188/400\n",
            "1/1 [==============================] - 0s 8ms/step - loss: 2.6992 - acc: 0.1760\n",
            "Epoch 189/400\n",
            "1/1 [==============================] - 0s 9ms/step - loss: 2.6961 - acc: 0.1760\n",
            "Epoch 190/400\n",
            "1/1 [==============================] - 0s 8ms/step - loss: 2.6929 - acc: 0.1840\n",
            "Epoch 191/400\n",
            "1/1 [==============================] - 0s 7ms/step - loss: 2.6897 - acc: 0.1840\n",
            "Epoch 192/400\n",
            "1/1 [==============================] - 0s 7ms/step - loss: 2.6865 - acc: 0.1920\n",
            "Epoch 193/400\n",
            "1/1 [==============================] - 0s 7ms/step - loss: 2.6833 - acc: 0.1920\n",
            "Epoch 194/400\n",
            "1/1 [==============================] - 0s 7ms/step - loss: 2.6800 - acc: 0.1920\n",
            "Epoch 195/400\n",
            "1/1 [==============================] - 0s 7ms/step - loss: 2.6767 - acc: 0.1920\n",
            "Epoch 196/400\n",
            "1/1 [==============================] - 0s 7ms/step - loss: 2.6734 - acc: 0.1920\n",
            "Epoch 197/400\n",
            "1/1 [==============================] - 0s 7ms/step - loss: 2.6700 - acc: 0.1920\n",
            "Epoch 198/400\n",
            "1/1 [==============================] - 0s 8ms/step - loss: 2.6666 - acc: 0.1920\n",
            "Epoch 199/400\n",
            "1/1 [==============================] - 0s 8ms/step - loss: 2.6631 - acc: 0.1920\n",
            "Epoch 200/400\n",
            "1/1 [==============================] - 0s 7ms/step - loss: 2.6596 - acc: 0.2000\n",
            "Epoch 201/400\n",
            "1/1 [==============================] - 0s 7ms/step - loss: 2.6561 - acc: 0.2000\n",
            "Epoch 202/400\n",
            "1/1 [==============================] - 0s 8ms/step - loss: 2.6525 - acc: 0.2080\n",
            "Epoch 203/400\n",
            "1/1 [==============================] - 0s 8ms/step - loss: 2.6489 - acc: 0.2080\n",
            "Epoch 204/400\n",
            "1/1 [==============================] - 0s 6ms/step - loss: 2.6452 - acc: 0.2080\n",
            "Epoch 205/400\n",
            "1/1 [==============================] - 0s 6ms/step - loss: 2.6415 - acc: 0.2080\n",
            "Epoch 206/400\n",
            "1/1 [==============================] - 0s 7ms/step - loss: 2.6378 - acc: 0.2080\n",
            "Epoch 207/400\n",
            "1/1 [==============================] - 0s 7ms/step - loss: 2.6340 - acc: 0.2080\n",
            "Epoch 208/400\n",
            "1/1 [==============================] - 0s 7ms/step - loss: 2.6302 - acc: 0.2080\n",
            "Epoch 209/400\n",
            "1/1 [==============================] - 0s 7ms/step - loss: 2.6263 - acc: 0.2080\n",
            "Epoch 210/400\n",
            "1/1 [==============================] - 0s 7ms/step - loss: 2.6224 - acc: 0.2080\n",
            "Epoch 211/400\n",
            "1/1 [==============================] - 0s 7ms/step - loss: 2.6184 - acc: 0.2080\n",
            "Epoch 212/400\n",
            "1/1 [==============================] - 0s 7ms/step - loss: 2.6144 - acc: 0.2080\n",
            "Epoch 213/400\n",
            "1/1 [==============================] - 0s 7ms/step - loss: 2.6103 - acc: 0.2080\n",
            "Epoch 214/400\n",
            "1/1 [==============================] - 0s 7ms/step - loss: 2.6062 - acc: 0.2080\n",
            "Epoch 215/400\n",
            "1/1 [==============================] - 0s 8ms/step - loss: 2.6020 - acc: 0.2080\n",
            "Epoch 216/400\n",
            "1/1 [==============================] - 0s 7ms/step - loss: 2.5978 - acc: 0.2080\n",
            "Epoch 217/400\n",
            "1/1 [==============================] - 0s 7ms/step - loss: 2.5936 - acc: 0.2160\n",
            "Epoch 218/400\n",
            "1/1 [==============================] - 0s 8ms/step - loss: 2.5893 - acc: 0.2160\n",
            "Epoch 219/400\n",
            "1/1 [==============================] - 0s 7ms/step - loss: 2.5849 - acc: 0.2240\n",
            "Epoch 220/400\n",
            "1/1 [==============================] - 0s 7ms/step - loss: 2.5805 - acc: 0.2320\n",
            "Epoch 221/400\n",
            "1/1 [==============================] - 0s 7ms/step - loss: 2.5760 - acc: 0.2400\n",
            "Epoch 222/400\n",
            "1/1 [==============================] - 0s 7ms/step - loss: 2.5715 - acc: 0.2480\n",
            "Epoch 223/400\n",
            "1/1 [==============================] - 0s 8ms/step - loss: 2.5670 - acc: 0.2400\n",
            "Epoch 224/400\n",
            "1/1 [==============================] - 0s 8ms/step - loss: 2.5624 - acc: 0.2400\n",
            "Epoch 225/400\n",
            "1/1 [==============================] - 0s 8ms/step - loss: 2.5577 - acc: 0.2400\n",
            "Epoch 226/400\n",
            "1/1 [==============================] - 0s 8ms/step - loss: 2.5530 - acc: 0.2400\n",
            "Epoch 227/400\n",
            "1/1 [==============================] - 0s 8ms/step - loss: 2.5482 - acc: 0.2400\n",
            "Epoch 228/400\n",
            "1/1 [==============================] - 0s 8ms/step - loss: 2.5434 - acc: 0.2320\n",
            "Epoch 229/400\n",
            "1/1 [==============================] - 0s 9ms/step - loss: 2.5386 - acc: 0.2480\n",
            "Epoch 230/400\n",
            "1/1 [==============================] - 0s 8ms/step - loss: 2.5337 - acc: 0.2480\n",
            "Epoch 231/400\n",
            "1/1 [==============================] - 0s 7ms/step - loss: 2.5287 - acc: 0.2480\n",
            "Epoch 232/400\n",
            "1/1 [==============================] - 0s 7ms/step - loss: 2.5237 - acc: 0.2480\n",
            "Epoch 233/400\n",
            "1/1 [==============================] - 0s 6ms/step - loss: 2.5187 - acc: 0.2480\n",
            "Epoch 234/400\n",
            "1/1 [==============================] - 0s 7ms/step - loss: 2.5136 - acc: 0.2480\n",
            "Epoch 235/400\n",
            "1/1 [==============================] - 0s 7ms/step - loss: 2.5084 - acc: 0.2480\n",
            "Epoch 236/400\n",
            "1/1 [==============================] - 0s 8ms/step - loss: 2.5033 - acc: 0.2720\n",
            "Epoch 237/400\n",
            "1/1 [==============================] - 0s 8ms/step - loss: 2.4981 - acc: 0.2800\n",
            "Epoch 238/400\n",
            "1/1 [==============================] - 0s 9ms/step - loss: 2.4928 - acc: 0.2800\n",
            "Epoch 239/400\n",
            "1/1 [==============================] - 0s 7ms/step - loss: 2.4875 - acc: 0.2800\n",
            "Epoch 240/400\n",
            "1/1 [==============================] - 0s 9ms/step - loss: 2.4822 - acc: 0.2800\n",
            "Epoch 241/400\n",
            "1/1 [==============================] - 0s 8ms/step - loss: 2.4768 - acc: 0.2800\n",
            "Epoch 242/400\n",
            "1/1 [==============================] - 0s 7ms/step - loss: 2.4714 - acc: 0.2800\n",
            "Epoch 243/400\n",
            "1/1 [==============================] - 0s 7ms/step - loss: 2.4660 - acc: 0.2880\n",
            "Epoch 244/400\n",
            "1/1 [==============================] - 0s 8ms/step - loss: 2.4605 - acc: 0.2880\n",
            "Epoch 245/400\n",
            "1/1 [==============================] - 0s 7ms/step - loss: 2.4550 - acc: 0.3040\n",
            "Epoch 246/400\n",
            "1/1 [==============================] - 0s 8ms/step - loss: 2.4495 - acc: 0.3120\n",
            "Epoch 247/400\n",
            "1/1 [==============================] - 0s 8ms/step - loss: 2.4440 - acc: 0.3120\n",
            "Epoch 248/400\n",
            "1/1 [==============================] - 0s 7ms/step - loss: 2.4384 - acc: 0.3120\n",
            "Epoch 249/400\n",
            "1/1 [==============================] - 0s 9ms/step - loss: 2.4328 - acc: 0.3120\n",
            "Epoch 250/400\n",
            "1/1 [==============================] - 0s 7ms/step - loss: 2.4272 - acc: 0.3040\n",
            "Epoch 251/400\n",
            "1/1 [==============================] - 0s 7ms/step - loss: 2.4215 - acc: 0.3040\n",
            "Epoch 252/400\n",
            "1/1 [==============================] - 0s 8ms/step - loss: 2.4159 - acc: 0.3040\n",
            "Epoch 253/400\n",
            "1/1 [==============================] - 0s 6ms/step - loss: 2.4102 - acc: 0.3040\n",
            "Epoch 254/400\n",
            "1/1 [==============================] - 0s 7ms/step - loss: 2.4045 - acc: 0.3040\n",
            "Epoch 255/400\n",
            "1/1 [==============================] - 0s 8ms/step - loss: 2.3987 - acc: 0.3040\n",
            "Epoch 256/400\n",
            "1/1 [==============================] - 0s 7ms/step - loss: 2.3930 - acc: 0.3040\n",
            "Epoch 257/400\n",
            "1/1 [==============================] - 0s 7ms/step - loss: 2.3872 - acc: 0.3040\n",
            "Epoch 258/400\n",
            "1/1 [==============================] - 0s 7ms/step - loss: 2.3815 - acc: 0.3040\n",
            "Epoch 259/400\n",
            "1/1 [==============================] - 0s 7ms/step - loss: 2.3757 - acc: 0.3040\n",
            "Epoch 260/400\n",
            "1/1 [==============================] - 0s 8ms/step - loss: 2.3698 - acc: 0.3040\n",
            "Epoch 261/400\n",
            "1/1 [==============================] - 0s 6ms/step - loss: 2.3640 - acc: 0.3040\n",
            "Epoch 262/400\n",
            "1/1 [==============================] - 0s 7ms/step - loss: 2.3581 - acc: 0.3120\n",
            "Epoch 263/400\n",
            "1/1 [==============================] - 0s 8ms/step - loss: 2.3523 - acc: 0.3120\n",
            "Epoch 264/400\n",
            "1/1 [==============================] - 0s 7ms/step - loss: 2.3463 - acc: 0.3120\n",
            "Epoch 265/400\n",
            "1/1 [==============================] - 0s 7ms/step - loss: 2.3404 - acc: 0.3120\n",
            "Epoch 266/400\n",
            "1/1 [==============================] - 0s 6ms/step - loss: 2.3345 - acc: 0.3120\n",
            "Epoch 267/400\n",
            "1/1 [==============================] - 0s 7ms/step - loss: 2.3285 - acc: 0.3120\n",
            "Epoch 268/400\n",
            "1/1 [==============================] - 0s 7ms/step - loss: 2.3225 - acc: 0.3120\n",
            "Epoch 269/400\n",
            "1/1 [==============================] - 0s 7ms/step - loss: 2.3165 - acc: 0.3120\n",
            "Epoch 270/400\n",
            "1/1 [==============================] - 0s 7ms/step - loss: 2.3104 - acc: 0.3120\n",
            "Epoch 271/400\n",
            "1/1 [==============================] - 0s 7ms/step - loss: 2.3043 - acc: 0.3120\n",
            "Epoch 272/400\n",
            "1/1 [==============================] - 0s 7ms/step - loss: 2.2982 - acc: 0.3120\n",
            "Epoch 273/400\n",
            "1/1 [==============================] - 0s 7ms/step - loss: 2.2921 - acc: 0.3120\n",
            "Epoch 274/400\n",
            "1/1 [==============================] - 0s 7ms/step - loss: 2.2859 - acc: 0.3120\n",
            "Epoch 275/400\n",
            "1/1 [==============================] - 0s 7ms/step - loss: 2.2797 - acc: 0.3120\n",
            "Epoch 276/400\n",
            "1/1 [==============================] - 0s 6ms/step - loss: 2.2735 - acc: 0.3120\n",
            "Epoch 277/400\n",
            "1/1 [==============================] - 0s 6ms/step - loss: 2.2672 - acc: 0.3120\n",
            "Epoch 278/400\n",
            "1/1 [==============================] - 0s 6ms/step - loss: 2.2609 - acc: 0.3280\n",
            "Epoch 279/400\n",
            "1/1 [==============================] - 0s 6ms/step - loss: 2.2545 - acc: 0.3280\n",
            "Epoch 280/400\n",
            "1/1 [==============================] - 0s 7ms/step - loss: 2.2482 - acc: 0.3280\n",
            "Epoch 281/400\n",
            "1/1 [==============================] - 0s 10ms/step - loss: 2.2417 - acc: 0.3280\n",
            "Epoch 282/400\n",
            "1/1 [==============================] - 0s 8ms/step - loss: 2.2353 - acc: 0.3280\n",
            "Epoch 283/400\n",
            "1/1 [==============================] - 0s 6ms/step - loss: 2.2288 - acc: 0.3280\n",
            "Epoch 284/400\n",
            "1/1 [==============================] - 0s 6ms/step - loss: 2.2222 - acc: 0.3280\n",
            "Epoch 285/400\n",
            "1/1 [==============================] - 0s 7ms/step - loss: 2.2156 - acc: 0.3280\n",
            "Epoch 286/400\n",
            "1/1 [==============================] - 0s 10ms/step - loss: 2.2090 - acc: 0.3280\n",
            "Epoch 287/400\n",
            "1/1 [==============================] - 0s 7ms/step - loss: 2.2024 - acc: 0.3280\n",
            "Epoch 288/400\n",
            "1/1 [==============================] - 0s 7ms/step - loss: 2.1956 - acc: 0.3280\n",
            "Epoch 289/400\n",
            "1/1 [==============================] - 0s 6ms/step - loss: 2.1889 - acc: 0.3280\n",
            "Epoch 290/400\n",
            "1/1 [==============================] - 0s 7ms/step - loss: 2.1821 - acc: 0.3280\n",
            "Epoch 291/400\n",
            "1/1 [==============================] - 0s 7ms/step - loss: 2.1753 - acc: 0.3280\n",
            "Epoch 292/400\n",
            "1/1 [==============================] - 0s 7ms/step - loss: 2.1684 - acc: 0.3280\n",
            "Epoch 293/400\n",
            "1/1 [==============================] - 0s 7ms/step - loss: 2.1615 - acc: 0.3280\n",
            "Epoch 294/400\n",
            "1/1 [==============================] - 0s 7ms/step - loss: 2.1545 - acc: 0.3280\n",
            "Epoch 295/400\n",
            "1/1 [==============================] - 0s 7ms/step - loss: 2.1475 - acc: 0.3280\n",
            "Epoch 296/400\n",
            "1/1 [==============================] - 0s 7ms/step - loss: 2.1404 - acc: 0.3280\n",
            "Epoch 297/400\n",
            "1/1 [==============================] - 0s 7ms/step - loss: 2.1333 - acc: 0.3280\n",
            "Epoch 298/400\n",
            "1/1 [==============================] - 0s 7ms/step - loss: 2.1262 - acc: 0.3360\n",
            "Epoch 299/400\n",
            "1/1 [==============================] - 0s 7ms/step - loss: 2.1190 - acc: 0.3440\n",
            "Epoch 300/400\n",
            "1/1 [==============================] - 0s 7ms/step - loss: 2.1118 - acc: 0.3440\n",
            "Epoch 301/400\n",
            "1/1 [==============================] - 0s 7ms/step - loss: 2.1045 - acc: 0.3440\n",
            "Epoch 302/400\n",
            "1/1 [==============================] - 0s 8ms/step - loss: 2.0972 - acc: 0.3440\n",
            "Epoch 303/400\n",
            "1/1 [==============================] - 0s 8ms/step - loss: 2.0898 - acc: 0.3440\n",
            "Epoch 304/400\n",
            "1/1 [==============================] - 0s 7ms/step - loss: 2.0824 - acc: 0.3520\n",
            "Epoch 305/400\n",
            "1/1 [==============================] - 0s 7ms/step - loss: 2.0749 - acc: 0.3520\n",
            "Epoch 306/400\n",
            "1/1 [==============================] - 0s 2ms/step - loss: 2.0675 - acc: 0.3600\n",
            "Epoch 307/400\n",
            "1/1 [==============================] - 0s 7ms/step - loss: 2.0599 - acc: 0.3680\n",
            "Epoch 308/400\n",
            "1/1 [==============================] - 0s 8ms/step - loss: 2.0524 - acc: 0.3600\n",
            "Epoch 309/400\n",
            "1/1 [==============================] - 0s 7ms/step - loss: 2.0447 - acc: 0.3600\n",
            "Epoch 310/400\n",
            "1/1 [==============================] - 0s 7ms/step - loss: 2.0371 - acc: 0.3760\n",
            "Epoch 311/400\n",
            "1/1 [==============================] - 0s 8ms/step - loss: 2.0294 - acc: 0.3760\n",
            "Epoch 312/400\n",
            "1/1 [==============================] - 0s 8ms/step - loss: 2.0217 - acc: 0.3760\n",
            "Epoch 313/400\n",
            "1/1 [==============================] - 0s 9ms/step - loss: 2.0139 - acc: 0.3760\n",
            "Epoch 314/400\n",
            "1/1 [==============================] - 0s 8ms/step - loss: 2.0061 - acc: 0.3760\n",
            "Epoch 315/400\n",
            "1/1 [==============================] - 0s 8ms/step - loss: 1.9982 - acc: 0.3760\n",
            "Epoch 316/400\n",
            "1/1 [==============================] - 0s 7ms/step - loss: 1.9903 - acc: 0.3920\n",
            "Epoch 317/400\n",
            "1/1 [==============================] - 0s 7ms/step - loss: 1.9824 - acc: 0.4080\n",
            "Epoch 318/400\n",
            "1/1 [==============================] - 0s 7ms/step - loss: 1.9745 - acc: 0.4000\n",
            "Epoch 319/400\n",
            "1/1 [==============================] - 0s 7ms/step - loss: 1.9665 - acc: 0.4000\n",
            "Epoch 320/400\n",
            "1/1 [==============================] - 0s 7ms/step - loss: 1.9585 - acc: 0.4000\n",
            "Epoch 321/400\n",
            "1/1 [==============================] - 0s 8ms/step - loss: 1.9504 - acc: 0.4000\n",
            "Epoch 322/400\n",
            "1/1 [==============================] - 0s 8ms/step - loss: 1.9423 - acc: 0.4000\n",
            "Epoch 323/400\n",
            "1/1 [==============================] - 0s 9ms/step - loss: 1.9342 - acc: 0.4000\n",
            "Epoch 324/400\n",
            "1/1 [==============================] - 0s 9ms/step - loss: 1.9261 - acc: 0.4000\n",
            "Epoch 325/400\n",
            "1/1 [==============================] - 0s 7ms/step - loss: 1.9179 - acc: 0.4000\n",
            "Epoch 326/400\n",
            "1/1 [==============================] - 0s 7ms/step - loss: 1.9097 - acc: 0.3920\n",
            "Epoch 327/400\n",
            "1/1 [==============================] - 0s 8ms/step - loss: 1.9015 - acc: 0.4000\n",
            "Epoch 328/400\n",
            "1/1 [==============================] - 0s 9ms/step - loss: 1.8933 - acc: 0.4000\n",
            "Epoch 329/400\n",
            "1/1 [==============================] - 0s 8ms/step - loss: 1.8850 - acc: 0.4000\n",
            "Epoch 330/400\n",
            "1/1 [==============================] - 0s 8ms/step - loss: 1.8767 - acc: 0.4000\n",
            "Epoch 331/400\n",
            "1/1 [==============================] - 0s 7ms/step - loss: 1.8684 - acc: 0.4000\n",
            "Epoch 332/400\n",
            "1/1 [==============================] - 0s 15ms/step - loss: 1.8601 - acc: 0.4000\n",
            "Epoch 333/400\n",
            "1/1 [==============================] - 0s 7ms/step - loss: 1.8517 - acc: 0.4160\n",
            "Epoch 334/400\n",
            "1/1 [==============================] - 0s 7ms/step - loss: 1.8434 - acc: 0.4160\n",
            "Epoch 335/400\n",
            "1/1 [==============================] - 0s 7ms/step - loss: 1.8350 - acc: 0.4160\n",
            "Epoch 336/400\n",
            "1/1 [==============================] - 0s 7ms/step - loss: 1.8266 - acc: 0.4160\n",
            "Epoch 337/400\n",
            "1/1 [==============================] - 0s 7ms/step - loss: 1.8182 - acc: 0.4240\n",
            "Epoch 338/400\n",
            "1/1 [==============================] - 0s 7ms/step - loss: 1.8098 - acc: 0.4320\n",
            "Epoch 339/400\n",
            "1/1 [==============================] - 0s 7ms/step - loss: 1.8014 - acc: 0.4320\n",
            "Epoch 340/400\n",
            "1/1 [==============================] - 0s 7ms/step - loss: 1.7929 - acc: 0.4320\n",
            "Epoch 341/400\n",
            "1/1 [==============================] - 0s 7ms/step - loss: 1.7845 - acc: 0.4320\n",
            "Epoch 342/400\n",
            "1/1 [==============================] - 0s 7ms/step - loss: 1.7760 - acc: 0.4320\n",
            "Epoch 343/400\n",
            "1/1 [==============================] - 0s 6ms/step - loss: 1.7676 - acc: 0.4320\n",
            "Epoch 344/400\n",
            "1/1 [==============================] - 0s 8ms/step - loss: 1.7591 - acc: 0.4320\n",
            "Epoch 345/400\n",
            "1/1 [==============================] - 0s 7ms/step - loss: 1.7506 - acc: 0.4400\n",
            "Epoch 346/400\n",
            "1/1 [==============================] - 0s 9ms/step - loss: 1.7421 - acc: 0.4400\n",
            "Epoch 347/400\n",
            "1/1 [==============================] - 0s 7ms/step - loss: 1.7336 - acc: 0.4400\n",
            "Epoch 348/400\n",
            "1/1 [==============================] - 0s 8ms/step - loss: 1.7251 - acc: 0.4400\n",
            "Epoch 349/400\n",
            "1/1 [==============================] - 0s 7ms/step - loss: 1.7167 - acc: 0.4400\n",
            "Epoch 350/400\n",
            "1/1 [==============================] - 0s 7ms/step - loss: 1.7082 - acc: 0.4400\n",
            "Epoch 351/400\n",
            "1/1 [==============================] - 0s 8ms/step - loss: 1.6997 - acc: 0.4400\n",
            "Epoch 352/400\n",
            "1/1 [==============================] - 0s 8ms/step - loss: 1.6912 - acc: 0.4480\n",
            "Epoch 353/400\n",
            "1/1 [==============================] - 0s 8ms/step - loss: 1.6827 - acc: 0.4480\n",
            "Epoch 354/400\n",
            "1/1 [==============================] - 0s 8ms/step - loss: 1.6742 - acc: 0.4560\n",
            "Epoch 355/400\n",
            "1/1 [==============================] - 0s 7ms/step - loss: 1.6656 - acc: 0.4640\n",
            "Epoch 356/400\n",
            "1/1 [==============================] - 0s 7ms/step - loss: 1.6571 - acc: 0.4720\n",
            "Epoch 357/400\n",
            "1/1 [==============================] - 0s 9ms/step - loss: 1.6486 - acc: 0.4720\n",
            "Epoch 358/400\n",
            "1/1 [==============================] - 0s 10ms/step - loss: 1.6401 - acc: 0.4720\n",
            "Epoch 359/400\n",
            "1/1 [==============================] - 0s 7ms/step - loss: 1.6316 - acc: 0.4800\n",
            "Epoch 360/400\n",
            "1/1 [==============================] - 0s 7ms/step - loss: 1.6231 - acc: 0.4800\n",
            "Epoch 361/400\n",
            "1/1 [==============================] - 0s 8ms/step - loss: 1.6146 - acc: 0.4800\n",
            "Epoch 362/400\n",
            "1/1 [==============================] - 0s 7ms/step - loss: 1.6061 - acc: 0.4800\n",
            "Epoch 363/400\n",
            "1/1 [==============================] - 0s 8ms/step - loss: 1.5976 - acc: 0.4880\n",
            "Epoch 364/400\n",
            "1/1 [==============================] - 0s 8ms/step - loss: 1.5891 - acc: 0.4880\n",
            "Epoch 365/400\n",
            "1/1 [==============================] - 0s 8ms/step - loss: 1.5806 - acc: 0.4960\n",
            "Epoch 366/400\n",
            "1/1 [==============================] - 0s 8ms/step - loss: 1.5721 - acc: 0.4960\n",
            "Epoch 367/400\n",
            "1/1 [==============================] - 0s 9ms/step - loss: 1.5636 - acc: 0.5120\n",
            "Epoch 368/400\n",
            "1/1 [==============================] - 0s 8ms/step - loss: 1.5551 - acc: 0.5200\n",
            "Epoch 369/400\n",
            "1/1 [==============================] - 0s 7ms/step - loss: 1.5467 - acc: 0.5200\n",
            "Epoch 370/400\n",
            "1/1 [==============================] - 0s 9ms/step - loss: 1.5382 - acc: 0.5200\n",
            "Epoch 371/400\n",
            "1/1 [==============================] - 0s 7ms/step - loss: 1.5297 - acc: 0.5120\n",
            "Epoch 372/400\n",
            "1/1 [==============================] - 0s 6ms/step - loss: 1.5212 - acc: 0.5280\n",
            "Epoch 373/400\n",
            "1/1 [==============================] - 0s 5ms/step - loss: 1.5127 - acc: 0.5200\n",
            "Epoch 374/400\n",
            "1/1 [==============================] - 0s 7ms/step - loss: 1.5042 - acc: 0.5200\n",
            "Epoch 375/400\n",
            "1/1 [==============================] - 0s 7ms/step - loss: 1.4956 - acc: 0.5200\n",
            "Epoch 376/400\n",
            "1/1 [==============================] - 0s 6ms/step - loss: 1.4871 - acc: 0.5280\n",
            "Epoch 377/400\n",
            "1/1 [==============================] - 0s 8ms/step - loss: 1.4786 - acc: 0.5360\n",
            "Epoch 378/400\n",
            "1/1 [==============================] - 0s 8ms/step - loss: 1.4701 - acc: 0.5280\n",
            "Epoch 379/400\n",
            "1/1 [==============================] - 0s 8ms/step - loss: 1.4616 - acc: 0.5280\n",
            "Epoch 380/400\n",
            "1/1 [==============================] - 0s 7ms/step - loss: 1.4531 - acc: 0.5280\n",
            "Epoch 381/400\n",
            "1/1 [==============================] - 0s 8ms/step - loss: 1.4446 - acc: 0.5360\n",
            "Epoch 382/400\n",
            "1/1 [==============================] - 0s 8ms/step - loss: 1.4361 - acc: 0.5440\n",
            "Epoch 383/400\n",
            "1/1 [==============================] - 0s 9ms/step - loss: 1.4275 - acc: 0.5440\n",
            "Epoch 384/400\n",
            "1/1 [==============================] - 0s 7ms/step - loss: 1.4190 - acc: 0.5440\n",
            "Epoch 385/400\n",
            "1/1 [==============================] - 0s 7ms/step - loss: 1.4105 - acc: 0.5360\n",
            "Epoch 386/400\n",
            "1/1 [==============================] - 0s 7ms/step - loss: 1.4019 - acc: 0.5520\n",
            "Epoch 387/400\n",
            "1/1 [==============================] - 0s 7ms/step - loss: 1.3934 - acc: 0.5520\n",
            "Epoch 388/400\n",
            "1/1 [==============================] - 0s 8ms/step - loss: 1.3848 - acc: 0.5520\n",
            "Epoch 389/400\n",
            "1/1 [==============================] - 0s 7ms/step - loss: 1.3762 - acc: 0.5520\n",
            "Epoch 390/400\n",
            "1/1 [==============================] - 0s 9ms/step - loss: 1.3677 - acc: 0.5520\n",
            "Epoch 391/400\n",
            "1/1 [==============================] - 0s 8ms/step - loss: 1.3591 - acc: 0.5520\n",
            "Epoch 392/400\n",
            "1/1 [==============================] - 0s 8ms/step - loss: 1.3505 - acc: 0.5760\n",
            "Epoch 393/400\n",
            "1/1 [==============================] - 0s 7ms/step - loss: 1.3419 - acc: 0.5760\n",
            "Epoch 394/400\n",
            "1/1 [==============================] - 0s 8ms/step - loss: 1.3333 - acc: 0.5760\n",
            "Epoch 395/400\n",
            "1/1 [==============================] - 0s 7ms/step - loss: 1.3247 - acc: 0.5760\n",
            "Epoch 396/400\n",
            "1/1 [==============================] - 0s 7ms/step - loss: 1.3161 - acc: 0.5760\n",
            "Epoch 397/400\n",
            "1/1 [==============================] - 0s 7ms/step - loss: 1.3075 - acc: 0.5840\n",
            "Epoch 398/400\n",
            "1/1 [==============================] - 0s 8ms/step - loss: 1.2989 - acc: 0.5840\n",
            "Epoch 399/400\n",
            "1/1 [==============================] - 0s 7ms/step - loss: 1.2903 - acc: 0.5840\n",
            "Epoch 400/400\n",
            "1/1 [==============================] - 0s 7ms/step - loss: 1.2816 - acc: 0.5920\n"
          ],
          "name": "stdout"
        }
      ]
    },
    {
      "cell_type": "code",
      "metadata": {
        "colab_type": "code",
        "id": "r0xZ1ob7dRij",
        "colab": {
          "base_uri": "https://localhost:8080/",
          "height": 545
        },
        "outputId": "7c54a205-7cb9-494d-e516-36e1ca556529"
      },
      "source": [
        "# Plot the Training and Validation Accuracy & Loss Scores\n",
        "# Enter your code here:\n",
        "%matplotlib inline\n",
        "import matplotlib.pyplot as plt\n",
        "\n",
        "acc = history.history['acc']\n",
        "loss = history.history['loss']\n",
        "\n",
        "epochs = range(1, len(acc) + 1)\n",
        "\n",
        "plt.plot(epochs, acc, 'bo', label='Training acc')\n",
        "plt.title('Training and validation accuracy')\n",
        "plt.legend()\n",
        "\n",
        "plt.figure()\n",
        "\n",
        "plt.plot(epochs, loss, 'bo', label='Training loss')\n",
        "plt.title('Training and validation loss')\n",
        "plt.legend()\n",
        "\n",
        "plt.show()"
      ],
      "execution_count": null,
      "outputs": [
        {
          "output_type": "display_data",
          "data": {
            "image/png": "[encoded data removed]",
            "text/plain": [
              "<Figure size 432x288 with 1 Axes>"
            ]
          },
          "metadata": {
            "tags": [],
            "needs_background": "light"
          }
        },
        {
          "output_type": "display_data",
          "data": {
            "image/png": "[encoded data removed]",
            "text/plain": [
              "<Figure size 432x288 with 1 Axes>"
            ]
          },
          "metadata": {
            "tags": [],
            "needs_background": "light"
          }
        }
      ]
    },
    {
      "cell_type": "code",
      "metadata": {
        "colab_type": "code",
        "id": "gdN7B-QtdRil",
        "colab": {}
      },
      "source": [
        "# Save the Model\n",
        "model.save(model_path+'chgen_model_5_3.h5')\n",
        "model.save('chgen_model_5_3.h5')"
      ],
      "execution_count": null,
      "outputs": []
    },
    {
      "cell_type": "markdown",
      "metadata": {
        "colab_type": "text",
        "id": "4aZGfZMdTMx-"
      },
      "source": [
        "### Model #6"
      ]
    },
    {
      "cell_type": "code",
      "metadata": {
        "colab_type": "code",
        "id": "n87X2TcdTMx_",
        "colab": {
          "base_uri": "https://localhost:8080/"
        },
        "outputId": "e6095875-91c1-4f73-8d03-aaad0d739b13"
      },
      "source": [
        "# Build the Model\n",
        "# Enter your code here:\n",
        "from tensorflow.keras.models import Sequential\n",
        "from tensorflow.keras import layers\n",
        "from tensorflow.keras.optimizers import RMSprop, Adam\n",
        "\n",
        "model = keras.models.Sequential()\n",
        "model.add(layers.LSTM(1024, input_shape=(window_size, len(chars)))) #multiclass single label classification\n",
        "model.add(layers.Dense(len(chars), activation='softmax'))\n",
        "\n",
        "model.summary()\n"
      ],
      "execution_count": null,
      "outputs": [
        {
          "output_type": "stream",
          "text": [
            "Model: \"sequential\"\n",
            "_________________________________________________________________\n",
            "Layer (type)                 Output Shape              Param #   \n",
            "=================================================================\n",
            "lstm (LSTM)                  (None, 1024)              4341760   \n",
            "_________________________________________________________________\n",
            "dense (Dense)                (None, 35)                35875     \n",
            "=================================================================\n",
            "Total params: 4,377,635\n",
            "Trainable params: 4,377,635\n",
            "Non-trainable params: 0\n",
            "_________________________________________________________________\n"
          ],
          "name": "stdout"
        }
      ]
    },
    {
      "cell_type": "code",
      "metadata": {
        "colab_type": "code",
        "id": "B-f_HgmMTMyB",
        "colab": {
          "base_uri": "https://localhost:8080/"
        },
        "outputId": "11d5abe9-a4ee-4e03-8d99-c2e0d403cb64"
      },
      "source": [
        "# Train the Model\n",
        "# Enter your code here:\n",
        "model.compile(loss='categorical_crossentropy', optimizer=Adam(lr=0.01), metrics=['acc'])\n",
        "\n",
        "history = model.fit(X, y,\n",
        "                    epochs=20,\n",
        "                    batch_size=128) "
      ],
      "execution_count": null,
      "outputs": [
        {
          "output_type": "stream",
          "text": [
            "Epoch 1/20\n",
            "WARNING:tensorflow:Model was constructed with shape (None, 100, 35) for input Tensor(\"lstm_input:0\", shape=(None, 100, 35), dtype=float32), but it was called on an input with incompatible shape (None, 5, 35).\n",
            "WARNING:tensorflow:Model was constructed with shape (None, 100, 35) for input Tensor(\"lstm_input:0\", shape=(None, 100, 35), dtype=float32), but it was called on an input with incompatible shape (None, 5, 35).\n",
            "1/1 [==============================] - 0s 7ms/step - loss: 3.5559 - acc: 0.0259\n",
            "Epoch 2/20\n",
            "1/1 [==============================] - 0s 7ms/step - loss: 3.2339 - acc: 0.1897\n",
            "Epoch 3/20\n",
            "1/1 [==============================] - 0s 7ms/step - loss: 7.8885 - acc: 0.1810\n",
            "Epoch 4/20\n",
            "1/1 [==============================] - 0s 6ms/step - loss: 3.1575 - acc: 0.1724\n",
            "Epoch 5/20\n",
            "1/1 [==============================] - 0s 6ms/step - loss: 3.1028 - acc: 0.3707\n",
            "Epoch 6/20\n",
            "1/1 [==============================] - 0s 6ms/step - loss: 2.8816 - acc: 0.3276\n",
            "Epoch 7/20\n",
            "1/1 [==============================] - 0s 6ms/step - loss: 2.6178 - acc: 0.3103\n",
            "Epoch 8/20\n",
            "1/1 [==============================] - 0s 6ms/step - loss: 2.3528 - acc: 0.2586\n",
            "Epoch 9/20\n",
            "1/1 [==============================] - 0s 7ms/step - loss: 2.2354 - acc: 0.3017\n",
            "Epoch 10/20\n",
            "1/1 [==============================] - 0s 7ms/step - loss: 2.1349 - acc: 0.3190\n",
            "Epoch 11/20\n",
            "1/1 [==============================] - 0s 7ms/step - loss: 1.9610 - acc: 0.3190\n",
            "Epoch 12/20\n",
            "1/1 [==============================] - 0s 6ms/step - loss: 1.9128 - acc: 0.3966\n",
            "Epoch 13/20\n",
            "1/1 [==============================] - 0s 7ms/step - loss: 3.0306 - acc: 0.1724\n",
            "Epoch 14/20\n",
            "1/1 [==============================] - 0s 4ms/step - loss: 1.7305 - acc: 0.4655\n",
            "Epoch 15/20\n",
            "1/1 [==============================] - 0s 6ms/step - loss: 1.8822 - acc: 0.4310\n",
            "Epoch 16/20\n",
            "1/1 [==============================] - 0s 5ms/step - loss: 1.5442 - acc: 0.5345\n",
            "Epoch 17/20\n",
            "1/1 [==============================] - 0s 5ms/step - loss: 1.4894 - acc: 0.5086\n",
            "Epoch 18/20\n",
            "1/1 [==============================] - 0s 5ms/step - loss: 1.2347 - acc: 0.6207\n",
            "Epoch 19/20\n",
            "1/1 [==============================] - 0s 5ms/step - loss: 0.9965 - acc: 0.6724\n",
            "Epoch 20/20\n",
            "1/1 [==============================] - 0s 5ms/step - loss: 0.9102 - acc: 0.6897\n"
          ],
          "name": "stdout"
        }
      ]
    },
    {
      "cell_type": "code",
      "metadata": {
        "colab_type": "code",
        "id": "tQCBO1kDTMyC",
        "colab": {
          "base_uri": "https://localhost:8080/"
        },
        "outputId": "c3d86539-b4d0-43d6-8a31-40d790bc008c"
      },
      "source": [
        "# Plot the Training and Validation Accuracy & Loss Scores\n",
        "# Enter your code here:\n",
        "%matplotlib inline\n",
        "import matplotlib.pyplot as plt\n",
        "\n",
        "acc = history.history['acc']\n",
        "loss = history.history['loss']\n",
        "\n",
        "epochs = range(1, len(acc) + 1)\n",
        "\n",
        "plt.plot(epochs, acc, 'bo', label='Training acc')\n",
        "plt.title('Training and validation accuracy')\n",
        "plt.legend()\n",
        "\n",
        "plt.figure()\n",
        "\n",
        "plt.plot(epochs, loss, 'bo', label='Training loss')\n",
        "plt.title('Training and validation loss')\n",
        "plt.legend()\n",
        "\n",
        "plt.show()"
      ],
      "execution_count": null,
      "outputs": [
        {
          "output_type": "display_data",
          "data": {
            "image/png": "[encoded data removed]",
            "text/plain": [
              "<Figure size 432x288 with 1 Axes>"
            ]
          },
          "metadata": {
            "tags": [],
            "needs_background": "light"
          }
        },
        {
          "output_type": "display_data",
          "data": {
            "image/png": "[encoded data removed]",
            "text/plain": [
              "<Figure size 432x288 with 1 Axes>"
            ]
          },
          "metadata": {
            "tags": [],
            "needs_background": "light"
          }
        }
      ]
    },
    {
      "cell_type": "code",
      "metadata": {
        "colab_type": "code",
        "id": "ce8u7jMrTMyE",
        "colab": {}
      },
      "source": [
        "# Save the Model\n",
        "model.save(model_path+'chgen_model_6.h5')\n",
        "model.save('chgen_model_6.h5')"
      ],
      "execution_count": null,
      "outputs": []
    },
    {
      "cell_type": "code",
      "metadata": {
        "id": "cSsW8h-oTYV5",
        "colab_type": "code",
        "colab": {}
      },
      "source": [
        "import tensorflow as tf\n",
        "tf.keras.backend.clear_session()"
      ],
      "execution_count": null,
      "outputs": []
    },
    {
      "cell_type": "markdown",
      "metadata": {
        "colab_type": "text",
        "id": "U7uZ3fnxVlWd"
      },
      "source": [
        "### Model #7"
      ]
    },
    {
      "cell_type": "code",
      "metadata": {
        "colab_type": "code",
        "id": "wZkQQV3zVlWe",
        "colab": {
          "base_uri": "https://localhost:8080/",
          "height": 221
        },
        "outputId": "81ecec91-428e-42bc-de7b-a3aad4c1d948"
      },
      "source": [
        "# Build the Model\n",
        "# Enter your code here:\n",
        "from tensorflow.keras.models import Sequential\n",
        "from tensorflow.keras import layers\n",
        "from tensorflow.keras.optimizers import RMSprop, Adam\n",
        "\n",
        "model = keras.models.Sequential()\n",
        "model.add(layers.LSTM(256, input_shape=(window_size, len(chars)))) #multiclass single label classification\n",
        "model.add(layers.Dense(len(chars), activation='softmax'))\n",
        "\n",
        "model.summary()\n"
      ],
      "execution_count": null,
      "outputs": [
        {
          "output_type": "stream",
          "text": [
            "Model: \"sequential_7\"\n",
            "_________________________________________________________________\n",
            "Layer (type)                 Output Shape              Param #   \n",
            "=================================================================\n",
            "lstm_9 (LSTM)                (None, 256)               299008    \n",
            "_________________________________________________________________\n",
            "dense_7 (Dense)              (None, 35)                8995      \n",
            "=================================================================\n",
            "Total params: 308,003\n",
            "Trainable params: 308,003\n",
            "Non-trainable params: 0\n",
            "_________________________________________________________________\n"
          ],
          "name": "stdout"
        }
      ]
    },
    {
      "cell_type": "code",
      "metadata": {
        "colab_type": "code",
        "id": "O1qk4PTSVlWi",
        "colab": {
          "base_uri": "https://localhost:8080/",
          "height": 649
        },
        "outputId": "3626a4b4-f30e-4664-ae00-17a4ec2a1d1d"
      },
      "source": [
        "# Train the Model\n",
        "# Enter your code here:\n",
        "model.compile(loss='categorical_crossentropy', optimizer=Adam(lr=0.01), metrics=['acc'])\n",
        "\n",
        "history = model.fit(X, y,\n",
        "                    epochs=17,\n",
        "                    batch_size=128) "
      ],
      "execution_count": null,
      "outputs": [
        {
          "output_type": "stream",
          "text": [
            "Epoch 1/17\n",
            "WARNING:tensorflow:Model was constructed with shape (None, 100, 35) for input Tensor(\"lstm_9_input:0\", shape=(None, 100, 35), dtype=float32), but it was called on an input with incompatible shape (None, 5, 35).\n",
            "WARNING:tensorflow:Model was constructed with shape (None, 100, 35) for input Tensor(\"lstm_9_input:0\", shape=(None, 100, 35), dtype=float32), but it was called on an input with incompatible shape (None, 5, 35).\n",
            "1/1 [==============================] - 0s 2ms/step - loss: 3.5536 - acc: 0.0640\n",
            "Epoch 2/17\n",
            "1/1 [==============================] - 0s 3ms/step - loss: 3.4088 - acc: 0.2080\n",
            "Epoch 3/17\n",
            "1/1 [==============================] - 0s 1ms/step - loss: 3.0872 - acc: 0.1760\n",
            "Epoch 4/17\n",
            "1/1 [==============================] - 0s 1ms/step - loss: 3.3258 - acc: 0.1760\n",
            "Epoch 5/17\n",
            "1/1 [==============================] - 0s 1ms/step - loss: 2.8174 - acc: 0.1680\n",
            "Epoch 6/17\n",
            "1/1 [==============================] - 0s 1ms/step - loss: 2.8723 - acc: 0.2320\n",
            "Epoch 7/17\n",
            "1/1 [==============================] - 0s 1ms/step - loss: 2.8899 - acc: 0.2560\n",
            "Epoch 8/17\n",
            "1/1 [==============================] - 0s 1ms/step - loss: 2.8208 - acc: 0.2560\n",
            "Epoch 9/17\n",
            "1/1 [==============================] - 0s 1ms/step - loss: 2.6965 - acc: 0.2560\n",
            "Epoch 10/17\n",
            "1/1 [==============================] - 0s 1ms/step - loss: 2.5714 - acc: 0.2240\n",
            "Epoch 11/17\n",
            "1/1 [==============================] - 0s 1ms/step - loss: 2.4859 - acc: 0.2480\n",
            "Epoch 12/17\n",
            "1/1 [==============================] - 0s 1ms/step - loss: 2.3388 - acc: 0.3200\n",
            "Epoch 13/17\n",
            "1/1 [==============================] - 0s 1ms/step - loss: 2.1860 - acc: 0.3120\n",
            "Epoch 14/17\n",
            "1/1 [==============================] - 0s 2ms/step - loss: 2.0797 - acc: 0.2960\n",
            "Epoch 15/17\n",
            "1/1 [==============================] - 0s 1ms/step - loss: 1.9473 - acc: 0.3840\n",
            "Epoch 16/17\n",
            "1/1 [==============================] - 0s 1ms/step - loss: 1.8206 - acc: 0.4400\n",
            "Epoch 17/17\n",
            "1/1 [==============================] - 0s 1ms/step - loss: 1.6793 - acc: 0.4800\n"
          ],
          "name": "stdout"
        }
      ]
    },
    {
      "cell_type": "code",
      "metadata": {
        "colab_type": "code",
        "id": "LWnKe7hbVlWk",
        "colab": {
          "base_uri": "https://localhost:8080/",
          "height": 545
        },
        "outputId": "299eecb6-8909-4368-97eb-880e1c6e4fff"
      },
      "source": [
        "# Plot the Training and Validation Accuracy & Loss Scores\n",
        "# Enter your code here:\n",
        "%matplotlib inline\n",
        "import matplotlib.pyplot as plt\n",
        "\n",
        "acc = history.history['acc']\n",
        "loss = history.history['loss']\n",
        "\n",
        "epochs = range(1, len(acc) + 1)\n",
        "\n",
        "plt.plot(epochs, acc, 'bo', label='Training acc')\n",
        "plt.title('Training and validation accuracy')\n",
        "plt.legend()\n",
        "\n",
        "plt.figure()\n",
        "\n",
        "plt.plot(epochs, loss, 'bo', label='Training loss')\n",
        "plt.title('Training and validation loss')\n",
        "plt.legend()\n",
        "\n",
        "plt.show()"
      ],
      "execution_count": null,
      "outputs": [
        {
          "output_type": "display_data",
          "data": {
            "image/png": "[encoded data removed]",
            "text/plain": [
              "<Figure size 432x288 with 1 Axes>"
            ]
          },
          "metadata": {
            "tags": [],
            "needs_background": "light"
          }
        },
        {
          "output_type": "display_data",
          "data": {
            "image/png": "[encoded data removed]",
            "text/plain": [
              "<Figure size 432x288 with 1 Axes>"
            ]
          },
          "metadata": {
            "tags": [],
            "needs_background": "light"
          }
        }
      ]
    },
    {
      "cell_type": "code",
      "metadata": {
        "colab_type": "code",
        "id": "vKOoZQuMVlWm",
        "colab": {}
      },
      "source": [
        "# Save the Model\n",
        "model.save(model_path+'chgen_model_7.h5')\n",
        "model.save('chgen_model_7.h5')"
      ],
      "execution_count": null,
      "outputs": []
    },
    {
      "cell_type": "code",
      "metadata": {
        "colab_type": "code",
        "id": "p__FWN8oVlWo",
        "colab": {}
      },
      "source": [
        "import tensorflow as tf\n",
        "tf.keras.backend.clear_session()"
      ],
      "execution_count": null,
      "outputs": []
    },
    {
      "cell_type": "markdown",
      "metadata": {
        "colab_type": "text",
        "id": "gTX-bygdgcvn"
      },
      "source": [
        "### Model #8 (Model 2 GRU 15e)"
      ]
    },
    {
      "cell_type": "code",
      "metadata": {
        "colab_type": "code",
        "id": "Jagkpy2Ugcvr",
        "colab": {
          "base_uri": "https://localhost:8080/",
          "height": 255
        },
        "outputId": "e5923950-1407-4ef3-f331-70ea8c419de3"
      },
      "source": [
        "# Build the Model\n",
        "# Enter your code here:\n",
        "from tensorflow.keras.models import Sequential\n",
        "from tensorflow.keras import layers\n",
        "from tensorflow.keras.optimizers import RMSprop\n",
        "\n",
        "model = keras.models.Sequential()\n",
        "model.add(layers.GRU(128, input_shape=(window_size, len(chars)), return_sequences=True)) #multiclass single label classification\n",
        "model.add(layers.GRU(128))\n",
        "model.add(layers.Dense(len(chars), activation='softmax'))\n",
        "\n",
        "model.summary()\n"
      ],
      "execution_count": null,
      "outputs": [
        {
          "output_type": "stream",
          "text": [
            "Model: \"sequential_1\"\n",
            "_________________________________________________________________\n",
            "Layer (type)                 Output Shape              Param #   \n",
            "=================================================================\n",
            "gru_2 (GRU)                  (None, 100, 128)          63360     \n",
            "_________________________________________________________________\n",
            "gru_3 (GRU)                  (None, 128)               99072     \n",
            "_________________________________________________________________\n",
            "dense_1 (Dense)              (None, 35)                4515      \n",
            "=================================================================\n",
            "Total params: 166,947\n",
            "Trainable params: 166,947\n",
            "Non-trainable params: 0\n",
            "_________________________________________________________________\n"
          ],
          "name": "stdout"
        }
      ]
    },
    {
      "cell_type": "code",
      "metadata": {
        "colab_type": "code",
        "id": "2ioVYqplgcvu",
        "colab": {
          "base_uri": "https://localhost:8080/",
          "height": 581
        },
        "outputId": "db23f8da-4c3a-44be-975b-4d3da32d110f"
      },
      "source": [
        "# Train the Model\n",
        "# Enter your code here:\n",
        "model.compile(loss='categorical_crossentropy', optimizer=RMSprop(lr=0.01), metrics=['acc'])\n",
        "\n",
        "history = model.fit(X, y,\n",
        "                    epochs=15,\n",
        "                    batch_size=128) "
      ],
      "execution_count": null,
      "outputs": [
        {
          "output_type": "stream",
          "text": [
            "Epoch 1/15\n",
            "WARNING:tensorflow:Model was constructed with shape (None, 100, 35) for input Tensor(\"gru_2_input:0\", shape=(None, 100, 35), dtype=float32), but it was called on an input with incompatible shape (None, 5, 35).\n",
            "WARNING:tensorflow:Model was constructed with shape (None, 100, 35) for input Tensor(\"gru_2_input:0\", shape=(None, 100, 35), dtype=float32), but it was called on an input with incompatible shape (None, 5, 35).\n",
            "6/6 [==============================] - 0s 5ms/step - loss: 4.0512 - acc: 0.0848\n",
            "Epoch 2/15\n",
            "6/6 [==============================] - 0s 5ms/step - loss: 3.4618 - acc: 0.1199\n",
            "Epoch 3/15\n",
            "6/6 [==============================] - 0s 5ms/step - loss: 2.7914 - acc: 0.2091\n",
            "Epoch 4/15\n",
            "6/6 [==============================] - 0s 4ms/step - loss: 2.7209 - acc: 0.2368\n",
            "Epoch 5/15\n",
            "6/6 [==============================] - 0s 4ms/step - loss: 2.4195 - acc: 0.3114\n",
            "Epoch 6/15\n",
            "6/6 [==============================] - 0s 5ms/step - loss: 2.2343 - acc: 0.3406\n",
            "Epoch 7/15\n",
            "6/6 [==============================] - 0s 5ms/step - loss: 2.0663 - acc: 0.3845\n",
            "Epoch 8/15\n",
            "6/6 [==============================] - 0s 4ms/step - loss: 1.8431 - acc: 0.4605\n",
            "Epoch 9/15\n",
            "6/6 [==============================] - 0s 5ms/step - loss: 1.6476 - acc: 0.4912\n",
            "Epoch 10/15\n",
            "6/6 [==============================] - 0s 4ms/step - loss: 1.4865 - acc: 0.5322\n",
            "Epoch 11/15\n",
            "6/6 [==============================] - 0s 5ms/step - loss: 1.2762 - acc: 0.6009\n",
            "Epoch 12/15\n",
            "6/6 [==============================] - 0s 5ms/step - loss: 1.0936 - acc: 0.6667\n",
            "Epoch 13/15\n",
            "6/6 [==============================] - 0s 4ms/step - loss: 0.9086 - acc: 0.7237\n",
            "Epoch 14/15\n",
            "6/6 [==============================] - 0s 4ms/step - loss: 0.7801 - acc: 0.7675\n",
            "Epoch 15/15\n",
            "6/6 [==============================] - 0s 4ms/step - loss: 0.6117 - acc: 0.8246\n"
          ],
          "name": "stdout"
        }
      ]
    },
    {
      "cell_type": "code",
      "metadata": {
        "colab_type": "code",
        "id": "LGM_uQLfgcvw",
        "colab": {
          "base_uri": "https://localhost:8080/",
          "height": 545
        },
        "outputId": "b6c4c46d-07f4-453f-bf6c-4cbfafed6048"
      },
      "source": [
        "# Plot the Training and Validation Accuracy & Loss Scores\n",
        "# Enter your code here:\n",
        "%matplotlib inline\n",
        "import matplotlib.pyplot as plt\n",
        "\n",
        "acc = history.history['acc']\n",
        "loss = history.history['loss']\n",
        "\n",
        "epochs = range(1, len(acc) + 1)\n",
        "\n",
        "plt.plot(epochs, acc, 'bo', label='Training acc')\n",
        "plt.title('Training and validation accuracy')\n",
        "plt.legend()\n",
        "\n",
        "plt.figure()\n",
        "\n",
        "plt.plot(epochs, loss, 'bo', label='Training loss')\n",
        "plt.title('Training and validation loss')\n",
        "plt.legend()\n",
        "\n",
        "plt.show()"
      ],
      "execution_count": null,
      "outputs": [
        {
          "output_type": "display_data",
          "data": {
            "image/png": "[encoded data removed]",
            "text/plain": [
              "<Figure size 432x288 with 1 Axes>"
            ]
          },
          "metadata": {
            "tags": [],
            "needs_background": "light"
          }
        },
        {
          "output_type": "display_data",
          "data": {
            "image/png": "[encoded data removed]",
            "text/plain": [
              "<Figure size 432x288 with 1 Axes>"
            ]
          },
          "metadata": {
            "tags": [],
            "needs_background": "light"
          }
        }
      ]
    },
    {
      "cell_type": "code",
      "metadata": {
        "colab_type": "code",
        "id": "PsxrXPUQgcvy",
        "colab": {}
      },
      "source": [
        "# Save the Model\n",
        "model.save(model_path+'chgen_model_8.h5')\n",
        "model.save('chgen_model_8.h5')"
      ],
      "execution_count": null,
      "outputs": []
    },
    {
      "cell_type": "markdown",
      "metadata": {
        "colab_type": "text",
        "id": "yjNpewYDhpfw"
      },
      "source": [
        "### Model #8_1 (Model 2 GRU 10e)"
      ]
    },
    {
      "cell_type": "code",
      "metadata": {
        "colab_type": "code",
        "id": "c8-M-m1hhpfx",
        "colab": {
          "base_uri": "https://localhost:8080/",
          "height": 255
        },
        "outputId": "2f457a4e-37af-41ff-f91e-245147d61403"
      },
      "source": [
        "# Build the Model\n",
        "# Enter your code here:\n",
        "from tensorflow.keras.models import Sequential\n",
        "from tensorflow.keras import layers\n",
        "from tensorflow.keras.optimizers import RMSprop\n",
        "\n",
        "model = keras.models.Sequential()\n",
        "model.add(layers.GRU(128, input_shape=(window_size, len(chars)), return_sequences=True)) #multiclass single label classification\n",
        "model.add(layers.GRU(128))\n",
        "model.add(layers.Dense(len(chars), activation='softmax'))\n",
        "\n",
        "model.summary()\n"
      ],
      "execution_count": null,
      "outputs": [
        {
          "output_type": "stream",
          "text": [
            "Model: \"sequential_7\"\n",
            "_________________________________________________________________\n",
            "Layer (type)                 Output Shape              Param #   \n",
            "=================================================================\n",
            "gru_14 (GRU)                 (None, 100, 128)          63360     \n",
            "_________________________________________________________________\n",
            "gru_15 (GRU)                 (None, 128)               99072     \n",
            "_________________________________________________________________\n",
            "dense_7 (Dense)              (None, 35)                4515      \n",
            "=================================================================\n",
            "Total params: 166,947\n",
            "Trainable params: 166,947\n",
            "Non-trainable params: 0\n",
            "_________________________________________________________________\n"
          ],
          "name": "stdout"
        }
      ]
    },
    {
      "cell_type": "code",
      "metadata": {
        "colab_type": "code",
        "id": "HXQAx5ajhpf0",
        "colab": {
          "base_uri": "https://localhost:8080/",
          "height": 751
        },
        "outputId": "6bf6e135-ea3e-498e-e82a-f5736da78c06"
      },
      "source": [
        "# Train the Model\n",
        "# Enter your code here:\n",
        "model.compile(loss='categorical_crossentropy', optimizer=Adam(lr=0.01), metrics=['acc'])\n",
        "\n",
        "history = model.fit(X, y,\n",
        "                    epochs=20,\n",
        "                    batch_size=128) "
      ],
      "execution_count": null,
      "outputs": [
        {
          "output_type": "stream",
          "text": [
            "Epoch 1/20\n",
            "WARNING:tensorflow:Model was constructed with shape (None, 100, 35) for input Tensor(\"gru_14_input:0\", shape=(None, 100, 35), dtype=float32), but it was called on an input with incompatible shape (None, 5, 35).\n",
            "WARNING:tensorflow:Model was constructed with shape (None, 100, 35) for input Tensor(\"gru_14_input:0\", shape=(None, 100, 35), dtype=float32), but it was called on an input with incompatible shape (None, 5, 35).\n",
            "1/1 [==============================] - 0s 2ms/step - loss: 3.5580 - acc: 0.0160\n",
            "Epoch 2/20\n",
            "1/1 [==============================] - 0s 1ms/step - loss: 3.3778 - acc: 0.1760\n",
            "Epoch 3/20\n",
            "1/1 [==============================] - 0s 1ms/step - loss: 3.0121 - acc: 0.1760\n",
            "Epoch 4/20\n",
            "1/1 [==============================] - 0s 1ms/step - loss: 3.7057 - acc: 0.1760\n",
            "Epoch 5/20\n",
            "1/1 [==============================] - 0s 1ms/step - loss: 2.9382 - acc: 0.1120\n",
            "Epoch 6/20\n",
            "1/1 [==============================] - 0s 2ms/step - loss: 2.9571 - acc: 0.1760\n",
            "Epoch 7/20\n",
            "1/1 [==============================] - 0s 1ms/step - loss: 2.9981 - acc: 0.2480\n",
            "Epoch 8/20\n",
            "1/1 [==============================] - 0s 1ms/step - loss: 2.9577 - acc: 0.2480\n",
            "Epoch 9/20\n",
            "1/1 [==============================] - 0s 1ms/step - loss: 2.8619 - acc: 0.2560\n",
            "Epoch 10/20\n",
            "1/1 [==============================] - 0s 1ms/step - loss: 2.7291 - acc: 0.2480\n",
            "Epoch 11/20\n",
            "1/1 [==============================] - 0s 1ms/step - loss: 2.5712 - acc: 0.2560\n",
            "Epoch 12/20\n",
            "1/1 [==============================] - 0s 1ms/step - loss: 2.4061 - acc: 0.2720\n",
            "Epoch 13/20\n",
            "1/1 [==============================] - 0s 1ms/step - loss: 2.2488 - acc: 0.3280\n",
            "Epoch 14/20\n",
            "1/1 [==============================] - 0s 1ms/step - loss: 2.1156 - acc: 0.3760\n",
            "Epoch 15/20\n",
            "1/1 [==============================] - 0s 1ms/step - loss: 2.0442 - acc: 0.3600\n",
            "Epoch 16/20\n",
            "1/1 [==============================] - 0s 977us/step - loss: 1.8457 - acc: 0.3920\n",
            "Epoch 17/20\n",
            "1/1 [==============================] - 0s 1ms/step - loss: 1.6717 - acc: 0.4640\n",
            "Epoch 18/20\n",
            "1/1 [==============================] - 0s 1ms/step - loss: 1.5413 - acc: 0.5200\n",
            "Epoch 19/20\n",
            "1/1 [==============================] - 0s 2ms/step - loss: 1.3995 - acc: 0.6160\n",
            "Epoch 20/20\n",
            "1/1 [==============================] - 0s 2ms/step - loss: 1.2452 - acc: 0.6080\n"
          ],
          "name": "stdout"
        }
      ]
    },
    {
      "cell_type": "code",
      "metadata": {
        "colab_type": "code",
        "id": "X8zM170nhpf1",
        "colab": {
          "base_uri": "https://localhost:8080/",
          "height": 545
        },
        "outputId": "9161a9b2-628f-4a6b-d0e4-00fbf6107a40"
      },
      "source": [
        "# Plot the Training and Validation Accuracy & Loss Scores\n",
        "# Enter your code here:\n",
        "%matplotlib inline\n",
        "import matplotlib.pyplot as plt\n",
        "\n",
        "acc = history.history['acc']\n",
        "loss = history.history['loss']\n",
        "\n",
        "epochs = range(1, len(acc) + 1)\n",
        "\n",
        "plt.plot(epochs, acc, 'bo', label='Training acc')\n",
        "plt.title('Training and validation accuracy')\n",
        "plt.legend()\n",
        "\n",
        "plt.figure()\n",
        "\n",
        "plt.plot(epochs, loss, 'bo', label='Training loss')\n",
        "plt.title('Training and validation loss')\n",
        "plt.legend()\n",
        "\n",
        "plt.show()"
      ],
      "execution_count": null,
      "outputs": [
        {
          "output_type": "display_data",
          "data": {
            "image/png": "[encoded data removed]",
            "text/plain": [
              "<Figure size 432x288 with 1 Axes>"
            ]
          },
          "metadata": {
            "tags": [],
            "needs_background": "light"
          }
        },
        {
          "output_type": "display_data",
          "data": {
            "image/png": "[encoded data removed]",
            "text/plain": [
              "<Figure size 432x288 with 1 Axes>"
            ]
          },
          "metadata": {
            "tags": [],
            "needs_background": "light"
          }
        }
      ]
    },
    {
      "cell_type": "code",
      "metadata": {
        "colab_type": "code",
        "id": "D7tZ8Z2uhpf2",
        "colab": {}
      },
      "source": [
        "# Save the Model\n",
        "model.save(model_path+'chgen_model_8_1.h5')\n",
        "model.save('chgen_model_8_1.h5')"
      ],
      "execution_count": null,
      "outputs": []
    },
    {
      "cell_type": "markdown",
      "metadata": {
        "colab_type": "text",
        "id": "MtJfwtEiltYX"
      },
      "source": [
        "### Model #9 (not saved)"
      ]
    },
    {
      "cell_type": "code",
      "metadata": {
        "colab_type": "code",
        "id": "rXNPPb4pltYe",
        "colab": {
          "base_uri": "https://localhost:8080/",
          "height": 255
        },
        "outputId": "b82e7549-75c4-4f18-d8e4-b4e4395c4f48"
      },
      "source": [
        "# Build the Model\n",
        "# Enter your code here:\n",
        "from tensorflow.keras.models import Sequential\n",
        "from tensorflow.keras import layers\n",
        "from tensorflow.keras.optimizers import RMSprop, Adam\n",
        "\n",
        "model = keras.models.Sequential()\n",
        "model.add(layers.GRU(2048, input_shape=(window_size, len(chars)), return_sequences=True)) #multiclass single label classification\n",
        "model.add(layers.GRU(2048))\n",
        "model.add(layers.Dense(len(chars), activation='softmax'))\n",
        "\n",
        "model.summary()\n"
      ],
      "execution_count": null,
      "outputs": [
        {
          "output_type": "stream",
          "text": [
            "Model: \"sequential_1\"\n",
            "_________________________________________________________________\n",
            "Layer (type)                 Output Shape              Param #   \n",
            "=================================================================\n",
            "gru_2 (GRU)                  (None, 100, 2048)         12810240  \n",
            "_________________________________________________________________\n",
            "gru_3 (GRU)                  (None, 2048)              25178112  \n",
            "_________________________________________________________________\n",
            "dense_1 (Dense)              (None, 35)                71715     \n",
            "=================================================================\n",
            "Total params: 38,060,067\n",
            "Trainable params: 38,060,067\n",
            "Non-trainable params: 0\n",
            "_________________________________________________________________\n"
          ],
          "name": "stdout"
        }
      ]
    },
    {
      "cell_type": "code",
      "metadata": {
        "colab_type": "code",
        "id": "e2iJoDFhltYk",
        "colab": {
          "base_uri": "https://localhost:8080/",
          "height": 1000
        },
        "outputId": "1df17e6f-567b-4986-dcac-bc9b074705fa"
      },
      "source": [
        "# Train the Model\n",
        "# Enter your code here:\n",
        "model.compile(loss='categorical_crossentropy', optimizer=Adam(lr=2e-5), metrics=['acc'])\n",
        "\n",
        "history = model.fit(X, y,\n",
        "                    epochs=100,\n",
        "                    batch_size=2) "
      ],
      "execution_count": null,
      "outputs": [
        {
          "output_type": "stream",
          "text": [
            "Epoch 1/100\n",
            "WARNING:tensorflow:Model was constructed with shape (None, 100, 35) for input Tensor(\"gru_2_input:0\", shape=(None, 100, 35), dtype=float32), but it was called on an input with incompatible shape (None, 5, 35).\n",
            "WARNING:tensorflow:Model was constructed with shape (None, 100, 35) for input Tensor(\"gru_2_input:0\", shape=(None, 100, 35), dtype=float32), but it was called on an input with incompatible shape (None, 5, 35).\n",
            "63/63 [==============================] - 3s 46ms/step - loss: 3.5331 - acc: 0.1440\n",
            "Epoch 2/100\n",
            "63/63 [==============================] - 3s 45ms/step - loss: 3.4371 - acc: 0.1760\n",
            "Epoch 3/100\n",
            "63/63 [==============================] - 3s 44ms/step - loss: 3.1916 - acc: 0.1760\n",
            "Epoch 4/100\n",
            "63/63 [==============================] - 3s 44ms/step - loss: 2.9603 - acc: 0.1760\n",
            "Epoch 5/100\n",
            "63/63 [==============================] - 3s 44ms/step - loss: 2.8938 - acc: 0.1760\n",
            "Epoch 6/100\n",
            "63/63 [==============================] - 3s 44ms/step - loss: 2.8577 - acc: 0.1680\n",
            "Epoch 7/100\n",
            "63/63 [==============================] - 3s 44ms/step - loss: 2.8143 - acc: 0.1840\n",
            "Epoch 8/100\n",
            "63/63 [==============================] - 3s 44ms/step - loss: 2.7740 - acc: 0.1760\n",
            "Epoch 9/100\n",
            "63/63 [==============================] - 3s 43ms/step - loss: 2.7266 - acc: 0.2240\n",
            "Epoch 10/100\n",
            "63/63 [==============================] - 3s 44ms/step - loss: 2.7052 - acc: 0.2000\n",
            "Epoch 11/100\n",
            "63/63 [==============================] - 3s 44ms/step - loss: 2.6499 - acc: 0.2400\n",
            "Epoch 12/100\n",
            "63/63 [==============================] - 3s 44ms/step - loss: 2.6022 - acc: 0.2480\n",
            "Epoch 13/100\n",
            "63/63 [==============================] - 3s 44ms/step - loss: 2.5367 - acc: 0.2880\n",
            "Epoch 14/100\n",
            "63/63 [==============================] - 3s 44ms/step - loss: 2.4857 - acc: 0.2640\n",
            "Epoch 15/100\n",
            "63/63 [==============================] - 3s 44ms/step - loss: 2.4186 - acc: 0.2560\n",
            "Epoch 16/100\n",
            "63/63 [==============================] - 3s 44ms/step - loss: 2.3512 - acc: 0.3120\n",
            "Epoch 17/100\n",
            "63/63 [==============================] - 3s 44ms/step - loss: 2.2916 - acc: 0.2960\n",
            "Epoch 18/100\n",
            "63/63 [==============================] - 3s 44ms/step - loss: 2.2265 - acc: 0.3120\n",
            "Epoch 19/100\n",
            "63/63 [==============================] - 3s 44ms/step - loss: 2.1552 - acc: 0.3360\n",
            "Epoch 20/100\n",
            "63/63 [==============================] - 3s 43ms/step - loss: 2.1120 - acc: 0.3360\n",
            "Epoch 21/100\n",
            "63/63 [==============================] - 3s 44ms/step - loss: 2.0236 - acc: 0.3520\n",
            "Epoch 22/100\n",
            "63/63 [==============================] - 3s 44ms/step - loss: 1.9542 - acc: 0.3360\n",
            "Epoch 23/100\n",
            "63/63 [==============================] - 3s 44ms/step - loss: 1.8910 - acc: 0.3680\n",
            "Epoch 24/100\n",
            "63/63 [==============================] - 3s 44ms/step - loss: 1.8098 - acc: 0.4000\n",
            "Epoch 25/100\n",
            "63/63 [==============================] - 3s 44ms/step - loss: 1.7724 - acc: 0.4000\n",
            "Epoch 26/100\n",
            "63/63 [==============================] - 3s 44ms/step - loss: 1.6954 - acc: 0.4800\n",
            "Epoch 27/100\n",
            "63/63 [==============================] - 3s 43ms/step - loss: 1.6235 - acc: 0.4720\n",
            "Epoch 28/100\n",
            "63/63 [==============================] - 3s 44ms/step - loss: 1.5803 - acc: 0.4960\n",
            "Epoch 29/100\n",
            "63/63 [==============================] - 3s 43ms/step - loss: 1.5434 - acc: 0.4400\n",
            "Epoch 30/100\n",
            "63/63 [==============================] - 3s 44ms/step - loss: 1.4622 - acc: 0.5200\n",
            "Epoch 31/100\n",
            "63/63 [==============================] - 3s 44ms/step - loss: 1.4208 - acc: 0.5360\n",
            "Epoch 32/100\n",
            "63/63 [==============================] - 3s 44ms/step - loss: 1.3872 - acc: 0.5280\n",
            "Epoch 33/100\n",
            "63/63 [==============================] - 3s 44ms/step - loss: 1.3124 - acc: 0.5760\n",
            "Epoch 34/100\n",
            "63/63 [==============================] - 3s 44ms/step - loss: 1.2611 - acc: 0.6080\n",
            "Epoch 35/100\n",
            "63/63 [==============================] - 3s 44ms/step - loss: 1.2287 - acc: 0.6080\n",
            "Epoch 36/100\n",
            "63/63 [==============================] - 3s 44ms/step - loss: 1.1780 - acc: 0.5760\n",
            "Epoch 37/100\n",
            "63/63 [==============================] - 3s 44ms/step - loss: 1.1483 - acc: 0.5920\n",
            "Epoch 38/100\n",
            "63/63 [==============================] - 3s 44ms/step - loss: 1.0983 - acc: 0.6480\n",
            "Epoch 39/100\n",
            "63/63 [==============================] - 3s 44ms/step - loss: 1.0626 - acc: 0.6720\n",
            "Epoch 40/100\n",
            "63/63 [==============================] - 3s 44ms/step - loss: 0.9830 - acc: 0.7120\n",
            "Epoch 41/100\n",
            "63/63 [==============================] - 3s 44ms/step - loss: 0.9638 - acc: 0.6960\n",
            "Epoch 42/100\n",
            "63/63 [==============================] - 3s 44ms/step - loss: 0.9234 - acc: 0.6720\n",
            "Epoch 43/100\n",
            "63/63 [==============================] - 3s 44ms/step - loss: 0.8681 - acc: 0.7520\n",
            "Epoch 44/100\n",
            "63/63 [==============================] - 3s 43ms/step - loss: 0.8210 - acc: 0.7440\n",
            "Epoch 45/100\n",
            "63/63 [==============================] - 3s 44ms/step - loss: 0.7942 - acc: 0.7360\n",
            "Epoch 46/100\n",
            "63/63 [==============================] - 3s 44ms/step - loss: 0.7783 - acc: 0.7200\n",
            "Epoch 47/100\n",
            "63/63 [==============================] - 3s 44ms/step - loss: 0.7024 - acc: 0.7920\n",
            "Epoch 48/100\n",
            "63/63 [==============================] - 3s 44ms/step - loss: 0.6698 - acc: 0.8000\n",
            "Epoch 49/100\n",
            "63/63 [==============================] - 3s 44ms/step - loss: 0.6656 - acc: 0.8160\n",
            "Epoch 50/100\n",
            "63/63 [==============================] - 3s 44ms/step - loss: 0.6288 - acc: 0.8160\n",
            "Epoch 51/100\n",
            "63/63 [==============================] - 3s 44ms/step - loss: 0.5915 - acc: 0.8720\n",
            "Epoch 52/100\n",
            "63/63 [==============================] - 3s 43ms/step - loss: 0.5702 - acc: 0.8000\n",
            "Epoch 53/100\n",
            "63/63 [==============================] - 3s 44ms/step - loss: 0.5640 - acc: 0.8320\n",
            "Epoch 54/100\n",
            "63/63 [==============================] - 3s 43ms/step - loss: 0.5409 - acc: 0.8480\n",
            "Epoch 55/100\n",
            "63/63 [==============================] - 3s 44ms/step - loss: 0.4735 - acc: 0.9120\n",
            "Epoch 56/100\n",
            "63/63 [==============================] - 3s 43ms/step - loss: 0.4467 - acc: 0.8960\n",
            "Epoch 57/100\n",
            "63/63 [==============================] - 3s 43ms/step - loss: 0.4319 - acc: 0.9120\n",
            "Epoch 58/100\n",
            "63/63 [==============================] - 3s 44ms/step - loss: 0.4191 - acc: 0.9120\n",
            "Epoch 59/100\n",
            "63/63 [==============================] - 3s 44ms/step - loss: 0.3988 - acc: 0.9360\n",
            "Epoch 60/100\n",
            "63/63 [==============================] - 3s 43ms/step - loss: 0.3887 - acc: 0.9280\n",
            "Epoch 61/100\n",
            "63/63 [==============================] - 3s 44ms/step - loss: 0.3753 - acc: 0.9360\n",
            "Epoch 62/100\n",
            "63/63 [==============================] - 3s 44ms/step - loss: 0.3668 - acc: 0.9360\n",
            "Epoch 63/100\n",
            "63/63 [==============================] - 3s 43ms/step - loss: 0.3174 - acc: 0.9600\n",
            "Epoch 64/100\n",
            "63/63 [==============================] - 3s 44ms/step - loss: 0.3037 - acc: 0.9440\n",
            "Epoch 65/100\n",
            "63/63 [==============================] - 3s 44ms/step - loss: 0.3043 - acc: 0.9440\n",
            "Epoch 66/100\n",
            "63/63 [==============================] - 3s 44ms/step - loss: 0.2925 - acc: 0.9520\n",
            "Epoch 67/100\n",
            "63/63 [==============================] - 3s 44ms/step - loss: 0.2928 - acc: 0.9440\n",
            "Epoch 68/100\n",
            "63/63 [==============================] - 3s 43ms/step - loss: 0.2417 - acc: 0.9760\n",
            "Epoch 69/100\n",
            "63/63 [==============================] - 3s 44ms/step - loss: 0.2731 - acc: 0.9360\n",
            "Epoch 70/100\n",
            "63/63 [==============================] - 3s 44ms/step - loss: 0.2422 - acc: 0.9520\n",
            "Epoch 71/100\n",
            "63/63 [==============================] - 3s 44ms/step - loss: 0.2190 - acc: 0.9680\n",
            "Epoch 72/100\n",
            "63/63 [==============================] - 3s 43ms/step - loss: 0.2028 - acc: 0.9680\n",
            "Epoch 73/100\n",
            "63/63 [==============================] - 3s 43ms/step - loss: 0.2099 - acc: 0.9520\n",
            "Epoch 74/100\n",
            "63/63 [==============================] - 3s 44ms/step - loss: 0.2499 - acc: 0.9600\n",
            "Epoch 75/100\n",
            "63/63 [==============================] - 3s 44ms/step - loss: 0.2052 - acc: 0.9680\n",
            "Epoch 76/100\n",
            "63/63 [==============================] - 3s 44ms/step - loss: 0.1982 - acc: 0.9600\n",
            "Epoch 77/100\n",
            "63/63 [==============================] - 3s 44ms/step - loss: 0.1655 - acc: 0.9680\n",
            "Epoch 78/100\n",
            "63/63 [==============================] - 3s 44ms/step - loss: 0.1670 - acc: 0.9680\n",
            "Epoch 79/100\n",
            "63/63 [==============================] - 3s 44ms/step - loss: 0.1636 - acc: 0.9760\n",
            "Epoch 80/100\n",
            "63/63 [==============================] - 3s 44ms/step - loss: 0.1727 - acc: 0.9280\n",
            "Epoch 81/100\n",
            "63/63 [==============================] - 3s 44ms/step - loss: 0.1656 - acc: 0.9600\n",
            "Epoch 82/100\n",
            "63/63 [==============================] - 3s 43ms/step - loss: 0.1534 - acc: 0.9600\n",
            "Epoch 83/100\n",
            "63/63 [==============================] - 3s 44ms/step - loss: 0.1322 - acc: 0.9840\n",
            "Epoch 84/100\n",
            "63/63 [==============================] - 3s 43ms/step - loss: 0.1434 - acc: 0.9600\n",
            "Epoch 85/100\n",
            "63/63 [==============================] - 3s 44ms/step - loss: 0.1808 - acc: 0.9600\n",
            "Epoch 86/100\n",
            "63/63 [==============================] - 3s 43ms/step - loss: 0.1373 - acc: 0.9680\n",
            "Epoch 87/100\n",
            "63/63 [==============================] - 3s 44ms/step - loss: 0.1643 - acc: 0.9520\n",
            "Epoch 88/100\n",
            "63/63 [==============================] - 3s 44ms/step - loss: 0.1307 - acc: 0.9600\n",
            "Epoch 89/100\n",
            "63/63 [==============================] - 3s 44ms/step - loss: 0.1210 - acc: 0.9760\n",
            "Epoch 90/100\n",
            "63/63 [==============================] - 3s 44ms/step - loss: 0.1274 - acc: 0.9680\n",
            "Epoch 91/100\n",
            "63/63 [==============================] - 3s 44ms/step - loss: 0.1145 - acc: 0.9600\n",
            "Epoch 92/100\n",
            "63/63 [==============================] - 3s 43ms/step - loss: 0.1289 - acc: 0.9680\n",
            "Epoch 93/100\n",
            "63/63 [==============================] - 3s 44ms/step - loss: 0.1431 - acc: 0.9600\n",
            "Epoch 94/100\n",
            "63/63 [==============================] - 3s 43ms/step - loss: 0.1566 - acc: 0.9520\n",
            "Epoch 95/100\n",
            "63/63 [==============================] - 3s 44ms/step - loss: 0.1220 - acc: 0.9600\n",
            "Epoch 96/100\n",
            "63/63 [==============================] - 3s 43ms/step - loss: 0.1065 - acc: 0.9600\n",
            "Epoch 97/100\n",
            "63/63 [==============================] - 3s 44ms/step - loss: 0.1156 - acc: 0.9600\n",
            "Epoch 98/100\n",
            "63/63 [==============================] - 3s 43ms/step - loss: 0.0907 - acc: 0.9680\n",
            "Epoch 99/100\n",
            "63/63 [==============================] - 3s 44ms/step - loss: 0.0873 - acc: 0.9840\n",
            "Epoch 100/100\n",
            "63/63 [==============================] - 3s 44ms/step - loss: 0.1009 - acc: 0.9680\n"
          ],
          "name": "stdout"
        }
      ]
    },
    {
      "cell_type": "code",
      "metadata": {
        "colab_type": "code",
        "id": "uNvIJnmVltYm",
        "colab": {
          "base_uri": "https://localhost:8080/",
          "height": 545
        },
        "outputId": "52037fe5-78c2-4e45-f3b5-4055bdf7433b"
      },
      "source": [
        "# Plot the Training and Validation Accuracy & Loss Scores\n",
        "# Enter your code here:\n",
        "%matplotlib inline\n",
        "import matplotlib.pyplot as plt\n",
        "\n",
        "acc = history.history['acc']\n",
        "loss = history.history['loss']\n",
        "\n",
        "epochs = range(1, len(acc) + 1)\n",
        "\n",
        "plt.plot(epochs, acc, 'bo', label='Training acc')\n",
        "plt.title('Training and validation accuracy')\n",
        "plt.legend()\n",
        "\n",
        "plt.figure()\n",
        "\n",
        "plt.plot(epochs, loss, 'bo', label='Training loss')\n",
        "plt.title('Training and validation loss')\n",
        "plt.legend()\n",
        "\n",
        "plt.show()"
      ],
      "execution_count": null,
      "outputs": [
        {
          "output_type": "display_data",
          "data": {
            "image/png": "[encoded data removed]",
            "text/plain": [
              "<Figure size 432x288 with 1 Axes>"
            ]
          },
          "metadata": {
            "tags": [],
            "needs_background": "light"
          }
        },
        {
          "output_type": "display_data",
          "data": {
            "image/png": "[encoded data removed]",
            "text/plain": [
              "<Figure size 432x288 with 1 Axes>"
            ]
          },
          "metadata": {
            "tags": [],
            "needs_background": "light"
          }
        }
      ]
    },
    {
      "cell_type": "code",
      "metadata": {
        "colab_type": "code",
        "id": "CRyImO9iltYp",
        "colab": {}
      },
      "source": [
        "# Save the Model\n",
        "model.save(model_path+'chgen_model_9.h5')\n",
        "model.save('chgen_model_9.h5')"
      ],
      "execution_count": null,
      "outputs": []
    },
    {
      "cell_type": "markdown",
      "metadata": {
        "colab_type": "text",
        "id": "Vbn-T-WLyR68"
      },
      "source": [
        "### Model #9 "
      ]
    },
    {
      "cell_type": "code",
      "metadata": {
        "colab_type": "code",
        "id": "C8safkApyR69",
        "colab": {
          "base_uri": "https://localhost:8080/",
          "height": 255
        },
        "outputId": "0378dc07-e01d-4f9e-d539-2797891eea85"
      },
      "source": [
        "# Build the Model\n",
        "# Enter your code here:\n",
        "from tensorflow.keras.models import Sequential\n",
        "from tensorflow.keras import layers\n",
        "from tensorflow.keras.optimizers import RMSprop, Adam\n",
        "\n",
        "model = keras.models.Sequential()\n",
        "model.add(layers.GRU(2048, input_shape=(window_size, len(chars)), return_sequences=True)) #multiclass single label classification\n",
        "model.add(layers.GRU(2048))\n",
        "model.add(layers.Dense(len(chars), activation='softmax'))\n",
        "\n",
        "model.summary()\n"
      ],
      "execution_count": null,
      "outputs": [
        {
          "output_type": "stream",
          "text": [
            "Model: \"sequential_3\"\n",
            "_________________________________________________________________\n",
            "Layer (type)                 Output Shape              Param #   \n",
            "=================================================================\n",
            "gru_6 (GRU)                  (None, 100, 2048)         12810240  \n",
            "_________________________________________________________________\n",
            "gru_7 (GRU)                  (None, 2048)              25178112  \n",
            "_________________________________________________________________\n",
            "dense_3 (Dense)              (None, 35)                71715     \n",
            "=================================================================\n",
            "Total params: 38,060,067\n",
            "Trainable params: 38,060,067\n",
            "Non-trainable params: 0\n",
            "_________________________________________________________________\n"
          ],
          "name": "stdout"
        }
      ]
    },
    {
      "cell_type": "code",
      "metadata": {
        "colab_type": "code",
        "id": "hAuBYTi3yR7B",
        "colab": {
          "base_uri": "https://localhost:8080/",
          "height": 1000
        },
        "outputId": "f79445e9-052b-4fdb-8eca-6fb578971884"
      },
      "source": [
        "# Train the Model\n",
        "# Enter your code here:\n",
        "model.compile(loss='categorical_crossentropy', optimizer=Adam(lr=2e-5), metrics=['acc'])\n",
        "\n",
        "history = model.fit(X, y,\n",
        "                    epochs=50,\n",
        "                    batch_size=2) "
      ],
      "execution_count": null,
      "outputs": [
        {
          "output_type": "stream",
          "text": [
            "Epoch 1/50\n",
            "WARNING:tensorflow:Model was constructed with shape (None, 100, 35) for input Tensor(\"gru_6_input:0\", shape=(None, 100, 35), dtype=float32), but it was called on an input with incompatible shape (None, 5, 35).\n",
            "WARNING:tensorflow:Model was constructed with shape (None, 100, 35) for input Tensor(\"gru_6_input:0\", shape=(None, 100, 35), dtype=float32), but it was called on an input with incompatible shape (None, 5, 35).\n",
            "63/63 [==============================] - 3s 45ms/step - loss: 3.5360 - acc: 0.1280\n",
            "Epoch 2/50\n",
            "63/63 [==============================] - 3s 43ms/step - loss: 3.4370 - acc: 0.1760\n",
            "Epoch 3/50\n",
            "63/63 [==============================] - 3s 43ms/step - loss: 3.1828 - acc: 0.1760\n",
            "Epoch 4/50\n",
            "63/63 [==============================] - 3s 43ms/step - loss: 2.9945 - acc: 0.1760\n",
            "Epoch 5/50\n",
            "63/63 [==============================] - 3s 43ms/step - loss: 2.9038 - acc: 0.1760\n",
            "Epoch 6/50\n",
            "63/63 [==============================] - 3s 43ms/step - loss: 2.8486 - acc: 0.1760\n",
            "Epoch 7/50\n",
            "63/63 [==============================] - 3s 43ms/step - loss: 2.8144 - acc: 0.1760\n",
            "Epoch 8/50\n",
            "63/63 [==============================] - 3s 43ms/step - loss: 2.7670 - acc: 0.1760\n",
            "Epoch 9/50\n",
            "63/63 [==============================] - 3s 43ms/step - loss: 2.7178 - acc: 0.1920\n",
            "Epoch 10/50\n",
            "63/63 [==============================] - 3s 43ms/step - loss: 2.6839 - acc: 0.1840\n",
            "Epoch 11/50\n",
            "63/63 [==============================] - 3s 43ms/step - loss: 2.6169 - acc: 0.2560\n",
            "Epoch 12/50\n",
            "63/63 [==============================] - 3s 43ms/step - loss: 2.5731 - acc: 0.2400\n",
            "Epoch 13/50\n",
            "63/63 [==============================] - 3s 43ms/step - loss: 2.5017 - acc: 0.2320\n",
            "Epoch 14/50\n",
            "63/63 [==============================] - 3s 43ms/step - loss: 2.4403 - acc: 0.2640\n",
            "Epoch 15/50\n",
            "63/63 [==============================] - 3s 43ms/step - loss: 2.3704 - acc: 0.2960\n",
            "Epoch 16/50\n",
            "63/63 [==============================] - 3s 43ms/step - loss: 2.3261 - acc: 0.2880\n",
            "Epoch 17/50\n",
            "63/63 [==============================] - 3s 44ms/step - loss: 2.2676 - acc: 0.2960\n",
            "Epoch 18/50\n",
            "63/63 [==============================] - 3s 43ms/step - loss: 2.1954 - acc: 0.3440\n",
            "Epoch 19/50\n",
            "63/63 [==============================] - 3s 43ms/step - loss: 2.1434 - acc: 0.3520\n",
            "Epoch 20/50\n",
            "63/63 [==============================] - 3s 43ms/step - loss: 2.0573 - acc: 0.2960\n",
            "Epoch 21/50\n",
            "63/63 [==============================] - 3s 43ms/step - loss: 2.0181 - acc: 0.3360\n",
            "Epoch 22/50\n",
            "63/63 [==============================] - 3s 43ms/step - loss: 1.9346 - acc: 0.3520\n",
            "Epoch 23/50\n",
            "63/63 [==============================] - 3s 43ms/step - loss: 1.8672 - acc: 0.3920\n",
            "Epoch 24/50\n",
            "63/63 [==============================] - 3s 43ms/step - loss: 1.8050 - acc: 0.4000\n",
            "Epoch 25/50\n",
            "63/63 [==============================] - 3s 43ms/step - loss: 1.7260 - acc: 0.4400\n",
            "Epoch 26/50\n",
            "63/63 [==============================] - 3s 43ms/step - loss: 1.6883 - acc: 0.4560\n",
            "Epoch 27/50\n",
            "63/63 [==============================] - 3s 43ms/step - loss: 1.5880 - acc: 0.5120\n",
            "Epoch 28/50\n",
            "63/63 [==============================] - 3s 43ms/step - loss: 1.5525 - acc: 0.4960\n",
            "Epoch 29/50\n",
            "63/63 [==============================] - 3s 43ms/step - loss: 1.5249 - acc: 0.4960\n",
            "Epoch 30/50\n",
            "63/63 [==============================] - 3s 43ms/step - loss: 1.4467 - acc: 0.5280\n",
            "Epoch 31/50\n",
            "63/63 [==============================] - 3s 43ms/step - loss: 1.3960 - acc: 0.5200\n",
            "Epoch 32/50\n",
            "63/63 [==============================] - 3s 43ms/step - loss: 1.3226 - acc: 0.5200\n",
            "Epoch 33/50\n",
            "63/63 [==============================] - 3s 43ms/step - loss: 1.2698 - acc: 0.5680\n",
            "Epoch 34/50\n",
            "63/63 [==============================] - 3s 43ms/step - loss: 1.2407 - acc: 0.5280\n",
            "Epoch 35/50\n",
            "63/63 [==============================] - 3s 43ms/step - loss: 1.1923 - acc: 0.6320\n",
            "Epoch 36/50\n",
            "63/63 [==============================] - 3s 43ms/step - loss: 1.0927 - acc: 0.6720\n",
            "Epoch 37/50\n",
            "63/63 [==============================] - 3s 43ms/step - loss: 1.1269 - acc: 0.6000\n",
            "Epoch 38/50\n",
            "63/63 [==============================] - 3s 43ms/step - loss: 1.0613 - acc: 0.6640\n",
            "Epoch 39/50\n",
            "63/63 [==============================] - 3s 43ms/step - loss: 1.0200 - acc: 0.6480\n",
            "Epoch 40/50\n",
            "63/63 [==============================] - 3s 43ms/step - loss: 0.9664 - acc: 0.6880\n",
            "Epoch 41/50\n",
            "63/63 [==============================] - 3s 43ms/step - loss: 0.9375 - acc: 0.6880\n",
            "Epoch 42/50\n",
            "63/63 [==============================] - 3s 43ms/step - loss: 0.8978 - acc: 0.7040\n",
            "Epoch 43/50\n",
            "63/63 [==============================] - 3s 43ms/step - loss: 0.8342 - acc: 0.7120\n",
            "Epoch 44/50\n",
            "63/63 [==============================] - 3s 44ms/step - loss: 0.8021 - acc: 0.7360\n",
            "Epoch 45/50\n",
            "63/63 [==============================] - 3s 44ms/step - loss: 0.7861 - acc: 0.7600\n",
            "Epoch 46/50\n",
            "63/63 [==============================] - 3s 44ms/step - loss: 0.7172 - acc: 0.8080\n",
            "Epoch 47/50\n",
            "63/63 [==============================] - 3s 44ms/step - loss: 0.6891 - acc: 0.8240\n",
            "Epoch 48/50\n",
            "63/63 [==============================] - 3s 43ms/step - loss: 0.6540 - acc: 0.8160\n",
            "Epoch 49/50\n",
            "63/63 [==============================] - 3s 43ms/step - loss: 0.6303 - acc: 0.8160\n",
            "Epoch 50/50\n",
            "63/63 [==============================] - 3s 43ms/step - loss: 0.6113 - acc: 0.8240\n"
          ],
          "name": "stdout"
        }
      ]
    },
    {
      "cell_type": "code",
      "metadata": {
        "colab_type": "code",
        "id": "adKwHQ4FyR7D",
        "colab": {
          "base_uri": "https://localhost:8080/",
          "height": 545
        },
        "outputId": "76c09501-1378-4b36-a388-9ead657ef9be"
      },
      "source": [
        "# Plot the Training and Validation Accuracy & Loss Scores\n",
        "# Enter your code here:\n",
        "%matplotlib inline\n",
        "import matplotlib.pyplot as plt\n",
        "\n",
        "acc = history.history['acc']\n",
        "loss = history.history['loss']\n",
        "\n",
        "epochs = range(1, len(acc) + 1)\n",
        "\n",
        "plt.plot(epochs, acc, 'bo', label='Training acc')\n",
        "plt.title('Training and validation accuracy')\n",
        "plt.legend()\n",
        "\n",
        "plt.figure()\n",
        "\n",
        "plt.plot(epochs, loss, 'bo', label='Training loss')\n",
        "plt.title('Training and validation loss')\n",
        "plt.legend()\n",
        "\n",
        "plt.show()"
      ],
      "execution_count": null,
      "outputs": [
        {
          "output_type": "display_data",
          "data": {
            "image/png": "[encoded data removed]",
            "text/plain": [
              "<Figure size 432x288 with 1 Axes>"
            ]
          },
          "metadata": {
            "tags": [],
            "needs_background": "light"
          }
        },
        {
          "output_type": "display_data",
          "data": {
            "image/png": "[encoded data removed]",
            "text/plain": [
              "<Figure size 432x288 with 1 Axes>"
            ]
          },
          "metadata": {
            "tags": [],
            "needs_background": "light"
          }
        }
      ]
    },
    {
      "cell_type": "code",
      "metadata": {
        "colab_type": "code",
        "id": "l3b-eJViyR7F",
        "colab": {}
      },
      "source": [
        "# Save the Model\n",
        "model.save(model_path+'chgen_model_9.h5')\n",
        "model.save('chgen_model_9.h5')"
      ],
      "execution_count": null,
      "outputs": []
    },
    {
      "cell_type": "markdown",
      "metadata": {
        "colab_type": "text",
        "id": "N5ngk1Zm6LR4"
      },
      "source": [
        "### Model #9_1 (30e) "
      ]
    },
    {
      "cell_type": "code",
      "metadata": {
        "colab_type": "code",
        "id": "dT-llldY6LR9",
        "colab": {
          "base_uri": "https://localhost:8080/",
          "height": 255
        },
        "outputId": "9baeadbc-fc4b-406d-e3e3-e4c6c0581e78"
      },
      "source": [
        "# Build the Model\n",
        "# Enter your code here:\n",
        "from tensorflow.keras.models import Sequential\n",
        "from tensorflow.keras import layers\n",
        "from tensorflow.keras.optimizers import RMSprop, Adam\n",
        "\n",
        "model = keras.models.Sequential()\n",
        "model.add(layers.GRU(2048, input_shape=(window_size, len(chars)), return_sequences=True)) #multiclass single label classification\n",
        "model.add(layers.GRU(2048))\n",
        "model.add(layers.Dense(len(chars), activation='softmax'))\n",
        "\n",
        "model.summary()\n"
      ],
      "execution_count": null,
      "outputs": [
        {
          "output_type": "stream",
          "text": [
            "Model: \"sequential_4\"\n",
            "_________________________________________________________________\n",
            "Layer (type)                 Output Shape              Param #   \n",
            "=================================================================\n",
            "gru_8 (GRU)                  (None, 100, 2048)         12810240  \n",
            "_________________________________________________________________\n",
            "gru_9 (GRU)                  (None, 2048)              25178112  \n",
            "_________________________________________________________________\n",
            "dense_4 (Dense)              (None, 35)                71715     \n",
            "=================================================================\n",
            "Total params: 38,060,067\n",
            "Trainable params: 38,060,067\n",
            "Non-trainable params: 0\n",
            "_________________________________________________________________\n"
          ],
          "name": "stdout"
        }
      ]
    },
    {
      "cell_type": "code",
      "metadata": {
        "colab_type": "code",
        "id": "_NRE2e6S6LSE",
        "colab": {
          "base_uri": "https://localhost:8080/",
          "height": 1000
        },
        "outputId": "6091e8d2-3825-4350-baf7-02270181d398"
      },
      "source": [
        "# Train the Model\n",
        "# Enter your code here:\n",
        "model.compile(loss='categorical_crossentropy', optimizer=Adam(lr=2e-5), metrics=['acc'])\n",
        "\n",
        "history = model.fit(X, y,\n",
        "                    epochs=30,\n",
        "                    batch_size=2) "
      ],
      "execution_count": null,
      "outputs": [
        {
          "output_type": "stream",
          "text": [
            "Epoch 1/30\n",
            "WARNING:tensorflow:Model was constructed with shape (None, 100, 35) for input Tensor(\"gru_8_input:0\", shape=(None, 100, 35), dtype=float32), but it was called on an input with incompatible shape (None, 5, 35).\n",
            "WARNING:tensorflow:Model was constructed with shape (None, 100, 35) for input Tensor(\"gru_8_input:0\", shape=(None, 100, 35), dtype=float32), but it was called on an input with incompatible shape (None, 5, 35).\n",
            "63/63 [==============================] - 3s 45ms/step - loss: 3.5351 - acc: 0.1280\n",
            "Epoch 2/30\n",
            "63/63 [==============================] - 3s 43ms/step - loss: 3.4373 - acc: 0.1680\n",
            "Epoch 3/30\n",
            "63/63 [==============================] - 3s 43ms/step - loss: 3.1739 - acc: 0.1760\n",
            "Epoch 4/30\n",
            "63/63 [==============================] - 3s 44ms/step - loss: 2.9688 - acc: 0.1760\n",
            "Epoch 5/30\n",
            "63/63 [==============================] - 3s 44ms/step - loss: 2.9007 - acc: 0.1760\n",
            "Epoch 6/30\n",
            "63/63 [==============================] - 3s 43ms/step - loss: 2.8657 - acc: 0.2000\n",
            "Epoch 7/30\n",
            "63/63 [==============================] - 3s 43ms/step - loss: 2.8133 - acc: 0.1760\n",
            "Epoch 8/30\n",
            "63/63 [==============================] - 3s 43ms/step - loss: 2.7815 - acc: 0.1920\n",
            "Epoch 9/30\n",
            "63/63 [==============================] - 3s 43ms/step - loss: 2.7304 - acc: 0.1760\n",
            "Epoch 10/30\n",
            "63/63 [==============================] - 3s 43ms/step - loss: 2.6949 - acc: 0.1840\n",
            "Epoch 11/30\n",
            "63/63 [==============================] - 3s 43ms/step - loss: 2.6462 - acc: 0.1920\n",
            "Epoch 12/30\n",
            "63/63 [==============================] - 3s 43ms/step - loss: 2.5832 - acc: 0.2000\n",
            "Epoch 13/30\n",
            "63/63 [==============================] - 3s 43ms/step - loss: 2.5212 - acc: 0.2800\n",
            "Epoch 14/30\n",
            "63/63 [==============================] - 3s 43ms/step - loss: 2.4631 - acc: 0.2800\n",
            "Epoch 15/30\n",
            "63/63 [==============================] - 3s 43ms/step - loss: 2.4044 - acc: 0.2960\n",
            "Epoch 16/30\n",
            "63/63 [==============================] - 3s 43ms/step - loss: 2.3424 - acc: 0.2880\n",
            "Epoch 17/30\n",
            "63/63 [==============================] - 3s 43ms/step - loss: 2.2789 - acc: 0.3040\n",
            "Epoch 18/30\n",
            "63/63 [==============================] - 3s 44ms/step - loss: 2.2241 - acc: 0.3520\n",
            "Epoch 19/30\n",
            "63/63 [==============================] - 3s 44ms/step - loss: 2.1609 - acc: 0.3120\n",
            "Epoch 20/30\n",
            "63/63 [==============================] - 3s 44ms/step - loss: 2.0936 - acc: 0.3360\n",
            "Epoch 21/30\n",
            "63/63 [==============================] - 3s 43ms/step - loss: 2.0232 - acc: 0.3600\n",
            "Epoch 22/30\n",
            "63/63 [==============================] - 3s 43ms/step - loss: 1.9493 - acc: 0.3600\n",
            "Epoch 23/30\n",
            "63/63 [==============================] - 3s 44ms/step - loss: 1.9047 - acc: 0.4000\n",
            "Epoch 24/30\n",
            "63/63 [==============================] - 3s 43ms/step - loss: 1.8372 - acc: 0.3760\n",
            "Epoch 25/30\n",
            "63/63 [==============================] - 3s 43ms/step - loss: 1.7672 - acc: 0.4160\n",
            "Epoch 26/30\n",
            "63/63 [==============================] - 3s 43ms/step - loss: 1.7034 - acc: 0.4400\n",
            "Epoch 27/30\n",
            "63/63 [==============================] - 3s 43ms/step - loss: 1.6618 - acc: 0.4400\n",
            "Epoch 28/30\n",
            "63/63 [==============================] - 3s 44ms/step - loss: 1.5982 - acc: 0.4320\n",
            "Epoch 29/30\n",
            "63/63 [==============================] - 3s 43ms/step - loss: 1.5310 - acc: 0.4480\n",
            "Epoch 30/30\n",
            "63/63 [==============================] - 3s 43ms/step - loss: 1.4767 - acc: 0.4960\n"
          ],
          "name": "stdout"
        }
      ]
    },
    {
      "cell_type": "code",
      "metadata": {
        "colab_type": "code",
        "id": "Gm4_eUK66LSG",
        "colab": {
          "base_uri": "https://localhost:8080/",
          "height": 545
        },
        "outputId": "e41fb3f0-264b-454d-aa83-757dbc10c2c3"
      },
      "source": [
        "# Plot the Training and Validation Accuracy & Loss Scores\n",
        "# Enter your code here:\n",
        "%matplotlib inline\n",
        "import matplotlib.pyplot as plt\n",
        "\n",
        "acc = history.history['acc']\n",
        "loss = history.history['loss']\n",
        "\n",
        "epochs = range(1, len(acc) + 1)\n",
        "\n",
        "plt.plot(epochs, acc, 'bo', label='Training acc')\n",
        "plt.title('Training and validation accuracy')\n",
        "plt.legend()\n",
        "\n",
        "plt.figure()\n",
        "\n",
        "plt.plot(epochs, loss, 'bo', label='Training loss')\n",
        "plt.title('Training and validation loss')\n",
        "plt.legend()\n",
        "\n",
        "plt.show()"
      ],
      "execution_count": null,
      "outputs": [
        {
          "output_type": "display_data",
          "data": {
            "image/png": "[encoded data removed]",
            "text/plain": [
              "<Figure size 432x288 with 1 Axes>"
            ]
          },
          "metadata": {
            "tags": [],
            "needs_background": "light"
          }
        },
        {
          "output_type": "display_data",
          "data": {
            "image/png": "[encoded data removed]",
            "text/plain": [
              "<Figure size 432x288 with 1 Axes>"
            ]
          },
          "metadata": {
            "tags": [],
            "needs_background": "light"
          }
        }
      ]
    },
    {
      "cell_type": "code",
      "metadata": {
        "colab_type": "code",
        "id": "FY_yBTxw6LSJ",
        "colab": {}
      },
      "source": [
        "# Save the Model\n",
        "model.save(model_path+'chgen_model_9_1.h5')\n",
        "model.save('chgen_model_9_1.h5')"
      ],
      "execution_count": null,
      "outputs": []
    },
    {
      "cell_type": "markdown",
      "metadata": {
        "colab_type": "text",
        "id": "VL1No9ojXiqs"
      },
      "source": [
        "### Model #10"
      ]
    },
    {
      "cell_type": "code",
      "metadata": {
        "colab_type": "code",
        "id": "kmhiLB7bXiqw",
        "colab": {
          "base_uri": "https://localhost:8080/",
          "height": 255
        },
        "outputId": "88d38178-4724-45a2-fe40-6a45460c4abe"
      },
      "source": [
        "# Build the Model\n",
        "# Enter your code here:\n",
        "from tensorflow.keras.models import Sequential\n",
        "from tensorflow.keras import layers\n",
        "from tensorflow.keras.optimizers import RMSprop, Adam\n",
        "\n",
        "model = keras.models.Sequential()\n",
        "model.add(layers.GRU(256, input_shape=(window_size, len(chars)), return_sequences=True)) #multiclass single label classification\n",
        "model.add(layers.GRU(256))\n",
        "model.add(layers.Dense(len(chars), activation='softmax'))\n",
        "\n",
        "model.summary()\n"
      ],
      "execution_count": null,
      "outputs": [
        {
          "output_type": "stream",
          "text": [
            "Model: \"sequential\"\n",
            "_________________________________________________________________\n",
            "Layer (type)                 Output Shape              Param #   \n",
            "=================================================================\n",
            "gru (GRU)                    (None, 100, 256)          225024    \n",
            "_________________________________________________________________\n",
            "gru_1 (GRU)                  (None, 256)               394752    \n",
            "_________________________________________________________________\n",
            "dense (Dense)                (None, 35)                8995      \n",
            "=================================================================\n",
            "Total params: 628,771\n",
            "Trainable params: 628,771\n",
            "Non-trainable params: 0\n",
            "_________________________________________________________________\n"
          ],
          "name": "stdout"
        }
      ]
    },
    {
      "cell_type": "code",
      "metadata": {
        "colab_type": "code",
        "id": "n32nbsGkXiqz",
        "colab": {
          "base_uri": "https://localhost:8080/",
          "height": 357
        },
        "outputId": "96222d85-ee0c-4997-c87f-45e46ff6d277"
      },
      "source": [
        "# Train the Model\n",
        "# Enter your code here:\n",
        "model.compile(loss='categorical_crossentropy', optimizer=Adam(lr=1e-4), metrics=['acc'])\n",
        "\n",
        "history = model.fit(X, y,\n",
        "                    epochs=10,\n",
        "                    batch_size=128) "
      ],
      "execution_count": null,
      "outputs": [
        {
          "output_type": "stream",
          "text": [
            "Epoch 1/10\n",
            "4252/4252 [==============================] - 114s 27ms/step - loss: 2.3538 - acc: 0.3219\n",
            "Epoch 2/10\n",
            "4252/4252 [==============================] - 115s 27ms/step - loss: 2.0286 - acc: 0.4053\n",
            "Epoch 3/10\n",
            "4252/4252 [==============================] - 115s 27ms/step - loss: 1.8838 - acc: 0.4456\n",
            "Epoch 4/10\n",
            "4252/4252 [==============================] - 115s 27ms/step - loss: 1.7878 - acc: 0.4720\n",
            "Epoch 5/10\n",
            "4252/4252 [==============================] - 115s 27ms/step - loss: 1.7137 - acc: 0.4934\n",
            "Epoch 6/10\n",
            "4252/4252 [==============================] - 115s 27ms/step - loss: 1.6529 - acc: 0.5113\n",
            "Epoch 7/10\n",
            "4252/4252 [==============================] - 115s 27ms/step - loss: 1.6018 - acc: 0.5265\n",
            "Epoch 8/10\n",
            "4252/4252 [==============================] - 115s 27ms/step - loss: 1.5586 - acc: 0.5390\n",
            "Epoch 9/10\n",
            "4252/4252 [==============================] - 115s 27ms/step - loss: 1.5214 - acc: 0.5499\n",
            "Epoch 10/10\n",
            "4252/4252 [==============================] - 115s 27ms/step - loss: 1.4895 - acc: 0.5584\n"
          ],
          "name": "stdout"
        }
      ]
    },
    {
      "cell_type": "code",
      "metadata": {
        "colab_type": "code",
        "id": "b4SiTzTFXiq1",
        "colab": {
          "base_uri": "https://localhost:8080/",
          "height": 545
        },
        "outputId": "192ace72-7d7e-4365-8eae-d58ef45cff3c"
      },
      "source": [
        "# Plot the Training and Validation Accuracy & Loss Scores\n",
        "# Enter your code here:\n",
        "%matplotlib inline\n",
        "import matplotlib.pyplot as plt\n",
        "\n",
        "acc = history.history['acc']\n",
        "loss = history.history['loss']\n",
        "\n",
        "epochs = range(1, len(acc) + 1)\n",
        "\n",
        "plt.plot(epochs, acc, 'bo', label='Training acc')\n",
        "plt.title('Training and validation accuracy')\n",
        "plt.legend()\n",
        "\n",
        "plt.figure()\n",
        "\n",
        "plt.plot(epochs, loss, 'bo', label='Training loss')\n",
        "plt.title('Training and validation loss')\n",
        "plt.legend()\n",
        "\n",
        "plt.show()"
      ],
      "execution_count": null,
      "outputs": [
        {
          "output_type": "display_data",
          "data": {
            "image/png": "[encoded data removed]",
            "text/plain": [
              "<Figure size 432x288 with 1 Axes>"
            ]
          },
          "metadata": {
            "tags": [],
            "needs_background": "light"
          }
        },
        {
          "output_type": "display_data",
          "data": {
            "image/png": "[encoded data removed]",
            "text/plain": [
              "<Figure size 432x288 with 1 Axes>"
            ]
          },
          "metadata": {
            "tags": [],
            "needs_background": "light"
          }
        }
      ]
    },
    {
      "cell_type": "code",
      "metadata": {
        "colab_type": "code",
        "id": "td-Hs3wRXiq2",
        "colab": {}
      },
      "source": [
        "# Save the Model\n",
        "model.save(model_path+'chgen_model_10.h5')\n",
        "model.save('chgen_model_10.h5')"
      ],
      "execution_count": null,
      "outputs": []
    },
    {
      "cell_type": "markdown",
      "metadata": {
        "colab_type": "text",
        "id": "adRyRV890oZz"
      },
      "source": [
        "### Model #11"
      ]
    },
    {
      "cell_type": "code",
      "metadata": {
        "colab_type": "code",
        "id": "0CtHMPdi0oZ3",
        "colab": {
          "base_uri": "https://localhost:8080/",
          "height": 255
        },
        "outputId": "88d38178-4724-45a2-fe40-6a45460c4abe"
      },
      "source": [
        "# Build the Model\n",
        "# Enter your code here:\n",
        "from tensorflow.keras.models import Sequential\n",
        "from tensorflow.keras import layers\n",
        "from tensorflow.keras.optimizers import RMSprop, Adam\n",
        "\n",
        "model = keras.models.Sequential()\n",
        "model.add(layers.GRU(256, input_shape=(window_size, len(chars)), return_sequences=True)) #multiclass single label classification\n",
        "model.add(layers.GRU(256))\n",
        "model.add(layers.Dense(len(chars), activation='softmax'))\n",
        "\n",
        "model.summary()\n"
      ],
      "execution_count": null,
      "outputs": [
        {
          "output_type": "stream",
          "text": [
            "Model: \"sequential\"\n",
            "_________________________________________________________________\n",
            "Layer (type)                 Output Shape              Param #   \n",
            "=================================================================\n",
            "gru (GRU)                    (None, 100, 256)          225024    \n",
            "_________________________________________________________________\n",
            "gru_1 (GRU)                  (None, 256)               394752    \n",
            "_________________________________________________________________\n",
            "dense (Dense)                (None, 35)                8995      \n",
            "=================================================================\n",
            "Total params: 628,771\n",
            "Trainable params: 628,771\n",
            "Non-trainable params: 0\n",
            "_________________________________________________________________\n"
          ],
          "name": "stdout"
        }
      ]
    },
    {
      "cell_type": "code",
      "metadata": {
        "colab_type": "code",
        "id": "mLWGndsx0oZ6",
        "colab": {
          "base_uri": "https://localhost:8080/",
          "height": 357
        },
        "outputId": "96222d85-ee0c-4997-c87f-45e46ff6d277"
      },
      "source": [
        "# Train the Model\n",
        "# Enter your code here:\n",
        "model.compile(loss='categorical_crossentropy', optimizer=Adam(lr=1e-4), metrics=['acc'])\n",
        "\n",
        "history = model.fit(X, y,\n",
        "                    epochs=10,\n",
        "                    batch_size=128) "
      ],
      "execution_count": null,
      "outputs": [
        {
          "output_type": "stream",
          "text": [
            "Epoch 1/10\n",
            "4252/4252 [==============================] - 114s 27ms/step - loss: 2.3538 - acc: 0.3219\n",
            "Epoch 2/10\n",
            "4252/4252 [==============================] - 115s 27ms/step - loss: 2.0286 - acc: 0.4053\n",
            "Epoch 3/10\n",
            "4252/4252 [==============================] - 115s 27ms/step - loss: 1.8838 - acc: 0.4456\n",
            "Epoch 4/10\n",
            "4252/4252 [==============================] - 115s 27ms/step - loss: 1.7878 - acc: 0.4720\n",
            "Epoch 5/10\n",
            "4252/4252 [==============================] - 115s 27ms/step - loss: 1.7137 - acc: 0.4934\n",
            "Epoch 6/10\n",
            "4252/4252 [==============================] - 115s 27ms/step - loss: 1.6529 - acc: 0.5113\n",
            "Epoch 7/10\n",
            "4252/4252 [==============================] - 115s 27ms/step - loss: 1.6018 - acc: 0.5265\n",
            "Epoch 8/10\n",
            "4252/4252 [==============================] - 115s 27ms/step - loss: 1.5586 - acc: 0.5390\n",
            "Epoch 9/10\n",
            "4252/4252 [==============================] - 115s 27ms/step - loss: 1.5214 - acc: 0.5499\n",
            "Epoch 10/10\n",
            "4252/4252 [==============================] - 115s 27ms/step - loss: 1.4895 - acc: 0.5584\n"
          ],
          "name": "stdout"
        }
      ]
    },
    {
      "cell_type": "code",
      "metadata": {
        "colab_type": "code",
        "id": "TOCk7dHg0oZ8",
        "colab": {
          "base_uri": "https://localhost:8080/",
          "height": 545
        },
        "outputId": "192ace72-7d7e-4365-8eae-d58ef45cff3c"
      },
      "source": [
        "# Plot the Training and Validation Accuracy & Loss Scores\n",
        "# Enter your code here:\n",
        "%matplotlib inline\n",
        "import matplotlib.pyplot as plt\n",
        "\n",
        "acc = history.history['acc']\n",
        "loss = history.history['loss']\n",
        "\n",
        "epochs = range(1, len(acc) + 1)\n",
        "\n",
        "plt.plot(epochs, acc, 'bo', label='Training acc')\n",
        "plt.title('Training and validation accuracy')\n",
        "plt.legend()\n",
        "\n",
        "plt.figure()\n",
        "\n",
        "plt.plot(epochs, loss, 'bo', label='Training loss')\n",
        "plt.title('Training and validation loss')\n",
        "plt.legend()\n",
        "\n",
        "plt.show()"
      ],
      "execution_count": null,
      "outputs": [
        {
          "output_type": "display_data",
          "data": {
            "image/png": "[encoded data removed]",
            "text/plain": [
              "<Figure size 432x288 with 1 Axes>"
            ]
          },
          "metadata": {
            "tags": [],
            "needs_background": "light"
          }
        },
        {
          "output_type": "display_data",
          "data": {
            "image/png": "[encoded data removed]",
            "text/plain": [
              "<Figure size 432x288 with 1 Axes>"
            ]
          },
          "metadata": {
            "tags": [],
            "needs_background": "light"
          }
        }
      ]
    },
    {
      "cell_type": "code",
      "metadata": {
        "colab_type": "code",
        "id": "Mx1ifMaC0oZ9",
        "colab": {}
      },
      "source": [
        "# Save the Model\n",
        "model.save(model_path+'chgen_model_10.h5')\n",
        "model.save('chgen_model_10.h5')"
      ],
      "execution_count": null,
      "outputs": []
    },
    {
      "cell_type": "markdown",
      "metadata": {
        "id": "yH8_cts-IzEN",
        "colab_type": "text"
      },
      "source": [
        "## Step Evaluation [chgen_model_2]"
      ]
    },
    {
      "cell_type": "code",
      "metadata": {
        "id": "kxg-RvelIzEN",
        "colab_type": "code",
        "colab": {}
      },
      "source": [
        "from tensorflow.keras import models\n",
        "\n",
        "#model.load_weights('chgen_model_best.h5')\n",
        "\n",
        "model = models.load_model(model_path+'chgen_model_2.h5')"
      ],
      "execution_count": null,
      "outputs": []
    },
    {
      "cell_type": "code",
      "metadata": {
        "id": "BBcMOTCfIzEO",
        "colab_type": "code",
        "colab": {
          "base_uri": "https://localhost:8080/",
          "height": 34
        },
        "outputId": "abfdcc92-4c64-499e-ce94-a2a3158691ed"
      },
      "source": [
        "# takes the user input\n",
        "\n",
        "#Oh's third victim was hawker stall owner Ng Phek Huay, whom he stole from on Sept 9, 2019.  While Madam Ng, 71, was waiting for her turn to see the doctor at Queenstown Polyclinic, he stole money from her handbag.  He then offered her zopiclone and convinced her that she had to take it before her medical check-up.  Thinking that Oh was one of the polyclinic staff, Madam Ng took the drug and became drowsy.  He then took from her a gold-coloured bracelet which she was wearing and took her out of the polyclinic.  Oh then got a taxi to take Madam Ng to NUH, as she was losing consciousness.  On Friday, District Judge Gwee backdated Oh's sentence to Sept 12 last year, when he was first remanded.\n",
        "\n",
        "#text_input = np.array([input()])\n",
        "text_input = clean_text(input().lower())"
      ],
      "execution_count": null,
      "outputs": [
        {
          "output_type": "stream",
          "text": [
            "i love going to the park, especially when it is windy or sunny. every satruday i go to the park after buying ice cream.\n"
          ],
          "name": "stdout"
        }
      ]
    },
    {
      "cell_type": "code",
      "metadata": {
        "id": "je5VZdwRIzEQ",
        "colab_type": "code",
        "colab": {
          "base_uri": "https://localhost:8080/",
          "height": 88
        },
        "outputId": "d22df579-6f90-44e8-a1ac-a20c5ef3dd2a"
      },
      "source": [
        "# one-hot encode the user input\n",
        "# Enter your code here:\n",
        "new_window_size = 5\n",
        "\n",
        "X, y = encode_io_pairs(text_input, new_window_size)"
      ],
      "execution_count": null,
      "outputs": [
        {
          "output_type": "stream",
          "text": [
            "Num of Sequences:  114\n",
            "['i lov', ' love', 'love ', 'ove g', 've go', 'e goi', ' goin', 'going', 'oing ', 'ing t', 'ng to', 'g to ', ' to t', 'to th', 'o the', ' the ', 'the p', 'he pa', 'e par', ' park', 'park,', 'ark, ', 'rk, e', 'k, es', ', esp', ' espe', 'espec', 'speci', 'pecia', 'ecial', 'ciall', 'ially', 'ally ', 'lly w', 'ly wh', 'y whe', ' when', 'when ', 'hen i', 'en it', 'n it ', ' it i', 'it is', 't is ', ' is w', 'is wi', 's win', ' wind', 'windy', 'indy ', 'ndy o', 'dy or', 'y or ', ' or s', 'or su', 'r sun', ' sunn', 'sunny', 'unny.', 'nny. ', 'ny. e', 'y. ev', '. eve', ' ever', 'every', 'very ', 'ery s', 'ry sa', 'y sat', ' satr', 'satru', 'atrud', 'truda', 'ruday', 'uday ', 'day i', 'ay i ', 'y i g', ' i go', 'i go ', ' go t', 'go to', 'o to ', ' to t', 'to th', 'o the', ' the ', 'the p', 'he pa', 'e par', ' park', 'park ', 'ark a', 'rk af', 'k aft', ' afte', 'after', 'fter ', 'ter b', 'er bu', 'r buy', ' buyi', 'buyin', 'uying', 'ying ', 'ing i', 'ng ic', 'g ice', ' ice ', 'ice c', 'ce cr', 'e cre', ' crea', 'cream']\n",
            "Vectorization...\n"
          ],
          "name": "stdout"
        }
      ]
    },
    {
      "cell_type": "code",
      "metadata": {
        "id": "Ecucq2ljIzES",
        "colab_type": "code",
        "colab": {
          "base_uri": "https://localhost:8080/",
          "height": 853
        },
        "outputId": "d722ea27-fe40-48ad-e417-c106c65d9b45"
      },
      "source": [
        "# show the model output using predict function\n",
        "# Enter your code here:\n",
        "import random\n",
        "import sys\n",
        "import numpy as np\n",
        "\n",
        "def sample(preds, temperature=1.0):\n",
        "    preds = np.asarray(preds).astype('float64')\n",
        "    preds = np.log(preds) / temperature\n",
        "    exp_preds = np.exp(preds)\n",
        "    preds = exp_preds / np.sum(exp_preds)\n",
        "    probas = np.random.multinomial(1, preds, 1)\n",
        "    return np.argmax(probas)\n",
        "  \n",
        "\n",
        "for epoch in range(1, 5):\n",
        "    print('epoch', epoch)\n",
        "    # Fit the model for 1 epoch on the available training data\n",
        "    model.fit(X, y,\n",
        "              batch_size=128,\n",
        "              epochs=1)\n",
        "\n",
        "    # Select a text seed at random\n",
        "    start_index = random.randint(0, len(text_input) - new_window_size - 1)\n",
        "    generated_text = text_input[start_index: start_index + new_window_size]\n",
        "    print('--- Generating with seed: \"' + generated_text + '\"')\n",
        "\n",
        "    for temperature in [0.2, 0.5, 1.0, 1.2]:\n",
        "        print('------ temperature:', temperature)\n",
        "        sys.stdout.write(generated_text)\n",
        "\n",
        "        # We generate 400 characters\n",
        "        for i in range(400):\n",
        "            sampled = np.zeros((1, new_window_size, len(chars)))\n",
        "            for t, char in enumerate(generated_text):\n",
        "                sampled[0, t, chars_to_indices[char]] = 1.\n",
        "\n",
        "            preds = model.predict(sampled, verbose=0)[0]\n",
        "            next_index = sample(preds, temperature)\n",
        "            next_char = chars[next_index]\n",
        "\n",
        "            generated_text += next_char\n",
        "            generated_text = generated_text[1:]\n",
        "\n",
        "            sys.stdout.write(next_char)\n",
        "            sys.stdout.flush()\n",
        "        print()\n"
      ],
      "execution_count": null,
      "outputs": [
        {
          "output_type": "stream",
          "text": [
            "epoch 1\n",
            "WARNING:tensorflow:Model was constructed with shape (None, 100, 35) for input Tensor(\"lstm_1_input:0\", shape=(None, 100, 35), dtype=float32), but it was called on an input with incompatible shape (None, 5, 35).\n",
            "1/1 [==============================] - 0s 2ms/step - loss: 1.9713 - acc: 0.4474\n",
            "--- Generating with seed: \"ndy o\"\n",
            "------ temperature: 0.2\n",
            "ndy oWARNING:tensorflow:Model was constructed with shape (None, 100, 35) for input Tensor(\"lstm_1_input:0\", shape=(None, 100, 35), dtype=float32), but it was called on an input with incompatible shape (None, 5, 35).\n",
            "f the passion an another of the would to the singully and the depended the street to the back to seemed to the side the countinal to the probert to himselves and and so concenty and the beece in the companing the chair with the street of the beece to the county were to the said the stone of the state three and and the street the laid the street and the man which to the street and the singully and \n",
            "------ temperature: 0.5\n",
            " and the fronts with to the asked at reasone farm that in the though with the very with had before of the little the stone of the singully sat in another of the centry our from the any face to the part into the look of the during it of me, and the stone and the left it with the singully for the mattered to a husband on the stand about and strong of the been said with the this oweline the respecial "
          ],
          "name": "stdout"
        },
        {
          "output_type": "stream",
          "text": [
            "/usr/local/lib/python3.6/dist-packages/ipykernel_launcher.py:9: RuntimeWarning: divide by zero encountered in log\n",
            "  if __name__ == '__main__':\n"
          ],
          "name": "stderr"
        },
        {
          "output_type": "stream",
          "text": [
            "ange\n",
            "------ temperature: 1.0\n",
            " angel, and she respecriced. becamerigles a post convitiled, behind thisit and angly which a tream any bestme. it was some cut.a rail at the in the has eming his little mannerby movely at the hround where is hardire its holling. then, grief which whitfleamp in the silve ofour, cross and police to me?ut'traint nook and with the with used one liever cab, antboar very future came horrolled. sitcould to th\n",
            "------ temperature: 1.2\n",
            "to the grin'tiffound to sets, for engam painingun sharp inhisinscotneply unimbrelmud comen questucle itcoul forgedf stively his love offor both itit with the live whenngurbororsome only withbanesen's chair. prefearth. was heavy beoke-th's ceptive.now-sshu notany later, 'gosnownoral.i sat but wamates, earning, and where a young itfacche pircount one. behind foaralw! that it wils fo.it was where alst.'id\n",
            "epoch 2\n",
            "1/1 [==============================] - 0s 1ms/step - loss: 1.6212 - acc: 0.5088\n",
            "--- Generating with seed: \"y. ev\"\n",
            "------ temperature: 0.2\n",
            "y. every little which with the man which was a little to the street to the lay to the situation the stone and was a chair. i had the situatingly to the man which of the morning the counting the treatingle and sat in the county are the street the street and and leave of the probert. it is a little to the passion the street in the man which of the county we had betwerely and the stone and sat with the la\n",
            "------ temperature: 0.5\n",
            "he lay the this persated to the greath the countinal to the was a sound him of the break the situous, but the beece to him enough to having at the poster. i had a passer, and seemed to the anger in the singully down a countime any at the look of you with to the who words in the do to an old londone wass, and was his particless of the carries in the strangly upon to aller could which and in the will str\n",
            "------ temperature: 1.0\n",
            "l strickinginalmycraw room for a ball and confustrately up to the chair, well asthistruck which this noone chalminates. were cross, points, but in and ended greated.well, and reg.holmes succestai ashamam carrieor.pray its from to the venitary ofthe asat hers, the mannerver leydeginateatmarre-?redged small. xdid to the pouds, openage up in detail. his horse's that again man's to the reard the new hurry \n",
            "------ temperature: 1.2\n",
            "urry vixback week savigria, away, and so. i seemed, any otyou fion, youwily?so thirw i reg francis! whethereshoyes in. a ga! she fortunitionmorturning onethenimperuptydepertcrepatuenfuller,my bragay heaan anso-yamt. now custoiin, howeverfat.for that in a modfiber?nograble cum-cless man insonarge bacy flush. indeo love there. in theacleod hord' milly swyign agained very leagf comer man answerrs save has\n",
            "epoch 3\n",
            "1/1 [==============================] - 0s 1ms/step - loss: 1.4210 - acc: 0.5263\n",
            "--- Generating with seed: \"ice c\"\n",
            "------ temperature: 0.2\n",
            "ice came to the county were to the back to the situation an anger that in the man which will betweredinal and a singully which to the stone and the park and so were and and so hard of the man which was the could to the street to the sitting that in the man which of the singully with the strong the counting to the probable to the singully and seemed to the said the stone to the counting the counter to t\n",
            "------ temperature: 0.5\n",
            " to the painto a boots to the man of the cross, and in his reach to the trittle beer and long and so say that in the beece in the bishe washed when hand in the is the rather could becompaninged the strongly beecy with the mattere to an old park so man londough of the beece of the probabledand enough for a sound here in the bank to the crawled and the did not out and the situating. when holmes with the \n",
            "------ temperature: 1.0\n",
            " the red-head what with a man another, cot. crielly and him which of the crimil very so a sinfull,probable,ascominuly would from to finitn all the marriantlemfablauldishis time. i re able upon yame to unpleasaul, incear, has surpriselicemise talked our with is a slowly to fortunutting best had every sin paper' last she would to me windy were formedand shoot. then allown. what door, with eyes i was it. \n",
            "------ temperature: 1.2\n",
            " it. my conning one forc? onwaas in pertage,bot the fortunclessitioned, rudsed your ruchin holmes. at it. it up to even to lord? diddbeyondoutamge sun lonicut. but his windowen, betwerchins, and rain high and-puthing measonoirge manner from toward to my hardedinaly.'this yetwell.it waster,life mr. for it with  thespaicheetnleer,andsuddloudcmond. andweal.sthey doorling ormhumbs. absolutitithatperuper.,s\n",
            "epoch 4\n",
            "1/1 [==============================] - 0s 1ms/step - loss: 1.2643 - acc: 0.6228\n",
            "--- Generating with seed: \"indy \"\n",
            "------ temperature: 0.2\n",
            "indy to the street to the man which will before satrunkers and the stone and and the stone and the man which will by the other was a park that it is a street to the chair in the county were to the park of the sitting to the park the descrive to the situated to the park and the park that in the park and the passagger to the county we having to the singully man which and she had before will by the stone \n",
            "------ temperature: 0.5\n",
            "tone conver to the every county were and counting sound the take so at here and would not and a high with the reading to the seeing the would to himselves as a park that to the did any back, and and chark to the streeting that i saw it he had before. i will you would and was to the chair, sholling. i would succeedinal to the companinged a familinnty and corner and like the did not and was a sharprices \n",
            "------ temperature: 1.0\n",
            "ices keat which she headjocking-lowerins of britance. it i cross to undershown upon to the use, 'do youngastwich-rifdlish or  son'teres. 'of a paper,and sake troused by atthe sun at hard paddinatetle was looked. in moive morning wishtwill, but ever bard i knowing fortunuty he answerpoloylysound and nobbusy to a palish and save that you mean the am the hemctonantreets. is to here he lumport,' when years\n",
            "------ temperature: 1.2\n",
            "years i was theirchisryde, mr.let uponthe stagains, yeund anhallun, with to rud papersion.whentius, were manuse it would on the deduct. the chamberrmile in the reasonity.a butness nemag youhportuativetour when.then heavy, oh. weha.se alr, but inmy mohouseshong orown teevinish patm. if we libity toot as presimpresitaturing upper sable ?the manners, the meanly clun.who hung the saturateroule and hair dis\n"
          ],
          "name": "stdout"
        }
      ]
    },
    {
      "cell_type": "code",
      "metadata": {
        "id": "DOlP64bSzHYU",
        "colab_type": "code",
        "colab": {
          "base_uri": "https://localhost:8080/",
          "height": 156
        },
        "outputId": "47df6a8a-1790-4bf1-d09a-669ba2688de7"
      },
      "source": [
        "model.fit(X, y, batch_size=128, epochs=1)\n",
        "\n",
        "text_input = input(\"Enter sentence to predict next character: \\n\")\n",
        "temperature = 0.2\n",
        "print('------ temperature:', temperature)\n",
        "print(\"Prediction: \")\n",
        "sys.stdout.write(text_input)\n",
        "\n",
        "# We generate 400 characters\n",
        "# for i in range(400):\n",
        "sampled = np.zeros((1, len(text_input), len(chars)))\n",
        "for t, char in enumerate(text_input):\n",
        "    sampled[0, t, chars_to_indices[char]] = 1.\n",
        "\n",
        "preds = model.predict(sampled, verbose=0)[0]\n",
        "next_index = sample(preds, temperature)\n",
        "next_char = chars[next_index]\n",
        "\n",
        "text_input += next_char\n",
        "text_input = text_input[1:]\n",
        "\n",
        "\n",
        "sys.stdout.write(next_char)\n",
        "sys.stdout.flush()\n",
        "print()"
      ],
      "execution_count": null,
      "outputs": [
        {
          "output_type": "stream",
          "text": [
            "1/1 [==============================] - 0s 1ms/step - loss: 1.0243 - acc: 0.6930\n",
            "Enter sentence to predict next character: \n",
            "frogs are grea\n",
            "------ temperature: 0.2\n",
            "Prediction: \n",
            "frogs are greaWARNING:tensorflow:Model was constructed with shape (None, 100, 35) for input Tensor(\"lstm_1_input_1:0\", shape=(None, 100, 35), dtype=float32), but it was called on an input with incompatible shape (None, 14, 35).\n",
            "t\n"
          ],
          "name": "stdout"
        }
      ]
    },
    {
      "cell_type": "markdown",
      "metadata": {
        "colab_type": "text",
        "id": "00hEQbZIezdF"
      },
      "source": [
        "## Step Evaluation [chgen_model_2] (play ard)"
      ]
    },
    {
      "cell_type": "code",
      "metadata": {
        "colab_type": "code",
        "id": "AdtCU4IyezdG",
        "colab": {}
      },
      "source": [
        "from tensorflow.keras import models\n",
        "\n",
        "#model.load_weights('chgen_model_best.h5')\n",
        "\n",
        "model = models.load_model(model_path+'chgen_model_2.h5')"
      ],
      "execution_count": null,
      "outputs": []
    },
    {
      "cell_type": "code",
      "metadata": {
        "colab_type": "code",
        "id": "KoUa03LiezdI",
        "colab": {
          "base_uri": "https://localhost:8080/",
          "height": 54
        },
        "outputId": "83784ce6-c76d-4423-8cfa-2353b4f98ed5"
      },
      "source": [
        "# takes the user input\n",
        "\n",
        "#Oh's third victim was hawker stall owner Ng Phek Huay, whom he stole from on Sept 9, 2019.  While Madam Ng, 71, was waiting for her turn to see the doctor at Queenstown Polyclinic, he stole money from her handbag.  He then offered her zopiclone and convinced her that she had to take it before her medical check-up.  Thinking that Oh was one of the polyclinic staff, Madam Ng took the drug and became drowsy.  He then took from her a gold-coloured bracelet which she was wearing and took her out of the polyclinic.  Oh then got a taxi to take Madam Ng to NUH, as she was losing consciousness.  On Friday, District Judge Gwee backdated Oh's sentence to Sept 12 last year, when he was first remanded.\n",
        "\n",
        "#text_input = np.array([input()])\n",
        "text_input = clean_text(input().lower())"
      ],
      "execution_count": null,
      "outputs": [
        {
          "output_type": "stream",
          "text": [
            "Oh's third victim was hawker stall owner Ng Phek Huay, whom he stole from on Sept 9, 2019.  While Madam Ng, 71, was waiting for her turn to see the doctor at Queenstown Polyclinic, he stole money from her handbag.  He then offered her zopiclone and convinced her that she had to take it before her medical check-up.  Thinking that Oh was one of the polyclinic staff, Madam Ng took the drug and became drowsy.  He then took from her a gold-coloured bracelet which she was wearing and took her out of the polyclinic.  Oh then got a taxi to take Madam Ng to NUH, as she was losing consciousness.  On Friday, District Judge Gwee backdated Oh's sentence to Sept 12 last year, when he was first remanded.\n"
          ],
          "name": "stdout"
        }
      ]
    },
    {
      "cell_type": "code",
      "metadata": {
        "colab_type": "code",
        "id": "-n-k4W2fezdK",
        "colab": {
          "base_uri": "https://localhost:8080/",
          "height": 88
        },
        "outputId": "193a211e-8e38-4056-edaa-534a2bf24a5f"
      },
      "source": [
        "# one-hot encode the user input\n",
        "# Enter your code here:\n",
        "new_window_size = 10\n",
        "\n",
        "X, y = encode_io_pairs(text_input, new_window_size)"
      ],
      "execution_count": null,
      "outputs": [
        {
          "output_type": "stream",
          "text": [
            "Num of Sequences:  679\n",
            "[\"oh's third\", \"h's third \", \"'s third v\", 's third vi', ' third vic', 'third vict', 'hird victi', 'ird victim', 'rd victim ', 'd victim w', ' victim wa', 'victim was', 'ictim was ', 'ctim was h', 'tim was ha', 'im was haw', 'm was hawk', ' was hawke', 'was hawker', 'as hawker ', 's hawker s', ' hawker st', 'hawker sta', 'awker stal', 'wker stall', 'ker stall ', 'er stall o', 'r stall ow', ' stall own', 'stall owne', 'tall owner', 'all owner ', 'll owner n', 'l owner ng', ' owner ng ', 'owner ng p', 'wner ng ph', 'ner ng phe', 'er ng phek', 'r ng phek ', ' ng phek h', 'ng phek hu', 'g phek hua', ' phek huay', 'phek huay,', 'hek huay, ', 'ek huay, w', 'k huay, wh', ' huay, who', 'huay, whom', 'uay, whom ', 'ay, whom h', 'y, whom he', ', whom he ', ' whom he s', 'whom he st', 'hom he sto', 'om he stol', 'm he stole', ' he stole ', 'he stole f', 'e stole fr', ' stole fro', 'stole from', 'tole from ', 'ole from o', 'le from on', 'e from on ', ' from on s', 'from on se', 'rom on sep', 'om on sept', 'm on sept ', ' on sept ,', 'on sept , ', 'n sept , .', ' sept , . ', 'sept , .  ', 'ept , .  w', 'pt , .  wh', 't , .  whi', ' , .  whil', ', .  while', ' .  while ', '.  while m', '  while ma', ' while mad', 'while mada', 'hile madam', 'ile madam ', 'le madam n', 'e madam ng', ' madam ng,', 'madam ng, ', 'adam ng, ,', 'dam ng, , ', 'am ng, , w', 'm ng, , wa', ' ng, , was', 'ng, , was ', 'g, , was w', ', , was wa', ' , was wai', ', was wait', ' was waiti', 'was waitin', 'as waiting', 's waiting ', ' waiting f', 'waiting fo', 'aiting for', 'iting for ', 'ting for h', 'ing for he', 'ng for her', 'g for her ', ' for her t', 'for her tu', 'or her tur', 'r her turn', ' her turn ', 'her turn t', 'er turn to', 'r turn to ', ' turn to s', 'turn to se', 'urn to see', 'rn to see ', 'n to see t', ' to see th', 'to see the', 'o see the ', ' see the d', 'see the do', 'ee the doc', 'e the doct', ' the docto', 'the doctor', 'he doctor ', 'e doctor a', ' doctor at', 'doctor at ', 'octor at q', 'ctor at qu', 'tor at que', 'or at quee', 'r at queen', ' at queens', 'at queenst', 't queensto', ' queenstow', 'queenstown', 'ueenstown ', 'eenstown p', 'enstown po', 'nstown pol', 'stown poly', 'town polyc', 'own polycl', 'wn polycli', 'n polyclin', ' polyclini', 'polyclinic', 'olyclinic,', 'lyclinic, ', 'yclinic, h', 'clinic, he', 'linic, he ', 'inic, he s', 'nic, he st', 'ic, he sto', 'c, he stol', ', he stole', ' he stole ', 'he stole m', 'e stole mo', ' stole mon', 'stole mone', 'tole money', 'ole money ', 'le money f', 'e money fr', ' money fro', 'money from', 'oney from ', 'ney from h', 'ey from he', 'y from her', ' from her ', 'from her h', 'rom her ha', 'om her han', 'm her hand', ' her handb', 'her handba', 'er handbag', 'r handbag.', ' handbag. ', 'handbag.  ', 'andbag.  h', 'ndbag.  he', 'dbag.  he ', 'bag.  he t', 'ag.  he th', 'g.  he the', '.  he then', '  he then ', ' he then o', 'he then of', 'e then off', ' then offe', 'then offer', 'hen offere', 'en offered', 'n offered ', ' offered h', 'offered he', 'ffered her', 'fered her ', 'ered her z', 'red her zo', 'ed her zop', 'd her zopi', ' her zopic', 'her zopicl', 'er zopiclo', 'r zopiclon', ' zopiclone', 'zopiclone ', 'opiclone a', 'piclone an', 'iclone and', 'clone and ', 'lone and c', 'one and co', 'ne and con', 'e and conv', ' and convi', 'and convin', 'nd convinc', 'd convince', ' convinced', 'convinced ', 'onvinced h', 'nvinced he', 'vinced her', 'inced her ', 'nced her t', 'ced her th', 'ed her tha', 'd her that', ' her that ', 'her that s', 'er that sh', 'r that she', ' that she ', 'that she h', 'hat she ha', 'at she had', 't she had ', ' she had t', 'she had to', 'he had to ', 'e had to t', ' had to ta', 'had to tak', 'ad to take', 'd to take ', ' to take i', 'to take it', 'o take it ', ' take it b', 'take it be', 'ake it bef', 'ke it befo', 'e it befor', ' it before', 'it before ', 't before h', ' before he', 'before her', 'efore her ', 'fore her m', 'ore her me', 're her med', 'e her medi', ' her medic', 'her medica', 'er medical', 'r medical ', ' medical c', 'medical ch', 'edical che', 'dical chec', 'ical check', 'cal check-', 'al check-u', 'l check-up', ' check-up.', 'check-up. ', 'heck-up.  ', 'eck-up.  t', 'ck-up.  th', 'k-up.  thi', '-up.  thin', 'up.  think', 'p.  thinki', '.  thinkin', '  thinking', ' thinking ', 'thinking t', 'hinking th', 'inking tha', 'nking that', 'king that ', 'ing that o', 'ng that oh', 'g that oh ', ' that oh w', 'that oh wa', 'hat oh was', 'at oh was ', 't oh was o', ' oh was on', 'oh was one', 'h was one ', ' was one o', 'was one of', 'as one of ', 's one of t', ' one of th', 'one of the', 'ne of the ', 'e of the p', ' of the po', 'of the pol', 'f the poly', ' the polyc', 'the polycl', 'he polycli', 'e polyclin', ' polyclini', 'polyclinic', 'olyclinic ', 'lyclinic s', 'yclinic st', 'clinic sta', 'linic staf', 'inic staff', 'nic staff,', 'ic staff, ', 'c staff, m', ' staff, ma', 'staff, mad', 'taff, mada', 'aff, madam', 'ff, madam ', 'f, madam n', ', madam ng', ' madam ng ', 'madam ng t', 'adam ng to', 'dam ng too', 'am ng took', 'm ng took ', ' ng took t', 'ng took th', 'g took the', ' took the ', 'took the d', 'ook the dr', 'ok the dru', 'k the drug', ' the drug ', 'the drug a', 'he drug an', 'e drug and', ' drug and ', 'drug and b', 'rug and be', 'ug and bec', 'g and beca', ' and becam', 'and became', 'nd became ', 'd became d', ' became dr', 'became dro', 'ecame drow', 'came drows', 'ame drowsy', 'me drowsy.', 'e drowsy. ', ' drowsy.  ', 'drowsy.  h', 'rowsy.  he', 'owsy.  he ', 'wsy.  he t', 'sy.  he th', 'y.  he the', '.  he then', '  he then ', ' he then t', 'he then to', 'e then too', ' then took', 'then took ', 'hen took f', 'en took fr', 'n took fro', ' took from', 'took from ', 'ook from h', 'ok from he', 'k from her', ' from her ', 'from her a', 'rom her a ', 'om her a g', 'm her a go', ' her a gol', 'her a gold', 'er a gold-', 'r a gold-c', ' a gold-co', 'a gold-col', ' gold-colo', 'gold-colou', 'old-colour', 'ld-coloure', 'd-coloured', '-coloured ', 'coloured b', 'oloured br', 'loured bra', 'oured brac', 'ured brace', 'red bracel', 'ed bracele', 'd bracelet', ' bracelet ', 'bracelet w', 'racelet wh', 'acelet whi', 'celet whic', 'elet which', 'let which ', 'et which s', 't which sh', ' which she', 'which she ', 'hich she w', 'ich she wa', 'ch she was', 'h she was ', ' she was w', 'she was we', 'he was wea', 'e was wear', ' was weari', 'was wearin', 'as wearing', 's wearing ', ' wearing a', 'wearing an', 'earing and', 'aring and ', 'ring and t', 'ing and to', 'ng and too', 'g and took', ' and took ', 'and took h', 'nd took he', 'd took her', ' took her ', 'took her o', 'ook her ou', 'ok her out', 'k her out ', ' her out o', 'her out of', 'er out of ', 'r out of t', ' out of th', 'out of the', 'ut of the ', 't of the p', ' of the po', 'of the pol', 'f the poly', ' the polyc', 'the polycl', 'he polycli', 'e polyclin', ' polyclini', 'polyclinic', 'olyclinic.', 'lyclinic. ', 'yclinic.  ', 'clinic.  o', 'linic.  oh', 'inic.  oh ', 'nic.  oh t', 'ic.  oh th', 'c.  oh the', '.  oh then', '  oh then ', ' oh then g', 'oh then go', 'h then got', ' then got ', 'then got a', 'hen got a ', 'en got a t', 'n got a ta', ' got a tax', 'got a taxi', 'ot a taxi ', 't a taxi t', ' a taxi to', 'a taxi to ', ' taxi to t', 'taxi to ta', 'axi to tak', 'xi to take', 'i to take ', ' to take m', 'to take ma', 'o take mad', ' take mada', 'take madam', 'ake madam ', 'ke madam n', 'e madam ng', ' madam ng ', 'madam ng t', 'adam ng to', 'dam ng to ', 'am ng to n', 'm ng to nu', ' ng to nuh', 'ng to nuh,', 'g to nuh, ', ' to nuh, a', 'to nuh, as', 'o nuh, as ', ' nuh, as s', 'nuh, as sh', 'uh, as she', 'h, as she ', ', as she w', ' as she wa', 'as she was', 's she was ', ' she was l', 'she was lo', 'he was los', 'e was losi', ' was losin', 'was losing', 'as losing ', 's losing c', ' losing co', 'losing con', 'osing cons', 'sing consc', 'ing consci', 'ng conscio', 'g consciou', ' conscious', 'consciousn', 'onsciousne', 'nsciousnes', 'sciousness', 'ciousness.', 'iousness. ', 'ousness.  ', 'usness.  o', 'sness.  on', 'ness.  on ', 'ess.  on f', 'ss.  on fr', 's.  on fri', '.  on frid', '  on frida', ' on friday', 'on friday,', 'n friday, ', ' friday, d', 'friday, di', 'riday, dis', 'iday, dist', 'day, distr', 'ay, distri', 'y, distric', ', district', ' district ', 'district j', 'istrict ju', 'strict jud', 'trict judg', 'rict judge', 'ict judge ', 'ct judge g', 't judge gw', ' judge gwe', 'judge gwee', 'udge gwee ', 'dge gwee b', 'ge gwee ba', 'e gwee bac', ' gwee back', 'gwee backd', 'wee backda', 'ee backdat', 'e backdate', ' backdated', 'backdated ', 'ackdated o', 'ckdated oh', \"kdated oh'\", \"dated oh's\", \"ated oh's \", \"ted oh's s\", \"ed oh's se\", \"d oh's sen\", \" oh's sent\", \"oh's sente\", \"h's senten\", \"'s sentenc\", 's sentence', ' sentence ', 'sentence t', 'entence to', 'ntence to ', 'tence to s', 'ence to se', 'nce to sep', 'ce to sept', 'e to sept ', ' to sept  ', 'to sept  l', 'o sept  la', ' sept  las', 'sept  last', 'ept  last ', 'pt  last y', 't  last ye', '  last yea', ' last year', 'last year,', 'ast year, ', 'st year, w', 't year, wh', ' year, whe', 'year, when', 'ear, when ', 'ar, when h', 'r, when he', ', when he ', ' when he w', 'when he wa', 'hen he was', 'en he was ', 'n he was f', ' he was fi', 'he was fir', 'e was firs', ' was first', 'was first ', 'as first r', 's first re', ' first rem', 'first rema', 'irst reman', 'rst remand', 'st remande', 't remanded']\n",
            "Vectorization...\n"
          ],
          "name": "stdout"
        }
      ]
    },
    {
      "cell_type": "code",
      "metadata": {
        "colab_type": "code",
        "id": "25efVODIezdL",
        "colab": {
          "base_uri": "https://localhost:8080/",
          "height": 853
        },
        "outputId": "fdb0cab1-f6d7-473f-8f62-f25d6d81a12d"
      },
      "source": [
        "# show the model output using predict function\n",
        "# Enter your code here:\n",
        "import random\n",
        "import sys\n",
        "import numpy as np\n",
        "\n",
        "def sample(preds, temperature=1.0):\n",
        "    preds = np.asarray(preds).astype('float64')\n",
        "    preds = np.log(preds) / temperature\n",
        "    exp_preds = np.exp(preds)\n",
        "    preds = exp_preds / np.sum(exp_preds)\n",
        "    probas = np.random.multinomial(1, preds, 1)\n",
        "    return np.argmax(probas)\n",
        "  \n",
        "\n",
        "for epoch in range(1, 5):\n",
        "    print('epoch', epoch)\n",
        "    # Fit the model for 1 epoch on the available training data\n",
        "    model.fit(X, y,\n",
        "              batch_size=128,\n",
        "              epochs=1)\n",
        "\n",
        "    # Select a text seed at random\n",
        "    start_index = random.randint(0, len(text_input) - new_window_size - 1)\n",
        "    generated_text = text_input[start_index: start_index + new_window_size]\n",
        "    print('--- Generating with seed: \"' + generated_text + '\"')\n",
        "\n",
        "    for temperature in [0.2, 0.5, 1.0, 1.2]:\n",
        "        print('------ temperature:', temperature)\n",
        "        sys.stdout.write(generated_text)\n",
        "\n",
        "        # We generate 400 characters\n",
        "        for i in range(400):\n",
        "            sampled = np.zeros((1, new_window_size, len(chars)))\n",
        "            for t, char in enumerate(generated_text):\n",
        "                sampled[0, t, chars_to_indices[char]] = 1.\n",
        "\n",
        "            preds = model.predict(sampled, verbose=0)[0]\n",
        "            next_index = sample(preds, temperature)\n",
        "            next_char = chars[next_index]\n",
        "\n",
        "            generated_text += next_char\n",
        "            generated_text = generated_text[1:]\n",
        "\n",
        "            sys.stdout.write(next_char)\n",
        "            sys.stdout.flush()\n",
        "        print()\n"
      ],
      "execution_count": null,
      "outputs": [
        {
          "output_type": "stream",
          "text": [
            "epoch 1\n",
            "WARNING:tensorflow:Model was constructed with shape (None, 100, 35) for input Tensor(\"lstm_1_input:0\", shape=(None, 100, 35), dtype=float32), but it was called on an input with incompatible shape (None, 10, 35).\n",
            "6/6 [==============================] - 0s 4ms/step - loss: 1.9983 - acc: 0.4536\n",
            "--- Generating with seed: \" at queens\"\n",
            "------ temperature: 0.2\n",
            " at queensWARNING:tensorflow:Model was constructed with shape (None, 100, 35) for input Tensor(\"lstm_1_input:0\", shape=(None, 100, 35), dtype=float32), but it was called on an input with incompatible shape (None, 10, 35).\n",
            " were an old park and the reason that i was a street was a silence of the police to the police to the room was a street, and the matter to the police the state of the police to him. i have a little last man when i have heard of the state of the police the man when i have the police to the other was a single of the police to the police to the corner to the police to me to the police to the police t\n",
            "------ temperature: 0.5\n",
            "e police to the police was done when i call the coroner of the side situated when he was charge. i shall see the cream, all the door would be eyes inthe case man, mr. holmes, and have mered crime and to the coronet which i came able to the door and i see the room when he had seen the first concentive man, and an mind the look of the park of the police is to me to her man when i see from his reason, she was \n",
            "------ temperature: 1.0\n",
            ", she was lendal word to the faculage. it is represently inmirely thing mated. i waitimp was returned sudden his person were cun to ttlem, the police of a gold singular an highalf-touke, i goand him dare closedhad he disgue, i was an each aff is shoutful, humarry or expossably pocket, but asteraph to matter as pools laud check inthe rain freec's cityperson of the usingwhere ville thin pleft half tolear. acc\n",
            "------ temperature: 1.2\n",
            "olear. accisusous rather doreaniea, are exlycanced boty undul victionam. 'there have unspection, said i. we should gos freg roulh berinmy handed moments which youwen a friend-nabull. the attenedunde, and as we have professed! but.''and you had drunked twent.but freed yegropilatation phinner fell would, you supposer effort. he hadparks ofost which very,andreturning him then.then as beaten antrained her yform\n",
            "epoch 2\n",
            "6/6 [==============================] - 0s 5ms/step - loss: 1.5936 - acc: 0.5434\n",
            "--- Generating with seed: \", district\"\n",
            "------ temperature: 0.2\n",
            ", district of the police to the corner to the polycling her chair of the police to the state of the police the coroner and seemed to the police to the state of the police to the police to the police to the police to her that the police to the police to the police the police the charge in the police to the police to the police to the state of the police to the police to the police to the barm of the police t\n",
            "------ temperature: 0.5\n",
            "e police the state it seemed to the station when the police. i have carries which we then you did have her least was a companion of the police the stair, with the police which i was an inspector and man which i certainly was to the mind was long the stall was standing in the grit of the lock of his face and hat to the mind of her head in the polywhole to the coppers of"
          ],
          "name": "stdout"
        },
        {
          "output_type": "stream",
          "text": [
            "/usr/local/lib/python3.6/dist-packages/ipykernel_launcher.py:9: RuntimeWarning: divide by zero encountered in log\n",
            "  if __name__ == '__main__':\n"
          ],
          "name": "stderr"
        },
        {
          "output_type": "stream",
          "text": [
            " the police the child from her characte\n",
            "------ temperature: 1.0\n",
            "r character of my pertain from wit, what part of mad of the police. fromroha could corroy bag of her johner stants briming . my oyoueia until and safted. 'sexaygen as i understandac, my can there endy to the coroner upon the ull of, youheard to put to passe you'll dohat to her own. her watched thens glance road nore latelyswere bull, certainly upon round front of natural keenmins, and over-year rather, usit\n",
            "------ temperature: 1.2\n",
            "ther, usit are at mely, upon you.i as lane.night.successed upon the de until he homet, holmes, the imale lined now, in bag park ovatme men icess by holmes--fur. his lacc are. hg present k, asedou ow. as you womer was aboups.what outwhichis, asthink that he alt to the billerbrinuanstrengcrosehuphed and dowlud-focked upon me cut, and is only to whit? which is move at mables.vanisitoe? i soile doubt that missm\n",
            "epoch 3\n",
            "6/6 [==============================] - 0s 4ms/step - loss: 1.3534 - acc: 0.6053\n",
            "--- Generating with seed: \" she was l\"\n",
            "------ temperature: 0.2\n",
            " she was last her front of the polyclinic on the polyclinic and stake the coroner before the polycling her head which he had stoped of the polycling and seemed to the stair which he was half-paper of the corner to the polyclinic and seemed to the polyclinic last half a stairs which he was stark the stall on the state of the polyclinic in the polyclinic, then the polyclinic. he was heart the doctor to the ot\n",
            "------ temperature: 0.5\n",
            " to the othing which he should be do to the dark part of the other of the countally own was own lady to be a uncle trust to the time when he was a gall to the polycute men of it was a coronet was she had seen to the other monined stand her head within the polyclinic. then he should be he had to her the polyclinic and was he has been companion. what did you wind, when i was breakfast in a man said the doctor\n",
            "------ temperature: 1.0\n",
            "the doctor bequet as well there is stark minutes, the wreter?all succeemed, manorouto-living companion. we i tell down upon his row windy. what are the companion-clothes end the rounds be so hards ,then we in stain to the creams, andbreet on cutuity geng rinating to was the probex and ecupled, he spent ly che mateary, youlay it was propbersfor nesting permisamlers ofvery lay. have a bedroom francit is finge\n",
            "------ temperature: 1.2\n",
            "t is fingerbtcheed pa,ojlecture with ring polog reason to doew me asmend monvar position.so. very tell presimal so bay, and he have last mag. he was though the duricunwand it as  solderotposmarinot year little plocked to sents-rennswandings ah, which long brichy to me have it drasounding to the teme, that she owder hordsand open's ston. ruder gentlemar wasoutnicu. theni safked. it had obveon torlat's. nucce\n",
            "epoch 4\n",
            "6/6 [==============================] - 0s 4ms/step - loss: 1.1761 - acc: 0.6524\n",
            "--- Generating with seed: \"e to sept \"\n",
            "------ temperature: 0.2\n",
            "e to sept other staff at the stair which he was street of the polyclinic of the polyclinic of the polyclinic and stoo she was became seemed to the polyclinic of the polyclinic of the other chair and seemed to the polyclinic of the polyclinic of the track of the polyclinic and convinced the state out of the polyclinic of the polyclinic and seemed to the polyclinic to the stairs to the polyclinic convinced he\n",
            "------ temperature: 0.5\n",
            "nvinced her human things in the road offered out of the road offor to the other friday had no change of the polyclinic last statation and a problems and on seeing to the polyclinic last having upon the paper of the paper of the polyclinic and the polyclinic and grows of the fice of the colony to the personally and never consciousness. i have the client from her though when i had not the stack from the polyc\n",
            "------ temperature: 1.0\n",
            " the polyclib, from mr. moneyadder cury he would be the bashin thinking hes cushion. he took with the othab-cunt marking to stopy that he could ink madagent from her ma. he was devolums which brush and, oape of  cjudgment, called with the gope anaming old phims from it will cross and seemed to repace is when you calle yhara herlantably to see her knowly stepfederhed on to him i hurteventy's corner-listened \n",
            "------ temperature: 1.2\n",
            "-listened you was that i can win, depry b, and if they mame angen,watson, that since she was never was hat or after all, when he had every mr.erohmss utbect which neen are that lone upon the pinkica, and ned tottle slad?yes, nowon so-clothes dash polyclied into im me to again, that we was proproyedimpression, and were polytshuge hers important round, cloed the room to , was day offrathont chairs. then you, \n"
          ],
          "name": "stdout"
        }
      ]
    },
    {
      "cell_type": "code",
      "metadata": {
        "colab_type": "code",
        "id": "Z3MffZyPezdM",
        "colab": {
          "base_uri": "https://localhost:8080/",
          "height": 119
        },
        "outputId": "e3457e76-9db9-424f-994c-d75d3471dff7"
      },
      "source": [
        "model.fit(X, y, batch_size=128, epochs=1)\n",
        "\n",
        "text_input = input(\"Enter sentence to predict next character: \\n\")\n",
        "temperature = 0.2\n",
        "print('------ temperature:', temperature)\n",
        "print(\"Prediction: \")\n",
        "sys.stdout.write(text_input)\n",
        "\n",
        "# We generate 400 characters\n",
        "# for i in range(400):\n",
        "sampled = np.zeros((1, len(text_input), len(chars)))\n",
        "for t, char in enumerate(text_input):\n",
        "    sampled[0, t, chars_to_indices[char]] = 1.\n",
        "\n",
        "preds = model.predict(sampled, verbose=0)[0]\n",
        "next_index = sample(preds, temperature)\n",
        "next_char = chars[next_index]\n",
        "\n",
        "text_input += next_char\n",
        "text_input = text_input[1:]\n",
        "\n",
        "\n",
        "sys.stdout.write(next_char)\n",
        "sys.stdout.flush()\n",
        "print()"
      ],
      "execution_count": null,
      "outputs": [
        {
          "output_type": "stream",
          "text": [
            "1/1 [==============================] - 0s 2ms/step - loss: 1.1338 - acc: 0.6491\n",
            "Enter sentence to predict next character: \n",
            "please ente\n",
            "------ temperature: 0.2\n",
            "Prediction: \n",
            "please enter\n"
          ],
          "name": "stdout"
        }
      ]
    },
    {
      "cell_type": "markdown",
      "metadata": {
        "colab_type": "text",
        "id": "-CZfL3-9c-_n"
      },
      "source": [
        "## Step Evaluation [chgen_model_3_1]"
      ]
    },
    {
      "cell_type": "code",
      "metadata": {
        "colab_type": "code",
        "id": "iL38PzLyc-_o",
        "colab": {}
      },
      "source": [
        "from tensorflow.keras import models\n",
        "\n",
        "#model.load_weights('chgen_model_best.h5')\n",
        "\n",
        "model = models.load_model(model_path+'chgen_model_3_1.h5')"
      ],
      "execution_count": null,
      "outputs": []
    },
    {
      "cell_type": "code",
      "metadata": {
        "colab_type": "code",
        "id": "6GElSVS1c-_p",
        "colab": {
          "base_uri": "https://localhost:8080/",
          "height": 34
        },
        "outputId": "f53f38e6-a913-49a8-ae92-226c5bda02e6"
      },
      "source": [
        "# takes the user input\n",
        "\n",
        "#Oh's third victim was hawker stall owner Ng Phek Huay, whom he stole from on Sept 9, 2019.  While Madam Ng, 71, was waiting for her turn to see the doctor at Queenstown Polyclinic, he stole money from her handbag.  He then offered her zopiclone and convinced her that she had to take it before her medical check-up.  Thinking that Oh was one of the polyclinic staff, Madam Ng took the drug and became drowsy.  He then took from her a gold-coloured bracelet which she was wearing and took her out of the polyclinic.  Oh then got a taxi to take Madam Ng to NUH, as she was losing consciousness.  On Friday, District Judge Gwee backdated Oh's sentence to Sept 12 last year, when he was first remanded.\n",
        "\n",
        "#text_input = np.array([input()])\n",
        "text_input = clean_text(input().lower())"
      ],
      "execution_count": null,
      "outputs": [
        {
          "output_type": "stream",
          "text": [
            "i love going to the park, especially when it is windy or sunny. every satruday i go to the park after buying ice cream.\n"
          ],
          "name": "stdout"
        }
      ]
    },
    {
      "cell_type": "code",
      "metadata": {
        "colab_type": "code",
        "id": "cT3WPX2Pc-_r",
        "colab": {
          "base_uri": "https://localhost:8080/",
          "height": 88
        },
        "outputId": "ebbe940b-a045-4fa9-fe51-2707cb13f450"
      },
      "source": [
        "# one-hot encode the user input\n",
        "# Enter your code here:\n",
        "new_window_size = 5\n",
        "\n",
        "X, y = encode_io_pairs(text_input, new_window_size)"
      ],
      "execution_count": null,
      "outputs": [
        {
          "output_type": "stream",
          "text": [
            "Num of Sequences:  114\n",
            "['i lov', ' love', 'love ', 'ove g', 've go', 'e goi', ' goin', 'going', 'oing ', 'ing t', 'ng to', 'g to ', ' to t', 'to th', 'o the', ' the ', 'the p', 'he pa', 'e par', ' park', 'park,', 'ark, ', 'rk, e', 'k, es', ', esp', ' espe', 'espec', 'speci', 'pecia', 'ecial', 'ciall', 'ially', 'ally ', 'lly w', 'ly wh', 'y whe', ' when', 'when ', 'hen i', 'en it', 'n it ', ' it i', 'it is', 't is ', ' is w', 'is wi', 's win', ' wind', 'windy', 'indy ', 'ndy o', 'dy or', 'y or ', ' or s', 'or su', 'r sun', ' sunn', 'sunny', 'unny.', 'nny. ', 'ny. e', 'y. ev', '. eve', ' ever', 'every', 'very ', 'ery s', 'ry sa', 'y sat', ' satr', 'satru', 'atrud', 'truda', 'ruday', 'uday ', 'day i', 'ay i ', 'y i g', ' i go', 'i go ', ' go t', 'go to', 'o to ', ' to t', 'to th', 'o the', ' the ', 'the p', 'he pa', 'e par', ' park', 'park ', 'ark a', 'rk af', 'k aft', ' afte', 'after', 'fter ', 'ter b', 'er bu', 'r buy', ' buyi', 'buyin', 'uying', 'ying ', 'ing i', 'ng ic', 'g ice', ' ice ', 'ice c', 'ce cr', 'e cre', ' crea', 'cream']\n",
            "Vectorization...\n"
          ],
          "name": "stdout"
        }
      ]
    },
    {
      "cell_type": "code",
      "metadata": {
        "colab_type": "code",
        "id": "iy1-4goPc-_s",
        "colab": {
          "base_uri": "https://localhost:8080/",
          "height": 819
        },
        "outputId": "cb9388cf-d1c7-4f13-90b2-ea8bc2c06372"
      },
      "source": [
        "# show the model output using predict function\n",
        "# Enter your code here:\n",
        "import random\n",
        "import sys\n",
        "import numpy as np\n",
        "\n",
        "def sample(preds, temperature=1.0):\n",
        "    preds = np.asarray(preds).astype('float64')\n",
        "    preds = np.log(preds) / temperature\n",
        "    exp_preds = np.exp(preds)\n",
        "    preds = exp_preds / np.sum(exp_preds)\n",
        "    probas = np.random.multinomial(1, preds, 1)\n",
        "    return np.argmax(probas)\n",
        "  \n",
        "\n",
        "for epoch in range(1, 5):\n",
        "    print('epoch', epoch)\n",
        "    # Fit the model for 1 epoch on the available training data\n",
        "    model.fit(X, y,\n",
        "              batch_size=128,\n",
        "              epochs=1)\n",
        "\n",
        "    # Select a text seed at random\n",
        "    start_index = random.randint(0, len(text_input) - new_window_size - 1)\n",
        "    generated_text = text_input[start_index: start_index + new_window_size]\n",
        "    print('--- Generating with seed: \"' + generated_text + '\"')\n",
        "\n",
        "    for temperature in [0.2, 0.5, 1.0, 1.2]:\n",
        "        print('------ temperature:', temperature)\n",
        "        sys.stdout.write(generated_text)\n",
        "\n",
        "        # We generate 400 characters\n",
        "        for i in range(400):\n",
        "            sampled = np.zeros((1, new_window_size, len(chars)))\n",
        "            for t, char in enumerate(generated_text):\n",
        "                sampled[0, t, chars_to_indices[char]] = 1.\n",
        "\n",
        "            preds = model.predict(sampled, verbose=0)[0]\n",
        "            next_index = sample(preds, temperature)\n",
        "            next_char = chars[next_index]\n",
        "\n",
        "            generated_text += next_char\n",
        "            generated_text = generated_text[1:]\n",
        "\n",
        "            sys.stdout.write(next_char)\n",
        "            sys.stdout.flush()\n",
        "        print()\n"
      ],
      "execution_count": null,
      "outputs": [
        {
          "output_type": "stream",
          "text": [
            "epoch 1\n",
            "WARNING:tensorflow:Model was constructed with shape (None, 100, 35) for input Tensor(\"lstm_8_input:0\", shape=(None, 100, 35), dtype=float32), but it was called on an input with incompatible shape (None, 5, 35).\n",
            "1/1 [==============================] - 0s 2ms/step - loss: 0.7314 - acc: 0.7982\n",
            "--- Generating with seed: \"buyin\"\n",
            "------ temperature: 0.2\n",
            "buyinWARNING:tensorflow:Model was constructed with shape (None, 100, 35) for input Tensor(\"lstm_8_input:0\", shape=(None, 100, 35), dtype=float32), but it was called on an input with incompatible shape (None, 5, 35).\n",
            "g oo t  tpeeraaaa    rssuuddy i  ooen   resuuyy. ieer  aatr  aatr  aatr  aatr  aunn   eesrcaddy.  reesuyidn o  et praa    rssuuddy i  ooon   tehpea r a ttheeaar    ssunddy   resuuyydi g  otth  aerr aat   wesnny..eeerraaat   wenny  eeruyay  r ssunddy   rssuuddy i  oo st uudyi   ooh t tepaaal g  ht ppear  a the park,aeseeaid    issnnid.e  rruuny i eo tu  yy seeruday   gesnn y.eeerraaat   wenny  eerr\n",
            "------ temperature: 0.5\n",
            " eerruaay  g ent  aehr  ttthebaa    rsuunyi ieoo    ohes trauua gi go to the park after baungg  t tppaaa    esunny. eerrua t  wpwnni  eo ru ty  eersuayy. eeer aaat,  eeeccaalm.wweynii ooo t  tpehaa     hepurr   sshuddy  irest udyyi rooot  theppark after buyngg gt ts budyg i tto whh   tespbadd     sshuddi i  oo tt  paerk attehaba  g gno o t othe  arru as  ndysir nittoe aa k aeepr aaa  g  sunny. eeerraaa\n",
            "------ temperature: 1.0\n",
            "rraaat  wahni  ocenc verrisyttcbepy. aerr auy nggs t n peprkkaatee aakr, epseaiiny oeen  arep  ckepsrpady  i siniy isneyi.ecsrra,y eeeriaai  g cut iy ec rreyuysinngioet t aerw ayyirgsotund y r ess nduyii goi t  shescyrdy. iere  atrh aatre aauk   optu  ay rresuuny. eerruay   rssudidii r tsssuddaig    theppark, feesrrdyy tessaa,.d eeriuing  o  h  hsenny.aveee o k soesndyyir gotut  a ehr watnn aeer aa t  \n",
            "------ temperature: 1.2\n",
            "a t  fpernluyygggo tgo h ntottef abrkugestiyade r yassrwddyyi  oooo n e tesaraya g  gno t t perakaatge at rhwwsynddcr   ttpehaak, ,eeeetaaaaw  ,, eppekkraept  aart  athewaas   disi ic cerlveasrraydy gr nsstndyyferesaidyd i i tereaaaa. gggo   t pphbk gt p  wrnuyy iereyiatnr a snhny.perertaau agi   tissud di c iore ttabea gay   eotu  gynstgrwdaty  vweunii ioooei  trtpefuaryg ftstehaaa  f  hee rrayytfeera\n",
            "epoch 2\n",
            "1/1 [==============================] - 0s 2ms/step - loss: 0.6462 - acc: 0.8684\n",
            "--- Generating with seed: \" love\"\n",
            "------ temperature: 0.2\n",
            " love goin   oesunny. eeercaaay.  eeruuay i go t  theppark after buyingio o t u eyi r otstuudyy i eoc n eerruayi  goon   tehpba  gg n  teepbaa  g  sunny. eerruayy  eeruuayi  goon   tehpba    rsuuny.  eeruuay i go o  th ppark after bayngg ot  h ersruydd i   sounny  eeruuay i goo t  theppark after buynng ee  carer.ayaee r ausnn i.eeirr  ttthebba igg i   oosun n. eeercaaayl g he  rruuyy igeo    thppear aa\n",
            "------ temperature: 0.5\n",
            "ar aa t  eperkaaate  aakr  estuuddy i  oo st uudyii  ooes  nddy    esprkadate  aakr  estuuddy   iesiiingoot   thupwaii   tohee  tauuyagi g tot he errauay   esruudy i  on st eudayi  gocn teeeuaay   esunny. eeercaaay. geer  aatr  aatr  aasr, ayserwdyy ires tyduea i  g inn  oeeun y iers  dydii   oounn   eruuyy igesi ndysir nytteeebaay g got  t ehpara  atrueay  areuy iigo o t h perrkaatte aaak , epeeraaaa \n",
            "------ temperature: 1.0\n",
            "aaaa  lwysng nytoteew biinigio   otuu ny ieec  amer aaat, weee yak,eeeprkaaate  aar , eshsny.idere cayrea s iuudigi  o ohn  tt ppaak   etnruaat  yehrr attthabww giino o s nndy i  o  hs sradddy  r suuyi igoie    rptu  .yieer iaat  ,wpesicaadrwg  t iupin g gintot ef brkii tocsewnrdy t  epwnn iiico c e reuyyi goost  uahy  eesscacd.fverrisytnrdea i   cipmve asian.y everc sabvcigoiy  tohphe r rassudd.. ioer\n",
            "------ temperature: 1.2\n",
            " ioer t .theeatraaaa l g he  rr,stsssdd..d vvr iost  uuwni    ehsouyynn eve is yncdvevaicyo eet rauau     hpopr   aiesr  aytreewuydygfr  tstpuaay g es ccdkvev esyendyy rtesuuay. geren ia. e eryanate v ayoo gt  u euiiyiii goi gtoyt weeun li eveiyiir so gudtn  iee craub. ggiec  rmeu .i ireoi t  oee   a he  ernsutiii ii   tpherb ty iessksuuyii gs snndiyoi  g ci sivcddsya in gtre idti  iscciideyc  kesperaa\n",
            "epoch 3\n",
            "1/1 [==============================] - 0s 2ms/step - loss: 0.5551 - acc: 0.8860\n",
            "--- Generating with seed: \" is w\"\n",
            "------ temperature: 0.2\n",
            " is windy ir sstuuddy i  sscuddyy  resuuyy. ieeri ayt eeeacaal . eerruayy  eeruuyy iiescicidecy  aerr aatt  aeer aaat   wennyi eiocn oee n ayree siann. every satruday i goo t t heperraaat   weunyii iooo t t pepak   eprrkaatte aba  g  sunny. every satruday   eruuyy iieoi   oohu   iisnioi.oo ogt t tehbuay g gon  toehua   i ssinddy   rssuuddy i  sscuddyy  resuuyy.igeri  itos tundyy r esuyny. every satruda\n",
            "------ temperature: 0.5\n",
            "truday i goot  t wsuynd. erreuyy i eeicccleee.aaa r  estucddyiy  ogen   terpuay   rsuuyiiigooo gt  utwy idni  ioong ttetbbuyyggigg too he trruuy iiigoo t  tpwhua i i o oon tttehbba ggg i t s ewuunyi iooc t eepaka  ee ccamee. aare  atur ay tr euuyyiiigoot   thppeark aetp aaa r   ssuuddy i  sccrc.eeyeraaaa  l eheecarkae te umay iegsi nnnoie o  nsosnnd .r  esinnd. erreuyiiigoot   ephrk atteewaay  geruu yi\n",
            "------ temperature: 1.0\n",
            "uu yingcotr euai yg gnog t  tpepaa l   hhhpotr afw r iis  ociun y sernudy it s tbuhy i totehe u tuinyyiiego  n tphema  i  tossunnd. verrs iyy.eierr  utin  eoruuyyni egc i ieson d.tvrrey ttrebuyy  iesnn ader   utny  erruuyy igeoe t  uheyi t,seperiabyi ggoct  ebwy, ggeyt tuedy.  ereuyii icoceeeily  sersudyy. veericaytreeta aaw  ggtoo t tuwauy  igoit   teppaar,lfeeerk  upsyii ngoes  nknseepamallfeferra a \n",
            "------ temperature: 1.2\n",
            "ra a t,eeemcaav.yeeerkaaate faarr att eabbu.ngt e tvuyeygirn totsuandd  rkistst 'udyi  srcud.y. eerruiayi r osuunnyi veyosisnnyc.ereerayaatfe arcary.eftrrabuyyg  sotundty  rensu.ay. eeercaaael gang  ii siici ccermeya aye rreuti i eoce are   iuryio ooog  i ssincdyere aat rfaes rrid  ti ote  thupaa  . yheerriauo  g ostn  bwinni oie t iuhyyo eeg uing  tt pewmyayge gnnnicevriy st ruaayi  gogt   nhhrsttiuyw\n",
            "epoch 4\n",
            "1/1 [==============================] - 0s 2ms/step - loss: 0.4872 - acc: 0.9211\n",
            "--- Generating with seed: \"espec\"\n",
            "------ temperature: 0.2\n",
            "especially wheny t eepaclllwwhyny errsuayid go  t theepark after buying oo to the park  etpruaa    rsuuny.  versysaddy.  reruuyy igeo    ohsun i. ecrrm..teeeeaak   eprrkaatte aba  gg n  teruuay i goot t eepaclllwewyyi ngoo t t heperraaat   weunyii goo  t ohee trauuy  i ssinddy   rsuuny.  versssadddy    shuuny i esiccidryy  teruuay i goot t eepaclllwwhyy  erruuyy igeo   nohs ttuuudyii  oo nt oeewn yi es\n",
            "------ temperature: 0.5\n",
            "yi esocund y   sruuyd i r stuindy or sunny. eeercaaay.  eeruuyy i rsssudddy   rsuunyi ieo i noot t  epercaaayl  gehu  a ir  otthueby ingo o tou uy iigcic  ereuuayi  gooun g iio oot   ewunyii ioct oeew  iinn coerre att ewwuniy  ooen   iruuy ii socind y r ssunddy   rsuunn.  versysadddy   rsuuny.  eerucyy iersi niioyo tto hwe i iniooio  ttouhuy    pprrkaatte aba y g sonnuy  iisnioi.o goe   tuuuy. igerc  a\n",
            "------ temperature: 1.0\n",
            "rc  ayru  i icirciytfrerbuyyinico e e ckraees aidy  crepalal ywhen itii   corer ttatew wdini  oocn ive iosn  ndec r avnyi oigcnto eewny i rs suidynit v twisuyiidgot  t ehuai ig occ reemt.aawer  iysnncy.vveveiyti teeeu aii ggco igeoi   tehpraa   a theepary a trrfuut i  eptuc a.ir es ycnueey  lkpeeerl aayh   tthheeat  awenn . eerruayy  eonsu ni. cryve ssiicdco e e rkuatsi dai   iori t t hhpbrt inyw cenyr\n",
            "------ temperature: 1.2\n",
            "cenyreas a  dr s inuyo  no ut g ihgttttfeefark  ftehrrbatiyg es  rddsiiiynctreemuia  otgut a iwn i  scemc..areee  aa,yewevnyi oei t  e escualy, eveey sakrkdestr ,dasnr adti   e porku tsi udnn i ecvr .sstrdfda  r ,ssspvad. r  estmnudy ii siciiiggi te tuaay  geo u nti ie corae.gy  rgssnndd.e  rruuyiinggo   t sphmc.fveercyayevv yisosindn. i vvi ioot t  ehpr a wtrnuid   crheey caarry fttebbuyng teo uann ie\n"
          ],
          "name": "stdout"
        }
      ]
    },
    {
      "cell_type": "code",
      "metadata": {
        "colab_type": "code",
        "id": "XfwMJ0LCc-_u",
        "colab": {
          "base_uri": "https://localhost:8080/",
          "height": 156
        },
        "outputId": "2f7484d0-3d2d-4342-a7df-483e274f0120"
      },
      "source": [
        "model.fit(X, y, batch_size=128, epochs=1)\n",
        "\n",
        "text_input = input(\"Enter sentence to predict next character: \\n\")\n",
        "temperature = 0.2\n",
        "print('------ temperature:', temperature)\n",
        "print(\"Prediction: \")\n",
        "sys.stdout.write(text_input)\n",
        "\n",
        "# We generate 400 characters\n",
        "# for i in range(400):\n",
        "sampled = np.zeros((1, len(text_input), len(chars)))\n",
        "for t, char in enumerate(text_input):\n",
        "    sampled[0, t, chars_to_indices[char]] = 1.\n",
        "\n",
        "preds = model.predict(sampled, verbose=0)[0]\n",
        "next_index = sample(preds, temperature)\n",
        "next_char = chars[next_index]\n",
        "\n",
        "text_input += next_char\n",
        "text_input = text_input[1:]\n",
        "\n",
        "\n",
        "sys.stdout.write(next_char)\n",
        "sys.stdout.flush()\n",
        "print()"
      ],
      "execution_count": null,
      "outputs": [
        {
          "output_type": "stream",
          "text": [
            "1/1 [==============================] - 0s 2ms/step - loss: 0.4162 - acc: 0.9561\n",
            "Enter sentence to predict next character: \n",
            "frogs are grea\n",
            "------ temperature: 0.2\n",
            "Prediction: \n",
            "frogs are greaWARNING:tensorflow:Model was constructed with shape (None, 100, 35) for input Tensor(\"lstm_8_input:0\", shape=(None, 100, 35), dtype=float32), but it was called on an input with incompatible shape (None, 14, 35).\n",
            "t\n"
          ],
          "name": "stdout"
        }
      ]
    },
    {
      "cell_type": "markdown",
      "metadata": {
        "colab_type": "text",
        "id": "imgfMa7mh8en"
      },
      "source": [
        "## Step Evaluation [chgen_model_8]"
      ]
    },
    {
      "cell_type": "code",
      "metadata": {
        "colab_type": "code",
        "id": "pusUNarfh8er",
        "colab": {}
      },
      "source": [
        "from tensorflow.keras import models\n",
        "\n",
        "#model.load_weights('chgen_model_best.h5')\n",
        "\n",
        "model = models.load_model(model_path+'chgen_model_8.h5')"
      ],
      "execution_count": null,
      "outputs": []
    },
    {
      "cell_type": "code",
      "metadata": {
        "colab_type": "code",
        "id": "omNH6zPhh8eu",
        "colab": {
          "base_uri": "https://localhost:8080/",
          "height": 34
        },
        "outputId": "b92adb08-5245-4e86-e020-0a76442e1200"
      },
      "source": [
        "# takes the user input\n",
        "\n",
        "#Oh's third victim was hawker stall owner Ng Phek Huay, whom he stole from on Sept 9, 2019.  While Madam Ng, 71, was waiting for her turn to see the doctor at Queenstown Polyclinic, he stole money from her handbag.  He then offered her zopiclone and convinced her that she had to take it before her medical check-up.  Thinking that Oh was one of the polyclinic staff, Madam Ng took the drug and became drowsy.  He then took from her a gold-coloured bracelet which she was wearing and took her out of the polyclinic.  Oh then got a taxi to take Madam Ng to NUH, as she was losing consciousness.  On Friday, District Judge Gwee backdated Oh's sentence to Sept 12 last year, when he was first remanded.\n",
        "\n",
        "#text_input = np.array([input()])\n",
        "text_input = clean_text(input().lower())"
      ],
      "execution_count": null,
      "outputs": [
        {
          "output_type": "stream",
          "text": [
            "i love going to the park, especially when it is windy or sunny. every satruday i go to the park after buying ice cream.\n"
          ],
          "name": "stdout"
        }
      ]
    },
    {
      "cell_type": "code",
      "metadata": {
        "colab_type": "code",
        "id": "4Kp611pZh8ew",
        "colab": {
          "base_uri": "https://localhost:8080/",
          "height": 88
        },
        "outputId": "dd419071-673d-4dbe-a104-5355c38aadc7"
      },
      "source": [
        "# one-hot encode the user input\n",
        "# Enter your code here:\n",
        "new_window_size = 5\n",
        "\n",
        "X, y = encode_io_pairs(text_input, new_window_size)"
      ],
      "execution_count": null,
      "outputs": [
        {
          "output_type": "stream",
          "text": [
            "Num of Sequences:  114\n",
            "['i lov', ' love', 'love ', 'ove g', 've go', 'e goi', ' goin', 'going', 'oing ', 'ing t', 'ng to', 'g to ', ' to t', 'to th', 'o the', ' the ', 'the p', 'he pa', 'e par', ' park', 'park,', 'ark, ', 'rk, e', 'k, es', ', esp', ' espe', 'espec', 'speci', 'pecia', 'ecial', 'ciall', 'ially', 'ally ', 'lly w', 'ly wh', 'y whe', ' when', 'when ', 'hen i', 'en it', 'n it ', ' it i', 'it is', 't is ', ' is w', 'is wi', 's win', ' wind', 'windy', 'indy ', 'ndy o', 'dy or', 'y or ', ' or s', 'or su', 'r sun', ' sunn', 'sunny', 'unny.', 'nny. ', 'ny. e', 'y. ev', '. eve', ' ever', 'every', 'very ', 'ery s', 'ry sa', 'y sat', ' satr', 'satru', 'atrud', 'truda', 'ruday', 'uday ', 'day i', 'ay i ', 'y i g', ' i go', 'i go ', ' go t', 'go to', 'o to ', ' to t', 'to th', 'o the', ' the ', 'the p', 'he pa', 'e par', ' park', 'park ', 'ark a', 'rk af', 'k aft', ' afte', 'after', 'fter ', 'ter b', 'er bu', 'r buy', ' buyi', 'buyin', 'uying', 'ying ', 'ing i', 'ng ic', 'g ice', ' ice ', 'ice c', 'ce cr', 'e cre', ' crea', 'cream']\n",
            "Vectorization...\n"
          ],
          "name": "stdout"
        }
      ]
    },
    {
      "cell_type": "code",
      "metadata": {
        "colab_type": "code",
        "id": "CZsmkRioh8ey",
        "colab": {
          "base_uri": "https://localhost:8080/",
          "height": 819
        },
        "outputId": "569a5030-0f28-44de-bf04-ed970c614556"
      },
      "source": [
        "# show the model output using predict function\n",
        "# Enter your code here:\n",
        "import random\n",
        "import sys\n",
        "import numpy as np\n",
        "\n",
        "def sample(preds, temperature=1.0):\n",
        "    preds = np.asarray(preds).astype('float64')\n",
        "    preds = np.log(preds) / temperature\n",
        "    exp_preds = np.exp(preds)\n",
        "    preds = exp_preds / np.sum(exp_preds)\n",
        "    probas = np.random.multinomial(1, preds, 1)\n",
        "    return np.argmax(probas)\n",
        "  \n",
        "\n",
        "for epoch in range(1, 5):\n",
        "    print('epoch', epoch)\n",
        "    # Fit the model for 1 epoch on the available training data\n",
        "    model.fit(X, y,\n",
        "              batch_size=128,\n",
        "              epochs=1)\n",
        "\n",
        "    # Select a text seed at random\n",
        "    start_index = random.randint(0, len(text_input) - new_window_size - 1)\n",
        "    generated_text = text_input[start_index: start_index + new_window_size]\n",
        "    print('--- Generating with seed: \"' + generated_text + '\"')\n",
        "\n",
        "    for temperature in [0.2, 0.5, 1.0, 1.2]:\n",
        "        print('------ temperature:', temperature)\n",
        "        sys.stdout.write(generated_text)\n",
        "\n",
        "        # We generate 400 characters\n",
        "        for i in range(400):\n",
        "            sampled = np.zeros((1, new_window_size, len(chars)))\n",
        "            for t, char in enumerate(generated_text):\n",
        "                sampled[0, t, chars_to_indices[char]] = 1.\n",
        "\n",
        "            preds = model.predict(sampled, verbose=0)[0]\n",
        "            next_index = sample(preds, temperature)\n",
        "            next_char = chars[next_index]\n",
        "\n",
        "            generated_text += next_char\n",
        "            generated_text = generated_text[1:]\n",
        "\n",
        "            sys.stdout.write(next_char)\n",
        "            sys.stdout.flush()\n",
        "        print()\n"
      ],
      "execution_count": null,
      "outputs": [
        {
          "output_type": "stream",
          "text": [
            "epoch 1\n",
            "WARNING:tensorflow:Model was constructed with shape (None, 100, 35) for input Tensor(\"gru_2_input:0\", shape=(None, 100, 35), dtype=float32), but it was called on an input with incompatible shape (None, 5, 35).\n",
            "1/1 [==============================] - 0s 4ms/step - loss: 4.1366 - acc: 0.1754\n",
            "--- Generating with seed: \"windy\"\n",
            "------ temperature: 0.2\n",
            "windyWARNING:tensorflow:Model was constructed with shape (None, 100, 35) for input Tensor(\"gru_2_input:0\", shape=(None, 100, 35), dtype=float32), but it was called on an input with incompatible shape (None, 5, 35).\n",
            " ag she whe whe whe whe whe whe whe whe whe whe whe whe whe whe whe whe whe whe whe whe whe was waering agd her burengbacedated bucadacelot  he the porycliricamice mo the poticloce to the porycliricam cerictjjddgoctor her the ponyclori to the poot he backdere-v-coroured bracelet whe whe whe whe whe whe whe whe whe whe whe whe whe whe whe whe whe whe whe whe whe whe whe whe whe whe whe whe whe whe \n",
            "------ temperature: 0.5\n",
            " whe when he whe whe whe whe whe whe whe whe whe whe whe whe whe whene to the po tole to the poryylinicastame ag the ponyyliring acaste wasenge toenbecadockered-vacor the potvinc droctor hure bracelet whe whe was seeto whe whe whe whe whe whe was waering ang to the pooy aring agdacedat romate madam ng to the poot he brucedactre phe the po to phe pheck-up. , he stoof or her bure ardatad to the popyclini\n",
            "------ temperature: 1.0\n",
            "clinid convcicom wes he was one ocee bzpcrnl.  oh thendtoon oftor her-zuyy asay, whire brrang to to pheck-u-. wapi, lasstre whe her huangetoo he tant to ka to she wer weoring aog to to whewwerr store brcated bhactouhe astale modscictom weirincedactarkdom he drug zoonthe bug cont a gwouta for her hangbon. oh the posyylinic statr outhe bugrang. . zhuos.  he thnd vecviricar; othe sosee hedbac.r . dricsfjr\n",
            "------ temperature: 1.2\n",
            "csfjredous.d wecwon p.  check-up.  tpictrimed voctbrptom ateigicayl dicwlacm dracthe dout itam ghe was forstoridrcavictomkhug to he thendstor thurditald.udsher hendb.roa tor bericonyy, midtir bucamed ococuicplectler bvacslkucetredovvmigtrristrinty shene gpot y. ileuad.g toe pol?cor'atub agedjig gedot on toh medany. foreh phen gugg heatwhe wheis, wonee oo; to huhas seuto to the poftor hughe whuwhe weptr\n",
            "epoch 2\n",
            "1/1 [==============================] - 0s 2ms/step - loss: 1.8603 - acc: 0.4386\n",
            "--- Generating with seed: \"pecia\"\n",
            "------ temperature: 0.2\n",
            "pecial ye am wee was wae wee wae whe whe whe whe whe was wae wee wae wee wae fir see wee wae wee wae wee wae wee wae wee wae wee wae wee wee was wae wee wae wee wae wee was wee wae wee whe whe was wae wee wae wee wae wee wae wee was wae wee whe whe whe whe was wee wae wee wae wee whe whe was wae wae wee wae wee wae wee wae wee whe whe whe whe whe whe whe was wae wee was wee wee was weene gon a to the p\n",
            "------ temperature: 0.5\n",
            "the park year, ee ber che phe  he park aed became ye re back ee back eudry am dear go saptf,, das yean, go was wae wae wee whe whe whe whe was fir the park er ang to the park ye am ghe pa k, ewas ine age whe was wae wee was ween y.  oh the park .  he the park age to the park ind go way ing to the park ler whe was wae whe whe wee wae wee woe war wan fe bayk ihe was wae wee was wae whe was wae fir the pa\n",
            "------ temperature: 1.0\n",
            "he pank, iny  ig the she wee ton took he thandeb.  he sas fiwser wee wee whe whe was ing to the pa t .  jubbee. .  her tuny is. for her tinvy ing to vtid y. ri biniy.  he park .  he posk he storu her buny ng. qhe he hasstor  he tam ngr, awse,  ahe bakince maday  andyl.  ihe madway  diny ar ge berong fora he wwe,  huskere briny y linb yor sinyy ine y. m, ine to the park yeay, issyi sseriny.  oh pankkyed\n",
            "------ temperature: 1.2\n",
            "kkyedi, aigb caracler as.e , zhinolyg, ,, waniy.d hhzh:umadad io yay, yu, , whe wee frredbicave ngro gte the ptok muay, se whe he sge uhen took he bpr lay  dey ang to the paiky  she wer whe was wairs.e ph;n ad iviny ng ohe thepk-p. r, id to phe perk?los apike  he pa k, st sferr rindyy ei ibcy, he swee wer wam fer then offeradag ig phe  .  hure biy aly , .  wei feredey jr gos wey ang, , wsnir  or zepmky\n",
            "epoch 3\n",
            "1/1 [==============================] - 0s 7ms/step - loss: 1.1121 - acc: 0.6842\n",
            "--- Generating with seed: \" buyi\"\n",
            "------ temperature: 0.2\n",
            " buying ice cream. druing to the park,amsee wae wee whewher sunnige ohe tounge to thenpy,. lhe whe whewher sunnig oo the park,alseewanfidge whe whewher sunnige ohe tor hungy ohe tor atoulepwallliwhen itok the park,amsee wee wee wee wae wee wee wee whene to the park,amsee waering aod to the park,amsee waering goot he phrnlerichins toos hewasrinug. ohe tor thenpy,. lhe whewher suanfeed.r buring ice cream\n",
            "------ temperature: 0.5\n",
            "cream. erepy.., huhenstowe ronting to the park,amseering. ohe tor puuy,leriwhine bofridayly wheni to then ateedat re burange. ihe was weenedbac.lep-!l. oh was weened.o he park,aksee touthe saptulaat, weaniy. ore urenge. her tuenngpoonloco seppi.llycheri-ug ow ousee wae weering oo thenppo.. he baredacllowo see was wandiy. rimding goot he park,amsee was waening. ohe tor athe satouseeweering aod tor wunni\n",
            "------ temperature: 1.0\n",
            "wunning oo toe phen.p., ha stoow hir qujenge hed buacnet. velyivimiydrer-v-udag. hh bastoow eoisn-coluugid. rhiparulaeingpe.. ey omeerut'ofreday. lhe whewhero uangy, hewderis-cju!faseeoweerenbgeceduuy.ase. whichek--u. oo hatrupo too the pare,algowee wannige ihe was wousne whewweriservugre buafnegeowa-awkewrephelhewher pulynding, he storisenvee backehuagwee jagdee.-vz-bolloring aferre :jer bemamgeegbteu\n",
            "------ temperature: 1.2\n",
            "gbteudayyalo,d suanegi.  jhe grundgonro or setaudgeewawle whenhenggow;eri vtvidacile brecar-.. jhutaseapt.alhe whawhelw zoisaycfuren.rbgorserues.rounbetor'atiad frimayma bafrfmed.e bering ife shewierwnay ,rispiqua.e sheto shpoway iher zopi. rlinuvenbaceral.r xuunyee or buring age wenring to to zheuslowuayyaem!aaxei, dwar yhaciiewar wie ito the purnngaofplaclleusepougngtind goit pferfaoseepca,.., shere \n",
            "epoch 4\n",
            "1/1 [==============================] - 0s 2ms/step - loss: 0.7974 - acc: 0.7895\n",
            "--- Generating with seed: \"ruday\"\n",
            "------ temperature: 0.2\n",
            "ruday i g to the park at te phe pory ar stony ofre bryad ir yiny i g ce to the park at te phe pory ics conyy iring ice cream.  bricaly  ghe park at te backdat.  he park at te phe park at te phe  he park at te the park at te backdat.  he park at te phe  he park at tu the park at te the park at te phe pory ar stony ofre bracelet whe  he park at te the park at te backder y ng to the park at te the park at\n",
            "------ temperature: 0.5\n",
            "rk at be or the pary ler she whe  he backdat.  he park at the park at ee bram gat dat  ge the park at to the park at e the park at tue payk amdey yr stany itring ace to the park at te backder y syy cher pory gring ice cream. dbro ag to the park at ere bring ac tue pory ar stone of to the park it ti the park at tud y say, it stoff reday  gon to to the park at e duc y triday  go the park at to the park a\n",
            "------ temperature: 1.0\n",
            "ark atre bafae to the parf gekiday   go tafke ta the dacty  wey starl coy care go ng, he sbefe.d bror the priy ay ivm ve s.ice to tuat to the p-rkare bey ye bera.  he paek gto the park at e ghe pa k gt pa tnatkiday  re briny g inny ig mhe bark it t it ?r tunnd iciyc ye ag to ti t ubscais ge got inpy i giclnc lat  ge then to the park ag the park at kutind to madic y  he had tudyy ifir ston e ta tre duy.\n",
            "------ temperature: 1.2\n",
            " duy. i's bvyyr dis y lerm day lssny. . vuyy dae  to tuenpe . xporl hungt o ee to toe at tfr ch oh the pury minym ig to the park ifved bricay,  he ta taketeds-qcitick coe thunpi g gon te tre bar gatk -he bar.  hudam sgelepb. .. vrusng to ta t ok buyy ad tham bewyy miday,  gre madey ird virssmridsyyy, mi g to bepc.  hat bug, goksat e the phunyy, imr canyc. midyy ir mand to woriy sverisvir ming to taffiu\n"
          ],
          "name": "stdout"
        }
      ]
    },
    {
      "cell_type": "code",
      "metadata": {
        "colab_type": "code",
        "id": "m3mx9-FTh8e0",
        "colab": {
          "base_uri": "https://localhost:8080/",
          "height": 156
        },
        "outputId": "4bfd5a1c-3dbb-49cd-f759-74d824a1f76a"
      },
      "source": [
        "model.fit(X, y, batch_size=128, epochs=1)\n",
        "\n",
        "text_input = input(\"Enter sentence to predict next character: \\n\")\n",
        "temperature = 0.2\n",
        "print('------ temperature:', temperature)\n",
        "print(\"Prediction: \")\n",
        "sys.stdout.write(text_input)\n",
        "\n",
        "# We generate 400 characters\n",
        "# for i in range(400):\n",
        "sampled = np.zeros((1, len(text_input), len(chars)))\n",
        "for t, char in enumerate(text_input):\n",
        "    sampled[0, t, chars_to_indices[char]] = 1.\n",
        "\n",
        "preds = model.predict(sampled, verbose=0)[0]\n",
        "next_index = sample(preds, temperature)\n",
        "next_char = chars[next_index]\n",
        "\n",
        "text_input += next_char\n",
        "text_input = text_input[1:]\n",
        "\n",
        "\n",
        "sys.stdout.write(next_char)\n",
        "sys.stdout.flush()\n",
        "print()"
      ],
      "execution_count": null,
      "outputs": [
        {
          "output_type": "stream",
          "text": [
            "1/1 [==============================] - 0s 8ms/step - loss: 0.5019 - acc: 0.8947\n",
            "Enter sentence to predict next character: \n",
            "frogs are grea\n",
            "------ temperature: 0.2\n",
            "Prediction: \n",
            "frogs are greaWARNING:tensorflow:Model was constructed with shape (None, 100, 35) for input Tensor(\"gru_2_input:0\", shape=(None, 100, 35), dtype=float32), but it was called on an input with incompatible shape (None, 14, 35).\n",
            "y\n"
          ],
          "name": "stdout"
        }
      ]
    },
    {
      "cell_type": "markdown",
      "metadata": {
        "colab_type": "text",
        "id": "vsrSzmfD9S0e"
      },
      "source": [
        "## Step Evaluation [chgen_model_10]"
      ]
    },
    {
      "cell_type": "code",
      "metadata": {
        "colab_type": "code",
        "id": "D9F4_RJD9S0g",
        "colab": {}
      },
      "source": [
        "from tensorflow.keras import models\n",
        "\n",
        "\n",
        "#model.load_weights('chgen_model_best.h5')\n",
        "model = models.load_model(model_path+'chgen_model_10.h5')"
      ],
      "execution_count": null,
      "outputs": []
    },
    {
      "cell_type": "code",
      "metadata": {
        "colab_type": "code",
        "id": "1BragFNm9S0l",
        "colab": {
          "base_uri": "https://localhost:8080/",
          "height": 54
        },
        "outputId": "f751babd-9ba4-446e-d063-4b8b49974d15"
      },
      "source": [
        "# takes the user input\n",
        "\n",
        "#text_input = np.array([input()])\n",
        "text_input = clean_text(input().lower())"
      ],
      "execution_count": null,
      "outputs": [
        {
          "output_type": "stream",
          "text": [
            "Oh's third victim was hawker stall owner Ng Phek Huay, whom he stole from on Sept 9, 2019.  While Madam Ng, 71, was waiting for her turn to see the doctor at Queenstown Polyclinic, he stole money from her handbag.  He then offered her zopiclone and convinced her that she had to take it before her medical check-up.  Thinking that Oh was one of the polyclinic staff, Madam Ng took the drug and became drowsy.  He then took from her a gold-coloured bracelet which she was wearing and took her out of the polyclinic.  Oh then got a taxi to take Madam Ng to NUH, as she was losing consciousness.  On Friday, District Judge Gwee backdated Oh's sentence to Sept 12 last year, when he was first remanded.\n"
          ],
          "name": "stdout"
        }
      ]
    },
    {
      "cell_type": "code",
      "metadata": {
        "colab_type": "code",
        "id": "w1dJaMX19S0o",
        "colab": {
          "base_uri": "https://localhost:8080/",
          "height": 88
        },
        "outputId": "fff7a1fd-5d3f-457d-8f5d-4c0e34f18ae0"
      },
      "source": [
        "# one-hot encode the user input\n",
        "# Enter your code here:\n",
        "new_window_size = 10\n",
        "\n",
        "X, y = encode_io_pairs(text_input, new_window_size)"
      ],
      "execution_count": null,
      "outputs": [
        {
          "output_type": "stream",
          "text": [
            "Num of Sequences:  679\n",
            "[\"oh's third\", \"h's third \", \"'s third v\", 's third vi', ' third vic', 'third vict', 'hird victi', 'ird victim', 'rd victim ', 'd victim w', ' victim wa', 'victim was', 'ictim was ', 'ctim was h', 'tim was ha', 'im was haw', 'm was hawk', ' was hawke', 'was hawker', 'as hawker ', 's hawker s', ' hawker st', 'hawker sta', 'awker stal', 'wker stall', 'ker stall ', 'er stall o', 'r stall ow', ' stall own', 'stall owne', 'tall owner', 'all owner ', 'll owner n', 'l owner ng', ' owner ng ', 'owner ng p', 'wner ng ph', 'ner ng phe', 'er ng phek', 'r ng phek ', ' ng phek h', 'ng phek hu', 'g phek hua', ' phek huay', 'phek huay,', 'hek huay, ', 'ek huay, w', 'k huay, wh', ' huay, who', 'huay, whom', 'uay, whom ', 'ay, whom h', 'y, whom he', ', whom he ', ' whom he s', 'whom he st', 'hom he sto', 'om he stol', 'm he stole', ' he stole ', 'he stole f', 'e stole fr', ' stole fro', 'stole from', 'tole from ', 'ole from o', 'le from on', 'e from on ', ' from on s', 'from on se', 'rom on sep', 'om on sept', 'm on sept ', ' on sept ,', 'on sept , ', 'n sept , .', ' sept , . ', 'sept , .  ', 'ept , .  w', 'pt , .  wh', 't , .  whi', ' , .  whil', ', .  while', ' .  while ', '.  while m', '  while ma', ' while mad', 'while mada', 'hile madam', 'ile madam ', 'le madam n', 'e madam ng', ' madam ng,', 'madam ng, ', 'adam ng, ,', 'dam ng, , ', 'am ng, , w', 'm ng, , wa', ' ng, , was', 'ng, , was ', 'g, , was w', ', , was wa', ' , was wai', ', was wait', ' was waiti', 'was waitin', 'as waiting', 's waiting ', ' waiting f', 'waiting fo', 'aiting for', 'iting for ', 'ting for h', 'ing for he', 'ng for her', 'g for her ', ' for her t', 'for her tu', 'or her tur', 'r her turn', ' her turn ', 'her turn t', 'er turn to', 'r turn to ', ' turn to s', 'turn to se', 'urn to see', 'rn to see ', 'n to see t', ' to see th', 'to see the', 'o see the ', ' see the d', 'see the do', 'ee the doc', 'e the doct', ' the docto', 'the doctor', 'he doctor ', 'e doctor a', ' doctor at', 'doctor at ', 'octor at q', 'ctor at qu', 'tor at que', 'or at quee', 'r at queen', ' at queens', 'at queenst', 't queensto', ' queenstow', 'queenstown', 'ueenstown ', 'eenstown p', 'enstown po', 'nstown pol', 'stown poly', 'town polyc', 'own polycl', 'wn polycli', 'n polyclin', ' polyclini', 'polyclinic', 'olyclinic,', 'lyclinic, ', 'yclinic, h', 'clinic, he', 'linic, he ', 'inic, he s', 'nic, he st', 'ic, he sto', 'c, he stol', ', he stole', ' he stole ', 'he stole m', 'e stole mo', ' stole mon', 'stole mone', 'tole money', 'ole money ', 'le money f', 'e money fr', ' money fro', 'money from', 'oney from ', 'ney from h', 'ey from he', 'y from her', ' from her ', 'from her h', 'rom her ha', 'om her han', 'm her hand', ' her handb', 'her handba', 'er handbag', 'r handbag.', ' handbag. ', 'handbag.  ', 'andbag.  h', 'ndbag.  he', 'dbag.  he ', 'bag.  he t', 'ag.  he th', 'g.  he the', '.  he then', '  he then ', ' he then o', 'he then of', 'e then off', ' then offe', 'then offer', 'hen offere', 'en offered', 'n offered ', ' offered h', 'offered he', 'ffered her', 'fered her ', 'ered her z', 'red her zo', 'ed her zop', 'd her zopi', ' her zopic', 'her zopicl', 'er zopiclo', 'r zopiclon', ' zopiclone', 'zopiclone ', 'opiclone a', 'piclone an', 'iclone and', 'clone and ', 'lone and c', 'one and co', 'ne and con', 'e and conv', ' and convi', 'and convin', 'nd convinc', 'd convince', ' convinced', 'convinced ', 'onvinced h', 'nvinced he', 'vinced her', 'inced her ', 'nced her t', 'ced her th', 'ed her tha', 'd her that', ' her that ', 'her that s', 'er that sh', 'r that she', ' that she ', 'that she h', 'hat she ha', 'at she had', 't she had ', ' she had t', 'she had to', 'he had to ', 'e had to t', ' had to ta', 'had to tak', 'ad to take', 'd to take ', ' to take i', 'to take it', 'o take it ', ' take it b', 'take it be', 'ake it bef', 'ke it befo', 'e it befor', ' it before', 'it before ', 't before h', ' before he', 'before her', 'efore her ', 'fore her m', 'ore her me', 're her med', 'e her medi', ' her medic', 'her medica', 'er medical', 'r medical ', ' medical c', 'medical ch', 'edical che', 'dical chec', 'ical check', 'cal check-', 'al check-u', 'l check-up', ' check-up.', 'check-up. ', 'heck-up.  ', 'eck-up.  t', 'ck-up.  th', 'k-up.  thi', '-up.  thin', 'up.  think', 'p.  thinki', '.  thinkin', '  thinking', ' thinking ', 'thinking t', 'hinking th', 'inking tha', 'nking that', 'king that ', 'ing that o', 'ng that oh', 'g that oh ', ' that oh w', 'that oh wa', 'hat oh was', 'at oh was ', 't oh was o', ' oh was on', 'oh was one', 'h was one ', ' was one o', 'was one of', 'as one of ', 's one of t', ' one of th', 'one of the', 'ne of the ', 'e of the p', ' of the po', 'of the pol', 'f the poly', ' the polyc', 'the polycl', 'he polycli', 'e polyclin', ' polyclini', 'polyclinic', 'olyclinic ', 'lyclinic s', 'yclinic st', 'clinic sta', 'linic staf', 'inic staff', 'nic staff,', 'ic staff, ', 'c staff, m', ' staff, ma', 'staff, mad', 'taff, mada', 'aff, madam', 'ff, madam ', 'f, madam n', ', madam ng', ' madam ng ', 'madam ng t', 'adam ng to', 'dam ng too', 'am ng took', 'm ng took ', ' ng took t', 'ng took th', 'g took the', ' took the ', 'took the d', 'ook the dr', 'ok the dru', 'k the drug', ' the drug ', 'the drug a', 'he drug an', 'e drug and', ' drug and ', 'drug and b', 'rug and be', 'ug and bec', 'g and beca', ' and becam', 'and became', 'nd became ', 'd became d', ' became dr', 'became dro', 'ecame drow', 'came drows', 'ame drowsy', 'me drowsy.', 'e drowsy. ', ' drowsy.  ', 'drowsy.  h', 'rowsy.  he', 'owsy.  he ', 'wsy.  he t', 'sy.  he th', 'y.  he the', '.  he then', '  he then ', ' he then t', 'he then to', 'e then too', ' then took', 'then took ', 'hen took f', 'en took fr', 'n took fro', ' took from', 'took from ', 'ook from h', 'ok from he', 'k from her', ' from her ', 'from her a', 'rom her a ', 'om her a g', 'm her a go', ' her a gol', 'her a gold', 'er a gold-', 'r a gold-c', ' a gold-co', 'a gold-col', ' gold-colo', 'gold-colou', 'old-colour', 'ld-coloure', 'd-coloured', '-coloured ', 'coloured b', 'oloured br', 'loured bra', 'oured brac', 'ured brace', 'red bracel', 'ed bracele', 'd bracelet', ' bracelet ', 'bracelet w', 'racelet wh', 'acelet whi', 'celet whic', 'elet which', 'let which ', 'et which s', 't which sh', ' which she', 'which she ', 'hich she w', 'ich she wa', 'ch she was', 'h she was ', ' she was w', 'she was we', 'he was wea', 'e was wear', ' was weari', 'was wearin', 'as wearing', 's wearing ', ' wearing a', 'wearing an', 'earing and', 'aring and ', 'ring and t', 'ing and to', 'ng and too', 'g and took', ' and took ', 'and took h', 'nd took he', 'd took her', ' took her ', 'took her o', 'ook her ou', 'ok her out', 'k her out ', ' her out o', 'her out of', 'er out of ', 'r out of t', ' out of th', 'out of the', 'ut of the ', 't of the p', ' of the po', 'of the pol', 'f the poly', ' the polyc', 'the polycl', 'he polycli', 'e polyclin', ' polyclini', 'polyclinic', 'olyclinic.', 'lyclinic. ', 'yclinic.  ', 'clinic.  o', 'linic.  oh', 'inic.  oh ', 'nic.  oh t', 'ic.  oh th', 'c.  oh the', '.  oh then', '  oh then ', ' oh then g', 'oh then go', 'h then got', ' then got ', 'then got a', 'hen got a ', 'en got a t', 'n got a ta', ' got a tax', 'got a taxi', 'ot a taxi ', 't a taxi t', ' a taxi to', 'a taxi to ', ' taxi to t', 'taxi to ta', 'axi to tak', 'xi to take', 'i to take ', ' to take m', 'to take ma', 'o take mad', ' take mada', 'take madam', 'ake madam ', 'ke madam n', 'e madam ng', ' madam ng ', 'madam ng t', 'adam ng to', 'dam ng to ', 'am ng to n', 'm ng to nu', ' ng to nuh', 'ng to nuh,', 'g to nuh, ', ' to nuh, a', 'to nuh, as', 'o nuh, as ', ' nuh, as s', 'nuh, as sh', 'uh, as she', 'h, as she ', ', as she w', ' as she wa', 'as she was', 's she was ', ' she was l', 'she was lo', 'he was los', 'e was losi', ' was losin', 'was losing', 'as losing ', 's losing c', ' losing co', 'losing con', 'osing cons', 'sing consc', 'ing consci', 'ng conscio', 'g consciou', ' conscious', 'consciousn', 'onsciousne', 'nsciousnes', 'sciousness', 'ciousness.', 'iousness. ', 'ousness.  ', 'usness.  o', 'sness.  on', 'ness.  on ', 'ess.  on f', 'ss.  on fr', 's.  on fri', '.  on frid', '  on frida', ' on friday', 'on friday,', 'n friday, ', ' friday, d', 'friday, di', 'riday, dis', 'iday, dist', 'day, distr', 'ay, distri', 'y, distric', ', district', ' district ', 'district j', 'istrict ju', 'strict jud', 'trict judg', 'rict judge', 'ict judge ', 'ct judge g', 't judge gw', ' judge gwe', 'judge gwee', 'udge gwee ', 'dge gwee b', 'ge gwee ba', 'e gwee bac', ' gwee back', 'gwee backd', 'wee backda', 'ee backdat', 'e backdate', ' backdated', 'backdated ', 'ackdated o', 'ckdated oh', \"kdated oh'\", \"dated oh's\", \"ated oh's \", \"ted oh's s\", \"ed oh's se\", \"d oh's sen\", \" oh's sent\", \"oh's sente\", \"h's senten\", \"'s sentenc\", 's sentence', ' sentence ', 'sentence t', 'entence to', 'ntence to ', 'tence to s', 'ence to se', 'nce to sep', 'ce to sept', 'e to sept ', ' to sept  ', 'to sept  l', 'o sept  la', ' sept  las', 'sept  last', 'ept  last ', 'pt  last y', 't  last ye', '  last yea', ' last year', 'last year,', 'ast year, ', 'st year, w', 't year, wh', ' year, whe', 'year, when', 'ear, when ', 'ar, when h', 'r, when he', ', when he ', ' when he w', 'when he wa', 'hen he was', 'en he was ', 'n he was f', ' he was fi', 'he was fir', 'e was firs', ' was first', 'was first ', 'as first r', 's first re', ' first rem', 'first rema', 'irst reman', 'rst remand', 'st remande', 't remanded']\n",
            "Vectorization...\n"
          ],
          "name": "stdout"
        }
      ]
    },
    {
      "cell_type": "code",
      "metadata": {
        "colab_type": "code",
        "id": "JZSLF42v9S0r",
        "colab": {
          "base_uri": "https://localhost:8080/",
          "height": 819
        },
        "outputId": "e1e6afa0-78d5-460f-d244-76604d984e32"
      },
      "source": [
        "# show the model output using predict function\n",
        "# Enter your code here:\n",
        "import random\n",
        "import sys\n",
        "import numpy as np\n",
        "\n",
        "def sample(preds, temperature=1.0):\n",
        "    preds = np.asarray(preds).astype('float64')\n",
        "    preds = np.log(preds) / temperature\n",
        "    exp_preds = np.exp(preds)\n",
        "    preds = exp_preds / np.sum(exp_preds)\n",
        "    probas = np.random.multinomial(1, preds, 1)\n",
        "    return np.argmax(probas)\n",
        "  \n",
        "\n",
        "for epoch in range(1, 5):\n",
        "    print('epoch', epoch)\n",
        "    # Fit the model for 1 epoch on the available training data\n",
        "    model.fit(X, y,\n",
        "              batch_size=128,\n",
        "              epochs=1)\n",
        "\n",
        "    # Select a text seed at random\n",
        "    start_index = random.randint(0, len(text_input) - new_window_size - 1)\n",
        "    generated_text = text_input[start_index: start_index + new_window_size]\n",
        "    print('--- Generating with seed: \"' + generated_text + '\"')\n",
        "\n",
        "    for temperature in [0.2, 0.5, 1.0, 1.2]:\n",
        "        print('------ temperature:', temperature)\n",
        "        sys.stdout.write(generated_text)\n",
        "\n",
        "        # We generate 400 characters\n",
        "        for i in range(400):\n",
        "            sampled = np.zeros((1, new_window_size, len(chars)))\n",
        "            for t, char in enumerate(generated_text):\n",
        "                sampled[0, t, chars_to_indices[char]] = 1.\n",
        "\n",
        "            preds = model.predict(sampled, verbose=0)[0]\n",
        "            next_index = sample(preds, temperature)\n",
        "            next_char = chars[next_index]\n",
        "\n",
        "            generated_text += next_char\n",
        "            generated_text = generated_text[1:]\n",
        "\n",
        "            sys.stdout.write(next_char)\n",
        "            sys.stdout.flush()\n",
        "        print()\n"
      ],
      "execution_count": null,
      "outputs": [
        {
          "output_type": "stream",
          "text": [
            "epoch 1\n",
            "WARNING:tensorflow:Model was constructed with shape (None, 100, 35) for input Tensor(\"gru_input_1:0\", shape=(None, 100, 35), dtype=float32), but it was called on an input with incompatible shape (None, 10, 35).\n",
            "6/6 [==============================] - 0s 7ms/step - loss: 2.0153 - acc: 0.4404\n",
            "--- Generating with seed: \"am ng took\"\n",
            "------ temperature: 0.2\n",
            "am ng tookWARNING:tensorflow:Model was constructed with shape (None, 100, 35) for input Tensor(\"gru_input_1:0\", shape=(None, 100, 35), dtype=float32), but it was called on an input with incompatible shape (None, 10, 35).\n",
            " a start and the street of the street of the secret the companion of the strange and have been street of the state and the dear from the coroner to me that he was a shall of the secret the street and the dear which i have been street. i have not be a little the lady with his face and the from the companion which he see that i am some of the strange of the coroner was a sure that was the concent a \n",
            "------ temperature: 0.5\n",
            "concent a put upon the componition as the face and the gland. left he had been at the back so the fire at the did at the pater of the police we shall double and was done that he has had been as he was a face street, for the points of the hat she was very more man. he said that it was a fair for his on the could not seem to be the companion and sat such a chriet. i have man which had suddenly not me that he \n",
            "------ temperature: 1.0\n",
            "e that he found it, and face a whose usel from histleed suwhis now father as neveltyres trust and men and packed in at sayrown was eirepention, and the so. we,phise vulally; four compenty londsbake and rematured iffor a quarter off in found, wearse upun upon beghat the fing, with us. the fire to his, so that hers laid, i had sairmafiou and feates, bat! seese me to trubth. gave my less stoized the same lockn\n",
            "------ temperature: 1.2\n",
            "same locknct.whywalknd up a glestrost caman, then as thetertot wastower as wonter pazedbud whearsweaid in crible papsed boors flent, visat bike as abeling, as hot a little fram off themood up, and i westergoon, that he have dareled in a cheld of youts contentive mait?''you whatas steed by a sincelung when yourescree, briak? is nof speem. ita huspprentem' stalk goxe toa coff, miss,said it dumbit mad-milednot\n",
            "epoch 2\n",
            "6/6 [==============================] - 0s 7ms/step - loss: 1.9513 - acc: 0.4580\n",
            "--- Generating with seed: \"udge gwee \"\n",
            "------ temperature: 0.2\n",
            "udge gwee and the first that he had been street of his face and the fact of the strange to the first the companion was a start and the concent of the street and the morning the street and the thing i have some close that he was a start to the strange a state and the matter was still to the hands of the fire the room which we have been street. he was a start in the street of her street and the country of the\n",
            "------ temperature: 0.5\n",
            "try of the chack from the face with the matter be some has been still some street. he was a man who said her to let me reason, and the fact and the other was a start to the attenting which he came a street a friend of the best remained to the copper the same was father that he patter and confriend the desting from her the advertime to be so the morning the first to the struct at my friend the which he had s\n",
            "------ temperature: 1.0\n",
            "h he had sobve lay she heard dispung succoung eppeaned wild's pape.seen their lees chant word. the preiened, all onling threquiches wind of he dedicate build.here word to little and implentrem sfirm sech savence no, 'wave that he, righted in six a veathing her awulpref and at his garde when pouning state, fathenc-me.penhar, so i shill a case, let knote of bo horefthe taw near to her. dirtime friend occproso\n",
            "------ temperature: 1.2\n",
            "d occprosonth, who is sevicaling recage of usuable fousts. roliif from yest haveloran. and from atmiss story' was in coming lady glance 'breathed uncentled lafe.'she day  mole go;s natured, thy looken?th ! shen merrally! i have just hen sim folmown was dank whatpemp the opinit calkingle's ofin way, who 'walked in paper bedoh, or pegcrs,it in fail prapbravesque,puplic ascopmeddess objea hurter hum good senpe\n",
            "epoch 3\n",
            "6/6 [==============================] - 0s 7ms/step - loss: 1.8610 - acc: 0.4728\n",
            "--- Generating with seed: \"me drowsy.\"\n",
            "------ temperature: 0.2\n",
            "me drowsy. i should be seemed to the charge and the dear the charge the lady face and the man was a state of the next seemed to the charce for the chair in the room of the door was a paper which he was a start of her before the facts in the door be a little the paper state which he had been start and the chance of the strange and her the first that he stone close and the stated me that he had been street of\n",
            "------ temperature: 0.5\n",
            " street of his father before in should be the dest the coldrage that he was not in strange in strick had come for me the best the head was a way. i am to the compance in the strugg to have been and the inness for a contray when he case be a large that the corone was help the dayce and the convince as the child holmes and looking, and stated to see the trace down with his should be the face, when he have bee\n",
            "------ temperature: 1.0\n",
            "e have beer which was holmes conter screem making catter. prictic. the tawing bet evance more thece-coroned take havinug at the choldge than what dy precers as exomed uponeim parred trapositit dour, it, and her light of my matters house i narust. as we do sure that it was from that i had fect find way of course to do it throw.' she case in the shoundbriding, whit, stair and herlanced cleath. brow that the r\n",
            "------ temperature: 1.2\n",
            "that the row how some fable?very sixfor adveven.there's nwy yes nister breckil oft her peomined on, frem than he consureming epred upon feg hadrether who appainly. i have no dever.just he wher o'clec-pliaple,-xay much peppoin for himselver:ly. tretaun.it mertanffarse imrom, then less unilp in when he had. did i doden compans in helves sade no inval as reashes. it he distlerenc, by asheri. rich stayin thrown\n",
            "epoch 4\n",
            "6/6 [==============================] - 0s 7ms/step - loss: 1.7683 - acc: 0.5022\n",
            "--- Generating with seed: \".  oh then\"\n",
            "------ temperature: 0.2\n",
            ".  oh then he was a start and the matter who had been a charce with her stated be a case of the strange of the strange that he was a few man, and the facts which i have not the police and the strange and the state when he was a decest the chair and the concent that he had been the paper state which he had been and the fact of the fact of the street of the present and the fact of the strange that he was a st\n",
            "------ temperature: 0.5\n",
            "e was a street of her had fact that he was a decess to the crime that she heard that they were to see the matter and have before he saw of the ghance that she had conting had a long from her leg to the first the lose from her the morting of the charm when he was not over the chair in the money could be a found the strong had been such a struggless the policed to see the fall in she house of the strange and \n",
            "------ temperature: 1.0\n",
            "range and lady came reasonnder years and from a hed cause of they innoccupled and packs if the doline. mr. had no one of look eham enclips and?i challed as why belingly have, said he; said he. the man, sil, changed find.fell his chy, and i marice address, the miss heaphing los jude for me. he was elst to cas just nottes: the onliev, the great sund dark who have anchound mode.yes, mr. then shewlock her the v\n",
            "------ temperature: 1.2\n",
            " her the vair.'therefrie nating corangroven stgit then. then,'wren you clot.'then reccanger. shiling charint 'by naturgly, of icnuen enougg fry chamcex for exation. he hadfred done clot, it wewall. some abproasest knew him. yownetthe straigh and face, with radabloked to gastly-room, bet dr. no my it? if you would wavefhe myeccnew twof,chay lent at, stole!i spoke twouk of lees her a countcrap-hord, chentra't\n"
          ],
          "name": "stdout"
        }
      ]
    },
    {
      "cell_type": "code",
      "metadata": {
        "colab_type": "code",
        "id": "HC4LgNjz9S0u",
        "colab": {
          "base_uri": "https://localhost:8080/",
          "height": 119
        },
        "outputId": "7bfd9c43-6008-4cf3-f86e-79851847f2d6"
      },
      "source": [
        "model.fit(X, y, batch_size=128, epochs=1)\n",
        "\n",
        "text_input = input(\"Enter sentence to predict next character: \\n\")\n",
        "temperature = 0.2\n",
        "print('------ temperature:', temperature)\n",
        "print(\"Prediction: \")\n",
        "sys.stdout.write(text_input)\n",
        "\n",
        "# We generate 400 characters\n",
        "# for i in range(400):\n",
        "sampled = np.zeros((1, len(text_input), len(chars)))\n",
        "for t, char in enumerate(text_input):\n",
        "    sampled[0, t, chars_to_indices[char]] = 1.\n",
        "\n",
        "preds = model.predict(sampled, verbose=0)[0]\n",
        "next_index = sample(preds, temperature)\n",
        "next_char = chars[next_index]\n",
        "\n",
        "text_input += next_char\n",
        "text_input = text_input[1:]\n",
        "\n",
        "\n",
        "sys.stdout.write(next_char)\n",
        "sys.stdout.flush()\n",
        "print()\n",
        "\n",
        "#dogs are great\n",
        "#such a beaute\n",
        "#please enter\n",
        "#i would love to (th-e __)"
      ],
      "execution_count": null,
      "outputs": [
        {
          "output_type": "stream",
          "text": [
            "6/6 [==============================] - 0s 8ms/step - loss: 1.5995 - acc: 0.5493\n",
            "Enter sentence to predict next character: \n",
            "please ente\n",
            "------ temperature: 0.2\n",
            "Prediction: \n",
            "please enter\n"
          ],
          "name": "stdout"
        }
      ]
    },
    {
      "cell_type": "markdown",
      "metadata": {
        "colab_type": "text",
        "id": "-Q41dnxD5XCB"
      },
      "source": [
        "## Step 3 – Use the Best Model to make prediction"
      ]
    },
    {
      "cell_type": "code",
      "metadata": {
        "colab_type": "code",
        "id": "sn9HJbJB5XCC",
        "colab": {}
      },
      "source": [
        "from tensorflow.keras import models\n",
        "\n",
        "model = models.load_model(model_path+ 'chgen_model_best.h5')"
      ],
      "execution_count": null,
      "outputs": []
    },
    {
      "cell_type": "code",
      "metadata": {
        "colab_type": "code",
        "id": "c1LlaagD5XCE",
        "colab": {}
      },
      "source": [
        "# takes the user input\n",
        "\n",
        "#text_input = np.array([input()])\n",
        "text_input = clean_text(input().lower())"
      ],
      "execution_count": null,
      "outputs": []
    },
    {
      "cell_type": "code",
      "metadata": {
        "colab_type": "code",
        "id": "uMA3kSyI5XCH",
        "colab": {}
      },
      "source": [
        "# one-hot encode the user input\n",
        "# Enter your code here:\n",
        "new_window_size = 5\n",
        "\n",
        "X, y = encode_io_pairs(text_input, new_window_size)"
      ],
      "execution_count": null,
      "outputs": []
    },
    {
      "cell_type": "code",
      "metadata": {
        "colab_type": "code",
        "id": "-nLcyeIo5XCI",
        "colab": {}
      },
      "source": [
        "# show the model output using predict function\n",
        "# Enter your code here:\n",
        "import random\n",
        "import sys\n",
        "import numpy as np\n",
        "\n",
        "def sample(preds, temperature=1.0):\n",
        "    preds = np.asarray(preds).astype('float64')\n",
        "    preds = np.log(preds) / temperature\n",
        "    exp_preds = np.exp(preds)\n",
        "    preds = exp_preds / np.sum(exp_preds)\n",
        "    probas = np.random.multinomial(1, preds, 1)\n",
        "    return np.argmax(probas)\n",
        "  \n",
        "#sequences = tokenizer.texts_to_sequences(text_input)\n",
        "#data = pad_sequences(sequences, maxlen=max_len)\n",
        "\n",
        "for epoch in range(1, 5):\n",
        "    print('epoch', epoch)\n",
        "    # Fit the model for 1 epoch on the available training data\n",
        "    model.fit(X, y,\n",
        "              batch_size=128,\n",
        "              epochs=1)\n",
        "\n",
        "    # Select a text seed at random\n",
        "    start_index = random.randint(0, len(text_input) - window_size - 1)\n",
        "    generated_text = text_input[start_index: start_index + window_size]\n",
        "    print('--- Generating with seed: \"' + generated_text + '\"')\n",
        "\n",
        "    #for temperature in [0.2, 0.5, 1.0, 1.2]:\n",
        "        #print('------ temperature:', temperature)\n",
        "    sys.stdout.write(generated_text)\n",
        "\n",
        "    # We generate 400 characters\n",
        "    for i in range(400):\n",
        "        sampled = np.zeros((1, window_size, len(chars)))\n",
        "        for t, char in enumerate(generated_text):\n",
        "            sampled[0, t, chars_to_indices[char]] = 1.\n",
        "\n",
        "        preds = model.predict(sampled, verbose=0)[0]\n",
        "        next_index = sample(preds, temperature)\n",
        "        next_char = chars[next_index]\n",
        "\n",
        "        generated_text += next_char\n",
        "        generated_text = generated_text[1:]\n",
        "\n",
        "        sys.stdout.write(next_char)\n",
        "        sys.stdout.flush()\n",
        "        print()\n"
      ],
      "execution_count": null,
      "outputs": []
    },
    {
      "cell_type": "code",
      "metadata": {
        "colab_type": "code",
        "id": "JoBc7bGQ5XCK",
        "colab": {}
      },
      "source": [
        "model.fit(X, y, batch_size=128, epochs=1)\n",
        "\n",
        "text_input = input(\"Enter sentence to predict next character: \\n\")\n",
        "temperature = 0.2\n",
        "print('------ temperature:', temperature)\n",
        "print(\"Prediction: \")\n",
        "sys.stdout.write(text_input)\n",
        "\n",
        "# We generate 400 characters\n",
        "# for i in range(400):\n",
        "sampled = np.zeros((1, len(text_input), len(chars)))\n",
        "for t, char in enumerate(text_input):\n",
        "    sampled[0, t, chars_to_indices[char]] = 1.\n",
        "\n",
        "preds = model.predict(sampled, verbose=0)[0]\n",
        "next_index = sample(preds, temperature)\n",
        "next_char = chars[next_index]\n",
        "\n",
        "text_input += next_char\n",
        "text_input = text_input[1:]\n",
        "\n",
        "\n",
        "sys.stdout.write(next_char)\n",
        "sys.stdout.flush()\n",
        "print()"
      ],
      "execution_count": null,
      "outputs": []
    }
  ]
}