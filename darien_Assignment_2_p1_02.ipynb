{
 "cells": [
  {
   "cell_type": "markdown",
   "metadata": {},
   "source": [
    "<table class=\"table table-bordered\">\n",
    "    <tr>\n",
    "        <th style=\"text-align:center; width:25%\"><img src='https://www.np.edu.sg/PublishingImages/Pages/default/odp/ICT.jpg' style=\"width: 250px; height: 125px; \"></th>\n",
    "        <th style=\"text-align:center;\"><h1>Deep Learning</h1><h2>Assignment 2 - Sentiment Analysis Model (Problem 1)</h2><h3>AY2020/21 Semester</h3></th>\n",
    "    </tr>\n",
    "</table>"
   ]
  },
  {
   "cell_type": "code",
   "execution_count": 1,
   "metadata": {},
   "outputs": [
    {
     "name": "stdout",
     "output_type": "stream",
     "text": [
      "keras:  2.2.4-tf\n"
     ]
    },
    {
     "data": {
      "text/html": [
       "<style>.container { width:95% !important; }</style>"
      ],
      "text/plain": [
       "<IPython.core.display.HTML object>"
      ]
     },
     "metadata": {},
     "output_type": "display_data"
    }
   ],
   "source": [
    "# Import the Required Packages\n",
    "from tensorflow import keras\n",
    "print('keras: ', keras.__version__)\n",
    "from IPython.core.display import display, HTML\n",
    "display(HTML(\"<style>.container { width:95% !important; }</style>\"))\n",
    "from tensorflow.keras.preprocessing.text import Tokenizer\n",
    "from tensorflow.keras.preprocessing.sequence import pad_sequences\n",
    "import numpy as np\n",
    "from tensorflow.keras.models import Sequential\n",
    "from tensorflow.keras.layers import Embedding, Flatten, Dense\n",
    "from tensorflow.keras.optimizers import RMSprop\n",
    "from tensorflow.keras.optimizers import Adam\n",
    "from tensorflow.keras.optimizers import SGD\n",
    "from tensorflow.keras import layers\n",
    "from tensorflow.keras.layers import LSTM\n",
    "from tensorflow.keras.layers import GRU\n",
    "from tensorflow.keras.layers import Bidirectional\n",
    "from tensorflow.keras.layers import Dropout\n",
    "import os\n",
    "import re\n",
    "from tensorflow.keras import models"
   ]
  },
  {
   "cell_type": "markdown",
   "metadata": {},
   "source": [
    "## Step 1 – Data Loading and Processing"
   ]
  },
  {
   "cell_type": "code",
   "execution_count": 2,
   "metadata": {},
   "outputs": [],
   "source": [
    "def remove_items(input_text):\n",
    "    input_text.replace('|', '').replace(\"'\", \"\").replace('\"', '')\n",
    "    re.sub(' +', ' ', input_text)\n",
    "    input_text.strip()\n",
    "    return input_text"
   ]
  },
  {
   "cell_type": "markdown",
   "metadata": {},
   "source": [
    "### 1.1 Data Loading"
   ]
  },
  {
   "cell_type": "code",
   "execution_count": 3,
   "metadata": {},
   "outputs": [
    {
     "name": "stdout",
     "output_type": "stream",
     "text": [
      "{0: '😍', 1: '😂', 2: '📷', 3: '🔥', 4: '❤'}\n",
      "A total of:  5 Emoji Icons\n"
     ]
    }
   ],
   "source": [
    "# Load the emoji_dictionary\n",
    "import pandas as pd\n",
    "df = pd.read_csv('mapping.csv', delimiter=',')\n",
    "emoji_dictionary = df.loc[:,'emoticons'].to_dict()\n",
    "print(emoji_dictionary)\n",
    "print('A total of: ', len(emoji_dictionary), 'Emoji Icons')"
   ]
  },
  {
   "cell_type": "code",
   "execution_count": 4,
   "metadata": {},
   "outputs": [],
   "source": [
    "# load the dataset\n",
    "dat = pd.read_csv('dataset.csv', delimiter=',')\n",
    "dat.TEXT = dat.TEXT.apply(remove_items)\n",
    "texts = dat.loc[:,'TEXT'].values \n",
    "labels = dat.loc[:,'Label'].values"
   ]
  },
  {
   "cell_type": "code",
   "execution_count": 5,
   "metadata": {},
   "outputs": [
    {
     "name": "stdout",
     "output_type": "stream",
     "text": [
      "the maximum length of the text inputs is  34\n"
     ]
    }
   ],
   "source": [
    "# Check the maximum length of texts\n",
    "max_len = -1\n",
    "for example in texts:\n",
    "    if len(example.split()) > max_len:\n",
    "        max_len = len(example.split())\n",
    "        \n",
    "print('the maximum length of the text inputs is ', max_len)"
   ]
  },
  {
   "cell_type": "markdown",
   "metadata": {},
   "source": [
    "### 1.2 Data Processing\n"
   ]
  },
  {
   "cell_type": "code",
   "execution_count": 6,
   "metadata": {},
   "outputs": [
    {
     "name": "stdout",
     "output_type": "stream",
     "text": [
      "Found 54076 unique tokens.\n",
      "Shape of data tensor: (42546, 34)\n",
      "Shape of label tensor: (42546, 5)\n"
     ]
    }
   ],
   "source": [
    "# Convert the texts and labels into numeric tensors\n",
    "from tensorflow.keras.preprocessing.text import Tokenizer\n",
    "from tensorflow.keras.preprocessing.sequence import pad_sequences\n",
    "import numpy as np\n",
    "\n",
    "max_words = 100000\n",
    "#maxlen = 34\n",
    "\n",
    "tokenizer = Tokenizer(num_words=max_words)\n",
    "tokenizer.fit_on_texts(texts)\n",
    "sequences = tokenizer.texts_to_sequences(texts)\n",
    "\n",
    "word_index = tokenizer.word_index\n",
    "print('Found %s unique tokens.' % len(word_index))\n",
    "\n",
    "def vectorize_sequences(sequences, dimension=5):\n",
    "    # Create an all-zero matrix of shape (len(sequences), dimension)\n",
    "    results = np.zeros((len(sequences), dimension))\n",
    "    for i, sequence in enumerate(sequences):\n",
    "        results[i, sequence] = 1.  # set specific indices of results[i] to 1s\n",
    "    return results\n",
    "\n",
    "X = pad_sequences(sequences, maxlen=max_len)\n",
    "y = vectorize_sequences(labels)\n",
    "\n",
    "print('Shape of data tensor:', X.shape)\n",
    "print('Shape of label tensor:', y.shape)\n"
   ]
  },
  {
   "cell_type": "markdown",
   "metadata": {},
   "source": [
    "### 1.3 Data Sampling"
   ]
  },
  {
   "cell_type": "code",
   "execution_count": 7,
   "metadata": {},
   "outputs": [],
   "source": [
    "# Split the X & y into train and test sets\n",
    "from sklearn.model_selection import train_test_split\n",
    "X_train, X_test, y_train, y_test = train_test_split(X, y, test_size=0.2, random_state = 4)\n",
    "# Refer the report Appendix\n",
    "# Please enter the random_state assigned to your group"
   ]
  },
  {
   "cell_type": "markdown",
   "metadata": {},
   "source": [
    "## Step 2 – Develop a Sentiment Analysis Model"
   ]
  },
  {
   "cell_type": "markdown",
   "metadata": {},
   "source": [
    "### Model #1 (Basic Model)"
   ]
  },
  {
   "cell_type": "code",
   "execution_count": 7,
   "metadata": {
    "scrolled": true
   },
   "outputs": [
    {
     "name": "stdout",
     "output_type": "stream",
     "text": [
      "WARNING:tensorflow:Layer lstm will not use cuDNN kernel since it doesn't meet the cuDNN kernel criteria. It will use generic GPU kernel as fallback when running on GPU\n",
      "Model: \"sequential\"\n",
      "_________________________________________________________________\n",
      "Layer (type)                 Output Shape              Param #   \n",
      "=================================================================\n",
      "embedding (Embedding)        (None, 34, 8)             800000    \n",
      "_________________________________________________________________\n",
      "lstm (LSTM)                  (None, 128)               70144     \n",
      "_________________________________________________________________\n",
      "flatten (Flatten)            (None, 128)               0         \n",
      "_________________________________________________________________\n",
      "dense (Dense)                (None, 512)               66048     \n",
      "_________________________________________________________________\n",
      "dropout (Dropout)            (None, 512)               0         \n",
      "_________________________________________________________________\n",
      "dense_1 (Dense)              (None, 5)                 2565      \n",
      "=================================================================\n",
      "Total params: 938,757\n",
      "Trainable params: 938,757\n",
      "Non-trainable params: 0\n",
      "_________________________________________________________________\n"
     ]
    }
   ],
   "source": [
    "# Build the Model\n",
    "model = Sequential()\n",
    "model.add(Embedding(max_words, 8, input_length=max_len, trainable=True))\n",
    "model.add(LSTM(128, dropout=0.2, recurrent_dropout=0.2))\n",
    "model.add(Flatten())\n",
    "model.add(Dense(512, activation='relu'))\n",
    "model.add(Dropout(0.50))\n",
    "model.add(Dense(5, activation='softmax'))\n",
    "model.summary()"
   ]
  },
  {
   "cell_type": "code",
   "execution_count": 8,
   "metadata": {
    "scrolled": true
   },
   "outputs": [
    {
     "name": "stdout",
     "output_type": "stream",
     "text": [
      "Epoch 1/50\n",
      "213/213 [==============================] - 21s 100ms/step - loss: 1.4538 - acc: 0.4234 - val_loss: 1.4205 - val_acc: 0.4289\n",
      "Epoch 2/50\n",
      "213/213 [==============================] - 21s 99ms/step - loss: 1.4238 - acc: 0.4247 - val_loss: 1.4106 - val_acc: 0.4289\n",
      "Epoch 3/50\n",
      "213/213 [==============================] - 21s 99ms/step - loss: 1.4054 - acc: 0.4247 - val_loss: 1.3811 - val_acc: 0.4289\n",
      "Epoch 4/50\n",
      "213/213 [==============================] - 21s 97ms/step - loss: 1.3503 - acc: 0.4271 - val_loss: 1.3018 - val_acc: 0.4354\n",
      "Epoch 5/50\n",
      "213/213 [==============================] - 21s 99ms/step - loss: 1.2706 - acc: 0.4627 - val_loss: 1.2429 - val_acc: 0.4728\n",
      "Epoch 6/50\n",
      "213/213 [==============================] - 21s 97ms/step - loss: 1.2178 - acc: 0.4900 - val_loss: 1.2127 - val_acc: 0.4900\n",
      "Epoch 7/50\n",
      "213/213 [==============================] - 21s 99ms/step - loss: 1.1773 - acc: 0.5059 - val_loss: 1.1837 - val_acc: 0.5018\n",
      "Epoch 8/50\n",
      "213/213 [==============================] - 21s 98ms/step - loss: 1.1458 - acc: 0.5167 - val_loss: 1.1530 - val_acc: 0.5095\n",
      "Epoch 9/50\n",
      "213/213 [==============================] - 21s 98ms/step - loss: 1.1173 - acc: 0.5291 - val_loss: 1.1467 - val_acc: 0.5051\n",
      "Epoch 10/50\n",
      "213/213 [==============================] - 21s 98ms/step - loss: 1.0911 - acc: 0.5354 - val_loss: 1.1413 - val_acc: 0.5210\n",
      "Epoch 11/50\n",
      "213/213 [==============================] - 21s 98ms/step - loss: 1.0696 - acc: 0.5464 - val_loss: 1.1181 - val_acc: 0.5248\n",
      "Epoch 12/50\n",
      "213/213 [==============================] - 21s 98ms/step - loss: 1.0493 - acc: 0.5576 - val_loss: 1.1068 - val_acc: 0.5289\n",
      "Epoch 13/50\n",
      "213/213 [==============================] - 21s 98ms/step - loss: 1.0344 - acc: 0.5636 - val_loss: 1.0954 - val_acc: 0.5354\n",
      "Epoch 14/50\n",
      "213/213 [==============================] - 21s 98ms/step - loss: 1.0190 - acc: 0.5714 - val_loss: 1.0999 - val_acc: 0.5272\n",
      "Epoch 15/50\n",
      "213/213 [==============================] - 21s 97ms/step - loss: 1.0055 - acc: 0.5789 - val_loss: 1.0913 - val_acc: 0.5389\n",
      "Epoch 16/50\n",
      "213/213 [==============================] - 21s 98ms/step - loss: 0.9926 - acc: 0.5883 - val_loss: 1.0863 - val_acc: 0.5367\n",
      "Epoch 17/50\n",
      "213/213 [==============================] - 21s 98ms/step - loss: 0.9794 - acc: 0.5917 - val_loss: 1.0894 - val_acc: 0.5369\n",
      "Epoch 18/50\n",
      "213/213 [==============================] - 21s 99ms/step - loss: 0.9649 - acc: 0.6002 - val_loss: 1.0893 - val_acc: 0.5394\n",
      "Epoch 19/50\n",
      "213/213 [==============================] - 21s 97ms/step - loss: 0.9558 - acc: 0.6041 - val_loss: 1.0887 - val_acc: 0.5432\n",
      "Epoch 20/50\n",
      "213/213 [==============================] - 21s 98ms/step - loss: 0.9429 - acc: 0.6110 - val_loss: 1.0858 - val_acc: 0.5454\n",
      "Epoch 21/50\n",
      "213/213 [==============================] - 21s 99ms/step - loss: 0.9335 - acc: 0.6206 - val_loss: 1.0964 - val_acc: 0.5420\n",
      "Epoch 22/50\n",
      "213/213 [==============================] - 21s 98ms/step - loss: 0.9197 - acc: 0.6256 - val_loss: 1.0960 - val_acc: 0.5427\n",
      "Epoch 23/50\n",
      "213/213 [==============================] - 21s 97ms/step - loss: 0.9130 - acc: 0.6323 - val_loss: 1.0934 - val_acc: 0.5441\n",
      "Epoch 24/50\n",
      "213/213 [==============================] - 21s 97ms/step - loss: 0.9060 - acc: 0.6300 - val_loss: 1.0951 - val_acc: 0.5464\n",
      "Epoch 25/50\n",
      "213/213 [==============================] - 21s 98ms/step - loss: 0.8901 - acc: 0.6401 - val_loss: 1.1127 - val_acc: 0.5363\n",
      "Epoch 26/50\n",
      "213/213 [==============================] - 21s 98ms/step - loss: 0.8841 - acc: 0.6480 - val_loss: 1.1029 - val_acc: 0.5489\n",
      "Epoch 27/50\n",
      "213/213 [==============================] - 21s 98ms/step - loss: 0.8723 - acc: 0.6514 - val_loss: 1.1101 - val_acc: 0.5430\n",
      "Epoch 28/50\n",
      "213/213 [==============================] - 21s 98ms/step - loss: 0.8629 - acc: 0.6589 - val_loss: 1.1151 - val_acc: 0.5401\n",
      "Epoch 29/50\n",
      "213/213 [==============================] - 21s 98ms/step - loss: 0.8528 - acc: 0.6601 - val_loss: 1.1216 - val_acc: 0.5501\n",
      "Epoch 30/50\n",
      "213/213 [==============================] - 21s 99ms/step - loss: 0.8470 - acc: 0.6677 - val_loss: 1.1422 - val_acc: 0.5447\n",
      "Epoch 31/50\n",
      "213/213 [==============================] - 21s 98ms/step - loss: 0.8396 - acc: 0.6667 - val_loss: 1.1256 - val_acc: 0.5429\n",
      "Epoch 32/50\n",
      "213/213 [==============================] - 21s 98ms/step - loss: 0.8298 - acc: 0.6758 - val_loss: 1.1356 - val_acc: 0.5502\n",
      "Epoch 33/50\n",
      "213/213 [==============================] - 21s 98ms/step - loss: 0.8170 - acc: 0.6810 - val_loss: 1.1415 - val_acc: 0.5491\n",
      "Epoch 34/50\n",
      "213/213 [==============================] - 21s 98ms/step - loss: 0.8097 - acc: 0.6853 - val_loss: 1.1263 - val_acc: 0.5505\n",
      "Epoch 35/50\n",
      "213/213 [==============================] - 21s 98ms/step - loss: 0.8002 - acc: 0.6921 - val_loss: 1.1301 - val_acc: 0.5519\n",
      "Epoch 36/50\n",
      "213/213 [==============================] - 21s 98ms/step - loss: 0.7914 - acc: 0.6951 - val_loss: 1.1373 - val_acc: 0.5523\n",
      "Epoch 37/50\n",
      "213/213 [==============================] - 21s 98ms/step - loss: 0.7835 - acc: 0.6973 - val_loss: 1.1629 - val_acc: 0.5504\n",
      "Epoch 38/50\n",
      "213/213 [==============================] - 21s 98ms/step - loss: 0.7715 - acc: 0.7035 - val_loss: 1.1548 - val_acc: 0.5574\n",
      "Epoch 39/50\n",
      "213/213 [==============================] - 21s 98ms/step - loss: 0.7647 - acc: 0.7088 - val_loss: 1.1579 - val_acc: 0.5604\n",
      "Epoch 40/50\n",
      "213/213 [==============================] - 21s 99ms/step - loss: 0.7565 - acc: 0.7122 - val_loss: 1.1561 - val_acc: 0.5576\n",
      "Epoch 41/50\n",
      "213/213 [==============================] - 21s 99ms/step - loss: 0.7478 - acc: 0.7116 - val_loss: 1.1470 - val_acc: 0.5580\n",
      "Epoch 42/50\n",
      "213/213 [==============================] - 21s 99ms/step - loss: 0.7397 - acc: 0.7179 - val_loss: 1.1484 - val_acc: 0.5649\n",
      "Epoch 43/50\n",
      "213/213 [==============================] - 21s 98ms/step - loss: 0.7309 - acc: 0.7194 - val_loss: 1.1607 - val_acc: 0.5633\n",
      "Epoch 44/50\n",
      "213/213 [==============================] - 21s 98ms/step - loss: 0.7213 - acc: 0.7234 - val_loss: 1.1608 - val_acc: 0.5639\n",
      "Epoch 45/50\n",
      "213/213 [==============================] - 21s 97ms/step - loss: 0.7124 - acc: 0.7301 - val_loss: 1.1713 - val_acc: 0.5658\n",
      "Epoch 46/50\n",
      "213/213 [==============================] - 21s 98ms/step - loss: 0.7042 - acc: 0.7327 - val_loss: 1.1776 - val_acc: 0.5637\n",
      "Epoch 47/50\n",
      "213/213 [==============================] - 21s 98ms/step - loss: 0.6969 - acc: 0.7353 - val_loss: 1.1901 - val_acc: 0.5615\n",
      "Epoch 48/50\n",
      "213/213 [==============================] - 21s 98ms/step - loss: 0.6854 - acc: 0.7427 - val_loss: 1.1886 - val_acc: 0.5679\n",
      "Epoch 49/50\n",
      "213/213 [==============================] - 21s 99ms/step - loss: 0.6813 - acc: 0.7423 - val_loss: 1.1879 - val_acc: 0.5689\n",
      "Epoch 50/50\n",
      "213/213 [==============================] - 21s 98ms/step - loss: 0.6702 - acc: 0.7465 - val_loss: 1.1909 - val_acc: 0.5674\n"
     ]
    }
   ],
   "source": [
    "# Train the Model\n",
    "model.compile(optimizer=RMSprop(lr=1e-4),\n",
    "              loss='categorical_crossentropy',\n",
    "              metrics=['acc'])\n",
    "history = model.fit(X_train, y_train,\n",
    "                    epochs=50,\n",
    "                    batch_size=128,\n",
    "                    validation_split=0.2)"
   ]
  },
  {
   "cell_type": "code",
   "execution_count": 9,
   "metadata": {},
   "outputs": [
    {
     "data": {
      "image/png": "[encoded data removed]",
      "text/plain": [
       "<Figure size 432x288 with 1 Axes>"
      ]
     },
     "metadata": {
      "needs_background": "light"
     },
     "output_type": "display_data"
    },
    {
     "data": {
      "image/png": "[encoded data removed]",
      "text/plain": [
       "<Figure size 432x288 with 1 Axes>"
      ]
     },
     "metadata": {
      "needs_background": "light"
     },
     "output_type": "display_data"
    }
   ],
   "source": [
    "# Plot the Training and Validation Accuracy & Loss Scores\n",
    "%matplotlib inline\n",
    "import matplotlib.pyplot as plt\n",
    "\n",
    "acc = history.history['acc']\n",
    "val_acc = history.history['val_acc']\n",
    "loss = history.history['loss']\n",
    "val_loss = history.history['val_loss']\n",
    "\n",
    "epochs = range(len(acc))\n",
    "\n",
    "plt.plot(epochs, acc, 'bo', label='Training acc')\n",
    "plt.plot(epochs, val_acc, 'b', label='Validation acc')\n",
    "plt.title('Training and validation accuracy')\n",
    "plt.legend()\n",
    "\n",
    "plt.figure()\n",
    "\n",
    "plt.plot(epochs, loss, 'bo', label='Training loss')\n",
    "plt.plot(epochs, val_loss, 'b', label='Validation loss')\n",
    "plt.title('Training and validation loss')\n",
    "plt.legend()\n",
    "\n",
    "plt.show()"
   ]
  },
  {
   "cell_type": "markdown",
   "metadata": {},
   "source": [
    "### Model #1.2 (Basic Model)"
   ]
  },
  {
   "cell_type": "code",
   "execution_count": 13,
   "metadata": {
    "scrolled": true
   },
   "outputs": [
    {
     "name": "stdout",
     "output_type": "stream",
     "text": [
      "Model: \"sequential_2\"\n",
      "_________________________________________________________________\n",
      "Layer (type)                 Output Shape              Param #   \n",
      "=================================================================\n",
      "embedding_2 (Embedding)      (None, 34, 8)             800000    \n",
      "_________________________________________________________________\n",
      "lstm_2 (LSTM)                (None, 34, 1024)          4231168   \n",
      "_________________________________________________________________\n",
      "flatten_2 (Flatten)          (None, 34816)             0         \n",
      "_________________________________________________________________\n",
      "dense_4 (Dense)              (None, 32)                1114144   \n",
      "_________________________________________________________________\n",
      "dense_5 (Dense)              (None, 5)                 165       \n",
      "=================================================================\n",
      "Total params: 6,145,477\n",
      "Trainable params: 6,145,477\n",
      "Non-trainable params: 0\n",
      "_________________________________________________________________\n"
     ]
    }
   ],
   "source": [
    "# Build the Model\n",
    "model = Sequential()\n",
    "model.add(layers.Embedding(max_words, 8, input_length=max_len))\n",
    "model.add(LSTM(1024, return_sequences=True))\n",
    "model.add(layers.Flatten())\n",
    "model.add(layers.Dense(32, activation='relu'))\n",
    "model.add(layers.Dense(5, activation='softmax'))\n",
    "model.summary()"
   ]
  },
  {
   "cell_type": "code",
   "execution_count": 14,
   "metadata": {
    "scrolled": true
   },
   "outputs": [
    {
     "name": "stdout",
     "output_type": "stream",
     "text": [
      "Epoch 1/30\n",
      "426/426 [==============================] - 7s 16ms/step - loss: 1.4335 - acc: 0.4238 - val_loss: 1.4206 - val_acc: 0.4336\n",
      "Epoch 2/30\n",
      "426/426 [==============================] - 6s 15ms/step - loss: 1.2455 - acc: 0.4750 - val_loss: 1.1745 - val_acc: 0.5048\n",
      "Epoch 3/30\n",
      "426/426 [==============================] - 6s 15ms/step - loss: 1.0766 - acc: 0.5480 - val_loss: 1.1127 - val_acc: 0.5314\n",
      "Epoch 4/30\n",
      "426/426 [==============================] - 6s 15ms/step - loss: 0.9735 - acc: 0.5988 - val_loss: 1.1052 - val_acc: 0.5360\n",
      "Epoch 5/30\n",
      "426/426 [==============================] - 6s 15ms/step - loss: 0.8874 - acc: 0.6469 - val_loss: 1.1104 - val_acc: 0.5447\n",
      "Epoch 6/30\n",
      "426/426 [==============================] - 6s 15ms/step - loss: 0.8021 - acc: 0.6904 - val_loss: 1.1463 - val_acc: 0.5442\n",
      "Epoch 7/30\n",
      "426/426 [==============================] - 6s 15ms/step - loss: 0.7261 - acc: 0.7260 - val_loss: 1.2523 - val_acc: 0.5588\n",
      "Epoch 8/30\n",
      "426/426 [==============================] - 6s 15ms/step - loss: 0.6539 - acc: 0.7605 - val_loss: 1.2488 - val_acc: 0.5620\n",
      "Epoch 9/30\n",
      "426/426 [==============================] - 6s 15ms/step - loss: 0.5946 - acc: 0.7838 - val_loss: 1.3309 - val_acc: 0.5571\n",
      "Epoch 10/30\n",
      "426/426 [==============================] - 6s 15ms/step - loss: 0.5429 - acc: 0.8026 - val_loss: 1.3596 - val_acc: 0.5566\n",
      "Epoch 11/30\n",
      "426/426 [==============================] - 6s 15ms/step - loss: 0.4944 - acc: 0.8203 - val_loss: 1.4129 - val_acc: 0.5524\n",
      "Epoch 12/30\n",
      "426/426 [==============================] - 6s 15ms/step - loss: 0.4541 - acc: 0.8391 - val_loss: 1.5128 - val_acc: 0.5640\n",
      "Epoch 13/30\n",
      "426/426 [==============================] - 6s 15ms/step - loss: 0.4216 - acc: 0.8549 - val_loss: 1.6026 - val_acc: 0.5661\n",
      "Epoch 14/30\n",
      "426/426 [==============================] - 6s 15ms/step - loss: 0.3899 - acc: 0.8702 - val_loss: 1.6415 - val_acc: 0.5614\n",
      "Epoch 15/30\n",
      "426/426 [==============================] - 6s 15ms/step - loss: 0.3595 - acc: 0.8816 - val_loss: 1.9041 - val_acc: 0.5643\n",
      "Epoch 16/30\n",
      "426/426 [==============================] - 6s 15ms/step - loss: 0.3399 - acc: 0.8896 - val_loss: 1.6972 - val_acc: 0.5629\n",
      "Epoch 17/30\n",
      "426/426 [==============================] - 6s 15ms/step - loss: 0.3179 - acc: 0.8988 - val_loss: 1.8154 - val_acc: 0.5658\n",
      "Epoch 18/30\n",
      "426/426 [==============================] - 6s 15ms/step - loss: 0.2984 - acc: 0.9054 - val_loss: 1.9775 - val_acc: 0.5543\n",
      "Epoch 19/30\n",
      "426/426 [==============================] - 6s 15ms/step - loss: 0.2859 - acc: 0.9084 - val_loss: 2.0594 - val_acc: 0.5648\n",
      "Epoch 20/30\n",
      "426/426 [==============================] - 6s 15ms/step - loss: 0.2687 - acc: 0.9149 - val_loss: 2.0026 - val_acc: 0.5708\n",
      "Epoch 21/30\n",
      "426/426 [==============================] - 6s 15ms/step - loss: 0.2585 - acc: 0.9168 - val_loss: 2.0666 - val_acc: 0.5695\n",
      "Epoch 22/30\n",
      "426/426 [==============================] - 6s 15ms/step - loss: 0.2455 - acc: 0.9216 - val_loss: 2.1715 - val_acc: 0.5611\n",
      "Epoch 23/30\n",
      "426/426 [==============================] - 6s 15ms/step - loss: 0.2384 - acc: 0.9234 - val_loss: 2.3014 - val_acc: 0.5665\n",
      "Epoch 24/30\n",
      "426/426 [==============================] - 6s 15ms/step - loss: 0.2232 - acc: 0.9276 - val_loss: 1.9402 - val_acc: 0.5613\n",
      "Epoch 25/30\n",
      "426/426 [==============================] - 6s 15ms/step - loss: 0.2166 - acc: 0.9291 - val_loss: 2.0743 - val_acc: 0.5640\n",
      "Epoch 26/30\n",
      "426/426 [==============================] - 6s 15ms/step - loss: 0.2073 - acc: 0.9322 - val_loss: 2.1648 - val_acc: 0.5521\n",
      "Epoch 27/30\n",
      "426/426 [==============================] - 7s 15ms/step - loss: 0.2000 - acc: 0.9351 - val_loss: 2.3361 - val_acc: 0.5660\n",
      "Epoch 28/30\n",
      "426/426 [==============================] - 6s 15ms/step - loss: 0.1957 - acc: 0.9348 - val_loss: 2.2197 - val_acc: 0.5605\n",
      "Epoch 29/30\n",
      "426/426 [==============================] - 6s 15ms/step - loss: 0.1888 - acc: 0.9377 - val_loss: 2.4587 - val_acc: 0.5651\n",
      "Epoch 30/30\n",
      "426/426 [==============================] - 6s 15ms/step - loss: 0.1796 - acc: 0.9402 - val_loss: 2.4672 - val_acc: 0.5640\n"
     ]
    }
   ],
   "source": [
    "# Train the Model\n",
    "\n",
    "model.compile(optimizer=Adam(lr=1e-4),\n",
    "              loss='categorical_crossentropy',\n",
    "              metrics=['acc'])\n",
    "history = model.fit(X_train, y_train,\n",
    "                    epochs=30,\n",
    "                    batch_size=64,\n",
    "                    validation_split=0.2)"
   ]
  },
  {
   "cell_type": "code",
   "execution_count": 15,
   "metadata": {
    "scrolled": true
   },
   "outputs": [
    {
     "data": {
      "image/png": "[encoded data removed]",
      "text/plain": [
       "<Figure size 432x288 with 1 Axes>"
      ]
     },
     "metadata": {
      "needs_background": "light"
     },
     "output_type": "display_data"
    },
    {
     "data": {
      "image/png": "[encoded data removed]",
      "text/plain": [
       "<Figure size 432x288 with 1 Axes>"
      ]
     },
     "metadata": {
      "needs_background": "light"
     },
     "output_type": "display_data"
    }
   ],
   "source": [
    "# Plot the Training and Validation Accuracy & Loss Scores\n",
    "%matplotlib inline\n",
    "import matplotlib.pyplot as plt\n",
    "\n",
    "acc = history.history['acc']\n",
    "val_acc = history.history['val_acc']\n",
    "loss = history.history['loss']\n",
    "val_loss = history.history['val_loss']\n",
    "\n",
    "epochs = range(len(acc))\n",
    "\n",
    "plt.plot(epochs, acc, 'bo', label='Training acc')\n",
    "plt.plot(epochs, val_acc, 'b', label='Validation acc')\n",
    "plt.title('Training and validation accuracy')\n",
    "plt.legend()\n",
    "\n",
    "plt.figure()\n",
    "\n",
    "plt.plot(epochs, loss, 'bo', label='Training loss')\n",
    "plt.plot(epochs, val_loss, 'b', label='Validation loss')\n",
    "plt.title('Training and validation loss')\n",
    "plt.legend()\n",
    "\n",
    "plt.show()"
   ]
  },
  {
   "cell_type": "markdown",
   "metadata": {},
   "source": [
    "### Model #1.3 (Basic Model -> Adam)"
   ]
  },
  {
   "cell_type": "code",
   "execution_count": 88,
   "metadata": {
    "scrolled": true
   },
   "outputs": [
    {
     "name": "stdout",
     "output_type": "stream",
     "text": [
      "Model: \"sequential_9\"\n",
      "_________________________________________________________________\n",
      "Layer (type)                 Output Shape              Param #   \n",
      "=================================================================\n",
      "embedding_33 (Embedding)     (None, 34, 100)           10000000  \n",
      "_________________________________________________________________\n",
      "gru_16 (GRU)                 (None, 34, 1024)          3459072   \n",
      "_________________________________________________________________\n",
      "flatten_31 (Flatten)         (None, 34816)             0         \n",
      "_________________________________________________________________\n",
      "dense_28 (Dense)             (None, 32)                1114144   \n",
      "_________________________________________________________________\n",
      "dense_29 (Dense)             (None, 5)                 165       \n",
      "=================================================================\n",
      "Total params: 14,573,381\n",
      "Trainable params: 14,573,381\n",
      "Non-trainable params: 0\n",
      "_________________________________________________________________\n"
     ]
    }
   ],
   "source": [
    "# Build the Model\n",
    "model = Sequential()\n",
    "model.add(layers.Embedding(max_words, 100, input_length=max_len))\n",
    "model.add(GRU(1024, return_sequences=True))\n",
    "model.add(layers.Flatten())\n",
    "model.add(layers.Dense(32, activation='relu'))\n",
    "model.add(layers.Dense(5, activation='softmax'))\n",
    "model.summary()"
   ]
  },
  {
   "cell_type": "code",
   "execution_count": 89,
   "metadata": {
    "scrolled": true
   },
   "outputs": [
    {
     "name": "stdout",
     "output_type": "stream",
     "text": [
      "Epoch 1/20\n",
      "213/213 [==============================] - 21s 100ms/step - loss: 1.3473 - acc: 0.4353 - val_loss: 1.1980 - val_acc: 0.4846\n",
      "Epoch 2/20\n",
      "213/213 [==============================] - 21s 100ms/step - loss: 1.1318 - acc: 0.5118 - val_loss: 1.1371 - val_acc: 0.5115\n",
      "Epoch 3/20\n",
      "213/213 [==============================] - 21s 100ms/step - loss: 1.0414 - acc: 0.5556 - val_loss: 1.0859 - val_acc: 0.5400\n",
      "Epoch 4/20\n",
      "213/213 [==============================] - 21s 101ms/step - loss: 0.9717 - acc: 0.5923 - val_loss: 1.0582 - val_acc: 0.5430\n",
      "Epoch 5/20\n",
      "213/213 [==============================] - 21s 100ms/step - loss: 0.9085 - acc: 0.6286 - val_loss: 1.0599 - val_acc: 0.5605\n",
      "Epoch 6/20\n",
      "213/213 [==============================] - 21s 101ms/step - loss: 0.8496 - acc: 0.6671 - val_loss: 1.0628 - val_acc: 0.5630\n",
      "Epoch 7/20\n",
      "213/213 [==============================] - 21s 100ms/step - loss: 0.7946 - acc: 0.6991 - val_loss: 1.0924 - val_acc: 0.5717\n",
      "Epoch 8/20\n",
      "213/213 [==============================] - 21s 100ms/step - loss: 0.7430 - acc: 0.7215 - val_loss: 1.0870 - val_acc: 0.5870\n",
      "Epoch 9/20\n",
      "213/213 [==============================] - 22s 101ms/step - loss: 0.6914 - acc: 0.7478 - val_loss: 1.0701 - val_acc: 0.5914\n",
      "Epoch 10/20\n",
      "213/213 [==============================] - 21s 99ms/step - loss: 0.6471 - acc: 0.7706 - val_loss: 1.0976 - val_acc: 0.5950\n",
      "Epoch 11/20\n",
      "213/213 [==============================] - 21s 101ms/step - loss: 0.6024 - acc: 0.7896 - val_loss: 1.1144 - val_acc: 0.5947\n",
      "Epoch 12/20\n",
      "213/213 [==============================] - 21s 99ms/step - loss: 0.5601 - acc: 0.8073 - val_loss: 1.1403 - val_acc: 0.5950\n",
      "Epoch 13/20\n",
      "213/213 [==============================] - 21s 100ms/step - loss: 0.5227 - acc: 0.8229 - val_loss: 1.1617 - val_acc: 0.6019\n",
      "Epoch 14/20\n",
      "213/213 [==============================] - 21s 99ms/step - loss: 0.4893 - acc: 0.8353 - val_loss: 1.2175 - val_acc: 0.6053\n",
      "Epoch 15/20\n",
      "213/213 [==============================] - 21s 101ms/step - loss: 0.4575 - acc: 0.8482 - val_loss: 1.1989 - val_acc: 0.5968\n",
      "Epoch 16/20\n",
      "213/213 [==============================] - 21s 100ms/step - loss: 0.4270 - acc: 0.8605 - val_loss: 1.2527 - val_acc: 0.6091\n",
      "Epoch 17/20\n",
      "213/213 [==============================] - 21s 100ms/step - loss: 0.4007 - acc: 0.8676 - val_loss: 1.2470 - val_acc: 0.6087\n",
      "Epoch 18/20\n",
      "213/213 [==============================] - 21s 100ms/step - loss: 0.3758 - acc: 0.8780 - val_loss: 1.2718 - val_acc: 0.6090\n",
      "Epoch 19/20\n",
      "213/213 [==============================] - 21s 100ms/step - loss: 0.3524 - acc: 0.8866 - val_loss: 1.3006 - val_acc: 0.6077\n",
      "Epoch 20/20\n",
      "213/213 [==============================] - 21s 100ms/step - loss: 0.3304 - acc: 0.8937 - val_loss: 1.3147 - val_acc: 0.6063\n"
     ]
    }
   ],
   "source": [
    "# Train the Model\n",
    "\n",
    "model.compile(optimizer=RMSprop(lr=1e-4),\n",
    "              loss='categorical_crossentropy',\n",
    "              metrics=['acc'])\n",
    "history = model.fit(X_train, y_train,\n",
    "                    epochs=20,\n",
    "                    batch_size=128,\n",
    "                    validation_split=0.2)"
   ]
  },
  {
   "cell_type": "code",
   "execution_count": 90,
   "metadata": {
    "scrolled": true
   },
   "outputs": [
    {
     "data": {
      "image/png": "[encoded data removed]",
      "text/plain": [
       "<Figure size 432x288 with 1 Axes>"
      ]
     },
     "metadata": {
      "needs_background": "light"
     },
     "output_type": "display_data"
    },
    {
     "data": {
      "image/png": "[encoded data removed]",
      "text/plain": [
       "<Figure size 432x288 with 1 Axes>"
      ]
     },
     "metadata": {
      "needs_background": "light"
     },
     "output_type": "display_data"
    }
   ],
   "source": [
    "# Plot the Training and Validation Accuracy & Loss Scores\n",
    "%matplotlib inline\n",
    "import matplotlib.pyplot as plt\n",
    "\n",
    "acc = history.history['acc']\n",
    "val_acc = history.history['val_acc']\n",
    "loss = history.history['loss']\n",
    "val_loss = history.history['val_loss']\n",
    "\n",
    "epochs = range(len(acc))\n",
    "\n",
    "plt.plot(epochs, acc, 'bo', label='Training acc')\n",
    "plt.plot(epochs, val_acc, 'b', label='Validation acc')\n",
    "plt.title('Training and validation accuracy')\n",
    "plt.legend()\n",
    "\n",
    "plt.figure()\n",
    "\n",
    "plt.plot(epochs, loss, 'bo', label='Training loss')\n",
    "plt.plot(epochs, val_loss, 'b', label='Validation loss')\n",
    "plt.title('Training and validation loss')\n",
    "plt.legend()\n",
    "\n",
    "plt.show()"
   ]
  },
  {
   "cell_type": "code",
   "execution_count": 91,
   "metadata": {},
   "outputs": [],
   "source": [
    "# Save the Model\n",
    "model.save('basic_GRU.h5')"
   ]
  },
  {
   "cell_type": "markdown",
   "metadata": {},
   "source": [
    "### Model #1.4 (Basic Model -> Bidirectional)"
   ]
  },
  {
   "cell_type": "code",
   "execution_count": 79,
   "metadata": {
    "scrolled": true
   },
   "outputs": [
    {
     "name": "stdout",
     "output_type": "stream",
     "text": [
      "Model: \"sequential_8\"\n",
      "_________________________________________________________________\n",
      "Layer (type)                 Output Shape              Param #   \n",
      "=================================================================\n",
      "embedding_32 (Embedding)     (None, 34, 100)           10000000  \n",
      "_________________________________________________________________\n",
      "gru_13 (GRU)                 (None, 34, 128)           88320     \n",
      "_________________________________________________________________\n",
      "bidirectional_6 (Bidirection (None, 34, 128)           74496     \n",
      "_________________________________________________________________\n",
      "bidirectional_7 (Bidirection (None, 34, 128)           74496     \n",
      "_________________________________________________________________\n",
      "flatten_30 (Flatten)         (None, 4352)              0         \n",
      "_________________________________________________________________\n",
      "dense_26 (Dense)             (None, 32)                139296    \n",
      "_________________________________________________________________\n",
      "dense_27 (Dense)             (None, 5)                 165       \n",
      "=================================================================\n",
      "Total params: 10,376,773\n",
      "Trainable params: 10,376,773\n",
      "Non-trainable params: 0\n",
      "_________________________________________________________________\n"
     ]
    }
   ],
   "source": [
    "# Build the Model\n",
    "model = Sequential()\n",
    "model.add(layers.Embedding(max_words, 100, input_length=max_len))\n",
    "model.add(GRU(128, return_sequences=True))\n",
    "model.add(Bidirectional(GRU(64, return_sequences=True)))\n",
    "model.add(Bidirectional(GRU(64, return_sequences=True, kernel_regularizer=regularizers.l2(0.001))))\n",
    "model.add(layers.Flatten())\n",
    "model.add(layers.Dense(32, activation='relu'))\n",
    "model.add(layers.Dense(5, activation='softmax'))\n",
    "model.summary()"
   ]
  },
  {
   "cell_type": "code",
   "execution_count": 80,
   "metadata": {
    "scrolled": true
   },
   "outputs": [
    {
     "name": "stdout",
     "output_type": "stream",
     "text": [
      "Epoch 1/20\n",
      "213/213 [==============================] - 22s 104ms/step - loss: 1.7157 - acc: 0.4237 - val_loss: 1.6594 - val_acc: 0.4289\n",
      "Epoch 2/20\n",
      "213/213 [==============================] - 21s 99ms/step - loss: 1.5694 - acc: 0.4405 - val_loss: 1.4559 - val_acc: 0.4694\n",
      "Epoch 3/20\n",
      "213/213 [==============================] - 21s 100ms/step - loss: 1.3759 - acc: 0.4933 - val_loss: 1.3454 - val_acc: 0.4982\n",
      "Epoch 4/20\n",
      "213/213 [==============================] - 21s 99ms/step - loss: 1.2756 - acc: 0.5187 - val_loss: 1.2917 - val_acc: 0.5018\n",
      "Epoch 5/20\n",
      "213/213 [==============================] - 21s 101ms/step - loss: 1.2034 - acc: 0.5356 - val_loss: 1.2465 - val_acc: 0.5095\n",
      "Epoch 6/20\n",
      "213/213 [==============================] - 21s 100ms/step - loss: 1.1459 - acc: 0.5505 - val_loss: 1.2090 - val_acc: 0.5138\n",
      "Epoch 7/20\n",
      "213/213 [==============================] - 21s 100ms/step - loss: 1.0960 - acc: 0.5675 - val_loss: 1.2105 - val_acc: 0.5163\n",
      "Epoch 8/20\n",
      "213/213 [==============================] - 22s 101ms/step - loss: 1.0544 - acc: 0.5836 - val_loss: 1.2154 - val_acc: 0.5144\n",
      "Epoch 9/20\n",
      "213/213 [==============================] - 21s 100ms/step - loss: 1.0168 - acc: 0.6001 - val_loss: 1.1776 - val_acc: 0.5206\n",
      "Epoch 10/20\n",
      "213/213 [==============================] - 21s 98ms/step - loss: 0.9825 - acc: 0.6170 - val_loss: 1.1858 - val_acc: 0.5222\n",
      "Epoch 11/20\n",
      "213/213 [==============================] - 21s 100ms/step - loss: 0.9527 - acc: 0.6287 - val_loss: 1.1757 - val_acc: 0.5283\n",
      "Epoch 12/20\n",
      "213/213 [==============================] - 21s 99ms/step - loss: 0.9218 - acc: 0.6451 - val_loss: 1.1909 - val_acc: 0.5376\n",
      "Epoch 13/20\n",
      "213/213 [==============================] - 21s 99ms/step - loss: 0.8944 - acc: 0.6594 - val_loss: 1.1960 - val_acc: 0.5436\n",
      "Epoch 14/20\n",
      "213/213 [==============================] - 21s 99ms/step - loss: 0.8666 - acc: 0.6746 - val_loss: 1.2092 - val_acc: 0.5417\n",
      "Epoch 15/20\n",
      "213/213 [==============================] - 21s 99ms/step - loss: 0.8400 - acc: 0.6891 - val_loss: 1.2143 - val_acc: 0.5470\n",
      "Epoch 16/20\n",
      "213/213 [==============================] - 21s 100ms/step - loss: 0.8138 - acc: 0.7051 - val_loss: 1.2419 - val_acc: 0.5501\n",
      "Epoch 17/20\n",
      "213/213 [==============================] - 21s 100ms/step - loss: 0.7885 - acc: 0.7183 - val_loss: 1.2452 - val_acc: 0.5570\n",
      "Epoch 18/20\n",
      "213/213 [==============================] - 21s 98ms/step - loss: 0.7653 - acc: 0.7320 - val_loss: 1.2798 - val_acc: 0.5507\n",
      "Epoch 19/20\n",
      "213/213 [==============================] - 21s 99ms/step - loss: 0.7399 - acc: 0.7454 - val_loss: 1.2663 - val_acc: 0.5573\n",
      "Epoch 20/20\n",
      "213/213 [==============================] - 21s 100ms/step - loss: 0.7160 - acc: 0.7554 - val_loss: 1.2675 - val_acc: 0.5608\n"
     ]
    }
   ],
   "source": [
    "# Train the Model\n",
    "\n",
    "model.compile(optimizer=RMSprop(lr=5e-5),\n",
    "              loss='categorical_crossentropy',\n",
    "              metrics=['acc'])\n",
    "history = model.fit(X_train, y_train,\n",
    "                    epochs=20,\n",
    "                    batch_size=128,\n",
    "                    validation_split=0.2)"
   ]
  },
  {
   "cell_type": "code",
   "execution_count": null,
   "metadata": {
    "scrolled": true
   },
   "outputs": [],
   "source": [
    "# Plot the Training and Validation Accuracy & Loss Scores\n",
    "%matplotlib inline\n",
    "import matplotlib.pyplot as plt\n",
    "\n",
    "acc = history.history['acc']\n",
    "val_acc = history.history['val_acc']\n",
    "loss = history.history['loss']\n",
    "val_loss = history.history['val_loss']\n",
    "\n",
    "epochs = range(len(acc))\n",
    "\n",
    "plt.plot(epochs, acc, 'bo', label='Training acc')\n",
    "plt.plot(epochs, val_acc, 'b', label='Validation acc')\n",
    "plt.title('Training and validation accuracy')\n",
    "plt.legend()\n",
    "\n",
    "plt.figure()\n",
    "\n",
    "plt.plot(epochs, loss, 'bo', label='Training loss')\n",
    "plt.plot(epochs, val_loss, 'b', label='Validation loss')\n",
    "plt.title('Training and validation loss')\n",
    "plt.legend()\n",
    "\n",
    "plt.show()"
   ]
  },
  {
   "cell_type": "markdown",
   "metadata": {},
   "source": [
    "### Model #2.1 (GLOVE.Twitter)"
   ]
  },
  {
   "cell_type": "code",
   "execution_count": 21,
   "metadata": {
    "scrolled": true
   },
   "outputs": [
    {
     "name": "stdout",
     "output_type": "stream",
     "text": [
      "Found 1193514 word vectors.\n"
     ]
    }
   ],
   "source": [
    "glove_dir = 'C:/Users/Darien Tan/OneDrive - Ngee Ann Polytechnic/Ngee Ann Poly/Year 2/DL/Assignment 2'\n",
    "\n",
    "embeddings_index = {}\n",
    "f = open(os.path.join(glove_dir, 'glove.twitter.27B.200d.txt'), encoding=\"utf8\")\n",
    "for line in f:\n",
    "    values = line.split()\n",
    "    word = values[0]\n",
    "    coefs = np.asarray(values[1:], dtype='float32')\n",
    "    embeddings_index[word] = coefs\n",
    "f.close()\n",
    "\n",
    "print('Found %s word vectors.' % len(embeddings_index))\n",
    "\n",
    "embedding_dim = 200\n",
    "\n",
    "embedding_matrix = np.zeros((max_words, embedding_dim))\n",
    "for word, i in word_index.items():\n",
    "    embedding_vector = embeddings_index.get(word)\n",
    "    if i < max_words:\n",
    "        if embedding_vector is not None:\n",
    "            # Words not found in embedding index will be all-zeros.\n",
    "            embedding_matrix[i] = embedding_vector"
   ]
  },
  {
   "cell_type": "code",
   "execution_count": 14,
   "metadata": {},
   "outputs": [
    {
     "name": "stdout",
     "output_type": "stream",
     "text": [
      "Model: \"sequential_2\"\n",
      "_________________________________________________________________\n",
      "Layer (type)                 Output Shape              Param #   \n",
      "=================================================================\n",
      "embedding_2 (Embedding)      (None, 34, 100)           10000000  \n",
      "_________________________________________________________________\n",
      "flatten_2 (Flatten)          (None, 3400)              0         \n",
      "_________________________________________________________________\n",
      "dense_4 (Dense)              (None, 32)                108832    \n",
      "_________________________________________________________________\n",
      "dense_5 (Dense)              (None, 5)                 165       \n",
      "=================================================================\n",
      "Total params: 10,108,997\n",
      "Trainable params: 10,108,997\n",
      "Non-trainable params: 0\n",
      "_________________________________________________________________\n",
      "Model: \"sequential_2\"\n",
      "_________________________________________________________________\n",
      "Layer (type)                 Output Shape              Param #   \n",
      "=================================================================\n",
      "embedding_2 (Embedding)      (None, 34, 100)           10000000  \n",
      "_________________________________________________________________\n",
      "flatten_2 (Flatten)          (None, 3400)              0         \n",
      "_________________________________________________________________\n",
      "dense_4 (Dense)              (None, 32)                108832    \n",
      "_________________________________________________________________\n",
      "dense_5 (Dense)              (None, 5)                 165       \n",
      "=================================================================\n",
      "Total params: 10,108,997\n",
      "Trainable params: 10,108,997\n",
      "Non-trainable params: 0\n",
      "_________________________________________________________________\n"
     ]
    }
   ],
   "source": [
    "# Build the Model\n",
    "\n",
    "model = Sequential()\n",
    "model.add(Embedding(max_words, embedding_dim, input_length=max_len))\n",
    "model.add(Flatten())\n",
    "model.add(Dense(32, activation='relu'))\n",
    "model.add(Dense(5, activation='softmax'))\n",
    "model.summary()\n",
    "\n",
    "model.layers[0].set_weights([embedding_matrix])\n",
    "model.layers[0].trainable = True\n",
    "model.summary()"
   ]
  },
  {
   "cell_type": "code",
   "execution_count": 15,
   "metadata": {
    "scrolled": true
   },
   "outputs": [
    {
     "name": "stdout",
     "output_type": "stream",
     "text": [
      "Epoch 1/20\n",
      "213/213 [==============================] - 18s 85ms/step - loss: 1.1901 - acc: 0.5244 - val_loss: 1.0740 - val_acc: 0.5748\n",
      "Epoch 2/20\n",
      "213/213 [==============================] - 18s 86ms/step - loss: 0.9383 - acc: 0.6359 - val_loss: 0.9997 - val_acc: 0.6049\n",
      "Epoch 3/20\n",
      "213/213 [==============================] - 18s 86ms/step - loss: 0.7749 - acc: 0.7020 - val_loss: 0.9797 - val_acc: 0.6144\n",
      "Epoch 4/20\n",
      "213/213 [==============================] - 18s 85ms/step - loss: 0.6430 - acc: 0.7630 - val_loss: 0.9828 - val_acc: 0.6251\n",
      "Epoch 5/20\n",
      "213/213 [==============================] - 18s 85ms/step - loss: 0.5250 - acc: 0.8126 - val_loss: 1.0222 - val_acc: 0.6323\n",
      "Epoch 6/20\n",
      "213/213 [==============================] - 18s 86ms/step - loss: 0.4226 - acc: 0.8547 - val_loss: 1.0691 - val_acc: 0.6409\n",
      "Epoch 7/20\n",
      "213/213 [==============================] - 18s 85ms/step - loss: 0.3302 - acc: 0.8905 - val_loss: 1.1327 - val_acc: 0.6410\n",
      "Epoch 8/20\n",
      "213/213 [==============================] - 18s 85ms/step - loss: 0.2539 - acc: 0.9207 - val_loss: 1.2095 - val_acc: 0.6454\n",
      "Epoch 9/20\n",
      "213/213 [==============================] - 18s 84ms/step - loss: 0.1899 - acc: 0.9426 - val_loss: 1.2959 - val_acc: 0.6444\n",
      "Epoch 10/20\n",
      "213/213 [==============================] - 18s 84ms/step - loss: 0.1378 - acc: 0.9613 - val_loss: 1.4158 - val_acc: 0.6420\n",
      "Epoch 11/20\n",
      "213/213 [==============================] - 18s 85ms/step - loss: 0.0988 - acc: 0.9727 - val_loss: 1.5357 - val_acc: 0.6469\n",
      "Epoch 12/20\n",
      "213/213 [==============================] - 18s 85ms/step - loss: 0.0686 - acc: 0.9827 - val_loss: 1.7030 - val_acc: 0.6484\n",
      "Epoch 13/20\n",
      "213/213 [==============================] - 18s 84ms/step - loss: 0.0484 - acc: 0.9874 - val_loss: 1.8371 - val_acc: 0.6385\n",
      "Epoch 14/20\n",
      "213/213 [==============================] - 18s 84ms/step - loss: 0.0334 - acc: 0.9920 - val_loss: 1.9802 - val_acc: 0.6403\n",
      "Epoch 15/20\n",
      "213/213 [==============================] - 18s 84ms/step - loss: 0.0225 - acc: 0.9947 - val_loss: 2.1764 - val_acc: 0.6417\n",
      "Epoch 16/20\n",
      "213/213 [==============================] - 18s 85ms/step - loss: 0.0154 - acc: 0.9967 - val_loss: 2.3025 - val_acc: 0.6407\n",
      "Epoch 17/20\n",
      "213/213 [==============================] - 18s 84ms/step - loss: 0.0106 - acc: 0.9976 - val_loss: 2.4904 - val_acc: 0.6366\n",
      "Epoch 18/20\n",
      "213/213 [==============================] - 18s 85ms/step - loss: 0.0076 - acc: 0.9983 - val_loss: 2.6253 - val_acc: 0.6385\n",
      "Epoch 19/20\n",
      "213/213 [==============================] - 18s 85ms/step - loss: 0.0054 - acc: 0.9986 - val_loss: 2.8700 - val_acc: 0.6415\n",
      "Epoch 20/20\n",
      "213/213 [==============================] - 18s 85ms/step - loss: 0.0044 - acc: 0.9990 - val_loss: 2.8725 - val_acc: 0.6379\n"
     ]
    }
   ],
   "source": [
    "# Train the Model\n",
    "model.compile(optimizer=RMSprop(lr=1e-3),\n",
    "              loss='categorical_crossentropy',\n",
    "              metrics=['acc'])\n",
    "history = model.fit(X_train, y_train,\n",
    "                    epochs=20,\n",
    "                    batch_size=128,\n",
    "                    validation_split=0.2)"
   ]
  },
  {
   "cell_type": "code",
   "execution_count": 16,
   "metadata": {
    "scrolled": true
   },
   "outputs": [
    {
     "data": {
      "image/png": "[encoded data removed]",
      "text/plain": [
       "<Figure size 432x288 with 1 Axes>"
      ]
     },
     "metadata": {
      "needs_background": "light"
     },
     "output_type": "display_data"
    },
    {
     "data": {
      "image/png": "[encoded data removed]",
      "text/plain": [
       "<Figure size 432x288 with 1 Axes>"
      ]
     },
     "metadata": {
      "needs_background": "light"
     },
     "output_type": "display_data"
    }
   ],
   "source": [
    "# Plot the Training and Validation Accuracy & Loss Scores\n",
    "%matplotlib inline\n",
    "import matplotlib.pyplot as plt\n",
    "\n",
    "acc = history.history['acc']\n",
    "val_acc = history.history['val_acc']\n",
    "loss = history.history['loss']\n",
    "val_loss = history.history['val_loss']\n",
    "\n",
    "epochs = range(len(acc))\n",
    "\n",
    "plt.plot(epochs, acc, 'bo', label='Training acc')\n",
    "plt.plot(epochs, val_acc, 'b', label='Validation acc')\n",
    "plt.title('Training and validation accuracy')\n",
    "plt.legend()\n",
    "\n",
    "plt.figure()\n",
    "\n",
    "plt.plot(epochs, loss, 'bo', label='Training loss')\n",
    "plt.plot(epochs, val_loss, 'b', label='Validation loss')\n",
    "plt.title('Training and validation loss')\n",
    "plt.legend()\n",
    "\n",
    "plt.show()"
   ]
  },
  {
   "cell_type": "code",
   "execution_count": null,
   "metadata": {},
   "outputs": [],
   "source": [
    "# Save the Model\n",
    "model.save('text_model_1.h5')"
   ]
  },
  {
   "cell_type": "markdown",
   "metadata": {},
   "source": [
    "### Model #2.2 (GLOVE.Twitter, batch size = 64)"
   ]
  },
  {
   "cell_type": "code",
   "execution_count": 17,
   "metadata": {
    "scrolled": true
   },
   "outputs": [
    {
     "ename": "FileNotFoundError",
     "evalue": "[Errno 2] No such file or directory: 'C:/Users/Darien Tan/OneDrive - Ngee Ann Polytechnic/Ngee Ann Poly/Year 2/DL/Assignment 2/glove.twitter.27B.200d.txt'",
     "output_type": "error",
     "traceback": [
      "\u001b[0;31m\u001b[0m",
      "\u001b[0;31mFileNotFoundError\u001b[0mTraceback (most recent call last)",
      "\u001b[0;32m<ipython-input-17-6261f8d4d9fa>\u001b[0m in \u001b[0;36m<module>\u001b[0;34m\u001b[0m\n\u001b[1;32m      2\u001b[0m \u001b[0;34m\u001b[0m\u001b[0m\n\u001b[1;32m      3\u001b[0m \u001b[0membeddings_index\u001b[0m \u001b[0;34m=\u001b[0m \u001b[0;34m{\u001b[0m\u001b[0;34m}\u001b[0m\u001b[0;34m\u001b[0m\u001b[0;34m\u001b[0m\u001b[0m\n\u001b[0;32m----> 4\u001b[0;31m \u001b[0mf\u001b[0m \u001b[0;34m=\u001b[0m \u001b[0mopen\u001b[0m\u001b[0;34m(\u001b[0m\u001b[0mos\u001b[0m\u001b[0;34m.\u001b[0m\u001b[0mpath\u001b[0m\u001b[0;34m.\u001b[0m\u001b[0mjoin\u001b[0m\u001b[0;34m(\u001b[0m\u001b[0mglove_dir\u001b[0m\u001b[0;34m,\u001b[0m \u001b[0;34m'glove.twitter.27B.200d.txt'\u001b[0m\u001b[0;34m)\u001b[0m\u001b[0;34m,\u001b[0m \u001b[0mencoding\u001b[0m\u001b[0;34m=\u001b[0m\u001b[0;34m\"utf8\"\u001b[0m\u001b[0;34m)\u001b[0m\u001b[0;34m\u001b[0m\u001b[0;34m\u001b[0m\u001b[0m\n\u001b[0m\u001b[1;32m      5\u001b[0m \u001b[0;32mfor\u001b[0m \u001b[0mline\u001b[0m \u001b[0;32min\u001b[0m \u001b[0mf\u001b[0m\u001b[0;34m:\u001b[0m\u001b[0;34m\u001b[0m\u001b[0;34m\u001b[0m\u001b[0m\n\u001b[1;32m      6\u001b[0m     \u001b[0mvalues\u001b[0m \u001b[0;34m=\u001b[0m \u001b[0mline\u001b[0m\u001b[0;34m.\u001b[0m\u001b[0msplit\u001b[0m\u001b[0;34m(\u001b[0m\u001b[0;34m)\u001b[0m\u001b[0;34m\u001b[0m\u001b[0;34m\u001b[0m\u001b[0m\n",
      "\u001b[0;31mFileNotFoundError\u001b[0m: [Errno 2] No such file or directory: 'C:/Users/Darien Tan/OneDrive - Ngee Ann Polytechnic/Ngee Ann Poly/Year 2/DL/Assignment 2/glove.twitter.27B.200d.txt'"
     ]
    }
   ],
   "source": [
    "glove_dir = 'C:/Users/Darien Tan/OneDrive - Ngee Ann Polytechnic/Ngee Ann Poly/Year 2/DL/Assignment 2'\n",
    "\n",
    "embeddings_index = {}\n",
    "f = open(os.path.join(glove_dir, 'glove.twitter.27B.200d.txt'), encoding=\"utf8\")\n",
    "for line in f:\n",
    "    values = line.split()\n",
    "    word = values[0]\n",
    "    coefs = np.asarray(values[1:], dtype='float32')\n",
    "    embeddings_index[word] = coefs\n",
    "f.close()\n",
    "\n",
    "print('Found %s word vectors.' % len(embeddings_index))\n",
    "\n",
    "embedding_dim = 200\n",
    "\n",
    "embedding_matrix = np.zeros((max_words, embedding_dim))\n",
    "for word, i in word_index.items():\n",
    "    embedding_vector = embeddings_index.get(word)\n",
    "    if i < max_words:\n",
    "        if embedding_vector is not None:\n",
    "            # Words not found in embedding index will be all-zeros.\n",
    "            embedding_matrix[i] = embedding_vector"
   ]
  },
  {
   "cell_type": "code",
   "execution_count": 18,
   "metadata": {},
   "outputs": [
    {
     "name": "stdout",
     "output_type": "stream",
     "text": [
      "Model: \"sequential_3\"\n",
      "_________________________________________________________________\n",
      "Layer (type)                 Output Shape              Param #   \n",
      "=================================================================\n",
      "embedding_3 (Embedding)      (None, 34, 100)           10000000  \n",
      "_________________________________________________________________\n",
      "flatten_3 (Flatten)          (None, 3400)              0         \n",
      "_________________________________________________________________\n",
      "dense_6 (Dense)              (None, 32)                108832    \n",
      "_________________________________________________________________\n",
      "dense_7 (Dense)              (None, 5)                 165       \n",
      "=================================================================\n",
      "Total params: 10,108,997\n",
      "Trainable params: 10,108,997\n",
      "Non-trainable params: 0\n",
      "_________________________________________________________________\n",
      "Model: \"sequential_3\"\n",
      "_________________________________________________________________\n",
      "Layer (type)                 Output Shape              Param #   \n",
      "=================================================================\n",
      "embedding_3 (Embedding)      (None, 34, 100)           10000000  \n",
      "_________________________________________________________________\n",
      "flatten_3 (Flatten)          (None, 3400)              0         \n",
      "_________________________________________________________________\n",
      "dense_6 (Dense)              (None, 32)                108832    \n",
      "_________________________________________________________________\n",
      "dense_7 (Dense)              (None, 5)                 165       \n",
      "=================================================================\n",
      "Total params: 10,108,997\n",
      "Trainable params: 10,108,997\n",
      "Non-trainable params: 0\n",
      "_________________________________________________________________\n"
     ]
    }
   ],
   "source": [
    "# Build the Model\n",
    "\n",
    "model = Sequential()\n",
    "model.add(Embedding(max_words, embedding_dim, input_length=max_len))\n",
    "model.add(Flatten())\n",
    "model.add(Dense(32, activation='relu'))\n",
    "model.add(Dense(5, activation='softmax'))\n",
    "model.summary()\n",
    "\n",
    "model.layers[0].set_weights([embedding_matrix])\n",
    "model.layers[0].trainable = True\n",
    "model.summary()"
   ]
  },
  {
   "cell_type": "code",
   "execution_count": 19,
   "metadata": {
    "scrolled": true
   },
   "outputs": [
    {
     "name": "stdout",
     "output_type": "stream",
     "text": [
      "Epoch 1/20\n",
      "426/426 [==============================] - 36s 86ms/step - loss: 1.3463 - acc: 0.4438 - val_loss: 1.2551 - val_acc: 0.4952\n",
      "Epoch 2/20\n",
      "426/426 [==============================] - 37s 86ms/step - loss: 1.1934 - acc: 0.5231 - val_loss: 1.1766 - val_acc: 0.5326\n",
      "Epoch 3/20\n",
      "426/426 [==============================] - 36s 86ms/step - loss: 1.1143 - acc: 0.5589 - val_loss: 1.1284 - val_acc: 0.5557\n",
      "Epoch 4/20\n",
      "426/426 [==============================] - 36s 85ms/step - loss: 1.0579 - acc: 0.5840 - val_loss: 1.1014 - val_acc: 0.5601\n",
      "Epoch 5/20\n",
      "426/426 [==============================] - 37s 86ms/step - loss: 1.0121 - acc: 0.6031 - val_loss: 1.0740 - val_acc: 0.5765\n",
      "Epoch 6/20\n",
      "426/426 [==============================] - 36s 85ms/step - loss: 0.9733 - acc: 0.6205 - val_loss: 1.0537 - val_acc: 0.5828\n",
      "Epoch 7/20\n",
      "426/426 [==============================] - 37s 86ms/step - loss: 0.9383 - acc: 0.6346 - val_loss: 1.0380 - val_acc: 0.5903\n",
      "Epoch 8/20\n",
      "426/426 [==============================] - 36s 85ms/step - loss: 0.9055 - acc: 0.6495 - val_loss: 1.0286 - val_acc: 0.5925\n",
      "Epoch 9/20\n",
      "426/426 [==============================] - 36s 86ms/step - loss: 0.8758 - acc: 0.6601 - val_loss: 1.0167 - val_acc: 0.5939\n",
      "Epoch 10/20\n",
      "426/426 [==============================] - 36s 85ms/step - loss: 0.8485 - acc: 0.6741 - val_loss: 1.0064 - val_acc: 0.6011\n",
      "Epoch 11/20\n",
      "426/426 [==============================] - 36s 85ms/step - loss: 0.8226 - acc: 0.6855 - val_loss: 0.9986 - val_acc: 0.6049\n",
      "Epoch 12/20\n",
      "426/426 [==============================] - 36s 85ms/step - loss: 0.7981 - acc: 0.6946 - val_loss: 0.9920 - val_acc: 0.6065\n",
      "Epoch 13/20\n",
      "426/426 [==============================] - 36s 85ms/step - loss: 0.7743 - acc: 0.7055 - val_loss: 0.9899 - val_acc: 0.6034\n",
      "Epoch 14/20\n",
      "426/426 [==============================] - 36s 85ms/step - loss: 0.7527 - acc: 0.7148 - val_loss: 0.9900 - val_acc: 0.6102\n",
      "Epoch 15/20\n",
      "426/426 [==============================] - 36s 85ms/step - loss: 0.7317 - acc: 0.7249 - val_loss: 0.9863 - val_acc: 0.6087\n",
      "Epoch 16/20\n",
      "426/426 [==============================] - 36s 85ms/step - loss: 0.7114 - acc: 0.7352 - val_loss: 0.9813 - val_acc: 0.6157\n",
      "Epoch 17/20\n",
      "426/426 [==============================] - 36s 85ms/step - loss: 0.6922 - acc: 0.7451 - val_loss: 0.9805 - val_acc: 0.6177\n",
      "Epoch 18/20\n",
      "426/426 [==============================] - 36s 84ms/step - loss: 0.6736 - acc: 0.7524 - val_loss: 0.9827 - val_acc: 0.6157\n",
      "Epoch 19/20\n",
      "426/426 [==============================] - 36s 85ms/step - loss: 0.6558 - acc: 0.7609 - val_loss: 0.9828 - val_acc: 0.6177\n",
      "Epoch 20/20\n",
      "426/426 [==============================] - 36s 85ms/step - loss: 0.6383 - acc: 0.7683 - val_loss: 0.9861 - val_acc: 0.6182\n"
     ]
    }
   ],
   "source": [
    "# Train the Model\n",
    "model.compile(optimizer=RMSprop(lr=1e-4),\n",
    "              loss='categorical_crossentropy',\n",
    "              metrics=['acc'])\n",
    "history = model.fit(X_train, y_train,\n",
    "                    epochs=20,\n",
    "                    batch_size=64,\n",
    "                    validation_split=0.2)"
   ]
  },
  {
   "cell_type": "code",
   "execution_count": 20,
   "metadata": {
    "scrolled": true
   },
   "outputs": [
    {
     "data": {
      "image/png": "[encoded data removed]",
      "text/plain": [
       "<Figure size 432x288 with 1 Axes>"
      ]
     },
     "metadata": {
      "needs_background": "light"
     },
     "output_type": "display_data"
    },
    {
     "data": {
      "image/png": "[encoded data removed]",
      "text/plain": [
       "<Figure size 432x288 with 1 Axes>"
      ]
     },
     "metadata": {
      "needs_background": "light"
     },
     "output_type": "display_data"
    }
   ],
   "source": [
    "# Plot the Training and Validation Accuracy & Loss Scores\n",
    "%matplotlib inline\n",
    "import matplotlib.pyplot as plt\n",
    "\n",
    "acc = history.history['acc']\n",
    "val_acc = history.history['val_acc']\n",
    "loss = history.history['loss']\n",
    "val_loss = history.history['val_loss']\n",
    "\n",
    "epochs = range(len(acc))\n",
    "\n",
    "plt.plot(epochs, acc, 'bo', label='Training acc')\n",
    "plt.plot(epochs, val_acc, 'b', label='Validation acc')\n",
    "plt.title('Training and validation accuracy')\n",
    "plt.legend()\n",
    "\n",
    "plt.figure()\n",
    "\n",
    "plt.plot(epochs, loss, 'bo', label='Training loss')\n",
    "plt.plot(epochs, val_loss, 'b', label='Validation loss')\n",
    "plt.title('Training and validation loss')\n",
    "plt.legend()\n",
    "\n",
    "plt.show()"
   ]
  },
  {
   "cell_type": "markdown",
   "metadata": {},
   "source": [
    "### Model #2.3 (GLOVE.Twitter, batch size = 64, Optimizer = Adam)"
   ]
  },
  {
   "cell_type": "code",
   "execution_count": 29,
   "metadata": {
    "scrolled": true
   },
   "outputs": [
    {
     "name": "stdout",
     "output_type": "stream",
     "text": [
      "Found 1193514 word vectors.\n"
     ]
    }
   ],
   "source": [
    "glove_dir = 'C:/Users/Darien Tan/OneDrive - Ngee Ann Polytechnic/Ngee Ann Poly/Year 2/DL/Assignment 2'\n",
    "\n",
    "embeddings_index = {}\n",
    "f = open(os.path.join(glove_dir, 'glove.twitter.27B.200d.txt'), encoding=\"utf8\")\n",
    "for line in f:\n",
    "    values = line.split()\n",
    "    word = values[0]\n",
    "    coefs = np.asarray(values[1:], dtype='float32')\n",
    "    embeddings_index[word] = coefs\n",
    "f.close()\n",
    "\n",
    "print('Found %s word vectors.' % len(embeddings_index))\n",
    "\n",
    "embedding_dim = 200\n",
    "\n",
    "embedding_matrix = np.zeros((max_words, embedding_dim))\n",
    "for word, i in word_index.items():\n",
    "    embedding_vector = embeddings_index.get(word)\n",
    "    if i < max_words:\n",
    "        if embedding_vector is not None:\n",
    "            # Words not found in embedding index will be all-zeros.\n",
    "            embedding_matrix[i] = embedding_vector"
   ]
  },
  {
   "cell_type": "code",
   "execution_count": 21,
   "metadata": {},
   "outputs": [
    {
     "name": "stdout",
     "output_type": "stream",
     "text": [
      "Model: \"sequential_4\"\n",
      "_________________________________________________________________\n",
      "Layer (type)                 Output Shape              Param #   \n",
      "=================================================================\n",
      "embedding_4 (Embedding)      (None, 34, 100)           10000000  \n",
      "_________________________________________________________________\n",
      "flatten_4 (Flatten)          (None, 3400)              0         \n",
      "_________________________________________________________________\n",
      "dense_8 (Dense)              (None, 32)                108832    \n",
      "_________________________________________________________________\n",
      "dense_9 (Dense)              (None, 5)                 165       \n",
      "=================================================================\n",
      "Total params: 10,108,997\n",
      "Trainable params: 10,108,997\n",
      "Non-trainable params: 0\n",
      "_________________________________________________________________\n",
      "Model: \"sequential_4\"\n",
      "_________________________________________________________________\n",
      "Layer (type)                 Output Shape              Param #   \n",
      "=================================================================\n",
      "embedding_4 (Embedding)      (None, 34, 100)           10000000  \n",
      "_________________________________________________________________\n",
      "flatten_4 (Flatten)          (None, 3400)              0         \n",
      "_________________________________________________________________\n",
      "dense_8 (Dense)              (None, 32)                108832    \n",
      "_________________________________________________________________\n",
      "dense_9 (Dense)              (None, 5)                 165       \n",
      "=================================================================\n",
      "Total params: 10,108,997\n",
      "Trainable params: 10,108,997\n",
      "Non-trainable params: 0\n",
      "_________________________________________________________________\n"
     ]
    }
   ],
   "source": [
    "# Build the Model\n",
    "\n",
    "model = Sequential()\n",
    "model.add(Embedding(max_words, embedding_dim, input_length=max_len))\n",
    "model.add(Flatten())\n",
    "model.add(Dense(32, activation='relu'))\n",
    "model.add(Dense(5, activation='softmax'))\n",
    "model.summary()\n",
    "\n",
    "model.layers[0].set_weights([embedding_matrix])\n",
    "model.layers[0].trainable = True\n",
    "model.summary()"
   ]
  },
  {
   "cell_type": "code",
   "execution_count": 22,
   "metadata": {
    "scrolled": true
   },
   "outputs": [
    {
     "name": "stdout",
     "output_type": "stream",
     "text": [
      "Epoch 1/20\n",
      "213/213 [==============================] - 22s 102ms/step - loss: 1.2653 - acc: 0.4893 - val_loss: 1.1146 - val_acc: 0.5642\n",
      "Epoch 2/20\n",
      "213/213 [==============================] - 21s 101ms/step - loss: 1.0049 - acc: 0.6114 - val_loss: 1.0261 - val_acc: 0.5964\n",
      "Epoch 3/20\n",
      "213/213 [==============================] - 22s 101ms/step - loss: 0.8318 - acc: 0.6861 - val_loss: 0.9752 - val_acc: 0.6165\n",
      "Epoch 4/20\n",
      "213/213 [==============================] - 22s 101ms/step - loss: 0.6734 - acc: 0.7596 - val_loss: 0.9607 - val_acc: 0.6323\n",
      "Epoch 5/20\n",
      "213/213 [==============================] - 22s 102ms/step - loss: 0.5269 - acc: 0.8241 - val_loss: 0.9700 - val_acc: 0.6356\n",
      "Epoch 6/20\n",
      "213/213 [==============================] - 22s 102ms/step - loss: 0.3948 - acc: 0.8774 - val_loss: 1.0074 - val_acc: 0.6459\n",
      "Epoch 7/20\n",
      "213/213 [==============================] - 22s 101ms/step - loss: 0.2865 - acc: 0.9175 - val_loss: 1.0525 - val_acc: 0.6464\n",
      "Epoch 8/20\n",
      "213/213 [==============================] - 22s 102ms/step - loss: 0.2024 - acc: 0.9481 - val_loss: 1.1065 - val_acc: 0.6473\n",
      "Epoch 9/20\n",
      "213/213 [==============================] - 22s 102ms/step - loss: 0.1421 - acc: 0.9694 - val_loss: 1.1907 - val_acc: 0.6457\n",
      "Epoch 10/20\n",
      "213/213 [==============================] - 21s 101ms/step - loss: 0.0997 - acc: 0.9806 - val_loss: 1.2497 - val_acc: 0.6473\n",
      "Epoch 11/20\n",
      "213/213 [==============================] - 22s 101ms/step - loss: 0.0706 - acc: 0.9868 - val_loss: 1.3307 - val_acc: 0.6445\n",
      "Epoch 12/20\n",
      "213/213 [==============================] - 22s 101ms/step - loss: 0.0497 - acc: 0.9923 - val_loss: 1.4067 - val_acc: 0.6434\n",
      "Epoch 13/20\n",
      "213/213 [==============================] - 22s 102ms/step - loss: 0.0363 - acc: 0.9952 - val_loss: 1.4752 - val_acc: 0.6447\n",
      "Epoch 14/20\n",
      "213/213 [==============================] - 22s 101ms/step - loss: 0.0273 - acc: 0.9970 - val_loss: 1.5486 - val_acc: 0.6439\n",
      "Epoch 15/20\n",
      "213/213 [==============================] - 22s 102ms/step - loss: 0.0203 - acc: 0.9978 - val_loss: 1.6033 - val_acc: 0.6460\n",
      "Epoch 16/20\n",
      "213/213 [==============================] - 22s 101ms/step - loss: 0.0156 - acc: 0.9985 - val_loss: 1.6560 - val_acc: 0.6451\n",
      "Epoch 17/20\n",
      "213/213 [==============================] - 22s 102ms/step - loss: 0.0121 - acc: 0.9990 - val_loss: 1.7229 - val_acc: 0.6459\n",
      "Epoch 18/20\n",
      "213/213 [==============================] - 21s 101ms/step - loss: 0.0097 - acc: 0.9993 - val_loss: 1.7887 - val_acc: 0.6429\n",
      "Epoch 19/20\n",
      "213/213 [==============================] - 22s 101ms/step - loss: 0.0082 - acc: 0.9993 - val_loss: 1.8348 - val_acc: 0.6416\n",
      "Epoch 20/20\n",
      "213/213 [==============================] - 22s 102ms/step - loss: 0.0067 - acc: 0.9995 - val_loss: 1.8780 - val_acc: 0.6417\n"
     ]
    }
   ],
   "source": [
    "# Train the Model\n",
    "model.compile(optimizer=Adam(lr=5e-4),\n",
    "              loss='categorical_crossentropy',\n",
    "              metrics=['acc'])\n",
    "history = model.fit(X_train, y_train,\n",
    "                    epochs=20,\n",
    "                    batch_size=128,\n",
    "                    validation_split=0.2)"
   ]
  },
  {
   "cell_type": "code",
   "execution_count": 23,
   "metadata": {
    "scrolled": true
   },
   "outputs": [
    {
     "data": {
      "image/png": "[encoded data removed]",
      "text/plain": [
       "<Figure size 432x288 with 1 Axes>"
      ]
     },
     "metadata": {
      "needs_background": "light"
     },
     "output_type": "display_data"
    },
    {
     "data": {
      "image/png": "[encoded data removed]",
      "text/plain": [
       "<Figure size 432x288 with 1 Axes>"
      ]
     },
     "metadata": {
      "needs_background": "light"
     },
     "output_type": "display_data"
    }
   ],
   "source": [
    "# Plot the Training and Validation Accuracy & Loss Scores\n",
    "%matplotlib inline\n",
    "import matplotlib.pyplot as plt\n",
    "\n",
    "acc = history.history['acc']\n",
    "val_acc = history.history['val_acc']\n",
    "loss = history.history['loss']\n",
    "val_loss = history.history['val_loss']\n",
    "\n",
    "epochs = range(len(acc))\n",
    "\n",
    "plt.plot(epochs, acc, 'bo', label='Training acc')\n",
    "plt.plot(epochs, val_acc, 'b', label='Validation acc')\n",
    "plt.title('Training and validation accuracy')\n",
    "plt.legend()\n",
    "\n",
    "plt.figure()\n",
    "\n",
    "plt.plot(epochs, loss, 'bo', label='Training loss')\n",
    "plt.plot(epochs, val_loss, 'b', label='Validation loss')\n",
    "plt.title('Training and validation loss')\n",
    "plt.legend()\n",
    "\n",
    "plt.show()"
   ]
  },
  {
   "cell_type": "markdown",
   "metadata": {},
   "source": [
    "### Model #2.4 (Basic Model + GLOVE.Twitter, batch size = 32, optimizer = Adam)"
   ]
  },
  {
   "cell_type": "code",
   "execution_count": 33,
   "metadata": {
    "scrolled": true
   },
   "outputs": [
    {
     "name": "stdout",
     "output_type": "stream",
     "text": [
      "Found 1193514 word vectors.\n"
     ]
    }
   ],
   "source": [
    "glove_dir = 'C:/Users/Darien Tan/OneDrive - Ngee Ann Polytechnic/Ngee Ann Poly/Year 2/DL/Assignment 2'\n",
    "\n",
    "embeddings_index = {}\n",
    "f = open(os.path.join(glove_dir, 'glove.twitter.27B.200d.txt'), encoding=\"utf8\")\n",
    "for line in f:\n",
    "    values = line.split()\n",
    "    word = values[0]\n",
    "    coefs = np.asarray(values[1:], dtype='float32')\n",
    "    embeddings_index[word] = coefs\n",
    "f.close()\n",
    "\n",
    "print('Found %s word vectors.' % len(embeddings_index))\n",
    "\n",
    "embedding_dim = 200\n",
    "\n",
    "embedding_matrix = np.zeros((max_words, embedding_dim))\n",
    "for word, i in word_index.items():\n",
    "    embedding_vector = embeddings_index.get(word)\n",
    "    if i < max_words:\n",
    "        if embedding_vector is not None:\n",
    "            # Words not found in embedding index will be all-zeros.\n",
    "            embedding_matrix[i] = embedding_vector"
   ]
  },
  {
   "cell_type": "code",
   "execution_count": 24,
   "metadata": {},
   "outputs": [
    {
     "name": "stdout",
     "output_type": "stream",
     "text": [
      "Model: \"sequential_5\"\n",
      "_________________________________________________________________\n",
      "Layer (type)                 Output Shape              Param #   \n",
      "=================================================================\n",
      "embedding_5 (Embedding)      (None, 34, 100)           10000000  \n",
      "_________________________________________________________________\n",
      "flatten_5 (Flatten)          (None, 3400)              0         \n",
      "_________________________________________________________________\n",
      "dense_10 (Dense)             (None, 32)                108832    \n",
      "_________________________________________________________________\n",
      "dense_11 (Dense)             (None, 5)                 165       \n",
      "=================================================================\n",
      "Total params: 10,108,997\n",
      "Trainable params: 10,108,997\n",
      "Non-trainable params: 0\n",
      "_________________________________________________________________\n",
      "Model: \"sequential_5\"\n",
      "_________________________________________________________________\n",
      "Layer (type)                 Output Shape              Param #   \n",
      "=================================================================\n",
      "embedding_5 (Embedding)      (None, 34, 100)           10000000  \n",
      "_________________________________________________________________\n",
      "flatten_5 (Flatten)          (None, 3400)              0         \n",
      "_________________________________________________________________\n",
      "dense_10 (Dense)             (None, 32)                108832    \n",
      "_________________________________________________________________\n",
      "dense_11 (Dense)             (None, 5)                 165       \n",
      "=================================================================\n",
      "Total params: 10,108,997\n",
      "Trainable params: 10,108,997\n",
      "Non-trainable params: 0\n",
      "_________________________________________________________________\n"
     ]
    }
   ],
   "source": [
    "# Build the Model\n",
    "\n",
    "model = Sequential()\n",
    "model.add(Embedding(max_words, embedding_dim, input_length=max_len))\n",
    "model.add(Flatten())\n",
    "model.add(Dense(32, activation='relu'))\n",
    "model.add(Dense(5, activation='softmax'))\n",
    "model.summary()\n",
    "\n",
    "model.layers[0].set_weights([embedding_matrix])\n",
    "model.layers[0].trainable = True\n",
    "model.summary()"
   ]
  },
  {
   "cell_type": "code",
   "execution_count": 25,
   "metadata": {
    "scrolled": true
   },
   "outputs": [
    {
     "name": "stdout",
     "output_type": "stream",
     "text": [
      "Epoch 1/15\n",
      "851/851 [==============================] - 85s 100ms/step - loss: 1.3367 - acc: 0.4505 - val_loss: 1.2152 - val_acc: 0.5137\n",
      "Epoch 2/15\n",
      "851/851 [==============================] - 85s 100ms/step - loss: 1.1328 - acc: 0.5477 - val_loss: 1.1168 - val_acc: 0.5582\n",
      "Epoch 3/15\n",
      "851/851 [==============================] - 85s 100ms/step - loss: 1.0248 - acc: 0.6003 - val_loss: 1.0663 - val_acc: 0.5759\n",
      "Epoch 4/15\n",
      "851/851 [==============================] - 85s 100ms/step - loss: 0.9415 - acc: 0.6388 - val_loss: 1.0305 - val_acc: 0.5893\n",
      "Epoch 5/15\n",
      "851/851 [==============================] - 86s 101ms/step - loss: 0.8679 - acc: 0.6721 - val_loss: 1.0069 - val_acc: 0.5974\n",
      "Epoch 6/15\n",
      "851/851 [==============================] - 85s 100ms/step - loss: 0.8024 - acc: 0.6984 - val_loss: 0.9873 - val_acc: 0.6100\n",
      "Epoch 7/15\n",
      "851/851 [==============================] - 86s 101ms/step - loss: 0.7403 - acc: 0.7285 - val_loss: 0.9772 - val_acc: 0.6171\n",
      "Epoch 8/15\n",
      "851/851 [==============================] - 85s 100ms/step - loss: 0.6826 - acc: 0.7562 - val_loss: 0.9706 - val_acc: 0.6231\n",
      "Epoch 9/15\n",
      "851/851 [==============================] - 85s 100ms/step - loss: 0.6274 - acc: 0.7816 - val_loss: 0.9695 - val_acc: 0.6265\n",
      "Epoch 10/15\n",
      "851/851 [==============================] - 85s 100ms/step - loss: 0.5745 - acc: 0.8060 - val_loss: 0.9748 - val_acc: 0.6275\n",
      "Epoch 11/15\n",
      "851/851 [==============================] - 85s 100ms/step - loss: 0.5236 - acc: 0.8261 - val_loss: 0.9790 - val_acc: 0.6309\n",
      "Epoch 12/15\n",
      "851/851 [==============================] - 85s 100ms/step - loss: 0.4751 - acc: 0.8474 - val_loss: 0.9883 - val_acc: 0.6343\n",
      "Epoch 13/15\n",
      "851/851 [==============================] - 85s 100ms/step - loss: 0.4283 - acc: 0.8665 - val_loss: 1.0001 - val_acc: 0.6366\n",
      "Epoch 14/15\n",
      "851/851 [==============================] - 85s 100ms/step - loss: 0.3841 - acc: 0.8861 - val_loss: 1.0171 - val_acc: 0.6369\n",
      "Epoch 15/15\n",
      "851/851 [==============================] - 85s 100ms/step - loss: 0.3433 - acc: 0.8991 - val_loss: 1.0365 - val_acc: 0.6381\n"
     ]
    }
   ],
   "source": [
    "# Train the Model\n",
    "model.compile(optimizer=Adam(lr=1e-4),\n",
    "              loss='categorical_crossentropy',\n",
    "              metrics=['acc'])\n",
    "history = model.fit(X_train, y_train,\n",
    "                    epochs=15,\n",
    "                    batch_size=32,\n",
    "                    validation_split=0.2)"
   ]
  },
  {
   "cell_type": "code",
   "execution_count": 26,
   "metadata": {
    "scrolled": true
   },
   "outputs": [
    {
     "data": {
      "image/png": "[encoded data removed]",
      "text/plain": [
       "<Figure size 432x288 with 1 Axes>"
      ]
     },
     "metadata": {
      "needs_background": "light"
     },
     "output_type": "display_data"
    },
    {
     "data": {
      "image/png": "[encoded data removed]",
      "text/plain": [
       "<Figure size 432x288 with 1 Axes>"
      ]
     },
     "metadata": {
      "needs_background": "light"
     },
     "output_type": "display_data"
    }
   ],
   "source": [
    "# Plot the Training and Validation Accuracy & Loss Scores\n",
    "%matplotlib inline\n",
    "import matplotlib.pyplot as plt\n",
    "\n",
    "acc = history.history['acc']\n",
    "val_acc = history.history['val_acc']\n",
    "loss = history.history['loss']\n",
    "val_loss = history.history['val_loss']\n",
    "\n",
    "epochs = range(len(acc))\n",
    "\n",
    "plt.plot(epochs, acc, 'bo', label='Training acc')\n",
    "plt.plot(epochs, val_acc, 'b', label='Validation acc')\n",
    "plt.title('Training and validation accuracy')\n",
    "plt.legend()\n",
    "\n",
    "plt.figure()\n",
    "\n",
    "plt.plot(epochs, loss, 'bo', label='Training loss')\n",
    "plt.plot(epochs, val_loss, 'b', label='Validation loss')\n",
    "plt.title('Training and validation loss')\n",
    "plt.legend()\n",
    "\n",
    "plt.show()"
   ]
  },
  {
   "cell_type": "markdown",
   "metadata": {},
   "source": [
    "### Model #2.5 (Basic Model + GLOVE.Twitter, batch size = 128, optimizer = SGD)"
   ]
  },
  {
   "cell_type": "code",
   "execution_count": 37,
   "metadata": {
    "scrolled": true
   },
   "outputs": [
    {
     "name": "stdout",
     "output_type": "stream",
     "text": [
      "Found 1193514 word vectors.\n"
     ]
    }
   ],
   "source": [
    "glove_dir = 'C:/Users/Darien Tan/OneDrive - Ngee Ann Polytechnic/Ngee Ann Poly/Year 2/DL/Assignment 2'\n",
    "\n",
    "embeddings_index = {}\n",
    "f = open(os.path.join(glove_dir, 'glove.twitter.27B.200d.txt'), encoding=\"utf8\")\n",
    "for line in f:\n",
    "    values = line.split()\n",
    "    word = values[0]\n",
    "    coefs = np.asarray(values[1:], dtype='float32')\n",
    "    embeddings_index[word] = coefs\n",
    "f.close()\n",
    "\n",
    "print('Found %s word vectors.' % len(embeddings_index))\n",
    "\n",
    "embedding_dim = 200\n",
    "\n",
    "embedding_matrix = np.zeros((max_words, embedding_dim))\n",
    "for word, i in word_index.items():\n",
    "    embedding_vector = embeddings_index.get(word)\n",
    "    if i < max_words:\n",
    "        if embedding_vector is not None:\n",
    "            # Words not found in embedding index will be all-zeros.\n",
    "            embedding_matrix[i] = embedding_vector"
   ]
  },
  {
   "cell_type": "code",
   "execution_count": 27,
   "metadata": {},
   "outputs": [
    {
     "name": "stdout",
     "output_type": "stream",
     "text": [
      "Model: \"sequential_6\"\n",
      "_________________________________________________________________\n",
      "Layer (type)                 Output Shape              Param #   \n",
      "=================================================================\n",
      "embedding_6 (Embedding)      (None, 34, 100)           10000000  \n",
      "_________________________________________________________________\n",
      "flatten_6 (Flatten)          (None, 3400)              0         \n",
      "_________________________________________________________________\n",
      "dense_12 (Dense)             (None, 32)                108832    \n",
      "_________________________________________________________________\n",
      "dense_13 (Dense)             (None, 5)                 165       \n",
      "=================================================================\n",
      "Total params: 10,108,997\n",
      "Trainable params: 10,108,997\n",
      "Non-trainable params: 0\n",
      "_________________________________________________________________\n",
      "Model: \"sequential_6\"\n",
      "_________________________________________________________________\n",
      "Layer (type)                 Output Shape              Param #   \n",
      "=================================================================\n",
      "embedding_6 (Embedding)      (None, 34, 100)           10000000  \n",
      "_________________________________________________________________\n",
      "flatten_6 (Flatten)          (None, 3400)              0         \n",
      "_________________________________________________________________\n",
      "dense_12 (Dense)             (None, 32)                108832    \n",
      "_________________________________________________________________\n",
      "dense_13 (Dense)             (None, 5)                 165       \n",
      "=================================================================\n",
      "Total params: 10,108,997\n",
      "Trainable params: 10,108,997\n",
      "Non-trainable params: 0\n",
      "_________________________________________________________________\n"
     ]
    }
   ],
   "source": [
    "# Build the Model\n",
    "\n",
    "model = Sequential()\n",
    "model.add(Embedding(max_words, embedding_dim, input_length=max_len))\n",
    "model.add(Flatten())\n",
    "model.add(Dense(32, activation='relu'))\n",
    "model.add(Dense(5, activation='softmax'))\n",
    "model.summary()\n",
    "\n",
    "model.layers[0].set_weights([embedding_matrix])\n",
    "model.layers[0].trainable = True\n",
    "model.summary()"
   ]
  },
  {
   "cell_type": "code",
   "execution_count": 28,
   "metadata": {
    "scrolled": true
   },
   "outputs": [
    {
     "name": "stdout",
     "output_type": "stream",
     "text": [
      "Epoch 1/30\n",
      "213/213 [==============================] - 1s 6ms/step - loss: 1.4364 - acc: 0.4107 - val_loss: 1.3682 - val_acc: 0.4509\n",
      "Epoch 2/30\n",
      "213/213 [==============================] - 1s 5ms/step - loss: 1.3320 - acc: 0.4600 - val_loss: 1.2965 - val_acc: 0.4828\n",
      "Epoch 3/30\n",
      "213/213 [==============================] - 1s 5ms/step - loss: 1.2684 - acc: 0.4905 - val_loss: 1.2521 - val_acc: 0.5116\n",
      "Epoch 4/30\n",
      "213/213 [==============================] - 1s 5ms/step - loss: 1.2217 - acc: 0.5114 - val_loss: 1.2162 - val_acc: 0.5207\n",
      "Epoch 5/30\n",
      "213/213 [==============================] - 1s 5ms/step - loss: 1.1856 - acc: 0.5272 - val_loss: 1.1907 - val_acc: 0.5314\n",
      "Epoch 6/30\n",
      "213/213 [==============================] - 1s 5ms/step - loss: 1.1575 - acc: 0.5379 - val_loss: 1.1720 - val_acc: 0.5360\n",
      "Epoch 7/30\n",
      "213/213 [==============================] - 1s 5ms/step - loss: 1.1332 - acc: 0.5513 - val_loss: 1.1620 - val_acc: 0.5405\n",
      "Epoch 8/30\n",
      "213/213 [==============================] - 1s 5ms/step - loss: 1.1126 - acc: 0.5601 - val_loss: 1.1446 - val_acc: 0.5466\n",
      "Epoch 9/30\n",
      "213/213 [==============================] - 1s 5ms/step - loss: 1.0951 - acc: 0.5678 - val_loss: 1.1362 - val_acc: 0.5473\n",
      "Epoch 10/30\n",
      "213/213 [==============================] - 1s 5ms/step - loss: 1.0784 - acc: 0.5751 - val_loss: 1.1266 - val_acc: 0.5574\n",
      "Epoch 11/30\n",
      "213/213 [==============================] - 1s 5ms/step - loss: 1.0642 - acc: 0.5823 - val_loss: 1.1177 - val_acc: 0.5588\n",
      "Epoch 12/30\n",
      "213/213 [==============================] - 1s 5ms/step - loss: 1.0500 - acc: 0.5888 - val_loss: 1.1106 - val_acc: 0.5593\n",
      "Epoch 13/30\n",
      "213/213 [==============================] - 1s 5ms/step - loss: 1.0367 - acc: 0.5943 - val_loss: 1.1032 - val_acc: 0.5632\n",
      "Epoch 14/30\n",
      "213/213 [==============================] - 1s 5ms/step - loss: 1.0250 - acc: 0.6006 - val_loss: 1.1000 - val_acc: 0.5665\n",
      "Epoch 15/30\n",
      "213/213 [==============================] - 1s 5ms/step - loss: 1.0133 - acc: 0.6054 - val_loss: 1.1004 - val_acc: 0.5621\n",
      "Epoch 16/30\n",
      "213/213 [==============================] - 1s 5ms/step - loss: 1.0022 - acc: 0.6093 - val_loss: 1.0875 - val_acc: 0.5704\n",
      "Epoch 17/30\n",
      "213/213 [==============================] - 1s 5ms/step - loss: 0.9908 - acc: 0.6154 - val_loss: 1.0813 - val_acc: 0.5745\n",
      "Epoch 18/30\n",
      "213/213 [==============================] - 1s 5ms/step - loss: 0.9816 - acc: 0.6198 - val_loss: 1.0853 - val_acc: 0.5734\n",
      "Epoch 19/30\n",
      "213/213 [==============================] - 1s 5ms/step - loss: 0.9714 - acc: 0.6244 - val_loss: 1.0740 - val_acc: 0.5776\n",
      "Epoch 20/30\n",
      "213/213 [==============================] - 1s 5ms/step - loss: 0.9614 - acc: 0.6290 - val_loss: 1.0745 - val_acc: 0.5740\n",
      "Epoch 21/30\n",
      "213/213 [==============================] - 1s 5ms/step - loss: 0.9524 - acc: 0.6333 - val_loss: 1.0697 - val_acc: 0.5821\n",
      "Epoch 22/30\n",
      "213/213 [==============================] - 1s 5ms/step - loss: 0.9449 - acc: 0.6348 - val_loss: 1.0661 - val_acc: 0.5798\n",
      "Epoch 23/30\n",
      "213/213 [==============================] - 1s 5ms/step - loss: 0.9351 - acc: 0.6390 - val_loss: 1.0615 - val_acc: 0.5815\n",
      "Epoch 24/30\n",
      "213/213 [==============================] - 1s 5ms/step - loss: 0.9259 - acc: 0.6439 - val_loss: 1.0671 - val_acc: 0.5806\n",
      "Epoch 25/30\n",
      "213/213 [==============================] - 1s 5ms/step - loss: 0.9189 - acc: 0.6473 - val_loss: 1.0621 - val_acc: 0.5805\n",
      "Epoch 26/30\n",
      "213/213 [==============================] - 1s 5ms/step - loss: 0.9100 - acc: 0.6518 - val_loss: 1.0642 - val_acc: 0.5765\n",
      "Epoch 27/30\n",
      "213/213 [==============================] - 1s 5ms/step - loss: 0.9035 - acc: 0.6512 - val_loss: 1.0547 - val_acc: 0.5817\n",
      "Epoch 28/30\n",
      "213/213 [==============================] - 1s 5ms/step - loss: 0.8954 - acc: 0.6581 - val_loss: 1.0559 - val_acc: 0.5840\n",
      "Epoch 29/30\n",
      "213/213 [==============================] - 1s 5ms/step - loss: 0.8885 - acc: 0.6600 - val_loss: 1.0530 - val_acc: 0.5896\n",
      "Epoch 30/30\n",
      "213/213 [==============================] - 1s 5ms/step - loss: 0.8800 - acc: 0.6642 - val_loss: 1.0560 - val_acc: 0.5843\n"
     ]
    }
   ],
   "source": [
    "# Train the Model\n",
    "model.compile(optimizer=SGD(lr=1e-3, momentum=0.9),\n",
    "              loss='categorical_crossentropy',\n",
    "              metrics=['acc'])\n",
    "history = model.fit(X_train, y_train,\n",
    "                    epochs=30,\n",
    "                    batch_size=128,\n",
    "                    validation_split=0.2)"
   ]
  },
  {
   "cell_type": "code",
   "execution_count": 29,
   "metadata": {
    "scrolled": true
   },
   "outputs": [
    {
     "data": {
      "image/png": "[encoded data removed]",
      "text/plain": [
       "<Figure size 432x288 with 1 Axes>"
      ]
     },
     "metadata": {
      "needs_background": "light"
     },
     "output_type": "display_data"
    },
    {
     "data": {
      "image/png": "[encoded data removed]",
      "text/plain": [
       "<Figure size 432x288 with 1 Axes>"
      ]
     },
     "metadata": {
      "needs_background": "light"
     },
     "output_type": "display_data"
    }
   ],
   "source": [
    "# Plot the Training and Validation Accuracy & Loss Scores\n",
    "%matplotlib inline\n",
    "import matplotlib.pyplot as plt\n",
    "\n",
    "acc = history.history['acc']\n",
    "val_acc = history.history['val_acc']\n",
    "loss = history.history['loss']\n",
    "val_loss = history.history['val_loss']\n",
    "\n",
    "epochs = range(len(acc))\n",
    "\n",
    "plt.plot(epochs, acc, 'bo', label='Training acc')\n",
    "plt.plot(epochs, val_acc, 'b', label='Validation acc')\n",
    "plt.title('Training and validation accuracy')\n",
    "plt.legend()\n",
    "\n",
    "plt.figure()\n",
    "\n",
    "plt.plot(epochs, loss, 'bo', label='Training loss')\n",
    "plt.plot(epochs, val_loss, 'b', label='Validation loss')\n",
    "plt.title('Training and validation loss')\n",
    "plt.legend()\n",
    "\n",
    "plt.show()"
   ]
  },
  {
   "cell_type": "markdown",
   "metadata": {},
   "source": [
    "### Model #2.6 (Basic Model + GLOVE.Twitter (Non-trainable), batch size = 128, optimizer = SGD)"
   ]
  },
  {
   "cell_type": "code",
   "execution_count": 45,
   "metadata": {
    "scrolled": true
   },
   "outputs": [
    {
     "name": "stdout",
     "output_type": "stream",
     "text": [
      "Found 1193514 word vectors.\n"
     ]
    }
   ],
   "source": [
    "glove_dir = 'C:/Users/Darien Tan/OneDrive - Ngee Ann Polytechnic/Ngee Ann Poly/Year 2/DL/Assignment 2'\n",
    "\n",
    "embeddings_index = {}\n",
    "f = open(os.path.join(glove_dir, 'glove.twitter.27B.200d.txt'), encoding=\"utf8\")\n",
    "for line in f:\n",
    "    values = line.split()\n",
    "    word = values[0]\n",
    "    coefs = np.asarray(values[1:], dtype='float32')\n",
    "    embeddings_index[word] = coefs\n",
    "f.close()\n",
    "\n",
    "print('Found %s word vectors.' % len(embeddings_index))\n",
    "\n",
    "embedding_dim = 200\n",
    "\n",
    "embedding_matrix = np.zeros((max_words, embedding_dim))\n",
    "for word, i in word_index.items():\n",
    "    embedding_vector = embeddings_index.get(word)\n",
    "    if i < max_words:\n",
    "        if embedding_vector is not None:\n",
    "            # Words not found in embedding index will be all-zeros.\n",
    "            embedding_matrix[i] = embedding_vector"
   ]
  },
  {
   "cell_type": "code",
   "execution_count": 30,
   "metadata": {},
   "outputs": [
    {
     "name": "stdout",
     "output_type": "stream",
     "text": [
      "Model: \"sequential_7\"\n",
      "_________________________________________________________________\n",
      "Layer (type)                 Output Shape              Param #   \n",
      "=================================================================\n",
      "embedding_7 (Embedding)      (None, 34, 100)           10000000  \n",
      "_________________________________________________________________\n",
      "flatten_7 (Flatten)          (None, 3400)              0         \n",
      "_________________________________________________________________\n",
      "dense_14 (Dense)             (None, 32)                108832    \n",
      "_________________________________________________________________\n",
      "dense_15 (Dense)             (None, 5)                 165       \n",
      "=================================================================\n",
      "Total params: 10,108,997\n",
      "Trainable params: 10,108,997\n",
      "Non-trainable params: 0\n",
      "_________________________________________________________________\n",
      "Model: \"sequential_7\"\n",
      "_________________________________________________________________\n",
      "Layer (type)                 Output Shape              Param #   \n",
      "=================================================================\n",
      "embedding_7 (Embedding)      (None, 34, 100)           10000000  \n",
      "_________________________________________________________________\n",
      "flatten_7 (Flatten)          (None, 3400)              0         \n",
      "_________________________________________________________________\n",
      "dense_14 (Dense)             (None, 32)                108832    \n",
      "_________________________________________________________________\n",
      "dense_15 (Dense)             (None, 5)                 165       \n",
      "=================================================================\n",
      "Total params: 10,108,997\n",
      "Trainable params: 108,997\n",
      "Non-trainable params: 10,000,000\n",
      "_________________________________________________________________\n"
     ]
    }
   ],
   "source": [
    "# Build the Model\n",
    "\n",
    "model = Sequential()\n",
    "model.add(Embedding(max_words, embedding_dim, input_length=max_len))\n",
    "model.add(Flatten())\n",
    "model.add(Dense(32, activation='relu'))\n",
    "model.add(Dense(5, activation='softmax'))\n",
    "model.summary()\n",
    "\n",
    "model.layers[0].set_weights([embedding_matrix])\n",
    "model.layers[0].trainable = False\n",
    "model.summary()"
   ]
  },
  {
   "cell_type": "code",
   "execution_count": 31,
   "metadata": {
    "scrolled": true
   },
   "outputs": [
    {
     "name": "stdout",
     "output_type": "stream",
     "text": [
      "Epoch 1/30\n",
      "213/213 [==============================] - 1s 4ms/step - loss: 1.4141 - acc: 0.4196 - val_loss: 1.3530 - val_acc: 0.4556\n",
      "Epoch 2/30\n",
      "213/213 [==============================] - 1s 4ms/step - loss: 1.3197 - acc: 0.4646 - val_loss: 1.2907 - val_acc: 0.4796\n",
      "Epoch 3/30\n",
      "213/213 [==============================] - 1s 4ms/step - loss: 1.2632 - acc: 0.4942 - val_loss: 1.2512 - val_acc: 0.5037\n",
      "Epoch 4/30\n",
      "213/213 [==============================] - 1s 4ms/step - loss: 1.2253 - acc: 0.5133 - val_loss: 1.2247 - val_acc: 0.5138\n",
      "Epoch 5/30\n",
      "213/213 [==============================] - 1s 4ms/step - loss: 1.1946 - acc: 0.5274 - val_loss: 1.2067 - val_acc: 0.5238\n",
      "Epoch 6/30\n",
      "213/213 [==============================] - 1s 4ms/step - loss: 1.1710 - acc: 0.5392 - val_loss: 1.1942 - val_acc: 0.5260\n",
      "Epoch 7/30\n",
      "213/213 [==============================] - 1s 3ms/step - loss: 1.1505 - acc: 0.5462 - val_loss: 1.1787 - val_acc: 0.5354\n",
      "Epoch 8/30\n",
      "213/213 [==============================] - 1s 4ms/step - loss: 1.1342 - acc: 0.5542 - val_loss: 1.1703 - val_acc: 0.5341\n",
      "Epoch 9/30\n",
      "213/213 [==============================] - 1s 4ms/step - loss: 1.1195 - acc: 0.5591 - val_loss: 1.1628 - val_acc: 0.5405\n",
      "Epoch 10/30\n",
      "213/213 [==============================] - 1s 4ms/step - loss: 1.1069 - acc: 0.5655 - val_loss: 1.1553 - val_acc: 0.5429\n",
      "Epoch 11/30\n",
      "213/213 [==============================] - 1s 4ms/step - loss: 1.0968 - acc: 0.5683 - val_loss: 1.1527 - val_acc: 0.5451\n",
      "Epoch 12/30\n",
      "213/213 [==============================] - 1s 4ms/step - loss: 1.0846 - acc: 0.5764 - val_loss: 1.1459 - val_acc: 0.5489\n",
      "Epoch 13/30\n",
      "213/213 [==============================] - 1s 4ms/step - loss: 1.0753 - acc: 0.5775 - val_loss: 1.1417 - val_acc: 0.5524\n",
      "Epoch 14/30\n",
      "213/213 [==============================] - 1s 4ms/step - loss: 1.0661 - acc: 0.5845 - val_loss: 1.1393 - val_acc: 0.5530\n",
      "Epoch 15/30\n",
      "213/213 [==============================] - 1s 4ms/step - loss: 1.0578 - acc: 0.5866 - val_loss: 1.1393 - val_acc: 0.5539\n",
      "Epoch 16/30\n",
      "213/213 [==============================] - 1s 4ms/step - loss: 1.0489 - acc: 0.5908 - val_loss: 1.1365 - val_acc: 0.5521\n",
      "Epoch 17/30\n",
      "213/213 [==============================] - 1s 4ms/step - loss: 1.0419 - acc: 0.5953 - val_loss: 1.1344 - val_acc: 0.5514\n",
      "Epoch 18/30\n",
      "213/213 [==============================] - 1s 4ms/step - loss: 1.0327 - acc: 0.5976 - val_loss: 1.1337 - val_acc: 0.5541\n",
      "Epoch 19/30\n",
      "213/213 [==============================] - 1s 4ms/step - loss: 1.0268 - acc: 0.5986 - val_loss: 1.1428 - val_acc: 0.5557\n",
      "Epoch 20/30\n",
      "213/213 [==============================] - 1s 4ms/step - loss: 1.0194 - acc: 0.6026 - val_loss: 1.1407 - val_acc: 0.5520\n",
      "Epoch 21/30\n",
      "213/213 [==============================] - 1s 4ms/step - loss: 1.0126 - acc: 0.6065 - val_loss: 1.1299 - val_acc: 0.5557\n",
      "Epoch 22/30\n",
      "213/213 [==============================] - 1s 4ms/step - loss: 1.0063 - acc: 0.6113 - val_loss: 1.1289 - val_acc: 0.5579\n",
      "Epoch 23/30\n",
      "213/213 [==============================] - 1s 4ms/step - loss: 0.9991 - acc: 0.6130 - val_loss: 1.1280 - val_acc: 0.5576\n",
      "Epoch 24/30\n",
      "213/213 [==============================] - 1s 4ms/step - loss: 0.9939 - acc: 0.6153 - val_loss: 1.1357 - val_acc: 0.5532\n",
      "Epoch 25/30\n",
      "213/213 [==============================] - 1s 4ms/step - loss: 0.9865 - acc: 0.6177 - val_loss: 1.1297 - val_acc: 0.5566\n",
      "Epoch 26/30\n",
      "213/213 [==============================] - 1s 4ms/step - loss: 0.9801 - acc: 0.6211 - val_loss: 1.1259 - val_acc: 0.5580\n",
      "Epoch 27/30\n",
      "213/213 [==============================] - 1s 4ms/step - loss: 0.9743 - acc: 0.6257 - val_loss: 1.1277 - val_acc: 0.5615\n",
      "Epoch 28/30\n",
      "213/213 [==============================] - 1s 4ms/step - loss: 0.9691 - acc: 0.6264 - val_loss: 1.1270 - val_acc: 0.5618\n",
      "Epoch 29/30\n",
      "213/213 [==============================] - 1s 5ms/step - loss: 0.9647 - acc: 0.6291 - val_loss: 1.1276 - val_acc: 0.5596\n",
      "Epoch 30/30\n",
      "213/213 [==============================] - 1s 4ms/step - loss: 0.9578 - acc: 0.6320 - val_loss: 1.1283 - val_acc: 0.5613\n"
     ]
    }
   ],
   "source": [
    "# Train the Model\n",
    "model.compile(optimizer=SGD(lr=1e-3, momentum=0.9),\n",
    "              loss='categorical_crossentropy',\n",
    "              metrics=['acc'])\n",
    "history = model.fit(X_train, y_train,\n",
    "                    epochs=30,\n",
    "                    batch_size=128,\n",
    "                    validation_split=0.2)"
   ]
  },
  {
   "cell_type": "code",
   "execution_count": 32,
   "metadata": {
    "scrolled": true
   },
   "outputs": [
    {
     "data": {
      "image/png": "[encoded data removed]",
      "text/plain": [
       "<Figure size 432x288 with 1 Axes>"
      ]
     },
     "metadata": {
      "needs_background": "light"
     },
     "output_type": "display_data"
    },
    {
     "data": {
      "image/png": "[encoded data removed]",
      "text/plain": [
       "<Figure size 432x288 with 1 Axes>"
      ]
     },
     "metadata": {
      "needs_background": "light"
     },
     "output_type": "display_data"
    }
   ],
   "source": [
    "# Plot the Training and Validation Accuracy & Loss Scores\n",
    "%matplotlib inline\n",
    "import matplotlib.pyplot as plt\n",
    "\n",
    "acc = history.history['acc']\n",
    "val_acc = history.history['val_acc']\n",
    "loss = history.history['loss']\n",
    "val_loss = history.history['val_loss']\n",
    "\n",
    "epochs = range(len(acc))\n",
    "\n",
    "plt.plot(epochs, acc, 'bo', label='Training acc')\n",
    "plt.plot(epochs, val_acc, 'b', label='Validation acc')\n",
    "plt.title('Training and validation accuracy')\n",
    "plt.legend()\n",
    "\n",
    "plt.figure()\n",
    "\n",
    "plt.plot(epochs, loss, 'bo', label='Training loss')\n",
    "plt.plot(epochs, val_loss, 'b', label='Validation loss')\n",
    "plt.title('Training and validation loss')\n",
    "plt.legend()\n",
    "\n",
    "plt.show()"
   ]
  },
  {
   "cell_type": "markdown",
   "metadata": {},
   "source": [
    "### Model #2.7 (Basic Model + LSTM + GLOVE.Twitter, batch size = 128, optimizer = SGD)"
   ]
  },
  {
   "cell_type": "code",
   "execution_count": 49,
   "metadata": {
    "scrolled": true
   },
   "outputs": [
    {
     "name": "stdout",
     "output_type": "stream",
     "text": [
      "Found 1193514 word vectors.\n"
     ]
    }
   ],
   "source": [
    "glove_dir = 'C:/Users/Darien Tan/OneDrive - Ngee Ann Polytechnic/Ngee Ann Poly/Year 2/DL/Assignment 2'\n",
    "\n",
    "embeddings_index = {}\n",
    "f = open(os.path.join(glove_dir, 'glove.twitter.27B.200d.txt'), encoding=\"utf8\")\n",
    "for line in f:\n",
    "    values = line.split()\n",
    "    word = values[0]\n",
    "    coefs = np.asarray(values[1:], dtype='float32')\n",
    "    embeddings_index[word] = coefs\n",
    "f.close()\n",
    "\n",
    "print('Found %s word vectors.' % len(embeddings_index))\n",
    "\n",
    "embedding_dim = 200\n",
    "\n",
    "embedding_matrix = np.zeros((max_words, embedding_dim))\n",
    "for word, i in word_index.items():\n",
    "    embedding_vector = embeddings_index.get(word)\n",
    "    if i < max_words:\n",
    "        if embedding_vector is not None:\n",
    "            # Words not found in embedding index will be all-zeros.\n",
    "            embedding_matrix[i] = embedding_vector"
   ]
  },
  {
   "cell_type": "code",
   "execution_count": 19,
   "metadata": {},
   "outputs": [
    {
     "name": "stdout",
     "output_type": "stream",
     "text": [
      "Model: \"sequential_4\"\n",
      "_________________________________________________________________\n",
      "Layer (type)                 Output Shape              Param #   \n",
      "=================================================================\n",
      "embedding_3 (Embedding)      (None, 34, 100)           10000000  \n",
      "_________________________________________________________________\n",
      "lstm_3 (LSTM)                (None, 34, 64)            42240     \n",
      "_________________________________________________________________\n",
      "flatten_3 (Flatten)          (None, 2176)              0         \n",
      "_________________________________________________________________\n",
      "dense_6 (Dense)              (None, 32)                69664     \n",
      "_________________________________________________________________\n",
      "dense_7 (Dense)              (None, 5)                 165       \n",
      "=================================================================\n",
      "Total params: 10,112,069\n",
      "Trainable params: 10,112,069\n",
      "Non-trainable params: 0\n",
      "_________________________________________________________________\n",
      "Model: \"sequential_4\"\n",
      "_________________________________________________________________\n",
      "Layer (type)                 Output Shape              Param #   \n",
      "=================================================================\n",
      "embedding_3 (Embedding)      (None, 34, 100)           10000000  \n",
      "_________________________________________________________________\n",
      "lstm_3 (LSTM)                (None, 34, 64)            42240     \n",
      "_________________________________________________________________\n",
      "flatten_3 (Flatten)          (None, 2176)              0         \n",
      "_________________________________________________________________\n",
      "dense_6 (Dense)              (None, 32)                69664     \n",
      "_________________________________________________________________\n",
      "dense_7 (Dense)              (None, 5)                 165       \n",
      "=================================================================\n",
      "Total params: 10,112,069\n",
      "Trainable params: 10,112,069\n",
      "Non-trainable params: 0\n",
      "_________________________________________________________________\n"
     ]
    }
   ],
   "source": [
    "# Build the Model\n",
    "\n",
    "model = Sequential()\n",
    "model.add(Embedding(max_words, embedding_dim, input_length=max_len))\n",
    "model.add(LSTM(64, return_sequences=True))\n",
    "model.add(Flatten())\n",
    "model.add(Dense(32, activation='relu'))\n",
    "model.add(Dense(5, activation='softmax'))\n",
    "model.summary()\n",
    "\n",
    "model.layers[0].set_weights([embedding_matrix])\n",
    "model.layers[0].trainable = True\n",
    "model.summary()"
   ]
  },
  {
   "cell_type": "code",
   "execution_count": 20,
   "metadata": {
    "scrolled": true
   },
   "outputs": [
    {
     "name": "stdout",
     "output_type": "stream",
     "text": [
      "Epoch 1/40\n",
      "213/213 [==============================] - 2s 11ms/step - loss: 1.4495 - acc: 0.4227 - val_loss: 1.4016 - val_acc: 0.4282\n",
      "Epoch 2/40\n",
      "213/213 [==============================] - 2s 9ms/step - loss: 1.3896 - acc: 0.4284 - val_loss: 1.3666 - val_acc: 0.4338\n",
      "Epoch 3/40\n",
      "213/213 [==============================] - 2s 10ms/step - loss: 1.3501 - acc: 0.4432 - val_loss: 1.3220 - val_acc: 0.4646\n",
      "Epoch 4/40\n",
      "213/213 [==============================] - 2s 10ms/step - loss: 1.3056 - acc: 0.4656 - val_loss: 1.2782 - val_acc: 0.4791\n",
      "Epoch 5/40\n",
      "213/213 [==============================] - 2s 9ms/step - loss: 1.2711 - acc: 0.4840 - val_loss: 1.2466 - val_acc: 0.4988\n",
      "Epoch 6/40\n",
      "213/213 [==============================] - 2s 10ms/step - loss: 1.2415 - acc: 0.4988 - val_loss: 1.2188 - val_acc: 0.5131\n",
      "Epoch 7/40\n",
      "213/213 [==============================] - 2s 10ms/step - loss: 1.2172 - acc: 0.5142 - val_loss: 1.1995 - val_acc: 0.5276\n",
      "Epoch 8/40\n",
      "213/213 [==============================] - 2s 10ms/step - loss: 1.1966 - acc: 0.5234 - val_loss: 1.1779 - val_acc: 0.5350\n",
      "Epoch 9/40\n",
      "213/213 [==============================] - 2s 10ms/step - loss: 1.1777 - acc: 0.5321 - val_loss: 1.1615 - val_acc: 0.5429\n",
      "Epoch 10/40\n",
      "213/213 [==============================] - 2s 10ms/step - loss: 1.1622 - acc: 0.5396 - val_loss: 1.1495 - val_acc: 0.5473\n",
      "Epoch 11/40\n",
      "213/213 [==============================] - 2s 9ms/step - loss: 1.1473 - acc: 0.5455 - val_loss: 1.1338 - val_acc: 0.5513\n",
      "Epoch 12/40\n",
      "213/213 [==============================] - 2s 10ms/step - loss: 1.1338 - acc: 0.5516 - val_loss: 1.1220 - val_acc: 0.5560\n",
      "Epoch 13/40\n",
      "213/213 [==============================] - 2s 10ms/step - loss: 1.1217 - acc: 0.5575 - val_loss: 1.1124 - val_acc: 0.5582\n",
      "Epoch 14/40\n",
      "213/213 [==============================] - 2s 10ms/step - loss: 1.1100 - acc: 0.5613 - val_loss: 1.1019 - val_acc: 0.5605\n",
      "Epoch 15/40\n",
      "213/213 [==============================] - 2s 10ms/step - loss: 1.0993 - acc: 0.5660 - val_loss: 1.0925 - val_acc: 0.5640\n",
      "Epoch 16/40\n",
      "213/213 [==============================] - 2s 10ms/step - loss: 1.0892 - acc: 0.5689 - val_loss: 1.0882 - val_acc: 0.5624\n",
      "Epoch 17/40\n",
      "213/213 [==============================] - 2s 10ms/step - loss: 1.0782 - acc: 0.5744 - val_loss: 1.0765 - val_acc: 0.5699\n",
      "Epoch 18/40\n",
      "213/213 [==============================] - 2s 10ms/step - loss: 1.0695 - acc: 0.5772 - val_loss: 1.0689 - val_acc: 0.5702\n",
      "Epoch 19/40\n",
      "213/213 [==============================] - 2s 10ms/step - loss: 1.0601 - acc: 0.5800 - val_loss: 1.0608 - val_acc: 0.5723\n",
      "Epoch 20/40\n",
      "213/213 [==============================] - 2s 9ms/step - loss: 1.0512 - acc: 0.5851 - val_loss: 1.0516 - val_acc: 0.5754\n",
      "Epoch 21/40\n",
      "213/213 [==============================] - 2s 10ms/step - loss: 1.0417 - acc: 0.5867 - val_loss: 1.0450 - val_acc: 0.5765\n",
      "Epoch 22/40\n",
      "213/213 [==============================] - 2s 10ms/step - loss: 1.0324 - acc: 0.5899 - val_loss: 1.0373 - val_acc: 0.5773\n",
      "Epoch 23/40\n",
      "213/213 [==============================] - 2s 10ms/step - loss: 1.0247 - acc: 0.5919 - val_loss: 1.0332 - val_acc: 0.5737\n",
      "Epoch 24/40\n",
      "213/213 [==============================] - 2s 10ms/step - loss: 1.0159 - acc: 0.5927 - val_loss: 1.0232 - val_acc: 0.5834\n",
      "Epoch 25/40\n",
      "213/213 [==============================] - 2s 9ms/step - loss: 1.0104 - acc: 0.5939 - val_loss: 1.0189 - val_acc: 0.5820\n",
      "Epoch 26/40\n",
      "213/213 [==============================] - 2s 10ms/step - loss: 0.9994 - acc: 0.5981 - val_loss: 1.0165 - val_acc: 0.5823\n",
      "Epoch 27/40\n",
      "213/213 [==============================] - 2s 10ms/step - loss: 0.9943 - acc: 0.5985 - val_loss: 1.0065 - val_acc: 0.5878\n",
      "Epoch 28/40\n",
      "213/213 [==============================] - 2s 10ms/step - loss: 0.9873 - acc: 0.6035 - val_loss: 1.0016 - val_acc: 0.5933\n",
      "Epoch 29/40\n",
      "213/213 [==============================] - 2s 10ms/step - loss: 0.9805 - acc: 0.6049 - val_loss: 0.9979 - val_acc: 0.5939\n",
      "Epoch 30/40\n",
      "213/213 [==============================] - 2s 10ms/step - loss: 0.9760 - acc: 0.6057 - val_loss: 1.0022 - val_acc: 0.5831\n",
      "Epoch 31/40\n",
      "213/213 [==============================] - 2s 10ms/step - loss: 0.9710 - acc: 0.6063 - val_loss: 0.9874 - val_acc: 0.5965\n",
      "Epoch 32/40\n",
      "213/213 [==============================] - 2s 10ms/step - loss: 0.9677 - acc: 0.6097 - val_loss: 0.9964 - val_acc: 0.5928\n",
      "Epoch 33/40\n",
      "213/213 [==============================] - 2s 10ms/step - loss: 0.9615 - acc: 0.6116 - val_loss: 0.9973 - val_acc: 0.5940\n",
      "Epoch 34/40\n",
      "213/213 [==============================] - 2s 10ms/step - loss: 0.9585 - acc: 0.6115 - val_loss: 0.9807 - val_acc: 0.5989\n",
      "Epoch 35/40\n",
      "213/213 [==============================] - 2s 9ms/step - loss: 0.9532 - acc: 0.6149 - val_loss: 0.9792 - val_acc: 0.5984\n",
      "Epoch 36/40\n",
      "213/213 [==============================] - 2s 9ms/step - loss: 0.9537 - acc: 0.6146 - val_loss: 0.9768 - val_acc: 0.5964\n",
      "Epoch 37/40\n",
      "213/213 [==============================] - 2s 10ms/step - loss: 0.9497 - acc: 0.6143 - val_loss: 0.9780 - val_acc: 0.5997\n",
      "Epoch 38/40\n",
      "213/213 [==============================] - 2s 10ms/step - loss: 0.9451 - acc: 0.6176 - val_loss: 0.9758 - val_acc: 0.6028\n",
      "Epoch 39/40\n",
      "213/213 [==============================] - 2s 10ms/step - loss: 0.9425 - acc: 0.6169 - val_loss: 0.9888 - val_acc: 0.6021\n",
      "Epoch 40/40\n",
      "213/213 [==============================] - 2s 9ms/step - loss: 0.9408 - acc: 0.6193 - val_loss: 0.9721 - val_acc: 0.5953\n"
     ]
    }
   ],
   "source": [
    "# Train the Model\n",
    "model.compile(optimizer=SGD(lr=1e-3, momentum=0.9),\n",
    "              loss='categorical_crossentropy',\n",
    "              metrics=['acc'])\n",
    "history = model.fit(X_train, y_train,\n",
    "                    epochs=40,\n",
    "                    batch_size=128,\n",
    "                    validation_split=0.2)"
   ]
  },
  {
   "cell_type": "code",
   "execution_count": 21,
   "metadata": {
    "scrolled": true
   },
   "outputs": [
    {
     "data": {
      "image/png": "[encoded data removed]",
      "text/plain": [
       "<Figure size 432x288 with 1 Axes>"
      ]
     },
     "metadata": {
      "needs_background": "light"
     },
     "output_type": "display_data"
    },
    {
     "data": {
      "image/png": "[encoded data removed]",
      "text/plain": [
       "<Figure size 432x288 with 1 Axes>"
      ]
     },
     "metadata": {
      "needs_background": "light"
     },
     "output_type": "display_data"
    }
   ],
   "source": [
    "# Plot the Training and Validation Accuracy & Loss Scores\n",
    "%matplotlib inline\n",
    "import matplotlib.pyplot as plt\n",
    "\n",
    "acc = history.history['acc']\n",
    "val_acc = history.history['val_acc']\n",
    "loss = history.history['loss']\n",
    "val_loss = history.history['val_loss']\n",
    "\n",
    "epochs = range(len(acc))\n",
    "\n",
    "plt.plot(epochs, acc, 'bo', label='Training acc')\n",
    "plt.plot(epochs, val_acc, 'b', label='Validation acc')\n",
    "plt.title('Training and validation accuracy')\n",
    "plt.legend()\n",
    "\n",
    "plt.figure()\n",
    "\n",
    "plt.plot(epochs, loss, 'bo', label='Training loss')\n",
    "plt.plot(epochs, val_loss, 'b', label='Validation loss')\n",
    "plt.title('Training and validation loss')\n",
    "plt.legend()\n",
    "\n",
    "plt.show()"
   ]
  },
  {
   "cell_type": "markdown",
   "metadata": {},
   "source": [
    "### Model #2.8 (Basic Model + LSTM + GLOVE.Twitter, batch size = 128, optimizer = SGD, regularizer implemented)"
   ]
  },
  {
   "cell_type": "code",
   "execution_count": 10,
   "metadata": {
    "scrolled": true
   },
   "outputs": [
    {
     "name": "stdout",
     "output_type": "stream",
     "text": [
      "Found 1193514 word vectors.\n"
     ]
    }
   ],
   "source": [
    "glove_dir = ''\n",
    "\n",
    "embeddings_index = {}\n",
    "f = open('glove.twitter.27B.100d.txt', encoding=\"utf8\")\n",
    "for line in f:\n",
    "    values = line.split()\n",
    "    word = values[0]\n",
    "    coefs = np.asarray(values[1:], dtype='float32')\n",
    "    embeddings_index[word] = coefs\n",
    "f.close()\n",
    "\n",
    "print('Found %s word vectors.' % len(embeddings_index))\n",
    "\n",
    "embedding_dim = 100\n",
    "\n",
    "embedding_matrix = np.zeros((max_words, embedding_dim))\n",
    "for word, i in word_index.items():\n",
    "    embedding_vector = embeddings_index.get(word)\n",
    "    if i < max_words:\n",
    "        if embedding_vector is not None:\n",
    "            # Words not found in embedding index will be all-zeros.\n",
    "            embedding_matrix[i] = embedding_vector"
   ]
  },
  {
   "cell_type": "code",
   "execution_count": 37,
   "metadata": {},
   "outputs": [
    {
     "name": "stdout",
     "output_type": "stream",
     "text": [
      "Model: \"sequential_6\"\n",
      "_________________________________________________________________\n",
      "Layer (type)                 Output Shape              Param #   \n",
      "=================================================================\n",
      "embedding_5 (Embedding)      (None, 34, 100)           10000000  \n",
      "_________________________________________________________________\n",
      "flatten_5 (Flatten)          (None, 3400)              0         \n",
      "_________________________________________________________________\n",
      "dense_10 (Dense)             (None, 200)               680200    \n",
      "_________________________________________________________________\n",
      "dropout_2 (Dropout)          (None, 200)               0         \n",
      "_________________________________________________________________\n",
      "dense_11 (Dense)             (None, 5)                 1005      \n",
      "=================================================================\n",
      "Total params: 10,681,205\n",
      "Trainable params: 10,681,205\n",
      "Non-trainable params: 0\n",
      "_________________________________________________________________\n",
      "Model: \"sequential_6\"\n",
      "_________________________________________________________________\n",
      "Layer (type)                 Output Shape              Param #   \n",
      "=================================================================\n",
      "embedding_5 (Embedding)      (None, 34, 100)           10000000  \n",
      "_________________________________________________________________\n",
      "flatten_5 (Flatten)          (None, 3400)              0         \n",
      "_________________________________________________________________\n",
      "dense_10 (Dense)             (None, 200)               680200    \n",
      "_________________________________________________________________\n",
      "dropout_2 (Dropout)          (None, 200)               0         \n",
      "_________________________________________________________________\n",
      "dense_11 (Dense)             (None, 5)                 1005      \n",
      "=================================================================\n",
      "Total params: 10,681,205\n",
      "Trainable params: 10,681,205\n",
      "Non-trainable params: 0\n",
      "_________________________________________________________________\n"
     ]
    }
   ],
   "source": [
    "# Build the Model\n",
    "from tensorflow.keras import regularizers\n",
    "\n",
    "model = Sequential()\n",
    "model.add(Embedding(max_words, embedding_dim, input_length=max_len))\n",
    "model.add(Flatten())\n",
    "model.add(Dense(200, activation='relu', kernel_regularizer=regularizers.l2(0.001)))\n",
    "model.add(Dropout(0.5))\n",
    "model.add(Dense(5, activation='softmax'))\n",
    "model.summary()\n",
    "\n",
    "model.layers[0].set_weights([embedding_matrix])\n",
    "model.layers[0].trainable = True\n",
    "model.summary()"
   ]
  },
  {
   "cell_type": "code",
   "execution_count": 38,
   "metadata": {
    "scrolled": true
   },
   "outputs": [
    {
     "name": "stdout",
     "output_type": "stream",
     "text": [
      "Epoch 1/200\n",
      "213/213 [==============================] - 1s 6ms/step - loss: 1.8380 - acc: 0.3877 - val_loss: 1.7357 - val_acc: 0.4368\n",
      "Epoch 2/200\n",
      "213/213 [==============================] - 1s 5ms/step - loss: 1.7368 - acc: 0.4430 - val_loss: 1.6789 - val_acc: 0.4661\n",
      "Epoch 3/200\n",
      "213/213 [==============================] - 1s 6ms/step - loss: 1.6866 - acc: 0.4643 - val_loss: 1.6382 - val_acc: 0.4974\n",
      "Epoch 4/200\n",
      "213/213 [==============================] - 1s 6ms/step - loss: 1.6436 - acc: 0.4843 - val_loss: 1.6029 - val_acc: 0.5079\n",
      "Epoch 5/200\n",
      "213/213 [==============================] - 1s 5ms/step - loss: 1.6117 - acc: 0.4990 - val_loss: 1.5786 - val_acc: 0.5140\n",
      "Epoch 6/200\n",
      "213/213 [==============================] - 1s 5ms/step - loss: 1.5888 - acc: 0.5079 - val_loss: 1.5585 - val_acc: 0.5273\n",
      "Epoch 7/200\n",
      "213/213 [==============================] - 1s 5ms/step - loss: 1.5623 - acc: 0.5168 - val_loss: 1.5404 - val_acc: 0.5322\n",
      "Epoch 8/200\n",
      "213/213 [==============================] - 1s 5ms/step - loss: 1.5418 - acc: 0.5264 - val_loss: 1.5267 - val_acc: 0.5329\n",
      "Epoch 9/200\n",
      "213/213 [==============================] - 1s 5ms/step - loss: 1.5235 - acc: 0.5322 - val_loss: 1.5123 - val_acc: 0.5366\n",
      "Epoch 10/200\n",
      "213/213 [==============================] - 1s 6ms/step - loss: 1.5086 - acc: 0.5405 - val_loss: 1.5003 - val_acc: 0.5435\n",
      "Epoch 11/200\n",
      "213/213 [==============================] - 1s 6ms/step - loss: 1.4902 - acc: 0.5436 - val_loss: 1.4887 - val_acc: 0.5498\n",
      "Epoch 12/200\n",
      "213/213 [==============================] - 1s 6ms/step - loss: 1.4753 - acc: 0.5487 - val_loss: 1.4798 - val_acc: 0.5504\n",
      "Epoch 13/200\n",
      "213/213 [==============================] - 1s 5ms/step - loss: 1.4602 - acc: 0.5570 - val_loss: 1.4692 - val_acc: 0.5558\n",
      "Epoch 14/200\n",
      "213/213 [==============================] - 1s 5ms/step - loss: 1.4451 - acc: 0.5596 - val_loss: 1.4593 - val_acc: 0.5563\n",
      "Epoch 15/200\n",
      "213/213 [==============================] - 1s 5ms/step - loss: 1.4327 - acc: 0.5686 - val_loss: 1.4501 - val_acc: 0.5604\n",
      "Epoch 16/200\n",
      "213/213 [==============================] - 1s 5ms/step - loss: 1.4173 - acc: 0.5743 - val_loss: 1.4421 - val_acc: 0.5613\n",
      "Epoch 17/200\n",
      "213/213 [==============================] - 1s 6ms/step - loss: 1.4063 - acc: 0.5770 - val_loss: 1.4336 - val_acc: 0.5645\n",
      "Epoch 18/200\n",
      "213/213 [==============================] - 1s 5ms/step - loss: 1.3870 - acc: 0.5827 - val_loss: 1.4261 - val_acc: 0.5679\n",
      "Epoch 19/200\n",
      "213/213 [==============================] - 1s 5ms/step - loss: 1.3770 - acc: 0.5864 - val_loss: 1.4188 - val_acc: 0.5682\n",
      "Epoch 20/200\n",
      "213/213 [==============================] - 1s 6ms/step - loss: 1.3666 - acc: 0.5911 - val_loss: 1.4106 - val_acc: 0.5671\n",
      "Epoch 21/200\n",
      "213/213 [==============================] - 1s 6ms/step - loss: 1.3522 - acc: 0.5950 - val_loss: 1.4025 - val_acc: 0.5731\n",
      "Epoch 22/200\n",
      "213/213 [==============================] - 1s 5ms/step - loss: 1.3454 - acc: 0.5946 - val_loss: 1.3959 - val_acc: 0.5720\n",
      "Epoch 23/200\n",
      "213/213 [==============================] - 1s 5ms/step - loss: 1.3298 - acc: 0.6036 - val_loss: 1.3900 - val_acc: 0.5731\n",
      "Epoch 24/200\n",
      "213/213 [==============================] - 1s 5ms/step - loss: 1.3204 - acc: 0.6073 - val_loss: 1.3818 - val_acc: 0.5773\n",
      "Epoch 25/200\n",
      "213/213 [==============================] - 1s 5ms/step - loss: 1.3066 - acc: 0.6112 - val_loss: 1.3751 - val_acc: 0.5754\n",
      "Epoch 26/200\n",
      "213/213 [==============================] - 1s 5ms/step - loss: 1.2963 - acc: 0.6131 - val_loss: 1.3701 - val_acc: 0.5776\n",
      "Epoch 27/200\n",
      "213/213 [==============================] - 1s 5ms/step - loss: 1.2865 - acc: 0.6219 - val_loss: 1.3658 - val_acc: 0.5758\n",
      "Epoch 28/200\n",
      "213/213 [==============================] - 1s 5ms/step - loss: 1.2721 - acc: 0.6277 - val_loss: 1.3586 - val_acc: 0.5799\n",
      "Epoch 29/200\n",
      "213/213 [==============================] - 1s 5ms/step - loss: 1.2619 - acc: 0.6284 - val_loss: 1.3528 - val_acc: 0.5815\n",
      "Epoch 30/200\n",
      "213/213 [==============================] - 1s 6ms/step - loss: 1.2501 - acc: 0.6303 - val_loss: 1.3476 - val_acc: 0.5850\n",
      "Epoch 31/200\n",
      "213/213 [==============================] - 1s 5ms/step - loss: 1.2439 - acc: 0.6349 - val_loss: 1.3415 - val_acc: 0.5831\n",
      "Epoch 32/200\n",
      "213/213 [==============================] - 1s 5ms/step - loss: 1.2327 - acc: 0.6375 - val_loss: 1.3375 - val_acc: 0.5861\n",
      "Epoch 33/200\n",
      "213/213 [==============================] - 1s 5ms/step - loss: 1.2191 - acc: 0.6446 - val_loss: 1.3309 - val_acc: 0.5859\n",
      "Epoch 34/200\n",
      "213/213 [==============================] - 1s 5ms/step - loss: 1.2127 - acc: 0.6458 - val_loss: 1.3262 - val_acc: 0.5921\n",
      "Epoch 35/200\n",
      "213/213 [==============================] - 1s 5ms/step - loss: 1.1987 - acc: 0.6518 - val_loss: 1.3224 - val_acc: 0.5895\n",
      "Epoch 36/200\n",
      "213/213 [==============================] - 1s 5ms/step - loss: 1.1891 - acc: 0.6554 - val_loss: 1.3182 - val_acc: 0.5917\n",
      "Epoch 37/200\n",
      "213/213 [==============================] - 1s 6ms/step - loss: 1.1791 - acc: 0.6566 - val_loss: 1.3150 - val_acc: 0.5897\n",
      "Epoch 38/200\n",
      "213/213 [==============================] - 1s 6ms/step - loss: 1.1720 - acc: 0.6603 - val_loss: 1.3081 - val_acc: 0.5933\n",
      "Epoch 39/200\n",
      "213/213 [==============================] - 1s 5ms/step - loss: 1.1615 - acc: 0.6618 - val_loss: 1.3041 - val_acc: 0.5950\n",
      "Epoch 40/200\n",
      "213/213 [==============================] - 1s 5ms/step - loss: 1.1501 - acc: 0.6658 - val_loss: 1.2996 - val_acc: 0.5944\n",
      "Epoch 41/200\n",
      "213/213 [==============================] - 1s 5ms/step - loss: 1.1451 - acc: 0.6705 - val_loss: 1.2970 - val_acc: 0.5950\n",
      "Epoch 42/200\n",
      "213/213 [==============================] - 1s 5ms/step - loss: 1.1334 - acc: 0.6722 - val_loss: 1.2933 - val_acc: 0.6006\n",
      "Epoch 43/200\n",
      "213/213 [==============================] - 1s 5ms/step - loss: 1.1222 - acc: 0.6785 - val_loss: 1.2871 - val_acc: 0.6016\n",
      "Epoch 44/200\n",
      "213/213 [==============================] - 1s 5ms/step - loss: 1.1150 - acc: 0.6823 - val_loss: 1.2832 - val_acc: 0.6016\n",
      "Epoch 45/200\n",
      "213/213 [==============================] - 1s 6ms/step - loss: 1.1076 - acc: 0.6832 - val_loss: 1.2826 - val_acc: 0.5984\n",
      "Epoch 46/200\n",
      "213/213 [==============================] - 1s 6ms/step - loss: 1.0998 - acc: 0.6851 - val_loss: 1.2779 - val_acc: 0.6040\n",
      "Epoch 47/200\n",
      "213/213 [==============================] - 1s 6ms/step - loss: 1.0826 - acc: 0.6921 - val_loss: 1.2749 - val_acc: 0.6036\n",
      "Epoch 48/200\n",
      "213/213 [==============================] - 1s 5ms/step - loss: 1.0791 - acc: 0.6926 - val_loss: 1.2732 - val_acc: 0.6061\n",
      "Epoch 49/200\n",
      "213/213 [==============================] - 1s 5ms/step - loss: 1.0715 - acc: 0.6966 - val_loss: 1.2674 - val_acc: 0.6061\n",
      "Epoch 50/200\n",
      "213/213 [==============================] - 1s 5ms/step - loss: 1.0610 - acc: 0.7012 - val_loss: 1.2663 - val_acc: 0.6068\n",
      "Epoch 51/200\n",
      "213/213 [==============================] - 1s 5ms/step - loss: 1.0532 - acc: 0.7042 - val_loss: 1.2631 - val_acc: 0.6044\n",
      "Epoch 52/200\n",
      "213/213 [==============================] - 1s 5ms/step - loss: 1.0450 - acc: 0.7038 - val_loss: 1.2593 - val_acc: 0.6078\n",
      "Epoch 53/200\n",
      "213/213 [==============================] - 1s 6ms/step - loss: 1.0362 - acc: 0.7079 - val_loss: 1.2557 - val_acc: 0.6075\n",
      "Epoch 54/200\n",
      "213/213 [==============================] - 1s 5ms/step - loss: 1.0278 - acc: 0.7142 - val_loss: 1.2531 - val_acc: 0.6112\n",
      "Epoch 55/200\n",
      "213/213 [==============================] - 1s 5ms/step - loss: 1.0193 - acc: 0.7152 - val_loss: 1.2497 - val_acc: 0.6066\n",
      "Epoch 56/200\n",
      "213/213 [==============================] - 1s 5ms/step - loss: 1.0137 - acc: 0.7177 - val_loss: 1.2492 - val_acc: 0.6096\n",
      "Epoch 57/200\n",
      "213/213 [==============================] - 1s 5ms/step - loss: 1.0055 - acc: 0.7204 - val_loss: 1.2444 - val_acc: 0.6144\n",
      "Epoch 58/200\n",
      "213/213 [==============================] - 1s 5ms/step - loss: 0.9988 - acc: 0.7241 - val_loss: 1.2433 - val_acc: 0.6138\n",
      "Epoch 59/200\n",
      "213/213 [==============================] - 1s 5ms/step - loss: 0.9882 - acc: 0.7269 - val_loss: 1.2421 - val_acc: 0.6099\n",
      "Epoch 60/200\n",
      "213/213 [==============================] - 1s 5ms/step - loss: 0.9813 - acc: 0.7337 - val_loss: 1.2346 - val_acc: 0.6169\n",
      "Epoch 61/200\n",
      "213/213 [==============================] - 1s 6ms/step - loss: 0.9727 - acc: 0.7306 - val_loss: 1.2337 - val_acc: 0.6168\n",
      "Epoch 62/200\n",
      "213/213 [==============================] - 1s 5ms/step - loss: 0.9665 - acc: 0.7374 - val_loss: 1.2330 - val_acc: 0.6210\n",
      "Epoch 63/200\n",
      "213/213 [==============================] - 1s 6ms/step - loss: 0.9581 - acc: 0.7381 - val_loss: 1.2289 - val_acc: 0.6185\n",
      "Epoch 64/200\n",
      "213/213 [==============================] - 1s 6ms/step - loss: 0.9516 - acc: 0.7432 - val_loss: 1.2286 - val_acc: 0.6193\n",
      "Epoch 65/200\n",
      "213/213 [==============================] - 1s 5ms/step - loss: 0.9456 - acc: 0.7450 - val_loss: 1.2255 - val_acc: 0.6166\n",
      "Epoch 66/200\n",
      "213/213 [==============================] - 1s 5ms/step - loss: 0.9348 - acc: 0.7504 - val_loss: 1.2239 - val_acc: 0.6169\n",
      "Epoch 67/200\n",
      "213/213 [==============================] - 1s 5ms/step - loss: 0.9306 - acc: 0.7501 - val_loss: 1.2259 - val_acc: 0.6202\n",
      "Epoch 68/200\n",
      "213/213 [==============================] - 1s 5ms/step - loss: 0.9226 - acc: 0.7519 - val_loss: 1.2210 - val_acc: 0.6216\n",
      "Epoch 69/200\n",
      "213/213 [==============================] - 1s 5ms/step - loss: 0.9144 - acc: 0.7558 - val_loss: 1.2193 - val_acc: 0.6212\n",
      "Epoch 70/200\n",
      "213/213 [==============================] - 1s 5ms/step - loss: 0.9116 - acc: 0.7547 - val_loss: 1.2153 - val_acc: 0.6218\n",
      "Epoch 71/200\n",
      "213/213 [==============================] - 1s 5ms/step - loss: 0.9043 - acc: 0.7595 - val_loss: 1.2119 - val_acc: 0.6266\n",
      "Epoch 72/200\n",
      "213/213 [==============================] - 1s 6ms/step - loss: 0.8931 - acc: 0.7641 - val_loss: 1.2130 - val_acc: 0.6247\n",
      "Epoch 73/200\n",
      "213/213 [==============================] - 1s 5ms/step - loss: 0.8898 - acc: 0.7654 - val_loss: 1.2134 - val_acc: 0.6235\n",
      "Epoch 74/200\n",
      "213/213 [==============================] - 1s 6ms/step - loss: 0.8829 - acc: 0.7678 - val_loss: 1.2096 - val_acc: 0.6244\n",
      "Epoch 75/200\n",
      "213/213 [==============================] - 1s 6ms/step - loss: 0.8790 - acc: 0.7686 - val_loss: 1.2058 - val_acc: 0.6257\n",
      "Epoch 76/200\n",
      "213/213 [==============================] - 1s 5ms/step - loss: 0.8706 - acc: 0.7718 - val_loss: 1.2050 - val_acc: 0.6288\n",
      "Epoch 77/200\n",
      "213/213 [==============================] - 1s 6ms/step - loss: 0.8615 - acc: 0.7759 - val_loss: 1.2031 - val_acc: 0.6262\n",
      "Epoch 78/200\n",
      "213/213 [==============================] - 1s 5ms/step - loss: 0.8559 - acc: 0.7799 - val_loss: 1.2007 - val_acc: 0.6300\n",
      "Epoch 79/200\n",
      "213/213 [==============================] - 1s 5ms/step - loss: 0.8496 - acc: 0.7787 - val_loss: 1.2002 - val_acc: 0.6293\n",
      "Epoch 80/200\n",
      "213/213 [==============================] - 1s 5ms/step - loss: 0.8469 - acc: 0.7817 - val_loss: 1.1986 - val_acc: 0.6296\n",
      "Epoch 81/200\n",
      "213/213 [==============================] - 1s 6ms/step - loss: 0.8408 - acc: 0.7847 - val_loss: 1.1970 - val_acc: 0.6300\n",
      "Epoch 82/200\n",
      "213/213 [==============================] - 1s 6ms/step - loss: 0.8324 - acc: 0.7878 - val_loss: 1.1985 - val_acc: 0.6309\n",
      "Epoch 83/200\n",
      "213/213 [==============================] - 1s 5ms/step - loss: 0.8254 - acc: 0.7882 - val_loss: 1.1977 - val_acc: 0.6313\n",
      "Epoch 84/200\n",
      "213/213 [==============================] - 1s 5ms/step - loss: 0.8189 - acc: 0.7921 - val_loss: 1.1942 - val_acc: 0.6348\n",
      "Epoch 85/200\n",
      "213/213 [==============================] - 1s 6ms/step - loss: 0.8158 - acc: 0.7922 - val_loss: 1.1919 - val_acc: 0.6323\n",
      "Epoch 86/200\n",
      "213/213 [==============================] - 1s 5ms/step - loss: 0.8096 - acc: 0.7947 - val_loss: 1.1882 - val_acc: 0.6338\n",
      "Epoch 87/200\n",
      "213/213 [==============================] - 1s 5ms/step - loss: 0.8063 - acc: 0.7946 - val_loss: 1.1890 - val_acc: 0.6321\n",
      "Epoch 88/200\n",
      "213/213 [==============================] - 1s 5ms/step - loss: 0.7983 - acc: 0.8004 - val_loss: 1.1897 - val_acc: 0.6357\n",
      "Epoch 89/200\n",
      "213/213 [==============================] - 1s 6ms/step - loss: 0.7933 - acc: 0.7978 - val_loss: 1.1955 - val_acc: 0.6312\n",
      "Epoch 90/200\n",
      "213/213 [==============================] - 1s 6ms/step - loss: 0.7893 - acc: 0.8058 - val_loss: 1.1845 - val_acc: 0.6348\n",
      "Epoch 91/200\n",
      "213/213 [==============================] - 1s 5ms/step - loss: 0.7756 - acc: 0.8077 - val_loss: 1.1865 - val_acc: 0.6370\n",
      "Epoch 92/200\n",
      "213/213 [==============================] - 1s 5ms/step - loss: 0.7732 - acc: 0.8086 - val_loss: 1.1864 - val_acc: 0.6372\n",
      "Epoch 93/200\n",
      "213/213 [==============================] - 1s 5ms/step - loss: 0.7691 - acc: 0.8111 - val_loss: 1.1860 - val_acc: 0.6379\n",
      "Epoch 94/200\n",
      "213/213 [==============================] - 1s 5ms/step - loss: 0.7674 - acc: 0.8109 - val_loss: 1.1795 - val_acc: 0.6431\n",
      "Epoch 95/200\n",
      "213/213 [==============================] - 1s 5ms/step - loss: 0.7599 - acc: 0.8159 - val_loss: 1.1806 - val_acc: 0.6387\n",
      "Epoch 96/200\n",
      "213/213 [==============================] - 1s 5ms/step - loss: 0.7560 - acc: 0.8160 - val_loss: 1.1801 - val_acc: 0.6413\n",
      "Epoch 97/200\n",
      "213/213 [==============================] - 1s 6ms/step - loss: 0.7521 - acc: 0.8163 - val_loss: 1.1766 - val_acc: 0.6428\n",
      "Epoch 98/200\n",
      "213/213 [==============================] - 1s 6ms/step - loss: 0.7436 - acc: 0.8200 - val_loss: 1.1763 - val_acc: 0.6412\n",
      "Epoch 99/200\n",
      "213/213 [==============================] - 1s 6ms/step - loss: 0.7445 - acc: 0.8171 - val_loss: 1.1735 - val_acc: 0.6394\n",
      "Epoch 100/200\n",
      "213/213 [==============================] - 1s 5ms/step - loss: 0.7322 - acc: 0.8249 - val_loss: 1.1739 - val_acc: 0.6410\n",
      "Epoch 101/200\n",
      "213/213 [==============================] - 1s 5ms/step - loss: 0.7307 - acc: 0.8257 - val_loss: 1.1759 - val_acc: 0.6422\n",
      "Epoch 102/200\n",
      "213/213 [==============================] - 1s 5ms/step - loss: 0.7227 - acc: 0.8303 - val_loss: 1.1761 - val_acc: 0.6448\n",
      "Epoch 103/200\n",
      "213/213 [==============================] - 1s 5ms/step - loss: 0.7202 - acc: 0.8335 - val_loss: 1.1714 - val_acc: 0.6410\n",
      "Epoch 104/200\n",
      "213/213 [==============================] - 1s 5ms/step - loss: 0.7123 - acc: 0.8312 - val_loss: 1.1786 - val_acc: 0.6457\n",
      "Epoch 105/200\n",
      "213/213 [==============================] - 1s 5ms/step - loss: 0.7090 - acc: 0.8329 - val_loss: 1.1731 - val_acc: 0.6417\n",
      "Epoch 106/200\n",
      "213/213 [==============================] - 1s 6ms/step - loss: 0.7054 - acc: 0.8363 - val_loss: 1.1692 - val_acc: 0.6435\n",
      "Epoch 107/200\n",
      "213/213 [==============================] - 1s 5ms/step - loss: 0.7028 - acc: 0.8366 - val_loss: 1.1666 - val_acc: 0.6448\n",
      "Epoch 108/200\n",
      "213/213 [==============================] - 1s 5ms/step - loss: 0.6937 - acc: 0.8389 - val_loss: 1.1673 - val_acc: 0.6456\n",
      "Epoch 109/200\n",
      "213/213 [==============================] - 1s 5ms/step - loss: 0.6951 - acc: 0.8372 - val_loss: 1.1635 - val_acc: 0.6437\n",
      "Epoch 110/200\n",
      "213/213 [==============================] - 1s 5ms/step - loss: 0.6876 - acc: 0.8394 - val_loss: 1.1693 - val_acc: 0.6460\n",
      "Epoch 111/200\n",
      "213/213 [==============================] - 1s 5ms/step - loss: 0.6826 - acc: 0.8441 - val_loss: 1.1676 - val_acc: 0.6476\n",
      "Epoch 112/200\n",
      "213/213 [==============================] - 1s 6ms/step - loss: 0.6790 - acc: 0.8437 - val_loss: 1.1720 - val_acc: 0.6450\n",
      "Epoch 113/200\n",
      "213/213 [==============================] - 1s 5ms/step - loss: 0.6742 - acc: 0.8468 - val_loss: 1.1692 - val_acc: 0.6467\n",
      "Epoch 114/200\n",
      "213/213 [==============================] - 1s 5ms/step - loss: 0.6744 - acc: 0.8449 - val_loss: 1.1628 - val_acc: 0.6454\n",
      "Epoch 115/200\n",
      "213/213 [==============================] - 1s 6ms/step - loss: 0.6675 - acc: 0.8492 - val_loss: 1.1620 - val_acc: 0.6484\n",
      "Epoch 116/200\n",
      "213/213 [==============================] - 1s 5ms/step - loss: 0.6617 - acc: 0.8497 - val_loss: 1.1611 - val_acc: 0.6476\n",
      "Epoch 117/200\n",
      "213/213 [==============================] - 1s 5ms/step - loss: 0.6585 - acc: 0.8533 - val_loss: 1.1655 - val_acc: 0.6484\n",
      "Epoch 118/200\n",
      "213/213 [==============================] - 1s 5ms/step - loss: 0.6563 - acc: 0.8518 - val_loss: 1.1663 - val_acc: 0.6485\n",
      "Epoch 119/200\n",
      "213/213 [==============================] - 1s 5ms/step - loss: 0.6510 - acc: 0.8536 - val_loss: 1.1659 - val_acc: 0.6454\n",
      "Epoch 120/200\n",
      "213/213 [==============================] - 1s 5ms/step - loss: 0.6480 - acc: 0.8537 - val_loss: 1.1598 - val_acc: 0.6473\n",
      "Epoch 121/200\n",
      "213/213 [==============================] - 1s 5ms/step - loss: 0.6410 - acc: 0.8570 - val_loss: 1.1621 - val_acc: 0.6484\n",
      "Epoch 122/200\n",
      "213/213 [==============================] - 1s 5ms/step - loss: 0.6415 - acc: 0.8567 - val_loss: 1.1617 - val_acc: 0.6479\n",
      "Epoch 123/200\n"
     ]
    },
    {
     "name": "stdout",
     "output_type": "stream",
     "text": [
      "213/213 [==============================] - 1s 6ms/step - loss: 0.6345 - acc: 0.8615 - val_loss: 1.1592 - val_acc: 0.6478\n",
      "Epoch 124/200\n",
      "213/213 [==============================] - 1s 5ms/step - loss: 0.6284 - acc: 0.8635 - val_loss: 1.1598 - val_acc: 0.6488\n",
      "Epoch 125/200\n",
      "213/213 [==============================] - 1s 5ms/step - loss: 0.6255 - acc: 0.8648 - val_loss: 1.1600 - val_acc: 0.6472\n",
      "Epoch 126/200\n",
      "213/213 [==============================] - 1s 5ms/step - loss: 0.6212 - acc: 0.8662 - val_loss: 1.1598 - val_acc: 0.6485\n",
      "Epoch 127/200\n",
      "213/213 [==============================] - 1s 5ms/step - loss: 0.6208 - acc: 0.8656 - val_loss: 1.1670 - val_acc: 0.6509\n",
      "Epoch 128/200\n",
      "213/213 [==============================] - 1s 5ms/step - loss: 0.6173 - acc: 0.8658 - val_loss: 1.1606 - val_acc: 0.6497\n",
      "Epoch 129/200\n",
      "213/213 [==============================] - 1s 5ms/step - loss: 0.6101 - acc: 0.8670 - val_loss: 1.1617 - val_acc: 0.6484\n",
      "Epoch 130/200\n",
      "213/213 [==============================] - 1s 5ms/step - loss: 0.6101 - acc: 0.8688 - val_loss: 1.1559 - val_acc: 0.6481\n",
      "Epoch 131/200\n",
      "213/213 [==============================] - 1s 6ms/step - loss: 0.6041 - acc: 0.8704 - val_loss: 1.1584 - val_acc: 0.6467\n",
      "Epoch 132/200\n",
      "213/213 [==============================] - 1s 6ms/step - loss: 0.6021 - acc: 0.8714 - val_loss: 1.1530 - val_acc: 0.6466\n",
      "Epoch 133/200\n",
      "213/213 [==============================] - 1s 6ms/step - loss: 0.5989 - acc: 0.8722 - val_loss: 1.1591 - val_acc: 0.6494\n",
      "Epoch 134/200\n",
      "213/213 [==============================] - 1s 6ms/step - loss: 0.5975 - acc: 0.8706 - val_loss: 1.1563 - val_acc: 0.6460\n",
      "Epoch 135/200\n",
      "213/213 [==============================] - 1s 5ms/step - loss: 0.5915 - acc: 0.8737 - val_loss: 1.1606 - val_acc: 0.6481\n",
      "Epoch 136/200\n",
      "213/213 [==============================] - 1s 5ms/step - loss: 0.5911 - acc: 0.8765 - val_loss: 1.1573 - val_acc: 0.6484\n",
      "Epoch 137/200\n",
      "213/213 [==============================] - 1s 6ms/step - loss: 0.5858 - acc: 0.8760 - val_loss: 1.1623 - val_acc: 0.6466\n",
      "Epoch 138/200\n",
      "213/213 [==============================] - 1s 5ms/step - loss: 0.5827 - acc: 0.8773 - val_loss: 1.1556 - val_acc: 0.6486\n",
      "Epoch 139/200\n",
      "213/213 [==============================] - 1s 5ms/step - loss: 0.5807 - acc: 0.8784 - val_loss: 1.1565 - val_acc: 0.6456\n",
      "Epoch 140/200\n",
      "213/213 [==============================] - 1s 5ms/step - loss: 0.5764 - acc: 0.8791 - val_loss: 1.1564 - val_acc: 0.6479\n",
      "Epoch 141/200\n",
      "213/213 [==============================] - 1s 5ms/step - loss: 0.5713 - acc: 0.8822 - val_loss: 1.1519 - val_acc: 0.6492\n",
      "Epoch 142/200\n",
      "213/213 [==============================] - 1s 6ms/step - loss: 0.5731 - acc: 0.8780 - val_loss: 1.1547 - val_acc: 0.6488\n",
      "Epoch 143/200\n",
      "213/213 [==============================] - 1s 5ms/step - loss: 0.5701 - acc: 0.8811 - val_loss: 1.1516 - val_acc: 0.6485\n",
      "Epoch 144/200\n",
      "213/213 [==============================] - 1s 5ms/step - loss: 0.5653 - acc: 0.8827 - val_loss: 1.1584 - val_acc: 0.6529\n",
      "Epoch 145/200\n",
      "213/213 [==============================] - 1s 5ms/step - loss: 0.5628 - acc: 0.8857 - val_loss: 1.1556 - val_acc: 0.6492\n",
      "Epoch 146/200\n",
      "213/213 [==============================] - 1s 5ms/step - loss: 0.5579 - acc: 0.8855 - val_loss: 1.1633 - val_acc: 0.6539\n",
      "Epoch 147/200\n",
      "213/213 [==============================] - 1s 5ms/step - loss: 0.5562 - acc: 0.8880 - val_loss: 1.1509 - val_acc: 0.6513\n",
      "Epoch 148/200\n",
      "213/213 [==============================] - 1s 5ms/step - loss: 0.5538 - acc: 0.8865 - val_loss: 1.1501 - val_acc: 0.6497\n",
      "Epoch 149/200\n",
      "213/213 [==============================] - 1s 6ms/step - loss: 0.5524 - acc: 0.8887 - val_loss: 1.1579 - val_acc: 0.6529\n",
      "Epoch 150/200\n",
      "213/213 [==============================] - 1s 6ms/step - loss: 0.5471 - acc: 0.8890 - val_loss: 1.1540 - val_acc: 0.6554\n",
      "Epoch 151/200\n",
      "213/213 [==============================] - 1s 5ms/step - loss: 0.5488 - acc: 0.8882 - val_loss: 1.1500 - val_acc: 0.6525\n",
      "Epoch 152/200\n",
      "213/213 [==============================] - 1s 5ms/step - loss: 0.5417 - acc: 0.8916 - val_loss: 1.1531 - val_acc: 0.6535\n",
      "Epoch 153/200\n",
      "213/213 [==============================] - 1s 5ms/step - loss: 0.5350 - acc: 0.8952 - val_loss: 1.1598 - val_acc: 0.6519\n",
      "Epoch 154/200\n",
      "213/213 [==============================] - 1s 5ms/step - loss: 0.5388 - acc: 0.8932 - val_loss: 1.1568 - val_acc: 0.6516\n",
      "Epoch 155/200\n",
      "213/213 [==============================] - 1s 5ms/step - loss: 0.5367 - acc: 0.8940 - val_loss: 1.1670 - val_acc: 0.6494\n",
      "Epoch 156/200\n",
      "213/213 [==============================] - 1s 5ms/step - loss: 0.5315 - acc: 0.8939 - val_loss: 1.1584 - val_acc: 0.6553\n",
      "Epoch 157/200\n",
      "213/213 [==============================] - 1s 6ms/step - loss: 0.5288 - acc: 0.8951 - val_loss: 1.1552 - val_acc: 0.6557\n",
      "Epoch 158/200\n",
      "213/213 [==============================] - 1s 5ms/step - loss: 0.5244 - acc: 0.8965 - val_loss: 1.1586 - val_acc: 0.6526\n",
      "Epoch 159/200\n",
      "213/213 [==============================] - 1s 6ms/step - loss: 0.5217 - acc: 0.8989 - val_loss: 1.1520 - val_acc: 0.6523\n",
      "Epoch 160/200\n",
      "213/213 [==============================] - 1s 6ms/step - loss: 0.5207 - acc: 0.8982 - val_loss: 1.1490 - val_acc: 0.6529\n",
      "Epoch 161/200\n",
      "213/213 [==============================] - 1s 5ms/step - loss: 0.5187 - acc: 0.8980 - val_loss: 1.1544 - val_acc: 0.6545\n",
      "Epoch 162/200\n",
      "213/213 [==============================] - 1s 5ms/step - loss: 0.5150 - acc: 0.9023 - val_loss: 1.1568 - val_acc: 0.6536\n",
      "Epoch 163/200\n",
      "213/213 [==============================] - 1s 5ms/step - loss: 0.5123 - acc: 0.9022 - val_loss: 1.1556 - val_acc: 0.6572\n",
      "Epoch 164/200\n",
      "213/213 [==============================] - 1s 5ms/step - loss: 0.5124 - acc: 0.8999 - val_loss: 1.1524 - val_acc: 0.6541\n",
      "Epoch 165/200\n",
      "213/213 [==============================] - 1s 6ms/step - loss: 0.5069 - acc: 0.9026 - val_loss: 1.1492 - val_acc: 0.6538\n",
      "Epoch 166/200\n",
      "213/213 [==============================] - 1s 5ms/step - loss: 0.5072 - acc: 0.9023 - val_loss: 1.1526 - val_acc: 0.6513\n",
      "Epoch 167/200\n",
      "213/213 [==============================] - 1s 6ms/step - loss: 0.5026 - acc: 0.9049 - val_loss: 1.1610 - val_acc: 0.6548\n",
      "Epoch 168/200\n",
      "213/213 [==============================] - 1s 6ms/step - loss: 0.5041 - acc: 0.9030 - val_loss: 1.1571 - val_acc: 0.6563\n",
      "Epoch 169/200\n",
      "213/213 [==============================] - 1s 5ms/step - loss: 0.5023 - acc: 0.9033 - val_loss: 1.1586 - val_acc: 0.6533\n",
      "Epoch 170/200\n",
      "213/213 [==============================] - 1s 5ms/step - loss: 0.4994 - acc: 0.9058 - val_loss: 1.1486 - val_acc: 0.6545\n",
      "Epoch 171/200\n",
      "213/213 [==============================] - 1s 5ms/step - loss: 0.5005 - acc: 0.9057 - val_loss: 1.1521 - val_acc: 0.6598\n",
      "Epoch 172/200\n",
      "213/213 [==============================] - 1s 5ms/step - loss: 0.4962 - acc: 0.9061 - val_loss: 1.1476 - val_acc: 0.6558\n",
      "Epoch 173/200\n",
      "213/213 [==============================] - 1s 5ms/step - loss: 0.4936 - acc: 0.9065 - val_loss: 1.1552 - val_acc: 0.6560\n",
      "Epoch 174/200\n",
      "213/213 [==============================] - 1s 6ms/step - loss: 0.4902 - acc: 0.9076 - val_loss: 1.1534 - val_acc: 0.6550\n",
      "Epoch 175/200\n",
      "213/213 [==============================] - 1s 6ms/step - loss: 0.4837 - acc: 0.9102 - val_loss: 1.1569 - val_acc: 0.6583\n",
      "Epoch 176/200\n",
      "213/213 [==============================] - 1s 6ms/step - loss: 0.4844 - acc: 0.9123 - val_loss: 1.1458 - val_acc: 0.6566\n",
      "Epoch 177/200\n",
      "213/213 [==============================] - 1s 6ms/step - loss: 0.4813 - acc: 0.9127 - val_loss: 1.1553 - val_acc: 0.6557\n",
      "Epoch 178/200\n",
      "213/213 [==============================] - 1s 6ms/step - loss: 0.4798 - acc: 0.9112 - val_loss: 1.1545 - val_acc: 0.6551\n",
      "Epoch 179/200\n",
      "213/213 [==============================] - 1s 5ms/step - loss: 0.4766 - acc: 0.9112 - val_loss: 1.1500 - val_acc: 0.6560\n",
      "Epoch 180/200\n",
      "213/213 [==============================] - 1s 5ms/step - loss: 0.4758 - acc: 0.9117 - val_loss: 1.1550 - val_acc: 0.6539\n",
      "Epoch 181/200\n",
      "213/213 [==============================] - 1s 5ms/step - loss: 0.4773 - acc: 0.9121 - val_loss: 1.1563 - val_acc: 0.6572\n",
      "Epoch 182/200\n",
      "213/213 [==============================] - 1s 5ms/step - loss: 0.4730 - acc: 0.9155 - val_loss: 1.1494 - val_acc: 0.6529\n",
      "Epoch 183/200\n",
      "213/213 [==============================] - 1s 5ms/step - loss: 0.4670 - acc: 0.9147 - val_loss: 1.1558 - val_acc: 0.6601\n"
     ]
    },
    {
     "name": "stdout",
     "output_type": "stream",
     "text": [
      "Epoch 184/200\n",
      "213/213 [==============================] - 1s 6ms/step - loss: 0.4669 - acc: 0.9165 - val_loss: 1.1581 - val_acc: 0.6553\n",
      "Epoch 185/200\n",
      "213/213 [==============================] - 1s 6ms/step - loss: 0.4663 - acc: 0.9153 - val_loss: 1.1489 - val_acc: 0.6541\n",
      "Epoch 186/200\n",
      "213/213 [==============================] - 1s 5ms/step - loss: 0.4654 - acc: 0.9172 - val_loss: 1.1572 - val_acc: 0.6538\n",
      "Epoch 187/200\n",
      "213/213 [==============================] - 1s 5ms/step - loss: 0.4644 - acc: 0.9146 - val_loss: 1.1649 - val_acc: 0.6589\n",
      "Epoch 188/200\n",
      "213/213 [==============================] - 1s 5ms/step - loss: 0.4622 - acc: 0.9175 - val_loss: 1.1534 - val_acc: 0.6554\n",
      "Epoch 189/200\n",
      "213/213 [==============================] - 1s 6ms/step - loss: 0.4574 - acc: 0.9195 - val_loss: 1.1581 - val_acc: 0.6541\n",
      "Epoch 190/200\n",
      "213/213 [==============================] - 1s 5ms/step - loss: 0.4576 - acc: 0.9189 - val_loss: 1.1580 - val_acc: 0.6542\n",
      "Epoch 191/200\n",
      "213/213 [==============================] - 1s 6ms/step - loss: 0.4570 - acc: 0.9191 - val_loss: 1.1550 - val_acc: 0.6558\n",
      "Epoch 192/200\n",
      "213/213 [==============================] - 1s 6ms/step - loss: 0.4516 - acc: 0.9205 - val_loss: 1.1613 - val_acc: 0.6573\n",
      "Epoch 193/200\n",
      "213/213 [==============================] - 1s 5ms/step - loss: 0.4510 - acc: 0.9221 - val_loss: 1.1494 - val_acc: 0.6560\n",
      "Epoch 194/200\n",
      "213/213 [==============================] - 1s 5ms/step - loss: 0.4487 - acc: 0.9235 - val_loss: 1.1545 - val_acc: 0.6579\n",
      "Epoch 195/200\n",
      "213/213 [==============================] - 1s 5ms/step - loss: 0.4474 - acc: 0.9219 - val_loss: 1.1625 - val_acc: 0.6567\n",
      "Epoch 196/200\n",
      "213/213 [==============================] - 1s 5ms/step - loss: 0.4450 - acc: 0.9219 - val_loss: 1.1677 - val_acc: 0.6575\n",
      "Epoch 197/200\n",
      "213/213 [==============================] - 1s 5ms/step - loss: 0.4473 - acc: 0.9202 - val_loss: 1.1611 - val_acc: 0.6563\n",
      "Epoch 198/200\n",
      "213/213 [==============================] - 1s 5ms/step - loss: 0.4443 - acc: 0.9229 - val_loss: 1.1587 - val_acc: 0.6564\n",
      "Epoch 199/200\n",
      "213/213 [==============================] - 1s 6ms/step - loss: 0.4410 - acc: 0.9252 - val_loss: 1.1651 - val_acc: 0.6548\n",
      "Epoch 200/200\n",
      "213/213 [==============================] - 1s 5ms/step - loss: 0.4425 - acc: 0.9231 - val_loss: 1.1567 - val_acc: 0.6573\n"
     ]
    }
   ],
   "source": [
    "# Train the Model\n",
    "model.compile(optimizer=SGD(lr=1e-3, momentum=0.9),\n",
    "              loss='categorical_crossentropy',\n",
    "              metrics=['acc'])\n",
    "history = model.fit(X_train, y_train,\n",
    "                    epochs=200,\n",
    "                    batch_size=128,\n",
    "                    validation_split=0.2)"
   ]
  },
  {
   "cell_type": "code",
   "execution_count": 39,
   "metadata": {
    "scrolled": true
   },
   "outputs": [
    {
     "data": {
      "image/png": "[encoded data removed]",
      "text/plain": [
       "<Figure size 432x288 with 1 Axes>"
      ]
     },
     "metadata": {
      "needs_background": "light"
     },
     "output_type": "display_data"
    },
    {
     "data": {
      "image/png": "[encoded data removed]",
      "text/plain": [
       "<Figure size 432x288 with 1 Axes>"
      ]
     },
     "metadata": {
      "needs_background": "light"
     },
     "output_type": "display_data"
    }
   ],
   "source": [
    "# Plot the Training and Validation Accuracy & Loss Scores\n",
    "%matplotlib inline\n",
    "import matplotlib.pyplot as plt\n",
    "\n",
    "acc = history.history['acc']\n",
    "val_acc = history.history['val_acc']\n",
    "loss = history.history['loss']\n",
    "val_loss = history.history['val_loss']\n",
    "\n",
    "epochs = range(len(acc))\n",
    "\n",
    "plt.plot(epochs, acc, 'bo', label='Training acc')\n",
    "plt.plot(epochs, val_acc, 'b', label='Validation acc')\n",
    "plt.title('Training and validation accuracy')\n",
    "plt.legend()\n",
    "\n",
    "plt.figure()\n",
    "\n",
    "plt.plot(epochs, loss, 'bo', label='Training loss')\n",
    "plt.plot(epochs, val_loss, 'b', label='Validation loss')\n",
    "plt.title('Training and validation loss')\n",
    "plt.legend()\n",
    "\n",
    "plt.show()"
   ]
  },
  {
   "cell_type": "markdown",
   "metadata": {},
   "source": [
    "### Model #2.9 (Basic Model + LSTM + GLOVE.Twitter, batch size = 128, optimizer = SGD, regularizer implemented)"
   ]
  },
  {
   "cell_type": "code",
   "execution_count": 18,
   "metadata": {
    "scrolled": true
   },
   "outputs": [
    {
     "name": "stdout",
     "output_type": "stream",
     "text": [
      "Found 1193514 word vectors.\n"
     ]
    }
   ],
   "source": [
    "glove_dir = ''\n",
    "\n",
    "embeddings_index = {}\n",
    "f = open('glove.twitter.27B.100d.txt', encoding=\"utf8\")\n",
    "for line in f:\n",
    "    values = line.split()\n",
    "    word = values[0]\n",
    "    coefs = np.asarray(values[1:], dtype='float32')\n",
    "    embeddings_index[word] = coefs\n",
    "f.close()\n",
    "\n",
    "print('Found %s word vectors.' % len(embeddings_index))\n",
    "\n",
    "embedding_dim = 100\n",
    "\n",
    "embedding_matrix = np.zeros((max_words, embedding_dim))\n",
    "for word, i in word_index.items():\n",
    "    embedding_vector = embeddings_index.get(word)\n",
    "    if i < max_words:\n",
    "        if embedding_vector is not None:\n",
    "            # Words not found in embedding index will be all-zeros.\n",
    "            embedding_matrix[i] = embedding_vector"
   ]
  },
  {
   "cell_type": "code",
   "execution_count": 45,
   "metadata": {},
   "outputs": [
    {
     "name": "stdout",
     "output_type": "stream",
     "text": [
      "Model: \"sequential_9\"\n",
      "_________________________________________________________________\n",
      "Layer (type)                 Output Shape              Param #   \n",
      "=================================================================\n",
      "embedding_8 (Embedding)      (None, 34, 100)           10000000  \n",
      "_________________________________________________________________\n",
      "lstm_6 (LSTM)                (None, 34, 1024)          4608000   \n",
      "_________________________________________________________________\n",
      "flatten_8 (Flatten)          (None, 34816)             0         \n",
      "_________________________________________________________________\n",
      "dense_16 (Dense)             (None, 200)               6963400   \n",
      "_________________________________________________________________\n",
      "dense_17 (Dense)             (None, 5)                 1005      \n",
      "=================================================================\n",
      "Total params: 21,572,405\n",
      "Trainable params: 21,572,405\n",
      "Non-trainable params: 0\n",
      "_________________________________________________________________\n",
      "Model: \"sequential_9\"\n",
      "_________________________________________________________________\n",
      "Layer (type)                 Output Shape              Param #   \n",
      "=================================================================\n",
      "embedding_8 (Embedding)      (None, 34, 100)           10000000  \n",
      "_________________________________________________________________\n",
      "lstm_6 (LSTM)                (None, 34, 1024)          4608000   \n",
      "_________________________________________________________________\n",
      "flatten_8 (Flatten)          (None, 34816)             0         \n",
      "_________________________________________________________________\n",
      "dense_16 (Dense)             (None, 200)               6963400   \n",
      "_________________________________________________________________\n",
      "dense_17 (Dense)             (None, 5)                 1005      \n",
      "=================================================================\n",
      "Total params: 21,572,405\n",
      "Trainable params: 21,572,405\n",
      "Non-trainable params: 0\n",
      "_________________________________________________________________\n"
     ]
    }
   ],
   "source": [
    "# Build the Model\n",
    "from tensorflow.keras import regularizers\n",
    "\n",
    "model = Sequential()\n",
    "model.add(Embedding(max_words, embedding_dim, input_length=max_len))\n",
    "model.add(LSTM(1024, return_sequences=True))\n",
    "model.add(Flatten())\n",
    "model.add(Dense(200, activation='relu', kernel_regularizer=regularizers.l2(0.001)))\n",
    "model.add(Dense(5, activation='softmax'))\n",
    "model.summary()\n",
    "\n",
    "model.layers[0].set_weights([embedding_matrix])\n",
    "model.layers[0].trainable = True\n",
    "model.summary()"
   ]
  },
  {
   "cell_type": "code",
   "execution_count": 46,
   "metadata": {
    "scrolled": true
   },
   "outputs": [
    {
     "name": "stdout",
     "output_type": "stream",
     "text": [
      "Epoch 1/30\n",
      "213/213 [==============================] - 5s 23ms/step - loss: 1.8182 - acc: 0.4254 - val_loss: 1.7574 - val_acc: 0.4358\n",
      "Epoch 2/30\n",
      "213/213 [==============================] - 5s 21ms/step - loss: 1.7187 - acc: 0.4513 - val_loss: 1.6737 - val_acc: 0.4631\n",
      "Epoch 3/30\n",
      "213/213 [==============================] - 5s 21ms/step - loss: 1.6431 - acc: 0.4902 - val_loss: 1.6160 - val_acc: 0.5119\n",
      "Epoch 4/30\n",
      "213/213 [==============================] - 5s 21ms/step - loss: 1.5961 - acc: 0.5169 - val_loss: 1.5725 - val_acc: 0.5338\n",
      "Epoch 5/30\n",
      "213/213 [==============================] - 5s 21ms/step - loss: 1.5661 - acc: 0.5294 - val_loss: 1.5549 - val_acc: 0.5423\n",
      "Epoch 6/30\n",
      "213/213 [==============================] - 5s 22ms/step - loss: 1.5454 - acc: 0.5360 - val_loss: 1.5274 - val_acc: 0.5449\n",
      "Epoch 7/30\n",
      "213/213 [==============================] - 5s 21ms/step - loss: 1.5273 - acc: 0.5430 - val_loss: 1.5179 - val_acc: 0.5455\n",
      "Epoch 8/30\n",
      "213/213 [==============================] - 5s 22ms/step - loss: 1.5117 - acc: 0.5480 - val_loss: 1.4963 - val_acc: 0.5554\n",
      "Epoch 9/30\n",
      "213/213 [==============================] - 5s 22ms/step - loss: 1.4982 - acc: 0.5541 - val_loss: 1.4876 - val_acc: 0.5576\n",
      "Epoch 10/30\n",
      "213/213 [==============================] - 5s 22ms/step - loss: 1.4837 - acc: 0.5571 - val_loss: 1.4766 - val_acc: 0.5589\n",
      "Epoch 11/30\n",
      "213/213 [==============================] - 5s 22ms/step - loss: 1.4728 - acc: 0.5624 - val_loss: 1.4803 - val_acc: 0.5520\n",
      "Epoch 12/30\n",
      "213/213 [==============================] - 5s 22ms/step - loss: 1.4616 - acc: 0.5650 - val_loss: 1.4543 - val_acc: 0.5655\n",
      "Epoch 13/30\n",
      "213/213 [==============================] - 5s 22ms/step - loss: 1.4503 - acc: 0.5672 - val_loss: 1.4525 - val_acc: 0.5610\n",
      "Epoch 14/30\n",
      "213/213 [==============================] - 5s 22ms/step - loss: 1.4417 - acc: 0.5704 - val_loss: 1.4521 - val_acc: 0.5627\n",
      "Epoch 15/30\n",
      "213/213 [==============================] - 5s 22ms/step - loss: 1.4281 - acc: 0.5737 - val_loss: 1.4265 - val_acc: 0.5712\n",
      "Epoch 16/30\n",
      "213/213 [==============================] - 5s 22ms/step - loss: 1.4205 - acc: 0.5737 - val_loss: 1.4236 - val_acc: 0.5748\n",
      "Epoch 17/30\n",
      "213/213 [==============================] - 5s 21ms/step - loss: 1.4110 - acc: 0.5807 - val_loss: 1.4111 - val_acc: 0.5765\n",
      "Epoch 18/30\n",
      "213/213 [==============================] - 5s 22ms/step - loss: 1.4014 - acc: 0.5816 - val_loss: 1.4136 - val_acc: 0.5749\n",
      "Epoch 19/30\n",
      "213/213 [==============================] - 5s 22ms/step - loss: 1.3955 - acc: 0.5830 - val_loss: 1.4312 - val_acc: 0.5657\n",
      "Epoch 20/30\n",
      "213/213 [==============================] - 5s 22ms/step - loss: 1.3852 - acc: 0.5847 - val_loss: 1.3916 - val_acc: 0.5796\n",
      "Epoch 21/30\n",
      "213/213 [==============================] - 5s 22ms/step - loss: 1.3769 - acc: 0.5864 - val_loss: 1.3828 - val_acc: 0.5821\n",
      "Epoch 22/30\n",
      "213/213 [==============================] - 5s 22ms/step - loss: 1.3714 - acc: 0.5873 - val_loss: 1.3798 - val_acc: 0.5801\n",
      "Epoch 23/30\n",
      "213/213 [==============================] - 5s 22ms/step - loss: 1.3639 - acc: 0.5898 - val_loss: 1.3739 - val_acc: 0.5833\n",
      "Epoch 24/30\n",
      "213/213 [==============================] - 5s 22ms/step - loss: 1.3529 - acc: 0.5935 - val_loss: 1.3666 - val_acc: 0.5855\n",
      "Epoch 25/30\n",
      "213/213 [==============================] - 5s 22ms/step - loss: 1.3468 - acc: 0.5958 - val_loss: 1.3604 - val_acc: 0.5865\n",
      "Epoch 26/30\n",
      "213/213 [==============================] - 5s 22ms/step - loss: 1.3414 - acc: 0.5958 - val_loss: 1.3538 - val_acc: 0.5881\n",
      "Epoch 27/30\n",
      "213/213 [==============================] - 5s 22ms/step - loss: 1.3336 - acc: 0.5971 - val_loss: 1.3473 - val_acc: 0.5889\n",
      "Epoch 28/30\n",
      "213/213 [==============================] - 5s 22ms/step - loss: 1.3278 - acc: 0.5985 - val_loss: 1.3497 - val_acc: 0.5862\n",
      "Epoch 29/30\n",
      "213/213 [==============================] - 5s 22ms/step - loss: 1.3219 - acc: 0.5986 - val_loss: 1.3347 - val_acc: 0.5911\n",
      "Epoch 30/30\n",
      "213/213 [==============================] - 5s 22ms/step - loss: 1.3134 - acc: 0.6009 - val_loss: 1.3337 - val_acc: 0.5874\n"
     ]
    }
   ],
   "source": [
    "# Train the Model\n",
    "model.compile(optimizer=SGD(lr=1e-3, momentum=0.9),\n",
    "              loss='categorical_crossentropy',\n",
    "              metrics=['acc'])\n",
    "history = model.fit(X_train, y_train,\n",
    "                    epochs=30,\n",
    "                    batch_size=128,\n",
    "                    validation_split=0.2)"
   ]
  },
  {
   "cell_type": "code",
   "execution_count": 42,
   "metadata": {
    "scrolled": true
   },
   "outputs": [
    {
     "data": {
      "image/png": "[encoded data removed]",
      "text/plain": [
       "<Figure size 432x288 with 1 Axes>"
      ]
     },
     "metadata": {
      "needs_background": "light"
     },
     "output_type": "display_data"
    },
    {
     "data": {
      "image/png": "[encoded data removed]",
      "text/plain": [
       "<Figure size 432x288 with 1 Axes>"
      ]
     },
     "metadata": {
      "needs_background": "light"
     },
     "output_type": "display_data"
    }
   ],
   "source": [
    "# Plot the Training and Validation Accuracy & Loss Scores\n",
    "%matplotlib inline\n",
    "import matplotlib.pyplot as plt\n",
    "\n",
    "acc = history.history['acc']\n",
    "val_acc = history.history['val_acc']\n",
    "loss = history.history['loss']\n",
    "val_loss = history.history['val_loss']\n",
    "\n",
    "epochs = range(len(acc))\n",
    "\n",
    "plt.plot(epochs, acc, 'bo', label='Training acc')\n",
    "plt.plot(epochs, val_acc, 'b', label='Validation acc')\n",
    "plt.title('Training and validation accuracy')\n",
    "plt.legend()\n",
    "\n",
    "plt.figure()\n",
    "\n",
    "plt.plot(epochs, loss, 'bo', label='Training loss')\n",
    "plt.plot(epochs, val_loss, 'b', label='Validation loss')\n",
    "plt.title('Training and validation loss')\n",
    "plt.legend()\n",
    "\n",
    "plt.show()"
   ]
  },
  {
   "cell_type": "markdown",
   "metadata": {},
   "source": [
    "### Model #2.10 (Basic Model + 2 Dense + GLOVE.Twitter, batch size = 128, optimizer = SGD, regularizer implemented)"
   ]
  },
  {
   "cell_type": "code",
   "execution_count": 110,
   "metadata": {
    "scrolled": true
   },
   "outputs": [
    {
     "name": "stdout",
     "output_type": "stream",
     "text": [
      "Found 1193514 word vectors.\n"
     ]
    }
   ],
   "source": [
    "glove_dir = ''\n",
    "\n",
    "embeddings_index = {}\n",
    "f = open('glove.twitter.27B.200d.txt', encoding=\"utf8\")\n",
    "for line in f:\n",
    "    values = line.split()\n",
    "    word = values[0]\n",
    "    coefs = np.asarray(values[1:], dtype='float32')\n",
    "    embeddings_index[word] = coefs\n",
    "f.close()\n",
    "\n",
    "print('Found %s word vectors.' % len(embeddings_index))\n",
    "\n",
    "embedding_dim = 200\n",
    "\n",
    "embedding_matrix = np.zeros((max_words, embedding_dim))\n",
    "for word, i in word_index.items():\n",
    "    embedding_vector = embeddings_index.get(word)\n",
    "    if i < max_words:\n",
    "        if embedding_vector is not None:\n",
    "            # Words not found in embedding index will be all-zeros.\n",
    "            embedding_matrix[i] = embedding_vector"
   ]
  },
  {
   "cell_type": "code",
   "execution_count": 113,
   "metadata": {},
   "outputs": [
    {
     "name": "stdout",
     "output_type": "stream",
     "text": [
      "Model: \"sequential_13\"\n",
      "_________________________________________________________________\n",
      "Layer (type)                 Output Shape              Param #   \n",
      "=================================================================\n",
      "embedding_37 (Embedding)     (None, 34, 200)           20000000  \n",
      "_________________________________________________________________\n",
      "flatten_34 (Flatten)         (None, 6800)              0         \n",
      "_________________________________________________________________\n",
      "dense_36 (Dense)             (None, 200)               1360200   \n",
      "_________________________________________________________________\n",
      "dense_37 (Dense)             (None, 200)               40200     \n",
      "_________________________________________________________________\n",
      "dropout_24 (Dropout)         (None, 200)               0         \n",
      "_________________________________________________________________\n",
      "dense_38 (Dense)             (None, 5)                 1005      \n",
      "=================================================================\n",
      "Total params: 21,401,405\n",
      "Trainable params: 21,401,405\n",
      "Non-trainable params: 0\n",
      "_________________________________________________________________\n",
      "Model: \"sequential_13\"\n",
      "_________________________________________________________________\n",
      "Layer (type)                 Output Shape              Param #   \n",
      "=================================================================\n",
      "embedding_37 (Embedding)     (None, 34, 200)           20000000  \n",
      "_________________________________________________________________\n",
      "flatten_34 (Flatten)         (None, 6800)              0         \n",
      "_________________________________________________________________\n",
      "dense_36 (Dense)             (None, 200)               1360200   \n",
      "_________________________________________________________________\n",
      "dense_37 (Dense)             (None, 200)               40200     \n",
      "_________________________________________________________________\n",
      "dropout_24 (Dropout)         (None, 200)               0         \n",
      "_________________________________________________________________\n",
      "dense_38 (Dense)             (None, 5)                 1005      \n",
      "=================================================================\n",
      "Total params: 21,401,405\n",
      "Trainable params: 21,401,405\n",
      "Non-trainable params: 0\n",
      "_________________________________________________________________\n"
     ]
    }
   ],
   "source": [
    "# Build the Model\n",
    "from tensorflow.keras import regularizers\n",
    "\n",
    "model = Sequential()\n",
    "model.add(Embedding(max_words, embedding_dim, input_length=max_len))\n",
    "model.add(Flatten())\n",
    "model.add(Dense(200, activation='relu', kernel_regularizer=regularizers.l2(0.001)))\n",
    "model.add(Dense(200, activation='relu'))\n",
    "model.add(Dropout(0.5))\n",
    "model.add(Dense(5, activation='softmax'))\n",
    "model.summary()\n",
    "\n",
    "model.layers[0].set_weights([embedding_matrix])\n",
    "model.layers[0].trainable = True\n",
    "model.summary()"
   ]
  },
  {
   "cell_type": "code",
   "execution_count": 114,
   "metadata": {
    "scrolled": true
   },
   "outputs": [
    {
     "name": "stdout",
     "output_type": "stream",
     "text": [
      "Epoch 1/11\n",
      "213/213 [==============================] - 48s 226ms/step - loss: 1.6914 - acc: 0.4231 - val_loss: 1.4952 - val_acc: 0.4960\n",
      "Epoch 2/11\n",
      "213/213 [==============================] - 49s 230ms/step - loss: 1.4106 - acc: 0.5294 - val_loss: 1.3371 - val_acc: 0.5516\n",
      "Epoch 3/11\n",
      "213/213 [==============================] - 49s 229ms/step - loss: 1.2492 - acc: 0.5884 - val_loss: 1.2565 - val_acc: 0.5802\n",
      "Epoch 4/11\n",
      "213/213 [==============================] - 49s 230ms/step - loss: 1.1190 - acc: 0.6420 - val_loss: 1.2092 - val_acc: 0.5930\n",
      "Epoch 5/11\n",
      "213/213 [==============================] - 49s 230ms/step - loss: 0.9994 - acc: 0.6939 - val_loss: 1.1772 - val_acc: 0.6087\n",
      "Epoch 6/11\n",
      "213/213 [==============================] - 49s 230ms/step - loss: 0.8832 - acc: 0.7388 - val_loss: 1.1608 - val_acc: 0.6172\n",
      "Epoch 7/11\n",
      "213/213 [==============================] - 49s 230ms/step - loss: 0.7695 - acc: 0.7882 - val_loss: 1.1749 - val_acc: 0.6257\n",
      "Epoch 8/11\n",
      "213/213 [==============================] - 49s 228ms/step - loss: 0.6630 - acc: 0.8330 - val_loss: 1.1642 - val_acc: 0.6347\n",
      "Epoch 9/11\n",
      "213/213 [==============================] - 49s 229ms/step - loss: 0.5629 - acc: 0.8728 - val_loss: 1.1902 - val_acc: 0.6395\n",
      "Epoch 10/11\n",
      "213/213 [==============================] - 49s 230ms/step - loss: 0.4803 - acc: 0.9035 - val_loss: 1.2307 - val_acc: 0.6417\n",
      "Epoch 11/11\n",
      "213/213 [==============================] - 49s 229ms/step - loss: 0.4066 - acc: 0.9288 - val_loss: 1.2524 - val_acc: 0.6448\n"
     ]
    }
   ],
   "source": [
    "# Train the Model\n",
    "model.compile(optimizer=Adam(lr=1e-4),\n",
    "              loss='categorical_crossentropy',\n",
    "              metrics=['acc'])\n",
    "history = model.fit(X_train, y_train,\n",
    "                    epochs=11,\n",
    "                    batch_size=128,\n",
    "                    validation_split=0.2)"
   ]
  },
  {
   "cell_type": "code",
   "execution_count": 115,
   "metadata": {
    "scrolled": true
   },
   "outputs": [
    {
     "data": {
      "image/png": "[encoded data removed]",
      "text/plain": [
       "<Figure size 432x288 with 1 Axes>"
      ]
     },
     "metadata": {
      "needs_background": "light"
     },
     "output_type": "display_data"
    },
    {
     "data": {
      "image/png": "[encoded data removed]",
      "text/plain": [
       "<Figure size 432x288 with 1 Axes>"
      ]
     },
     "metadata": {
      "needs_background": "light"
     },
     "output_type": "display_data"
    }
   ],
   "source": [
    "# Plot the Training and Validation Accuracy & Loss Scores\n",
    "%matplotlib inline\n",
    "import matplotlib.pyplot as plt\n",
    "\n",
    "acc = history.history['acc']\n",
    "val_acc = history.history['val_acc']\n",
    "loss = history.history['loss']\n",
    "val_loss = history.history['val_loss']\n",
    "\n",
    "epochs = range(len(acc))\n",
    "\n",
    "plt.plot(epochs, acc, 'bo', label='Training acc')\n",
    "plt.plot(epochs, val_acc, 'b', label='Validation acc')\n",
    "plt.title('Training and validation accuracy')\n",
    "plt.legend()\n",
    "\n",
    "plt.figure()\n",
    "\n",
    "plt.plot(epochs, loss, 'bo', label='Training loss')\n",
    "plt.plot(epochs, val_loss, 'b', label='Validation loss')\n",
    "plt.title('Training and validation loss')\n",
    "plt.legend()\n",
    "\n",
    "plt.show()"
   ]
  },
  {
   "cell_type": "code",
   "execution_count": 116,
   "metadata": {},
   "outputs": [],
   "source": [
    "# Save the Model\n",
    "model.save('glovetwitter_model.h5')"
   ]
  },
  {
   "cell_type": "markdown",
   "metadata": {},
   "source": [
    "### Model #2.8 (Basic Model + LSTM + GLOVE.Twitter, batch size = 128, optimizer = SGD, regularizer implemented)"
   ]
  },
  {
   "cell_type": "code",
   "execution_count": 10,
   "metadata": {
    "scrolled": true
   },
   "outputs": [
    {
     "name": "stdout",
     "output_type": "stream",
     "text": [
      "Found 1193514 word vectors.\n"
     ]
    }
   ],
   "source": [
    "glove_dir = ''\n",
    "\n",
    "embeddings_index = {}\n",
    "f = open('glove.twitter.27B.100d.txt', encoding=\"utf8\")\n",
    "for line in f:\n",
    "    values = line.split()\n",
    "    word = values[0]\n",
    "    coefs = np.asarray(values[1:], dtype='float32')\n",
    "    embeddings_index[word] = coefs\n",
    "f.close()\n",
    "\n",
    "print('Found %s word vectors.' % len(embeddings_index))\n",
    "\n",
    "embedding_dim = 100\n",
    "\n",
    "embedding_matrix = np.zeros((max_words, embedding_dim))\n",
    "for word, i in word_index.items():\n",
    "    embedding_vector = embeddings_index.get(word)\n",
    "    if i < max_words:\n",
    "        if embedding_vector is not None:\n",
    "            # Words not found in embedding index will be all-zeros.\n",
    "            embedding_matrix[i] = embedding_vector"
   ]
  },
  {
   "cell_type": "code",
   "execution_count": null,
   "metadata": {},
   "outputs": [],
   "source": [
    "# Build the Model\n",
    "from tensorflow.keras import regularizers\n",
    "\n",
    "model = Sequential()\n",
    "model.add(Embedding(max_words, embedding_dim, input_length=max_len))\n",
    "model.add(Flatten())\n",
    "model.add(Dense(200, activation='relu', kernel_regularizer=regularizers.l2(0.001)))\n",
    "model.add(Dense(200, activation='relu'))\n",
    "model.add(Dropout(0.5))\n",
    "model.add(Dense(5, activation='softmax'))\n",
    "model.summary()\n",
    "\n",
    "model.layers[0].set_weights([embedding_matrix])\n",
    "model.layers[0].trainable = True\n",
    "model.summary()"
   ]
  },
  {
   "cell_type": "code",
   "execution_count": null,
   "metadata": {
    "scrolled": true
   },
   "outputs": [],
   "source": [
    "# Train the Model\n",
    "model.compile(optimizer=Adam(lr=1e-3),\n",
    "              loss='categorical_crossentropy',\n",
    "              metrics=['acc'])\n",
    "history = model.fit(X_train, y_train,\n",
    "                    epochs=30,\n",
    "                    batch_size=128,\n",
    "                    validation_split=0.2)"
   ]
  },
  {
   "cell_type": "code",
   "execution_count": null,
   "metadata": {
    "scrolled": true
   },
   "outputs": [],
   "source": [
    "# Plot the Training and Validation Accuracy & Loss Scores\n",
    "%matplotlib inline\n",
    "import matplotlib.pyplot as plt\n",
    "\n",
    "acc = history.history['acc']\n",
    "val_acc = history.history['val_acc']\n",
    "loss = history.history['loss']\n",
    "val_loss = history.history['val_loss']\n",
    "\n",
    "epochs = range(len(acc))\n",
    "\n",
    "plt.plot(epochs, acc, 'bo', label='Training acc')\n",
    "plt.plot(epochs, val_acc, 'b', label='Validation acc')\n",
    "plt.title('Training and validation accuracy')\n",
    "plt.legend()\n",
    "\n",
    "plt.figure()\n",
    "\n",
    "plt.plot(epochs, loss, 'bo', label='Training loss')\n",
    "plt.plot(epochs, val_loss, 'b', label='Validation loss')\n",
    "plt.title('Training and validation loss')\n",
    "plt.legend()\n",
    "\n",
    "plt.show()"
   ]
  },
  {
   "cell_type": "markdown",
   "metadata": {},
   "source": [
    "### Model #3.1 (Conv1D)"
   ]
  },
  {
   "cell_type": "code",
   "execution_count": 93,
   "metadata": {},
   "outputs": [
    {
     "name": "stdout",
     "output_type": "stream",
     "text": [
      "Found 54076 unique tokens.\n",
      "Shape of data tensor: (42546, 34)\n",
      "Shape of label tensor: (42546,)\n"
     ]
    }
   ],
   "source": [
    "# Convert the texts and labels into numeric tensors\n",
    "from tensorflow.keras.preprocessing.text import Tokenizer\n",
    "from tensorflow.keras.preprocessing.sequence import pad_sequences\n",
    "from tensorflow.keras.utils import to_categorical\n",
    "\n",
    "import numpy as np\n",
    "#training_samples = 20000 # We will be training on 20000 samples\n",
    "#validation_samples = 5000 # We will be validating on 5000 samples\n",
    "max_words = 10000 # We will only consider the top 10,000 words (vocabulary) in the dataset (dictionary)\n",
    "tokenizer = Tokenizer(num_words=max_words)\n",
    "# Updates internal vocabulary based on a list of texts.\n",
    "# In the case where texts contains lists, we assume each entry of the lists to be a token.\n",
    "tokenizer.fit_on_texts(texts)\n",
    "# Transforms each text in texts to a sequence of integers.\n",
    "# Only top num_words-1 most frequent words will be taken into account.\n",
    "# Only words known by the tokenizer will be taken into account.\n",
    "sequences = tokenizer.texts_to_sequences(texts)\n",
    "word_index = tokenizer.word_index\n",
    "print('Found %s unique tokens.' % len(word_index))\n",
    "data = pad_sequences(sequences, maxlen=max_len)\n",
    "labels = np.asarray(labels)\n",
    "X, y = data, to_categorical(labels)\n",
    "\n",
    "print('Shape of data tensor:', data.shape)\n",
    "print('Shape of label tensor:', labels.shape)\n"
   ]
  },
  {
   "cell_type": "markdown",
   "metadata": {},
   "source": [
    "### 1.3 Data Sampling"
   ]
  },
  {
   "cell_type": "code",
   "execution_count": 94,
   "metadata": {},
   "outputs": [],
   "source": [
    "# Split the X & y into train and test sets\n",
    "from sklearn.model_selection import train_test_split\n",
    "X_train, X_test, y_train, y_test = train_test_split(X, y, test_size=0.2, random_state = 4)\n",
    "# Refer the report Appendix\n",
    "# Please enter the random_state assigned to your group"
   ]
  },
  {
   "cell_type": "code",
   "execution_count": 38,
   "metadata": {},
   "outputs": [
    {
     "name": "stdout",
     "output_type": "stream",
     "text": [
      "Model: \"sequential_11\"\n",
      "_________________________________________________________________\n",
      "Layer (type)                 Output Shape              Param #   \n",
      "=================================================================\n",
      "embedding_8 (Embedding)      (None, 34, 128)           1280000   \n",
      "_________________________________________________________________\n",
      "conv1d_16 (Conv1D)           (None, 30, 32)            20512     \n",
      "_________________________________________________________________\n",
      "max_pooling1d_8 (MaxPooling1 (None, 6, 32)             0         \n",
      "_________________________________________________________________\n",
      "conv1d_17 (Conv1D)           (None, 2, 32)             5152      \n",
      "_________________________________________________________________\n",
      "global_max_pooling1d_4 (Glob (None, 32)                0         \n",
      "_________________________________________________________________\n",
      "dense_4 (Dense)              (None, 5)                 165       \n",
      "=================================================================\n",
      "Total params: 1,305,829\n",
      "Trainable params: 1,305,829\n",
      "Non-trainable params: 0\n",
      "_________________________________________________________________\n"
     ]
    }
   ],
   "source": [
    "from tensorflow.keras.models import Sequential\n",
    "from tensorflow.keras import layers\n",
    "from tensorflow.keras.optimizers import RMSprop\n",
    "\n",
    "model = Sequential()\n",
    "model.add(layers.Embedding(max_words, 128, input_length=max_len))\n",
    "model.add(layers.Conv1D(32, 5, activation='relu'))\n",
    "model.add(layers.MaxPooling1D(5))\n",
    "model.add(layers.Conv1D(32, 5, activation='relu'))\n",
    "model.add(layers.GlobalMaxPooling1D())\n",
    "model.add(layers.Dense(5, activation='softmax'))\n",
    "\n",
    "model.summary()\n",
    "\n"
   ]
  },
  {
   "cell_type": "code",
   "execution_count": 39,
   "metadata": {
    "scrolled": true
   },
   "outputs": [
    {
     "name": "stdout",
     "output_type": "stream",
     "text": [
      "Epoch 1/60\n",
      "213/213 [==============================] - 2s 11ms/step - loss: 1.4700 - acc: 0.4239 - val_loss: 1.4171 - val_acc: 0.4289\n",
      "Epoch 2/60\n",
      "213/213 [==============================] - 2s 10ms/step - loss: 1.3976 - acc: 0.4247 - val_loss: 1.3628 - val_acc: 0.4289\n",
      "Epoch 3/60\n",
      "213/213 [==============================] - 2s 10ms/step - loss: 1.3050 - acc: 0.4252 - val_loss: 1.2564 - val_acc: 0.4314\n",
      "Epoch 4/60\n",
      "213/213 [==============================] - 2s 10ms/step - loss: 1.2164 - acc: 0.4685 - val_loss: 1.1999 - val_acc: 0.4856\n",
      "Epoch 5/60\n",
      "213/213 [==============================] - 2s 10ms/step - loss: 1.1733 - acc: 0.5145 - val_loss: 1.1740 - val_acc: 0.5032\n",
      "Epoch 6/60\n",
      "213/213 [==============================] - 2s 10ms/step - loss: 1.1429 - acc: 0.5351 - val_loss: 1.1534 - val_acc: 0.5138\n",
      "Epoch 7/60\n",
      "213/213 [==============================] - 2s 10ms/step - loss: 1.1138 - acc: 0.5477 - val_loss: 1.1348 - val_acc: 0.5206\n",
      "Epoch 8/60\n",
      "213/213 [==============================] - 2s 10ms/step - loss: 1.0846 - acc: 0.5580 - val_loss: 1.1166 - val_acc: 0.5236\n",
      "Epoch 9/60\n",
      "213/213 [==============================] - 2s 10ms/step - loss: 1.0551 - acc: 0.5692 - val_loss: 1.1002 - val_acc: 0.5347\n",
      "Epoch 10/60\n",
      "213/213 [==============================] - 2s 11ms/step - loss: 1.0253 - acc: 0.5900 - val_loss: 1.0854 - val_acc: 0.5401\n",
      "Epoch 11/60\n",
      "213/213 [==============================] - 2s 10ms/step - loss: 0.9961 - acc: 0.6131 - val_loss: 1.0717 - val_acc: 0.5543\n",
      "Epoch 12/60\n",
      "213/213 [==============================] - 2s 10ms/step - loss: 0.9678 - acc: 0.6318 - val_loss: 1.0599 - val_acc: 0.5607\n",
      "Epoch 13/60\n",
      "213/213 [==============================] - 2s 10ms/step - loss: 0.9392 - acc: 0.6475 - val_loss: 1.0487 - val_acc: 0.5687\n",
      "Epoch 14/60\n",
      "213/213 [==============================] - 2s 10ms/step - loss: 0.9121 - acc: 0.6614 - val_loss: 1.0401 - val_acc: 0.5762\n",
      "Epoch 15/60\n",
      "213/213 [==============================] - 2s 10ms/step - loss: 0.8858 - acc: 0.6750 - val_loss: 1.0323 - val_acc: 0.5790\n",
      "Epoch 16/60\n",
      "213/213 [==============================] - 2s 10ms/step - loss: 0.8607 - acc: 0.6862 - val_loss: 1.0256 - val_acc: 0.5867\n",
      "Epoch 17/60\n",
      "213/213 [==============================] - 2s 10ms/step - loss: 0.8364 - acc: 0.6987 - val_loss: 1.0233 - val_acc: 0.5903\n",
      "Epoch 18/60\n",
      "213/213 [==============================] - 2s 10ms/step - loss: 0.8142 - acc: 0.7065 - val_loss: 1.0187 - val_acc: 0.5946\n",
      "Epoch 19/60\n",
      "213/213 [==============================] - 2s 10ms/step - loss: 0.7925 - acc: 0.7146 - val_loss: 1.0182 - val_acc: 0.5933\n",
      "Epoch 20/60\n",
      "213/213 [==============================] - 2s 10ms/step - loss: 0.7731 - acc: 0.7229 - val_loss: 1.0174 - val_acc: 0.5968\n",
      "Epoch 21/60\n",
      "213/213 [==============================] - 2s 10ms/step - loss: 0.7543 - acc: 0.7289 - val_loss: 1.0206 - val_acc: 0.6024\n",
      "Epoch 22/60\n",
      "213/213 [==============================] - 2s 10ms/step - loss: 0.7364 - acc: 0.7354 - val_loss: 1.0180 - val_acc: 0.6006\n",
      "Epoch 23/60\n",
      "213/213 [==============================] - 2s 10ms/step - loss: 0.7188 - acc: 0.7426 - val_loss: 1.0198 - val_acc: 0.6038\n",
      "Epoch 24/60\n",
      "213/213 [==============================] - 2s 10ms/step - loss: 0.7023 - acc: 0.7480 - val_loss: 1.0228 - val_acc: 0.6043\n",
      "Epoch 25/60\n",
      "213/213 [==============================] - 2s 10ms/step - loss: 0.6859 - acc: 0.7562 - val_loss: 1.0258 - val_acc: 0.6080\n",
      "Epoch 26/60\n",
      "213/213 [==============================] - 2s 10ms/step - loss: 0.6698 - acc: 0.7602 - val_loss: 1.0267 - val_acc: 0.6102\n",
      "Epoch 27/60\n",
      "213/213 [==============================] - 2s 11ms/step - loss: 0.6544 - acc: 0.7674 - val_loss: 1.0282 - val_acc: 0.6097\n",
      "Epoch 28/60\n",
      "213/213 [==============================] - 2s 10ms/step - loss: 0.6391 - acc: 0.7732 - val_loss: 1.0328 - val_acc: 0.6099\n",
      "Epoch 29/60\n",
      "213/213 [==============================] - 2s 10ms/step - loss: 0.6237 - acc: 0.7816 - val_loss: 1.0352 - val_acc: 0.6163\n",
      "Epoch 30/60\n",
      "213/213 [==============================] - 2s 10ms/step - loss: 0.6086 - acc: 0.7878 - val_loss: 1.0387 - val_acc: 0.6143\n",
      "Epoch 31/60\n",
      "213/213 [==============================] - 2s 10ms/step - loss: 0.5938 - acc: 0.7944 - val_loss: 1.0454 - val_acc: 0.6213\n",
      "Epoch 32/60\n",
      "213/213 [==============================] - 2s 10ms/step - loss: 0.5795 - acc: 0.8020 - val_loss: 1.0483 - val_acc: 0.6200\n",
      "Epoch 33/60\n",
      "213/213 [==============================] - 2s 10ms/step - loss: 0.5651 - acc: 0.8070 - val_loss: 1.0536 - val_acc: 0.6194\n",
      "Epoch 34/60\n",
      "213/213 [==============================] - 2s 10ms/step - loss: 0.5505 - acc: 0.8147 - val_loss: 1.0561 - val_acc: 0.6222\n",
      "Epoch 35/60\n",
      "213/213 [==============================] - 2s 10ms/step - loss: 0.5363 - acc: 0.8205 - val_loss: 1.0655 - val_acc: 0.6218\n",
      "Epoch 36/60\n",
      "213/213 [==============================] - 2s 10ms/step - loss: 0.5227 - acc: 0.8266 - val_loss: 1.0656 - val_acc: 0.6240\n",
      "Epoch 37/60\n",
      "213/213 [==============================] - 2s 10ms/step - loss: 0.5086 - acc: 0.8318 - val_loss: 1.0744 - val_acc: 0.6249\n",
      "Epoch 38/60\n",
      "213/213 [==============================] - 2s 10ms/step - loss: 0.4950 - acc: 0.8374 - val_loss: 1.0748 - val_acc: 0.6279\n",
      "Epoch 39/60\n",
      "213/213 [==============================] - 2s 10ms/step - loss: 0.4812 - acc: 0.8428 - val_loss: 1.0829 - val_acc: 0.6272\n",
      "Epoch 40/60\n",
      "213/213 [==============================] - 2s 10ms/step - loss: 0.4674 - acc: 0.8499 - val_loss: 1.0905 - val_acc: 0.6303\n",
      "Epoch 41/60\n",
      "213/213 [==============================] - 2s 10ms/step - loss: 0.4543 - acc: 0.8541 - val_loss: 1.0940 - val_acc: 0.6268\n",
      "Epoch 42/60\n",
      "213/213 [==============================] - 2s 10ms/step - loss: 0.4401 - acc: 0.8601 - val_loss: 1.0999 - val_acc: 0.6303\n",
      "Epoch 43/60\n",
      "213/213 [==============================] - 2s 10ms/step - loss: 0.4270 - acc: 0.8650 - val_loss: 1.1040 - val_acc: 0.6276\n",
      "Epoch 44/60\n",
      "213/213 [==============================] - 2s 10ms/step - loss: 0.4135 - acc: 0.8707 - val_loss: 1.1155 - val_acc: 0.6340\n",
      "Epoch 45/60\n",
      "213/213 [==============================] - 2s 10ms/step - loss: 0.4005 - acc: 0.8753 - val_loss: 1.1165 - val_acc: 0.6307\n",
      "Epoch 46/60\n",
      "213/213 [==============================] - 2s 10ms/step - loss: 0.3873 - acc: 0.8802 - val_loss: 1.1229 - val_acc: 0.6329\n",
      "Epoch 47/60\n",
      "213/213 [==============================] - 2s 10ms/step - loss: 0.3740 - acc: 0.8863 - val_loss: 1.1301 - val_acc: 0.6326\n",
      "Epoch 48/60\n",
      "213/213 [==============================] - 2s 10ms/step - loss: 0.3615 - acc: 0.8906 - val_loss: 1.1368 - val_acc: 0.6345\n",
      "Epoch 49/60\n",
      "213/213 [==============================] - 2s 10ms/step - loss: 0.3491 - acc: 0.8949 - val_loss: 1.1444 - val_acc: 0.6337\n",
      "Epoch 50/60\n",
      "213/213 [==============================] - 2s 10ms/step - loss: 0.3367 - acc: 0.8994 - val_loss: 1.1544 - val_acc: 0.6344\n",
      "Epoch 51/60\n",
      "213/213 [==============================] - 2s 10ms/step - loss: 0.3244 - acc: 0.9052 - val_loss: 1.1620 - val_acc: 0.6350\n",
      "Epoch 52/60\n",
      "213/213 [==============================] - 2s 10ms/step - loss: 0.3126 - acc: 0.9087 - val_loss: 1.1649 - val_acc: 0.6340\n",
      "Epoch 53/60\n",
      "213/213 [==============================] - 2s 10ms/step - loss: 0.3006 - acc: 0.9139 - val_loss: 1.1727 - val_acc: 0.6363\n",
      "Epoch 54/60\n",
      "213/213 [==============================] - 2s 10ms/step - loss: 0.2892 - acc: 0.9186 - val_loss: 1.1849 - val_acc: 0.6388\n",
      "Epoch 55/60\n",
      "213/213 [==============================] - 2s 10ms/step - loss: 0.2781 - acc: 0.9219 - val_loss: 1.1914 - val_acc: 0.6401\n",
      "Epoch 56/60\n",
      "213/213 [==============================] - 2s 10ms/step - loss: 0.2671 - acc: 0.9254 - val_loss: 1.1970 - val_acc: 0.6373\n",
      "Epoch 57/60\n",
      "213/213 [==============================] - 2s 10ms/step - loss: 0.2562 - acc: 0.9293 - val_loss: 1.2066 - val_acc: 0.6378\n",
      "Epoch 58/60\n",
      "213/213 [==============================] - 2s 11ms/step - loss: 0.2456 - acc: 0.9333 - val_loss: 1.2152 - val_acc: 0.6388\n",
      "Epoch 59/60\n",
      "213/213 [==============================] - 2s 10ms/step - loss: 0.2356 - acc: 0.9344 - val_loss: 1.2231 - val_acc: 0.6388\n",
      "Epoch 60/60\n",
      "213/213 [==============================] - 2s 10ms/step - loss: 0.2257 - acc: 0.9388 - val_loss: 1.2341 - val_acc: 0.6404\n"
     ]
    }
   ],
   "source": [
    "# Train the Model\n",
    "model.compile(optimizer=RMSprop(lr=1e-4),\n",
    "              loss='categorical_crossentropy',\n",
    "              metrics=['acc'])\n",
    "history = model.fit(X_train, y_train,\n",
    "                    epochs=60,\n",
    "                    batch_size=128,\n",
    "                    validation_split=0.2)"
   ]
  },
  {
   "cell_type": "code",
   "execution_count": 40,
   "metadata": {
    "scrolled": true
   },
   "outputs": [
    {
     "data": {
      "image/png": "[encoded data removed]",
      "text/plain": [
       "<Figure size 432x288 with 1 Axes>"
      ]
     },
     "metadata": {
      "needs_background": "light"
     },
     "output_type": "display_data"
    },
    {
     "data": {
      "image/png": "[encoded data removed]",
      "text/plain": [
       "<Figure size 432x288 with 1 Axes>"
      ]
     },
     "metadata": {
      "needs_background": "light"
     },
     "output_type": "display_data"
    }
   ],
   "source": [
    "# Plot the Training and Validation Accuracy & Loss Scores\n",
    "%matplotlib inline\n",
    "import matplotlib.pyplot as plt\n",
    "\n",
    "acc = history.history['acc']\n",
    "val_acc = history.history['val_acc']\n",
    "loss = history.history['loss']\n",
    "val_loss = history.history['val_loss']\n",
    "\n",
    "epochs = range(len(acc))\n",
    "\n",
    "plt.plot(epochs, acc, 'bo', label='Training acc')\n",
    "plt.plot(epochs, val_acc, 'b', label='Validation acc')\n",
    "plt.title('Training and validation accuracy')\n",
    "plt.legend()\n",
    "\n",
    "plt.figure()\n",
    "\n",
    "plt.plot(epochs, loss, 'bo', label='Training loss')\n",
    "plt.plot(epochs, val_loss, 'b', label='Validation loss')\n",
    "plt.title('Training and validation loss')\n",
    "plt.legend()\n",
    "\n",
    "plt.show()"
   ]
  },
  {
   "cell_type": "markdown",
   "metadata": {},
   "source": [
    "### Model #3.2 (Conv1D with number of nodes increased)"
   ]
  },
  {
   "cell_type": "code",
   "execution_count": 95,
   "metadata": {},
   "outputs": [
    {
     "name": "stdout",
     "output_type": "stream",
     "text": [
      "Model: \"sequential_10\"\n",
      "_________________________________________________________________\n",
      "Layer (type)                 Output Shape              Param #   \n",
      "=================================================================\n",
      "embedding_34 (Embedding)     (None, 34, 128)           1280000   \n",
      "_________________________________________________________________\n",
      "conv1d_23 (Conv1D)           (None, 30, 2048)          1312768   \n",
      "_________________________________________________________________\n",
      "max_pooling1d_23 (MaxPooling (None, 6, 2048)           0         \n",
      "_________________________________________________________________\n",
      "conv1d_24 (Conv1D)           (None, 2, 1024)           10486784  \n",
      "_________________________________________________________________\n",
      "global_max_pooling1d (Global (None, 1024)              0         \n",
      "_________________________________________________________________\n",
      "dense_30 (Dense)             (None, 5)                 5125      \n",
      "=================================================================\n",
      "Total params: 13,084,677\n",
      "Trainable params: 13,084,677\n",
      "Non-trainable params: 0\n",
      "_________________________________________________________________\n"
     ]
    }
   ],
   "source": [
    "from tensorflow.keras.models import Sequential\n",
    "from tensorflow.keras import layers\n",
    "from tensorflow.keras.optimizers import RMSprop\n",
    "\n",
    "model = Sequential()\n",
    "model.add(layers.Embedding(max_words, 128, input_length=max_len))\n",
    "model.add(layers.Conv1D(2048, 5, activation='relu'))\n",
    "model.add(layers.MaxPooling1D(5))\n",
    "model.add(layers.Conv1D(1024, 5, activation='relu'))\n",
    "model.add(layers.GlobalMaxPooling1D())\n",
    "model.add(layers.Dense(5, activation='softmax'))\n",
    "\n",
    "model.summary()\n"
   ]
  },
  {
   "cell_type": "code",
   "execution_count": 96,
   "metadata": {
    "scrolled": true
   },
   "outputs": [
    {
     "name": "stdout",
     "output_type": "stream",
     "text": [
      "Epoch 1/19\n",
      "213/213 [==============================] - 5s 24ms/step - loss: 1.2664 - acc: 0.4515 - val_loss: 1.1474 - val_acc: 0.4965\n",
      "Epoch 2/19\n",
      "213/213 [==============================] - 5s 23ms/step - loss: 1.0849 - acc: 0.5391 - val_loss: 1.0744 - val_acc: 0.5474\n",
      "Epoch 3/19\n",
      "213/213 [==============================] - 5s 23ms/step - loss: 0.9792 - acc: 0.6040 - val_loss: 1.0198 - val_acc: 0.5843\n",
      "Epoch 4/19\n",
      "213/213 [==============================] - 5s 23ms/step - loss: 0.8842 - acc: 0.6503 - val_loss: 0.9912 - val_acc: 0.6006\n",
      "Epoch 5/19\n",
      "213/213 [==============================] - 5s 22ms/step - loss: 0.8017 - acc: 0.6922 - val_loss: 0.9813 - val_acc: 0.6108\n",
      "Epoch 6/19\n",
      "213/213 [==============================] - 5s 22ms/step - loss: 0.7255 - acc: 0.7289 - val_loss: 0.9789 - val_acc: 0.6132\n",
      "Epoch 7/19\n",
      "213/213 [==============================] - 5s 23ms/step - loss: 0.6520 - acc: 0.7622 - val_loss: 0.9931 - val_acc: 0.6231\n",
      "Epoch 8/19\n",
      "213/213 [==============================] - 5s 23ms/step - loss: 0.5827 - acc: 0.7948 - val_loss: 0.9752 - val_acc: 0.6328\n",
      "Epoch 9/19\n",
      "213/213 [==============================] - 5s 23ms/step - loss: 0.5114 - acc: 0.8280 - val_loss: 0.9962 - val_acc: 0.6359\n",
      "Epoch 10/19\n",
      "213/213 [==============================] - 5s 22ms/step - loss: 0.4439 - acc: 0.8569 - val_loss: 1.0140 - val_acc: 0.6384\n",
      "Epoch 11/19\n",
      "213/213 [==============================] - 5s 23ms/step - loss: 0.3782 - acc: 0.8850 - val_loss: 1.0183 - val_acc: 0.6519\n",
      "Epoch 12/19\n",
      "213/213 [==============================] - 5s 22ms/step - loss: 0.3131 - acc: 0.9100 - val_loss: 1.0433 - val_acc: 0.6435\n",
      "Epoch 13/19\n",
      "213/213 [==============================] - 5s 22ms/step - loss: 0.2551 - acc: 0.9315 - val_loss: 1.0943 - val_acc: 0.6629\n",
      "Epoch 14/19\n",
      "213/213 [==============================] - 5s 22ms/step - loss: 0.2017 - acc: 0.9494 - val_loss: 1.0837 - val_acc: 0.6594\n",
      "Epoch 15/19\n",
      "213/213 [==============================] - 5s 23ms/step - loss: 0.1560 - acc: 0.9656 - val_loss: 1.1575 - val_acc: 0.6595\n",
      "Epoch 16/19\n",
      "213/213 [==============================] - 5s 22ms/step - loss: 0.1187 - acc: 0.9753 - val_loss: 1.2108 - val_acc: 0.6597\n",
      "Epoch 17/19\n",
      "213/213 [==============================] - 5s 22ms/step - loss: 0.0875 - acc: 0.9838 - val_loss: 1.2581 - val_acc: 0.6638\n",
      "Epoch 18/19\n",
      "213/213 [==============================] - 5s 23ms/step - loss: 0.0641 - acc: 0.9884 - val_loss: 1.3325 - val_acc: 0.6601\n",
      "Epoch 19/19\n",
      "213/213 [==============================] - 5s 23ms/step - loss: 0.0475 - acc: 0.9918 - val_loss: 1.4708 - val_acc: 0.6655\n"
     ]
    }
   ],
   "source": [
    "# Train the Model\n",
    "model.compile(optimizer=RMSprop(lr=1e-4),\n",
    "              loss='categorical_crossentropy',\n",
    "              metrics=['acc'])\n",
    "history = model.fit(X_train, y_train,\n",
    "                    epochs=19,\n",
    "                    batch_size=128,\n",
    "                    validation_split=0.2)"
   ]
  },
  {
   "cell_type": "code",
   "execution_count": 97,
   "metadata": {
    "scrolled": true
   },
   "outputs": [
    {
     "data": {
      "image/png": "[encoded data removed]",
      "text/plain": [
       "<Figure size 432x288 with 1 Axes>"
      ]
     },
     "metadata": {
      "needs_background": "light"
     },
     "output_type": "display_data"
    },
    {
     "data": {
      "image/png": "[encoded data removed]",
      "text/plain": [
       "<Figure size 432x288 with 1 Axes>"
      ]
     },
     "metadata": {
      "needs_background": "light"
     },
     "output_type": "display_data"
    }
   ],
   "source": [
    "# Plot the Training and Validation Accuracy & Loss Scores\n",
    "%matplotlib inline\n",
    "import matplotlib.pyplot as plt\n",
    "\n",
    "acc = history.history['acc']\n",
    "val_acc = history.history['val_acc']\n",
    "loss = history.history['loss']\n",
    "val_loss = history.history['val_loss']\n",
    "\n",
    "epochs = range(len(acc))\n",
    "\n",
    "plt.plot(epochs, acc, 'bo', label='Training acc')\n",
    "plt.plot(epochs, val_acc, 'b', label='Validation acc')\n",
    "plt.title('Training and validation accuracy')\n",
    "plt.legend()\n",
    "\n",
    "plt.figure()\n",
    "\n",
    "plt.plot(epochs, loss, 'bo', label='Training loss')\n",
    "plt.plot(epochs, val_loss, 'b', label='Validation loss')\n",
    "plt.title('Training and validation loss')\n",
    "plt.legend()\n",
    "\n",
    "plt.show()"
   ]
  },
  {
   "cell_type": "code",
   "execution_count": 98,
   "metadata": {},
   "outputs": [],
   "source": [
    "# Save the Best Model\n",
    "model.save('conv1d_model.h5')"
   ]
  },
  {
   "cell_type": "markdown",
   "metadata": {},
   "source": [
    "### Model #3.3 (Conv1D)"
   ]
  },
  {
   "cell_type": "code",
   "execution_count": 105,
   "metadata": {},
   "outputs": [
    {
     "name": "stdout",
     "output_type": "stream",
     "text": [
      "Model: \"sequential_45\"\n",
      "_________________________________________________________________\n",
      "Layer (type)                 Output Shape              Param #   \n",
      "=================================================================\n",
      "embedding_39 (Embedding)     (None, 34, 128)           1280000   \n",
      "_________________________________________________________________\n",
      "conv1d_92 (Conv1D)           (None, 30, 1024)          656384    \n",
      "_________________________________________________________________\n",
      "max_pooling1d_59 (MaxPooling (None, 6, 1024)           0         \n",
      "_________________________________________________________________\n",
      "dropout_6 (Dropout)          (None, 6, 1024)           0         \n",
      "_________________________________________________________________\n",
      "conv1d_93 (Conv1D)           (None, 2, 2048)           10487808  \n",
      "_________________________________________________________________\n",
      "global_max_pooling1d_30 (Glo (None, 2048)              0         \n",
      "_________________________________________________________________\n",
      "dense_30 (Dense)             (None, 5)                 10245     \n",
      "=================================================================\n",
      "Total params: 12,434,437\n",
      "Trainable params: 12,434,437\n",
      "Non-trainable params: 0\n",
      "_________________________________________________________________\n"
     ]
    }
   ],
   "source": [
    "from tensorflow.keras.models import Sequential\n",
    "from tensorflow.keras import layers\n",
    "from tensorflow.keras.optimizers import RMSprop\n",
    "\n",
    "model = Sequential()\n",
    "model.add(layers.Embedding(max_words, 128, input_length=max_len))\n",
    "model.add(layers.Conv1D(1024, 5, activation='relu'))\n",
    "model.add(layers.MaxPooling1D(5))\n",
    "model.add(Dropout(0.5))\n",
    "model.add(layers.Conv1D(2048, 5, activation='relu'))\n",
    "model.add(layers.GlobalMaxPooling1D())\n",
    "model.add(layers.Dense(5, activation='softmax'))\n",
    "\n",
    "model.summary()\n"
   ]
  },
  {
   "cell_type": "code",
   "execution_count": 106,
   "metadata": {
    "scrolled": true
   },
   "outputs": [
    {
     "name": "stdout",
     "output_type": "stream",
     "text": [
      "Epoch 1/60\n",
      "213/213 [==============================] - 4s 18ms/step - loss: 1.3079 - acc: 0.4411 - val_loss: 1.1606 - val_acc: 0.4960\n",
      "Epoch 2/60\n",
      "213/213 [==============================] - 4s 18ms/step - loss: 1.0801 - acc: 0.5433 - val_loss: 1.0688 - val_acc: 0.5520\n",
      "Epoch 3/60\n",
      "213/213 [==============================] - 4s 18ms/step - loss: 0.9398 - acc: 0.6202 - val_loss: 1.0088 - val_acc: 0.5928\n",
      "Epoch 4/60\n",
      "213/213 [==============================] - 4s 18ms/step - loss: 0.8183 - acc: 0.6819 - val_loss: 0.9972 - val_acc: 0.6127\n",
      "Epoch 5/60\n",
      "213/213 [==============================] - 4s 18ms/step - loss: 0.7084 - acc: 0.7298 - val_loss: 1.0179 - val_acc: 0.6159\n",
      "Epoch 6/60\n",
      "213/213 [==============================] - 4s 18ms/step - loss: 0.6131 - acc: 0.7740 - val_loss: 1.0564 - val_acc: 0.6228\n",
      "Epoch 7/60\n",
      "213/213 [==============================] - 4s 18ms/step - loss: 0.5290 - acc: 0.8105 - val_loss: 1.0963 - val_acc: 0.6225\n",
      "Epoch 8/60\n",
      "213/213 [==============================] - 4s 18ms/step - loss: 0.4542 - acc: 0.8437 - val_loss: 1.1480 - val_acc: 0.6360\n",
      "Epoch 9/60\n",
      "213/213 [==============================] - 4s 18ms/step - loss: 0.3863 - acc: 0.8689 - val_loss: 1.2357 - val_acc: 0.6356\n",
      "Epoch 10/60\n",
      "213/213 [==============================] - 4s 18ms/step - loss: 0.3282 - acc: 0.8928 - val_loss: 1.3044 - val_acc: 0.6390\n",
      "Epoch 11/60\n",
      "213/213 [==============================] - 4s 18ms/step - loss: 0.2735 - acc: 0.9115 - val_loss: 1.3874 - val_acc: 0.6406\n",
      "Epoch 12/60\n",
      "213/213 [==============================] - 4s 18ms/step - loss: 0.2326 - acc: 0.9271 - val_loss: 1.4834 - val_acc: 0.6404\n",
      "Epoch 13/60\n",
      "213/213 [==============================] - 4s 18ms/step - loss: 0.1964 - acc: 0.9379 - val_loss: 1.5789 - val_acc: 0.6379\n",
      "Epoch 14/60\n",
      "213/213 [==============================] - 4s 18ms/step - loss: 0.1657 - acc: 0.9495 - val_loss: 1.6711 - val_acc: 0.6441\n",
      "Epoch 15/60\n",
      "213/213 [==============================] - 4s 18ms/step - loss: 0.1398 - acc: 0.9606 - val_loss: 1.7932 - val_acc: 0.6460\n",
      "Epoch 16/60\n",
      "213/213 [==============================] - 4s 18ms/step - loss: 0.1171 - acc: 0.9678 - val_loss: 1.8731 - val_acc: 0.6423\n",
      "Epoch 17/60\n",
      "213/213 [==============================] - 4s 18ms/step - loss: 0.0972 - acc: 0.9729 - val_loss: 1.9738 - val_acc: 0.6485\n",
      "Epoch 18/60\n",
      "213/213 [==============================] - 4s 18ms/step - loss: 0.0840 - acc: 0.9775 - val_loss: 2.0463 - val_acc: 0.6467\n",
      "Epoch 19/60\n",
      "213/213 [==============================] - 4s 18ms/step - loss: 0.0720 - acc: 0.9821 - val_loss: 2.1680 - val_acc: 0.6438\n",
      "Epoch 20/60\n",
      "213/213 [==============================] - 4s 18ms/step - loss: 0.0643 - acc: 0.9830 - val_loss: 2.2530 - val_acc: 0.6486\n",
      "Epoch 21/60\n",
      "213/213 [==============================] - 4s 18ms/step - loss: 0.0566 - acc: 0.9856 - val_loss: 2.3231 - val_acc: 0.6495\n",
      "Epoch 22/60\n",
      "213/213 [==============================] - 4s 18ms/step - loss: 0.0498 - acc: 0.9869 - val_loss: 2.4387 - val_acc: 0.6486\n",
      "Epoch 23/60\n",
      "213/213 [==============================] - 4s 18ms/step - loss: 0.0447 - acc: 0.9890 - val_loss: 2.5070 - val_acc: 0.6472\n",
      "Epoch 24/60\n",
      "213/213 [==============================] - 4s 18ms/step - loss: 0.0403 - acc: 0.9896 - val_loss: 2.6022 - val_acc: 0.6478\n",
      "Epoch 25/60\n",
      "213/213 [==============================] - 4s 18ms/step - loss: 0.0349 - acc: 0.9911 - val_loss: 2.6600 - val_acc: 0.6472\n",
      "Epoch 26/60\n",
      "213/213 [==============================] - 4s 18ms/step - loss: 0.0310 - acc: 0.9927 - val_loss: 2.7477 - val_acc: 0.6432\n",
      "Epoch 27/60\n",
      "213/213 [==============================] - 4s 19ms/step - loss: 0.0305 - acc: 0.9919 - val_loss: 2.8256 - val_acc: 0.6459\n",
      "Epoch 28/60\n",
      "213/213 [==============================] - 4s 18ms/step - loss: 0.0274 - acc: 0.9932 - val_loss: 2.8797 - val_acc: 0.6434\n",
      "Epoch 29/60\n",
      "213/213 [==============================] - 4s 18ms/step - loss: 0.0281 - acc: 0.9928 - val_loss: 2.9591 - val_acc: 0.6451\n",
      "Epoch 30/60\n",
      "213/213 [==============================] - 4s 18ms/step - loss: 0.0246 - acc: 0.9939 - val_loss: 3.0192 - val_acc: 0.6451\n",
      "Epoch 31/60\n",
      "213/213 [==============================] - 4s 18ms/step - loss: 0.0208 - acc: 0.9950 - val_loss: 3.0987 - val_acc: 0.6470\n",
      "Epoch 32/60\n",
      "213/213 [==============================] - 4s 18ms/step - loss: 0.0218 - acc: 0.9938 - val_loss: 3.1358 - val_acc: 0.6441\n",
      "Epoch 33/60\n",
      "213/213 [==============================] - 4s 18ms/step - loss: 0.0196 - acc: 0.9954 - val_loss: 3.2258 - val_acc: 0.6491\n",
      "Epoch 34/60\n",
      "213/213 [==============================] - 4s 18ms/step - loss: 0.0198 - acc: 0.9949 - val_loss: 3.2811 - val_acc: 0.6451\n",
      "Epoch 35/60\n",
      "213/213 [==============================] - 4s 18ms/step - loss: 0.0184 - acc: 0.9956 - val_loss: 3.3168 - val_acc: 0.6448\n",
      "Epoch 36/60\n",
      "213/213 [==============================] - 4s 18ms/step - loss: 0.0178 - acc: 0.9956 - val_loss: 3.3739 - val_acc: 0.6466\n",
      "Epoch 37/60\n",
      "213/213 [==============================] - 4s 18ms/step - loss: 0.0166 - acc: 0.9958 - val_loss: 3.3914 - val_acc: 0.6454\n",
      "Epoch 38/60\n",
      "213/213 [==============================] - 4s 18ms/step - loss: 0.0159 - acc: 0.9958 - val_loss: 3.4622 - val_acc: 0.6462\n",
      "Epoch 39/60\n",
      "213/213 [==============================] - 4s 18ms/step - loss: 0.0160 - acc: 0.9954 - val_loss: 3.4612 - val_acc: 0.6445\n",
      "Epoch 40/60\n",
      "213/213 [==============================] - 4s 18ms/step - loss: 0.0151 - acc: 0.9956 - val_loss: 3.5430 - val_acc: 0.6485\n",
      "Epoch 41/60\n",
      "213/213 [==============================] - 4s 18ms/step - loss: 0.0147 - acc: 0.9955 - val_loss: 3.5936 - val_acc: 0.6425\n",
      "Epoch 42/60\n",
      "213/213 [==============================] - 4s 18ms/step - loss: 0.0135 - acc: 0.9963 - val_loss: 3.6453 - val_acc: 0.6463\n",
      "Epoch 43/60\n",
      "213/213 [==============================] - 4s 18ms/step - loss: 0.0136 - acc: 0.9963 - val_loss: 3.6844 - val_acc: 0.6472\n",
      "Epoch 44/60\n",
      "213/213 [==============================] - 4s 18ms/step - loss: 0.0132 - acc: 0.9964 - val_loss: 3.6808 - val_acc: 0.6454\n",
      "Epoch 45/60\n",
      "213/213 [==============================] - 4s 18ms/step - loss: 0.0127 - acc: 0.9962 - val_loss: 3.7163 - val_acc: 0.6456\n",
      "Epoch 46/60\n",
      "213/213 [==============================] - 4s 18ms/step - loss: 0.0142 - acc: 0.9953 - val_loss: 3.7652 - val_acc: 0.6444\n",
      "Epoch 47/60\n",
      "213/213 [==============================] - 4s 18ms/step - loss: 0.0143 - acc: 0.9957 - val_loss: 3.8138 - val_acc: 0.6447\n",
      "Epoch 48/60\n",
      "213/213 [==============================] - 4s 18ms/step - loss: 0.0111 - acc: 0.9965 - val_loss: 3.8401 - val_acc: 0.6445\n",
      "Epoch 49/60\n",
      "213/213 [==============================] - 4s 18ms/step - loss: 0.0103 - acc: 0.9968 - val_loss: 3.8875 - val_acc: 0.6467\n",
      "Epoch 50/60\n",
      "213/213 [==============================] - 4s 18ms/step - loss: 0.0108 - acc: 0.9966 - val_loss: 3.9021 - val_acc: 0.6469\n",
      "Epoch 51/60\n",
      "213/213 [==============================] - 4s 18ms/step - loss: 0.0105 - acc: 0.9968 - val_loss: 3.9588 - val_acc: 0.6481\n",
      "Epoch 52/60\n",
      "213/213 [==============================] - 4s 18ms/step - loss: 0.0106 - acc: 0.9968 - val_loss: 4.0500 - val_acc: 0.6501\n",
      "Epoch 53/60\n",
      "213/213 [==============================] - 4s 18ms/step - loss: 0.0120 - acc: 0.9962 - val_loss: 3.9999 - val_acc: 0.6488\n",
      "Epoch 54/60\n",
      "213/213 [==============================] - 4s 18ms/step - loss: 0.0095 - acc: 0.9968 - val_loss: 4.0322 - val_acc: 0.6484\n",
      "Epoch 55/60\n",
      "213/213 [==============================] - 4s 18ms/step - loss: 0.0107 - acc: 0.9967 - val_loss: 4.1047 - val_acc: 0.6467\n",
      "Epoch 56/60\n",
      "213/213 [==============================] - 4s 18ms/step - loss: 0.0097 - acc: 0.9969 - val_loss: 4.1017 - val_acc: 0.6442\n",
      "Epoch 57/60\n",
      "213/213 [==============================] - 4s 18ms/step - loss: 0.0107 - acc: 0.9967 - val_loss: 4.1092 - val_acc: 0.6469\n",
      "Epoch 58/60\n",
      "213/213 [==============================] - 4s 18ms/step - loss: 0.0096 - acc: 0.9970 - val_loss: 4.2083 - val_acc: 0.6476\n",
      "Epoch 59/60\n",
      "213/213 [==============================] - 4s 18ms/step - loss: 0.0108 - acc: 0.9967 - val_loss: 4.1653 - val_acc: 0.6457\n",
      "Epoch 60/60\n",
      "213/213 [==============================] - 4s 18ms/step - loss: 0.0091 - acc: 0.9970 - val_loss: 4.2119 - val_acc: 0.6448\n"
     ]
    }
   ],
   "source": [
    "# Train the Model\n",
    "model.compile(optimizer=Adam(lr=1e-4),\n",
    "              loss='categorical_crossentropy',\n",
    "              metrics=['acc'])\n",
    "history = model.fit(X_train, y_train,\n",
    "                    epochs=60,\n",
    "                    batch_size=128,\n",
    "                    validation_split=0.2)"
   ]
  },
  {
   "cell_type": "code",
   "execution_count": 107,
   "metadata": {
    "scrolled": false
   },
   "outputs": [
    {
     "data": {
      "image/png": "[encoded data removed]",
      "text/plain": [
       "<Figure size 432x288 with 1 Axes>"
      ]
     },
     "metadata": {
      "needs_background": "light"
     },
     "output_type": "display_data"
    },
    {
     "data": {
      "image/png": "[encoded data removed]",
      "text/plain": [
       "<Figure size 432x288 with 1 Axes>"
      ]
     },
     "metadata": {
      "needs_background": "light"
     },
     "output_type": "display_data"
    }
   ],
   "source": [
    "# Plot the Training and Validation Accuracy & Loss Scores\n",
    "%matplotlib inline\n",
    "import matplotlib.pyplot as plt\n",
    "\n",
    "acc = history.history['acc']\n",
    "val_acc = history.history['val_acc']\n",
    "loss = history.history['loss']\n",
    "val_loss = history.history['val_loss']\n",
    "\n",
    "epochs = range(len(acc))\n",
    "\n",
    "plt.plot(epochs, acc, 'bo', label='Training acc')\n",
    "plt.plot(epochs, val_acc, 'b', label='Validation acc')\n",
    "plt.title('Training and validation accuracy')\n",
    "plt.legend()\n",
    "\n",
    "plt.figure()\n",
    "\n",
    "plt.plot(epochs, loss, 'bo', label='Training loss')\n",
    "plt.plot(epochs, val_loss, 'b', label='Validation loss')\n",
    "plt.title('Training and validation loss')\n",
    "plt.legend()\n",
    "\n",
    "plt.show()"
   ]
  },
  {
   "cell_type": "markdown",
   "metadata": {},
   "source": [
    "### Model #4.1 (Basic Model + cc.en.300.vec, Adam)"
   ]
  },
  {
   "cell_type": "code",
   "execution_count": 104,
   "metadata": {
    "scrolled": true
   },
   "outputs": [
    {
     "name": "stdout",
     "output_type": "stream",
     "text": [
      "Found 2000000 word vectors.\n"
     ]
    }
   ],
   "source": [
    "embeddings_index = {}\n",
    "f = open('cc.en.300.vec', encoding=\"utf8\")\n",
    "for line in f:\n",
    "    values = line.split()\n",
    "    word = values[0]\n",
    "    coefs = np.asarray(values[1:], dtype='float32')\n",
    "    embeddings_index[word] = coefs\n",
    "f.close()\n",
    "\n",
    "print('Found %s word vectors.' % len(embeddings_index))\n",
    "\n",
    "embedding_dim = 300\n",
    "\n",
    "embedding_matrix = np.zeros((max_words, embedding_dim))\n",
    "for word, i in word_index.items():\n",
    "    embedding_vector = embeddings_index.get(word)\n",
    "    if i < max_words:\n",
    "        if embedding_vector is not None:\n",
    "            # Words not found in embedding index will be all-zeros.\n",
    "            embedding_matrix[i] = embedding_vector"
   ]
  },
  {
   "cell_type": "code",
   "execution_count": 105,
   "metadata": {},
   "outputs": [
    {
     "name": "stdout",
     "output_type": "stream",
     "text": [
      "Model: \"sequential_11\"\n",
      "_________________________________________________________________\n",
      "Layer (type)                 Output Shape              Param #   \n",
      "=================================================================\n",
      "embedding_35 (Embedding)     (None, 34, 300)           30000000  \n",
      "_________________________________________________________________\n",
      "flatten_32 (Flatten)         (None, 10200)             0         \n",
      "_________________________________________________________________\n",
      "dense_31 (Dense)             (None, 300)               3060300   \n",
      "_________________________________________________________________\n",
      "dense_32 (Dense)             (None, 5)                 1505      \n",
      "=================================================================\n",
      "Total params: 33,061,805\n",
      "Trainable params: 33,061,805\n",
      "Non-trainable params: 0\n",
      "_________________________________________________________________\n",
      "Model: \"sequential_11\"\n",
      "_________________________________________________________________\n",
      "Layer (type)                 Output Shape              Param #   \n",
      "=================================================================\n",
      "embedding_35 (Embedding)     (None, 34, 300)           30000000  \n",
      "_________________________________________________________________\n",
      "flatten_32 (Flatten)         (None, 10200)             0         \n",
      "_________________________________________________________________\n",
      "dense_31 (Dense)             (None, 300)               3060300   \n",
      "_________________________________________________________________\n",
      "dense_32 (Dense)             (None, 5)                 1505      \n",
      "=================================================================\n",
      "Total params: 33,061,805\n",
      "Trainable params: 33,061,805\n",
      "Non-trainable params: 0\n",
      "_________________________________________________________________\n"
     ]
    }
   ],
   "source": [
    "# Build the Model\n",
    "from tensorflow.keras import regularizers\n",
    "\n",
    "model = Sequential()\n",
    "model.add(Embedding(max_words, embedding_dim, input_length=max_len))\n",
    "model.add(Flatten())\n",
    "model.add(Dense(300, activation='relu'))\n",
    "model.add(Dense(5, activation='softmax'))\n",
    "model.summary()\n",
    "\n",
    "model.layers[0].set_weights([embedding_matrix])\n",
    "model.layers[0].trainable = True\n",
    "model.summary()"
   ]
  },
  {
   "cell_type": "code",
   "execution_count": 106,
   "metadata": {
    "scrolled": true
   },
   "outputs": [
    {
     "name": "stdout",
     "output_type": "stream",
     "text": [
      "Epoch 1/5\n",
      "426/426 [==============================] - 135s 317ms/step - loss: 1.1661 - acc: 0.5028 - val_loss: 1.0488 - val_acc: 0.5673\n",
      "Epoch 2/5\n",
      "426/426 [==============================] - 135s 317ms/step - loss: 0.9275 - acc: 0.6411 - val_loss: 0.9661 - val_acc: 0.6149\n",
      "Epoch 3/5\n",
      "426/426 [==============================] - 137s 321ms/step - loss: 0.7417 - acc: 0.7363 - val_loss: 0.9271 - val_acc: 0.6296\n",
      "Epoch 4/5\n",
      "426/426 [==============================] - 141s 331ms/step - loss: 0.5561 - acc: 0.8242 - val_loss: 0.9173 - val_acc: 0.6506\n",
      "Epoch 5/5\n",
      "426/426 [==============================] - 140s 329ms/step - loss: 0.3866 - acc: 0.8917 - val_loss: 0.9369 - val_acc: 0.6506\n"
     ]
    }
   ],
   "source": [
    "# Train the Model\n",
    "model.compile(optimizer=Adam(lr=1e-4),\n",
    "              loss='categorical_crossentropy',\n",
    "              metrics=['acc'])\n",
    "history = model.fit(X_train, y_train,\n",
    "                    epochs=5,\n",
    "                    batch_size=64,\n",
    "                    validation_split=0.2)"
   ]
  },
  {
   "cell_type": "code",
   "execution_count": 107,
   "metadata": {
    "scrolled": true
   },
   "outputs": [
    {
     "data": {
      "image/png": "[encoded data removed]",
      "text/plain": [
       "<Figure size 432x288 with 1 Axes>"
      ]
     },
     "metadata": {
      "needs_background": "light"
     },
     "output_type": "display_data"
    },
    {
     "data": {
      "image/png": "[encoded data removed]",
      "text/plain": [
       "<Figure size 432x288 with 1 Axes>"
      ]
     },
     "metadata": {
      "needs_background": "light"
     },
     "output_type": "display_data"
    }
   ],
   "source": [
    "# Plot the Training and Validation Accuracy & Loss Scores\n",
    "%matplotlib inline\n",
    "import matplotlib.pyplot as plt\n",
    "\n",
    "acc = history.history['acc']\n",
    "val_acc = history.history['val_acc']\n",
    "loss = history.history['loss']\n",
    "val_loss = history.history['val_loss']\n",
    "\n",
    "epochs = range(len(acc))\n",
    "\n",
    "plt.plot(epochs, acc, 'bo', label='Training acc')\n",
    "plt.plot(epochs, val_acc, 'b', label='Validation acc')\n",
    "plt.title('Training and validation accuracy')\n",
    "plt.legend()\n",
    "\n",
    "plt.figure()\n",
    "\n",
    "plt.plot(epochs, loss, 'bo', label='Training loss')\n",
    "plt.plot(epochs, val_loss, 'b', label='Validation loss')\n",
    "plt.title('Training and validation loss')\n",
    "plt.legend()\n",
    "\n",
    "plt.show()"
   ]
  },
  {
   "cell_type": "code",
   "execution_count": 108,
   "metadata": {},
   "outputs": [],
   "source": [
    "# Save the Best Model\n",
    "model.save('fasttext_model.h5')"
   ]
  },
  {
   "cell_type": "markdown",
   "metadata": {},
   "source": [
    "### Model #4.2 (Basic Model + cc.en.300.vec, RMSprop)"
   ]
  },
  {
   "cell_type": "code",
   "execution_count": 17,
   "metadata": {
    "scrolled": true
   },
   "outputs": [
    {
     "name": "stdout",
     "output_type": "stream",
     "text": [
      "Found 2000000 word vectors.\n"
     ]
    }
   ],
   "source": [
    "embeddings_index = {}\n",
    "f = open('cc.en.300.vec', encoding=\"utf8\")\n",
    "for line in f:\n",
    "    values = line.split()\n",
    "    word = values[0]\n",
    "    coefs = np.asarray(values[1:], dtype='float32')\n",
    "    embeddings_index[word] = coefs\n",
    "f.close()\n",
    "\n",
    "print('Found %s word vectors.' % len(embeddings_index))\n",
    "\n",
    "embedding_dim = 300\n",
    "\n",
    "embedding_matrix = np.zeros((max_words, embedding_dim))\n",
    "for word, i in word_index.items():\n",
    "    embedding_vector = embeddings_index.get(word)\n",
    "    if i < max_words:\n",
    "        if embedding_vector is not None:\n",
    "            # Words not found in embedding index will be all-zeros.\n",
    "            embedding_matrix[i] = embedding_vector"
   ]
  },
  {
   "cell_type": "code",
   "execution_count": 23,
   "metadata": {},
   "outputs": [
    {
     "name": "stdout",
     "output_type": "stream",
     "text": [
      "Model: \"sequential_1\"\n",
      "_________________________________________________________________\n",
      "Layer (type)                 Output Shape              Param #   \n",
      "=================================================================\n",
      "embedding_1 (Embedding)      (None, 34, 300)           30000000  \n",
      "_________________________________________________________________\n",
      "flatten_1 (Flatten)          (None, 10200)             0         \n",
      "_________________________________________________________________\n",
      "dense_2 (Dense)              (None, 300)               3060300   \n",
      "_________________________________________________________________\n",
      "dense_3 (Dense)              (None, 5)                 1505      \n",
      "=================================================================\n",
      "Total params: 33,061,805\n",
      "Trainable params: 33,061,805\n",
      "Non-trainable params: 0\n",
      "_________________________________________________________________\n",
      "Model: \"sequential_1\"\n",
      "_________________________________________________________________\n",
      "Layer (type)                 Output Shape              Param #   \n",
      "=================================================================\n",
      "embedding_1 (Embedding)      (None, 34, 300)           30000000  \n",
      "_________________________________________________________________\n",
      "flatten_1 (Flatten)          (None, 10200)             0         \n",
      "_________________________________________________________________\n",
      "dense_2 (Dense)              (None, 300)               3060300   \n",
      "_________________________________________________________________\n",
      "dense_3 (Dense)              (None, 5)                 1505      \n",
      "=================================================================\n",
      "Total params: 33,061,805\n",
      "Trainable params: 33,061,805\n",
      "Non-trainable params: 0\n",
      "_________________________________________________________________\n"
     ]
    }
   ],
   "source": [
    "# Build the Model\n",
    "from tensorflow.keras import regularizers\n",
    "\n",
    "model = Sequential()\n",
    "model.add(Embedding(max_words, embedding_dim, input_length=max_len))\n",
    "model.add(Flatten())\n",
    "model.add(Dense(300, activation='relu'))\n",
    "model.add(Dense(5, activation='softmax'))\n",
    "model.summary()\n",
    "\n",
    "model.layers[0].set_weights([embedding_matrix])\n",
    "model.layers[0].trainable = True\n",
    "model.summary()"
   ]
  },
  {
   "cell_type": "code",
   "execution_count": 24,
   "metadata": {
    "scrolled": true
   },
   "outputs": [
    {
     "name": "stdout",
     "output_type": "stream",
     "text": [
      "Epoch 1/5\n",
      "213/213 [==============================] - 54s 253ms/step - loss: 1.1916 - acc: 0.4874 - val_loss: 1.1029 - val_acc: 0.5400\n",
      "Epoch 2/5\n",
      "213/213 [==============================] - 54s 254ms/step - loss: 1.0189 - acc: 0.5895 - val_loss: 1.0272 - val_acc: 0.5809\n",
      "Epoch 3/5\n",
      "213/213 [==============================] - 54s 255ms/step - loss: 0.9219 - acc: 0.6417 - val_loss: 0.9890 - val_acc: 0.5950\n",
      "Epoch 4/5\n",
      "213/213 [==============================] - 54s 254ms/step - loss: 0.8426 - acc: 0.6818 - val_loss: 0.9734 - val_acc: 0.6081\n",
      "Epoch 5/5\n",
      "213/213 [==============================] - 54s 254ms/step - loss: 0.7706 - acc: 0.7195 - val_loss: 0.9555 - val_acc: 0.6138\n"
     ]
    }
   ],
   "source": [
    "# Train the Model\n",
    "model.compile(optimizer=RMSprop(lr=1e-4),\n",
    "              loss='categorical_crossentropy',\n",
    "              metrics=['acc'])\n",
    "history = model.fit(X_train, y_train,\n",
    "                    epochs=5,\n",
    "                    batch_size=128,\n",
    "                    validation_split=0.2)"
   ]
  },
  {
   "cell_type": "code",
   "execution_count": 25,
   "metadata": {
    "scrolled": true
   },
   "outputs": [
    {
     "data": {
      "image/png": "[encoded data removed]",
      "text/plain": [
       "<Figure size 432x288 with 1 Axes>"
      ]
     },
     "metadata": {
      "needs_background": "light"
     },
     "output_type": "display_data"
    },
    {
     "data": {
      "image/png": "[encoded data removed]",
      "text/plain": [
       "<Figure size 432x288 with 1 Axes>"
      ]
     },
     "metadata": {
      "needs_background": "light"
     },
     "output_type": "display_data"
    }
   ],
   "source": [
    "# Plot the Training and Validation Accuracy & Loss Scores\n",
    "%matplotlib inline\n",
    "import matplotlib.pyplot as plt\n",
    "\n",
    "acc = history.history['acc']\n",
    "val_acc = history.history['val_acc']\n",
    "loss = history.history['loss']\n",
    "val_loss = history.history['val_loss']\n",
    "\n",
    "epochs = range(len(acc))\n",
    "\n",
    "plt.plot(epochs, acc, 'bo', label='Training acc')\n",
    "plt.plot(epochs, val_acc, 'b', label='Validation acc')\n",
    "plt.title('Training and validation accuracy')\n",
    "plt.legend()\n",
    "\n",
    "plt.figure()\n",
    "\n",
    "plt.plot(epochs, loss, 'bo', label='Training loss')\n",
    "plt.plot(epochs, val_loss, 'b', label='Validation loss')\n",
    "plt.title('Training and validation loss')\n",
    "plt.legend()\n",
    "\n",
    "plt.show()"
   ]
  },
  {
   "cell_type": "markdown",
   "metadata": {},
   "source": [
    "### Model #4.3 (Basic Model + cc.en.300.vec, Adam, GRU)"
   ]
  },
  {
   "cell_type": "code",
   "execution_count": 17,
   "metadata": {
    "scrolled": true
   },
   "outputs": [
    {
     "name": "stdout",
     "output_type": "stream",
     "text": [
      "Found 2000000 word vectors.\n"
     ]
    }
   ],
   "source": [
    "embeddings_index = {}\n",
    "f = open('cc.en.300.vec', encoding=\"utf8\")\n",
    "for line in f:\n",
    "    values = line.split()\n",
    "    word = values[0]\n",
    "    coefs = np.asarray(values[1:], dtype='float32')\n",
    "    embeddings_index[word] = coefs\n",
    "f.close()\n",
    "\n",
    "print('Found %s word vectors.' % len(embeddings_index))\n",
    "\n",
    "embedding_dim = 300\n",
    "\n",
    "embedding_matrix = np.zeros((max_words, embedding_dim))\n",
    "for word, i in word_index.items():\n",
    "    embedding_vector = embeddings_index.get(word)\n",
    "    if i < max_words:\n",
    "        if embedding_vector is not None:\n",
    "            # Words not found in embedding index will be all-zeros.\n",
    "            embedding_matrix[i] = embedding_vector"
   ]
  },
  {
   "cell_type": "code",
   "execution_count": 31,
   "metadata": {},
   "outputs": [
    {
     "name": "stdout",
     "output_type": "stream",
     "text": [
      "Model: \"sequential_3\"\n",
      "_________________________________________________________________\n",
      "Layer (type)                 Output Shape              Param #   \n",
      "=================================================================\n",
      "embedding_3 (Embedding)      (None, 34, 300)           30000000  \n",
      "_________________________________________________________________\n",
      "gru_1 (GRU)                  (None, 34, 512)           1250304   \n",
      "_________________________________________________________________\n",
      "flatten_3 (Flatten)          (None, 17408)             0         \n",
      "_________________________________________________________________\n",
      "dense_6 (Dense)              (None, 300)               5222700   \n",
      "_________________________________________________________________\n",
      "dense_7 (Dense)              (None, 5)                 1505      \n",
      "=================================================================\n",
      "Total params: 36,474,509\n",
      "Trainable params: 36,474,509\n",
      "Non-trainable params: 0\n",
      "_________________________________________________________________\n",
      "Model: \"sequential_3\"\n",
      "_________________________________________________________________\n",
      "Layer (type)                 Output Shape              Param #   \n",
      "=================================================================\n",
      "embedding_3 (Embedding)      (None, 34, 300)           30000000  \n",
      "_________________________________________________________________\n",
      "gru_1 (GRU)                  (None, 34, 512)           1250304   \n",
      "_________________________________________________________________\n",
      "flatten_3 (Flatten)          (None, 17408)             0         \n",
      "_________________________________________________________________\n",
      "dense_6 (Dense)              (None, 300)               5222700   \n",
      "_________________________________________________________________\n",
      "dense_7 (Dense)              (None, 5)                 1505      \n",
      "=================================================================\n",
      "Total params: 36,474,509\n",
      "Trainable params: 36,474,509\n",
      "Non-trainable params: 0\n",
      "_________________________________________________________________\n"
     ]
    }
   ],
   "source": [
    "# Build the Model\n",
    "from tensorflow.keras import regularizers\n",
    "\n",
    "model = Sequential()\n",
    "model.add(Embedding(max_words, embedding_dim, input_length=max_len))\n",
    "model.add(GRU(512, return_sequences=True))\n",
    "model.add(Flatten())\n",
    "model.add(Dense(300, activation='relu'))\n",
    "model.add(Dense(5, activation='softmax'))\n",
    "model.summary()\n",
    "\n",
    "model.layers[0].set_weights([embedding_matrix])\n",
    "model.layers[0].trainable = True\n",
    "model.summary()"
   ]
  },
  {
   "cell_type": "code",
   "execution_count": 27,
   "metadata": {
    "scrolled": true
   },
   "outputs": [
    {
     "name": "stdout",
     "output_type": "stream",
     "text": [
      "Epoch 1/5\n",
      "213/213 [==============================] - 55s 257ms/step - loss: 1.1202 - acc: 0.5208 - val_loss: 1.0239 - val_acc: 0.5784\n",
      "Epoch 2/5\n",
      "213/213 [==============================] - 55s 256ms/step - loss: 0.9648 - acc: 0.6059 - val_loss: 1.0215 - val_acc: 0.5855\n",
      "Epoch 3/5\n",
      "213/213 [==============================] - 54s 254ms/step - loss: 0.8848 - acc: 0.6490 - val_loss: 0.9507 - val_acc: 0.6130\n",
      "Epoch 4/5\n",
      "213/213 [==============================] - 54s 256ms/step - loss: 0.8161 - acc: 0.6807 - val_loss: 0.9352 - val_acc: 0.6222\n",
      "Epoch 5/5\n",
      "213/213 [==============================] - 54s 255ms/step - loss: 0.7507 - acc: 0.7103 - val_loss: 0.9298 - val_acc: 0.6294\n"
     ]
    }
   ],
   "source": [
    "# Train the Model\n",
    "model.compile(optimizer=RMSprop(lr=1e-4),\n",
    "              loss='categorical_crossentropy',\n",
    "              metrics=['acc'])\n",
    "history = model.fit(X_train, y_train,\n",
    "                    epochs=5,\n",
    "                    batch_size=128,\n",
    "                    validation_split=0.2)"
   ]
  },
  {
   "cell_type": "code",
   "execution_count": 28,
   "metadata": {
    "scrolled": true
   },
   "outputs": [
    {
     "data": {
      "image/png": "[encoded data removed]",
      "text/plain": [
       "<Figure size 432x288 with 1 Axes>"
      ]
     },
     "metadata": {
      "needs_background": "light"
     },
     "output_type": "display_data"
    },
    {
     "data": {
      "image/png": "[encoded data removed]",
      "text/plain": [
       "<Figure size 432x288 with 1 Axes>"
      ]
     },
     "metadata": {
      "needs_background": "light"
     },
     "output_type": "display_data"
    }
   ],
   "source": [
    "# Plot the Training and Validation Accuracy & Loss Scores\n",
    "%matplotlib inline\n",
    "import matplotlib.pyplot as plt\n",
    "\n",
    "acc = history.history['acc']\n",
    "val_acc = history.history['val_acc']\n",
    "loss = history.history['loss']\n",
    "val_loss = history.history['val_loss']\n",
    "\n",
    "epochs = range(len(acc))\n",
    "\n",
    "plt.plot(epochs, acc, 'bo', label='Training acc')\n",
    "plt.plot(epochs, val_acc, 'b', label='Validation acc')\n",
    "plt.title('Training and validation accuracy')\n",
    "plt.legend()\n",
    "\n",
    "plt.figure()\n",
    "\n",
    "plt.plot(epochs, loss, 'bo', label='Training loss')\n",
    "plt.plot(epochs, val_loss, 'b', label='Validation loss')\n",
    "plt.title('Training and validation loss')\n",
    "plt.legend()\n",
    "\n",
    "plt.show()"
   ]
  },
  {
   "cell_type": "markdown",
   "metadata": {},
   "source": [
    "### Model #5 (Multilayer CNN)"
   ]
  },
  {
   "cell_type": "code",
   "execution_count": 10,
   "metadata": {},
   "outputs": [
    {
     "name": "stdout",
     "output_type": "stream",
     "text": [
      "Found 54076 unique tokens.\n",
      "Shape of data tensor: (42546, 34)\n",
      "Shape of label tensor: (42546,)\n"
     ]
    }
   ],
   "source": [
    "# Convert the texts and labels into numeric tensors\n",
    "from tensorflow.keras.preprocessing.text import Tokenizer\n",
    "from tensorflow.keras.preprocessing.sequence import pad_sequences\n",
    "from tensorflow.keras.utils import to_categorical\n",
    "\n",
    "import numpy as np\n",
    "#training_samples = 20000 # We will be training on 20000 samples\n",
    "#validation_samples = 5000 # We will be validating on 5000 samples\n",
    "max_words = 10000 # We will only consider the top 10,000 words (vocabulary) in the dataset (dictionary)\n",
    "tokenizer = Tokenizer(num_words=max_words)\n",
    "# Updates internal vocabulary based on a list of texts.\n",
    "# In the case where texts contains lists, we assume each entry of the lists to be a token.\n",
    "tokenizer.fit_on_texts(texts)\n",
    "# Transforms each text in texts to a sequence of integers.\n",
    "# Only top num_words-1 most frequent words will be taken into account.\n",
    "# Only words known by the tokenizer will be taken into account.\n",
    "sequences = tokenizer.texts_to_sequences(texts)\n",
    "word_index = tokenizer.word_index\n",
    "print('Found %s unique tokens.' % len(word_index))\n",
    "data = pad_sequences(sequences, maxlen=max_len)\n",
    "labels = np.asarray(labels)\n",
    "X, y = data, to_categorical(labels)\n",
    "\n",
    "print('Shape of data tensor:', data.shape)\n",
    "print('Shape of label tensor:', labels.shape)\n"
   ]
  },
  {
   "cell_type": "code",
   "execution_count": 11,
   "metadata": {},
   "outputs": [],
   "source": [
    "# Split the X & y into train and test sets\n",
    "from sklearn.model_selection import train_test_split\n",
    "X_train, X_test, y_train, y_test = train_test_split(X, y, test_size=0.2, random_state = 4)\n",
    "# Refer the report Appendix\n",
    "# Please enter the random_state assigned to your group"
   ]
  },
  {
   "cell_type": "code",
   "execution_count": 13,
   "metadata": {},
   "outputs": [
    {
     "name": "stdout",
     "output_type": "stream",
     "text": [
      "Model: \"model_2\"\n",
      "__________________________________________________________________________________________________\n",
      "Layer (type)                    Output Shape         Param #     Connected to                     \n",
      "==================================================================================================\n",
      "input_7 (InputLayer)            [(None, 34)]         0                                            \n",
      "__________________________________________________________________________________________________\n",
      "input_8 (InputLayer)            [(None, 34)]         0                                            \n",
      "__________________________________________________________________________________________________\n",
      "input_9 (InputLayer)            [(None, 34)]         0                                            \n",
      "__________________________________________________________________________________________________\n",
      "embedding_6 (Embedding)         (None, 34, 100)      1000000     input_7[0][0]                    \n",
      "__________________________________________________________________________________________________\n",
      "embedding_7 (Embedding)         (None, 34, 100)      1000000     input_8[0][0]                    \n",
      "__________________________________________________________________________________________________\n",
      "embedding_8 (Embedding)         (None, 34, 100)      1000000     input_9[0][0]                    \n",
      "__________________________________________________________________________________________________\n",
      "conv1d_6 (Conv1D)               (None, 31, 128)      51328       embedding_6[0][0]                \n",
      "__________________________________________________________________________________________________\n",
      "conv1d_7 (Conv1D)               (None, 29, 128)      76928       embedding_7[0][0]                \n",
      "__________________________________________________________________________________________________\n",
      "conv1d_8 (Conv1D)               (None, 27, 128)      102528      embedding_8[0][0]                \n",
      "__________________________________________________________________________________________________\n",
      "dropout_6 (Dropout)             (None, 31, 128)      0           conv1d_6[0][0]                   \n",
      "__________________________________________________________________________________________________\n",
      "dropout_7 (Dropout)             (None, 29, 128)      0           conv1d_7[0][0]                   \n",
      "__________________________________________________________________________________________________\n",
      "dropout_8 (Dropout)             (None, 27, 128)      0           conv1d_8[0][0]                   \n",
      "__________________________________________________________________________________________________\n",
      "max_pooling1d_6 (MaxPooling1D)  (None, 15, 128)      0           dropout_6[0][0]                  \n",
      "__________________________________________________________________________________________________\n",
      "max_pooling1d_7 (MaxPooling1D)  (None, 14, 128)      0           dropout_7[0][0]                  \n",
      "__________________________________________________________________________________________________\n",
      "max_pooling1d_8 (MaxPooling1D)  (None, 13, 128)      0           dropout_8[0][0]                  \n",
      "__________________________________________________________________________________________________\n",
      "flatten_6 (Flatten)             (None, 1920)         0           max_pooling1d_6[0][0]            \n",
      "__________________________________________________________________________________________________\n",
      "flatten_7 (Flatten)             (None, 1792)         0           max_pooling1d_7[0][0]            \n",
      "__________________________________________________________________________________________________\n",
      "flatten_8 (Flatten)             (None, 1664)         0           max_pooling1d_8[0][0]            \n",
      "__________________________________________________________________________________________________\n",
      "concatenate_2 (Concatenate)     (None, 5376)         0           flatten_6[0][0]                  \n",
      "                                                                 flatten_7[0][0]                  \n",
      "                                                                 flatten_8[0][0]                  \n",
      "__________________________________________________________________________________________________\n",
      "dense_4 (Dense)                 (None, 10)           53770       concatenate_2[0][0]              \n",
      "__________________________________________________________________________________________________\n",
      "dense_5 (Dense)                 (None, 5)            55          dense_4[0][0]                    \n",
      "==================================================================================================\n",
      "Total params: 3,284,609\n",
      "Trainable params: 3,284,609\n",
      "Non-trainable params: 0\n",
      "__________________________________________________________________________________________________\n"
     ]
    }
   ],
   "source": [
    "# Build the Model (Credits: Jason Brownlee)\n",
    "from tensorflow.keras.models import Model\n",
    "from tensorflow.keras.layers import Input\n",
    "from tensorflow.keras.layers import Dense\n",
    "from tensorflow.keras.layers import Flatten\n",
    "from tensorflow.keras.layers import Dropout\n",
    "from tensorflow.keras.layers import Embedding\n",
    "from tensorflow.keras.layers import Conv1D\n",
    "from tensorflow.keras.layers import MaxPooling1D\n",
    "from tensorflow.keras.layers import concatenate\n",
    "\n",
    "inputs1 = Input(shape=(max_len,))\n",
    "embedding1 = Embedding(max_words, 100)(inputs1)\n",
    "conv1 = Conv1D(filters=128, kernel_size=4, activation='relu')(embedding1)\n",
    "drop1 = Dropout(0.25)(conv1)\n",
    "pool1 = MaxPooling1D(pool_size=2)(drop1)\n",
    "flat1 = Flatten()(pool1)\n",
    "\n",
    "inputs2 = Input(shape=(max_len,))\n",
    "embedding2 = Embedding(max_words, 100)(inputs2)\n",
    "conv2 = Conv1D(filters=128, kernel_size=6, activation='relu')(embedding2)\n",
    "drop2 = Dropout(0.25)(conv2)\n",
    "pool2 = MaxPooling1D(pool_size=2)(drop2)\n",
    "flat2 = Flatten()(pool2)\n",
    "\n",
    "inputs3 = Input(shape=(max_len,))\n",
    "embedding3 = Embedding(max_words, 100)(inputs3)\n",
    "conv3 = Conv1D(filters=128, kernel_size=8, activation='relu')(embedding3)\n",
    "drop3 = Dropout(0.25)(conv3)\n",
    "pool3 = MaxPooling1D(pool_size=2)(drop3)\n",
    "flat3 = Flatten()(pool3)\n",
    "\n",
    "merged = concatenate([flat1, flat2, flat3])\n",
    "\n",
    "dense1 = Dense(10, activation='relu')(merged)\n",
    "outputs = Dense(5, activation='softmax')(dense1)\n",
    "model = Model(inputs=[inputs1, inputs2, inputs3], outputs=outputs)\n",
    "\n",
    "model.summary()"
   ]
  },
  {
   "cell_type": "code",
   "execution_count": 14,
   "metadata": {
    "scrolled": true
   },
   "outputs": [
    {
     "name": "stdout",
     "output_type": "stream",
     "text": [
      "Epoch 1/10\n",
      "213/213 [==============================] - 6s 29ms/step - loss: 1.4757 - acc: 0.4205 - val_loss: 1.4331 - val_acc: 0.4289\n",
      "Epoch 2/10\n",
      "213/213 [==============================] - 6s 29ms/step - loss: 1.3468 - acc: 0.4368 - val_loss: 1.2679 - val_acc: 0.4824\n",
      "Epoch 3/10\n",
      "213/213 [==============================] - 6s 29ms/step - loss: 1.1929 - acc: 0.5042 - val_loss: 1.1856 - val_acc: 0.5095\n",
      "Epoch 4/10\n",
      "213/213 [==============================] - 6s 29ms/step - loss: 1.1139 - acc: 0.5304 - val_loss: 1.1424 - val_acc: 0.5169\n",
      "Epoch 5/10\n",
      "213/213 [==============================] - 6s 29ms/step - loss: 1.0489 - acc: 0.5502 - val_loss: 1.1176 - val_acc: 0.5261\n",
      "Epoch 6/10\n",
      "213/213 [==============================] - 6s 29ms/step - loss: 0.9846 - acc: 0.5775 - val_loss: 1.0877 - val_acc: 0.5351\n",
      "Epoch 7/10\n",
      "213/213 [==============================] - 6s 29ms/step - loss: 0.9122 - acc: 0.6190 - val_loss: 1.0653 - val_acc: 0.5577\n",
      "Epoch 8/10\n",
      "213/213 [==============================] - 6s 29ms/step - loss: 0.8353 - acc: 0.6820 - val_loss: 1.0572 - val_acc: 0.5759\n",
      "Epoch 9/10\n",
      "213/213 [==============================] - 6s 29ms/step - loss: 0.7671 - acc: 0.7189 - val_loss: 1.0589 - val_acc: 0.5825\n",
      "Epoch 10/10\n",
      "213/213 [==============================] - 6s 29ms/step - loss: 0.7061 - acc: 0.7435 - val_loss: 1.0628 - val_acc: 0.5906\n"
     ]
    }
   ],
   "source": [
    "# Train the Model\n",
    "model.compile(optimizer=Adam(lr=1e-4),\n",
    "              loss='categorical_crossentropy',\n",
    "              metrics=['acc'])\n",
    "history = model.fit([X_train, X_train, X_train], y_train,\n",
    "                    epochs=10,\n",
    "                    batch_size=128,\n",
    "                    validation_split=0.2)"
   ]
  },
  {
   "cell_type": "code",
   "execution_count": 15,
   "metadata": {
    "scrolled": true
   },
   "outputs": [
    {
     "data": {
      "image/png": "[encoded data removed]",
      "text/plain": [
       "<Figure size 432x288 with 1 Axes>"
      ]
     },
     "metadata": {
      "needs_background": "light"
     },
     "output_type": "display_data"
    },
    {
     "data": {
      "image/png": "[encoded data removed]",
      "text/plain": [
       "<Figure size 432x288 with 1 Axes>"
      ]
     },
     "metadata": {
      "needs_background": "light"
     },
     "output_type": "display_data"
    }
   ],
   "source": [
    "# Plot the Training and Validation Accuracy & Loss Scores\n",
    "%matplotlib inline\n",
    "import matplotlib.pyplot as plt\n",
    "\n",
    "acc = history.history['acc']\n",
    "val_acc = history.history['val_acc']\n",
    "loss = history.history['loss']\n",
    "val_loss = history.history['val_loss']\n",
    "\n",
    "epochs = range(len(acc))\n",
    "\n",
    "plt.plot(epochs, acc, 'bo', label='Training acc')\n",
    "plt.plot(epochs, val_acc, 'b', label='Validation acc')\n",
    "plt.title('Training and validation accuracy')\n",
    "plt.legend()\n",
    "\n",
    "plt.figure()\n",
    "\n",
    "plt.plot(epochs, loss, 'bo', label='Training loss')\n",
    "plt.plot(epochs, val_loss, 'b', label='Validation loss')\n",
    "plt.title('Training and validation loss')\n",
    "plt.legend()\n",
    "\n",
    "plt.show()"
   ]
  },
  {
   "cell_type": "code",
   "execution_count": 16,
   "metadata": {},
   "outputs": [],
   "source": [
    "# Save the Best Model\n",
    "model.save('multilayer-cnn_model.h5')"
   ]
  },
  {
   "cell_type": "markdown",
   "metadata": {},
   "source": [
    "## Step 3 – Evaluate the Model using Testing Data "
   ]
  },
  {
   "cell_type": "code",
   "execution_count": 23,
   "metadata": {},
   "outputs": [
    {
     "name": "stdout",
     "output_type": "stream",
     "text": [
      "WARNING:tensorflow:Error in loading the saved optimizer state. As a result, your model is starting with a freshly initialized optimizer.\n",
      "67/67 [==============================] - 1s 8ms/step - loss: 1.2528 - acc: 0.6166\n",
      "test loss, test acc: [1.2527891397476196, 0.6165687441825867]\n"
     ]
    }
   ],
   "source": [
    "# Model #1 (replicate where necessary for other models)\n",
    "model = models.load_model('basic_GRU.h5')\n",
    "\n",
    "results = model.evaluate(X_test, y_test, batch_size=128)\n",
    "print(\"test loss, test acc:\", results)"
   ]
  },
  {
   "cell_type": "code",
   "execution_count": 25,
   "metadata": {},
   "outputs": [
    {
     "name": "stdout",
     "output_type": "stream",
     "text": [
      "WARNING:tensorflow:Error in loading the saved optimizer state. As a result, your model is starting with a freshly initialized optimizer.\n",
      "67/67 [==============================] - 0s 4ms/step - loss: 0.9219 - acc: 0.6588\n",
      "test loss, test acc: [0.9218924045562744, 0.6587544083595276]\n"
     ]
    }
   ],
   "source": [
    "# Model #1 (replicate where necessary for other models)\n",
    "model = models.load_model('fasttext_model.h5')\n",
    "\n",
    "results = model.evaluate(X_test, y_test, batch_size=128)\n",
    "print(\"test loss, test acc:\", results)"
   ]
  },
  {
   "cell_type": "code",
   "execution_count": 27,
   "metadata": {},
   "outputs": [
    {
     "name": "stdout",
     "output_type": "stream",
     "text": [
      "WARNING:tensorflow:Error in loading the saved optimizer state. As a result, your model is starting with a freshly initialized optimizer.\n",
      "67/67 [==============================] - 0s 4ms/step - loss: 1.2449 - acc: 0.6467\n",
      "test loss, test acc: [1.2448776960372925, 0.6466509699821472]\n"
     ]
    }
   ],
   "source": [
    "# Model #1 (replicate where necessary for other models)\n",
    "model = models.load_model('glovetwitter_model.h5')\n",
    "\n",
    "results = model.evaluate(X_test, y_test, batch_size=128)\n",
    "print(\"test loss, test acc:\", results)"
   ]
  },
  {
   "cell_type": "code",
   "execution_count": 6,
   "metadata": {
    "scrolled": true
   },
   "outputs": [
    {
     "name": "stdout",
     "output_type": "stream",
     "text": [
      "Found 54076 unique tokens.\n",
      "Shape of data tensor: (42546, 34)\n",
      "Shape of label tensor: (42546,)\n"
     ]
    }
   ],
   "source": [
    "# Convert the texts and labels into numeric tensors\n",
    "from tensorflow.keras.preprocessing.text import Tokenizer\n",
    "from tensorflow.keras.preprocessing.sequence import pad_sequences\n",
    "from tensorflow.keras.utils import to_categorical\n",
    "\n",
    "import numpy as np\n",
    "#training_samples = 20000 # We will be training on 20000 samples\n",
    "#validation_samples = 5000 # We will be validating on 5000 samples\n",
    "max_words = 10000 # We will only consider the top 10,000 words (vocabulary) in the dataset (dictionary)\n",
    "tokenizer = Tokenizer(num_words=max_words)\n",
    "# Updates internal vocabulary based on a list of texts.\n",
    "# In the case where texts contains lists, we assume each entry of the lists to be a token.\n",
    "tokenizer.fit_on_texts(texts)\n",
    "# Transforms each text in texts to a sequence of integers.\n",
    "# Only top num_words-1 most frequent words will be taken into account.\n",
    "# Only words known by the tokenizer will be taken into account.\n",
    "sequences = tokenizer.texts_to_sequences(texts)\n",
    "word_index = tokenizer.word_index\n",
    "print('Found %s unique tokens.' % len(word_index))\n",
    "data = pad_sequences(sequences, maxlen=max_len)\n",
    "labels = np.asarray(labels)\n",
    "X, y = data, to_categorical(labels)\n",
    "\n",
    "print('Shape of data tensor:', data.shape)\n",
    "print('Shape of label tensor:', labels.shape)\n"
   ]
  },
  {
   "cell_type": "code",
   "execution_count": 7,
   "metadata": {},
   "outputs": [],
   "source": [
    "# Split the X & y into train and test sets\n",
    "from sklearn.model_selection import train_test_split\n",
    "X_train, X_test, y_train, y_test = train_test_split(X, y, test_size=0.2, random_state = 4)\n",
    "# Refer the report Appendix\n",
    "# Please enter the random_state assigned to your group"
   ]
  },
  {
   "cell_type": "code",
   "execution_count": 21,
   "metadata": {},
   "outputs": [
    {
     "name": "stdout",
     "output_type": "stream",
     "text": [
      "WARNING:tensorflow:Error in loading the saved optimizer state. As a result, your model is starting with a freshly initialized optimizer.\n",
      "67/67 [==============================] - 0s 5ms/step - loss: 1.0473 - acc: 0.5948\n",
      "test loss, test acc: [1.0473467111587524, 0.5948296189308167]\n"
     ]
    }
   ],
   "source": [
    "# Model #1 (replicate where necessary for other models)\n",
    "model = models.load_model('multilayer-cnn_model.h5')\n",
    "\n",
    "results = model.evaluate([X_test, X_test, X_test], y_test, batch_size=128)\n",
    "print(\"test loss, test acc:\", results)"
   ]
  },
  {
   "cell_type": "code",
   "execution_count": 22,
   "metadata": {},
   "outputs": [
    {
     "name": "stdout",
     "output_type": "stream",
     "text": [
      "WARNING:tensorflow:Error in loading the saved optimizer state. As a result, your model is starting with a freshly initialized optimizer.\n",
      "67/67 [==============================] - 0s 7ms/step - loss: 1.4630 - acc: 0.6689\n",
      "test loss, test acc: [1.4630076885223389, 0.668860137462616]\n"
     ]
    }
   ],
   "source": [
    "# Model #1 (replicate where necessary for other models)\n",
    "model = models.load_model('conv1d_model.h5')\n",
    "\n",
    "results = model.evaluate(X_test, y_test, batch_size=128)\n",
    "print(\"test loss, test acc:\", results)"
   ]
  },
  {
   "cell_type": "code",
   "execution_count": 23,
   "metadata": {},
   "outputs": [],
   "source": [
    "# Save the Best Model\n",
    "model.save('text_model_best.h5')"
   ]
  },
  {
   "cell_type": "markdown",
   "metadata": {},
   "source": [
    "## Step 4 – Use the Best Model to make prediction"
   ]
  },
  {
   "cell_type": "code",
   "execution_count": 8,
   "metadata": {},
   "outputs": [],
   "source": [
    "model = models.load_model('text_model_best.h5')"
   ]
  },
  {
   "cell_type": "code",
   "execution_count": 32,
   "metadata": {},
   "outputs": [
    {
     "name": "stdout",
     "output_type": "stream",
     "text": [
      "photography\n"
     ]
    }
   ],
   "source": [
    "# takes the user input\n",
    "text_input = np.array([input()])"
   ]
  },
  {
   "cell_type": "code",
   "execution_count": 33,
   "metadata": {},
   "outputs": [],
   "source": [
    "# convert the user input into numeric tensor\n",
    "import pandas as pd\n",
    "def prediction(model, text_array, items_list):\n",
    "    prob = model.predict(data)\n",
    "    pro_df = pd.DataFrame(prob, columns = items_list)\n",
    "    result = items_list[np.argmax(prob)]\n",
    "    return pro_df, result\n",
    "\n",
    "sequences = tokenizer.texts_to_sequences(text_input)\n",
    "data = pad_sequences(sequences, maxlen=max_len)"
   ]
  },
  {
   "cell_type": "code",
   "execution_count": 34,
   "metadata": {},
   "outputs": [
    {
     "data": {
      "text/plain": [
       "(          0         1         2         3         4\n",
       " 0  0.061116  0.008719  0.522213  0.049756  0.358195,\n",
       " '📷')"
      ]
     },
     "execution_count": 34,
     "metadata": {},
     "output_type": "execute_result"
    }
   ],
   "source": [
    "# show the model output using predict function\n",
    "prediction(model, data, emoji_dictionary)"
   ]
  },
  {
   "cell_type": "code",
   "execution_count": null,
   "metadata": {},
   "outputs": [],
   "source": []
  }
 ],
 "metadata": {
  "kernelspec": {
   "display_name": "Python 3",
   "language": "python",
   "name": "python3"
  },
  "language_info": {
   "codemirror_mode": {
    "name": "ipython",
    "version": 3
   },
   "file_extension": ".py",
   "mimetype": "text/x-python",
   "name": "python",
   "nbconvert_exporter": "python",
   "pygments_lexer": "ipython3",
   "version": "3.6.9"
  }
 },
 "nbformat": 4,
 "nbformat_minor": 2
}
