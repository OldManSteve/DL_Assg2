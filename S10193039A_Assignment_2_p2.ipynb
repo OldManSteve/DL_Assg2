{
  "nbformat": 4,
  "nbformat_minor": 0,
  "metadata": {
    "kernelspec": {
      "display_name": "Python 3",
      "language": "python",
      "name": "python3"
    },
    "language_info": {
      "codemirror_mode": {
        "name": "ipython",
        "version": 3
      },
      "file_extension": ".py",
      "mimetype": "text/x-python",
      "name": "python",
      "nbconvert_exporter": "python",
      "pygments_lexer": "ipython3",
      "version": "3.7.4"
    },
    "colab": {
      "name": "Assignment_2_p2_COMPILED01.ipynb",
      "provenance": [],
      "collapsed_sections": [
        "OE5jwFcdI52_",
        "iFmcWR9hzqbX",
        "NpbQekZs3113",
        "7KdVbmPf044x",
        "0V715IPMBL14",
        "Ak6JSxfpEP3T",
        "S-TPPhFjMsIJ",
        "Wu2dmE5d2z-b",
        "GMEeJqg-cok4",
        "hW2yIq9fdRie",
        "4aZGfZMdTMx-",
        "U7uZ3fnxVlWd",
        "gTX-bygdgcvn",
        "yjNpewYDhpfw",
        "MtJfwtEiltYX",
        "Vbn-T-WLyR68",
        "N5ngk1Zm6LR4",
        "VL1No9ojXiqs",
        "yH8_cts-IzEN",
        "00hEQbZIezdF",
        "vsrSzmfD9S0e",
        "-Q41dnxD5XCB"
      ]
    },
    "accelerator": "GPU"
  },
  "cells": [
    {
      "cell_type": "markdown",
      "metadata": {
        "id": "68EISnjDIzDr",
        "colab_type": "text"
      },
      "source": [
        "<table class=\"table table-bordered\">\n",
        "    <tr>\n",
        "        <th style=\"text-align:center; width:25%\"><img src='https://www.np.edu.sg/PublishingImages/Pages/default/odp/ICT.jpg' style=\"width: 250px; height: 125px; \"></th>\n",
        "        <th style=\"text-align:center;\"><h1>Deep Learning</h1><h2>Assignment 2 - Character Generator Model (Problem 2)</h2><h3>AY2020/21 Semester</h3></th>\n",
        "    </tr>\n",
        "</table>"
      ]
    },
    {
      "cell_type": "code",
      "metadata": {
        "id": "O40ionLYIzDt",
        "colab_type": "code",
        "colab": {
          "base_uri": "https://localhost:8080/",
          "height": 34
        },
        "outputId": "7c019659-eb89-405c-cdc1-ab65cf5685f7"
      },
      "source": [
        "# Import the Required Packages\n",
        "# Enter your code here:\n",
        "from tensorflow import keras\n",
        "print('keras: ', keras.__version__)\n",
        "from IPython.core.display import display, HTML\n",
        "display(HTML(\"<style>.container { width:95% !important; }</style>\"))"
      ],
      "execution_count": null,
      "outputs": [
        {
          "output_type": "stream",
          "text": [
            "keras:  2.4.0\n"
          ],
          "name": "stdout"
        },
        {
          "output_type": "display_data",
          "data": {
            "text/html": [
              "<style>.container { width:95% !important; }</style>"
            ],
            "text/plain": [
              "<IPython.core.display.HTML object>"
            ]
          },
          "metadata": {
            "tags": []
          }
        }
      ]
    },
    {
      "cell_type": "markdown",
      "metadata": {
        "id": "m4oJIdijtkeY",
        "colab_type": "text"
      },
      "source": [
        "### GitHub + Colab"
      ]
    },
    {
      "cell_type": "code",
      "metadata": {
        "id": "qz90Yb82trAa",
        "colab_type": "code",
        "colab": {
          "base_uri": "https://localhost:8080/",
          "height": 119
        },
        "outputId": "a3fc890c-69aa-4fa8-d04a-332a4345e41c"
      },
      "source": [
        "#run for GitHub Colab\n",
        "!git clone \"https://github.com/OldManSteve/DL_Assg2.git\"\n"
      ],
      "execution_count": null,
      "outputs": [
        {
          "output_type": "stream",
          "text": [
            "Cloning into 'DL_Assg2'...\n",
            "remote: Enumerating objects: 51, done.\u001b[K\n",
            "remote: Counting objects: 100% (51/51), done.\u001b[K\n",
            "remote: Compressing objects: 100% (41/41), done.\u001b[K\n",
            "remote: Total 51 (delta 15), reused 42 (delta 9), pack-reused 0\u001b[K\n",
            "Unpacking objects: 100% (51/51), done.\n"
          ],
          "name": "stdout"
        }
      ]
    },
    {
      "cell_type": "code",
      "metadata": {
        "id": "jxwhU0xHtsdK",
        "colab_type": "code",
        "colab": {}
      },
      "source": [
        "#GitHub Colab directory\n",
        "# Directories for files\n",
        "holmes_file = '/content/DL_Assg2/holmes.txt'"
      ],
      "execution_count": null,
      "outputs": []
    },
    {
      "cell_type": "code",
      "metadata": {
        "id": "DUg9FIRJ2vOm",
        "colab_type": "code",
        "colab": {
          "base_uri": "https://localhost:8080/",
          "height": 122
        },
        "outputId": "ce7750a1-385d-4a43-b419-e7551c928523"
      },
      "source": [
        "#Google drive model upload/save storage\n",
        "from google.colab import drive\n",
        "drive.mount('/content/drive')\n",
        "\n",
        "model_path='/content/drive/My Drive/Colab Notebooks/DL_Assg2_Models/'"
      ],
      "execution_count": null,
      "outputs": [
        {
          "output_type": "stream",
          "text": [
            "Go to this URL in a browser: https://accounts.google.com/o/oauth2/auth?client_id=947318989803-6bn6qk8qdgf4n4g3pfee6491hc0brc4i.apps.googleusercontent.com&redirect_uri=urn%3aietf%3awg%3aoauth%3a2.0%3aoob&scope=email%20https%3a%2f%2fwww.googleapis.com%2fauth%2fdocs.test%20https%3a%2f%2fwww.googleapis.com%2fauth%2fdrive%20https%3a%2f%2fwww.googleapis.com%2fauth%2fdrive.photos.readonly%20https%3a%2f%2fwww.googleapis.com%2fauth%2fpeopleapi.readonly&response_type=code\n",
            "\n",
            "Enter your authorization code:\n",
            "··········\n",
            "Mounted at /content/drive\n"
          ],
          "name": "stdout"
        }
      ]
    },
    {
      "cell_type": "markdown",
      "metadata": {
        "id": "4BXl__WTIzDw",
        "colab_type": "text"
      },
      "source": [
        "## Step 1 – Data Loading and Processing"
      ]
    },
    {
      "cell_type": "markdown",
      "metadata": {
        "id": "TApFnQPRIzDw",
        "colab_type": "text"
      },
      "source": [
        "### 1.1 Data Loading"
      ]
    },
    {
      "cell_type": "code",
      "metadata": {
        "id": "edsqbjtrIzDw",
        "colab_type": "code",
        "colab": {
          "base_uri": "https://localhost:8080/",
          "height": 51
        },
        "outputId": "617de445-180e-4d0d-a4d0-df01729b635c"
      },
      "source": [
        "# read in the text file, transforming everything to lower case\n",
        "text = open(holmes_file).read().lower()\n",
        "print('The original text has ' + str(len(text)) + ' characters.\\n')"
      ],
      "execution_count": null,
      "outputs": [
        {
          "output_type": "stream",
          "text": [
            "The original text has 562422 characters.\n",
            "\n"
          ],
          "name": "stdout"
        }
      ]
    },
    {
      "cell_type": "markdown",
      "metadata": {
        "id": "ga5JfFmVIzDy",
        "colab_type": "text"
      },
      "source": [
        "### 1.2 Data Processing\n"
      ]
    },
    {
      "cell_type": "code",
      "metadata": {
        "id": "dFCH3DmGIzDz",
        "colab_type": "code",
        "colab": {
          "base_uri": "https://localhost:8080/",
          "height": 103
        },
        "outputId": "c0d4e660-9458-452b-e56f-d1ee96801425"
      },
      "source": [
        "### print out the first 1000 characters of the raw text to get a sense of what characters to remove\n",
        "text[:2000]"
      ],
      "execution_count": null,
      "outputs": [
        {
          "output_type": "execute_result",
          "data": {
            "application/vnd.google.colaboratory.intrinsic+json": {
              "type": "string"
            },
            "text/plain": [
              "\"\\ufeffthe adventures of sherlock holmes by sir arthur conan doyle\\n\\n   i. a scandal in bohemia\\n  ii. the red-headed league\\n iii. a case of identity\\n  iv. the boscombe valley mystery\\n   v. the five orange pips\\n  vi. the man with the twisted lip\\n vii. the adventure of the blue carbuncle\\nviii. the adventure of the speckled band\\n  ix. the adventure of the engineer's thumb\\n   x. the adventure of the noble bachelor\\n  xi. the adventure of the beryl coronet\\n xii. the adventure of the copper beeches\\n\\n\\nadventure i. a scandal in bohemia\\n\\ni.\\n\\nto sherlock holmes she is always the woman. i have seldom heard\\nhim mention her under any other name. in his eyes she eclipses\\nand predominates the whole of her sex. it was not that he felt\\nany emotion akin to love for irene adler. all emotions, and that\\none particularly, were abhorrent to his cold, precise but\\nadmirably balanced mind. he was, i take it, the most perfect\\nreasoning and observing machine that the world has seen, but as a\\nlover he would have placed himself in a false position. he never\\nspoke of the softer passions, save with a gibe and a sneer. they\\nwere admirable things for the observer--excellent for drawing the\\nveil from men's motives and actions. but for the trained reasoner\\nto admit such intrusions into his own delicate and finely\\nadjusted temperament was to introduce a distracting factor which\\nmight throw a doubt upon all his mental results. grit in a\\nsensitive instrument, or a crack in one of his own high-power\\nlenses, would not be more disturbing than a strong emotion in a\\nnature such as his. and yet there was but one woman to him, and\\nthat woman was the late irene adler, of dubious and questionable\\nmemory.\\n\\ni had seen little of holmes lately. my marriage had drifted us\\naway from each other. my own complete happiness, and the\\nhome-centred interests which rise up around the man who first\\nfinds himself master of his own establishment, were sufficient to\\nabsorb all my attention, while holmes, who loathed every form of\\nsociety \""
            ]
          },
          "metadata": {
            "tags": []
          },
          "execution_count": 7
        }
      ]
    },
    {
      "cell_type": "code",
      "metadata": {
        "id": "IGWz3AusIzD1",
        "colab_type": "code",
        "colab": {
          "base_uri": "https://localhost:8080/",
          "height": 54
        },
        "outputId": "8587e9f0-4142-414f-d1f1-eef87ec91391"
      },
      "source": [
        "# remove all '\\n' and '\\r' from text\n",
        "text = text.replace('\\n','') \n",
        "text = text.replace('\\r','')\n",
        "\n",
        "print(text[:2000])"
      ],
      "execution_count": null,
      "outputs": [
        {
          "output_type": "stream",
          "text": [
            "﻿the adventures of sherlock holmes by sir arthur conan doyle   i. a scandal in bohemia  ii. the red-headed league iii. a case of identity  iv. the boscombe valley mystery   v. the five orange pips  vi. the man with the twisted lip vii. the adventure of the blue carbuncleviii. the adventure of the speckled band  ix. the adventure of the engineer's thumb   x. the adventure of the noble bachelor  xi. the adventure of the beryl coronet xii. the adventure of the copper beechesadventure i. a scandal in bohemiai.to sherlock holmes she is always the woman. i have seldom heardhim mention her under any other name. in his eyes she eclipsesand predominates the whole of her sex. it was not that he feltany emotion akin to love for irene adler. all emotions, and thatone particularly, were abhorrent to his cold, precise butadmirably balanced mind. he was, i take it, the most perfectreasoning and observing machine that the world has seen, but as alover he would have placed himself in a false position. he neverspoke of the softer passions, save with a gibe and a sneer. theywere admirable things for the observer--excellent for drawing theveil from men's motives and actions. but for the trained reasonerto admit such intrusions into his own delicate and finelyadjusted temperament was to introduce a distracting factor whichmight throw a doubt upon all his mental results. grit in asensitive instrument, or a crack in one of his own high-powerlenses, would not be more disturbing than a strong emotion in anature such as his. and yet there was but one woman to him, andthat woman was the late irene adler, of dubious and questionablememory.i had seen little of holmes lately. my marriage had drifted usaway from each other. my own complete happiness, and thehome-centred interests which rise up around the man who firstfinds himself master of his own establishment, were sufficient toabsorb all my attention, while holmes, who loathed every form ofsociety with his whole bohemian soul, remained in our\n"
          ],
          "name": "stdout"
        }
      ]
    },
    {
      "cell_type": "code",
      "metadata": {
        "id": "39LI1iTOIzD3",
        "colab_type": "code",
        "colab": {}
      },
      "source": [
        "# create a function 'clean_text' to clean text so that only the following letters and punctation remain\n",
        "def clean_text(text):\n",
        "    punctuation = ['!', ',', '.', ':', ';', '?', '-', \"'\",' ']\n",
        "    letters='abcdefghijklmnopqrstuvwxyz'\n",
        "    \n",
        "    # Enter your code here:\n",
        "    clean_text=''\n",
        "\n",
        "    for i in text:\n",
        "      if i in punctuation or i in letters:\n",
        "        clean_text+=i\n",
        "\n",
        "    return clean_text"
      ],
      "execution_count": null,
      "outputs": []
    },
    {
      "cell_type": "code",
      "metadata": {
        "id": "MsGJWaVnIzD5",
        "colab_type": "code",
        "colab": {
          "base_uri": "https://localhost:8080/",
          "height": 103
        },
        "outputId": "93fe8a95-e16b-4337-b766-43505cb81e45"
      },
      "source": [
        "# clean data using clean_text function\n",
        "text = clean_text(text)\n",
        "text[:2000]"
      ],
      "execution_count": null,
      "outputs": [
        {
          "output_type": "execute_result",
          "data": {
            "application/vnd.google.colaboratory.intrinsic+json": {
              "type": "string"
            },
            "text/plain": [
              "\"the adventures of sherlock holmes by sir arthur conan doyle   i. a scandal in bohemia  ii. the red-headed league iii. a case of identity  iv. the boscombe valley mystery   v. the five orange pips  vi. the man with the twisted lip vii. the adventure of the blue carbuncleviii. the adventure of the speckled band  ix. the adventure of the engineer's thumb   x. the adventure of the noble bachelor  xi. the adventure of the beryl coronet xii. the adventure of the copper beechesadventure i. a scandal in bohemiai.to sherlock holmes she is always the woman. i have seldom heardhim mention her under any other name. in his eyes she eclipsesand predominates the whole of her sex. it was not that he feltany emotion akin to love for irene adler. all emotions, and thatone particularly, were abhorrent to his cold, precise butadmirably balanced mind. he was, i take it, the most perfectreasoning and observing machine that the world has seen, but as alover he would have placed himself in a false position. he neverspoke of the softer passions, save with a gibe and a sneer. theywere admirable things for the observer--excellent for drawing theveil from men's motives and actions. but for the trained reasonerto admit such intrusions into his own delicate and finelyadjusted temperament was to introduce a distracting factor whichmight throw a doubt upon all his mental results. grit in asensitive instrument, or a crack in one of his own high-powerlenses, would not be more disturbing than a strong emotion in anature such as his. and yet there was but one woman to him, andthat woman was the late irene adler, of dubious and questionablememory.i had seen little of holmes lately. my marriage had drifted usaway from each other. my own complete happiness, and thehome-centred interests which rise up around the man who firstfinds himself master of his own establishment, were sufficient toabsorb all my attention, while holmes, who loathed every form ofsociety with his whole bohemian soul, remained in our \""
            ]
          },
          "metadata": {
            "tags": []
          },
          "execution_count": 10
        }
      ]
    },
    {
      "cell_type": "code",
      "metadata": {
        "id": "etvZzKpxIzD7",
        "colab_type": "code",
        "colab": {
          "base_uri": "https://localhost:8080/",
          "height": 51
        },
        "outputId": "148bb033-bb0b-4a3f-c957-7768ae6a77bd"
      },
      "source": [
        "# count the number of unique characters in the text\n",
        "chars = sorted(list(set(text)))\n",
        "\n",
        "# print some of the text, as well as statistics\n",
        "print (\"This document has \" +  str(len(text)) + \" total number of characters.\")\n",
        "print (\"This document has \" +  str(len(chars)) + \" unique characters.\")"
      ],
      "execution_count": null,
      "outputs": [
        {
          "output_type": "stream",
          "text": [
            "This document has 544340 total number of characters.\n",
            "This document has 35 unique characters.\n"
          ],
          "name": "stdout"
        }
      ]
    },
    {
      "cell_type": "code",
      "metadata": {
        "id": "31dPYdLxIzD9",
        "colab_type": "code",
        "colab": {}
      },
      "source": [
        "# create a function 'generate_text_io' to generate text inputs based on window_size and the corresponding labels\n",
        "def generate_text_io(text, window_size):\n",
        "    inputs = [] # store inputs\n",
        "    labels = [] # stores label\n",
        "    \n",
        "    # Enter your code here:\n",
        "    for i in range(0, len(text)-window_size):\n",
        "      inputs.append(text[i:i+window_size])\n",
        "      labels.append(text[i+window_size])\n",
        "    \n",
        "    print(\"Num of Sequences: \",len(inputs))\n",
        "    print(inputs)\n",
        "    return inputs, labels"
      ],
      "execution_count": null,
      "outputs": []
    },
    {
      "cell_type": "code",
      "metadata": {
        "id": "rj42ZA8tIzD_",
        "colab_type": "code",
        "colab": {}
      },
      "source": [
        "# this dictionary is a function mapping each unique character to a unique integer\n",
        "chars_to_indices = dict((c, i) for i, c in enumerate(chars))  # map each unique character to unique integer\n",
        "\n",
        "# this dictionary is a function mapping each unique integer back to a unique character\n",
        "indices_to_chars = dict((i, c) for i, c in enumerate(chars))  # map each unique integer back to unique character"
      ],
      "execution_count": null,
      "outputs": []
    },
    {
      "cell_type": "code",
      "metadata": {
        "id": "LrqDoltLIzEB",
        "colab_type": "code",
        "colab": {}
      },
      "source": [
        "import numpy as np\n",
        "\n",
        "# create a function 'encode_io_pairs' to perform one-hot encoding of inputs and labels\n",
        "def encode_io_pairs(text,window_size): # window_size determines # of characters in each input\n",
        "    \n",
        "    # Enter your code here:\n",
        "    inputs, labels = generate_text_io(text, window_size)\n",
        "\n",
        "\n",
        "    # Next, one-hot encode the characters into binary arrays.\n",
        "    print('Vectorization...')\n",
        "    x = np.zeros((len(inputs), window_size, len(chars)), dtype=np.bool)\n",
        "    y = np.zeros((len(inputs), len(chars)), dtype=np.bool)\n",
        "    for i, sentence in enumerate(inputs):\n",
        "        for t, char in enumerate(sentence):\n",
        "            x[i, t, chars_to_indices[char]] = 1\n",
        "        y[i, chars_to_indices[labels[i]]] = 1\n",
        "\n",
        "    return x, y"
      ],
      "execution_count": null,
      "outputs": []
    },
    {
      "cell_type": "code",
      "metadata": {
        "id": "MeeuHDQLIzEC",
        "colab_type": "code",
        "colab": {
          "base_uri": "https://localhost:8080/",
          "height": 204
        },
        "outputId": "39747a60-90e4-461c-dfc7-c53ea74b88cd"
      },
      "source": [
        "# perform one-hot encoding of inputs and labels\n",
        "window_size = 100\n",
        "X, y = encode_io_pairs(text, window_size)"
      ],
      "execution_count": null,
      "outputs": [
        {
          "output_type": "stream",
          "text": [
            "Num of Sequences:  544240\n"
          ],
          "name": "stdout"
        },
        {
          "output_type": "stream",
          "text": [
            "IOPub data rate exceeded.\n",
            "The notebook server will temporarily stop sending output\n",
            "to the client in order to avoid crashing it.\n",
            "To change this limit, set the config variable\n",
            "`--NotebookApp.iopub_data_rate_limit`.\n",
            "\n",
            "Current values:\n",
            "NotebookApp.iopub_data_rate_limit=1000000.0 (bytes/sec)\n",
            "NotebookApp.rate_limit_window=3.0 (secs)\n",
            "\n"
          ],
          "name": "stderr"
        }
      ]
    },
    {
      "cell_type": "markdown",
      "metadata": {
        "id": "2pBlfPVcIzEE",
        "colab_type": "text"
      },
      "source": [
        "### 1.3 Splitting Dataset into Inputs (X) and Labels (y)"
      ]
    },
    {
      "cell_type": "code",
      "metadata": {
        "id": "5Ob1YhtcIzEF",
        "colab_type": "code",
        "colab": {
          "base_uri": "https://localhost:8080/",
          "height": 51
        },
        "outputId": "b64c2093-ff20-4f88-9e7a-ff9eb431741a"
      },
      "source": [
        "# Note: You may choose to perform this step before encoding the data (step 1.2).\n",
        "# Enter your code here:\n",
        "print (y.shape)\n",
        "print (X.shape)"
      ],
      "execution_count": null,
      "outputs": [
        {
          "output_type": "stream",
          "text": [
            "(544240, 35)\n",
            "(544240, 100, 35)\n"
          ],
          "name": "stdout"
        }
      ]
    },
    {
      "cell_type": "markdown",
      "metadata": {
        "id": "aMsx4elxIzEG",
        "colab_type": "text"
      },
      "source": [
        "## Step 2 – Develop a Character Generator Model"
      ]
    },
    {
      "cell_type": "markdown",
      "metadata": {
        "colab_type": "text",
        "id": "iFmcWR9hzqbX"
      },
      "source": [
        "### Model #1 (LSTM)"
      ]
    },
    {
      "cell_type": "code",
      "metadata": {
        "colab_type": "code",
        "id": "TC8D9pqRzqbc",
        "colab": {
          "base_uri": "https://localhost:8080/",
          "height": 221
        },
        "outputId": "d01129a8-089b-4e92-81f2-3a67d2571cd0"
      },
      "source": [
        "# Build the Model\n",
        "# Enter your code here:\n",
        "from tensorflow.keras.models import Sequential\n",
        "from tensorflow.keras import layers\n",
        "from tensorflow.keras.optimizers import RMSprop\n",
        "\n",
        "model = keras.models.Sequential()\n",
        "model.add(layers.LSTM(128, input_shape=(window_size, len(chars)))) #multiclass single label classification\n",
        "model.add(layers.Dense(len(chars), activation='softmax'))\n",
        "\n",
        "model.summary()\n"
      ],
      "execution_count": null,
      "outputs": [
        {
          "output_type": "stream",
          "text": [
            "Model: \"sequential\"\n",
            "_________________________________________________________________\n",
            "Layer (type)                 Output Shape              Param #   \n",
            "=================================================================\n",
            "lstm (LSTM)                  (None, 128)               83968     \n",
            "_________________________________________________________________\n",
            "dense (Dense)                (None, 35)                4515      \n",
            "=================================================================\n",
            "Total params: 88,483\n",
            "Trainable params: 88,483\n",
            "Non-trainable params: 0\n",
            "_________________________________________________________________\n"
          ],
          "name": "stdout"
        }
      ]
    },
    {
      "cell_type": "code",
      "metadata": {
        "colab_type": "code",
        "id": "a9DrHBgEzqbf",
        "colab": {
          "base_uri": "https://localhost:8080/",
          "height": 527
        },
        "outputId": "2fef71d5-6886-4a09-db38-a060d441c934"
      },
      "source": [
        "# Train the Model\n",
        "# Enter your code here:\n",
        "model.compile(loss='categorical_crossentropy', optimizer=RMSprop(lr=0.01), metrics=['acc'])\n",
        "\n",
        "history = model.fit(X, y,\n",
        "                    epochs=15,\n",
        "                    batch_size=128) "
      ],
      "execution_count": null,
      "outputs": [
        {
          "output_type": "stream",
          "text": [
            "Epoch 1/15\n",
            "4252/4252 [==============================] - 104s 24ms/step - loss: 1.7489 - acc: 0.4853\n",
            "Epoch 2/15\n",
            "4252/4252 [==============================] - 104s 24ms/step - loss: 1.5314 - acc: 0.5466\n",
            "Epoch 3/15\n",
            "4252/4252 [==============================] - 103s 24ms/step - loss: 1.4809 - acc: 0.5598\n",
            "Epoch 4/15\n",
            "4252/4252 [==============================] - 104s 24ms/step - loss: 1.4549 - acc: 0.5672\n",
            "Epoch 5/15\n",
            "4252/4252 [==============================] - 105s 25ms/step - loss: 1.4369 - acc: 0.5714\n",
            "Epoch 6/15\n",
            "4252/4252 [==============================] - 105s 25ms/step - loss: 1.4230 - acc: 0.5754\n",
            "Epoch 7/15\n",
            "4252/4252 [==============================] - 104s 24ms/step - loss: 1.4128 - acc: 0.5785\n",
            "Epoch 8/15\n",
            "4252/4252 [==============================] - 104s 25ms/step - loss: 1.4052 - acc: 0.5802\n",
            "Epoch 9/15\n",
            "4252/4252 [==============================] - 104s 24ms/step - loss: 1.3983 - acc: 0.5824\n",
            "Epoch 10/15\n",
            "4252/4252 [==============================] - 104s 24ms/step - loss: 1.3928 - acc: 0.5839\n",
            "Epoch 11/15\n",
            "4252/4252 [==============================] - 105s 25ms/step - loss: 1.3879 - acc: 0.5849\n",
            "Epoch 12/15\n",
            "4252/4252 [==============================] - 104s 25ms/step - loss: 1.3842 - acc: 0.5858\n",
            "Epoch 13/15\n",
            "4252/4252 [==============================] - 104s 24ms/step - loss: 1.3806 - acc: 0.5871\n",
            "Epoch 14/15\n",
            "4252/4252 [==============================] - 105s 25ms/step - loss: 1.3773 - acc: 0.5878\n",
            "Epoch 15/15\n",
            "4252/4252 [==============================] - 103s 24ms/step - loss: 1.3734 - acc: 0.5891\n"
          ],
          "name": "stdout"
        }
      ]
    },
    {
      "cell_type": "code",
      "metadata": {
        "colab_type": "code",
        "id": "O8cgd5Tczqbh",
        "colab": {
          "base_uri": "https://localhost:8080/",
          "height": 545
        },
        "outputId": "c28b4a78-532e-4966-83a3-43ff22db64ad"
      },
      "source": [
        "# Plot the Training and Validation Accuracy & Loss Scores\n",
        "# Enter your code here:\n",
        "%matplotlib inline\n",
        "import matplotlib.pyplot as plt\n",
        "\n",
        "acc = history.history['acc']\n",
        "loss = history.history['loss']\n",
        "\n",
        "epochs = range(1, len(acc) + 1)\n",
        "\n",
        "plt.plot(epochs, acc, 'bo', label='Training acc')\n",
        "plt.title('Training and validation accuracy')\n",
        "plt.legend()\n",
        "\n",
        "plt.figure()\n",
        "\n",
        "plt.plot(epochs, loss, 'bo', label='Training loss')\n",
        "plt.title('Training and validation loss')\n",
        "plt.legend()\n",
        "\n",
        "plt.show()"
      ],
      "execution_count": null,
      "outputs": [
        {
          "output_type": "display_data",
          "data": {
            "image/png": "[encoded data removed]",
            "text/plain": [
              "<Figure size 432x288 with 1 Axes>"
            ]
          },
          "metadata": {
            "tags": [],
            "needs_background": "light"
          }
        },
        {
          "output_type": "display_data",
          "data": {
            "image/png": "[encoded data removed]",
            "text/plain": [
              "<Figure size 432x288 with 1 Axes>"
            ]
          },
          "metadata": {
            "tags": [],
            "needs_background": "light"
          }
        }
      ]
    },
    {
      "cell_type": "code",
      "metadata": {
        "colab_type": "code",
        "id": "o1ySeN_zzqbj",
        "colab": {}
      },
      "source": [
        "# Save the Model\n",
        "model.save(model_path+'chgen_model_2.h5')\n",
        "model.save('chgen_model_2.h5')"
      ],
      "execution_count": null,
      "outputs": []
    },
    {
      "cell_type": "markdown",
      "metadata": {
        "id": "yH8_cts-IzEN",
        "colab_type": "text"
      },
      "source": [
        "#### Evaluation [chgen_model_1]"
      ]
    },
    {
      "cell_type": "code",
      "metadata": {
        "id": "kxg-RvelIzEN",
        "colab_type": "code",
        "colab": {}
      },
      "source": [
        "from tensorflow.keras import models\n",
        "\n",
        "#model.load_weights('chgen_model_best.h5')\n",
        "\n",
        "model = models.load_model(model_path+'chgen_model_2.h5')"
      ],
      "execution_count": null,
      "outputs": []
    },
    {
      "cell_type": "code",
      "metadata": {
        "id": "BBcMOTCfIzEO",
        "colab_type": "code",
        "colab": {
          "base_uri": "https://localhost:8080/",
          "height": 34
        },
        "outputId": "f631ec4a-3c36-46f2-f745-51a0b3c82c06"
      },
      "source": [
        "# takes the user input\n",
        "\n",
        "#Oh's third victim was hawker stall owner Ng Phek Huay, whom he stole from on Sept 9, 2019.  While Madam Ng, 71, was waiting for her turn to see the doctor at Queenstown Polyclinic, he stole money from her handbag.  He then offered her zopiclone and convinced her that she had to take it before her medical check-up.  Thinking that Oh was one of the polyclinic staff, Madam Ng took the drug and became drowsy.  He then took from her a gold-coloured bracelet which she was wearing and took her out of the polyclinic.  Oh then got a taxi to take Madam Ng to NUH, as she was losing consciousness.  On Friday, District Judge Gwee backdated Oh's sentence to Sept 12 last year, when he was first remanded.\n",
        "\n",
        "#text_input = np.array([input()])\n",
        "text_input = clean_text(input().lower())"
      ],
      "execution_count": null,
      "outputs": [
        {
          "output_type": "stream",
          "text": [
            "i love going to the park, especially when it is windy or sunny. every satruday i go to the park after buying ice cream.\n"
          ],
          "name": "stdout"
        }
      ]
    },
    {
      "cell_type": "code",
      "metadata": {
        "id": "je5VZdwRIzEQ",
        "colab_type": "code",
        "colab": {
          "base_uri": "https://localhost:8080/",
          "height": 88
        },
        "outputId": "6a544286-8b41-4a3d-d900-a8e6071adbc8"
      },
      "source": [
        "# one-hot encode the user input\n",
        "# Enter your code here:\n",
        "new_window_size = 5\n",
        "\n",
        "X, y = encode_io_pairs(text_input, new_window_size)"
      ],
      "execution_count": null,
      "outputs": [
        {
          "output_type": "stream",
          "text": [
            "Num of Sequences:  114\n",
            "['i lov', ' love', 'love ', 'ove g', 've go', 'e goi', ' goin', 'going', 'oing ', 'ing t', 'ng to', 'g to ', ' to t', 'to th', 'o the', ' the ', 'the p', 'he pa', 'e par', ' park', 'park,', 'ark, ', 'rk, e', 'k, es', ', esp', ' espe', 'espec', 'speci', 'pecia', 'ecial', 'ciall', 'ially', 'ally ', 'lly w', 'ly wh', 'y whe', ' when', 'when ', 'hen i', 'en it', 'n it ', ' it i', 'it is', 't is ', ' is w', 'is wi', 's win', ' wind', 'windy', 'indy ', 'ndy o', 'dy or', 'y or ', ' or s', 'or su', 'r sun', ' sunn', 'sunny', 'unny.', 'nny. ', 'ny. e', 'y. ev', '. eve', ' ever', 'every', 'very ', 'ery s', 'ry sa', 'y sat', ' satr', 'satru', 'atrud', 'truda', 'ruday', 'uday ', 'day i', 'ay i ', 'y i g', ' i go', 'i go ', ' go t', 'go to', 'o to ', ' to t', 'to th', 'o the', ' the ', 'the p', 'he pa', 'e par', ' park', 'park ', 'ark a', 'rk af', 'k aft', ' afte', 'after', 'fter ', 'ter b', 'er bu', 'r buy', ' buyi', 'buyin', 'uying', 'ying ', 'ing i', 'ng ic', 'g ice', ' ice ', 'ice c', 'ce cr', 'e cre', ' crea', 'cream']\n",
            "Vectorization...\n"
          ],
          "name": "stdout"
        }
      ]
    },
    {
      "cell_type": "code",
      "metadata": {
        "id": "Ecucq2ljIzES",
        "colab_type": "code",
        "colab": {
          "base_uri": "https://localhost:8080/",
          "height": 853
        },
        "outputId": "e5ba20c3-1104-4d82-90cf-cd94be363f27"
      },
      "source": [
        "# show the model output using predict function\n",
        "# Enter your code here:\n",
        "import random\n",
        "import sys\n",
        "import numpy as np\n",
        "\n",
        "def sample(preds, temperature=1.0):\n",
        "    preds = np.asarray(preds).astype('float64')\n",
        "    preds = np.log(preds) / temperature\n",
        "    exp_preds = np.exp(preds)\n",
        "    preds = exp_preds / np.sum(exp_preds)\n",
        "    probas = np.random.multinomial(1, preds, 1)\n",
        "    return np.argmax(probas)\n",
        "  \n",
        "\n",
        "for epoch in range(1, 5):\n",
        "    print('epoch', epoch)\n",
        "    # Fit the model for 1 epoch on the available training data\n",
        "    model.fit(X, y,\n",
        "              batch_size=128,\n",
        "              epochs=1)\n",
        "\n",
        "    # Select a text seed at random\n",
        "    start_index = random.randint(0, len(text_input) - new_window_size - 1)\n",
        "    generated_text = text_input[start_index: start_index + new_window_size]\n",
        "    print('--- Generating with seed: \"' + generated_text + '\"')\n",
        "\n",
        "    for temperature in [0.2, 0.5, 1.0, 1.2]:\n",
        "        print('------ temperature:', temperature)\n",
        "        sys.stdout.write(generated_text)\n",
        "\n",
        "        # We generate 400 characters\n",
        "        for i in range(400):\n",
        "            sampled = np.zeros((1, new_window_size, len(chars)))\n",
        "            for t, char in enumerate(generated_text):\n",
        "                sampled[0, t, chars_to_indices[char]] = 1.\n",
        "\n",
        "            preds = model.predict(sampled, verbose=0)[0]\n",
        "            next_index = sample(preds, temperature)\n",
        "            next_char = chars[next_index]\n",
        "\n",
        "            generated_text += next_char\n",
        "            generated_text = generated_text[1:]\n",
        "\n",
        "            sys.stdout.write(next_char)\n",
        "            sys.stdout.flush()\n",
        "        print()\n"
      ],
      "execution_count": null,
      "outputs": [
        {
          "output_type": "stream",
          "text": [
            "epoch 1\n",
            "WARNING:tensorflow:Model was constructed with shape (None, 100, 35) for input Tensor(\"lstm_1_input:0\", shape=(None, 100, 35), dtype=float32), but it was called on an input with incompatible shape (None, 5, 35).\n",
            "1/1 [==============================] - 0s 2ms/step - loss: 2.1473 - acc: 0.3947\n",
            "--- Generating with seed: \" to t\"\n",
            "------ temperature: 0.2\n",
            " to tWARNING:tensorflow:Model was constructed with shape (None, 100, 35) for input Tensor(\"lstm_1_input:0\", shape=(None, 100, 35), dtype=float32), but it was called on an input with incompatible shape (None, 5, 35).\n",
            "he could to the possible to the stone of the stone and start that her land a great then heard to the stone front of the could before man which was a few her heard to the could to the could before man which offere which was a man which was a stall that her lady and stand a staff the stone and stood and sentention which was a man which was the stone of the stone to the could to the could to the coul\n",
            "------ temperature: 0.5\n",
            " could as madam took he was a man her heard so wearing. then some polsceremond to seen this manwas here. then way street-hand-convinich possible to the done to record to the possible restrade, he was not to me to her head what wearing with the done and day at the breakfor that then story of the great as to the time to the still that i could to go polyclips from to the seemed and having had a grey sept \n",
            "------ temperature: 1.0\n",
            "sept the coadter cropance. inly on the seeusto rushed to vilwwence the convictirly as het-expense then header in his remans-grin still as point. the pept whose explainly oochokey seventchark at they in then youet one fore opistodadling stalf-hrixt sister office who oad betweenctiem queeniony rocked in eut of it fellad which was as hear briting, sharp first for he shalf framedois, had stom of her to him\n",
            "------ temperature: 1.2\n",
            "o him.you heols mind on you clodie.i am ofger, rather coac. right the charc france wilswerploy notostreres' put at evidunebrasing a nanimpatwild who has next up.oh, said onex, mccarturned cheir.heppody to girlar. in him whichas i had tlee.holmes. one to lookness. when idbarring heaving upwasives fourief.becautit to admisal vurbingssww, go. havereaysgreed's"
          ],
          "name": "stdout"
        },
        {
          "output_type": "stream",
          "text": [
            "/usr/local/lib/python3.6/dist-packages/ipykernel_launcher.py:9: RuntimeWarning: divide by zero encountered in log\n",
            "  if __name__ == '__main__':\n"
          ],
          "name": "stderr"
        },
        {
          "output_type": "stream",
          "text": [
            " becamenestpresside be stuwk her azier's gently\n",
            "epoch 2\n",
            "1/1 [==============================] - 0s 2ms/step - loss: 1.7126 - acc: 0.4649\n",
            "--- Generating with seed: \"to th\"\n",
            "------ temperature: 0.2\n",
            "to the possible to the back to the poster to the could stook that her lady to the could to the could to the could to the passion the could to the stone and seemed to the counted to the possible to the possible to the possible to the possible and seen to the stone was a stall that her heard to the passion the could stoo secretuin which was a stair was a stake the could to the passion the possible to the\n",
            "------ temperature: 0.5\n",
            "o the charge pain, and clear of the paper facty, expection dressed the story man the take matteress--then hand off the find to the mad on our from to her last was put that her from to be sepolitic as to company as she had the the promister was the postly then great her last he was neat her lady to the stone which while to the chair, said--the passical. it were seeing which wearing he new on a hand a st\n",
            "------ temperature: 1.0\n",
            " a statderwarder though. goldication thishealop, he seemed by the puncine, holmes the may beaution. so weapon, do. the furthis watthe accouuting, a pairange lady very acrip offenders heant he saive vaca, beaution beec? the circuminatewfagary, but to finding uppressent to other build her to the done plence, he couuse oyey, has stagger iimmanigle colution, hcouped to convincounder men, of the backdant he\n",
            "------ temperature: 1.2\n",
            "nt hereclockencedly to un. passed a lone vature or what i had yescehancemeritichactifial other from to man which hand,swanderunudd's. was possible is a polycenty in which richalperson empty, wearing which yello tedler's wanted to, as ensiilm behfatam to the propoling, gon they cross bard people he had havpencale beecjqy toot, of the lay being right, taffated. on found out copper whole at we county's co\n",
            "epoch 3\n",
            "1/1 [==============================] - 0s 2ms/step - loss: 1.4651 - acc: 0.5263\n",
            "--- Generating with seed: \"ially\"\n",
            "------ temperature: 0.2\n",
            "ially which was the passag, and sentention which was a station the stone and seven to the could before man which was a man which was a good stook the counted the passion the could to the would to the story a stake a stake thing to the count out of the counted the could to the possible to the possible to the story stall the counten this stake the possible to the possible to the stone and senterest to th\n",
            "------ temperature: 0.5\n",
            "to the could dr. when in the could to the got of the looking and hard, but in the promistreet in the passion from to the staff the stone to the passed the park and her walk of the convince to the front of the close of the stone card one is a hard first to the park her client to me to the beece should which oolshould it is that to the would front of the stop and a gows on succeedes. when hour which whic\n",
            "------ temperature: 1.0\n",
            " which were over manbank a when tried before lord conscloadow abrug that at her noticetalled-inquary lady neating open sower, but knew with hung wade then what joking ! occloudon off for a large statastendly and the bottom on cocked him your of she master. if the call to the polscip. mr. rud of the police, will betwe looking, two which was we walked before years. then polices wever which only would whi\n",
            "------ temperature: 1.2\n",
            "d whitchedowe the treater,put in strangel ogevy outwaitin upsnamone which ot was still from huar old very paliatlewhesteff what master ideahy, you, procesidas convicton-laddry-brown ile to seated a atthe filler off with allow.person. toicance aa dear, advemmnewan miss to shuttle convictility, holmes harfwan'st ce'shes to himknop, richinany.in they . by then manyly pime, he was plucked! the neithkering \n",
            "epoch 4\n",
            "1/1 [==============================] - 0s 2ms/step - loss: 1.2787 - acc: 0.6140\n",
            "--- Generating with seed: \" park\"\n",
            "------ temperature: 0.2\n",
            " park the chair was a stake the park that the counting that in the county he was the could to the county were and had seven this was a good when her her thing to the possible to the possible to the story and stook the park and the could becamere story and seven this consny other which was a street to the possible to the park the park of the park the park to the park the park that i had secretsin steps \n",
            "------ temperature: 0.5\n",
            "teps which was a good at the passagber weekly at the passed the back to him. i had a loss that her man's stole in the chark which was cord hand before client her leaningone as a last out of the possible to them it, then last was a find the stone acrossest to me, was her lady of his child when hand, when in the calling was on it was day, i am nkery work and was have her less less which occupationed and \n",
            "------ temperature: 1.0\n",
            " and from side, to entening,for myelfather was led from then key hundrew the convincincillar limence of me stole to the dark her loven no wondert of the gently from cheekss, he was was say's hasteio, taking to reasone shaking. no seck up. she had much escerture, from an ect many, muspehanued it. you her clienture ofecoaning to take thjeer upon esking will braced to the matterd? then story, back was eve\n",
            "------ temperature: 1.2\n",
            "s everysenting. crle'sthat pro't clearlentlem,mccascoad waffe. at at laidarten one good bitialam nrreq, skeypyber one scoulirat. i asked our money hear-toum. ygapstory letter nature prsshill warkshin it. i remanallagged that man anyprivatistam becamere this. he colume. he cry busher charkvimly pur jumber for mr. holmes agglish were light laid if youiniebeg andojadde--two livesotag! while in a heard to \n"
          ],
          "name": "stdout"
        }
      ]
    },
    {
      "cell_type": "code",
      "metadata": {
        "colab_type": "code",
        "id": "ZQOsbn2V01Yz",
        "colab": {
          "base_uri": "https://localhost:8080/",
          "height": 238
        },
        "outputId": "73d77b41-ffff-4518-b88f-1c6f2b4914f0"
      },
      "source": [
        "model.fit(X, y, batch_size=128, epochs=1)\n",
        "temperature = 0.2\n",
        "\n",
        "text_ls = [\"dogs are grea\", \"please ente\", \"what a sigh\", \"edge of the worl\", \"would you please hurr\"]\n",
        "\n",
        "print('------ temperature:', temperature)\n",
        "print(\"Prediction: \")\n",
        "for i in text_ls:\n",
        "  sys.stdout.write(i)\n",
        "\n",
        "  # We generate 400 characters\n",
        "  # for i in range(400):\n",
        "  sampled = np.zeros((1, len(i), len(chars)))\n",
        "  for t, char in enumerate(i):\n",
        "      sampled[0, t, chars_to_indices[char]] = 1.\n",
        "\n",
        "  preds = model.predict(sampled, verbose=0)[0]\n",
        "  next_index = sample(preds, temperature)\n",
        "  next_char = chars[next_index]\n",
        "\n",
        "  sys.stdout.write(next_char)\n",
        "  sys.stdout.flush()\n",
        "  print()\n",
        "\n",
        "\n",
        "text_input = input(\"Enter sentence to predict next character: \\n\")\n",
        "print(\"Predicting user input... \\n\")\n",
        "sys.stdout.write(text_input)\n",
        "\n",
        "sampled = np.zeros((1, len(text_input), len(chars)))\n",
        "for t, char in enumerate(text_input):\n",
        "    sampled[0, t, chars_to_indices[char]] = 1.\n",
        "\n",
        "preds = model.predict(sampled, verbose=0)[0]\n",
        "next_index = sample(preds, temperature)\n",
        "next_char = chars[next_index]\n",
        "\n",
        "text_input += next_char\n",
        "text_input = text_input[1:]\n",
        "\n",
        "\n",
        "sys.stdout.write(next_char)\n",
        "sys.stdout.flush()\n",
        "print()"
      ],
      "execution_count": null,
      "outputs": [
        {
          "output_type": "stream",
          "text": [
            "1/1 [==============================] - 0s 2ms/step - loss: 1.0243 - acc: 0.6930\n",
            "------ temperature: 0.2\n",
            "Prediction: \n",
            "dogs are great\n",
            "please enter\n",
            "what a sight\n",
            "edge of the world\n",
            "would you please hurry\n",
            "Enter sentence to predict next character: \n",
            "i am so happ\n",
            "Predicting user input... \n",
            "\n",
            "i am so happy\n"
          ],
          "name": "stdout"
        }
      ]
    },
    {
      "cell_type": "markdown",
      "metadata": {
        "colab_type": "text",
        "id": "5x-28iFusCiw"
      },
      "source": [
        "#### Evaluation [chgen_model_1]"
      ]
    },
    {
      "cell_type": "code",
      "metadata": {
        "colab_type": "code",
        "id": "4rMA1ribsCiz",
        "colab": {}
      },
      "source": [
        "from tensorflow.keras import models\n",
        "\n",
        "#model.load_weights('chgen_model_best.h5')\n",
        "\n",
        "model = models.load_model(model_path+'chgen_model_2.h5')"
      ],
      "execution_count": null,
      "outputs": []
    },
    {
      "cell_type": "code",
      "metadata": {
        "colab_type": "code",
        "id": "USpaXKbZsCi3",
        "colab": {
          "base_uri": "https://localhost:8080/",
          "height": 54
        },
        "outputId": "6ddb0f35-5770-4a36-dfdb-575ce067cd91"
      },
      "source": [
        "# takes the user input\n",
        "\n",
        "#Oh's third victim was hawker stall owner Ng Phek Huay, whom he stole from on Sept 9, 2019.  While Madam Ng, 71, was waiting for her turn to see the doctor at Queenstown Polyclinic, he stole money from her handbag.  He then offered her zopiclone and convinced her that she had to take it before her medical check-up.  Thinking that Oh was one of the polyclinic staff, Madam Ng took the drug and became drowsy.  He then took from her a gold-coloured bracelet which she was wearing and took her out of the polyclinic.  Oh then got a taxi to take Madam Ng to NUH, as she was losing consciousness.  On Friday, District Judge Gwee backdated Oh's sentence to Sept 12 last year, when he was first remanded.\n",
        "\n",
        "#text_input = np.array([input()])\n",
        "text_input = clean_text(input().lower())"
      ],
      "execution_count": null,
      "outputs": [
        {
          "output_type": "stream",
          "text": [
            "Oh's third victim was hawker stall owner Ng Phek Huay, whom he stole from on Sept 9, 2019.  While Madam Ng, 71, was waiting for her turn to see the doctor at Queenstown Polyclinic, he stole money from her handbag.  He then offered her zopiclone and convinced her that she had to take it before her medical check-up.  Thinking that Oh was one of the polyclinic staff, Madam Ng took the drug and became drowsy.  He then took from her a gold-coloured bracelet which she was wearing and took her out of the polyclinic.  Oh then got a taxi to take Madam Ng to NUH, as she was losing consciousness.  On Friday, District Judge Gwee backdated Oh's sentence to Sept 12 last year, when he was first remanded.\n"
          ],
          "name": "stdout"
        }
      ]
    },
    {
      "cell_type": "code",
      "metadata": {
        "colab_type": "code",
        "id": "76ZHGlFpsCi5",
        "colab": {
          "base_uri": "https://localhost:8080/",
          "height": 88
        },
        "outputId": "2273f1a2-3e3c-47f1-8ab1-35537ef5a10a"
      },
      "source": [
        "# one-hot encode the user input\n",
        "# Enter your code here:\n",
        "new_window_size = 10\n",
        "\n",
        "X, y = encode_io_pairs(text_input, new_window_size)"
      ],
      "execution_count": null,
      "outputs": [
        {
          "output_type": "stream",
          "text": [
            "Num of Sequences:  679\n",
            "[\"oh's third\", \"h's third \", \"'s third v\", 's third vi', ' third vic', 'third vict', 'hird victi', 'ird victim', 'rd victim ', 'd victim w', ' victim wa', 'victim was', 'ictim was ', 'ctim was h', 'tim was ha', 'im was haw', 'm was hawk', ' was hawke', 'was hawker', 'as hawker ', 's hawker s', ' hawker st', 'hawker sta', 'awker stal', 'wker stall', 'ker stall ', 'er stall o', 'r stall ow', ' stall own', 'stall owne', 'tall owner', 'all owner ', 'll owner n', 'l owner ng', ' owner ng ', 'owner ng p', 'wner ng ph', 'ner ng phe', 'er ng phek', 'r ng phek ', ' ng phek h', 'ng phek hu', 'g phek hua', ' phek huay', 'phek huay,', 'hek huay, ', 'ek huay, w', 'k huay, wh', ' huay, who', 'huay, whom', 'uay, whom ', 'ay, whom h', 'y, whom he', ', whom he ', ' whom he s', 'whom he st', 'hom he sto', 'om he stol', 'm he stole', ' he stole ', 'he stole f', 'e stole fr', ' stole fro', 'stole from', 'tole from ', 'ole from o', 'le from on', 'e from on ', ' from on s', 'from on se', 'rom on sep', 'om on sept', 'm on sept ', ' on sept ,', 'on sept , ', 'n sept , .', ' sept , . ', 'sept , .  ', 'ept , .  w', 'pt , .  wh', 't , .  whi', ' , .  whil', ', .  while', ' .  while ', '.  while m', '  while ma', ' while mad', 'while mada', 'hile madam', 'ile madam ', 'le madam n', 'e madam ng', ' madam ng,', 'madam ng, ', 'adam ng, ,', 'dam ng, , ', 'am ng, , w', 'm ng, , wa', ' ng, , was', 'ng, , was ', 'g, , was w', ', , was wa', ' , was wai', ', was wait', ' was waiti', 'was waitin', 'as waiting', 's waiting ', ' waiting f', 'waiting fo', 'aiting for', 'iting for ', 'ting for h', 'ing for he', 'ng for her', 'g for her ', ' for her t', 'for her tu', 'or her tur', 'r her turn', ' her turn ', 'her turn t', 'er turn to', 'r turn to ', ' turn to s', 'turn to se', 'urn to see', 'rn to see ', 'n to see t', ' to see th', 'to see the', 'o see the ', ' see the d', 'see the do', 'ee the doc', 'e the doct', ' the docto', 'the doctor', 'he doctor ', 'e doctor a', ' doctor at', 'doctor at ', 'octor at q', 'ctor at qu', 'tor at que', 'or at quee', 'r at queen', ' at queens', 'at queenst', 't queensto', ' queenstow', 'queenstown', 'ueenstown ', 'eenstown p', 'enstown po', 'nstown pol', 'stown poly', 'town polyc', 'own polycl', 'wn polycli', 'n polyclin', ' polyclini', 'polyclinic', 'olyclinic,', 'lyclinic, ', 'yclinic, h', 'clinic, he', 'linic, he ', 'inic, he s', 'nic, he st', 'ic, he sto', 'c, he stol', ', he stole', ' he stole ', 'he stole m', 'e stole mo', ' stole mon', 'stole mone', 'tole money', 'ole money ', 'le money f', 'e money fr', ' money fro', 'money from', 'oney from ', 'ney from h', 'ey from he', 'y from her', ' from her ', 'from her h', 'rom her ha', 'om her han', 'm her hand', ' her handb', 'her handba', 'er handbag', 'r handbag.', ' handbag. ', 'handbag.  ', 'andbag.  h', 'ndbag.  he', 'dbag.  he ', 'bag.  he t', 'ag.  he th', 'g.  he the', '.  he then', '  he then ', ' he then o', 'he then of', 'e then off', ' then offe', 'then offer', 'hen offere', 'en offered', 'n offered ', ' offered h', 'offered he', 'ffered her', 'fered her ', 'ered her z', 'red her zo', 'ed her zop', 'd her zopi', ' her zopic', 'her zopicl', 'er zopiclo', 'r zopiclon', ' zopiclone', 'zopiclone ', 'opiclone a', 'piclone an', 'iclone and', 'clone and ', 'lone and c', 'one and co', 'ne and con', 'e and conv', ' and convi', 'and convin', 'nd convinc', 'd convince', ' convinced', 'convinced ', 'onvinced h', 'nvinced he', 'vinced her', 'inced her ', 'nced her t', 'ced her th', 'ed her tha', 'd her that', ' her that ', 'her that s', 'er that sh', 'r that she', ' that she ', 'that she h', 'hat she ha', 'at she had', 't she had ', ' she had t', 'she had to', 'he had to ', 'e had to t', ' had to ta', 'had to tak', 'ad to take', 'd to take ', ' to take i', 'to take it', 'o take it ', ' take it b', 'take it be', 'ake it bef', 'ke it befo', 'e it befor', ' it before', 'it before ', 't before h', ' before he', 'before her', 'efore her ', 'fore her m', 'ore her me', 're her med', 'e her medi', ' her medic', 'her medica', 'er medical', 'r medical ', ' medical c', 'medical ch', 'edical che', 'dical chec', 'ical check', 'cal check-', 'al check-u', 'l check-up', ' check-up.', 'check-up. ', 'heck-up.  ', 'eck-up.  t', 'ck-up.  th', 'k-up.  thi', '-up.  thin', 'up.  think', 'p.  thinki', '.  thinkin', '  thinking', ' thinking ', 'thinking t', 'hinking th', 'inking tha', 'nking that', 'king that ', 'ing that o', 'ng that oh', 'g that oh ', ' that oh w', 'that oh wa', 'hat oh was', 'at oh was ', 't oh was o', ' oh was on', 'oh was one', 'h was one ', ' was one o', 'was one of', 'as one of ', 's one of t', ' one of th', 'one of the', 'ne of the ', 'e of the p', ' of the po', 'of the pol', 'f the poly', ' the polyc', 'the polycl', 'he polycli', 'e polyclin', ' polyclini', 'polyclinic', 'olyclinic ', 'lyclinic s', 'yclinic st', 'clinic sta', 'linic staf', 'inic staff', 'nic staff,', 'ic staff, ', 'c staff, m', ' staff, ma', 'staff, mad', 'taff, mada', 'aff, madam', 'ff, madam ', 'f, madam n', ', madam ng', ' madam ng ', 'madam ng t', 'adam ng to', 'dam ng too', 'am ng took', 'm ng took ', ' ng took t', 'ng took th', 'g took the', ' took the ', 'took the d', 'ook the dr', 'ok the dru', 'k the drug', ' the drug ', 'the drug a', 'he drug an', 'e drug and', ' drug and ', 'drug and b', 'rug and be', 'ug and bec', 'g and beca', ' and becam', 'and became', 'nd became ', 'd became d', ' became dr', 'became dro', 'ecame drow', 'came drows', 'ame drowsy', 'me drowsy.', 'e drowsy. ', ' drowsy.  ', 'drowsy.  h', 'rowsy.  he', 'owsy.  he ', 'wsy.  he t', 'sy.  he th', 'y.  he the', '.  he then', '  he then ', ' he then t', 'he then to', 'e then too', ' then took', 'then took ', 'hen took f', 'en took fr', 'n took fro', ' took from', 'took from ', 'ook from h', 'ok from he', 'k from her', ' from her ', 'from her a', 'rom her a ', 'om her a g', 'm her a go', ' her a gol', 'her a gold', 'er a gold-', 'r a gold-c', ' a gold-co', 'a gold-col', ' gold-colo', 'gold-colou', 'old-colour', 'ld-coloure', 'd-coloured', '-coloured ', 'coloured b', 'oloured br', 'loured bra', 'oured brac', 'ured brace', 'red bracel', 'ed bracele', 'd bracelet', ' bracelet ', 'bracelet w', 'racelet wh', 'acelet whi', 'celet whic', 'elet which', 'let which ', 'et which s', 't which sh', ' which she', 'which she ', 'hich she w', 'ich she wa', 'ch she was', 'h she was ', ' she was w', 'she was we', 'he was wea', 'e was wear', ' was weari', 'was wearin', 'as wearing', 's wearing ', ' wearing a', 'wearing an', 'earing and', 'aring and ', 'ring and t', 'ing and to', 'ng and too', 'g and took', ' and took ', 'and took h', 'nd took he', 'd took her', ' took her ', 'took her o', 'ook her ou', 'ok her out', 'k her out ', ' her out o', 'her out of', 'er out of ', 'r out of t', ' out of th', 'out of the', 'ut of the ', 't of the p', ' of the po', 'of the pol', 'f the poly', ' the polyc', 'the polycl', 'he polycli', 'e polyclin', ' polyclini', 'polyclinic', 'olyclinic.', 'lyclinic. ', 'yclinic.  ', 'clinic.  o', 'linic.  oh', 'inic.  oh ', 'nic.  oh t', 'ic.  oh th', 'c.  oh the', '.  oh then', '  oh then ', ' oh then g', 'oh then go', 'h then got', ' then got ', 'then got a', 'hen got a ', 'en got a t', 'n got a ta', ' got a tax', 'got a taxi', 'ot a taxi ', 't a taxi t', ' a taxi to', 'a taxi to ', ' taxi to t', 'taxi to ta', 'axi to tak', 'xi to take', 'i to take ', ' to take m', 'to take ma', 'o take mad', ' take mada', 'take madam', 'ake madam ', 'ke madam n', 'e madam ng', ' madam ng ', 'madam ng t', 'adam ng to', 'dam ng to ', 'am ng to n', 'm ng to nu', ' ng to nuh', 'ng to nuh,', 'g to nuh, ', ' to nuh, a', 'to nuh, as', 'o nuh, as ', ' nuh, as s', 'nuh, as sh', 'uh, as she', 'h, as she ', ', as she w', ' as she wa', 'as she was', 's she was ', ' she was l', 'she was lo', 'he was los', 'e was losi', ' was losin', 'was losing', 'as losing ', 's losing c', ' losing co', 'losing con', 'osing cons', 'sing consc', 'ing consci', 'ng conscio', 'g consciou', ' conscious', 'consciousn', 'onsciousne', 'nsciousnes', 'sciousness', 'ciousness.', 'iousness. ', 'ousness.  ', 'usness.  o', 'sness.  on', 'ness.  on ', 'ess.  on f', 'ss.  on fr', 's.  on fri', '.  on frid', '  on frida', ' on friday', 'on friday,', 'n friday, ', ' friday, d', 'friday, di', 'riday, dis', 'iday, dist', 'day, distr', 'ay, distri', 'y, distric', ', district', ' district ', 'district j', 'istrict ju', 'strict jud', 'trict judg', 'rict judge', 'ict judge ', 'ct judge g', 't judge gw', ' judge gwe', 'judge gwee', 'udge gwee ', 'dge gwee b', 'ge gwee ba', 'e gwee bac', ' gwee back', 'gwee backd', 'wee backda', 'ee backdat', 'e backdate', ' backdated', 'backdated ', 'ackdated o', 'ckdated oh', \"kdated oh'\", \"dated oh's\", \"ated oh's \", \"ted oh's s\", \"ed oh's se\", \"d oh's sen\", \" oh's sent\", \"oh's sente\", \"h's senten\", \"'s sentenc\", 's sentence', ' sentence ', 'sentence t', 'entence to', 'ntence to ', 'tence to s', 'ence to se', 'nce to sep', 'ce to sept', 'e to sept ', ' to sept  ', 'to sept  l', 'o sept  la', ' sept  las', 'sept  last', 'ept  last ', 'pt  last y', 't  last ye', '  last yea', ' last year', 'last year,', 'ast year, ', 'st year, w', 't year, wh', ' year, whe', 'year, when', 'ear, when ', 'ar, when h', 'r, when he', ', when he ', ' when he w', 'when he wa', 'hen he was', 'en he was ', 'n he was f', ' he was fi', 'he was fir', 'e was firs', ' was first', 'was first ', 'as first r', 's first re', ' first rem', 'first rema', 'irst reman', 'rst remand', 'st remande', 't remanded']\n",
            "Vectorization...\n"
          ],
          "name": "stdout"
        }
      ]
    },
    {
      "cell_type": "code",
      "metadata": {
        "colab_type": "code",
        "id": "pH4qXiG4sCi6",
        "colab": {
          "base_uri": "https://localhost:8080/",
          "height": 853
        },
        "outputId": "0acdf40b-bf4c-40e0-c31f-6cbe1b9591b9"
      },
      "source": [
        "# show the model output using predict function\n",
        "# Enter your code here:\n",
        "import random\n",
        "import sys\n",
        "import numpy as np\n",
        "\n",
        "def sample(preds, temperature=1.0):\n",
        "    preds = np.asarray(preds).astype('float64')\n",
        "    preds = np.log(preds) / temperature\n",
        "    exp_preds = np.exp(preds)\n",
        "    preds = exp_preds / np.sum(exp_preds)\n",
        "    probas = np.random.multinomial(1, preds, 1)\n",
        "    return np.argmax(probas)\n",
        "  \n",
        "\n",
        "for epoch in range(1, 5):\n",
        "    print('epoch', epoch)\n",
        "    # Fit the model for 1 epoch on the available training data\n",
        "    model.fit(X, y,\n",
        "              batch_size=128,\n",
        "              epochs=1)\n",
        "\n",
        "    # Select a text seed at random\n",
        "    start_index = random.randint(0, len(text_input) - new_window_size - 1)\n",
        "    generated_text = text_input[start_index: start_index + new_window_size]\n",
        "    print('--- Generating with seed: \"' + generated_text + '\"')\n",
        "\n",
        "    for temperature in [0.2, 0.5, 1.0, 1.2]:\n",
        "        print('------ temperature:', temperature)\n",
        "        sys.stdout.write(generated_text)\n",
        "\n",
        "        # We generate 400 characters\n",
        "        for i in range(400):\n",
        "            sampled = np.zeros((1, new_window_size, len(chars)))\n",
        "            for t, char in enumerate(generated_text):\n",
        "                sampled[0, t, chars_to_indices[char]] = 1.\n",
        "\n",
        "            preds = model.predict(sampled, verbose=0)[0]\n",
        "            next_index = sample(preds, temperature)\n",
        "            next_char = chars[next_index]\n",
        "\n",
        "            generated_text += next_char\n",
        "            generated_text = generated_text[1:]\n",
        "\n",
        "            sys.stdout.write(next_char)\n",
        "            sys.stdout.flush()\n",
        "        print()\n"
      ],
      "execution_count": null,
      "outputs": [
        {
          "output_type": "stream",
          "text": [
            "epoch 1\n",
            "WARNING:tensorflow:Model was constructed with shape (None, 100, 35) for input Tensor(\"lstm_1_input:0\", shape=(None, 100, 35), dtype=float32), but it was called on an input with incompatible shape (None, 10, 35).\n",
            "6/6 [==============================] - 0s 6ms/step - loss: 1.9633 - acc: 0.4580\n",
            "--- Generating with seed: \"from on se\"\n",
            "------ temperature: 0.2\n",
            "from on seWARNING:tensorflow:Model was constructed with shape (None, 100, 35) for input Tensor(\"lstm_1_input:0\", shape=(None, 100, 35), dtype=float32), but it was called on an input with incompatible shape (None, 10, 35).\n",
            "arch of the matter to the house, and the corner to the lady of the state of the police that he was a street which he had not come of the other was a street of the traces to the coloured and an anger of the state of the police that the man who was a state of the state of the state of the state of the traces to the state to the coronet which he was a story was a passage of the state of the great one\n",
            "------ temperature: 0.5\n",
            " great one of the state upon him where i was morning and seen to the miss hand so have some traces. he had let the death and the writing, he said, when he had been seen in an alshy he was as her way and leave the gaster had have seen to the age, which he had seen that the coronet, i saw her way of the room of the mind which he dreadwear man which mind here is her street-face of the room and seemed to the ot\n",
            "------ temperature: 1.0\n",
            " to the other, spect some  rather be, it was heir for the one rooms when he have huswartetil,for him of his receads.'indertime down be-feathe"
          ],
          "name": "stdout"
        },
        {
          "output_type": "stream",
          "text": [
            "/usr/local/lib/python3.6/dist-packages/ipykernel_launcher.py:9: RuntimeWarning: divide by zero encountered in log\n",
            "  if __name__ == '__main__':\n"
          ],
          "name": "stderr"
        },
        {
          "output_type": "stream",
          "text": [
            "r her bobleacracy. i amrrousant wasphoised,' said he.sharpened upon the requine and begon t monthn bloting featurer of you. that against her roade. she had not his permision into the matter.! leoked your hands.  foar weeks. we are anyte fundenfully using at the raid fo\n",
            "------ temperature: 1.2\n",
            "he raid for there.there were, concelted anverouty seees brot-empty hat and here, upi reason inturk his own bittensweek, tah! as i wasalreadywrict. 'to open cwebego lasclik that.i know thempforthy refuse twice tappear fromidbebb. which you despairing san him.it with than neitherly permiser-legger putted the daughtic obvious where. halfry, had been awjuccretoor every protme so i het was noting.breittyad uponw\n",
            "epoch 2\n",
            "6/6 [==============================] - 0s 7ms/step - loss: 1.5936 - acc: 0.5405\n",
            "--- Generating with seed: \"octor at q\"\n",
            "------ temperature: 0.2\n",
            "octor at quite and story and seemed to the police to the other was her street. i am a stranger was the state of the time, i have some state when he was at the lady of the time when he had a strong of the corner to the dark officed the state of the most street. i have the state out of the room was a companion of the state of the state to the traces to the state out of the first so was a street, and a man who\n",
            "------ temperature: 0.5\n",
            " a man who had not a securing office. it is in the drowling to the stair which you case it was a things of the house, he was new a man which was still for the leamed to come at the companion. and last a stair to let every left into the monvis to the time when he was a step from the until st. clair which were not to the funnityof the time when the presence her man, was was here he saw her head to the proberi\n",
            "------ temperature: 1.0\n",
            "he proberish hand, man. ifocling what be fronter. i should hro-coenly on right her safute at that an owerquesty of the other was umon's becessyproathowe ream after a conviesavity not estap andthe drive very in which upon it.then he had done sugtiber of baker man upon the  little sweel large play judger?oh, no kaulishor taking, as he stood onthe detcrase. gromflay mean on it. she spoke into acterenity so-tha\n",
            "------ temperature: 1.2\n",
            "ity so-thanly and irenethe dash ago, irebehaposmake uponthe neprome, eal she had yow, upon me tell your crimbrough either hit was done.there is matters almonicham any eyeshoff a wicked comfadered tick ruhe lefd it to makn.lysinalway curionit by it.but the flooring upon the pawr. , fromitethcy manish jowe musu makasbulm. on everythimp indo that the traedwhoot, so then imp and cauning to gicalithfucity, stand\n",
            "epoch 3\n",
            "6/6 [==============================] - 0s 6ms/step - loss: 1.3631 - acc: 0.5920\n",
            "--- Generating with seed: \"e backdate\"\n",
            "------ temperature: 0.2\n",
            "e backdated to the coroner and was a man which i have seemed to the state of the room when he was heard the state of the polyclinic from the stall on the state of the polyclinic and state to the state of the coroner that the state of the traces to the state on the polyclinic. then he was there was not on the word stook he was hand to the coronet to me to me that the state of the time when he had the state o\n",
            "------ temperature: 0.5\n",
            "he state out of the stair on the coroner of the stall police had the business as he was a solves of the coppers with a shoulder off the stall end of the attle havpn one of the streets that i had come to the strong the glad chair. and he had such a gold possible was a face stolk of the lady crime that the polyclinic door. i can so confinal of the other feeling of the polyclinic, then was a chasting to come a\n",
            "------ temperature: 1.0\n",
            " to come at not in ustic beker havancedfreen occupation up the legus on her persiou, in photograph to walk him that we may call a little street. this is before it lukest wife huster was immistance offime and groout you see that if then importancene,and what was discover attempt moment. a profession, di. the dreadflum to every race of her. it do nother calse pinci had chard had then mumth in sumeing knowlyth\n",
            "------ temperature: 1.2\n",
            "g knowlythin say from the hack ross. it is a snakiu that for the attrafm-ma's. at shadon. holmes flusl-cten but had under you strosed.glass silk by for our medical-thinged tig-forypridsaw seared,  steld, didventration and steppearforture uponthe grivingporsgle warfy lywit you are.then one.well, there harpyows on you, tell she dropper. then he hears bydon, holmes, said he, and made much of inwrithen was bill\n",
            "epoch 4\n",
            "6/6 [==============================] - 0s 6ms/step - loss: 1.1873 - acc: 0.6495\n",
            "--- Generating with seed: \"k-up.  thi\"\n",
            "------ temperature: 0.2\n",
            "k-up.  thinking that he was head to the polyclinic to the corner to the polyclinic of the time then he was from the polyclinic was a little staff to the polyclinic last stood her head to the polyclinic last hand off the stall was a stall was a stall of the polyclinic and the coroner to the polyclinic and seemed to the polyclinic and was a stall before the staff to the state of the polyclinic and seemed to t\n",
            "------ temperature: 0.5\n",
            "eemed to the other of the stall reasoned state of the very secret. i then put the other beganly to the dark hand with her way that we had a matter was enough the treech to the partic derection which i have a face of the other wonder about the words of the polyclinic. then he had had been to my stepfortunate and staked to the door, while he had all that we was then what even money that the stair, then we wer\n",
            "------ temperature: 1.0\n",
            "hen we were yeughtgract. it of neither bendopt. seem to time. at fromgate life at her that mimess she had facced heavingvning was to know a dayanmy neavier and chargeto thing. thin's have not some  was so was delay phofosed two ordar done.i rest you be a truck had ghilledodwility and offered my dear down drunkcastly took the time then she wassteed though tell hrden and map, he appears orweary to alloce, it \n",
            "------ temperature: 1.2\n",
            "lloce, it was claid anuble was penc an manan vich off the nought. frank he had guest was a stone oldupon you cleaned to see her llactioned ingall to cosil out from the chist corner's own, wuld chang at characte rinsally, a little i. havinest liting of the polyclinicity. and thinfoggition gim? i hesitan isloole rud charge barem heard to doce; it,reunxiam took  became thinh bag os to! then when i treet you re\n"
          ],
          "name": "stdout"
        }
      ]
    },
    {
      "cell_type": "markdown",
      "metadata": {
        "colab_type": "text",
        "id": "VL1No9ojXiqs"
      },
      "source": [
        "### Model #2 (GRU)"
      ]
    },
    {
      "cell_type": "code",
      "metadata": {
        "colab_type": "code",
        "id": "kmhiLB7bXiqw",
        "colab": {
          "base_uri": "https://localhost:8080/",
          "height": 255
        },
        "outputId": "88d38178-4724-45a2-fe40-6a45460c4abe"
      },
      "source": [
        "# Build the Model\n",
        "# Enter your code here:\n",
        "from tensorflow.keras.models import Sequential\n",
        "from tensorflow.keras import layers\n",
        "from tensorflow.keras.optimizers import RMSprop, Adam\n",
        "\n",
        "model = keras.models.Sequential()\n",
        "model.add(layers.GRU(256, input_shape=(window_size, len(chars)), return_sequences=True)) #multiclass single label classification\n",
        "model.add(layers.GRU(256))\n",
        "model.add(layers.Dense(len(chars), activation='softmax'))\n",
        "\n",
        "model.summary()\n"
      ],
      "execution_count": null,
      "outputs": [
        {
          "output_type": "stream",
          "text": [
            "Model: \"sequential\"\n",
            "_________________________________________________________________\n",
            "Layer (type)                 Output Shape              Param #   \n",
            "=================================================================\n",
            "gru (GRU)                    (None, 100, 256)          225024    \n",
            "_________________________________________________________________\n",
            "gru_1 (GRU)                  (None, 256)               394752    \n",
            "_________________________________________________________________\n",
            "dense (Dense)                (None, 35)                8995      \n",
            "=================================================================\n",
            "Total params: 628,771\n",
            "Trainable params: 628,771\n",
            "Non-trainable params: 0\n",
            "_________________________________________________________________\n"
          ],
          "name": "stdout"
        }
      ]
    },
    {
      "cell_type": "code",
      "metadata": {
        "colab_type": "code",
        "id": "n32nbsGkXiqz",
        "colab": {
          "base_uri": "https://localhost:8080/",
          "height": 357
        },
        "outputId": "96222d85-ee0c-4997-c87f-45e46ff6d277"
      },
      "source": [
        "# Train the Model\n",
        "# Enter your code here:\n",
        "model.compile(loss='categorical_crossentropy', optimizer=Adam(lr=1e-4), metrics=['acc'])\n",
        "\n",
        "history = model.fit(X, y,\n",
        "                    epochs=10,\n",
        "                    batch_size=128) "
      ],
      "execution_count": null,
      "outputs": [
        {
          "output_type": "stream",
          "text": [
            "Epoch 1/10\n",
            "4252/4252 [==============================] - 114s 27ms/step - loss: 2.3538 - acc: 0.3219\n",
            "Epoch 2/10\n",
            "4252/4252 [==============================] - 115s 27ms/step - loss: 2.0286 - acc: 0.4053\n",
            "Epoch 3/10\n",
            "4252/4252 [==============================] - 115s 27ms/step - loss: 1.8838 - acc: 0.4456\n",
            "Epoch 4/10\n",
            "4252/4252 [==============================] - 115s 27ms/step - loss: 1.7878 - acc: 0.4720\n",
            "Epoch 5/10\n",
            "4252/4252 [==============================] - 115s 27ms/step - loss: 1.7137 - acc: 0.4934\n",
            "Epoch 6/10\n",
            "4252/4252 [==============================] - 115s 27ms/step - loss: 1.6529 - acc: 0.5113\n",
            "Epoch 7/10\n",
            "4252/4252 [==============================] - 115s 27ms/step - loss: 1.6018 - acc: 0.5265\n",
            "Epoch 8/10\n",
            "4252/4252 [==============================] - 115s 27ms/step - loss: 1.5586 - acc: 0.5390\n",
            "Epoch 9/10\n",
            "4252/4252 [==============================] - 115s 27ms/step - loss: 1.5214 - acc: 0.5499\n",
            "Epoch 10/10\n",
            "4252/4252 [==============================] - 115s 27ms/step - loss: 1.4895 - acc: 0.5584\n"
          ],
          "name": "stdout"
        }
      ]
    },
    {
      "cell_type": "code",
      "metadata": {
        "colab_type": "code",
        "id": "b4SiTzTFXiq1",
        "colab": {
          "base_uri": "https://localhost:8080/",
          "height": 545
        },
        "outputId": "192ace72-7d7e-4365-8eae-d58ef45cff3c"
      },
      "source": [
        "# Plot the Training and Validation Accuracy & Loss Scores\n",
        "# Enter your code here:\n",
        "%matplotlib inline\n",
        "import matplotlib.pyplot as plt\n",
        "\n",
        "acc = history.history['acc']\n",
        "loss = history.history['loss']\n",
        "\n",
        "epochs = range(1, len(acc) + 1)\n",
        "\n",
        "plt.plot(epochs, acc, 'bo', label='Training acc')\n",
        "plt.title('Training and validation accuracy')\n",
        "plt.legend()\n",
        "\n",
        "plt.figure()\n",
        "\n",
        "plt.plot(epochs, loss, 'bo', label='Training loss')\n",
        "plt.title('Training and validation loss')\n",
        "plt.legend()\n",
        "\n",
        "plt.show()"
      ],
      "execution_count": null,
      "outputs": [
        {
          "output_type": "display_data",
          "data": {
            "image/png": "[encoded data removed]",
            "text/plain": [
              "<Figure size 432x288 with 1 Axes>"
            ]
          },
          "metadata": {
            "tags": [],
            "needs_background": "light"
          }
        },
        {
          "output_type": "display_data",
          "data": {
            "image/png": "[encoded data removed]",
            "text/plain": [
              "<Figure size 432x288 with 1 Axes>"
            ]
          },
          "metadata": {
            "tags": [],
            "needs_background": "light"
          }
        }
      ]
    },
    {
      "cell_type": "code",
      "metadata": {
        "colab_type": "code",
        "id": "td-Hs3wRXiq2",
        "colab": {}
      },
      "source": [
        "# Save the Model\n",
        "model.save(model_path+'chgen_model_10.h5')\n",
        "model.save('chgen_model_10.h5')"
      ],
      "execution_count": null,
      "outputs": []
    },
    {
      "cell_type": "markdown",
      "metadata": {
        "colab_type": "text",
        "id": "kJvV5G_1ucGo"
      },
      "source": [
        "#### Evaluation [chgen_model_2]"
      ]
    },
    {
      "cell_type": "code",
      "metadata": {
        "colab_type": "code",
        "id": "LMS6qEKFucGq",
        "colab": {}
      },
      "source": [
        "from tensorflow.keras import models\n",
        "\n",
        "#model.load_weights('chgen_model_best.h5')\n",
        "\n",
        "model = models.load_model(model_path+'chgen_model_10.h5')"
      ],
      "execution_count": null,
      "outputs": []
    },
    {
      "cell_type": "code",
      "metadata": {
        "colab_type": "code",
        "id": "wFPh8No6ucGt",
        "colab": {
          "base_uri": "https://localhost:8080/",
          "height": 34
        },
        "outputId": "0bd9ba88-c60a-40bc-bf77-f9398bda737b"
      },
      "source": [
        "# takes the user input\n",
        "\n",
        "#Oh's third victim was hawker stall owner Ng Phek Huay, whom he stole from on Sept 9, 2019.  While Madam Ng, 71, was waiting for her turn to see the doctor at Queenstown Polyclinic, he stole money from her handbag.  He then offered her zopiclone and convinced her that she had to take it before her medical check-up.  Thinking that Oh was one of the polyclinic staff, Madam Ng took the drug and became drowsy.  He then took from her a gold-coloured bracelet which she was wearing and took her out of the polyclinic.  Oh then got a taxi to take Madam Ng to NUH, as she was losing consciousness.  On Friday, District Judge Gwee backdated Oh's sentence to Sept 12 last year, when he was first remanded.\n",
        "\n",
        "#text_input = np.array([input()])\n",
        "text_input = clean_text(input().lower())"
      ],
      "execution_count": null,
      "outputs": [
        {
          "output_type": "stream",
          "text": [
            "i love going to the park, especially when it is windy or sunny. every satruday i go to the park after buying ice cream.\n"
          ],
          "name": "stdout"
        }
      ]
    },
    {
      "cell_type": "code",
      "metadata": {
        "colab_type": "code",
        "id": "1aW4pkLYucGw",
        "colab": {
          "base_uri": "https://localhost:8080/",
          "height": 88
        },
        "outputId": "d9e0cda2-d873-4c73-8e6b-0381d9769659"
      },
      "source": [
        "# one-hot encode the user input\n",
        "# Enter your code here:\n",
        "new_window_size = 5\n",
        "\n",
        "X, y = encode_io_pairs(text_input, new_window_size)"
      ],
      "execution_count": null,
      "outputs": [
        {
          "output_type": "stream",
          "text": [
            "Num of Sequences:  114\n",
            "['i lov', ' love', 'love ', 'ove g', 've go', 'e goi', ' goin', 'going', 'oing ', 'ing t', 'ng to', 'g to ', ' to t', 'to th', 'o the', ' the ', 'the p', 'he pa', 'e par', ' park', 'park,', 'ark, ', 'rk, e', 'k, es', ', esp', ' espe', 'espec', 'speci', 'pecia', 'ecial', 'ciall', 'ially', 'ally ', 'lly w', 'ly wh', 'y whe', ' when', 'when ', 'hen i', 'en it', 'n it ', ' it i', 'it is', 't is ', ' is w', 'is wi', 's win', ' wind', 'windy', 'indy ', 'ndy o', 'dy or', 'y or ', ' or s', 'or su', 'r sun', ' sunn', 'sunny', 'unny.', 'nny. ', 'ny. e', 'y. ev', '. eve', ' ever', 'every', 'very ', 'ery s', 'ry sa', 'y sat', ' satr', 'satru', 'atrud', 'truda', 'ruday', 'uday ', 'day i', 'ay i ', 'y i g', ' i go', 'i go ', ' go t', 'go to', 'o to ', ' to t', 'to th', 'o the', ' the ', 'the p', 'he pa', 'e par', ' park', 'park ', 'ark a', 'rk af', 'k aft', ' afte', 'after', 'fter ', 'ter b', 'er bu', 'r buy', ' buyi', 'buyin', 'uying', 'ying ', 'ing i', 'ng ic', 'g ice', ' ice ', 'ice c', 'ce cr', 'e cre', ' crea', 'cream']\n",
            "Vectorization...\n"
          ],
          "name": "stdout"
        }
      ]
    },
    {
      "cell_type": "code",
      "metadata": {
        "colab_type": "code",
        "id": "rDn600cSucGy",
        "colab": {
          "base_uri": "https://localhost:8080/",
          "height": 819
        },
        "outputId": "f25f9dd5-7cea-4c07-fb86-4127d15ada9e"
      },
      "source": [
        "# show the model output using predict function\n",
        "# Enter your code here:\n",
        "import random\n",
        "import sys\n",
        "import numpy as np\n",
        "\n",
        "def sample(preds, temperature=1.0):\n",
        "    preds = np.asarray(preds).astype('float64')\n",
        "    preds = np.log(preds) / temperature\n",
        "    exp_preds = np.exp(preds)\n",
        "    preds = exp_preds / np.sum(exp_preds)\n",
        "    probas = np.random.multinomial(1, preds, 1)\n",
        "    return np.argmax(probas)\n",
        "  \n",
        "\n",
        "for epoch in range(1, 5):\n",
        "    print('epoch', epoch)\n",
        "    # Fit the model for 1 epoch on the available training data\n",
        "    model.fit(X, y,\n",
        "              batch_size=128,\n",
        "              epochs=1)\n",
        "\n",
        "    # Select a text seed at random\n",
        "    start_index = random.randint(0, len(text_input) - new_window_size - 1)\n",
        "    generated_text = text_input[start_index: start_index + new_window_size]\n",
        "    print('--- Generating with seed: \"' + generated_text + '\"')\n",
        "\n",
        "    for temperature in [0.2, 0.5, 1.0, 1.2]:\n",
        "        print('------ temperature:', temperature)\n",
        "        sys.stdout.write(generated_text)\n",
        "\n",
        "        # We generate 400 characters\n",
        "        for i in range(400):\n",
        "            sampled = np.zeros((1, new_window_size, len(chars)))\n",
        "            for t, char in enumerate(generated_text):\n",
        "                sampled[0, t, chars_to_indices[char]] = 1.\n",
        "\n",
        "            preds = model.predict(sampled, verbose=0)[0]\n",
        "            next_index = sample(preds, temperature)\n",
        "            next_char = chars[next_index]\n",
        "\n",
        "            generated_text += next_char\n",
        "            generated_text = generated_text[1:]\n",
        "\n",
        "            sys.stdout.write(next_char)\n",
        "            sys.stdout.flush()\n",
        "        print()\n"
      ],
      "execution_count": null,
      "outputs": [
        {
          "output_type": "stream",
          "text": [
            "epoch 1\n",
            "WARNING:tensorflow:Model was constructed with shape (None, 100, 35) for input Tensor(\"gru_input:0\", shape=(None, 100, 35), dtype=float32), but it was called on an input with incompatible shape (None, 5, 35).\n",
            "1/1 [==============================] - 0s 5ms/step - loss: 1.9859 - acc: 0.4298\n",
            "--- Generating with seed: \", esp\"\n",
            "------ temperature: 0.2\n",
            ", espWARNING:tensorflow:Model was constructed with shape (None, 100, 35) for input Tensor(\"gru_input:0\", shape=(None, 100, 35), dtype=float32), but it was called on an input with incompatible shape (None, 5, 35).\n",
            "er, and that have you stated in that have you shall down which had starry, but the diston, which what sent comparringg the down with the leave courtth. i fellow, and that heavely. it was all porrougghed that she was hand which stair should beforr wand that heave in that her was the man stair note was all to there was she was stepper, and the seemen, what she was all the door which stair should dow\n",
            "------ temperature: 0.5\n",
            "d down keepence, that sen that wher father camp the was wand seemed. the sompleine from have light heard off untill dest from and that paper day inter windo have leavely. which leaven, i have me to there, down from in his should inter and house, and office ask ifter may bange been centread. i have next him, and very has steppory. it man wing inter off cours. what with and of singul window, may not sher\n",
            "------ temperature: 1.0\n",
            " shert know mark, upter:?'chat?a'sly; it is.wh hig what charbandursxhappines courds? but the would dodry, fact. you mj. provabley that she mun. my scall-n:gjeytu.nees who min ofyers, smilit. do to parite. man'ss concied nocke:, it sinclied, the me.sherlees! the dadiert let.'wnow, theng-king hambbuck, fut my het profie, we leave clotay.''thislionk. the mectwh, concrodowspryeec fall-dxabst, vellay, rone,\n",
            "------ temperature: 1.2\n",
            "rone, she my awayspleque, of that hoadsy: vasablwy. therexjeargz was as edver.b'collvbel. i canted-veily.,'nure!qyuzer,d. i a vigieszht?'ke king jusps; all.'i's, manns? thehe?''thr. then upent, goze' parrs.gurled and lord you.gare?ife''s;! ther'pyt.him? 'hurrs, mssew-geats, when have persesverp, loke prosast quickt's,book,dhe dred.pectatzuchath palk remels kincod!would, i shatem's; rondeths! that ixil,\n",
            "epoch 2\n",
            "1/1 [==============================] - 0s 5ms/step - loss: 1.9773 - acc: 0.4474\n",
            "--- Generating with seed: \"ry sa\"\n",
            "------ temperature: 0.2\n",
            "ry same very was all purse, which stree. it was all the door whole windon who may seemed. i have the call dight had beard inter with the man who was sheet littly seemed. i should the man which officel stair no, and the littly seemed in the stated in that man where with the seen in that stair note which stair note was all the seen who is that heard inter was the door whose which hand story, the man who \n",
            "------ temperature: 0.5\n",
            " who is, which carridg, for greet in the dight of his should mr. he was the seemen's whole, were window inter was comporried. i have comples. it was were off the with of his have in that her sature. the that would pross known down carrods. i shally that way the door, flack, has conlice. he was ard and that been tide which ampress. where smokent in sighturned great son, you have the carryd. come new man\n",
            "------ temperature: 1.0\n",
            "w man. i have inter-crakn-tthe man his caped sen mady atwhere weddeveable, with i have juallzqaudsever, that dearl liary quusigh, his koung.where bolice. husthe: if i his inds inter yeviles! with yothi. we lisel.'jop kindly polestjukcuenc. ofthreea:vincearls!, runikne, but hid when him. i never im some knock.hours!mine give quiealnd set by his expocopppeaclu,cyeddrefor would readv'bers!leep,a broaked, \n",
            "------ temperature: 1.2\n",
            "ked, houriggls. off her proviage close,thery:cokfourded verss. homme. profogner, turnee, by kiven kinclya;go, make you hand incen ject,the's, leade. icqua yonwardty. just find that nige.jurgeg, jede,'?'y!'''k?d. vonee, nothingly--agquirne?thark geever rase crudps wilass pallev jest murd'! it.johker.;o', doorevenk. it sever.'jumrm'sm. ' brody!'''quser fellfotcheecasz,dirn, were handdcars brighat, socqu,\n",
            "epoch 3\n",
            "1/1 [==============================] - 0s 4ms/step - loss: 1.9611 - acc: 0.4474\n",
            "--- Generating with seed: \" satr\"\n",
            "------ temperature: 0.2\n",
            " satreed with the man where with the littly seeme! i have you there with the bed that seemen who may stair shair shair lite was all the littly self man she was all post the court off the man which office, and the distray. i shall dight seemed in the court, which ask into seen with the court, which stair note with the man who way the littly seeme. it was all the call off the door preass the doubled, i h\n",
            "------ temperature: 0.5\n",
            ", i have news inter mance tower, at the man. i will fample sempthery offorr ist and man who was almand, was the looking hand sent have comper deart, have very strieed of see throumse with in seme for and man whole was abluied, which make colour dees than was sevile. i had bell-y; but the man, he were aster dign the duried that when have yes, the for and in from the case were which laid in though me thi\n",
            "------ temperature: 1.0\n",
            "e thienste. icould,'s and whaturwnong. the his night; i have fine chan. only.what sherle?noth sever?divory fell, man like all to the besing mornike. i from briviel empreats: flory, show. is anntard. you man heavy odjer. nocte, by two digh, i see efroub gice. and had the yespe colonge had could, wasto;s:''wn! and for this morning in seens, tocomp-ofthe marrid, i wouldrceal have counst being couph for pr\n",
            "------ temperature: 1.2\n",
            "or prisy lodgep adcrubgal sagad rosmem is upfatem. thisaq aking?av?it.' he's: theeeed, aghiund kistesteppirtablle, very polit, quitrusel, of jehs quautberak astre velloymon, but apppcipar.what hat.'k-hand, brien, andy: gave in thing workhalld ady siig.th and invider, juttryuadzed felfok! she discamm.this ualond smulf-y-of--quanb. inskly covined mornign lawapzr:,w if it lacke, on that driwnce drapp ofr \n",
            "epoch 4\n",
            "1/1 [==============================] - 0s 4ms/step - loss: 1.9384 - acc: 0.4474\n",
            "--- Generating with seed: \" satr\"\n",
            "------ temperature: 0.2\n",
            " satree with the courtth me that was all porried. i should not seemed. i have you man who was all press. the lough, the seemed in the man who way this have courtth, i have in that she was the like which stair note which happer, and the carridge to the looked, the case which off the dear gure chairn good stair shate which stair shair note which stair sheet lange with the think have courst and the doung \n",
            "------ temperature: 0.5\n",
            "oung shown. you may sent seemed, remaid the doubter very sat the comparry dear night, he have in that bee, man window and the off the readly dour windown, the came think looking of man, what well, drawh, but she that inaty, but the lange littly work inter wingoh, the me to bele and who way to charrd, of the had dister priest still after office, if your chall porried in upon which marry, fact him?i do n\n",
            "------ temperature: 1.0\n",
            " do nom loudo lat agapip; not uppos?see, raturlabhourdvil;and, pork jomme: in servaidy visit vosurd. i threa. cotter escen? i heaid lakes. there, which looke; exple?be commaking hadd upon prisete court! in told his coppearing gaist!'and fachht me, for geast,-hair, yousagh,, and seee door it severge compair nall, withes seemedstep, whiling trreaid, the i fairl window?'t.le! 'what with same; mr; juger, b\n",
            "------ temperature: 1.2\n",
            "er, but mistly thicke, viole.wehadgvemay jece,-hower.'''h:'!''pprariyg!sthatne.y.lesthree., he did is reave we doying, of felenw pallimops? the loddifty day, what this francy.jakif, theeal gap: land;a havey!''f, lefenguarranth seed--nobls, have chproandgrow---barncink,there, viough for the might two loctrlyianct.y'men?what seer agry, wear'duph, the cliare?'s young.too? have therou.''llo;g.he hasfe?xani\n"
          ],
          "name": "stdout"
        }
      ]
    },
    {
      "cell_type": "code",
      "metadata": {
        "colab_type": "code",
        "id": "2J32hlGhucG1",
        "colab": {
          "base_uri": "https://localhost:8080/",
          "height": 238
        },
        "outputId": "a2616946-8ff6-4807-a666-5ef941a67473"
      },
      "source": [
        "model.fit(X, y, batch_size=128, epochs=1)\n",
        "\n",
        "text_ls = [\"dogs are grea\", \"please ente\", \"what a sigh\", \"edge of the worl\", \"would you please hurr\"]\n",
        "temperature = 0.2\n",
        "print('------ temperature:', temperature)\n",
        "print(\"Prediction: \")\n",
        "for i in text_ls:\n",
        "  sys.stdout.write(i)\n",
        "\n",
        "  # We generate 400 characters\n",
        "  # for i in range(400):\n",
        "  sampled = np.zeros((1, len(i), len(chars)))\n",
        "  for t, char in enumerate(i):\n",
        "      sampled[0, t, chars_to_indices[char]] = 1.\n",
        "\n",
        "  preds = model.predict(sampled, verbose=0)[0]\n",
        "  next_index = sample(preds, temperature)\n",
        "  next_char = chars[next_index]\n",
        "\n",
        "  sys.stdout.write(next_char)\n",
        "  sys.stdout.flush()\n",
        "  print()\n",
        "\n",
        "\n",
        "text_input = input(\"Enter sentence to predict next character: \\n\")\n",
        "print(\"Predicting user input... \\n\")\n",
        "sys.stdout.write(text_input)\n",
        "\n",
        "# We generate 400 characters\n",
        "# for i in range(400):\n",
        "sampled = np.zeros((1, len(text_input), len(chars)))\n",
        "for t, char in enumerate(text_input):\n",
        "    sampled[0, t, chars_to_indices[char]] = 1.\n",
        "\n",
        "preds = model.predict(sampled, verbose=0)[0]\n",
        "next_index = sample(preds, temperature)\n",
        "next_char = chars[next_index]\n",
        "\n",
        "text_input += next_char\n",
        "text_input = text_input[1:]\n",
        "\n",
        "\n",
        "sys.stdout.write(next_char)\n",
        "sys.stdout.flush()\n",
        "print()"
      ],
      "execution_count": null,
      "outputs": [
        {
          "output_type": "stream",
          "text": [
            "1/1 [==============================] - 0s 4ms/step - loss: 1.9773 - acc: 0.4474\n",
            "------ temperature: 0.2\n",
            "Prediction: \n",
            "dogs are great\n",
            "please enter\n",
            "what a sight\n",
            "edge of the world\n",
            "would you please hurri\n",
            "Enter sentence to predict next character: \n",
            "i am so happ\n",
            "Predicting user input... \n",
            "\n",
            "i am so happy\n"
          ],
          "name": "stdout"
        }
      ]
    },
    {
      "cell_type": "markdown",
      "metadata": {
        "colab_type": "text",
        "id": "vsrSzmfD9S0e"
      },
      "source": [
        "#### Evaluation [chgen_model_2]"
      ]
    },
    {
      "cell_type": "code",
      "metadata": {
        "colab_type": "code",
        "id": "D9F4_RJD9S0g",
        "colab": {}
      },
      "source": [
        "from tensorflow.keras import models\n",
        "\n",
        "\n",
        "#model.load_weights('chgen_model_best.h5')\n",
        "model = models.load_model(model_path+'chgen_model_10.h5')"
      ],
      "execution_count": null,
      "outputs": []
    },
    {
      "cell_type": "code",
      "metadata": {
        "colab_type": "code",
        "id": "1BragFNm9S0l",
        "colab": {
          "base_uri": "https://localhost:8080/",
          "height": 54
        },
        "outputId": "f751babd-9ba4-446e-d063-4b8b49974d15"
      },
      "source": [
        "# takes the user input\n",
        "\n",
        "#text_input = np.array([input()])\n",
        "text_input = clean_text(input().lower())"
      ],
      "execution_count": null,
      "outputs": [
        {
          "output_type": "stream",
          "text": [
            "Oh's third victim was hawker stall owner Ng Phek Huay, whom he stole from on Sept 9, 2019.  While Madam Ng, 71, was waiting for her turn to see the doctor at Queenstown Polyclinic, he stole money from her handbag.  He then offered her zopiclone and convinced her that she had to take it before her medical check-up.  Thinking that Oh was one of the polyclinic staff, Madam Ng took the drug and became drowsy.  He then took from her a gold-coloured bracelet which she was wearing and took her out of the polyclinic.  Oh then got a taxi to take Madam Ng to NUH, as she was losing consciousness.  On Friday, District Judge Gwee backdated Oh's sentence to Sept 12 last year, when he was first remanded.\n"
          ],
          "name": "stdout"
        }
      ]
    },
    {
      "cell_type": "code",
      "metadata": {
        "colab_type": "code",
        "id": "w1dJaMX19S0o",
        "colab": {
          "base_uri": "https://localhost:8080/",
          "height": 88
        },
        "outputId": "fff7a1fd-5d3f-457d-8f5d-4c0e34f18ae0"
      },
      "source": [
        "# one-hot encode the user input\n",
        "# Enter your code here:\n",
        "new_window_size = 10\n",
        "\n",
        "X, y = encode_io_pairs(text_input, new_window_size)"
      ],
      "execution_count": null,
      "outputs": [
        {
          "output_type": "stream",
          "text": [
            "Num of Sequences:  679\n",
            "[\"oh's third\", \"h's third \", \"'s third v\", 's third vi', ' third vic', 'third vict', 'hird victi', 'ird victim', 'rd victim ', 'd victim w', ' victim wa', 'victim was', 'ictim was ', 'ctim was h', 'tim was ha', 'im was haw', 'm was hawk', ' was hawke', 'was hawker', 'as hawker ', 's hawker s', ' hawker st', 'hawker sta', 'awker stal', 'wker stall', 'ker stall ', 'er stall o', 'r stall ow', ' stall own', 'stall owne', 'tall owner', 'all owner ', 'll owner n', 'l owner ng', ' owner ng ', 'owner ng p', 'wner ng ph', 'ner ng phe', 'er ng phek', 'r ng phek ', ' ng phek h', 'ng phek hu', 'g phek hua', ' phek huay', 'phek huay,', 'hek huay, ', 'ek huay, w', 'k huay, wh', ' huay, who', 'huay, whom', 'uay, whom ', 'ay, whom h', 'y, whom he', ', whom he ', ' whom he s', 'whom he st', 'hom he sto', 'om he stol', 'm he stole', ' he stole ', 'he stole f', 'e stole fr', ' stole fro', 'stole from', 'tole from ', 'ole from o', 'le from on', 'e from on ', ' from on s', 'from on se', 'rom on sep', 'om on sept', 'm on sept ', ' on sept ,', 'on sept , ', 'n sept , .', ' sept , . ', 'sept , .  ', 'ept , .  w', 'pt , .  wh', 't , .  whi', ' , .  whil', ', .  while', ' .  while ', '.  while m', '  while ma', ' while mad', 'while mada', 'hile madam', 'ile madam ', 'le madam n', 'e madam ng', ' madam ng,', 'madam ng, ', 'adam ng, ,', 'dam ng, , ', 'am ng, , w', 'm ng, , wa', ' ng, , was', 'ng, , was ', 'g, , was w', ', , was wa', ' , was wai', ', was wait', ' was waiti', 'was waitin', 'as waiting', 's waiting ', ' waiting f', 'waiting fo', 'aiting for', 'iting for ', 'ting for h', 'ing for he', 'ng for her', 'g for her ', ' for her t', 'for her tu', 'or her tur', 'r her turn', ' her turn ', 'her turn t', 'er turn to', 'r turn to ', ' turn to s', 'turn to se', 'urn to see', 'rn to see ', 'n to see t', ' to see th', 'to see the', 'o see the ', ' see the d', 'see the do', 'ee the doc', 'e the doct', ' the docto', 'the doctor', 'he doctor ', 'e doctor a', ' doctor at', 'doctor at ', 'octor at q', 'ctor at qu', 'tor at que', 'or at quee', 'r at queen', ' at queens', 'at queenst', 't queensto', ' queenstow', 'queenstown', 'ueenstown ', 'eenstown p', 'enstown po', 'nstown pol', 'stown poly', 'town polyc', 'own polycl', 'wn polycli', 'n polyclin', ' polyclini', 'polyclinic', 'olyclinic,', 'lyclinic, ', 'yclinic, h', 'clinic, he', 'linic, he ', 'inic, he s', 'nic, he st', 'ic, he sto', 'c, he stol', ', he stole', ' he stole ', 'he stole m', 'e stole mo', ' stole mon', 'stole mone', 'tole money', 'ole money ', 'le money f', 'e money fr', ' money fro', 'money from', 'oney from ', 'ney from h', 'ey from he', 'y from her', ' from her ', 'from her h', 'rom her ha', 'om her han', 'm her hand', ' her handb', 'her handba', 'er handbag', 'r handbag.', ' handbag. ', 'handbag.  ', 'andbag.  h', 'ndbag.  he', 'dbag.  he ', 'bag.  he t', 'ag.  he th', 'g.  he the', '.  he then', '  he then ', ' he then o', 'he then of', 'e then off', ' then offe', 'then offer', 'hen offere', 'en offered', 'n offered ', ' offered h', 'offered he', 'ffered her', 'fered her ', 'ered her z', 'red her zo', 'ed her zop', 'd her zopi', ' her zopic', 'her zopicl', 'er zopiclo', 'r zopiclon', ' zopiclone', 'zopiclone ', 'opiclone a', 'piclone an', 'iclone and', 'clone and ', 'lone and c', 'one and co', 'ne and con', 'e and conv', ' and convi', 'and convin', 'nd convinc', 'd convince', ' convinced', 'convinced ', 'onvinced h', 'nvinced he', 'vinced her', 'inced her ', 'nced her t', 'ced her th', 'ed her tha', 'd her that', ' her that ', 'her that s', 'er that sh', 'r that she', ' that she ', 'that she h', 'hat she ha', 'at she had', 't she had ', ' she had t', 'she had to', 'he had to ', 'e had to t', ' had to ta', 'had to tak', 'ad to take', 'd to take ', ' to take i', 'to take it', 'o take it ', ' take it b', 'take it be', 'ake it bef', 'ke it befo', 'e it befor', ' it before', 'it before ', 't before h', ' before he', 'before her', 'efore her ', 'fore her m', 'ore her me', 're her med', 'e her medi', ' her medic', 'her medica', 'er medical', 'r medical ', ' medical c', 'medical ch', 'edical che', 'dical chec', 'ical check', 'cal check-', 'al check-u', 'l check-up', ' check-up.', 'check-up. ', 'heck-up.  ', 'eck-up.  t', 'ck-up.  th', 'k-up.  thi', '-up.  thin', 'up.  think', 'p.  thinki', '.  thinkin', '  thinking', ' thinking ', 'thinking t', 'hinking th', 'inking tha', 'nking that', 'king that ', 'ing that o', 'ng that oh', 'g that oh ', ' that oh w', 'that oh wa', 'hat oh was', 'at oh was ', 't oh was o', ' oh was on', 'oh was one', 'h was one ', ' was one o', 'was one of', 'as one of ', 's one of t', ' one of th', 'one of the', 'ne of the ', 'e of the p', ' of the po', 'of the pol', 'f the poly', ' the polyc', 'the polycl', 'he polycli', 'e polyclin', ' polyclini', 'polyclinic', 'olyclinic ', 'lyclinic s', 'yclinic st', 'clinic sta', 'linic staf', 'inic staff', 'nic staff,', 'ic staff, ', 'c staff, m', ' staff, ma', 'staff, mad', 'taff, mada', 'aff, madam', 'ff, madam ', 'f, madam n', ', madam ng', ' madam ng ', 'madam ng t', 'adam ng to', 'dam ng too', 'am ng took', 'm ng took ', ' ng took t', 'ng took th', 'g took the', ' took the ', 'took the d', 'ook the dr', 'ok the dru', 'k the drug', ' the drug ', 'the drug a', 'he drug an', 'e drug and', ' drug and ', 'drug and b', 'rug and be', 'ug and bec', 'g and beca', ' and becam', 'and became', 'nd became ', 'd became d', ' became dr', 'became dro', 'ecame drow', 'came drows', 'ame drowsy', 'me drowsy.', 'e drowsy. ', ' drowsy.  ', 'drowsy.  h', 'rowsy.  he', 'owsy.  he ', 'wsy.  he t', 'sy.  he th', 'y.  he the', '.  he then', '  he then ', ' he then t', 'he then to', 'e then too', ' then took', 'then took ', 'hen took f', 'en took fr', 'n took fro', ' took from', 'took from ', 'ook from h', 'ok from he', 'k from her', ' from her ', 'from her a', 'rom her a ', 'om her a g', 'm her a go', ' her a gol', 'her a gold', 'er a gold-', 'r a gold-c', ' a gold-co', 'a gold-col', ' gold-colo', 'gold-colou', 'old-colour', 'ld-coloure', 'd-coloured', '-coloured ', 'coloured b', 'oloured br', 'loured bra', 'oured brac', 'ured brace', 'red bracel', 'ed bracele', 'd bracelet', ' bracelet ', 'bracelet w', 'racelet wh', 'acelet whi', 'celet whic', 'elet which', 'let which ', 'et which s', 't which sh', ' which she', 'which she ', 'hich she w', 'ich she wa', 'ch she was', 'h she was ', ' she was w', 'she was we', 'he was wea', 'e was wear', ' was weari', 'was wearin', 'as wearing', 's wearing ', ' wearing a', 'wearing an', 'earing and', 'aring and ', 'ring and t', 'ing and to', 'ng and too', 'g and took', ' and took ', 'and took h', 'nd took he', 'd took her', ' took her ', 'took her o', 'ook her ou', 'ok her out', 'k her out ', ' her out o', 'her out of', 'er out of ', 'r out of t', ' out of th', 'out of the', 'ut of the ', 't of the p', ' of the po', 'of the pol', 'f the poly', ' the polyc', 'the polycl', 'he polycli', 'e polyclin', ' polyclini', 'polyclinic', 'olyclinic.', 'lyclinic. ', 'yclinic.  ', 'clinic.  o', 'linic.  oh', 'inic.  oh ', 'nic.  oh t', 'ic.  oh th', 'c.  oh the', '.  oh then', '  oh then ', ' oh then g', 'oh then go', 'h then got', ' then got ', 'then got a', 'hen got a ', 'en got a t', 'n got a ta', ' got a tax', 'got a taxi', 'ot a taxi ', 't a taxi t', ' a taxi to', 'a taxi to ', ' taxi to t', 'taxi to ta', 'axi to tak', 'xi to take', 'i to take ', ' to take m', 'to take ma', 'o take mad', ' take mada', 'take madam', 'ake madam ', 'ke madam n', 'e madam ng', ' madam ng ', 'madam ng t', 'adam ng to', 'dam ng to ', 'am ng to n', 'm ng to nu', ' ng to nuh', 'ng to nuh,', 'g to nuh, ', ' to nuh, a', 'to nuh, as', 'o nuh, as ', ' nuh, as s', 'nuh, as sh', 'uh, as she', 'h, as she ', ', as she w', ' as she wa', 'as she was', 's she was ', ' she was l', 'she was lo', 'he was los', 'e was losi', ' was losin', 'was losing', 'as losing ', 's losing c', ' losing co', 'losing con', 'osing cons', 'sing consc', 'ing consci', 'ng conscio', 'g consciou', ' conscious', 'consciousn', 'onsciousne', 'nsciousnes', 'sciousness', 'ciousness.', 'iousness. ', 'ousness.  ', 'usness.  o', 'sness.  on', 'ness.  on ', 'ess.  on f', 'ss.  on fr', 's.  on fri', '.  on frid', '  on frida', ' on friday', 'on friday,', 'n friday, ', ' friday, d', 'friday, di', 'riday, dis', 'iday, dist', 'day, distr', 'ay, distri', 'y, distric', ', district', ' district ', 'district j', 'istrict ju', 'strict jud', 'trict judg', 'rict judge', 'ict judge ', 'ct judge g', 't judge gw', ' judge gwe', 'judge gwee', 'udge gwee ', 'dge gwee b', 'ge gwee ba', 'e gwee bac', ' gwee back', 'gwee backd', 'wee backda', 'ee backdat', 'e backdate', ' backdated', 'backdated ', 'ackdated o', 'ckdated oh', \"kdated oh'\", \"dated oh's\", \"ated oh's \", \"ted oh's s\", \"ed oh's se\", \"d oh's sen\", \" oh's sent\", \"oh's sente\", \"h's senten\", \"'s sentenc\", 's sentence', ' sentence ', 'sentence t', 'entence to', 'ntence to ', 'tence to s', 'ence to se', 'nce to sep', 'ce to sept', 'e to sept ', ' to sept  ', 'to sept  l', 'o sept  la', ' sept  las', 'sept  last', 'ept  last ', 'pt  last y', 't  last ye', '  last yea', ' last year', 'last year,', 'ast year, ', 'st year, w', 't year, wh', ' year, whe', 'year, when', 'ear, when ', 'ar, when h', 'r, when he', ', when he ', ' when he w', 'when he wa', 'hen he was', 'en he was ', 'n he was f', ' he was fi', 'he was fir', 'e was firs', ' was first', 'was first ', 'as first r', 's first re', ' first rem', 'first rema', 'irst reman', 'rst remand', 'st remande', 't remanded']\n",
            "Vectorization...\n"
          ],
          "name": "stdout"
        }
      ]
    },
    {
      "cell_type": "code",
      "metadata": {
        "colab_type": "code",
        "id": "JZSLF42v9S0r",
        "colab": {
          "base_uri": "https://localhost:8080/",
          "height": 819
        },
        "outputId": "e1e6afa0-78d5-460f-d244-76604d984e32"
      },
      "source": [
        "# show the model output using predict function\n",
        "# Enter your code here:\n",
        "import random\n",
        "import sys\n",
        "import numpy as np\n",
        "\n",
        "def sample(preds, temperature=1.0):\n",
        "    preds = np.asarray(preds).astype('float64')\n",
        "    preds = np.log(preds) / temperature\n",
        "    exp_preds = np.exp(preds)\n",
        "    preds = exp_preds / np.sum(exp_preds)\n",
        "    probas = np.random.multinomial(1, preds, 1)\n",
        "    return np.argmax(probas)\n",
        "  \n",
        "\n",
        "for epoch in range(1, 5):\n",
        "    print('epoch', epoch)\n",
        "    # Fit the model for 1 epoch on the available training data\n",
        "    model.fit(X, y,\n",
        "              batch_size=128,\n",
        "              epochs=1)\n",
        "\n",
        "    # Select a text seed at random\n",
        "    start_index = random.randint(0, len(text_input) - new_window_size - 1)\n",
        "    generated_text = text_input[start_index: start_index + new_window_size]\n",
        "    print('--- Generating with seed: \"' + generated_text + '\"')\n",
        "\n",
        "    for temperature in [0.2, 0.5, 1.0, 1.2]:\n",
        "        print('------ temperature:', temperature)\n",
        "        sys.stdout.write(generated_text)\n",
        "\n",
        "        # We generate 400 characters\n",
        "        for i in range(400):\n",
        "            sampled = np.zeros((1, new_window_size, len(chars)))\n",
        "            for t, char in enumerate(generated_text):\n",
        "                sampled[0, t, chars_to_indices[char]] = 1.\n",
        "\n",
        "            preds = model.predict(sampled, verbose=0)[0]\n",
        "            next_index = sample(preds, temperature)\n",
        "            next_char = chars[next_index]\n",
        "\n",
        "            generated_text += next_char\n",
        "            generated_text = generated_text[1:]\n",
        "\n",
        "            sys.stdout.write(next_char)\n",
        "            sys.stdout.flush()\n",
        "        print()\n"
      ],
      "execution_count": null,
      "outputs": [
        {
          "output_type": "stream",
          "text": [
            "epoch 1\n",
            "WARNING:tensorflow:Model was constructed with shape (None, 100, 35) for input Tensor(\"gru_input_1:0\", shape=(None, 100, 35), dtype=float32), but it was called on an input with incompatible shape (None, 10, 35).\n",
            "6/6 [==============================] - 0s 7ms/step - loss: 2.0153 - acc: 0.4404\n",
            "--- Generating with seed: \"am ng took\"\n",
            "------ temperature: 0.2\n",
            "am ng tookWARNING:tensorflow:Model was constructed with shape (None, 100, 35) for input Tensor(\"gru_input_1:0\", shape=(None, 100, 35), dtype=float32), but it was called on an input with incompatible shape (None, 10, 35).\n",
            " a start and the street of the street of the secret the companion of the strange and have been street of the state and the dear from the coroner to me that he was a shall of the secret the street and the dear which i have been street. i have not be a little the lady with his face and the from the companion which he see that i am some of the strange of the coroner was a sure that was the concent a \n",
            "------ temperature: 0.5\n",
            "concent a put upon the componition as the face and the gland. left he had been at the back so the fire at the did at the pater of the police we shall double and was done that he has had been as he was a face street, for the points of the hat she was very more man. he said that it was a fair for his on the could not seem to be the companion and sat such a chriet. i have man which had suddenly not me that he \n",
            "------ temperature: 1.0\n",
            "e that he found it, and face a whose usel from histleed suwhis now father as neveltyres trust and men and packed in at sayrown was eirepention, and the so. we,phise vulally; four compenty londsbake and rematured iffor a quarter off in found, wearse upun upon beghat the fing, with us. the fire to his, so that hers laid, i had sairmafiou and feates, bat! seese me to trubth. gave my less stoized the same lockn\n",
            "------ temperature: 1.2\n",
            "same locknct.whywalknd up a glestrost caman, then as thetertot wastower as wonter pazedbud whearsweaid in crible papsed boors flent, visat bike as abeling, as hot a little fram off themood up, and i westergoon, that he have dareled in a cheld of youts contentive mait?''you whatas steed by a sincelung when yourescree, briak? is nof speem. ita huspprentem' stalk goxe toa coff, miss,said it dumbit mad-milednot\n",
            "epoch 2\n",
            "6/6 [==============================] - 0s 7ms/step - loss: 1.9513 - acc: 0.4580\n",
            "--- Generating with seed: \"udge gwee \"\n",
            "------ temperature: 0.2\n",
            "udge gwee and the first that he had been street of his face and the fact of the strange to the first the companion was a start and the concent of the street and the morning the street and the thing i have some close that he was a start to the strange a state and the matter was still to the hands of the fire the room which we have been street. he was a start in the street of her street and the country of the\n",
            "------ temperature: 0.5\n",
            "try of the chack from the face with the matter be some has been still some street. he was a man who said her to let me reason, and the fact and the other was a start to the attenting which he came a street a friend of the best remained to the copper the same was father that he patter and confriend the desting from her the advertime to be so the morning the first to the struct at my friend the which he had s\n",
            "------ temperature: 1.0\n",
            "h he had sobve lay she heard dispung succoung eppeaned wild's pape.seen their lees chant word. the preiened, all onling threquiches wind of he dedicate build.here word to little and implentrem sfirm sech savence no, 'wave that he, righted in six a veathing her awulpref and at his garde when pouning state, fathenc-me.penhar, so i shill a case, let knote of bo horefthe taw near to her. dirtime friend occproso\n",
            "------ temperature: 1.2\n",
            "d occprosonth, who is sevicaling recage of usuable fousts. roliif from yest haveloran. and from atmiss story' was in coming lady glance 'breathed uncentled lafe.'she day  mole go;s natured, thy looken?th ! shen merrally! i have just hen sim folmown was dank whatpemp the opinit calkingle's ofin way, who 'walked in paper bedoh, or pegcrs,it in fail prapbravesque,puplic ascopmeddess objea hurter hum good senpe\n",
            "epoch 3\n",
            "6/6 [==============================] - 0s 7ms/step - loss: 1.8610 - acc: 0.4728\n",
            "--- Generating with seed: \"me drowsy.\"\n",
            "------ temperature: 0.2\n",
            "me drowsy. i should be seemed to the charge and the dear the charge the lady face and the man was a state of the next seemed to the charce for the chair in the room of the door was a paper which he was a start of her before the facts in the door be a little the paper state which he had been start and the chance of the strange and her the first that he stone close and the stated me that he had been street of\n",
            "------ temperature: 0.5\n",
            " street of his father before in should be the dest the coldrage that he was not in strange in strick had come for me the best the head was a way. i am to the compance in the strugg to have been and the inness for a contray when he case be a large that the corone was help the dayce and the convince as the child holmes and looking, and stated to see the trace down with his should be the face, when he have bee\n",
            "------ temperature: 1.0\n",
            "e have beer which was holmes conter screem making catter. prictic. the tawing bet evance more thece-coroned take havinug at the choldge than what dy precers as exomed uponeim parred trapositit dour, it, and her light of my matters house i narust. as we do sure that it was from that i had fect find way of course to do it throw.' she case in the shoundbriding, whit, stair and herlanced cleath. brow that the r\n",
            "------ temperature: 1.2\n",
            "that the row how some fable?very sixfor adveven.there's nwy yes nister breckil oft her peomined on, frem than he consureming epred upon feg hadrether who appainly. i have no dever.just he wher o'clec-pliaple,-xay much peppoin for himselver:ly. tretaun.it mertanffarse imrom, then less unilp in when he had. did i doden compans in helves sade no inval as reashes. it he distlerenc, by asheri. rich stayin thrown\n",
            "epoch 4\n",
            "6/6 [==============================] - 0s 7ms/step - loss: 1.7683 - acc: 0.5022\n",
            "--- Generating with seed: \".  oh then\"\n",
            "------ temperature: 0.2\n",
            ".  oh then he was a start and the matter who had been a charce with her stated be a case of the strange of the strange that he was a few man, and the facts which i have not the police and the strange and the state when he was a decest the chair and the concent that he had been the paper state which he had been and the fact of the fact of the street of the present and the fact of the strange that he was a st\n",
            "------ temperature: 0.5\n",
            "e was a street of her had fact that he was a decess to the crime that she heard that they were to see the matter and have before he saw of the ghance that she had conting had a long from her leg to the first the lose from her the morting of the charm when he was not over the chair in the money could be a found the strong had been such a struggless the policed to see the fall in she house of the strange and \n",
            "------ temperature: 1.0\n",
            "range and lady came reasonnder years and from a hed cause of they innoccupled and packs if the doline. mr. had no one of look eham enclips and?i challed as why belingly have, said he; said he. the man, sil, changed find.fell his chy, and i marice address, the miss heaphing los jude for me. he was elst to cas just nottes: the onliev, the great sund dark who have anchound mode.yes, mr. then shewlock her the v\n",
            "------ temperature: 1.2\n",
            " her the vair.'therefrie nating corangroven stgit then. then,'wren you clot.'then reccanger. shiling charint 'by naturgly, of icnuen enougg fry chamcex for exation. he hadfred done clot, it wewall. some abproasest knew him. yownetthe straigh and face, with radabloked to gastly-room, bet dr. no my it? if you would wavefhe myeccnew twof,chay lent at, stole!i spoke twouk of lees her a countcrap-hord, chentra't\n"
          ],
          "name": "stdout"
        }
      ]
    },
    {
      "cell_type": "markdown",
      "metadata": {
        "colab_type": "text",
        "id": "-Q41dnxD5XCB"
      },
      "source": [
        "## Step 3 – Use the Best Model to make prediction"
      ]
    },
    {
      "cell_type": "code",
      "metadata": {
        "id": "7_ZsPM0jGLew",
        "colab_type": "code",
        "colab": {}
      },
      "source": [
        "from tensorflow.keras import models\n",
        "model = models.load_model(model_path+'chgen_model_2.h5')\n",
        "model.save(model_path+'chgen_model_best.h5')"
      ],
      "execution_count": null,
      "outputs": []
    },
    {
      "cell_type": "code",
      "metadata": {
        "colab_type": "code",
        "id": "sn9HJbJB5XCC",
        "colab": {}
      },
      "source": [
        "\n",
        "model = models.load_model(model_path+ 'chgen_model_best.h5')"
      ],
      "execution_count": null,
      "outputs": []
    },
    {
      "cell_type": "code",
      "metadata": {
        "colab_type": "code",
        "id": "c1LlaagD5XCE",
        "colab": {
          "base_uri": "https://localhost:8080/",
          "height": 54
        },
        "outputId": "9490fffa-489c-483b-f5b8-32fa63a392b3"
      },
      "source": [
        "# takes the user input\n",
        "\n",
        "#text_input = np.array([input()])\n",
        "text_input = clean_text(input().lower())"
      ],
      "execution_count": null,
      "outputs": [
        {
          "output_type": "stream",
          "text": [
            "Oh's third victim was hawker stall owner Ng Phek Huay, whom he stole from on Sept 9, 2019.  While Madam Ng, 71, was waiting for her turn to see the doctor at Queenstown Polyclinic, he stole money from her handbag.  He then offered her zopiclone and convinced her that she had to take it before her medical check-up.  Thinking that Oh was one of the polyclinic staff, Madam Ng took the drug and became drowsy.  He then took from her a gold-coloured bracelet which she was wearing and took her out of the polyclinic.  Oh then got a taxi to take Madam Ng to NUH, as she was losing consciousness.  On Friday, District Judge Gwee backdated Oh's sentence to Sept 12 last year, when he was first remanded.\n"
          ],
          "name": "stdout"
        }
      ]
    },
    {
      "cell_type": "code",
      "metadata": {
        "colab_type": "code",
        "id": "uMA3kSyI5XCH",
        "colab": {
          "base_uri": "https://localhost:8080/",
          "height": 88
        },
        "outputId": "2c83d24b-6556-47c5-a2cf-8c86a4daf763"
      },
      "source": [
        "# one-hot encode the user input\n",
        "# Enter your code here:\n",
        "new_window_size = 10\n",
        "\n",
        "X, y = encode_io_pairs(text_input, new_window_size)"
      ],
      "execution_count": null,
      "outputs": [
        {
          "output_type": "stream",
          "text": [
            "Num of Sequences:  679\n",
            "[\"oh's third\", \"h's third \", \"'s third v\", 's third vi', ' third vic', 'third vict', 'hird victi', 'ird victim', 'rd victim ', 'd victim w', ' victim wa', 'victim was', 'ictim was ', 'ctim was h', 'tim was ha', 'im was haw', 'm was hawk', ' was hawke', 'was hawker', 'as hawker ', 's hawker s', ' hawker st', 'hawker sta', 'awker stal', 'wker stall', 'ker stall ', 'er stall o', 'r stall ow', ' stall own', 'stall owne', 'tall owner', 'all owner ', 'll owner n', 'l owner ng', ' owner ng ', 'owner ng p', 'wner ng ph', 'ner ng phe', 'er ng phek', 'r ng phek ', ' ng phek h', 'ng phek hu', 'g phek hua', ' phek huay', 'phek huay,', 'hek huay, ', 'ek huay, w', 'k huay, wh', ' huay, who', 'huay, whom', 'uay, whom ', 'ay, whom h', 'y, whom he', ', whom he ', ' whom he s', 'whom he st', 'hom he sto', 'om he stol', 'm he stole', ' he stole ', 'he stole f', 'e stole fr', ' stole fro', 'stole from', 'tole from ', 'ole from o', 'le from on', 'e from on ', ' from on s', 'from on se', 'rom on sep', 'om on sept', 'm on sept ', ' on sept ,', 'on sept , ', 'n sept , .', ' sept , . ', 'sept , .  ', 'ept , .  w', 'pt , .  wh', 't , .  whi', ' , .  whil', ', .  while', ' .  while ', '.  while m', '  while ma', ' while mad', 'while mada', 'hile madam', 'ile madam ', 'le madam n', 'e madam ng', ' madam ng,', 'madam ng, ', 'adam ng, ,', 'dam ng, , ', 'am ng, , w', 'm ng, , wa', ' ng, , was', 'ng, , was ', 'g, , was w', ', , was wa', ' , was wai', ', was wait', ' was waiti', 'was waitin', 'as waiting', 's waiting ', ' waiting f', 'waiting fo', 'aiting for', 'iting for ', 'ting for h', 'ing for he', 'ng for her', 'g for her ', ' for her t', 'for her tu', 'or her tur', 'r her turn', ' her turn ', 'her turn t', 'er turn to', 'r turn to ', ' turn to s', 'turn to se', 'urn to see', 'rn to see ', 'n to see t', ' to see th', 'to see the', 'o see the ', ' see the d', 'see the do', 'ee the doc', 'e the doct', ' the docto', 'the doctor', 'he doctor ', 'e doctor a', ' doctor at', 'doctor at ', 'octor at q', 'ctor at qu', 'tor at que', 'or at quee', 'r at queen', ' at queens', 'at queenst', 't queensto', ' queenstow', 'queenstown', 'ueenstown ', 'eenstown p', 'enstown po', 'nstown pol', 'stown poly', 'town polyc', 'own polycl', 'wn polycli', 'n polyclin', ' polyclini', 'polyclinic', 'olyclinic,', 'lyclinic, ', 'yclinic, h', 'clinic, he', 'linic, he ', 'inic, he s', 'nic, he st', 'ic, he sto', 'c, he stol', ', he stole', ' he stole ', 'he stole m', 'e stole mo', ' stole mon', 'stole mone', 'tole money', 'ole money ', 'le money f', 'e money fr', ' money fro', 'money from', 'oney from ', 'ney from h', 'ey from he', 'y from her', ' from her ', 'from her h', 'rom her ha', 'om her han', 'm her hand', ' her handb', 'her handba', 'er handbag', 'r handbag.', ' handbag. ', 'handbag.  ', 'andbag.  h', 'ndbag.  he', 'dbag.  he ', 'bag.  he t', 'ag.  he th', 'g.  he the', '.  he then', '  he then ', ' he then o', 'he then of', 'e then off', ' then offe', 'then offer', 'hen offere', 'en offered', 'n offered ', ' offered h', 'offered he', 'ffered her', 'fered her ', 'ered her z', 'red her zo', 'ed her zop', 'd her zopi', ' her zopic', 'her zopicl', 'er zopiclo', 'r zopiclon', ' zopiclone', 'zopiclone ', 'opiclone a', 'piclone an', 'iclone and', 'clone and ', 'lone and c', 'one and co', 'ne and con', 'e and conv', ' and convi', 'and convin', 'nd convinc', 'd convince', ' convinced', 'convinced ', 'onvinced h', 'nvinced he', 'vinced her', 'inced her ', 'nced her t', 'ced her th', 'ed her tha', 'd her that', ' her that ', 'her that s', 'er that sh', 'r that she', ' that she ', 'that she h', 'hat she ha', 'at she had', 't she had ', ' she had t', 'she had to', 'he had to ', 'e had to t', ' had to ta', 'had to tak', 'ad to take', 'd to take ', ' to take i', 'to take it', 'o take it ', ' take it b', 'take it be', 'ake it bef', 'ke it befo', 'e it befor', ' it before', 'it before ', 't before h', ' before he', 'before her', 'efore her ', 'fore her m', 'ore her me', 're her med', 'e her medi', ' her medic', 'her medica', 'er medical', 'r medical ', ' medical c', 'medical ch', 'edical che', 'dical chec', 'ical check', 'cal check-', 'al check-u', 'l check-up', ' check-up.', 'check-up. ', 'heck-up.  ', 'eck-up.  t', 'ck-up.  th', 'k-up.  thi', '-up.  thin', 'up.  think', 'p.  thinki', '.  thinkin', '  thinking', ' thinking ', 'thinking t', 'hinking th', 'inking tha', 'nking that', 'king that ', 'ing that o', 'ng that oh', 'g that oh ', ' that oh w', 'that oh wa', 'hat oh was', 'at oh was ', 't oh was o', ' oh was on', 'oh was one', 'h was one ', ' was one o', 'was one of', 'as one of ', 's one of t', ' one of th', 'one of the', 'ne of the ', 'e of the p', ' of the po', 'of the pol', 'f the poly', ' the polyc', 'the polycl', 'he polycli', 'e polyclin', ' polyclini', 'polyclinic', 'olyclinic ', 'lyclinic s', 'yclinic st', 'clinic sta', 'linic staf', 'inic staff', 'nic staff,', 'ic staff, ', 'c staff, m', ' staff, ma', 'staff, mad', 'taff, mada', 'aff, madam', 'ff, madam ', 'f, madam n', ', madam ng', ' madam ng ', 'madam ng t', 'adam ng to', 'dam ng too', 'am ng took', 'm ng took ', ' ng took t', 'ng took th', 'g took the', ' took the ', 'took the d', 'ook the dr', 'ok the dru', 'k the drug', ' the drug ', 'the drug a', 'he drug an', 'e drug and', ' drug and ', 'drug and b', 'rug and be', 'ug and bec', 'g and beca', ' and becam', 'and became', 'nd became ', 'd became d', ' became dr', 'became dro', 'ecame drow', 'came drows', 'ame drowsy', 'me drowsy.', 'e drowsy. ', ' drowsy.  ', 'drowsy.  h', 'rowsy.  he', 'owsy.  he ', 'wsy.  he t', 'sy.  he th', 'y.  he the', '.  he then', '  he then ', ' he then t', 'he then to', 'e then too', ' then took', 'then took ', 'hen took f', 'en took fr', 'n took fro', ' took from', 'took from ', 'ook from h', 'ok from he', 'k from her', ' from her ', 'from her a', 'rom her a ', 'om her a g', 'm her a go', ' her a gol', 'her a gold', 'er a gold-', 'r a gold-c', ' a gold-co', 'a gold-col', ' gold-colo', 'gold-colou', 'old-colour', 'ld-coloure', 'd-coloured', '-coloured ', 'coloured b', 'oloured br', 'loured bra', 'oured brac', 'ured brace', 'red bracel', 'ed bracele', 'd bracelet', ' bracelet ', 'bracelet w', 'racelet wh', 'acelet whi', 'celet whic', 'elet which', 'let which ', 'et which s', 't which sh', ' which she', 'which she ', 'hich she w', 'ich she wa', 'ch she was', 'h she was ', ' she was w', 'she was we', 'he was wea', 'e was wear', ' was weari', 'was wearin', 'as wearing', 's wearing ', ' wearing a', 'wearing an', 'earing and', 'aring and ', 'ring and t', 'ing and to', 'ng and too', 'g and took', ' and took ', 'and took h', 'nd took he', 'd took her', ' took her ', 'took her o', 'ook her ou', 'ok her out', 'k her out ', ' her out o', 'her out of', 'er out of ', 'r out of t', ' out of th', 'out of the', 'ut of the ', 't of the p', ' of the po', 'of the pol', 'f the poly', ' the polyc', 'the polycl', 'he polycli', 'e polyclin', ' polyclini', 'polyclinic', 'olyclinic.', 'lyclinic. ', 'yclinic.  ', 'clinic.  o', 'linic.  oh', 'inic.  oh ', 'nic.  oh t', 'ic.  oh th', 'c.  oh the', '.  oh then', '  oh then ', ' oh then g', 'oh then go', 'h then got', ' then got ', 'then got a', 'hen got a ', 'en got a t', 'n got a ta', ' got a tax', 'got a taxi', 'ot a taxi ', 't a taxi t', ' a taxi to', 'a taxi to ', ' taxi to t', 'taxi to ta', 'axi to tak', 'xi to take', 'i to take ', ' to take m', 'to take ma', 'o take mad', ' take mada', 'take madam', 'ake madam ', 'ke madam n', 'e madam ng', ' madam ng ', 'madam ng t', 'adam ng to', 'dam ng to ', 'am ng to n', 'm ng to nu', ' ng to nuh', 'ng to nuh,', 'g to nuh, ', ' to nuh, a', 'to nuh, as', 'o nuh, as ', ' nuh, as s', 'nuh, as sh', 'uh, as she', 'h, as she ', ', as she w', ' as she wa', 'as she was', 's she was ', ' she was l', 'she was lo', 'he was los', 'e was losi', ' was losin', 'was losing', 'as losing ', 's losing c', ' losing co', 'losing con', 'osing cons', 'sing consc', 'ing consci', 'ng conscio', 'g consciou', ' conscious', 'consciousn', 'onsciousne', 'nsciousnes', 'sciousness', 'ciousness.', 'iousness. ', 'ousness.  ', 'usness.  o', 'sness.  on', 'ness.  on ', 'ess.  on f', 'ss.  on fr', 's.  on fri', '.  on frid', '  on frida', ' on friday', 'on friday,', 'n friday, ', ' friday, d', 'friday, di', 'riday, dis', 'iday, dist', 'day, distr', 'ay, distri', 'y, distric', ', district', ' district ', 'district j', 'istrict ju', 'strict jud', 'trict judg', 'rict judge', 'ict judge ', 'ct judge g', 't judge gw', ' judge gwe', 'judge gwee', 'udge gwee ', 'dge gwee b', 'ge gwee ba', 'e gwee bac', ' gwee back', 'gwee backd', 'wee backda', 'ee backdat', 'e backdate', ' backdated', 'backdated ', 'ackdated o', 'ckdated oh', \"kdated oh'\", \"dated oh's\", \"ated oh's \", \"ted oh's s\", \"ed oh's se\", \"d oh's sen\", \" oh's sent\", \"oh's sente\", \"h's senten\", \"'s sentenc\", 's sentence', ' sentence ', 'sentence t', 'entence to', 'ntence to ', 'tence to s', 'ence to se', 'nce to sep', 'ce to sept', 'e to sept ', ' to sept  ', 'to sept  l', 'o sept  la', ' sept  las', 'sept  last', 'ept  last ', 'pt  last y', 't  last ye', '  last yea', ' last year', 'last year,', 'ast year, ', 'st year, w', 't year, wh', ' year, whe', 'year, when', 'ear, when ', 'ar, when h', 'r, when he', ', when he ', ' when he w', 'when he wa', 'hen he was', 'en he was ', 'n he was f', ' he was fi', 'he was fir', 'e was firs', ' was first', 'was first ', 'as first r', 's first re', ' first rem', 'first rema', 'irst reman', 'rst remand', 'st remande', 't remanded']\n",
            "Vectorization...\n"
          ],
          "name": "stdout"
        }
      ]
    },
    {
      "cell_type": "code",
      "metadata": {
        "colab_type": "code",
        "id": "-nLcyeIo5XCI",
        "colab": {
          "base_uri": "https://localhost:8080/",
          "height": 343
        },
        "outputId": "a520adc1-0511-43fe-99ef-ffcd719246a2"
      },
      "source": [
        "# show the model output using predict function\n",
        "# Enter your code here:\n",
        "import random\n",
        "import sys\n",
        "import numpy as np\n",
        "\n",
        "def sample(preds, temperature=0.2):\n",
        "    preds = np.asarray(preds).astype('float64')\n",
        "    preds = np.log(preds) / temperature\n",
        "    exp_preds = np.exp(preds)\n",
        "    preds = exp_preds / np.sum(exp_preds)\n",
        "    probas = np.random.multinomial(1, preds, 1)\n",
        "    return np.argmax(probas)\n",
        "  \n",
        "#sequences = tokenizer.texts_to_sequences(text_input)\n",
        "#data = pad_sequences(sequences, maxlen=max_len)\n",
        "\n",
        "print(\"Temperature: \", temperature)\n",
        "for epoch in range(1, 5):\n",
        "    print('epoch', epoch)\n",
        "    # Fit the model for 1 epoch on the available training data\n",
        "    model.fit(X, y,\n",
        "              batch_size=128,\n",
        "              epochs=1)\n",
        "\n",
        "    # Select a text seed at random\n",
        "    start_index = random.randint(0, len(text_input) - window_size - 1)\n",
        "    generated_text = text_input[start_index: start_index + window_size]\n",
        "    print('--- Generating with seed: \"' + generated_text + '\"')\n",
        "\n",
        "    #for temperature in [0.2, 0.5, 1.0, 1.2]:\n",
        "        #print('------ temperature:', temperature)\n",
        "    sys.stdout.write(generated_text)\n",
        "\n",
        "    # We generate 100 characters\n",
        "    for i in range(100):\n",
        "        sampled = np.zeros((1, window_size, len(chars)))\n",
        "        for t, char in enumerate(generated_text):\n",
        "            sampled[0, t, chars_to_indices[char]] = 1.\n",
        "\n",
        "        preds = model.predict(sampled, verbose=0)[0]\n",
        "        next_index = sample(preds, temperature)\n",
        "        next_char = chars[next_index]\n",
        "\n",
        "        generated_text += next_char\n",
        "        generated_text = generated_text[1:]\n",
        "\n",
        "        sys.stdout.write(next_char)\n",
        "        sys.stdout.flush()\n",
        "    print()\n"
      ],
      "execution_count": null,
      "outputs": [
        {
          "output_type": "stream",
          "text": [
            "Temperature:  1.2\n",
            "epoch 1\n",
            "WARNING:tensorflow:Model was constructed with shape (None, 100, 35) for input Tensor(\"lstm_1_input_9:0\", shape=(None, 100, 35), dtype=float32), but it was called on an input with incompatible shape (None, 10, 35).\n",
            "6/6 [==============================] - 0s 6ms/step - loss: 1.9631 - acc: 0.4610\n",
            "--- Generating with seed: \"hat she had to take it before her medical check-up.  thinking that oh was one of the polyclinic staf\"\n",
            "hat she had to take it before her medical check-up.  thinking that oh was one of the polyclinic stafss woman to lefoutligicy, foundnessly. the name, funce. thenit is loss you.indeocy. yet his bedroom.\n",
            "epoch 2\n",
            "6/6 [==============================] - 0s 7ms/step - loss: 1.5886 - acc: 0.5376\n",
            "--- Generating with seed: \" , was waiting for her turn to see the doctor at queenstown polyclinic, he stole money from her hand\"\n",
            " , was waiting for her turn to see the doctor at queenstown polyclinic, he stole money from her hand. youdod once kneechpart to turn thisfus injusplyand talk, glated lauring me whise halfler's last of\n",
            "epoch 3\n",
            "6/6 [==============================] - 0s 6ms/step - loss: 1.3613 - acc: 0.6053\n",
            "--- Generating with seed: \"e it before her medical check-up.  thinking that oh was one of the polyclinic staff, madam ng took t\"\n",
            "e it before her medical check-up.  thinking that oh was one of the polyclinic staff, madam ng took through but shature that slowly man-rooler and suppose, said he.'you par that ifat the the centre nar\n",
            "epoch 4\n",
            "6/6 [==============================] - 0s 6ms/step - loss: 1.1870 - acc: 0.6451\n",
            "--- Generating with seed: \" wearing and took her out of the polyclinic.  oh then got a taxi to take madam ng to nuh, as she was\"\n",
            " wearing and took her out of the polyclinic.  oh then got a taxi to take madam ng to nuh, as she was thingono dis crackly. you , hek was seee her month madam naonxettation,  jumen kapytwayxuredfrom un\n"
          ],
          "name": "stdout"
        }
      ]
    },
    {
      "cell_type": "code",
      "metadata": {
        "colab_type": "code",
        "id": "JoBc7bGQ5XCK",
        "colab": {
          "base_uri": "https://localhost:8080/",
          "height": 119
        },
        "outputId": "955a65d8-8aa7-4331-be10-65945763c656"
      },
      "source": [
        "model.fit(X, y, batch_size=128, epochs=1)\n",
        "\n",
        "text_input = input(\"Enter sentence to predict next character: \\n\")\n",
        "temperature = 0.2\n",
        "print('------ temperature:', temperature)\n",
        "print(\"Prediction: \")\n",
        "sys.stdout.write(text_input)\n",
        "\n",
        "\n",
        "sampled = np.zeros((1, len(text_input), len(chars)))\n",
        "for t, char in enumerate(text_input):\n",
        "    sampled[0, t, chars_to_indices[char]] = 1.\n",
        "\n",
        "preds = model.predict(sampled, verbose=0)[0]\n",
        "next_index = sample(preds, temperature)\n",
        "next_char = chars[next_index]\n",
        "\n",
        "text_input += next_char\n",
        "text_input = text_input[1:]\n",
        "\n",
        "\n",
        "sys.stdout.write(next_char)\n",
        "sys.stdout.flush()\n",
        "print()"
      ],
      "execution_count": null,
      "outputs": [
        {
          "output_type": "stream",
          "text": [
            "6/6 [==============================] - 0s 6ms/step - loss: 0.9041 - acc: 0.7452\n",
            "Enter sentence to predict next character: \n",
            "dogs are grea\n",
            "------ temperature: 0.2\n",
            "Prediction: \n",
            "dogs are great\n"
          ],
          "name": "stdout"
        }
      ]
    }
  ]
}